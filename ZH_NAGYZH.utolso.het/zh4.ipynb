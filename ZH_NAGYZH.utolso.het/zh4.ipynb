{
    "metadata": {
        "kernelspec": {
            "name": "SQL",
            "display_name": "SQL",
            "language": "sql"
        },
        "language_info": {
            "name": "sql",
            "version": ""
        }
    },
    "nbformat_minor": 2,
    "nbformat": 4,
    "cells": [
        {
            "cell_type": "code",
            "source": [
                "--1\r\n",
                "select v.USERNEV,v.NEV,v.EMAIL\r\n",
                "from Vendeg v join Foglalas f on v.USERNEV=f.UGYFEL_FK\r\n",
                "group by v.USERNEV,v.NEV,v.EMAIL\r\n",
                "HAVING COUNT(f.FOGLALAS_PK) > 1"
            ],
            "metadata": {
                "azdata_cell_guid": "c4f49829-e5c6-4c95-9b8a-c596b5c1b7ef",
                "language": "sql"
            },
            "outputs": [
                {
                    "output_type": "display_data",
                    "data": {
                        "text/html": "(187 rows affected)"
                    },
                    "metadata": {}
                },
                {
                    "output_type": "display_data",
                    "data": {
                        "text/html": "Total execution time: 00:00:00.015"
                    },
                    "metadata": {}
                },
                {
                    "output_type": "execute_result",
                    "metadata": {},
                    "execution_count": 3,
                    "data": {
                        "application/vnd.dataresource+json": {
                            "schema": {
                                "fields": [
                                    {
                                        "name": "USERNEV"
                                    },
                                    {
                                        "name": "NEV"
                                    },
                                    {
                                        "name": "EMAIL"
                                    }
                                ]
                            },
                            "data": [
                                {
                                    "USERNEV": "adam1",
                                    "NEV": "Kiss Ádám",
                                    "EMAIL": "ádám.kiss@mail.hu"
                                },
                                {
                                    "USERNEV": "adam3",
                                    "NEV": "Barkóci Ádám",
                                    "EMAIL": "adam3@gmail.com"
                                },
                                {
                                    "USERNEV": "adam4",
                                    "NEV": "Bieniek Ádám",
                                    "EMAIL": "ádám.bieniek@mail.hu"
                                },
                                {
                                    "USERNEV": "agnes",
                                    "NEV": "Lengyel Ágnes",
                                    "EMAIL": "agnes@gmail.com"
                                },
                                {
                                    "USERNEV": "agnes3",
                                    "NEV": "Hartyánszky Ágnes",
                                    "EMAIL": "agnes3@gmail.com"
                                },
                                {
                                    "USERNEV": "AGNESH",
                                    "NEV": "Horváth Ágnes",
                                    "EMAIL": "AGNESH@gmail.com"
                                },
                                {
                                    "USERNEV": "AGNESK",
                                    "NEV": "Kovács Ágnes",
                                    "EMAIL": "AGNESK@gmail.com"
                                },
                                {
                                    "USERNEV": "akos",
                                    "NEV": "Bíró Ákos",
                                    "EMAIL": "ákos.bíró@mail.hu"
                                },
                                {
                                    "USERNEV": "aladar",
                                    "NEV": "Dunai Aladár",
                                    "EMAIL": "aladár.dunai@mail.hu"
                                },
                                {
                                    "USERNEV": "alexandra",
                                    "NEV": "Bagóczki Alexandra",
                                    "EMAIL": "alexandra.bagóczki@mail.hu"
                                },
                                {
                                    "USERNEV": "andi",
                                    "NEV": "Maródi Andrea",
                                    "EMAIL": "andrea.maródi@mail.hu"
                                },
                                {
                                    "USERNEV": "andras2",
                                    "NEV": "Tóth András",
                                    "EMAIL": "andrás.tóth@mail.hu"
                                },
                                {
                                    "USERNEV": "andras21",
                                    "NEV": "Molnár András",
                                    "EMAIL": "andrás.molnár@mail.hu"
                                },
                                {
                                    "USERNEV": "andras3",
                                    "NEV": "Vígh András",
                                    "EMAIL": "andrás.vígh@mail.hu"
                                },
                                {
                                    "USERNEV": "andras4",
                                    "NEV": "Back András",
                                    "EMAIL": "andras4@gmail.com"
                                },
                                {
                                    "USERNEV": "andras41",
                                    "NEV": "Komjáti András",
                                    "EMAIL": "andras41@gmail.com"
                                },
                                {
                                    "USERNEV": "ANDRASE",
                                    "NEV": "Erdei András",
                                    "EMAIL": "ANDRASE@gmail.com"
                                },
                                {
                                    "USERNEV": "andrea",
                                    "NEV": "Kiss Andrea",
                                    "EMAIL": "andrea.kiss@mail.hu"
                                },
                                {
                                    "USERNEV": "andrea4",
                                    "NEV": "Neizer Andrea",
                                    "EMAIL": "andrea4@gmail.com"
                                },
                                {
                                    "USERNEV": "ANDREAT",
                                    "NEV": "Tornyos Andrea",
                                    "EMAIL": "ANDREAT@gmail.com"
                                },
                                {
                                    "USERNEV": "anett3",
                                    "NEV": "Pivarcsi Anett",
                                    "EMAIL": "anett.pivarcsi@mail.hu"
                                },
                                {
                                    "USERNEV": "aniko",
                                    "NEV": "Tóth Anikó",
                                    "EMAIL": "aniko@gmail.com"
                                },
                                {
                                    "USERNEV": "aniko4",
                                    "NEV": "Böröcz Anikó",
                                    "EMAIL": "aniko4@gmail.com"
                                },
                                {
                                    "USERNEV": "ANIKOS",
                                    "NEV": "Simon Anikó",
                                    "EMAIL": "ANIKOS@gmail.com"
                                },
                                {
                                    "USERNEV": "anita",
                                    "NEV": "Hamvay-Kovács Anita",
                                    "EMAIL": "anita.hamvay-kovács@mail.hu"
                                },
                                {
                                    "USERNEV": "annamaria1",
                                    "NEV": "Szűcs Annamária",
                                    "EMAIL": "annamária.szűcs@mail.hu"
                                },
                                {
                                    "USERNEV": "ANNAMARIAR",
                                    "NEV": "Regős Annamária",
                                    "EMAIL": "ANNAMARIAR@gmail.com"
                                },
                                {
                                    "USERNEV": "aron2",
                                    "NEV": "Jakab Áron",
                                    "EMAIL": "aron2@gmail.com"
                                },
                                {
                                    "USERNEV": "ARONK",
                                    "NEV": "Kelemen Áron",
                                    "EMAIL": "áron.kelemen@mail.hu"
                                },
                                {
                                    "USERNEV": "arpad2",
                                    "NEV": "Ötvös Árpád",
                                    "EMAIL": "árpád.ötvös@mail.hu"
                                },
                                {
                                    "USERNEV": "ARPADH",
                                    "NEV": "Horváth Árpád",
                                    "EMAIL": "árpád.horváth@mail.hu"
                                },
                                {
                                    "USERNEV": "ARPADM",
                                    "NEV": "Móricz Árpád",
                                    "EMAIL": "árpád.móricz@mail.hu"
                                },
                                {
                                    "USERNEV": "attila",
                                    "NEV": "Csóti Attila",
                                    "EMAIL": "attila@gmail.com"
                                },
                                {
                                    "USERNEV": "attila1",
                                    "NEV": "Gulyás Attila",
                                    "EMAIL": "attila.gulyás@mail.hu"
                                },
                                {
                                    "USERNEV": "attila4",
                                    "NEV": "Baróti Attila",
                                    "EMAIL": "attila.baróti@mail.hu"
                                },
                                {
                                    "USERNEV": "ATTILAO",
                                    "NEV": "Opra Attila",
                                    "EMAIL": "ATTILAO@gmail.com"
                                },
                                {
                                    "USERNEV": "balazs1",
                                    "NEV": "Bozsik Balázs",
                                    "EMAIL": "balázs.bozsik@mail.hu"
                                },
                                {
                                    "USERNEV": "balazs2",
                                    "NEV": "Szűcs Balázs",
                                    "EMAIL": "balázs.szűcs@mail.hu"
                                },
                                {
                                    "USERNEV": "balazs3",
                                    "NEV": "Bakódy Balázs",
                                    "EMAIL": "balazs3@gmail.com"
                                },
                                {
                                    "USERNEV": "balint",
                                    "NEV": "Horváth Bálint",
                                    "EMAIL": "balint@gmail.com"
                                },
                                {
                                    "USERNEV": "balint1",
                                    "NEV": "Molnár Bálint",
                                    "EMAIL": "balint1@gmail.com"
                                },
                                {
                                    "USERNEV": "balint2",
                                    "NEV": "Vukasinovity Bálint",
                                    "EMAIL": "balint2@gmail.com"
                                },
                                {
                                    "USERNEV": "balu",
                                    "NEV": "Endresz Bálint",
                                    "EMAIL": "bálint.endresz@mail.hu"
                                },
                                {
                                    "USERNEV": "beata4",
                                    "NEV": "Bagi Beáta",
                                    "EMAIL": "beáta.bagi@mail.hu"
                                },
                                {
                                    "USERNEV": "BEATRIXK",
                                    "NEV": "Kerényi Beatrix",
                                    "EMAIL": "beatrix.kerényi@mail.hu"
                                },
                                {
                                    "USERNEV": "BEATRIXS",
                                    "NEV": "Szekendi Beatrix",
                                    "EMAIL": "beatrix.szekendi@mail.hu"
                                },
                                {
                                    "USERNEV": "BELAF",
                                    "NEV": "Farkas Béla",
                                    "EMAIL": "BELAF@gmail.com"
                                },
                                {
                                    "USERNEV": "bence",
                                    "NEV": "Győrffy Bence",
                                    "EMAIL": "bence@gmail.com"
                                },
                                {
                                    "USERNEV": "BENCEB",
                                    "NEV": "Bajusz Bence",
                                    "EMAIL": "bence.bajusz@mail.hu"
                                },
                                {
                                    "USERNEV": "bernadett1",
                                    "NEV": "Simon Bernadett",
                                    "EMAIL": "bernadett1@gmail.com"
                                },
                                {
                                    "USERNEV": "bernadett2",
                                    "NEV": "Kovács Bernadett",
                                    "EMAIL": "bernadett.kovács@mail.hu"
                                },
                                {
                                    "USERNEV": "BERNADETTO",
                                    "NEV": "Orbán Bernadett",
                                    "EMAIL": "bernadett.orbán@mail.hu"
                                },
                                {
                                    "USERNEV": "bertalan",
                                    "NEV": "Csiger Bertalan",
                                    "EMAIL": "bertalan@gmail.com"
                                },
                                {
                                    "USERNEV": "brigitta",
                                    "NEV": "Székely Brigitta",
                                    "EMAIL": "brigitta.székely@mail.hu"
                                },
                                {
                                    "USERNEV": "brigitta3",
                                    "NEV": "Pataki Brigitta",
                                    "EMAIL": "brigitta.pataki@mail.hu"
                                },
                                {
                                    "USERNEV": "csongor3",
                                    "NEV": "Nagymihály Csongor",
                                    "EMAIL": "csongor.nagymihály@mail.hu"
                                },
                                {
                                    "USERNEV": "dani",
                                    "NEV": "Vörös Dániel",
                                    "EMAIL": "daniel@gmail.com"
                                },
                                {
                                    "USERNEV": "daniel",
                                    "NEV": "Rácz Dániel",
                                    "EMAIL": "dániel.rácz@mail.hu"
                                },
                                {
                                    "USERNEV": "daniel1",
                                    "NEV": "Keszler Dániel",
                                    "EMAIL": "dániel.keszler@mail.hu"
                                },
                                {
                                    "USERNEV": "david",
                                    "NEV": "Ambrus Dávid",
                                    "EMAIL": "david@gmail.com"
                                },
                                {
                                    "USERNEV": "david1",
                                    "NEV": "Sobják Dávid",
                                    "EMAIL": "david1@gmail.com"
                                },
                                {
                                    "USERNEV": "debora",
                                    "NEV": "Barna Debóra",
                                    "EMAIL": "debóra.barna@mail.hu"
                                },
                                {
                                    "USERNEV": "denes",
                                    "NEV": "Tömböly Dénes",
                                    "EMAIL": "denes@gmail.com"
                                },
                                {
                                    "USERNEV": "dora3",
                                    "NEV": "Sarodi Dóra",
                                    "EMAIL": "dóra.sarodi@mail.hu"
                                },
                                {
                                    "USERNEV": "edit",
                                    "NEV": "Bittmann Edit",
                                    "EMAIL": "edit.bittmann@mail.hu"
                                },
                                {
                                    "USERNEV": "emese",
                                    "NEV": "Kuruc Emese",
                                    "EMAIL": "emese.kuruc@mail.hu"
                                },
                                {
                                    "USERNEV": "eszter",
                                    "NEV": "Molnár Eszter",
                                    "EMAIL": "eszter.molnár@mail.hu"
                                },
                                {
                                    "USERNEV": "eszter2",
                                    "NEV": "Balogh Eszter",
                                    "EMAIL": "eszter.balogh@mail.hu"
                                },
                                {
                                    "USERNEV": "eszter4",
                                    "NEV": "Fülöp Eszter",
                                    "EMAIL": "eszter.fülöp@mail.hu"
                                },
                                {
                                    "USERNEV": "ESZTERE",
                                    "NEV": "Érsek Eszter",
                                    "EMAIL": "eszter.érsek@mail.hu"
                                },
                                {
                                    "USERNEV": "eva",
                                    "NEV": "Enyedi Éva",
                                    "EMAIL": "eva@gmail.com"
                                },
                                {
                                    "USERNEV": "eva2",
                                    "NEV": "Perlinger Éva",
                                    "EMAIL": "eva2@gmail.com"
                                },
                                {
                                    "USERNEV": "EVAV",
                                    "NEV": "Viktor Éva",
                                    "EMAIL": "EVAV@gmail.com"
                                },
                                {
                                    "USERNEV": "ferenc1",
                                    "NEV": "Orosz Ferenc",
                                    "EMAIL": "ferenc.orosz@mail.hu"
                                },
                                {
                                    "USERNEV": "fruzsina4",
                                    "NEV": "Frank Fruzsina",
                                    "EMAIL": "fruzsina4@gmail.com"
                                },
                                {
                                    "USERNEV": "gabor1",
                                    "NEV": "Köves Gábor",
                                    "EMAIL": "gabor1@gmail.com"
                                },
                                {
                                    "USERNEV": "gabor4",
                                    "NEV": "Telek Gábor",
                                    "EMAIL": "gábor.telek@mail.hu"
                                },
                                {
                                    "USERNEV": "gabriella1",
                                    "NEV": "Nagy Gabriella",
                                    "EMAIL": "gabriella1@gmail.com"
                                },
                                {
                                    "USERNEV": "georgij",
                                    "NEV": "Nyíri Georgij",
                                    "EMAIL": "georgij.nyíri@mail.hu"
                                },
                                {
                                    "USERNEV": "gusztav",
                                    "NEV": "Bárci Gusztáv",
                                    "EMAIL": "gusztav@gmail.com"
                                },
                                {
                                    "USERNEV": "GYONGYIK",
                                    "NEV": "Kornseé Gyöngyi",
                                    "EMAIL": "gyöngyi.kornseé@mail.hu"
                                },
                                {
                                    "USERNEV": "GYORGYO",
                                    "NEV": "Oroszi György",
                                    "EMAIL": "GYORGYO@gmail.com"
                                },
                                {
                                    "USERNEV": "henrik3",
                                    "NEV": "Nádudvari Henrik",
                                    "EMAIL": "henrik.nádudvari@mail.hu"
                                },
                                {
                                    "USERNEV": "IBOLYAA",
                                    "NEV": "Andor Ibolya",
                                    "EMAIL": "ibolya.andor@mail.hu"
                                },
                                {
                                    "USERNEV": "ilona3",
                                    "NEV": "Bosnyák Ilona",
                                    "EMAIL": "ilona3@gmail.com"
                                },
                                {
                                    "USERNEV": "imre",
                                    "NEV": "Búza Imre",
                                    "EMAIL": "imre.búza@mail.hu"
                                },
                                {
                                    "USERNEV": "imre1",
                                    "NEV": "Papp Imre",
                                    "EMAIL": "imre.papp@mail.hu"
                                },
                                {
                                    "USERNEV": "istvan",
                                    "NEV": "Soós István",
                                    "EMAIL": "istvan@gmail.com"
                                },
                                {
                                    "USERNEV": "istvan1",
                                    "NEV": "Vizi István",
                                    "EMAIL": "istván.vizi@mail.hu"
                                },
                                {
                                    "USERNEV": "ISTVANV",
                                    "NEV": "Varga István",
                                    "EMAIL": "ISTVANV@gmail.com"
                                },
                                {
                                    "USERNEV": "janos3",
                                    "NEV": "Harangozó János",
                                    "EMAIL": "janos3@gmail.com"
                                },
                                {
                                    "USERNEV": "JANOSG",
                                    "NEV": "Giliga János",
                                    "EMAIL": "JANOSG@gmail.com"
                                },
                                {
                                    "USERNEV": "JANOSP",
                                    "NEV": "Pálinkás János",
                                    "EMAIL": "JANOSP@gmail.com"
                                },
                                {
                                    "USERNEV": "jozsef",
                                    "NEV": "Gergely József",
                                    "EMAIL": "jozsef@gmail.com"
                                },
                                {
                                    "USERNEV": "jozsef2",
                                    "NEV": "Vajda József",
                                    "EMAIL": "józsef.vajda@mail.hu"
                                },
                                {
                                    "USERNEV": "JOZSEFG",
                                    "NEV": "Gyuris József",
                                    "EMAIL": "józsef.gyuris@mail.hu"
                                },
                                {
                                    "USERNEV": "JUDITH",
                                    "NEV": "Hídasi Judit",
                                    "EMAIL": "JUDITH@gmail.com"
                                },
                                {
                                    "USERNEV": "julia",
                                    "NEV": "Tóth Júlia",
                                    "EMAIL": "julia@gmail.com"
                                },
                                {
                                    "USERNEV": "julia4",
                                    "NEV": "Nagy Júlia",
                                    "EMAIL": "julia4@gmail.com"
                                },
                                {
                                    "USERNEV": "julianna4",
                                    "NEV": "Szabó Julianna",
                                    "EMAIL": "julianna4@gmail.com"
                                },
                                {
                                    "USERNEV": "kata",
                                    "NEV": "Gondos Katalin",
                                    "EMAIL": "katalin.gondos@mail.hu"
                                },
                                {
                                    "USERNEV": "katalin",
                                    "NEV": "Horváth Katalin",
                                    "EMAIL": "katalin.horváth@mail.hu"
                                },
                                {
                                    "USERNEV": "katalin4",
                                    "NEV": "Kertész Katalin",
                                    "EMAIL": "katalin4@gmail.com"
                                },
                                {
                                    "USERNEV": "kati",
                                    "NEV": "Zatykó Katalin",
                                    "EMAIL": "katalin.zatykó@mail.hu"
                                },
                                {
                                    "USERNEV": "katka",
                                    "NEV": "Kovács Katalin",
                                    "EMAIL": "katalin.kovács@mail.hu"
                                },
                                {
                                    "USERNEV": "klaudia2",
                                    "NEV": "Bakó Klaudia",
                                    "EMAIL": "klaudia.bakó@mail.hu"
                                },
                                {
                                    "USERNEV": "kornel4",
                                    "NEV": "Lukács Kornél",
                                    "EMAIL": "kornél.lukács@mail.hu"
                                },
                                {
                                    "USERNEV": "kristof4",
                                    "NEV": "Poprádi Kristóf",
                                    "EMAIL": "kristof4@gmail.com"
                                },
                                {
                                    "USERNEV": "kriszti",
                                    "NEV": "Horváth Krisztina",
                                    "EMAIL": "kriszti@gmail.com"
                                },
                                {
                                    "USERNEV": "krisztian4",
                                    "NEV": "Czérna Krisztián",
                                    "EMAIL": "krisztián.czérna@mail.hu"
                                },
                                {
                                    "USERNEV": "KRISZTIANM",
                                    "NEV": "Mogyródi Krisztián",
                                    "EMAIL": "KRISZTIANM@gmail.com"
                                },
                                {
                                    "USERNEV": "krisztina",
                                    "NEV": "Szedlár Krisztina",
                                    "EMAIL": "krisztina@gmail.com"
                                },
                                {
                                    "USERNEV": "krisztina1",
                                    "NEV": "Bori Krisztina",
                                    "EMAIL": "krisztina.bori@mail.hu"
                                },
                                {
                                    "USERNEV": "KRISZTINAG",
                                    "NEV": "Gyárfás Krisztina",
                                    "EMAIL": "KRISZTINAG@gmail.com"
                                },
                                {
                                    "USERNEV": "lajos",
                                    "NEV": "Kiss Lajos",
                                    "EMAIL": "lajos.kiss@mail.hu"
                                },
                                {
                                    "USERNEV": "lala",
                                    "NEV": "Nagymihály Lajos",
                                    "EMAIL": "lajos.nagymihály@mail.hu"
                                },
                                {
                                    "USERNEV": "laszlo2",
                                    "NEV": "Móra László",
                                    "EMAIL": "lászló.móra@mail.hu"
                                },
                                {
                                    "USERNEV": "LASZLOA",
                                    "NEV": "Antal László",
                                    "EMAIL": "lászló.antal@mail.hu"
                                },
                                {
                                    "USERNEV": "LASZLON",
                                    "NEV": "Nagy László",
                                    "EMAIL": "lászló.nagy@mail.hu"
                                },
                                {
                                    "USERNEV": "maria1",
                                    "NEV": "Baráth Mária",
                                    "EMAIL": "mária.baráth@mail.hu"
                                },
                                {
                                    "USERNEV": "mark",
                                    "NEV": "Kispál Márk",
                                    "EMAIL": "márk.kispál@mail.hu"
                                },
                                {
                                    "USERNEV": "MARKH",
                                    "NEV": "Horváth Márk",
                                    "EMAIL": "márk.horváth@mail.hu"
                                },
                                {
                                    "USERNEV": "marton",
                                    "NEV": "Kalacsi Márton",
                                    "EMAIL": "marton@gmail.com"
                                },
                                {
                                    "USERNEV": "MATEK",
                                    "NEV": "Koza Máté",
                                    "EMAIL": "máté.koza@mail.hu"
                                },
                                {
                                    "USERNEV": "matyas2",
                                    "NEV": "Botka Mátyás",
                                    "EMAIL": "matyas2@gmail.com"
                                },
                                {
                                    "USERNEV": "MATYASS",
                                    "NEV": "Szilágyi Mátyás",
                                    "EMAIL": "mátyás.szilágyi@mail.hu"
                                },
                                {
                                    "USERNEV": "MIHALYJ",
                                    "NEV": "Juhász Mihály",
                                    "EMAIL": "mihály.juhász@mail.hu"
                                },
                                {
                                    "USERNEV": "miklos2",
                                    "NEV": "Gondos Miklós",
                                    "EMAIL": "miklos2@gmail.com"
                                },
                                {
                                    "USERNEV": "MIKLOSB",
                                    "NEV": "Balla Miklós",
                                    "EMAIL": "miklós.balla@mail.hu"
                                },
                                {
                                    "USERNEV": "MONIKAM",
                                    "NEV": "Mohos Mónika",
                                    "EMAIL": "mónika.mohos@mail.hu"
                                },
                                {
                                    "USERNEV": "NANDORF",
                                    "NEV": "Fő Nándor",
                                    "EMAIL": "nándor.fő@mail.hu"
                                },
                                {
                                    "USERNEV": "nikolett3",
                                    "NEV": "Horváth Nikolett",
                                    "EMAIL": "nikolett3@gmail.com"
                                },
                                {
                                    "USERNEV": "nikoletta4",
                                    "NEV": "Kő Nikoletta",
                                    "EMAIL": "nikoletta4@gmail.com"
                                },
                                {
                                    "USERNEV": "NIKOLETTAT",
                                    "NEV": "Tatár Nikoletta",
                                    "EMAIL": "nikoletta.tatár@mail.hu"
                                },
                                {
                                    "USERNEV": "norbert",
                                    "NEV": "Szűcs Norbert",
                                    "EMAIL": "norbert@gmail.com"
                                },
                                {
                                    "USERNEV": "norbert2",
                                    "NEV": "Hegedűs Norbert",
                                    "EMAIL": "norbert.hegedűs@mail.hu"
                                },
                                {
                                    "USERNEV": "norbert4",
                                    "NEV": "Mile Norbert",
                                    "EMAIL": "norbert4@gmail.com"
                                },
                                {
                                    "USERNEV": "norbert5",
                                    "NEV": "Béres Norbert",
                                    "EMAIL": "norbert5@gmail.com"
                                },
                                {
                                    "USERNEV": "pal",
                                    "NEV": "Barabás Pál",
                                    "EMAIL": "pál.barabás@mail.hu"
                                },
                                {
                                    "USERNEV": "peter1",
                                    "NEV": "Kozma Péter",
                                    "EMAIL": "peter1@gmail.com"
                                },
                                {
                                    "USERNEV": "peter2",
                                    "NEV": "Bozsó Péter",
                                    "EMAIL": "peter2@gmail.com"
                                },
                                {
                                    "USERNEV": "peter3",
                                    "NEV": "Szalai Péter",
                                    "EMAIL": "peter3@gmail.com"
                                },
                                {
                                    "USERNEV": "peter4",
                                    "NEV": "Bíró Péter",
                                    "EMAIL": "péter.bíró@mail.hu"
                                },
                                {
                                    "USERNEV": "PETERB",
                                    "NEV": "Berendi Péter",
                                    "EMAIL": "péter.berendi@mail.hu"
                                },
                                {
                                    "USERNEV": "polla",
                                    "NEV": "Palágyi Polla",
                                    "EMAIL": "polla@gmail.com"
                                },
                                {
                                    "USERNEV": "rajmond4",
                                    "NEV": "Rácz Rajmond",
                                    "EMAIL": "rajmond.rácz@mail.hu"
                                },
                                {
                                    "USERNEV": "reka4",
                                    "NEV": "Szikszai Réka",
                                    "EMAIL": "réka.szikszai@mail.hu"
                                },
                                {
                                    "USERNEV": "RENATAK",
                                    "NEV": "Kardos Renáta",
                                    "EMAIL": "renáta.kardos@mail.hu"
                                },
                                {
                                    "USERNEV": "RENATAS",
                                    "NEV": "Szirmai Renáta",
                                    "EMAIL": "RENATAS@gmail.com"
                                },
                                {
                                    "USERNEV": "robert2",
                                    "NEV": "Patay Róbert",
                                    "EMAIL": "robert2@gmail.com"
                                },
                                {
                                    "USERNEV": "ROBERTI",
                                    "NEV": "Iván Róbert",
                                    "EMAIL": "róbert.iván@mail.hu"
                                },
                                {
                                    "USERNEV": "ROBERTP",
                                    "NEV": "Pásztor Róbert",
                                    "EMAIL": "ROBERTP@gmail.com"
                                },
                                {
                                    "USERNEV": "roland",
                                    "NEV": "Tóth Roland",
                                    "EMAIL": "roland@gmail.com"
                                },
                                {
                                    "USERNEV": "roland1",
                                    "NEV": "Ferencz Roland",
                                    "EMAIL": "roland.ferencz@mail.hu"
                                },
                                {
                                    "USERNEV": "roza2",
                                    "NEV": "Bucskó Róza",
                                    "EMAIL": "roza2@gmail.com"
                                },
                                {
                                    "USERNEV": "sandor",
                                    "NEV": "Karasz Sándor",
                                    "EMAIL": "sandor@gmail.com"
                                },
                                {
                                    "USERNEV": "sandor3",
                                    "NEV": "Farkas Sándor",
                                    "EMAIL": "sándor.farkas@mail.hu"
                                },
                                {
                                    "USERNEV": "sandor4",
                                    "NEV": "Nagy Sándor",
                                    "EMAIL": "sandor4@gmail.com"
                                },
                                {
                                    "USERNEV": "sara",
                                    "NEV": "Farkas Sára",
                                    "EMAIL": "sára.farkas@mail.hu"
                                },
                                {
                                    "USERNEV": "SEBASTIANF",
                                    "NEV": "Foltényi Sebastián",
                                    "EMAIL": "SEBASTIANF@gmail.com"
                                },
                                {
                                    "USERNEV": "sebestyen",
                                    "NEV": "Rab Sebestyén",
                                    "EMAIL": "sebestyen@gmail.com"
                                },
                                {
                                    "USERNEV": "SZABOLCSM",
                                    "NEV": "Miklós Szabolcs",
                                    "EMAIL": "szabolcs.miklós@mail.hu"
                                },
                                {
                                    "USERNEV": "SZILARDS",
                                    "NEV": "Szalai Szilárd",
                                    "EMAIL": "szilárd.szalai@mail.hu"
                                },
                                {
                                    "USERNEV": "szilvia1",
                                    "NEV": "Tari Szilvia",
                                    "EMAIL": "szilvia.tari@mail.hu"
                                },
                                {
                                    "USERNEV": "tamara2",
                                    "NEV": "Miklós Tamara",
                                    "EMAIL": "tamara.miklós@mail.hu"
                                },
                                {
                                    "USERNEV": "tamas",
                                    "NEV": "Antal Tamás",
                                    "EMAIL": "tamás.antal@mail.hu"
                                },
                                {
                                    "USERNEV": "TAMASF",
                                    "NEV": "Fényes Tamás",
                                    "EMAIL": "TAMASF@gmail.com"
                                },
                                {
                                    "USERNEV": "tibor",
                                    "NEV": "Gombos Tibor",
                                    "EMAIL": "tibor.gombos@mail.hu"
                                },
                                {
                                    "USERNEV": "tihamer",
                                    "NEV": "Kazy Tihamér",
                                    "EMAIL": "tihamér.kazy@mail.hu"
                                },
                                {
                                    "USERNEV": "timea2",
                                    "NEV": "Dusha Tímea",
                                    "EMAIL": "tímea.dusha@mail.hu"
                                },
                                {
                                    "USERNEV": "tunde",
                                    "NEV": "Turcsik Tünde",
                                    "EMAIL": "tunde@gmail.com"
                                },
                                {
                                    "USERNEV": "valentin",
                                    "NEV": "Feró Valentin",
                                    "EMAIL": "valentin.feró@mail.hu"
                                },
                                {
                                    "USERNEV": "veronika4",
                                    "NEV": "Tankó Veronika",
                                    "EMAIL": "veronika4@gmail.com"
                                },
                                {
                                    "USERNEV": "VIKTORIAU",
                                    "NEV": "Urbán Viktoria",
                                    "EMAIL": "viktoria.urbán@mail.hu"
                                },
                                {
                                    "USERNEV": "VIKTORK",
                                    "NEV": "Keresztúri Viktor",
                                    "EMAIL": "viktor.keresztúri@mail.hu"
                                },
                                {
                                    "USERNEV": "vivien3",
                                    "NEV": "Boros Vivien",
                                    "EMAIL": "vivien3@gmail.com"
                                },
                                {
                                    "USERNEV": "zoltan",
                                    "NEV": "Fodor Zoltán",
                                    "EMAIL": "zoltán.fodor@mail.hu"
                                },
                                {
                                    "USERNEV": "zoltan4",
                                    "NEV": "Barna Zoltán",
                                    "EMAIL": "zoltan4@gmail.com"
                                },
                                {
                                    "USERNEV": "ZOLTANP",
                                    "NEV": "Pintér Zoltán",
                                    "EMAIL": "zoltán.pintér@mail.hu"
                                },
                                {
                                    "USERNEV": "ZOLTANT",
                                    "NEV": "Tóth Zoltán",
                                    "EMAIL": "zoltán.tóth@mail.hu"
                                },
                                {
                                    "USERNEV": "zsofi1",
                                    "NEV": "Molnár Zsófi",
                                    "EMAIL": "zsofi1@gmail.com"
                                },
                                {
                                    "USERNEV": "zsolt1",
                                    "NEV": "Pulai Zsolt",
                                    "EMAIL": "zsolt.pulai@mail.hu"
                                },
                                {
                                    "USERNEV": "ZSOLTJ",
                                    "NEV": "Józsa Zsolt",
                                    "EMAIL": "ZSOLTJ@gmail.com"
                                },
                                {
                                    "USERNEV": "zsuzsa",
                                    "NEV": "Pusztai Zsuzsanna",
                                    "EMAIL": "zsuzsanna@gmail.com"
                                },
                                {
                                    "USERNEV": "zsuzsa3",
                                    "NEV": "Varsányi Zsuzsa",
                                    "EMAIL": "zsuzsa.varsányi@mail.hu"
                                },
                                {
                                    "USERNEV": "zsuzsanna",
                                    "NEV": "Barta Zsuzsanna",
                                    "EMAIL": "zsuzsanna.barta@mail.hu"
                                },
                                {
                                    "USERNEV": "ZSUZSAV",
                                    "NEV": "Vajda Zsuzsa",
                                    "EMAIL": "zsuzsa.vajda@mail.hu"
                                }
                            ]
                        },
                        "text/html": [
                            "<table>",
                            "<tr><th>USERNEV</th><th>NEV</th><th>EMAIL</th></tr>",
                            "<tr><td>adam1</td><td>Kiss Ádám</td><td>ádám.kiss@mail.hu</td></tr>",
                            "<tr><td>adam3</td><td>Barkóci Ádám</td><td>adam3@gmail.com</td></tr>",
                            "<tr><td>adam4</td><td>Bieniek Ádám</td><td>ádám.bieniek@mail.hu</td></tr>",
                            "<tr><td>agnes</td><td>Lengyel Ágnes</td><td>agnes@gmail.com</td></tr>",
                            "<tr><td>agnes3</td><td>Hartyánszky Ágnes</td><td>agnes3@gmail.com</td></tr>",
                            "<tr><td>AGNESH</td><td>Horváth Ágnes</td><td>AGNESH@gmail.com</td></tr>",
                            "<tr><td>AGNESK</td><td>Kovács Ágnes</td><td>AGNESK@gmail.com</td></tr>",
                            "<tr><td>akos</td><td>Bíró Ákos</td><td>ákos.bíró@mail.hu</td></tr>",
                            "<tr><td>aladar</td><td>Dunai Aladár</td><td>aladár.dunai@mail.hu</td></tr>",
                            "<tr><td>alexandra</td><td>Bagóczki Alexandra</td><td>alexandra.bagóczki@mail.hu</td></tr>",
                            "<tr><td>andi</td><td>Maródi Andrea</td><td>andrea.maródi@mail.hu</td></tr>",
                            "<tr><td>andras2</td><td>Tóth András</td><td>andrás.tóth@mail.hu</td></tr>",
                            "<tr><td>andras21</td><td>Molnár András</td><td>andrás.molnár@mail.hu</td></tr>",
                            "<tr><td>andras3</td><td>Vígh András</td><td>andrás.vígh@mail.hu</td></tr>",
                            "<tr><td>andras4</td><td>Back András</td><td>andras4@gmail.com</td></tr>",
                            "<tr><td>andras41</td><td>Komjáti András</td><td>andras41@gmail.com</td></tr>",
                            "<tr><td>ANDRASE</td><td>Erdei András</td><td>ANDRASE@gmail.com</td></tr>",
                            "<tr><td>andrea</td><td>Kiss Andrea</td><td>andrea.kiss@mail.hu</td></tr>",
                            "<tr><td>andrea4</td><td>Neizer Andrea</td><td>andrea4@gmail.com</td></tr>",
                            "<tr><td>ANDREAT</td><td>Tornyos Andrea</td><td>ANDREAT@gmail.com</td></tr>",
                            "<tr><td>anett3</td><td>Pivarcsi Anett</td><td>anett.pivarcsi@mail.hu</td></tr>",
                            "<tr><td>aniko</td><td>Tóth Anikó</td><td>aniko@gmail.com</td></tr>",
                            "<tr><td>aniko4</td><td>Böröcz Anikó</td><td>aniko4@gmail.com</td></tr>",
                            "<tr><td>ANIKOS</td><td>Simon Anikó</td><td>ANIKOS@gmail.com</td></tr>",
                            "<tr><td>anita</td><td>Hamvay-Kovács Anita</td><td>anita.hamvay-kovács@mail.hu</td></tr>",
                            "<tr><td>annamaria1</td><td>Szűcs Annamária</td><td>annamária.szűcs@mail.hu</td></tr>",
                            "<tr><td>ANNAMARIAR</td><td>Regős Annamária</td><td>ANNAMARIAR@gmail.com</td></tr>",
                            "<tr><td>aron2</td><td>Jakab Áron</td><td>aron2@gmail.com</td></tr>",
                            "<tr><td>ARONK</td><td>Kelemen Áron</td><td>áron.kelemen@mail.hu</td></tr>",
                            "<tr><td>arpad2</td><td>Ötvös Árpád</td><td>árpád.ötvös@mail.hu</td></tr>",
                            "<tr><td>ARPADH</td><td>Horváth Árpád</td><td>árpád.horváth@mail.hu</td></tr>",
                            "<tr><td>ARPADM</td><td>Móricz Árpád</td><td>árpád.móricz@mail.hu</td></tr>",
                            "<tr><td>attila</td><td>Csóti Attila</td><td>attila@gmail.com</td></tr>",
                            "<tr><td>attila1</td><td>Gulyás Attila</td><td>attila.gulyás@mail.hu</td></tr>",
                            "<tr><td>attila4</td><td>Baróti Attila</td><td>attila.baróti@mail.hu</td></tr>",
                            "<tr><td>ATTILAO</td><td>Opra Attila</td><td>ATTILAO@gmail.com</td></tr>",
                            "<tr><td>balazs1</td><td>Bozsik Balázs</td><td>balázs.bozsik@mail.hu</td></tr>",
                            "<tr><td>balazs2</td><td>Szűcs Balázs</td><td>balázs.szűcs@mail.hu</td></tr>",
                            "<tr><td>balazs3</td><td>Bakódy Balázs</td><td>balazs3@gmail.com</td></tr>",
                            "<tr><td>balint</td><td>Horváth Bálint</td><td>balint@gmail.com</td></tr>",
                            "<tr><td>balint1</td><td>Molnár Bálint</td><td>balint1@gmail.com</td></tr>",
                            "<tr><td>balint2</td><td>Vukasinovity Bálint</td><td>balint2@gmail.com</td></tr>",
                            "<tr><td>balu</td><td>Endresz Bálint</td><td>bálint.endresz@mail.hu</td></tr>",
                            "<tr><td>beata4</td><td>Bagi Beáta</td><td>beáta.bagi@mail.hu</td></tr>",
                            "<tr><td>BEATRIXK</td><td>Kerényi Beatrix</td><td>beatrix.kerényi@mail.hu</td></tr>",
                            "<tr><td>BEATRIXS</td><td>Szekendi Beatrix</td><td>beatrix.szekendi@mail.hu</td></tr>",
                            "<tr><td>BELAF</td><td>Farkas Béla</td><td>BELAF@gmail.com</td></tr>",
                            "<tr><td>bence</td><td>Győrffy Bence</td><td>bence@gmail.com</td></tr>",
                            "<tr><td>BENCEB</td><td>Bajusz Bence</td><td>bence.bajusz@mail.hu</td></tr>",
                            "<tr><td>bernadett1</td><td>Simon Bernadett</td><td>bernadett1@gmail.com</td></tr>",
                            "<tr><td>bernadett2</td><td>Kovács Bernadett</td><td>bernadett.kovács@mail.hu</td></tr>",
                            "<tr><td>BERNADETTO</td><td>Orbán Bernadett</td><td>bernadett.orbán@mail.hu</td></tr>",
                            "<tr><td>bertalan</td><td>Csiger Bertalan</td><td>bertalan@gmail.com</td></tr>",
                            "<tr><td>brigitta</td><td>Székely Brigitta</td><td>brigitta.székely@mail.hu</td></tr>",
                            "<tr><td>brigitta3</td><td>Pataki Brigitta</td><td>brigitta.pataki@mail.hu</td></tr>",
                            "<tr><td>csongor3</td><td>Nagymihály Csongor</td><td>csongor.nagymihály@mail.hu</td></tr>",
                            "<tr><td>dani</td><td>Vörös Dániel</td><td>daniel@gmail.com</td></tr>",
                            "<tr><td>daniel</td><td>Rácz Dániel</td><td>dániel.rácz@mail.hu</td></tr>",
                            "<tr><td>daniel1</td><td>Keszler Dániel</td><td>dániel.keszler@mail.hu</td></tr>",
                            "<tr><td>david</td><td>Ambrus Dávid</td><td>david@gmail.com</td></tr>",
                            "<tr><td>david1</td><td>Sobják Dávid</td><td>david1@gmail.com</td></tr>",
                            "<tr><td>debora</td><td>Barna Debóra</td><td>debóra.barna@mail.hu</td></tr>",
                            "<tr><td>denes</td><td>Tömböly Dénes</td><td>denes@gmail.com</td></tr>",
                            "<tr><td>dora3</td><td>Sarodi Dóra</td><td>dóra.sarodi@mail.hu</td></tr>",
                            "<tr><td>edit</td><td>Bittmann Edit</td><td>edit.bittmann@mail.hu</td></tr>",
                            "<tr><td>emese</td><td>Kuruc Emese</td><td>emese.kuruc@mail.hu</td></tr>",
                            "<tr><td>eszter</td><td>Molnár Eszter</td><td>eszter.molnár@mail.hu</td></tr>",
                            "<tr><td>eszter2</td><td>Balogh Eszter</td><td>eszter.balogh@mail.hu</td></tr>",
                            "<tr><td>eszter4</td><td>Fülöp Eszter</td><td>eszter.fülöp@mail.hu</td></tr>",
                            "<tr><td>ESZTERE</td><td>Érsek Eszter</td><td>eszter.érsek@mail.hu</td></tr>",
                            "<tr><td>eva</td><td>Enyedi Éva</td><td>eva@gmail.com</td></tr>",
                            "<tr><td>eva2</td><td>Perlinger Éva</td><td>eva2@gmail.com</td></tr>",
                            "<tr><td>EVAV</td><td>Viktor Éva</td><td>EVAV@gmail.com</td></tr>",
                            "<tr><td>ferenc1</td><td>Orosz Ferenc</td><td>ferenc.orosz@mail.hu</td></tr>",
                            "<tr><td>fruzsina4</td><td>Frank Fruzsina</td><td>fruzsina4@gmail.com</td></tr>",
                            "<tr><td>gabor1</td><td>Köves Gábor</td><td>gabor1@gmail.com</td></tr>",
                            "<tr><td>gabor4</td><td>Telek Gábor</td><td>gábor.telek@mail.hu</td></tr>",
                            "<tr><td>gabriella1</td><td>Nagy Gabriella</td><td>gabriella1@gmail.com</td></tr>",
                            "<tr><td>georgij</td><td>Nyíri Georgij</td><td>georgij.nyíri@mail.hu</td></tr>",
                            "<tr><td>gusztav</td><td>Bárci Gusztáv</td><td>gusztav@gmail.com</td></tr>",
                            "<tr><td>GYONGYIK</td><td>Kornseé Gyöngyi</td><td>gyöngyi.kornseé@mail.hu</td></tr>",
                            "<tr><td>GYORGYO</td><td>Oroszi György</td><td>GYORGYO@gmail.com</td></tr>",
                            "<tr><td>henrik3</td><td>Nádudvari Henrik</td><td>henrik.nádudvari@mail.hu</td></tr>",
                            "<tr><td>IBOLYAA</td><td>Andor Ibolya</td><td>ibolya.andor@mail.hu</td></tr>",
                            "<tr><td>ilona3</td><td>Bosnyák Ilona</td><td>ilona3@gmail.com</td></tr>",
                            "<tr><td>imre</td><td>Búza Imre</td><td>imre.búza@mail.hu</td></tr>",
                            "<tr><td>imre1</td><td>Papp Imre</td><td>imre.papp@mail.hu</td></tr>",
                            "<tr><td>istvan</td><td>Soós István</td><td>istvan@gmail.com</td></tr>",
                            "<tr><td>istvan1</td><td>Vizi István</td><td>istván.vizi@mail.hu</td></tr>",
                            "<tr><td>ISTVANV</td><td>Varga István</td><td>ISTVANV@gmail.com</td></tr>",
                            "<tr><td>janos3</td><td>Harangozó János</td><td>janos3@gmail.com</td></tr>",
                            "<tr><td>JANOSG</td><td>Giliga János</td><td>JANOSG@gmail.com</td></tr>",
                            "<tr><td>JANOSP</td><td>Pálinkás János</td><td>JANOSP@gmail.com</td></tr>",
                            "<tr><td>jozsef</td><td>Gergely József</td><td>jozsef@gmail.com</td></tr>",
                            "<tr><td>jozsef2</td><td>Vajda József</td><td>józsef.vajda@mail.hu</td></tr>",
                            "<tr><td>JOZSEFG</td><td>Gyuris József</td><td>józsef.gyuris@mail.hu</td></tr>",
                            "<tr><td>JUDITH</td><td>Hídasi Judit</td><td>JUDITH@gmail.com</td></tr>",
                            "<tr><td>julia</td><td>Tóth Júlia</td><td>julia@gmail.com</td></tr>",
                            "<tr><td>julia4</td><td>Nagy Júlia</td><td>julia4@gmail.com</td></tr>",
                            "<tr><td>julianna4</td><td>Szabó Julianna</td><td>julianna4@gmail.com</td></tr>",
                            "<tr><td>kata</td><td>Gondos Katalin</td><td>katalin.gondos@mail.hu</td></tr>",
                            "<tr><td>katalin</td><td>Horváth Katalin</td><td>katalin.horváth@mail.hu</td></tr>",
                            "<tr><td>katalin4</td><td>Kertész Katalin</td><td>katalin4@gmail.com</td></tr>",
                            "<tr><td>kati</td><td>Zatykó Katalin</td><td>katalin.zatykó@mail.hu</td></tr>",
                            "<tr><td>katka</td><td>Kovács Katalin</td><td>katalin.kovács@mail.hu</td></tr>",
                            "<tr><td>klaudia2</td><td>Bakó Klaudia</td><td>klaudia.bakó@mail.hu</td></tr>",
                            "<tr><td>kornel4</td><td>Lukács Kornél</td><td>kornél.lukács@mail.hu</td></tr>",
                            "<tr><td>kristof4</td><td>Poprádi Kristóf</td><td>kristof4@gmail.com</td></tr>",
                            "<tr><td>kriszti</td><td>Horváth Krisztina</td><td>kriszti@gmail.com</td></tr>",
                            "<tr><td>krisztian4</td><td>Czérna Krisztián</td><td>krisztián.czérna@mail.hu</td></tr>",
                            "<tr><td>KRISZTIANM</td><td>Mogyródi Krisztián</td><td>KRISZTIANM@gmail.com</td></tr>",
                            "<tr><td>krisztina</td><td>Szedlár Krisztina</td><td>krisztina@gmail.com</td></tr>",
                            "<tr><td>krisztina1</td><td>Bori Krisztina</td><td>krisztina.bori@mail.hu</td></tr>",
                            "<tr><td>KRISZTINAG</td><td>Gyárfás Krisztina</td><td>KRISZTINAG@gmail.com</td></tr>",
                            "<tr><td>lajos</td><td>Kiss Lajos</td><td>lajos.kiss@mail.hu</td></tr>",
                            "<tr><td>lala</td><td>Nagymihály Lajos</td><td>lajos.nagymihály@mail.hu</td></tr>",
                            "<tr><td>laszlo2</td><td>Móra László</td><td>lászló.móra@mail.hu</td></tr>",
                            "<tr><td>LASZLOA</td><td>Antal László</td><td>lászló.antal@mail.hu</td></tr>",
                            "<tr><td>LASZLON</td><td>Nagy László</td><td>lászló.nagy@mail.hu</td></tr>",
                            "<tr><td>maria1</td><td>Baráth Mária</td><td>mária.baráth@mail.hu</td></tr>",
                            "<tr><td>mark</td><td>Kispál Márk</td><td>márk.kispál@mail.hu</td></tr>",
                            "<tr><td>MARKH</td><td>Horváth Márk</td><td>márk.horváth@mail.hu</td></tr>",
                            "<tr><td>marton</td><td>Kalacsi Márton</td><td>marton@gmail.com</td></tr>",
                            "<tr><td>MATEK</td><td>Koza Máté</td><td>máté.koza@mail.hu</td></tr>",
                            "<tr><td>matyas2</td><td>Botka Mátyás</td><td>matyas2@gmail.com</td></tr>",
                            "<tr><td>MATYASS</td><td>Szilágyi Mátyás</td><td>mátyás.szilágyi@mail.hu</td></tr>",
                            "<tr><td>MIHALYJ</td><td>Juhász Mihály</td><td>mihály.juhász@mail.hu</td></tr>",
                            "<tr><td>miklos2</td><td>Gondos Miklós</td><td>miklos2@gmail.com</td></tr>",
                            "<tr><td>MIKLOSB</td><td>Balla Miklós</td><td>miklós.balla@mail.hu</td></tr>",
                            "<tr><td>MONIKAM</td><td>Mohos Mónika</td><td>mónika.mohos@mail.hu</td></tr>",
                            "<tr><td>NANDORF</td><td>Fő Nándor</td><td>nándor.fő@mail.hu</td></tr>",
                            "<tr><td>nikolett3</td><td>Horváth Nikolett</td><td>nikolett3@gmail.com</td></tr>",
                            "<tr><td>nikoletta4</td><td>Kő Nikoletta</td><td>nikoletta4@gmail.com</td></tr>",
                            "<tr><td>NIKOLETTAT</td><td>Tatár Nikoletta</td><td>nikoletta.tatár@mail.hu</td></tr>",
                            "<tr><td>norbert</td><td>Szűcs Norbert</td><td>norbert@gmail.com</td></tr>",
                            "<tr><td>norbert2</td><td>Hegedűs Norbert</td><td>norbert.hegedűs@mail.hu</td></tr>",
                            "<tr><td>norbert4</td><td>Mile Norbert</td><td>norbert4@gmail.com</td></tr>",
                            "<tr><td>norbert5</td><td>Béres Norbert</td><td>norbert5@gmail.com</td></tr>",
                            "<tr><td>pal</td><td>Barabás Pál</td><td>pál.barabás@mail.hu</td></tr>",
                            "<tr><td>peter1</td><td>Kozma Péter</td><td>peter1@gmail.com</td></tr>",
                            "<tr><td>peter2</td><td>Bozsó Péter</td><td>peter2@gmail.com</td></tr>",
                            "<tr><td>peter3</td><td>Szalai Péter</td><td>peter3@gmail.com</td></tr>",
                            "<tr><td>peter4</td><td>Bíró Péter</td><td>péter.bíró@mail.hu</td></tr>",
                            "<tr><td>PETERB</td><td>Berendi Péter</td><td>péter.berendi@mail.hu</td></tr>",
                            "<tr><td>polla</td><td>Palágyi Polla</td><td>polla@gmail.com</td></tr>",
                            "<tr><td>rajmond4</td><td>Rácz Rajmond</td><td>rajmond.rácz@mail.hu</td></tr>",
                            "<tr><td>reka4</td><td>Szikszai Réka</td><td>réka.szikszai@mail.hu</td></tr>",
                            "<tr><td>RENATAK</td><td>Kardos Renáta</td><td>renáta.kardos@mail.hu</td></tr>",
                            "<tr><td>RENATAS</td><td>Szirmai Renáta</td><td>RENATAS@gmail.com</td></tr>",
                            "<tr><td>robert2</td><td>Patay Róbert</td><td>robert2@gmail.com</td></tr>",
                            "<tr><td>ROBERTI</td><td>Iván Róbert</td><td>róbert.iván@mail.hu</td></tr>",
                            "<tr><td>ROBERTP</td><td>Pásztor Róbert</td><td>ROBERTP@gmail.com</td></tr>",
                            "<tr><td>roland</td><td>Tóth Roland</td><td>roland@gmail.com</td></tr>",
                            "<tr><td>roland1</td><td>Ferencz Roland</td><td>roland.ferencz@mail.hu</td></tr>",
                            "<tr><td>roza2</td><td>Bucskó Róza</td><td>roza2@gmail.com</td></tr>",
                            "<tr><td>sandor</td><td>Karasz Sándor</td><td>sandor@gmail.com</td></tr>",
                            "<tr><td>sandor3</td><td>Farkas Sándor</td><td>sándor.farkas@mail.hu</td></tr>",
                            "<tr><td>sandor4</td><td>Nagy Sándor</td><td>sandor4@gmail.com</td></tr>",
                            "<tr><td>sara</td><td>Farkas Sára</td><td>sára.farkas@mail.hu</td></tr>",
                            "<tr><td>SEBASTIANF</td><td>Foltényi Sebastián</td><td>SEBASTIANF@gmail.com</td></tr>",
                            "<tr><td>sebestyen</td><td>Rab Sebestyén</td><td>sebestyen@gmail.com</td></tr>",
                            "<tr><td>SZABOLCSM</td><td>Miklós Szabolcs</td><td>szabolcs.miklós@mail.hu</td></tr>",
                            "<tr><td>SZILARDS</td><td>Szalai Szilárd</td><td>szilárd.szalai@mail.hu</td></tr>",
                            "<tr><td>szilvia1</td><td>Tari Szilvia</td><td>szilvia.tari@mail.hu</td></tr>",
                            "<tr><td>tamara2</td><td>Miklós Tamara</td><td>tamara.miklós@mail.hu</td></tr>",
                            "<tr><td>tamas</td><td>Antal Tamás</td><td>tamás.antal@mail.hu</td></tr>",
                            "<tr><td>TAMASF</td><td>Fényes Tamás</td><td>TAMASF@gmail.com</td></tr>",
                            "<tr><td>tibor</td><td>Gombos Tibor</td><td>tibor.gombos@mail.hu</td></tr>",
                            "<tr><td>tihamer</td><td>Kazy Tihamér</td><td>tihamér.kazy@mail.hu</td></tr>",
                            "<tr><td>timea2</td><td>Dusha Tímea</td><td>tímea.dusha@mail.hu</td></tr>",
                            "<tr><td>tunde</td><td>Turcsik Tünde</td><td>tunde@gmail.com</td></tr>",
                            "<tr><td>valentin</td><td>Feró Valentin</td><td>valentin.feró@mail.hu</td></tr>",
                            "<tr><td>veronika4</td><td>Tankó Veronika</td><td>veronika4@gmail.com</td></tr>",
                            "<tr><td>VIKTORIAU</td><td>Urbán Viktoria</td><td>viktoria.urbán@mail.hu</td></tr>",
                            "<tr><td>VIKTORK</td><td>Keresztúri Viktor</td><td>viktor.keresztúri@mail.hu</td></tr>",
                            "<tr><td>vivien3</td><td>Boros Vivien</td><td>vivien3@gmail.com</td></tr>",
                            "<tr><td>zoltan</td><td>Fodor Zoltán</td><td>zoltán.fodor@mail.hu</td></tr>",
                            "<tr><td>zoltan4</td><td>Barna Zoltán</td><td>zoltan4@gmail.com</td></tr>",
                            "<tr><td>ZOLTANP</td><td>Pintér Zoltán</td><td>zoltán.pintér@mail.hu</td></tr>",
                            "<tr><td>ZOLTANT</td><td>Tóth Zoltán</td><td>zoltán.tóth@mail.hu</td></tr>",
                            "<tr><td>zsofi1</td><td>Molnár Zsófi</td><td>zsofi1@gmail.com</td></tr>",
                            "<tr><td>zsolt1</td><td>Pulai Zsolt</td><td>zsolt.pulai@mail.hu</td></tr>",
                            "<tr><td>ZSOLTJ</td><td>Józsa Zsolt</td><td>ZSOLTJ@gmail.com</td></tr>",
                            "<tr><td>zsuzsa</td><td>Pusztai Zsuzsanna</td><td>zsuzsanna@gmail.com</td></tr>",
                            "<tr><td>zsuzsa3</td><td>Varsányi Zsuzsa</td><td>zsuzsa.varsányi@mail.hu</td></tr>",
                            "<tr><td>zsuzsanna</td><td>Barta Zsuzsanna</td><td>zsuzsanna.barta@mail.hu</td></tr>",
                            "<tr><td>ZSUZSAV</td><td>Vajda Zsuzsa</td><td>zsuzsa.vajda@mail.hu</td></tr>",
                            "</table>"
                        ]
                    }
                }
            ],
            "execution_count": 3
        },
        {
            "cell_type": "code",
            "source": [
                "--2\r\n",
                "select v.*\r\n",
                "from Vendeg v join Foglalas f on v.USERNEV=f.UGYFEL_FK\r\n",
                "    join Szoba sz on sz.SZOBA_ID=f.SZOBA_FK\r\n",
                "where FEROHELY = (\r\n",
                "    select MAX(FEROHELY)\r\n",
                "    from szoba\r\n",
                ") and KLIMAS = 'i'"
            ],
            "metadata": {
                "azdata_cell_guid": "ebfb8944-718c-4c32-a788-2ba90e5ef0c9",
                "language": "sql"
            },
            "outputs": [
                {
                    "output_type": "display_data",
                    "data": {
                        "text/html": "(3 rows affected)"
                    },
                    "metadata": {}
                },
                {
                    "output_type": "display_data",
                    "data": {
                        "text/html": "Total execution time: 00:00:00.026"
                    },
                    "metadata": {}
                },
                {
                    "output_type": "execute_result",
                    "metadata": {},
                    "execution_count": 4,
                    "data": {
                        "application/vnd.dataresource+json": {
                            "schema": {
                                "fields": [
                                    {
                                        "name": "USERNEV"
                                    },
                                    {
                                        "name": "NEV"
                                    },
                                    {
                                        "name": "EMAIL"
                                    },
                                    {
                                        "name": "SZAML_CIM"
                                    },
                                    {
                                        "name": "SZUL_DAT"
                                    }
                                ]
                            },
                            "data": [
                                {
                                    "USERNEV": "JOZSEFG",
                                    "NEV": "Gyuris József",
                                    "EMAIL": "józsef.gyuris@mail.hu",
                                    "SZAML_CIM": "2660 Balassagyarmat Petőfi utca 1/2.",
                                    "SZUL_DAT": "1975-05-26"
                                },
                                {
                                    "USERNEV": "PETERB",
                                    "NEV": "Berendi Péter",
                                    "EMAIL": "péter.berendi@mail.hu",
                                    "SZAML_CIM": "3980 Sátoraljaújhely Vasút utca 4/10.",
                                    "SZUL_DAT": "1969-01-01"
                                },
                                {
                                    "USERNEV": "tunde",
                                    "NEV": "Turcsik Tünde",
                                    "EMAIL": "tunde@gmail.com",
                                    "SZAML_CIM": "7130 Tolna Fő út 122.",
                                    "SZUL_DAT": "1974-02-12"
                                }
                            ]
                        },
                        "text/html": [
                            "<table>",
                            "<tr><th>USERNEV</th><th>NEV</th><th>EMAIL</th><th>SZAML_CIM</th><th>SZUL_DAT</th></tr>",
                            "<tr><td>JOZSEFG</td><td>Gyuris József</td><td>józsef.gyuris@mail.hu</td><td>2660 Balassagyarmat Petőfi utca 1/2.</td><td>1975-05-26</td></tr>",
                            "<tr><td>PETERB</td><td>Berendi Péter</td><td>péter.berendi@mail.hu</td><td>3980 Sátoraljaújhely Vasút utca 4/10.</td><td>1969-01-01</td></tr>",
                            "<tr><td>tunde</td><td>Turcsik Tünde</td><td>tunde@gmail.com</td><td>7130 Tolna Fő út 122.</td><td>1974-02-12</td></tr>",
                            "</table>"
                        ]
                    }
                }
            ],
            "execution_count": 4
        },
        {
            "cell_type": "code",
            "source": [
                "--3\r\n",
                "SELECT  szh.SZALLAS_NEV, sz.SZOBA_ID,f.mettol, avg(f.FELNOTT_SZAM+f.GYERMEK_SZAM) over (PARTITION by szh.szallas_id, sz.szoba_id order by f.mettol rows BETWEEN 5 PRECEDING and 1 PRECEDING) as 'átlagos előző 5 foglalás létszám'\r\n",
                "from szallashely szh join Szoba sz on szh.SZALLAS_ID=sz.SZALLAS_FK\r\n",
                " join Foglalas f on f.SZOBA_FK=sz.SZOBA_ID\r\n",
                "\r\n",
                ""
            ],
            "metadata": {
                "azdata_cell_guid": "e127e528-944f-40a2-9f9d-7c180335d4fe",
                "language": "sql"
            },
            "outputs": [
                {
                    "output_type": "display_data",
                    "data": {
                        "text/html": "(1027 rows affected)"
                    },
                    "metadata": {}
                },
                {
                    "output_type": "display_data",
                    "data": {
                        "text/html": "Total execution time: 00:00:00.067"
                    },
                    "metadata": {}
                },
                {
                    "output_type": "execute_result",
                    "metadata": {},
                    "execution_count": 18,
                    "data": {
                        "application/vnd.dataresource+json": {
                            "schema": {
                                "fields": [
                                    {
                                        "name": "SZALLAS_NEV"
                                    },
                                    {
                                        "name": "SZOBA_ID"
                                    },
                                    {
                                        "name": "mettol"
                                    },
                                    {
                                        "name": "átlagos előző 5 foglalás létszám"
                                    }
                                ]
                            },
                            "data": [
                                {
                                    "SZALLAS_NEV": "Sába-Ház",
                                    "SZOBA_ID": "1",
                                    "mettol": "2016-05-05",
                                    "átlagos előző 5 foglalás létszám": "NULL"
                                },
                                {
                                    "SZALLAS_NEV": "Sába-Ház",
                                    "SZOBA_ID": "1",
                                    "mettol": "2016-06-10",
                                    "átlagos előző 5 foglalás létszám": "1"
                                },
                                {
                                    "SZALLAS_NEV": "Sába-Ház",
                                    "SZOBA_ID": "1",
                                    "mettol": "2016-07-30",
                                    "átlagos előző 5 foglalás létszám": "1"
                                },
                                {
                                    "SZALLAS_NEV": "Sába-Ház",
                                    "SZOBA_ID": "1",
                                    "mettol": "2016-08-20",
                                    "átlagos előző 5 foglalás létszám": "1"
                                },
                                {
                                    "SZALLAS_NEV": "Sába-Ház",
                                    "SZOBA_ID": "1",
                                    "mettol": "2016-10-09",
                                    "átlagos előző 5 foglalás létszám": "1"
                                },
                                {
                                    "SZALLAS_NEV": "Sába-Ház",
                                    "SZOBA_ID": "1",
                                    "mettol": "2016-10-15",
                                    "átlagos előző 5 foglalás létszám": "1"
                                },
                                {
                                    "SZALLAS_NEV": "Sába-Ház",
                                    "SZOBA_ID": "1",
                                    "mettol": "2016-11-11",
                                    "átlagos előző 5 foglalás létszám": "2"
                                },
                                {
                                    "SZALLAS_NEV": "Sába-Ház",
                                    "SZOBA_ID": "1",
                                    "mettol": "2016-12-01",
                                    "átlagos előző 5 foglalás létszám": "2"
                                },
                                {
                                    "SZALLAS_NEV": "Sába-Ház",
                                    "SZOBA_ID": "2",
                                    "mettol": "2016-08-27",
                                    "átlagos előző 5 foglalás létszám": "NULL"
                                },
                                {
                                    "SZALLAS_NEV": "Sába-Ház",
                                    "SZOBA_ID": "2",
                                    "mettol": "2016-09-14",
                                    "átlagos előző 5 foglalás létszám": "4"
                                },
                                {
                                    "SZALLAS_NEV": "Sába-Ház",
                                    "SZOBA_ID": "2",
                                    "mettol": "2016-09-19",
                                    "átlagos előző 5 foglalás létszám": "3"
                                },
                                {
                                    "SZALLAS_NEV": "Sába-Ház",
                                    "SZOBA_ID": "2",
                                    "mettol": "2016-11-23",
                                    "átlagos előző 5 foglalás létszám": "3"
                                },
                                {
                                    "SZALLAS_NEV": "Sába-Ház",
                                    "SZOBA_ID": "3",
                                    "mettol": "2016-05-09",
                                    "átlagos előző 5 foglalás létszám": "NULL"
                                },
                                {
                                    "SZALLAS_NEV": "Sába-Ház",
                                    "SZOBA_ID": "3",
                                    "mettol": "2016-07-13",
                                    "átlagos előző 5 foglalás létszám": "3"
                                },
                                {
                                    "SZALLAS_NEV": "Sába-Ház",
                                    "SZOBA_ID": "3",
                                    "mettol": "2016-08-16",
                                    "átlagos előző 5 foglalás létszám": "3"
                                },
                                {
                                    "SZALLAS_NEV": "Sába-Ház",
                                    "SZOBA_ID": "3",
                                    "mettol": "2016-09-08",
                                    "átlagos előző 5 foglalás létszám": "3"
                                },
                                {
                                    "SZALLAS_NEV": "Sába-Ház",
                                    "SZOBA_ID": "3",
                                    "mettol": "2016-10-01",
                                    "átlagos előző 5 foglalás létszám": "3"
                                },
                                {
                                    "SZALLAS_NEV": "Sába-Ház",
                                    "SZOBA_ID": "3",
                                    "mettol": "2016-10-14",
                                    "átlagos előző 5 foglalás létszám": "3"
                                },
                                {
                                    "SZALLAS_NEV": "Sába-Ház",
                                    "SZOBA_ID": "3",
                                    "mettol": "2017-01-12",
                                    "átlagos előző 5 foglalás létszám": "3"
                                },
                                {
                                    "SZALLAS_NEV": "Sába-Ház",
                                    "SZOBA_ID": "3",
                                    "mettol": "2017-02-16",
                                    "átlagos előző 5 foglalás létszám": "3"
                                },
                                {
                                    "SZALLAS_NEV": "Sába-Ház",
                                    "SZOBA_ID": "4",
                                    "mettol": "2016-05-17",
                                    "átlagos előző 5 foglalás létszám": "NULL"
                                },
                                {
                                    "SZALLAS_NEV": "Sába-Ház",
                                    "SZOBA_ID": "4",
                                    "mettol": "2016-06-10",
                                    "átlagos előző 5 foglalás létszám": "1"
                                },
                                {
                                    "SZALLAS_NEV": "Sába-Ház",
                                    "SZOBA_ID": "4",
                                    "mettol": "2016-07-02",
                                    "átlagos előző 5 foglalás létszám": "1"
                                },
                                {
                                    "SZALLAS_NEV": "Sába-Ház",
                                    "SZOBA_ID": "4",
                                    "mettol": "2016-10-07",
                                    "átlagos előző 5 foglalás létszám": "1"
                                },
                                {
                                    "SZALLAS_NEV": "Sába-Ház",
                                    "SZOBA_ID": "4",
                                    "mettol": "2016-10-08",
                                    "átlagos előző 5 foglalás létszám": "1"
                                },
                                {
                                    "SZALLAS_NEV": "Sába-Ház",
                                    "SZOBA_ID": "4",
                                    "mettol": "2017-02-03",
                                    "átlagos előző 5 foglalás létszám": "1"
                                },
                                {
                                    "SZALLAS_NEV": "Sába-Ház",
                                    "SZOBA_ID": "5",
                                    "mettol": "2016-04-08",
                                    "átlagos előző 5 foglalás létszám": "NULL"
                                },
                                {
                                    "SZALLAS_NEV": "Sába-Ház",
                                    "SZOBA_ID": "5",
                                    "mettol": "2016-06-16",
                                    "átlagos előző 5 foglalás létszám": "2"
                                },
                                {
                                    "SZALLAS_NEV": "Sába-Ház",
                                    "SZOBA_ID": "5",
                                    "mettol": "2016-09-21",
                                    "átlagos előző 5 foglalás létszám": "1"
                                },
                                {
                                    "SZALLAS_NEV": "Sába-Ház",
                                    "SZOBA_ID": "5",
                                    "mettol": "2016-11-07",
                                    "átlagos előző 5 foglalás létszám": "1"
                                },
                                {
                                    "SZALLAS_NEV": "Sába-Ház",
                                    "SZOBA_ID": "6",
                                    "mettol": "2016-04-06",
                                    "átlagos előző 5 foglalás létszám": "NULL"
                                },
                                {
                                    "SZALLAS_NEV": "Sába-Ház",
                                    "SZOBA_ID": "6",
                                    "mettol": "2016-05-29",
                                    "átlagos előző 5 foglalás létszám": "2"
                                },
                                {
                                    "SZALLAS_NEV": "Sába-Ház",
                                    "SZOBA_ID": "6",
                                    "mettol": "2016-06-27",
                                    "átlagos előző 5 foglalás létszám": "2"
                                },
                                {
                                    "SZALLAS_NEV": "Sába-Ház",
                                    "SZOBA_ID": "6",
                                    "mettol": "2016-08-12",
                                    "átlagos előző 5 foglalás létszám": "1"
                                },
                                {
                                    "SZALLAS_NEV": "Sába-Ház",
                                    "SZOBA_ID": "6",
                                    "mettol": "2016-09-05",
                                    "átlagos előző 5 foglalás létszám": "2"
                                },
                                {
                                    "SZALLAS_NEV": "Sába-Ház",
                                    "SZOBA_ID": "6",
                                    "mettol": "2016-10-01",
                                    "átlagos előző 5 foglalás létszám": "2"
                                },
                                {
                                    "SZALLAS_NEV": "Sába-Ház",
                                    "SZOBA_ID": "7",
                                    "mettol": "2016-04-06",
                                    "átlagos előző 5 foglalás létszám": "NULL"
                                },
                                {
                                    "SZALLAS_NEV": "Sába-Ház",
                                    "SZOBA_ID": "7",
                                    "mettol": "2016-08-06",
                                    "átlagos előző 5 foglalás létszám": "1"
                                },
                                {
                                    "SZALLAS_NEV": "Sába-Ház",
                                    "SZOBA_ID": "7",
                                    "mettol": "2016-10-08",
                                    "átlagos előző 5 foglalás létszám": "1"
                                },
                                {
                                    "SZALLAS_NEV": "Sába-Ház",
                                    "SZOBA_ID": "7",
                                    "mettol": "2016-10-21",
                                    "átlagos előző 5 foglalás létszám": "1"
                                },
                                {
                                    "SZALLAS_NEV": "Sába-Ház",
                                    "SZOBA_ID": "7",
                                    "mettol": "2016-10-23",
                                    "átlagos előző 5 foglalás létszám": "1"
                                },
                                {
                                    "SZALLAS_NEV": "Sába-Ház",
                                    "SZOBA_ID": "7",
                                    "mettol": "2016-11-05",
                                    "átlagos előző 5 foglalás létszám": "1"
                                },
                                {
                                    "SZALLAS_NEV": "Sába-Ház",
                                    "SZOBA_ID": "8",
                                    "mettol": "2016-05-30",
                                    "átlagos előző 5 foglalás létszám": "NULL"
                                },
                                {
                                    "SZALLAS_NEV": "Sába-Ház",
                                    "SZOBA_ID": "8",
                                    "mettol": "2016-06-10",
                                    "átlagos előző 5 foglalás létszám": "2"
                                },
                                {
                                    "SZALLAS_NEV": "Sába-Ház",
                                    "SZOBA_ID": "8",
                                    "mettol": "2016-07-20",
                                    "átlagos előző 5 foglalás létszám": "2"
                                },
                                {
                                    "SZALLAS_NEV": "Sába-Ház",
                                    "SZOBA_ID": "8",
                                    "mettol": "2016-08-24",
                                    "átlagos előző 5 foglalás létszám": "2"
                                },
                                {
                                    "SZALLAS_NEV": "Sába-Ház",
                                    "SZOBA_ID": "8",
                                    "mettol": "2016-08-28",
                                    "átlagos előző 5 foglalás létszám": "2"
                                },
                                {
                                    "SZALLAS_NEV": "Sába-Ház",
                                    "SZOBA_ID": "9",
                                    "mettol": "2016-04-29",
                                    "átlagos előző 5 foglalás létszám": "NULL"
                                },
                                {
                                    "SZALLAS_NEV": "Sába-Ház",
                                    "SZOBA_ID": "9",
                                    "mettol": "2016-10-15",
                                    "átlagos előző 5 foglalás létszám": "2"
                                },
                                {
                                    "SZALLAS_NEV": "Sába-Ház",
                                    "SZOBA_ID": "9",
                                    "mettol": "2016-10-30",
                                    "átlagos előző 5 foglalás létszám": "2"
                                },
                                {
                                    "SZALLAS_NEV": "Sába-Ház",
                                    "SZOBA_ID": "9",
                                    "mettol": "2016-11-07",
                                    "átlagos előző 5 foglalás létszám": "3"
                                },
                                {
                                    "SZALLAS_NEV": "Sába-Ház",
                                    "SZOBA_ID": "9",
                                    "mettol": "2017-01-06",
                                    "átlagos előző 5 foglalás létszám": "3"
                                },
                                {
                                    "SZALLAS_NEV": "Sába-Ház",
                                    "SZOBA_ID": "9",
                                    "mettol": "2017-02-16",
                                    "átlagos előző 5 foglalás létszám": "3"
                                },
                                {
                                    "SZALLAS_NEV": "Sába-Ház",
                                    "SZOBA_ID": "10",
                                    "mettol": "2016-04-10",
                                    "átlagos előző 5 foglalás létszám": "NULL"
                                },
                                {
                                    "SZALLAS_NEV": "Sába-Ház",
                                    "SZOBA_ID": "10",
                                    "mettol": "2016-08-16",
                                    "átlagos előző 5 foglalás létszám": "2"
                                },
                                {
                                    "SZALLAS_NEV": "Sába-Ház",
                                    "SZOBA_ID": "10",
                                    "mettol": "2016-08-17",
                                    "átlagos előző 5 foglalás létszám": "1"
                                },
                                {
                                    "SZALLAS_NEV": "Sába-Ház",
                                    "SZOBA_ID": "10",
                                    "mettol": "2016-11-25",
                                    "átlagos előző 5 foglalás létszám": "2"
                                },
                                {
                                    "SZALLAS_NEV": "Sába-Ház",
                                    "SZOBA_ID": "11",
                                    "mettol": "2016-06-06",
                                    "átlagos előző 5 foglalás létszám": "NULL"
                                },
                                {
                                    "SZALLAS_NEV": "Sába-Ház",
                                    "SZOBA_ID": "11",
                                    "mettol": "2016-10-05",
                                    "átlagos előző 5 foglalás létszám": "3"
                                },
                                {
                                    "SZALLAS_NEV": "Sába-Ház",
                                    "SZOBA_ID": "11",
                                    "mettol": "2016-11-01",
                                    "átlagos előző 5 foglalás létszám": "3"
                                },
                                {
                                    "SZALLAS_NEV": "Sába-Ház",
                                    "SZOBA_ID": "11",
                                    "mettol": "2017-02-12",
                                    "átlagos előző 5 foglalás létszám": "2"
                                },
                                {
                                    "SZALLAS_NEV": "Sába-Ház",
                                    "SZOBA_ID": "12",
                                    "mettol": "2016-05-30",
                                    "átlagos előző 5 foglalás létszám": "NULL"
                                },
                                {
                                    "SZALLAS_NEV": "Sába-Ház",
                                    "SZOBA_ID": "12",
                                    "mettol": "2016-06-11",
                                    "átlagos előző 5 foglalás létszám": "3"
                                },
                                {
                                    "SZALLAS_NEV": "Sába-Ház",
                                    "SZOBA_ID": "12",
                                    "mettol": "2016-06-17",
                                    "átlagos előző 5 foglalás létszám": "2"
                                },
                                {
                                    "SZALLAS_NEV": "Sába-Ház",
                                    "SZOBA_ID": "12",
                                    "mettol": "2016-07-09",
                                    "átlagos előző 5 foglalás létszám": "2"
                                },
                                {
                                    "SZALLAS_NEV": "Sába-Ház",
                                    "SZOBA_ID": "12",
                                    "mettol": "2016-07-20",
                                    "átlagos előző 5 foglalás létszám": "2"
                                },
                                {
                                    "SZALLAS_NEV": "Sába-Ház",
                                    "SZOBA_ID": "12",
                                    "mettol": "2016-08-13",
                                    "átlagos előző 5 foglalás létszám": "2"
                                },
                                {
                                    "SZALLAS_NEV": "Sába-Ház",
                                    "SZOBA_ID": "12",
                                    "mettol": "2016-10-09",
                                    "átlagos előző 5 foglalás létszám": "2"
                                },
                                {
                                    "SZALLAS_NEV": "Sába-Ház",
                                    "SZOBA_ID": "12",
                                    "mettol": "2016-10-18",
                                    "átlagos előző 5 foglalás létszám": "2"
                                },
                                {
                                    "SZALLAS_NEV": "Sába-Ház",
                                    "SZOBA_ID": "12",
                                    "mettol": "2017-01-09",
                                    "átlagos előző 5 foglalás létszám": "2"
                                },
                                {
                                    "SZALLAS_NEV": "Családi Ház",
                                    "SZOBA_ID": "13",
                                    "mettol": "2016-08-08",
                                    "átlagos előző 5 foglalás létszám": "NULL"
                                },
                                {
                                    "SZALLAS_NEV": "Családi Ház",
                                    "SZOBA_ID": "13",
                                    "mettol": "2016-09-12",
                                    "átlagos előző 5 foglalás létszám": "3"
                                },
                                {
                                    "SZALLAS_NEV": "Családi Ház",
                                    "SZOBA_ID": "13",
                                    "mettol": "2016-12-06",
                                    "átlagos előző 5 foglalás létszám": "3"
                                },
                                {
                                    "SZALLAS_NEV": "Családi Ház",
                                    "SZOBA_ID": "13",
                                    "mettol": "2017-01-23",
                                    "átlagos előző 5 foglalás létszám": "3"
                                },
                                {
                                    "SZALLAS_NEV": "Családi Ház",
                                    "SZOBA_ID": "14",
                                    "mettol": "2016-05-22",
                                    "átlagos előző 5 foglalás létszám": "NULL"
                                },
                                {
                                    "SZALLAS_NEV": "Családi Ház",
                                    "SZOBA_ID": "14",
                                    "mettol": "2016-08-24",
                                    "átlagos előző 5 foglalás létszám": "4"
                                },
                                {
                                    "SZALLAS_NEV": "Családi Ház",
                                    "SZOBA_ID": "14",
                                    "mettol": "2017-02-16",
                                    "átlagos előző 5 foglalás létszám": "3"
                                },
                                {
                                    "SZALLAS_NEV": "Családi Ház",
                                    "SZOBA_ID": "15",
                                    "mettol": "2016-07-13",
                                    "átlagos előző 5 foglalás létszám": "NULL"
                                },
                                {
                                    "SZALLAS_NEV": "Családi Ház",
                                    "SZOBA_ID": "15",
                                    "mettol": "2016-08-16",
                                    "átlagos előző 5 foglalás létszám": "3"
                                },
                                {
                                    "SZALLAS_NEV": "Családi Ház",
                                    "SZOBA_ID": "15",
                                    "mettol": "2016-10-08",
                                    "átlagos előző 5 foglalás létszám": "2"
                                },
                                {
                                    "SZALLAS_NEV": "Családi Ház",
                                    "SZOBA_ID": "15",
                                    "mettol": "2016-11-03",
                                    "átlagos előző 5 foglalás létszám": "2"
                                },
                                {
                                    "SZALLAS_NEV": "Családi Ház",
                                    "SZOBA_ID": "15",
                                    "mettol": "2017-01-04",
                                    "átlagos előző 5 foglalás létszám": "2"
                                },
                                {
                                    "SZALLAS_NEV": "Családi Ház",
                                    "SZOBA_ID": "15",
                                    "mettol": "2017-01-16",
                                    "átlagos előző 5 foglalás létszám": "2"
                                },
                                {
                                    "SZALLAS_NEV": "Családi Ház",
                                    "SZOBA_ID": "16",
                                    "mettol": "2016-05-24",
                                    "átlagos előző 5 foglalás létszám": "NULL"
                                },
                                {
                                    "SZALLAS_NEV": "Családi Ház",
                                    "SZOBA_ID": "16",
                                    "mettol": "2016-06-03",
                                    "átlagos előző 5 foglalás létszám": "4"
                                },
                                {
                                    "SZALLAS_NEV": "Családi Ház",
                                    "SZOBA_ID": "16",
                                    "mettol": "2016-06-20",
                                    "átlagos előző 5 foglalás létszám": "3"
                                },
                                {
                                    "SZALLAS_NEV": "Családi Ház",
                                    "SZOBA_ID": "16",
                                    "mettol": "2016-07-18",
                                    "átlagos előző 5 foglalás létszám": "3"
                                },
                                {
                                    "SZALLAS_NEV": "Családi Ház",
                                    "SZOBA_ID": "16",
                                    "mettol": "2017-02-04",
                                    "átlagos előző 5 foglalás létszám": "3"
                                },
                                {
                                    "SZALLAS_NEV": "Fortuna Apartman",
                                    "SZOBA_ID": "17",
                                    "mettol": "2016-04-26",
                                    "átlagos előző 5 foglalás létszám": "NULL"
                                },
                                {
                                    "SZALLAS_NEV": "Fortuna Apartman",
                                    "SZOBA_ID": "17",
                                    "mettol": "2016-06-06",
                                    "átlagos előző 5 foglalás létszám": "4"
                                },
                                {
                                    "SZALLAS_NEV": "Fortuna Apartman",
                                    "SZOBA_ID": "17",
                                    "mettol": "2016-07-24",
                                    "átlagos előző 5 foglalás létszám": "3"
                                },
                                {
                                    "SZALLAS_NEV": "Fortuna Apartman",
                                    "SZOBA_ID": "17",
                                    "mettol": "2016-08-01",
                                    "átlagos előző 5 foglalás létszám": "3"
                                },
                                {
                                    "SZALLAS_NEV": "Fortuna Apartman",
                                    "SZOBA_ID": "17",
                                    "mettol": "2016-11-25",
                                    "átlagos előző 5 foglalás létszám": "2"
                                },
                                {
                                    "SZALLAS_NEV": "Fortuna Apartman",
                                    "SZOBA_ID": "17",
                                    "mettol": "2017-02-18",
                                    "átlagos előző 5 foglalás létszám": "2"
                                },
                                {
                                    "SZALLAS_NEV": "Fortuna Apartman",
                                    "SZOBA_ID": "18",
                                    "mettol": "2016-05-08",
                                    "átlagos előző 5 foglalás létszám": "NULL"
                                },
                                {
                                    "SZALLAS_NEV": "Fortuna Apartman",
                                    "SZOBA_ID": "18",
                                    "mettol": "2016-08-11",
                                    "átlagos előző 5 foglalás létszám": "2"
                                },
                                {
                                    "SZALLAS_NEV": "Fortuna Apartman",
                                    "SZOBA_ID": "18",
                                    "mettol": "2016-09-07",
                                    "átlagos előző 5 foglalás létszám": "2"
                                },
                                {
                                    "SZALLAS_NEV": "Fortuna Apartman",
                                    "SZOBA_ID": "18",
                                    "mettol": "2016-10-21",
                                    "átlagos előző 5 foglalás létszám": "2"
                                },
                                {
                                    "SZALLAS_NEV": "Fortuna Apartman",
                                    "SZOBA_ID": "18",
                                    "mettol": "2016-10-26",
                                    "átlagos előző 5 foglalás létszám": "3"
                                },
                                {
                                    "SZALLAS_NEV": "Fortuna Apartman",
                                    "SZOBA_ID": "18",
                                    "mettol": "2017-02-06",
                                    "átlagos előző 5 foglalás létszám": "2"
                                },
                                {
                                    "SZALLAS_NEV": "Fortuna Apartman",
                                    "SZOBA_ID": "19",
                                    "mettol": "2016-06-10",
                                    "átlagos előző 5 foglalás létszám": "NULL"
                                },
                                {
                                    "SZALLAS_NEV": "Fortuna Apartman",
                                    "SZOBA_ID": "19",
                                    "mettol": "2016-07-20",
                                    "átlagos előző 5 foglalás létszám": "1"
                                },
                                {
                                    "SZALLAS_NEV": "Fortuna Apartman",
                                    "SZOBA_ID": "19",
                                    "mettol": "2016-08-14",
                                    "átlagos előző 5 foglalás létszám": "2"
                                },
                                {
                                    "SZALLAS_NEV": "Fortuna Apartman",
                                    "SZOBA_ID": "19",
                                    "mettol": "2016-10-09",
                                    "átlagos előző 5 foglalás létszám": "2"
                                },
                                {
                                    "SZALLAS_NEV": "Fortuna Apartman",
                                    "SZOBA_ID": "19",
                                    "mettol": "2016-11-02",
                                    "átlagos előző 5 foglalás létszám": "2"
                                },
                                {
                                    "SZALLAS_NEV": "Fortuna Apartman",
                                    "SZOBA_ID": "19",
                                    "mettol": "2017-02-14",
                                    "átlagos előző 5 foglalás létszám": "2"
                                },
                                {
                                    "SZALLAS_NEV": "Fortuna Apartman",
                                    "SZOBA_ID": "20",
                                    "mettol": "2016-08-04",
                                    "átlagos előző 5 foglalás létszám": "NULL"
                                },
                                {
                                    "SZALLAS_NEV": "Fortuna Apartman",
                                    "SZOBA_ID": "20",
                                    "mettol": "2016-08-24",
                                    "átlagos előző 5 foglalás létszám": "1"
                                },
                                {
                                    "SZALLAS_NEV": "Fortuna Apartman",
                                    "SZOBA_ID": "20",
                                    "mettol": "2016-09-19",
                                    "átlagos előző 5 foglalás létszám": "2"
                                },
                                {
                                    "SZALLAS_NEV": "Fortuna Apartman",
                                    "SZOBA_ID": "20",
                                    "mettol": "2016-10-01",
                                    "átlagos előző 5 foglalás létszám": "2"
                                },
                                {
                                    "SZALLAS_NEV": "Fortuna Apartman",
                                    "SZOBA_ID": "20",
                                    "mettol": "2016-10-01",
                                    "átlagos előző 5 foglalás létszám": "2"
                                },
                                {
                                    "SZALLAS_NEV": "Fortuna Apartman",
                                    "SZOBA_ID": "21",
                                    "mettol": "2016-04-09",
                                    "átlagos előző 5 foglalás létszám": "NULL"
                                },
                                {
                                    "SZALLAS_NEV": "Fortuna Apartman",
                                    "SZOBA_ID": "21",
                                    "mettol": "2016-05-21",
                                    "átlagos előző 5 foglalás létszám": "2"
                                },
                                {
                                    "SZALLAS_NEV": "Fortuna Apartman",
                                    "SZOBA_ID": "21",
                                    "mettol": "2016-08-21",
                                    "átlagos előző 5 foglalás létszám": "2"
                                },
                                {
                                    "SZALLAS_NEV": "Fortuna Apartman",
                                    "SZOBA_ID": "21",
                                    "mettol": "2016-10-28",
                                    "átlagos előző 5 foglalás létszám": "2"
                                },
                                {
                                    "SZALLAS_NEV": "Fortuna Apartman",
                                    "SZOBA_ID": "22",
                                    "mettol": "2016-06-04",
                                    "átlagos előző 5 foglalás létszám": "NULL"
                                },
                                {
                                    "SZALLAS_NEV": "Fortuna Apartman",
                                    "SZOBA_ID": "22",
                                    "mettol": "2016-07-03",
                                    "átlagos előző 5 foglalás létszám": "2"
                                },
                                {
                                    "SZALLAS_NEV": "Fortuna Apartman",
                                    "SZOBA_ID": "22",
                                    "mettol": "2016-10-08",
                                    "átlagos előző 5 foglalás létszám": "1"
                                },
                                {
                                    "SZALLAS_NEV": "Fortuna Apartman",
                                    "SZOBA_ID": "22",
                                    "mettol": "2016-10-26",
                                    "átlagos előző 5 foglalás létszám": "2"
                                },
                                {
                                    "SZALLAS_NEV": "Fortuna Apartman",
                                    "SZOBA_ID": "22",
                                    "mettol": "2016-10-27",
                                    "átlagos előző 5 foglalás létszám": "3"
                                },
                                {
                                    "SZALLAS_NEV": "Fortuna Apartman",
                                    "SZOBA_ID": "22",
                                    "mettol": "2016-11-17",
                                    "átlagos előző 5 foglalás létszám": "3"
                                },
                                {
                                    "SZALLAS_NEV": "Fortuna Apartman",
                                    "SZOBA_ID": "23",
                                    "mettol": "2016-06-08",
                                    "átlagos előző 5 foglalás létszám": "NULL"
                                },
                                {
                                    "SZALLAS_NEV": "Fortuna Apartman",
                                    "SZOBA_ID": "23",
                                    "mettol": "2016-06-10",
                                    "átlagos előző 5 foglalás létszám": "2"
                                },
                                {
                                    "SZALLAS_NEV": "Fortuna Apartman",
                                    "SZOBA_ID": "23",
                                    "mettol": "2016-09-04",
                                    "átlagos előző 5 foglalás létszám": "1"
                                },
                                {
                                    "SZALLAS_NEV": "Fortuna Apartman",
                                    "SZOBA_ID": "24",
                                    "mettol": "2016-05-23",
                                    "átlagos előző 5 foglalás létszám": "NULL"
                                },
                                {
                                    "SZALLAS_NEV": "Fortuna Apartman",
                                    "SZOBA_ID": "24",
                                    "mettol": "2016-10-19",
                                    "átlagos előző 5 foglalás létszám": "1"
                                },
                                {
                                    "SZALLAS_NEV": "Fortuna Apartman",
                                    "SZOBA_ID": "24",
                                    "mettol": "2017-01-03",
                                    "átlagos előző 5 foglalás létszám": "2"
                                },
                                {
                                    "SZALLAS_NEV": "Fortuna panzió",
                                    "SZOBA_ID": "25",
                                    "mettol": "2016-09-14",
                                    "átlagos előző 5 foglalás létszám": "NULL"
                                },
                                {
                                    "SZALLAS_NEV": "Fortuna panzió",
                                    "SZOBA_ID": "25",
                                    "mettol": "2016-12-14",
                                    "átlagos előző 5 foglalás létszám": "3"
                                },
                                {
                                    "SZALLAS_NEV": "Fortuna panzió",
                                    "SZOBA_ID": "26",
                                    "mettol": "2016-10-16",
                                    "átlagos előző 5 foglalás létszám": "NULL"
                                },
                                {
                                    "SZALLAS_NEV": "Fortuna panzió",
                                    "SZOBA_ID": "26",
                                    "mettol": "2016-12-24",
                                    "átlagos előző 5 foglalás létszám": "3"
                                },
                                {
                                    "SZALLAS_NEV": "Fortuna panzió",
                                    "SZOBA_ID": "27",
                                    "mettol": "2016-08-05",
                                    "átlagos előző 5 foglalás létszám": "NULL"
                                },
                                {
                                    "SZALLAS_NEV": "Fortuna panzió",
                                    "SZOBA_ID": "27",
                                    "mettol": "2016-08-22",
                                    "átlagos előző 5 foglalás létszám": "4"
                                },
                                {
                                    "SZALLAS_NEV": "Fortuna panzió",
                                    "SZOBA_ID": "27",
                                    "mettol": "2016-09-05",
                                    "átlagos előző 5 foglalás létszám": "3"
                                },
                                {
                                    "SZALLAS_NEV": "Fortuna panzió",
                                    "SZOBA_ID": "27",
                                    "mettol": "2016-09-26",
                                    "átlagos előző 5 foglalás létszám": "3"
                                },
                                {
                                    "SZALLAS_NEV": "Fortuna panzió",
                                    "SZOBA_ID": "27",
                                    "mettol": "2016-11-11",
                                    "átlagos előző 5 foglalás létszám": "3"
                                },
                                {
                                    "SZALLAS_NEV": "Fortuna panzió",
                                    "SZOBA_ID": "27",
                                    "mettol": "2016-12-18",
                                    "átlagos előző 5 foglalás létszám": "3"
                                },
                                {
                                    "SZALLAS_NEV": "Fortuna panzió",
                                    "SZOBA_ID": "27",
                                    "mettol": "2017-01-27",
                                    "átlagos előző 5 foglalás létszám": "3"
                                },
                                {
                                    "SZALLAS_NEV": "Fortuna panzió",
                                    "SZOBA_ID": "28",
                                    "mettol": "2016-05-29",
                                    "átlagos előző 5 foglalás létszám": "NULL"
                                },
                                {
                                    "SZALLAS_NEV": "Fortuna panzió",
                                    "SZOBA_ID": "28",
                                    "mettol": "2016-06-01",
                                    "átlagos előző 5 foglalás létszám": "1"
                                },
                                {
                                    "SZALLAS_NEV": "Fortuna panzió",
                                    "SZOBA_ID": "28",
                                    "mettol": "2016-06-04",
                                    "átlagos előző 5 foglalás létszám": "1"
                                },
                                {
                                    "SZALLAS_NEV": "Fortuna panzió",
                                    "SZOBA_ID": "28",
                                    "mettol": "2016-07-27",
                                    "átlagos előző 5 foglalás létszám": "1"
                                },
                                {
                                    "SZALLAS_NEV": "Fortuna panzió",
                                    "SZOBA_ID": "28",
                                    "mettol": "2016-10-13",
                                    "átlagos előző 5 foglalás létszám": "1"
                                },
                                {
                                    "SZALLAS_NEV": "Fortuna panzió",
                                    "SZOBA_ID": "28",
                                    "mettol": "2017-01-20",
                                    "átlagos előző 5 foglalás létszám": "2"
                                },
                                {
                                    "SZALLAS_NEV": "Fortuna panzió",
                                    "SZOBA_ID": "29",
                                    "mettol": "2016-05-01",
                                    "átlagos előző 5 foglalás létszám": "NULL"
                                },
                                {
                                    "SZALLAS_NEV": "Fortuna panzió",
                                    "SZOBA_ID": "29",
                                    "mettol": "2016-06-03",
                                    "átlagos előző 5 foglalás létszám": "2"
                                },
                                {
                                    "SZALLAS_NEV": "Fortuna panzió",
                                    "SZOBA_ID": "29",
                                    "mettol": "2016-09-23",
                                    "átlagos előző 5 foglalás létszám": "2"
                                },
                                {
                                    "SZALLAS_NEV": "Fortuna panzió",
                                    "SZOBA_ID": "29",
                                    "mettol": "2016-10-23",
                                    "átlagos előző 5 foglalás létszám": "2"
                                },
                                {
                                    "SZALLAS_NEV": "Fortuna panzió",
                                    "SZOBA_ID": "29",
                                    "mettol": "2016-11-01",
                                    "átlagos előző 5 foglalás létszám": "2"
                                },
                                {
                                    "SZALLAS_NEV": "Fortuna panzió",
                                    "SZOBA_ID": "29",
                                    "mettol": "2017-02-24",
                                    "átlagos előző 5 foglalás létszám": "2"
                                },
                                {
                                    "SZALLAS_NEV": "Fortuna panzió",
                                    "SZOBA_ID": "30",
                                    "mettol": "2016-04-27",
                                    "átlagos előző 5 foglalás létszám": "NULL"
                                },
                                {
                                    "SZALLAS_NEV": "Fortuna panzió",
                                    "SZOBA_ID": "30",
                                    "mettol": "2016-07-10",
                                    "átlagos előző 5 foglalás létszám": "2"
                                },
                                {
                                    "SZALLAS_NEV": "Fortuna panzió",
                                    "SZOBA_ID": "30",
                                    "mettol": "2016-10-09",
                                    "átlagos előző 5 foglalás létszám": "2"
                                },
                                {
                                    "SZALLAS_NEV": "Fortuna panzió",
                                    "SZOBA_ID": "31",
                                    "mettol": "2016-04-24",
                                    "átlagos előző 5 foglalás létszám": "NULL"
                                },
                                {
                                    "SZALLAS_NEV": "Fortuna panzió",
                                    "SZOBA_ID": "31",
                                    "mettol": "2016-04-27",
                                    "átlagos előző 5 foglalás létszám": "4"
                                },
                                {
                                    "SZALLAS_NEV": "Fortuna panzió",
                                    "SZOBA_ID": "31",
                                    "mettol": "2016-07-27",
                                    "átlagos előző 5 foglalás létszám": "4"
                                },
                                {
                                    "SZALLAS_NEV": "Fortuna panzió",
                                    "SZOBA_ID": "32",
                                    "mettol": "2016-06-06",
                                    "átlagos előző 5 foglalás létszám": "NULL"
                                },
                                {
                                    "SZALLAS_NEV": "Fortuna panzió",
                                    "SZOBA_ID": "33",
                                    "mettol": "2016-05-08",
                                    "átlagos előző 5 foglalás létszám": "NULL"
                                },
                                {
                                    "SZALLAS_NEV": "Fortuna panzió",
                                    "SZOBA_ID": "33",
                                    "mettol": "2016-07-05",
                                    "átlagos előző 5 foglalás létszám": "4"
                                },
                                {
                                    "SZALLAS_NEV": "Fortuna panzió",
                                    "SZOBA_ID": "33",
                                    "mettol": "2016-09-15",
                                    "átlagos előző 5 foglalás létszám": "3"
                                },
                                {
                                    "SZALLAS_NEV": "Fortuna panzió",
                                    "SZOBA_ID": "33",
                                    "mettol": "2016-11-25",
                                    "átlagos előző 5 foglalás létszám": "3"
                                },
                                {
                                    "SZALLAS_NEV": "Fortuna panzió",
                                    "SZOBA_ID": "33",
                                    "mettol": "2016-12-05",
                                    "átlagos előző 5 foglalás létszám": "3"
                                },
                                {
                                    "SZALLAS_NEV": "Fortuna panzió",
                                    "SZOBA_ID": "33",
                                    "mettol": "2016-12-21",
                                    "átlagos előző 5 foglalás létszám": "2"
                                },
                                {
                                    "SZALLAS_NEV": "Fortuna panzió",
                                    "SZOBA_ID": "34",
                                    "mettol": "2016-05-28",
                                    "átlagos előző 5 foglalás létszám": "NULL"
                                },
                                {
                                    "SZALLAS_NEV": "Fortuna panzió",
                                    "SZOBA_ID": "34",
                                    "mettol": "2016-06-04",
                                    "átlagos előző 5 foglalás létszám": "2"
                                },
                                {
                                    "SZALLAS_NEV": "Fortuna panzió",
                                    "SZOBA_ID": "34",
                                    "mettol": "2016-08-14",
                                    "átlagos előző 5 foglalás létszám": "1"
                                },
                                {
                                    "SZALLAS_NEV": "Fortuna panzió",
                                    "SZOBA_ID": "34",
                                    "mettol": "2016-08-24",
                                    "átlagos előző 5 foglalás létszám": "1"
                                },
                                {
                                    "SZALLAS_NEV": "Fortuna panzió",
                                    "SZOBA_ID": "35",
                                    "mettol": "2016-06-18",
                                    "átlagos előző 5 foglalás létszám": "NULL"
                                },
                                {
                                    "SZALLAS_NEV": "Fortuna panzió",
                                    "SZOBA_ID": "35",
                                    "mettol": "2016-06-22",
                                    "átlagos előző 5 foglalás létszám": "3"
                                },
                                {
                                    "SZALLAS_NEV": "Fortuna panzió",
                                    "SZOBA_ID": "35",
                                    "mettol": "2016-07-18",
                                    "átlagos előző 5 foglalás létszám": "2"
                                },
                                {
                                    "SZALLAS_NEV": "Fortuna panzió",
                                    "SZOBA_ID": "35",
                                    "mettol": "2016-07-23",
                                    "átlagos előző 5 foglalás létszám": "2"
                                },
                                {
                                    "SZALLAS_NEV": "Fortuna panzió",
                                    "SZOBA_ID": "35",
                                    "mettol": "2016-08-28",
                                    "átlagos előző 5 foglalás létszám": "2"
                                },
                                {
                                    "SZALLAS_NEV": "Fortuna panzió",
                                    "SZOBA_ID": "35",
                                    "mettol": "2016-12-29",
                                    "átlagos előző 5 foglalás létszám": "2"
                                },
                                {
                                    "SZALLAS_NEV": "Fortuna panzió",
                                    "SZOBA_ID": "35",
                                    "mettol": "2017-01-01",
                                    "átlagos előző 5 foglalás létszám": "2"
                                },
                                {
                                    "SZALLAS_NEV": "Fortuna panzió",
                                    "SZOBA_ID": "35",
                                    "mettol": "2017-01-13",
                                    "átlagos előző 5 foglalás létszám": "2"
                                },
                                {
                                    "SZALLAS_NEV": "Fortuna panzió",
                                    "SZOBA_ID": "35",
                                    "mettol": "2017-02-13",
                                    "átlagos előző 5 foglalás létszám": "2"
                                },
                                {
                                    "SZALLAS_NEV": "Fortuna panzió",
                                    "SZOBA_ID": "36",
                                    "mettol": "2016-06-03",
                                    "átlagos előző 5 foglalás létszám": "NULL"
                                },
                                {
                                    "SZALLAS_NEV": "Fortuna panzió",
                                    "SZOBA_ID": "36",
                                    "mettol": "2016-06-06",
                                    "átlagos előző 5 foglalás létszám": "5"
                                },
                                {
                                    "SZALLAS_NEV": "Fortuna panzió",
                                    "SZOBA_ID": "36",
                                    "mettol": "2016-06-24",
                                    "átlagos előző 5 foglalás létszám": "4"
                                },
                                {
                                    "SZALLAS_NEV": "Fortuna panzió",
                                    "SZOBA_ID": "36",
                                    "mettol": "2016-07-03",
                                    "átlagos előző 5 foglalás létszám": "4"
                                },
                                {
                                    "SZALLAS_NEV": "Fortuna panzió",
                                    "SZOBA_ID": "36",
                                    "mettol": "2016-08-02",
                                    "átlagos előző 5 foglalás létszám": "4"
                                },
                                {
                                    "SZALLAS_NEV": "Fortuna panzió",
                                    "SZOBA_ID": "36",
                                    "mettol": "2016-08-03",
                                    "átlagos előző 5 foglalás létszám": "4"
                                },
                                {
                                    "SZALLAS_NEV": "Fortuna panzió",
                                    "SZOBA_ID": "37",
                                    "mettol": "2016-07-19",
                                    "átlagos előző 5 foglalás létszám": "NULL"
                                },
                                {
                                    "SZALLAS_NEV": "Fortuna panzió",
                                    "SZOBA_ID": "37",
                                    "mettol": "2016-07-22",
                                    "átlagos előző 5 foglalás létszám": "2"
                                },
                                {
                                    "SZALLAS_NEV": "Fortuna panzió",
                                    "SZOBA_ID": "37",
                                    "mettol": "2016-12-01",
                                    "átlagos előző 5 foglalás létszám": "1"
                                },
                                {
                                    "SZALLAS_NEV": "Fortuna panzió",
                                    "SZOBA_ID": "38",
                                    "mettol": "2016-05-08",
                                    "átlagos előző 5 foglalás létszám": "NULL"
                                },
                                {
                                    "SZALLAS_NEV": "Fortuna panzió",
                                    "SZOBA_ID": "38",
                                    "mettol": "2016-09-05",
                                    "átlagos előző 5 foglalás létszám": "3"
                                },
                                {
                                    "SZALLAS_NEV": "Fortuna panzió",
                                    "SZOBA_ID": "38",
                                    "mettol": "2016-09-17",
                                    "átlagos előző 5 foglalás létszám": "3"
                                },
                                {
                                    "SZALLAS_NEV": "Fortuna panzió",
                                    "SZOBA_ID": "38",
                                    "mettol": "2016-09-23",
                                    "átlagos előző 5 foglalás létszám": "3"
                                },
                                {
                                    "SZALLAS_NEV": "Fortuna panzió",
                                    "SZOBA_ID": "38",
                                    "mettol": "2016-12-06",
                                    "átlagos előző 5 foglalás létszám": "3"
                                },
                                {
                                    "SZALLAS_NEV": "Fortuna panzió",
                                    "SZOBA_ID": "38",
                                    "mettol": "2017-01-03",
                                    "átlagos előző 5 foglalás létszám": "2"
                                },
                                {
                                    "SZALLAS_NEV": "Fortuna panzió",
                                    "SZOBA_ID": "38",
                                    "mettol": "2017-01-28",
                                    "átlagos előző 5 foglalás létszám": "2"
                                },
                                {
                                    "SZALLAS_NEV": "Fortuna panzió",
                                    "SZOBA_ID": "38",
                                    "mettol": "2017-02-21",
                                    "átlagos előző 5 foglalás létszám": "2"
                                },
                                {
                                    "SZALLAS_NEV": "Fortuna panzió",
                                    "SZOBA_ID": "39",
                                    "mettol": "2016-04-25",
                                    "átlagos előző 5 foglalás létszám": "NULL"
                                },
                                {
                                    "SZALLAS_NEV": "Fortuna panzió",
                                    "SZOBA_ID": "39",
                                    "mettol": "2016-06-03",
                                    "átlagos előző 5 foglalás létszám": "1"
                                },
                                {
                                    "SZALLAS_NEV": "Fortuna panzió",
                                    "SZOBA_ID": "39",
                                    "mettol": "2016-10-29",
                                    "átlagos előző 5 foglalás létszám": "1"
                                },
                                {
                                    "SZALLAS_NEV": "Fortuna panzió",
                                    "SZOBA_ID": "39",
                                    "mettol": "2016-12-20",
                                    "átlagos előző 5 foglalás létszám": "1"
                                },
                                {
                                    "SZALLAS_NEV": "Fortuna panzió",
                                    "SZOBA_ID": "39",
                                    "mettol": "2017-01-12",
                                    "átlagos előző 5 foglalás létszám": "1"
                                },
                                {
                                    "SZALLAS_NEV": "Fortuna panzió",
                                    "SZOBA_ID": "39",
                                    "mettol": "2017-01-18",
                                    "átlagos előző 5 foglalás létszám": "1"
                                },
                                {
                                    "SZALLAS_NEV": "Fortuna panzió",
                                    "SZOBA_ID": "39",
                                    "mettol": "2017-02-16",
                                    "átlagos előző 5 foglalás létszám": "2"
                                },
                                {
                                    "SZALLAS_NEV": "Fortuna Panzió",
                                    "SZOBA_ID": "40",
                                    "mettol": "2016-06-07",
                                    "átlagos előző 5 foglalás létszám": "NULL"
                                },
                                {
                                    "SZALLAS_NEV": "Fortuna Panzió",
                                    "SZOBA_ID": "40",
                                    "mettol": "2016-06-07",
                                    "átlagos előző 5 foglalás létszám": "3"
                                },
                                {
                                    "SZALLAS_NEV": "Fortuna Panzió",
                                    "SZOBA_ID": "40",
                                    "mettol": "2016-07-08",
                                    "átlagos előző 5 foglalás létszám": "3"
                                },
                                {
                                    "SZALLAS_NEV": "Fortuna Panzió",
                                    "SZOBA_ID": "40",
                                    "mettol": "2016-10-03",
                                    "átlagos előző 5 foglalás létszám": "2"
                                },
                                {
                                    "SZALLAS_NEV": "Fortuna Panzió",
                                    "SZOBA_ID": "41",
                                    "mettol": "2016-06-15",
                                    "átlagos előző 5 foglalás létszám": "NULL"
                                },
                                {
                                    "SZALLAS_NEV": "Fortuna Panzió",
                                    "SZOBA_ID": "41",
                                    "mettol": "2016-10-09",
                                    "átlagos előző 5 foglalás létszám": "3"
                                },
                                {
                                    "SZALLAS_NEV": "Fortuna Panzió",
                                    "SZOBA_ID": "42",
                                    "mettol": "2016-04-06",
                                    "átlagos előző 5 foglalás létszám": "NULL"
                                },
                                {
                                    "SZALLAS_NEV": "Fortuna Panzió",
                                    "SZOBA_ID": "42",
                                    "mettol": "2016-04-19",
                                    "átlagos előző 5 foglalás létszám": "2"
                                },
                                {
                                    "SZALLAS_NEV": "Fortuna Panzió",
                                    "SZOBA_ID": "42",
                                    "mettol": "2016-05-22",
                                    "átlagos előző 5 foglalás létszám": "2"
                                },
                                {
                                    "SZALLAS_NEV": "Fortuna Panzió",
                                    "SZOBA_ID": "42",
                                    "mettol": "2016-08-12",
                                    "átlagos előző 5 foglalás létszám": "2"
                                },
                                {
                                    "SZALLAS_NEV": "Fortuna Panzió",
                                    "SZOBA_ID": "42",
                                    "mettol": "2016-11-23",
                                    "átlagos előző 5 foglalás létszám": "2"
                                },
                                {
                                    "SZALLAS_NEV": "Fortuna Panzió",
                                    "SZOBA_ID": "42",
                                    "mettol": "2017-01-16",
                                    "átlagos előző 5 foglalás létszám": "2"
                                },
                                {
                                    "SZALLAS_NEV": "Fortuna Panzió",
                                    "SZOBA_ID": "43",
                                    "mettol": "2016-07-08",
                                    "átlagos előző 5 foglalás létszám": "NULL"
                                },
                                {
                                    "SZALLAS_NEV": "Fortuna Panzió",
                                    "SZOBA_ID": "43",
                                    "mettol": "2016-07-14",
                                    "átlagos előző 5 foglalás létszám": "3"
                                },
                                {
                                    "SZALLAS_NEV": "Fortuna Panzió",
                                    "SZOBA_ID": "43",
                                    "mettol": "2016-09-29",
                                    "átlagos előző 5 foglalás létszám": "2"
                                },
                                {
                                    "SZALLAS_NEV": "Fortuna Panzió",
                                    "SZOBA_ID": "43",
                                    "mettol": "2016-10-27",
                                    "átlagos előző 5 foglalás létszám": "2"
                                },
                                {
                                    "SZALLAS_NEV": "Fortuna Panzió",
                                    "SZOBA_ID": "43",
                                    "mettol": "2016-10-30",
                                    "átlagos előző 5 foglalás létszám": "2"
                                },
                                {
                                    "SZALLAS_NEV": "Fortuna Panzió",
                                    "SZOBA_ID": "43",
                                    "mettol": "2016-11-10",
                                    "átlagos előző 5 foglalás létszám": "2"
                                },
                                {
                                    "SZALLAS_NEV": "Fortuna Panzió",
                                    "SZOBA_ID": "43",
                                    "mettol": "2017-02-12",
                                    "átlagos előző 5 foglalás létszám": "2"
                                },
                                {
                                    "SZALLAS_NEV": "Fortuna Panzió",
                                    "SZOBA_ID": "43",
                                    "mettol": "2017-02-20",
                                    "átlagos előző 5 foglalás létszám": "2"
                                },
                                {
                                    "SZALLAS_NEV": "Fortuna Panzió",
                                    "SZOBA_ID": "44",
                                    "mettol": "2016-04-19",
                                    "átlagos előző 5 foglalás létszám": "NULL"
                                },
                                {
                                    "SZALLAS_NEV": "Fortuna Panzió",
                                    "SZOBA_ID": "44",
                                    "mettol": "2016-05-21",
                                    "átlagos előző 5 foglalás létszám": "3"
                                },
                                {
                                    "SZALLAS_NEV": "Fortuna Panzió",
                                    "SZOBA_ID": "44",
                                    "mettol": "2016-08-25",
                                    "átlagos előző 5 foglalás létszám": "3"
                                },
                                {
                                    "SZALLAS_NEV": "Fortuna Panzió",
                                    "SZOBA_ID": "44",
                                    "mettol": "2016-11-19",
                                    "átlagos előző 5 foglalás létszám": "3"
                                },
                                {
                                    "SZALLAS_NEV": "Fortuna Panzió",
                                    "SZOBA_ID": "44",
                                    "mettol": "2017-01-08",
                                    "átlagos előző 5 foglalás létszám": "3"
                                },
                                {
                                    "SZALLAS_NEV": "Fortuna Panzió",
                                    "SZOBA_ID": "44",
                                    "mettol": "2017-02-20",
                                    "átlagos előző 5 foglalás létszám": "3"
                                },
                                {
                                    "SZALLAS_NEV": "Fortuna Panzió",
                                    "SZOBA_ID": "45",
                                    "mettol": "2016-08-20",
                                    "átlagos előző 5 foglalás létszám": "NULL"
                                },
                                {
                                    "SZALLAS_NEV": "Fortuna Panzió",
                                    "SZOBA_ID": "45",
                                    "mettol": "2016-08-20",
                                    "átlagos előző 5 foglalás létszám": "2"
                                },
                                {
                                    "SZALLAS_NEV": "Fortuna Panzió",
                                    "SZOBA_ID": "45",
                                    "mettol": "2016-09-02",
                                    "átlagos előző 5 foglalás létszám": "2"
                                },
                                {
                                    "SZALLAS_NEV": "Fortuna Panzió",
                                    "SZOBA_ID": "45",
                                    "mettol": "2016-10-09",
                                    "átlagos előző 5 foglalás létszám": "1"
                                },
                                {
                                    "SZALLAS_NEV": "Fortuna Panzió",
                                    "SZOBA_ID": "45",
                                    "mettol": "2016-11-22",
                                    "átlagos előző 5 foglalás létszám": "1"
                                },
                                {
                                    "SZALLAS_NEV": "Fortuna Panzió",
                                    "SZOBA_ID": "46",
                                    "mettol": "2016-08-03",
                                    "átlagos előző 5 foglalás létszám": "NULL"
                                },
                                {
                                    "SZALLAS_NEV": "Fortuna Panzió",
                                    "SZOBA_ID": "46",
                                    "mettol": "2016-10-23",
                                    "átlagos előző 5 foglalás létszám": "2"
                                },
                                {
                                    "SZALLAS_NEV": "Fortuna Panzió",
                                    "SZOBA_ID": "46",
                                    "mettol": "2016-11-19",
                                    "átlagos előző 5 foglalás létszám": "1"
                                },
                                {
                                    "SZALLAS_NEV": "Fortuna Panzió",
                                    "SZOBA_ID": "46",
                                    "mettol": "2017-02-10",
                                    "átlagos előző 5 foglalás létszám": "1"
                                },
                                {
                                    "SZALLAS_NEV": "Fortuna Panzió",
                                    "SZOBA_ID": "47",
                                    "mettol": "2016-06-13",
                                    "átlagos előző 5 foglalás létszám": "NULL"
                                },
                                {
                                    "SZALLAS_NEV": "Fortuna Panzió",
                                    "SZOBA_ID": "47",
                                    "mettol": "2016-09-16",
                                    "átlagos előző 5 foglalás létszám": "1"
                                },
                                {
                                    "SZALLAS_NEV": "Fortuna Panzió",
                                    "SZOBA_ID": "48",
                                    "mettol": "2016-04-26",
                                    "átlagos előző 5 foglalás létszám": "NULL"
                                },
                                {
                                    "SZALLAS_NEV": "Fortuna Panzió",
                                    "SZOBA_ID": "48",
                                    "mettol": "2016-05-09",
                                    "átlagos előző 5 foglalás létszám": "3"
                                },
                                {
                                    "SZALLAS_NEV": "Fortuna Panzió",
                                    "SZOBA_ID": "48",
                                    "mettol": "2016-06-06",
                                    "átlagos előző 5 foglalás létszám": "3"
                                },
                                {
                                    "SZALLAS_NEV": "Fortuna Panzió",
                                    "SZOBA_ID": "48",
                                    "mettol": "2016-06-25",
                                    "átlagos előző 5 foglalás létszám": "3"
                                },
                                {
                                    "SZALLAS_NEV": "Fortuna Panzió",
                                    "SZOBA_ID": "48",
                                    "mettol": "2016-08-25",
                                    "átlagos előző 5 foglalás létszám": "3"
                                },
                                {
                                    "SZALLAS_NEV": "Fortuna Panzió",
                                    "SZOBA_ID": "48",
                                    "mettol": "2016-11-03",
                                    "átlagos előző 5 foglalás létszám": "3"
                                },
                                {
                                    "SZALLAS_NEV": "Fortuna Panzió",
                                    "SZOBA_ID": "48",
                                    "mettol": "2017-02-17",
                                    "átlagos előző 5 foglalás létszám": "3"
                                },
                                {
                                    "SZALLAS_NEV": "Fortuna Panzió",
                                    "SZOBA_ID": "48",
                                    "mettol": "2017-02-18",
                                    "átlagos előző 5 foglalás létszám": "3"
                                },
                                {
                                    "SZALLAS_NEV": "Fortuna Panzió",
                                    "SZOBA_ID": "48",
                                    "mettol": "2017-03-01",
                                    "átlagos előző 5 foglalás létszám": "3"
                                },
                                {
                                    "SZALLAS_NEV": "Fortuna Panzió",
                                    "SZOBA_ID": "49",
                                    "mettol": "2016-06-02",
                                    "átlagos előző 5 foglalás létszám": "NULL"
                                },
                                {
                                    "SZALLAS_NEV": "Fortuna Panzió",
                                    "SZOBA_ID": "49",
                                    "mettol": "2016-08-17",
                                    "átlagos előző 5 foglalás létszám": "3"
                                },
                                {
                                    "SZALLAS_NEV": "Fortuna Panzió",
                                    "SZOBA_ID": "49",
                                    "mettol": "2016-08-26",
                                    "átlagos előző 5 foglalás létszám": "3"
                                },
                                {
                                    "SZALLAS_NEV": "Fortuna Panzió",
                                    "SZOBA_ID": "49",
                                    "mettol": "2016-09-18",
                                    "átlagos előző 5 foglalás létszám": "2"
                                },
                                {
                                    "SZALLAS_NEV": "Fortuna Panzió",
                                    "SZOBA_ID": "49",
                                    "mettol": "2016-10-26",
                                    "átlagos előző 5 foglalás létszám": "2"
                                },
                                {
                                    "SZALLAS_NEV": "Fortuna Panzió",
                                    "SZOBA_ID": "49",
                                    "mettol": "2016-10-30",
                                    "átlagos előző 5 foglalás létszám": "2"
                                },
                                {
                                    "SZALLAS_NEV": "Fortuna Panzió",
                                    "SZOBA_ID": "49",
                                    "mettol": "2017-02-16",
                                    "átlagos előző 5 foglalás létszám": "2"
                                },
                                {
                                    "SZALLAS_NEV": "Kentaur Hotel",
                                    "SZOBA_ID": "50",
                                    "mettol": "2016-08-16",
                                    "átlagos előző 5 foglalás létszám": "NULL"
                                },
                                {
                                    "SZALLAS_NEV": "Kentaur Hotel",
                                    "SZOBA_ID": "50",
                                    "mettol": "2016-09-18",
                                    "átlagos előző 5 foglalás létszám": "1"
                                },
                                {
                                    "SZALLAS_NEV": "Kentaur Hotel",
                                    "SZOBA_ID": "50",
                                    "mettol": "2016-10-30",
                                    "átlagos előző 5 foglalás létszám": "1"
                                },
                                {
                                    "SZALLAS_NEV": "Kentaur Hotel",
                                    "SZOBA_ID": "50",
                                    "mettol": "2016-11-10",
                                    "átlagos előző 5 foglalás létszám": "1"
                                },
                                {
                                    "SZALLAS_NEV": "Kentaur Hotel",
                                    "SZOBA_ID": "51",
                                    "mettol": "2016-05-28",
                                    "átlagos előző 5 foglalás létszám": "NULL"
                                },
                                {
                                    "SZALLAS_NEV": "Kentaur Hotel",
                                    "SZOBA_ID": "51",
                                    "mettol": "2016-08-23",
                                    "átlagos előző 5 foglalás létszám": "2"
                                },
                                {
                                    "SZALLAS_NEV": "Kentaur Hotel",
                                    "SZOBA_ID": "51",
                                    "mettol": "2016-10-19",
                                    "átlagos előző 5 foglalás létszám": "2"
                                },
                                {
                                    "SZALLAS_NEV": "Kentaur Hotel",
                                    "SZOBA_ID": "51",
                                    "mettol": "2017-01-28",
                                    "átlagos előző 5 foglalás létszám": "2"
                                },
                                {
                                    "SZALLAS_NEV": "Kentaur Hotel",
                                    "SZOBA_ID": "51",
                                    "mettol": "2017-02-18",
                                    "átlagos előző 5 foglalás létszám": "2"
                                },
                                {
                                    "SZALLAS_NEV": "Kentaur Hotel",
                                    "SZOBA_ID": "52",
                                    "mettol": "2016-08-24",
                                    "átlagos előző 5 foglalás létszám": "NULL"
                                },
                                {
                                    "SZALLAS_NEV": "Kentaur Hotel",
                                    "SZOBA_ID": "52",
                                    "mettol": "2016-10-26",
                                    "átlagos előző 5 foglalás létszám": "2"
                                },
                                {
                                    "SZALLAS_NEV": "Kentaur Hotel",
                                    "SZOBA_ID": "52",
                                    "mettol": "2016-11-07",
                                    "átlagos előző 5 foglalás létszám": "1"
                                },
                                {
                                    "SZALLAS_NEV": "Kentaur Hotel",
                                    "SZOBA_ID": "52",
                                    "mettol": "2017-01-10",
                                    "átlagos előző 5 foglalás létszám": "1"
                                },
                                {
                                    "SZALLAS_NEV": "Kentaur Hotel",
                                    "SZOBA_ID": "52",
                                    "mettol": "2017-02-14",
                                    "átlagos előző 5 foglalás létszám": "1"
                                },
                                {
                                    "SZALLAS_NEV": "Kentaur Hotel",
                                    "SZOBA_ID": "53",
                                    "mettol": "2016-05-24",
                                    "átlagos előző 5 foglalás létszám": "NULL"
                                },
                                {
                                    "SZALLAS_NEV": "Kentaur Hotel",
                                    "SZOBA_ID": "53",
                                    "mettol": "2016-06-26",
                                    "átlagos előző 5 foglalás létszám": "3"
                                },
                                {
                                    "SZALLAS_NEV": "Kentaur Hotel",
                                    "SZOBA_ID": "54",
                                    "mettol": "2016-05-07",
                                    "átlagos előző 5 foglalás létszám": "NULL"
                                },
                                {
                                    "SZALLAS_NEV": "Kentaur Hotel",
                                    "SZOBA_ID": "54",
                                    "mettol": "2016-05-13",
                                    "átlagos előző 5 foglalás létszám": "2"
                                },
                                {
                                    "SZALLAS_NEV": "Kentaur Hotel",
                                    "SZOBA_ID": "54",
                                    "mettol": "2016-06-02",
                                    "átlagos előző 5 foglalás létszám": "2"
                                },
                                {
                                    "SZALLAS_NEV": "Kentaur Hotel",
                                    "SZOBA_ID": "54",
                                    "mettol": "2016-07-14",
                                    "átlagos előző 5 foglalás létszám": "2"
                                },
                                {
                                    "SZALLAS_NEV": "Kentaur Hotel",
                                    "SZOBA_ID": "54",
                                    "mettol": "2016-09-30",
                                    "átlagos előző 5 foglalás létszám": "2"
                                },
                                {
                                    "SZALLAS_NEV": "Kentaur Hotel",
                                    "SZOBA_ID": "54",
                                    "mettol": "2016-11-28",
                                    "átlagos előző 5 foglalás létszám": "2"
                                },
                                {
                                    "SZALLAS_NEV": "Kentaur Hotel",
                                    "SZOBA_ID": "55",
                                    "mettol": "2016-07-28",
                                    "átlagos előző 5 foglalás létszám": "NULL"
                                },
                                {
                                    "SZALLAS_NEV": "Kentaur Hotel",
                                    "SZOBA_ID": "55",
                                    "mettol": "2016-09-28",
                                    "átlagos előző 5 foglalás létszám": "3"
                                },
                                {
                                    "SZALLAS_NEV": "Kentaur Hotel",
                                    "SZOBA_ID": "55",
                                    "mettol": "2016-10-17",
                                    "átlagos előző 5 foglalás létszám": "2"
                                },
                                {
                                    "SZALLAS_NEV": "Kentaur Hotel",
                                    "SZOBA_ID": "55",
                                    "mettol": "2016-10-30",
                                    "átlagos előző 5 foglalás létszám": "2"
                                },
                                {
                                    "SZALLAS_NEV": "Kentaur Hotel",
                                    "SZOBA_ID": "55",
                                    "mettol": "2016-11-28",
                                    "átlagos előző 5 foglalás létszám": "2"
                                },
                                {
                                    "SZALLAS_NEV": "Kentaur Hotel",
                                    "SZOBA_ID": "55",
                                    "mettol": "2016-12-24",
                                    "átlagos előző 5 foglalás létszám": "2"
                                },
                                {
                                    "SZALLAS_NEV": "Kentaur Hotel",
                                    "SZOBA_ID": "55",
                                    "mettol": "2017-02-08",
                                    "átlagos előző 5 foglalás létszám": "2"
                                },
                                {
                                    "SZALLAS_NEV": "Kentaur Hotel",
                                    "SZOBA_ID": "55",
                                    "mettol": "2017-02-12",
                                    "átlagos előző 5 foglalás létszám": "2"
                                },
                                {
                                    "SZALLAS_NEV": "Kentaur Hotel",
                                    "SZOBA_ID": "56",
                                    "mettol": "2016-06-08",
                                    "átlagos előző 5 foglalás létszám": "NULL"
                                },
                                {
                                    "SZALLAS_NEV": "Kentaur Hotel",
                                    "SZOBA_ID": "56",
                                    "mettol": "2016-08-29",
                                    "átlagos előző 5 foglalás létszám": "1"
                                },
                                {
                                    "SZALLAS_NEV": "Kentaur Hotel",
                                    "SZOBA_ID": "57",
                                    "mettol": "2016-12-06",
                                    "átlagos előző 5 foglalás létszám": "NULL"
                                },
                                {
                                    "SZALLAS_NEV": "Kentaur Hotel",
                                    "SZOBA_ID": "57",
                                    "mettol": "2016-12-25",
                                    "átlagos előző 5 foglalás létszám": "2"
                                },
                                {
                                    "SZALLAS_NEV": "Kentaur Hotel",
                                    "SZOBA_ID": "57",
                                    "mettol": "2017-01-22",
                                    "átlagos előző 5 foglalás létszám": "2"
                                },
                                {
                                    "SZALLAS_NEV": "Kentaur Hotel",
                                    "SZOBA_ID": "57",
                                    "mettol": "2017-02-06",
                                    "átlagos előző 5 foglalás létszám": "1"
                                },
                                {
                                    "SZALLAS_NEV": "Kentaur Hotel",
                                    "SZOBA_ID": "58",
                                    "mettol": "2016-05-30",
                                    "átlagos előző 5 foglalás létszám": "NULL"
                                },
                                {
                                    "SZALLAS_NEV": "Kentaur Hotel",
                                    "SZOBA_ID": "58",
                                    "mettol": "2016-07-27",
                                    "átlagos előző 5 foglalás létszám": "2"
                                },
                                {
                                    "SZALLAS_NEV": "Kentaur Hotel",
                                    "SZOBA_ID": "58",
                                    "mettol": "2016-08-12",
                                    "átlagos előző 5 foglalás létszám": "2"
                                },
                                {
                                    "SZALLAS_NEV": "Kentaur Hotel",
                                    "SZOBA_ID": "58",
                                    "mettol": "2016-10-01",
                                    "átlagos előző 5 foglalás létszám": "2"
                                },
                                {
                                    "SZALLAS_NEV": "Kentaur Hotel",
                                    "SZOBA_ID": "58",
                                    "mettol": "2016-10-23",
                                    "átlagos előző 5 foglalás létszám": "2"
                                },
                                {
                                    "SZALLAS_NEV": "Kentaur Hotel",
                                    "SZOBA_ID": "58",
                                    "mettol": "2016-10-28",
                                    "átlagos előző 5 foglalás létszám": "2"
                                },
                                {
                                    "SZALLAS_NEV": "Kentaur Hotel",
                                    "SZOBA_ID": "58",
                                    "mettol": "2016-11-06",
                                    "átlagos előző 5 foglalás létszám": "2"
                                },
                                {
                                    "SZALLAS_NEV": "Kentaur Hotel",
                                    "SZOBA_ID": "58",
                                    "mettol": "2016-11-07",
                                    "átlagos előző 5 foglalás létszám": "2"
                                },
                                {
                                    "SZALLAS_NEV": "Kentaur Hotel",
                                    "SZOBA_ID": "58",
                                    "mettol": "2016-11-16",
                                    "átlagos előző 5 foglalás létszám": "2"
                                },
                                {
                                    "SZALLAS_NEV": "Kentaur Hotel",
                                    "SZOBA_ID": "58",
                                    "mettol": "2016-11-19",
                                    "átlagos előző 5 foglalás létszám": "2"
                                },
                                {
                                    "SZALLAS_NEV": "Kentaur Hotel",
                                    "SZOBA_ID": "58",
                                    "mettol": "2016-11-23",
                                    "átlagos előző 5 foglalás létszám": "2"
                                },
                                {
                                    "SZALLAS_NEV": "Kentaur Hotel",
                                    "SZOBA_ID": "58",
                                    "mettol": "2016-11-26",
                                    "átlagos előző 5 foglalás létszám": "2"
                                },
                                {
                                    "SZALLAS_NEV": "Kentaur Hotel",
                                    "SZOBA_ID": "58",
                                    "mettol": "2017-01-17",
                                    "átlagos előző 5 foglalás létszám": "2"
                                },
                                {
                                    "SZALLAS_NEV": "Kentaur Hotel",
                                    "SZOBA_ID": "59",
                                    "mettol": "2016-09-25",
                                    "átlagos előző 5 foglalás létszám": "NULL"
                                },
                                {
                                    "SZALLAS_NEV": "Kentaur Hotel",
                                    "SZOBA_ID": "59",
                                    "mettol": "2016-09-28",
                                    "átlagos előző 5 foglalás létszám": "3"
                                },
                                {
                                    "SZALLAS_NEV": "Kentaur Hotel",
                                    "SZOBA_ID": "59",
                                    "mettol": "2016-10-20",
                                    "átlagos előző 5 foglalás létszám": "2"
                                },
                                {
                                    "SZALLAS_NEV": "Kentaur Hotel",
                                    "SZOBA_ID": "59",
                                    "mettol": "2016-10-25",
                                    "átlagos előző 5 foglalás létszám": "2"
                                },
                                {
                                    "SZALLAS_NEV": "Kentaur Hotel",
                                    "SZOBA_ID": "59",
                                    "mettol": "2016-11-03",
                                    "átlagos előző 5 foglalás létszám": "2"
                                },
                                {
                                    "SZALLAS_NEV": "Kentaur Hotel",
                                    "SZOBA_ID": "59",
                                    "mettol": "2016-11-17",
                                    "átlagos előző 5 foglalás létszám": "2"
                                },
                                {
                                    "SZALLAS_NEV": "Kentaur Hotel",
                                    "SZOBA_ID": "59",
                                    "mettol": "2017-02-26",
                                    "átlagos előző 5 foglalás létszám": "2"
                                },
                                {
                                    "SZALLAS_NEV": "Kentaur Hotel",
                                    "SZOBA_ID": "60",
                                    "mettol": "2016-07-16",
                                    "átlagos előző 5 foglalás létszám": "NULL"
                                },
                                {
                                    "SZALLAS_NEV": "Kentaur Hotel",
                                    "SZOBA_ID": "61",
                                    "mettol": "2016-07-21",
                                    "átlagos előző 5 foglalás létszám": "NULL"
                                },
                                {
                                    "SZALLAS_NEV": "Kentaur Hotel",
                                    "SZOBA_ID": "61",
                                    "mettol": "2016-08-05",
                                    "átlagos előző 5 foglalás létszám": "2"
                                },
                                {
                                    "SZALLAS_NEV": "Kentaur Hotel",
                                    "SZOBA_ID": "61",
                                    "mettol": "2016-10-11",
                                    "átlagos előző 5 foglalás létszám": "2"
                                },
                                {
                                    "SZALLAS_NEV": "Kentaur Hotel",
                                    "SZOBA_ID": "61",
                                    "mettol": "2016-10-29",
                                    "átlagos előző 5 foglalás létszám": "2"
                                },
                                {
                                    "SZALLAS_NEV": "Kentaur Hotel",
                                    "SZOBA_ID": "61",
                                    "mettol": "2017-02-04",
                                    "átlagos előző 5 foglalás létszám": "2"
                                },
                                {
                                    "SZALLAS_NEV": "Kentaur Hotel",
                                    "SZOBA_ID": "62",
                                    "mettol": "2016-06-08",
                                    "átlagos előző 5 foglalás létszám": "NULL"
                                },
                                {
                                    "SZALLAS_NEV": "Kentaur Hotel",
                                    "SZOBA_ID": "62",
                                    "mettol": "2016-06-09",
                                    "átlagos előző 5 foglalás létszám": "2"
                                },
                                {
                                    "SZALLAS_NEV": "Kentaur Hotel",
                                    "SZOBA_ID": "62",
                                    "mettol": "2016-07-21",
                                    "átlagos előző 5 foglalás létszám": "2"
                                },
                                {
                                    "SZALLAS_NEV": "Kentaur Hotel",
                                    "SZOBA_ID": "62",
                                    "mettol": "2016-09-26",
                                    "átlagos előző 5 foglalás létszám": "1"
                                },
                                {
                                    "SZALLAS_NEV": "Kentaur Hotel",
                                    "SZOBA_ID": "62",
                                    "mettol": "2017-01-09",
                                    "átlagos előző 5 foglalás létszám": "1"
                                },
                                {
                                    "SZALLAS_NEV": "Kentaur Hotel",
                                    "SZOBA_ID": "63",
                                    "mettol": "2016-05-08",
                                    "átlagos előző 5 foglalás létszám": "NULL"
                                },
                                {
                                    "SZALLAS_NEV": "Kentaur Hotel",
                                    "SZOBA_ID": "63",
                                    "mettol": "2016-06-02",
                                    "átlagos előző 5 foglalás létszám": "2"
                                },
                                {
                                    "SZALLAS_NEV": "Kentaur Hotel",
                                    "SZOBA_ID": "63",
                                    "mettol": "2016-08-12",
                                    "átlagos előző 5 foglalás létszám": "1"
                                },
                                {
                                    "SZALLAS_NEV": "Kentaur Hotel",
                                    "SZOBA_ID": "63",
                                    "mettol": "2016-09-02",
                                    "átlagos előző 5 foglalás létszám": "1"
                                },
                                {
                                    "SZALLAS_NEV": "Kentaur Hotel",
                                    "SZOBA_ID": "64",
                                    "mettol": "2016-05-30",
                                    "átlagos előző 5 foglalás létszám": "NULL"
                                },
                                {
                                    "SZALLAS_NEV": "Kentaur Hotel",
                                    "SZOBA_ID": "64",
                                    "mettol": "2016-10-05",
                                    "átlagos előző 5 foglalás létszám": "2"
                                },
                                {
                                    "SZALLAS_NEV": "Kentaur Hotel",
                                    "SZOBA_ID": "64",
                                    "mettol": "2016-10-31",
                                    "átlagos előző 5 foglalás létszám": "2"
                                },
                                {
                                    "SZALLAS_NEV": "Kentaur Hotel",
                                    "SZOBA_ID": "64",
                                    "mettol": "2017-01-16",
                                    "átlagos előző 5 foglalás létszám": "2"
                                },
                                {
                                    "SZALLAS_NEV": "Kentaur Hotel",
                                    "SZOBA_ID": "64",
                                    "mettol": "2017-01-22",
                                    "átlagos előző 5 foglalás létszám": "2"
                                },
                                {
                                    "SZALLAS_NEV": "Kentaur Hotel",
                                    "SZOBA_ID": "64",
                                    "mettol": "2017-03-02",
                                    "átlagos előző 5 foglalás létszám": "2"
                                },
                                {
                                    "SZALLAS_NEV": "Kentaur Hotel",
                                    "SZOBA_ID": "65",
                                    "mettol": "2016-05-17",
                                    "átlagos előző 5 foglalás létszám": "NULL"
                                },
                                {
                                    "SZALLAS_NEV": "Kentaur Hotel",
                                    "SZOBA_ID": "66",
                                    "mettol": "2016-06-10",
                                    "átlagos előző 5 foglalás létszám": "NULL"
                                },
                                {
                                    "SZALLAS_NEV": "Kentaur Hotel",
                                    "SZOBA_ID": "66",
                                    "mettol": "2016-07-29",
                                    "átlagos előző 5 foglalás létszám": "3"
                                },
                                {
                                    "SZALLAS_NEV": "Kentaur Hotel",
                                    "SZOBA_ID": "66",
                                    "mettol": "2016-11-01",
                                    "átlagos előző 5 foglalás létszám": "3"
                                },
                                {
                                    "SZALLAS_NEV": "Kentaur Hotel",
                                    "SZOBA_ID": "66",
                                    "mettol": "2016-11-08",
                                    "átlagos előző 5 foglalás létszám": "3"
                                },
                                {
                                    "SZALLAS_NEV": "Kentaur Hotel",
                                    "SZOBA_ID": "67",
                                    "mettol": "2016-05-12",
                                    "átlagos előző 5 foglalás létszám": "NULL"
                                },
                                {
                                    "SZALLAS_NEV": "Kentaur Hotel",
                                    "SZOBA_ID": "67",
                                    "mettol": "2016-05-14",
                                    "átlagos előző 5 foglalás létszám": "1"
                                },
                                {
                                    "SZALLAS_NEV": "Kentaur Hotel",
                                    "SZOBA_ID": "67",
                                    "mettol": "2016-05-30",
                                    "átlagos előző 5 foglalás létszám": "2"
                                },
                                {
                                    "SZALLAS_NEV": "Kentaur Hotel",
                                    "SZOBA_ID": "67",
                                    "mettol": "2016-12-22",
                                    "átlagos előző 5 foglalás létszám": "2"
                                },
                                {
                                    "SZALLAS_NEV": "Kentaur Hotel",
                                    "SZOBA_ID": "67",
                                    "mettol": "2017-03-01",
                                    "átlagos előző 5 foglalás létszám": "2"
                                },
                                {
                                    "SZALLAS_NEV": "Kentaur Hotel",
                                    "SZOBA_ID": "67",
                                    "mettol": "2017-03-03",
                                    "átlagos előző 5 foglalás létszám": "2"
                                },
                                {
                                    "SZALLAS_NEV": "Kentaur Hotel",
                                    "SZOBA_ID": "68",
                                    "mettol": "2016-04-07",
                                    "átlagos előző 5 foglalás létszám": "NULL"
                                },
                                {
                                    "SZALLAS_NEV": "Kentaur Hotel",
                                    "SZOBA_ID": "68",
                                    "mettol": "2016-07-12",
                                    "átlagos előző 5 foglalás létszám": "4"
                                },
                                {
                                    "SZALLAS_NEV": "Kentaur Hotel",
                                    "SZOBA_ID": "68",
                                    "mettol": "2016-11-27",
                                    "átlagos előző 5 foglalás létszám": "4"
                                },
                                {
                                    "SZALLAS_NEV": "Kentaur Hotel",
                                    "SZOBA_ID": "69",
                                    "mettol": "2016-05-31",
                                    "átlagos előző 5 foglalás létszám": "NULL"
                                },
                                {
                                    "SZALLAS_NEV": "Kentaur Hotel",
                                    "SZOBA_ID": "69",
                                    "mettol": "2016-09-15",
                                    "átlagos előző 5 foglalás létszám": "3"
                                },
                                {
                                    "SZALLAS_NEV": "Kentaur Hotel",
                                    "SZOBA_ID": "69",
                                    "mettol": "2016-10-30",
                                    "átlagos előző 5 foglalás létszám": "3"
                                },
                                {
                                    "SZALLAS_NEV": "Kentaur Hotel",
                                    "SZOBA_ID": "69",
                                    "mettol": "2016-11-05",
                                    "átlagos előző 5 foglalás létszám": "2"
                                },
                                {
                                    "SZALLAS_NEV": "Kentaur Hotel",
                                    "SZOBA_ID": "70",
                                    "mettol": "2016-04-17",
                                    "átlagos előző 5 foglalás létszám": "NULL"
                                },
                                {
                                    "SZALLAS_NEV": "Kentaur Hotel",
                                    "SZOBA_ID": "70",
                                    "mettol": "2016-05-27",
                                    "átlagos előző 5 foglalás létszám": "3"
                                },
                                {
                                    "SZALLAS_NEV": "Kentaur Hotel",
                                    "SZOBA_ID": "70",
                                    "mettol": "2016-07-03",
                                    "átlagos előző 5 foglalás létszám": "2"
                                },
                                {
                                    "SZALLAS_NEV": "Kentaur Hotel",
                                    "SZOBA_ID": "70",
                                    "mettol": "2016-07-22",
                                    "átlagos előző 5 foglalás létszám": "1"
                                },
                                {
                                    "SZALLAS_NEV": "Kentaur Hotel",
                                    "SZOBA_ID": "70",
                                    "mettol": "2016-08-24",
                                    "átlagos előző 5 foglalás létszám": "2"
                                },
                                {
                                    "SZALLAS_NEV": "Kentaur Hotel",
                                    "SZOBA_ID": "70",
                                    "mettol": "2016-09-30",
                                    "átlagos előző 5 foglalás létszám": "2"
                                },
                                {
                                    "SZALLAS_NEV": "Kentaur Hotel",
                                    "SZOBA_ID": "70",
                                    "mettol": "2016-10-07",
                                    "átlagos előző 5 foglalás létszám": "2"
                                },
                                {
                                    "SZALLAS_NEV": "Kentaur Hotel",
                                    "SZOBA_ID": "70",
                                    "mettol": "2016-11-27",
                                    "átlagos előző 5 foglalás létszám": "2"
                                },
                                {
                                    "SZALLAS_NEV": "Kentaur Hotel",
                                    "SZOBA_ID": "70",
                                    "mettol": "2016-11-30",
                                    "átlagos előző 5 foglalás létszám": "2"
                                },
                                {
                                    "SZALLAS_NEV": "Kentaur Hotel",
                                    "SZOBA_ID": "70",
                                    "mettol": "2016-12-15",
                                    "átlagos előző 5 foglalás létszám": "2"
                                },
                                {
                                    "SZALLAS_NEV": "Kentaur Hotel",
                                    "SZOBA_ID": "70",
                                    "mettol": "2017-01-19",
                                    "átlagos előző 5 foglalás létszám": "2"
                                },
                                {
                                    "SZALLAS_NEV": "Kentaur Hotel",
                                    "SZOBA_ID": "71",
                                    "mettol": "2016-07-04",
                                    "átlagos előző 5 foglalás létszám": "NULL"
                                },
                                {
                                    "SZALLAS_NEV": "Kentaur Hotel",
                                    "SZOBA_ID": "71",
                                    "mettol": "2016-07-18",
                                    "átlagos előző 5 foglalás létszám": "3"
                                },
                                {
                                    "SZALLAS_NEV": "Kentaur Hotel",
                                    "SZOBA_ID": "71",
                                    "mettol": "2016-07-24",
                                    "átlagos előző 5 foglalás létszám": "2"
                                },
                                {
                                    "SZALLAS_NEV": "Kentaur Hotel",
                                    "SZOBA_ID": "72",
                                    "mettol": "2016-06-04",
                                    "átlagos előző 5 foglalás létszám": "NULL"
                                },
                                {
                                    "SZALLAS_NEV": "Kentaur Hotel",
                                    "SZOBA_ID": "72",
                                    "mettol": "2016-06-16",
                                    "átlagos előző 5 foglalás létszám": "2"
                                },
                                {
                                    "SZALLAS_NEV": "Kentaur Hotel",
                                    "SZOBA_ID": "72",
                                    "mettol": "2016-11-25",
                                    "átlagos előző 5 foglalás létszám": "2"
                                },
                                {
                                    "SZALLAS_NEV": "Kentaur Hotel",
                                    "SZOBA_ID": "72",
                                    "mettol": "2016-12-25",
                                    "átlagos előző 5 foglalás létszám": "2"
                                },
                                {
                                    "SZALLAS_NEV": "Kentaur Hotel",
                                    "SZOBA_ID": "73",
                                    "mettol": "2016-07-01",
                                    "átlagos előző 5 foglalás létszám": "NULL"
                                },
                                {
                                    "SZALLAS_NEV": "Kentaur Hotel",
                                    "SZOBA_ID": "73",
                                    "mettol": "2016-07-25",
                                    "átlagos előző 5 foglalás létszám": "2"
                                },
                                {
                                    "SZALLAS_NEV": "Kentaur Hotel",
                                    "SZOBA_ID": "73",
                                    "mettol": "2016-10-16",
                                    "átlagos előző 5 foglalás létszám": "2"
                                },
                                {
                                    "SZALLAS_NEV": "Kentaur Hotel",
                                    "SZOBA_ID": "73",
                                    "mettol": "2016-11-29",
                                    "átlagos előző 5 foglalás létszám": "2"
                                },
                                {
                                    "SZALLAS_NEV": "Kentaur Hotel",
                                    "SZOBA_ID": "74",
                                    "mettol": "2016-04-22",
                                    "átlagos előző 5 foglalás létszám": "NULL"
                                },
                                {
                                    "SZALLAS_NEV": "Kentaur Hotel",
                                    "SZOBA_ID": "74",
                                    "mettol": "2016-05-30",
                                    "átlagos előző 5 foglalás létszám": "2"
                                },
                                {
                                    "SZALLAS_NEV": "Kentaur Hotel",
                                    "SZOBA_ID": "74",
                                    "mettol": "2016-06-09",
                                    "átlagos előző 5 foglalás létszám": "2"
                                },
                                {
                                    "SZALLAS_NEV": "Kentaur Hotel",
                                    "SZOBA_ID": "74",
                                    "mettol": "2016-06-16",
                                    "átlagos előző 5 foglalás létszám": "3"
                                },
                                {
                                    "SZALLAS_NEV": "Kentaur Hotel",
                                    "SZOBA_ID": "74",
                                    "mettol": "2016-08-18",
                                    "átlagos előző 5 foglalás létszám": "3"
                                },
                                {
                                    "SZALLAS_NEV": "Kentaur Hotel",
                                    "SZOBA_ID": "74",
                                    "mettol": "2016-08-28",
                                    "átlagos előző 5 foglalás létszám": "3"
                                },
                                {
                                    "SZALLAS_NEV": "Kentaur Hotel",
                                    "SZOBA_ID": "74",
                                    "mettol": "2016-09-03",
                                    "átlagos előző 5 foglalás létszám": "3"
                                },
                                {
                                    "SZALLAS_NEV": "Kentaur Hotel",
                                    "SZOBA_ID": "74",
                                    "mettol": "2016-09-30",
                                    "átlagos előző 5 foglalás létszám": "3"
                                },
                                {
                                    "SZALLAS_NEV": "Kentaur Hotel",
                                    "SZOBA_ID": "74",
                                    "mettol": "2016-10-22",
                                    "átlagos előző 5 foglalás létszám": "3"
                                },
                                {
                                    "SZALLAS_NEV": "Kentaur Hotel",
                                    "SZOBA_ID": "75",
                                    "mettol": "2016-07-06",
                                    "átlagos előző 5 foglalás létszám": "NULL"
                                },
                                {
                                    "SZALLAS_NEV": "Kentaur Hotel",
                                    "SZOBA_ID": "75",
                                    "mettol": "2017-01-01",
                                    "átlagos előző 5 foglalás létszám": "2"
                                },
                                {
                                    "SZALLAS_NEV": "Kentaur Hotel",
                                    "SZOBA_ID": "75",
                                    "mettol": "2017-01-19",
                                    "átlagos előző 5 foglalás létszám": "2"
                                },
                                {
                                    "SZALLAS_NEV": "Kentaur Hotel",
                                    "SZOBA_ID": "76",
                                    "mettol": "2016-06-22",
                                    "átlagos előző 5 foglalás létszám": "NULL"
                                },
                                {
                                    "SZALLAS_NEV": "Kentaur Hotel",
                                    "SZOBA_ID": "76",
                                    "mettol": "2016-07-18",
                                    "átlagos előző 5 foglalás létszám": "1"
                                },
                                {
                                    "SZALLAS_NEV": "Kentaur Hotel",
                                    "SZOBA_ID": "76",
                                    "mettol": "2017-02-21",
                                    "átlagos előző 5 foglalás létszám": "1"
                                },
                                {
                                    "SZALLAS_NEV": "Kentaur Hotel",
                                    "SZOBA_ID": "77",
                                    "mettol": "2016-04-21",
                                    "átlagos előző 5 foglalás létszám": "NULL"
                                },
                                {
                                    "SZALLAS_NEV": "Kentaur Hotel",
                                    "SZOBA_ID": "77",
                                    "mettol": "2016-06-23",
                                    "átlagos előző 5 foglalás létszám": "3"
                                },
                                {
                                    "SZALLAS_NEV": "Kentaur Hotel",
                                    "SZOBA_ID": "77",
                                    "mettol": "2016-07-20",
                                    "átlagos előző 5 foglalás létszám": "3"
                                },
                                {
                                    "SZALLAS_NEV": "Kentaur Hotel",
                                    "SZOBA_ID": "77",
                                    "mettol": "2016-10-01",
                                    "átlagos előző 5 foglalás létszám": "3"
                                },
                                {
                                    "SZALLAS_NEV": "Kentaur Hotel",
                                    "SZOBA_ID": "77",
                                    "mettol": "2017-01-15",
                                    "átlagos előző 5 foglalás létszám": "3"
                                },
                                {
                                    "SZALLAS_NEV": "Kentaur Hotel",
                                    "SZOBA_ID": "77",
                                    "mettol": "2017-01-22",
                                    "átlagos előző 5 foglalás létszám": "3"
                                },
                                {
                                    "SZALLAS_NEV": "Kentaur Hotel",
                                    "SZOBA_ID": "78",
                                    "mettol": "2016-04-10",
                                    "átlagos előző 5 foglalás létszám": "NULL"
                                },
                                {
                                    "SZALLAS_NEV": "Kentaur Hotel",
                                    "SZOBA_ID": "78",
                                    "mettol": "2016-05-14",
                                    "átlagos előző 5 foglalás létszám": "2"
                                },
                                {
                                    "SZALLAS_NEV": "Kentaur Hotel",
                                    "SZOBA_ID": "78",
                                    "mettol": "2016-07-20",
                                    "átlagos előző 5 foglalás létszám": "2"
                                },
                                {
                                    "SZALLAS_NEV": "Kentaur Hotel",
                                    "SZOBA_ID": "78",
                                    "mettol": "2016-11-09",
                                    "átlagos előző 5 foglalás létszám": "2"
                                },
                                {
                                    "SZALLAS_NEV": "Kentaur Hotel",
                                    "SZOBA_ID": "78",
                                    "mettol": "2016-11-15",
                                    "átlagos előző 5 foglalás létszám": "2"
                                },
                                {
                                    "SZALLAS_NEV": "Kentaur Hotel",
                                    "SZOBA_ID": "78",
                                    "mettol": "2017-02-27",
                                    "átlagos előző 5 foglalás létszám": "2"
                                },
                                {
                                    "SZALLAS_NEV": "Kentaur Hotel",
                                    "SZOBA_ID": "79",
                                    "mettol": "2016-04-16",
                                    "átlagos előző 5 foglalás létszám": "NULL"
                                },
                                {
                                    "SZALLAS_NEV": "Kentaur Hotel",
                                    "SZOBA_ID": "79",
                                    "mettol": "2016-09-15",
                                    "átlagos előző 5 foglalás létszám": "3"
                                },
                                {
                                    "SZALLAS_NEV": "Kentaur Hotel",
                                    "SZOBA_ID": "79",
                                    "mettol": "2016-10-30",
                                    "átlagos előző 5 foglalás létszám": "3"
                                },
                                {
                                    "SZALLAS_NEV": "Kentaur Hotel",
                                    "SZOBA_ID": "79",
                                    "mettol": "2016-12-05",
                                    "átlagos előző 5 foglalás létszám": "3"
                                },
                                {
                                    "SZALLAS_NEV": "Kentaur Hotel",
                                    "SZOBA_ID": "79",
                                    "mettol": "2017-01-16",
                                    "átlagos előző 5 foglalás létszám": "2"
                                },
                                {
                                    "SZALLAS_NEV": "Kentaur Hotel",
                                    "SZOBA_ID": "80",
                                    "mettol": "2016-06-01",
                                    "átlagos előző 5 foglalás létszám": "NULL"
                                },
                                {
                                    "SZALLAS_NEV": "Kentaur Hotel",
                                    "SZOBA_ID": "80",
                                    "mettol": "2016-06-07",
                                    "átlagos előző 5 foglalás létszám": "2"
                                },
                                {
                                    "SZALLAS_NEV": "Kentaur Hotel",
                                    "SZOBA_ID": "80",
                                    "mettol": "2016-06-23",
                                    "átlagos előző 5 foglalás létszám": "2"
                                },
                                {
                                    "SZALLAS_NEV": "Kentaur Hotel",
                                    "SZOBA_ID": "80",
                                    "mettol": "2016-07-13",
                                    "átlagos előző 5 foglalás létszám": "2"
                                },
                                {
                                    "SZALLAS_NEV": "Kentaur Hotel",
                                    "SZOBA_ID": "80",
                                    "mettol": "2016-09-20",
                                    "átlagos előző 5 foglalás létszám": "2"
                                },
                                {
                                    "SZALLAS_NEV": "Kentaur Hotel",
                                    "SZOBA_ID": "80",
                                    "mettol": "2016-11-14",
                                    "átlagos előző 5 foglalás létszám": "2"
                                },
                                {
                                    "SZALLAS_NEV": "Kentaur Hotel",
                                    "SZOBA_ID": "80",
                                    "mettol": "2016-12-17",
                                    "átlagos előző 5 foglalás létszám": "2"
                                },
                                {
                                    "SZALLAS_NEV": "Kentaur Hotel",
                                    "SZOBA_ID": "81",
                                    "mettol": "2016-12-16",
                                    "átlagos előző 5 foglalás létszám": "NULL"
                                },
                                {
                                    "SZALLAS_NEV": "Kentaur Hotel",
                                    "SZOBA_ID": "81",
                                    "mettol": "2017-01-16",
                                    "átlagos előző 5 foglalás létszám": "1"
                                },
                                {
                                    "SZALLAS_NEV": "Kentaur Hotel",
                                    "SZOBA_ID": "81",
                                    "mettol": "2017-01-22",
                                    "átlagos előző 5 foglalás létszám": "1"
                                },
                                {
                                    "SZALLAS_NEV": "Kentaur Hotel",
                                    "SZOBA_ID": "81",
                                    "mettol": "2017-02-06",
                                    "átlagos előző 5 foglalás létszám": "1"
                                },
                                {
                                    "SZALLAS_NEV": "Kentaur Hotel",
                                    "SZOBA_ID": "81",
                                    "mettol": "2017-02-23",
                                    "átlagos előző 5 foglalás létszám": "1"
                                },
                                {
                                    "SZALLAS_NEV": "Kentaur Hotel",
                                    "SZOBA_ID": "82",
                                    "mettol": "2016-05-27",
                                    "átlagos előző 5 foglalás létszám": "NULL"
                                },
                                {
                                    "SZALLAS_NEV": "Kentaur Hotel",
                                    "SZOBA_ID": "82",
                                    "mettol": "2016-05-29",
                                    "átlagos előző 5 foglalás létszám": "3"
                                },
                                {
                                    "SZALLAS_NEV": "Kentaur Hotel",
                                    "SZOBA_ID": "82",
                                    "mettol": "2016-07-01",
                                    "átlagos előző 5 foglalás létszám": "3"
                                },
                                {
                                    "SZALLAS_NEV": "Kentaur Hotel",
                                    "SZOBA_ID": "82",
                                    "mettol": "2016-11-12",
                                    "átlagos előző 5 foglalás létszám": "2"
                                },
                                {
                                    "SZALLAS_NEV": "Kentaur Hotel",
                                    "SZOBA_ID": "82",
                                    "mettol": "2016-12-04",
                                    "átlagos előző 5 foglalás létszám": "2"
                                },
                                {
                                    "SZALLAS_NEV": "Kentaur Hotel",
                                    "SZOBA_ID": "82",
                                    "mettol": "2016-12-29",
                                    "átlagos előző 5 foglalás létszám": "2"
                                },
                                {
                                    "SZALLAS_NEV": "Kentaur Hotel",
                                    "SZOBA_ID": "83",
                                    "mettol": "2016-04-10",
                                    "átlagos előző 5 foglalás létszám": "NULL"
                                },
                                {
                                    "SZALLAS_NEV": "Kentaur Hotel",
                                    "SZOBA_ID": "83",
                                    "mettol": "2016-05-28",
                                    "átlagos előző 5 foglalás létszám": "2"
                                },
                                {
                                    "SZALLAS_NEV": "Kentaur Hotel",
                                    "SZOBA_ID": "83",
                                    "mettol": "2016-05-30",
                                    "átlagos előző 5 foglalás létszám": "2"
                                },
                                {
                                    "SZALLAS_NEV": "Kentaur Hotel",
                                    "SZOBA_ID": "83",
                                    "mettol": "2016-06-30",
                                    "átlagos előző 5 foglalás létszám": "2"
                                },
                                {
                                    "SZALLAS_NEV": "Kentaur Hotel",
                                    "SZOBA_ID": "83",
                                    "mettol": "2016-07-15",
                                    "átlagos előző 5 foglalás létszám": "2"
                                },
                                {
                                    "SZALLAS_NEV": "Kentaur Hotel",
                                    "SZOBA_ID": "83",
                                    "mettol": "2016-08-18",
                                    "átlagos előző 5 foglalás létszám": "2"
                                },
                                {
                                    "SZALLAS_NEV": "Kentaur Hotel",
                                    "SZOBA_ID": "83",
                                    "mettol": "2016-10-04",
                                    "átlagos előző 5 foglalás létszám": "2"
                                },
                                {
                                    "SZALLAS_NEV": "Kentaur Hotel",
                                    "SZOBA_ID": "83",
                                    "mettol": "2016-12-19",
                                    "átlagos előző 5 foglalás létszám": "2"
                                },
                                {
                                    "SZALLAS_NEV": "Kentaur Hotel",
                                    "SZOBA_ID": "84",
                                    "mettol": "2016-06-13",
                                    "átlagos előző 5 foglalás létszám": "NULL"
                                },
                                {
                                    "SZALLAS_NEV": "Kentaur Hotel",
                                    "SZOBA_ID": "84",
                                    "mettol": "2016-08-24",
                                    "átlagos előző 5 foglalás létszám": "1"
                                },
                                {
                                    "SZALLAS_NEV": "Kentaur Hotel",
                                    "SZOBA_ID": "84",
                                    "mettol": "2016-12-17",
                                    "átlagos előző 5 foglalás létszám": "1"
                                },
                                {
                                    "SZALLAS_NEV": "Kentaur Hotel",
                                    "SZOBA_ID": "84",
                                    "mettol": "2016-12-22",
                                    "átlagos előző 5 foglalás létszám": "2"
                                },
                                {
                                    "SZALLAS_NEV": "Szieszta Apartmanház",
                                    "SZOBA_ID": "85",
                                    "mettol": "2016-05-15",
                                    "átlagos előző 5 foglalás létszám": "NULL"
                                },
                                {
                                    "SZALLAS_NEV": "Szieszta Apartmanház",
                                    "SZOBA_ID": "85",
                                    "mettol": "2016-09-17",
                                    "átlagos előző 5 foglalás létszám": "2"
                                },
                                {
                                    "SZALLAS_NEV": "Szieszta Apartmanház",
                                    "SZOBA_ID": "85",
                                    "mettol": "2016-11-25",
                                    "átlagos előző 5 foglalás létszám": "2"
                                },
                                {
                                    "SZALLAS_NEV": "Szieszta Apartmanház",
                                    "SZOBA_ID": "85",
                                    "mettol": "2017-02-09",
                                    "átlagos előző 5 foglalás létszám": "2"
                                },
                                {
                                    "SZALLAS_NEV": "Szieszta Apartmanház",
                                    "SZOBA_ID": "86",
                                    "mettol": "2016-05-26",
                                    "átlagos előző 5 foglalás létszám": "NULL"
                                },
                                {
                                    "SZALLAS_NEV": "Szieszta Apartmanház",
                                    "SZOBA_ID": "86",
                                    "mettol": "2016-09-16",
                                    "átlagos előző 5 foglalás létszám": "3"
                                },
                                {
                                    "SZALLAS_NEV": "Szieszta Apartmanház",
                                    "SZOBA_ID": "86",
                                    "mettol": "2016-09-24",
                                    "átlagos előző 5 foglalás létszám": "2"
                                },
                                {
                                    "SZALLAS_NEV": "Szieszta Apartmanház",
                                    "SZOBA_ID": "86",
                                    "mettol": "2016-10-01",
                                    "átlagos előző 5 foglalás létszám": "1"
                                },
                                {
                                    "SZALLAS_NEV": "Szieszta Apartmanház",
                                    "SZOBA_ID": "86",
                                    "mettol": "2017-01-17",
                                    "átlagos előző 5 foglalás létszám": "1"
                                },
                                {
                                    "SZALLAS_NEV": "Szieszta Apartmanház",
                                    "SZOBA_ID": "87",
                                    "mettol": "2016-04-06",
                                    "átlagos előző 5 foglalás létszám": "NULL"
                                },
                                {
                                    "SZALLAS_NEV": "Szieszta Apartmanház",
                                    "SZOBA_ID": "87",
                                    "mettol": "2016-09-02",
                                    "átlagos előző 5 foglalás létszám": "3"
                                },
                                {
                                    "SZALLAS_NEV": "Szieszta Apartmanház",
                                    "SZOBA_ID": "87",
                                    "mettol": "2016-10-01",
                                    "átlagos előző 5 foglalás létszám": "3"
                                },
                                {
                                    "SZALLAS_NEV": "Szieszta Apartmanház",
                                    "SZOBA_ID": "87",
                                    "mettol": "2016-12-06",
                                    "átlagos előző 5 foglalás létszám": "2"
                                },
                                {
                                    "SZALLAS_NEV": "Szieszta Apartmanház",
                                    "SZOBA_ID": "87",
                                    "mettol": "2017-01-19",
                                    "átlagos előző 5 foglalás létszám": "2"
                                },
                                {
                                    "SZALLAS_NEV": "Szieszta Apartmanház",
                                    "SZOBA_ID": "88",
                                    "mettol": "2016-05-28",
                                    "átlagos előző 5 foglalás létszám": "NULL"
                                },
                                {
                                    "SZALLAS_NEV": "Szieszta Apartmanház",
                                    "SZOBA_ID": "88",
                                    "mettol": "2016-08-05",
                                    "átlagos előző 5 foglalás létszám": "2"
                                },
                                {
                                    "SZALLAS_NEV": "Szieszta Apartmanház",
                                    "SZOBA_ID": "88",
                                    "mettol": "2016-10-26",
                                    "átlagos előző 5 foglalás létszám": "1"
                                },
                                {
                                    "SZALLAS_NEV": "Szieszta Apartmanház",
                                    "SZOBA_ID": "88",
                                    "mettol": "2016-11-10",
                                    "átlagos előző 5 foglalás létszám": "2"
                                },
                                {
                                    "SZALLAS_NEV": "Szieszta Apartmanház",
                                    "SZOBA_ID": "88",
                                    "mettol": "2016-11-21",
                                    "átlagos előző 5 foglalás létszám": "2"
                                },
                                {
                                    "SZALLAS_NEV": "Szieszta Apartmanház",
                                    "SZOBA_ID": "88",
                                    "mettol": "2016-12-12",
                                    "átlagos előző 5 foglalás létszám": "2"
                                },
                                {
                                    "SZALLAS_NEV": "Szieszta Apartmanház",
                                    "SZOBA_ID": "88",
                                    "mettol": "2017-02-18",
                                    "átlagos előző 5 foglalás létszám": "2"
                                },
                                {
                                    "SZALLAS_NEV": "Szieszta Apartmanház",
                                    "SZOBA_ID": "88",
                                    "mettol": "2017-02-26",
                                    "átlagos előző 5 foglalás létszám": "3"
                                },
                                {
                                    "SZALLAS_NEV": "Szieszta Apartmanház",
                                    "SZOBA_ID": "89",
                                    "mettol": "2016-08-24",
                                    "átlagos előző 5 foglalás létszám": "NULL"
                                },
                                {
                                    "SZALLAS_NEV": "Szieszta Apartmanház",
                                    "SZOBA_ID": "89",
                                    "mettol": "2016-09-08",
                                    "átlagos előző 5 foglalás létszám": "3"
                                },
                                {
                                    "SZALLAS_NEV": "Szieszta Apartmanház",
                                    "SZOBA_ID": "89",
                                    "mettol": "2016-10-01",
                                    "átlagos előző 5 foglalás létszám": "2"
                                },
                                {
                                    "SZALLAS_NEV": "Szieszta Apartmanház",
                                    "SZOBA_ID": "89",
                                    "mettol": "2016-10-24",
                                    "átlagos előző 5 foglalás létszám": "2"
                                },
                                {
                                    "SZALLAS_NEV": "Szieszta Apartmanház",
                                    "SZOBA_ID": "89",
                                    "mettol": "2016-11-05",
                                    "átlagos előző 5 foglalás létszám": "2"
                                },
                                {
                                    "SZALLAS_NEV": "Szieszta Apartmanház",
                                    "SZOBA_ID": "89",
                                    "mettol": "2016-11-09",
                                    "átlagos előző 5 foglalás létszám": "2"
                                },
                                {
                                    "SZALLAS_NEV": "Szieszta Apartmanház",
                                    "SZOBA_ID": "89",
                                    "mettol": "2016-12-26",
                                    "átlagos előző 5 foglalás létszám": "2"
                                },
                                {
                                    "SZALLAS_NEV": "Szieszta Apartmanház",
                                    "SZOBA_ID": "89",
                                    "mettol": "2017-02-12",
                                    "átlagos előző 5 foglalás létszám": "2"
                                },
                                {
                                    "SZALLAS_NEV": "Szieszta Apartmanház",
                                    "SZOBA_ID": "90",
                                    "mettol": "2016-07-28",
                                    "átlagos előző 5 foglalás létszám": "NULL"
                                },
                                {
                                    "SZALLAS_NEV": "Szieszta Apartmanház",
                                    "SZOBA_ID": "90",
                                    "mettol": "2016-10-21",
                                    "átlagos előző 5 foglalás létszám": "2"
                                },
                                {
                                    "SZALLAS_NEV": "Szieszta Apartmanház",
                                    "SZOBA_ID": "90",
                                    "mettol": "2016-11-21",
                                    "átlagos előző 5 foglalás létszám": "2"
                                },
                                {
                                    "SZALLAS_NEV": "Szieszta Apartmanház",
                                    "SZOBA_ID": "90",
                                    "mettol": "2016-12-29",
                                    "átlagos előző 5 foglalás létszám": "2"
                                },
                                {
                                    "SZALLAS_NEV": "Hotel Három Hattyú",
                                    "SZOBA_ID": "91",
                                    "mettol": "2016-05-10",
                                    "átlagos előző 5 foglalás létszám": "NULL"
                                },
                                {
                                    "SZALLAS_NEV": "Hotel Három Hattyú",
                                    "SZOBA_ID": "91",
                                    "mettol": "2016-07-28",
                                    "átlagos előző 5 foglalás létszám": "2"
                                },
                                {
                                    "SZALLAS_NEV": "Hotel Három Hattyú",
                                    "SZOBA_ID": "91",
                                    "mettol": "2016-10-28",
                                    "átlagos előző 5 foglalás létszám": "2"
                                },
                                {
                                    "SZALLAS_NEV": "Hotel Három Hattyú",
                                    "SZOBA_ID": "91",
                                    "mettol": "2016-12-25",
                                    "átlagos előző 5 foglalás létszám": "1"
                                },
                                {
                                    "SZALLAS_NEV": "Hotel Három Hattyú",
                                    "SZOBA_ID": "92",
                                    "mettol": "2016-06-10",
                                    "átlagos előző 5 foglalás létszám": "NULL"
                                },
                                {
                                    "SZALLAS_NEV": "Hotel Három Hattyú",
                                    "SZOBA_ID": "92",
                                    "mettol": "2016-07-07",
                                    "átlagos előző 5 foglalás létszám": "4"
                                },
                                {
                                    "SZALLAS_NEV": "Hotel Három Hattyú",
                                    "SZOBA_ID": "92",
                                    "mettol": "2016-08-23",
                                    "átlagos előző 5 foglalás létszám": "3"
                                },
                                {
                                    "SZALLAS_NEV": "Hotel Három Hattyú",
                                    "SZOBA_ID": "92",
                                    "mettol": "2016-08-31",
                                    "átlagos előző 5 foglalás létszám": "3"
                                },
                                {
                                    "SZALLAS_NEV": "Hotel Három Hattyú",
                                    "SZOBA_ID": "92",
                                    "mettol": "2017-02-13",
                                    "átlagos előző 5 foglalás létszám": "3"
                                },
                                {
                                    "SZALLAS_NEV": "Hotel Három Hattyú",
                                    "SZOBA_ID": "92",
                                    "mettol": "2017-02-20",
                                    "átlagos előző 5 foglalás létszám": "3"
                                },
                                {
                                    "SZALLAS_NEV": "Hotel Három Hattyú",
                                    "SZOBA_ID": "93",
                                    "mettol": "2016-07-30",
                                    "átlagos előző 5 foglalás létszám": "NULL"
                                },
                                {
                                    "SZALLAS_NEV": "Hotel Három Hattyú",
                                    "SZOBA_ID": "93",
                                    "mettol": "2016-10-20",
                                    "átlagos előző 5 foglalás létszám": "4"
                                },
                                {
                                    "SZALLAS_NEV": "Hotel Három Hattyú",
                                    "SZOBA_ID": "93",
                                    "mettol": "2016-10-29",
                                    "átlagos előző 5 foglalás létszám": "2"
                                },
                                {
                                    "SZALLAS_NEV": "Hotel Három Hattyú",
                                    "SZOBA_ID": "93",
                                    "mettol": "2016-12-08",
                                    "átlagos előző 5 foglalás létszám": "3"
                                },
                                {
                                    "SZALLAS_NEV": "Hotel Három Hattyú",
                                    "SZOBA_ID": "93",
                                    "mettol": "2016-12-25",
                                    "átlagos előző 5 foglalás létszám": "3"
                                },
                                {
                                    "SZALLAS_NEV": "Hotel Három Hattyú",
                                    "SZOBA_ID": "94",
                                    "mettol": "2016-05-02",
                                    "átlagos előző 5 foglalás létszám": "NULL"
                                },
                                {
                                    "SZALLAS_NEV": "Hotel Három Hattyú",
                                    "SZOBA_ID": "94",
                                    "mettol": "2016-06-21",
                                    "átlagos előző 5 foglalás létszám": "2"
                                },
                                {
                                    "SZALLAS_NEV": "Hotel Három Hattyú",
                                    "SZOBA_ID": "94",
                                    "mettol": "2016-07-13",
                                    "átlagos előző 5 foglalás létszám": "2"
                                },
                                {
                                    "SZALLAS_NEV": "Hotel Három Hattyú",
                                    "SZOBA_ID": "94",
                                    "mettol": "2016-07-27",
                                    "átlagos előző 5 foglalás létszám": "2"
                                },
                                {
                                    "SZALLAS_NEV": "Hotel Három Hattyú",
                                    "SZOBA_ID": "94",
                                    "mettol": "2016-11-03",
                                    "átlagos előző 5 foglalás létszám": "2"
                                },
                                {
                                    "SZALLAS_NEV": "Hotel Három Hattyú",
                                    "SZOBA_ID": "94",
                                    "mettol": "2016-11-22",
                                    "átlagos előző 5 foglalás létszám": "2"
                                },
                                {
                                    "SZALLAS_NEV": "Hotel Három Hattyú",
                                    "SZOBA_ID": "94",
                                    "mettol": "2016-11-23",
                                    "átlagos előző 5 foglalás létszám": "2"
                                },
                                {
                                    "SZALLAS_NEV": "Hotel Három Hattyú",
                                    "SZOBA_ID": "94",
                                    "mettol": "2016-12-17",
                                    "átlagos előző 5 foglalás létszám": "1"
                                },
                                {
                                    "SZALLAS_NEV": "Hotel Három Hattyú",
                                    "SZOBA_ID": "94",
                                    "mettol": "2017-02-12",
                                    "átlagos előző 5 foglalás létszám": "1"
                                },
                                {
                                    "SZALLAS_NEV": "Hotel Három Hattyú",
                                    "SZOBA_ID": "94",
                                    "mettol": "2017-02-23",
                                    "átlagos előző 5 foglalás létszám": "1"
                                },
                                {
                                    "SZALLAS_NEV": "Hotel Három Hattyú",
                                    "SZOBA_ID": "95",
                                    "mettol": "2016-05-19",
                                    "átlagos előző 5 foglalás létszám": "NULL"
                                },
                                {
                                    "SZALLAS_NEV": "Hotel Három Hattyú",
                                    "SZOBA_ID": "95",
                                    "mettol": "2016-09-13",
                                    "átlagos előző 5 foglalás létszám": "2"
                                },
                                {
                                    "SZALLAS_NEV": "Hotel Három Hattyú",
                                    "SZOBA_ID": "95",
                                    "mettol": "2016-10-01",
                                    "átlagos előző 5 foglalás létszám": "1"
                                },
                                {
                                    "SZALLAS_NEV": "Hotel Három Hattyú",
                                    "SZOBA_ID": "95",
                                    "mettol": "2017-02-16",
                                    "átlagos előző 5 foglalás létszám": "2"
                                },
                                {
                                    "SZALLAS_NEV": "Hotel Három Hattyú",
                                    "SZOBA_ID": "96",
                                    "mettol": "2016-04-28",
                                    "átlagos előző 5 foglalás létszám": "NULL"
                                },
                                {
                                    "SZALLAS_NEV": "Hotel Három Hattyú",
                                    "SZOBA_ID": "96",
                                    "mettol": "2016-05-08",
                                    "átlagos előző 5 foglalás létszám": "3"
                                },
                                {
                                    "SZALLAS_NEV": "Hotel Három Hattyú",
                                    "SZOBA_ID": "96",
                                    "mettol": "2016-07-14",
                                    "átlagos előző 5 foglalás létszám": "3"
                                },
                                {
                                    "SZALLAS_NEV": "Hotel Három Hattyú",
                                    "SZOBA_ID": "96",
                                    "mettol": "2016-08-15",
                                    "átlagos előző 5 foglalás létszám": "3"
                                },
                                {
                                    "SZALLAS_NEV": "Hotel Három Hattyú",
                                    "SZOBA_ID": "96",
                                    "mettol": "2016-12-18",
                                    "átlagos előző 5 foglalás létszám": "2"
                                },
                                {
                                    "SZALLAS_NEV": "Hotel Három Hattyú",
                                    "SZOBA_ID": "96",
                                    "mettol": "2017-01-14",
                                    "átlagos előző 5 foglalás létszám": "2"
                                },
                                {
                                    "SZALLAS_NEV": "Hotel Három Hattyú",
                                    "SZOBA_ID": "96",
                                    "mettol": "2017-02-24",
                                    "átlagos előző 5 foglalás létszám": "2"
                                },
                                {
                                    "SZALLAS_NEV": "Hotel Három Hattyú",
                                    "SZOBA_ID": "97",
                                    "mettol": "2016-05-10",
                                    "átlagos előző 5 foglalás létszám": "NULL"
                                },
                                {
                                    "SZALLAS_NEV": "Hotel Három Hattyú",
                                    "SZOBA_ID": "97",
                                    "mettol": "2016-07-27",
                                    "átlagos előző 5 foglalás létszám": "4"
                                },
                                {
                                    "SZALLAS_NEV": "Hotel Három Hattyú",
                                    "SZOBA_ID": "97",
                                    "mettol": "2016-07-27",
                                    "átlagos előző 5 foglalás létszám": "4"
                                },
                                {
                                    "SZALLAS_NEV": "Hotel Három Hattyú",
                                    "SZOBA_ID": "97",
                                    "mettol": "2016-08-29",
                                    "átlagos előző 5 foglalás létszám": "4"
                                },
                                {
                                    "SZALLAS_NEV": "Hotel Három Hattyú",
                                    "SZOBA_ID": "97",
                                    "mettol": "2016-12-25",
                                    "átlagos előző 5 foglalás létszám": "3"
                                },
                                {
                                    "SZALLAS_NEV": "Hotel Három Hattyú",
                                    "SZOBA_ID": "97",
                                    "mettol": "2017-01-03",
                                    "átlagos előző 5 foglalás létszám": "3"
                                },
                                {
                                    "SZALLAS_NEV": "Hotel Három Hattyú",
                                    "SZOBA_ID": "97",
                                    "mettol": "2017-02-13",
                                    "átlagos előző 5 foglalás létszám": "3"
                                },
                                {
                                    "SZALLAS_NEV": "Hotel Három Hattyú",
                                    "SZOBA_ID": "98",
                                    "mettol": "2016-05-09",
                                    "átlagos előző 5 foglalás létszám": "NULL"
                                },
                                {
                                    "SZALLAS_NEV": "Hotel Három Hattyú",
                                    "SZOBA_ID": "98",
                                    "mettol": "2016-05-30",
                                    "átlagos előző 5 foglalás létszám": "1"
                                },
                                {
                                    "SZALLAS_NEV": "Hotel Három Hattyú",
                                    "SZOBA_ID": "98",
                                    "mettol": "2016-09-13",
                                    "átlagos előző 5 foglalás létszám": "1"
                                },
                                {
                                    "SZALLAS_NEV": "Hotel Három Hattyú",
                                    "SZOBA_ID": "98",
                                    "mettol": "2016-12-28",
                                    "átlagos előző 5 foglalás létszám": "1"
                                },
                                {
                                    "SZALLAS_NEV": "Hotel Három Hattyú",
                                    "SZOBA_ID": "99",
                                    "mettol": "2016-05-09",
                                    "átlagos előző 5 foglalás létszám": "NULL"
                                },
                                {
                                    "SZALLAS_NEV": "Hotel Három Hattyú",
                                    "SZOBA_ID": "99",
                                    "mettol": "2016-07-20",
                                    "átlagos előző 5 foglalás létszám": "2"
                                },
                                {
                                    "SZALLAS_NEV": "Hotel Három Hattyú",
                                    "SZOBA_ID": "99",
                                    "mettol": "2016-09-20",
                                    "átlagos előző 5 foglalás létszám": "2"
                                },
                                {
                                    "SZALLAS_NEV": "Hotel Három Hattyú",
                                    "SZOBA_ID": "99",
                                    "mettol": "2016-12-31",
                                    "átlagos előző 5 foglalás létszám": "2"
                                },
                                {
                                    "SZALLAS_NEV": "Hotel Három Hattyú",
                                    "SZOBA_ID": "99",
                                    "mettol": "2017-01-31",
                                    "átlagos előző 5 foglalás létszám": "2"
                                },
                                {
                                    "SZALLAS_NEV": "Hotel Három Hattyú",
                                    "SZOBA_ID": "100",
                                    "mettol": "2016-04-23",
                                    "átlagos előző 5 foglalás létszám": "NULL"
                                },
                                {
                                    "SZALLAS_NEV": "Hotel Három Hattyú",
                                    "SZOBA_ID": "100",
                                    "mettol": "2016-05-11",
                                    "átlagos előző 5 foglalás létszám": "2"
                                },
                                {
                                    "SZALLAS_NEV": "Hotel Három Hattyú",
                                    "SZOBA_ID": "100",
                                    "mettol": "2016-11-24",
                                    "átlagos előző 5 foglalás létszám": "2"
                                },
                                {
                                    "SZALLAS_NEV": "Hotel Három Hattyú",
                                    "SZOBA_ID": "100",
                                    "mettol": "2017-01-29",
                                    "átlagos előző 5 foglalás létszám": "2"
                                },
                                {
                                    "SZALLAS_NEV": "Hotel Három Hattyú",
                                    "SZOBA_ID": "101",
                                    "mettol": "2016-07-25",
                                    "átlagos előző 5 foglalás létszám": "NULL"
                                },
                                {
                                    "SZALLAS_NEV": "Hotel Három Hattyú",
                                    "SZOBA_ID": "101",
                                    "mettol": "2016-11-29",
                                    "átlagos előző 5 foglalás létszám": "2"
                                },
                                {
                                    "SZALLAS_NEV": "Hotel Három Hattyú",
                                    "SZOBA_ID": "101",
                                    "mettol": "2017-02-10",
                                    "átlagos előző 5 foglalás létszám": "2"
                                },
                                {
                                    "SZALLAS_NEV": "Hotel Három Hattyú",
                                    "SZOBA_ID": "102",
                                    "mettol": "2016-07-19",
                                    "átlagos előző 5 foglalás létszám": "NULL"
                                },
                                {
                                    "SZALLAS_NEV": "Hotel Három Hattyú",
                                    "SZOBA_ID": "102",
                                    "mettol": "2016-12-05",
                                    "átlagos előző 5 foglalás létszám": "1"
                                },
                                {
                                    "SZALLAS_NEV": "Hotel Három Hattyú",
                                    "SZOBA_ID": "103",
                                    "mettol": "2016-06-19",
                                    "átlagos előző 5 foglalás létszám": "NULL"
                                },
                                {
                                    "SZALLAS_NEV": "Hotel Három Hattyú",
                                    "SZOBA_ID": "103",
                                    "mettol": "2016-06-29",
                                    "átlagos előző 5 foglalás létszám": "3"
                                },
                                {
                                    "SZALLAS_NEV": "Hotel Három Hattyú",
                                    "SZOBA_ID": "103",
                                    "mettol": "2016-12-26",
                                    "átlagos előző 5 foglalás létszám": "2"
                                },
                                {
                                    "SZALLAS_NEV": "Hotel Három Hattyú",
                                    "SZOBA_ID": "103",
                                    "mettol": "2017-01-30",
                                    "átlagos előző 5 foglalás létszám": "2"
                                },
                                {
                                    "SZALLAS_NEV": "Hotel Három Hattyú",
                                    "SZOBA_ID": "104",
                                    "mettol": "2016-08-29",
                                    "átlagos előző 5 foglalás létszám": "NULL"
                                },
                                {
                                    "SZALLAS_NEV": "Hotel Három Hattyú",
                                    "SZOBA_ID": "104",
                                    "mettol": "2016-10-22",
                                    "átlagos előző 5 foglalás létszám": "3"
                                },
                                {
                                    "SZALLAS_NEV": "Hotel Három Hattyú",
                                    "SZOBA_ID": "104",
                                    "mettol": "2017-02-12",
                                    "átlagos előző 5 foglalás létszám": "3"
                                },
                                {
                                    "SZALLAS_NEV": "Hotel Három Hattyú",
                                    "SZOBA_ID": "104",
                                    "mettol": "2017-02-14",
                                    "átlagos előző 5 foglalás létszám": "3"
                                },
                                {
                                    "SZALLAS_NEV": "Hotel Három Hattyú",
                                    "SZOBA_ID": "105",
                                    "mettol": "2016-05-03",
                                    "átlagos előző 5 foglalás létszám": "NULL"
                                },
                                {
                                    "SZALLAS_NEV": "Hotel Három Hattyú",
                                    "SZOBA_ID": "105",
                                    "mettol": "2017-02-12",
                                    "átlagos előző 5 foglalás létszám": "2"
                                },
                                {
                                    "SZALLAS_NEV": "Hotel Három Hattyú",
                                    "SZOBA_ID": "106",
                                    "mettol": "2016-04-30",
                                    "átlagos előző 5 foglalás létszám": "NULL"
                                },
                                {
                                    "SZALLAS_NEV": "Hotel Három Hattyú",
                                    "SZOBA_ID": "106",
                                    "mettol": "2016-07-23",
                                    "átlagos előző 5 foglalás létszám": "1"
                                },
                                {
                                    "SZALLAS_NEV": "Hotel Három Hattyú",
                                    "SZOBA_ID": "106",
                                    "mettol": "2016-10-30",
                                    "átlagos előző 5 foglalás létszám": "1"
                                },
                                {
                                    "SZALLAS_NEV": "Hotel Három Hattyú",
                                    "SZOBA_ID": "106",
                                    "mettol": "2016-11-10",
                                    "átlagos előző 5 foglalás létszám": "1"
                                },
                                {
                                    "SZALLAS_NEV": "Hotel Három Hattyú",
                                    "SZOBA_ID": "106",
                                    "mettol": "2016-12-17",
                                    "átlagos előző 5 foglalás létszám": "1"
                                },
                                {
                                    "SZALLAS_NEV": "Hotel Három Hattyú",
                                    "SZOBA_ID": "106",
                                    "mettol": "2017-02-08",
                                    "átlagos előző 5 foglalás létszám": "1"
                                },
                                {
                                    "SZALLAS_NEV": "Hotel Három Hattyú",
                                    "SZOBA_ID": "107",
                                    "mettol": "2016-04-18",
                                    "átlagos előző 5 foglalás létszám": "NULL"
                                },
                                {
                                    "SZALLAS_NEV": "Hotel Három Hattyú",
                                    "SZOBA_ID": "107",
                                    "mettol": "2016-11-05",
                                    "átlagos előző 5 foglalás létszám": "1"
                                },
                                {
                                    "SZALLAS_NEV": "Hotel Három Hattyú",
                                    "SZOBA_ID": "107",
                                    "mettol": "2016-12-07",
                                    "átlagos előző 5 foglalás létszám": "1"
                                },
                                {
                                    "SZALLAS_NEV": "Hotel Három Hattyú",
                                    "SZOBA_ID": "107",
                                    "mettol": "2017-01-17",
                                    "átlagos előző 5 foglalás létszám": "1"
                                },
                                {
                                    "SZALLAS_NEV": "Hotel Három Hattyú",
                                    "SZOBA_ID": "107",
                                    "mettol": "2017-02-04",
                                    "átlagos előző 5 foglalás létszám": "2"
                                },
                                {
                                    "SZALLAS_NEV": "Hotel Három Hattyú",
                                    "SZOBA_ID": "108",
                                    "mettol": "2016-10-01",
                                    "átlagos előző 5 foglalás létszám": "NULL"
                                },
                                {
                                    "SZALLAS_NEV": "Hotel Három Hattyú",
                                    "SZOBA_ID": "108",
                                    "mettol": "2016-12-25",
                                    "átlagos előző 5 foglalás létszám": "1"
                                },
                                {
                                    "SZALLAS_NEV": "Hotel Három Hattyú",
                                    "SZOBA_ID": "109",
                                    "mettol": "2016-05-01",
                                    "átlagos előző 5 foglalás létszám": "NULL"
                                },
                                {
                                    "SZALLAS_NEV": "Hotel Három Hattyú",
                                    "SZOBA_ID": "109",
                                    "mettol": "2016-05-06",
                                    "átlagos előző 5 foglalás létszám": "3"
                                },
                                {
                                    "SZALLAS_NEV": "Hotel Három Hattyú",
                                    "SZOBA_ID": "109",
                                    "mettol": "2016-05-18",
                                    "átlagos előző 5 foglalás létszám": "2"
                                },
                                {
                                    "SZALLAS_NEV": "Hotel Három Hattyú",
                                    "SZOBA_ID": "109",
                                    "mettol": "2016-08-23",
                                    "átlagos előző 5 foglalás létszám": "2"
                                },
                                {
                                    "SZALLAS_NEV": "Hotel Három Hattyú",
                                    "SZOBA_ID": "109",
                                    "mettol": "2016-09-27",
                                    "átlagos előző 5 foglalás létszám": "2"
                                },
                                {
                                    "SZALLAS_NEV": "Hotel Három Hattyú",
                                    "SZOBA_ID": "109",
                                    "mettol": "2016-11-20",
                                    "átlagos előző 5 foglalás létszám": "2"
                                },
                                {
                                    "SZALLAS_NEV": "Hotel Három Hattyú",
                                    "SZOBA_ID": "109",
                                    "mettol": "2017-02-23",
                                    "átlagos előző 5 foglalás létszám": "2"
                                },
                                {
                                    "SZALLAS_NEV": "Hotel Három Hattyú",
                                    "SZOBA_ID": "110",
                                    "mettol": "2016-06-07",
                                    "átlagos előző 5 foglalás létszám": "NULL"
                                },
                                {
                                    "SZALLAS_NEV": "Hotel Három Hattyú",
                                    "SZOBA_ID": "110",
                                    "mettol": "2016-06-16",
                                    "átlagos előző 5 foglalás létszám": "2"
                                },
                                {
                                    "SZALLAS_NEV": "Hotel Három Hattyú",
                                    "SZOBA_ID": "110",
                                    "mettol": "2016-07-18",
                                    "átlagos előző 5 foglalás létszám": "2"
                                },
                                {
                                    "SZALLAS_NEV": "Hotel Három Hattyú",
                                    "SZOBA_ID": "110",
                                    "mettol": "2016-09-10",
                                    "átlagos előző 5 foglalás létszám": "2"
                                },
                                {
                                    "SZALLAS_NEV": "Hotel Három Hattyú",
                                    "SZOBA_ID": "110",
                                    "mettol": "2016-10-01",
                                    "átlagos előző 5 foglalás létszám": "2"
                                },
                                {
                                    "SZALLAS_NEV": "Hotel Három Hattyú",
                                    "SZOBA_ID": "110",
                                    "mettol": "2016-10-17",
                                    "átlagos előző 5 foglalás létszám": "1"
                                },
                                {
                                    "SZALLAS_NEV": "Hotel Három Hattyú",
                                    "SZOBA_ID": "110",
                                    "mettol": "2017-01-07",
                                    "átlagos előző 5 foglalás létszám": "1"
                                },
                                {
                                    "SZALLAS_NEV": "Hotel Három Hattyú",
                                    "SZOBA_ID": "110",
                                    "mettol": "2017-02-02",
                                    "átlagos előző 5 foglalás létszám": "1"
                                },
                                {
                                    "SZALLAS_NEV": "Hotel Három Hattyú",
                                    "SZOBA_ID": "111",
                                    "mettol": "2016-04-27",
                                    "átlagos előző 5 foglalás létszám": "NULL"
                                },
                                {
                                    "SZALLAS_NEV": "Hotel Három Hattyú",
                                    "SZOBA_ID": "111",
                                    "mettol": "2016-06-14",
                                    "átlagos előző 5 foglalás létszám": "3"
                                },
                                {
                                    "SZALLAS_NEV": "Hotel Három Hattyú",
                                    "SZOBA_ID": "111",
                                    "mettol": "2016-08-16",
                                    "átlagos előző 5 foglalás létszám": "2"
                                },
                                {
                                    "SZALLAS_NEV": "Hotel Három Hattyú",
                                    "SZOBA_ID": "111",
                                    "mettol": "2016-11-19",
                                    "átlagos előző 5 foglalás létszám": "2"
                                },
                                {
                                    "SZALLAS_NEV": "Hotel Három Hattyú",
                                    "SZOBA_ID": "111",
                                    "mettol": "2016-12-07",
                                    "átlagos előző 5 foglalás létszám": "2"
                                },
                                {
                                    "SZALLAS_NEV": "Hotel Három Hattyú",
                                    "SZOBA_ID": "112",
                                    "mettol": "2016-06-06",
                                    "átlagos előző 5 foglalás létszám": "NULL"
                                },
                                {
                                    "SZALLAS_NEV": "Hotel Három Hattyú",
                                    "SZOBA_ID": "112",
                                    "mettol": "2016-08-14",
                                    "átlagos előző 5 foglalás létszám": "3"
                                },
                                {
                                    "SZALLAS_NEV": "Hotel Három Hattyú",
                                    "SZOBA_ID": "112",
                                    "mettol": "2016-08-20",
                                    "átlagos előző 5 foglalás létszám": "3"
                                },
                                {
                                    "SZALLAS_NEV": "Hotel Három Hattyú",
                                    "SZOBA_ID": "112",
                                    "mettol": "2016-10-06",
                                    "átlagos előző 5 foglalás létszám": "3"
                                },
                                {
                                    "SZALLAS_NEV": "Hotel Három Hattyú",
                                    "SZOBA_ID": "112",
                                    "mettol": "2017-02-13",
                                    "átlagos előző 5 foglalás létszám": "3"
                                },
                                {
                                    "SZALLAS_NEV": "Hotel Három Hattyú",
                                    "SZOBA_ID": "113",
                                    "mettol": "2016-09-05",
                                    "átlagos előző 5 foglalás létszám": "NULL"
                                },
                                {
                                    "SZALLAS_NEV": "Hotel Három Hattyú",
                                    "SZOBA_ID": "113",
                                    "mettol": "2016-09-28",
                                    "átlagos előző 5 foglalás létszám": "4"
                                },
                                {
                                    "SZALLAS_NEV": "Hotel Három Hattyú",
                                    "SZOBA_ID": "113",
                                    "mettol": "2016-11-08",
                                    "átlagos előző 5 foglalás létszám": "4"
                                },
                                {
                                    "SZALLAS_NEV": "Hotel Három Hattyú",
                                    "SZOBA_ID": "113",
                                    "mettol": "2017-02-04",
                                    "átlagos előző 5 foglalás létszám": "4"
                                },
                                {
                                    "SZALLAS_NEV": "Hotel Három Hattyú",
                                    "SZOBA_ID": "113",
                                    "mettol": "2017-02-05",
                                    "átlagos előző 5 foglalás létszám": "4"
                                },
                                {
                                    "SZALLAS_NEV": "Hotel Három Hattyú",
                                    "SZOBA_ID": "114",
                                    "mettol": "2016-06-16",
                                    "átlagos előző 5 foglalás létszám": "NULL"
                                },
                                {
                                    "SZALLAS_NEV": "Hotel Három Hattyú",
                                    "SZOBA_ID": "114",
                                    "mettol": "2016-07-29",
                                    "átlagos előző 5 foglalás létszám": "2"
                                },
                                {
                                    "SZALLAS_NEV": "Hotel Három Hattyú",
                                    "SZOBA_ID": "114",
                                    "mettol": "2016-08-26",
                                    "átlagos előző 5 foglalás létszám": "2"
                                },
                                {
                                    "SZALLAS_NEV": "Hotel Három Hattyú",
                                    "SZOBA_ID": "114",
                                    "mettol": "2017-02-16",
                                    "átlagos előző 5 foglalás létszám": "2"
                                },
                                {
                                    "SZALLAS_NEV": "Hotel Három Hattyú",
                                    "SZOBA_ID": "115",
                                    "mettol": "2016-04-23",
                                    "átlagos előző 5 foglalás létszám": "NULL"
                                },
                                {
                                    "SZALLAS_NEV": "Hotel Három Hattyú",
                                    "SZOBA_ID": "115",
                                    "mettol": "2016-06-10",
                                    "átlagos előző 5 foglalás létszám": "3"
                                },
                                {
                                    "SZALLAS_NEV": "Hotel Három Hattyú",
                                    "SZOBA_ID": "115",
                                    "mettol": "2016-10-04",
                                    "átlagos előző 5 foglalás létszám": "3"
                                },
                                {
                                    "SZALLAS_NEV": "Hotel Három Hattyú",
                                    "SZOBA_ID": "115",
                                    "mettol": "2016-10-15",
                                    "átlagos előző 5 foglalás létszám": "3"
                                },
                                {
                                    "SZALLAS_NEV": "Hotel Három Hattyú",
                                    "SZOBA_ID": "115",
                                    "mettol": "2016-12-07",
                                    "átlagos előző 5 foglalás létszám": "2"
                                },
                                {
                                    "SZALLAS_NEV": "Hotel Három Hattyú",
                                    "SZOBA_ID": "115",
                                    "mettol": "2017-02-20",
                                    "átlagos előző 5 foglalás létszám": "2"
                                },
                                {
                                    "SZALLAS_NEV": "Hotel Három Hattyú",
                                    "SZOBA_ID": "115",
                                    "mettol": "2017-02-24",
                                    "átlagos előző 5 foglalás létszám": "2"
                                },
                                {
                                    "SZALLAS_NEV": "Hotel Három Hattyú",
                                    "SZOBA_ID": "116",
                                    "mettol": "2017-01-18",
                                    "átlagos előző 5 foglalás létszám": "NULL"
                                },
                                {
                                    "SZALLAS_NEV": "Hotel Három Hattyú",
                                    "SZOBA_ID": "116",
                                    "mettol": "2017-02-05",
                                    "átlagos előző 5 foglalás létszám": "2"
                                },
                                {
                                    "SZALLAS_NEV": "Hotel Három Hattyú",
                                    "SZOBA_ID": "117",
                                    "mettol": "2016-05-01",
                                    "átlagos előző 5 foglalás létszám": "NULL"
                                },
                                {
                                    "SZALLAS_NEV": "Hotel Három Hattyú",
                                    "SZOBA_ID": "117",
                                    "mettol": "2016-05-02",
                                    "átlagos előző 5 foglalás létszám": "2"
                                },
                                {
                                    "SZALLAS_NEV": "Hotel Három Hattyú",
                                    "SZOBA_ID": "117",
                                    "mettol": "2016-06-12",
                                    "átlagos előző 5 foglalás létszám": "2"
                                },
                                {
                                    "SZALLAS_NEV": "Hotel Három Hattyú",
                                    "SZOBA_ID": "117",
                                    "mettol": "2016-06-16",
                                    "átlagos előző 5 foglalás létszám": "2"
                                },
                                {
                                    "SZALLAS_NEV": "Hotel Három Hattyú",
                                    "SZOBA_ID": "117",
                                    "mettol": "2016-07-03",
                                    "átlagos előző 5 foglalás létszám": "2"
                                },
                                {
                                    "SZALLAS_NEV": "Hotel Három Hattyú",
                                    "SZOBA_ID": "117",
                                    "mettol": "2016-10-26",
                                    "átlagos előző 5 foglalás létszám": "3"
                                },
                                {
                                    "SZALLAS_NEV": "Hotel Három Hattyú",
                                    "SZOBA_ID": "117",
                                    "mettol": "2016-11-05",
                                    "átlagos előző 5 foglalás létszám": "3"
                                },
                                {
                                    "SZALLAS_NEV": "Hotel Három Hattyú",
                                    "SZOBA_ID": "117",
                                    "mettol": "2017-01-23",
                                    "átlagos előző 5 foglalás létszám": "3"
                                },
                                {
                                    "SZALLAS_NEV": "Hotel Három Hattyú",
                                    "SZOBA_ID": "118",
                                    "mettol": "2016-05-28",
                                    "átlagos előző 5 foglalás létszám": "NULL"
                                },
                                {
                                    "SZALLAS_NEV": "Hotel Három Hattyú",
                                    "SZOBA_ID": "118",
                                    "mettol": "2016-06-30",
                                    "átlagos előző 5 foglalás létszám": "2"
                                },
                                {
                                    "SZALLAS_NEV": "Hotel Három Hattyú",
                                    "SZOBA_ID": "118",
                                    "mettol": "2016-07-01",
                                    "átlagos előző 5 foglalás létszám": "2"
                                },
                                {
                                    "SZALLAS_NEV": "Hotel Három Hattyú",
                                    "SZOBA_ID": "118",
                                    "mettol": "2016-07-26",
                                    "átlagos előző 5 foglalás létszám": "2"
                                },
                                {
                                    "SZALLAS_NEV": "Hotel Három Hattyú",
                                    "SZOBA_ID": "118",
                                    "mettol": "2016-12-17",
                                    "átlagos előző 5 foglalás létszám": "2"
                                },
                                {
                                    "SZALLAS_NEV": "Hotel Három Hattyú",
                                    "SZOBA_ID": "118",
                                    "mettol": "2017-01-24",
                                    "átlagos előző 5 foglalás létszám": "2"
                                },
                                {
                                    "SZALLAS_NEV": "Hotel Három Hattyú",
                                    "SZOBA_ID": "118",
                                    "mettol": "2017-01-29",
                                    "átlagos előző 5 foglalás létszám": "2"
                                },
                                {
                                    "SZALLAS_NEV": "Hotel Három Hattyú",
                                    "SZOBA_ID": "119",
                                    "mettol": "2016-07-12",
                                    "átlagos előző 5 foglalás létszám": "NULL"
                                },
                                {
                                    "SZALLAS_NEV": "Hotel Három Hattyú",
                                    "SZOBA_ID": "119",
                                    "mettol": "2016-07-22",
                                    "átlagos előző 5 foglalás létszám": "1"
                                },
                                {
                                    "SZALLAS_NEV": "Hotel Három Hattyú",
                                    "SZOBA_ID": "119",
                                    "mettol": "2016-07-27",
                                    "átlagos előző 5 foglalás létszám": "1"
                                },
                                {
                                    "SZALLAS_NEV": "Hotel Három Hattyú",
                                    "SZOBA_ID": "119",
                                    "mettol": "2017-01-02",
                                    "átlagos előző 5 foglalás létszám": "1"
                                },
                                {
                                    "SZALLAS_NEV": "Hotel Három Hattyú",
                                    "SZOBA_ID": "119",
                                    "mettol": "2017-02-01",
                                    "átlagos előző 5 foglalás létszám": "1"
                                },
                                {
                                    "SZALLAS_NEV": "Hotel Három Hattyú",
                                    "SZOBA_ID": "120",
                                    "mettol": "2016-07-01",
                                    "átlagos előző 5 foglalás létszám": "NULL"
                                },
                                {
                                    "SZALLAS_NEV": "Hotel Három Hattyú",
                                    "SZOBA_ID": "120",
                                    "mettol": "2016-08-07",
                                    "átlagos előző 5 foglalás létszám": "4"
                                },
                                {
                                    "SZALLAS_NEV": "Hotel Három Hattyú",
                                    "SZOBA_ID": "120",
                                    "mettol": "2016-09-30",
                                    "átlagos előző 5 foglalás létszám": "3"
                                },
                                {
                                    "SZALLAS_NEV": "Hotel Három Hattyú",
                                    "SZOBA_ID": "120",
                                    "mettol": "2016-12-03",
                                    "átlagos előző 5 foglalás létszám": "3"
                                },
                                {
                                    "SZALLAS_NEV": "Hotel Három Hattyú",
                                    "SZOBA_ID": "120",
                                    "mettol": "2017-01-30",
                                    "átlagos előző 5 foglalás létszám": "2"
                                },
                                {
                                    "SZALLAS_NEV": "Hotel Három Hattyú",
                                    "SZOBA_ID": "120",
                                    "mettol": "2017-02-04",
                                    "átlagos előző 5 foglalás létszám": "2"
                                },
                                {
                                    "SZALLAS_NEV": "Hotel Három Hattyú",
                                    "SZOBA_ID": "121",
                                    "mettol": "2016-05-25",
                                    "átlagos előző 5 foglalás létszám": "NULL"
                                },
                                {
                                    "SZALLAS_NEV": "Hotel Három Hattyú",
                                    "SZOBA_ID": "121",
                                    "mettol": "2016-07-28",
                                    "átlagos előző 5 foglalás létszám": "1"
                                },
                                {
                                    "SZALLAS_NEV": "Hotel Három Hattyú",
                                    "SZOBA_ID": "121",
                                    "mettol": "2016-07-30",
                                    "átlagos előző 5 foglalás létszám": "1"
                                },
                                {
                                    "SZALLAS_NEV": "Hotel Három Hattyú",
                                    "SZOBA_ID": "121",
                                    "mettol": "2016-09-13",
                                    "átlagos előző 5 foglalás létszám": "1"
                                },
                                {
                                    "SZALLAS_NEV": "Hotel Három Hattyú",
                                    "SZOBA_ID": "121",
                                    "mettol": "2016-10-08",
                                    "átlagos előző 5 foglalás létszám": "1"
                                },
                                {
                                    "SZALLAS_NEV": "Hotel Három Hattyú",
                                    "SZOBA_ID": "121",
                                    "mettol": "2016-10-29",
                                    "átlagos előző 5 foglalás létszám": "2"
                                },
                                {
                                    "SZALLAS_NEV": "Hotel Három Hattyú",
                                    "SZOBA_ID": "121",
                                    "mettol": "2016-12-17",
                                    "átlagos előző 5 foglalás létszám": "2"
                                },
                                {
                                    "SZALLAS_NEV": "Hotel Három Hattyú",
                                    "SZOBA_ID": "121",
                                    "mettol": "2016-12-25",
                                    "átlagos előző 5 foglalás létszám": "2"
                                },
                                {
                                    "SZALLAS_NEV": "Hotel Három Hattyú",
                                    "SZOBA_ID": "122",
                                    "mettol": "2016-07-04",
                                    "átlagos előző 5 foglalás létszám": "NULL"
                                },
                                {
                                    "SZALLAS_NEV": "Hotel Három Hattyú",
                                    "SZOBA_ID": "122",
                                    "mettol": "2016-09-08",
                                    "átlagos előző 5 foglalás létszám": "3"
                                },
                                {
                                    "SZALLAS_NEV": "Hotel Három Hattyú",
                                    "SZOBA_ID": "122",
                                    "mettol": "2016-09-17",
                                    "átlagos előző 5 foglalás létszám": "3"
                                },
                                {
                                    "SZALLAS_NEV": "Hotel Három Hattyú",
                                    "SZOBA_ID": "122",
                                    "mettol": "2016-10-19",
                                    "átlagos előző 5 foglalás létszám": "3"
                                },
                                {
                                    "SZALLAS_NEV": "Hotel Három Hattyú",
                                    "SZOBA_ID": "122",
                                    "mettol": "2016-10-28",
                                    "átlagos előző 5 foglalás létszám": "3"
                                },
                                {
                                    "SZALLAS_NEV": "Hotel Három Hattyú",
                                    "SZOBA_ID": "122",
                                    "mettol": "2016-11-04",
                                    "átlagos előző 5 foglalás létszám": "3"
                                },
                                {
                                    "SZALLAS_NEV": "Hotel Három Hattyú",
                                    "SZOBA_ID": "122",
                                    "mettol": "2016-12-02",
                                    "átlagos előző 5 foglalás létszám": "3"
                                },
                                {
                                    "SZALLAS_NEV": "Hotel Három Hattyú",
                                    "SZOBA_ID": "122",
                                    "mettol": "2016-12-23",
                                    "átlagos előző 5 foglalás létszám": "3"
                                },
                                {
                                    "SZALLAS_NEV": "Hotel Három Hattyú",
                                    "SZOBA_ID": "122",
                                    "mettol": "2017-01-15",
                                    "átlagos előző 5 foglalás létszám": "3"
                                },
                                {
                                    "SZALLAS_NEV": "Hotel Három Hattyú",
                                    "SZOBA_ID": "123",
                                    "mettol": "2016-04-19",
                                    "átlagos előző 5 foglalás létszám": "NULL"
                                },
                                {
                                    "SZALLAS_NEV": "Hotel Három Hattyú",
                                    "SZOBA_ID": "123",
                                    "mettol": "2016-06-07",
                                    "átlagos előző 5 foglalás létszám": "1"
                                },
                                {
                                    "SZALLAS_NEV": "Hotel Három Hattyú",
                                    "SZOBA_ID": "123",
                                    "mettol": "2016-06-16",
                                    "átlagos előző 5 foglalás létszám": "1"
                                },
                                {
                                    "SZALLAS_NEV": "Hotel Három Hattyú",
                                    "SZOBA_ID": "123",
                                    "mettol": "2016-10-30",
                                    "átlagos előző 5 foglalás létszám": "1"
                                },
                                {
                                    "SZALLAS_NEV": "Hotel Három Hattyú",
                                    "SZOBA_ID": "123",
                                    "mettol": "2016-11-15",
                                    "átlagos előző 5 foglalás létszám": "2"
                                },
                                {
                                    "SZALLAS_NEV": "Hotel Három Hattyú",
                                    "SZOBA_ID": "124",
                                    "mettol": "2016-05-27",
                                    "átlagos előző 5 foglalás létszám": "NULL"
                                },
                                {
                                    "SZALLAS_NEV": "Hotel Három Hattyú",
                                    "SZOBA_ID": "124",
                                    "mettol": "2016-10-28",
                                    "átlagos előző 5 foglalás létszám": "3"
                                },
                                {
                                    "SZALLAS_NEV": "Hotel Három Hattyú",
                                    "SZOBA_ID": "124",
                                    "mettol": "2016-11-29",
                                    "átlagos előző 5 foglalás létszám": "3"
                                },
                                {
                                    "SZALLAS_NEV": "Hotel Három Hattyú",
                                    "SZOBA_ID": "124",
                                    "mettol": "2016-12-29",
                                    "átlagos előző 5 foglalás létszám": "3"
                                },
                                {
                                    "SZALLAS_NEV": "Hotel Három Hattyú",
                                    "SZOBA_ID": "124",
                                    "mettol": "2017-01-05",
                                    "átlagos előző 5 foglalás létszám": "2"
                                },
                                {
                                    "SZALLAS_NEV": "Hotel Három Hattyú",
                                    "SZOBA_ID": "124",
                                    "mettol": "2017-02-13",
                                    "átlagos előző 5 foglalás létszám": "2"
                                },
                                {
                                    "SZALLAS_NEV": "Hotel Három Hattyú",
                                    "SZOBA_ID": "125",
                                    "mettol": "2016-04-11",
                                    "átlagos előző 5 foglalás létszám": "NULL"
                                },
                                {
                                    "SZALLAS_NEV": "Hotel Három Hattyú",
                                    "SZOBA_ID": "126",
                                    "mettol": "2016-08-04",
                                    "átlagos előző 5 foglalás létszám": "NULL"
                                },
                                {
                                    "SZALLAS_NEV": "Hotel Három Hattyú",
                                    "SZOBA_ID": "126",
                                    "mettol": "2016-08-21",
                                    "átlagos előző 5 foglalás létszám": "3"
                                },
                                {
                                    "SZALLAS_NEV": "Hotel Három Hattyú",
                                    "SZOBA_ID": "126",
                                    "mettol": "2016-10-08",
                                    "átlagos előző 5 foglalás létszám": "2"
                                },
                                {
                                    "SZALLAS_NEV": "Hotel Három Hattyú",
                                    "SZOBA_ID": "126",
                                    "mettol": "2016-12-15",
                                    "átlagos előző 5 foglalás létszám": "2"
                                },
                                {
                                    "SZALLAS_NEV": "Hotel Három Hattyú",
                                    "SZOBA_ID": "126",
                                    "mettol": "2017-01-09",
                                    "átlagos előző 5 foglalás létszám": "2"
                                },
                                {
                                    "SZALLAS_NEV": "Hotel Három Hattyú",
                                    "SZOBA_ID": "126",
                                    "mettol": "2017-02-05",
                                    "átlagos előző 5 foglalás létszám": "1"
                                },
                                {
                                    "SZALLAS_NEV": "Hotel Három Hattyú",
                                    "SZOBA_ID": "127",
                                    "mettol": "2016-05-14",
                                    "átlagos előző 5 foglalás létszám": "NULL"
                                },
                                {
                                    "SZALLAS_NEV": "Hotel Három Hattyú",
                                    "SZOBA_ID": "127",
                                    "mettol": "2016-05-24",
                                    "átlagos előző 5 foglalás létszám": "2"
                                },
                                {
                                    "SZALLAS_NEV": "Hotel Három Hattyú",
                                    "SZOBA_ID": "127",
                                    "mettol": "2016-05-30",
                                    "átlagos előző 5 foglalás létszám": "2"
                                },
                                {
                                    "SZALLAS_NEV": "Hotel Három Hattyú",
                                    "SZOBA_ID": "127",
                                    "mettol": "2016-09-06",
                                    "átlagos előző 5 foglalás létszám": "2"
                                },
                                {
                                    "SZALLAS_NEV": "Hotel Három Hattyú",
                                    "SZOBA_ID": "127",
                                    "mettol": "2016-10-30",
                                    "átlagos előző 5 foglalás létszám": "1"
                                },
                                {
                                    "SZALLAS_NEV": "Hotel Három Hattyú",
                                    "SZOBA_ID": "127",
                                    "mettol": "2016-11-16",
                                    "átlagos előző 5 foglalás létszám": "2"
                                },
                                {
                                    "SZALLAS_NEV": "Hotel Három Hattyú",
                                    "SZOBA_ID": "127",
                                    "mettol": "2017-02-28",
                                    "átlagos előző 5 foglalás létszám": "2"
                                },
                                {
                                    "SZALLAS_NEV": "Hotel Három Hattyú",
                                    "SZOBA_ID": "128",
                                    "mettol": "2016-07-26",
                                    "átlagos előző 5 foglalás létszám": "NULL"
                                },
                                {
                                    "SZALLAS_NEV": "Hotel Három Hattyú",
                                    "SZOBA_ID": "128",
                                    "mettol": "2016-08-24",
                                    "átlagos előző 5 foglalás létszám": "2"
                                },
                                {
                                    "SZALLAS_NEV": "Hotel Három Hattyú",
                                    "SZOBA_ID": "128",
                                    "mettol": "2016-11-19",
                                    "átlagos előző 5 foglalás létszám": "2"
                                },
                                {
                                    "SZALLAS_NEV": "Hotel Három Hattyú",
                                    "SZOBA_ID": "128",
                                    "mettol": "2017-02-26",
                                    "átlagos előző 5 foglalás létszám": "2"
                                },
                                {
                                    "SZALLAS_NEV": "Hotel Három Hattyú",
                                    "SZOBA_ID": "128",
                                    "mettol": "2017-03-03",
                                    "átlagos előző 5 foglalás létszám": "2"
                                },
                                {
                                    "SZALLAS_NEV": "Hotel Három Hattyú",
                                    "SZOBA_ID": "129",
                                    "mettol": "2016-07-27",
                                    "átlagos előző 5 foglalás létszám": "NULL"
                                },
                                {
                                    "SZALLAS_NEV": "Hotel Három Hattyú",
                                    "SZOBA_ID": "129",
                                    "mettol": "2016-12-13",
                                    "átlagos előző 5 foglalás létszám": "2"
                                },
                                {
                                    "SZALLAS_NEV": "Hotel Három Hattyú",
                                    "SZOBA_ID": "129",
                                    "mettol": "2017-01-16",
                                    "átlagos előző 5 foglalás létszám": "2"
                                },
                                {
                                    "SZALLAS_NEV": "Hotel Három Hattyú",
                                    "SZOBA_ID": "129",
                                    "mettol": "2017-02-08",
                                    "átlagos előző 5 foglalás létszám": "2"
                                },
                                {
                                    "SZALLAS_NEV": "Jáde panzió",
                                    "SZOBA_ID": "130",
                                    "mettol": "2016-04-14",
                                    "átlagos előző 5 foglalás létszám": "NULL"
                                },
                                {
                                    "SZALLAS_NEV": "Jáde panzió",
                                    "SZOBA_ID": "130",
                                    "mettol": "2016-05-01",
                                    "átlagos előző 5 foglalás létszám": "2"
                                },
                                {
                                    "SZALLAS_NEV": "Jáde panzió",
                                    "SZOBA_ID": "130",
                                    "mettol": "2016-06-06",
                                    "átlagos előző 5 foglalás létszám": "2"
                                },
                                {
                                    "SZALLAS_NEV": "Jáde panzió",
                                    "SZOBA_ID": "130",
                                    "mettol": "2016-08-15",
                                    "átlagos előző 5 foglalás létszám": "2"
                                },
                                {
                                    "SZALLAS_NEV": "Jáde panzió",
                                    "SZOBA_ID": "130",
                                    "mettol": "2016-09-09",
                                    "átlagos előző 5 foglalás létszám": "1"
                                },
                                {
                                    "SZALLAS_NEV": "Jáde panzió",
                                    "SZOBA_ID": "130",
                                    "mettol": "2017-01-26",
                                    "átlagos előző 5 foglalás létszám": "1"
                                },
                                {
                                    "SZALLAS_NEV": "Jáde panzió",
                                    "SZOBA_ID": "131",
                                    "mettol": "2016-04-06",
                                    "átlagos előző 5 foglalás létszám": "NULL"
                                },
                                {
                                    "SZALLAS_NEV": "Jáde panzió",
                                    "SZOBA_ID": "131",
                                    "mettol": "2016-05-18",
                                    "átlagos előző 5 foglalás létszám": "2"
                                },
                                {
                                    "SZALLAS_NEV": "Jáde panzió",
                                    "SZOBA_ID": "131",
                                    "mettol": "2016-05-30",
                                    "átlagos előző 5 foglalás létszám": "2"
                                },
                                {
                                    "SZALLAS_NEV": "Jáde panzió",
                                    "SZOBA_ID": "131",
                                    "mettol": "2016-08-06",
                                    "átlagos előző 5 foglalás létszám": "1"
                                },
                                {
                                    "SZALLAS_NEV": "Jáde panzió",
                                    "SZOBA_ID": "131",
                                    "mettol": "2017-01-25",
                                    "átlagos előző 5 foglalás létszám": "1"
                                },
                                {
                                    "SZALLAS_NEV": "Jáde panzió",
                                    "SZOBA_ID": "132",
                                    "mettol": "2016-05-04",
                                    "átlagos előző 5 foglalás létszám": "NULL"
                                },
                                {
                                    "SZALLAS_NEV": "Jáde panzió",
                                    "SZOBA_ID": "132",
                                    "mettol": "2016-07-01",
                                    "átlagos előző 5 foglalás létszám": "2"
                                },
                                {
                                    "SZALLAS_NEV": "Jáde panzió",
                                    "SZOBA_ID": "132",
                                    "mettol": "2016-09-30",
                                    "átlagos előző 5 foglalás létszám": "2"
                                },
                                {
                                    "SZALLAS_NEV": "Jáde panzió",
                                    "SZOBA_ID": "132",
                                    "mettol": "2016-10-01",
                                    "átlagos előző 5 foglalás létszám": "2"
                                },
                                {
                                    "SZALLAS_NEV": "Jáde panzió",
                                    "SZOBA_ID": "132",
                                    "mettol": "2016-11-22",
                                    "átlagos előző 5 foglalás létszám": "2"
                                },
                                {
                                    "SZALLAS_NEV": "Jáde panzió",
                                    "SZOBA_ID": "132",
                                    "mettol": "2017-02-12",
                                    "átlagos előző 5 foglalás létszám": "2"
                                },
                                {
                                    "SZALLAS_NEV": "Jáde panzió",
                                    "SZOBA_ID": "133",
                                    "mettol": "2016-06-06",
                                    "átlagos előző 5 foglalás létszám": "NULL"
                                },
                                {
                                    "SZALLAS_NEV": "Jáde panzió",
                                    "SZOBA_ID": "133",
                                    "mettol": "2016-06-27",
                                    "átlagos előző 5 foglalás létszám": "3"
                                },
                                {
                                    "SZALLAS_NEV": "Jáde panzió",
                                    "SZOBA_ID": "133",
                                    "mettol": "2016-10-12",
                                    "átlagos előző 5 foglalás létszám": "2"
                                },
                                {
                                    "SZALLAS_NEV": "Jáde panzió",
                                    "SZOBA_ID": "133",
                                    "mettol": "2016-11-22",
                                    "átlagos előző 5 foglalás létszám": "2"
                                },
                                {
                                    "SZALLAS_NEV": "Jáde panzió",
                                    "SZOBA_ID": "133",
                                    "mettol": "2016-12-15",
                                    "átlagos előző 5 foglalás létszám": "2"
                                },
                                {
                                    "SZALLAS_NEV": "Jáde panzió",
                                    "SZOBA_ID": "133",
                                    "mettol": "2017-01-01",
                                    "átlagos előző 5 foglalás létszám": "2"
                                },
                                {
                                    "SZALLAS_NEV": "Jáde panzió",
                                    "SZOBA_ID": "134",
                                    "mettol": "2016-07-03",
                                    "átlagos előző 5 foglalás létszám": "NULL"
                                },
                                {
                                    "SZALLAS_NEV": "Jáde panzió",
                                    "SZOBA_ID": "134",
                                    "mettol": "2016-07-11",
                                    "átlagos előző 5 foglalás létszám": "2"
                                },
                                {
                                    "SZALLAS_NEV": "Jáde panzió",
                                    "SZOBA_ID": "134",
                                    "mettol": "2016-09-12",
                                    "átlagos előző 5 foglalás létszám": "2"
                                },
                                {
                                    "SZALLAS_NEV": "Jáde panzió",
                                    "SZOBA_ID": "134",
                                    "mettol": "2016-10-22",
                                    "átlagos előző 5 foglalás létszám": "2"
                                },
                                {
                                    "SZALLAS_NEV": "Jáde panzió",
                                    "SZOBA_ID": "134",
                                    "mettol": "2016-10-30",
                                    "átlagos előző 5 foglalás létszám": "2"
                                },
                                {
                                    "SZALLAS_NEV": "Jáde panzió",
                                    "SZOBA_ID": "134",
                                    "mettol": "2017-02-15",
                                    "átlagos előző 5 foglalás létszám": "2"
                                },
                                {
                                    "SZALLAS_NEV": "Lagúna Hotel",
                                    "SZOBA_ID": "135",
                                    "mettol": "2016-07-27",
                                    "átlagos előző 5 foglalás létszám": "NULL"
                                },
                                {
                                    "SZALLAS_NEV": "Lagúna Hotel",
                                    "SZOBA_ID": "135",
                                    "mettol": "2016-09-05",
                                    "átlagos előző 5 foglalás létszám": "2"
                                },
                                {
                                    "SZALLAS_NEV": "Lagúna Hotel",
                                    "SZOBA_ID": "135",
                                    "mettol": "2016-11-18",
                                    "átlagos előző 5 foglalás létszám": "2"
                                },
                                {
                                    "SZALLAS_NEV": "Lagúna Hotel",
                                    "SZOBA_ID": "136",
                                    "mettol": "2016-04-17",
                                    "átlagos előző 5 foglalás létszám": "NULL"
                                },
                                {
                                    "SZALLAS_NEV": "Lagúna Hotel",
                                    "SZOBA_ID": "136",
                                    "mettol": "2016-05-21",
                                    "átlagos előző 5 foglalás létszám": "2"
                                },
                                {
                                    "SZALLAS_NEV": "Lagúna Hotel",
                                    "SZOBA_ID": "136",
                                    "mettol": "2016-09-12",
                                    "átlagos előző 5 foglalás létszám": "1"
                                },
                                {
                                    "SZALLAS_NEV": "Lagúna Hotel",
                                    "SZOBA_ID": "137",
                                    "mettol": "2016-04-16",
                                    "átlagos előző 5 foglalás létszám": "NULL"
                                },
                                {
                                    "SZALLAS_NEV": "Lagúna Hotel",
                                    "SZOBA_ID": "137",
                                    "mettol": "2016-05-17",
                                    "átlagos előző 5 foglalás létszám": "2"
                                },
                                {
                                    "SZALLAS_NEV": "Lagúna Hotel",
                                    "SZOBA_ID": "137",
                                    "mettol": "2016-05-20",
                                    "átlagos előző 5 foglalás létszám": "2"
                                },
                                {
                                    "SZALLAS_NEV": "Lagúna Hotel",
                                    "SZOBA_ID": "137",
                                    "mettol": "2016-07-06",
                                    "átlagos előző 5 foglalás létszám": "1"
                                },
                                {
                                    "SZALLAS_NEV": "Lagúna Hotel",
                                    "SZOBA_ID": "137",
                                    "mettol": "2016-10-26",
                                    "átlagos előző 5 foglalás létszám": "1"
                                },
                                {
                                    "SZALLAS_NEV": "Lagúna Hotel",
                                    "SZOBA_ID": "137",
                                    "mettol": "2016-11-15",
                                    "átlagos előző 5 foglalás létszám": "2"
                                },
                                {
                                    "SZALLAS_NEV": "Lagúna Hotel",
                                    "SZOBA_ID": "138",
                                    "mettol": "2016-08-12",
                                    "átlagos előző 5 foglalás létszám": "NULL"
                                },
                                {
                                    "SZALLAS_NEV": "Lagúna Hotel",
                                    "SZOBA_ID": "138",
                                    "mettol": "2016-08-17",
                                    "átlagos előző 5 foglalás létszám": "4"
                                },
                                {
                                    "SZALLAS_NEV": "Lagúna Hotel",
                                    "SZOBA_ID": "138",
                                    "mettol": "2016-11-06",
                                    "átlagos előző 5 foglalás létszám": "3"
                                },
                                {
                                    "SZALLAS_NEV": "Lagúna Hotel",
                                    "SZOBA_ID": "138",
                                    "mettol": "2016-11-16",
                                    "átlagos előző 5 foglalás létszám": "3"
                                },
                                {
                                    "SZALLAS_NEV": "Lagúna Hotel",
                                    "SZOBA_ID": "138",
                                    "mettol": "2016-11-19",
                                    "átlagos előző 5 foglalás létszám": "3"
                                },
                                {
                                    "SZALLAS_NEV": "Lagúna Hotel",
                                    "SZOBA_ID": "138",
                                    "mettol": "2016-12-11",
                                    "átlagos előző 5 foglalás létszám": "2"
                                },
                                {
                                    "SZALLAS_NEV": "Lagúna Hotel",
                                    "SZOBA_ID": "138",
                                    "mettol": "2016-12-17",
                                    "átlagos előző 5 foglalás létszám": "2"
                                },
                                {
                                    "SZALLAS_NEV": "Lagúna Hotel",
                                    "SZOBA_ID": "139",
                                    "mettol": "2016-04-14",
                                    "átlagos előző 5 foglalás létszám": "NULL"
                                },
                                {
                                    "SZALLAS_NEV": "Lagúna Hotel",
                                    "SZOBA_ID": "139",
                                    "mettol": "2016-08-01",
                                    "átlagos előző 5 foglalás létszám": "2"
                                },
                                {
                                    "SZALLAS_NEV": "Lagúna Hotel",
                                    "SZOBA_ID": "139",
                                    "mettol": "2016-08-03",
                                    "átlagos előző 5 foglalás létszám": "2"
                                },
                                {
                                    "SZALLAS_NEV": "Lagúna Hotel",
                                    "SZOBA_ID": "139",
                                    "mettol": "2016-09-10",
                                    "átlagos előző 5 foglalás létszám": "2"
                                },
                                {
                                    "SZALLAS_NEV": "Lagúna Hotel",
                                    "SZOBA_ID": "139",
                                    "mettol": "2016-09-18",
                                    "átlagos előző 5 foglalás létszám": "2"
                                },
                                {
                                    "SZALLAS_NEV": "Lagúna Hotel",
                                    "SZOBA_ID": "139",
                                    "mettol": "2017-01-11",
                                    "átlagos előző 5 foglalás létszám": "2"
                                },
                                {
                                    "SZALLAS_NEV": "Lagúna Hotel",
                                    "SZOBA_ID": "139",
                                    "mettol": "2017-01-17",
                                    "átlagos előző 5 foglalás létszám": "2"
                                },
                                {
                                    "SZALLAS_NEV": "Lagúna Hotel",
                                    "SZOBA_ID": "140",
                                    "mettol": "2016-06-06",
                                    "átlagos előző 5 foglalás létszám": "NULL"
                                },
                                {
                                    "SZALLAS_NEV": "Lagúna Hotel",
                                    "SZOBA_ID": "140",
                                    "mettol": "2016-07-28",
                                    "átlagos előző 5 foglalás létszám": "2"
                                },
                                {
                                    "SZALLAS_NEV": "Lagúna Hotel",
                                    "SZOBA_ID": "140",
                                    "mettol": "2016-10-01",
                                    "átlagos előző 5 foglalás létszám": "1"
                                },
                                {
                                    "SZALLAS_NEV": "Lagúna Hotel",
                                    "SZOBA_ID": "140",
                                    "mettol": "2016-10-15",
                                    "átlagos előző 5 foglalás létszám": "2"
                                },
                                {
                                    "SZALLAS_NEV": "Lagúna Hotel",
                                    "SZOBA_ID": "140",
                                    "mettol": "2016-11-07",
                                    "átlagos előző 5 foglalás létszám": "1"
                                },
                                {
                                    "SZALLAS_NEV": "Lagúna Hotel",
                                    "SZOBA_ID": "140",
                                    "mettol": "2016-12-10",
                                    "átlagos előző 5 foglalás létszám": "2"
                                },
                                {
                                    "SZALLAS_NEV": "Lagúna Hotel",
                                    "SZOBA_ID": "140",
                                    "mettol": "2016-12-14",
                                    "átlagos előző 5 foglalás létszám": "2"
                                },
                                {
                                    "SZALLAS_NEV": "Lagúna Hotel",
                                    "SZOBA_ID": "140",
                                    "mettol": "2016-12-17",
                                    "átlagos előző 5 foglalás létszám": "2"
                                },
                                {
                                    "SZALLAS_NEV": "Lagúna Hotel",
                                    "SZOBA_ID": "141",
                                    "mettol": "2016-04-08",
                                    "átlagos előző 5 foglalás létszám": "NULL"
                                },
                                {
                                    "SZALLAS_NEV": "Lagúna Hotel",
                                    "SZOBA_ID": "141",
                                    "mettol": "2016-06-05",
                                    "átlagos előző 5 foglalás létszám": "2"
                                },
                                {
                                    "SZALLAS_NEV": "Lagúna Hotel",
                                    "SZOBA_ID": "141",
                                    "mettol": "2016-08-06",
                                    "átlagos előző 5 foglalás létszám": "2"
                                },
                                {
                                    "SZALLAS_NEV": "Lagúna Hotel",
                                    "SZOBA_ID": "141",
                                    "mettol": "2016-08-16",
                                    "átlagos előző 5 foglalás létszám": "2"
                                },
                                {
                                    "SZALLAS_NEV": "Lagúna Hotel",
                                    "SZOBA_ID": "141",
                                    "mettol": "2016-11-06",
                                    "átlagos előző 5 foglalás létszám": "2"
                                },
                                {
                                    "SZALLAS_NEV": "Lagúna Hotel",
                                    "SZOBA_ID": "141",
                                    "mettol": "2016-12-27",
                                    "átlagos előző 5 foglalás létszám": "2"
                                },
                                {
                                    "SZALLAS_NEV": "Lagúna Hotel",
                                    "SZOBA_ID": "142",
                                    "mettol": "2016-12-17",
                                    "átlagos előző 5 foglalás létszám": "NULL"
                                },
                                {
                                    "SZALLAS_NEV": "Lagúna Hotel",
                                    "SZOBA_ID": "142",
                                    "mettol": "2017-02-17",
                                    "átlagos előző 5 foglalás létszám": "3"
                                },
                                {
                                    "SZALLAS_NEV": "Lagúna Hotel",
                                    "SZOBA_ID": "143",
                                    "mettol": "2016-06-23",
                                    "átlagos előző 5 foglalás létszám": "NULL"
                                },
                                {
                                    "SZALLAS_NEV": "Lagúna Hotel",
                                    "SZOBA_ID": "143",
                                    "mettol": "2016-10-15",
                                    "átlagos előző 5 foglalás létszám": "1"
                                },
                                {
                                    "SZALLAS_NEV": "Lagúna Hotel",
                                    "SZOBA_ID": "143",
                                    "mettol": "2016-10-26",
                                    "átlagos előző 5 foglalás létszám": "2"
                                },
                                {
                                    "SZALLAS_NEV": "Lagúna Hotel",
                                    "SZOBA_ID": "143",
                                    "mettol": "2016-10-30",
                                    "átlagos előző 5 foglalás létszám": "2"
                                },
                                {
                                    "SZALLAS_NEV": "Lagúna Hotel",
                                    "SZOBA_ID": "143",
                                    "mettol": "2016-11-23",
                                    "átlagos előző 5 foglalás létszám": "2"
                                },
                                {
                                    "SZALLAS_NEV": "Lagúna Hotel",
                                    "SZOBA_ID": "143",
                                    "mettol": "2016-12-25",
                                    "átlagos előző 5 foglalás létszám": "2"
                                },
                                {
                                    "SZALLAS_NEV": "Lagúna Hotel",
                                    "SZOBA_ID": "143",
                                    "mettol": "2017-01-16",
                                    "átlagos előző 5 foglalás létszám": "3"
                                },
                                {
                                    "SZALLAS_NEV": "Lagúna Hotel",
                                    "SZOBA_ID": "144",
                                    "mettol": "2016-04-15",
                                    "átlagos előző 5 foglalás létszám": "NULL"
                                },
                                {
                                    "SZALLAS_NEV": "Lagúna Hotel",
                                    "SZOBA_ID": "144",
                                    "mettol": "2016-09-29",
                                    "átlagos előző 5 foglalás létszám": "3"
                                },
                                {
                                    "SZALLAS_NEV": "Lagúna Hotel",
                                    "SZOBA_ID": "144",
                                    "mettol": "2016-10-26",
                                    "átlagos előző 5 foglalás létszám": "3"
                                },
                                {
                                    "SZALLAS_NEV": "Lagúna Hotel",
                                    "SZOBA_ID": "144",
                                    "mettol": "2016-11-19",
                                    "átlagos előző 5 foglalás létszám": "3"
                                },
                                {
                                    "SZALLAS_NEV": "Lagúna Hotel",
                                    "SZOBA_ID": "144",
                                    "mettol": "2017-02-25",
                                    "átlagos előző 5 foglalás létszám": "3"
                                },
                                {
                                    "SZALLAS_NEV": "Lagúna Hotel",
                                    "SZOBA_ID": "145",
                                    "mettol": "2016-07-22",
                                    "átlagos előző 5 foglalás létszám": "NULL"
                                },
                                {
                                    "SZALLAS_NEV": "Lagúna Hotel",
                                    "SZOBA_ID": "145",
                                    "mettol": "2016-09-23",
                                    "átlagos előző 5 foglalás létszám": "4"
                                },
                                {
                                    "SZALLAS_NEV": "Lagúna Hotel",
                                    "SZOBA_ID": "145",
                                    "mettol": "2016-10-04",
                                    "átlagos előző 5 foglalás létszám": "3"
                                },
                                {
                                    "SZALLAS_NEV": "Lagúna Hotel",
                                    "SZOBA_ID": "145",
                                    "mettol": "2016-10-09",
                                    "átlagos előző 5 foglalás létszám": "3"
                                },
                                {
                                    "SZALLAS_NEV": "Lagúna Hotel",
                                    "SZOBA_ID": "145",
                                    "mettol": "2016-12-02",
                                    "átlagos előző 5 foglalás létszám": "2"
                                },
                                {
                                    "SZALLAS_NEV": "Lagúna Hotel",
                                    "SZOBA_ID": "145",
                                    "mettol": "2017-01-23",
                                    "átlagos előző 5 foglalás létszám": "2"
                                },
                                {
                                    "SZALLAS_NEV": "Lagúna Hotel",
                                    "SZOBA_ID": "146",
                                    "mettol": "2016-06-02",
                                    "átlagos előző 5 foglalás létszám": "NULL"
                                },
                                {
                                    "SZALLAS_NEV": "Lagúna Hotel",
                                    "SZOBA_ID": "146",
                                    "mettol": "2016-07-13",
                                    "átlagos előző 5 foglalás létszám": "3"
                                },
                                {
                                    "SZALLAS_NEV": "Lagúna Hotel",
                                    "SZOBA_ID": "146",
                                    "mettol": "2016-08-16",
                                    "átlagos előző 5 foglalás létszám": "2"
                                },
                                {
                                    "SZALLAS_NEV": "Lagúna Hotel",
                                    "SZOBA_ID": "146",
                                    "mettol": "2016-08-20",
                                    "átlagos előző 5 foglalás létszám": "2"
                                },
                                {
                                    "SZALLAS_NEV": "Lagúna Hotel",
                                    "SZOBA_ID": "146",
                                    "mettol": "2016-09-05",
                                    "átlagos előző 5 foglalás létszám": "2"
                                },
                                {
                                    "SZALLAS_NEV": "Lagúna Hotel",
                                    "SZOBA_ID": "146",
                                    "mettol": "2017-01-28",
                                    "átlagos előző 5 foglalás létszám": "2"
                                },
                                {
                                    "SZALLAS_NEV": "Lagúna Hotel",
                                    "SZOBA_ID": "147",
                                    "mettol": "2016-08-12",
                                    "átlagos előző 5 foglalás létszám": "NULL"
                                },
                                {
                                    "SZALLAS_NEV": "Lagúna Hotel",
                                    "SZOBA_ID": "148",
                                    "mettol": "2016-07-17",
                                    "átlagos előző 5 foglalás létszám": "NULL"
                                },
                                {
                                    "SZALLAS_NEV": "Lagúna Hotel",
                                    "SZOBA_ID": "148",
                                    "mettol": "2016-08-09",
                                    "átlagos előző 5 foglalás létszám": "2"
                                },
                                {
                                    "SZALLAS_NEV": "Lagúna Hotel",
                                    "SZOBA_ID": "148",
                                    "mettol": "2016-08-16",
                                    "átlagos előző 5 foglalás létszám": "2"
                                },
                                {
                                    "SZALLAS_NEV": "Lagúna Hotel",
                                    "SZOBA_ID": "148",
                                    "mettol": "2016-08-23",
                                    "átlagos előző 5 foglalás létszám": "2"
                                },
                                {
                                    "SZALLAS_NEV": "Lagúna Hotel",
                                    "SZOBA_ID": "148",
                                    "mettol": "2016-08-23",
                                    "átlagos előző 5 foglalás létszám": "2"
                                },
                                {
                                    "SZALLAS_NEV": "Lagúna Hotel",
                                    "SZOBA_ID": "148",
                                    "mettol": "2017-02-27",
                                    "átlagos előző 5 foglalás létszám": "2"
                                },
                                {
                                    "SZALLAS_NEV": "Lagúna Hotel",
                                    "SZOBA_ID": "149",
                                    "mettol": "2016-04-20",
                                    "átlagos előző 5 foglalás létszám": "NULL"
                                },
                                {
                                    "SZALLAS_NEV": "Lagúna Hotel",
                                    "SZOBA_ID": "149",
                                    "mettol": "2016-05-18",
                                    "átlagos előző 5 foglalás létszám": "2"
                                },
                                {
                                    "SZALLAS_NEV": "Lagúna Hotel",
                                    "SZOBA_ID": "149",
                                    "mettol": "2016-08-28",
                                    "átlagos előző 5 foglalás létszám": "1"
                                },
                                {
                                    "SZALLAS_NEV": "Lagúna Hotel",
                                    "SZOBA_ID": "149",
                                    "mettol": "2016-08-29",
                                    "átlagos előző 5 foglalás létszám": "1"
                                },
                                {
                                    "SZALLAS_NEV": "Lagúna Hotel",
                                    "SZOBA_ID": "149",
                                    "mettol": "2016-09-01",
                                    "átlagos előző 5 foglalás létszám": "1"
                                },
                                {
                                    "SZALLAS_NEV": "Lagúna Hotel",
                                    "SZOBA_ID": "149",
                                    "mettol": "2016-10-10",
                                    "átlagos előző 5 foglalás létszám": "1"
                                },
                                {
                                    "SZALLAS_NEV": "Lagúna Hotel",
                                    "SZOBA_ID": "149",
                                    "mettol": "2017-02-09",
                                    "átlagos előző 5 foglalás létszám": "1"
                                },
                                {
                                    "SZALLAS_NEV": "Lagúna Hotel",
                                    "SZOBA_ID": "150",
                                    "mettol": "2016-05-13",
                                    "átlagos előző 5 foglalás létszám": "NULL"
                                },
                                {
                                    "SZALLAS_NEV": "Lagúna Hotel",
                                    "SZOBA_ID": "150",
                                    "mettol": "2016-10-01",
                                    "átlagos előző 5 foglalás létszám": "3"
                                },
                                {
                                    "SZALLAS_NEV": "Lagúna Hotel",
                                    "SZOBA_ID": "150",
                                    "mettol": "2016-10-01",
                                    "átlagos előző 5 foglalás létszám": "2"
                                },
                                {
                                    "SZALLAS_NEV": "Lagúna Hotel",
                                    "SZOBA_ID": "150",
                                    "mettol": "2016-10-22",
                                    "átlagos előző 5 foglalás létszám": "2"
                                },
                                {
                                    "SZALLAS_NEV": "Lagúna Hotel",
                                    "SZOBA_ID": "150",
                                    "mettol": "2016-10-26",
                                    "átlagos előző 5 foglalás létszám": "2"
                                },
                                {
                                    "SZALLAS_NEV": "Lagúna Hotel",
                                    "SZOBA_ID": "150",
                                    "mettol": "2017-01-10",
                                    "átlagos előző 5 foglalás létszám": "2"
                                },
                                {
                                    "SZALLAS_NEV": "Lagúna Hotel",
                                    "SZOBA_ID": "151",
                                    "mettol": "2016-06-03",
                                    "átlagos előző 5 foglalás létszám": "NULL"
                                },
                                {
                                    "SZALLAS_NEV": "Lagúna Hotel",
                                    "SZOBA_ID": "151",
                                    "mettol": "2016-09-16",
                                    "átlagos előző 5 foglalás létszám": "1"
                                },
                                {
                                    "SZALLAS_NEV": "Lagúna Hotel",
                                    "SZOBA_ID": "151",
                                    "mettol": "2016-10-02",
                                    "átlagos előző 5 foglalás létszám": "1"
                                },
                                {
                                    "SZALLAS_NEV": "Lagúna Hotel",
                                    "SZOBA_ID": "152",
                                    "mettol": "2016-07-28",
                                    "átlagos előző 5 foglalás létszám": "NULL"
                                },
                                {
                                    "SZALLAS_NEV": "Lagúna Hotel",
                                    "SZOBA_ID": "152",
                                    "mettol": "2016-10-16",
                                    "átlagos előző 5 foglalás létszám": "2"
                                },
                                {
                                    "SZALLAS_NEV": "Lagúna Hotel",
                                    "SZOBA_ID": "152",
                                    "mettol": "2016-10-26",
                                    "átlagos előző 5 foglalás létszám": "2"
                                },
                                {
                                    "SZALLAS_NEV": "Lagúna Hotel",
                                    "SZOBA_ID": "152",
                                    "mettol": "2017-02-21",
                                    "átlagos előző 5 foglalás létszám": "2"
                                },
                                {
                                    "SZALLAS_NEV": "Lagúna Hotel",
                                    "SZOBA_ID": "153",
                                    "mettol": "2016-04-22",
                                    "átlagos előző 5 foglalás létszám": "NULL"
                                },
                                {
                                    "SZALLAS_NEV": "Lagúna Hotel",
                                    "SZOBA_ID": "153",
                                    "mettol": "2016-06-17",
                                    "átlagos előző 5 foglalás létszám": "2"
                                },
                                {
                                    "SZALLAS_NEV": "Lagúna Hotel",
                                    "SZOBA_ID": "153",
                                    "mettol": "2017-01-21",
                                    "átlagos előző 5 foglalás létszám": "2"
                                },
                                {
                                    "SZALLAS_NEV": "Lagúna Hotel",
                                    "SZOBA_ID": "153",
                                    "mettol": "2017-01-23",
                                    "átlagos előző 5 foglalás létszám": "2"
                                },
                                {
                                    "SZALLAS_NEV": "Lagúna Hotel",
                                    "SZOBA_ID": "153",
                                    "mettol": "2017-02-07",
                                    "átlagos előző 5 foglalás létszám": "2"
                                },
                                {
                                    "SZALLAS_NEV": "Lagúna Hotel",
                                    "SZOBA_ID": "154",
                                    "mettol": "2016-06-16",
                                    "átlagos előző 5 foglalás létszám": "NULL"
                                },
                                {
                                    "SZALLAS_NEV": "Lagúna Hotel",
                                    "SZOBA_ID": "154",
                                    "mettol": "2016-09-17",
                                    "átlagos előző 5 foglalás létszám": "2"
                                },
                                {
                                    "SZALLAS_NEV": "Lagúna Hotel",
                                    "SZOBA_ID": "154",
                                    "mettol": "2016-10-19",
                                    "átlagos előző 5 foglalás létszám": "2"
                                },
                                {
                                    "SZALLAS_NEV": "Lagúna Hotel",
                                    "SZOBA_ID": "154",
                                    "mettol": "2016-11-07",
                                    "átlagos előző 5 foglalás létszám": "2"
                                },
                                {
                                    "SZALLAS_NEV": "Lagúna Hotel",
                                    "SZOBA_ID": "154",
                                    "mettol": "2017-02-16",
                                    "átlagos előző 5 foglalás létszám": "2"
                                },
                                {
                                    "SZALLAS_NEV": "Lagúna Hotel",
                                    "SZOBA_ID": "155",
                                    "mettol": "2016-04-10",
                                    "átlagos előző 5 foglalás létszám": "NULL"
                                },
                                {
                                    "SZALLAS_NEV": "Lagúna Hotel",
                                    "SZOBA_ID": "155",
                                    "mettol": "2016-04-12",
                                    "átlagos előző 5 foglalás létszám": "4"
                                },
                                {
                                    "SZALLAS_NEV": "Lagúna Hotel",
                                    "SZOBA_ID": "155",
                                    "mettol": "2016-10-01",
                                    "átlagos előző 5 foglalás létszám": "3"
                                },
                                {
                                    "SZALLAS_NEV": "Lagúna Hotel",
                                    "SZOBA_ID": "155",
                                    "mettol": "2016-11-23",
                                    "átlagos előző 5 foglalás létszám": "2"
                                },
                                {
                                    "SZALLAS_NEV": "Lagúna Hotel",
                                    "SZOBA_ID": "155",
                                    "mettol": "2017-02-16",
                                    "átlagos előző 5 foglalás létszám": "3"
                                },
                                {
                                    "SZALLAS_NEV": "Lagúna Hotel",
                                    "SZOBA_ID": "156",
                                    "mettol": "2016-04-19",
                                    "átlagos előző 5 foglalás létszám": "NULL"
                                },
                                {
                                    "SZALLAS_NEV": "Lagúna Hotel",
                                    "SZOBA_ID": "156",
                                    "mettol": "2016-06-05",
                                    "átlagos előző 5 foglalás létszám": "4"
                                },
                                {
                                    "SZALLAS_NEV": "Lagúna Hotel",
                                    "SZOBA_ID": "156",
                                    "mettol": "2016-06-13",
                                    "átlagos előző 5 foglalás létszám": "3"
                                },
                                {
                                    "SZALLAS_NEV": "Lagúna Hotel",
                                    "SZOBA_ID": "156",
                                    "mettol": "2016-07-20",
                                    "átlagos előző 5 foglalás létszám": "3"
                                },
                                {
                                    "SZALLAS_NEV": "Lagúna Hotel",
                                    "SZOBA_ID": "156",
                                    "mettol": "2017-01-22",
                                    "átlagos előző 5 foglalás létszám": "3"
                                },
                                {
                                    "SZALLAS_NEV": "Lagúna Hotel",
                                    "SZOBA_ID": "156",
                                    "mettol": "2017-02-03",
                                    "átlagos előző 5 foglalás létszám": "3"
                                },
                                {
                                    "SZALLAS_NEV": "Lagúna Hotel",
                                    "SZOBA_ID": "156",
                                    "mettol": "2017-02-23",
                                    "átlagos előző 5 foglalás létszám": "2"
                                },
                                {
                                    "SZALLAS_NEV": "Lagúna Hotel",
                                    "SZOBA_ID": "157",
                                    "mettol": "2016-05-16",
                                    "átlagos előző 5 foglalás létszám": "NULL"
                                },
                                {
                                    "SZALLAS_NEV": "Lagúna Hotel",
                                    "SZOBA_ID": "157",
                                    "mettol": "2016-07-12",
                                    "átlagos előző 5 foglalás létszám": "1"
                                },
                                {
                                    "SZALLAS_NEV": "Lagúna Hotel",
                                    "SZOBA_ID": "157",
                                    "mettol": "2016-09-13",
                                    "átlagos előző 5 foglalás létszám": "1"
                                },
                                {
                                    "SZALLAS_NEV": "Lagúna Hotel",
                                    "SZOBA_ID": "157",
                                    "mettol": "2016-11-03",
                                    "átlagos előző 5 foglalás létszám": "1"
                                },
                                {
                                    "SZALLAS_NEV": "Lagúna Hotel",
                                    "SZOBA_ID": "157",
                                    "mettol": "2017-02-19",
                                    "átlagos előző 5 foglalás létszám": "1"
                                },
                                {
                                    "SZALLAS_NEV": "Lagúna Hotel",
                                    "SZOBA_ID": "158",
                                    "mettol": "2016-08-25",
                                    "átlagos előző 5 foglalás létszám": "NULL"
                                },
                                {
                                    "SZALLAS_NEV": "Lagúna Hotel",
                                    "SZOBA_ID": "158",
                                    "mettol": "2016-08-30",
                                    "átlagos előző 5 foglalás létszám": "3"
                                },
                                {
                                    "SZALLAS_NEV": "Lagúna Hotel",
                                    "SZOBA_ID": "158",
                                    "mettol": "2016-10-03",
                                    "átlagos előző 5 foglalás létszám": "3"
                                },
                                {
                                    "SZALLAS_NEV": "Partiszél Vendégház",
                                    "SZOBA_ID": "160",
                                    "mettol": "2016-06-06",
                                    "átlagos előző 5 foglalás létszám": "NULL"
                                },
                                {
                                    "SZALLAS_NEV": "Partiszél Vendégház",
                                    "SZOBA_ID": "160",
                                    "mettol": "2016-06-07",
                                    "átlagos előző 5 foglalás létszám": "4"
                                },
                                {
                                    "SZALLAS_NEV": "Partiszél Vendégház",
                                    "SZOBA_ID": "160",
                                    "mettol": "2016-06-07",
                                    "átlagos előző 5 foglalás létszám": "3"
                                },
                                {
                                    "SZALLAS_NEV": "Partiszél Vendégház",
                                    "SZOBA_ID": "160",
                                    "mettol": "2016-07-27",
                                    "átlagos előző 5 foglalás létszám": "3"
                                },
                                {
                                    "SZALLAS_NEV": "Partiszél Vendégház",
                                    "SZOBA_ID": "160",
                                    "mettol": "2017-02-23",
                                    "átlagos előző 5 foglalás létszám": "3"
                                },
                                {
                                    "SZALLAS_NEV": "Partiszél Vendégház",
                                    "SZOBA_ID": "161",
                                    "mettol": "2016-05-12",
                                    "átlagos előző 5 foglalás létszám": "NULL"
                                },
                                {
                                    "SZALLAS_NEV": "Partiszél Vendégház",
                                    "SZOBA_ID": "161",
                                    "mettol": "2016-05-18",
                                    "átlagos előző 5 foglalás létszám": "3"
                                },
                                {
                                    "SZALLAS_NEV": "Partiszél Vendégház",
                                    "SZOBA_ID": "161",
                                    "mettol": "2016-06-06",
                                    "átlagos előző 5 foglalás létszám": "2"
                                },
                                {
                                    "SZALLAS_NEV": "Partiszél Vendégház",
                                    "SZOBA_ID": "161",
                                    "mettol": "2016-09-19",
                                    "átlagos előző 5 foglalás létszám": "2"
                                },
                                {
                                    "SZALLAS_NEV": "Partiszél Vendégház",
                                    "SZOBA_ID": "161",
                                    "mettol": "2016-10-24",
                                    "átlagos előző 5 foglalás létszám": "2"
                                },
                                {
                                    "SZALLAS_NEV": "Partiszél Vendégház",
                                    "SZOBA_ID": "161",
                                    "mettol": "2017-02-25",
                                    "átlagos előző 5 foglalás létszám": "2"
                                },
                                {
                                    "SZALLAS_NEV": "Partiszél Vendégház",
                                    "SZOBA_ID": "162",
                                    "mettol": "2016-04-24",
                                    "átlagos előző 5 foglalás létszám": "NULL"
                                },
                                {
                                    "SZALLAS_NEV": "Partiszél Vendégház",
                                    "SZOBA_ID": "162",
                                    "mettol": "2016-10-27",
                                    "átlagos előző 5 foglalás létszám": "3"
                                },
                                {
                                    "SZALLAS_NEV": "Partiszél Vendégház",
                                    "SZOBA_ID": "162",
                                    "mettol": "2016-12-26",
                                    "átlagos előző 5 foglalás létszám": "3"
                                },
                                {
                                    "SZALLAS_NEV": "Partiszél Vendégház",
                                    "SZOBA_ID": "163",
                                    "mettol": "2016-05-09",
                                    "átlagos előző 5 foglalás létszám": "NULL"
                                },
                                {
                                    "SZALLAS_NEV": "Partiszél Vendégház",
                                    "SZOBA_ID": "163",
                                    "mettol": "2016-06-10",
                                    "átlagos előző 5 foglalás létszám": "2"
                                },
                                {
                                    "SZALLAS_NEV": "Partiszél Vendégház",
                                    "SZOBA_ID": "163",
                                    "mettol": "2016-08-16",
                                    "átlagos előző 5 foglalás létszám": "2"
                                },
                                {
                                    "SZALLAS_NEV": "Partiszél Vendégház",
                                    "SZOBA_ID": "163",
                                    "mettol": "2016-09-23",
                                    "átlagos előző 5 foglalás létszám": "1"
                                },
                                {
                                    "SZALLAS_NEV": "Partiszél Vendégház",
                                    "SZOBA_ID": "163",
                                    "mettol": "2016-10-01",
                                    "átlagos előző 5 foglalás létszám": "1"
                                },
                                {
                                    "SZALLAS_NEV": "Partiszél Vendégház",
                                    "SZOBA_ID": "163",
                                    "mettol": "2016-11-08",
                                    "átlagos előző 5 foglalás létszám": "1"
                                },
                                {
                                    "SZALLAS_NEV": "Partiszél Vendégház",
                                    "SZOBA_ID": "163",
                                    "mettol": "2017-02-01",
                                    "átlagos előző 5 foglalás létszám": "1"
                                },
                                {
                                    "SZALLAS_NEV": "Partiszél Vendégház",
                                    "SZOBA_ID": "164",
                                    "mettol": "2016-04-10",
                                    "átlagos előző 5 foglalás létszám": "NULL"
                                },
                                {
                                    "SZALLAS_NEV": "Partiszél Vendégház",
                                    "SZOBA_ID": "164",
                                    "mettol": "2016-07-04",
                                    "átlagos előző 5 foglalás létszám": "2"
                                },
                                {
                                    "SZALLAS_NEV": "Partiszél Vendégház",
                                    "SZOBA_ID": "164",
                                    "mettol": "2016-07-31",
                                    "átlagos előző 5 foglalás létszám": "2"
                                },
                                {
                                    "SZALLAS_NEV": "Partiszél Vendégház",
                                    "SZOBA_ID": "164",
                                    "mettol": "2016-11-16",
                                    "átlagos előző 5 foglalás létszám": "2"
                                },
                                {
                                    "SZALLAS_NEV": "Partiszél Vendégház",
                                    "SZOBA_ID": "164",
                                    "mettol": "2016-11-19",
                                    "átlagos előző 5 foglalás létszám": "2"
                                },
                                {
                                    "SZALLAS_NEV": "Gold Hotel",
                                    "SZOBA_ID": "165",
                                    "mettol": "2016-05-12",
                                    "átlagos előző 5 foglalás létszám": "NULL"
                                },
                                {
                                    "SZALLAS_NEV": "Gold Hotel",
                                    "SZOBA_ID": "165",
                                    "mettol": "2016-05-25",
                                    "átlagos előző 5 foglalás létszám": "2"
                                },
                                {
                                    "SZALLAS_NEV": "Gold Hotel",
                                    "SZOBA_ID": "165",
                                    "mettol": "2016-06-03",
                                    "átlagos előző 5 foglalás létszám": "1"
                                },
                                {
                                    "SZALLAS_NEV": "Gold Hotel",
                                    "SZOBA_ID": "165",
                                    "mettol": "2016-06-03",
                                    "átlagos előző 5 foglalás létszám": "1"
                                },
                                {
                                    "SZALLAS_NEV": "Gold Hotel",
                                    "SZOBA_ID": "165",
                                    "mettol": "2016-06-03",
                                    "átlagos előző 5 foglalás létszám": "1"
                                },
                                {
                                    "SZALLAS_NEV": "Gold Hotel",
                                    "SZOBA_ID": "165",
                                    "mettol": "2016-10-09",
                                    "átlagos előző 5 foglalás létszám": "1"
                                },
                                {
                                    "SZALLAS_NEV": "Gold Hotel",
                                    "SZOBA_ID": "165",
                                    "mettol": "2016-12-17",
                                    "átlagos előző 5 foglalás létszám": "1"
                                },
                                {
                                    "SZALLAS_NEV": "Gold Hotel",
                                    "SZOBA_ID": "166",
                                    "mettol": "2016-05-14",
                                    "átlagos előző 5 foglalás létszám": "NULL"
                                },
                                {
                                    "SZALLAS_NEV": "Gold Hotel",
                                    "SZOBA_ID": "166",
                                    "mettol": "2016-08-16",
                                    "átlagos előző 5 foglalás létszám": "2"
                                },
                                {
                                    "SZALLAS_NEV": "Gold Hotel",
                                    "SZOBA_ID": "166",
                                    "mettol": "2017-02-12",
                                    "átlagos előző 5 foglalás létszám": "1"
                                },
                                {
                                    "SZALLAS_NEV": "Gold Hotel",
                                    "SZOBA_ID": "167",
                                    "mettol": "2016-05-24",
                                    "átlagos előző 5 foglalás létszám": "NULL"
                                },
                                {
                                    "SZALLAS_NEV": "Gold Hotel",
                                    "SZOBA_ID": "167",
                                    "mettol": "2017-01-02",
                                    "átlagos előző 5 foglalás létszám": "1"
                                },
                                {
                                    "SZALLAS_NEV": "Gold Hotel",
                                    "SZOBA_ID": "168",
                                    "mettol": "2016-06-07",
                                    "átlagos előző 5 foglalás létszám": "NULL"
                                },
                                {
                                    "SZALLAS_NEV": "Gold Hotel",
                                    "SZOBA_ID": "168",
                                    "mettol": "2016-08-16",
                                    "átlagos előző 5 foglalás létszám": "4"
                                },
                                {
                                    "SZALLAS_NEV": "Gold Hotel",
                                    "SZOBA_ID": "168",
                                    "mettol": "2016-08-17",
                                    "átlagos előző 5 foglalás létszám": "4"
                                },
                                {
                                    "SZALLAS_NEV": "Gold Hotel",
                                    "SZOBA_ID": "168",
                                    "mettol": "2016-11-05",
                                    "átlagos előző 5 foglalás létszám": "4"
                                },
                                {
                                    "SZALLAS_NEV": "Gold Hotel",
                                    "SZOBA_ID": "168",
                                    "mettol": "2016-11-08",
                                    "átlagos előző 5 foglalás létszám": "3"
                                },
                                {
                                    "SZALLAS_NEV": "Gold Hotel",
                                    "SZOBA_ID": "169",
                                    "mettol": "2016-04-10",
                                    "átlagos előző 5 foglalás létszám": "NULL"
                                },
                                {
                                    "SZALLAS_NEV": "Gold Hotel",
                                    "SZOBA_ID": "169",
                                    "mettol": "2016-05-21",
                                    "átlagos előző 5 foglalás létszám": "2"
                                },
                                {
                                    "SZALLAS_NEV": "Gold Hotel",
                                    "SZOBA_ID": "169",
                                    "mettol": "2016-06-20",
                                    "átlagos előző 5 foglalás létszám": "2"
                                },
                                {
                                    "SZALLAS_NEV": "Gold Hotel",
                                    "SZOBA_ID": "169",
                                    "mettol": "2016-08-01",
                                    "átlagos előző 5 foglalás létszám": "1"
                                },
                                {
                                    "SZALLAS_NEV": "Gold Hotel",
                                    "SZOBA_ID": "169",
                                    "mettol": "2016-12-09",
                                    "átlagos előző 5 foglalás létszám": "2"
                                },
                                {
                                    "SZALLAS_NEV": "Gold Hotel",
                                    "SZOBA_ID": "169",
                                    "mettol": "2017-01-09",
                                    "átlagos előző 5 foglalás létszám": "2"
                                },
                                {
                                    "SZALLAS_NEV": "Gold Hotel",
                                    "SZOBA_ID": "170",
                                    "mettol": "2016-04-10",
                                    "átlagos előző 5 foglalás létszám": "NULL"
                                },
                                {
                                    "SZALLAS_NEV": "Gold Hotel",
                                    "SZOBA_ID": "170",
                                    "mettol": "2016-06-10",
                                    "átlagos előző 5 foglalás létszám": "1"
                                },
                                {
                                    "SZALLAS_NEV": "Gold Hotel",
                                    "SZOBA_ID": "170",
                                    "mettol": "2016-10-26",
                                    "átlagos előző 5 foglalás létszám": "1"
                                },
                                {
                                    "SZALLAS_NEV": "Gold Hotel",
                                    "SZOBA_ID": "170",
                                    "mettol": "2016-11-09",
                                    "átlagos előző 5 foglalás létszám": "1"
                                },
                                {
                                    "SZALLAS_NEV": "Gold Hotel",
                                    "SZOBA_ID": "170",
                                    "mettol": "2016-12-04",
                                    "átlagos előző 5 foglalás létszám": "1"
                                },
                                {
                                    "SZALLAS_NEV": "Gold Hotel",
                                    "SZOBA_ID": "171",
                                    "mettol": "2016-04-10",
                                    "átlagos előző 5 foglalás létszám": "NULL"
                                },
                                {
                                    "SZALLAS_NEV": "Gold Hotel",
                                    "SZOBA_ID": "171",
                                    "mettol": "2016-06-23",
                                    "átlagos előző 5 foglalás létszám": "2"
                                },
                                {
                                    "SZALLAS_NEV": "Gold Hotel",
                                    "SZOBA_ID": "171",
                                    "mettol": "2016-10-23",
                                    "átlagos előző 5 foglalás létszám": "1"
                                },
                                {
                                    "SZALLAS_NEV": "Gold Hotel",
                                    "SZOBA_ID": "171",
                                    "mettol": "2016-11-29",
                                    "átlagos előző 5 foglalás létszám": "2"
                                },
                                {
                                    "SZALLAS_NEV": "Gold Hotel",
                                    "SZOBA_ID": "171",
                                    "mettol": "2017-02-24",
                                    "átlagos előző 5 foglalás létszám": "1"
                                },
                                {
                                    "SZALLAS_NEV": "Gold Hotel",
                                    "SZOBA_ID": "172",
                                    "mettol": "2016-06-24",
                                    "átlagos előző 5 foglalás létszám": "NULL"
                                },
                                {
                                    "SZALLAS_NEV": "Gold Hotel",
                                    "SZOBA_ID": "172",
                                    "mettol": "2016-07-24",
                                    "átlagos előző 5 foglalás létszám": "2"
                                },
                                {
                                    "SZALLAS_NEV": "Gold Hotel",
                                    "SZOBA_ID": "172",
                                    "mettol": "2016-08-02",
                                    "átlagos előző 5 foglalás létszám": "1"
                                },
                                {
                                    "SZALLAS_NEV": "Gold Hotel",
                                    "SZOBA_ID": "172",
                                    "mettol": "2016-08-29",
                                    "átlagos előző 5 foglalás létszám": "2"
                                },
                                {
                                    "SZALLAS_NEV": "Gold Hotel",
                                    "SZOBA_ID": "172",
                                    "mettol": "2016-10-09",
                                    "átlagos előző 5 foglalás létszám": "2"
                                },
                                {
                                    "SZALLAS_NEV": "Gold Hotel",
                                    "SZOBA_ID": "172",
                                    "mettol": "2016-10-20",
                                    "átlagos előző 5 foglalás létszám": "2"
                                },
                                {
                                    "SZALLAS_NEV": "Gold Hotel",
                                    "SZOBA_ID": "172",
                                    "mettol": "2016-12-02",
                                    "átlagos előző 5 foglalás létszám": "1"
                                },
                                {
                                    "SZALLAS_NEV": "Gold Hotel",
                                    "SZOBA_ID": "172",
                                    "mettol": "2017-01-05",
                                    "átlagos előző 5 foglalás létszám": "1"
                                },
                                {
                                    "SZALLAS_NEV": "Gold Hotel",
                                    "SZOBA_ID": "172",
                                    "mettol": "2017-02-03",
                                    "átlagos előző 5 foglalás létszám": "1"
                                },
                                {
                                    "SZALLAS_NEV": "Gold Hotel",
                                    "SZOBA_ID": "173",
                                    "mettol": "2016-06-06",
                                    "átlagos előző 5 foglalás létszám": "NULL"
                                },
                                {
                                    "SZALLAS_NEV": "Gold Hotel",
                                    "SZOBA_ID": "173",
                                    "mettol": "2016-07-14",
                                    "átlagos előző 5 foglalás létszám": "2"
                                },
                                {
                                    "SZALLAS_NEV": "Gold Hotel",
                                    "SZOBA_ID": "173",
                                    "mettol": "2016-12-06",
                                    "átlagos előző 5 foglalás létszám": "1"
                                },
                                {
                                    "SZALLAS_NEV": "Gold Hotel",
                                    "SZOBA_ID": "173",
                                    "mettol": "2017-01-09",
                                    "átlagos előző 5 foglalás létszám": "1"
                                },
                                {
                                    "SZALLAS_NEV": "Gold Hotel",
                                    "SZOBA_ID": "174",
                                    "mettol": "2016-06-06",
                                    "átlagos előző 5 foglalás létszám": "NULL"
                                },
                                {
                                    "SZALLAS_NEV": "Gold Hotel",
                                    "SZOBA_ID": "174",
                                    "mettol": "2016-07-06",
                                    "átlagos előző 5 foglalás létszám": "2"
                                },
                                {
                                    "SZALLAS_NEV": "Gold Hotel",
                                    "SZOBA_ID": "174",
                                    "mettol": "2016-07-18",
                                    "átlagos előző 5 foglalás létszám": "1"
                                },
                                {
                                    "SZALLAS_NEV": "Gold Hotel",
                                    "SZOBA_ID": "174",
                                    "mettol": "2016-11-12",
                                    "átlagos előző 5 foglalás létszám": "1"
                                },
                                {
                                    "SZALLAS_NEV": "Gold Hotel",
                                    "SZOBA_ID": "175",
                                    "mettol": "2016-05-28",
                                    "átlagos előző 5 foglalás létszám": "NULL"
                                },
                                {
                                    "SZALLAS_NEV": "Gold Hotel",
                                    "SZOBA_ID": "175",
                                    "mettol": "2016-08-19",
                                    "átlagos előző 5 foglalás létszám": "1"
                                },
                                {
                                    "SZALLAS_NEV": "Gold Hotel",
                                    "SZOBA_ID": "175",
                                    "mettol": "2016-09-30",
                                    "átlagos előző 5 foglalás létszám": "1"
                                },
                                {
                                    "SZALLAS_NEV": "Gold Hotel",
                                    "SZOBA_ID": "175",
                                    "mettol": "2016-10-08",
                                    "átlagos előző 5 foglalás létszám": "1"
                                },
                                {
                                    "SZALLAS_NEV": "Gold Hotel",
                                    "SZOBA_ID": "175",
                                    "mettol": "2016-12-30",
                                    "átlagos előző 5 foglalás létszám": "1"
                                },
                                {
                                    "SZALLAS_NEV": "Gold Hotel",
                                    "SZOBA_ID": "176",
                                    "mettol": "2016-04-21",
                                    "átlagos előző 5 foglalás létszám": "NULL"
                                },
                                {
                                    "SZALLAS_NEV": "Gold Hotel",
                                    "SZOBA_ID": "176",
                                    "mettol": "2016-10-09",
                                    "átlagos előző 5 foglalás létszám": "2"
                                },
                                {
                                    "SZALLAS_NEV": "Gold Hotel",
                                    "SZOBA_ID": "176",
                                    "mettol": "2016-11-13",
                                    "átlagos előző 5 foglalás létszám": "2"
                                },
                                {
                                    "SZALLAS_NEV": "Gold Hotel",
                                    "SZOBA_ID": "176",
                                    "mettol": "2016-12-22",
                                    "átlagos előző 5 foglalás létszám": "2"
                                },
                                {
                                    "SZALLAS_NEV": "Gold Hotel",
                                    "SZOBA_ID": "176",
                                    "mettol": "2017-02-08",
                                    "átlagos előző 5 foglalás létszám": "2"
                                },
                                {
                                    "SZALLAS_NEV": "Gold Hotel",
                                    "SZOBA_ID": "176",
                                    "mettol": "2017-02-24",
                                    "átlagos előző 5 foglalás létszám": "2"
                                },
                                {
                                    "SZALLAS_NEV": "Gold Hotel",
                                    "SZOBA_ID": "177",
                                    "mettol": "2016-08-16",
                                    "átlagos előző 5 foglalás létszám": "NULL"
                                },
                                {
                                    "SZALLAS_NEV": "Gold Hotel",
                                    "SZOBA_ID": "177",
                                    "mettol": "2016-08-28",
                                    "átlagos előző 5 foglalás létszám": "4"
                                },
                                {
                                    "SZALLAS_NEV": "Gold Hotel",
                                    "SZOBA_ID": "177",
                                    "mettol": "2016-10-21",
                                    "átlagos előző 5 foglalás létszám": "3"
                                },
                                {
                                    "SZALLAS_NEV": "Gold Hotel",
                                    "SZOBA_ID": "177",
                                    "mettol": "2017-02-05",
                                    "átlagos előző 5 foglalás létszám": "3"
                                },
                                {
                                    "SZALLAS_NEV": "Gold Hotel",
                                    "SZOBA_ID": "178",
                                    "mettol": "2016-06-28",
                                    "átlagos előző 5 foglalás létszám": "NULL"
                                },
                                {
                                    "SZALLAS_NEV": "Gold Hotel",
                                    "SZOBA_ID": "178",
                                    "mettol": "2016-08-24",
                                    "átlagos előző 5 foglalás létszám": "3"
                                },
                                {
                                    "SZALLAS_NEV": "Gold Hotel",
                                    "SZOBA_ID": "178",
                                    "mettol": "2016-10-28",
                                    "átlagos előző 5 foglalás létszám": "3"
                                },
                                {
                                    "SZALLAS_NEV": "Gold Hotel",
                                    "SZOBA_ID": "178",
                                    "mettol": "2016-11-03",
                                    "átlagos előző 5 foglalás létszám": "3"
                                },
                                {
                                    "SZALLAS_NEV": "Gold Hotel",
                                    "SZOBA_ID": "179",
                                    "mettol": "2016-05-21",
                                    "átlagos előző 5 foglalás létszám": "NULL"
                                },
                                {
                                    "SZALLAS_NEV": "Gold Hotel",
                                    "SZOBA_ID": "179",
                                    "mettol": "2016-07-09",
                                    "átlagos előző 5 foglalás létszám": "4"
                                },
                                {
                                    "SZALLAS_NEV": "Gold Hotel",
                                    "SZOBA_ID": "179",
                                    "mettol": "2017-02-04",
                                    "átlagos előző 5 foglalás létszám": "4"
                                },
                                {
                                    "SZALLAS_NEV": "Gold Hotel",
                                    "SZOBA_ID": "180",
                                    "mettol": "2016-06-04",
                                    "átlagos előző 5 foglalás létszám": "NULL"
                                },
                                {
                                    "SZALLAS_NEV": "Gold Hotel",
                                    "SZOBA_ID": "180",
                                    "mettol": "2017-02-22",
                                    "átlagos előző 5 foglalás létszám": "4"
                                },
                                {
                                    "SZALLAS_NEV": "Gold Hotel",
                                    "SZOBA_ID": "180",
                                    "mettol": "2017-02-23",
                                    "átlagos előző 5 foglalás létszám": "3"
                                },
                                {
                                    "SZALLAS_NEV": "Gold Hotel",
                                    "SZOBA_ID": "181",
                                    "mettol": "2016-06-08",
                                    "átlagos előző 5 foglalás létszám": "NULL"
                                },
                                {
                                    "SZALLAS_NEV": "Gold Hotel",
                                    "SZOBA_ID": "181",
                                    "mettol": "2016-06-13",
                                    "átlagos előző 5 foglalás létszám": "3"
                                },
                                {
                                    "SZALLAS_NEV": "Gold Hotel",
                                    "SZOBA_ID": "181",
                                    "mettol": "2016-07-10",
                                    "átlagos előző 5 foglalás létszám": "3"
                                },
                                {
                                    "SZALLAS_NEV": "Gold Hotel",
                                    "SZOBA_ID": "181",
                                    "mettol": "2016-07-16",
                                    "átlagos előző 5 foglalás létszám": "3"
                                },
                                {
                                    "SZALLAS_NEV": "Gold Hotel",
                                    "SZOBA_ID": "181",
                                    "mettol": "2016-07-28",
                                    "átlagos előző 5 foglalás létszám": "3"
                                },
                                {
                                    "SZALLAS_NEV": "Gold Hotel",
                                    "SZOBA_ID": "181",
                                    "mettol": "2016-12-05",
                                    "átlagos előző 5 foglalás létszám": "3"
                                },
                                {
                                    "SZALLAS_NEV": "Gold Hotel",
                                    "SZOBA_ID": "182",
                                    "mettol": "2016-04-10",
                                    "átlagos előző 5 foglalás létszám": "NULL"
                                },
                                {
                                    "SZALLAS_NEV": "Gold Hotel",
                                    "SZOBA_ID": "182",
                                    "mettol": "2016-06-07",
                                    "átlagos előző 5 foglalás létszám": "2"
                                },
                                {
                                    "SZALLAS_NEV": "Gold Hotel",
                                    "SZOBA_ID": "182",
                                    "mettol": "2016-07-04",
                                    "átlagos előző 5 foglalás létszám": "2"
                                },
                                {
                                    "SZALLAS_NEV": "Gold Hotel",
                                    "SZOBA_ID": "182",
                                    "mettol": "2016-07-30",
                                    "átlagos előző 5 foglalás létszám": "2"
                                },
                                {
                                    "SZALLAS_NEV": "Gold Hotel",
                                    "SZOBA_ID": "182",
                                    "mettol": "2016-10-24",
                                    "átlagos előző 5 foglalás létszám": "2"
                                },
                                {
                                    "SZALLAS_NEV": "Gold Hotel",
                                    "SZOBA_ID": "182",
                                    "mettol": "2016-10-30",
                                    "átlagos előző 5 foglalás létszám": "2"
                                },
                                {
                                    "SZALLAS_NEV": "Gold Hotel",
                                    "SZOBA_ID": "182",
                                    "mettol": "2016-10-30",
                                    "átlagos előző 5 foglalás létszám": "1"
                                },
                                {
                                    "SZALLAS_NEV": "Gold Hotel",
                                    "SZOBA_ID": "182",
                                    "mettol": "2016-11-23",
                                    "átlagos előző 5 foglalás létszám": "1"
                                },
                                {
                                    "SZALLAS_NEV": "Gold Hotel",
                                    "SZOBA_ID": "182",
                                    "mettol": "2016-11-25",
                                    "átlagos előző 5 foglalás létszám": "1"
                                },
                                {
                                    "SZALLAS_NEV": "Gold Hotel",
                                    "SZOBA_ID": "182",
                                    "mettol": "2016-11-28",
                                    "átlagos előző 5 foglalás létszám": "1"
                                },
                                {
                                    "SZALLAS_NEV": "Gold Hotel",
                                    "SZOBA_ID": "182",
                                    "mettol": "2017-01-01",
                                    "átlagos előző 5 foglalás létszám": "1"
                                },
                                {
                                    "SZALLAS_NEV": "Gold Hotel",
                                    "SZOBA_ID": "182",
                                    "mettol": "2017-01-06",
                                    "átlagos előző 5 foglalás létszám": "1"
                                },
                                {
                                    "SZALLAS_NEV": "Gold Hotel",
                                    "SZOBA_ID": "183",
                                    "mettol": "2016-06-09",
                                    "átlagos előző 5 foglalás létszám": "NULL"
                                },
                                {
                                    "SZALLAS_NEV": "Gold Hotel",
                                    "SZOBA_ID": "183",
                                    "mettol": "2016-09-19",
                                    "átlagos előző 5 foglalás létszám": "3"
                                },
                                {
                                    "SZALLAS_NEV": "Gold Hotel",
                                    "SZOBA_ID": "183",
                                    "mettol": "2016-10-10",
                                    "átlagos előző 5 foglalás létszám": "2"
                                },
                                {
                                    "SZALLAS_NEV": "Gold Hotel",
                                    "SZOBA_ID": "183",
                                    "mettol": "2017-01-13",
                                    "átlagos előző 5 foglalás létszám": "2"
                                },
                                {
                                    "SZALLAS_NEV": "Gold Hotel",
                                    "SZOBA_ID": "184",
                                    "mettol": "2016-04-28",
                                    "átlagos előző 5 foglalás létszám": "NULL"
                                },
                                {
                                    "SZALLAS_NEV": "Gold Hotel",
                                    "SZOBA_ID": "184",
                                    "mettol": "2016-05-30",
                                    "átlagos előző 5 foglalás létszám": "2"
                                },
                                {
                                    "SZALLAS_NEV": "Gold Hotel",
                                    "SZOBA_ID": "184",
                                    "mettol": "2016-07-18",
                                    "átlagos előző 5 foglalás létszám": "1"
                                },
                                {
                                    "SZALLAS_NEV": "Gold Hotel",
                                    "SZOBA_ID": "184",
                                    "mettol": "2016-11-05",
                                    "átlagos előző 5 foglalás létszám": "1"
                                },
                                {
                                    "SZALLAS_NEV": "Gold Hotel",
                                    "SZOBA_ID": "185",
                                    "mettol": "2016-04-13",
                                    "átlagos előző 5 foglalás létszám": "NULL"
                                },
                                {
                                    "SZALLAS_NEV": "Gold Hotel",
                                    "SZOBA_ID": "185",
                                    "mettol": "2016-05-28",
                                    "átlagos előző 5 foglalás létszám": "3"
                                },
                                {
                                    "SZALLAS_NEV": "Gold Hotel",
                                    "SZOBA_ID": "185",
                                    "mettol": "2016-06-03",
                                    "átlagos előző 5 foglalás létszám": "3"
                                },
                                {
                                    "SZALLAS_NEV": "Gold Hotel",
                                    "SZOBA_ID": "185",
                                    "mettol": "2016-06-07",
                                    "átlagos előző 5 foglalás létszám": "3"
                                },
                                {
                                    "SZALLAS_NEV": "Gold Hotel",
                                    "SZOBA_ID": "185",
                                    "mettol": "2016-07-14",
                                    "átlagos előző 5 foglalás létszám": "3"
                                },
                                {
                                    "SZALLAS_NEV": "Gold Hotel",
                                    "SZOBA_ID": "185",
                                    "mettol": "2016-07-17",
                                    "átlagos előző 5 foglalás létszám": "3"
                                },
                                {
                                    "SZALLAS_NEV": "Gold Hotel",
                                    "SZOBA_ID": "185",
                                    "mettol": "2016-07-20",
                                    "átlagos előző 5 foglalás létszám": "3"
                                },
                                {
                                    "SZALLAS_NEV": "Gold Hotel",
                                    "SZOBA_ID": "185",
                                    "mettol": "2016-07-24",
                                    "átlagos előző 5 foglalás létszám": "2"
                                },
                                {
                                    "SZALLAS_NEV": "Gold Hotel",
                                    "SZOBA_ID": "185",
                                    "mettol": "2016-10-06",
                                    "átlagos előző 5 foglalás létszám": "2"
                                },
                                {
                                    "SZALLAS_NEV": "Gold Hotel",
                                    "SZOBA_ID": "185",
                                    "mettol": "2016-10-23",
                                    "átlagos előző 5 foglalás létszám": "2"
                                },
                                {
                                    "SZALLAS_NEV": "Gold Hotel",
                                    "SZOBA_ID": "185",
                                    "mettol": "2017-01-16",
                                    "átlagos előző 5 foglalás létszám": "2"
                                },
                                {
                                    "SZALLAS_NEV": "Gold Hotel",
                                    "SZOBA_ID": "185",
                                    "mettol": "2017-01-22",
                                    "átlagos előző 5 foglalás létszám": "2"
                                },
                                {
                                    "SZALLAS_NEV": "Gold Hotel",
                                    "SZOBA_ID": "186",
                                    "mettol": "2016-05-01",
                                    "átlagos előző 5 foglalás létszám": "NULL"
                                },
                                {
                                    "SZALLAS_NEV": "Gold Hotel",
                                    "SZOBA_ID": "186",
                                    "mettol": "2016-10-15",
                                    "átlagos előző 5 foglalás létszám": "3"
                                },
                                {
                                    "SZALLAS_NEV": "Gold Hotel",
                                    "SZOBA_ID": "186",
                                    "mettol": "2016-11-05",
                                    "átlagos előző 5 foglalás létszám": "3"
                                },
                                {
                                    "SZALLAS_NEV": "Gold Hotel",
                                    "SZOBA_ID": "186",
                                    "mettol": "2017-01-22",
                                    "átlagos előző 5 foglalás létszám": "2"
                                },
                                {
                                    "SZALLAS_NEV": "Gold Hotel",
                                    "SZOBA_ID": "187",
                                    "mettol": "2016-05-09",
                                    "átlagos előző 5 foglalás létszám": "NULL"
                                },
                                {
                                    "SZALLAS_NEV": "Gold Hotel",
                                    "SZOBA_ID": "187",
                                    "mettol": "2016-05-28",
                                    "átlagos előző 5 foglalás létszám": "3"
                                },
                                {
                                    "SZALLAS_NEV": "Gold Hotel",
                                    "SZOBA_ID": "187",
                                    "mettol": "2016-06-13",
                                    "átlagos előző 5 foglalás létszám": "3"
                                },
                                {
                                    "SZALLAS_NEV": "Gold Hotel",
                                    "SZOBA_ID": "187",
                                    "mettol": "2016-07-20",
                                    "átlagos előző 5 foglalás létszám": "3"
                                },
                                {
                                    "SZALLAS_NEV": "Gold Hotel",
                                    "SZOBA_ID": "187",
                                    "mettol": "2016-07-31",
                                    "átlagos előző 5 foglalás létszám": "3"
                                },
                                {
                                    "SZALLAS_NEV": "Gold Hotel",
                                    "SZOBA_ID": "187",
                                    "mettol": "2016-08-10",
                                    "átlagos előző 5 foglalás létszám": "3"
                                },
                                {
                                    "SZALLAS_NEV": "Gold Hotel",
                                    "SZOBA_ID": "187",
                                    "mettol": "2016-12-29",
                                    "átlagos előző 5 foglalás létszám": "2"
                                },
                                {
                                    "SZALLAS_NEV": "Gold Hotel",
                                    "SZOBA_ID": "188",
                                    "mettol": "2016-06-06",
                                    "átlagos előző 5 foglalás létszám": "NULL"
                                },
                                {
                                    "SZALLAS_NEV": "Gold Hotel",
                                    "SZOBA_ID": "188",
                                    "mettol": "2016-07-19",
                                    "átlagos előző 5 foglalás létszám": "3"
                                },
                                {
                                    "SZALLAS_NEV": "Gold Hotel",
                                    "SZOBA_ID": "188",
                                    "mettol": "2016-07-24",
                                    "átlagos előző 5 foglalás létszám": "2"
                                },
                                {
                                    "SZALLAS_NEV": "Gold Hotel",
                                    "SZOBA_ID": "188",
                                    "mettol": "2016-08-01",
                                    "átlagos előző 5 foglalás létszám": "2"
                                },
                                {
                                    "SZALLAS_NEV": "Gold Hotel",
                                    "SZOBA_ID": "188",
                                    "mettol": "2016-09-05",
                                    "átlagos előző 5 foglalás létszám": "2"
                                },
                                {
                                    "SZALLAS_NEV": "Gold Hotel",
                                    "SZOBA_ID": "188",
                                    "mettol": "2016-12-25",
                                    "átlagos előző 5 foglalás létszám": "2"
                                },
                                {
                                    "SZALLAS_NEV": "Gold Hotel",
                                    "SZOBA_ID": "189",
                                    "mettol": "2016-07-20",
                                    "átlagos előző 5 foglalás létszám": "NULL"
                                },
                                {
                                    "SZALLAS_NEV": "Gold Hotel",
                                    "SZOBA_ID": "189",
                                    "mettol": "2016-08-03",
                                    "átlagos előző 5 foglalás létszám": "2"
                                },
                                {
                                    "SZALLAS_NEV": "Gold Hotel",
                                    "SZOBA_ID": "189",
                                    "mettol": "2016-10-27",
                                    "átlagos előző 5 foglalás létszám": "2"
                                },
                                {
                                    "SZALLAS_NEV": "Gold Hotel",
                                    "SZOBA_ID": "189",
                                    "mettol": "2017-01-17",
                                    "átlagos előző 5 foglalás létszám": "2"
                                },
                                {
                                    "SZALLAS_NEV": "Gold Hotel",
                                    "SZOBA_ID": "189",
                                    "mettol": "2017-02-26",
                                    "átlagos előző 5 foglalás létszám": "2"
                                },
                                {
                                    "SZALLAS_NEV": "Gold Hotel",
                                    "SZOBA_ID": "190",
                                    "mettol": "2016-04-24",
                                    "átlagos előző 5 foglalás létszám": "NULL"
                                },
                                {
                                    "SZALLAS_NEV": "Gold Hotel",
                                    "SZOBA_ID": "190",
                                    "mettol": "2016-06-27",
                                    "átlagos előző 5 foglalás létszám": "1"
                                },
                                {
                                    "SZALLAS_NEV": "Gold Hotel",
                                    "SZOBA_ID": "190",
                                    "mettol": "2016-07-08",
                                    "átlagos előző 5 foglalás létszám": "1"
                                },
                                {
                                    "SZALLAS_NEV": "Gold Hotel",
                                    "SZOBA_ID": "190",
                                    "mettol": "2016-08-13",
                                    "átlagos előző 5 foglalás létszám": "1"
                                },
                                {
                                    "SZALLAS_NEV": "Gold Hotel",
                                    "SZOBA_ID": "190",
                                    "mettol": "2017-02-11",
                                    "átlagos előző 5 foglalás létszám": "1"
                                },
                                {
                                    "SZALLAS_NEV": "Gold Hotel",
                                    "SZOBA_ID": "191",
                                    "mettol": "2016-09-09",
                                    "átlagos előző 5 foglalás létszám": "NULL"
                                },
                                {
                                    "SZALLAS_NEV": "Gold Hotel",
                                    "SZOBA_ID": "191",
                                    "mettol": "2016-11-22",
                                    "átlagos előző 5 foglalás létszám": "2"
                                },
                                {
                                    "SZALLAS_NEV": "Gold Hotel",
                                    "SZOBA_ID": "191",
                                    "mettol": "2016-11-27",
                                    "átlagos előző 5 foglalás létszám": "2"
                                },
                                {
                                    "SZALLAS_NEV": "Gold Hotel",
                                    "SZOBA_ID": "191",
                                    "mettol": "2017-02-05",
                                    "átlagos előző 5 foglalás létszám": "2"
                                },
                                {
                                    "SZALLAS_NEV": "Gold Hotel",
                                    "SZOBA_ID": "191",
                                    "mettol": "2017-02-08",
                                    "átlagos előző 5 foglalás létszám": "2"
                                },
                                {
                                    "SZALLAS_NEV": "Gold Hotel",
                                    "SZOBA_ID": "192",
                                    "mettol": "2016-06-04",
                                    "átlagos előző 5 foglalás létszám": "NULL"
                                },
                                {
                                    "SZALLAS_NEV": "Gold Hotel",
                                    "SZOBA_ID": "192",
                                    "mettol": "2016-07-17",
                                    "átlagos előző 5 foglalás létszám": "3"
                                },
                                {
                                    "SZALLAS_NEV": "Gold Hotel",
                                    "SZOBA_ID": "193",
                                    "mettol": "2016-05-09",
                                    "átlagos előző 5 foglalás létszám": "NULL"
                                },
                                {
                                    "SZALLAS_NEV": "Gold Hotel",
                                    "SZOBA_ID": "193",
                                    "mettol": "2016-06-07",
                                    "átlagos előző 5 foglalás létszám": "2"
                                },
                                {
                                    "SZALLAS_NEV": "Gold Hotel",
                                    "SZOBA_ID": "193",
                                    "mettol": "2016-06-22",
                                    "átlagos előző 5 foglalás létszám": "3"
                                },
                                {
                                    "SZALLAS_NEV": "Gold Hotel",
                                    "SZOBA_ID": "193",
                                    "mettol": "2016-07-15",
                                    "átlagos előző 5 foglalás létszám": "4"
                                },
                                {
                                    "SZALLAS_NEV": "Gold Hotel",
                                    "SZOBA_ID": "193",
                                    "mettol": "2016-08-29",
                                    "átlagos előző 5 foglalás létszám": "3"
                                },
                                {
                                    "SZALLAS_NEV": "Gold Hotel",
                                    "SZOBA_ID": "193",
                                    "mettol": "2016-09-11",
                                    "átlagos előző 5 foglalás létszám": "4"
                                },
                                {
                                    "SZALLAS_NEV": "Gold Hotel",
                                    "SZOBA_ID": "193",
                                    "mettol": "2016-11-03",
                                    "átlagos előző 5 foglalás létszám": "4"
                                },
                                {
                                    "SZALLAS_NEV": "Gold Hotel",
                                    "SZOBA_ID": "194",
                                    "mettol": "2016-09-30",
                                    "átlagos előző 5 foglalás létszám": "NULL"
                                },
                                {
                                    "SZALLAS_NEV": "Gold Hotel",
                                    "SZOBA_ID": "195",
                                    "mettol": "2016-07-27",
                                    "átlagos előző 5 foglalás létszám": "NULL"
                                },
                                {
                                    "SZALLAS_NEV": "Gold Hotel",
                                    "SZOBA_ID": "195",
                                    "mettol": "2016-08-31",
                                    "átlagos előző 5 foglalás létszám": "2"
                                },
                                {
                                    "SZALLAS_NEV": "Gold Hotel",
                                    "SZOBA_ID": "195",
                                    "mettol": "2016-09-22",
                                    "átlagos előző 5 foglalás létszám": "2"
                                },
                                {
                                    "SZALLAS_NEV": "Gold Hotel",
                                    "SZOBA_ID": "195",
                                    "mettol": "2016-10-23",
                                    "átlagos előző 5 foglalás létszám": "1"
                                },
                                {
                                    "SZALLAS_NEV": "Gold Hotel",
                                    "SZOBA_ID": "195",
                                    "mettol": "2017-01-24",
                                    "átlagos előző 5 foglalás létszám": "1"
                                },
                                {
                                    "SZALLAS_NEV": "Gold Hotel",
                                    "SZOBA_ID": "195",
                                    "mettol": "2017-01-30",
                                    "átlagos előző 5 foglalás létszám": "1"
                                },
                                {
                                    "SZALLAS_NEV": "Gold Hotel",
                                    "SZOBA_ID": "196",
                                    "mettol": "2016-06-11",
                                    "átlagos előző 5 foglalás létszám": "NULL"
                                },
                                {
                                    "SZALLAS_NEV": "Gold Hotel",
                                    "SZOBA_ID": "196",
                                    "mettol": "2016-07-14",
                                    "átlagos előző 5 foglalás létszám": "3"
                                },
                                {
                                    "SZALLAS_NEV": "Gold Hotel",
                                    "SZOBA_ID": "196",
                                    "mettol": "2016-11-23",
                                    "átlagos előző 5 foglalás létszám": "2"
                                },
                                {
                                    "SZALLAS_NEV": "Gold Hotel",
                                    "SZOBA_ID": "196",
                                    "mettol": "2016-12-04",
                                    "átlagos előző 5 foglalás létszám": "2"
                                },
                                {
                                    "SZALLAS_NEV": "Gold Hotel",
                                    "SZOBA_ID": "197",
                                    "mettol": "2016-06-30",
                                    "átlagos előző 5 foglalás létszám": "NULL"
                                },
                                {
                                    "SZALLAS_NEV": "Gold Hotel",
                                    "SZOBA_ID": "197",
                                    "mettol": "2016-08-09",
                                    "átlagos előző 5 foglalás létszám": "3"
                                },
                                {
                                    "SZALLAS_NEV": "Gold Hotel",
                                    "SZOBA_ID": "197",
                                    "mettol": "2016-09-30",
                                    "átlagos előző 5 foglalás létszám": "3"
                                },
                                {
                                    "SZALLAS_NEV": "Gold Hotel",
                                    "SZOBA_ID": "197",
                                    "mettol": "2016-10-20",
                                    "átlagos előző 5 foglalás létszám": "3"
                                },
                                {
                                    "SZALLAS_NEV": "Gold Hotel",
                                    "SZOBA_ID": "197",
                                    "mettol": "2016-11-22",
                                    "átlagos előző 5 foglalás létszám": "2"
                                },
                                {
                                    "SZALLAS_NEV": "Gold Hotel",
                                    "SZOBA_ID": "197",
                                    "mettol": "2016-12-24",
                                    "átlagos előző 5 foglalás létszám": "2"
                                },
                                {
                                    "SZALLAS_NEV": "Gold Hotel",
                                    "SZOBA_ID": "198",
                                    "mettol": "2016-06-22",
                                    "átlagos előző 5 foglalás létszám": "NULL"
                                },
                                {
                                    "SZALLAS_NEV": "Gold Hotel",
                                    "SZOBA_ID": "198",
                                    "mettol": "2016-07-04",
                                    "átlagos előző 5 foglalás létszám": "3"
                                },
                                {
                                    "SZALLAS_NEV": "Gold Hotel",
                                    "SZOBA_ID": "198",
                                    "mettol": "2016-09-18",
                                    "átlagos előző 5 foglalás létszám": "3"
                                },
                                {
                                    "SZALLAS_NEV": "Gold Hotel",
                                    "SZOBA_ID": "198",
                                    "mettol": "2016-10-03",
                                    "átlagos előző 5 foglalás létszám": "3"
                                },
                                {
                                    "SZALLAS_NEV": "Gold Hotel",
                                    "SZOBA_ID": "198",
                                    "mettol": "2016-10-09",
                                    "átlagos előző 5 foglalás létszám": "3"
                                },
                                {
                                    "SZALLAS_NEV": "Gold Hotel",
                                    "SZOBA_ID": "198",
                                    "mettol": "2016-10-17",
                                    "átlagos előző 5 foglalás létszám": "2"
                                },
                                {
                                    "SZALLAS_NEV": "Gold Hotel",
                                    "SZOBA_ID": "198",
                                    "mettol": "2016-10-29",
                                    "átlagos előző 5 foglalás létszám": "2"
                                },
                                {
                                    "SZALLAS_NEV": "Gold Hotel",
                                    "SZOBA_ID": "198",
                                    "mettol": "2017-01-05",
                                    "átlagos előző 5 foglalás létszám": "2"
                                }
                            ]
                        },
                        "text/html": [
                            "<table>",
                            "<tr><th>SZALLAS_NEV</th><th>SZOBA_ID</th><th>mettol</th><th>átlagos előző 5 foglalás létszám</th></tr>",
                            "<tr><td>Sába-Ház</td><td>1</td><td>2016-05-05</td><td>NULL</td></tr>",
                            "<tr><td>Sába-Ház</td><td>1</td><td>2016-06-10</td><td>1</td></tr>",
                            "<tr><td>Sába-Ház</td><td>1</td><td>2016-07-30</td><td>1</td></tr>",
                            "<tr><td>Sába-Ház</td><td>1</td><td>2016-08-20</td><td>1</td></tr>",
                            "<tr><td>Sába-Ház</td><td>1</td><td>2016-10-09</td><td>1</td></tr>",
                            "<tr><td>Sába-Ház</td><td>1</td><td>2016-10-15</td><td>1</td></tr>",
                            "<tr><td>Sába-Ház</td><td>1</td><td>2016-11-11</td><td>2</td></tr>",
                            "<tr><td>Sába-Ház</td><td>1</td><td>2016-12-01</td><td>2</td></tr>",
                            "<tr><td>Sába-Ház</td><td>2</td><td>2016-08-27</td><td>NULL</td></tr>",
                            "<tr><td>Sába-Ház</td><td>2</td><td>2016-09-14</td><td>4</td></tr>",
                            "<tr><td>Sába-Ház</td><td>2</td><td>2016-09-19</td><td>3</td></tr>",
                            "<tr><td>Sába-Ház</td><td>2</td><td>2016-11-23</td><td>3</td></tr>",
                            "<tr><td>Sába-Ház</td><td>3</td><td>2016-05-09</td><td>NULL</td></tr>",
                            "<tr><td>Sába-Ház</td><td>3</td><td>2016-07-13</td><td>3</td></tr>",
                            "<tr><td>Sába-Ház</td><td>3</td><td>2016-08-16</td><td>3</td></tr>",
                            "<tr><td>Sába-Ház</td><td>3</td><td>2016-09-08</td><td>3</td></tr>",
                            "<tr><td>Sába-Ház</td><td>3</td><td>2016-10-01</td><td>3</td></tr>",
                            "<tr><td>Sába-Ház</td><td>3</td><td>2016-10-14</td><td>3</td></tr>",
                            "<tr><td>Sába-Ház</td><td>3</td><td>2017-01-12</td><td>3</td></tr>",
                            "<tr><td>Sába-Ház</td><td>3</td><td>2017-02-16</td><td>3</td></tr>",
                            "<tr><td>Sába-Ház</td><td>4</td><td>2016-05-17</td><td>NULL</td></tr>",
                            "<tr><td>Sába-Ház</td><td>4</td><td>2016-06-10</td><td>1</td></tr>",
                            "<tr><td>Sába-Ház</td><td>4</td><td>2016-07-02</td><td>1</td></tr>",
                            "<tr><td>Sába-Ház</td><td>4</td><td>2016-10-07</td><td>1</td></tr>",
                            "<tr><td>Sába-Ház</td><td>4</td><td>2016-10-08</td><td>1</td></tr>",
                            "<tr><td>Sába-Ház</td><td>4</td><td>2017-02-03</td><td>1</td></tr>",
                            "<tr><td>Sába-Ház</td><td>5</td><td>2016-04-08</td><td>NULL</td></tr>",
                            "<tr><td>Sába-Ház</td><td>5</td><td>2016-06-16</td><td>2</td></tr>",
                            "<tr><td>Sába-Ház</td><td>5</td><td>2016-09-21</td><td>1</td></tr>",
                            "<tr><td>Sába-Ház</td><td>5</td><td>2016-11-07</td><td>1</td></tr>",
                            "<tr><td>Sába-Ház</td><td>6</td><td>2016-04-06</td><td>NULL</td></tr>",
                            "<tr><td>Sába-Ház</td><td>6</td><td>2016-05-29</td><td>2</td></tr>",
                            "<tr><td>Sába-Ház</td><td>6</td><td>2016-06-27</td><td>2</td></tr>",
                            "<tr><td>Sába-Ház</td><td>6</td><td>2016-08-12</td><td>1</td></tr>",
                            "<tr><td>Sába-Ház</td><td>6</td><td>2016-09-05</td><td>2</td></tr>",
                            "<tr><td>Sába-Ház</td><td>6</td><td>2016-10-01</td><td>2</td></tr>",
                            "<tr><td>Sába-Ház</td><td>7</td><td>2016-04-06</td><td>NULL</td></tr>",
                            "<tr><td>Sába-Ház</td><td>7</td><td>2016-08-06</td><td>1</td></tr>",
                            "<tr><td>Sába-Ház</td><td>7</td><td>2016-10-08</td><td>1</td></tr>",
                            "<tr><td>Sába-Ház</td><td>7</td><td>2016-10-21</td><td>1</td></tr>",
                            "<tr><td>Sába-Ház</td><td>7</td><td>2016-10-23</td><td>1</td></tr>",
                            "<tr><td>Sába-Ház</td><td>7</td><td>2016-11-05</td><td>1</td></tr>",
                            "<tr><td>Sába-Ház</td><td>8</td><td>2016-05-30</td><td>NULL</td></tr>",
                            "<tr><td>Sába-Ház</td><td>8</td><td>2016-06-10</td><td>2</td></tr>",
                            "<tr><td>Sába-Ház</td><td>8</td><td>2016-07-20</td><td>2</td></tr>",
                            "<tr><td>Sába-Ház</td><td>8</td><td>2016-08-24</td><td>2</td></tr>",
                            "<tr><td>Sába-Ház</td><td>8</td><td>2016-08-28</td><td>2</td></tr>",
                            "<tr><td>Sába-Ház</td><td>9</td><td>2016-04-29</td><td>NULL</td></tr>",
                            "<tr><td>Sába-Ház</td><td>9</td><td>2016-10-15</td><td>2</td></tr>",
                            "<tr><td>Sába-Ház</td><td>9</td><td>2016-10-30</td><td>2</td></tr>",
                            "<tr><td>Sába-Ház</td><td>9</td><td>2016-11-07</td><td>3</td></tr>",
                            "<tr><td>Sába-Ház</td><td>9</td><td>2017-01-06</td><td>3</td></tr>",
                            "<tr><td>Sába-Ház</td><td>9</td><td>2017-02-16</td><td>3</td></tr>",
                            "<tr><td>Sába-Ház</td><td>10</td><td>2016-04-10</td><td>NULL</td></tr>",
                            "<tr><td>Sába-Ház</td><td>10</td><td>2016-08-16</td><td>2</td></tr>",
                            "<tr><td>Sába-Ház</td><td>10</td><td>2016-08-17</td><td>1</td></tr>",
                            "<tr><td>Sába-Ház</td><td>10</td><td>2016-11-25</td><td>2</td></tr>",
                            "<tr><td>Sába-Ház</td><td>11</td><td>2016-06-06</td><td>NULL</td></tr>",
                            "<tr><td>Sába-Ház</td><td>11</td><td>2016-10-05</td><td>3</td></tr>",
                            "<tr><td>Sába-Ház</td><td>11</td><td>2016-11-01</td><td>3</td></tr>",
                            "<tr><td>Sába-Ház</td><td>11</td><td>2017-02-12</td><td>2</td></tr>",
                            "<tr><td>Sába-Ház</td><td>12</td><td>2016-05-30</td><td>NULL</td></tr>",
                            "<tr><td>Sába-Ház</td><td>12</td><td>2016-06-11</td><td>3</td></tr>",
                            "<tr><td>Sába-Ház</td><td>12</td><td>2016-06-17</td><td>2</td></tr>",
                            "<tr><td>Sába-Ház</td><td>12</td><td>2016-07-09</td><td>2</td></tr>",
                            "<tr><td>Sába-Ház</td><td>12</td><td>2016-07-20</td><td>2</td></tr>",
                            "<tr><td>Sába-Ház</td><td>12</td><td>2016-08-13</td><td>2</td></tr>",
                            "<tr><td>Sába-Ház</td><td>12</td><td>2016-10-09</td><td>2</td></tr>",
                            "<tr><td>Sába-Ház</td><td>12</td><td>2016-10-18</td><td>2</td></tr>",
                            "<tr><td>Sába-Ház</td><td>12</td><td>2017-01-09</td><td>2</td></tr>",
                            "<tr><td>Családi Ház</td><td>13</td><td>2016-08-08</td><td>NULL</td></tr>",
                            "<tr><td>Családi Ház</td><td>13</td><td>2016-09-12</td><td>3</td></tr>",
                            "<tr><td>Családi Ház</td><td>13</td><td>2016-12-06</td><td>3</td></tr>",
                            "<tr><td>Családi Ház</td><td>13</td><td>2017-01-23</td><td>3</td></tr>",
                            "<tr><td>Családi Ház</td><td>14</td><td>2016-05-22</td><td>NULL</td></tr>",
                            "<tr><td>Családi Ház</td><td>14</td><td>2016-08-24</td><td>4</td></tr>",
                            "<tr><td>Családi Ház</td><td>14</td><td>2017-02-16</td><td>3</td></tr>",
                            "<tr><td>Családi Ház</td><td>15</td><td>2016-07-13</td><td>NULL</td></tr>",
                            "<tr><td>Családi Ház</td><td>15</td><td>2016-08-16</td><td>3</td></tr>",
                            "<tr><td>Családi Ház</td><td>15</td><td>2016-10-08</td><td>2</td></tr>",
                            "<tr><td>Családi Ház</td><td>15</td><td>2016-11-03</td><td>2</td></tr>",
                            "<tr><td>Családi Ház</td><td>15</td><td>2017-01-04</td><td>2</td></tr>",
                            "<tr><td>Családi Ház</td><td>15</td><td>2017-01-16</td><td>2</td></tr>",
                            "<tr><td>Családi Ház</td><td>16</td><td>2016-05-24</td><td>NULL</td></tr>",
                            "<tr><td>Családi Ház</td><td>16</td><td>2016-06-03</td><td>4</td></tr>",
                            "<tr><td>Családi Ház</td><td>16</td><td>2016-06-20</td><td>3</td></tr>",
                            "<tr><td>Családi Ház</td><td>16</td><td>2016-07-18</td><td>3</td></tr>",
                            "<tr><td>Családi Ház</td><td>16</td><td>2017-02-04</td><td>3</td></tr>",
                            "<tr><td>Fortuna Apartman</td><td>17</td><td>2016-04-26</td><td>NULL</td></tr>",
                            "<tr><td>Fortuna Apartman</td><td>17</td><td>2016-06-06</td><td>4</td></tr>",
                            "<tr><td>Fortuna Apartman</td><td>17</td><td>2016-07-24</td><td>3</td></tr>",
                            "<tr><td>Fortuna Apartman</td><td>17</td><td>2016-08-01</td><td>3</td></tr>",
                            "<tr><td>Fortuna Apartman</td><td>17</td><td>2016-11-25</td><td>2</td></tr>",
                            "<tr><td>Fortuna Apartman</td><td>17</td><td>2017-02-18</td><td>2</td></tr>",
                            "<tr><td>Fortuna Apartman</td><td>18</td><td>2016-05-08</td><td>NULL</td></tr>",
                            "<tr><td>Fortuna Apartman</td><td>18</td><td>2016-08-11</td><td>2</td></tr>",
                            "<tr><td>Fortuna Apartman</td><td>18</td><td>2016-09-07</td><td>2</td></tr>",
                            "<tr><td>Fortuna Apartman</td><td>18</td><td>2016-10-21</td><td>2</td></tr>",
                            "<tr><td>Fortuna Apartman</td><td>18</td><td>2016-10-26</td><td>3</td></tr>",
                            "<tr><td>Fortuna Apartman</td><td>18</td><td>2017-02-06</td><td>2</td></tr>",
                            "<tr><td>Fortuna Apartman</td><td>19</td><td>2016-06-10</td><td>NULL</td></tr>",
                            "<tr><td>Fortuna Apartman</td><td>19</td><td>2016-07-20</td><td>1</td></tr>",
                            "<tr><td>Fortuna Apartman</td><td>19</td><td>2016-08-14</td><td>2</td></tr>",
                            "<tr><td>Fortuna Apartman</td><td>19</td><td>2016-10-09</td><td>2</td></tr>",
                            "<tr><td>Fortuna Apartman</td><td>19</td><td>2016-11-02</td><td>2</td></tr>",
                            "<tr><td>Fortuna Apartman</td><td>19</td><td>2017-02-14</td><td>2</td></tr>",
                            "<tr><td>Fortuna Apartman</td><td>20</td><td>2016-08-04</td><td>NULL</td></tr>",
                            "<tr><td>Fortuna Apartman</td><td>20</td><td>2016-08-24</td><td>1</td></tr>",
                            "<tr><td>Fortuna Apartman</td><td>20</td><td>2016-09-19</td><td>2</td></tr>",
                            "<tr><td>Fortuna Apartman</td><td>20</td><td>2016-10-01</td><td>2</td></tr>",
                            "<tr><td>Fortuna Apartman</td><td>20</td><td>2016-10-01</td><td>2</td></tr>",
                            "<tr><td>Fortuna Apartman</td><td>21</td><td>2016-04-09</td><td>NULL</td></tr>",
                            "<tr><td>Fortuna Apartman</td><td>21</td><td>2016-05-21</td><td>2</td></tr>",
                            "<tr><td>Fortuna Apartman</td><td>21</td><td>2016-08-21</td><td>2</td></tr>",
                            "<tr><td>Fortuna Apartman</td><td>21</td><td>2016-10-28</td><td>2</td></tr>",
                            "<tr><td>Fortuna Apartman</td><td>22</td><td>2016-06-04</td><td>NULL</td></tr>",
                            "<tr><td>Fortuna Apartman</td><td>22</td><td>2016-07-03</td><td>2</td></tr>",
                            "<tr><td>Fortuna Apartman</td><td>22</td><td>2016-10-08</td><td>1</td></tr>",
                            "<tr><td>Fortuna Apartman</td><td>22</td><td>2016-10-26</td><td>2</td></tr>",
                            "<tr><td>Fortuna Apartman</td><td>22</td><td>2016-10-27</td><td>3</td></tr>",
                            "<tr><td>Fortuna Apartman</td><td>22</td><td>2016-11-17</td><td>3</td></tr>",
                            "<tr><td>Fortuna Apartman</td><td>23</td><td>2016-06-08</td><td>NULL</td></tr>",
                            "<tr><td>Fortuna Apartman</td><td>23</td><td>2016-06-10</td><td>2</td></tr>",
                            "<tr><td>Fortuna Apartman</td><td>23</td><td>2016-09-04</td><td>1</td></tr>",
                            "<tr><td>Fortuna Apartman</td><td>24</td><td>2016-05-23</td><td>NULL</td></tr>",
                            "<tr><td>Fortuna Apartman</td><td>24</td><td>2016-10-19</td><td>1</td></tr>",
                            "<tr><td>Fortuna Apartman</td><td>24</td><td>2017-01-03</td><td>2</td></tr>",
                            "<tr><td>Fortuna panzió</td><td>25</td><td>2016-09-14</td><td>NULL</td></tr>",
                            "<tr><td>Fortuna panzió</td><td>25</td><td>2016-12-14</td><td>3</td></tr>",
                            "<tr><td>Fortuna panzió</td><td>26</td><td>2016-10-16</td><td>NULL</td></tr>",
                            "<tr><td>Fortuna panzió</td><td>26</td><td>2016-12-24</td><td>3</td></tr>",
                            "<tr><td>Fortuna panzió</td><td>27</td><td>2016-08-05</td><td>NULL</td></tr>",
                            "<tr><td>Fortuna panzió</td><td>27</td><td>2016-08-22</td><td>4</td></tr>",
                            "<tr><td>Fortuna panzió</td><td>27</td><td>2016-09-05</td><td>3</td></tr>",
                            "<tr><td>Fortuna panzió</td><td>27</td><td>2016-09-26</td><td>3</td></tr>",
                            "<tr><td>Fortuna panzió</td><td>27</td><td>2016-11-11</td><td>3</td></tr>",
                            "<tr><td>Fortuna panzió</td><td>27</td><td>2016-12-18</td><td>3</td></tr>",
                            "<tr><td>Fortuna panzió</td><td>27</td><td>2017-01-27</td><td>3</td></tr>",
                            "<tr><td>Fortuna panzió</td><td>28</td><td>2016-05-29</td><td>NULL</td></tr>",
                            "<tr><td>Fortuna panzió</td><td>28</td><td>2016-06-01</td><td>1</td></tr>",
                            "<tr><td>Fortuna panzió</td><td>28</td><td>2016-06-04</td><td>1</td></tr>",
                            "<tr><td>Fortuna panzió</td><td>28</td><td>2016-07-27</td><td>1</td></tr>",
                            "<tr><td>Fortuna panzió</td><td>28</td><td>2016-10-13</td><td>1</td></tr>",
                            "<tr><td>Fortuna panzió</td><td>28</td><td>2017-01-20</td><td>2</td></tr>",
                            "<tr><td>Fortuna panzió</td><td>29</td><td>2016-05-01</td><td>NULL</td></tr>",
                            "<tr><td>Fortuna panzió</td><td>29</td><td>2016-06-03</td><td>2</td></tr>",
                            "<tr><td>Fortuna panzió</td><td>29</td><td>2016-09-23</td><td>2</td></tr>",
                            "<tr><td>Fortuna panzió</td><td>29</td><td>2016-10-23</td><td>2</td></tr>",
                            "<tr><td>Fortuna panzió</td><td>29</td><td>2016-11-01</td><td>2</td></tr>",
                            "<tr><td>Fortuna panzió</td><td>29</td><td>2017-02-24</td><td>2</td></tr>",
                            "<tr><td>Fortuna panzió</td><td>30</td><td>2016-04-27</td><td>NULL</td></tr>",
                            "<tr><td>Fortuna panzió</td><td>30</td><td>2016-07-10</td><td>2</td></tr>",
                            "<tr><td>Fortuna panzió</td><td>30</td><td>2016-10-09</td><td>2</td></tr>",
                            "<tr><td>Fortuna panzió</td><td>31</td><td>2016-04-24</td><td>NULL</td></tr>",
                            "<tr><td>Fortuna panzió</td><td>31</td><td>2016-04-27</td><td>4</td></tr>",
                            "<tr><td>Fortuna panzió</td><td>31</td><td>2016-07-27</td><td>4</td></tr>",
                            "<tr><td>Fortuna panzió</td><td>32</td><td>2016-06-06</td><td>NULL</td></tr>",
                            "<tr><td>Fortuna panzió</td><td>33</td><td>2016-05-08</td><td>NULL</td></tr>",
                            "<tr><td>Fortuna panzió</td><td>33</td><td>2016-07-05</td><td>4</td></tr>",
                            "<tr><td>Fortuna panzió</td><td>33</td><td>2016-09-15</td><td>3</td></tr>",
                            "<tr><td>Fortuna panzió</td><td>33</td><td>2016-11-25</td><td>3</td></tr>",
                            "<tr><td>Fortuna panzió</td><td>33</td><td>2016-12-05</td><td>3</td></tr>",
                            "<tr><td>Fortuna panzió</td><td>33</td><td>2016-12-21</td><td>2</td></tr>",
                            "<tr><td>Fortuna panzió</td><td>34</td><td>2016-05-28</td><td>NULL</td></tr>",
                            "<tr><td>Fortuna panzió</td><td>34</td><td>2016-06-04</td><td>2</td></tr>",
                            "<tr><td>Fortuna panzió</td><td>34</td><td>2016-08-14</td><td>1</td></tr>",
                            "<tr><td>Fortuna panzió</td><td>34</td><td>2016-08-24</td><td>1</td></tr>",
                            "<tr><td>Fortuna panzió</td><td>35</td><td>2016-06-18</td><td>NULL</td></tr>",
                            "<tr><td>Fortuna panzió</td><td>35</td><td>2016-06-22</td><td>3</td></tr>",
                            "<tr><td>Fortuna panzió</td><td>35</td><td>2016-07-18</td><td>2</td></tr>",
                            "<tr><td>Fortuna panzió</td><td>35</td><td>2016-07-23</td><td>2</td></tr>",
                            "<tr><td>Fortuna panzió</td><td>35</td><td>2016-08-28</td><td>2</td></tr>",
                            "<tr><td>Fortuna panzió</td><td>35</td><td>2016-12-29</td><td>2</td></tr>",
                            "<tr><td>Fortuna panzió</td><td>35</td><td>2017-01-01</td><td>2</td></tr>",
                            "<tr><td>Fortuna panzió</td><td>35</td><td>2017-01-13</td><td>2</td></tr>",
                            "<tr><td>Fortuna panzió</td><td>35</td><td>2017-02-13</td><td>2</td></tr>",
                            "<tr><td>Fortuna panzió</td><td>36</td><td>2016-06-03</td><td>NULL</td></tr>",
                            "<tr><td>Fortuna panzió</td><td>36</td><td>2016-06-06</td><td>5</td></tr>",
                            "<tr><td>Fortuna panzió</td><td>36</td><td>2016-06-24</td><td>4</td></tr>",
                            "<tr><td>Fortuna panzió</td><td>36</td><td>2016-07-03</td><td>4</td></tr>",
                            "<tr><td>Fortuna panzió</td><td>36</td><td>2016-08-02</td><td>4</td></tr>",
                            "<tr><td>Fortuna panzió</td><td>36</td><td>2016-08-03</td><td>4</td></tr>",
                            "<tr><td>Fortuna panzió</td><td>37</td><td>2016-07-19</td><td>NULL</td></tr>",
                            "<tr><td>Fortuna panzió</td><td>37</td><td>2016-07-22</td><td>2</td></tr>",
                            "<tr><td>Fortuna panzió</td><td>37</td><td>2016-12-01</td><td>1</td></tr>",
                            "<tr><td>Fortuna panzió</td><td>38</td><td>2016-05-08</td><td>NULL</td></tr>",
                            "<tr><td>Fortuna panzió</td><td>38</td><td>2016-09-05</td><td>3</td></tr>",
                            "<tr><td>Fortuna panzió</td><td>38</td><td>2016-09-17</td><td>3</td></tr>",
                            "<tr><td>Fortuna panzió</td><td>38</td><td>2016-09-23</td><td>3</td></tr>",
                            "<tr><td>Fortuna panzió</td><td>38</td><td>2016-12-06</td><td>3</td></tr>",
                            "<tr><td>Fortuna panzió</td><td>38</td><td>2017-01-03</td><td>2</td></tr>",
                            "<tr><td>Fortuna panzió</td><td>38</td><td>2017-01-28</td><td>2</td></tr>",
                            "<tr><td>Fortuna panzió</td><td>38</td><td>2017-02-21</td><td>2</td></tr>",
                            "<tr><td>Fortuna panzió</td><td>39</td><td>2016-04-25</td><td>NULL</td></tr>",
                            "<tr><td>Fortuna panzió</td><td>39</td><td>2016-06-03</td><td>1</td></tr>",
                            "<tr><td>Fortuna panzió</td><td>39</td><td>2016-10-29</td><td>1</td></tr>",
                            "<tr><td>Fortuna panzió</td><td>39</td><td>2016-12-20</td><td>1</td></tr>",
                            "<tr><td>Fortuna panzió</td><td>39</td><td>2017-01-12</td><td>1</td></tr>",
                            "<tr><td>Fortuna panzió</td><td>39</td><td>2017-01-18</td><td>1</td></tr>",
                            "<tr><td>Fortuna panzió</td><td>39</td><td>2017-02-16</td><td>2</td></tr>",
                            "<tr><td>Fortuna Panzió</td><td>40</td><td>2016-06-07</td><td>NULL</td></tr>",
                            "<tr><td>Fortuna Panzió</td><td>40</td><td>2016-06-07</td><td>3</td></tr>",
                            "<tr><td>Fortuna Panzió</td><td>40</td><td>2016-07-08</td><td>3</td></tr>",
                            "<tr><td>Fortuna Panzió</td><td>40</td><td>2016-10-03</td><td>2</td></tr>",
                            "<tr><td>Fortuna Panzió</td><td>41</td><td>2016-06-15</td><td>NULL</td></tr>",
                            "<tr><td>Fortuna Panzió</td><td>41</td><td>2016-10-09</td><td>3</td></tr>",
                            "<tr><td>Fortuna Panzió</td><td>42</td><td>2016-04-06</td><td>NULL</td></tr>",
                            "<tr><td>Fortuna Panzió</td><td>42</td><td>2016-04-19</td><td>2</td></tr>",
                            "<tr><td>Fortuna Panzió</td><td>42</td><td>2016-05-22</td><td>2</td></tr>",
                            "<tr><td>Fortuna Panzió</td><td>42</td><td>2016-08-12</td><td>2</td></tr>",
                            "<tr><td>Fortuna Panzió</td><td>42</td><td>2016-11-23</td><td>2</td></tr>",
                            "<tr><td>Fortuna Panzió</td><td>42</td><td>2017-01-16</td><td>2</td></tr>",
                            "<tr><td>Fortuna Panzió</td><td>43</td><td>2016-07-08</td><td>NULL</td></tr>",
                            "<tr><td>Fortuna Panzió</td><td>43</td><td>2016-07-14</td><td>3</td></tr>",
                            "<tr><td>Fortuna Panzió</td><td>43</td><td>2016-09-29</td><td>2</td></tr>",
                            "<tr><td>Fortuna Panzió</td><td>43</td><td>2016-10-27</td><td>2</td></tr>",
                            "<tr><td>Fortuna Panzió</td><td>43</td><td>2016-10-30</td><td>2</td></tr>",
                            "<tr><td>Fortuna Panzió</td><td>43</td><td>2016-11-10</td><td>2</td></tr>",
                            "<tr><td>Fortuna Panzió</td><td>43</td><td>2017-02-12</td><td>2</td></tr>",
                            "<tr><td>Fortuna Panzió</td><td>43</td><td>2017-02-20</td><td>2</td></tr>",
                            "<tr><td>Fortuna Panzió</td><td>44</td><td>2016-04-19</td><td>NULL</td></tr>",
                            "<tr><td>Fortuna Panzió</td><td>44</td><td>2016-05-21</td><td>3</td></tr>",
                            "<tr><td>Fortuna Panzió</td><td>44</td><td>2016-08-25</td><td>3</td></tr>",
                            "<tr><td>Fortuna Panzió</td><td>44</td><td>2016-11-19</td><td>3</td></tr>",
                            "<tr><td>Fortuna Panzió</td><td>44</td><td>2017-01-08</td><td>3</td></tr>",
                            "<tr><td>Fortuna Panzió</td><td>44</td><td>2017-02-20</td><td>3</td></tr>",
                            "<tr><td>Fortuna Panzió</td><td>45</td><td>2016-08-20</td><td>NULL</td></tr>",
                            "<tr><td>Fortuna Panzió</td><td>45</td><td>2016-08-20</td><td>2</td></tr>",
                            "<tr><td>Fortuna Panzió</td><td>45</td><td>2016-09-02</td><td>2</td></tr>",
                            "<tr><td>Fortuna Panzió</td><td>45</td><td>2016-10-09</td><td>1</td></tr>",
                            "<tr><td>Fortuna Panzió</td><td>45</td><td>2016-11-22</td><td>1</td></tr>",
                            "<tr><td>Fortuna Panzió</td><td>46</td><td>2016-08-03</td><td>NULL</td></tr>",
                            "<tr><td>Fortuna Panzió</td><td>46</td><td>2016-10-23</td><td>2</td></tr>",
                            "<tr><td>Fortuna Panzió</td><td>46</td><td>2016-11-19</td><td>1</td></tr>",
                            "<tr><td>Fortuna Panzió</td><td>46</td><td>2017-02-10</td><td>1</td></tr>",
                            "<tr><td>Fortuna Panzió</td><td>47</td><td>2016-06-13</td><td>NULL</td></tr>",
                            "<tr><td>Fortuna Panzió</td><td>47</td><td>2016-09-16</td><td>1</td></tr>",
                            "<tr><td>Fortuna Panzió</td><td>48</td><td>2016-04-26</td><td>NULL</td></tr>",
                            "<tr><td>Fortuna Panzió</td><td>48</td><td>2016-05-09</td><td>3</td></tr>",
                            "<tr><td>Fortuna Panzió</td><td>48</td><td>2016-06-06</td><td>3</td></tr>",
                            "<tr><td>Fortuna Panzió</td><td>48</td><td>2016-06-25</td><td>3</td></tr>",
                            "<tr><td>Fortuna Panzió</td><td>48</td><td>2016-08-25</td><td>3</td></tr>",
                            "<tr><td>Fortuna Panzió</td><td>48</td><td>2016-11-03</td><td>3</td></tr>",
                            "<tr><td>Fortuna Panzió</td><td>48</td><td>2017-02-17</td><td>3</td></tr>",
                            "<tr><td>Fortuna Panzió</td><td>48</td><td>2017-02-18</td><td>3</td></tr>",
                            "<tr><td>Fortuna Panzió</td><td>48</td><td>2017-03-01</td><td>3</td></tr>",
                            "<tr><td>Fortuna Panzió</td><td>49</td><td>2016-06-02</td><td>NULL</td></tr>",
                            "<tr><td>Fortuna Panzió</td><td>49</td><td>2016-08-17</td><td>3</td></tr>",
                            "<tr><td>Fortuna Panzió</td><td>49</td><td>2016-08-26</td><td>3</td></tr>",
                            "<tr><td>Fortuna Panzió</td><td>49</td><td>2016-09-18</td><td>2</td></tr>",
                            "<tr><td>Fortuna Panzió</td><td>49</td><td>2016-10-26</td><td>2</td></tr>",
                            "<tr><td>Fortuna Panzió</td><td>49</td><td>2016-10-30</td><td>2</td></tr>",
                            "<tr><td>Fortuna Panzió</td><td>49</td><td>2017-02-16</td><td>2</td></tr>",
                            "<tr><td>Kentaur Hotel</td><td>50</td><td>2016-08-16</td><td>NULL</td></tr>",
                            "<tr><td>Kentaur Hotel</td><td>50</td><td>2016-09-18</td><td>1</td></tr>",
                            "<tr><td>Kentaur Hotel</td><td>50</td><td>2016-10-30</td><td>1</td></tr>",
                            "<tr><td>Kentaur Hotel</td><td>50</td><td>2016-11-10</td><td>1</td></tr>",
                            "<tr><td>Kentaur Hotel</td><td>51</td><td>2016-05-28</td><td>NULL</td></tr>",
                            "<tr><td>Kentaur Hotel</td><td>51</td><td>2016-08-23</td><td>2</td></tr>",
                            "<tr><td>Kentaur Hotel</td><td>51</td><td>2016-10-19</td><td>2</td></tr>",
                            "<tr><td>Kentaur Hotel</td><td>51</td><td>2017-01-28</td><td>2</td></tr>",
                            "<tr><td>Kentaur Hotel</td><td>51</td><td>2017-02-18</td><td>2</td></tr>",
                            "<tr><td>Kentaur Hotel</td><td>52</td><td>2016-08-24</td><td>NULL</td></tr>",
                            "<tr><td>Kentaur Hotel</td><td>52</td><td>2016-10-26</td><td>2</td></tr>",
                            "<tr><td>Kentaur Hotel</td><td>52</td><td>2016-11-07</td><td>1</td></tr>",
                            "<tr><td>Kentaur Hotel</td><td>52</td><td>2017-01-10</td><td>1</td></tr>",
                            "<tr><td>Kentaur Hotel</td><td>52</td><td>2017-02-14</td><td>1</td></tr>",
                            "<tr><td>Kentaur Hotel</td><td>53</td><td>2016-05-24</td><td>NULL</td></tr>",
                            "<tr><td>Kentaur Hotel</td><td>53</td><td>2016-06-26</td><td>3</td></tr>",
                            "<tr><td>Kentaur Hotel</td><td>54</td><td>2016-05-07</td><td>NULL</td></tr>",
                            "<tr><td>Kentaur Hotel</td><td>54</td><td>2016-05-13</td><td>2</td></tr>",
                            "<tr><td>Kentaur Hotel</td><td>54</td><td>2016-06-02</td><td>2</td></tr>",
                            "<tr><td>Kentaur Hotel</td><td>54</td><td>2016-07-14</td><td>2</td></tr>",
                            "<tr><td>Kentaur Hotel</td><td>54</td><td>2016-09-30</td><td>2</td></tr>",
                            "<tr><td>Kentaur Hotel</td><td>54</td><td>2016-11-28</td><td>2</td></tr>",
                            "<tr><td>Kentaur Hotel</td><td>55</td><td>2016-07-28</td><td>NULL</td></tr>",
                            "<tr><td>Kentaur Hotel</td><td>55</td><td>2016-09-28</td><td>3</td></tr>",
                            "<tr><td>Kentaur Hotel</td><td>55</td><td>2016-10-17</td><td>2</td></tr>",
                            "<tr><td>Kentaur Hotel</td><td>55</td><td>2016-10-30</td><td>2</td></tr>",
                            "<tr><td>Kentaur Hotel</td><td>55</td><td>2016-11-28</td><td>2</td></tr>",
                            "<tr><td>Kentaur Hotel</td><td>55</td><td>2016-12-24</td><td>2</td></tr>",
                            "<tr><td>Kentaur Hotel</td><td>55</td><td>2017-02-08</td><td>2</td></tr>",
                            "<tr><td>Kentaur Hotel</td><td>55</td><td>2017-02-12</td><td>2</td></tr>",
                            "<tr><td>Kentaur Hotel</td><td>56</td><td>2016-06-08</td><td>NULL</td></tr>",
                            "<tr><td>Kentaur Hotel</td><td>56</td><td>2016-08-29</td><td>1</td></tr>",
                            "<tr><td>Kentaur Hotel</td><td>57</td><td>2016-12-06</td><td>NULL</td></tr>",
                            "<tr><td>Kentaur Hotel</td><td>57</td><td>2016-12-25</td><td>2</td></tr>",
                            "<tr><td>Kentaur Hotel</td><td>57</td><td>2017-01-22</td><td>2</td></tr>",
                            "<tr><td>Kentaur Hotel</td><td>57</td><td>2017-02-06</td><td>1</td></tr>",
                            "<tr><td>Kentaur Hotel</td><td>58</td><td>2016-05-30</td><td>NULL</td></tr>",
                            "<tr><td>Kentaur Hotel</td><td>58</td><td>2016-07-27</td><td>2</td></tr>",
                            "<tr><td>Kentaur Hotel</td><td>58</td><td>2016-08-12</td><td>2</td></tr>",
                            "<tr><td>Kentaur Hotel</td><td>58</td><td>2016-10-01</td><td>2</td></tr>",
                            "<tr><td>Kentaur Hotel</td><td>58</td><td>2016-10-23</td><td>2</td></tr>",
                            "<tr><td>Kentaur Hotel</td><td>58</td><td>2016-10-28</td><td>2</td></tr>",
                            "<tr><td>Kentaur Hotel</td><td>58</td><td>2016-11-06</td><td>2</td></tr>",
                            "<tr><td>Kentaur Hotel</td><td>58</td><td>2016-11-07</td><td>2</td></tr>",
                            "<tr><td>Kentaur Hotel</td><td>58</td><td>2016-11-16</td><td>2</td></tr>",
                            "<tr><td>Kentaur Hotel</td><td>58</td><td>2016-11-19</td><td>2</td></tr>",
                            "<tr><td>Kentaur Hotel</td><td>58</td><td>2016-11-23</td><td>2</td></tr>",
                            "<tr><td>Kentaur Hotel</td><td>58</td><td>2016-11-26</td><td>2</td></tr>",
                            "<tr><td>Kentaur Hotel</td><td>58</td><td>2017-01-17</td><td>2</td></tr>",
                            "<tr><td>Kentaur Hotel</td><td>59</td><td>2016-09-25</td><td>NULL</td></tr>",
                            "<tr><td>Kentaur Hotel</td><td>59</td><td>2016-09-28</td><td>3</td></tr>",
                            "<tr><td>Kentaur Hotel</td><td>59</td><td>2016-10-20</td><td>2</td></tr>",
                            "<tr><td>Kentaur Hotel</td><td>59</td><td>2016-10-25</td><td>2</td></tr>",
                            "<tr><td>Kentaur Hotel</td><td>59</td><td>2016-11-03</td><td>2</td></tr>",
                            "<tr><td>Kentaur Hotel</td><td>59</td><td>2016-11-17</td><td>2</td></tr>",
                            "<tr><td>Kentaur Hotel</td><td>59</td><td>2017-02-26</td><td>2</td></tr>",
                            "<tr><td>Kentaur Hotel</td><td>60</td><td>2016-07-16</td><td>NULL</td></tr>",
                            "<tr><td>Kentaur Hotel</td><td>61</td><td>2016-07-21</td><td>NULL</td></tr>",
                            "<tr><td>Kentaur Hotel</td><td>61</td><td>2016-08-05</td><td>2</td></tr>",
                            "<tr><td>Kentaur Hotel</td><td>61</td><td>2016-10-11</td><td>2</td></tr>",
                            "<tr><td>Kentaur Hotel</td><td>61</td><td>2016-10-29</td><td>2</td></tr>",
                            "<tr><td>Kentaur Hotel</td><td>61</td><td>2017-02-04</td><td>2</td></tr>",
                            "<tr><td>Kentaur Hotel</td><td>62</td><td>2016-06-08</td><td>NULL</td></tr>",
                            "<tr><td>Kentaur Hotel</td><td>62</td><td>2016-06-09</td><td>2</td></tr>",
                            "<tr><td>Kentaur Hotel</td><td>62</td><td>2016-07-21</td><td>2</td></tr>",
                            "<tr><td>Kentaur Hotel</td><td>62</td><td>2016-09-26</td><td>1</td></tr>",
                            "<tr><td>Kentaur Hotel</td><td>62</td><td>2017-01-09</td><td>1</td></tr>",
                            "<tr><td>Kentaur Hotel</td><td>63</td><td>2016-05-08</td><td>NULL</td></tr>",
                            "<tr><td>Kentaur Hotel</td><td>63</td><td>2016-06-02</td><td>2</td></tr>",
                            "<tr><td>Kentaur Hotel</td><td>63</td><td>2016-08-12</td><td>1</td></tr>",
                            "<tr><td>Kentaur Hotel</td><td>63</td><td>2016-09-02</td><td>1</td></tr>",
                            "<tr><td>Kentaur Hotel</td><td>64</td><td>2016-05-30</td><td>NULL</td></tr>",
                            "<tr><td>Kentaur Hotel</td><td>64</td><td>2016-10-05</td><td>2</td></tr>",
                            "<tr><td>Kentaur Hotel</td><td>64</td><td>2016-10-31</td><td>2</td></tr>",
                            "<tr><td>Kentaur Hotel</td><td>64</td><td>2017-01-16</td><td>2</td></tr>",
                            "<tr><td>Kentaur Hotel</td><td>64</td><td>2017-01-22</td><td>2</td></tr>",
                            "<tr><td>Kentaur Hotel</td><td>64</td><td>2017-03-02</td><td>2</td></tr>",
                            "<tr><td>Kentaur Hotel</td><td>65</td><td>2016-05-17</td><td>NULL</td></tr>",
                            "<tr><td>Kentaur Hotel</td><td>66</td><td>2016-06-10</td><td>NULL</td></tr>",
                            "<tr><td>Kentaur Hotel</td><td>66</td><td>2016-07-29</td><td>3</td></tr>",
                            "<tr><td>Kentaur Hotel</td><td>66</td><td>2016-11-01</td><td>3</td></tr>",
                            "<tr><td>Kentaur Hotel</td><td>66</td><td>2016-11-08</td><td>3</td></tr>",
                            "<tr><td>Kentaur Hotel</td><td>67</td><td>2016-05-12</td><td>NULL</td></tr>",
                            "<tr><td>Kentaur Hotel</td><td>67</td><td>2016-05-14</td><td>1</td></tr>",
                            "<tr><td>Kentaur Hotel</td><td>67</td><td>2016-05-30</td><td>2</td></tr>",
                            "<tr><td>Kentaur Hotel</td><td>67</td><td>2016-12-22</td><td>2</td></tr>",
                            "<tr><td>Kentaur Hotel</td><td>67</td><td>2017-03-01</td><td>2</td></tr>",
                            "<tr><td>Kentaur Hotel</td><td>67</td><td>2017-03-03</td><td>2</td></tr>",
                            "<tr><td>Kentaur Hotel</td><td>68</td><td>2016-04-07</td><td>NULL</td></tr>",
                            "<tr><td>Kentaur Hotel</td><td>68</td><td>2016-07-12</td><td>4</td></tr>",
                            "<tr><td>Kentaur Hotel</td><td>68</td><td>2016-11-27</td><td>4</td></tr>",
                            "<tr><td>Kentaur Hotel</td><td>69</td><td>2016-05-31</td><td>NULL</td></tr>",
                            "<tr><td>Kentaur Hotel</td><td>69</td><td>2016-09-15</td><td>3</td></tr>",
                            "<tr><td>Kentaur Hotel</td><td>69</td><td>2016-10-30</td><td>3</td></tr>",
                            "<tr><td>Kentaur Hotel</td><td>69</td><td>2016-11-05</td><td>2</td></tr>",
                            "<tr><td>Kentaur Hotel</td><td>70</td><td>2016-04-17</td><td>NULL</td></tr>",
                            "<tr><td>Kentaur Hotel</td><td>70</td><td>2016-05-27</td><td>3</td></tr>",
                            "<tr><td>Kentaur Hotel</td><td>70</td><td>2016-07-03</td><td>2</td></tr>",
                            "<tr><td>Kentaur Hotel</td><td>70</td><td>2016-07-22</td><td>1</td></tr>",
                            "<tr><td>Kentaur Hotel</td><td>70</td><td>2016-08-24</td><td>2</td></tr>",
                            "<tr><td>Kentaur Hotel</td><td>70</td><td>2016-09-30</td><td>2</td></tr>",
                            "<tr><td>Kentaur Hotel</td><td>70</td><td>2016-10-07</td><td>2</td></tr>",
                            "<tr><td>Kentaur Hotel</td><td>70</td><td>2016-11-27</td><td>2</td></tr>",
                            "<tr><td>Kentaur Hotel</td><td>70</td><td>2016-11-30</td><td>2</td></tr>",
                            "<tr><td>Kentaur Hotel</td><td>70</td><td>2016-12-15</td><td>2</td></tr>",
                            "<tr><td>Kentaur Hotel</td><td>70</td><td>2017-01-19</td><td>2</td></tr>",
                            "<tr><td>Kentaur Hotel</td><td>71</td><td>2016-07-04</td><td>NULL</td></tr>",
                            "<tr><td>Kentaur Hotel</td><td>71</td><td>2016-07-18</td><td>3</td></tr>",
                            "<tr><td>Kentaur Hotel</td><td>71</td><td>2016-07-24</td><td>2</td></tr>",
                            "<tr><td>Kentaur Hotel</td><td>72</td><td>2016-06-04</td><td>NULL</td></tr>",
                            "<tr><td>Kentaur Hotel</td><td>72</td><td>2016-06-16</td><td>2</td></tr>",
                            "<tr><td>Kentaur Hotel</td><td>72</td><td>2016-11-25</td><td>2</td></tr>",
                            "<tr><td>Kentaur Hotel</td><td>72</td><td>2016-12-25</td><td>2</td></tr>",
                            "<tr><td>Kentaur Hotel</td><td>73</td><td>2016-07-01</td><td>NULL</td></tr>",
                            "<tr><td>Kentaur Hotel</td><td>73</td><td>2016-07-25</td><td>2</td></tr>",
                            "<tr><td>Kentaur Hotel</td><td>73</td><td>2016-10-16</td><td>2</td></tr>",
                            "<tr><td>Kentaur Hotel</td><td>73</td><td>2016-11-29</td><td>2</td></tr>",
                            "<tr><td>Kentaur Hotel</td><td>74</td><td>2016-04-22</td><td>NULL</td></tr>",
                            "<tr><td>Kentaur Hotel</td><td>74</td><td>2016-05-30</td><td>2</td></tr>",
                            "<tr><td>Kentaur Hotel</td><td>74</td><td>2016-06-09</td><td>2</td></tr>",
                            "<tr><td>Kentaur Hotel</td><td>74</td><td>2016-06-16</td><td>3</td></tr>",
                            "<tr><td>Kentaur Hotel</td><td>74</td><td>2016-08-18</td><td>3</td></tr>",
                            "<tr><td>Kentaur Hotel</td><td>74</td><td>2016-08-28</td><td>3</td></tr>",
                            "<tr><td>Kentaur Hotel</td><td>74</td><td>2016-09-03</td><td>3</td></tr>",
                            "<tr><td>Kentaur Hotel</td><td>74</td><td>2016-09-30</td><td>3</td></tr>",
                            "<tr><td>Kentaur Hotel</td><td>74</td><td>2016-10-22</td><td>3</td></tr>",
                            "<tr><td>Kentaur Hotel</td><td>75</td><td>2016-07-06</td><td>NULL</td></tr>",
                            "<tr><td>Kentaur Hotel</td><td>75</td><td>2017-01-01</td><td>2</td></tr>",
                            "<tr><td>Kentaur Hotel</td><td>75</td><td>2017-01-19</td><td>2</td></tr>",
                            "<tr><td>Kentaur Hotel</td><td>76</td><td>2016-06-22</td><td>NULL</td></tr>",
                            "<tr><td>Kentaur Hotel</td><td>76</td><td>2016-07-18</td><td>1</td></tr>",
                            "<tr><td>Kentaur Hotel</td><td>76</td><td>2017-02-21</td><td>1</td></tr>",
                            "<tr><td>Kentaur Hotel</td><td>77</td><td>2016-04-21</td><td>NULL</td></tr>",
                            "<tr><td>Kentaur Hotel</td><td>77</td><td>2016-06-23</td><td>3</td></tr>",
                            "<tr><td>Kentaur Hotel</td><td>77</td><td>2016-07-20</td><td>3</td></tr>",
                            "<tr><td>Kentaur Hotel</td><td>77</td><td>2016-10-01</td><td>3</td></tr>",
                            "<tr><td>Kentaur Hotel</td><td>77</td><td>2017-01-15</td><td>3</td></tr>",
                            "<tr><td>Kentaur Hotel</td><td>77</td><td>2017-01-22</td><td>3</td></tr>",
                            "<tr><td>Kentaur Hotel</td><td>78</td><td>2016-04-10</td><td>NULL</td></tr>",
                            "<tr><td>Kentaur Hotel</td><td>78</td><td>2016-05-14</td><td>2</td></tr>",
                            "<tr><td>Kentaur Hotel</td><td>78</td><td>2016-07-20</td><td>2</td></tr>",
                            "<tr><td>Kentaur Hotel</td><td>78</td><td>2016-11-09</td><td>2</td></tr>",
                            "<tr><td>Kentaur Hotel</td><td>78</td><td>2016-11-15</td><td>2</td></tr>",
                            "<tr><td>Kentaur Hotel</td><td>78</td><td>2017-02-27</td><td>2</td></tr>",
                            "<tr><td>Kentaur Hotel</td><td>79</td><td>2016-04-16</td><td>NULL</td></tr>",
                            "<tr><td>Kentaur Hotel</td><td>79</td><td>2016-09-15</td><td>3</td></tr>",
                            "<tr><td>Kentaur Hotel</td><td>79</td><td>2016-10-30</td><td>3</td></tr>",
                            "<tr><td>Kentaur Hotel</td><td>79</td><td>2016-12-05</td><td>3</td></tr>",
                            "<tr><td>Kentaur Hotel</td><td>79</td><td>2017-01-16</td><td>2</td></tr>",
                            "<tr><td>Kentaur Hotel</td><td>80</td><td>2016-06-01</td><td>NULL</td></tr>",
                            "<tr><td>Kentaur Hotel</td><td>80</td><td>2016-06-07</td><td>2</td></tr>",
                            "<tr><td>Kentaur Hotel</td><td>80</td><td>2016-06-23</td><td>2</td></tr>",
                            "<tr><td>Kentaur Hotel</td><td>80</td><td>2016-07-13</td><td>2</td></tr>",
                            "<tr><td>Kentaur Hotel</td><td>80</td><td>2016-09-20</td><td>2</td></tr>",
                            "<tr><td>Kentaur Hotel</td><td>80</td><td>2016-11-14</td><td>2</td></tr>",
                            "<tr><td>Kentaur Hotel</td><td>80</td><td>2016-12-17</td><td>2</td></tr>",
                            "<tr><td>Kentaur Hotel</td><td>81</td><td>2016-12-16</td><td>NULL</td></tr>",
                            "<tr><td>Kentaur Hotel</td><td>81</td><td>2017-01-16</td><td>1</td></tr>",
                            "<tr><td>Kentaur Hotel</td><td>81</td><td>2017-01-22</td><td>1</td></tr>",
                            "<tr><td>Kentaur Hotel</td><td>81</td><td>2017-02-06</td><td>1</td></tr>",
                            "<tr><td>Kentaur Hotel</td><td>81</td><td>2017-02-23</td><td>1</td></tr>",
                            "<tr><td>Kentaur Hotel</td><td>82</td><td>2016-05-27</td><td>NULL</td></tr>",
                            "<tr><td>Kentaur Hotel</td><td>82</td><td>2016-05-29</td><td>3</td></tr>",
                            "<tr><td>Kentaur Hotel</td><td>82</td><td>2016-07-01</td><td>3</td></tr>",
                            "<tr><td>Kentaur Hotel</td><td>82</td><td>2016-11-12</td><td>2</td></tr>",
                            "<tr><td>Kentaur Hotel</td><td>82</td><td>2016-12-04</td><td>2</td></tr>",
                            "<tr><td>Kentaur Hotel</td><td>82</td><td>2016-12-29</td><td>2</td></tr>",
                            "<tr><td>Kentaur Hotel</td><td>83</td><td>2016-04-10</td><td>NULL</td></tr>",
                            "<tr><td>Kentaur Hotel</td><td>83</td><td>2016-05-28</td><td>2</td></tr>",
                            "<tr><td>Kentaur Hotel</td><td>83</td><td>2016-05-30</td><td>2</td></tr>",
                            "<tr><td>Kentaur Hotel</td><td>83</td><td>2016-06-30</td><td>2</td></tr>",
                            "<tr><td>Kentaur Hotel</td><td>83</td><td>2016-07-15</td><td>2</td></tr>",
                            "<tr><td>Kentaur Hotel</td><td>83</td><td>2016-08-18</td><td>2</td></tr>",
                            "<tr><td>Kentaur Hotel</td><td>83</td><td>2016-10-04</td><td>2</td></tr>",
                            "<tr><td>Kentaur Hotel</td><td>83</td><td>2016-12-19</td><td>2</td></tr>",
                            "<tr><td>Kentaur Hotel</td><td>84</td><td>2016-06-13</td><td>NULL</td></tr>",
                            "<tr><td>Kentaur Hotel</td><td>84</td><td>2016-08-24</td><td>1</td></tr>",
                            "<tr><td>Kentaur Hotel</td><td>84</td><td>2016-12-17</td><td>1</td></tr>",
                            "<tr><td>Kentaur Hotel</td><td>84</td><td>2016-12-22</td><td>2</td></tr>",
                            "<tr><td>Szieszta Apartmanház</td><td>85</td><td>2016-05-15</td><td>NULL</td></tr>",
                            "<tr><td>Szieszta Apartmanház</td><td>85</td><td>2016-09-17</td><td>2</td></tr>",
                            "<tr><td>Szieszta Apartmanház</td><td>85</td><td>2016-11-25</td><td>2</td></tr>",
                            "<tr><td>Szieszta Apartmanház</td><td>85</td><td>2017-02-09</td><td>2</td></tr>",
                            "<tr><td>Szieszta Apartmanház</td><td>86</td><td>2016-05-26</td><td>NULL</td></tr>",
                            "<tr><td>Szieszta Apartmanház</td><td>86</td><td>2016-09-16</td><td>3</td></tr>",
                            "<tr><td>Szieszta Apartmanház</td><td>86</td><td>2016-09-24</td><td>2</td></tr>",
                            "<tr><td>Szieszta Apartmanház</td><td>86</td><td>2016-10-01</td><td>1</td></tr>",
                            "<tr><td>Szieszta Apartmanház</td><td>86</td><td>2017-01-17</td><td>1</td></tr>",
                            "<tr><td>Szieszta Apartmanház</td><td>87</td><td>2016-04-06</td><td>NULL</td></tr>",
                            "<tr><td>Szieszta Apartmanház</td><td>87</td><td>2016-09-02</td><td>3</td></tr>",
                            "<tr><td>Szieszta Apartmanház</td><td>87</td><td>2016-10-01</td><td>3</td></tr>",
                            "<tr><td>Szieszta Apartmanház</td><td>87</td><td>2016-12-06</td><td>2</td></tr>",
                            "<tr><td>Szieszta Apartmanház</td><td>87</td><td>2017-01-19</td><td>2</td></tr>",
                            "<tr><td>Szieszta Apartmanház</td><td>88</td><td>2016-05-28</td><td>NULL</td></tr>",
                            "<tr><td>Szieszta Apartmanház</td><td>88</td><td>2016-08-05</td><td>2</td></tr>",
                            "<tr><td>Szieszta Apartmanház</td><td>88</td><td>2016-10-26</td><td>1</td></tr>",
                            "<tr><td>Szieszta Apartmanház</td><td>88</td><td>2016-11-10</td><td>2</td></tr>",
                            "<tr><td>Szieszta Apartmanház</td><td>88</td><td>2016-11-21</td><td>2</td></tr>",
                            "<tr><td>Szieszta Apartmanház</td><td>88</td><td>2016-12-12</td><td>2</td></tr>",
                            "<tr><td>Szieszta Apartmanház</td><td>88</td><td>2017-02-18</td><td>2</td></tr>",
                            "<tr><td>Szieszta Apartmanház</td><td>88</td><td>2017-02-26</td><td>3</td></tr>",
                            "<tr><td>Szieszta Apartmanház</td><td>89</td><td>2016-08-24</td><td>NULL</td></tr>",
                            "<tr><td>Szieszta Apartmanház</td><td>89</td><td>2016-09-08</td><td>3</td></tr>",
                            "<tr><td>Szieszta Apartmanház</td><td>89</td><td>2016-10-01</td><td>2</td></tr>",
                            "<tr><td>Szieszta Apartmanház</td><td>89</td><td>2016-10-24</td><td>2</td></tr>",
                            "<tr><td>Szieszta Apartmanház</td><td>89</td><td>2016-11-05</td><td>2</td></tr>",
                            "<tr><td>Szieszta Apartmanház</td><td>89</td><td>2016-11-09</td><td>2</td></tr>",
                            "<tr><td>Szieszta Apartmanház</td><td>89</td><td>2016-12-26</td><td>2</td></tr>",
                            "<tr><td>Szieszta Apartmanház</td><td>89</td><td>2017-02-12</td><td>2</td></tr>",
                            "<tr><td>Szieszta Apartmanház</td><td>90</td><td>2016-07-28</td><td>NULL</td></tr>",
                            "<tr><td>Szieszta Apartmanház</td><td>90</td><td>2016-10-21</td><td>2</td></tr>",
                            "<tr><td>Szieszta Apartmanház</td><td>90</td><td>2016-11-21</td><td>2</td></tr>",
                            "<tr><td>Szieszta Apartmanház</td><td>90</td><td>2016-12-29</td><td>2</td></tr>",
                            "<tr><td>Hotel Három Hattyú</td><td>91</td><td>2016-05-10</td><td>NULL</td></tr>",
                            "<tr><td>Hotel Három Hattyú</td><td>91</td><td>2016-07-28</td><td>2</td></tr>",
                            "<tr><td>Hotel Három Hattyú</td><td>91</td><td>2016-10-28</td><td>2</td></tr>",
                            "<tr><td>Hotel Három Hattyú</td><td>91</td><td>2016-12-25</td><td>1</td></tr>",
                            "<tr><td>Hotel Három Hattyú</td><td>92</td><td>2016-06-10</td><td>NULL</td></tr>",
                            "<tr><td>Hotel Három Hattyú</td><td>92</td><td>2016-07-07</td><td>4</td></tr>",
                            "<tr><td>Hotel Három Hattyú</td><td>92</td><td>2016-08-23</td><td>3</td></tr>",
                            "<tr><td>Hotel Három Hattyú</td><td>92</td><td>2016-08-31</td><td>3</td></tr>",
                            "<tr><td>Hotel Három Hattyú</td><td>92</td><td>2017-02-13</td><td>3</td></tr>",
                            "<tr><td>Hotel Három Hattyú</td><td>92</td><td>2017-02-20</td><td>3</td></tr>",
                            "<tr><td>Hotel Három Hattyú</td><td>93</td><td>2016-07-30</td><td>NULL</td></tr>",
                            "<tr><td>Hotel Három Hattyú</td><td>93</td><td>2016-10-20</td><td>4</td></tr>",
                            "<tr><td>Hotel Három Hattyú</td><td>93</td><td>2016-10-29</td><td>2</td></tr>",
                            "<tr><td>Hotel Három Hattyú</td><td>93</td><td>2016-12-08</td><td>3</td></tr>",
                            "<tr><td>Hotel Három Hattyú</td><td>93</td><td>2016-12-25</td><td>3</td></tr>",
                            "<tr><td>Hotel Három Hattyú</td><td>94</td><td>2016-05-02</td><td>NULL</td></tr>",
                            "<tr><td>Hotel Három Hattyú</td><td>94</td><td>2016-06-21</td><td>2</td></tr>",
                            "<tr><td>Hotel Három Hattyú</td><td>94</td><td>2016-07-13</td><td>2</td></tr>",
                            "<tr><td>Hotel Három Hattyú</td><td>94</td><td>2016-07-27</td><td>2</td></tr>",
                            "<tr><td>Hotel Három Hattyú</td><td>94</td><td>2016-11-03</td><td>2</td></tr>",
                            "<tr><td>Hotel Három Hattyú</td><td>94</td><td>2016-11-22</td><td>2</td></tr>",
                            "<tr><td>Hotel Három Hattyú</td><td>94</td><td>2016-11-23</td><td>2</td></tr>",
                            "<tr><td>Hotel Három Hattyú</td><td>94</td><td>2016-12-17</td><td>1</td></tr>",
                            "<tr><td>Hotel Három Hattyú</td><td>94</td><td>2017-02-12</td><td>1</td></tr>",
                            "<tr><td>Hotel Három Hattyú</td><td>94</td><td>2017-02-23</td><td>1</td></tr>",
                            "<tr><td>Hotel Három Hattyú</td><td>95</td><td>2016-05-19</td><td>NULL</td></tr>",
                            "<tr><td>Hotel Három Hattyú</td><td>95</td><td>2016-09-13</td><td>2</td></tr>",
                            "<tr><td>Hotel Három Hattyú</td><td>95</td><td>2016-10-01</td><td>1</td></tr>",
                            "<tr><td>Hotel Három Hattyú</td><td>95</td><td>2017-02-16</td><td>2</td></tr>",
                            "<tr><td>Hotel Három Hattyú</td><td>96</td><td>2016-04-28</td><td>NULL</td></tr>",
                            "<tr><td>Hotel Három Hattyú</td><td>96</td><td>2016-05-08</td><td>3</td></tr>",
                            "<tr><td>Hotel Három Hattyú</td><td>96</td><td>2016-07-14</td><td>3</td></tr>",
                            "<tr><td>Hotel Három Hattyú</td><td>96</td><td>2016-08-15</td><td>3</td></tr>",
                            "<tr><td>Hotel Három Hattyú</td><td>96</td><td>2016-12-18</td><td>2</td></tr>",
                            "<tr><td>Hotel Három Hattyú</td><td>96</td><td>2017-01-14</td><td>2</td></tr>",
                            "<tr><td>Hotel Három Hattyú</td><td>96</td><td>2017-02-24</td><td>2</td></tr>",
                            "<tr><td>Hotel Három Hattyú</td><td>97</td><td>2016-05-10</td><td>NULL</td></tr>",
                            "<tr><td>Hotel Három Hattyú</td><td>97</td><td>2016-07-27</td><td>4</td></tr>",
                            "<tr><td>Hotel Három Hattyú</td><td>97</td><td>2016-07-27</td><td>4</td></tr>",
                            "<tr><td>Hotel Három Hattyú</td><td>97</td><td>2016-08-29</td><td>4</td></tr>",
                            "<tr><td>Hotel Három Hattyú</td><td>97</td><td>2016-12-25</td><td>3</td></tr>",
                            "<tr><td>Hotel Három Hattyú</td><td>97</td><td>2017-01-03</td><td>3</td></tr>",
                            "<tr><td>Hotel Három Hattyú</td><td>97</td><td>2017-02-13</td><td>3</td></tr>",
                            "<tr><td>Hotel Három Hattyú</td><td>98</td><td>2016-05-09</td><td>NULL</td></tr>",
                            "<tr><td>Hotel Három Hattyú</td><td>98</td><td>2016-05-30</td><td>1</td></tr>",
                            "<tr><td>Hotel Három Hattyú</td><td>98</td><td>2016-09-13</td><td>1</td></tr>",
                            "<tr><td>Hotel Három Hattyú</td><td>98</td><td>2016-12-28</td><td>1</td></tr>",
                            "<tr><td>Hotel Három Hattyú</td><td>99</td><td>2016-05-09</td><td>NULL</td></tr>",
                            "<tr><td>Hotel Három Hattyú</td><td>99</td><td>2016-07-20</td><td>2</td></tr>",
                            "<tr><td>Hotel Három Hattyú</td><td>99</td><td>2016-09-20</td><td>2</td></tr>",
                            "<tr><td>Hotel Három Hattyú</td><td>99</td><td>2016-12-31</td><td>2</td></tr>",
                            "<tr><td>Hotel Három Hattyú</td><td>99</td><td>2017-01-31</td><td>2</td></tr>",
                            "<tr><td>Hotel Három Hattyú</td><td>100</td><td>2016-04-23</td><td>NULL</td></tr>",
                            "<tr><td>Hotel Három Hattyú</td><td>100</td><td>2016-05-11</td><td>2</td></tr>",
                            "<tr><td>Hotel Három Hattyú</td><td>100</td><td>2016-11-24</td><td>2</td></tr>",
                            "<tr><td>Hotel Három Hattyú</td><td>100</td><td>2017-01-29</td><td>2</td></tr>",
                            "<tr><td>Hotel Három Hattyú</td><td>101</td><td>2016-07-25</td><td>NULL</td></tr>",
                            "<tr><td>Hotel Három Hattyú</td><td>101</td><td>2016-11-29</td><td>2</td></tr>",
                            "<tr><td>Hotel Három Hattyú</td><td>101</td><td>2017-02-10</td><td>2</td></tr>",
                            "<tr><td>Hotel Három Hattyú</td><td>102</td><td>2016-07-19</td><td>NULL</td></tr>",
                            "<tr><td>Hotel Három Hattyú</td><td>102</td><td>2016-12-05</td><td>1</td></tr>",
                            "<tr><td>Hotel Három Hattyú</td><td>103</td><td>2016-06-19</td><td>NULL</td></tr>",
                            "<tr><td>Hotel Három Hattyú</td><td>103</td><td>2016-06-29</td><td>3</td></tr>",
                            "<tr><td>Hotel Három Hattyú</td><td>103</td><td>2016-12-26</td><td>2</td></tr>",
                            "<tr><td>Hotel Három Hattyú</td><td>103</td><td>2017-01-30</td><td>2</td></tr>",
                            "<tr><td>Hotel Három Hattyú</td><td>104</td><td>2016-08-29</td><td>NULL</td></tr>",
                            "<tr><td>Hotel Három Hattyú</td><td>104</td><td>2016-10-22</td><td>3</td></tr>",
                            "<tr><td>Hotel Három Hattyú</td><td>104</td><td>2017-02-12</td><td>3</td></tr>",
                            "<tr><td>Hotel Három Hattyú</td><td>104</td><td>2017-02-14</td><td>3</td></tr>",
                            "<tr><td>Hotel Három Hattyú</td><td>105</td><td>2016-05-03</td><td>NULL</td></tr>",
                            "<tr><td>Hotel Három Hattyú</td><td>105</td><td>2017-02-12</td><td>2</td></tr>",
                            "<tr><td>Hotel Három Hattyú</td><td>106</td><td>2016-04-30</td><td>NULL</td></tr>",
                            "<tr><td>Hotel Három Hattyú</td><td>106</td><td>2016-07-23</td><td>1</td></tr>",
                            "<tr><td>Hotel Három Hattyú</td><td>106</td><td>2016-10-30</td><td>1</td></tr>",
                            "<tr><td>Hotel Három Hattyú</td><td>106</td><td>2016-11-10</td><td>1</td></tr>",
                            "<tr><td>Hotel Három Hattyú</td><td>106</td><td>2016-12-17</td><td>1</td></tr>",
                            "<tr><td>Hotel Három Hattyú</td><td>106</td><td>2017-02-08</td><td>1</td></tr>",
                            "<tr><td>Hotel Három Hattyú</td><td>107</td><td>2016-04-18</td><td>NULL</td></tr>",
                            "<tr><td>Hotel Három Hattyú</td><td>107</td><td>2016-11-05</td><td>1</td></tr>",
                            "<tr><td>Hotel Három Hattyú</td><td>107</td><td>2016-12-07</td><td>1</td></tr>",
                            "<tr><td>Hotel Három Hattyú</td><td>107</td><td>2017-01-17</td><td>1</td></tr>",
                            "<tr><td>Hotel Három Hattyú</td><td>107</td><td>2017-02-04</td><td>2</td></tr>",
                            "<tr><td>Hotel Három Hattyú</td><td>108</td><td>2016-10-01</td><td>NULL</td></tr>",
                            "<tr><td>Hotel Három Hattyú</td><td>108</td><td>2016-12-25</td><td>1</td></tr>",
                            "<tr><td>Hotel Három Hattyú</td><td>109</td><td>2016-05-01</td><td>NULL</td></tr>",
                            "<tr><td>Hotel Három Hattyú</td><td>109</td><td>2016-05-06</td><td>3</td></tr>",
                            "<tr><td>Hotel Három Hattyú</td><td>109</td><td>2016-05-18</td><td>2</td></tr>",
                            "<tr><td>Hotel Három Hattyú</td><td>109</td><td>2016-08-23</td><td>2</td></tr>",
                            "<tr><td>Hotel Három Hattyú</td><td>109</td><td>2016-09-27</td><td>2</td></tr>",
                            "<tr><td>Hotel Három Hattyú</td><td>109</td><td>2016-11-20</td><td>2</td></tr>",
                            "<tr><td>Hotel Három Hattyú</td><td>109</td><td>2017-02-23</td><td>2</td></tr>",
                            "<tr><td>Hotel Három Hattyú</td><td>110</td><td>2016-06-07</td><td>NULL</td></tr>",
                            "<tr><td>Hotel Három Hattyú</td><td>110</td><td>2016-06-16</td><td>2</td></tr>",
                            "<tr><td>Hotel Három Hattyú</td><td>110</td><td>2016-07-18</td><td>2</td></tr>",
                            "<tr><td>Hotel Három Hattyú</td><td>110</td><td>2016-09-10</td><td>2</td></tr>",
                            "<tr><td>Hotel Három Hattyú</td><td>110</td><td>2016-10-01</td><td>2</td></tr>",
                            "<tr><td>Hotel Három Hattyú</td><td>110</td><td>2016-10-17</td><td>1</td></tr>",
                            "<tr><td>Hotel Három Hattyú</td><td>110</td><td>2017-01-07</td><td>1</td></tr>",
                            "<tr><td>Hotel Három Hattyú</td><td>110</td><td>2017-02-02</td><td>1</td></tr>",
                            "<tr><td>Hotel Három Hattyú</td><td>111</td><td>2016-04-27</td><td>NULL</td></tr>",
                            "<tr><td>Hotel Három Hattyú</td><td>111</td><td>2016-06-14</td><td>3</td></tr>",
                            "<tr><td>Hotel Három Hattyú</td><td>111</td><td>2016-08-16</td><td>2</td></tr>",
                            "<tr><td>Hotel Három Hattyú</td><td>111</td><td>2016-11-19</td><td>2</td></tr>",
                            "<tr><td>Hotel Három Hattyú</td><td>111</td><td>2016-12-07</td><td>2</td></tr>",
                            "<tr><td>Hotel Három Hattyú</td><td>112</td><td>2016-06-06</td><td>NULL</td></tr>",
                            "<tr><td>Hotel Három Hattyú</td><td>112</td><td>2016-08-14</td><td>3</td></tr>",
                            "<tr><td>Hotel Három Hattyú</td><td>112</td><td>2016-08-20</td><td>3</td></tr>",
                            "<tr><td>Hotel Három Hattyú</td><td>112</td><td>2016-10-06</td><td>3</td></tr>",
                            "<tr><td>Hotel Három Hattyú</td><td>112</td><td>2017-02-13</td><td>3</td></tr>",
                            "<tr><td>Hotel Három Hattyú</td><td>113</td><td>2016-09-05</td><td>NULL</td></tr>",
                            "<tr><td>Hotel Három Hattyú</td><td>113</td><td>2016-09-28</td><td>4</td></tr>",
                            "<tr><td>Hotel Három Hattyú</td><td>113</td><td>2016-11-08</td><td>4</td></tr>",
                            "<tr><td>Hotel Három Hattyú</td><td>113</td><td>2017-02-04</td><td>4</td></tr>",
                            "<tr><td>Hotel Három Hattyú</td><td>113</td><td>2017-02-05</td><td>4</td></tr>",
                            "<tr><td>Hotel Három Hattyú</td><td>114</td><td>2016-06-16</td><td>NULL</td></tr>",
                            "<tr><td>Hotel Három Hattyú</td><td>114</td><td>2016-07-29</td><td>2</td></tr>",
                            "<tr><td>Hotel Három Hattyú</td><td>114</td><td>2016-08-26</td><td>2</td></tr>",
                            "<tr><td>Hotel Három Hattyú</td><td>114</td><td>2017-02-16</td><td>2</td></tr>",
                            "<tr><td>Hotel Három Hattyú</td><td>115</td><td>2016-04-23</td><td>NULL</td></tr>",
                            "<tr><td>Hotel Három Hattyú</td><td>115</td><td>2016-06-10</td><td>3</td></tr>",
                            "<tr><td>Hotel Három Hattyú</td><td>115</td><td>2016-10-04</td><td>3</td></tr>",
                            "<tr><td>Hotel Három Hattyú</td><td>115</td><td>2016-10-15</td><td>3</td></tr>",
                            "<tr><td>Hotel Három Hattyú</td><td>115</td><td>2016-12-07</td><td>2</td></tr>",
                            "<tr><td>Hotel Három Hattyú</td><td>115</td><td>2017-02-20</td><td>2</td></tr>",
                            "<tr><td>Hotel Három Hattyú</td><td>115</td><td>2017-02-24</td><td>2</td></tr>",
                            "<tr><td>Hotel Három Hattyú</td><td>116</td><td>2017-01-18</td><td>NULL</td></tr>",
                            "<tr><td>Hotel Három Hattyú</td><td>116</td><td>2017-02-05</td><td>2</td></tr>",
                            "<tr><td>Hotel Három Hattyú</td><td>117</td><td>2016-05-01</td><td>NULL</td></tr>",
                            "<tr><td>Hotel Három Hattyú</td><td>117</td><td>2016-05-02</td><td>2</td></tr>",
                            "<tr><td>Hotel Három Hattyú</td><td>117</td><td>2016-06-12</td><td>2</td></tr>",
                            "<tr><td>Hotel Három Hattyú</td><td>117</td><td>2016-06-16</td><td>2</td></tr>",
                            "<tr><td>Hotel Három Hattyú</td><td>117</td><td>2016-07-03</td><td>2</td></tr>",
                            "<tr><td>Hotel Három Hattyú</td><td>117</td><td>2016-10-26</td><td>3</td></tr>",
                            "<tr><td>Hotel Három Hattyú</td><td>117</td><td>2016-11-05</td><td>3</td></tr>",
                            "<tr><td>Hotel Három Hattyú</td><td>117</td><td>2017-01-23</td><td>3</td></tr>",
                            "<tr><td>Hotel Három Hattyú</td><td>118</td><td>2016-05-28</td><td>NULL</td></tr>",
                            "<tr><td>Hotel Három Hattyú</td><td>118</td><td>2016-06-30</td><td>2</td></tr>",
                            "<tr><td>Hotel Három Hattyú</td><td>118</td><td>2016-07-01</td><td>2</td></tr>",
                            "<tr><td>Hotel Három Hattyú</td><td>118</td><td>2016-07-26</td><td>2</td></tr>",
                            "<tr><td>Hotel Három Hattyú</td><td>118</td><td>2016-12-17</td><td>2</td></tr>",
                            "<tr><td>Hotel Három Hattyú</td><td>118</td><td>2017-01-24</td><td>2</td></tr>",
                            "<tr><td>Hotel Három Hattyú</td><td>118</td><td>2017-01-29</td><td>2</td></tr>",
                            "<tr><td>Hotel Három Hattyú</td><td>119</td><td>2016-07-12</td><td>NULL</td></tr>",
                            "<tr><td>Hotel Három Hattyú</td><td>119</td><td>2016-07-22</td><td>1</td></tr>",
                            "<tr><td>Hotel Három Hattyú</td><td>119</td><td>2016-07-27</td><td>1</td></tr>",
                            "<tr><td>Hotel Három Hattyú</td><td>119</td><td>2017-01-02</td><td>1</td></tr>",
                            "<tr><td>Hotel Három Hattyú</td><td>119</td><td>2017-02-01</td><td>1</td></tr>",
                            "<tr><td>Hotel Három Hattyú</td><td>120</td><td>2016-07-01</td><td>NULL</td></tr>",
                            "<tr><td>Hotel Három Hattyú</td><td>120</td><td>2016-08-07</td><td>4</td></tr>",
                            "<tr><td>Hotel Három Hattyú</td><td>120</td><td>2016-09-30</td><td>3</td></tr>",
                            "<tr><td>Hotel Három Hattyú</td><td>120</td><td>2016-12-03</td><td>3</td></tr>",
                            "<tr><td>Hotel Három Hattyú</td><td>120</td><td>2017-01-30</td><td>2</td></tr>",
                            "<tr><td>Hotel Három Hattyú</td><td>120</td><td>2017-02-04</td><td>2</td></tr>",
                            "<tr><td>Hotel Három Hattyú</td><td>121</td><td>2016-05-25</td><td>NULL</td></tr>",
                            "<tr><td>Hotel Három Hattyú</td><td>121</td><td>2016-07-28</td><td>1</td></tr>",
                            "<tr><td>Hotel Három Hattyú</td><td>121</td><td>2016-07-30</td><td>1</td></tr>",
                            "<tr><td>Hotel Három Hattyú</td><td>121</td><td>2016-09-13</td><td>1</td></tr>",
                            "<tr><td>Hotel Három Hattyú</td><td>121</td><td>2016-10-08</td><td>1</td></tr>",
                            "<tr><td>Hotel Három Hattyú</td><td>121</td><td>2016-10-29</td><td>2</td></tr>",
                            "<tr><td>Hotel Három Hattyú</td><td>121</td><td>2016-12-17</td><td>2</td></tr>",
                            "<tr><td>Hotel Három Hattyú</td><td>121</td><td>2016-12-25</td><td>2</td></tr>",
                            "<tr><td>Hotel Három Hattyú</td><td>122</td><td>2016-07-04</td><td>NULL</td></tr>",
                            "<tr><td>Hotel Három Hattyú</td><td>122</td><td>2016-09-08</td><td>3</td></tr>",
                            "<tr><td>Hotel Három Hattyú</td><td>122</td><td>2016-09-17</td><td>3</td></tr>",
                            "<tr><td>Hotel Három Hattyú</td><td>122</td><td>2016-10-19</td><td>3</td></tr>",
                            "<tr><td>Hotel Három Hattyú</td><td>122</td><td>2016-10-28</td><td>3</td></tr>",
                            "<tr><td>Hotel Három Hattyú</td><td>122</td><td>2016-11-04</td><td>3</td></tr>",
                            "<tr><td>Hotel Három Hattyú</td><td>122</td><td>2016-12-02</td><td>3</td></tr>",
                            "<tr><td>Hotel Három Hattyú</td><td>122</td><td>2016-12-23</td><td>3</td></tr>",
                            "<tr><td>Hotel Három Hattyú</td><td>122</td><td>2017-01-15</td><td>3</td></tr>",
                            "<tr><td>Hotel Három Hattyú</td><td>123</td><td>2016-04-19</td><td>NULL</td></tr>",
                            "<tr><td>Hotel Három Hattyú</td><td>123</td><td>2016-06-07</td><td>1</td></tr>",
                            "<tr><td>Hotel Három Hattyú</td><td>123</td><td>2016-06-16</td><td>1</td></tr>",
                            "<tr><td>Hotel Három Hattyú</td><td>123</td><td>2016-10-30</td><td>1</td></tr>",
                            "<tr><td>Hotel Három Hattyú</td><td>123</td><td>2016-11-15</td><td>2</td></tr>",
                            "<tr><td>Hotel Három Hattyú</td><td>124</td><td>2016-05-27</td><td>NULL</td></tr>",
                            "<tr><td>Hotel Három Hattyú</td><td>124</td><td>2016-10-28</td><td>3</td></tr>",
                            "<tr><td>Hotel Három Hattyú</td><td>124</td><td>2016-11-29</td><td>3</td></tr>",
                            "<tr><td>Hotel Három Hattyú</td><td>124</td><td>2016-12-29</td><td>3</td></tr>",
                            "<tr><td>Hotel Három Hattyú</td><td>124</td><td>2017-01-05</td><td>2</td></tr>",
                            "<tr><td>Hotel Három Hattyú</td><td>124</td><td>2017-02-13</td><td>2</td></tr>",
                            "<tr><td>Hotel Három Hattyú</td><td>125</td><td>2016-04-11</td><td>NULL</td></tr>",
                            "<tr><td>Hotel Három Hattyú</td><td>126</td><td>2016-08-04</td><td>NULL</td></tr>",
                            "<tr><td>Hotel Három Hattyú</td><td>126</td><td>2016-08-21</td><td>3</td></tr>",
                            "<tr><td>Hotel Három Hattyú</td><td>126</td><td>2016-10-08</td><td>2</td></tr>",
                            "<tr><td>Hotel Három Hattyú</td><td>126</td><td>2016-12-15</td><td>2</td></tr>",
                            "<tr><td>Hotel Három Hattyú</td><td>126</td><td>2017-01-09</td><td>2</td></tr>",
                            "<tr><td>Hotel Három Hattyú</td><td>126</td><td>2017-02-05</td><td>1</td></tr>",
                            "<tr><td>Hotel Három Hattyú</td><td>127</td><td>2016-05-14</td><td>NULL</td></tr>",
                            "<tr><td>Hotel Három Hattyú</td><td>127</td><td>2016-05-24</td><td>2</td></tr>",
                            "<tr><td>Hotel Három Hattyú</td><td>127</td><td>2016-05-30</td><td>2</td></tr>",
                            "<tr><td>Hotel Három Hattyú</td><td>127</td><td>2016-09-06</td><td>2</td></tr>",
                            "<tr><td>Hotel Három Hattyú</td><td>127</td><td>2016-10-30</td><td>1</td></tr>",
                            "<tr><td>Hotel Három Hattyú</td><td>127</td><td>2016-11-16</td><td>2</td></tr>",
                            "<tr><td>Hotel Három Hattyú</td><td>127</td><td>2017-02-28</td><td>2</td></tr>",
                            "<tr><td>Hotel Három Hattyú</td><td>128</td><td>2016-07-26</td><td>NULL</td></tr>",
                            "<tr><td>Hotel Három Hattyú</td><td>128</td><td>2016-08-24</td><td>2</td></tr>",
                            "<tr><td>Hotel Három Hattyú</td><td>128</td><td>2016-11-19</td><td>2</td></tr>",
                            "<tr><td>Hotel Három Hattyú</td><td>128</td><td>2017-02-26</td><td>2</td></tr>",
                            "<tr><td>Hotel Három Hattyú</td><td>128</td><td>2017-03-03</td><td>2</td></tr>",
                            "<tr><td>Hotel Három Hattyú</td><td>129</td><td>2016-07-27</td><td>NULL</td></tr>",
                            "<tr><td>Hotel Három Hattyú</td><td>129</td><td>2016-12-13</td><td>2</td></tr>",
                            "<tr><td>Hotel Három Hattyú</td><td>129</td><td>2017-01-16</td><td>2</td></tr>",
                            "<tr><td>Hotel Három Hattyú</td><td>129</td><td>2017-02-08</td><td>2</td></tr>",
                            "<tr><td>Jáde panzió</td><td>130</td><td>2016-04-14</td><td>NULL</td></tr>",
                            "<tr><td>Jáde panzió</td><td>130</td><td>2016-05-01</td><td>2</td></tr>",
                            "<tr><td>Jáde panzió</td><td>130</td><td>2016-06-06</td><td>2</td></tr>",
                            "<tr><td>Jáde panzió</td><td>130</td><td>2016-08-15</td><td>2</td></tr>",
                            "<tr><td>Jáde panzió</td><td>130</td><td>2016-09-09</td><td>1</td></tr>",
                            "<tr><td>Jáde panzió</td><td>130</td><td>2017-01-26</td><td>1</td></tr>",
                            "<tr><td>Jáde panzió</td><td>131</td><td>2016-04-06</td><td>NULL</td></tr>",
                            "<tr><td>Jáde panzió</td><td>131</td><td>2016-05-18</td><td>2</td></tr>",
                            "<tr><td>Jáde panzió</td><td>131</td><td>2016-05-30</td><td>2</td></tr>",
                            "<tr><td>Jáde panzió</td><td>131</td><td>2016-08-06</td><td>1</td></tr>",
                            "<tr><td>Jáde panzió</td><td>131</td><td>2017-01-25</td><td>1</td></tr>",
                            "<tr><td>Jáde panzió</td><td>132</td><td>2016-05-04</td><td>NULL</td></tr>",
                            "<tr><td>Jáde panzió</td><td>132</td><td>2016-07-01</td><td>2</td></tr>",
                            "<tr><td>Jáde panzió</td><td>132</td><td>2016-09-30</td><td>2</td></tr>",
                            "<tr><td>Jáde panzió</td><td>132</td><td>2016-10-01</td><td>2</td></tr>",
                            "<tr><td>Jáde panzió</td><td>132</td><td>2016-11-22</td><td>2</td></tr>",
                            "<tr><td>Jáde panzió</td><td>132</td><td>2017-02-12</td><td>2</td></tr>",
                            "<tr><td>Jáde panzió</td><td>133</td><td>2016-06-06</td><td>NULL</td></tr>",
                            "<tr><td>Jáde panzió</td><td>133</td><td>2016-06-27</td><td>3</td></tr>",
                            "<tr><td>Jáde panzió</td><td>133</td><td>2016-10-12</td><td>2</td></tr>",
                            "<tr><td>Jáde panzió</td><td>133</td><td>2016-11-22</td><td>2</td></tr>",
                            "<tr><td>Jáde panzió</td><td>133</td><td>2016-12-15</td><td>2</td></tr>",
                            "<tr><td>Jáde panzió</td><td>133</td><td>2017-01-01</td><td>2</td></tr>",
                            "<tr><td>Jáde panzió</td><td>134</td><td>2016-07-03</td><td>NULL</td></tr>",
                            "<tr><td>Jáde panzió</td><td>134</td><td>2016-07-11</td><td>2</td></tr>",
                            "<tr><td>Jáde panzió</td><td>134</td><td>2016-09-12</td><td>2</td></tr>",
                            "<tr><td>Jáde panzió</td><td>134</td><td>2016-10-22</td><td>2</td></tr>",
                            "<tr><td>Jáde panzió</td><td>134</td><td>2016-10-30</td><td>2</td></tr>",
                            "<tr><td>Jáde panzió</td><td>134</td><td>2017-02-15</td><td>2</td></tr>",
                            "<tr><td>Lagúna Hotel</td><td>135</td><td>2016-07-27</td><td>NULL</td></tr>",
                            "<tr><td>Lagúna Hotel</td><td>135</td><td>2016-09-05</td><td>2</td></tr>",
                            "<tr><td>Lagúna Hotel</td><td>135</td><td>2016-11-18</td><td>2</td></tr>",
                            "<tr><td>Lagúna Hotel</td><td>136</td><td>2016-04-17</td><td>NULL</td></tr>",
                            "<tr><td>Lagúna Hotel</td><td>136</td><td>2016-05-21</td><td>2</td></tr>",
                            "<tr><td>Lagúna Hotel</td><td>136</td><td>2016-09-12</td><td>1</td></tr>",
                            "<tr><td>Lagúna Hotel</td><td>137</td><td>2016-04-16</td><td>NULL</td></tr>",
                            "<tr><td>Lagúna Hotel</td><td>137</td><td>2016-05-17</td><td>2</td></tr>",
                            "<tr><td>Lagúna Hotel</td><td>137</td><td>2016-05-20</td><td>2</td></tr>",
                            "<tr><td>Lagúna Hotel</td><td>137</td><td>2016-07-06</td><td>1</td></tr>",
                            "<tr><td>Lagúna Hotel</td><td>137</td><td>2016-10-26</td><td>1</td></tr>",
                            "<tr><td>Lagúna Hotel</td><td>137</td><td>2016-11-15</td><td>2</td></tr>",
                            "<tr><td>Lagúna Hotel</td><td>138</td><td>2016-08-12</td><td>NULL</td></tr>",
                            "<tr><td>Lagúna Hotel</td><td>138</td><td>2016-08-17</td><td>4</td></tr>",
                            "<tr><td>Lagúna Hotel</td><td>138</td><td>2016-11-06</td><td>3</td></tr>",
                            "<tr><td>Lagúna Hotel</td><td>138</td><td>2016-11-16</td><td>3</td></tr>",
                            "<tr><td>Lagúna Hotel</td><td>138</td><td>2016-11-19</td><td>3</td></tr>",
                            "<tr><td>Lagúna Hotel</td><td>138</td><td>2016-12-11</td><td>2</td></tr>",
                            "<tr><td>Lagúna Hotel</td><td>138</td><td>2016-12-17</td><td>2</td></tr>",
                            "<tr><td>Lagúna Hotel</td><td>139</td><td>2016-04-14</td><td>NULL</td></tr>",
                            "<tr><td>Lagúna Hotel</td><td>139</td><td>2016-08-01</td><td>2</td></tr>",
                            "<tr><td>Lagúna Hotel</td><td>139</td><td>2016-08-03</td><td>2</td></tr>",
                            "<tr><td>Lagúna Hotel</td><td>139</td><td>2016-09-10</td><td>2</td></tr>",
                            "<tr><td>Lagúna Hotel</td><td>139</td><td>2016-09-18</td><td>2</td></tr>",
                            "<tr><td>Lagúna Hotel</td><td>139</td><td>2017-01-11</td><td>2</td></tr>",
                            "<tr><td>Lagúna Hotel</td><td>139</td><td>2017-01-17</td><td>2</td></tr>",
                            "<tr><td>Lagúna Hotel</td><td>140</td><td>2016-06-06</td><td>NULL</td></tr>",
                            "<tr><td>Lagúna Hotel</td><td>140</td><td>2016-07-28</td><td>2</td></tr>",
                            "<tr><td>Lagúna Hotel</td><td>140</td><td>2016-10-01</td><td>1</td></tr>",
                            "<tr><td>Lagúna Hotel</td><td>140</td><td>2016-10-15</td><td>2</td></tr>",
                            "<tr><td>Lagúna Hotel</td><td>140</td><td>2016-11-07</td><td>1</td></tr>",
                            "<tr><td>Lagúna Hotel</td><td>140</td><td>2016-12-10</td><td>2</td></tr>",
                            "<tr><td>Lagúna Hotel</td><td>140</td><td>2016-12-14</td><td>2</td></tr>",
                            "<tr><td>Lagúna Hotel</td><td>140</td><td>2016-12-17</td><td>2</td></tr>",
                            "<tr><td>Lagúna Hotel</td><td>141</td><td>2016-04-08</td><td>NULL</td></tr>",
                            "<tr><td>Lagúna Hotel</td><td>141</td><td>2016-06-05</td><td>2</td></tr>",
                            "<tr><td>Lagúna Hotel</td><td>141</td><td>2016-08-06</td><td>2</td></tr>",
                            "<tr><td>Lagúna Hotel</td><td>141</td><td>2016-08-16</td><td>2</td></tr>",
                            "<tr><td>Lagúna Hotel</td><td>141</td><td>2016-11-06</td><td>2</td></tr>",
                            "<tr><td>Lagúna Hotel</td><td>141</td><td>2016-12-27</td><td>2</td></tr>",
                            "<tr><td>Lagúna Hotel</td><td>142</td><td>2016-12-17</td><td>NULL</td></tr>",
                            "<tr><td>Lagúna Hotel</td><td>142</td><td>2017-02-17</td><td>3</td></tr>",
                            "<tr><td>Lagúna Hotel</td><td>143</td><td>2016-06-23</td><td>NULL</td></tr>",
                            "<tr><td>Lagúna Hotel</td><td>143</td><td>2016-10-15</td><td>1</td></tr>",
                            "<tr><td>Lagúna Hotel</td><td>143</td><td>2016-10-26</td><td>2</td></tr>",
                            "<tr><td>Lagúna Hotel</td><td>143</td><td>2016-10-30</td><td>2</td></tr>",
                            "<tr><td>Lagúna Hotel</td><td>143</td><td>2016-11-23</td><td>2</td></tr>",
                            "<tr><td>Lagúna Hotel</td><td>143</td><td>2016-12-25</td><td>2</td></tr>",
                            "<tr><td>Lagúna Hotel</td><td>143</td><td>2017-01-16</td><td>3</td></tr>",
                            "<tr><td>Lagúna Hotel</td><td>144</td><td>2016-04-15</td><td>NULL</td></tr>",
                            "<tr><td>Lagúna Hotel</td><td>144</td><td>2016-09-29</td><td>3</td></tr>",
                            "<tr><td>Lagúna Hotel</td><td>144</td><td>2016-10-26</td><td>3</td></tr>",
                            "<tr><td>Lagúna Hotel</td><td>144</td><td>2016-11-19</td><td>3</td></tr>",
                            "<tr><td>Lagúna Hotel</td><td>144</td><td>2017-02-25</td><td>3</td></tr>",
                            "<tr><td>Lagúna Hotel</td><td>145</td><td>2016-07-22</td><td>NULL</td></tr>",
                            "<tr><td>Lagúna Hotel</td><td>145</td><td>2016-09-23</td><td>4</td></tr>",
                            "<tr><td>Lagúna Hotel</td><td>145</td><td>2016-10-04</td><td>3</td></tr>",
                            "<tr><td>Lagúna Hotel</td><td>145</td><td>2016-10-09</td><td>3</td></tr>",
                            "<tr><td>Lagúna Hotel</td><td>145</td><td>2016-12-02</td><td>2</td></tr>",
                            "<tr><td>Lagúna Hotel</td><td>145</td><td>2017-01-23</td><td>2</td></tr>",
                            "<tr><td>Lagúna Hotel</td><td>146</td><td>2016-06-02</td><td>NULL</td></tr>",
                            "<tr><td>Lagúna Hotel</td><td>146</td><td>2016-07-13</td><td>3</td></tr>",
                            "<tr><td>Lagúna Hotel</td><td>146</td><td>2016-08-16</td><td>2</td></tr>",
                            "<tr><td>Lagúna Hotel</td><td>146</td><td>2016-08-20</td><td>2</td></tr>",
                            "<tr><td>Lagúna Hotel</td><td>146</td><td>2016-09-05</td><td>2</td></tr>",
                            "<tr><td>Lagúna Hotel</td><td>146</td><td>2017-01-28</td><td>2</td></tr>",
                            "<tr><td>Lagúna Hotel</td><td>147</td><td>2016-08-12</td><td>NULL</td></tr>",
                            "<tr><td>Lagúna Hotel</td><td>148</td><td>2016-07-17</td><td>NULL</td></tr>",
                            "<tr><td>Lagúna Hotel</td><td>148</td><td>2016-08-09</td><td>2</td></tr>",
                            "<tr><td>Lagúna Hotel</td><td>148</td><td>2016-08-16</td><td>2</td></tr>",
                            "<tr><td>Lagúna Hotel</td><td>148</td><td>2016-08-23</td><td>2</td></tr>",
                            "<tr><td>Lagúna Hotel</td><td>148</td><td>2016-08-23</td><td>2</td></tr>",
                            "<tr><td>Lagúna Hotel</td><td>148</td><td>2017-02-27</td><td>2</td></tr>",
                            "<tr><td>Lagúna Hotel</td><td>149</td><td>2016-04-20</td><td>NULL</td></tr>",
                            "<tr><td>Lagúna Hotel</td><td>149</td><td>2016-05-18</td><td>2</td></tr>",
                            "<tr><td>Lagúna Hotel</td><td>149</td><td>2016-08-28</td><td>1</td></tr>",
                            "<tr><td>Lagúna Hotel</td><td>149</td><td>2016-08-29</td><td>1</td></tr>",
                            "<tr><td>Lagúna Hotel</td><td>149</td><td>2016-09-01</td><td>1</td></tr>",
                            "<tr><td>Lagúna Hotel</td><td>149</td><td>2016-10-10</td><td>1</td></tr>",
                            "<tr><td>Lagúna Hotel</td><td>149</td><td>2017-02-09</td><td>1</td></tr>",
                            "<tr><td>Lagúna Hotel</td><td>150</td><td>2016-05-13</td><td>NULL</td></tr>",
                            "<tr><td>Lagúna Hotel</td><td>150</td><td>2016-10-01</td><td>3</td></tr>",
                            "<tr><td>Lagúna Hotel</td><td>150</td><td>2016-10-01</td><td>2</td></tr>",
                            "<tr><td>Lagúna Hotel</td><td>150</td><td>2016-10-22</td><td>2</td></tr>",
                            "<tr><td>Lagúna Hotel</td><td>150</td><td>2016-10-26</td><td>2</td></tr>",
                            "<tr><td>Lagúna Hotel</td><td>150</td><td>2017-01-10</td><td>2</td></tr>",
                            "<tr><td>Lagúna Hotel</td><td>151</td><td>2016-06-03</td><td>NULL</td></tr>",
                            "<tr><td>Lagúna Hotel</td><td>151</td><td>2016-09-16</td><td>1</td></tr>",
                            "<tr><td>Lagúna Hotel</td><td>151</td><td>2016-10-02</td><td>1</td></tr>",
                            "<tr><td>Lagúna Hotel</td><td>152</td><td>2016-07-28</td><td>NULL</td></tr>",
                            "<tr><td>Lagúna Hotel</td><td>152</td><td>2016-10-16</td><td>2</td></tr>",
                            "<tr><td>Lagúna Hotel</td><td>152</td><td>2016-10-26</td><td>2</td></tr>",
                            "<tr><td>Lagúna Hotel</td><td>152</td><td>2017-02-21</td><td>2</td></tr>",
                            "<tr><td>Lagúna Hotel</td><td>153</td><td>2016-04-22</td><td>NULL</td></tr>",
                            "<tr><td>Lagúna Hotel</td><td>153</td><td>2016-06-17</td><td>2</td></tr>",
                            "<tr><td>Lagúna Hotel</td><td>153</td><td>2017-01-21</td><td>2</td></tr>",
                            "<tr><td>Lagúna Hotel</td><td>153</td><td>2017-01-23</td><td>2</td></tr>",
                            "<tr><td>Lagúna Hotel</td><td>153</td><td>2017-02-07</td><td>2</td></tr>",
                            "<tr><td>Lagúna Hotel</td><td>154</td><td>2016-06-16</td><td>NULL</td></tr>",
                            "<tr><td>Lagúna Hotel</td><td>154</td><td>2016-09-17</td><td>2</td></tr>",
                            "<tr><td>Lagúna Hotel</td><td>154</td><td>2016-10-19</td><td>2</td></tr>",
                            "<tr><td>Lagúna Hotel</td><td>154</td><td>2016-11-07</td><td>2</td></tr>",
                            "<tr><td>Lagúna Hotel</td><td>154</td><td>2017-02-16</td><td>2</td></tr>",
                            "<tr><td>Lagúna Hotel</td><td>155</td><td>2016-04-10</td><td>NULL</td></tr>",
                            "<tr><td>Lagúna Hotel</td><td>155</td><td>2016-04-12</td><td>4</td></tr>",
                            "<tr><td>Lagúna Hotel</td><td>155</td><td>2016-10-01</td><td>3</td></tr>",
                            "<tr><td>Lagúna Hotel</td><td>155</td><td>2016-11-23</td><td>2</td></tr>",
                            "<tr><td>Lagúna Hotel</td><td>155</td><td>2017-02-16</td><td>3</td></tr>",
                            "<tr><td>Lagúna Hotel</td><td>156</td><td>2016-04-19</td><td>NULL</td></tr>",
                            "<tr><td>Lagúna Hotel</td><td>156</td><td>2016-06-05</td><td>4</td></tr>",
                            "<tr><td>Lagúna Hotel</td><td>156</td><td>2016-06-13</td><td>3</td></tr>",
                            "<tr><td>Lagúna Hotel</td><td>156</td><td>2016-07-20</td><td>3</td></tr>",
                            "<tr><td>Lagúna Hotel</td><td>156</td><td>2017-01-22</td><td>3</td></tr>",
                            "<tr><td>Lagúna Hotel</td><td>156</td><td>2017-02-03</td><td>3</td></tr>",
                            "<tr><td>Lagúna Hotel</td><td>156</td><td>2017-02-23</td><td>2</td></tr>",
                            "<tr><td>Lagúna Hotel</td><td>157</td><td>2016-05-16</td><td>NULL</td></tr>",
                            "<tr><td>Lagúna Hotel</td><td>157</td><td>2016-07-12</td><td>1</td></tr>",
                            "<tr><td>Lagúna Hotel</td><td>157</td><td>2016-09-13</td><td>1</td></tr>",
                            "<tr><td>Lagúna Hotel</td><td>157</td><td>2016-11-03</td><td>1</td></tr>",
                            "<tr><td>Lagúna Hotel</td><td>157</td><td>2017-02-19</td><td>1</td></tr>",
                            "<tr><td>Lagúna Hotel</td><td>158</td><td>2016-08-25</td><td>NULL</td></tr>",
                            "<tr><td>Lagúna Hotel</td><td>158</td><td>2016-08-30</td><td>3</td></tr>",
                            "<tr><td>Lagúna Hotel</td><td>158</td><td>2016-10-03</td><td>3</td></tr>",
                            "<tr><td>Partiszél Vendégház</td><td>160</td><td>2016-06-06</td><td>NULL</td></tr>",
                            "<tr><td>Partiszél Vendégház</td><td>160</td><td>2016-06-07</td><td>4</td></tr>",
                            "<tr><td>Partiszél Vendégház</td><td>160</td><td>2016-06-07</td><td>3</td></tr>",
                            "<tr><td>Partiszél Vendégház</td><td>160</td><td>2016-07-27</td><td>3</td></tr>",
                            "<tr><td>Partiszél Vendégház</td><td>160</td><td>2017-02-23</td><td>3</td></tr>",
                            "<tr><td>Partiszél Vendégház</td><td>161</td><td>2016-05-12</td><td>NULL</td></tr>",
                            "<tr><td>Partiszél Vendégház</td><td>161</td><td>2016-05-18</td><td>3</td></tr>",
                            "<tr><td>Partiszél Vendégház</td><td>161</td><td>2016-06-06</td><td>2</td></tr>",
                            "<tr><td>Partiszél Vendégház</td><td>161</td><td>2016-09-19</td><td>2</td></tr>",
                            "<tr><td>Partiszél Vendégház</td><td>161</td><td>2016-10-24</td><td>2</td></tr>",
                            "<tr><td>Partiszél Vendégház</td><td>161</td><td>2017-02-25</td><td>2</td></tr>",
                            "<tr><td>Partiszél Vendégház</td><td>162</td><td>2016-04-24</td><td>NULL</td></tr>",
                            "<tr><td>Partiszél Vendégház</td><td>162</td><td>2016-10-27</td><td>3</td></tr>",
                            "<tr><td>Partiszél Vendégház</td><td>162</td><td>2016-12-26</td><td>3</td></tr>",
                            "<tr><td>Partiszél Vendégház</td><td>163</td><td>2016-05-09</td><td>NULL</td></tr>",
                            "<tr><td>Partiszél Vendégház</td><td>163</td><td>2016-06-10</td><td>2</td></tr>",
                            "<tr><td>Partiszél Vendégház</td><td>163</td><td>2016-08-16</td><td>2</td></tr>",
                            "<tr><td>Partiszél Vendégház</td><td>163</td><td>2016-09-23</td><td>1</td></tr>",
                            "<tr><td>Partiszél Vendégház</td><td>163</td><td>2016-10-01</td><td>1</td></tr>",
                            "<tr><td>Partiszél Vendégház</td><td>163</td><td>2016-11-08</td><td>1</td></tr>",
                            "<tr><td>Partiszél Vendégház</td><td>163</td><td>2017-02-01</td><td>1</td></tr>",
                            "<tr><td>Partiszél Vendégház</td><td>164</td><td>2016-04-10</td><td>NULL</td></tr>",
                            "<tr><td>Partiszél Vendégház</td><td>164</td><td>2016-07-04</td><td>2</td></tr>",
                            "<tr><td>Partiszél Vendégház</td><td>164</td><td>2016-07-31</td><td>2</td></tr>",
                            "<tr><td>Partiszél Vendégház</td><td>164</td><td>2016-11-16</td><td>2</td></tr>",
                            "<tr><td>Partiszél Vendégház</td><td>164</td><td>2016-11-19</td><td>2</td></tr>",
                            "<tr><td>Gold Hotel</td><td>165</td><td>2016-05-12</td><td>NULL</td></tr>",
                            "<tr><td>Gold Hotel</td><td>165</td><td>2016-05-25</td><td>2</td></tr>",
                            "<tr><td>Gold Hotel</td><td>165</td><td>2016-06-03</td><td>1</td></tr>",
                            "<tr><td>Gold Hotel</td><td>165</td><td>2016-06-03</td><td>1</td></tr>",
                            "<tr><td>Gold Hotel</td><td>165</td><td>2016-06-03</td><td>1</td></tr>",
                            "<tr><td>Gold Hotel</td><td>165</td><td>2016-10-09</td><td>1</td></tr>",
                            "<tr><td>Gold Hotel</td><td>165</td><td>2016-12-17</td><td>1</td></tr>",
                            "<tr><td>Gold Hotel</td><td>166</td><td>2016-05-14</td><td>NULL</td></tr>",
                            "<tr><td>Gold Hotel</td><td>166</td><td>2016-08-16</td><td>2</td></tr>",
                            "<tr><td>Gold Hotel</td><td>166</td><td>2017-02-12</td><td>1</td></tr>",
                            "<tr><td>Gold Hotel</td><td>167</td><td>2016-05-24</td><td>NULL</td></tr>",
                            "<tr><td>Gold Hotel</td><td>167</td><td>2017-01-02</td><td>1</td></tr>",
                            "<tr><td>Gold Hotel</td><td>168</td><td>2016-06-07</td><td>NULL</td></tr>",
                            "<tr><td>Gold Hotel</td><td>168</td><td>2016-08-16</td><td>4</td></tr>",
                            "<tr><td>Gold Hotel</td><td>168</td><td>2016-08-17</td><td>4</td></tr>",
                            "<tr><td>Gold Hotel</td><td>168</td><td>2016-11-05</td><td>4</td></tr>",
                            "<tr><td>Gold Hotel</td><td>168</td><td>2016-11-08</td><td>3</td></tr>",
                            "<tr><td>Gold Hotel</td><td>169</td><td>2016-04-10</td><td>NULL</td></tr>",
                            "<tr><td>Gold Hotel</td><td>169</td><td>2016-05-21</td><td>2</td></tr>",
                            "<tr><td>Gold Hotel</td><td>169</td><td>2016-06-20</td><td>2</td></tr>",
                            "<tr><td>Gold Hotel</td><td>169</td><td>2016-08-01</td><td>1</td></tr>",
                            "<tr><td>Gold Hotel</td><td>169</td><td>2016-12-09</td><td>2</td></tr>",
                            "<tr><td>Gold Hotel</td><td>169</td><td>2017-01-09</td><td>2</td></tr>",
                            "<tr><td>Gold Hotel</td><td>170</td><td>2016-04-10</td><td>NULL</td></tr>",
                            "<tr><td>Gold Hotel</td><td>170</td><td>2016-06-10</td><td>1</td></tr>",
                            "<tr><td>Gold Hotel</td><td>170</td><td>2016-10-26</td><td>1</td></tr>",
                            "<tr><td>Gold Hotel</td><td>170</td><td>2016-11-09</td><td>1</td></tr>",
                            "<tr><td>Gold Hotel</td><td>170</td><td>2016-12-04</td><td>1</td></tr>",
                            "<tr><td>Gold Hotel</td><td>171</td><td>2016-04-10</td><td>NULL</td></tr>",
                            "<tr><td>Gold Hotel</td><td>171</td><td>2016-06-23</td><td>2</td></tr>",
                            "<tr><td>Gold Hotel</td><td>171</td><td>2016-10-23</td><td>1</td></tr>",
                            "<tr><td>Gold Hotel</td><td>171</td><td>2016-11-29</td><td>2</td></tr>",
                            "<tr><td>Gold Hotel</td><td>171</td><td>2017-02-24</td><td>1</td></tr>",
                            "<tr><td>Gold Hotel</td><td>172</td><td>2016-06-24</td><td>NULL</td></tr>",
                            "<tr><td>Gold Hotel</td><td>172</td><td>2016-07-24</td><td>2</td></tr>",
                            "<tr><td>Gold Hotel</td><td>172</td><td>2016-08-02</td><td>1</td></tr>",
                            "<tr><td>Gold Hotel</td><td>172</td><td>2016-08-29</td><td>2</td></tr>",
                            "<tr><td>Gold Hotel</td><td>172</td><td>2016-10-09</td><td>2</td></tr>",
                            "<tr><td>Gold Hotel</td><td>172</td><td>2016-10-20</td><td>2</td></tr>",
                            "<tr><td>Gold Hotel</td><td>172</td><td>2016-12-02</td><td>1</td></tr>",
                            "<tr><td>Gold Hotel</td><td>172</td><td>2017-01-05</td><td>1</td></tr>",
                            "<tr><td>Gold Hotel</td><td>172</td><td>2017-02-03</td><td>1</td></tr>",
                            "<tr><td>Gold Hotel</td><td>173</td><td>2016-06-06</td><td>NULL</td></tr>",
                            "<tr><td>Gold Hotel</td><td>173</td><td>2016-07-14</td><td>2</td></tr>",
                            "<tr><td>Gold Hotel</td><td>173</td><td>2016-12-06</td><td>1</td></tr>",
                            "<tr><td>Gold Hotel</td><td>173</td><td>2017-01-09</td><td>1</td></tr>",
                            "<tr><td>Gold Hotel</td><td>174</td><td>2016-06-06</td><td>NULL</td></tr>",
                            "<tr><td>Gold Hotel</td><td>174</td><td>2016-07-06</td><td>2</td></tr>",
                            "<tr><td>Gold Hotel</td><td>174</td><td>2016-07-18</td><td>1</td></tr>",
                            "<tr><td>Gold Hotel</td><td>174</td><td>2016-11-12</td><td>1</td></tr>",
                            "<tr><td>Gold Hotel</td><td>175</td><td>2016-05-28</td><td>NULL</td></tr>",
                            "<tr><td>Gold Hotel</td><td>175</td><td>2016-08-19</td><td>1</td></tr>",
                            "<tr><td>Gold Hotel</td><td>175</td><td>2016-09-30</td><td>1</td></tr>",
                            "<tr><td>Gold Hotel</td><td>175</td><td>2016-10-08</td><td>1</td></tr>",
                            "<tr><td>Gold Hotel</td><td>175</td><td>2016-12-30</td><td>1</td></tr>",
                            "<tr><td>Gold Hotel</td><td>176</td><td>2016-04-21</td><td>NULL</td></tr>",
                            "<tr><td>Gold Hotel</td><td>176</td><td>2016-10-09</td><td>2</td></tr>",
                            "<tr><td>Gold Hotel</td><td>176</td><td>2016-11-13</td><td>2</td></tr>",
                            "<tr><td>Gold Hotel</td><td>176</td><td>2016-12-22</td><td>2</td></tr>",
                            "<tr><td>Gold Hotel</td><td>176</td><td>2017-02-08</td><td>2</td></tr>",
                            "<tr><td>Gold Hotel</td><td>176</td><td>2017-02-24</td><td>2</td></tr>",
                            "<tr><td>Gold Hotel</td><td>177</td><td>2016-08-16</td><td>NULL</td></tr>",
                            "<tr><td>Gold Hotel</td><td>177</td><td>2016-08-28</td><td>4</td></tr>",
                            "<tr><td>Gold Hotel</td><td>177</td><td>2016-10-21</td><td>3</td></tr>",
                            "<tr><td>Gold Hotel</td><td>177</td><td>2017-02-05</td><td>3</td></tr>",
                            "<tr><td>Gold Hotel</td><td>178</td><td>2016-06-28</td><td>NULL</td></tr>",
                            "<tr><td>Gold Hotel</td><td>178</td><td>2016-08-24</td><td>3</td></tr>",
                            "<tr><td>Gold Hotel</td><td>178</td><td>2016-10-28</td><td>3</td></tr>",
                            "<tr><td>Gold Hotel</td><td>178</td><td>2016-11-03</td><td>3</td></tr>",
                            "<tr><td>Gold Hotel</td><td>179</td><td>2016-05-21</td><td>NULL</td></tr>",
                            "<tr><td>Gold Hotel</td><td>179</td><td>2016-07-09</td><td>4</td></tr>",
                            "<tr><td>Gold Hotel</td><td>179</td><td>2017-02-04</td><td>4</td></tr>",
                            "<tr><td>Gold Hotel</td><td>180</td><td>2016-06-04</td><td>NULL</td></tr>",
                            "<tr><td>Gold Hotel</td><td>180</td><td>2017-02-22</td><td>4</td></tr>",
                            "<tr><td>Gold Hotel</td><td>180</td><td>2017-02-23</td><td>3</td></tr>",
                            "<tr><td>Gold Hotel</td><td>181</td><td>2016-06-08</td><td>NULL</td></tr>",
                            "<tr><td>Gold Hotel</td><td>181</td><td>2016-06-13</td><td>3</td></tr>",
                            "<tr><td>Gold Hotel</td><td>181</td><td>2016-07-10</td><td>3</td></tr>",
                            "<tr><td>Gold Hotel</td><td>181</td><td>2016-07-16</td><td>3</td></tr>",
                            "<tr><td>Gold Hotel</td><td>181</td><td>2016-07-28</td><td>3</td></tr>",
                            "<tr><td>Gold Hotel</td><td>181</td><td>2016-12-05</td><td>3</td></tr>",
                            "<tr><td>Gold Hotel</td><td>182</td><td>2016-04-10</td><td>NULL</td></tr>",
                            "<tr><td>Gold Hotel</td><td>182</td><td>2016-06-07</td><td>2</td></tr>",
                            "<tr><td>Gold Hotel</td><td>182</td><td>2016-07-04</td><td>2</td></tr>",
                            "<tr><td>Gold Hotel</td><td>182</td><td>2016-07-30</td><td>2</td></tr>",
                            "<tr><td>Gold Hotel</td><td>182</td><td>2016-10-24</td><td>2</td></tr>",
                            "<tr><td>Gold Hotel</td><td>182</td><td>2016-10-30</td><td>2</td></tr>",
                            "<tr><td>Gold Hotel</td><td>182</td><td>2016-10-30</td><td>1</td></tr>",
                            "<tr><td>Gold Hotel</td><td>182</td><td>2016-11-23</td><td>1</td></tr>",
                            "<tr><td>Gold Hotel</td><td>182</td><td>2016-11-25</td><td>1</td></tr>",
                            "<tr><td>Gold Hotel</td><td>182</td><td>2016-11-28</td><td>1</td></tr>",
                            "<tr><td>Gold Hotel</td><td>182</td><td>2017-01-01</td><td>1</td></tr>",
                            "<tr><td>Gold Hotel</td><td>182</td><td>2017-01-06</td><td>1</td></tr>",
                            "<tr><td>Gold Hotel</td><td>183</td><td>2016-06-09</td><td>NULL</td></tr>",
                            "<tr><td>Gold Hotel</td><td>183</td><td>2016-09-19</td><td>3</td></tr>",
                            "<tr><td>Gold Hotel</td><td>183</td><td>2016-10-10</td><td>2</td></tr>",
                            "<tr><td>Gold Hotel</td><td>183</td><td>2017-01-13</td><td>2</td></tr>",
                            "<tr><td>Gold Hotel</td><td>184</td><td>2016-04-28</td><td>NULL</td></tr>",
                            "<tr><td>Gold Hotel</td><td>184</td><td>2016-05-30</td><td>2</td></tr>",
                            "<tr><td>Gold Hotel</td><td>184</td><td>2016-07-18</td><td>1</td></tr>",
                            "<tr><td>Gold Hotel</td><td>184</td><td>2016-11-05</td><td>1</td></tr>",
                            "<tr><td>Gold Hotel</td><td>185</td><td>2016-04-13</td><td>NULL</td></tr>",
                            "<tr><td>Gold Hotel</td><td>185</td><td>2016-05-28</td><td>3</td></tr>",
                            "<tr><td>Gold Hotel</td><td>185</td><td>2016-06-03</td><td>3</td></tr>",
                            "<tr><td>Gold Hotel</td><td>185</td><td>2016-06-07</td><td>3</td></tr>",
                            "<tr><td>Gold Hotel</td><td>185</td><td>2016-07-14</td><td>3</td></tr>",
                            "<tr><td>Gold Hotel</td><td>185</td><td>2016-07-17</td><td>3</td></tr>",
                            "<tr><td>Gold Hotel</td><td>185</td><td>2016-07-20</td><td>3</td></tr>",
                            "<tr><td>Gold Hotel</td><td>185</td><td>2016-07-24</td><td>2</td></tr>",
                            "<tr><td>Gold Hotel</td><td>185</td><td>2016-10-06</td><td>2</td></tr>",
                            "<tr><td>Gold Hotel</td><td>185</td><td>2016-10-23</td><td>2</td></tr>",
                            "<tr><td>Gold Hotel</td><td>185</td><td>2017-01-16</td><td>2</td></tr>",
                            "<tr><td>Gold Hotel</td><td>185</td><td>2017-01-22</td><td>2</td></tr>",
                            "<tr><td>Gold Hotel</td><td>186</td><td>2016-05-01</td><td>NULL</td></tr>",
                            "<tr><td>Gold Hotel</td><td>186</td><td>2016-10-15</td><td>3</td></tr>",
                            "<tr><td>Gold Hotel</td><td>186</td><td>2016-11-05</td><td>3</td></tr>",
                            "<tr><td>Gold Hotel</td><td>186</td><td>2017-01-22</td><td>2</td></tr>",
                            "<tr><td>Gold Hotel</td><td>187</td><td>2016-05-09</td><td>NULL</td></tr>",
                            "<tr><td>Gold Hotel</td><td>187</td><td>2016-05-28</td><td>3</td></tr>",
                            "<tr><td>Gold Hotel</td><td>187</td><td>2016-06-13</td><td>3</td></tr>",
                            "<tr><td>Gold Hotel</td><td>187</td><td>2016-07-20</td><td>3</td></tr>",
                            "<tr><td>Gold Hotel</td><td>187</td><td>2016-07-31</td><td>3</td></tr>",
                            "<tr><td>Gold Hotel</td><td>187</td><td>2016-08-10</td><td>3</td></tr>",
                            "<tr><td>Gold Hotel</td><td>187</td><td>2016-12-29</td><td>2</td></tr>",
                            "<tr><td>Gold Hotel</td><td>188</td><td>2016-06-06</td><td>NULL</td></tr>",
                            "<tr><td>Gold Hotel</td><td>188</td><td>2016-07-19</td><td>3</td></tr>",
                            "<tr><td>Gold Hotel</td><td>188</td><td>2016-07-24</td><td>2</td></tr>",
                            "<tr><td>Gold Hotel</td><td>188</td><td>2016-08-01</td><td>2</td></tr>",
                            "<tr><td>Gold Hotel</td><td>188</td><td>2016-09-05</td><td>2</td></tr>",
                            "<tr><td>Gold Hotel</td><td>188</td><td>2016-12-25</td><td>2</td></tr>",
                            "<tr><td>Gold Hotel</td><td>189</td><td>2016-07-20</td><td>NULL</td></tr>",
                            "<tr><td>Gold Hotel</td><td>189</td><td>2016-08-03</td><td>2</td></tr>",
                            "<tr><td>Gold Hotel</td><td>189</td><td>2016-10-27</td><td>2</td></tr>",
                            "<tr><td>Gold Hotel</td><td>189</td><td>2017-01-17</td><td>2</td></tr>",
                            "<tr><td>Gold Hotel</td><td>189</td><td>2017-02-26</td><td>2</td></tr>",
                            "<tr><td>Gold Hotel</td><td>190</td><td>2016-04-24</td><td>NULL</td></tr>",
                            "<tr><td>Gold Hotel</td><td>190</td><td>2016-06-27</td><td>1</td></tr>",
                            "<tr><td>Gold Hotel</td><td>190</td><td>2016-07-08</td><td>1</td></tr>",
                            "<tr><td>Gold Hotel</td><td>190</td><td>2016-08-13</td><td>1</td></tr>",
                            "<tr><td>Gold Hotel</td><td>190</td><td>2017-02-11</td><td>1</td></tr>",
                            "<tr><td>Gold Hotel</td><td>191</td><td>2016-09-09</td><td>NULL</td></tr>",
                            "<tr><td>Gold Hotel</td><td>191</td><td>2016-11-22</td><td>2</td></tr>",
                            "<tr><td>Gold Hotel</td><td>191</td><td>2016-11-27</td><td>2</td></tr>",
                            "<tr><td>Gold Hotel</td><td>191</td><td>2017-02-05</td><td>2</td></tr>",
                            "<tr><td>Gold Hotel</td><td>191</td><td>2017-02-08</td><td>2</td></tr>",
                            "<tr><td>Gold Hotel</td><td>192</td><td>2016-06-04</td><td>NULL</td></tr>",
                            "<tr><td>Gold Hotel</td><td>192</td><td>2016-07-17</td><td>3</td></tr>",
                            "<tr><td>Gold Hotel</td><td>193</td><td>2016-05-09</td><td>NULL</td></tr>",
                            "<tr><td>Gold Hotel</td><td>193</td><td>2016-06-07</td><td>2</td></tr>",
                            "<tr><td>Gold Hotel</td><td>193</td><td>2016-06-22</td><td>3</td></tr>",
                            "<tr><td>Gold Hotel</td><td>193</td><td>2016-07-15</td><td>4</td></tr>",
                            "<tr><td>Gold Hotel</td><td>193</td><td>2016-08-29</td><td>3</td></tr>",
                            "<tr><td>Gold Hotel</td><td>193</td><td>2016-09-11</td><td>4</td></tr>",
                            "<tr><td>Gold Hotel</td><td>193</td><td>2016-11-03</td><td>4</td></tr>",
                            "<tr><td>Gold Hotel</td><td>194</td><td>2016-09-30</td><td>NULL</td></tr>",
                            "<tr><td>Gold Hotel</td><td>195</td><td>2016-07-27</td><td>NULL</td></tr>",
                            "<tr><td>Gold Hotel</td><td>195</td><td>2016-08-31</td><td>2</td></tr>",
                            "<tr><td>Gold Hotel</td><td>195</td><td>2016-09-22</td><td>2</td></tr>",
                            "<tr><td>Gold Hotel</td><td>195</td><td>2016-10-23</td><td>1</td></tr>",
                            "<tr><td>Gold Hotel</td><td>195</td><td>2017-01-24</td><td>1</td></tr>",
                            "<tr><td>Gold Hotel</td><td>195</td><td>2017-01-30</td><td>1</td></tr>",
                            "<tr><td>Gold Hotel</td><td>196</td><td>2016-06-11</td><td>NULL</td></tr>",
                            "<tr><td>Gold Hotel</td><td>196</td><td>2016-07-14</td><td>3</td></tr>",
                            "<tr><td>Gold Hotel</td><td>196</td><td>2016-11-23</td><td>2</td></tr>",
                            "<tr><td>Gold Hotel</td><td>196</td><td>2016-12-04</td><td>2</td></tr>",
                            "<tr><td>Gold Hotel</td><td>197</td><td>2016-06-30</td><td>NULL</td></tr>",
                            "<tr><td>Gold Hotel</td><td>197</td><td>2016-08-09</td><td>3</td></tr>",
                            "<tr><td>Gold Hotel</td><td>197</td><td>2016-09-30</td><td>3</td></tr>",
                            "<tr><td>Gold Hotel</td><td>197</td><td>2016-10-20</td><td>3</td></tr>",
                            "<tr><td>Gold Hotel</td><td>197</td><td>2016-11-22</td><td>2</td></tr>",
                            "<tr><td>Gold Hotel</td><td>197</td><td>2016-12-24</td><td>2</td></tr>",
                            "<tr><td>Gold Hotel</td><td>198</td><td>2016-06-22</td><td>NULL</td></tr>",
                            "<tr><td>Gold Hotel</td><td>198</td><td>2016-07-04</td><td>3</td></tr>",
                            "<tr><td>Gold Hotel</td><td>198</td><td>2016-09-18</td><td>3</td></tr>",
                            "<tr><td>Gold Hotel</td><td>198</td><td>2016-10-03</td><td>3</td></tr>",
                            "<tr><td>Gold Hotel</td><td>198</td><td>2016-10-09</td><td>3</td></tr>",
                            "<tr><td>Gold Hotel</td><td>198</td><td>2016-10-17</td><td>2</td></tr>",
                            "<tr><td>Gold Hotel</td><td>198</td><td>2016-10-29</td><td>2</td></tr>",
                            "<tr><td>Gold Hotel</td><td>198</td><td>2017-01-05</td><td>2</td></tr>",
                            "</table>"
                        ]
                    }
                }
            ],
            "execution_count": 18
        },
        {
            "cell_type": "code",
            "source": [
                "SELECT szh.szallas_nev,sz.SZOBA_SZAMA,f.METTOL,avg(f.FELNOTT_SZAM + f.GYERMEK_SZAM) over (PARTITION BY szh.SZALLAS_NEV, sz.szoba_id order by f.mettol rows between 5 preceding and 1 preceding) as 'előző 5 foglalas átlaga főre'\r\n",
                "  From Szoba sz JOIN Foglalas f on sz.SZOBA_ID=f.SZOBA_FK\r\n",
                " JOIN Szallashely szh on sz.SZALLAS_FK=szh.SZALLAS_ID\r\n",
                " order by szh.SZALLAS_NEV,sz.SZOBA_SZAMA"
            ],
            "metadata": {
                "azdata_cell_guid": "550d3d04-3cc1-416d-924d-fd5d8e122f3b",
                "language": "sql"
            },
            "outputs": [
{
    "output_type": "display_data",
    "data": {
        "text/html": "(1027 rows affected)"
    },
    "metadata": {}
}, {
    "output_type": "display_data",
    "data": {
        "text/html": "Total execution time: 00:00:00.032"
    },
    "metadata": {}
}, {
    "output_type": "execute_result",
    "metadata": {},
    "execution_count": 34,
    "data": {
        "application/vnd.dataresource+json": {
            "schema": {
                "fields": [
                    {
                        "name": "szallas_nev"
                    },
                    {
                        "name": "SZOBA_SZAMA"
                    },
                    {
                        "name": "METTOL"
                    },
                    {
                        "name": "előző 5 foglalas átlaga főre"
                    }
                ]
            },
            "data": [
                {
                    "szallas_nev": "Családi Ház",
                    "SZOBA_SZAMA": "1",
                    "METTOL": "2016-08-08",
                    "előző 5 foglalas átlaga főre": "NULL"
                },
                {
                    "szallas_nev": "Családi Ház",
                    "SZOBA_SZAMA": "1",
                    "METTOL": "2016-09-12",
                    "előző 5 foglalas átlaga főre": "3"
                },
                {
                    "szallas_nev": "Családi Ház",
                    "SZOBA_SZAMA": "1",
                    "METTOL": "2016-12-06",
                    "előző 5 foglalas átlaga főre": "3"
                },
                {
                    "szallas_nev": "Családi Ház",
                    "SZOBA_SZAMA": "1",
                    "METTOL": "2017-01-23",
                    "előző 5 foglalas átlaga főre": "3"
                },
                {
                    "szallas_nev": "Családi Ház",
                    "SZOBA_SZAMA": "2",
                    "METTOL": "2016-05-22",
                    "előző 5 foglalas átlaga főre": "NULL"
                },
                {
                    "szallas_nev": "Családi Ház",
                    "SZOBA_SZAMA": "2",
                    "METTOL": "2016-08-24",
                    "előző 5 foglalas átlaga főre": "4"
                },
                {
                    "szallas_nev": "Családi Ház",
                    "SZOBA_SZAMA": "2",
                    "METTOL": "2017-02-16",
                    "előző 5 foglalas átlaga főre": "3"
                },
                {
                    "szallas_nev": "Családi Ház",
                    "SZOBA_SZAMA": "3",
                    "METTOL": "2016-07-13",
                    "előző 5 foglalas átlaga főre": "NULL"
                },
                {
                    "szallas_nev": "Családi Ház",
                    "SZOBA_SZAMA": "3",
                    "METTOL": "2016-08-16",
                    "előző 5 foglalas átlaga főre": "3"
                },
                {
                    "szallas_nev": "Családi Ház",
                    "SZOBA_SZAMA": "3",
                    "METTOL": "2016-10-08",
                    "előző 5 foglalas átlaga főre": "2"
                },
                {
                    "szallas_nev": "Családi Ház",
                    "SZOBA_SZAMA": "3",
                    "METTOL": "2016-11-03",
                    "előző 5 foglalas átlaga főre": "2"
                },
                {
                    "szallas_nev": "Családi Ház",
                    "SZOBA_SZAMA": "3",
                    "METTOL": "2017-01-04",
                    "előző 5 foglalas átlaga főre": "2"
                },
                {
                    "szallas_nev": "Családi Ház",
                    "SZOBA_SZAMA": "3",
                    "METTOL": "2017-01-16",
                    "előző 5 foglalas átlaga főre": "2"
                },
                {
                    "szallas_nev": "Családi Ház",
                    "SZOBA_SZAMA": "4",
                    "METTOL": "2016-05-24",
                    "előző 5 foglalas átlaga főre": "NULL"
                },
                {
                    "szallas_nev": "Családi Ház",
                    "SZOBA_SZAMA": "4",
                    "METTOL": "2016-06-03",
                    "előző 5 foglalas átlaga főre": "4"
                },
                {
                    "szallas_nev": "Családi Ház",
                    "SZOBA_SZAMA": "4",
                    "METTOL": "2016-06-20",
                    "előző 5 foglalas átlaga főre": "3"
                },
                {
                    "szallas_nev": "Családi Ház",
                    "SZOBA_SZAMA": "4",
                    "METTOL": "2016-07-18",
                    "előző 5 foglalas átlaga főre": "3"
                },
                {
                    "szallas_nev": "Családi Ház",
                    "SZOBA_SZAMA": "4",
                    "METTOL": "2017-02-04",
                    "előző 5 foglalas átlaga főre": "3"
                },
                {
                    "szallas_nev": "Fortuna Apartman",
                    "SZOBA_SZAMA": "1",
                    "METTOL": "2016-04-26",
                    "előző 5 foglalas átlaga főre": "NULL"
                },
                {
                    "szallas_nev": "Fortuna Apartman",
                    "SZOBA_SZAMA": "1",
                    "METTOL": "2016-06-06",
                    "előző 5 foglalas átlaga főre": "4"
                },
                {
                    "szallas_nev": "Fortuna Apartman",
                    "SZOBA_SZAMA": "1",
                    "METTOL": "2016-07-24",
                    "előző 5 foglalas átlaga főre": "3"
                },
                {
                    "szallas_nev": "Fortuna Apartman",
                    "SZOBA_SZAMA": "1",
                    "METTOL": "2016-08-01",
                    "előző 5 foglalas átlaga főre": "3"
                },
                {
                    "szallas_nev": "Fortuna Apartman",
                    "SZOBA_SZAMA": "1",
                    "METTOL": "2016-11-25",
                    "előző 5 foglalas átlaga főre": "2"
                },
                {
                    "szallas_nev": "Fortuna Apartman",
                    "SZOBA_SZAMA": "1",
                    "METTOL": "2017-02-18",
                    "előző 5 foglalas átlaga főre": "2"
                },
                {
                    "szallas_nev": "Fortuna Apartman",
                    "SZOBA_SZAMA": "2",
                    "METTOL": "2016-05-08",
                    "előző 5 foglalas átlaga főre": "NULL"
                },
                {
                    "szallas_nev": "Fortuna Apartman",
                    "SZOBA_SZAMA": "2",
                    "METTOL": "2016-08-11",
                    "előző 5 foglalas átlaga főre": "2"
                },
                {
                    "szallas_nev": "Fortuna Apartman",
                    "SZOBA_SZAMA": "2",
                    "METTOL": "2016-09-07",
                    "előző 5 foglalas átlaga főre": "2"
                },
                {
                    "szallas_nev": "Fortuna Apartman",
                    "SZOBA_SZAMA": "2",
                    "METTOL": "2016-10-21",
                    "előző 5 foglalas átlaga főre": "2"
                },
                {
                    "szallas_nev": "Fortuna Apartman",
                    "SZOBA_SZAMA": "2",
                    "METTOL": "2016-10-26",
                    "előző 5 foglalas átlaga főre": "3"
                },
                {
                    "szallas_nev": "Fortuna Apartman",
                    "SZOBA_SZAMA": "2",
                    "METTOL": "2017-02-06",
                    "előző 5 foglalas átlaga főre": "2"
                },
                {
                    "szallas_nev": "Fortuna Apartman",
                    "SZOBA_SZAMA": "3",
                    "METTOL": "2016-06-10",
                    "előző 5 foglalas átlaga főre": "NULL"
                },
                {
                    "szallas_nev": "Fortuna Apartman",
                    "SZOBA_SZAMA": "3",
                    "METTOL": "2016-07-20",
                    "előző 5 foglalas átlaga főre": "1"
                },
                {
                    "szallas_nev": "Fortuna Apartman",
                    "SZOBA_SZAMA": "3",
                    "METTOL": "2016-08-14",
                    "előző 5 foglalas átlaga főre": "2"
                },
                {
                    "szallas_nev": "Fortuna Apartman",
                    "SZOBA_SZAMA": "3",
                    "METTOL": "2016-10-09",
                    "előző 5 foglalas átlaga főre": "2"
                },
                {
                    "szallas_nev": "Fortuna Apartman",
                    "SZOBA_SZAMA": "3",
                    "METTOL": "2016-11-02",
                    "előző 5 foglalas átlaga főre": "2"
                },
                {
                    "szallas_nev": "Fortuna Apartman",
                    "SZOBA_SZAMA": "3",
                    "METTOL": "2017-02-14",
                    "előző 5 foglalas átlaga főre": "2"
                },
                {
                    "szallas_nev": "Fortuna Apartman",
                    "SZOBA_SZAMA": "4",
                    "METTOL": "2016-08-04",
                    "előző 5 foglalas átlaga főre": "NULL"
                },
                {
                    "szallas_nev": "Fortuna Apartman",
                    "SZOBA_SZAMA": "4",
                    "METTOL": "2016-08-24",
                    "előző 5 foglalas átlaga főre": "1"
                },
                {
                    "szallas_nev": "Fortuna Apartman",
                    "SZOBA_SZAMA": "4",
                    "METTOL": "2016-09-19",
                    "előző 5 foglalas átlaga főre": "2"
                },
                {
                    "szallas_nev": "Fortuna Apartman",
                    "SZOBA_SZAMA": "4",
                    "METTOL": "2016-10-01",
                    "előző 5 foglalas átlaga főre": "2"
                },
                {
                    "szallas_nev": "Fortuna Apartman",
                    "SZOBA_SZAMA": "4",
                    "METTOL": "2016-10-01",
                    "előző 5 foglalas átlaga főre": "2"
                },
                {
                    "szallas_nev": "Fortuna Apartman",
                    "SZOBA_SZAMA": "5",
                    "METTOL": "2016-04-09",
                    "előző 5 foglalas átlaga főre": "NULL"
                },
                {
                    "szallas_nev": "Fortuna Apartman",
                    "SZOBA_SZAMA": "5",
                    "METTOL": "2016-05-21",
                    "előző 5 foglalas átlaga főre": "2"
                },
                {
                    "szallas_nev": "Fortuna Apartman",
                    "SZOBA_SZAMA": "5",
                    "METTOL": "2016-08-21",
                    "előző 5 foglalas átlaga főre": "2"
                },
                {
                    "szallas_nev": "Fortuna Apartman",
                    "SZOBA_SZAMA": "5",
                    "METTOL": "2016-10-28",
                    "előző 5 foglalas átlaga főre": "2"
                },
                {
                    "szallas_nev": "Fortuna Apartman",
                    "SZOBA_SZAMA": "6",
                    "METTOL": "2016-06-04",
                    "előző 5 foglalas átlaga főre": "NULL"
                },
                {
                    "szallas_nev": "Fortuna Apartman",
                    "SZOBA_SZAMA": "6",
                    "METTOL": "2016-07-03",
                    "előző 5 foglalas átlaga főre": "2"
                },
                {
                    "szallas_nev": "Fortuna Apartman",
                    "SZOBA_SZAMA": "6",
                    "METTOL": "2016-10-08",
                    "előző 5 foglalas átlaga főre": "1"
                },
                {
                    "szallas_nev": "Fortuna Apartman",
                    "SZOBA_SZAMA": "6",
                    "METTOL": "2016-10-26",
                    "előző 5 foglalas átlaga főre": "2"
                },
                {
                    "szallas_nev": "Fortuna Apartman",
                    "SZOBA_SZAMA": "6",
                    "METTOL": "2016-10-27",
                    "előző 5 foglalas átlaga főre": "3"
                },
                {
                    "szallas_nev": "Fortuna Apartman",
                    "SZOBA_SZAMA": "6",
                    "METTOL": "2016-11-17",
                    "előző 5 foglalas átlaga főre": "3"
                },
                {
                    "szallas_nev": "Fortuna Apartman",
                    "SZOBA_SZAMA": "7",
                    "METTOL": "2016-06-08",
                    "előző 5 foglalas átlaga főre": "NULL"
                },
                {
                    "szallas_nev": "Fortuna Apartman",
                    "SZOBA_SZAMA": "7",
                    "METTOL": "2016-06-10",
                    "előző 5 foglalas átlaga főre": "2"
                },
                {
                    "szallas_nev": "Fortuna Apartman",
                    "SZOBA_SZAMA": "7",
                    "METTOL": "2016-09-04",
                    "előző 5 foglalas átlaga főre": "1"
                },
                {
                    "szallas_nev": "Fortuna Apartman",
                    "SZOBA_SZAMA": "8",
                    "METTOL": "2016-05-23",
                    "előző 5 foglalas átlaga főre": "NULL"
                },
                {
                    "szallas_nev": "Fortuna Apartman",
                    "SZOBA_SZAMA": "8",
                    "METTOL": "2016-10-19",
                    "előző 5 foglalas átlaga főre": "1"
                },
                {
                    "szallas_nev": "Fortuna Apartman",
                    "SZOBA_SZAMA": "8",
                    "METTOL": "2017-01-03",
                    "előző 5 foglalas átlaga főre": "2"
                },
                {
                    "szallas_nev": "Fortuna panzió",
                    "SZOBA_SZAMA": "1",
                    "METTOL": "2016-09-14",
                    "előző 5 foglalas átlaga főre": "NULL"
                },
                {
                    "szallas_nev": "Fortuna panzió",
                    "SZOBA_SZAMA": "1",
                    "METTOL": "2016-12-14",
                    "előző 5 foglalas átlaga főre": "3"
                },
                {
                    "szallas_nev": "Fortuna Panzió",
                    "SZOBA_SZAMA": "1",
                    "METTOL": "2016-06-07",
                    "előző 5 foglalas átlaga főre": "NULL"
                },
                {
                    "szallas_nev": "Fortuna Panzió",
                    "SZOBA_SZAMA": "1",
                    "METTOL": "2016-06-07",
                    "előző 5 foglalas átlaga főre": "3"
                },
                {
                    "szallas_nev": "Fortuna Panzió",
                    "SZOBA_SZAMA": "1",
                    "METTOL": "2016-07-08",
                    "előző 5 foglalas átlaga főre": "3"
                },
                {
                    "szallas_nev": "Fortuna Panzió",
                    "SZOBA_SZAMA": "1",
                    "METTOL": "2016-10-03",
                    "előző 5 foglalas átlaga főre": "2"
                },
                {
                    "szallas_nev": "Fortuna panzió",
                    "SZOBA_SZAMA": "10",
                    "METTOL": "2016-05-28",
                    "előző 5 foglalas átlaga főre": "NULL"
                },
                {
                    "szallas_nev": "Fortuna panzió",
                    "SZOBA_SZAMA": "10",
                    "METTOL": "2016-06-04",
                    "előző 5 foglalas átlaga főre": "2"
                },
                {
                    "szallas_nev": "Fortuna panzió",
                    "SZOBA_SZAMA": "10",
                    "METTOL": "2016-08-14",
                    "előző 5 foglalas átlaga főre": "1"
                },
                {
                    "szallas_nev": "Fortuna panzió",
                    "SZOBA_SZAMA": "10",
                    "METTOL": "2016-08-24",
                    "előző 5 foglalas átlaga főre": "1"
                },
                {
                    "szallas_nev": "Fortuna Panzió",
                    "SZOBA_SZAMA": "10",
                    "METTOL": "2016-06-02",
                    "előző 5 foglalas átlaga főre": "NULL"
                },
                {
                    "szallas_nev": "Fortuna Panzió",
                    "SZOBA_SZAMA": "10",
                    "METTOL": "2016-08-17",
                    "előző 5 foglalas átlaga főre": "3"
                },
                {
                    "szallas_nev": "Fortuna Panzió",
                    "SZOBA_SZAMA": "10",
                    "METTOL": "2016-08-26",
                    "előző 5 foglalas átlaga főre": "3"
                },
                {
                    "szallas_nev": "Fortuna Panzió",
                    "SZOBA_SZAMA": "10",
                    "METTOL": "2016-09-18",
                    "előző 5 foglalas átlaga főre": "2"
                },
                {
                    "szallas_nev": "Fortuna Panzió",
                    "SZOBA_SZAMA": "10",
                    "METTOL": "2016-10-26",
                    "előző 5 foglalas átlaga főre": "2"
                },
                {
                    "szallas_nev": "Fortuna Panzió",
                    "SZOBA_SZAMA": "10",
                    "METTOL": "2016-10-30",
                    "előző 5 foglalas átlaga főre": "2"
                },
                {
                    "szallas_nev": "Fortuna Panzió",
                    "SZOBA_SZAMA": "10",
                    "METTOL": "2017-02-16",
                    "előző 5 foglalas átlaga főre": "2"
                },
                {
                    "szallas_nev": "Fortuna panzió",
                    "SZOBA_SZAMA": "11",
                    "METTOL": "2016-06-18",
                    "előző 5 foglalas átlaga főre": "NULL"
                },
                {
                    "szallas_nev": "Fortuna panzió",
                    "SZOBA_SZAMA": "11",
                    "METTOL": "2016-06-22",
                    "előző 5 foglalas átlaga főre": "3"
                },
                {
                    "szallas_nev": "Fortuna panzió",
                    "SZOBA_SZAMA": "11",
                    "METTOL": "2016-07-18",
                    "előző 5 foglalas átlaga főre": "2"
                },
                {
                    "szallas_nev": "Fortuna panzió",
                    "SZOBA_SZAMA": "11",
                    "METTOL": "2016-07-23",
                    "előző 5 foglalas átlaga főre": "2"
                },
                {
                    "szallas_nev": "Fortuna panzió",
                    "SZOBA_SZAMA": "11",
                    "METTOL": "2016-08-28",
                    "előző 5 foglalas átlaga főre": "2"
                },
                {
                    "szallas_nev": "Fortuna panzió",
                    "SZOBA_SZAMA": "11",
                    "METTOL": "2016-12-29",
                    "előző 5 foglalas átlaga főre": "2"
                },
                {
                    "szallas_nev": "Fortuna panzió",
                    "SZOBA_SZAMA": "11",
                    "METTOL": "2017-01-01",
                    "előző 5 foglalas átlaga főre": "2"
                },
                {
                    "szallas_nev": "Fortuna panzió",
                    "SZOBA_SZAMA": "11",
                    "METTOL": "2017-01-13",
                    "előző 5 foglalas átlaga főre": "2"
                },
                {
                    "szallas_nev": "Fortuna panzió",
                    "SZOBA_SZAMA": "11",
                    "METTOL": "2017-02-13",
                    "előző 5 foglalas átlaga főre": "2"
                },
                {
                    "szallas_nev": "Fortuna panzió",
                    "SZOBA_SZAMA": "12",
                    "METTOL": "2016-06-03",
                    "előző 5 foglalas átlaga főre": "NULL"
                },
                {
                    "szallas_nev": "Fortuna panzió",
                    "SZOBA_SZAMA": "12",
                    "METTOL": "2016-06-06",
                    "előző 5 foglalas átlaga főre": "5"
                },
                {
                    "szallas_nev": "Fortuna panzió",
                    "SZOBA_SZAMA": "12",
                    "METTOL": "2016-06-24",
                    "előző 5 foglalas átlaga főre": "4"
                },
                {
                    "szallas_nev": "Fortuna panzió",
                    "SZOBA_SZAMA": "12",
                    "METTOL": "2016-07-03",
                    "előző 5 foglalas átlaga főre": "4"
                },
                {
                    "szallas_nev": "Fortuna panzió",
                    "SZOBA_SZAMA": "12",
                    "METTOL": "2016-08-02",
                    "előző 5 foglalas átlaga főre": "4"
                },
                {
                    "szallas_nev": "Fortuna panzió",
                    "SZOBA_SZAMA": "12",
                    "METTOL": "2016-08-03",
                    "előző 5 foglalas átlaga főre": "4"
                },
                {
                    "szallas_nev": "Fortuna panzió",
                    "SZOBA_SZAMA": "13",
                    "METTOL": "2016-07-19",
                    "előző 5 foglalas átlaga főre": "NULL"
                },
                {
                    "szallas_nev": "Fortuna panzió",
                    "SZOBA_SZAMA": "13",
                    "METTOL": "2016-07-22",
                    "előző 5 foglalas átlaga főre": "2"
                },
                {
                    "szallas_nev": "Fortuna panzió",
                    "SZOBA_SZAMA": "13",
                    "METTOL": "2016-12-01",
                    "előző 5 foglalas átlaga főre": "1"
                },
                {
                    "szallas_nev": "Fortuna panzió",
                    "SZOBA_SZAMA": "14",
                    "METTOL": "2016-05-08",
                    "előző 5 foglalas átlaga főre": "NULL"
                },
                {
                    "szallas_nev": "Fortuna panzió",
                    "SZOBA_SZAMA": "14",
                    "METTOL": "2016-09-05",
                    "előző 5 foglalas átlaga főre": "3"
                },
                {
                    "szallas_nev": "Fortuna panzió",
                    "SZOBA_SZAMA": "14",
                    "METTOL": "2016-09-17",
                    "előző 5 foglalas átlaga főre": "3"
                },
                {
                    "szallas_nev": "Fortuna panzió",
                    "SZOBA_SZAMA": "14",
                    "METTOL": "2016-09-23",
                    "előző 5 foglalas átlaga főre": "3"
                },
                {
                    "szallas_nev": "Fortuna panzió",
                    "SZOBA_SZAMA": "14",
                    "METTOL": "2016-12-06",
                    "előző 5 foglalas átlaga főre": "3"
                },
                {
                    "szallas_nev": "Fortuna panzió",
                    "SZOBA_SZAMA": "14",
                    "METTOL": "2017-01-03",
                    "előző 5 foglalas átlaga főre": "2"
                },
                {
                    "szallas_nev": "Fortuna panzió",
                    "SZOBA_SZAMA": "14",
                    "METTOL": "2017-01-28",
                    "előző 5 foglalas átlaga főre": "2"
                },
                {
                    "szallas_nev": "Fortuna panzió",
                    "SZOBA_SZAMA": "14",
                    "METTOL": "2017-02-21",
                    "előző 5 foglalas átlaga főre": "2"
                },
                {
                    "szallas_nev": "Fortuna panzió",
                    "SZOBA_SZAMA": "15",
                    "METTOL": "2016-04-25",
                    "előző 5 foglalas átlaga főre": "NULL"
                },
                {
                    "szallas_nev": "Fortuna panzió",
                    "SZOBA_SZAMA": "15",
                    "METTOL": "2016-06-03",
                    "előző 5 foglalas átlaga főre": "1"
                },
                {
                    "szallas_nev": "Fortuna panzió",
                    "SZOBA_SZAMA": "15",
                    "METTOL": "2016-10-29",
                    "előző 5 foglalas átlaga főre": "1"
                },
                {
                    "szallas_nev": "Fortuna panzió",
                    "SZOBA_SZAMA": "15",
                    "METTOL": "2016-12-20",
                    "előző 5 foglalas átlaga főre": "1"
                },
                {
                    "szallas_nev": "Fortuna panzió",
                    "SZOBA_SZAMA": "15",
                    "METTOL": "2017-01-12",
                    "előző 5 foglalas átlaga főre": "1"
                },
                {
                    "szallas_nev": "Fortuna panzió",
                    "SZOBA_SZAMA": "15",
                    "METTOL": "2017-01-18",
                    "előző 5 foglalas átlaga főre": "1"
                },
                {
                    "szallas_nev": "Fortuna panzió",
                    "SZOBA_SZAMA": "15",
                    "METTOL": "2017-02-16",
                    "előző 5 foglalas átlaga főre": "2"
                },
                {
                    "szallas_nev": "Fortuna Panzió",
                    "SZOBA_SZAMA": "2",
                    "METTOL": "2016-06-15",
                    "előző 5 foglalas átlaga főre": "NULL"
                },
                {
                    "szallas_nev": "Fortuna Panzió",
                    "SZOBA_SZAMA": "2",
                    "METTOL": "2016-10-09",
                    "előző 5 foglalas átlaga főre": "3"
                },
                {
                    "szallas_nev": "Fortuna panzió",
                    "SZOBA_SZAMA": "2",
                    "METTOL": "2016-10-16",
                    "előző 5 foglalas átlaga főre": "NULL"
                },
                {
                    "szallas_nev": "Fortuna panzió",
                    "SZOBA_SZAMA": "2",
                    "METTOL": "2016-12-24",
                    "előző 5 foglalas átlaga főre": "3"
                },
                {
                    "szallas_nev": "Fortuna panzió",
                    "SZOBA_SZAMA": "3",
                    "METTOL": "2016-08-05",
                    "előző 5 foglalas átlaga főre": "NULL"
                },
                {
                    "szallas_nev": "Fortuna panzió",
                    "SZOBA_SZAMA": "3",
                    "METTOL": "2016-08-22",
                    "előző 5 foglalas átlaga főre": "4"
                },
                {
                    "szallas_nev": "Fortuna panzió",
                    "SZOBA_SZAMA": "3",
                    "METTOL": "2016-09-05",
                    "előző 5 foglalas átlaga főre": "3"
                },
                {
                    "szallas_nev": "Fortuna panzió",
                    "SZOBA_SZAMA": "3",
                    "METTOL": "2016-09-26",
                    "előző 5 foglalas átlaga főre": "3"
                },
                {
                    "szallas_nev": "Fortuna panzió",
                    "SZOBA_SZAMA": "3",
                    "METTOL": "2016-11-11",
                    "előző 5 foglalas átlaga főre": "3"
                },
                {
                    "szallas_nev": "Fortuna panzió",
                    "SZOBA_SZAMA": "3",
                    "METTOL": "2016-12-18",
                    "előző 5 foglalas átlaga főre": "3"
                },
                {
                    "szallas_nev": "Fortuna panzió",
                    "SZOBA_SZAMA": "3",
                    "METTOL": "2017-01-27",
                    "előző 5 foglalas átlaga főre": "3"
                },
                {
                    "szallas_nev": "Fortuna Panzió",
                    "SZOBA_SZAMA": "3",
                    "METTOL": "2016-04-06",
                    "előző 5 foglalas átlaga főre": "NULL"
                },
                {
                    "szallas_nev": "Fortuna Panzió",
                    "SZOBA_SZAMA": "3",
                    "METTOL": "2016-04-19",
                    "előző 5 foglalas átlaga főre": "2"
                },
                {
                    "szallas_nev": "Fortuna Panzió",
                    "SZOBA_SZAMA": "3",
                    "METTOL": "2016-05-22",
                    "előző 5 foglalas átlaga főre": "2"
                },
                {
                    "szallas_nev": "Fortuna Panzió",
                    "SZOBA_SZAMA": "3",
                    "METTOL": "2016-08-12",
                    "előző 5 foglalas átlaga főre": "2"
                },
                {
                    "szallas_nev": "Fortuna Panzió",
                    "SZOBA_SZAMA": "3",
                    "METTOL": "2016-11-23",
                    "előző 5 foglalas átlaga főre": "2"
                },
                {
                    "szallas_nev": "Fortuna Panzió",
                    "SZOBA_SZAMA": "3",
                    "METTOL": "2017-01-16",
                    "előző 5 foglalas átlaga főre": "2"
                },
                {
                    "szallas_nev": "Fortuna Panzió",
                    "SZOBA_SZAMA": "4",
                    "METTOL": "2016-07-08",
                    "előző 5 foglalas átlaga főre": "NULL"
                },
                {
                    "szallas_nev": "Fortuna Panzió",
                    "SZOBA_SZAMA": "4",
                    "METTOL": "2016-07-14",
                    "előző 5 foglalas átlaga főre": "3"
                },
                {
                    "szallas_nev": "Fortuna Panzió",
                    "SZOBA_SZAMA": "4",
                    "METTOL": "2016-09-29",
                    "előző 5 foglalas átlaga főre": "2"
                },
                {
                    "szallas_nev": "Fortuna Panzió",
                    "SZOBA_SZAMA": "4",
                    "METTOL": "2016-10-27",
                    "előző 5 foglalas átlaga főre": "2"
                },
                {
                    "szallas_nev": "Fortuna Panzió",
                    "SZOBA_SZAMA": "4",
                    "METTOL": "2016-10-30",
                    "előző 5 foglalas átlaga főre": "2"
                },
                {
                    "szallas_nev": "Fortuna Panzió",
                    "SZOBA_SZAMA": "4",
                    "METTOL": "2016-11-10",
                    "előző 5 foglalas átlaga főre": "2"
                },
                {
                    "szallas_nev": "Fortuna Panzió",
                    "SZOBA_SZAMA": "4",
                    "METTOL": "2017-02-12",
                    "előző 5 foglalas átlaga főre": "2"
                },
                {
                    "szallas_nev": "Fortuna Panzió",
                    "SZOBA_SZAMA": "4",
                    "METTOL": "2017-02-20",
                    "előző 5 foglalas átlaga főre": "2"
                },
                {
                    "szallas_nev": "Fortuna panzió",
                    "SZOBA_SZAMA": "4",
                    "METTOL": "2016-05-29",
                    "előző 5 foglalas átlaga főre": "NULL"
                },
                {
                    "szallas_nev": "Fortuna panzió",
                    "SZOBA_SZAMA": "4",
                    "METTOL": "2016-06-01",
                    "előző 5 foglalas átlaga főre": "1"
                },
                {
                    "szallas_nev": "Fortuna panzió",
                    "SZOBA_SZAMA": "4",
                    "METTOL": "2016-06-04",
                    "előző 5 foglalas átlaga főre": "1"
                },
                {
                    "szallas_nev": "Fortuna panzió",
                    "SZOBA_SZAMA": "4",
                    "METTOL": "2016-07-27",
                    "előző 5 foglalas átlaga főre": "1"
                },
                {
                    "szallas_nev": "Fortuna panzió",
                    "SZOBA_SZAMA": "4",
                    "METTOL": "2016-10-13",
                    "előző 5 foglalas átlaga főre": "1"
                },
                {
                    "szallas_nev": "Fortuna panzió",
                    "SZOBA_SZAMA": "4",
                    "METTOL": "2017-01-20",
                    "előző 5 foglalas átlaga főre": "2"
                },
                {
                    "szallas_nev": "Fortuna panzió",
                    "SZOBA_SZAMA": "5",
                    "METTOL": "2016-05-01",
                    "előző 5 foglalas átlaga főre": "NULL"
                },
                {
                    "szallas_nev": "Fortuna panzió",
                    "SZOBA_SZAMA": "5",
                    "METTOL": "2016-06-03",
                    "előző 5 foglalas átlaga főre": "2"
                },
                {
                    "szallas_nev": "Fortuna panzió",
                    "SZOBA_SZAMA": "5",
                    "METTOL": "2016-09-23",
                    "előző 5 foglalas átlaga főre": "2"
                },
                {
                    "szallas_nev": "Fortuna panzió",
                    "SZOBA_SZAMA": "5",
                    "METTOL": "2016-10-23",
                    "előző 5 foglalas átlaga főre": "2"
                },
                {
                    "szallas_nev": "Fortuna panzió",
                    "SZOBA_SZAMA": "5",
                    "METTOL": "2016-11-01",
                    "előző 5 foglalas átlaga főre": "2"
                },
                {
                    "szallas_nev": "Fortuna panzió",
                    "SZOBA_SZAMA": "5",
                    "METTOL": "2017-02-24",
                    "előző 5 foglalas átlaga főre": "2"
                },
                {
                    "szallas_nev": "Fortuna Panzió",
                    "SZOBA_SZAMA": "5",
                    "METTOL": "2016-04-19",
                    "előző 5 foglalas átlaga főre": "NULL"
                },
                {
                    "szallas_nev": "Fortuna Panzió",
                    "SZOBA_SZAMA": "5",
                    "METTOL": "2016-05-21",
                    "előző 5 foglalas átlaga főre": "3"
                },
                {
                    "szallas_nev": "Fortuna Panzió",
                    "SZOBA_SZAMA": "5",
                    "METTOL": "2016-08-25",
                    "előző 5 foglalas átlaga főre": "3"
                },
                {
                    "szallas_nev": "Fortuna Panzió",
                    "SZOBA_SZAMA": "5",
                    "METTOL": "2016-11-19",
                    "előző 5 foglalas átlaga főre": "3"
                },
                {
                    "szallas_nev": "Fortuna Panzió",
                    "SZOBA_SZAMA": "5",
                    "METTOL": "2017-01-08",
                    "előző 5 foglalas átlaga főre": "3"
                },
                {
                    "szallas_nev": "Fortuna Panzió",
                    "SZOBA_SZAMA": "5",
                    "METTOL": "2017-02-20",
                    "előző 5 foglalas átlaga főre": "3"
                },
                {
                    "szallas_nev": "Fortuna Panzió",
                    "SZOBA_SZAMA": "6",
                    "METTOL": "2016-08-20",
                    "előző 5 foglalas átlaga főre": "NULL"
                },
                {
                    "szallas_nev": "Fortuna Panzió",
                    "SZOBA_SZAMA": "6",
                    "METTOL": "2016-08-20",
                    "előző 5 foglalas átlaga főre": "2"
                },
                {
                    "szallas_nev": "Fortuna Panzió",
                    "SZOBA_SZAMA": "6",
                    "METTOL": "2016-09-02",
                    "előző 5 foglalas átlaga főre": "2"
                },
                {
                    "szallas_nev": "Fortuna Panzió",
                    "SZOBA_SZAMA": "6",
                    "METTOL": "2016-10-09",
                    "előző 5 foglalas átlaga főre": "1"
                },
                {
                    "szallas_nev": "Fortuna Panzió",
                    "SZOBA_SZAMA": "6",
                    "METTOL": "2016-11-22",
                    "előző 5 foglalas átlaga főre": "1"
                },
                {
                    "szallas_nev": "Fortuna panzió",
                    "SZOBA_SZAMA": "6",
                    "METTOL": "2016-04-27",
                    "előző 5 foglalas átlaga főre": "NULL"
                },
                {
                    "szallas_nev": "Fortuna panzió",
                    "SZOBA_SZAMA": "6",
                    "METTOL": "2016-07-10",
                    "előző 5 foglalas átlaga főre": "2"
                },
                {
                    "szallas_nev": "Fortuna panzió",
                    "SZOBA_SZAMA": "6",
                    "METTOL": "2016-10-09",
                    "előző 5 foglalas átlaga főre": "2"
                },
                {
                    "szallas_nev": "Fortuna panzió",
                    "SZOBA_SZAMA": "7",
                    "METTOL": "2016-04-24",
                    "előző 5 foglalas átlaga főre": "NULL"
                },
                {
                    "szallas_nev": "Fortuna panzió",
                    "SZOBA_SZAMA": "7",
                    "METTOL": "2016-04-27",
                    "előző 5 foglalas átlaga főre": "4"
                },
                {
                    "szallas_nev": "Fortuna panzió",
                    "SZOBA_SZAMA": "7",
                    "METTOL": "2016-07-27",
                    "előző 5 foglalas átlaga főre": "4"
                },
                {
                    "szallas_nev": "Fortuna Panzió",
                    "SZOBA_SZAMA": "7",
                    "METTOL": "2016-08-03",
                    "előző 5 foglalas átlaga főre": "NULL"
                },
                {
                    "szallas_nev": "Fortuna Panzió",
                    "SZOBA_SZAMA": "7",
                    "METTOL": "2016-10-23",
                    "előző 5 foglalas átlaga főre": "2"
                },
                {
                    "szallas_nev": "Fortuna Panzió",
                    "SZOBA_SZAMA": "7",
                    "METTOL": "2016-11-19",
                    "előző 5 foglalas átlaga főre": "1"
                },
                {
                    "szallas_nev": "Fortuna Panzió",
                    "SZOBA_SZAMA": "7",
                    "METTOL": "2017-02-10",
                    "előző 5 foglalas átlaga főre": "1"
                },
                {
                    "szallas_nev": "Fortuna Panzió",
                    "SZOBA_SZAMA": "8",
                    "METTOL": "2016-06-13",
                    "előző 5 foglalas átlaga főre": "NULL"
                },
                {
                    "szallas_nev": "Fortuna Panzió",
                    "SZOBA_SZAMA": "8",
                    "METTOL": "2016-09-16",
                    "előző 5 foglalas átlaga főre": "1"
                },
                {
                    "szallas_nev": "Fortuna panzió",
                    "SZOBA_SZAMA": "8",
                    "METTOL": "2016-06-06",
                    "előző 5 foglalas átlaga főre": "NULL"
                },
                {
                    "szallas_nev": "Fortuna panzió",
                    "SZOBA_SZAMA": "9",
                    "METTOL": "2016-05-08",
                    "előző 5 foglalas átlaga főre": "NULL"
                },
                {
                    "szallas_nev": "Fortuna panzió",
                    "SZOBA_SZAMA": "9",
                    "METTOL": "2016-07-05",
                    "előző 5 foglalas átlaga főre": "4"
                },
                {
                    "szallas_nev": "Fortuna panzió",
                    "SZOBA_SZAMA": "9",
                    "METTOL": "2016-09-15",
                    "előző 5 foglalas átlaga főre": "3"
                },
                {
                    "szallas_nev": "Fortuna panzió",
                    "SZOBA_SZAMA": "9",
                    "METTOL": "2016-11-25",
                    "előző 5 foglalas átlaga főre": "3"
                },
                {
                    "szallas_nev": "Fortuna panzió",
                    "SZOBA_SZAMA": "9",
                    "METTOL": "2016-12-05",
                    "előző 5 foglalas átlaga főre": "3"
                },
                {
                    "szallas_nev": "Fortuna panzió",
                    "SZOBA_SZAMA": "9",
                    "METTOL": "2016-12-21",
                    "előző 5 foglalas átlaga főre": "2"
                },
                {
                    "szallas_nev": "Fortuna Panzió",
                    "SZOBA_SZAMA": "9",
                    "METTOL": "2016-04-26",
                    "előző 5 foglalas átlaga főre": "NULL"
                },
                {
                    "szallas_nev": "Fortuna Panzió",
                    "SZOBA_SZAMA": "9",
                    "METTOL": "2016-05-09",
                    "előző 5 foglalas átlaga főre": "3"
                },
                {
                    "szallas_nev": "Fortuna Panzió",
                    "SZOBA_SZAMA": "9",
                    "METTOL": "2016-06-06",
                    "előző 5 foglalas átlaga főre": "3"
                },
                {
                    "szallas_nev": "Fortuna Panzió",
                    "SZOBA_SZAMA": "9",
                    "METTOL": "2016-06-25",
                    "előző 5 foglalas átlaga főre": "3"
                },
                {
                    "szallas_nev": "Fortuna Panzió",
                    "SZOBA_SZAMA": "9",
                    "METTOL": "2016-08-25",
                    "előző 5 foglalas átlaga főre": "3"
                },
                {
                    "szallas_nev": "Fortuna Panzió",
                    "SZOBA_SZAMA": "9",
                    "METTOL": "2016-11-03",
                    "előző 5 foglalas átlaga főre": "3"
                },
                {
                    "szallas_nev": "Fortuna Panzió",
                    "SZOBA_SZAMA": "9",
                    "METTOL": "2017-02-17",
                    "előző 5 foglalas átlaga főre": "3"
                },
                {
                    "szallas_nev": "Fortuna Panzió",
                    "SZOBA_SZAMA": "9",
                    "METTOL": "2017-02-18",
                    "előző 5 foglalas átlaga főre": "3"
                },
                {
                    "szallas_nev": "Fortuna Panzió",
                    "SZOBA_SZAMA": "9",
                    "METTOL": "2017-03-01",
                    "előző 5 foglalas átlaga főre": "3"
                },
                {
                    "szallas_nev": "Gold Hotel",
                    "SZOBA_SZAMA": "1",
                    "METTOL": "2016-05-12",
                    "előző 5 foglalas átlaga főre": "NULL"
                },
                {
                    "szallas_nev": "Gold Hotel",
                    "SZOBA_SZAMA": "1",
                    "METTOL": "2016-05-25",
                    "előző 5 foglalas átlaga főre": "2"
                },
                {
                    "szallas_nev": "Gold Hotel",
                    "SZOBA_SZAMA": "1",
                    "METTOL": "2016-06-03",
                    "előző 5 foglalas átlaga főre": "1"
                },
                {
                    "szallas_nev": "Gold Hotel",
                    "SZOBA_SZAMA": "1",
                    "METTOL": "2016-06-03",
                    "előző 5 foglalas átlaga főre": "1"
                },
                {
                    "szallas_nev": "Gold Hotel",
                    "SZOBA_SZAMA": "1",
                    "METTOL": "2016-06-03",
                    "előző 5 foglalas átlaga főre": "1"
                },
                {
                    "szallas_nev": "Gold Hotel",
                    "SZOBA_SZAMA": "1",
                    "METTOL": "2016-10-09",
                    "előző 5 foglalas átlaga főre": "1"
                },
                {
                    "szallas_nev": "Gold Hotel",
                    "SZOBA_SZAMA": "1",
                    "METTOL": "2016-12-17",
                    "előző 5 foglalas átlaga főre": "1"
                },
                {
                    "szallas_nev": "Gold Hotel",
                    "SZOBA_SZAMA": "10",
                    "METTOL": "2016-06-06",
                    "előző 5 foglalas átlaga főre": "NULL"
                },
                {
                    "szallas_nev": "Gold Hotel",
                    "SZOBA_SZAMA": "10",
                    "METTOL": "2016-07-06",
                    "előző 5 foglalas átlaga főre": "2"
                },
                {
                    "szallas_nev": "Gold Hotel",
                    "SZOBA_SZAMA": "10",
                    "METTOL": "2016-07-18",
                    "előző 5 foglalas átlaga főre": "1"
                },
                {
                    "szallas_nev": "Gold Hotel",
                    "SZOBA_SZAMA": "10",
                    "METTOL": "2016-11-12",
                    "előző 5 foglalas átlaga főre": "1"
                },
                {
                    "szallas_nev": "Gold Hotel",
                    "SZOBA_SZAMA": "11",
                    "METTOL": "2016-05-28",
                    "előző 5 foglalas átlaga főre": "NULL"
                },
                {
                    "szallas_nev": "Gold Hotel",
                    "SZOBA_SZAMA": "11",
                    "METTOL": "2016-08-19",
                    "előző 5 foglalas átlaga főre": "1"
                },
                {
                    "szallas_nev": "Gold Hotel",
                    "SZOBA_SZAMA": "11",
                    "METTOL": "2016-09-30",
                    "előző 5 foglalas átlaga főre": "1"
                },
                {
                    "szallas_nev": "Gold Hotel",
                    "SZOBA_SZAMA": "11",
                    "METTOL": "2016-10-08",
                    "előző 5 foglalas átlaga főre": "1"
                },
                {
                    "szallas_nev": "Gold Hotel",
                    "SZOBA_SZAMA": "11",
                    "METTOL": "2016-12-30",
                    "előző 5 foglalas átlaga főre": "1"
                },
                {
                    "szallas_nev": "Gold Hotel",
                    "SZOBA_SZAMA": "12",
                    "METTOL": "2016-04-21",
                    "előző 5 foglalas átlaga főre": "NULL"
                },
                {
                    "szallas_nev": "Gold Hotel",
                    "SZOBA_SZAMA": "12",
                    "METTOL": "2016-10-09",
                    "előző 5 foglalas átlaga főre": "2"
                },
                {
                    "szallas_nev": "Gold Hotel",
                    "SZOBA_SZAMA": "12",
                    "METTOL": "2016-11-13",
                    "előző 5 foglalas átlaga főre": "2"
                },
                {
                    "szallas_nev": "Gold Hotel",
                    "SZOBA_SZAMA": "12",
                    "METTOL": "2016-12-22",
                    "előző 5 foglalas átlaga főre": "2"
                },
                {
                    "szallas_nev": "Gold Hotel",
                    "SZOBA_SZAMA": "12",
                    "METTOL": "2017-02-08",
                    "előző 5 foglalas átlaga főre": "2"
                },
                {
                    "szallas_nev": "Gold Hotel",
                    "SZOBA_SZAMA": "12",
                    "METTOL": "2017-02-24",
                    "előző 5 foglalas átlaga főre": "2"
                },
                {
                    "szallas_nev": "Gold Hotel",
                    "SZOBA_SZAMA": "13",
                    "METTOL": "2016-08-16",
                    "előző 5 foglalas átlaga főre": "NULL"
                },
                {
                    "szallas_nev": "Gold Hotel",
                    "SZOBA_SZAMA": "13",
                    "METTOL": "2016-08-28",
                    "előző 5 foglalas átlaga főre": "4"
                },
                {
                    "szallas_nev": "Gold Hotel",
                    "SZOBA_SZAMA": "13",
                    "METTOL": "2016-10-21",
                    "előző 5 foglalas átlaga főre": "3"
                },
                {
                    "szallas_nev": "Gold Hotel",
                    "SZOBA_SZAMA": "13",
                    "METTOL": "2017-02-05",
                    "előző 5 foglalas átlaga főre": "3"
                },
                {
                    "szallas_nev": "Gold Hotel",
                    "SZOBA_SZAMA": "14",
                    "METTOL": "2016-06-28",
                    "előző 5 foglalas átlaga főre": "NULL"
                },
                {
                    "szallas_nev": "Gold Hotel",
                    "SZOBA_SZAMA": "14",
                    "METTOL": "2016-08-24",
                    "előző 5 foglalas átlaga főre": "3"
                },
                {
                    "szallas_nev": "Gold Hotel",
                    "SZOBA_SZAMA": "14",
                    "METTOL": "2016-10-28",
                    "előző 5 foglalas átlaga főre": "3"
                },
                {
                    "szallas_nev": "Gold Hotel",
                    "SZOBA_SZAMA": "14",
                    "METTOL": "2016-11-03",
                    "előző 5 foglalas átlaga főre": "3"
                },
                {
                    "szallas_nev": "Gold Hotel",
                    "SZOBA_SZAMA": "15",
                    "METTOL": "2016-05-21",
                    "előző 5 foglalas átlaga főre": "NULL"
                },
                {
                    "szallas_nev": "Gold Hotel",
                    "SZOBA_SZAMA": "15",
                    "METTOL": "2016-07-09",
                    "előző 5 foglalas átlaga főre": "4"
                },
                {
                    "szallas_nev": "Gold Hotel",
                    "SZOBA_SZAMA": "15",
                    "METTOL": "2017-02-04",
                    "előző 5 foglalas átlaga főre": "4"
                },
                {
                    "szallas_nev": "Gold Hotel",
                    "SZOBA_SZAMA": "16",
                    "METTOL": "2016-06-04",
                    "előző 5 foglalas átlaga főre": "NULL"
                },
                {
                    "szallas_nev": "Gold Hotel",
                    "SZOBA_SZAMA": "16",
                    "METTOL": "2017-02-22",
                    "előző 5 foglalas átlaga főre": "4"
                },
                {
                    "szallas_nev": "Gold Hotel",
                    "SZOBA_SZAMA": "16",
                    "METTOL": "2017-02-23",
                    "előző 5 foglalas átlaga főre": "3"
                },
                {
                    "szallas_nev": "Gold Hotel",
                    "SZOBA_SZAMA": "17",
                    "METTOL": "2016-06-08",
                    "előző 5 foglalas átlaga főre": "NULL"
                },
                {
                    "szallas_nev": "Gold Hotel",
                    "SZOBA_SZAMA": "17",
                    "METTOL": "2016-06-13",
                    "előző 5 foglalas átlaga főre": "3"
                },
                {
                    "szallas_nev": "Gold Hotel",
                    "SZOBA_SZAMA": "17",
                    "METTOL": "2016-07-10",
                    "előző 5 foglalas átlaga főre": "3"
                },
                {
                    "szallas_nev": "Gold Hotel",
                    "SZOBA_SZAMA": "17",
                    "METTOL": "2016-07-16",
                    "előző 5 foglalas átlaga főre": "3"
                },
                {
                    "szallas_nev": "Gold Hotel",
                    "SZOBA_SZAMA": "17",
                    "METTOL": "2016-07-28",
                    "előző 5 foglalas átlaga főre": "3"
                },
                {
                    "szallas_nev": "Gold Hotel",
                    "SZOBA_SZAMA": "17",
                    "METTOL": "2016-12-05",
                    "előző 5 foglalas átlaga főre": "3"
                },
                {
                    "szallas_nev": "Gold Hotel",
                    "SZOBA_SZAMA": "18",
                    "METTOL": "2016-04-10",
                    "előző 5 foglalas átlaga főre": "NULL"
                },
                {
                    "szallas_nev": "Gold Hotel",
                    "SZOBA_SZAMA": "18",
                    "METTOL": "2016-06-07",
                    "előző 5 foglalas átlaga főre": "2"
                },
                {
                    "szallas_nev": "Gold Hotel",
                    "SZOBA_SZAMA": "18",
                    "METTOL": "2016-07-04",
                    "előző 5 foglalas átlaga főre": "2"
                },
                {
                    "szallas_nev": "Gold Hotel",
                    "SZOBA_SZAMA": "18",
                    "METTOL": "2016-07-30",
                    "előző 5 foglalas átlaga főre": "2"
                },
                {
                    "szallas_nev": "Gold Hotel",
                    "SZOBA_SZAMA": "18",
                    "METTOL": "2016-10-24",
                    "előző 5 foglalas átlaga főre": "2"
                },
                {
                    "szallas_nev": "Gold Hotel",
                    "SZOBA_SZAMA": "18",
                    "METTOL": "2016-10-30",
                    "előző 5 foglalas átlaga főre": "2"
                },
                {
                    "szallas_nev": "Gold Hotel",
                    "SZOBA_SZAMA": "18",
                    "METTOL": "2016-10-30",
                    "előző 5 foglalas átlaga főre": "1"
                },
                {
                    "szallas_nev": "Gold Hotel",
                    "SZOBA_SZAMA": "18",
                    "METTOL": "2016-11-23",
                    "előző 5 foglalas átlaga főre": "1"
                },
                {
                    "szallas_nev": "Gold Hotel",
                    "SZOBA_SZAMA": "18",
                    "METTOL": "2016-11-25",
                    "előző 5 foglalas átlaga főre": "1"
                },
                {
                    "szallas_nev": "Gold Hotel",
                    "SZOBA_SZAMA": "18",
                    "METTOL": "2016-11-28",
                    "előző 5 foglalas átlaga főre": "1"
                },
                {
                    "szallas_nev": "Gold Hotel",
                    "SZOBA_SZAMA": "18",
                    "METTOL": "2017-01-01",
                    "előző 5 foglalas átlaga főre": "1"
                },
                {
                    "szallas_nev": "Gold Hotel",
                    "SZOBA_SZAMA": "18",
                    "METTOL": "2017-01-06",
                    "előző 5 foglalas átlaga főre": "1"
                },
                {
                    "szallas_nev": "Gold Hotel",
                    "SZOBA_SZAMA": "19",
                    "METTOL": "2016-06-09",
                    "előző 5 foglalas átlaga főre": "NULL"
                },
                {
                    "szallas_nev": "Gold Hotel",
                    "SZOBA_SZAMA": "19",
                    "METTOL": "2016-09-19",
                    "előző 5 foglalas átlaga főre": "3"
                },
                {
                    "szallas_nev": "Gold Hotel",
                    "SZOBA_SZAMA": "19",
                    "METTOL": "2016-10-10",
                    "előző 5 foglalas átlaga főre": "2"
                },
                {
                    "szallas_nev": "Gold Hotel",
                    "SZOBA_SZAMA": "19",
                    "METTOL": "2017-01-13",
                    "előző 5 foglalas átlaga főre": "2"
                },
                {
                    "szallas_nev": "Gold Hotel",
                    "SZOBA_SZAMA": "2",
                    "METTOL": "2016-05-14",
                    "előző 5 foglalas átlaga főre": "NULL"
                },
                {
                    "szallas_nev": "Gold Hotel",
                    "SZOBA_SZAMA": "2",
                    "METTOL": "2016-08-16",
                    "előző 5 foglalas átlaga főre": "2"
                },
                {
                    "szallas_nev": "Gold Hotel",
                    "SZOBA_SZAMA": "2",
                    "METTOL": "2017-02-12",
                    "előző 5 foglalas átlaga főre": "1"
                },
                {
                    "szallas_nev": "Gold Hotel",
                    "SZOBA_SZAMA": "20",
                    "METTOL": "2016-04-28",
                    "előző 5 foglalas átlaga főre": "NULL"
                },
                {
                    "szallas_nev": "Gold Hotel",
                    "SZOBA_SZAMA": "20",
                    "METTOL": "2016-05-30",
                    "előző 5 foglalas átlaga főre": "2"
                },
                {
                    "szallas_nev": "Gold Hotel",
                    "SZOBA_SZAMA": "20",
                    "METTOL": "2016-07-18",
                    "előző 5 foglalas átlaga főre": "1"
                },
                {
                    "szallas_nev": "Gold Hotel",
                    "SZOBA_SZAMA": "20",
                    "METTOL": "2016-11-05",
                    "előző 5 foglalas átlaga főre": "1"
                },
                {
                    "szallas_nev": "Gold Hotel",
                    "SZOBA_SZAMA": "21",
                    "METTOL": "2016-04-13",
                    "előző 5 foglalas átlaga főre": "NULL"
                },
                {
                    "szallas_nev": "Gold Hotel",
                    "SZOBA_SZAMA": "21",
                    "METTOL": "2016-05-28",
                    "előző 5 foglalas átlaga főre": "3"
                },
                {
                    "szallas_nev": "Gold Hotel",
                    "SZOBA_SZAMA": "21",
                    "METTOL": "2016-06-03",
                    "előző 5 foglalas átlaga főre": "3"
                },
                {
                    "szallas_nev": "Gold Hotel",
                    "SZOBA_SZAMA": "21",
                    "METTOL": "2016-06-07",
                    "előző 5 foglalas átlaga főre": "3"
                },
                {
                    "szallas_nev": "Gold Hotel",
                    "SZOBA_SZAMA": "21",
                    "METTOL": "2016-07-14",
                    "előző 5 foglalas átlaga főre": "3"
                },
                {
                    "szallas_nev": "Gold Hotel",
                    "SZOBA_SZAMA": "21",
                    "METTOL": "2016-07-17",
                    "előző 5 foglalas átlaga főre": "3"
                },
                {
                    "szallas_nev": "Gold Hotel",
                    "SZOBA_SZAMA": "21",
                    "METTOL": "2016-07-20",
                    "előző 5 foglalas átlaga főre": "3"
                },
                {
                    "szallas_nev": "Gold Hotel",
                    "SZOBA_SZAMA": "21",
                    "METTOL": "2016-07-24",
                    "előző 5 foglalas átlaga főre": "2"
                },
                {
                    "szallas_nev": "Gold Hotel",
                    "SZOBA_SZAMA": "21",
                    "METTOL": "2016-10-06",
                    "előző 5 foglalas átlaga főre": "2"
                },
                {
                    "szallas_nev": "Gold Hotel",
                    "SZOBA_SZAMA": "21",
                    "METTOL": "2016-10-23",
                    "előző 5 foglalas átlaga főre": "2"
                },
                {
                    "szallas_nev": "Gold Hotel",
                    "SZOBA_SZAMA": "21",
                    "METTOL": "2017-01-16",
                    "előző 5 foglalas átlaga főre": "2"
                },
                {
                    "szallas_nev": "Gold Hotel",
                    "SZOBA_SZAMA": "21",
                    "METTOL": "2017-01-22",
                    "előző 5 foglalas átlaga főre": "2"
                },
                {
                    "szallas_nev": "Gold Hotel",
                    "SZOBA_SZAMA": "22",
                    "METTOL": "2016-05-01",
                    "előző 5 foglalas átlaga főre": "NULL"
                },
                {
                    "szallas_nev": "Gold Hotel",
                    "SZOBA_SZAMA": "22",
                    "METTOL": "2016-10-15",
                    "előző 5 foglalas átlaga főre": "3"
                },
                {
                    "szallas_nev": "Gold Hotel",
                    "SZOBA_SZAMA": "22",
                    "METTOL": "2016-11-05",
                    "előző 5 foglalas átlaga főre": "3"
                },
                {
                    "szallas_nev": "Gold Hotel",
                    "SZOBA_SZAMA": "22",
                    "METTOL": "2017-01-22",
                    "előző 5 foglalas átlaga főre": "2"
                },
                {
                    "szallas_nev": "Gold Hotel",
                    "SZOBA_SZAMA": "23",
                    "METTOL": "2016-05-09",
                    "előző 5 foglalas átlaga főre": "NULL"
                },
                {
                    "szallas_nev": "Gold Hotel",
                    "SZOBA_SZAMA": "23",
                    "METTOL": "2016-05-28",
                    "előző 5 foglalas átlaga főre": "3"
                },
                {
                    "szallas_nev": "Gold Hotel",
                    "SZOBA_SZAMA": "23",
                    "METTOL": "2016-06-13",
                    "előző 5 foglalas átlaga főre": "3"
                },
                {
                    "szallas_nev": "Gold Hotel",
                    "SZOBA_SZAMA": "23",
                    "METTOL": "2016-07-20",
                    "előző 5 foglalas átlaga főre": "3"
                },
                {
                    "szallas_nev": "Gold Hotel",
                    "SZOBA_SZAMA": "23",
                    "METTOL": "2016-07-31",
                    "előző 5 foglalas átlaga főre": "3"
                },
                {
                    "szallas_nev": "Gold Hotel",
                    "SZOBA_SZAMA": "23",
                    "METTOL": "2016-08-10",
                    "előző 5 foglalas átlaga főre": "3"
                },
                {
                    "szallas_nev": "Gold Hotel",
                    "SZOBA_SZAMA": "23",
                    "METTOL": "2016-12-29",
                    "előző 5 foglalas átlaga főre": "2"
                },
                {
                    "szallas_nev": "Gold Hotel",
                    "SZOBA_SZAMA": "24",
                    "METTOL": "2016-06-06",
                    "előző 5 foglalas átlaga főre": "NULL"
                },
                {
                    "szallas_nev": "Gold Hotel",
                    "SZOBA_SZAMA": "24",
                    "METTOL": "2016-07-19",
                    "előző 5 foglalas átlaga főre": "3"
                },
                {
                    "szallas_nev": "Gold Hotel",
                    "SZOBA_SZAMA": "24",
                    "METTOL": "2016-07-24",
                    "előző 5 foglalas átlaga főre": "2"
                },
                {
                    "szallas_nev": "Gold Hotel",
                    "SZOBA_SZAMA": "24",
                    "METTOL": "2016-08-01",
                    "előző 5 foglalas átlaga főre": "2"
                },
                {
                    "szallas_nev": "Gold Hotel",
                    "SZOBA_SZAMA": "24",
                    "METTOL": "2016-09-05",
                    "előző 5 foglalas átlaga főre": "2"
                },
                {
                    "szallas_nev": "Gold Hotel",
                    "SZOBA_SZAMA": "24",
                    "METTOL": "2016-12-25",
                    "előző 5 foglalas átlaga főre": "2"
                },
                {
                    "szallas_nev": "Gold Hotel",
                    "SZOBA_SZAMA": "25",
                    "METTOL": "2016-07-20",
                    "előző 5 foglalas átlaga főre": "NULL"
                },
                {
                    "szallas_nev": "Gold Hotel",
                    "SZOBA_SZAMA": "25",
                    "METTOL": "2016-08-03",
                    "előző 5 foglalas átlaga főre": "2"
                },
                {
                    "szallas_nev": "Gold Hotel",
                    "SZOBA_SZAMA": "25",
                    "METTOL": "2016-10-27",
                    "előző 5 foglalas átlaga főre": "2"
                },
                {
                    "szallas_nev": "Gold Hotel",
                    "SZOBA_SZAMA": "25",
                    "METTOL": "2017-01-17",
                    "előző 5 foglalas átlaga főre": "2"
                },
                {
                    "szallas_nev": "Gold Hotel",
                    "SZOBA_SZAMA": "25",
                    "METTOL": "2017-02-26",
                    "előző 5 foglalas átlaga főre": "2"
                },
                {
                    "szallas_nev": "Gold Hotel",
                    "SZOBA_SZAMA": "26",
                    "METTOL": "2016-04-24",
                    "előző 5 foglalas átlaga főre": "NULL"
                },
                {
                    "szallas_nev": "Gold Hotel",
                    "SZOBA_SZAMA": "26",
                    "METTOL": "2016-06-27",
                    "előző 5 foglalas átlaga főre": "1"
                },
                {
                    "szallas_nev": "Gold Hotel",
                    "SZOBA_SZAMA": "26",
                    "METTOL": "2016-07-08",
                    "előző 5 foglalas átlaga főre": "1"
                },
                {
                    "szallas_nev": "Gold Hotel",
                    "SZOBA_SZAMA": "26",
                    "METTOL": "2016-08-13",
                    "előző 5 foglalas átlaga főre": "1"
                },
                {
                    "szallas_nev": "Gold Hotel",
                    "SZOBA_SZAMA": "26",
                    "METTOL": "2017-02-11",
                    "előző 5 foglalas átlaga főre": "1"
                },
                {
                    "szallas_nev": "Gold Hotel",
                    "SZOBA_SZAMA": "27",
                    "METTOL": "2016-09-09",
                    "előző 5 foglalas átlaga főre": "NULL"
                },
                {
                    "szallas_nev": "Gold Hotel",
                    "SZOBA_SZAMA": "27",
                    "METTOL": "2016-11-22",
                    "előző 5 foglalas átlaga főre": "2"
                },
                {
                    "szallas_nev": "Gold Hotel",
                    "SZOBA_SZAMA": "27",
                    "METTOL": "2016-11-27",
                    "előző 5 foglalas átlaga főre": "2"
                },
                {
                    "szallas_nev": "Gold Hotel",
                    "SZOBA_SZAMA": "27",
                    "METTOL": "2017-02-05",
                    "előző 5 foglalas átlaga főre": "2"
                },
                {
                    "szallas_nev": "Gold Hotel",
                    "SZOBA_SZAMA": "27",
                    "METTOL": "2017-02-08",
                    "előző 5 foglalas átlaga főre": "2"
                },
                {
                    "szallas_nev": "Gold Hotel",
                    "SZOBA_SZAMA": "28",
                    "METTOL": "2016-06-04",
                    "előző 5 foglalas átlaga főre": "NULL"
                },
                {
                    "szallas_nev": "Gold Hotel",
                    "SZOBA_SZAMA": "28",
                    "METTOL": "2016-07-17",
                    "előző 5 foglalas átlaga főre": "3"
                },
                {
                    "szallas_nev": "Gold Hotel",
                    "SZOBA_SZAMA": "29",
                    "METTOL": "2016-05-09",
                    "előző 5 foglalas átlaga főre": "NULL"
                },
                {
                    "szallas_nev": "Gold Hotel",
                    "SZOBA_SZAMA": "29",
                    "METTOL": "2016-06-07",
                    "előző 5 foglalas átlaga főre": "2"
                },
                {
                    "szallas_nev": "Gold Hotel",
                    "SZOBA_SZAMA": "29",
                    "METTOL": "2016-06-22",
                    "előző 5 foglalas átlaga főre": "3"
                },
                {
                    "szallas_nev": "Gold Hotel",
                    "SZOBA_SZAMA": "29",
                    "METTOL": "2016-07-15",
                    "előző 5 foglalas átlaga főre": "4"
                },
                {
                    "szallas_nev": "Gold Hotel",
                    "SZOBA_SZAMA": "29",
                    "METTOL": "2016-08-29",
                    "előző 5 foglalas átlaga főre": "3"
                },
                {
                    "szallas_nev": "Gold Hotel",
                    "SZOBA_SZAMA": "29",
                    "METTOL": "2016-09-11",
                    "előző 5 foglalas átlaga főre": "4"
                },
                {
                    "szallas_nev": "Gold Hotel",
                    "SZOBA_SZAMA": "29",
                    "METTOL": "2016-11-03",
                    "előző 5 foglalas átlaga főre": "4"
                },
                {
                    "szallas_nev": "Gold Hotel",
                    "SZOBA_SZAMA": "3",
                    "METTOL": "2016-05-24",
                    "előző 5 foglalas átlaga főre": "NULL"
                },
                {
                    "szallas_nev": "Gold Hotel",
                    "SZOBA_SZAMA": "3",
                    "METTOL": "2017-01-02",
                    "előző 5 foglalas átlaga főre": "1"
                },
                {
                    "szallas_nev": "Gold Hotel",
                    "SZOBA_SZAMA": "30",
                    "METTOL": "2016-09-30",
                    "előző 5 foglalas átlaga főre": "NULL"
                },
                {
                    "szallas_nev": "Gold Hotel",
                    "SZOBA_SZAMA": "31",
                    "METTOL": "2016-07-27",
                    "előző 5 foglalas átlaga főre": "NULL"
                },
                {
                    "szallas_nev": "Gold Hotel",
                    "SZOBA_SZAMA": "31",
                    "METTOL": "2016-08-31",
                    "előző 5 foglalas átlaga főre": "2"
                },
                {
                    "szallas_nev": "Gold Hotel",
                    "SZOBA_SZAMA": "31",
                    "METTOL": "2016-09-22",
                    "előző 5 foglalas átlaga főre": "2"
                },
                {
                    "szallas_nev": "Gold Hotel",
                    "SZOBA_SZAMA": "31",
                    "METTOL": "2016-10-23",
                    "előző 5 foglalas átlaga főre": "1"
                },
                {
                    "szallas_nev": "Gold Hotel",
                    "SZOBA_SZAMA": "31",
                    "METTOL": "2017-01-24",
                    "előző 5 foglalas átlaga főre": "1"
                },
                {
                    "szallas_nev": "Gold Hotel",
                    "SZOBA_SZAMA": "31",
                    "METTOL": "2017-01-30",
                    "előző 5 foglalas átlaga főre": "1"
                },
                {
                    "szallas_nev": "Gold Hotel",
                    "SZOBA_SZAMA": "32",
                    "METTOL": "2016-06-11",
                    "előző 5 foglalas átlaga főre": "NULL"
                },
                {
                    "szallas_nev": "Gold Hotel",
                    "SZOBA_SZAMA": "32",
                    "METTOL": "2016-07-14",
                    "előző 5 foglalas átlaga főre": "3"
                },
                {
                    "szallas_nev": "Gold Hotel",
                    "SZOBA_SZAMA": "32",
                    "METTOL": "2016-11-23",
                    "előző 5 foglalas átlaga főre": "2"
                },
                {
                    "szallas_nev": "Gold Hotel",
                    "SZOBA_SZAMA": "32",
                    "METTOL": "2016-12-04",
                    "előző 5 foglalas átlaga főre": "2"
                },
                {
                    "szallas_nev": "Gold Hotel",
                    "SZOBA_SZAMA": "33",
                    "METTOL": "2016-06-30",
                    "előző 5 foglalas átlaga főre": "NULL"
                },
                {
                    "szallas_nev": "Gold Hotel",
                    "SZOBA_SZAMA": "33",
                    "METTOL": "2016-08-09",
                    "előző 5 foglalas átlaga főre": "3"
                },
                {
                    "szallas_nev": "Gold Hotel",
                    "SZOBA_SZAMA": "33",
                    "METTOL": "2016-09-30",
                    "előző 5 foglalas átlaga főre": "3"
                },
                {
                    "szallas_nev": "Gold Hotel",
                    "SZOBA_SZAMA": "33",
                    "METTOL": "2016-10-20",
                    "előző 5 foglalas átlaga főre": "3"
                },
                {
                    "szallas_nev": "Gold Hotel",
                    "SZOBA_SZAMA": "33",
                    "METTOL": "2016-11-22",
                    "előző 5 foglalas átlaga főre": "2"
                },
                {
                    "szallas_nev": "Gold Hotel",
                    "SZOBA_SZAMA": "33",
                    "METTOL": "2016-12-24",
                    "előző 5 foglalas átlaga főre": "2"
                },
                {
                    "szallas_nev": "Gold Hotel",
                    "SZOBA_SZAMA": "34",
                    "METTOL": "2016-06-22",
                    "előző 5 foglalas átlaga főre": "NULL"
                },
                {
                    "szallas_nev": "Gold Hotel",
                    "SZOBA_SZAMA": "34",
                    "METTOL": "2016-07-04",
                    "előző 5 foglalas átlaga főre": "3"
                },
                {
                    "szallas_nev": "Gold Hotel",
                    "SZOBA_SZAMA": "34",
                    "METTOL": "2016-09-18",
                    "előző 5 foglalas átlaga főre": "3"
                },
                {
                    "szallas_nev": "Gold Hotel",
                    "SZOBA_SZAMA": "34",
                    "METTOL": "2016-10-03",
                    "előző 5 foglalas átlaga főre": "3"
                },
                {
                    "szallas_nev": "Gold Hotel",
                    "SZOBA_SZAMA": "34",
                    "METTOL": "2016-10-09",
                    "előző 5 foglalas átlaga főre": "3"
                },
                {
                    "szallas_nev": "Gold Hotel",
                    "SZOBA_SZAMA": "34",
                    "METTOL": "2016-10-17",
                    "előző 5 foglalas átlaga főre": "2"
                },
                {
                    "szallas_nev": "Gold Hotel",
                    "SZOBA_SZAMA": "34",
                    "METTOL": "2016-10-29",
                    "előző 5 foglalas átlaga főre": "2"
                },
                {
                    "szallas_nev": "Gold Hotel",
                    "SZOBA_SZAMA": "34",
                    "METTOL": "2017-01-05",
                    "előző 5 foglalas átlaga főre": "2"
                },
                {
                    "szallas_nev": "Gold Hotel",
                    "SZOBA_SZAMA": "4",
                    "METTOL": "2016-06-07",
                    "előző 5 foglalas átlaga főre": "NULL"
                },
                {
                    "szallas_nev": "Gold Hotel",
                    "SZOBA_SZAMA": "4",
                    "METTOL": "2016-08-16",
                    "előző 5 foglalas átlaga főre": "4"
                },
                {
                    "szallas_nev": "Gold Hotel",
                    "SZOBA_SZAMA": "4",
                    "METTOL": "2016-08-17",
                    "előző 5 foglalas átlaga főre": "4"
                },
                {
                    "szallas_nev": "Gold Hotel",
                    "SZOBA_SZAMA": "4",
                    "METTOL": "2016-11-05",
                    "előző 5 foglalas átlaga főre": "4"
                },
                {
                    "szallas_nev": "Gold Hotel",
                    "SZOBA_SZAMA": "4",
                    "METTOL": "2016-11-08",
                    "előző 5 foglalas átlaga főre": "3"
                },
                {
                    "szallas_nev": "Gold Hotel",
                    "SZOBA_SZAMA": "5",
                    "METTOL": "2016-04-10",
                    "előző 5 foglalas átlaga főre": "NULL"
                },
                {
                    "szallas_nev": "Gold Hotel",
                    "SZOBA_SZAMA": "5",
                    "METTOL": "2016-05-21",
                    "előző 5 foglalas átlaga főre": "2"
                },
                {
                    "szallas_nev": "Gold Hotel",
                    "SZOBA_SZAMA": "5",
                    "METTOL": "2016-06-20",
                    "előző 5 foglalas átlaga főre": "2"
                },
                {
                    "szallas_nev": "Gold Hotel",
                    "SZOBA_SZAMA": "5",
                    "METTOL": "2016-08-01",
                    "előző 5 foglalas átlaga főre": "1"
                },
                {
                    "szallas_nev": "Gold Hotel",
                    "SZOBA_SZAMA": "5",
                    "METTOL": "2016-12-09",
                    "előző 5 foglalas átlaga főre": "2"
                },
                {
                    "szallas_nev": "Gold Hotel",
                    "SZOBA_SZAMA": "5",
                    "METTOL": "2017-01-09",
                    "előző 5 foglalas átlaga főre": "2"
                },
                {
                    "szallas_nev": "Gold Hotel",
                    "SZOBA_SZAMA": "6",
                    "METTOL": "2016-04-10",
                    "előző 5 foglalas átlaga főre": "NULL"
                },
                {
                    "szallas_nev": "Gold Hotel",
                    "SZOBA_SZAMA": "6",
                    "METTOL": "2016-06-10",
                    "előző 5 foglalas átlaga főre": "1"
                },
                {
                    "szallas_nev": "Gold Hotel",
                    "SZOBA_SZAMA": "6",
                    "METTOL": "2016-10-26",
                    "előző 5 foglalas átlaga főre": "1"
                },
                {
                    "szallas_nev": "Gold Hotel",
                    "SZOBA_SZAMA": "6",
                    "METTOL": "2016-11-09",
                    "előző 5 foglalas átlaga főre": "1"
                },
                {
                    "szallas_nev": "Gold Hotel",
                    "SZOBA_SZAMA": "6",
                    "METTOL": "2016-12-04",
                    "előző 5 foglalas átlaga főre": "1"
                },
                {
                    "szallas_nev": "Gold Hotel",
                    "SZOBA_SZAMA": "7",
                    "METTOL": "2016-04-10",
                    "előző 5 foglalas átlaga főre": "NULL"
                },
                {
                    "szallas_nev": "Gold Hotel",
                    "SZOBA_SZAMA": "7",
                    "METTOL": "2016-06-23",
                    "előző 5 foglalas átlaga főre": "2"
                },
                {
                    "szallas_nev": "Gold Hotel",
                    "SZOBA_SZAMA": "7",
                    "METTOL": "2016-10-23",
                    "előző 5 foglalas átlaga főre": "1"
                },
                {
                    "szallas_nev": "Gold Hotel",
                    "SZOBA_SZAMA": "7",
                    "METTOL": "2016-11-29",
                    "előző 5 foglalas átlaga főre": "2"
                },
                {
                    "szallas_nev": "Gold Hotel",
                    "SZOBA_SZAMA": "7",
                    "METTOL": "2017-02-24",
                    "előző 5 foglalas átlaga főre": "1"
                },
                {
                    "szallas_nev": "Gold Hotel",
                    "SZOBA_SZAMA": "8",
                    "METTOL": "2016-06-24",
                    "előző 5 foglalas átlaga főre": "NULL"
                },
                {
                    "szallas_nev": "Gold Hotel",
                    "SZOBA_SZAMA": "8",
                    "METTOL": "2016-07-24",
                    "előző 5 foglalas átlaga főre": "2"
                },
                {
                    "szallas_nev": "Gold Hotel",
                    "SZOBA_SZAMA": "8",
                    "METTOL": "2016-08-02",
                    "előző 5 foglalas átlaga főre": "1"
                },
                {
                    "szallas_nev": "Gold Hotel",
                    "SZOBA_SZAMA": "8",
                    "METTOL": "2016-08-29",
                    "előző 5 foglalas átlaga főre": "2"
                },
                {
                    "szallas_nev": "Gold Hotel",
                    "SZOBA_SZAMA": "8",
                    "METTOL": "2016-10-09",
                    "előző 5 foglalas átlaga főre": "2"
                },
                {
                    "szallas_nev": "Gold Hotel",
                    "SZOBA_SZAMA": "8",
                    "METTOL": "2016-10-20",
                    "előző 5 foglalas átlaga főre": "2"
                },
                {
                    "szallas_nev": "Gold Hotel",
                    "SZOBA_SZAMA": "8",
                    "METTOL": "2016-12-02",
                    "előző 5 foglalas átlaga főre": "1"
                },
                {
                    "szallas_nev": "Gold Hotel",
                    "SZOBA_SZAMA": "8",
                    "METTOL": "2017-01-05",
                    "előző 5 foglalas átlaga főre": "1"
                },
                {
                    "szallas_nev": "Gold Hotel",
                    "SZOBA_SZAMA": "8",
                    "METTOL": "2017-02-03",
                    "előző 5 foglalas átlaga főre": "1"
                },
                {
                    "szallas_nev": "Gold Hotel",
                    "SZOBA_SZAMA": "9",
                    "METTOL": "2016-06-06",
                    "előző 5 foglalas átlaga főre": "NULL"
                },
                {
                    "szallas_nev": "Gold Hotel",
                    "SZOBA_SZAMA": "9",
                    "METTOL": "2016-07-14",
                    "előző 5 foglalas átlaga főre": "2"
                },
                {
                    "szallas_nev": "Gold Hotel",
                    "SZOBA_SZAMA": "9",
                    "METTOL": "2016-12-06",
                    "előző 5 foglalas átlaga főre": "1"
                },
                {
                    "szallas_nev": "Gold Hotel",
                    "SZOBA_SZAMA": "9",
                    "METTOL": "2017-01-09",
                    "előző 5 foglalas átlaga főre": "1"
                },
                {
                    "szallas_nev": "Hotel Három Hattyú",
                    "SZOBA_SZAMA": "1",
                    "METTOL": "2016-05-10",
                    "előző 5 foglalas átlaga főre": "NULL"
                },
                {
                    "szallas_nev": "Hotel Három Hattyú",
                    "SZOBA_SZAMA": "1",
                    "METTOL": "2016-07-28",
                    "előző 5 foglalas átlaga főre": "2"
                },
                {
                    "szallas_nev": "Hotel Három Hattyú",
                    "SZOBA_SZAMA": "1",
                    "METTOL": "2016-10-28",
                    "előző 5 foglalas átlaga főre": "2"
                },
                {
                    "szallas_nev": "Hotel Három Hattyú",
                    "SZOBA_SZAMA": "1",
                    "METTOL": "2016-12-25",
                    "előző 5 foglalas átlaga főre": "1"
                },
                {
                    "szallas_nev": "Hotel Három Hattyú",
                    "SZOBA_SZAMA": "10",
                    "METTOL": "2016-04-23",
                    "előző 5 foglalas átlaga főre": "NULL"
                },
                {
                    "szallas_nev": "Hotel Három Hattyú",
                    "SZOBA_SZAMA": "10",
                    "METTOL": "2016-05-11",
                    "előző 5 foglalas átlaga főre": "2"
                },
                {
                    "szallas_nev": "Hotel Három Hattyú",
                    "SZOBA_SZAMA": "10",
                    "METTOL": "2016-11-24",
                    "előző 5 foglalas átlaga főre": "2"
                },
                {
                    "szallas_nev": "Hotel Három Hattyú",
                    "SZOBA_SZAMA": "10",
                    "METTOL": "2017-01-29",
                    "előző 5 foglalas átlaga főre": "2"
                },
                {
                    "szallas_nev": "Hotel Három Hattyú",
                    "SZOBA_SZAMA": "11",
                    "METTOL": "2016-07-25",
                    "előző 5 foglalas átlaga főre": "NULL"
                },
                {
                    "szallas_nev": "Hotel Három Hattyú",
                    "SZOBA_SZAMA": "11",
                    "METTOL": "2016-11-29",
                    "előző 5 foglalas átlaga főre": "2"
                },
                {
                    "szallas_nev": "Hotel Három Hattyú",
                    "SZOBA_SZAMA": "11",
                    "METTOL": "2017-02-10",
                    "előző 5 foglalas átlaga főre": "2"
                },
                {
                    "szallas_nev": "Hotel Három Hattyú",
                    "SZOBA_SZAMA": "12",
                    "METTOL": "2016-07-19",
                    "előző 5 foglalas átlaga főre": "NULL"
                },
                {
                    "szallas_nev": "Hotel Három Hattyú",
                    "SZOBA_SZAMA": "12",
                    "METTOL": "2016-12-05",
                    "előző 5 foglalas átlaga főre": "1"
                },
                {
                    "szallas_nev": "Hotel Három Hattyú",
                    "SZOBA_SZAMA": "13",
                    "METTOL": "2016-06-19",
                    "előző 5 foglalas átlaga főre": "NULL"
                },
                {
                    "szallas_nev": "Hotel Három Hattyú",
                    "SZOBA_SZAMA": "13",
                    "METTOL": "2016-06-29",
                    "előző 5 foglalas átlaga főre": "3"
                },
                {
                    "szallas_nev": "Hotel Három Hattyú",
                    "SZOBA_SZAMA": "13",
                    "METTOL": "2016-12-26",
                    "előző 5 foglalas átlaga főre": "2"
                },
                {
                    "szallas_nev": "Hotel Három Hattyú",
                    "SZOBA_SZAMA": "13",
                    "METTOL": "2017-01-30",
                    "előző 5 foglalas átlaga főre": "2"
                },
                {
                    "szallas_nev": "Hotel Három Hattyú",
                    "SZOBA_SZAMA": "14",
                    "METTOL": "2016-08-29",
                    "előző 5 foglalas átlaga főre": "NULL"
                },
                {
                    "szallas_nev": "Hotel Három Hattyú",
                    "SZOBA_SZAMA": "14",
                    "METTOL": "2016-10-22",
                    "előző 5 foglalas átlaga főre": "3"
                },
                {
                    "szallas_nev": "Hotel Három Hattyú",
                    "SZOBA_SZAMA": "14",
                    "METTOL": "2017-02-12",
                    "előző 5 foglalas átlaga főre": "3"
                },
                {
                    "szallas_nev": "Hotel Három Hattyú",
                    "SZOBA_SZAMA": "14",
                    "METTOL": "2017-02-14",
                    "előző 5 foglalas átlaga főre": "3"
                },
                {
                    "szallas_nev": "Hotel Három Hattyú",
                    "SZOBA_SZAMA": "15",
                    "METTOL": "2016-05-03",
                    "előző 5 foglalas átlaga főre": "NULL"
                },
                {
                    "szallas_nev": "Hotel Három Hattyú",
                    "SZOBA_SZAMA": "15",
                    "METTOL": "2017-02-12",
                    "előző 5 foglalas átlaga főre": "2"
                },
                {
                    "szallas_nev": "Hotel Három Hattyú",
                    "SZOBA_SZAMA": "16",
                    "METTOL": "2016-04-30",
                    "előző 5 foglalas átlaga főre": "NULL"
                },
                {
                    "szallas_nev": "Hotel Három Hattyú",
                    "SZOBA_SZAMA": "16",
                    "METTOL": "2016-07-23",
                    "előző 5 foglalas átlaga főre": "1"
                },
                {
                    "szallas_nev": "Hotel Három Hattyú",
                    "SZOBA_SZAMA": "16",
                    "METTOL": "2016-10-30",
                    "előző 5 foglalas átlaga főre": "1"
                },
                {
                    "szallas_nev": "Hotel Három Hattyú",
                    "SZOBA_SZAMA": "16",
                    "METTOL": "2016-11-10",
                    "előző 5 foglalas átlaga főre": "1"
                },
                {
                    "szallas_nev": "Hotel Három Hattyú",
                    "SZOBA_SZAMA": "16",
                    "METTOL": "2016-12-17",
                    "előző 5 foglalas átlaga főre": "1"
                },
                {
                    "szallas_nev": "Hotel Három Hattyú",
                    "SZOBA_SZAMA": "16",
                    "METTOL": "2017-02-08",
                    "előző 5 foglalas átlaga főre": "1"
                },
                {
                    "szallas_nev": "Hotel Három Hattyú",
                    "SZOBA_SZAMA": "17",
                    "METTOL": "2016-04-18",
                    "előző 5 foglalas átlaga főre": "NULL"
                },
                {
                    "szallas_nev": "Hotel Három Hattyú",
                    "SZOBA_SZAMA": "17",
                    "METTOL": "2016-11-05",
                    "előző 5 foglalas átlaga főre": "1"
                },
                {
                    "szallas_nev": "Hotel Három Hattyú",
                    "SZOBA_SZAMA": "17",
                    "METTOL": "2016-12-07",
                    "előző 5 foglalas átlaga főre": "1"
                },
                {
                    "szallas_nev": "Hotel Három Hattyú",
                    "SZOBA_SZAMA": "17",
                    "METTOL": "2017-01-17",
                    "előző 5 foglalas átlaga főre": "1"
                },
                {
                    "szallas_nev": "Hotel Három Hattyú",
                    "SZOBA_SZAMA": "17",
                    "METTOL": "2017-02-04",
                    "előző 5 foglalas átlaga főre": "2"
                },
                {
                    "szallas_nev": "Hotel Három Hattyú",
                    "SZOBA_SZAMA": "18",
                    "METTOL": "2016-10-01",
                    "előző 5 foglalas átlaga főre": "NULL"
                },
                {
                    "szallas_nev": "Hotel Három Hattyú",
                    "SZOBA_SZAMA": "18",
                    "METTOL": "2016-12-25",
                    "előző 5 foglalas átlaga főre": "1"
                },
                {
                    "szallas_nev": "Hotel Három Hattyú",
                    "SZOBA_SZAMA": "19",
                    "METTOL": "2016-05-01",
                    "előző 5 foglalas átlaga főre": "NULL"
                },
                {
                    "szallas_nev": "Hotel Három Hattyú",
                    "SZOBA_SZAMA": "19",
                    "METTOL": "2016-05-06",
                    "előző 5 foglalas átlaga főre": "3"
                },
                {
                    "szallas_nev": "Hotel Három Hattyú",
                    "SZOBA_SZAMA": "19",
                    "METTOL": "2016-05-18",
                    "előző 5 foglalas átlaga főre": "2"
                },
                {
                    "szallas_nev": "Hotel Három Hattyú",
                    "SZOBA_SZAMA": "19",
                    "METTOL": "2016-08-23",
                    "előző 5 foglalas átlaga főre": "2"
                },
                {
                    "szallas_nev": "Hotel Három Hattyú",
                    "SZOBA_SZAMA": "19",
                    "METTOL": "2016-09-27",
                    "előző 5 foglalas átlaga főre": "2"
                },
                {
                    "szallas_nev": "Hotel Három Hattyú",
                    "SZOBA_SZAMA": "19",
                    "METTOL": "2016-11-20",
                    "előző 5 foglalas átlaga főre": "2"
                },
                {
                    "szallas_nev": "Hotel Három Hattyú",
                    "SZOBA_SZAMA": "19",
                    "METTOL": "2017-02-23",
                    "előző 5 foglalas átlaga főre": "2"
                },
                {
                    "szallas_nev": "Hotel Három Hattyú",
                    "SZOBA_SZAMA": "2",
                    "METTOL": "2016-06-10",
                    "előző 5 foglalas átlaga főre": "NULL"
                },
                {
                    "szallas_nev": "Hotel Három Hattyú",
                    "SZOBA_SZAMA": "2",
                    "METTOL": "2016-07-07",
                    "előző 5 foglalas átlaga főre": "4"
                },
                {
                    "szallas_nev": "Hotel Három Hattyú",
                    "SZOBA_SZAMA": "2",
                    "METTOL": "2016-08-23",
                    "előző 5 foglalas átlaga főre": "3"
                },
                {
                    "szallas_nev": "Hotel Három Hattyú",
                    "SZOBA_SZAMA": "2",
                    "METTOL": "2016-08-31",
                    "előző 5 foglalas átlaga főre": "3"
                },
                {
                    "szallas_nev": "Hotel Három Hattyú",
                    "SZOBA_SZAMA": "2",
                    "METTOL": "2017-02-13",
                    "előző 5 foglalas átlaga főre": "3"
                },
                {
                    "szallas_nev": "Hotel Három Hattyú",
                    "SZOBA_SZAMA": "2",
                    "METTOL": "2017-02-20",
                    "előző 5 foglalas átlaga főre": "3"
                },
                {
                    "szallas_nev": "Hotel Három Hattyú",
                    "SZOBA_SZAMA": "20",
                    "METTOL": "2016-06-07",
                    "előző 5 foglalas átlaga főre": "NULL"
                },
                {
                    "szallas_nev": "Hotel Három Hattyú",
                    "SZOBA_SZAMA": "20",
                    "METTOL": "2016-06-16",
                    "előző 5 foglalas átlaga főre": "2"
                },
                {
                    "szallas_nev": "Hotel Három Hattyú",
                    "SZOBA_SZAMA": "20",
                    "METTOL": "2016-07-18",
                    "előző 5 foglalas átlaga főre": "2"
                },
                {
                    "szallas_nev": "Hotel Három Hattyú",
                    "SZOBA_SZAMA": "20",
                    "METTOL": "2016-09-10",
                    "előző 5 foglalas átlaga főre": "2"
                },
                {
                    "szallas_nev": "Hotel Három Hattyú",
                    "SZOBA_SZAMA": "20",
                    "METTOL": "2016-10-01",
                    "előző 5 foglalas átlaga főre": "2"
                },
                {
                    "szallas_nev": "Hotel Három Hattyú",
                    "SZOBA_SZAMA": "20",
                    "METTOL": "2016-10-17",
                    "előző 5 foglalas átlaga főre": "1"
                },
                {
                    "szallas_nev": "Hotel Három Hattyú",
                    "SZOBA_SZAMA": "20",
                    "METTOL": "2017-01-07",
                    "előző 5 foglalas átlaga főre": "1"
                },
                {
                    "szallas_nev": "Hotel Három Hattyú",
                    "SZOBA_SZAMA": "20",
                    "METTOL": "2017-02-02",
                    "előző 5 foglalas átlaga főre": "1"
                },
                {
                    "szallas_nev": "Hotel Három Hattyú",
                    "SZOBA_SZAMA": "21",
                    "METTOL": "2016-04-27",
                    "előző 5 foglalas átlaga főre": "NULL"
                },
                {
                    "szallas_nev": "Hotel Három Hattyú",
                    "SZOBA_SZAMA": "21",
                    "METTOL": "2016-06-14",
                    "előző 5 foglalas átlaga főre": "3"
                },
                {
                    "szallas_nev": "Hotel Három Hattyú",
                    "SZOBA_SZAMA": "21",
                    "METTOL": "2016-08-16",
                    "előző 5 foglalas átlaga főre": "2"
                },
                {
                    "szallas_nev": "Hotel Három Hattyú",
                    "SZOBA_SZAMA": "21",
                    "METTOL": "2016-11-19",
                    "előző 5 foglalas átlaga főre": "2"
                },
                {
                    "szallas_nev": "Hotel Három Hattyú",
                    "SZOBA_SZAMA": "21",
                    "METTOL": "2016-12-07",
                    "előző 5 foglalas átlaga főre": "2"
                },
                {
                    "szallas_nev": "Hotel Három Hattyú",
                    "SZOBA_SZAMA": "22",
                    "METTOL": "2016-06-06",
                    "előző 5 foglalas átlaga főre": "NULL"
                },
                {
                    "szallas_nev": "Hotel Három Hattyú",
                    "SZOBA_SZAMA": "22",
                    "METTOL": "2016-08-14",
                    "előző 5 foglalas átlaga főre": "3"
                },
                {
                    "szallas_nev": "Hotel Három Hattyú",
                    "SZOBA_SZAMA": "22",
                    "METTOL": "2016-08-20",
                    "előző 5 foglalas átlaga főre": "3"
                },
                {
                    "szallas_nev": "Hotel Három Hattyú",
                    "SZOBA_SZAMA": "22",
                    "METTOL": "2016-10-06",
                    "előző 5 foglalas átlaga főre": "3"
                },
                {
                    "szallas_nev": "Hotel Három Hattyú",
                    "SZOBA_SZAMA": "22",
                    "METTOL": "2017-02-13",
                    "előző 5 foglalas átlaga főre": "3"
                },
                {
                    "szallas_nev": "Hotel Három Hattyú",
                    "SZOBA_SZAMA": "23",
                    "METTOL": "2016-09-05",
                    "előző 5 foglalas átlaga főre": "NULL"
                },
                {
                    "szallas_nev": "Hotel Három Hattyú",
                    "SZOBA_SZAMA": "23",
                    "METTOL": "2016-09-28",
                    "előző 5 foglalas átlaga főre": "4"
                },
                {
                    "szallas_nev": "Hotel Három Hattyú",
                    "SZOBA_SZAMA": "23",
                    "METTOL": "2016-11-08",
                    "előző 5 foglalas átlaga főre": "4"
                },
                {
                    "szallas_nev": "Hotel Három Hattyú",
                    "SZOBA_SZAMA": "23",
                    "METTOL": "2017-02-04",
                    "előző 5 foglalas átlaga főre": "4"
                },
                {
                    "szallas_nev": "Hotel Három Hattyú",
                    "SZOBA_SZAMA": "23",
                    "METTOL": "2017-02-05",
                    "előző 5 foglalas átlaga főre": "4"
                },
                {
                    "szallas_nev": "Hotel Három Hattyú",
                    "SZOBA_SZAMA": "24",
                    "METTOL": "2016-06-16",
                    "előző 5 foglalas átlaga főre": "NULL"
                },
                {
                    "szallas_nev": "Hotel Három Hattyú",
                    "SZOBA_SZAMA": "24",
                    "METTOL": "2016-07-29",
                    "előző 5 foglalas átlaga főre": "2"
                },
                {
                    "szallas_nev": "Hotel Három Hattyú",
                    "SZOBA_SZAMA": "24",
                    "METTOL": "2016-08-26",
                    "előző 5 foglalas átlaga főre": "2"
                },
                {
                    "szallas_nev": "Hotel Három Hattyú",
                    "SZOBA_SZAMA": "24",
                    "METTOL": "2017-02-16",
                    "előző 5 foglalas átlaga főre": "2"
                },
                {
                    "szallas_nev": "Hotel Három Hattyú",
                    "SZOBA_SZAMA": "25",
                    "METTOL": "2016-04-23",
                    "előző 5 foglalas átlaga főre": "NULL"
                },
                {
                    "szallas_nev": "Hotel Három Hattyú",
                    "SZOBA_SZAMA": "25",
                    "METTOL": "2016-06-10",
                    "előző 5 foglalas átlaga főre": "3"
                },
                {
                    "szallas_nev": "Hotel Három Hattyú",
                    "SZOBA_SZAMA": "25",
                    "METTOL": "2016-10-04",
                    "előző 5 foglalas átlaga főre": "3"
                },
                {
                    "szallas_nev": "Hotel Három Hattyú",
                    "SZOBA_SZAMA": "25",
                    "METTOL": "2016-10-15",
                    "előző 5 foglalas átlaga főre": "3"
                },
                {
                    "szallas_nev": "Hotel Három Hattyú",
                    "SZOBA_SZAMA": "25",
                    "METTOL": "2016-12-07",
                    "előző 5 foglalas átlaga főre": "2"
                },
                {
                    "szallas_nev": "Hotel Három Hattyú",
                    "SZOBA_SZAMA": "25",
                    "METTOL": "2017-02-20",
                    "előző 5 foglalas átlaga főre": "2"
                },
                {
                    "szallas_nev": "Hotel Három Hattyú",
                    "SZOBA_SZAMA": "25",
                    "METTOL": "2017-02-24",
                    "előző 5 foglalas átlaga főre": "2"
                },
                {
                    "szallas_nev": "Hotel Három Hattyú",
                    "SZOBA_SZAMA": "26",
                    "METTOL": "2017-01-18",
                    "előző 5 foglalas átlaga főre": "NULL"
                },
                {
                    "szallas_nev": "Hotel Három Hattyú",
                    "SZOBA_SZAMA": "26",
                    "METTOL": "2017-02-05",
                    "előző 5 foglalas átlaga főre": "2"
                },
                {
                    "szallas_nev": "Hotel Három Hattyú",
                    "SZOBA_SZAMA": "27",
                    "METTOL": "2016-05-01",
                    "előző 5 foglalas átlaga főre": "NULL"
                },
                {
                    "szallas_nev": "Hotel Három Hattyú",
                    "SZOBA_SZAMA": "27",
                    "METTOL": "2016-05-02",
                    "előző 5 foglalas átlaga főre": "2"
                },
                {
                    "szallas_nev": "Hotel Három Hattyú",
                    "SZOBA_SZAMA": "27",
                    "METTOL": "2016-06-12",
                    "előző 5 foglalas átlaga főre": "2"
                },
                {
                    "szallas_nev": "Hotel Három Hattyú",
                    "SZOBA_SZAMA": "27",
                    "METTOL": "2016-06-16",
                    "előző 5 foglalas átlaga főre": "2"
                },
                {
                    "szallas_nev": "Hotel Három Hattyú",
                    "SZOBA_SZAMA": "27",
                    "METTOL": "2016-07-03",
                    "előző 5 foglalas átlaga főre": "2"
                },
                {
                    "szallas_nev": "Hotel Három Hattyú",
                    "SZOBA_SZAMA": "27",
                    "METTOL": "2016-10-26",
                    "előző 5 foglalas átlaga főre": "3"
                },
                {
                    "szallas_nev": "Hotel Három Hattyú",
                    "SZOBA_SZAMA": "27",
                    "METTOL": "2016-11-05",
                    "előző 5 foglalas átlaga főre": "3"
                },
                {
                    "szallas_nev": "Hotel Három Hattyú",
                    "SZOBA_SZAMA": "27",
                    "METTOL": "2017-01-23",
                    "előző 5 foglalas átlaga főre": "3"
                },
                {
                    "szallas_nev": "Hotel Három Hattyú",
                    "SZOBA_SZAMA": "28",
                    "METTOL": "2016-05-28",
                    "előző 5 foglalas átlaga főre": "NULL"
                },
                {
                    "szallas_nev": "Hotel Három Hattyú",
                    "SZOBA_SZAMA": "28",
                    "METTOL": "2016-06-30",
                    "előző 5 foglalas átlaga főre": "2"
                },
                {
                    "szallas_nev": "Hotel Három Hattyú",
                    "SZOBA_SZAMA": "28",
                    "METTOL": "2016-07-01",
                    "előző 5 foglalas átlaga főre": "2"
                },
                {
                    "szallas_nev": "Hotel Három Hattyú",
                    "SZOBA_SZAMA": "28",
                    "METTOL": "2016-07-26",
                    "előző 5 foglalas átlaga főre": "2"
                },
                {
                    "szallas_nev": "Hotel Három Hattyú",
                    "SZOBA_SZAMA": "28",
                    "METTOL": "2016-12-17",
                    "előző 5 foglalas átlaga főre": "2"
                },
                {
                    "szallas_nev": "Hotel Három Hattyú",
                    "SZOBA_SZAMA": "28",
                    "METTOL": "2017-01-24",
                    "előző 5 foglalas átlaga főre": "2"
                },
                {
                    "szallas_nev": "Hotel Három Hattyú",
                    "SZOBA_SZAMA": "28",
                    "METTOL": "2017-01-29",
                    "előző 5 foglalas átlaga főre": "2"
                },
                {
                    "szallas_nev": "Hotel Három Hattyú",
                    "SZOBA_SZAMA": "29",
                    "METTOL": "2016-07-12",
                    "előző 5 foglalas átlaga főre": "NULL"
                },
                {
                    "szallas_nev": "Hotel Három Hattyú",
                    "SZOBA_SZAMA": "29",
                    "METTOL": "2016-07-22",
                    "előző 5 foglalas átlaga főre": "1"
                },
                {
                    "szallas_nev": "Hotel Három Hattyú",
                    "SZOBA_SZAMA": "29",
                    "METTOL": "2016-07-27",
                    "előző 5 foglalas átlaga főre": "1"
                },
                {
                    "szallas_nev": "Hotel Három Hattyú",
                    "SZOBA_SZAMA": "29",
                    "METTOL": "2017-01-02",
                    "előző 5 foglalas átlaga főre": "1"
                },
                {
                    "szallas_nev": "Hotel Három Hattyú",
                    "SZOBA_SZAMA": "29",
                    "METTOL": "2017-02-01",
                    "előző 5 foglalas átlaga főre": "1"
                },
                {
                    "szallas_nev": "Hotel Három Hattyú",
                    "SZOBA_SZAMA": "3",
                    "METTOL": "2016-07-30",
                    "előző 5 foglalas átlaga főre": "NULL"
                },
                {
                    "szallas_nev": "Hotel Három Hattyú",
                    "SZOBA_SZAMA": "3",
                    "METTOL": "2016-10-20",
                    "előző 5 foglalas átlaga főre": "4"
                },
                {
                    "szallas_nev": "Hotel Három Hattyú",
                    "SZOBA_SZAMA": "3",
                    "METTOL": "2016-10-29",
                    "előző 5 foglalas átlaga főre": "2"
                },
                {
                    "szallas_nev": "Hotel Három Hattyú",
                    "SZOBA_SZAMA": "3",
                    "METTOL": "2016-12-08",
                    "előző 5 foglalas átlaga főre": "3"
                },
                {
                    "szallas_nev": "Hotel Három Hattyú",
                    "SZOBA_SZAMA": "3",
                    "METTOL": "2016-12-25",
                    "előző 5 foglalas átlaga főre": "3"
                },
                {
                    "szallas_nev": "Hotel Három Hattyú",
                    "SZOBA_SZAMA": "30",
                    "METTOL": "2016-07-01",
                    "előző 5 foglalas átlaga főre": "NULL"
                },
                {
                    "szallas_nev": "Hotel Három Hattyú",
                    "SZOBA_SZAMA": "30",
                    "METTOL": "2016-08-07",
                    "előző 5 foglalas átlaga főre": "4"
                },
                {
                    "szallas_nev": "Hotel Három Hattyú",
                    "SZOBA_SZAMA": "30",
                    "METTOL": "2016-09-30",
                    "előző 5 foglalas átlaga főre": "3"
                },
                {
                    "szallas_nev": "Hotel Három Hattyú",
                    "SZOBA_SZAMA": "30",
                    "METTOL": "2016-12-03",
                    "előző 5 foglalas átlaga főre": "3"
                },
                {
                    "szallas_nev": "Hotel Három Hattyú",
                    "SZOBA_SZAMA": "30",
                    "METTOL": "2017-01-30",
                    "előző 5 foglalas átlaga főre": "2"
                },
                {
                    "szallas_nev": "Hotel Három Hattyú",
                    "SZOBA_SZAMA": "30",
                    "METTOL": "2017-02-04",
                    "előző 5 foglalas átlaga főre": "2"
                },
                {
                    "szallas_nev": "Hotel Három Hattyú",
                    "SZOBA_SZAMA": "31",
                    "METTOL": "2016-05-25",
                    "előző 5 foglalas átlaga főre": "NULL"
                },
                {
                    "szallas_nev": "Hotel Három Hattyú",
                    "SZOBA_SZAMA": "31",
                    "METTOL": "2016-07-28",
                    "előző 5 foglalas átlaga főre": "1"
                },
                {
                    "szallas_nev": "Hotel Három Hattyú",
                    "SZOBA_SZAMA": "31",
                    "METTOL": "2016-07-30",
                    "előző 5 foglalas átlaga főre": "1"
                },
                {
                    "szallas_nev": "Hotel Három Hattyú",
                    "SZOBA_SZAMA": "31",
                    "METTOL": "2016-09-13",
                    "előző 5 foglalas átlaga főre": "1"
                },
                {
                    "szallas_nev": "Hotel Három Hattyú",
                    "SZOBA_SZAMA": "31",
                    "METTOL": "2016-10-08",
                    "előző 5 foglalas átlaga főre": "1"
                },
                {
                    "szallas_nev": "Hotel Három Hattyú",
                    "SZOBA_SZAMA": "31",
                    "METTOL": "2016-10-29",
                    "előző 5 foglalas átlaga főre": "2"
                },
                {
                    "szallas_nev": "Hotel Három Hattyú",
                    "SZOBA_SZAMA": "31",
                    "METTOL": "2016-12-17",
                    "előző 5 foglalas átlaga főre": "2"
                },
                {
                    "szallas_nev": "Hotel Három Hattyú",
                    "SZOBA_SZAMA": "31",
                    "METTOL": "2016-12-25",
                    "előző 5 foglalas átlaga főre": "2"
                },
                {
                    "szallas_nev": "Hotel Három Hattyú",
                    "SZOBA_SZAMA": "32",
                    "METTOL": "2016-07-04",
                    "előző 5 foglalas átlaga főre": "NULL"
                },
                {
                    "szallas_nev": "Hotel Három Hattyú",
                    "SZOBA_SZAMA": "32",
                    "METTOL": "2016-09-08",
                    "előző 5 foglalas átlaga főre": "3"
                },
                {
                    "szallas_nev": "Hotel Három Hattyú",
                    "SZOBA_SZAMA": "32",
                    "METTOL": "2016-09-17",
                    "előző 5 foglalas átlaga főre": "3"
                },
                {
                    "szallas_nev": "Hotel Három Hattyú",
                    "SZOBA_SZAMA": "32",
                    "METTOL": "2016-10-19",
                    "előző 5 foglalas átlaga főre": "3"
                },
                {
                    "szallas_nev": "Hotel Három Hattyú",
                    "SZOBA_SZAMA": "32",
                    "METTOL": "2016-10-28",
                    "előző 5 foglalas átlaga főre": "3"
                },
                {
                    "szallas_nev": "Hotel Három Hattyú",
                    "SZOBA_SZAMA": "32",
                    "METTOL": "2016-11-04",
                    "előző 5 foglalas átlaga főre": "3"
                },
                {
                    "szallas_nev": "Hotel Három Hattyú",
                    "SZOBA_SZAMA": "32",
                    "METTOL": "2016-12-02",
                    "előző 5 foglalas átlaga főre": "3"
                },
                {
                    "szallas_nev": "Hotel Három Hattyú",
                    "SZOBA_SZAMA": "32",
                    "METTOL": "2016-12-23",
                    "előző 5 foglalas átlaga főre": "3"
                },
                {
                    "szallas_nev": "Hotel Három Hattyú",
                    "SZOBA_SZAMA": "32",
                    "METTOL": "2017-01-15",
                    "előző 5 foglalas átlaga főre": "3"
                },
                {
                    "szallas_nev": "Hotel Három Hattyú",
                    "SZOBA_SZAMA": "33",
                    "METTOL": "2016-04-19",
                    "előző 5 foglalas átlaga főre": "NULL"
                },
                {
                    "szallas_nev": "Hotel Három Hattyú",
                    "SZOBA_SZAMA": "33",
                    "METTOL": "2016-06-07",
                    "előző 5 foglalas átlaga főre": "1"
                },
                {
                    "szallas_nev": "Hotel Három Hattyú",
                    "SZOBA_SZAMA": "33",
                    "METTOL": "2016-06-16",
                    "előző 5 foglalas átlaga főre": "1"
                },
                {
                    "szallas_nev": "Hotel Három Hattyú",
                    "SZOBA_SZAMA": "33",
                    "METTOL": "2016-10-30",
                    "előző 5 foglalas átlaga főre": "1"
                },
                {
                    "szallas_nev": "Hotel Három Hattyú",
                    "SZOBA_SZAMA": "33",
                    "METTOL": "2016-11-15",
                    "előző 5 foglalas átlaga főre": "2"
                },
                {
                    "szallas_nev": "Hotel Három Hattyú",
                    "SZOBA_SZAMA": "34",
                    "METTOL": "2016-05-27",
                    "előző 5 foglalas átlaga főre": "NULL"
                },
                {
                    "szallas_nev": "Hotel Három Hattyú",
                    "SZOBA_SZAMA": "34",
                    "METTOL": "2016-10-28",
                    "előző 5 foglalas átlaga főre": "3"
                },
                {
                    "szallas_nev": "Hotel Három Hattyú",
                    "SZOBA_SZAMA": "34",
                    "METTOL": "2016-11-29",
                    "előző 5 foglalas átlaga főre": "3"
                },
                {
                    "szallas_nev": "Hotel Három Hattyú",
                    "SZOBA_SZAMA": "34",
                    "METTOL": "2016-12-29",
                    "előző 5 foglalas átlaga főre": "3"
                },
                {
                    "szallas_nev": "Hotel Három Hattyú",
                    "SZOBA_SZAMA": "34",
                    "METTOL": "2017-01-05",
                    "előző 5 foglalas átlaga főre": "2"
                },
                {
                    "szallas_nev": "Hotel Három Hattyú",
                    "SZOBA_SZAMA": "34",
                    "METTOL": "2017-02-13",
                    "előző 5 foglalas átlaga főre": "2"
                },
                {
                    "szallas_nev": "Hotel Három Hattyú",
                    "SZOBA_SZAMA": "35",
                    "METTOL": "2016-04-11",
                    "előző 5 foglalas átlaga főre": "NULL"
                },
                {
                    "szallas_nev": "Hotel Három Hattyú",
                    "SZOBA_SZAMA": "36",
                    "METTOL": "2016-08-04",
                    "előző 5 foglalas átlaga főre": "NULL"
                },
                {
                    "szallas_nev": "Hotel Három Hattyú",
                    "SZOBA_SZAMA": "36",
                    "METTOL": "2016-08-21",
                    "előző 5 foglalas átlaga főre": "3"
                },
                {
                    "szallas_nev": "Hotel Három Hattyú",
                    "SZOBA_SZAMA": "36",
                    "METTOL": "2016-10-08",
                    "előző 5 foglalas átlaga főre": "2"
                },
                {
                    "szallas_nev": "Hotel Három Hattyú",
                    "SZOBA_SZAMA": "36",
                    "METTOL": "2016-12-15",
                    "előző 5 foglalas átlaga főre": "2"
                },
                {
                    "szallas_nev": "Hotel Három Hattyú",
                    "SZOBA_SZAMA": "36",
                    "METTOL": "2017-01-09",
                    "előző 5 foglalas átlaga főre": "2"
                },
                {
                    "szallas_nev": "Hotel Három Hattyú",
                    "SZOBA_SZAMA": "36",
                    "METTOL": "2017-02-05",
                    "előző 5 foglalas átlaga főre": "1"
                },
                {
                    "szallas_nev": "Hotel Három Hattyú",
                    "SZOBA_SZAMA": "37",
                    "METTOL": "2016-05-14",
                    "előző 5 foglalas átlaga főre": "NULL"
                },
                {
                    "szallas_nev": "Hotel Három Hattyú",
                    "SZOBA_SZAMA": "37",
                    "METTOL": "2016-05-24",
                    "előző 5 foglalas átlaga főre": "2"
                },
                {
                    "szallas_nev": "Hotel Három Hattyú",
                    "SZOBA_SZAMA": "37",
                    "METTOL": "2016-05-30",
                    "előző 5 foglalas átlaga főre": "2"
                },
                {
                    "szallas_nev": "Hotel Három Hattyú",
                    "SZOBA_SZAMA": "37",
                    "METTOL": "2016-09-06",
                    "előző 5 foglalas átlaga főre": "2"
                },
                {
                    "szallas_nev": "Hotel Három Hattyú",
                    "SZOBA_SZAMA": "37",
                    "METTOL": "2016-10-30",
                    "előző 5 foglalas átlaga főre": "1"
                },
                {
                    "szallas_nev": "Hotel Három Hattyú",
                    "SZOBA_SZAMA": "37",
                    "METTOL": "2016-11-16",
                    "előző 5 foglalas átlaga főre": "2"
                },
                {
                    "szallas_nev": "Hotel Három Hattyú",
                    "SZOBA_SZAMA": "37",
                    "METTOL": "2017-02-28",
                    "előző 5 foglalas átlaga főre": "2"
                },
                {
                    "szallas_nev": "Hotel Három Hattyú",
                    "SZOBA_SZAMA": "38",
                    "METTOL": "2016-07-26",
                    "előző 5 foglalas átlaga főre": "NULL"
                },
                {
                    "szallas_nev": "Hotel Három Hattyú",
                    "SZOBA_SZAMA": "38",
                    "METTOL": "2016-08-24",
                    "előző 5 foglalas átlaga főre": "2"
                },
                {
                    "szallas_nev": "Hotel Három Hattyú",
                    "SZOBA_SZAMA": "38",
                    "METTOL": "2016-11-19",
                    "előző 5 foglalas átlaga főre": "2"
                },
                {
                    "szallas_nev": "Hotel Három Hattyú",
                    "SZOBA_SZAMA": "38",
                    "METTOL": "2017-02-26",
                    "előző 5 foglalas átlaga főre": "2"
                },
                {
                    "szallas_nev": "Hotel Három Hattyú",
                    "SZOBA_SZAMA": "38",
                    "METTOL": "2017-03-03",
                    "előző 5 foglalas átlaga főre": "2"
                },
                {
                    "szallas_nev": "Hotel Három Hattyú",
                    "SZOBA_SZAMA": "39",
                    "METTOL": "2016-07-27",
                    "előző 5 foglalas átlaga főre": "NULL"
                },
                {
                    "szallas_nev": "Hotel Három Hattyú",
                    "SZOBA_SZAMA": "39",
                    "METTOL": "2016-12-13",
                    "előző 5 foglalas átlaga főre": "2"
                },
                {
                    "szallas_nev": "Hotel Három Hattyú",
                    "SZOBA_SZAMA": "39",
                    "METTOL": "2017-01-16",
                    "előző 5 foglalas átlaga főre": "2"
                },
                {
                    "szallas_nev": "Hotel Három Hattyú",
                    "SZOBA_SZAMA": "39",
                    "METTOL": "2017-02-08",
                    "előző 5 foglalas átlaga főre": "2"
                },
                {
                    "szallas_nev": "Hotel Három Hattyú",
                    "SZOBA_SZAMA": "4",
                    "METTOL": "2016-05-02",
                    "előző 5 foglalas átlaga főre": "NULL"
                },
                {
                    "szallas_nev": "Hotel Három Hattyú",
                    "SZOBA_SZAMA": "4",
                    "METTOL": "2016-06-21",
                    "előző 5 foglalas átlaga főre": "2"
                },
                {
                    "szallas_nev": "Hotel Három Hattyú",
                    "SZOBA_SZAMA": "4",
                    "METTOL": "2016-07-13",
                    "előző 5 foglalas átlaga főre": "2"
                },
                {
                    "szallas_nev": "Hotel Három Hattyú",
                    "SZOBA_SZAMA": "4",
                    "METTOL": "2016-07-27",
                    "előző 5 foglalas átlaga főre": "2"
                },
                {
                    "szallas_nev": "Hotel Három Hattyú",
                    "SZOBA_SZAMA": "4",
                    "METTOL": "2016-11-03",
                    "előző 5 foglalas átlaga főre": "2"
                },
                {
                    "szallas_nev": "Hotel Három Hattyú",
                    "SZOBA_SZAMA": "4",
                    "METTOL": "2016-11-22",
                    "előző 5 foglalas átlaga főre": "2"
                },
                {
                    "szallas_nev": "Hotel Három Hattyú",
                    "SZOBA_SZAMA": "4",
                    "METTOL": "2016-11-23",
                    "előző 5 foglalas átlaga főre": "2"
                },
                {
                    "szallas_nev": "Hotel Három Hattyú",
                    "SZOBA_SZAMA": "4",
                    "METTOL": "2016-12-17",
                    "előző 5 foglalas átlaga főre": "1"
                },
                {
                    "szallas_nev": "Hotel Három Hattyú",
                    "SZOBA_SZAMA": "4",
                    "METTOL": "2017-02-12",
                    "előző 5 foglalas átlaga főre": "1"
                },
                {
                    "szallas_nev": "Hotel Három Hattyú",
                    "SZOBA_SZAMA": "4",
                    "METTOL": "2017-02-23",
                    "előző 5 foglalas átlaga főre": "1"
                },
                {
                    "szallas_nev": "Hotel Három Hattyú",
                    "SZOBA_SZAMA": "5",
                    "METTOL": "2016-05-19",
                    "előző 5 foglalas átlaga főre": "NULL"
                },
                {
                    "szallas_nev": "Hotel Három Hattyú",
                    "SZOBA_SZAMA": "5",
                    "METTOL": "2016-09-13",
                    "előző 5 foglalas átlaga főre": "2"
                },
                {
                    "szallas_nev": "Hotel Három Hattyú",
                    "SZOBA_SZAMA": "5",
                    "METTOL": "2016-10-01",
                    "előző 5 foglalas átlaga főre": "1"
                },
                {
                    "szallas_nev": "Hotel Három Hattyú",
                    "SZOBA_SZAMA": "5",
                    "METTOL": "2017-02-16",
                    "előző 5 foglalas átlaga főre": "2"
                },
                {
                    "szallas_nev": "Hotel Három Hattyú",
                    "SZOBA_SZAMA": "6",
                    "METTOL": "2016-04-28",
                    "előző 5 foglalas átlaga főre": "NULL"
                },
                {
                    "szallas_nev": "Hotel Három Hattyú",
                    "SZOBA_SZAMA": "6",
                    "METTOL": "2016-05-08",
                    "előző 5 foglalas átlaga főre": "3"
                },
                {
                    "szallas_nev": "Hotel Három Hattyú",
                    "SZOBA_SZAMA": "6",
                    "METTOL": "2016-07-14",
                    "előző 5 foglalas átlaga főre": "3"
                },
                {
                    "szallas_nev": "Hotel Három Hattyú",
                    "SZOBA_SZAMA": "6",
                    "METTOL": "2016-08-15",
                    "előző 5 foglalas átlaga főre": "3"
                },
                {
                    "szallas_nev": "Hotel Három Hattyú",
                    "SZOBA_SZAMA": "6",
                    "METTOL": "2016-12-18",
                    "előző 5 foglalas átlaga főre": "2"
                },
                {
                    "szallas_nev": "Hotel Három Hattyú",
                    "SZOBA_SZAMA": "6",
                    "METTOL": "2017-01-14",
                    "előző 5 foglalas átlaga főre": "2"
                },
                {
                    "szallas_nev": "Hotel Három Hattyú",
                    "SZOBA_SZAMA": "6",
                    "METTOL": "2017-02-24",
                    "előző 5 foglalas átlaga főre": "2"
                },
                {
                    "szallas_nev": "Hotel Három Hattyú",
                    "SZOBA_SZAMA": "7",
                    "METTOL": "2016-05-10",
                    "előző 5 foglalas átlaga főre": "NULL"
                },
                {
                    "szallas_nev": "Hotel Három Hattyú",
                    "SZOBA_SZAMA": "7",
                    "METTOL": "2016-07-27",
                    "előző 5 foglalas átlaga főre": "4"
                },
                {
                    "szallas_nev": "Hotel Három Hattyú",
                    "SZOBA_SZAMA": "7",
                    "METTOL": "2016-07-27",
                    "előző 5 foglalas átlaga főre": "4"
                },
                {
                    "szallas_nev": "Hotel Három Hattyú",
                    "SZOBA_SZAMA": "7",
                    "METTOL": "2016-08-29",
                    "előző 5 foglalas átlaga főre": "4"
                },
                {
                    "szallas_nev": "Hotel Három Hattyú",
                    "SZOBA_SZAMA": "7",
                    "METTOL": "2016-12-25",
                    "előző 5 foglalas átlaga főre": "3"
                },
                {
                    "szallas_nev": "Hotel Három Hattyú",
                    "SZOBA_SZAMA": "7",
                    "METTOL": "2017-01-03",
                    "előző 5 foglalas átlaga főre": "3"
                },
                {
                    "szallas_nev": "Hotel Három Hattyú",
                    "SZOBA_SZAMA": "7",
                    "METTOL": "2017-02-13",
                    "előző 5 foglalas átlaga főre": "3"
                },
                {
                    "szallas_nev": "Hotel Három Hattyú",
                    "SZOBA_SZAMA": "8",
                    "METTOL": "2016-05-09",
                    "előző 5 foglalas átlaga főre": "NULL"
                },
                {
                    "szallas_nev": "Hotel Három Hattyú",
                    "SZOBA_SZAMA": "8",
                    "METTOL": "2016-05-30",
                    "előző 5 foglalas átlaga főre": "1"
                },
                {
                    "szallas_nev": "Hotel Három Hattyú",
                    "SZOBA_SZAMA": "8",
                    "METTOL": "2016-09-13",
                    "előző 5 foglalas átlaga főre": "1"
                },
                {
                    "szallas_nev": "Hotel Három Hattyú",
                    "SZOBA_SZAMA": "8",
                    "METTOL": "2016-12-28",
                    "előző 5 foglalas átlaga főre": "1"
                },
                {
                    "szallas_nev": "Hotel Három Hattyú",
                    "SZOBA_SZAMA": "9",
                    "METTOL": "2016-05-09",
                    "előző 5 foglalas átlaga főre": "NULL"
                },
                {
                    "szallas_nev": "Hotel Három Hattyú",
                    "SZOBA_SZAMA": "9",
                    "METTOL": "2016-07-20",
                    "előző 5 foglalas átlaga főre": "2"
                },
                {
                    "szallas_nev": "Hotel Három Hattyú",
                    "SZOBA_SZAMA": "9",
                    "METTOL": "2016-09-20",
                    "előző 5 foglalas átlaga főre": "2"
                },
                {
                    "szallas_nev": "Hotel Három Hattyú",
                    "SZOBA_SZAMA": "9",
                    "METTOL": "2016-12-31",
                    "előző 5 foglalas átlaga főre": "2"
                },
                {
                    "szallas_nev": "Hotel Három Hattyú",
                    "SZOBA_SZAMA": "9",
                    "METTOL": "2017-01-31",
                    "előző 5 foglalas átlaga főre": "2"
                },
                {
                    "szallas_nev": "Jáde panzió",
                    "SZOBA_SZAMA": "1",
                    "METTOL": "2016-04-14",
                    "előző 5 foglalas átlaga főre": "NULL"
                },
                {
                    "szallas_nev": "Jáde panzió",
                    "SZOBA_SZAMA": "1",
                    "METTOL": "2016-05-01",
                    "előző 5 foglalas átlaga főre": "2"
                },
                {
                    "szallas_nev": "Jáde panzió",
                    "SZOBA_SZAMA": "1",
                    "METTOL": "2016-06-06",
                    "előző 5 foglalas átlaga főre": "2"
                },
                {
                    "szallas_nev": "Jáde panzió",
                    "SZOBA_SZAMA": "1",
                    "METTOL": "2016-08-15",
                    "előző 5 foglalas átlaga főre": "2"
                },
                {
                    "szallas_nev": "Jáde panzió",
                    "SZOBA_SZAMA": "1",
                    "METTOL": "2016-09-09",
                    "előző 5 foglalas átlaga főre": "1"
                },
                {
                    "szallas_nev": "Jáde panzió",
                    "SZOBA_SZAMA": "1",
                    "METTOL": "2017-01-26",
                    "előző 5 foglalas átlaga főre": "1"
                },
                {
                    "szallas_nev": "Jáde panzió",
                    "SZOBA_SZAMA": "2",
                    "METTOL": "2016-04-06",
                    "előző 5 foglalas átlaga főre": "NULL"
                },
                {
                    "szallas_nev": "Jáde panzió",
                    "SZOBA_SZAMA": "2",
                    "METTOL": "2016-05-18",
                    "előző 5 foglalas átlaga főre": "2"
                },
                {
                    "szallas_nev": "Jáde panzió",
                    "SZOBA_SZAMA": "2",
                    "METTOL": "2016-05-30",
                    "előző 5 foglalas átlaga főre": "2"
                },
                {
                    "szallas_nev": "Jáde panzió",
                    "SZOBA_SZAMA": "2",
                    "METTOL": "2016-08-06",
                    "előző 5 foglalas átlaga főre": "1"
                },
                {
                    "szallas_nev": "Jáde panzió",
                    "SZOBA_SZAMA": "2",
                    "METTOL": "2017-01-25",
                    "előző 5 foglalas átlaga főre": "1"
                },
                {
                    "szallas_nev": "Jáde panzió",
                    "SZOBA_SZAMA": "3",
                    "METTOL": "2016-05-04",
                    "előző 5 foglalas átlaga főre": "NULL"
                },
                {
                    "szallas_nev": "Jáde panzió",
                    "SZOBA_SZAMA": "3",
                    "METTOL": "2016-07-01",
                    "előző 5 foglalas átlaga főre": "2"
                },
                {
                    "szallas_nev": "Jáde panzió",
                    "SZOBA_SZAMA": "3",
                    "METTOL": "2016-09-30",
                    "előző 5 foglalas átlaga főre": "2"
                },
                {
                    "szallas_nev": "Jáde panzió",
                    "SZOBA_SZAMA": "3",
                    "METTOL": "2016-10-01",
                    "előző 5 foglalas átlaga főre": "2"
                },
                {
                    "szallas_nev": "Jáde panzió",
                    "SZOBA_SZAMA": "3",
                    "METTOL": "2016-11-22",
                    "előző 5 foglalas átlaga főre": "2"
                },
                {
                    "szallas_nev": "Jáde panzió",
                    "SZOBA_SZAMA": "3",
                    "METTOL": "2017-02-12",
                    "előző 5 foglalas átlaga főre": "2"
                },
                {
                    "szallas_nev": "Jáde panzió",
                    "SZOBA_SZAMA": "4",
                    "METTOL": "2016-06-06",
                    "előző 5 foglalas átlaga főre": "NULL"
                },
                {
                    "szallas_nev": "Jáde panzió",
                    "SZOBA_SZAMA": "4",
                    "METTOL": "2016-06-27",
                    "előző 5 foglalas átlaga főre": "3"
                },
                {
                    "szallas_nev": "Jáde panzió",
                    "SZOBA_SZAMA": "4",
                    "METTOL": "2016-10-12",
                    "előző 5 foglalas átlaga főre": "2"
                },
                {
                    "szallas_nev": "Jáde panzió",
                    "SZOBA_SZAMA": "4",
                    "METTOL": "2016-11-22",
                    "előző 5 foglalas átlaga főre": "2"
                },
                {
                    "szallas_nev": "Jáde panzió",
                    "SZOBA_SZAMA": "4",
                    "METTOL": "2016-12-15",
                    "előző 5 foglalas átlaga főre": "2"
                },
                {
                    "szallas_nev": "Jáde panzió",
                    "SZOBA_SZAMA": "4",
                    "METTOL": "2017-01-01",
                    "előző 5 foglalas átlaga főre": "2"
                },
                {
                    "szallas_nev": "Jáde panzió",
                    "SZOBA_SZAMA": "5",
                    "METTOL": "2016-07-03",
                    "előző 5 foglalas átlaga főre": "NULL"
                },
                {
                    "szallas_nev": "Jáde panzió",
                    "SZOBA_SZAMA": "5",
                    "METTOL": "2016-07-11",
                    "előző 5 foglalas átlaga főre": "2"
                },
                {
                    "szallas_nev": "Jáde panzió",
                    "SZOBA_SZAMA": "5",
                    "METTOL": "2016-09-12",
                    "előző 5 foglalas átlaga főre": "2"
                },
                {
                    "szallas_nev": "Jáde panzió",
                    "SZOBA_SZAMA": "5",
                    "METTOL": "2016-10-22",
                    "előző 5 foglalas átlaga főre": "2"
                },
                {
                    "szallas_nev": "Jáde panzió",
                    "SZOBA_SZAMA": "5",
                    "METTOL": "2016-10-30",
                    "előző 5 foglalas átlaga főre": "2"
                },
                {
                    "szallas_nev": "Jáde panzió",
                    "SZOBA_SZAMA": "5",
                    "METTOL": "2017-02-15",
                    "előző 5 foglalas átlaga főre": "2"
                },
                {
                    "szallas_nev": "Kentaur Hotel",
                    "SZOBA_SZAMA": "1",
                    "METTOL": "2016-08-16",
                    "előző 5 foglalas átlaga főre": "NULL"
                },
                {
                    "szallas_nev": "Kentaur Hotel",
                    "SZOBA_SZAMA": "1",
                    "METTOL": "2016-09-18",
                    "előző 5 foglalas átlaga főre": "1"
                },
                {
                    "szallas_nev": "Kentaur Hotel",
                    "SZOBA_SZAMA": "1",
                    "METTOL": "2016-10-30",
                    "előző 5 foglalas átlaga főre": "1"
                },
                {
                    "szallas_nev": "Kentaur Hotel",
                    "SZOBA_SZAMA": "1",
                    "METTOL": "2016-11-10",
                    "előző 5 foglalas átlaga főre": "1"
                },
                {
                    "szallas_nev": "Kentaur Hotel",
                    "SZOBA_SZAMA": "10",
                    "METTOL": "2016-09-25",
                    "előző 5 foglalas átlaga főre": "NULL"
                },
                {
                    "szallas_nev": "Kentaur Hotel",
                    "SZOBA_SZAMA": "10",
                    "METTOL": "2016-09-28",
                    "előző 5 foglalas átlaga főre": "3"
                },
                {
                    "szallas_nev": "Kentaur Hotel",
                    "SZOBA_SZAMA": "10",
                    "METTOL": "2016-10-20",
                    "előző 5 foglalas átlaga főre": "2"
                },
                {
                    "szallas_nev": "Kentaur Hotel",
                    "SZOBA_SZAMA": "10",
                    "METTOL": "2016-10-25",
                    "előző 5 foglalas átlaga főre": "2"
                },
                {
                    "szallas_nev": "Kentaur Hotel",
                    "SZOBA_SZAMA": "10",
                    "METTOL": "2016-11-03",
                    "előző 5 foglalas átlaga főre": "2"
                },
                {
                    "szallas_nev": "Kentaur Hotel",
                    "SZOBA_SZAMA": "10",
                    "METTOL": "2016-11-17",
                    "előző 5 foglalas átlaga főre": "2"
                },
                {
                    "szallas_nev": "Kentaur Hotel",
                    "SZOBA_SZAMA": "10",
                    "METTOL": "2017-02-26",
                    "előző 5 foglalas átlaga főre": "2"
                },
                {
                    "szallas_nev": "Kentaur Hotel",
                    "SZOBA_SZAMA": "11",
                    "METTOL": "2016-07-16",
                    "előző 5 foglalas átlaga főre": "NULL"
                },
                {
                    "szallas_nev": "Kentaur Hotel",
                    "SZOBA_SZAMA": "12",
                    "METTOL": "2016-07-21",
                    "előző 5 foglalas átlaga főre": "NULL"
                },
                {
                    "szallas_nev": "Kentaur Hotel",
                    "SZOBA_SZAMA": "12",
                    "METTOL": "2016-08-05",
                    "előző 5 foglalas átlaga főre": "2"
                },
                {
                    "szallas_nev": "Kentaur Hotel",
                    "SZOBA_SZAMA": "12",
                    "METTOL": "2016-10-11",
                    "előző 5 foglalas átlaga főre": "2"
                },
                {
                    "szallas_nev": "Kentaur Hotel",
                    "SZOBA_SZAMA": "12",
                    "METTOL": "2016-10-29",
                    "előző 5 foglalas átlaga főre": "2"
                },
                {
                    "szallas_nev": "Kentaur Hotel",
                    "SZOBA_SZAMA": "12",
                    "METTOL": "2017-02-04",
                    "előző 5 foglalas átlaga főre": "2"
                },
                {
                    "szallas_nev": "Kentaur Hotel",
                    "SZOBA_SZAMA": "13",
                    "METTOL": "2016-06-08",
                    "előző 5 foglalas átlaga főre": "NULL"
                },
                {
                    "szallas_nev": "Kentaur Hotel",
                    "SZOBA_SZAMA": "13",
                    "METTOL": "2016-06-09",
                    "előző 5 foglalas átlaga főre": "2"
                },
                {
                    "szallas_nev": "Kentaur Hotel",
                    "SZOBA_SZAMA": "13",
                    "METTOL": "2016-07-21",
                    "előző 5 foglalas átlaga főre": "2"
                },
                {
                    "szallas_nev": "Kentaur Hotel",
                    "SZOBA_SZAMA": "13",
                    "METTOL": "2016-09-26",
                    "előző 5 foglalas átlaga főre": "1"
                },
                {
                    "szallas_nev": "Kentaur Hotel",
                    "SZOBA_SZAMA": "13",
                    "METTOL": "2017-01-09",
                    "előző 5 foglalas átlaga főre": "1"
                },
                {
                    "szallas_nev": "Kentaur Hotel",
                    "SZOBA_SZAMA": "14",
                    "METTOL": "2016-05-08",
                    "előző 5 foglalas átlaga főre": "NULL"
                },
                {
                    "szallas_nev": "Kentaur Hotel",
                    "SZOBA_SZAMA": "14",
                    "METTOL": "2016-06-02",
                    "előző 5 foglalas átlaga főre": "2"
                },
                {
                    "szallas_nev": "Kentaur Hotel",
                    "SZOBA_SZAMA": "14",
                    "METTOL": "2016-08-12",
                    "előző 5 foglalas átlaga főre": "1"
                },
                {
                    "szallas_nev": "Kentaur Hotel",
                    "SZOBA_SZAMA": "14",
                    "METTOL": "2016-09-02",
                    "előző 5 foglalas átlaga főre": "1"
                },
                {
                    "szallas_nev": "Kentaur Hotel",
                    "SZOBA_SZAMA": "15",
                    "METTOL": "2016-05-30",
                    "előző 5 foglalas átlaga főre": "NULL"
                },
                {
                    "szallas_nev": "Kentaur Hotel",
                    "SZOBA_SZAMA": "15",
                    "METTOL": "2016-10-05",
                    "előző 5 foglalas átlaga főre": "2"
                },
                {
                    "szallas_nev": "Kentaur Hotel",
                    "SZOBA_SZAMA": "15",
                    "METTOL": "2016-10-31",
                    "előző 5 foglalas átlaga főre": "2"
                },
                {
                    "szallas_nev": "Kentaur Hotel",
                    "SZOBA_SZAMA": "15",
                    "METTOL": "2017-01-16",
                    "előző 5 foglalas átlaga főre": "2"
                },
                {
                    "szallas_nev": "Kentaur Hotel",
                    "SZOBA_SZAMA": "15",
                    "METTOL": "2017-01-22",
                    "előző 5 foglalas átlaga főre": "2"
                },
                {
                    "szallas_nev": "Kentaur Hotel",
                    "SZOBA_SZAMA": "15",
                    "METTOL": "2017-03-02",
                    "előző 5 foglalas átlaga főre": "2"
                },
                {
                    "szallas_nev": "Kentaur Hotel",
                    "SZOBA_SZAMA": "16",
                    "METTOL": "2016-05-17",
                    "előző 5 foglalas átlaga főre": "NULL"
                },
                {
                    "szallas_nev": "Kentaur Hotel",
                    "SZOBA_SZAMA": "17",
                    "METTOL": "2016-06-10",
                    "előző 5 foglalas átlaga főre": "NULL"
                },
                {
                    "szallas_nev": "Kentaur Hotel",
                    "SZOBA_SZAMA": "17",
                    "METTOL": "2016-07-29",
                    "előző 5 foglalas átlaga főre": "3"
                },
                {
                    "szallas_nev": "Kentaur Hotel",
                    "SZOBA_SZAMA": "17",
                    "METTOL": "2016-11-01",
                    "előző 5 foglalas átlaga főre": "3"
                },
                {
                    "szallas_nev": "Kentaur Hotel",
                    "SZOBA_SZAMA": "17",
                    "METTOL": "2016-11-08",
                    "előző 5 foglalas átlaga főre": "3"
                },
                {
                    "szallas_nev": "Kentaur Hotel",
                    "SZOBA_SZAMA": "18",
                    "METTOL": "2016-05-12",
                    "előző 5 foglalas átlaga főre": "NULL"
                },
                {
                    "szallas_nev": "Kentaur Hotel",
                    "SZOBA_SZAMA": "18",
                    "METTOL": "2016-05-14",
                    "előző 5 foglalas átlaga főre": "1"
                },
                {
                    "szallas_nev": "Kentaur Hotel",
                    "SZOBA_SZAMA": "18",
                    "METTOL": "2016-05-30",
                    "előző 5 foglalas átlaga főre": "2"
                },
                {
                    "szallas_nev": "Kentaur Hotel",
                    "SZOBA_SZAMA": "18",
                    "METTOL": "2016-12-22",
                    "előző 5 foglalas átlaga főre": "2"
                },
                {
                    "szallas_nev": "Kentaur Hotel",
                    "SZOBA_SZAMA": "18",
                    "METTOL": "2017-03-01",
                    "előző 5 foglalas átlaga főre": "2"
                },
                {
                    "szallas_nev": "Kentaur Hotel",
                    "SZOBA_SZAMA": "18",
                    "METTOL": "2017-03-03",
                    "előző 5 foglalas átlaga főre": "2"
                },
                {
                    "szallas_nev": "Kentaur Hotel",
                    "SZOBA_SZAMA": "19",
                    "METTOL": "2016-04-07",
                    "előző 5 foglalas átlaga főre": "NULL"
                },
                {
                    "szallas_nev": "Kentaur Hotel",
                    "SZOBA_SZAMA": "19",
                    "METTOL": "2016-07-12",
                    "előző 5 foglalas átlaga főre": "4"
                },
                {
                    "szallas_nev": "Kentaur Hotel",
                    "SZOBA_SZAMA": "19",
                    "METTOL": "2016-11-27",
                    "előző 5 foglalas átlaga főre": "4"
                },
                {
                    "szallas_nev": "Kentaur Hotel",
                    "SZOBA_SZAMA": "2",
                    "METTOL": "2016-05-28",
                    "előző 5 foglalas átlaga főre": "NULL"
                },
                {
                    "szallas_nev": "Kentaur Hotel",
                    "SZOBA_SZAMA": "2",
                    "METTOL": "2016-08-23",
                    "előző 5 foglalas átlaga főre": "2"
                },
                {
                    "szallas_nev": "Kentaur Hotel",
                    "SZOBA_SZAMA": "2",
                    "METTOL": "2016-10-19",
                    "előző 5 foglalas átlaga főre": "2"
                },
                {
                    "szallas_nev": "Kentaur Hotel",
                    "SZOBA_SZAMA": "2",
                    "METTOL": "2017-01-28",
                    "előző 5 foglalas átlaga főre": "2"
                },
                {
                    "szallas_nev": "Kentaur Hotel",
                    "SZOBA_SZAMA": "2",
                    "METTOL": "2017-02-18",
                    "előző 5 foglalas átlaga főre": "2"
                },
                {
                    "szallas_nev": "Kentaur Hotel",
                    "SZOBA_SZAMA": "20",
                    "METTOL": "2016-05-31",
                    "előző 5 foglalas átlaga főre": "NULL"
                },
                {
                    "szallas_nev": "Kentaur Hotel",
                    "SZOBA_SZAMA": "20",
                    "METTOL": "2016-09-15",
                    "előző 5 foglalas átlaga főre": "3"
                },
                {
                    "szallas_nev": "Kentaur Hotel",
                    "SZOBA_SZAMA": "20",
                    "METTOL": "2016-10-30",
                    "előző 5 foglalas átlaga főre": "3"
                },
                {
                    "szallas_nev": "Kentaur Hotel",
                    "SZOBA_SZAMA": "20",
                    "METTOL": "2016-11-05",
                    "előző 5 foglalas átlaga főre": "2"
                },
                {
                    "szallas_nev": "Kentaur Hotel",
                    "SZOBA_SZAMA": "21",
                    "METTOL": "2016-04-17",
                    "előző 5 foglalas átlaga főre": "NULL"
                },
                {
                    "szallas_nev": "Kentaur Hotel",
                    "SZOBA_SZAMA": "21",
                    "METTOL": "2016-05-27",
                    "előző 5 foglalas átlaga főre": "3"
                },
                {
                    "szallas_nev": "Kentaur Hotel",
                    "SZOBA_SZAMA": "21",
                    "METTOL": "2016-07-03",
                    "előző 5 foglalas átlaga főre": "2"
                },
                {
                    "szallas_nev": "Kentaur Hotel",
                    "SZOBA_SZAMA": "21",
                    "METTOL": "2016-07-22",
                    "előző 5 foglalas átlaga főre": "1"
                },
                {
                    "szallas_nev": "Kentaur Hotel",
                    "SZOBA_SZAMA": "21",
                    "METTOL": "2016-08-24",
                    "előző 5 foglalas átlaga főre": "2"
                },
                {
                    "szallas_nev": "Kentaur Hotel",
                    "SZOBA_SZAMA": "21",
                    "METTOL": "2016-09-30",
                    "előző 5 foglalas átlaga főre": "2"
                },
                {
                    "szallas_nev": "Kentaur Hotel",
                    "SZOBA_SZAMA": "21",
                    "METTOL": "2016-10-07",
                    "előző 5 foglalas átlaga főre": "2"
                },
                {
                    "szallas_nev": "Kentaur Hotel",
                    "SZOBA_SZAMA": "21",
                    "METTOL": "2016-11-27",
                    "előző 5 foglalas átlaga főre": "2"
                },
                {
                    "szallas_nev": "Kentaur Hotel",
                    "SZOBA_SZAMA": "21",
                    "METTOL": "2016-11-30",
                    "előző 5 foglalas átlaga főre": "2"
                },
                {
                    "szallas_nev": "Kentaur Hotel",
                    "SZOBA_SZAMA": "21",
                    "METTOL": "2016-12-15",
                    "előző 5 foglalas átlaga főre": "2"
                },
                {
                    "szallas_nev": "Kentaur Hotel",
                    "SZOBA_SZAMA": "21",
                    "METTOL": "2017-01-19",
                    "előző 5 foglalas átlaga főre": "2"
                },
                {
                    "szallas_nev": "Kentaur Hotel",
                    "SZOBA_SZAMA": "22",
                    "METTOL": "2016-07-04",
                    "előző 5 foglalas átlaga főre": "NULL"
                },
                {
                    "szallas_nev": "Kentaur Hotel",
                    "SZOBA_SZAMA": "22",
                    "METTOL": "2016-07-18",
                    "előző 5 foglalas átlaga főre": "3"
                },
                {
                    "szallas_nev": "Kentaur Hotel",
                    "SZOBA_SZAMA": "22",
                    "METTOL": "2016-07-24",
                    "előző 5 foglalas átlaga főre": "2"
                },
                {
                    "szallas_nev": "Kentaur Hotel",
                    "SZOBA_SZAMA": "23",
                    "METTOL": "2016-06-04",
                    "előző 5 foglalas átlaga főre": "NULL"
                },
                {
                    "szallas_nev": "Kentaur Hotel",
                    "SZOBA_SZAMA": "23",
                    "METTOL": "2016-06-16",
                    "előző 5 foglalas átlaga főre": "2"
                },
                {
                    "szallas_nev": "Kentaur Hotel",
                    "SZOBA_SZAMA": "23",
                    "METTOL": "2016-11-25",
                    "előző 5 foglalas átlaga főre": "2"
                },
                {
                    "szallas_nev": "Kentaur Hotel",
                    "SZOBA_SZAMA": "23",
                    "METTOL": "2016-12-25",
                    "előző 5 foglalas átlaga főre": "2"
                },
                {
                    "szallas_nev": "Kentaur Hotel",
                    "SZOBA_SZAMA": "24",
                    "METTOL": "2016-07-01",
                    "előző 5 foglalas átlaga főre": "NULL"
                },
                {
                    "szallas_nev": "Kentaur Hotel",
                    "SZOBA_SZAMA": "24",
                    "METTOL": "2016-07-25",
                    "előző 5 foglalas átlaga főre": "2"
                },
                {
                    "szallas_nev": "Kentaur Hotel",
                    "SZOBA_SZAMA": "24",
                    "METTOL": "2016-10-16",
                    "előző 5 foglalas átlaga főre": "2"
                },
                {
                    "szallas_nev": "Kentaur Hotel",
                    "SZOBA_SZAMA": "24",
                    "METTOL": "2016-11-29",
                    "előző 5 foglalas átlaga főre": "2"
                },
                {
                    "szallas_nev": "Kentaur Hotel",
                    "SZOBA_SZAMA": "25",
                    "METTOL": "2016-04-22",
                    "előző 5 foglalas átlaga főre": "NULL"
                },
                {
                    "szallas_nev": "Kentaur Hotel",
                    "SZOBA_SZAMA": "25",
                    "METTOL": "2016-05-30",
                    "előző 5 foglalas átlaga főre": "2"
                },
                {
                    "szallas_nev": "Kentaur Hotel",
                    "SZOBA_SZAMA": "25",
                    "METTOL": "2016-06-09",
                    "előző 5 foglalas átlaga főre": "2"
                },
                {
                    "szallas_nev": "Kentaur Hotel",
                    "SZOBA_SZAMA": "25",
                    "METTOL": "2016-06-16",
                    "előző 5 foglalas átlaga főre": "3"
                },
                {
                    "szallas_nev": "Kentaur Hotel",
                    "SZOBA_SZAMA": "25",
                    "METTOL": "2016-08-18",
                    "előző 5 foglalas átlaga főre": "3"
                },
                {
                    "szallas_nev": "Kentaur Hotel",
                    "SZOBA_SZAMA": "25",
                    "METTOL": "2016-08-28",
                    "előző 5 foglalas átlaga főre": "3"
                },
                {
                    "szallas_nev": "Kentaur Hotel",
                    "SZOBA_SZAMA": "25",
                    "METTOL": "2016-09-03",
                    "előző 5 foglalas átlaga főre": "3"
                },
                {
                    "szallas_nev": "Kentaur Hotel",
                    "SZOBA_SZAMA": "25",
                    "METTOL": "2016-09-30",
                    "előző 5 foglalas átlaga főre": "3"
                },
                {
                    "szallas_nev": "Kentaur Hotel",
                    "SZOBA_SZAMA": "25",
                    "METTOL": "2016-10-22",
                    "előző 5 foglalas átlaga főre": "3"
                },
                {
                    "szallas_nev": "Kentaur Hotel",
                    "SZOBA_SZAMA": "26",
                    "METTOL": "2016-07-06",
                    "előző 5 foglalas átlaga főre": "NULL"
                },
                {
                    "szallas_nev": "Kentaur Hotel",
                    "SZOBA_SZAMA": "26",
                    "METTOL": "2017-01-01",
                    "előző 5 foglalas átlaga főre": "2"
                },
                {
                    "szallas_nev": "Kentaur Hotel",
                    "SZOBA_SZAMA": "26",
                    "METTOL": "2017-01-19",
                    "előző 5 foglalas átlaga főre": "2"
                },
                {
                    "szallas_nev": "Kentaur Hotel",
                    "SZOBA_SZAMA": "27",
                    "METTOL": "2016-06-22",
                    "előző 5 foglalas átlaga főre": "NULL"
                },
                {
                    "szallas_nev": "Kentaur Hotel",
                    "SZOBA_SZAMA": "27",
                    "METTOL": "2016-07-18",
                    "előző 5 foglalas átlaga főre": "1"
                },
                {
                    "szallas_nev": "Kentaur Hotel",
                    "SZOBA_SZAMA": "27",
                    "METTOL": "2017-02-21",
                    "előző 5 foglalas átlaga főre": "1"
                },
                {
                    "szallas_nev": "Kentaur Hotel",
                    "SZOBA_SZAMA": "28",
                    "METTOL": "2016-04-21",
                    "előző 5 foglalas átlaga főre": "NULL"
                },
                {
                    "szallas_nev": "Kentaur Hotel",
                    "SZOBA_SZAMA": "28",
                    "METTOL": "2016-06-23",
                    "előző 5 foglalas átlaga főre": "3"
                },
                {
                    "szallas_nev": "Kentaur Hotel",
                    "SZOBA_SZAMA": "28",
                    "METTOL": "2016-07-20",
                    "előző 5 foglalas átlaga főre": "3"
                },
                {
                    "szallas_nev": "Kentaur Hotel",
                    "SZOBA_SZAMA": "28",
                    "METTOL": "2016-10-01",
                    "előző 5 foglalas átlaga főre": "3"
                },
                {
                    "szallas_nev": "Kentaur Hotel",
                    "SZOBA_SZAMA": "28",
                    "METTOL": "2017-01-15",
                    "előző 5 foglalas átlaga főre": "3"
                },
                {
                    "szallas_nev": "Kentaur Hotel",
                    "SZOBA_SZAMA": "28",
                    "METTOL": "2017-01-22",
                    "előző 5 foglalas átlaga főre": "3"
                },
                {
                    "szallas_nev": "Kentaur Hotel",
                    "SZOBA_SZAMA": "29",
                    "METTOL": "2016-04-10",
                    "előző 5 foglalas átlaga főre": "NULL"
                },
                {
                    "szallas_nev": "Kentaur Hotel",
                    "SZOBA_SZAMA": "29",
                    "METTOL": "2016-05-14",
                    "előző 5 foglalas átlaga főre": "2"
                },
                {
                    "szallas_nev": "Kentaur Hotel",
                    "SZOBA_SZAMA": "29",
                    "METTOL": "2016-07-20",
                    "előző 5 foglalas átlaga főre": "2"
                },
                {
                    "szallas_nev": "Kentaur Hotel",
                    "SZOBA_SZAMA": "29",
                    "METTOL": "2016-11-09",
                    "előző 5 foglalas átlaga főre": "2"
                },
                {
                    "szallas_nev": "Kentaur Hotel",
                    "SZOBA_SZAMA": "29",
                    "METTOL": "2016-11-15",
                    "előző 5 foglalas átlaga főre": "2"
                },
                {
                    "szallas_nev": "Kentaur Hotel",
                    "SZOBA_SZAMA": "29",
                    "METTOL": "2017-02-27",
                    "előző 5 foglalas átlaga főre": "2"
                },
                {
                    "szallas_nev": "Kentaur Hotel",
                    "SZOBA_SZAMA": "3",
                    "METTOL": "2016-08-24",
                    "előző 5 foglalas átlaga főre": "NULL"
                },
                {
                    "szallas_nev": "Kentaur Hotel",
                    "SZOBA_SZAMA": "3",
                    "METTOL": "2016-10-26",
                    "előző 5 foglalas átlaga főre": "2"
                },
                {
                    "szallas_nev": "Kentaur Hotel",
                    "SZOBA_SZAMA": "3",
                    "METTOL": "2016-11-07",
                    "előző 5 foglalas átlaga főre": "1"
                },
                {
                    "szallas_nev": "Kentaur Hotel",
                    "SZOBA_SZAMA": "3",
                    "METTOL": "2017-01-10",
                    "előző 5 foglalas átlaga főre": "1"
                },
                {
                    "szallas_nev": "Kentaur Hotel",
                    "SZOBA_SZAMA": "3",
                    "METTOL": "2017-02-14",
                    "előző 5 foglalas átlaga főre": "1"
                },
                {
                    "szallas_nev": "Kentaur Hotel",
                    "SZOBA_SZAMA": "30",
                    "METTOL": "2016-04-16",
                    "előző 5 foglalas átlaga főre": "NULL"
                },
                {
                    "szallas_nev": "Kentaur Hotel",
                    "SZOBA_SZAMA": "30",
                    "METTOL": "2016-09-15",
                    "előző 5 foglalas átlaga főre": "3"
                },
                {
                    "szallas_nev": "Kentaur Hotel",
                    "SZOBA_SZAMA": "30",
                    "METTOL": "2016-10-30",
                    "előző 5 foglalas átlaga főre": "3"
                },
                {
                    "szallas_nev": "Kentaur Hotel",
                    "SZOBA_SZAMA": "30",
                    "METTOL": "2016-12-05",
                    "előző 5 foglalas átlaga főre": "3"
                },
                {
                    "szallas_nev": "Kentaur Hotel",
                    "SZOBA_SZAMA": "30",
                    "METTOL": "2017-01-16",
                    "előző 5 foglalas átlaga főre": "2"
                },
                {
                    "szallas_nev": "Kentaur Hotel",
                    "SZOBA_SZAMA": "31",
                    "METTOL": "2016-06-01",
                    "előző 5 foglalas átlaga főre": "NULL"
                },
                {
                    "szallas_nev": "Kentaur Hotel",
                    "SZOBA_SZAMA": "31",
                    "METTOL": "2016-06-07",
                    "előző 5 foglalas átlaga főre": "2"
                },
                {
                    "szallas_nev": "Kentaur Hotel",
                    "SZOBA_SZAMA": "31",
                    "METTOL": "2016-06-23",
                    "előző 5 foglalas átlaga főre": "2"
                },
                {
                    "szallas_nev": "Kentaur Hotel",
                    "SZOBA_SZAMA": "31",
                    "METTOL": "2016-07-13",
                    "előző 5 foglalas átlaga főre": "2"
                },
                {
                    "szallas_nev": "Kentaur Hotel",
                    "SZOBA_SZAMA": "31",
                    "METTOL": "2016-09-20",
                    "előző 5 foglalas átlaga főre": "2"
                },
                {
                    "szallas_nev": "Kentaur Hotel",
                    "SZOBA_SZAMA": "31",
                    "METTOL": "2016-11-14",
                    "előző 5 foglalas átlaga főre": "2"
                },
                {
                    "szallas_nev": "Kentaur Hotel",
                    "SZOBA_SZAMA": "31",
                    "METTOL": "2016-12-17",
                    "előző 5 foglalas átlaga főre": "2"
                },
                {
                    "szallas_nev": "Kentaur Hotel",
                    "SZOBA_SZAMA": "32",
                    "METTOL": "2016-12-16",
                    "előző 5 foglalas átlaga főre": "NULL"
                },
                {
                    "szallas_nev": "Kentaur Hotel",
                    "SZOBA_SZAMA": "32",
                    "METTOL": "2017-01-16",
                    "előző 5 foglalas átlaga főre": "1"
                },
                {
                    "szallas_nev": "Kentaur Hotel",
                    "SZOBA_SZAMA": "32",
                    "METTOL": "2017-01-22",
                    "előző 5 foglalas átlaga főre": "1"
                },
                {
                    "szallas_nev": "Kentaur Hotel",
                    "SZOBA_SZAMA": "32",
                    "METTOL": "2017-02-06",
                    "előző 5 foglalas átlaga főre": "1"
                },
                {
                    "szallas_nev": "Kentaur Hotel",
                    "SZOBA_SZAMA": "32",
                    "METTOL": "2017-02-23",
                    "előző 5 foglalas átlaga főre": "1"
                },
                {
                    "szallas_nev": "Kentaur Hotel",
                    "SZOBA_SZAMA": "33",
                    "METTOL": "2016-05-27",
                    "előző 5 foglalas átlaga főre": "NULL"
                },
                {
                    "szallas_nev": "Kentaur Hotel",
                    "SZOBA_SZAMA": "33",
                    "METTOL": "2016-05-29",
                    "előző 5 foglalas átlaga főre": "3"
                },
                {
                    "szallas_nev": "Kentaur Hotel",
                    "SZOBA_SZAMA": "33",
                    "METTOL": "2016-07-01",
                    "előző 5 foglalas átlaga főre": "3"
                },
                {
                    "szallas_nev": "Kentaur Hotel",
                    "SZOBA_SZAMA": "33",
                    "METTOL": "2016-11-12",
                    "előző 5 foglalas átlaga főre": "2"
                },
                {
                    "szallas_nev": "Kentaur Hotel",
                    "SZOBA_SZAMA": "33",
                    "METTOL": "2016-12-04",
                    "előző 5 foglalas átlaga főre": "2"
                },
                {
                    "szallas_nev": "Kentaur Hotel",
                    "SZOBA_SZAMA": "33",
                    "METTOL": "2016-12-29",
                    "előző 5 foglalas átlaga főre": "2"
                },
                {
                    "szallas_nev": "Kentaur Hotel",
                    "SZOBA_SZAMA": "34",
                    "METTOL": "2016-04-10",
                    "előző 5 foglalas átlaga főre": "NULL"
                },
                {
                    "szallas_nev": "Kentaur Hotel",
                    "SZOBA_SZAMA": "34",
                    "METTOL": "2016-05-28",
                    "előző 5 foglalas átlaga főre": "2"
                },
                {
                    "szallas_nev": "Kentaur Hotel",
                    "SZOBA_SZAMA": "34",
                    "METTOL": "2016-05-30",
                    "előző 5 foglalas átlaga főre": "2"
                },
                {
                    "szallas_nev": "Kentaur Hotel",
                    "SZOBA_SZAMA": "34",
                    "METTOL": "2016-06-30",
                    "előző 5 foglalas átlaga főre": "2"
                },
                {
                    "szallas_nev": "Kentaur Hotel",
                    "SZOBA_SZAMA": "34",
                    "METTOL": "2016-07-15",
                    "előző 5 foglalas átlaga főre": "2"
                },
                {
                    "szallas_nev": "Kentaur Hotel",
                    "SZOBA_SZAMA": "34",
                    "METTOL": "2016-08-18",
                    "előző 5 foglalas átlaga főre": "2"
                },
                {
                    "szallas_nev": "Kentaur Hotel",
                    "SZOBA_SZAMA": "34",
                    "METTOL": "2016-10-04",
                    "előző 5 foglalas átlaga főre": "2"
                },
                {
                    "szallas_nev": "Kentaur Hotel",
                    "SZOBA_SZAMA": "34",
                    "METTOL": "2016-12-19",
                    "előző 5 foglalas átlaga főre": "2"
                },
                {
                    "szallas_nev": "Kentaur Hotel",
                    "SZOBA_SZAMA": "35",
                    "METTOL": "2016-06-13",
                    "előző 5 foglalas átlaga főre": "NULL"
                },
                {
                    "szallas_nev": "Kentaur Hotel",
                    "SZOBA_SZAMA": "35",
                    "METTOL": "2016-08-24",
                    "előző 5 foglalas átlaga főre": "1"
                },
                {
                    "szallas_nev": "Kentaur Hotel",
                    "SZOBA_SZAMA": "35",
                    "METTOL": "2016-12-17",
                    "előző 5 foglalas átlaga főre": "1"
                },
                {
                    "szallas_nev": "Kentaur Hotel",
                    "SZOBA_SZAMA": "35",
                    "METTOL": "2016-12-22",
                    "előző 5 foglalas átlaga főre": "2"
                },
                {
                    "szallas_nev": "Kentaur Hotel",
                    "SZOBA_SZAMA": "4",
                    "METTOL": "2016-05-24",
                    "előző 5 foglalas átlaga főre": "NULL"
                },
                {
                    "szallas_nev": "Kentaur Hotel",
                    "SZOBA_SZAMA": "4",
                    "METTOL": "2016-06-26",
                    "előző 5 foglalas átlaga főre": "3"
                },
                {
                    "szallas_nev": "Kentaur Hotel",
                    "SZOBA_SZAMA": "5",
                    "METTOL": "2016-05-07",
                    "előző 5 foglalas átlaga főre": "NULL"
                },
                {
                    "szallas_nev": "Kentaur Hotel",
                    "SZOBA_SZAMA": "5",
                    "METTOL": "2016-05-13",
                    "előző 5 foglalas átlaga főre": "2"
                },
                {
                    "szallas_nev": "Kentaur Hotel",
                    "SZOBA_SZAMA": "5",
                    "METTOL": "2016-06-02",
                    "előző 5 foglalas átlaga főre": "2"
                },
                {
                    "szallas_nev": "Kentaur Hotel",
                    "SZOBA_SZAMA": "5",
                    "METTOL": "2016-07-14",
                    "előző 5 foglalas átlaga főre": "2"
                },
                {
                    "szallas_nev": "Kentaur Hotel",
                    "SZOBA_SZAMA": "5",
                    "METTOL": "2016-09-30",
                    "előző 5 foglalas átlaga főre": "2"
                },
                {
                    "szallas_nev": "Kentaur Hotel",
                    "SZOBA_SZAMA": "5",
                    "METTOL": "2016-11-28",
                    "előző 5 foglalas átlaga főre": "2"
                },
                {
                    "szallas_nev": "Kentaur Hotel",
                    "SZOBA_SZAMA": "6",
                    "METTOL": "2016-07-28",
                    "előző 5 foglalas átlaga főre": "NULL"
                },
                {
                    "szallas_nev": "Kentaur Hotel",
                    "SZOBA_SZAMA": "6",
                    "METTOL": "2016-09-28",
                    "előző 5 foglalas átlaga főre": "3"
                },
                {
                    "szallas_nev": "Kentaur Hotel",
                    "SZOBA_SZAMA": "6",
                    "METTOL": "2016-10-17",
                    "előző 5 foglalas átlaga főre": "2"
                },
                {
                    "szallas_nev": "Kentaur Hotel",
                    "SZOBA_SZAMA": "6",
                    "METTOL": "2016-10-30",
                    "előző 5 foglalas átlaga főre": "2"
                },
                {
                    "szallas_nev": "Kentaur Hotel",
                    "SZOBA_SZAMA": "6",
                    "METTOL": "2016-11-28",
                    "előző 5 foglalas átlaga főre": "2"
                },
                {
                    "szallas_nev": "Kentaur Hotel",
                    "SZOBA_SZAMA": "6",
                    "METTOL": "2016-12-24",
                    "előző 5 foglalas átlaga főre": "2"
                },
                {
                    "szallas_nev": "Kentaur Hotel",
                    "SZOBA_SZAMA": "6",
                    "METTOL": "2017-02-08",
                    "előző 5 foglalas átlaga főre": "2"
                },
                {
                    "szallas_nev": "Kentaur Hotel",
                    "SZOBA_SZAMA": "6",
                    "METTOL": "2017-02-12",
                    "előző 5 foglalas átlaga főre": "2"
                },
                {
                    "szallas_nev": "Kentaur Hotel",
                    "SZOBA_SZAMA": "7",
                    "METTOL": "2016-06-08",
                    "előző 5 foglalas átlaga főre": "NULL"
                },
                {
                    "szallas_nev": "Kentaur Hotel",
                    "SZOBA_SZAMA": "7",
                    "METTOL": "2016-08-29",
                    "előző 5 foglalas átlaga főre": "1"
                },
                {
                    "szallas_nev": "Kentaur Hotel",
                    "SZOBA_SZAMA": "8",
                    "METTOL": "2016-12-06",
                    "előző 5 foglalas átlaga főre": "NULL"
                },
                {
                    "szallas_nev": "Kentaur Hotel",
                    "SZOBA_SZAMA": "8",
                    "METTOL": "2016-12-25",
                    "előző 5 foglalas átlaga főre": "2"
                },
                {
                    "szallas_nev": "Kentaur Hotel",
                    "SZOBA_SZAMA": "8",
                    "METTOL": "2017-01-22",
                    "előző 5 foglalas átlaga főre": "2"
                },
                {
                    "szallas_nev": "Kentaur Hotel",
                    "SZOBA_SZAMA": "8",
                    "METTOL": "2017-02-06",
                    "előző 5 foglalas átlaga főre": "1"
                },
                {
                    "szallas_nev": "Kentaur Hotel",
                    "SZOBA_SZAMA": "9",
                    "METTOL": "2016-05-30",
                    "előző 5 foglalas átlaga főre": "NULL"
                },
                {
                    "szallas_nev": "Kentaur Hotel",
                    "SZOBA_SZAMA": "9",
                    "METTOL": "2016-07-27",
                    "előző 5 foglalas átlaga főre": "2"
                },
                {
                    "szallas_nev": "Kentaur Hotel",
                    "SZOBA_SZAMA": "9",
                    "METTOL": "2016-08-12",
                    "előző 5 foglalas átlaga főre": "2"
                },
                {
                    "szallas_nev": "Kentaur Hotel",
                    "SZOBA_SZAMA": "9",
                    "METTOL": "2016-10-01",
                    "előző 5 foglalas átlaga főre": "2"
                },
                {
                    "szallas_nev": "Kentaur Hotel",
                    "SZOBA_SZAMA": "9",
                    "METTOL": "2016-10-23",
                    "előző 5 foglalas átlaga főre": "2"
                },
                {
                    "szallas_nev": "Kentaur Hotel",
                    "SZOBA_SZAMA": "9",
                    "METTOL": "2016-10-28",
                    "előző 5 foglalas átlaga főre": "2"
                },
                {
                    "szallas_nev": "Kentaur Hotel",
                    "SZOBA_SZAMA": "9",
                    "METTOL": "2016-11-06",
                    "előző 5 foglalas átlaga főre": "2"
                },
                {
                    "szallas_nev": "Kentaur Hotel",
                    "SZOBA_SZAMA": "9",
                    "METTOL": "2016-11-07",
                    "előző 5 foglalas átlaga főre": "2"
                },
                {
                    "szallas_nev": "Kentaur Hotel",
                    "SZOBA_SZAMA": "9",
                    "METTOL": "2016-11-16",
                    "előző 5 foglalas átlaga főre": "2"
                },
                {
                    "szallas_nev": "Kentaur Hotel",
                    "SZOBA_SZAMA": "9",
                    "METTOL": "2016-11-19",
                    "előző 5 foglalas átlaga főre": "2"
                },
                {
                    "szallas_nev": "Kentaur Hotel",
                    "SZOBA_SZAMA": "9",
                    "METTOL": "2016-11-23",
                    "előző 5 foglalas átlaga főre": "2"
                },
                {
                    "szallas_nev": "Kentaur Hotel",
                    "SZOBA_SZAMA": "9",
                    "METTOL": "2016-11-26",
                    "előző 5 foglalas átlaga főre": "2"
                },
                {
                    "szallas_nev": "Kentaur Hotel",
                    "SZOBA_SZAMA": "9",
                    "METTOL": "2017-01-17",
                    "előző 5 foglalas átlaga főre": "2"
                },
                {
                    "szallas_nev": "Lagúna Hotel",
                    "SZOBA_SZAMA": "1",
                    "METTOL": "2016-07-27",
                    "előző 5 foglalas átlaga főre": "NULL"
                },
                {
                    "szallas_nev": "Lagúna Hotel",
                    "SZOBA_SZAMA": "1",
                    "METTOL": "2016-09-05",
                    "előző 5 foglalas átlaga főre": "2"
                },
                {
                    "szallas_nev": "Lagúna Hotel",
                    "SZOBA_SZAMA": "1",
                    "METTOL": "2016-11-18",
                    "előző 5 foglalas átlaga főre": "2"
                },
                {
                    "szallas_nev": "Lagúna Hotel",
                    "SZOBA_SZAMA": "10",
                    "METTOL": "2016-04-15",
                    "előző 5 foglalas átlaga főre": "NULL"
                },
                {
                    "szallas_nev": "Lagúna Hotel",
                    "SZOBA_SZAMA": "10",
                    "METTOL": "2016-09-29",
                    "előző 5 foglalas átlaga főre": "3"
                },
                {
                    "szallas_nev": "Lagúna Hotel",
                    "SZOBA_SZAMA": "10",
                    "METTOL": "2016-10-26",
                    "előző 5 foglalas átlaga főre": "3"
                },
                {
                    "szallas_nev": "Lagúna Hotel",
                    "SZOBA_SZAMA": "10",
                    "METTOL": "2016-11-19",
                    "előző 5 foglalas átlaga főre": "3"
                },
                {
                    "szallas_nev": "Lagúna Hotel",
                    "SZOBA_SZAMA": "10",
                    "METTOL": "2017-02-25",
                    "előző 5 foglalas átlaga főre": "3"
                },
                {
                    "szallas_nev": "Lagúna Hotel",
                    "SZOBA_SZAMA": "11",
                    "METTOL": "2016-07-22",
                    "előző 5 foglalas átlaga főre": "NULL"
                },
                {
                    "szallas_nev": "Lagúna Hotel",
                    "SZOBA_SZAMA": "11",
                    "METTOL": "2016-09-23",
                    "előző 5 foglalas átlaga főre": "4"
                },
                {
                    "szallas_nev": "Lagúna Hotel",
                    "SZOBA_SZAMA": "11",
                    "METTOL": "2016-10-04",
                    "előző 5 foglalas átlaga főre": "3"
                },
                {
                    "szallas_nev": "Lagúna Hotel",
                    "SZOBA_SZAMA": "11",
                    "METTOL": "2016-10-09",
                    "előző 5 foglalas átlaga főre": "3"
                },
                {
                    "szallas_nev": "Lagúna Hotel",
                    "SZOBA_SZAMA": "11",
                    "METTOL": "2016-12-02",
                    "előző 5 foglalas átlaga főre": "2"
                },
                {
                    "szallas_nev": "Lagúna Hotel",
                    "SZOBA_SZAMA": "11",
                    "METTOL": "2017-01-23",
                    "előző 5 foglalas átlaga főre": "2"
                },
                {
                    "szallas_nev": "Lagúna Hotel",
                    "SZOBA_SZAMA": "12",
                    "METTOL": "2016-06-02",
                    "előző 5 foglalas átlaga főre": "NULL"
                },
                {
                    "szallas_nev": "Lagúna Hotel",
                    "SZOBA_SZAMA": "12",
                    "METTOL": "2016-07-13",
                    "előző 5 foglalas átlaga főre": "3"
                },
                {
                    "szallas_nev": "Lagúna Hotel",
                    "SZOBA_SZAMA": "12",
                    "METTOL": "2016-08-16",
                    "előző 5 foglalas átlaga főre": "2"
                },
                {
                    "szallas_nev": "Lagúna Hotel",
                    "SZOBA_SZAMA": "12",
                    "METTOL": "2016-08-20",
                    "előző 5 foglalas átlaga főre": "2"
                },
                {
                    "szallas_nev": "Lagúna Hotel",
                    "SZOBA_SZAMA": "12",
                    "METTOL": "2016-09-05",
                    "előző 5 foglalas átlaga főre": "2"
                },
                {
                    "szallas_nev": "Lagúna Hotel",
                    "SZOBA_SZAMA": "12",
                    "METTOL": "2017-01-28",
                    "előző 5 foglalas átlaga főre": "2"
                },
                {
                    "szallas_nev": "Lagúna Hotel",
                    "SZOBA_SZAMA": "13",
                    "METTOL": "2016-08-12",
                    "előző 5 foglalas átlaga főre": "NULL"
                },
                {
                    "szallas_nev": "Lagúna Hotel",
                    "SZOBA_SZAMA": "14",
                    "METTOL": "2016-07-17",
                    "előző 5 foglalas átlaga főre": "NULL"
                },
                {
                    "szallas_nev": "Lagúna Hotel",
                    "SZOBA_SZAMA": "14",
                    "METTOL": "2016-08-09",
                    "előző 5 foglalas átlaga főre": "2"
                },
                {
                    "szallas_nev": "Lagúna Hotel",
                    "SZOBA_SZAMA": "14",
                    "METTOL": "2016-08-16",
                    "előző 5 foglalas átlaga főre": "2"
                },
                {
                    "szallas_nev": "Lagúna Hotel",
                    "SZOBA_SZAMA": "14",
                    "METTOL": "2016-08-23",
                    "előző 5 foglalas átlaga főre": "2"
                },
                {
                    "szallas_nev": "Lagúna Hotel",
                    "SZOBA_SZAMA": "14",
                    "METTOL": "2016-08-23",
                    "előző 5 foglalas átlaga főre": "2"
                },
                {
                    "szallas_nev": "Lagúna Hotel",
                    "SZOBA_SZAMA": "14",
                    "METTOL": "2017-02-27",
                    "előző 5 foglalas átlaga főre": "2"
                },
                {
                    "szallas_nev": "Lagúna Hotel",
                    "SZOBA_SZAMA": "15",
                    "METTOL": "2016-04-20",
                    "előző 5 foglalas átlaga főre": "NULL"
                },
                {
                    "szallas_nev": "Lagúna Hotel",
                    "SZOBA_SZAMA": "15",
                    "METTOL": "2016-05-18",
                    "előző 5 foglalas átlaga főre": "2"
                },
                {
                    "szallas_nev": "Lagúna Hotel",
                    "SZOBA_SZAMA": "15",
                    "METTOL": "2016-08-28",
                    "előző 5 foglalas átlaga főre": "1"
                },
                {
                    "szallas_nev": "Lagúna Hotel",
                    "SZOBA_SZAMA": "15",
                    "METTOL": "2016-08-29",
                    "előző 5 foglalas átlaga főre": "1"
                },
                {
                    "szallas_nev": "Lagúna Hotel",
                    "SZOBA_SZAMA": "15",
                    "METTOL": "2016-09-01",
                    "előző 5 foglalas átlaga főre": "1"
                },
                {
                    "szallas_nev": "Lagúna Hotel",
                    "SZOBA_SZAMA": "15",
                    "METTOL": "2016-10-10",
                    "előző 5 foglalas átlaga főre": "1"
                },
                {
                    "szallas_nev": "Lagúna Hotel",
                    "SZOBA_SZAMA": "15",
                    "METTOL": "2017-02-09",
                    "előző 5 foglalas átlaga főre": "1"
                },
                {
                    "szallas_nev": "Lagúna Hotel",
                    "SZOBA_SZAMA": "16",
                    "METTOL": "2016-05-13",
                    "előző 5 foglalas átlaga főre": "NULL"
                },
                {
                    "szallas_nev": "Lagúna Hotel",
                    "SZOBA_SZAMA": "16",
                    "METTOL": "2016-10-01",
                    "előző 5 foglalas átlaga főre": "3"
                },
                {
                    "szallas_nev": "Lagúna Hotel",
                    "SZOBA_SZAMA": "16",
                    "METTOL": "2016-10-01",
                    "előző 5 foglalas átlaga főre": "3"
                },
                {
                    "szallas_nev": "Lagúna Hotel",
                    "SZOBA_SZAMA": "16",
                    "METTOL": "2016-10-22",
                    "előző 5 foglalas átlaga főre": "2"
                },
                {
                    "szallas_nev": "Lagúna Hotel",
                    "SZOBA_SZAMA": "16",
                    "METTOL": "2016-10-26",
                    "előző 5 foglalas átlaga főre": "2"
                },
                {
                    "szallas_nev": "Lagúna Hotel",
                    "SZOBA_SZAMA": "16",
                    "METTOL": "2017-01-10",
                    "előző 5 foglalas átlaga főre": "2"
                },
                {
                    "szallas_nev": "Lagúna Hotel",
                    "SZOBA_SZAMA": "17",
                    "METTOL": "2016-06-03",
                    "előző 5 foglalas átlaga főre": "NULL"
                },
                {
                    "szallas_nev": "Lagúna Hotel",
                    "SZOBA_SZAMA": "17",
                    "METTOL": "2016-09-16",
                    "előző 5 foglalas átlaga főre": "1"
                },
                {
                    "szallas_nev": "Lagúna Hotel",
                    "SZOBA_SZAMA": "17",
                    "METTOL": "2016-10-02",
                    "előző 5 foglalas átlaga főre": "1"
                },
                {
                    "szallas_nev": "Lagúna Hotel",
                    "SZOBA_SZAMA": "18",
                    "METTOL": "2016-07-28",
                    "előző 5 foglalas átlaga főre": "NULL"
                },
                {
                    "szallas_nev": "Lagúna Hotel",
                    "SZOBA_SZAMA": "18",
                    "METTOL": "2016-10-16",
                    "előző 5 foglalas átlaga főre": "2"
                },
                {
                    "szallas_nev": "Lagúna Hotel",
                    "SZOBA_SZAMA": "18",
                    "METTOL": "2016-10-26",
                    "előző 5 foglalas átlaga főre": "2"
                },
                {
                    "szallas_nev": "Lagúna Hotel",
                    "SZOBA_SZAMA": "18",
                    "METTOL": "2017-02-21",
                    "előző 5 foglalas átlaga főre": "2"
                },
                {
                    "szallas_nev": "Lagúna Hotel",
                    "SZOBA_SZAMA": "19",
                    "METTOL": "2016-04-22",
                    "előző 5 foglalas átlaga főre": "NULL"
                },
                {
                    "szallas_nev": "Lagúna Hotel",
                    "SZOBA_SZAMA": "19",
                    "METTOL": "2016-06-17",
                    "előző 5 foglalas átlaga főre": "2"
                },
                {
                    "szallas_nev": "Lagúna Hotel",
                    "SZOBA_SZAMA": "19",
                    "METTOL": "2017-01-21",
                    "előző 5 foglalas átlaga főre": "2"
                },
                {
                    "szallas_nev": "Lagúna Hotel",
                    "SZOBA_SZAMA": "19",
                    "METTOL": "2017-01-23",
                    "előző 5 foglalas átlaga főre": "2"
                },
                {
                    "szallas_nev": "Lagúna Hotel",
                    "SZOBA_SZAMA": "19",
                    "METTOL": "2017-02-07",
                    "előző 5 foglalas átlaga főre": "2"
                },
                {
                    "szallas_nev": "Lagúna Hotel",
                    "SZOBA_SZAMA": "2",
                    "METTOL": "2016-04-17",
                    "előző 5 foglalas átlaga főre": "NULL"
                },
                {
                    "szallas_nev": "Lagúna Hotel",
                    "SZOBA_SZAMA": "2",
                    "METTOL": "2016-05-21",
                    "előző 5 foglalas átlaga főre": "2"
                },
                {
                    "szallas_nev": "Lagúna Hotel",
                    "SZOBA_SZAMA": "2",
                    "METTOL": "2016-09-12",
                    "előző 5 foglalas átlaga főre": "1"
                },
                {
                    "szallas_nev": "Lagúna Hotel",
                    "SZOBA_SZAMA": "20",
                    "METTOL": "2016-06-16",
                    "előző 5 foglalas átlaga főre": "NULL"
                },
                {
                    "szallas_nev": "Lagúna Hotel",
                    "SZOBA_SZAMA": "20",
                    "METTOL": "2016-09-17",
                    "előző 5 foglalas átlaga főre": "2"
                },
                {
                    "szallas_nev": "Lagúna Hotel",
                    "SZOBA_SZAMA": "20",
                    "METTOL": "2016-10-19",
                    "előző 5 foglalas átlaga főre": "2"
                },
                {
                    "szallas_nev": "Lagúna Hotel",
                    "SZOBA_SZAMA": "20",
                    "METTOL": "2016-11-07",
                    "előző 5 foglalas átlaga főre": "2"
                },
                {
                    "szallas_nev": "Lagúna Hotel",
                    "SZOBA_SZAMA": "20",
                    "METTOL": "2017-02-16",
                    "előző 5 foglalas átlaga főre": "2"
                },
                {
                    "szallas_nev": "Lagúna Hotel",
                    "SZOBA_SZAMA": "21",
                    "METTOL": "2016-04-10",
                    "előző 5 foglalas átlaga főre": "NULL"
                },
                {
                    "szallas_nev": "Lagúna Hotel",
                    "SZOBA_SZAMA": "21",
                    "METTOL": "2016-04-12",
                    "előző 5 foglalas átlaga főre": "4"
                },
                {
                    "szallas_nev": "Lagúna Hotel",
                    "SZOBA_SZAMA": "21",
                    "METTOL": "2016-10-01",
                    "előző 5 foglalas átlaga főre": "3"
                },
                {
                    "szallas_nev": "Lagúna Hotel",
                    "SZOBA_SZAMA": "21",
                    "METTOL": "2016-11-23",
                    "előző 5 foglalas átlaga főre": "2"
                },
                {
                    "szallas_nev": "Lagúna Hotel",
                    "SZOBA_SZAMA": "21",
                    "METTOL": "2017-02-16",
                    "előző 5 foglalas átlaga főre": "3"
                },
                {
                    "szallas_nev": "Lagúna Hotel",
                    "SZOBA_SZAMA": "22",
                    "METTOL": "2016-04-19",
                    "előző 5 foglalas átlaga főre": "NULL"
                },
                {
                    "szallas_nev": "Lagúna Hotel",
                    "SZOBA_SZAMA": "22",
                    "METTOL": "2016-06-05",
                    "előző 5 foglalas átlaga főre": "4"
                },
                {
                    "szallas_nev": "Lagúna Hotel",
                    "SZOBA_SZAMA": "22",
                    "METTOL": "2016-06-13",
                    "előző 5 foglalas átlaga főre": "3"
                },
                {
                    "szallas_nev": "Lagúna Hotel",
                    "SZOBA_SZAMA": "22",
                    "METTOL": "2016-07-20",
                    "előző 5 foglalas átlaga főre": "3"
                },
                {
                    "szallas_nev": "Lagúna Hotel",
                    "SZOBA_SZAMA": "22",
                    "METTOL": "2017-01-22",
                    "előző 5 foglalas átlaga főre": "3"
                },
                {
                    "szallas_nev": "Lagúna Hotel",
                    "SZOBA_SZAMA": "22",
                    "METTOL": "2017-02-03",
                    "előző 5 foglalas átlaga főre": "3"
                },
                {
                    "szallas_nev": "Lagúna Hotel",
                    "SZOBA_SZAMA": "22",
                    "METTOL": "2017-02-23",
                    "előző 5 foglalas átlaga főre": "2"
                },
                {
                    "szallas_nev": "Lagúna Hotel",
                    "SZOBA_SZAMA": "23",
                    "METTOL": "2016-05-16",
                    "előző 5 foglalas átlaga főre": "NULL"
                },
                {
                    "szallas_nev": "Lagúna Hotel",
                    "SZOBA_SZAMA": "23",
                    "METTOL": "2016-07-12",
                    "előző 5 foglalas átlaga főre": "1"
                },
                {
                    "szallas_nev": "Lagúna Hotel",
                    "SZOBA_SZAMA": "23",
                    "METTOL": "2016-09-13",
                    "előző 5 foglalas átlaga főre": "1"
                },
                {
                    "szallas_nev": "Lagúna Hotel",
                    "SZOBA_SZAMA": "23",
                    "METTOL": "2016-11-03",
                    "előző 5 foglalas átlaga főre": "1"
                },
                {
                    "szallas_nev": "Lagúna Hotel",
                    "SZOBA_SZAMA": "23",
                    "METTOL": "2017-02-19",
                    "előző 5 foglalas átlaga főre": "1"
                },
                {
                    "szallas_nev": "Lagúna Hotel",
                    "SZOBA_SZAMA": "24",
                    "METTOL": "2016-08-25",
                    "előző 5 foglalas átlaga főre": "NULL"
                },
                {
                    "szallas_nev": "Lagúna Hotel",
                    "SZOBA_SZAMA": "24",
                    "METTOL": "2016-08-30",
                    "előző 5 foglalas átlaga főre": "3"
                },
                {
                    "szallas_nev": "Lagúna Hotel",
                    "SZOBA_SZAMA": "24",
                    "METTOL": "2016-10-03",
                    "előző 5 foglalas átlaga főre": "3"
                },
                {
                    "szallas_nev": "Lagúna Hotel",
                    "SZOBA_SZAMA": "3",
                    "METTOL": "2016-04-16",
                    "előző 5 foglalas átlaga főre": "NULL"
                },
                {
                    "szallas_nev": "Lagúna Hotel",
                    "SZOBA_SZAMA": "3",
                    "METTOL": "2016-05-17",
                    "előző 5 foglalas átlaga főre": "2"
                },
                {
                    "szallas_nev": "Lagúna Hotel",
                    "SZOBA_SZAMA": "3",
                    "METTOL": "2016-05-20",
                    "előző 5 foglalas átlaga főre": "2"
                },
                {
                    "szallas_nev": "Lagúna Hotel",
                    "SZOBA_SZAMA": "3",
                    "METTOL": "2016-07-06",
                    "előző 5 foglalas átlaga főre": "1"
                },
                {
                    "szallas_nev": "Lagúna Hotel",
                    "SZOBA_SZAMA": "3",
                    "METTOL": "2016-10-26",
                    "előző 5 foglalas átlaga főre": "1"
                },
                {
                    "szallas_nev": "Lagúna Hotel",
                    "SZOBA_SZAMA": "3",
                    "METTOL": "2016-11-15",
                    "előző 5 foglalas átlaga főre": "2"
                },
                {
                    "szallas_nev": "Lagúna Hotel",
                    "SZOBA_SZAMA": "4",
                    "METTOL": "2016-08-12",
                    "előző 5 foglalas átlaga főre": "NULL"
                },
                {
                    "szallas_nev": "Lagúna Hotel",
                    "SZOBA_SZAMA": "4",
                    "METTOL": "2016-08-17",
                    "előző 5 foglalas átlaga főre": "4"
                },
                {
                    "szallas_nev": "Lagúna Hotel",
                    "SZOBA_SZAMA": "4",
                    "METTOL": "2016-11-06",
                    "előző 5 foglalas átlaga főre": "3"
                },
                {
                    "szallas_nev": "Lagúna Hotel",
                    "SZOBA_SZAMA": "4",
                    "METTOL": "2016-11-16",
                    "előző 5 foglalas átlaga főre": "3"
                },
                {
                    "szallas_nev": "Lagúna Hotel",
                    "SZOBA_SZAMA": "4",
                    "METTOL": "2016-11-19",
                    "előző 5 foglalas átlaga főre": "3"
                },
                {
                    "szallas_nev": "Lagúna Hotel",
                    "SZOBA_SZAMA": "4",
                    "METTOL": "2016-12-11",
                    "előző 5 foglalas átlaga főre": "2"
                },
                {
                    "szallas_nev": "Lagúna Hotel",
                    "SZOBA_SZAMA": "4",
                    "METTOL": "2016-12-17",
                    "előző 5 foglalas átlaga főre": "2"
                },
                {
                    "szallas_nev": "Lagúna Hotel",
                    "SZOBA_SZAMA": "5",
                    "METTOL": "2016-04-14",
                    "előző 5 foglalas átlaga főre": "NULL"
                },
                {
                    "szallas_nev": "Lagúna Hotel",
                    "SZOBA_SZAMA": "5",
                    "METTOL": "2016-08-01",
                    "előző 5 foglalas átlaga főre": "2"
                },
                {
                    "szallas_nev": "Lagúna Hotel",
                    "SZOBA_SZAMA": "5",
                    "METTOL": "2016-08-03",
                    "előző 5 foglalas átlaga főre": "2"
                },
                {
                    "szallas_nev": "Lagúna Hotel",
                    "SZOBA_SZAMA": "5",
                    "METTOL": "2016-09-10",
                    "előző 5 foglalas átlaga főre": "2"
                },
                {
                    "szallas_nev": "Lagúna Hotel",
                    "SZOBA_SZAMA": "5",
                    "METTOL": "2016-09-18",
                    "előző 5 foglalas átlaga főre": "2"
                },
                {
                    "szallas_nev": "Lagúna Hotel",
                    "SZOBA_SZAMA": "5",
                    "METTOL": "2017-01-11",
                    "előző 5 foglalas átlaga főre": "2"
                },
                {
                    "szallas_nev": "Lagúna Hotel",
                    "SZOBA_SZAMA": "5",
                    "METTOL": "2017-01-17",
                    "előző 5 foglalas átlaga főre": "2"
                },
                {
                    "szallas_nev": "Lagúna Hotel",
                    "SZOBA_SZAMA": "6",
                    "METTOL": "2016-06-06",
                    "előző 5 foglalas átlaga főre": "NULL"
                },
                {
                    "szallas_nev": "Lagúna Hotel",
                    "SZOBA_SZAMA": "6",
                    "METTOL": "2016-07-28",
                    "előző 5 foglalas átlaga főre": "2"
                },
                {
                    "szallas_nev": "Lagúna Hotel",
                    "SZOBA_SZAMA": "6",
                    "METTOL": "2016-10-01",
                    "előző 5 foglalas átlaga főre": "1"
                },
                {
                    "szallas_nev": "Lagúna Hotel",
                    "SZOBA_SZAMA": "6",
                    "METTOL": "2016-10-15",
                    "előző 5 foglalas átlaga főre": "2"
                },
                {
                    "szallas_nev": "Lagúna Hotel",
                    "SZOBA_SZAMA": "6",
                    "METTOL": "2016-11-07",
                    "előző 5 foglalas átlaga főre": "1"
                },
                {
                    "szallas_nev": "Lagúna Hotel",
                    "SZOBA_SZAMA": "6",
                    "METTOL": "2016-12-10",
                    "előző 5 foglalas átlaga főre": "2"
                },
                {
                    "szallas_nev": "Lagúna Hotel",
                    "SZOBA_SZAMA": "6",
                    "METTOL": "2016-12-14",
                    "előző 5 foglalas átlaga főre": "2"
                },
                {
                    "szallas_nev": "Lagúna Hotel",
                    "SZOBA_SZAMA": "6",
                    "METTOL": "2016-12-17",
                    "előző 5 foglalas átlaga főre": "2"
                },
                {
                    "szallas_nev": "Lagúna Hotel",
                    "SZOBA_SZAMA": "7",
                    "METTOL": "2016-04-08",
                    "előző 5 foglalas átlaga főre": "NULL"
                },
                {
                    "szallas_nev": "Lagúna Hotel",
                    "SZOBA_SZAMA": "7",
                    "METTOL": "2016-06-05",
                    "előző 5 foglalas átlaga főre": "2"
                },
                {
                    "szallas_nev": "Lagúna Hotel",
                    "SZOBA_SZAMA": "7",
                    "METTOL": "2016-08-06",
                    "előző 5 foglalas átlaga főre": "2"
                },
                {
                    "szallas_nev": "Lagúna Hotel",
                    "SZOBA_SZAMA": "7",
                    "METTOL": "2016-08-16",
                    "előző 5 foglalas átlaga főre": "2"
                },
                {
                    "szallas_nev": "Lagúna Hotel",
                    "SZOBA_SZAMA": "7",
                    "METTOL": "2016-11-06",
                    "előző 5 foglalas átlaga főre": "2"
                },
                {
                    "szallas_nev": "Lagúna Hotel",
                    "SZOBA_SZAMA": "7",
                    "METTOL": "2016-12-27",
                    "előző 5 foglalas átlaga főre": "2"
                },
                {
                    "szallas_nev": "Lagúna Hotel",
                    "SZOBA_SZAMA": "8",
                    "METTOL": "2016-12-17",
                    "előző 5 foglalas átlaga főre": "NULL"
                },
                {
                    "szallas_nev": "Lagúna Hotel",
                    "SZOBA_SZAMA": "8",
                    "METTOL": "2017-02-17",
                    "előző 5 foglalas átlaga főre": "3"
                },
                {
                    "szallas_nev": "Lagúna Hotel",
                    "SZOBA_SZAMA": "9",
                    "METTOL": "2016-06-23",
                    "előző 5 foglalas átlaga főre": "NULL"
                },
                {
                    "szallas_nev": "Lagúna Hotel",
                    "SZOBA_SZAMA": "9",
                    "METTOL": "2016-10-15",
                    "előző 5 foglalas átlaga főre": "1"
                },
                {
                    "szallas_nev": "Lagúna Hotel",
                    "SZOBA_SZAMA": "9",
                    "METTOL": "2016-10-26",
                    "előző 5 foglalas átlaga főre": "2"
                },
                {
                    "szallas_nev": "Lagúna Hotel",
                    "SZOBA_SZAMA": "9",
                    "METTOL": "2016-10-30",
                    "előző 5 foglalas átlaga főre": "2"
                },
                {
                    "szallas_nev": "Lagúna Hotel",
                    "SZOBA_SZAMA": "9",
                    "METTOL": "2016-11-23",
                    "előző 5 foglalas átlaga főre": "2"
                },
                {
                    "szallas_nev": "Lagúna Hotel",
                    "SZOBA_SZAMA": "9",
                    "METTOL": "2016-12-25",
                    "előző 5 foglalas átlaga főre": "2"
                },
                {
                    "szallas_nev": "Lagúna Hotel",
                    "SZOBA_SZAMA": "9",
                    "METTOL": "2017-01-16",
                    "előző 5 foglalas átlaga főre": "3"
                },
                {
                    "szallas_nev": "Partiszél Vendégház",
                    "SZOBA_SZAMA": "1",
                    "METTOL": "2016-06-06",
                    "előző 5 foglalas átlaga főre": "NULL"
                },
                {
                    "szallas_nev": "Partiszél Vendégház",
                    "SZOBA_SZAMA": "1",
                    "METTOL": "2016-06-07",
                    "előző 5 foglalas átlaga főre": "4"
                },
                {
                    "szallas_nev": "Partiszél Vendégház",
                    "SZOBA_SZAMA": "1",
                    "METTOL": "2016-06-07",
                    "előző 5 foglalas átlaga főre": "3"
                },
                {
                    "szallas_nev": "Partiszél Vendégház",
                    "SZOBA_SZAMA": "1",
                    "METTOL": "2016-07-27",
                    "előző 5 foglalas átlaga főre": "3"
                },
                {
                    "szallas_nev": "Partiszél Vendégház",
                    "SZOBA_SZAMA": "1",
                    "METTOL": "2017-02-23",
                    "előző 5 foglalas átlaga főre": "3"
                },
                {
                    "szallas_nev": "Partiszél Vendégház",
                    "SZOBA_SZAMA": "2",
                    "METTOL": "2016-05-12",
                    "előző 5 foglalas átlaga főre": "NULL"
                },
                {
                    "szallas_nev": "Partiszél Vendégház",
                    "SZOBA_SZAMA": "2",
                    "METTOL": "2016-05-18",
                    "előző 5 foglalas átlaga főre": "3"
                },
                {
                    "szallas_nev": "Partiszél Vendégház",
                    "SZOBA_SZAMA": "2",
                    "METTOL": "2016-06-06",
                    "előző 5 foglalas átlaga főre": "2"
                },
                {
                    "szallas_nev": "Partiszél Vendégház",
                    "SZOBA_SZAMA": "2",
                    "METTOL": "2016-09-19",
                    "előző 5 foglalas átlaga főre": "2"
                },
                {
                    "szallas_nev": "Partiszél Vendégház",
                    "SZOBA_SZAMA": "2",
                    "METTOL": "2016-10-24",
                    "előző 5 foglalas átlaga főre": "2"
                },
                {
                    "szallas_nev": "Partiszél Vendégház",
                    "SZOBA_SZAMA": "2",
                    "METTOL": "2017-02-25",
                    "előző 5 foglalas átlaga főre": "2"
                },
                {
                    "szallas_nev": "Partiszél Vendégház",
                    "SZOBA_SZAMA": "3",
                    "METTOL": "2016-04-24",
                    "előző 5 foglalas átlaga főre": "NULL"
                },
                {
                    "szallas_nev": "Partiszél Vendégház",
                    "SZOBA_SZAMA": "3",
                    "METTOL": "2016-10-27",
                    "előző 5 foglalas átlaga főre": "3"
                },
                {
                    "szallas_nev": "Partiszél Vendégház",
                    "SZOBA_SZAMA": "3",
                    "METTOL": "2016-12-26",
                    "előző 5 foglalas átlaga főre": "3"
                },
                {
                    "szallas_nev": "Partiszél Vendégház",
                    "SZOBA_SZAMA": "4",
                    "METTOL": "2016-05-09",
                    "előző 5 foglalas átlaga főre": "NULL"
                },
                {
                    "szallas_nev": "Partiszél Vendégház",
                    "SZOBA_SZAMA": "4",
                    "METTOL": "2016-06-10",
                    "előző 5 foglalas átlaga főre": "2"
                },
                {
                    "szallas_nev": "Partiszél Vendégház",
                    "SZOBA_SZAMA": "4",
                    "METTOL": "2016-08-16",
                    "előző 5 foglalas átlaga főre": "2"
                },
                {
                    "szallas_nev": "Partiszél Vendégház",
                    "SZOBA_SZAMA": "4",
                    "METTOL": "2016-09-23",
                    "előző 5 foglalas átlaga főre": "1"
                },
                {
                    "szallas_nev": "Partiszél Vendégház",
                    "SZOBA_SZAMA": "4",
                    "METTOL": "2016-10-01",
                    "előző 5 foglalas átlaga főre": "1"
                },
                {
                    "szallas_nev": "Partiszél Vendégház",
                    "SZOBA_SZAMA": "4",
                    "METTOL": "2016-11-08",
                    "előző 5 foglalas átlaga főre": "1"
                },
                {
                    "szallas_nev": "Partiszél Vendégház",
                    "SZOBA_SZAMA": "4",
                    "METTOL": "2017-02-01",
                    "előző 5 foglalas átlaga főre": "1"
                },
                {
                    "szallas_nev": "Partiszél Vendégház",
                    "SZOBA_SZAMA": "5",
                    "METTOL": "2016-04-10",
                    "előző 5 foglalas átlaga főre": "NULL"
                },
                {
                    "szallas_nev": "Partiszél Vendégház",
                    "SZOBA_SZAMA": "5",
                    "METTOL": "2016-07-04",
                    "előző 5 foglalas átlaga főre": "2"
                },
                {
                    "szallas_nev": "Partiszél Vendégház",
                    "SZOBA_SZAMA": "5",
                    "METTOL": "2016-07-31",
                    "előző 5 foglalas átlaga főre": "2"
                },
                {
                    "szallas_nev": "Partiszél Vendégház",
                    "SZOBA_SZAMA": "5",
                    "METTOL": "2016-11-16",
                    "előző 5 foglalas átlaga főre": "2"
                },
                {
                    "szallas_nev": "Partiszél Vendégház",
                    "SZOBA_SZAMA": "5",
                    "METTOL": "2016-11-19",
                    "előző 5 foglalas átlaga főre": "2"
                },
                {
                    "szallas_nev": "Sába-Ház",
                    "SZOBA_SZAMA": "1",
                    "METTOL": "2016-05-05",
                    "előző 5 foglalas átlaga főre": "NULL"
                },
                {
                    "szallas_nev": "Sába-Ház",
                    "SZOBA_SZAMA": "1",
                    "METTOL": "2016-06-10",
                    "előző 5 foglalas átlaga főre": "1"
                },
                {
                    "szallas_nev": "Sába-Ház",
                    "SZOBA_SZAMA": "1",
                    "METTOL": "2016-07-30",
                    "előző 5 foglalas átlaga főre": "1"
                },
                {
                    "szallas_nev": "Sába-Ház",
                    "SZOBA_SZAMA": "1",
                    "METTOL": "2016-08-20",
                    "előző 5 foglalas átlaga főre": "1"
                },
                {
                    "szallas_nev": "Sába-Ház",
                    "SZOBA_SZAMA": "1",
                    "METTOL": "2016-10-09",
                    "előző 5 foglalas átlaga főre": "1"
                },
                {
                    "szallas_nev": "Sába-Ház",
                    "SZOBA_SZAMA": "1",
                    "METTOL": "2016-10-15",
                    "előző 5 foglalas átlaga főre": "1"
                },
                {
                    "szallas_nev": "Sába-Ház",
                    "SZOBA_SZAMA": "1",
                    "METTOL": "2016-11-11",
                    "előző 5 foglalas átlaga főre": "2"
                },
                {
                    "szallas_nev": "Sába-Ház",
                    "SZOBA_SZAMA": "1",
                    "METTOL": "2016-12-01",
                    "előző 5 foglalas átlaga főre": "2"
                },
                {
                    "szallas_nev": "Sába-Ház",
                    "SZOBA_SZAMA": "10",
                    "METTOL": "2016-04-10",
                    "előző 5 foglalas átlaga főre": "NULL"
                },
                {
                    "szallas_nev": "Sába-Ház",
                    "SZOBA_SZAMA": "10",
                    "METTOL": "2016-08-16",
                    "előző 5 foglalas átlaga főre": "2"
                },
                {
                    "szallas_nev": "Sába-Ház",
                    "SZOBA_SZAMA": "10",
                    "METTOL": "2016-08-17",
                    "előző 5 foglalas átlaga főre": "1"
                },
                {
                    "szallas_nev": "Sába-Ház",
                    "SZOBA_SZAMA": "10",
                    "METTOL": "2016-11-25",
                    "előző 5 foglalas átlaga főre": "2"
                },
                {
                    "szallas_nev": "Sába-Ház",
                    "SZOBA_SZAMA": "11",
                    "METTOL": "2016-06-06",
                    "előző 5 foglalas átlaga főre": "NULL"
                },
                {
                    "szallas_nev": "Sába-Ház",
                    "SZOBA_SZAMA": "11",
                    "METTOL": "2016-10-05",
                    "előző 5 foglalas átlaga főre": "3"
                },
                {
                    "szallas_nev": "Sába-Ház",
                    "SZOBA_SZAMA": "11",
                    "METTOL": "2016-11-01",
                    "előző 5 foglalas átlaga főre": "3"
                },
                {
                    "szallas_nev": "Sába-Ház",
                    "SZOBA_SZAMA": "11",
                    "METTOL": "2017-02-12",
                    "előző 5 foglalas átlaga főre": "2"
                },
                {
                    "szallas_nev": "Sába-Ház",
                    "SZOBA_SZAMA": "12",
                    "METTOL": "2016-05-30",
                    "előző 5 foglalas átlaga főre": "NULL"
                },
                {
                    "szallas_nev": "Sába-Ház",
                    "SZOBA_SZAMA": "12",
                    "METTOL": "2016-06-11",
                    "előző 5 foglalas átlaga főre": "3"
                },
                {
                    "szallas_nev": "Sába-Ház",
                    "SZOBA_SZAMA": "12",
                    "METTOL": "2016-06-17",
                    "előző 5 foglalas átlaga főre": "2"
                },
                {
                    "szallas_nev": "Sába-Ház",
                    "SZOBA_SZAMA": "12",
                    "METTOL": "2016-07-09",
                    "előző 5 foglalas átlaga főre": "2"
                },
                {
                    "szallas_nev": "Sába-Ház",
                    "SZOBA_SZAMA": "12",
                    "METTOL": "2016-07-20",
                    "előző 5 foglalas átlaga főre": "2"
                },
                {
                    "szallas_nev": "Sába-Ház",
                    "SZOBA_SZAMA": "12",
                    "METTOL": "2016-08-13",
                    "előző 5 foglalas átlaga főre": "2"
                },
                {
                    "szallas_nev": "Sába-Ház",
                    "SZOBA_SZAMA": "12",
                    "METTOL": "2016-10-09",
                    "előző 5 foglalas átlaga főre": "2"
                },
                {
                    "szallas_nev": "Sába-Ház",
                    "SZOBA_SZAMA": "12",
                    "METTOL": "2016-10-18",
                    "előző 5 foglalas átlaga főre": "2"
                },
                {
                    "szallas_nev": "Sába-Ház",
                    "SZOBA_SZAMA": "12",
                    "METTOL": "2017-01-09",
                    "előző 5 foglalas átlaga főre": "2"
                },
                {
                    "szallas_nev": "Sába-Ház",
                    "SZOBA_SZAMA": "2",
                    "METTOL": "2016-08-27",
                    "előző 5 foglalas átlaga főre": "NULL"
                },
                {
                    "szallas_nev": "Sába-Ház",
                    "SZOBA_SZAMA": "2",
                    "METTOL": "2016-09-14",
                    "előző 5 foglalas átlaga főre": "4"
                },
                {
                    "szallas_nev": "Sába-Ház",
                    "SZOBA_SZAMA": "2",
                    "METTOL": "2016-09-19",
                    "előző 5 foglalas átlaga főre": "3"
                },
                {
                    "szallas_nev": "Sába-Ház",
                    "SZOBA_SZAMA": "2",
                    "METTOL": "2016-11-23",
                    "előző 5 foglalas átlaga főre": "3"
                },
                {
                    "szallas_nev": "Sába-Ház",
                    "SZOBA_SZAMA": "3",
                    "METTOL": "2016-05-09",
                    "előző 5 foglalas átlaga főre": "NULL"
                },
                {
                    "szallas_nev": "Sába-Ház",
                    "SZOBA_SZAMA": "3",
                    "METTOL": "2016-07-13",
                    "előző 5 foglalas átlaga főre": "3"
                },
                {
                    "szallas_nev": "Sába-Ház",
                    "SZOBA_SZAMA": "3",
                    "METTOL": "2016-08-16",
                    "előző 5 foglalas átlaga főre": "3"
                },
                {
                    "szallas_nev": "Sába-Ház",
                    "SZOBA_SZAMA": "3",
                    "METTOL": "2016-09-08",
                    "előző 5 foglalas átlaga főre": "3"
                },
                {
                    "szallas_nev": "Sába-Ház",
                    "SZOBA_SZAMA": "3",
                    "METTOL": "2016-10-01",
                    "előző 5 foglalas átlaga főre": "3"
                },
                {
                    "szallas_nev": "Sába-Ház",
                    "SZOBA_SZAMA": "3",
                    "METTOL": "2016-10-14",
                    "előző 5 foglalas átlaga főre": "3"
                },
                {
                    "szallas_nev": "Sába-Ház",
                    "SZOBA_SZAMA": "3",
                    "METTOL": "2017-01-12",
                    "előző 5 foglalas átlaga főre": "3"
                },
                {
                    "szallas_nev": "Sába-Ház",
                    "SZOBA_SZAMA": "3",
                    "METTOL": "2017-02-16",
                    "előző 5 foglalas átlaga főre": "3"
                },
                {
                    "szallas_nev": "Sába-Ház",
                    "SZOBA_SZAMA": "4",
                    "METTOL": "2016-05-17",
                    "előző 5 foglalas átlaga főre": "NULL"
                },
                {
                    "szallas_nev": "Sába-Ház",
                    "SZOBA_SZAMA": "4",
                    "METTOL": "2016-06-10",
                    "előző 5 foglalas átlaga főre": "1"
                },
                {
                    "szallas_nev": "Sába-Ház",
                    "SZOBA_SZAMA": "4",
                    "METTOL": "2016-07-02",
                    "előző 5 foglalas átlaga főre": "1"
                },
                {
                    "szallas_nev": "Sába-Ház",
                    "SZOBA_SZAMA": "4",
                    "METTOL": "2016-10-07",
                    "előző 5 foglalas átlaga főre": "1"
                },
                {
                    "szallas_nev": "Sába-Ház",
                    "SZOBA_SZAMA": "4",
                    "METTOL": "2016-10-08",
                    "előző 5 foglalas átlaga főre": "1"
                },
                {
                    "szallas_nev": "Sába-Ház",
                    "SZOBA_SZAMA": "4",
                    "METTOL": "2017-02-03",
                    "előző 5 foglalas átlaga főre": "1"
                },
                {
                    "szallas_nev": "Sába-Ház",
                    "SZOBA_SZAMA": "5",
                    "METTOL": "2016-04-08",
                    "előző 5 foglalas átlaga főre": "NULL"
                },
                {
                    "szallas_nev": "Sába-Ház",
                    "SZOBA_SZAMA": "5",
                    "METTOL": "2016-06-16",
                    "előző 5 foglalas átlaga főre": "2"
                },
                {
                    "szallas_nev": "Sába-Ház",
                    "SZOBA_SZAMA": "5",
                    "METTOL": "2016-09-21",
                    "előző 5 foglalas átlaga főre": "1"
                },
                {
                    "szallas_nev": "Sába-Ház",
                    "SZOBA_SZAMA": "5",
                    "METTOL": "2016-11-07",
                    "előző 5 foglalas átlaga főre": "1"
                },
                {
                    "szallas_nev": "Sába-Ház",
                    "SZOBA_SZAMA": "6",
                    "METTOL": "2016-04-06",
                    "előző 5 foglalas átlaga főre": "NULL"
                },
                {
                    "szallas_nev": "Sába-Ház",
                    "SZOBA_SZAMA": "6",
                    "METTOL": "2016-05-29",
                    "előző 5 foglalas átlaga főre": "2"
                },
                {
                    "szallas_nev": "Sába-Ház",
                    "SZOBA_SZAMA": "6",
                    "METTOL": "2016-06-27",
                    "előző 5 foglalas átlaga főre": "2"
                },
                {
                    "szallas_nev": "Sába-Ház",
                    "SZOBA_SZAMA": "6",
                    "METTOL": "2016-08-12",
                    "előző 5 foglalas átlaga főre": "1"
                },
                {
                    "szallas_nev": "Sába-Ház",
                    "SZOBA_SZAMA": "6",
                    "METTOL": "2016-09-05",
                    "előző 5 foglalas átlaga főre": "2"
                },
                {
                    "szallas_nev": "Sába-Ház",
                    "SZOBA_SZAMA": "6",
                    "METTOL": "2016-10-01",
                    "előző 5 foglalas átlaga főre": "2"
                },
                {
                    "szallas_nev": "Sába-Ház",
                    "SZOBA_SZAMA": "7",
                    "METTOL": "2016-04-06",
                    "előző 5 foglalas átlaga főre": "NULL"
                },
                {
                    "szallas_nev": "Sába-Ház",
                    "SZOBA_SZAMA": "7",
                    "METTOL": "2016-08-06",
                    "előző 5 foglalas átlaga főre": "1"
                },
                {
                    "szallas_nev": "Sába-Ház",
                    "SZOBA_SZAMA": "7",
                    "METTOL": "2016-10-08",
                    "előző 5 foglalas átlaga főre": "1"
                },
                {
                    "szallas_nev": "Sába-Ház",
                    "SZOBA_SZAMA": "7",
                    "METTOL": "2016-10-21",
                    "előző 5 foglalas átlaga főre": "1"
                },
                {
                    "szallas_nev": "Sába-Ház",
                    "SZOBA_SZAMA": "7",
                    "METTOL": "2016-10-23",
                    "előző 5 foglalas átlaga főre": "1"
                },
                {
                    "szallas_nev": "Sába-Ház",
                    "SZOBA_SZAMA": "7",
                    "METTOL": "2016-11-05",
                    "előző 5 foglalas átlaga főre": "1"
                },
                {
                    "szallas_nev": "Sába-Ház",
                    "SZOBA_SZAMA": "8",
                    "METTOL": "2016-05-30",
                    "előző 5 foglalas átlaga főre": "NULL"
                },
                {
                    "szallas_nev": "Sába-Ház",
                    "SZOBA_SZAMA": "8",
                    "METTOL": "2016-06-10",
                    "előző 5 foglalas átlaga főre": "2"
                },
                {
                    "szallas_nev": "Sába-Ház",
                    "SZOBA_SZAMA": "8",
                    "METTOL": "2016-07-20",
                    "előző 5 foglalas átlaga főre": "2"
                },
                {
                    "szallas_nev": "Sába-Ház",
                    "SZOBA_SZAMA": "8",
                    "METTOL": "2016-08-24",
                    "előző 5 foglalas átlaga főre": "2"
                },
                {
                    "szallas_nev": "Sába-Ház",
                    "SZOBA_SZAMA": "8",
                    "METTOL": "2016-08-28",
                    "előző 5 foglalas átlaga főre": "2"
                },
                {
                    "szallas_nev": "Sába-Ház",
                    "SZOBA_SZAMA": "9",
                    "METTOL": "2016-04-29",
                    "előző 5 foglalas átlaga főre": "NULL"
                },
                {
                    "szallas_nev": "Sába-Ház",
                    "SZOBA_SZAMA": "9",
                    "METTOL": "2016-10-15",
                    "előző 5 foglalas átlaga főre": "2"
                },
                {
                    "szallas_nev": "Sába-Ház",
                    "SZOBA_SZAMA": "9",
                    "METTOL": "2016-10-30",
                    "előző 5 foglalas átlaga főre": "2"
                },
                {
                    "szallas_nev": "Sába-Ház",
                    "SZOBA_SZAMA": "9",
                    "METTOL": "2016-11-07",
                    "előző 5 foglalas átlaga főre": "3"
                },
                {
                    "szallas_nev": "Sába-Ház",
                    "SZOBA_SZAMA": "9",
                    "METTOL": "2017-01-06",
                    "előző 5 foglalas átlaga főre": "3"
                },
                {
                    "szallas_nev": "Sába-Ház",
                    "SZOBA_SZAMA": "9",
                    "METTOL": "2017-02-16",
                    "előző 5 foglalas átlaga főre": "3"
                },
                {
                    "szallas_nev": "Szieszta Apartmanház",
                    "SZOBA_SZAMA": "1",
                    "METTOL": "2016-05-15",
                    "előző 5 foglalas átlaga főre": "NULL"
                },
                {
                    "szallas_nev": "Szieszta Apartmanház",
                    "SZOBA_SZAMA": "1",
                    "METTOL": "2016-09-17",
                    "előző 5 foglalas átlaga főre": "2"
                },
                {
                    "szallas_nev": "Szieszta Apartmanház",
                    "SZOBA_SZAMA": "1",
                    "METTOL": "2016-11-25",
                    "előző 5 foglalas átlaga főre": "2"
                },
                {
                    "szallas_nev": "Szieszta Apartmanház",
                    "SZOBA_SZAMA": "1",
                    "METTOL": "2017-02-09",
                    "előző 5 foglalas átlaga főre": "2"
                },
                {
                    "szallas_nev": "Szieszta Apartmanház",
                    "SZOBA_SZAMA": "2",
                    "METTOL": "2016-05-26",
                    "előző 5 foglalas átlaga főre": "NULL"
                },
                {
                    "szallas_nev": "Szieszta Apartmanház",
                    "SZOBA_SZAMA": "2",
                    "METTOL": "2016-09-16",
                    "előző 5 foglalas átlaga főre": "3"
                },
                {
                    "szallas_nev": "Szieszta Apartmanház",
                    "SZOBA_SZAMA": "2",
                    "METTOL": "2016-09-24",
                    "előző 5 foglalas átlaga főre": "2"
                },
                {
                    "szallas_nev": "Szieszta Apartmanház",
                    "SZOBA_SZAMA": "2",
                    "METTOL": "2016-10-01",
                    "előző 5 foglalas átlaga főre": "1"
                },
                {
                    "szallas_nev": "Szieszta Apartmanház",
                    "SZOBA_SZAMA": "2",
                    "METTOL": "2017-01-17",
                    "előző 5 foglalas átlaga főre": "1"
                },
                {
                    "szallas_nev": "Szieszta Apartmanház",
                    "SZOBA_SZAMA": "3",
                    "METTOL": "2016-04-06",
                    "előző 5 foglalas átlaga főre": "NULL"
                },
                {
                    "szallas_nev": "Szieszta Apartmanház",
                    "SZOBA_SZAMA": "3",
                    "METTOL": "2016-09-02",
                    "előző 5 foglalas átlaga főre": "3"
                },
                {
                    "szallas_nev": "Szieszta Apartmanház",
                    "SZOBA_SZAMA": "3",
                    "METTOL": "2016-10-01",
                    "előző 5 foglalas átlaga főre": "3"
                },
                {
                    "szallas_nev": "Szieszta Apartmanház",
                    "SZOBA_SZAMA": "3",
                    "METTOL": "2016-12-06",
                    "előző 5 foglalas átlaga főre": "2"
                },
                {
                    "szallas_nev": "Szieszta Apartmanház",
                    "SZOBA_SZAMA": "3",
                    "METTOL": "2017-01-19",
                    "előző 5 foglalas átlaga főre": "2"
                },
                {
                    "szallas_nev": "Szieszta Apartmanház",
                    "SZOBA_SZAMA": "4",
                    "METTOL": "2016-05-28",
                    "előző 5 foglalas átlaga főre": "NULL"
                },
                {
                    "szallas_nev": "Szieszta Apartmanház",
                    "SZOBA_SZAMA": "4",
                    "METTOL": "2016-08-05",
                    "előző 5 foglalas átlaga főre": "2"
                },
                {
                    "szallas_nev": "Szieszta Apartmanház",
                    "SZOBA_SZAMA": "4",
                    "METTOL": "2016-10-26",
                    "előző 5 foglalas átlaga főre": "1"
                },
                {
                    "szallas_nev": "Szieszta Apartmanház",
                    "SZOBA_SZAMA": "4",
                    "METTOL": "2016-11-10",
                    "előző 5 foglalas átlaga főre": "2"
                },
                {
                    "szallas_nev": "Szieszta Apartmanház",
                    "SZOBA_SZAMA": "4",
                    "METTOL": "2016-11-21",
                    "előző 5 foglalas átlaga főre": "2"
                },
                {
                    "szallas_nev": "Szieszta Apartmanház",
                    "SZOBA_SZAMA": "4",
                    "METTOL": "2016-12-12",
                    "előző 5 foglalas átlaga főre": "2"
                },
                {
                    "szallas_nev": "Szieszta Apartmanház",
                    "SZOBA_SZAMA": "4",
                    "METTOL": "2017-02-18",
                    "előző 5 foglalas átlaga főre": "2"
                },
                {
                    "szallas_nev": "Szieszta Apartmanház",
                    "SZOBA_SZAMA": "4",
                    "METTOL": "2017-02-26",
                    "előző 5 foglalas átlaga főre": "3"
                },
                {
                    "szallas_nev": "Szieszta Apartmanház",
                    "SZOBA_SZAMA": "5",
                    "METTOL": "2016-08-24",
                    "előző 5 foglalas átlaga főre": "NULL"
                },
                {
                    "szallas_nev": "Szieszta Apartmanház",
                    "SZOBA_SZAMA": "5",
                    "METTOL": "2016-09-08",
                    "előző 5 foglalas átlaga főre": "3"
                },
                {
                    "szallas_nev": "Szieszta Apartmanház",
                    "SZOBA_SZAMA": "5",
                    "METTOL": "2016-10-01",
                    "előző 5 foglalas átlaga főre": "2"
                },
                {
                    "szallas_nev": "Szieszta Apartmanház",
                    "SZOBA_SZAMA": "5",
                    "METTOL": "2016-10-24",
                    "előző 5 foglalas átlaga főre": "2"
                },
                {
                    "szallas_nev": "Szieszta Apartmanház",
                    "SZOBA_SZAMA": "5",
                    "METTOL": "2016-11-05",
                    "előző 5 foglalas átlaga főre": "2"
                },
                {
                    "szallas_nev": "Szieszta Apartmanház",
                    "SZOBA_SZAMA": "5",
                    "METTOL": "2016-11-09",
                    "előző 5 foglalas átlaga főre": "2"
                },
                {
                    "szallas_nev": "Szieszta Apartmanház",
                    "SZOBA_SZAMA": "5",
                    "METTOL": "2016-12-26",
                    "előző 5 foglalas átlaga főre": "2"
                },
                {
                    "szallas_nev": "Szieszta Apartmanház",
                    "SZOBA_SZAMA": "5",
                    "METTOL": "2017-02-12",
                    "előző 5 foglalas átlaga főre": "2"
                },
                {
                    "szallas_nev": "Szieszta Apartmanház",
                    "SZOBA_SZAMA": "6",
                    "METTOL": "2016-07-28",
                    "előző 5 foglalas átlaga főre": "NULL"
                },
                {
                    "szallas_nev": "Szieszta Apartmanház",
                    "SZOBA_SZAMA": "6",
                    "METTOL": "2016-10-21",
                    "előző 5 foglalas átlaga főre": "2"
                },
                {
                    "szallas_nev": "Szieszta Apartmanház",
                    "SZOBA_SZAMA": "6",
                    "METTOL": "2016-11-21",
                    "előző 5 foglalas átlaga főre": "2"
                },
                {
                    "szallas_nev": "Szieszta Apartmanház",
                    "SZOBA_SZAMA": "6",
                    "METTOL": "2016-12-29",
                    "előző 5 foglalas átlaga főre": "2"
                }
            ]
        },
        "text/html": [
            "<table>",
            "<tr><th>szallas_nev</th><th>SZOBA_SZAMA</th><th>METTOL</th><th>előző 5 foglalas átlaga főre</th></tr>",
            "<tr><td>Családi Ház</td><td>1</td><td>2016-08-08</td><td>NULL</td></tr>",
            "<tr><td>Családi Ház</td><td>1</td><td>2016-09-12</td><td>3</td></tr>",
            "<tr><td>Családi Ház</td><td>1</td><td>2016-12-06</td><td>3</td></tr>",
            "<tr><td>Családi Ház</td><td>1</td><td>2017-01-23</td><td>3</td></tr>",
            "<tr><td>Családi Ház</td><td>2</td><td>2016-05-22</td><td>NULL</td></tr>",
            "<tr><td>Családi Ház</td><td>2</td><td>2016-08-24</td><td>4</td></tr>",
            "<tr><td>Családi Ház</td><td>2</td><td>2017-02-16</td><td>3</td></tr>",
            "<tr><td>Családi Ház</td><td>3</td><td>2016-07-13</td><td>NULL</td></tr>",
            "<tr><td>Családi Ház</td><td>3</td><td>2016-08-16</td><td>3</td></tr>",
            "<tr><td>Családi Ház</td><td>3</td><td>2016-10-08</td><td>2</td></tr>",
            "<tr><td>Családi Ház</td><td>3</td><td>2016-11-03</td><td>2</td></tr>",
            "<tr><td>Családi Ház</td><td>3</td><td>2017-01-04</td><td>2</td></tr>",
            "<tr><td>Családi Ház</td><td>3</td><td>2017-01-16</td><td>2</td></tr>",
            "<tr><td>Családi Ház</td><td>4</td><td>2016-05-24</td><td>NULL</td></tr>",
            "<tr><td>Családi Ház</td><td>4</td><td>2016-06-03</td><td>4</td></tr>",
            "<tr><td>Családi Ház</td><td>4</td><td>2016-06-20</td><td>3</td></tr>",
            "<tr><td>Családi Ház</td><td>4</td><td>2016-07-18</td><td>3</td></tr>",
            "<tr><td>Családi Ház</td><td>4</td><td>2017-02-04</td><td>3</td></tr>",
            "<tr><td>Fortuna Apartman</td><td>1</td><td>2016-04-26</td><td>NULL</td></tr>",
            "<tr><td>Fortuna Apartman</td><td>1</td><td>2016-06-06</td><td>4</td></tr>",
            "<tr><td>Fortuna Apartman</td><td>1</td><td>2016-07-24</td><td>3</td></tr>",
            "<tr><td>Fortuna Apartman</td><td>1</td><td>2016-08-01</td><td>3</td></tr>",
            "<tr><td>Fortuna Apartman</td><td>1</td><td>2016-11-25</td><td>2</td></tr>",
            "<tr><td>Fortuna Apartman</td><td>1</td><td>2017-02-18</td><td>2</td></tr>",
            "<tr><td>Fortuna Apartman</td><td>2</td><td>2016-05-08</td><td>NULL</td></tr>",
            "<tr><td>Fortuna Apartman</td><td>2</td><td>2016-08-11</td><td>2</td></tr>",
            "<tr><td>Fortuna Apartman</td><td>2</td><td>2016-09-07</td><td>2</td></tr>",
            "<tr><td>Fortuna Apartman</td><td>2</td><td>2016-10-21</td><td>2</td></tr>",
            "<tr><td>Fortuna Apartman</td><td>2</td><td>2016-10-26</td><td>3</td></tr>",
            "<tr><td>Fortuna Apartman</td><td>2</td><td>2017-02-06</td><td>2</td></tr>",
            "<tr><td>Fortuna Apartman</td><td>3</td><td>2016-06-10</td><td>NULL</td></tr>",
            "<tr><td>Fortuna Apartman</td><td>3</td><td>2016-07-20</td><td>1</td></tr>",
            "<tr><td>Fortuna Apartman</td><td>3</td><td>2016-08-14</td><td>2</td></tr>",
            "<tr><td>Fortuna Apartman</td><td>3</td><td>2016-10-09</td><td>2</td></tr>",
            "<tr><td>Fortuna Apartman</td><td>3</td><td>2016-11-02</td><td>2</td></tr>",
            "<tr><td>Fortuna Apartman</td><td>3</td><td>2017-02-14</td><td>2</td></tr>",
            "<tr><td>Fortuna Apartman</td><td>4</td><td>2016-08-04</td><td>NULL</td></tr>",
            "<tr><td>Fortuna Apartman</td><td>4</td><td>2016-08-24</td><td>1</td></tr>",
            "<tr><td>Fortuna Apartman</td><td>4</td><td>2016-09-19</td><td>2</td></tr>",
            "<tr><td>Fortuna Apartman</td><td>4</td><td>2016-10-01</td><td>2</td></tr>",
            "<tr><td>Fortuna Apartman</td><td>4</td><td>2016-10-01</td><td>2</td></tr>",
            "<tr><td>Fortuna Apartman</td><td>5</td><td>2016-04-09</td><td>NULL</td></tr>",
            "<tr><td>Fortuna Apartman</td><td>5</td><td>2016-05-21</td><td>2</td></tr>",
            "<tr><td>Fortuna Apartman</td><td>5</td><td>2016-08-21</td><td>2</td></tr>",
            "<tr><td>Fortuna Apartman</td><td>5</td><td>2016-10-28</td><td>2</td></tr>",
            "<tr><td>Fortuna Apartman</td><td>6</td><td>2016-06-04</td><td>NULL</td></tr>",
            "<tr><td>Fortuna Apartman</td><td>6</td><td>2016-07-03</td><td>2</td></tr>",
            "<tr><td>Fortuna Apartman</td><td>6</td><td>2016-10-08</td><td>1</td></tr>",
            "<tr><td>Fortuna Apartman</td><td>6</td><td>2016-10-26</td><td>2</td></tr>",
            "<tr><td>Fortuna Apartman</td><td>6</td><td>2016-10-27</td><td>3</td></tr>",
            "<tr><td>Fortuna Apartman</td><td>6</td><td>2016-11-17</td><td>3</td></tr>",
            "<tr><td>Fortuna Apartman</td><td>7</td><td>2016-06-08</td><td>NULL</td></tr>",
            "<tr><td>Fortuna Apartman</td><td>7</td><td>2016-06-10</td><td>2</td></tr>",
            "<tr><td>Fortuna Apartman</td><td>7</td><td>2016-09-04</td><td>1</td></tr>",
            "<tr><td>Fortuna Apartman</td><td>8</td><td>2016-05-23</td><td>NULL</td></tr>",
            "<tr><td>Fortuna Apartman</td><td>8</td><td>2016-10-19</td><td>1</td></tr>",
            "<tr><td>Fortuna Apartman</td><td>8</td><td>2017-01-03</td><td>2</td></tr>",
            "<tr><td>Fortuna panzió</td><td>1</td><td>2016-09-14</td><td>NULL</td></tr>",
            "<tr><td>Fortuna panzió</td><td>1</td><td>2016-12-14</td><td>3</td></tr>",
            "<tr><td>Fortuna Panzió</td><td>1</td><td>2016-06-07</td><td>NULL</td></tr>",
            "<tr><td>Fortuna Panzió</td><td>1</td><td>2016-06-07</td><td>3</td></tr>",
            "<tr><td>Fortuna Panzió</td><td>1</td><td>2016-07-08</td><td>3</td></tr>",
            "<tr><td>Fortuna Panzió</td><td>1</td><td>2016-10-03</td><td>2</td></tr>",
            "<tr><td>Fortuna panzió</td><td>10</td><td>2016-05-28</td><td>NULL</td></tr>",
            "<tr><td>Fortuna panzió</td><td>10</td><td>2016-06-04</td><td>2</td></tr>",
            "<tr><td>Fortuna panzió</td><td>10</td><td>2016-08-14</td><td>1</td></tr>",
            "<tr><td>Fortuna panzió</td><td>10</td><td>2016-08-24</td><td>1</td></tr>",
            "<tr><td>Fortuna Panzió</td><td>10</td><td>2016-06-02</td><td>NULL</td></tr>",
            "<tr><td>Fortuna Panzió</td><td>10</td><td>2016-08-17</td><td>3</td></tr>",
            "<tr><td>Fortuna Panzió</td><td>10</td><td>2016-08-26</td><td>3</td></tr>",
            "<tr><td>Fortuna Panzió</td><td>10</td><td>2016-09-18</td><td>2</td></tr>",
            "<tr><td>Fortuna Panzió</td><td>10</td><td>2016-10-26</td><td>2</td></tr>",
            "<tr><td>Fortuna Panzió</td><td>10</td><td>2016-10-30</td><td>2</td></tr>",
            "<tr><td>Fortuna Panzió</td><td>10</td><td>2017-02-16</td><td>2</td></tr>",
            "<tr><td>Fortuna panzió</td><td>11</td><td>2016-06-18</td><td>NULL</td></tr>",
            "<tr><td>Fortuna panzió</td><td>11</td><td>2016-06-22</td><td>3</td></tr>",
            "<tr><td>Fortuna panzió</td><td>11</td><td>2016-07-18</td><td>2</td></tr>",
            "<tr><td>Fortuna panzió</td><td>11</td><td>2016-07-23</td><td>2</td></tr>",
            "<tr><td>Fortuna panzió</td><td>11</td><td>2016-08-28</td><td>2</td></tr>",
            "<tr><td>Fortuna panzió</td><td>11</td><td>2016-12-29</td><td>2</td></tr>",
            "<tr><td>Fortuna panzió</td><td>11</td><td>2017-01-01</td><td>2</td></tr>",
            "<tr><td>Fortuna panzió</td><td>11</td><td>2017-01-13</td><td>2</td></tr>",
            "<tr><td>Fortuna panzió</td><td>11</td><td>2017-02-13</td><td>2</td></tr>",
            "<tr><td>Fortuna panzió</td><td>12</td><td>2016-06-03</td><td>NULL</td></tr>",
            "<tr><td>Fortuna panzió</td><td>12</td><td>2016-06-06</td><td>5</td></tr>",
            "<tr><td>Fortuna panzió</td><td>12</td><td>2016-06-24</td><td>4</td></tr>",
            "<tr><td>Fortuna panzió</td><td>12</td><td>2016-07-03</td><td>4</td></tr>",
            "<tr><td>Fortuna panzió</td><td>12</td><td>2016-08-02</td><td>4</td></tr>",
            "<tr><td>Fortuna panzió</td><td>12</td><td>2016-08-03</td><td>4</td></tr>",
            "<tr><td>Fortuna panzió</td><td>13</td><td>2016-07-19</td><td>NULL</td></tr>",
            "<tr><td>Fortuna panzió</td><td>13</td><td>2016-07-22</td><td>2</td></tr>",
            "<tr><td>Fortuna panzió</td><td>13</td><td>2016-12-01</td><td>1</td></tr>",
            "<tr><td>Fortuna panzió</td><td>14</td><td>2016-05-08</td><td>NULL</td></tr>",
            "<tr><td>Fortuna panzió</td><td>14</td><td>2016-09-05</td><td>3</td></tr>",
            "<tr><td>Fortuna panzió</td><td>14</td><td>2016-09-17</td><td>3</td></tr>",
            "<tr><td>Fortuna panzió</td><td>14</td><td>2016-09-23</td><td>3</td></tr>",
            "<tr><td>Fortuna panzió</td><td>14</td><td>2016-12-06</td><td>3</td></tr>",
            "<tr><td>Fortuna panzió</td><td>14</td><td>2017-01-03</td><td>2</td></tr>",
            "<tr><td>Fortuna panzió</td><td>14</td><td>2017-01-28</td><td>2</td></tr>",
            "<tr><td>Fortuna panzió</td><td>14</td><td>2017-02-21</td><td>2</td></tr>",
            "<tr><td>Fortuna panzió</td><td>15</td><td>2016-04-25</td><td>NULL</td></tr>",
            "<tr><td>Fortuna panzió</td><td>15</td><td>2016-06-03</td><td>1</td></tr>",
            "<tr><td>Fortuna panzió</td><td>15</td><td>2016-10-29</td><td>1</td></tr>",
            "<tr><td>Fortuna panzió</td><td>15</td><td>2016-12-20</td><td>1</td></tr>",
            "<tr><td>Fortuna panzió</td><td>15</td><td>2017-01-12</td><td>1</td></tr>",
            "<tr><td>Fortuna panzió</td><td>15</td><td>2017-01-18</td><td>1</td></tr>",
            "<tr><td>Fortuna panzió</td><td>15</td><td>2017-02-16</td><td>2</td></tr>",
            "<tr><td>Fortuna Panzió</td><td>2</td><td>2016-06-15</td><td>NULL</td></tr>",
            "<tr><td>Fortuna Panzió</td><td>2</td><td>2016-10-09</td><td>3</td></tr>",
            "<tr><td>Fortuna panzió</td><td>2</td><td>2016-10-16</td><td>NULL</td></tr>",
            "<tr><td>Fortuna panzió</td><td>2</td><td>2016-12-24</td><td>3</td></tr>",
            "<tr><td>Fortuna panzió</td><td>3</td><td>2016-08-05</td><td>NULL</td></tr>",
            "<tr><td>Fortuna panzió</td><td>3</td><td>2016-08-22</td><td>4</td></tr>",
            "<tr><td>Fortuna panzió</td><td>3</td><td>2016-09-05</td><td>3</td></tr>",
            "<tr><td>Fortuna panzió</td><td>3</td><td>2016-09-26</td><td>3</td></tr>",
            "<tr><td>Fortuna panzió</td><td>3</td><td>2016-11-11</td><td>3</td></tr>",
            "<tr><td>Fortuna panzió</td><td>3</td><td>2016-12-18</td><td>3</td></tr>",
            "<tr><td>Fortuna panzió</td><td>3</td><td>2017-01-27</td><td>3</td></tr>",
            "<tr><td>Fortuna Panzió</td><td>3</td><td>2016-04-06</td><td>NULL</td></tr>",
            "<tr><td>Fortuna Panzió</td><td>3</td><td>2016-04-19</td><td>2</td></tr>",
            "<tr><td>Fortuna Panzió</td><td>3</td><td>2016-05-22</td><td>2</td></tr>",
            "<tr><td>Fortuna Panzió</td><td>3</td><td>2016-08-12</td><td>2</td></tr>",
            "<tr><td>Fortuna Panzió</td><td>3</td><td>2016-11-23</td><td>2</td></tr>",
            "<tr><td>Fortuna Panzió</td><td>3</td><td>2017-01-16</td><td>2</td></tr>",
            "<tr><td>Fortuna Panzió</td><td>4</td><td>2016-07-08</td><td>NULL</td></tr>",
            "<tr><td>Fortuna Panzió</td><td>4</td><td>2016-07-14</td><td>3</td></tr>",
            "<tr><td>Fortuna Panzió</td><td>4</td><td>2016-09-29</td><td>2</td></tr>",
            "<tr><td>Fortuna Panzió</td><td>4</td><td>2016-10-27</td><td>2</td></tr>",
            "<tr><td>Fortuna Panzió</td><td>4</td><td>2016-10-30</td><td>2</td></tr>",
            "<tr><td>Fortuna Panzió</td><td>4</td><td>2016-11-10</td><td>2</td></tr>",
            "<tr><td>Fortuna Panzió</td><td>4</td><td>2017-02-12</td><td>2</td></tr>",
            "<tr><td>Fortuna Panzió</td><td>4</td><td>2017-02-20</td><td>2</td></tr>",
            "<tr><td>Fortuna panzió</td><td>4</td><td>2016-05-29</td><td>NULL</td></tr>",
            "<tr><td>Fortuna panzió</td><td>4</td><td>2016-06-01</td><td>1</td></tr>",
            "<tr><td>Fortuna panzió</td><td>4</td><td>2016-06-04</td><td>1</td></tr>",
            "<tr><td>Fortuna panzió</td><td>4</td><td>2016-07-27</td><td>1</td></tr>",
            "<tr><td>Fortuna panzió</td><td>4</td><td>2016-10-13</td><td>1</td></tr>",
            "<tr><td>Fortuna panzió</td><td>4</td><td>2017-01-20</td><td>2</td></tr>",
            "<tr><td>Fortuna panzió</td><td>5</td><td>2016-05-01</td><td>NULL</td></tr>",
            "<tr><td>Fortuna panzió</td><td>5</td><td>2016-06-03</td><td>2</td></tr>",
            "<tr><td>Fortuna panzió</td><td>5</td><td>2016-09-23</td><td>2</td></tr>",
            "<tr><td>Fortuna panzió</td><td>5</td><td>2016-10-23</td><td>2</td></tr>",
            "<tr><td>Fortuna panzió</td><td>5</td><td>2016-11-01</td><td>2</td></tr>",
            "<tr><td>Fortuna panzió</td><td>5</td><td>2017-02-24</td><td>2</td></tr>",
            "<tr><td>Fortuna Panzió</td><td>5</td><td>2016-04-19</td><td>NULL</td></tr>",
            "<tr><td>Fortuna Panzió</td><td>5</td><td>2016-05-21</td><td>3</td></tr>",
            "<tr><td>Fortuna Panzió</td><td>5</td><td>2016-08-25</td><td>3</td></tr>",
            "<tr><td>Fortuna Panzió</td><td>5</td><td>2016-11-19</td><td>3</td></tr>",
            "<tr><td>Fortuna Panzió</td><td>5</td><td>2017-01-08</td><td>3</td></tr>",
            "<tr><td>Fortuna Panzió</td><td>5</td><td>2017-02-20</td><td>3</td></tr>",
            "<tr><td>Fortuna Panzió</td><td>6</td><td>2016-08-20</td><td>NULL</td></tr>",
            "<tr><td>Fortuna Panzió</td><td>6</td><td>2016-08-20</td><td>2</td></tr>",
            "<tr><td>Fortuna Panzió</td><td>6</td><td>2016-09-02</td><td>2</td></tr>",
            "<tr><td>Fortuna Panzió</td><td>6</td><td>2016-10-09</td><td>1</td></tr>",
            "<tr><td>Fortuna Panzió</td><td>6</td><td>2016-11-22</td><td>1</td></tr>",
            "<tr><td>Fortuna panzió</td><td>6</td><td>2016-04-27</td><td>NULL</td></tr>",
            "<tr><td>Fortuna panzió</td><td>6</td><td>2016-07-10</td><td>2</td></tr>",
            "<tr><td>Fortuna panzió</td><td>6</td><td>2016-10-09</td><td>2</td></tr>",
            "<tr><td>Fortuna panzió</td><td>7</td><td>2016-04-24</td><td>NULL</td></tr>",
            "<tr><td>Fortuna panzió</td><td>7</td><td>2016-04-27</td><td>4</td></tr>",
            "<tr><td>Fortuna panzió</td><td>7</td><td>2016-07-27</td><td>4</td></tr>",
            "<tr><td>Fortuna Panzió</td><td>7</td><td>2016-08-03</td><td>NULL</td></tr>",
            "<tr><td>Fortuna Panzió</td><td>7</td><td>2016-10-23</td><td>2</td></tr>",
            "<tr><td>Fortuna Panzió</td><td>7</td><td>2016-11-19</td><td>1</td></tr>",
            "<tr><td>Fortuna Panzió</td><td>7</td><td>2017-02-10</td><td>1</td></tr>",
            "<tr><td>Fortuna Panzió</td><td>8</td><td>2016-06-13</td><td>NULL</td></tr>",
            "<tr><td>Fortuna Panzió</td><td>8</td><td>2016-09-16</td><td>1</td></tr>",
            "<tr><td>Fortuna panzió</td><td>8</td><td>2016-06-06</td><td>NULL</td></tr>",
            "<tr><td>Fortuna panzió</td><td>9</td><td>2016-05-08</td><td>NULL</td></tr>",
            "<tr><td>Fortuna panzió</td><td>9</td><td>2016-07-05</td><td>4</td></tr>",
            "<tr><td>Fortuna panzió</td><td>9</td><td>2016-09-15</td><td>3</td></tr>",
            "<tr><td>Fortuna panzió</td><td>9</td><td>2016-11-25</td><td>3</td></tr>",
            "<tr><td>Fortuna panzió</td><td>9</td><td>2016-12-05</td><td>3</td></tr>",
            "<tr><td>Fortuna panzió</td><td>9</td><td>2016-12-21</td><td>2</td></tr>",
            "<tr><td>Fortuna Panzió</td><td>9</td><td>2016-04-26</td><td>NULL</td></tr>",
            "<tr><td>Fortuna Panzió</td><td>9</td><td>2016-05-09</td><td>3</td></tr>",
            "<tr><td>Fortuna Panzió</td><td>9</td><td>2016-06-06</td><td>3</td></tr>",
            "<tr><td>Fortuna Panzió</td><td>9</td><td>2016-06-25</td><td>3</td></tr>",
            "<tr><td>Fortuna Panzió</td><td>9</td><td>2016-08-25</td><td>3</td></tr>",
            "<tr><td>Fortuna Panzió</td><td>9</td><td>2016-11-03</td><td>3</td></tr>",
            "<tr><td>Fortuna Panzió</td><td>9</td><td>2017-02-17</td><td>3</td></tr>",
            "<tr><td>Fortuna Panzió</td><td>9</td><td>2017-02-18</td><td>3</td></tr>",
            "<tr><td>Fortuna Panzió</td><td>9</td><td>2017-03-01</td><td>3</td></tr>",
            "<tr><td>Gold Hotel</td><td>1</td><td>2016-05-12</td><td>NULL</td></tr>",
            "<tr><td>Gold Hotel</td><td>1</td><td>2016-05-25</td><td>2</td></tr>",
            "<tr><td>Gold Hotel</td><td>1</td><td>2016-06-03</td><td>1</td></tr>",
            "<tr><td>Gold Hotel</td><td>1</td><td>2016-06-03</td><td>1</td></tr>",
            "<tr><td>Gold Hotel</td><td>1</td><td>2016-06-03</td><td>1</td></tr>",
            "<tr><td>Gold Hotel</td><td>1</td><td>2016-10-09</td><td>1</td></tr>",
            "<tr><td>Gold Hotel</td><td>1</td><td>2016-12-17</td><td>1</td></tr>",
            "<tr><td>Gold Hotel</td><td>10</td><td>2016-06-06</td><td>NULL</td></tr>",
            "<tr><td>Gold Hotel</td><td>10</td><td>2016-07-06</td><td>2</td></tr>",
            "<tr><td>Gold Hotel</td><td>10</td><td>2016-07-18</td><td>1</td></tr>",
            "<tr><td>Gold Hotel</td><td>10</td><td>2016-11-12</td><td>1</td></tr>",
            "<tr><td>Gold Hotel</td><td>11</td><td>2016-05-28</td><td>NULL</td></tr>",
            "<tr><td>Gold Hotel</td><td>11</td><td>2016-08-19</td><td>1</td></tr>",
            "<tr><td>Gold Hotel</td><td>11</td><td>2016-09-30</td><td>1</td></tr>",
            "<tr><td>Gold Hotel</td><td>11</td><td>2016-10-08</td><td>1</td></tr>",
            "<tr><td>Gold Hotel</td><td>11</td><td>2016-12-30</td><td>1</td></tr>",
            "<tr><td>Gold Hotel</td><td>12</td><td>2016-04-21</td><td>NULL</td></tr>",
            "<tr><td>Gold Hotel</td><td>12</td><td>2016-10-09</td><td>2</td></tr>",
            "<tr><td>Gold Hotel</td><td>12</td><td>2016-11-13</td><td>2</td></tr>",
            "<tr><td>Gold Hotel</td><td>12</td><td>2016-12-22</td><td>2</td></tr>",
            "<tr><td>Gold Hotel</td><td>12</td><td>2017-02-08</td><td>2</td></tr>",
            "<tr><td>Gold Hotel</td><td>12</td><td>2017-02-24</td><td>2</td></tr>",
            "<tr><td>Gold Hotel</td><td>13</td><td>2016-08-16</td><td>NULL</td></tr>",
            "<tr><td>Gold Hotel</td><td>13</td><td>2016-08-28</td><td>4</td></tr>",
            "<tr><td>Gold Hotel</td><td>13</td><td>2016-10-21</td><td>3</td></tr>",
            "<tr><td>Gold Hotel</td><td>13</td><td>2017-02-05</td><td>3</td></tr>",
            "<tr><td>Gold Hotel</td><td>14</td><td>2016-06-28</td><td>NULL</td></tr>",
            "<tr><td>Gold Hotel</td><td>14</td><td>2016-08-24</td><td>3</td></tr>",
            "<tr><td>Gold Hotel</td><td>14</td><td>2016-10-28</td><td>3</td></tr>",
            "<tr><td>Gold Hotel</td><td>14</td><td>2016-11-03</td><td>3</td></tr>",
            "<tr><td>Gold Hotel</td><td>15</td><td>2016-05-21</td><td>NULL</td></tr>",
            "<tr><td>Gold Hotel</td><td>15</td><td>2016-07-09</td><td>4</td></tr>",
            "<tr><td>Gold Hotel</td><td>15</td><td>2017-02-04</td><td>4</td></tr>",
            "<tr><td>Gold Hotel</td><td>16</td><td>2016-06-04</td><td>NULL</td></tr>",
            "<tr><td>Gold Hotel</td><td>16</td><td>2017-02-22</td><td>4</td></tr>",
            "<tr><td>Gold Hotel</td><td>16</td><td>2017-02-23</td><td>3</td></tr>",
            "<tr><td>Gold Hotel</td><td>17</td><td>2016-06-08</td><td>NULL</td></tr>",
            "<tr><td>Gold Hotel</td><td>17</td><td>2016-06-13</td><td>3</td></tr>",
            "<tr><td>Gold Hotel</td><td>17</td><td>2016-07-10</td><td>3</td></tr>",
            "<tr><td>Gold Hotel</td><td>17</td><td>2016-07-16</td><td>3</td></tr>",
            "<tr><td>Gold Hotel</td><td>17</td><td>2016-07-28</td><td>3</td></tr>",
            "<tr><td>Gold Hotel</td><td>17</td><td>2016-12-05</td><td>3</td></tr>",
            "<tr><td>Gold Hotel</td><td>18</td><td>2016-04-10</td><td>NULL</td></tr>",
            "<tr><td>Gold Hotel</td><td>18</td><td>2016-06-07</td><td>2</td></tr>",
            "<tr><td>Gold Hotel</td><td>18</td><td>2016-07-04</td><td>2</td></tr>",
            "<tr><td>Gold Hotel</td><td>18</td><td>2016-07-30</td><td>2</td></tr>",
            "<tr><td>Gold Hotel</td><td>18</td><td>2016-10-24</td><td>2</td></tr>",
            "<tr><td>Gold Hotel</td><td>18</td><td>2016-10-30</td><td>2</td></tr>",
            "<tr><td>Gold Hotel</td><td>18</td><td>2016-10-30</td><td>1</td></tr>",
            "<tr><td>Gold Hotel</td><td>18</td><td>2016-11-23</td><td>1</td></tr>",
            "<tr><td>Gold Hotel</td><td>18</td><td>2016-11-25</td><td>1</td></tr>",
            "<tr><td>Gold Hotel</td><td>18</td><td>2016-11-28</td><td>1</td></tr>",
            "<tr><td>Gold Hotel</td><td>18</td><td>2017-01-01</td><td>1</td></tr>",
            "<tr><td>Gold Hotel</td><td>18</td><td>2017-01-06</td><td>1</td></tr>",
            "<tr><td>Gold Hotel</td><td>19</td><td>2016-06-09</td><td>NULL</td></tr>",
            "<tr><td>Gold Hotel</td><td>19</td><td>2016-09-19</td><td>3</td></tr>",
            "<tr><td>Gold Hotel</td><td>19</td><td>2016-10-10</td><td>2</td></tr>",
            "<tr><td>Gold Hotel</td><td>19</td><td>2017-01-13</td><td>2</td></tr>",
            "<tr><td>Gold Hotel</td><td>2</td><td>2016-05-14</td><td>NULL</td></tr>",
            "<tr><td>Gold Hotel</td><td>2</td><td>2016-08-16</td><td>2</td></tr>",
            "<tr><td>Gold Hotel</td><td>2</td><td>2017-02-12</td><td>1</td></tr>",
            "<tr><td>Gold Hotel</td><td>20</td><td>2016-04-28</td><td>NULL</td></tr>",
            "<tr><td>Gold Hotel</td><td>20</td><td>2016-05-30</td><td>2</td></tr>",
            "<tr><td>Gold Hotel</td><td>20</td><td>2016-07-18</td><td>1</td></tr>",
            "<tr><td>Gold Hotel</td><td>20</td><td>2016-11-05</td><td>1</td></tr>",
            "<tr><td>Gold Hotel</td><td>21</td><td>2016-04-13</td><td>NULL</td></tr>",
            "<tr><td>Gold Hotel</td><td>21</td><td>2016-05-28</td><td>3</td></tr>",
            "<tr><td>Gold Hotel</td><td>21</td><td>2016-06-03</td><td>3</td></tr>",
            "<tr><td>Gold Hotel</td><td>21</td><td>2016-06-07</td><td>3</td></tr>",
            "<tr><td>Gold Hotel</td><td>21</td><td>2016-07-14</td><td>3</td></tr>",
            "<tr><td>Gold Hotel</td><td>21</td><td>2016-07-17</td><td>3</td></tr>",
            "<tr><td>Gold Hotel</td><td>21</td><td>2016-07-20</td><td>3</td></tr>",
            "<tr><td>Gold Hotel</td><td>21</td><td>2016-07-24</td><td>2</td></tr>",
            "<tr><td>Gold Hotel</td><td>21</td><td>2016-10-06</td><td>2</td></tr>",
            "<tr><td>Gold Hotel</td><td>21</td><td>2016-10-23</td><td>2</td></tr>",
            "<tr><td>Gold Hotel</td><td>21</td><td>2017-01-16</td><td>2</td></tr>",
            "<tr><td>Gold Hotel</td><td>21</td><td>2017-01-22</td><td>2</td></tr>",
            "<tr><td>Gold Hotel</td><td>22</td><td>2016-05-01</td><td>NULL</td></tr>",
            "<tr><td>Gold Hotel</td><td>22</td><td>2016-10-15</td><td>3</td></tr>",
            "<tr><td>Gold Hotel</td><td>22</td><td>2016-11-05</td><td>3</td></tr>",
            "<tr><td>Gold Hotel</td><td>22</td><td>2017-01-22</td><td>2</td></tr>",
            "<tr><td>Gold Hotel</td><td>23</td><td>2016-05-09</td><td>NULL</td></tr>",
            "<tr><td>Gold Hotel</td><td>23</td><td>2016-05-28</td><td>3</td></tr>",
            "<tr><td>Gold Hotel</td><td>23</td><td>2016-06-13</td><td>3</td></tr>",
            "<tr><td>Gold Hotel</td><td>23</td><td>2016-07-20</td><td>3</td></tr>",
            "<tr><td>Gold Hotel</td><td>23</td><td>2016-07-31</td><td>3</td></tr>",
            "<tr><td>Gold Hotel</td><td>23</td><td>2016-08-10</td><td>3</td></tr>",
            "<tr><td>Gold Hotel</td><td>23</td><td>2016-12-29</td><td>2</td></tr>",
            "<tr><td>Gold Hotel</td><td>24</td><td>2016-06-06</td><td>NULL</td></tr>",
            "<tr><td>Gold Hotel</td><td>24</td><td>2016-07-19</td><td>3</td></tr>",
            "<tr><td>Gold Hotel</td><td>24</td><td>2016-07-24</td><td>2</td></tr>",
            "<tr><td>Gold Hotel</td><td>24</td><td>2016-08-01</td><td>2</td></tr>",
            "<tr><td>Gold Hotel</td><td>24</td><td>2016-09-05</td><td>2</td></tr>",
            "<tr><td>Gold Hotel</td><td>24</td><td>2016-12-25</td><td>2</td></tr>",
            "<tr><td>Gold Hotel</td><td>25</td><td>2016-07-20</td><td>NULL</td></tr>",
            "<tr><td>Gold Hotel</td><td>25</td><td>2016-08-03</td><td>2</td></tr>",
            "<tr><td>Gold Hotel</td><td>25</td><td>2016-10-27</td><td>2</td></tr>",
            "<tr><td>Gold Hotel</td><td>25</td><td>2017-01-17</td><td>2</td></tr>",
            "<tr><td>Gold Hotel</td><td>25</td><td>2017-02-26</td><td>2</td></tr>",
            "<tr><td>Gold Hotel</td><td>26</td><td>2016-04-24</td><td>NULL</td></tr>",
            "<tr><td>Gold Hotel</td><td>26</td><td>2016-06-27</td><td>1</td></tr>",
            "<tr><td>Gold Hotel</td><td>26</td><td>2016-07-08</td><td>1</td></tr>",
            "<tr><td>Gold Hotel</td><td>26</td><td>2016-08-13</td><td>1</td></tr>",
            "<tr><td>Gold Hotel</td><td>26</td><td>2017-02-11</td><td>1</td></tr>",
            "<tr><td>Gold Hotel</td><td>27</td><td>2016-09-09</td><td>NULL</td></tr>",
            "<tr><td>Gold Hotel</td><td>27</td><td>2016-11-22</td><td>2</td></tr>",
            "<tr><td>Gold Hotel</td><td>27</td><td>2016-11-27</td><td>2</td></tr>",
            "<tr><td>Gold Hotel</td><td>27</td><td>2017-02-05</td><td>2</td></tr>",
            "<tr><td>Gold Hotel</td><td>27</td><td>2017-02-08</td><td>2</td></tr>",
            "<tr><td>Gold Hotel</td><td>28</td><td>2016-06-04</td><td>NULL</td></tr>",
            "<tr><td>Gold Hotel</td><td>28</td><td>2016-07-17</td><td>3</td></tr>",
            "<tr><td>Gold Hotel</td><td>29</td><td>2016-05-09</td><td>NULL</td></tr>",
            "<tr><td>Gold Hotel</td><td>29</td><td>2016-06-07</td><td>2</td></tr>",
            "<tr><td>Gold Hotel</td><td>29</td><td>2016-06-22</td><td>3</td></tr>",
            "<tr><td>Gold Hotel</td><td>29</td><td>2016-07-15</td><td>4</td></tr>",
            "<tr><td>Gold Hotel</td><td>29</td><td>2016-08-29</td><td>3</td></tr>",
            "<tr><td>Gold Hotel</td><td>29</td><td>2016-09-11</td><td>4</td></tr>",
            "<tr><td>Gold Hotel</td><td>29</td><td>2016-11-03</td><td>4</td></tr>",
            "<tr><td>Gold Hotel</td><td>3</td><td>2016-05-24</td><td>NULL</td></tr>",
            "<tr><td>Gold Hotel</td><td>3</td><td>2017-01-02</td><td>1</td></tr>",
            "<tr><td>Gold Hotel</td><td>30</td><td>2016-09-30</td><td>NULL</td></tr>",
            "<tr><td>Gold Hotel</td><td>31</td><td>2016-07-27</td><td>NULL</td></tr>",
            "<tr><td>Gold Hotel</td><td>31</td><td>2016-08-31</td><td>2</td></tr>",
            "<tr><td>Gold Hotel</td><td>31</td><td>2016-09-22</td><td>2</td></tr>",
            "<tr><td>Gold Hotel</td><td>31</td><td>2016-10-23</td><td>1</td></tr>",
            "<tr><td>Gold Hotel</td><td>31</td><td>2017-01-24</td><td>1</td></tr>",
            "<tr><td>Gold Hotel</td><td>31</td><td>2017-01-30</td><td>1</td></tr>",
            "<tr><td>Gold Hotel</td><td>32</td><td>2016-06-11</td><td>NULL</td></tr>",
            "<tr><td>Gold Hotel</td><td>32</td><td>2016-07-14</td><td>3</td></tr>",
            "<tr><td>Gold Hotel</td><td>32</td><td>2016-11-23</td><td>2</td></tr>",
            "<tr><td>Gold Hotel</td><td>32</td><td>2016-12-04</td><td>2</td></tr>",
            "<tr><td>Gold Hotel</td><td>33</td><td>2016-06-30</td><td>NULL</td></tr>",
            "<tr><td>Gold Hotel</td><td>33</td><td>2016-08-09</td><td>3</td></tr>",
            "<tr><td>Gold Hotel</td><td>33</td><td>2016-09-30</td><td>3</td></tr>",
            "<tr><td>Gold Hotel</td><td>33</td><td>2016-10-20</td><td>3</td></tr>",
            "<tr><td>Gold Hotel</td><td>33</td><td>2016-11-22</td><td>2</td></tr>",
            "<tr><td>Gold Hotel</td><td>33</td><td>2016-12-24</td><td>2</td></tr>",
            "<tr><td>Gold Hotel</td><td>34</td><td>2016-06-22</td><td>NULL</td></tr>",
            "<tr><td>Gold Hotel</td><td>34</td><td>2016-07-04</td><td>3</td></tr>",
            "<tr><td>Gold Hotel</td><td>34</td><td>2016-09-18</td><td>3</td></tr>",
            "<tr><td>Gold Hotel</td><td>34</td><td>2016-10-03</td><td>3</td></tr>",
            "<tr><td>Gold Hotel</td><td>34</td><td>2016-10-09</td><td>3</td></tr>",
            "<tr><td>Gold Hotel</td><td>34</td><td>2016-10-17</td><td>2</td></tr>",
            "<tr><td>Gold Hotel</td><td>34</td><td>2016-10-29</td><td>2</td></tr>",
            "<tr><td>Gold Hotel</td><td>34</td><td>2017-01-05</td><td>2</td></tr>",
            "<tr><td>Gold Hotel</td><td>4</td><td>2016-06-07</td><td>NULL</td></tr>",
            "<tr><td>Gold Hotel</td><td>4</td><td>2016-08-16</td><td>4</td></tr>",
            "<tr><td>Gold Hotel</td><td>4</td><td>2016-08-17</td><td>4</td></tr>",
            "<tr><td>Gold Hotel</td><td>4</td><td>2016-11-05</td><td>4</td></tr>",
            "<tr><td>Gold Hotel</td><td>4</td><td>2016-11-08</td><td>3</td></tr>",
            "<tr><td>Gold Hotel</td><td>5</td><td>2016-04-10</td><td>NULL</td></tr>",
            "<tr><td>Gold Hotel</td><td>5</td><td>2016-05-21</td><td>2</td></tr>",
            "<tr><td>Gold Hotel</td><td>5</td><td>2016-06-20</td><td>2</td></tr>",
            "<tr><td>Gold Hotel</td><td>5</td><td>2016-08-01</td><td>1</td></tr>",
            "<tr><td>Gold Hotel</td><td>5</td><td>2016-12-09</td><td>2</td></tr>",
            "<tr><td>Gold Hotel</td><td>5</td><td>2017-01-09</td><td>2</td></tr>",
            "<tr><td>Gold Hotel</td><td>6</td><td>2016-04-10</td><td>NULL</td></tr>",
            "<tr><td>Gold Hotel</td><td>6</td><td>2016-06-10</td><td>1</td></tr>",
            "<tr><td>Gold Hotel</td><td>6</td><td>2016-10-26</td><td>1</td></tr>",
            "<tr><td>Gold Hotel</td><td>6</td><td>2016-11-09</td><td>1</td></tr>",
            "<tr><td>Gold Hotel</td><td>6</td><td>2016-12-04</td><td>1</td></tr>",
            "<tr><td>Gold Hotel</td><td>7</td><td>2016-04-10</td><td>NULL</td></tr>",
            "<tr><td>Gold Hotel</td><td>7</td><td>2016-06-23</td><td>2</td></tr>",
            "<tr><td>Gold Hotel</td><td>7</td><td>2016-10-23</td><td>1</td></tr>",
            "<tr><td>Gold Hotel</td><td>7</td><td>2016-11-29</td><td>2</td></tr>",
            "<tr><td>Gold Hotel</td><td>7</td><td>2017-02-24</td><td>1</td></tr>",
            "<tr><td>Gold Hotel</td><td>8</td><td>2016-06-24</td><td>NULL</td></tr>",
            "<tr><td>Gold Hotel</td><td>8</td><td>2016-07-24</td><td>2</td></tr>",
            "<tr><td>Gold Hotel</td><td>8</td><td>2016-08-02</td><td>1</td></tr>",
            "<tr><td>Gold Hotel</td><td>8</td><td>2016-08-29</td><td>2</td></tr>",
            "<tr><td>Gold Hotel</td><td>8</td><td>2016-10-09</td><td>2</td></tr>",
            "<tr><td>Gold Hotel</td><td>8</td><td>2016-10-20</td><td>2</td></tr>",
            "<tr><td>Gold Hotel</td><td>8</td><td>2016-12-02</td><td>1</td></tr>",
            "<tr><td>Gold Hotel</td><td>8</td><td>2017-01-05</td><td>1</td></tr>",
            "<tr><td>Gold Hotel</td><td>8</td><td>2017-02-03</td><td>1</td></tr>",
            "<tr><td>Gold Hotel</td><td>9</td><td>2016-06-06</td><td>NULL</td></tr>",
            "<tr><td>Gold Hotel</td><td>9</td><td>2016-07-14</td><td>2</td></tr>",
            "<tr><td>Gold Hotel</td><td>9</td><td>2016-12-06</td><td>1</td></tr>",
            "<tr><td>Gold Hotel</td><td>9</td><td>2017-01-09</td><td>1</td></tr>",
            "<tr><td>Hotel Három Hattyú</td><td>1</td><td>2016-05-10</td><td>NULL</td></tr>",
            "<tr><td>Hotel Három Hattyú</td><td>1</td><td>2016-07-28</td><td>2</td></tr>",
            "<tr><td>Hotel Három Hattyú</td><td>1</td><td>2016-10-28</td><td>2</td></tr>",
            "<tr><td>Hotel Három Hattyú</td><td>1</td><td>2016-12-25</td><td>1</td></tr>",
            "<tr><td>Hotel Három Hattyú</td><td>10</td><td>2016-04-23</td><td>NULL</td></tr>",
            "<tr><td>Hotel Három Hattyú</td><td>10</td><td>2016-05-11</td><td>2</td></tr>",
            "<tr><td>Hotel Három Hattyú</td><td>10</td><td>2016-11-24</td><td>2</td></tr>",
            "<tr><td>Hotel Három Hattyú</td><td>10</td><td>2017-01-29</td><td>2</td></tr>",
            "<tr><td>Hotel Három Hattyú</td><td>11</td><td>2016-07-25</td><td>NULL</td></tr>",
            "<tr><td>Hotel Három Hattyú</td><td>11</td><td>2016-11-29</td><td>2</td></tr>",
            "<tr><td>Hotel Három Hattyú</td><td>11</td><td>2017-02-10</td><td>2</td></tr>",
            "<tr><td>Hotel Három Hattyú</td><td>12</td><td>2016-07-19</td><td>NULL</td></tr>",
            "<tr><td>Hotel Három Hattyú</td><td>12</td><td>2016-12-05</td><td>1</td></tr>",
            "<tr><td>Hotel Három Hattyú</td><td>13</td><td>2016-06-19</td><td>NULL</td></tr>",
            "<tr><td>Hotel Három Hattyú</td><td>13</td><td>2016-06-29</td><td>3</td></tr>",
            "<tr><td>Hotel Három Hattyú</td><td>13</td><td>2016-12-26</td><td>2</td></tr>",
            "<tr><td>Hotel Három Hattyú</td><td>13</td><td>2017-01-30</td><td>2</td></tr>",
            "<tr><td>Hotel Három Hattyú</td><td>14</td><td>2016-08-29</td><td>NULL</td></tr>",
            "<tr><td>Hotel Három Hattyú</td><td>14</td><td>2016-10-22</td><td>3</td></tr>",
            "<tr><td>Hotel Három Hattyú</td><td>14</td><td>2017-02-12</td><td>3</td></tr>",
            "<tr><td>Hotel Három Hattyú</td><td>14</td><td>2017-02-14</td><td>3</td></tr>",
            "<tr><td>Hotel Három Hattyú</td><td>15</td><td>2016-05-03</td><td>NULL</td></tr>",
            "<tr><td>Hotel Három Hattyú</td><td>15</td><td>2017-02-12</td><td>2</td></tr>",
            "<tr><td>Hotel Három Hattyú</td><td>16</td><td>2016-04-30</td><td>NULL</td></tr>",
            "<tr><td>Hotel Három Hattyú</td><td>16</td><td>2016-07-23</td><td>1</td></tr>",
            "<tr><td>Hotel Három Hattyú</td><td>16</td><td>2016-10-30</td><td>1</td></tr>",
            "<tr><td>Hotel Három Hattyú</td><td>16</td><td>2016-11-10</td><td>1</td></tr>",
            "<tr><td>Hotel Három Hattyú</td><td>16</td><td>2016-12-17</td><td>1</td></tr>",
            "<tr><td>Hotel Három Hattyú</td><td>16</td><td>2017-02-08</td><td>1</td></tr>",
            "<tr><td>Hotel Három Hattyú</td><td>17</td><td>2016-04-18</td><td>NULL</td></tr>",
            "<tr><td>Hotel Három Hattyú</td><td>17</td><td>2016-11-05</td><td>1</td></tr>",
            "<tr><td>Hotel Három Hattyú</td><td>17</td><td>2016-12-07</td><td>1</td></tr>",
            "<tr><td>Hotel Három Hattyú</td><td>17</td><td>2017-01-17</td><td>1</td></tr>",
            "<tr><td>Hotel Három Hattyú</td><td>17</td><td>2017-02-04</td><td>2</td></tr>",
            "<tr><td>Hotel Három Hattyú</td><td>18</td><td>2016-10-01</td><td>NULL</td></tr>",
            "<tr><td>Hotel Három Hattyú</td><td>18</td><td>2016-12-25</td><td>1</td></tr>",
            "<tr><td>Hotel Három Hattyú</td><td>19</td><td>2016-05-01</td><td>NULL</td></tr>",
            "<tr><td>Hotel Három Hattyú</td><td>19</td><td>2016-05-06</td><td>3</td></tr>",
            "<tr><td>Hotel Három Hattyú</td><td>19</td><td>2016-05-18</td><td>2</td></tr>",
            "<tr><td>Hotel Három Hattyú</td><td>19</td><td>2016-08-23</td><td>2</td></tr>",
            "<tr><td>Hotel Három Hattyú</td><td>19</td><td>2016-09-27</td><td>2</td></tr>",
            "<tr><td>Hotel Három Hattyú</td><td>19</td><td>2016-11-20</td><td>2</td></tr>",
            "<tr><td>Hotel Három Hattyú</td><td>19</td><td>2017-02-23</td><td>2</td></tr>",
            "<tr><td>Hotel Három Hattyú</td><td>2</td><td>2016-06-10</td><td>NULL</td></tr>",
            "<tr><td>Hotel Három Hattyú</td><td>2</td><td>2016-07-07</td><td>4</td></tr>",
            "<tr><td>Hotel Három Hattyú</td><td>2</td><td>2016-08-23</td><td>3</td></tr>",
            "<tr><td>Hotel Három Hattyú</td><td>2</td><td>2016-08-31</td><td>3</td></tr>",
            "<tr><td>Hotel Három Hattyú</td><td>2</td><td>2017-02-13</td><td>3</td></tr>",
            "<tr><td>Hotel Három Hattyú</td><td>2</td><td>2017-02-20</td><td>3</td></tr>",
            "<tr><td>Hotel Három Hattyú</td><td>20</td><td>2016-06-07</td><td>NULL</td></tr>",
            "<tr><td>Hotel Három Hattyú</td><td>20</td><td>2016-06-16</td><td>2</td></tr>",
            "<tr><td>Hotel Három Hattyú</td><td>20</td><td>2016-07-18</td><td>2</td></tr>",
            "<tr><td>Hotel Három Hattyú</td><td>20</td><td>2016-09-10</td><td>2</td></tr>",
            "<tr><td>Hotel Három Hattyú</td><td>20</td><td>2016-10-01</td><td>2</td></tr>",
            "<tr><td>Hotel Három Hattyú</td><td>20</td><td>2016-10-17</td><td>1</td></tr>",
            "<tr><td>Hotel Három Hattyú</td><td>20</td><td>2017-01-07</td><td>1</td></tr>",
            "<tr><td>Hotel Három Hattyú</td><td>20</td><td>2017-02-02</td><td>1</td></tr>",
            "<tr><td>Hotel Három Hattyú</td><td>21</td><td>2016-04-27</td><td>NULL</td></tr>",
            "<tr><td>Hotel Három Hattyú</td><td>21</td><td>2016-06-14</td><td>3</td></tr>",
            "<tr><td>Hotel Három Hattyú</td><td>21</td><td>2016-08-16</td><td>2</td></tr>",
            "<tr><td>Hotel Három Hattyú</td><td>21</td><td>2016-11-19</td><td>2</td></tr>",
            "<tr><td>Hotel Három Hattyú</td><td>21</td><td>2016-12-07</td><td>2</td></tr>",
            "<tr><td>Hotel Három Hattyú</td><td>22</td><td>2016-06-06</td><td>NULL</td></tr>",
            "<tr><td>Hotel Három Hattyú</td><td>22</td><td>2016-08-14</td><td>3</td></tr>",
            "<tr><td>Hotel Három Hattyú</td><td>22</td><td>2016-08-20</td><td>3</td></tr>",
            "<tr><td>Hotel Három Hattyú</td><td>22</td><td>2016-10-06</td><td>3</td></tr>",
            "<tr><td>Hotel Három Hattyú</td><td>22</td><td>2017-02-13</td><td>3</td></tr>",
            "<tr><td>Hotel Három Hattyú</td><td>23</td><td>2016-09-05</td><td>NULL</td></tr>",
            "<tr><td>Hotel Három Hattyú</td><td>23</td><td>2016-09-28</td><td>4</td></tr>",
            "<tr><td>Hotel Három Hattyú</td><td>23</td><td>2016-11-08</td><td>4</td></tr>",
            "<tr><td>Hotel Három Hattyú</td><td>23</td><td>2017-02-04</td><td>4</td></tr>",
            "<tr><td>Hotel Három Hattyú</td><td>23</td><td>2017-02-05</td><td>4</td></tr>",
            "<tr><td>Hotel Három Hattyú</td><td>24</td><td>2016-06-16</td><td>NULL</td></tr>",
            "<tr><td>Hotel Három Hattyú</td><td>24</td><td>2016-07-29</td><td>2</td></tr>",
            "<tr><td>Hotel Három Hattyú</td><td>24</td><td>2016-08-26</td><td>2</td></tr>",
            "<tr><td>Hotel Három Hattyú</td><td>24</td><td>2017-02-16</td><td>2</td></tr>",
            "<tr><td>Hotel Három Hattyú</td><td>25</td><td>2016-04-23</td><td>NULL</td></tr>",
            "<tr><td>Hotel Három Hattyú</td><td>25</td><td>2016-06-10</td><td>3</td></tr>",
            "<tr><td>Hotel Három Hattyú</td><td>25</td><td>2016-10-04</td><td>3</td></tr>",
            "<tr><td>Hotel Három Hattyú</td><td>25</td><td>2016-10-15</td><td>3</td></tr>",
            "<tr><td>Hotel Három Hattyú</td><td>25</td><td>2016-12-07</td><td>2</td></tr>",
            "<tr><td>Hotel Három Hattyú</td><td>25</td><td>2017-02-20</td><td>2</td></tr>",
            "<tr><td>Hotel Három Hattyú</td><td>25</td><td>2017-02-24</td><td>2</td></tr>",
            "<tr><td>Hotel Három Hattyú</td><td>26</td><td>2017-01-18</td><td>NULL</td></tr>",
            "<tr><td>Hotel Három Hattyú</td><td>26</td><td>2017-02-05</td><td>2</td></tr>",
            "<tr><td>Hotel Három Hattyú</td><td>27</td><td>2016-05-01</td><td>NULL</td></tr>",
            "<tr><td>Hotel Három Hattyú</td><td>27</td><td>2016-05-02</td><td>2</td></tr>",
            "<tr><td>Hotel Három Hattyú</td><td>27</td><td>2016-06-12</td><td>2</td></tr>",
            "<tr><td>Hotel Három Hattyú</td><td>27</td><td>2016-06-16</td><td>2</td></tr>",
            "<tr><td>Hotel Három Hattyú</td><td>27</td><td>2016-07-03</td><td>2</td></tr>",
            "<tr><td>Hotel Három Hattyú</td><td>27</td><td>2016-10-26</td><td>3</td></tr>",
            "<tr><td>Hotel Három Hattyú</td><td>27</td><td>2016-11-05</td><td>3</td></tr>",
            "<tr><td>Hotel Három Hattyú</td><td>27</td><td>2017-01-23</td><td>3</td></tr>",
            "<tr><td>Hotel Három Hattyú</td><td>28</td><td>2016-05-28</td><td>NULL</td></tr>",
            "<tr><td>Hotel Három Hattyú</td><td>28</td><td>2016-06-30</td><td>2</td></tr>",
            "<tr><td>Hotel Három Hattyú</td><td>28</td><td>2016-07-01</td><td>2</td></tr>",
            "<tr><td>Hotel Három Hattyú</td><td>28</td><td>2016-07-26</td><td>2</td></tr>",
            "<tr><td>Hotel Három Hattyú</td><td>28</td><td>2016-12-17</td><td>2</td></tr>",
            "<tr><td>Hotel Három Hattyú</td><td>28</td><td>2017-01-24</td><td>2</td></tr>",
            "<tr><td>Hotel Három Hattyú</td><td>28</td><td>2017-01-29</td><td>2</td></tr>",
            "<tr><td>Hotel Három Hattyú</td><td>29</td><td>2016-07-12</td><td>NULL</td></tr>",
            "<tr><td>Hotel Három Hattyú</td><td>29</td><td>2016-07-22</td><td>1</td></tr>",
            "<tr><td>Hotel Három Hattyú</td><td>29</td><td>2016-07-27</td><td>1</td></tr>",
            "<tr><td>Hotel Három Hattyú</td><td>29</td><td>2017-01-02</td><td>1</td></tr>",
            "<tr><td>Hotel Három Hattyú</td><td>29</td><td>2017-02-01</td><td>1</td></tr>",
            "<tr><td>Hotel Három Hattyú</td><td>3</td><td>2016-07-30</td><td>NULL</td></tr>",
            "<tr><td>Hotel Három Hattyú</td><td>3</td><td>2016-10-20</td><td>4</td></tr>",
            "<tr><td>Hotel Három Hattyú</td><td>3</td><td>2016-10-29</td><td>2</td></tr>",
            "<tr><td>Hotel Három Hattyú</td><td>3</td><td>2016-12-08</td><td>3</td></tr>",
            "<tr><td>Hotel Három Hattyú</td><td>3</td><td>2016-12-25</td><td>3</td></tr>",
            "<tr><td>Hotel Három Hattyú</td><td>30</td><td>2016-07-01</td><td>NULL</td></tr>",
            "<tr><td>Hotel Három Hattyú</td><td>30</td><td>2016-08-07</td><td>4</td></tr>",
            "<tr><td>Hotel Három Hattyú</td><td>30</td><td>2016-09-30</td><td>3</td></tr>",
            "<tr><td>Hotel Három Hattyú</td><td>30</td><td>2016-12-03</td><td>3</td></tr>",
            "<tr><td>Hotel Három Hattyú</td><td>30</td><td>2017-01-30</td><td>2</td></tr>",
            "<tr><td>Hotel Három Hattyú</td><td>30</td><td>2017-02-04</td><td>2</td></tr>",
            "<tr><td>Hotel Három Hattyú</td><td>31</td><td>2016-05-25</td><td>NULL</td></tr>",
            "<tr><td>Hotel Három Hattyú</td><td>31</td><td>2016-07-28</td><td>1</td></tr>",
            "<tr><td>Hotel Három Hattyú</td><td>31</td><td>2016-07-30</td><td>1</td></tr>",
            "<tr><td>Hotel Három Hattyú</td><td>31</td><td>2016-09-13</td><td>1</td></tr>",
            "<tr><td>Hotel Három Hattyú</td><td>31</td><td>2016-10-08</td><td>1</td></tr>",
            "<tr><td>Hotel Három Hattyú</td><td>31</td><td>2016-10-29</td><td>2</td></tr>",
            "<tr><td>Hotel Három Hattyú</td><td>31</td><td>2016-12-17</td><td>2</td></tr>",
            "<tr><td>Hotel Három Hattyú</td><td>31</td><td>2016-12-25</td><td>2</td></tr>",
            "<tr><td>Hotel Három Hattyú</td><td>32</td><td>2016-07-04</td><td>NULL</td></tr>",
            "<tr><td>Hotel Három Hattyú</td><td>32</td><td>2016-09-08</td><td>3</td></tr>",
            "<tr><td>Hotel Három Hattyú</td><td>32</td><td>2016-09-17</td><td>3</td></tr>",
            "<tr><td>Hotel Három Hattyú</td><td>32</td><td>2016-10-19</td><td>3</td></tr>",
            "<tr><td>Hotel Három Hattyú</td><td>32</td><td>2016-10-28</td><td>3</td></tr>",
            "<tr><td>Hotel Három Hattyú</td><td>32</td><td>2016-11-04</td><td>3</td></tr>",
            "<tr><td>Hotel Három Hattyú</td><td>32</td><td>2016-12-02</td><td>3</td></tr>",
            "<tr><td>Hotel Három Hattyú</td><td>32</td><td>2016-12-23</td><td>3</td></tr>",
            "<tr><td>Hotel Három Hattyú</td><td>32</td><td>2017-01-15</td><td>3</td></tr>",
            "<tr><td>Hotel Három Hattyú</td><td>33</td><td>2016-04-19</td><td>NULL</td></tr>",
            "<tr><td>Hotel Három Hattyú</td><td>33</td><td>2016-06-07</td><td>1</td></tr>",
            "<tr><td>Hotel Három Hattyú</td><td>33</td><td>2016-06-16</td><td>1</td></tr>",
            "<tr><td>Hotel Három Hattyú</td><td>33</td><td>2016-10-30</td><td>1</td></tr>",
            "<tr><td>Hotel Három Hattyú</td><td>33</td><td>2016-11-15</td><td>2</td></tr>",
            "<tr><td>Hotel Három Hattyú</td><td>34</td><td>2016-05-27</td><td>NULL</td></tr>",
            "<tr><td>Hotel Három Hattyú</td><td>34</td><td>2016-10-28</td><td>3</td></tr>",
            "<tr><td>Hotel Három Hattyú</td><td>34</td><td>2016-11-29</td><td>3</td></tr>",
            "<tr><td>Hotel Három Hattyú</td><td>34</td><td>2016-12-29</td><td>3</td></tr>",
            "<tr><td>Hotel Három Hattyú</td><td>34</td><td>2017-01-05</td><td>2</td></tr>",
            "<tr><td>Hotel Három Hattyú</td><td>34</td><td>2017-02-13</td><td>2</td></tr>",
            "<tr><td>Hotel Három Hattyú</td><td>35</td><td>2016-04-11</td><td>NULL</td></tr>",
            "<tr><td>Hotel Három Hattyú</td><td>36</td><td>2016-08-04</td><td>NULL</td></tr>",
            "<tr><td>Hotel Három Hattyú</td><td>36</td><td>2016-08-21</td><td>3</td></tr>",
            "<tr><td>Hotel Három Hattyú</td><td>36</td><td>2016-10-08</td><td>2</td></tr>",
            "<tr><td>Hotel Három Hattyú</td><td>36</td><td>2016-12-15</td><td>2</td></tr>",
            "<tr><td>Hotel Három Hattyú</td><td>36</td><td>2017-01-09</td><td>2</td></tr>",
            "<tr><td>Hotel Három Hattyú</td><td>36</td><td>2017-02-05</td><td>1</td></tr>",
            "<tr><td>Hotel Három Hattyú</td><td>37</td><td>2016-05-14</td><td>NULL</td></tr>",
            "<tr><td>Hotel Három Hattyú</td><td>37</td><td>2016-05-24</td><td>2</td></tr>",
            "<tr><td>Hotel Három Hattyú</td><td>37</td><td>2016-05-30</td><td>2</td></tr>",
            "<tr><td>Hotel Három Hattyú</td><td>37</td><td>2016-09-06</td><td>2</td></tr>",
            "<tr><td>Hotel Három Hattyú</td><td>37</td><td>2016-10-30</td><td>1</td></tr>",
            "<tr><td>Hotel Három Hattyú</td><td>37</td><td>2016-11-16</td><td>2</td></tr>",
            "<tr><td>Hotel Három Hattyú</td><td>37</td><td>2017-02-28</td><td>2</td></tr>",
            "<tr><td>Hotel Három Hattyú</td><td>38</td><td>2016-07-26</td><td>NULL</td></tr>",
            "<tr><td>Hotel Három Hattyú</td><td>38</td><td>2016-08-24</td><td>2</td></tr>",
            "<tr><td>Hotel Három Hattyú</td><td>38</td><td>2016-11-19</td><td>2</td></tr>",
            "<tr><td>Hotel Három Hattyú</td><td>38</td><td>2017-02-26</td><td>2</td></tr>",
            "<tr><td>Hotel Három Hattyú</td><td>38</td><td>2017-03-03</td><td>2</td></tr>",
            "<tr><td>Hotel Három Hattyú</td><td>39</td><td>2016-07-27</td><td>NULL</td></tr>",
            "<tr><td>Hotel Három Hattyú</td><td>39</td><td>2016-12-13</td><td>2</td></tr>",
            "<tr><td>Hotel Három Hattyú</td><td>39</td><td>2017-01-16</td><td>2</td></tr>",
            "<tr><td>Hotel Három Hattyú</td><td>39</td><td>2017-02-08</td><td>2</td></tr>",
            "<tr><td>Hotel Három Hattyú</td><td>4</td><td>2016-05-02</td><td>NULL</td></tr>",
            "<tr><td>Hotel Három Hattyú</td><td>4</td><td>2016-06-21</td><td>2</td></tr>",
            "<tr><td>Hotel Három Hattyú</td><td>4</td><td>2016-07-13</td><td>2</td></tr>",
            "<tr><td>Hotel Három Hattyú</td><td>4</td><td>2016-07-27</td><td>2</td></tr>",
            "<tr><td>Hotel Három Hattyú</td><td>4</td><td>2016-11-03</td><td>2</td></tr>",
            "<tr><td>Hotel Három Hattyú</td><td>4</td><td>2016-11-22</td><td>2</td></tr>",
            "<tr><td>Hotel Három Hattyú</td><td>4</td><td>2016-11-23</td><td>2</td></tr>",
            "<tr><td>Hotel Három Hattyú</td><td>4</td><td>2016-12-17</td><td>1</td></tr>",
            "<tr><td>Hotel Három Hattyú</td><td>4</td><td>2017-02-12</td><td>1</td></tr>",
            "<tr><td>Hotel Három Hattyú</td><td>4</td><td>2017-02-23</td><td>1</td></tr>",
            "<tr><td>Hotel Három Hattyú</td><td>5</td><td>2016-05-19</td><td>NULL</td></tr>",
            "<tr><td>Hotel Három Hattyú</td><td>5</td><td>2016-09-13</td><td>2</td></tr>",
            "<tr><td>Hotel Három Hattyú</td><td>5</td><td>2016-10-01</td><td>1</td></tr>",
            "<tr><td>Hotel Három Hattyú</td><td>5</td><td>2017-02-16</td><td>2</td></tr>",
            "<tr><td>Hotel Három Hattyú</td><td>6</td><td>2016-04-28</td><td>NULL</td></tr>",
            "<tr><td>Hotel Három Hattyú</td><td>6</td><td>2016-05-08</td><td>3</td></tr>",
            "<tr><td>Hotel Három Hattyú</td><td>6</td><td>2016-07-14</td><td>3</td></tr>",
            "<tr><td>Hotel Három Hattyú</td><td>6</td><td>2016-08-15</td><td>3</td></tr>",
            "<tr><td>Hotel Három Hattyú</td><td>6</td><td>2016-12-18</td><td>2</td></tr>",
            "<tr><td>Hotel Három Hattyú</td><td>6</td><td>2017-01-14</td><td>2</td></tr>",
            "<tr><td>Hotel Három Hattyú</td><td>6</td><td>2017-02-24</td><td>2</td></tr>",
            "<tr><td>Hotel Három Hattyú</td><td>7</td><td>2016-05-10</td><td>NULL</td></tr>",
            "<tr><td>Hotel Három Hattyú</td><td>7</td><td>2016-07-27</td><td>4</td></tr>",
            "<tr><td>Hotel Három Hattyú</td><td>7</td><td>2016-07-27</td><td>4</td></tr>",
            "<tr><td>Hotel Három Hattyú</td><td>7</td><td>2016-08-29</td><td>4</td></tr>",
            "<tr><td>Hotel Három Hattyú</td><td>7</td><td>2016-12-25</td><td>3</td></tr>",
            "<tr><td>Hotel Három Hattyú</td><td>7</td><td>2017-01-03</td><td>3</td></tr>",
            "<tr><td>Hotel Három Hattyú</td><td>7</td><td>2017-02-13</td><td>3</td></tr>",
            "<tr><td>Hotel Három Hattyú</td><td>8</td><td>2016-05-09</td><td>NULL</td></tr>",
            "<tr><td>Hotel Három Hattyú</td><td>8</td><td>2016-05-30</td><td>1</td></tr>",
            "<tr><td>Hotel Három Hattyú</td><td>8</td><td>2016-09-13</td><td>1</td></tr>",
            "<tr><td>Hotel Három Hattyú</td><td>8</td><td>2016-12-28</td><td>1</td></tr>",
            "<tr><td>Hotel Három Hattyú</td><td>9</td><td>2016-05-09</td><td>NULL</td></tr>",
            "<tr><td>Hotel Három Hattyú</td><td>9</td><td>2016-07-20</td><td>2</td></tr>",
            "<tr><td>Hotel Három Hattyú</td><td>9</td><td>2016-09-20</td><td>2</td></tr>",
            "<tr><td>Hotel Három Hattyú</td><td>9</td><td>2016-12-31</td><td>2</td></tr>",
            "<tr><td>Hotel Három Hattyú</td><td>9</td><td>2017-01-31</td><td>2</td></tr>",
            "<tr><td>Jáde panzió</td><td>1</td><td>2016-04-14</td><td>NULL</td></tr>",
            "<tr><td>Jáde panzió</td><td>1</td><td>2016-05-01</td><td>2</td></tr>",
            "<tr><td>Jáde panzió</td><td>1</td><td>2016-06-06</td><td>2</td></tr>",
            "<tr><td>Jáde panzió</td><td>1</td><td>2016-08-15</td><td>2</td></tr>",
            "<tr><td>Jáde panzió</td><td>1</td><td>2016-09-09</td><td>1</td></tr>",
            "<tr><td>Jáde panzió</td><td>1</td><td>2017-01-26</td><td>1</td></tr>",
            "<tr><td>Jáde panzió</td><td>2</td><td>2016-04-06</td><td>NULL</td></tr>",
            "<tr><td>Jáde panzió</td><td>2</td><td>2016-05-18</td><td>2</td></tr>",
            "<tr><td>Jáde panzió</td><td>2</td><td>2016-05-30</td><td>2</td></tr>",
            "<tr><td>Jáde panzió</td><td>2</td><td>2016-08-06</td><td>1</td></tr>",
            "<tr><td>Jáde panzió</td><td>2</td><td>2017-01-25</td><td>1</td></tr>",
            "<tr><td>Jáde panzió</td><td>3</td><td>2016-05-04</td><td>NULL</td></tr>",
            "<tr><td>Jáde panzió</td><td>3</td><td>2016-07-01</td><td>2</td></tr>",
            "<tr><td>Jáde panzió</td><td>3</td><td>2016-09-30</td><td>2</td></tr>",
            "<tr><td>Jáde panzió</td><td>3</td><td>2016-10-01</td><td>2</td></tr>",
            "<tr><td>Jáde panzió</td><td>3</td><td>2016-11-22</td><td>2</td></tr>",
            "<tr><td>Jáde panzió</td><td>3</td><td>2017-02-12</td><td>2</td></tr>",
            "<tr><td>Jáde panzió</td><td>4</td><td>2016-06-06</td><td>NULL</td></tr>",
            "<tr><td>Jáde panzió</td><td>4</td><td>2016-06-27</td><td>3</td></tr>",
            "<tr><td>Jáde panzió</td><td>4</td><td>2016-10-12</td><td>2</td></tr>",
            "<tr><td>Jáde panzió</td><td>4</td><td>2016-11-22</td><td>2</td></tr>",
            "<tr><td>Jáde panzió</td><td>4</td><td>2016-12-15</td><td>2</td></tr>",
            "<tr><td>Jáde panzió</td><td>4</td><td>2017-01-01</td><td>2</td></tr>",
            "<tr><td>Jáde panzió</td><td>5</td><td>2016-07-03</td><td>NULL</td></tr>",
            "<tr><td>Jáde panzió</td><td>5</td><td>2016-07-11</td><td>2</td></tr>",
            "<tr><td>Jáde panzió</td><td>5</td><td>2016-09-12</td><td>2</td></tr>",
            "<tr><td>Jáde panzió</td><td>5</td><td>2016-10-22</td><td>2</td></tr>",
            "<tr><td>Jáde panzió</td><td>5</td><td>2016-10-30</td><td>2</td></tr>",
            "<tr><td>Jáde panzió</td><td>5</td><td>2017-02-15</td><td>2</td></tr>",
            "<tr><td>Kentaur Hotel</td><td>1</td><td>2016-08-16</td><td>NULL</td></tr>",
            "<tr><td>Kentaur Hotel</td><td>1</td><td>2016-09-18</td><td>1</td></tr>",
            "<tr><td>Kentaur Hotel</td><td>1</td><td>2016-10-30</td><td>1</td></tr>",
            "<tr><td>Kentaur Hotel</td><td>1</td><td>2016-11-10</td><td>1</td></tr>",
            "<tr><td>Kentaur Hotel</td><td>10</td><td>2016-09-25</td><td>NULL</td></tr>",
            "<tr><td>Kentaur Hotel</td><td>10</td><td>2016-09-28</td><td>3</td></tr>",
            "<tr><td>Kentaur Hotel</td><td>10</td><td>2016-10-20</td><td>2</td></tr>",
            "<tr><td>Kentaur Hotel</td><td>10</td><td>2016-10-25</td><td>2</td></tr>",
            "<tr><td>Kentaur Hotel</td><td>10</td><td>2016-11-03</td><td>2</td></tr>",
            "<tr><td>Kentaur Hotel</td><td>10</td><td>2016-11-17</td><td>2</td></tr>",
            "<tr><td>Kentaur Hotel</td><td>10</td><td>2017-02-26</td><td>2</td></tr>",
            "<tr><td>Kentaur Hotel</td><td>11</td><td>2016-07-16</td><td>NULL</td></tr>",
            "<tr><td>Kentaur Hotel</td><td>12</td><td>2016-07-21</td><td>NULL</td></tr>",
            "<tr><td>Kentaur Hotel</td><td>12</td><td>2016-08-05</td><td>2</td></tr>",
            "<tr><td>Kentaur Hotel</td><td>12</td><td>2016-10-11</td><td>2</td></tr>",
            "<tr><td>Kentaur Hotel</td><td>12</td><td>2016-10-29</td><td>2</td></tr>",
            "<tr><td>Kentaur Hotel</td><td>12</td><td>2017-02-04</td><td>2</td></tr>",
            "<tr><td>Kentaur Hotel</td><td>13</td><td>2016-06-08</td><td>NULL</td></tr>",
            "<tr><td>Kentaur Hotel</td><td>13</td><td>2016-06-09</td><td>2</td></tr>",
            "<tr><td>Kentaur Hotel</td><td>13</td><td>2016-07-21</td><td>2</td></tr>",
            "<tr><td>Kentaur Hotel</td><td>13</td><td>2016-09-26</td><td>1</td></tr>",
            "<tr><td>Kentaur Hotel</td><td>13</td><td>2017-01-09</td><td>1</td></tr>",
            "<tr><td>Kentaur Hotel</td><td>14</td><td>2016-05-08</td><td>NULL</td></tr>",
            "<tr><td>Kentaur Hotel</td><td>14</td><td>2016-06-02</td><td>2</td></tr>",
            "<tr><td>Kentaur Hotel</td><td>14</td><td>2016-08-12</td><td>1</td></tr>",
            "<tr><td>Kentaur Hotel</td><td>14</td><td>2016-09-02</td><td>1</td></tr>",
            "<tr><td>Kentaur Hotel</td><td>15</td><td>2016-05-30</td><td>NULL</td></tr>",
            "<tr><td>Kentaur Hotel</td><td>15</td><td>2016-10-05</td><td>2</td></tr>",
            "<tr><td>Kentaur Hotel</td><td>15</td><td>2016-10-31</td><td>2</td></tr>",
            "<tr><td>Kentaur Hotel</td><td>15</td><td>2017-01-16</td><td>2</td></tr>",
            "<tr><td>Kentaur Hotel</td><td>15</td><td>2017-01-22</td><td>2</td></tr>",
            "<tr><td>Kentaur Hotel</td><td>15</td><td>2017-03-02</td><td>2</td></tr>",
            "<tr><td>Kentaur Hotel</td><td>16</td><td>2016-05-17</td><td>NULL</td></tr>",
            "<tr><td>Kentaur Hotel</td><td>17</td><td>2016-06-10</td><td>NULL</td></tr>",
            "<tr><td>Kentaur Hotel</td><td>17</td><td>2016-07-29</td><td>3</td></tr>",
            "<tr><td>Kentaur Hotel</td><td>17</td><td>2016-11-01</td><td>3</td></tr>",
            "<tr><td>Kentaur Hotel</td><td>17</td><td>2016-11-08</td><td>3</td></tr>",
            "<tr><td>Kentaur Hotel</td><td>18</td><td>2016-05-12</td><td>NULL</td></tr>",
            "<tr><td>Kentaur Hotel</td><td>18</td><td>2016-05-14</td><td>1</td></tr>",
            "<tr><td>Kentaur Hotel</td><td>18</td><td>2016-05-30</td><td>2</td></tr>",
            "<tr><td>Kentaur Hotel</td><td>18</td><td>2016-12-22</td><td>2</td></tr>",
            "<tr><td>Kentaur Hotel</td><td>18</td><td>2017-03-01</td><td>2</td></tr>",
            "<tr><td>Kentaur Hotel</td><td>18</td><td>2017-03-03</td><td>2</td></tr>",
            "<tr><td>Kentaur Hotel</td><td>19</td><td>2016-04-07</td><td>NULL</td></tr>",
            "<tr><td>Kentaur Hotel</td><td>19</td><td>2016-07-12</td><td>4</td></tr>",
            "<tr><td>Kentaur Hotel</td><td>19</td><td>2016-11-27</td><td>4</td></tr>",
            "<tr><td>Kentaur Hotel</td><td>2</td><td>2016-05-28</td><td>NULL</td></tr>",
            "<tr><td>Kentaur Hotel</td><td>2</td><td>2016-08-23</td><td>2</td></tr>",
            "<tr><td>Kentaur Hotel</td><td>2</td><td>2016-10-19</td><td>2</td></tr>",
            "<tr><td>Kentaur Hotel</td><td>2</td><td>2017-01-28</td><td>2</td></tr>",
            "<tr><td>Kentaur Hotel</td><td>2</td><td>2017-02-18</td><td>2</td></tr>",
            "<tr><td>Kentaur Hotel</td><td>20</td><td>2016-05-31</td><td>NULL</td></tr>",
            "<tr><td>Kentaur Hotel</td><td>20</td><td>2016-09-15</td><td>3</td></tr>",
            "<tr><td>Kentaur Hotel</td><td>20</td><td>2016-10-30</td><td>3</td></tr>",
            "<tr><td>Kentaur Hotel</td><td>20</td><td>2016-11-05</td><td>2</td></tr>",
            "<tr><td>Kentaur Hotel</td><td>21</td><td>2016-04-17</td><td>NULL</td></tr>",
            "<tr><td>Kentaur Hotel</td><td>21</td><td>2016-05-27</td><td>3</td></tr>",
            "<tr><td>Kentaur Hotel</td><td>21</td><td>2016-07-03</td><td>2</td></tr>",
            "<tr><td>Kentaur Hotel</td><td>21</td><td>2016-07-22</td><td>1</td></tr>",
            "<tr><td>Kentaur Hotel</td><td>21</td><td>2016-08-24</td><td>2</td></tr>",
            "<tr><td>Kentaur Hotel</td><td>21</td><td>2016-09-30</td><td>2</td></tr>",
            "<tr><td>Kentaur Hotel</td><td>21</td><td>2016-10-07</td><td>2</td></tr>",
            "<tr><td>Kentaur Hotel</td><td>21</td><td>2016-11-27</td><td>2</td></tr>",
            "<tr><td>Kentaur Hotel</td><td>21</td><td>2016-11-30</td><td>2</td></tr>",
            "<tr><td>Kentaur Hotel</td><td>21</td><td>2016-12-15</td><td>2</td></tr>",
            "<tr><td>Kentaur Hotel</td><td>21</td><td>2017-01-19</td><td>2</td></tr>",
            "<tr><td>Kentaur Hotel</td><td>22</td><td>2016-07-04</td><td>NULL</td></tr>",
            "<tr><td>Kentaur Hotel</td><td>22</td><td>2016-07-18</td><td>3</td></tr>",
            "<tr><td>Kentaur Hotel</td><td>22</td><td>2016-07-24</td><td>2</td></tr>",
            "<tr><td>Kentaur Hotel</td><td>23</td><td>2016-06-04</td><td>NULL</td></tr>",
            "<tr><td>Kentaur Hotel</td><td>23</td><td>2016-06-16</td><td>2</td></tr>",
            "<tr><td>Kentaur Hotel</td><td>23</td><td>2016-11-25</td><td>2</td></tr>",
            "<tr><td>Kentaur Hotel</td><td>23</td><td>2016-12-25</td><td>2</td></tr>",
            "<tr><td>Kentaur Hotel</td><td>24</td><td>2016-07-01</td><td>NULL</td></tr>",
            "<tr><td>Kentaur Hotel</td><td>24</td><td>2016-07-25</td><td>2</td></tr>",
            "<tr><td>Kentaur Hotel</td><td>24</td><td>2016-10-16</td><td>2</td></tr>",
            "<tr><td>Kentaur Hotel</td><td>24</td><td>2016-11-29</td><td>2</td></tr>",
            "<tr><td>Kentaur Hotel</td><td>25</td><td>2016-04-22</td><td>NULL</td></tr>",
            "<tr><td>Kentaur Hotel</td><td>25</td><td>2016-05-30</td><td>2</td></tr>",
            "<tr><td>Kentaur Hotel</td><td>25</td><td>2016-06-09</td><td>2</td></tr>",
            "<tr><td>Kentaur Hotel</td><td>25</td><td>2016-06-16</td><td>3</td></tr>",
            "<tr><td>Kentaur Hotel</td><td>25</td><td>2016-08-18</td><td>3</td></tr>",
            "<tr><td>Kentaur Hotel</td><td>25</td><td>2016-08-28</td><td>3</td></tr>",
            "<tr><td>Kentaur Hotel</td><td>25</td><td>2016-09-03</td><td>3</td></tr>",
            "<tr><td>Kentaur Hotel</td><td>25</td><td>2016-09-30</td><td>3</td></tr>",
            "<tr><td>Kentaur Hotel</td><td>25</td><td>2016-10-22</td><td>3</td></tr>",
            "<tr><td>Kentaur Hotel</td><td>26</td><td>2016-07-06</td><td>NULL</td></tr>",
            "<tr><td>Kentaur Hotel</td><td>26</td><td>2017-01-01</td><td>2</td></tr>",
            "<tr><td>Kentaur Hotel</td><td>26</td><td>2017-01-19</td><td>2</td></tr>",
            "<tr><td>Kentaur Hotel</td><td>27</td><td>2016-06-22</td><td>NULL</td></tr>",
            "<tr><td>Kentaur Hotel</td><td>27</td><td>2016-07-18</td><td>1</td></tr>",
            "<tr><td>Kentaur Hotel</td><td>27</td><td>2017-02-21</td><td>1</td></tr>",
            "<tr><td>Kentaur Hotel</td><td>28</td><td>2016-04-21</td><td>NULL</td></tr>",
            "<tr><td>Kentaur Hotel</td><td>28</td><td>2016-06-23</td><td>3</td></tr>",
            "<tr><td>Kentaur Hotel</td><td>28</td><td>2016-07-20</td><td>3</td></tr>",
            "<tr><td>Kentaur Hotel</td><td>28</td><td>2016-10-01</td><td>3</td></tr>",
            "<tr><td>Kentaur Hotel</td><td>28</td><td>2017-01-15</td><td>3</td></tr>",
            "<tr><td>Kentaur Hotel</td><td>28</td><td>2017-01-22</td><td>3</td></tr>",
            "<tr><td>Kentaur Hotel</td><td>29</td><td>2016-04-10</td><td>NULL</td></tr>",
            "<tr><td>Kentaur Hotel</td><td>29</td><td>2016-05-14</td><td>2</td></tr>",
            "<tr><td>Kentaur Hotel</td><td>29</td><td>2016-07-20</td><td>2</td></tr>",
            "<tr><td>Kentaur Hotel</td><td>29</td><td>2016-11-09</td><td>2</td></tr>",
            "<tr><td>Kentaur Hotel</td><td>29</td><td>2016-11-15</td><td>2</td></tr>",
            "<tr><td>Kentaur Hotel</td><td>29</td><td>2017-02-27</td><td>2</td></tr>",
            "<tr><td>Kentaur Hotel</td><td>3</td><td>2016-08-24</td><td>NULL</td></tr>",
            "<tr><td>Kentaur Hotel</td><td>3</td><td>2016-10-26</td><td>2</td></tr>",
            "<tr><td>Kentaur Hotel</td><td>3</td><td>2016-11-07</td><td>1</td></tr>",
            "<tr><td>Kentaur Hotel</td><td>3</td><td>2017-01-10</td><td>1</td></tr>",
            "<tr><td>Kentaur Hotel</td><td>3</td><td>2017-02-14</td><td>1</td></tr>",
            "<tr><td>Kentaur Hotel</td><td>30</td><td>2016-04-16</td><td>NULL</td></tr>",
            "<tr><td>Kentaur Hotel</td><td>30</td><td>2016-09-15</td><td>3</td></tr>",
            "<tr><td>Kentaur Hotel</td><td>30</td><td>2016-10-30</td><td>3</td></tr>",
            "<tr><td>Kentaur Hotel</td><td>30</td><td>2016-12-05</td><td>3</td></tr>",
            "<tr><td>Kentaur Hotel</td><td>30</td><td>2017-01-16</td><td>2</td></tr>",
            "<tr><td>Kentaur Hotel</td><td>31</td><td>2016-06-01</td><td>NULL</td></tr>",
            "<tr><td>Kentaur Hotel</td><td>31</td><td>2016-06-07</td><td>2</td></tr>",
            "<tr><td>Kentaur Hotel</td><td>31</td><td>2016-06-23</td><td>2</td></tr>",
            "<tr><td>Kentaur Hotel</td><td>31</td><td>2016-07-13</td><td>2</td></tr>",
            "<tr><td>Kentaur Hotel</td><td>31</td><td>2016-09-20</td><td>2</td></tr>",
            "<tr><td>Kentaur Hotel</td><td>31</td><td>2016-11-14</td><td>2</td></tr>",
            "<tr><td>Kentaur Hotel</td><td>31</td><td>2016-12-17</td><td>2</td></tr>",
            "<tr><td>Kentaur Hotel</td><td>32</td><td>2016-12-16</td><td>NULL</td></tr>",
            "<tr><td>Kentaur Hotel</td><td>32</td><td>2017-01-16</td><td>1</td></tr>",
            "<tr><td>Kentaur Hotel</td><td>32</td><td>2017-01-22</td><td>1</td></tr>",
            "<tr><td>Kentaur Hotel</td><td>32</td><td>2017-02-06</td><td>1</td></tr>",
            "<tr><td>Kentaur Hotel</td><td>32</td><td>2017-02-23</td><td>1</td></tr>",
            "<tr><td>Kentaur Hotel</td><td>33</td><td>2016-05-27</td><td>NULL</td></tr>",
            "<tr><td>Kentaur Hotel</td><td>33</td><td>2016-05-29</td><td>3</td></tr>",
            "<tr><td>Kentaur Hotel</td><td>33</td><td>2016-07-01</td><td>3</td></tr>",
            "<tr><td>Kentaur Hotel</td><td>33</td><td>2016-11-12</td><td>2</td></tr>",
            "<tr><td>Kentaur Hotel</td><td>33</td><td>2016-12-04</td><td>2</td></tr>",
            "<tr><td>Kentaur Hotel</td><td>33</td><td>2016-12-29</td><td>2</td></tr>",
            "<tr><td>Kentaur Hotel</td><td>34</td><td>2016-04-10</td><td>NULL</td></tr>",
            "<tr><td>Kentaur Hotel</td><td>34</td><td>2016-05-28</td><td>2</td></tr>",
            "<tr><td>Kentaur Hotel</td><td>34</td><td>2016-05-30</td><td>2</td></tr>",
            "<tr><td>Kentaur Hotel</td><td>34</td><td>2016-06-30</td><td>2</td></tr>",
            "<tr><td>Kentaur Hotel</td><td>34</td><td>2016-07-15</td><td>2</td></tr>",
            "<tr><td>Kentaur Hotel</td><td>34</td><td>2016-08-18</td><td>2</td></tr>",
            "<tr><td>Kentaur Hotel</td><td>34</td><td>2016-10-04</td><td>2</td></tr>",
            "<tr><td>Kentaur Hotel</td><td>34</td><td>2016-12-19</td><td>2</td></tr>",
            "<tr><td>Kentaur Hotel</td><td>35</td><td>2016-06-13</td><td>NULL</td></tr>",
            "<tr><td>Kentaur Hotel</td><td>35</td><td>2016-08-24</td><td>1</td></tr>",
            "<tr><td>Kentaur Hotel</td><td>35</td><td>2016-12-17</td><td>1</td></tr>",
            "<tr><td>Kentaur Hotel</td><td>35</td><td>2016-12-22</td><td>2</td></tr>",
            "<tr><td>Kentaur Hotel</td><td>4</td><td>2016-05-24</td><td>NULL</td></tr>",
            "<tr><td>Kentaur Hotel</td><td>4</td><td>2016-06-26</td><td>3</td></tr>",
            "<tr><td>Kentaur Hotel</td><td>5</td><td>2016-05-07</td><td>NULL</td></tr>",
            "<tr><td>Kentaur Hotel</td><td>5</td><td>2016-05-13</td><td>2</td></tr>",
            "<tr><td>Kentaur Hotel</td><td>5</td><td>2016-06-02</td><td>2</td></tr>",
            "<tr><td>Kentaur Hotel</td><td>5</td><td>2016-07-14</td><td>2</td></tr>",
            "<tr><td>Kentaur Hotel</td><td>5</td><td>2016-09-30</td><td>2</td></tr>",
            "<tr><td>Kentaur Hotel</td><td>5</td><td>2016-11-28</td><td>2</td></tr>",
            "<tr><td>Kentaur Hotel</td><td>6</td><td>2016-07-28</td><td>NULL</td></tr>",
            "<tr><td>Kentaur Hotel</td><td>6</td><td>2016-09-28</td><td>3</td></tr>",
            "<tr><td>Kentaur Hotel</td><td>6</td><td>2016-10-17</td><td>2</td></tr>",
            "<tr><td>Kentaur Hotel</td><td>6</td><td>2016-10-30</td><td>2</td></tr>",
            "<tr><td>Kentaur Hotel</td><td>6</td><td>2016-11-28</td><td>2</td></tr>",
            "<tr><td>Kentaur Hotel</td><td>6</td><td>2016-12-24</td><td>2</td></tr>",
            "<tr><td>Kentaur Hotel</td><td>6</td><td>2017-02-08</td><td>2</td></tr>",
            "<tr><td>Kentaur Hotel</td><td>6</td><td>2017-02-12</td><td>2</td></tr>",
            "<tr><td>Kentaur Hotel</td><td>7</td><td>2016-06-08</td><td>NULL</td></tr>",
            "<tr><td>Kentaur Hotel</td><td>7</td><td>2016-08-29</td><td>1</td></tr>",
            "<tr><td>Kentaur Hotel</td><td>8</td><td>2016-12-06</td><td>NULL</td></tr>",
            "<tr><td>Kentaur Hotel</td><td>8</td><td>2016-12-25</td><td>2</td></tr>",
            "<tr><td>Kentaur Hotel</td><td>8</td><td>2017-01-22</td><td>2</td></tr>",
            "<tr><td>Kentaur Hotel</td><td>8</td><td>2017-02-06</td><td>1</td></tr>",
            "<tr><td>Kentaur Hotel</td><td>9</td><td>2016-05-30</td><td>NULL</td></tr>",
            "<tr><td>Kentaur Hotel</td><td>9</td><td>2016-07-27</td><td>2</td></tr>",
            "<tr><td>Kentaur Hotel</td><td>9</td><td>2016-08-12</td><td>2</td></tr>",
            "<tr><td>Kentaur Hotel</td><td>9</td><td>2016-10-01</td><td>2</td></tr>",
            "<tr><td>Kentaur Hotel</td><td>9</td><td>2016-10-23</td><td>2</td></tr>",
            "<tr><td>Kentaur Hotel</td><td>9</td><td>2016-10-28</td><td>2</td></tr>",
            "<tr><td>Kentaur Hotel</td><td>9</td><td>2016-11-06</td><td>2</td></tr>",
            "<tr><td>Kentaur Hotel</td><td>9</td><td>2016-11-07</td><td>2</td></tr>",
            "<tr><td>Kentaur Hotel</td><td>9</td><td>2016-11-16</td><td>2</td></tr>",
            "<tr><td>Kentaur Hotel</td><td>9</td><td>2016-11-19</td><td>2</td></tr>",
            "<tr><td>Kentaur Hotel</td><td>9</td><td>2016-11-23</td><td>2</td></tr>",
            "<tr><td>Kentaur Hotel</td><td>9</td><td>2016-11-26</td><td>2</td></tr>",
            "<tr><td>Kentaur Hotel</td><td>9</td><td>2017-01-17</td><td>2</td></tr>",
            "<tr><td>Lagúna Hotel</td><td>1</td><td>2016-07-27</td><td>NULL</td></tr>",
            "<tr><td>Lagúna Hotel</td><td>1</td><td>2016-09-05</td><td>2</td></tr>",
            "<tr><td>Lagúna Hotel</td><td>1</td><td>2016-11-18</td><td>2</td></tr>",
            "<tr><td>Lagúna Hotel</td><td>10</td><td>2016-04-15</td><td>NULL</td></tr>",
            "<tr><td>Lagúna Hotel</td><td>10</td><td>2016-09-29</td><td>3</td></tr>",
            "<tr><td>Lagúna Hotel</td><td>10</td><td>2016-10-26</td><td>3</td></tr>",
            "<tr><td>Lagúna Hotel</td><td>10</td><td>2016-11-19</td><td>3</td></tr>",
            "<tr><td>Lagúna Hotel</td><td>10</td><td>2017-02-25</td><td>3</td></tr>",
            "<tr><td>Lagúna Hotel</td><td>11</td><td>2016-07-22</td><td>NULL</td></tr>",
            "<tr><td>Lagúna Hotel</td><td>11</td><td>2016-09-23</td><td>4</td></tr>",
            "<tr><td>Lagúna Hotel</td><td>11</td><td>2016-10-04</td><td>3</td></tr>",
            "<tr><td>Lagúna Hotel</td><td>11</td><td>2016-10-09</td><td>3</td></tr>",
            "<tr><td>Lagúna Hotel</td><td>11</td><td>2016-12-02</td><td>2</td></tr>",
            "<tr><td>Lagúna Hotel</td><td>11</td><td>2017-01-23</td><td>2</td></tr>",
            "<tr><td>Lagúna Hotel</td><td>12</td><td>2016-06-02</td><td>NULL</td></tr>",
            "<tr><td>Lagúna Hotel</td><td>12</td><td>2016-07-13</td><td>3</td></tr>",
            "<tr><td>Lagúna Hotel</td><td>12</td><td>2016-08-16</td><td>2</td></tr>",
            "<tr><td>Lagúna Hotel</td><td>12</td><td>2016-08-20</td><td>2</td></tr>",
            "<tr><td>Lagúna Hotel</td><td>12</td><td>2016-09-05</td><td>2</td></tr>",
            "<tr><td>Lagúna Hotel</td><td>12</td><td>2017-01-28</td><td>2</td></tr>",
            "<tr><td>Lagúna Hotel</td><td>13</td><td>2016-08-12</td><td>NULL</td></tr>",
            "<tr><td>Lagúna Hotel</td><td>14</td><td>2016-07-17</td><td>NULL</td></tr>",
            "<tr><td>Lagúna Hotel</td><td>14</td><td>2016-08-09</td><td>2</td></tr>",
            "<tr><td>Lagúna Hotel</td><td>14</td><td>2016-08-16</td><td>2</td></tr>",
            "<tr><td>Lagúna Hotel</td><td>14</td><td>2016-08-23</td><td>2</td></tr>",
            "<tr><td>Lagúna Hotel</td><td>14</td><td>2016-08-23</td><td>2</td></tr>",
            "<tr><td>Lagúna Hotel</td><td>14</td><td>2017-02-27</td><td>2</td></tr>",
            "<tr><td>Lagúna Hotel</td><td>15</td><td>2016-04-20</td><td>NULL</td></tr>",
            "<tr><td>Lagúna Hotel</td><td>15</td><td>2016-05-18</td><td>2</td></tr>",
            "<tr><td>Lagúna Hotel</td><td>15</td><td>2016-08-28</td><td>1</td></tr>",
            "<tr><td>Lagúna Hotel</td><td>15</td><td>2016-08-29</td><td>1</td></tr>",
            "<tr><td>Lagúna Hotel</td><td>15</td><td>2016-09-01</td><td>1</td></tr>",
            "<tr><td>Lagúna Hotel</td><td>15</td><td>2016-10-10</td><td>1</td></tr>",
            "<tr><td>Lagúna Hotel</td><td>15</td><td>2017-02-09</td><td>1</td></tr>",
            "<tr><td>Lagúna Hotel</td><td>16</td><td>2016-05-13</td><td>NULL</td></tr>",
            "<tr><td>Lagúna Hotel</td><td>16</td><td>2016-10-01</td><td>3</td></tr>",
            "<tr><td>Lagúna Hotel</td><td>16</td><td>2016-10-01</td><td>3</td></tr>",
            "<tr><td>Lagúna Hotel</td><td>16</td><td>2016-10-22</td><td>2</td></tr>",
            "<tr><td>Lagúna Hotel</td><td>16</td><td>2016-10-26</td><td>2</td></tr>",
            "<tr><td>Lagúna Hotel</td><td>16</td><td>2017-01-10</td><td>2</td></tr>",
            "<tr><td>Lagúna Hotel</td><td>17</td><td>2016-06-03</td><td>NULL</td></tr>",
            "<tr><td>Lagúna Hotel</td><td>17</td><td>2016-09-16</td><td>1</td></tr>",
            "<tr><td>Lagúna Hotel</td><td>17</td><td>2016-10-02</td><td>1</td></tr>",
            "<tr><td>Lagúna Hotel</td><td>18</td><td>2016-07-28</td><td>NULL</td></tr>",
            "<tr><td>Lagúna Hotel</td><td>18</td><td>2016-10-16</td><td>2</td></tr>",
            "<tr><td>Lagúna Hotel</td><td>18</td><td>2016-10-26</td><td>2</td></tr>",
            "<tr><td>Lagúna Hotel</td><td>18</td><td>2017-02-21</td><td>2</td></tr>",
            "<tr><td>Lagúna Hotel</td><td>19</td><td>2016-04-22</td><td>NULL</td></tr>",
            "<tr><td>Lagúna Hotel</td><td>19</td><td>2016-06-17</td><td>2</td></tr>",
            "<tr><td>Lagúna Hotel</td><td>19</td><td>2017-01-21</td><td>2</td></tr>",
            "<tr><td>Lagúna Hotel</td><td>19</td><td>2017-01-23</td><td>2</td></tr>",
            "<tr><td>Lagúna Hotel</td><td>19</td><td>2017-02-07</td><td>2</td></tr>",
            "<tr><td>Lagúna Hotel</td><td>2</td><td>2016-04-17</td><td>NULL</td></tr>",
            "<tr><td>Lagúna Hotel</td><td>2</td><td>2016-05-21</td><td>2</td></tr>",
            "<tr><td>Lagúna Hotel</td><td>2</td><td>2016-09-12</td><td>1</td></tr>",
            "<tr><td>Lagúna Hotel</td><td>20</td><td>2016-06-16</td><td>NULL</td></tr>",
            "<tr><td>Lagúna Hotel</td><td>20</td><td>2016-09-17</td><td>2</td></tr>",
            "<tr><td>Lagúna Hotel</td><td>20</td><td>2016-10-19</td><td>2</td></tr>",
            "<tr><td>Lagúna Hotel</td><td>20</td><td>2016-11-07</td><td>2</td></tr>",
            "<tr><td>Lagúna Hotel</td><td>20</td><td>2017-02-16</td><td>2</td></tr>",
            "<tr><td>Lagúna Hotel</td><td>21</td><td>2016-04-10</td><td>NULL</td></tr>",
            "<tr><td>Lagúna Hotel</td><td>21</td><td>2016-04-12</td><td>4</td></tr>",
            "<tr><td>Lagúna Hotel</td><td>21</td><td>2016-10-01</td><td>3</td></tr>",
            "<tr><td>Lagúna Hotel</td><td>21</td><td>2016-11-23</td><td>2</td></tr>",
            "<tr><td>Lagúna Hotel</td><td>21</td><td>2017-02-16</td><td>3</td></tr>",
            "<tr><td>Lagúna Hotel</td><td>22</td><td>2016-04-19</td><td>NULL</td></tr>",
            "<tr><td>Lagúna Hotel</td><td>22</td><td>2016-06-05</td><td>4</td></tr>",
            "<tr><td>Lagúna Hotel</td><td>22</td><td>2016-06-13</td><td>3</td></tr>",
            "<tr><td>Lagúna Hotel</td><td>22</td><td>2016-07-20</td><td>3</td></tr>",
            "<tr><td>Lagúna Hotel</td><td>22</td><td>2017-01-22</td><td>3</td></tr>",
            "<tr><td>Lagúna Hotel</td><td>22</td><td>2017-02-03</td><td>3</td></tr>",
            "<tr><td>Lagúna Hotel</td><td>22</td><td>2017-02-23</td><td>2</td></tr>",
            "<tr><td>Lagúna Hotel</td><td>23</td><td>2016-05-16</td><td>NULL</td></tr>",
            "<tr><td>Lagúna Hotel</td><td>23</td><td>2016-07-12</td><td>1</td></tr>",
            "<tr><td>Lagúna Hotel</td><td>23</td><td>2016-09-13</td><td>1</td></tr>",
            "<tr><td>Lagúna Hotel</td><td>23</td><td>2016-11-03</td><td>1</td></tr>",
            "<tr><td>Lagúna Hotel</td><td>23</td><td>2017-02-19</td><td>1</td></tr>",
            "<tr><td>Lagúna Hotel</td><td>24</td><td>2016-08-25</td><td>NULL</td></tr>",
            "<tr><td>Lagúna Hotel</td><td>24</td><td>2016-08-30</td><td>3</td></tr>",
            "<tr><td>Lagúna Hotel</td><td>24</td><td>2016-10-03</td><td>3</td></tr>",
            "<tr><td>Lagúna Hotel</td><td>3</td><td>2016-04-16</td><td>NULL</td></tr>",
            "<tr><td>Lagúna Hotel</td><td>3</td><td>2016-05-17</td><td>2</td></tr>",
            "<tr><td>Lagúna Hotel</td><td>3</td><td>2016-05-20</td><td>2</td></tr>",
            "<tr><td>Lagúna Hotel</td><td>3</td><td>2016-07-06</td><td>1</td></tr>",
            "<tr><td>Lagúna Hotel</td><td>3</td><td>2016-10-26</td><td>1</td></tr>",
            "<tr><td>Lagúna Hotel</td><td>3</td><td>2016-11-15</td><td>2</td></tr>",
            "<tr><td>Lagúna Hotel</td><td>4</td><td>2016-08-12</td><td>NULL</td></tr>",
            "<tr><td>Lagúna Hotel</td><td>4</td><td>2016-08-17</td><td>4</td></tr>",
            "<tr><td>Lagúna Hotel</td><td>4</td><td>2016-11-06</td><td>3</td></tr>",
            "<tr><td>Lagúna Hotel</td><td>4</td><td>2016-11-16</td><td>3</td></tr>",
            "<tr><td>Lagúna Hotel</td><td>4</td><td>2016-11-19</td><td>3</td></tr>",
            "<tr><td>Lagúna Hotel</td><td>4</td><td>2016-12-11</td><td>2</td></tr>",
            "<tr><td>Lagúna Hotel</td><td>4</td><td>2016-12-17</td><td>2</td></tr>",
            "<tr><td>Lagúna Hotel</td><td>5</td><td>2016-04-14</td><td>NULL</td></tr>",
            "<tr><td>Lagúna Hotel</td><td>5</td><td>2016-08-01</td><td>2</td></tr>",
            "<tr><td>Lagúna Hotel</td><td>5</td><td>2016-08-03</td><td>2</td></tr>",
            "<tr><td>Lagúna Hotel</td><td>5</td><td>2016-09-10</td><td>2</td></tr>",
            "<tr><td>Lagúna Hotel</td><td>5</td><td>2016-09-18</td><td>2</td></tr>",
            "<tr><td>Lagúna Hotel</td><td>5</td><td>2017-01-11</td><td>2</td></tr>",
            "<tr><td>Lagúna Hotel</td><td>5</td><td>2017-01-17</td><td>2</td></tr>",
            "<tr><td>Lagúna Hotel</td><td>6</td><td>2016-06-06</td><td>NULL</td></tr>",
            "<tr><td>Lagúna Hotel</td><td>6</td><td>2016-07-28</td><td>2</td></tr>",
            "<tr><td>Lagúna Hotel</td><td>6</td><td>2016-10-01</td><td>1</td></tr>",
            "<tr><td>Lagúna Hotel</td><td>6</td><td>2016-10-15</td><td>2</td></tr>",
            "<tr><td>Lagúna Hotel</td><td>6</td><td>2016-11-07</td><td>1</td></tr>",
            "<tr><td>Lagúna Hotel</td><td>6</td><td>2016-12-10</td><td>2</td></tr>",
            "<tr><td>Lagúna Hotel</td><td>6</td><td>2016-12-14</td><td>2</td></tr>",
            "<tr><td>Lagúna Hotel</td><td>6</td><td>2016-12-17</td><td>2</td></tr>",
            "<tr><td>Lagúna Hotel</td><td>7</td><td>2016-04-08</td><td>NULL</td></tr>",
            "<tr><td>Lagúna Hotel</td><td>7</td><td>2016-06-05</td><td>2</td></tr>",
            "<tr><td>Lagúna Hotel</td><td>7</td><td>2016-08-06</td><td>2</td></tr>",
            "<tr><td>Lagúna Hotel</td><td>7</td><td>2016-08-16</td><td>2</td></tr>",
            "<tr><td>Lagúna Hotel</td><td>7</td><td>2016-11-06</td><td>2</td></tr>",
            "<tr><td>Lagúna Hotel</td><td>7</td><td>2016-12-27</td><td>2</td></tr>",
            "<tr><td>Lagúna Hotel</td><td>8</td><td>2016-12-17</td><td>NULL</td></tr>",
            "<tr><td>Lagúna Hotel</td><td>8</td><td>2017-02-17</td><td>3</td></tr>",
            "<tr><td>Lagúna Hotel</td><td>9</td><td>2016-06-23</td><td>NULL</td></tr>",
            "<tr><td>Lagúna Hotel</td><td>9</td><td>2016-10-15</td><td>1</td></tr>",
            "<tr><td>Lagúna Hotel</td><td>9</td><td>2016-10-26</td><td>2</td></tr>",
            "<tr><td>Lagúna Hotel</td><td>9</td><td>2016-10-30</td><td>2</td></tr>",
            "<tr><td>Lagúna Hotel</td><td>9</td><td>2016-11-23</td><td>2</td></tr>",
            "<tr><td>Lagúna Hotel</td><td>9</td><td>2016-12-25</td><td>2</td></tr>",
            "<tr><td>Lagúna Hotel</td><td>9</td><td>2017-01-16</td><td>3</td></tr>",
            "<tr><td>Partiszél Vendégház</td><td>1</td><td>2016-06-06</td><td>NULL</td></tr>",
            "<tr><td>Partiszél Vendégház</td><td>1</td><td>2016-06-07</td><td>4</td></tr>",
            "<tr><td>Partiszél Vendégház</td><td>1</td><td>2016-06-07</td><td>3</td></tr>",
            "<tr><td>Partiszél Vendégház</td><td>1</td><td>2016-07-27</td><td>3</td></tr>",
            "<tr><td>Partiszél Vendégház</td><td>1</td><td>2017-02-23</td><td>3</td></tr>",
            "<tr><td>Partiszél Vendégház</td><td>2</td><td>2016-05-12</td><td>NULL</td></tr>",
            "<tr><td>Partiszél Vendégház</td><td>2</td><td>2016-05-18</td><td>3</td></tr>",
            "<tr><td>Partiszél Vendégház</td><td>2</td><td>2016-06-06</td><td>2</td></tr>",
            "<tr><td>Partiszél Vendégház</td><td>2</td><td>2016-09-19</td><td>2</td></tr>",
            "<tr><td>Partiszél Vendégház</td><td>2</td><td>2016-10-24</td><td>2</td></tr>",
            "<tr><td>Partiszél Vendégház</td><td>2</td><td>2017-02-25</td><td>2</td></tr>",
            "<tr><td>Partiszél Vendégház</td><td>3</td><td>2016-04-24</td><td>NULL</td></tr>",
            "<tr><td>Partiszél Vendégház</td><td>3</td><td>2016-10-27</td><td>3</td></tr>",
            "<tr><td>Partiszél Vendégház</td><td>3</td><td>2016-12-26</td><td>3</td></tr>",
            "<tr><td>Partiszél Vendégház</td><td>4</td><td>2016-05-09</td><td>NULL</td></tr>",
            "<tr><td>Partiszél Vendégház</td><td>4</td><td>2016-06-10</td><td>2</td></tr>",
            "<tr><td>Partiszél Vendégház</td><td>4</td><td>2016-08-16</td><td>2</td></tr>",
            "<tr><td>Partiszél Vendégház</td><td>4</td><td>2016-09-23</td><td>1</td></tr>",
            "<tr><td>Partiszél Vendégház</td><td>4</td><td>2016-10-01</td><td>1</td></tr>",
            "<tr><td>Partiszél Vendégház</td><td>4</td><td>2016-11-08</td><td>1</td></tr>",
            "<tr><td>Partiszél Vendégház</td><td>4</td><td>2017-02-01</td><td>1</td></tr>",
            "<tr><td>Partiszél Vendégház</td><td>5</td><td>2016-04-10</td><td>NULL</td></tr>",
            "<tr><td>Partiszél Vendégház</td><td>5</td><td>2016-07-04</td><td>2</td></tr>",
            "<tr><td>Partiszél Vendégház</td><td>5</td><td>2016-07-31</td><td>2</td></tr>",
            "<tr><td>Partiszél Vendégház</td><td>5</td><td>2016-11-16</td><td>2</td></tr>",
            "<tr><td>Partiszél Vendégház</td><td>5</td><td>2016-11-19</td><td>2</td></tr>",
            "<tr><td>Sába-Ház</td><td>1</td><td>2016-05-05</td><td>NULL</td></tr>",
            "<tr><td>Sába-Ház</td><td>1</td><td>2016-06-10</td><td>1</td></tr>",
            "<tr><td>Sába-Ház</td><td>1</td><td>2016-07-30</td><td>1</td></tr>",
            "<tr><td>Sába-Ház</td><td>1</td><td>2016-08-20</td><td>1</td></tr>",
            "<tr><td>Sába-Ház</td><td>1</td><td>2016-10-09</td><td>1</td></tr>",
            "<tr><td>Sába-Ház</td><td>1</td><td>2016-10-15</td><td>1</td></tr>",
            "<tr><td>Sába-Ház</td><td>1</td><td>2016-11-11</td><td>2</td></tr>",
            "<tr><td>Sába-Ház</td><td>1</td><td>2016-12-01</td><td>2</td></tr>",
            "<tr><td>Sába-Ház</td><td>10</td><td>2016-04-10</td><td>NULL</td></tr>",
            "<tr><td>Sába-Ház</td><td>10</td><td>2016-08-16</td><td>2</td></tr>",
            "<tr><td>Sába-Ház</td><td>10</td><td>2016-08-17</td><td>1</td></tr>",
            "<tr><td>Sába-Ház</td><td>10</td><td>2016-11-25</td><td>2</td></tr>",
            "<tr><td>Sába-Ház</td><td>11</td><td>2016-06-06</td><td>NULL</td></tr>",
            "<tr><td>Sába-Ház</td><td>11</td><td>2016-10-05</td><td>3</td></tr>",
            "<tr><td>Sába-Ház</td><td>11</td><td>2016-11-01</td><td>3</td></tr>",
            "<tr><td>Sába-Ház</td><td>11</td><td>2017-02-12</td><td>2</td></tr>",
            "<tr><td>Sába-Ház</td><td>12</td><td>2016-05-30</td><td>NULL</td></tr>",
            "<tr><td>Sába-Ház</td><td>12</td><td>2016-06-11</td><td>3</td></tr>",
            "<tr><td>Sába-Ház</td><td>12</td><td>2016-06-17</td><td>2</td></tr>",
            "<tr><td>Sába-Ház</td><td>12</td><td>2016-07-09</td><td>2</td></tr>",
            "<tr><td>Sába-Ház</td><td>12</td><td>2016-07-20</td><td>2</td></tr>",
            "<tr><td>Sába-Ház</td><td>12</td><td>2016-08-13</td><td>2</td></tr>",
            "<tr><td>Sába-Ház</td><td>12</td><td>2016-10-09</td><td>2</td></tr>",
            "<tr><td>Sába-Ház</td><td>12</td><td>2016-10-18</td><td>2</td></tr>",
            "<tr><td>Sába-Ház</td><td>12</td><td>2017-01-09</td><td>2</td></tr>",
            "<tr><td>Sába-Ház</td><td>2</td><td>2016-08-27</td><td>NULL</td></tr>",
            "<tr><td>Sába-Ház</td><td>2</td><td>2016-09-14</td><td>4</td></tr>",
            "<tr><td>Sába-Ház</td><td>2</td><td>2016-09-19</td><td>3</td></tr>",
            "<tr><td>Sába-Ház</td><td>2</td><td>2016-11-23</td><td>3</td></tr>",
            "<tr><td>Sába-Ház</td><td>3</td><td>2016-05-09</td><td>NULL</td></tr>",
            "<tr><td>Sába-Ház</td><td>3</td><td>2016-07-13</td><td>3</td></tr>",
            "<tr><td>Sába-Ház</td><td>3</td><td>2016-08-16</td><td>3</td></tr>",
            "<tr><td>Sába-Ház</td><td>3</td><td>2016-09-08</td><td>3</td></tr>",
            "<tr><td>Sába-Ház</td><td>3</td><td>2016-10-01</td><td>3</td></tr>",
            "<tr><td>Sába-Ház</td><td>3</td><td>2016-10-14</td><td>3</td></tr>",
            "<tr><td>Sába-Ház</td><td>3</td><td>2017-01-12</td><td>3</td></tr>",
            "<tr><td>Sába-Ház</td><td>3</td><td>2017-02-16</td><td>3</td></tr>",
            "<tr><td>Sába-Ház</td><td>4</td><td>2016-05-17</td><td>NULL</td></tr>",
            "<tr><td>Sába-Ház</td><td>4</td><td>2016-06-10</td><td>1</td></tr>",
            "<tr><td>Sába-Ház</td><td>4</td><td>2016-07-02</td><td>1</td></tr>",
            "<tr><td>Sába-Ház</td><td>4</td><td>2016-10-07</td><td>1</td></tr>",
            "<tr><td>Sába-Ház</td><td>4</td><td>2016-10-08</td><td>1</td></tr>",
            "<tr><td>Sába-Ház</td><td>4</td><td>2017-02-03</td><td>1</td></tr>",
            "<tr><td>Sába-Ház</td><td>5</td><td>2016-04-08</td><td>NULL</td></tr>",
            "<tr><td>Sába-Ház</td><td>5</td><td>2016-06-16</td><td>2</td></tr>",
            "<tr><td>Sába-Ház</td><td>5</td><td>2016-09-21</td><td>1</td></tr>",
            "<tr><td>Sába-Ház</td><td>5</td><td>2016-11-07</td><td>1</td></tr>",
            "<tr><td>Sába-Ház</td><td>6</td><td>2016-04-06</td><td>NULL</td></tr>",
            "<tr><td>Sába-Ház</td><td>6</td><td>2016-05-29</td><td>2</td></tr>",
            "<tr><td>Sába-Ház</td><td>6</td><td>2016-06-27</td><td>2</td></tr>",
            "<tr><td>Sába-Ház</td><td>6</td><td>2016-08-12</td><td>1</td></tr>",
            "<tr><td>Sába-Ház</td><td>6</td><td>2016-09-05</td><td>2</td></tr>",
            "<tr><td>Sába-Ház</td><td>6</td><td>2016-10-01</td><td>2</td></tr>",
            "<tr><td>Sába-Ház</td><td>7</td><td>2016-04-06</td><td>NULL</td></tr>",
            "<tr><td>Sába-Ház</td><td>7</td><td>2016-08-06</td><td>1</td></tr>",
            "<tr><td>Sába-Ház</td><td>7</td><td>2016-10-08</td><td>1</td></tr>",
            "<tr><td>Sába-Ház</td><td>7</td><td>2016-10-21</td><td>1</td></tr>",
            "<tr><td>Sába-Ház</td><td>7</td><td>2016-10-23</td><td>1</td></tr>",
            "<tr><td>Sába-Ház</td><td>7</td><td>2016-11-05</td><td>1</td></tr>",
            "<tr><td>Sába-Ház</td><td>8</td><td>2016-05-30</td><td>NULL</td></tr>",
            "<tr><td>Sába-Ház</td><td>8</td><td>2016-06-10</td><td>2</td></tr>",
            "<tr><td>Sába-Ház</td><td>8</td><td>2016-07-20</td><td>2</td></tr>",
            "<tr><td>Sába-Ház</td><td>8</td><td>2016-08-24</td><td>2</td></tr>",
            "<tr><td>Sába-Ház</td><td>8</td><td>2016-08-28</td><td>2</td></tr>",
            "<tr><td>Sába-Ház</td><td>9</td><td>2016-04-29</td><td>NULL</td></tr>",
            "<tr><td>Sába-Ház</td><td>9</td><td>2016-10-15</td><td>2</td></tr>",
            "<tr><td>Sába-Ház</td><td>9</td><td>2016-10-30</td><td>2</td></tr>",
            "<tr><td>Sába-Ház</td><td>9</td><td>2016-11-07</td><td>3</td></tr>",
            "<tr><td>Sába-Ház</td><td>9</td><td>2017-01-06</td><td>3</td></tr>",
            "<tr><td>Sába-Ház</td><td>9</td><td>2017-02-16</td><td>3</td></tr>",
            "<tr><td>Szieszta Apartmanház</td><td>1</td><td>2016-05-15</td><td>NULL</td></tr>",
            "<tr><td>Szieszta Apartmanház</td><td>1</td><td>2016-09-17</td><td>2</td></tr>",
            "<tr><td>Szieszta Apartmanház</td><td>1</td><td>2016-11-25</td><td>2</td></tr>",
            "<tr><td>Szieszta Apartmanház</td><td>1</td><td>2017-02-09</td><td>2</td></tr>",
            "<tr><td>Szieszta Apartmanház</td><td>2</td><td>2016-05-26</td><td>NULL</td></tr>",
            "<tr><td>Szieszta Apartmanház</td><td>2</td><td>2016-09-16</td><td>3</td></tr>",
            "<tr><td>Szieszta Apartmanház</td><td>2</td><td>2016-09-24</td><td>2</td></tr>",
            "<tr><td>Szieszta Apartmanház</td><td>2</td><td>2016-10-01</td><td>1</td></tr>",
            "<tr><td>Szieszta Apartmanház</td><td>2</td><td>2017-01-17</td><td>1</td></tr>",
            "<tr><td>Szieszta Apartmanház</td><td>3</td><td>2016-04-06</td><td>NULL</td></tr>",
            "<tr><td>Szieszta Apartmanház</td><td>3</td><td>2016-09-02</td><td>3</td></tr>",
            "<tr><td>Szieszta Apartmanház</td><td>3</td><td>2016-10-01</td><td>3</td></tr>",
            "<tr><td>Szieszta Apartmanház</td><td>3</td><td>2016-12-06</td><td>2</td></tr>",
            "<tr><td>Szieszta Apartmanház</td><td>3</td><td>2017-01-19</td><td>2</td></tr>",
            "<tr><td>Szieszta Apartmanház</td><td>4</td><td>2016-05-28</td><td>NULL</td></tr>",
            "<tr><td>Szieszta Apartmanház</td><td>4</td><td>2016-08-05</td><td>2</td></tr>",
            "<tr><td>Szieszta Apartmanház</td><td>4</td><td>2016-10-26</td><td>1</td></tr>",
            "<tr><td>Szieszta Apartmanház</td><td>4</td><td>2016-11-10</td><td>2</td></tr>",
            "<tr><td>Szieszta Apartmanház</td><td>4</td><td>2016-11-21</td><td>2</td></tr>",
            "<tr><td>Szieszta Apartmanház</td><td>4</td><td>2016-12-12</td><td>2</td></tr>",
            "<tr><td>Szieszta Apartmanház</td><td>4</td><td>2017-02-18</td><td>2</td></tr>",
            "<tr><td>Szieszta Apartmanház</td><td>4</td><td>2017-02-26</td><td>3</td></tr>",
            "<tr><td>Szieszta Apartmanház</td><td>5</td><td>2016-08-24</td><td>NULL</td></tr>",
            "<tr><td>Szieszta Apartmanház</td><td>5</td><td>2016-09-08</td><td>3</td></tr>",
            "<tr><td>Szieszta Apartmanház</td><td>5</td><td>2016-10-01</td><td>2</td></tr>",
            "<tr><td>Szieszta Apartmanház</td><td>5</td><td>2016-10-24</td><td>2</td></tr>",
            "<tr><td>Szieszta Apartmanház</td><td>5</td><td>2016-11-05</td><td>2</td></tr>",
            "<tr><td>Szieszta Apartmanház</td><td>5</td><td>2016-11-09</td><td>2</td></tr>",
            "<tr><td>Szieszta Apartmanház</td><td>5</td><td>2016-12-26</td><td>2</td></tr>",
            "<tr><td>Szieszta Apartmanház</td><td>5</td><td>2017-02-12</td><td>2</td></tr>",
            "<tr><td>Szieszta Apartmanház</td><td>6</td><td>2016-07-28</td><td>NULL</td></tr>",
            "<tr><td>Szieszta Apartmanház</td><td>6</td><td>2016-10-21</td><td>2</td></tr>",
            "<tr><td>Szieszta Apartmanház</td><td>6</td><td>2016-11-21</td><td>2</td></tr>",
            "<tr><td>Szieszta Apartmanház</td><td>6</td><td>2016-12-29</td><td>2</td></tr>",
            "</table>"
        ]
    }
}
],
            "execution_count": 34
        },
        {
            "cell_type": "code",
            "source": [
                "--4\r\n",
                "select iif(GROUPING(szh.SZALLAS_NEV)=1,'Végösszeg', szh.szallas_nev), \r\n",
                "    case\r\n",
                "        when GROUPING_ID(szh.SZALLAS_NEV, sz.POTAGY) = 1 then 'részösszeg'\r\n",
                "        when GROUPING_ID(szh.SZALLAS_NEV, sz.POTAGY) = 3 then 'végösszeg'\r\n",
                "        else CAST(sz.POTAGY as nvarchar) \r\n",
                "    end as 'potágyak száma',\r\n",
                "SUM(f.FELNOTT_SZAM+f.GYERMEK_SZAM) as 'összes fő'\r\n",
                "from szallashely szh join Szoba sz on szh.SZALLAS_ID=sz.SZALLAS_FK\r\n",
                " join Foglalas f on f.SZOBA_FK=sz.SZOBA_ID\r\n",
                " group by rollup (szh.SZALLAS_NEV, sz.POTAGY)"
            ],
            "metadata": {
                "azdata_cell_guid": "e3ccb12a-dbfa-4307-af2a-fafdfc49a324",
                "language": "sql"
            },
            "outputs": [
                {
                    "output_type": "display_data",
                    "data": {
                        "text/html": "(41 rows affected)"
                    },
                    "metadata": {}
                },
                {
                    "output_type": "display_data",
                    "data": {
                        "text/html": "Total execution time: 00:00:00.057"
                    },
                    "metadata": {}
                },
                {
                    "output_type": "execute_result",
                    "metadata": {},
                    "execution_count": 23,
                    "data": {
                        "application/vnd.dataresource+json": {
                            "schema": {
                                "fields": [
                                    {
                                        "name": "(No column name)"
                                    },
                                    {
                                        "name": "potágyak száma"
                                    },
                                    {
                                        "name": "összes fő"
                                    }
                                ]
                            },
                            "data": [
                                {
                                    "(No column name)": "Családi Ház",
                                    "potágyak száma": "0",
                                    "összes fő": "10"
                                },
                                {
                                    "(No column name)": "Családi Ház",
                                    "potágyak száma": "1",
                                    "összes fő": "31"
                                },
                                {
                                    "(No column name)": "Családi Ház",
                                    "potágyak száma": "2",
                                    "összes fő": "11"
                                },
                                {
                                    "(No column name)": "Családi Ház",
                                    "potágyak száma": "részösszeg",
                                    "összes fő": "52"
                                },
                                {
                                    "(No column name)": "Fortuna Apartman",
                                    "potágyak száma": "0",
                                    "összes fő": "18"
                                },
                                {
                                    "(No column name)": "Fortuna Apartman",
                                    "potágyak száma": "1",
                                    "összes fő": "52"
                                },
                                {
                                    "(No column name)": "Fortuna Apartman",
                                    "potágyak száma": "2",
                                    "összes fő": "36"
                                },
                                {
                                    "(No column name)": "Fortuna Apartman",
                                    "potágyak száma": "részösszeg",
                                    "összes fő": "106"
                                },
                                {
                                    "(No column name)": "Fortuna Panzió",
                                    "potágyak száma": "0",
                                    "összes fő": "158"
                                },
                                {
                                    "(No column name)": "Fortuna panzió",
                                    "potágyak száma": "1",
                                    "összes fő": "113"
                                },
                                {
                                    "(No column name)": "Fortuna panzió",
                                    "potágyak száma": "2",
                                    "összes fő": "40"
                                },
                                {
                                    "(No column name)": "Fortuna Panzió",
                                    "potágyak száma": "részösszeg",
                                    "összes fő": "311"
                                },
                                {
                                    "(No column name)": "Gold Hotel",
                                    "potágyak száma": "0",
                                    "összes fő": "216"
                                },
                                {
                                    "(No column name)": "Gold Hotel",
                                    "potágyak száma": "1",
                                    "összes fő": "93"
                                },
                                {
                                    "(No column name)": "Gold Hotel",
                                    "potágyak száma": "2",
                                    "összes fő": "119"
                                },
                                {
                                    "(No column name)": "Gold Hotel",
                                    "potágyak száma": "részösszeg",
                                    "összes fő": "428"
                                },
                                {
                                    "(No column name)": "Hotel Három Hattyú",
                                    "potágyak száma": "0",
                                    "összes fő": "183"
                                },
                                {
                                    "(No column name)": "Hotel Három Hattyú",
                                    "potágyak száma": "1",
                                    "összes fő": "258"
                                },
                                {
                                    "(No column name)": "Hotel Három Hattyú",
                                    "potágyak száma": "2",
                                    "összes fő": "63"
                                },
                                {
                                    "(No column name)": "Hotel Három Hattyú",
                                    "potágyak száma": "részösszeg",
                                    "összes fő": "504"
                                },
                                {
                                    "(No column name)": "Jáde panzió",
                                    "potágyak száma": "0",
                                    "összes fő": "66"
                                },
                                {
                                    "(No column name)": "Jáde panzió",
                                    "potágyak száma": "részösszeg",
                                    "összes fő": "66"
                                },
                                {
                                    "(No column name)": "Kentaur Hotel",
                                    "potágyak száma": "0",
                                    "összes fő": "168"
                                },
                                {
                                    "(No column name)": "Kentaur Hotel",
                                    "potágyak száma": "1",
                                    "összes fő": "224"
                                },
                                {
                                    "(No column name)": "Kentaur Hotel",
                                    "potágyak száma": "2",
                                    "összes fő": "28"
                                },
                                {
                                    "(No column name)": "Kentaur Hotel",
                                    "potágyak száma": "részösszeg",
                                    "összes fő": "420"
                                },
                                {
                                    "(No column name)": "Lagúna Hotel",
                                    "potágyak száma": "0",
                                    "összes fő": "105"
                                },
                                {
                                    "(No column name)": "Lagúna Hotel",
                                    "potágyak száma": "1",
                                    "összes fő": "150"
                                },
                                {
                                    "(No column name)": "Lagúna Hotel",
                                    "potágyak száma": "2",
                                    "összes fő": "36"
                                },
                                {
                                    "(No column name)": "Lagúna Hotel",
                                    "potágyak száma": "részösszeg",
                                    "összes fő": "291"
                                },
                                {
                                    "(No column name)": "Partiszél Vendégház",
                                    "potágyak száma": "0",
                                    "összes fő": "31"
                                },
                                {
                                    "(No column name)": "Partiszél Vendégház",
                                    "potágyak száma": "1",
                                    "összes fő": "17"
                                },
                                {
                                    "(No column name)": "Partiszél Vendégház",
                                    "potágyak száma": "2",
                                    "összes fő": "15"
                                },
                                {
                                    "(No column name)": "Partiszél Vendégház",
                                    "potágyak száma": "részösszeg",
                                    "összes fő": "63"
                                },
                                {
                                    "(No column name)": "Sába-Ház",
                                    "potágyak száma": "0",
                                    "összes fő": "67"
                                },
                                {
                                    "(No column name)": "Sába-Ház",
                                    "potágyak száma": "1",
                                    "összes fő": "99"
                                },
                                {
                                    "(No column name)": "Sába-Ház",
                                    "potágyak száma": "részösszeg",
                                    "összes fő": "166"
                                },
                                {
                                    "(No column name)": "Szieszta Apartmanház",
                                    "potágyak száma": "0",
                                    "összes fő": "64"
                                },
                                {
                                    "(No column name)": "Szieszta Apartmanház",
                                    "potágyak száma": "1",
                                    "összes fő": "19"
                                },
                                {
                                    "(No column name)": "Szieszta Apartmanház",
                                    "potágyak száma": "részösszeg",
                                    "összes fő": "83"
                                },
                                {
                                    "(No column name)": "Végösszeg",
                                    "potágyak száma": "végösszeg",
                                    "összes fő": "2490"
                                }
                            ]
                        },
                        "text/html": [
                            "<table>",
                            "<tr><th>(No column name)</th><th>potágyak száma</th><th>összes fő</th></tr>",
                            "<tr><td>Családi Ház</td><td>0</td><td>10</td></tr>",
                            "<tr><td>Családi Ház</td><td>1</td><td>31</td></tr>",
                            "<tr><td>Családi Ház</td><td>2</td><td>11</td></tr>",
                            "<tr><td>Családi Ház</td><td>részösszeg</td><td>52</td></tr>",
                            "<tr><td>Fortuna Apartman</td><td>0</td><td>18</td></tr>",
                            "<tr><td>Fortuna Apartman</td><td>1</td><td>52</td></tr>",
                            "<tr><td>Fortuna Apartman</td><td>2</td><td>36</td></tr>",
                            "<tr><td>Fortuna Apartman</td><td>részösszeg</td><td>106</td></tr>",
                            "<tr><td>Fortuna Panzió</td><td>0</td><td>158</td></tr>",
                            "<tr><td>Fortuna panzió</td><td>1</td><td>113</td></tr>",
                            "<tr><td>Fortuna panzió</td><td>2</td><td>40</td></tr>",
                            "<tr><td>Fortuna Panzió</td><td>részösszeg</td><td>311</td></tr>",
                            "<tr><td>Gold Hotel</td><td>0</td><td>216</td></tr>",
                            "<tr><td>Gold Hotel</td><td>1</td><td>93</td></tr>",
                            "<tr><td>Gold Hotel</td><td>2</td><td>119</td></tr>",
                            "<tr><td>Gold Hotel</td><td>részösszeg</td><td>428</td></tr>",
                            "<tr><td>Hotel Három Hattyú</td><td>0</td><td>183</td></tr>",
                            "<tr><td>Hotel Három Hattyú</td><td>1</td><td>258</td></tr>",
                            "<tr><td>Hotel Három Hattyú</td><td>2</td><td>63</td></tr>",
                            "<tr><td>Hotel Három Hattyú</td><td>részösszeg</td><td>504</td></tr>",
                            "<tr><td>Jáde panzió</td><td>0</td><td>66</td></tr>",
                            "<tr><td>Jáde panzió</td><td>részösszeg</td><td>66</td></tr>",
                            "<tr><td>Kentaur Hotel</td><td>0</td><td>168</td></tr>",
                            "<tr><td>Kentaur Hotel</td><td>1</td><td>224</td></tr>",
                            "<tr><td>Kentaur Hotel</td><td>2</td><td>28</td></tr>",
                            "<tr><td>Kentaur Hotel</td><td>részösszeg</td><td>420</td></tr>",
                            "<tr><td>Lagúna Hotel</td><td>0</td><td>105</td></tr>",
                            "<tr><td>Lagúna Hotel</td><td>1</td><td>150</td></tr>",
                            "<tr><td>Lagúna Hotel</td><td>2</td><td>36</td></tr>",
                            "<tr><td>Lagúna Hotel</td><td>részösszeg</td><td>291</td></tr>",
                            "<tr><td>Partiszél Vendégház</td><td>0</td><td>31</td></tr>",
                            "<tr><td>Partiszél Vendégház</td><td>1</td><td>17</td></tr>",
                            "<tr><td>Partiszél Vendégház</td><td>2</td><td>15</td></tr>",
                            "<tr><td>Partiszél Vendégház</td><td>részösszeg</td><td>63</td></tr>",
                            "<tr><td>Sába-Ház</td><td>0</td><td>67</td></tr>",
                            "<tr><td>Sába-Ház</td><td>1</td><td>99</td></tr>",
                            "<tr><td>Sába-Ház</td><td>részösszeg</td><td>166</td></tr>",
                            "<tr><td>Szieszta Apartmanház</td><td>0</td><td>64</td></tr>",
                            "<tr><td>Szieszta Apartmanház</td><td>1</td><td>19</td></tr>",
                            "<tr><td>Szieszta Apartmanház</td><td>részösszeg</td><td>83</td></tr>",
                            "<tr><td>Végösszeg</td><td>végösszeg</td><td>2490</td></tr>",
                            "</table>"
                        ]
                    }
                }
            ],
            "execution_count": 23
        },
        {
            "cell_type": "code",
            "source": [
                "--5\r\n",
                "select MIN(FEROHELY) as 'Minimum',\r\n",
                "        MAX(FEROHELY) as 'Maximum',\r\n",
                "        AVG(FEROHELY) as 'Átlag',\r\n",
                "        COUNT(distinct FEROHELY) as 'különböző értékek száma',\r\n",
                "        (SELECT COUNT(*) FROM Szoba WHERE FEROHELY IS NOT NULL) * 100 / COUNT(*) as NemnullSzázalék,\r\n",
                "        (SELECT COUNT(*) FROM Szoba WHERE FEROHELY IS NULL) * 100 / COUNT(*) as Nullszázalék \r\n",
                "from Szoba"
            ],
            "metadata": {
                "azdata_cell_guid": "7792c53b-f243-4934-a7ec-32aab65eab48",
                "language": "sql"
            },
            "outputs": [
                {
                    "output_type": "display_data",
                    "data": {
                        "text/html": "(1 row affected)"
                    },
                    "metadata": {}
                },
                {
                    "output_type": "display_data",
                    "data": {
                        "text/html": "Total execution time: 00:00:00.020"
                    },
                    "metadata": {}
                },
                {
                    "output_type": "execute_result",
                    "metadata": {},
                    "execution_count": 24,
                    "data": {
                        "application/vnd.dataresource+json": {
                            "schema": {
                                "fields": [
                                    {
                                        "name": "Minimum"
                                    },
                                    {
                                        "name": "Maximum"
                                    },
                                    {
                                        "name": "Átlag"
                                    },
                                    {
                                        "name": "különböző értékek száma"
                                    },
                                    {
                                        "name": "NemnullSzázalék"
                                    },
                                    {
                                        "name": "Nullszázalék"
                                    }
                                ]
                            },
                            "data": [
                                {
                                    "Minimum": "1",
                                    "Maximum": "4",
                                    "Átlag": "2",
                                    "különböző értékek száma": "4",
                                    "NemnullSzázalék": "100",
                                    "Nullszázalék": "0"
                                }
                            ]
                        },
                        "text/html": [
                            "<table>",
                            "<tr><th>Minimum</th><th>Maximum</th><th>Átlag</th><th>különböző értékek száma</th><th>NemnullSzázalék</th><th>Nullszázalék</th></tr>",
                            "<tr><td>1</td><td>4</td><td>2</td><td>4</td><td>100</td><td>0</td></tr>",
                            "</table>"
                        ]
                    }
                }
            ],
            "execution_count": 24
        },
        {
            "cell_type": "code",
            "source": [
                "--6\r\n",
                "\r\n",
                "SET library \"Budapesti Könyvtár\"\r\n",
                "\r\n",
                "\r\n",
                "HMSET book:1 title \"Almakirály\" author \"Almakirály készítője\" year 1943\r\n",
                "\r\n",
                "\r\n",
                "SADD genres \"fantasy\" \"sci-fi\" \"drama\"\r\n",
                "\r\n",
                "\r\n",
                "LPUSH borrowed_books \"Almakirály\" \"Harry Potter\" \"Az ember tragédiája\"\r\n",
                "\r\n",
                "\r\n",
                "ZADD book_borrow_counts 10 \"Almakirály\" 7 \"Harry Potter\" 3 \"Az ember tragédiája\""
            ],
            "metadata": {
                "azdata_cell_guid": "85240736-41c3-448f-aaa6-9bd20d82a294",
                "language": "sql"
            },
            "outputs": [],
            "execution_count": null
        },
        {
            "cell_type": "code",
            "source": [
                "--7\r\n",
                "CREATE TABLE STUDENT  (\r\n",
                "    ID int PRIMARY KEY,\r\n",
                "    Nev text,\r\n",
                "    Teljesitett_felevek list<int>,\r\n",
                "    Eredmenyek map<int, float>,\r\n",
                "    Nyelvtudas set<text>\r\n",
                ");\r\n",
                "\r\n",
                "INSERT INTO STUDENT (ID, Nev, Teljesitett_felevek, Eredmenyek, Nyelvtudas) \r\n",
                "VALUES (1, 'Alma Cska', [1, 2, 3], {1: 3.00, 2: 4.55, 3: 4.10}, {'English', 'German'});\r\n",
                "\r\n",
                "INSERT INTO STUDENT (ID, Nev, Teljesitett_felevek, Eredmenyek, Nyelvtudas) \r\n",
                "VALUES (2, 'Epre Cske', [1, 2, 3, 4], {1: 5, 2: 4.00, 3: 3.34, 4: 3.20}, {'German', 'Korean', 'English'});\r\n",
                ""
            ],
            "metadata": {
                "azdata_cell_guid": "fda4edbf-667a-41cf-8c7a-e0db7e108f2c",
                "language": "sql"
            },
            "outputs": [],
            "execution_count": null
        },
        {
            "cell_type": "code",
            "source": [
                "--8\r\n",
                "match (p:Person)-[:ACTED_IN]->(m:Movie)<-[:ACTED_IN]-(p2:Person)\r\n",
                "where p.name = 'Tom Hanks' and p2.name <> 'Tom Hanks'\r\n",
                "return distinct p2.name"
            ],
            "metadata": {
                "azdata_cell_guid": "10ada853-f5ff-4727-b3ef-dcdda478cc78",
                "language": "sql"
            },
            "outputs": [],
            "execution_count": null
        }
    ]
}