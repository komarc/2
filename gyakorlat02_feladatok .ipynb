{
    "metadata": {
        "kernelspec": {
            "name": "SQL",
            "display_name": "SQL",
            "language": "sql"
        },
        "language_info": {
            "name": "sql",
            "version": ""
        },
        "extensions": {
            "azuredatastudio": {
                "version": 1,
                "views": []
            }
        }
    },
    "nbformat_minor": 2,
    "nbformat": 4,
    "cells": [
        {
            "cell_type": "markdown",
            "source": [
                "1. <span style=\"color:rgb(36, 41, 47);font-family:-apple-system, BlinkMacSystemFont, &quot;Segoe UI&quot;, Helvetica, Arial, sans-serif, &quot;Apple Color Emoji&quot;, &quot;Segoe UI Emoji&quot;;font-size:16px;\">Készítsünk lekérdezést, amely listázza, hogy mely napokon hány db kölcsönzés történt!</span>\n",
                "\n",
                "<span style=\"font-size: 16px;\">a.&nbsp;</span> Az oszlopok neve legyen 'Dátum' és 'Kölcsönzések száma'  \n",
                "b. A listát rendezzük a kölcsönzés dátuma szerint csökkenő sorrendbe!"
            ],
            "metadata": {
                "azdata_cell_guid": "77f2d5b3-38e9-41cc-893f-f5afd02b97ef"
            },
            "attachments": {}
        },
        {
            "cell_type": "code",
            "source": [
                "--dvd_magyar\r\n",
                "select ki_datum,\r\n",
                "    --hány db\r\n",
                "    count(*) as 'DB'\r\n",
                "from kolcsonzesek\r\n",
                "GROUP BY ki_datum\r\n",
                "ORDER BY ki_datum DESC"
            ],
            "metadata": {
                "azdata_cell_guid": "bd3cef1a-4e6e-4ece-9dc3-aaa9d2b5d66d",
                "language": "sql"
            },
            "outputs": [
                {
                    "output_type": "display_data",
                    "data": {
                        "text/html": "(3 rows affected)"
                    },
                    "metadata": {}
                },
                {
                    "output_type": "display_data",
                    "data": {
                        "text/html": "Total execution time: 00:00:00.186"
                    },
                    "metadata": {}
                },
                {
                    "output_type": "execute_result",
                    "metadata": {},
                    "execution_count": 1,
                    "data": {
                        "application/vnd.dataresource+json": {
                            "schema": {
                                "fields": [
                                    {
                                        "name": "ki_datum"
                                    },
                                    {
                                        "name": "DB"
                                    }
                                ]
                            },
                            "data": [
                                {
                                    "ki_datum": "2006-10-02",
                                    "DB": "1"
                                },
                                {
                                    "ki_datum": "2006-10-01",
                                    "DB": "1"
                                },
                                {
                                    "ki_datum": "2003-12-11",
                                    "DB": "3"
                                }
                            ]
                        },
                        "text/html": [
                            "<table>",
                            "<tr><th>ki_datum</th><th>DB</th></tr>",
                            "<tr><td>2006-10-02</td><td>1</td></tr>",
                            "<tr><td>2006-10-01</td><td>1</td></tr>",
                            "<tr><td>2003-12-11</td><td>3</td></tr>",
                            "</table>"
                        ]
                    }
                }
            ],
            "execution_count": 1
        },
        {
            "cell_type": "markdown",
            "source": [
                "2. <span style=\"font-weight: 600; color: rgb(36, 41, 47); font-family: -apple-system, BlinkMacSystemFont, &quot;Segoe UI&quot;, Helvetica, Arial, sans-serif, &quot;Apple Color Emoji&quot;, &quot;Segoe UI Emoji&quot;; font-size: 16px;\">Mennyi a dvd-k átlagos ára stílusonkénti bontásban?</span>\n",
                "\n",
                "1. Csak azokat a stílusokat vegyük figyelembe, ahol az átlagos ár 4500 Ft feletti!\n",
                "2. Az oszlopokat nevezzük el értelemszerűen!\n",
                "3. A listát rendezzük átlagos ár szerint csökkenő sorrendbe!"
            ],
            "metadata": {
                "azdata_cell_guid": "88f5b4bb-f4c1-4bad-a0c7-b2592687b422"
            },
            "attachments": {}
        },
        {
            "cell_type": "code",
            "source": [
                "select stilus, avg(nettoar) as 'Átlag ár'\r\n",
                "from dvd\r\n",
                "where nettoar>4500\r\n",
                "group by stilus\r\n",
                "having avg(nettoar)>4500\r\n",
                "order by avg(nettoar) desc"
            ],
            "metadata": {
                "azdata_cell_guid": "e9de5726-f036-4fb9-8c33-a873955ed886",
                "language": "sql"
            },
            "outputs": [
                {
                    "output_type": "display_data",
                    "data": {
                        "text/html": "(34 rows affected)"
                    },
                    "metadata": {}
                },
                {
                    "output_type": "display_data",
                    "data": {
                        "text/html": "Total execution time: 00:00:00.070"
                    },
                    "metadata": {}
                },
                {
                    "output_type": "execute_result",
                    "metadata": {},
                    "execution_count": 6,
                    "data": {
                        "application/vnd.dataresource+json": {
                            "schema": {
                                "fields": [
                                    {
                                        "name": "stilus"
                                    },
                                    {
                                        "name": "Átlag ár"
                                    }
                                ]
                            },
                            "data": [
                                {
                                    "stilus": "csillagászat",
                                    "Átlag ár": "5888,333333333333"
                                },
                                {
                                    "stilus": "ásványtan",
                                    "Átlag ár": "5624"
                                },
                                {
                                    "stilus": "felvételi",
                                    "Átlag ár": "5605"
                                },
                                {
                                    "stilus": "játék (rodeó)",
                                    "Átlag ár": "5591"
                                },
                                {
                                    "stilus": "humor",
                                    "Átlag ár": "5573"
                                },
                                {
                                    "stilus": "környezetvédelem",
                                    "Átlag ár": "5508"
                                },
                                {
                                    "stilus": "kresz",
                                    "Átlag ár": "5476"
                                },
                                {
                                    "stilus": "földrajz",
                                    "Átlag ár": "5426,5"
                                },
                                {
                                    "stilus": "művészet",
                                    "Átlag ár": "5422,333333333333"
                                },
                                {
                                    "stilus": "ismeretterjesztő",
                                    "Átlag ár": "5409,884615384615"
                                },
                                {
                                    "stilus": "festészet",
                                    "Átlag ár": "5408"
                                },
                                {
                                    "stilus": "játék",
                                    "Átlag ár": "5383,315789473684"
                                },
                                {
                                    "stilus": "nyelvtanító",
                                    "Átlag ár": "5371,88"
                                },
                                {
                                    "stilus": "történelem",
                                    "Átlag ár": "5354,714285714285"
                                },
                                {
                                    "stilus": "zene",
                                    "Átlag ár": "5312,25"
                                },
                                {
                                    "stilus": "nyelvtan",
                                    "Átlag ár": "5312"
                                },
                                {
                                    "stilus": "irodalom",
                                    "Átlag ár": "5309,833333333333"
                                },
                                {
                                    "stilus": "szótár",
                                    "Átlag ár": "5297,25"
                                },
                                {
                                    "stilus": "játék (labdarúgás)",
                                    "Átlag ár": "5290,5"
                                },
                                {
                                    "stilus": "fizika",
                                    "Átlag ár": "5286,5"
                                },
                                {
                                    "stilus": "matematika",
                                    "Átlag ár": "5275,6"
                                },
                                {
                                    "stilus": "játék (jégkorong)",
                                    "Átlag ár": "5242"
                                },
                                {
                                    "stilus": "biológia",
                                    "Átlag ár": "5203"
                                },
                                {
                                    "stilus": "gasztronómia",
                                    "Átlag ár": "5168,666666666667"
                                },
                                {
                                    "stilus": "színház",
                                    "Átlag ár": "5158"
                                },
                                {
                                    "stilus": "múvészet",
                                    "Átlag ár": "5118"
                                },
                                {
                                    "stilus": "állattan",
                                    "Átlag ár": "5099"
                                },
                                {
                                    "stilus": "számítástechnika",
                                    "Átlag ár": "5097"
                                },
                                {
                                    "stilus": "kémia",
                                    "Átlag ár": "5094"
                                },
                                {
                                    "stilus": "fordító program",
                                    "Átlag ár": "5036"
                                },
                                {
                                    "stilus": "játék (autóverseny)",
                                    "Átlag ár": "5005"
                                },
                                {
                                    "stilus": "kerttervező",
                                    "Átlag ár": "4951"
                                },
                                {
                                    "stilus": "irodalom, nyelv",
                                    "Átlag ár": "4704"
                                },
                                {
                                    "stilus": "sport",
                                    "Átlag ár": "4607"
                                }
                            ]
                        },
                        "text/html": [
                            "<table>",
                            "<tr><th>stilus</th><th>Átlag ár</th></tr>",
                            "<tr><td>csillagászat</td><td>5888,333333333333</td></tr>",
                            "<tr><td>ásványtan</td><td>5624</td></tr>",
                            "<tr><td>felvételi</td><td>5605</td></tr>",
                            "<tr><td>játék (rodeó)</td><td>5591</td></tr>",
                            "<tr><td>humor</td><td>5573</td></tr>",
                            "<tr><td>környezetvédelem</td><td>5508</td></tr>",
                            "<tr><td>kresz</td><td>5476</td></tr>",
                            "<tr><td>földrajz</td><td>5426,5</td></tr>",
                            "<tr><td>művészet</td><td>5422,333333333333</td></tr>",
                            "<tr><td>ismeretterjesztő</td><td>5409,884615384615</td></tr>",
                            "<tr><td>festészet</td><td>5408</td></tr>",
                            "<tr><td>játék</td><td>5383,315789473684</td></tr>",
                            "<tr><td>nyelvtanító</td><td>5371,88</td></tr>",
                            "<tr><td>történelem</td><td>5354,714285714285</td></tr>",
                            "<tr><td>zene</td><td>5312,25</td></tr>",
                            "<tr><td>nyelvtan</td><td>5312</td></tr>",
                            "<tr><td>irodalom</td><td>5309,833333333333</td></tr>",
                            "<tr><td>szótár</td><td>5297,25</td></tr>",
                            "<tr><td>játék (labdarúgás)</td><td>5290,5</td></tr>",
                            "<tr><td>fizika</td><td>5286,5</td></tr>",
                            "<tr><td>matematika</td><td>5275,6</td></tr>",
                            "<tr><td>játék (jégkorong)</td><td>5242</td></tr>",
                            "<tr><td>biológia</td><td>5203</td></tr>",
                            "<tr><td>gasztronómia</td><td>5168,666666666667</td></tr>",
                            "<tr><td>színház</td><td>5158</td></tr>",
                            "<tr><td>múvészet</td><td>5118</td></tr>",
                            "<tr><td>állattan</td><td>5099</td></tr>",
                            "<tr><td>számítástechnika</td><td>5097</td></tr>",
                            "<tr><td>kémia</td><td>5094</td></tr>",
                            "<tr><td>fordító program</td><td>5036</td></tr>",
                            "<tr><td>játék (autóverseny)</td><td>5005</td></tr>",
                            "<tr><td>kerttervező</td><td>4951</td></tr>",
                            "<tr><td>irodalom, nyelv</td><td>4704</td></tr>",
                            "<tr><td>sport</td><td>4607</td></tr>",
                            "</table>"
                        ]
                    }
                }
            ],
            "execution_count": 6
        },
        {
            "cell_type": "markdown",
            "source": [
                "3. <span style=\"color:rgb(36, 41, 47);font-family:-apple-system, BlinkMacSystemFont, &quot;Segoe UI&quot;, Helvetica, Arial, sans-serif, &quot;Apple Color Emoji&quot;, &quot;Segoe UI Emoji&quot;;font-size:16px;\">Listázzuk nyelvenkénti, azon belül stílusonkénti bontásban, hogy mennyi a dvd-k legkisebb és legnagyobb ára!&nbsp;</span> \n",
                "\n",
                "<span style=\"font-size: 16px;\">a. Az oszlopok neve legyen 'Nyelv', 'Stílus', 'MinÁr' és 'MaxÁr'!<br>b.&nbsp;</span> A listából hagyjuk ki azokat a sorokat, ahol a nyelv vagy a stílus nincs megadva!  \n",
                "c. Szintén hagyjuk ki azokat a csoportokat, ahol a csoport elemszáma 3-nál kisebb!"
            ],
            "metadata": {
                "azdata_cell_guid": "9e7249de-1b59-43d8-84b1-26fa7d81fc5a"
            },
            "attachments": {}
        },
        {
            "cell_type": "code",
            "source": [
                ""
            ],
            "metadata": {
                "azdata_cell_guid": "6405d3e8-a9b1-45d7-aa76-3b1e785ef6cc",
                "language": "sql"
            },
            "outputs": [],
            "execution_count": null
        },
        {
            "cell_type": "markdown",
            "source": [
                "4. <span style=\"color: rgb(36, 41, 47); font-family: -apple-system, BlinkMacSystemFont, &quot;Segoe UI&quot;, Helvetica, Arial, sans-serif, &quot;Apple Color Emoji&quot;, &quot;Segoe UI Emoji&quot;; font-size: 16px;\">Készítsünk listát, amely a csoportokat hoz létre aszerint, hogy a mai naptól számítva hány nap telt el a kölcsönzés kezdete óta. A lista jelenítse meg csoportonkénti bontásban a kikölcsönzött dvd-k számát!</span>\n",
                "\n",
                "1. Az oszlopokat nevezzük el értelemszerűen!\n",
                "2. A listát rendezzük az eltelt napok száma szerint csökkenő sorrendbe!"
            ],
            "metadata": {
                "azdata_cell_guid": "6478e469-c094-472c-a772-ccd5b5c61516"
            },
            "attachments": {}
        },
        {
            "cell_type": "code",
            "source": [
                ""
            ],
            "metadata": {
                "azdata_cell_guid": "02031ea2-3838-458d-839c-228e3b362b61",
                "language": "sql"
            },
            "outputs": [],
            "execution_count": null
        },
        {
            "cell_type": "markdown",
            "source": [
                "5. <span style=\"color: rgb(36, 41, 47); font-family: -apple-system, BlinkMacSystemFont, &quot;Segoe UI&quot;, Helvetica, Arial, sans-serif, &quot;Apple Color Emoji&quot;, &quot;Segoe UI Emoji&quot;; font-size: 16px;\">A kölcsönző tulajdonosa elhatározza, hogy ezentúl kerekebb árakat alkalmaz. Ezért minden dvd árát 1000 Ft-ra kerekíti. Készítsünk lekérdezést, amely megmutatja, hogy melyik 1000 Ft-ra kerekített ár szerint, azon belül stílus szerint hány db dvd összesen raktáron! **</span>\n",
                "\n",
                "1. Csak olyan csoportokat listázzunk, ahol a raktárkészlet legalább 30!\n",
                "2. A listát rendezzük kerekített ár szerint, azon belül raktárkészlet szerint növekvő sorrendbe!"
            ],
            "metadata": {
                "azdata_cell_guid": "9edbbaf9-c276-4898-9a01-e1b2993c089f"
            },
            "attachments": {}
        },
        {
            "cell_type": "code",
            "source": [
                ""
            ],
            "metadata": {
                "azdata_cell_guid": "5ad5fdcb-2878-4111-861a-833bcd50e935",
                "language": "sql"
            },
            "outputs": [],
            "execution_count": null
        },
        {
            "cell_type": "markdown",
            "source": [
                "6. <span style=\"font-weight: 600; color: rgb(36, 41, 47); font-family: -apple-system, BlinkMacSystemFont, &quot;Segoe UI&quot;, Helvetica, Arial, sans-serif, &quot;Apple Color Emoji&quot;, &quot;Segoe UI Emoji&quot;; font-size: 16px;\">A dvd-ket csoportosíthatjuk aszerint, hogy milyen hosszú a címük. Amelyiknél a cím hosszúsága 10 karakter alatt van, az legyen Rövid, 10-20-ig Átlagos, 20 felett Hosszú. Hány Rövid, Átlagos, illetve Hosszú dvd-van összesen raktáron?</span>\n",
                "\n",
                "1. Az oszlopok neve legyen 'Cím hosszúság' és 'Darabszám"
            ],
            "metadata": {
                "azdata_cell_guid": "5fe65c1c-2479-45ac-ad03-ec99d12eae21"
            },
            "attachments": {}
        },
        {
            "cell_type": "code",
            "source": [
                ""
            ],
            "metadata": {
                "azdata_cell_guid": "924f2dde-f1c2-4def-a7f9-dbf4bace7735",
                "language": "sql"
            },
            "outputs": [],
            "execution_count": null
        },
        {
            "cell_type": "markdown",
            "source": [
                "7. <span style=\"color: rgb(36, 41, 47); font-family: -apple-system, BlinkMacSystemFont, &quot;Segoe UI&quot;, Helvetica, Arial, sans-serif, &quot;Apple Color Emoji&quot;, &quot;Segoe UI Emoji&quot;; font-size: 16px;\">Készítsünk listát arról, hogy melyik teremben hány óra van!</span>\n",
                "\n",
                "1. Jelenítsük meg a termek azonosítóit és a teremben tartott órák számát!\n",
                "2. Az oszlopokat nevezzük el értelemszerűen!\n",
                "3. Szűrjünk azokra a termekre, ahol az órák száma legalább 3!"
            ],
            "metadata": {
                "azdata_cell_guid": "3aeb6bf5-b111-40d5-92b2-9712ce335696"
            },
            "attachments": {}
        },
        {
            "cell_type": "code",
            "source": [
                ""
            ],
            "metadata": {
                "azdata_cell_guid": "3e89b651-f56f-4102-af52-30eb2bbe360d",
                "language": "sql"
            },
            "outputs": [],
            "execution_count": null
        },
        {
            "cell_type": "markdown",
            "source": [
                "8. <span style=\"color: rgb(36, 41, 47); font-family: -apple-system, BlinkMacSystemFont, &quot;Segoe UI&quot;, Helvetica, Arial, sans-serif, &quot;Apple Color Emoji&quot;, &quot;Segoe UI Emoji&quot;; font-size: 16px;\">Készítsünk lekérdezést, amely megadja, hogy minimálian és maximálisan hány kreditet ér egy tantárgy!</span>\n",
                "\n",
                "1. Az oszlopokat nevezzük el értelemszerűen!\n",
                "2. Ne vegyük figyelembe azokat a tantárgyakat, amelyek nevében az „alapjai” szó szerepel, vagy a tantárgy neve 10 karakternél rövidebb!"
            ],
            "metadata": {
                "azdata_cell_guid": "26a504dc-ff6a-439f-94c0-4580eca3eacf"
            },
            "attachments": {}
        },
        {
            "cell_type": "code",
            "source": [
                ""
            ],
            "metadata": {
                "azdata_cell_guid": "1cbb8aeb-78b5-4350-aa45-e3202fdab85b",
                "language": "sql"
            },
            "outputs": [],
            "execution_count": null
        },
        {
            "cell_type": "markdown",
            "source": [
                "9. <span style=\"color: rgb(36, 41, 47); font-family: -apple-system, BlinkMacSystemFont, &quot;Segoe UI&quot;, Helvetica, Arial, sans-serif, &quot;Apple Color Emoji&quot;, &quot;Segoe UI Emoji&quot;; font-size: 16px;\">A tapasztalat alapján a tanársegédeknek 8, az óraadóknak 10 órájuk van egy héten. A többiek annyi órát tartanak, amennyi az elvárt óraszámuk. Készítsünk lekérdezést, amely minden beosztáshoz megjeleníti, hogy hetente hány túlóra tartozik hozzá!</span>\n",
                "\n",
                "1. A lekérdezés csak a beosztások nevét és a heti túlórák számát jelenítse meg!"
            ],
            "metadata": {
                "azdata_cell_guid": "435e2860-2dd5-4877-90f4-34a43baeb53c"
            },
            "attachments": {}
        },
        {
            "cell_type": "code",
            "source": [
                "---többtáblás lekérdezés\r\n",
                "--tanulmanyi adatbazis\r\n",
                "select Beosztasok.beosztasnev,\r\n",
                "       CASE\r\n",
                "        WHEN beosztasnev = 'tanársegéd' THEN 9 - elvart\r\n",
                "        WHEN beosztasnev = 'óraadó' THEN 10-elvart\r\n",
                "        ELSE 0\r\n",
                "       END AS 'Túlórák Száma'\r\n",
                "from Orak JOIN Oktatok ON Orak.tanar = Oktatok.oktato_id\r\n",
                "          JOIN Beosztasok ON Oktatok.beosztás = Beosztasok.beosztas_id"
            ],
            "metadata": {
                "azdata_cell_guid": "ce846351-ddbe-4d8e-b8fb-2a92c73ac80b",
                "language": "sql"
            },
            "outputs": [
                {
                    "output_type": "display_data",
                    "data": {
                        "text/html": "(67 rows affected)"
                    },
                    "metadata": {}
                },
                {
                    "output_type": "display_data",
                    "data": {
                        "text/html": "Total execution time: 00:00:00.022"
                    },
                    "metadata": {}
                },
                {
                    "output_type": "execute_result",
                    "metadata": {},
                    "execution_count": 7,
                    "data": {
                        "application/vnd.dataresource+json": {
                            "schema": {
                                "fields": [
                                    {
                                        "name": "ora_id"
                                    },
                                    {
                                        "name": "tanar"
                                    },
                                    {
                                        "name": "nap"
                                    },
                                    {
                                        "name": "Sav"
                                    },
                                    {
                                        "name": "targy"
                                    },
                                    {
                                        "name": "terem"
                                    },
                                    {
                                        "name": "oktato_id"
                                    },
                                    {
                                        "name": "nev"
                                    },
                                    {
                                        "name": "titulus"
                                    },
                                    {
                                        "name": "beosztás"
                                    },
                                    {
                                        "name": "status"
                                    }
                                ]
                            },
                            "data": [
                                {
                                    "ora_id": "159",
                                    "tanar": "4",
                                    "nap": "3",
                                    "Sav": "1",
                                    "targy": "1",
                                    "terem": "1",
                                    "oktato_id": "4",
                                    "nev": "Ujfalussi István",
                                    "titulus": "Prof, tanszékvezető",
                                    "beosztás": "6",
                                    "status": "2"
                                },
                                {
                                    "ora_id": "160",
                                    "tanar": "8",
                                    "nap": "2",
                                    "Sav": "5",
                                    "targy": "1",
                                    "terem": "2",
                                    "oktato_id": "8",
                                    "nev": "Pelikán József",
                                    "titulus": "NULL",
                                    "beosztás": "2",
                                    "status": "3"
                                },
                                {
                                    "ora_id": "161",
                                    "tanar": "8",
                                    "nap": "1",
                                    "Sav": "2",
                                    "targy": "1",
                                    "terem": "2",
                                    "oktato_id": "8",
                                    "nev": "Pelikán József",
                                    "titulus": "NULL",
                                    "beosztás": "2",
                                    "status": "3"
                                },
                                {
                                    "ora_id": "162",
                                    "tanar": "20",
                                    "nap": "1",
                                    "Sav": "4",
                                    "targy": "1",
                                    "terem": "3",
                                    "oktato_id": "20",
                                    "nev": "Kovács András",
                                    "titulus": "NULL",
                                    "beosztás": "1",
                                    "status": "1"
                                },
                                {
                                    "ora_id": "163",
                                    "tanar": "3",
                                    "nap": "3",
                                    "Sav": "2",
                                    "targy": "1",
                                    "terem": "4",
                                    "oktato_id": "3",
                                    "nev": "Szerb László",
                                    "titulus": "NULL",
                                    "beosztás": "4",
                                    "status": "1"
                                },
                                {
                                    "ora_id": "164",
                                    "tanar": "7",
                                    "nap": "2",
                                    "Sav": "3",
                                    "targy": "1",
                                    "terem": "3",
                                    "oktato_id": "7",
                                    "nev": "Kiss János",
                                    "titulus": "NULL",
                                    "beosztás": "2",
                                    "status": "1"
                                },
                                {
                                    "ora_id": "165",
                                    "tanar": "3",
                                    "nap": "2",
                                    "Sav": "3",
                                    "targy": "1",
                                    "terem": "3",
                                    "oktato_id": "3",
                                    "nev": "Szerb László",
                                    "titulus": "NULL",
                                    "beosztás": "4",
                                    "status": "1"
                                },
                                {
                                    "ora_id": "166",
                                    "tanar": "3",
                                    "nap": "2",
                                    "Sav": "4",
                                    "targy": "1",
                                    "terem": "3",
                                    "oktato_id": "3",
                                    "nev": "Szerb László",
                                    "titulus": "NULL",
                                    "beosztás": "4",
                                    "status": "1"
                                },
                                {
                                    "ora_id": "167",
                                    "tanar": "2",
                                    "nap": "1",
                                    "Sav": "4",
                                    "targy": "1",
                                    "terem": "4",
                                    "oktato_id": "2",
                                    "nev": "Szentágotai Istvás",
                                    "titulus": "Dr.",
                                    "beosztás": "3",
                                    "status": "2"
                                },
                                {
                                    "ora_id": "168",
                                    "tanar": "4",
                                    "nap": "4",
                                    "Sav": "3",
                                    "targy": "1",
                                    "terem": "5",
                                    "oktato_id": "4",
                                    "nev": "Ujfalussi István",
                                    "titulus": "Prof, tanszékvezető",
                                    "beosztás": "6",
                                    "status": "2"
                                },
                                {
                                    "ora_id": "169",
                                    "tanar": "20",
                                    "nap": "1",
                                    "Sav": "2",
                                    "targy": "1",
                                    "terem": "6",
                                    "oktato_id": "20",
                                    "nev": "Kovács András",
                                    "titulus": "NULL",
                                    "beosztás": "1",
                                    "status": "1"
                                },
                                {
                                    "ora_id": "170",
                                    "tanar": "104",
                                    "nap": "1",
                                    "Sav": "2",
                                    "targy": "1",
                                    "terem": "4",
                                    "oktato_id": "104",
                                    "nev": "Ludas Mátyás",
                                    "titulus": "NULL",
                                    "beosztás": "1",
                                    "status": "1"
                                },
                                {
                                    "ora_id": "171",
                                    "tanar": "14",
                                    "nap": "2",
                                    "Sav": "2",
                                    "targy": "1",
                                    "terem": "8",
                                    "oktato_id": "14",
                                    "nev": "Szénási ászló",
                                    "titulus": "NULL",
                                    "beosztás": "3",
                                    "status": "1"
                                },
                                {
                                    "ora_id": "172",
                                    "tanar": "7",
                                    "nap": "2",
                                    "Sav": "2",
                                    "targy": "1",
                                    "terem": "3",
                                    "oktato_id": "7",
                                    "nev": "Kiss János",
                                    "titulus": "NULL",
                                    "beosztás": "2",
                                    "status": "1"
                                },
                                {
                                    "ora_id": "173",
                                    "tanar": "20",
                                    "nap": "4",
                                    "Sav": "3",
                                    "targy": "1",
                                    "terem": "3",
                                    "oktato_id": "20",
                                    "nev": "Kovács András",
                                    "titulus": "NULL",
                                    "beosztás": "1",
                                    "status": "1"
                                },
                                {
                                    "ora_id": "174",
                                    "tanar": "104",
                                    "nap": "4",
                                    "Sav": "3",
                                    "targy": "1",
                                    "terem": "7",
                                    "oktato_id": "104",
                                    "nev": "Ludas Mátyás",
                                    "titulus": "NULL",
                                    "beosztás": "1",
                                    "status": "1"
                                },
                                {
                                    "ora_id": "175",
                                    "tanar": "14",
                                    "nap": "4",
                                    "Sav": "4",
                                    "targy": "1",
                                    "terem": "4",
                                    "oktato_id": "14",
                                    "nev": "Szénási ászló",
                                    "titulus": "NULL",
                                    "beosztás": "3",
                                    "status": "1"
                                },
                                {
                                    "ora_id": "176",
                                    "tanar": "20",
                                    "nap": "4",
                                    "Sav": "4",
                                    "targy": "1",
                                    "terem": "2",
                                    "oktato_id": "20",
                                    "nev": "Kovács András",
                                    "titulus": "NULL",
                                    "beosztás": "1",
                                    "status": "1"
                                },
                                {
                                    "ora_id": "177",
                                    "tanar": "2",
                                    "nap": "4",
                                    "Sav": "5",
                                    "targy": "1",
                                    "terem": "3",
                                    "oktato_id": "2",
                                    "nev": "Szentágotai Istvás",
                                    "titulus": "Dr.",
                                    "beosztás": "3",
                                    "status": "2"
                                },
                                {
                                    "ora_id": "178",
                                    "tanar": "111",
                                    "nap": "4",
                                    "Sav": "5",
                                    "targy": "1",
                                    "terem": "8",
                                    "oktato_id": "111",
                                    "nev": "Vitéz János",
                                    "titulus": "NULL",
                                    "beosztás": "2",
                                    "status": "1"
                                },
                                {
                                    "ora_id": "179",
                                    "tanar": "2",
                                    "nap": "4",
                                    "Sav": "7",
                                    "targy": "1",
                                    "terem": "4",
                                    "oktato_id": "2",
                                    "nev": "Szentágotai Istvás",
                                    "titulus": "Dr.",
                                    "beosztás": "3",
                                    "status": "2"
                                },
                                {
                                    "ora_id": "180",
                                    "tanar": "111",
                                    "nap": "4",
                                    "Sav": "7",
                                    "targy": "1",
                                    "terem": "3",
                                    "oktato_id": "111",
                                    "nev": "Vitéz János",
                                    "titulus": "NULL",
                                    "beosztás": "2",
                                    "status": "1"
                                },
                                {
                                    "ora_id": "181",
                                    "tanar": "2",
                                    "nap": "5",
                                    "Sav": "1",
                                    "targy": "1",
                                    "terem": "2",
                                    "oktato_id": "2",
                                    "nev": "Szentágotai Istvás",
                                    "titulus": "Dr.",
                                    "beosztás": "3",
                                    "status": "2"
                                },
                                {
                                    "ora_id": "182",
                                    "tanar": "111",
                                    "nap": "5",
                                    "Sav": "1",
                                    "targy": "1",
                                    "terem": "7",
                                    "oktato_id": "111",
                                    "nev": "Vitéz János",
                                    "titulus": "NULL",
                                    "beosztás": "2",
                                    "status": "1"
                                },
                                {
                                    "ora_id": "183",
                                    "tanar": "2",
                                    "nap": "5",
                                    "Sav": "2",
                                    "targy": "1",
                                    "terem": "8",
                                    "oktato_id": "2",
                                    "nev": "Szentágotai Istvás",
                                    "titulus": "Dr.",
                                    "beosztás": "3",
                                    "status": "2"
                                },
                                {
                                    "ora_id": "184",
                                    "tanar": "111",
                                    "nap": "5",
                                    "Sav": "2",
                                    "targy": "1",
                                    "terem": "6",
                                    "oktato_id": "111",
                                    "nev": "Vitéz János",
                                    "titulus": "NULL",
                                    "beosztás": "2",
                                    "status": "1"
                                },
                                {
                                    "ora_id": "185",
                                    "tanar": "2",
                                    "nap": "4",
                                    "Sav": "3",
                                    "targy": "1",
                                    "terem": "4",
                                    "oktato_id": "2",
                                    "nev": "Szentágotai Istvás",
                                    "titulus": "Dr.",
                                    "beosztás": "3",
                                    "status": "2"
                                },
                                {
                                    "ora_id": "186",
                                    "tanar": "18",
                                    "nap": "2",
                                    "Sav": "4",
                                    "targy": "16",
                                    "terem": "7",
                                    "oktato_id": "18",
                                    "nev": "Nógrádi Kata",
                                    "titulus": "NULL",
                                    "beosztás": "1",
                                    "status": "1"
                                },
                                {
                                    "ora_id": "187",
                                    "tanar": "5",
                                    "nap": "3",
                                    "Sav": "2",
                                    "targy": "2",
                                    "terem": "5",
                                    "oktato_id": "5",
                                    "nev": "Balkán András",
                                    "titulus": "Dr.",
                                    "beosztás": "4",
                                    "status": "2"
                                },
                                {
                                    "ora_id": "188",
                                    "tanar": "9",
                                    "nap": "4",
                                    "Sav": "7",
                                    "targy": "2",
                                    "terem": "13",
                                    "oktato_id": "9",
                                    "nev": "Farkasos Piroska",
                                    "titulus": "NULL",
                                    "beosztás": "2",
                                    "status": "3"
                                },
                                {
                                    "ora_id": "189",
                                    "tanar": "9",
                                    "nap": "4",
                                    "Sav": "2",
                                    "targy": "2",
                                    "terem": "13",
                                    "oktato_id": "9",
                                    "nev": "Farkasos Piroska",
                                    "titulus": "NULL",
                                    "beosztás": "2",
                                    "status": "3"
                                },
                                {
                                    "ora_id": "190",
                                    "tanar": "9",
                                    "nap": "5",
                                    "Sav": "3",
                                    "targy": "2",
                                    "terem": "14",
                                    "oktato_id": "9",
                                    "nev": "Farkasos Piroska",
                                    "titulus": "NULL",
                                    "beosztás": "2",
                                    "status": "3"
                                },
                                {
                                    "ora_id": "191",
                                    "tanar": "12",
                                    "nap": "1",
                                    "Sav": "5",
                                    "targy": "5",
                                    "terem": "8",
                                    "oktato_id": "12",
                                    "nev": "Varga Kata",
                                    "titulus": "Dr.",
                                    "beosztás": "4",
                                    "status": "1"
                                },
                                {
                                    "ora_id": "192",
                                    "tanar": "12",
                                    "nap": "1",
                                    "Sav": "7",
                                    "targy": "5",
                                    "terem": "3",
                                    "oktato_id": "12",
                                    "nev": "Varga Kata",
                                    "titulus": "Dr.",
                                    "beosztás": "4",
                                    "status": "1"
                                },
                                {
                                    "ora_id": "193",
                                    "tanar": "9",
                                    "nap": "1",
                                    "Sav": "5",
                                    "targy": "5",
                                    "terem": "5",
                                    "oktato_id": "9",
                                    "nev": "Farkasos Piroska",
                                    "titulus": "NULL",
                                    "beosztás": "2",
                                    "status": "3"
                                },
                                {
                                    "ora_id": "194",
                                    "tanar": "9",
                                    "nap": "1",
                                    "Sav": "7",
                                    "targy": "5",
                                    "terem": "11",
                                    "oktato_id": "9",
                                    "nev": "Farkasos Piroska",
                                    "titulus": "NULL",
                                    "beosztás": "2",
                                    "status": "3"
                                },
                                {
                                    "ora_id": "195",
                                    "tanar": "5",
                                    "nap": "1",
                                    "Sav": "5",
                                    "targy": "5",
                                    "terem": "12",
                                    "oktato_id": "5",
                                    "nev": "Balkán András",
                                    "titulus": "Dr.",
                                    "beosztás": "4",
                                    "status": "2"
                                },
                                {
                                    "ora_id": "196",
                                    "tanar": "5",
                                    "nap": "1",
                                    "Sav": "7",
                                    "targy": "5",
                                    "terem": "6",
                                    "oktato_id": "5",
                                    "nev": "Balkán András",
                                    "titulus": "Dr.",
                                    "beosztás": "4",
                                    "status": "2"
                                },
                                {
                                    "ora_id": "197",
                                    "tanar": "9",
                                    "nap": "4",
                                    "Sav": "1",
                                    "targy": "5",
                                    "terem": "16",
                                    "oktato_id": "9",
                                    "nev": "Farkasos Piroska",
                                    "titulus": "NULL",
                                    "beosztás": "2",
                                    "status": "3"
                                },
                                {
                                    "ora_id": "198",
                                    "tanar": "9",
                                    "nap": "3",
                                    "Sav": "2",
                                    "targy": "5",
                                    "terem": "3",
                                    "oktato_id": "9",
                                    "nev": "Farkasos Piroska",
                                    "titulus": "NULL",
                                    "beosztás": "2",
                                    "status": "3"
                                },
                                {
                                    "ora_id": "199",
                                    "tanar": "300",
                                    "nap": "4",
                                    "Sav": "1",
                                    "targy": "5",
                                    "terem": "6",
                                    "oktato_id": "300",
                                    "nev": "Szabó Andrera",
                                    "titulus": "NULL",
                                    "beosztás": "1",
                                    "status": "1"
                                },
                                {
                                    "ora_id": "200",
                                    "tanar": "300",
                                    "nap": "4",
                                    "Sav": "2",
                                    "targy": "5",
                                    "terem": "8",
                                    "oktato_id": "300",
                                    "nev": "Szabó Andrera",
                                    "titulus": "NULL",
                                    "beosztás": "1",
                                    "status": "1"
                                },
                                {
                                    "ora_id": "201",
                                    "tanar": "301",
                                    "nap": "4",
                                    "Sav": "4",
                                    "targy": "17",
                                    "terem": "14",
                                    "oktato_id": "301",
                                    "nev": "Juhász András",
                                    "titulus": "Dr.",
                                    "beosztás": "6",
                                    "status": "1"
                                },
                                {
                                    "ora_id": "202",
                                    "tanar": "301",
                                    "nap": "4",
                                    "Sav": "5",
                                    "targy": "17",
                                    "terem": "15",
                                    "oktato_id": "301",
                                    "nev": "Juhász András",
                                    "titulus": "Dr.",
                                    "beosztás": "6",
                                    "status": "1"
                                },
                                {
                                    "ora_id": "203",
                                    "tanar": "200",
                                    "nap": "1",
                                    "Sav": "4",
                                    "targy": "4",
                                    "terem": "10",
                                    "oktato_id": "200",
                                    "nev": "Aranyi Mária",
                                    "titulus": "NULL",
                                    "beosztás": "1",
                                    "status": "1"
                                },
                                {
                                    "ora_id": "204",
                                    "tanar": "108",
                                    "nap": "2",
                                    "Sav": "5",
                                    "targy": "4",
                                    "terem": "4",
                                    "oktato_id": "108",
                                    "nev": "Róbert Gida",
                                    "titulus": "NULL",
                                    "beosztás": "2",
                                    "status": "1"
                                },
                                {
                                    "ora_id": "205",
                                    "tanar": "4",
                                    "nap": "1",
                                    "Sav": "4",
                                    "targy": "18",
                                    "terem": "8",
                                    "oktato_id": "4",
                                    "nev": "Ujfalussi István",
                                    "titulus": "Prof, tanszékvezető",
                                    "beosztás": "6",
                                    "status": "2"
                                },
                                {
                                    "ora_id": "206",
                                    "tanar": "12",
                                    "nap": "2",
                                    "Sav": "1",
                                    "targy": "18",
                                    "terem": "10",
                                    "oktato_id": "12",
                                    "nev": "Varga Kata",
                                    "titulus": "Dr.",
                                    "beosztás": "4",
                                    "status": "1"
                                },
                                {
                                    "ora_id": "207",
                                    "tanar": "12",
                                    "nap": "4",
                                    "Sav": "4",
                                    "targy": "18",
                                    "terem": "7",
                                    "oktato_id": "12",
                                    "nev": "Varga Kata",
                                    "titulus": "Dr.",
                                    "beosztás": "4",
                                    "status": "1"
                                },
                                {
                                    "ora_id": "208",
                                    "tanar": "10",
                                    "nap": "1",
                                    "Sav": "1",
                                    "targy": "13",
                                    "terem": "13",
                                    "oktato_id": "10",
                                    "nev": "Jogrerős Pál",
                                    "titulus": "Prof.",
                                    "beosztás": "6",
                                    "status": "1"
                                },
                                {
                                    "ora_id": "209",
                                    "tanar": "10",
                                    "nap": "1",
                                    "Sav": "2",
                                    "targy": "13",
                                    "terem": "13",
                                    "oktato_id": "10",
                                    "nev": "Jogrerős Pál",
                                    "titulus": "Prof.",
                                    "beosztás": "6",
                                    "status": "1"
                                },
                                {
                                    "ora_id": "210",
                                    "tanar": "6",
                                    "nap": "1",
                                    "Sav": "7",
                                    "targy": "8",
                                    "terem": "14",
                                    "oktato_id": "6",
                                    "nev": "Szép llonka",
                                    "titulus": "Dr.",
                                    "beosztás": "3",
                                    "status": "1"
                                },
                                {
                                    "ora_id": "211",
                                    "tanar": "6",
                                    "nap": "1",
                                    "Sav": "8",
                                    "targy": "8",
                                    "terem": "5",
                                    "oktato_id": "6",
                                    "nev": "Szép llonka",
                                    "titulus": "Dr.",
                                    "beosztás": "3",
                                    "status": "1"
                                },
                                {
                                    "ora_id": "212",
                                    "tanar": "7",
                                    "nap": "1",
                                    "Sav": "9",
                                    "targy": "8",
                                    "terem": "4",
                                    "oktato_id": "7",
                                    "nev": "Kiss János",
                                    "titulus": "NULL",
                                    "beosztás": "2",
                                    "status": "1"
                                },
                                {
                                    "ora_id": "213",
                                    "tanar": "7",
                                    "nap": "1",
                                    "Sav": "10",
                                    "targy": "8",
                                    "terem": "6",
                                    "oktato_id": "7",
                                    "nev": "Kiss János",
                                    "titulus": "NULL",
                                    "beosztás": "2",
                                    "status": "1"
                                },
                                {
                                    "ora_id": "214",
                                    "tanar": "8",
                                    "nap": "1",
                                    "Sav": "3",
                                    "targy": "3",
                                    "terem": "7",
                                    "oktato_id": "8",
                                    "nev": "Pelikán József",
                                    "titulus": "NULL",
                                    "beosztás": "2",
                                    "status": "3"
                                },
                                {
                                    "ora_id": "215",
                                    "tanar": "8",
                                    "nap": "1",
                                    "Sav": "4",
                                    "targy": "3",
                                    "terem": "9",
                                    "oktato_id": "8",
                                    "nev": "Pelikán József",
                                    "titulus": "NULL",
                                    "beosztás": "2",
                                    "status": "3"
                                },
                                {
                                    "ora_id": "216",
                                    "tanar": "6",
                                    "nap": "1",
                                    "Sav": "3",
                                    "targy": "3",
                                    "terem": "6",
                                    "oktato_id": "6",
                                    "nev": "Szép llonka",
                                    "titulus": "Dr.",
                                    "beosztás": "3",
                                    "status": "1"
                                },
                                {
                                    "ora_id": "217",
                                    "tanar": "6",
                                    "nap": "1",
                                    "Sav": "4",
                                    "targy": "3",
                                    "terem": "5",
                                    "oktato_id": "6",
                                    "nev": "Szép llonka",
                                    "titulus": "Dr.",
                                    "beosztás": "3",
                                    "status": "1"
                                },
                                {
                                    "ora_id": "218",
                                    "tanar": "8",
                                    "nap": "2",
                                    "Sav": "7",
                                    "targy": "3",
                                    "terem": "2",
                                    "oktato_id": "8",
                                    "nev": "Pelikán József",
                                    "titulus": "NULL",
                                    "beosztás": "2",
                                    "status": "3"
                                },
                                {
                                    "ora_id": "219",
                                    "tanar": "8",
                                    "nap": "2",
                                    "Sav": "8",
                                    "targy": "3",
                                    "terem": "7",
                                    "oktato_id": "8",
                                    "nev": "Pelikán József",
                                    "titulus": "NULL",
                                    "beosztás": "2",
                                    "status": "3"
                                },
                                {
                                    "ora_id": "220",
                                    "tanar": "1",
                                    "nap": "2",
                                    "Sav": "3",
                                    "targy": "10",
                                    "terem": "3",
                                    "oktato_id": "1",
                                    "nev": "Kovács László",
                                    "titulus": "Dr.",
                                    "beosztás": "6",
                                    "status": "2"
                                },
                                {
                                    "ora_id": "221",
                                    "tanar": "1",
                                    "nap": "3",
                                    "Sav": "3",
                                    "targy": "10",
                                    "terem": "13",
                                    "oktato_id": "1",
                                    "nev": "Kovács László",
                                    "titulus": "Dr.",
                                    "beosztás": "6",
                                    "status": "2"
                                },
                                {
                                    "ora_id": "222",
                                    "tanar": "1",
                                    "nap": "4",
                                    "Sav": "5",
                                    "targy": "10",
                                    "terem": "12",
                                    "oktato_id": "1",
                                    "nev": "Kovács László",
                                    "titulus": "Dr.",
                                    "beosztás": "6",
                                    "status": "2"
                                },
                                {
                                    "ora_id": "223",
                                    "tanar": "1",
                                    "nap": "5",
                                    "Sav": "1",
                                    "targy": "10",
                                    "terem": "10",
                                    "oktato_id": "1",
                                    "nev": "Kovács László",
                                    "titulus": "Dr.",
                                    "beosztás": "6",
                                    "status": "2"
                                },
                                {
                                    "ora_id": "226",
                                    "tanar": "2",
                                    "nap": "3",
                                    "Sav": "3",
                                    "targy": "19",
                                    "terem": "1",
                                    "oktato_id": "2",
                                    "nev": "Szentágotai Istvás",
                                    "titulus": "Dr.",
                                    "beosztás": "3",
                                    "status": "2"
                                },
                                {
                                    "ora_id": "227",
                                    "tanar": "2",
                                    "nap": "2",
                                    "Sav": "5",
                                    "targy": "4",
                                    "terem": "12",
                                    "oktato_id": "2",
                                    "nev": "Szentágotai Istvás",
                                    "titulus": "Dr.",
                                    "beosztás": "3",
                                    "status": "2"
                                }
                            ]
                        },
                        "text/html": [
                            "<table>",
                            "<tr><th>ora_id</th><th>tanar</th><th>nap</th><th>Sav</th><th>targy</th><th>terem</th><th>oktato_id</th><th>nev</th><th>titulus</th><th>beosztás</th><th>status</th></tr>",
                            "<tr><td>159</td><td>4</td><td>3</td><td>1</td><td>1</td><td>1</td><td>4</td><td>Ujfalussi István</td><td>Prof, tanszékvezető</td><td>6</td><td>2</td></tr>",
                            "<tr><td>160</td><td>8</td><td>2</td><td>5</td><td>1</td><td>2</td><td>8</td><td>Pelikán József</td><td>NULL</td><td>2</td><td>3</td></tr>",
                            "<tr><td>161</td><td>8</td><td>1</td><td>2</td><td>1</td><td>2</td><td>8</td><td>Pelikán József</td><td>NULL</td><td>2</td><td>3</td></tr>",
                            "<tr><td>162</td><td>20</td><td>1</td><td>4</td><td>1</td><td>3</td><td>20</td><td>Kovács András</td><td>NULL</td><td>1</td><td>1</td></tr>",
                            "<tr><td>163</td><td>3</td><td>3</td><td>2</td><td>1</td><td>4</td><td>3</td><td>Szerb László</td><td>NULL</td><td>4</td><td>1</td></tr>",
                            "<tr><td>164</td><td>7</td><td>2</td><td>3</td><td>1</td><td>3</td><td>7</td><td>Kiss János</td><td>NULL</td><td>2</td><td>1</td></tr>",
                            "<tr><td>165</td><td>3</td><td>2</td><td>3</td><td>1</td><td>3</td><td>3</td><td>Szerb László</td><td>NULL</td><td>4</td><td>1</td></tr>",
                            "<tr><td>166</td><td>3</td><td>2</td><td>4</td><td>1</td><td>3</td><td>3</td><td>Szerb László</td><td>NULL</td><td>4</td><td>1</td></tr>",
                            "<tr><td>167</td><td>2</td><td>1</td><td>4</td><td>1</td><td>4</td><td>2</td><td>Szentágotai Istvás</td><td>Dr.</td><td>3</td><td>2</td></tr>",
                            "<tr><td>168</td><td>4</td><td>4</td><td>3</td><td>1</td><td>5</td><td>4</td><td>Ujfalussi István</td><td>Prof, tanszékvezető</td><td>6</td><td>2</td></tr>",
                            "<tr><td>169</td><td>20</td><td>1</td><td>2</td><td>1</td><td>6</td><td>20</td><td>Kovács András</td><td>NULL</td><td>1</td><td>1</td></tr>",
                            "<tr><td>170</td><td>104</td><td>1</td><td>2</td><td>1</td><td>4</td><td>104</td><td>Ludas Mátyás</td><td>NULL</td><td>1</td><td>1</td></tr>",
                            "<tr><td>171</td><td>14</td><td>2</td><td>2</td><td>1</td><td>8</td><td>14</td><td>Szénási ászló</td><td>NULL</td><td>3</td><td>1</td></tr>",
                            "<tr><td>172</td><td>7</td><td>2</td><td>2</td><td>1</td><td>3</td><td>7</td><td>Kiss János</td><td>NULL</td><td>2</td><td>1</td></tr>",
                            "<tr><td>173</td><td>20</td><td>4</td><td>3</td><td>1</td><td>3</td><td>20</td><td>Kovács András</td><td>NULL</td><td>1</td><td>1</td></tr>",
                            "<tr><td>174</td><td>104</td><td>4</td><td>3</td><td>1</td><td>7</td><td>104</td><td>Ludas Mátyás</td><td>NULL</td><td>1</td><td>1</td></tr>",
                            "<tr><td>175</td><td>14</td><td>4</td><td>4</td><td>1</td><td>4</td><td>14</td><td>Szénási ászló</td><td>NULL</td><td>3</td><td>1</td></tr>",
                            "<tr><td>176</td><td>20</td><td>4</td><td>4</td><td>1</td><td>2</td><td>20</td><td>Kovács András</td><td>NULL</td><td>1</td><td>1</td></tr>",
                            "<tr><td>177</td><td>2</td><td>4</td><td>5</td><td>1</td><td>3</td><td>2</td><td>Szentágotai Istvás</td><td>Dr.</td><td>3</td><td>2</td></tr>",
                            "<tr><td>178</td><td>111</td><td>4</td><td>5</td><td>1</td><td>8</td><td>111</td><td>Vitéz János</td><td>NULL</td><td>2</td><td>1</td></tr>",
                            "<tr><td>179</td><td>2</td><td>4</td><td>7</td><td>1</td><td>4</td><td>2</td><td>Szentágotai Istvás</td><td>Dr.</td><td>3</td><td>2</td></tr>",
                            "<tr><td>180</td><td>111</td><td>4</td><td>7</td><td>1</td><td>3</td><td>111</td><td>Vitéz János</td><td>NULL</td><td>2</td><td>1</td></tr>",
                            "<tr><td>181</td><td>2</td><td>5</td><td>1</td><td>1</td><td>2</td><td>2</td><td>Szentágotai Istvás</td><td>Dr.</td><td>3</td><td>2</td></tr>",
                            "<tr><td>182</td><td>111</td><td>5</td><td>1</td><td>1</td><td>7</td><td>111</td><td>Vitéz János</td><td>NULL</td><td>2</td><td>1</td></tr>",
                            "<tr><td>183</td><td>2</td><td>5</td><td>2</td><td>1</td><td>8</td><td>2</td><td>Szentágotai Istvás</td><td>Dr.</td><td>3</td><td>2</td></tr>",
                            "<tr><td>184</td><td>111</td><td>5</td><td>2</td><td>1</td><td>6</td><td>111</td><td>Vitéz János</td><td>NULL</td><td>2</td><td>1</td></tr>",
                            "<tr><td>185</td><td>2</td><td>4</td><td>3</td><td>1</td><td>4</td><td>2</td><td>Szentágotai Istvás</td><td>Dr.</td><td>3</td><td>2</td></tr>",
                            "<tr><td>186</td><td>18</td><td>2</td><td>4</td><td>16</td><td>7</td><td>18</td><td>Nógrádi Kata</td><td>NULL</td><td>1</td><td>1</td></tr>",
                            "<tr><td>187</td><td>5</td><td>3</td><td>2</td><td>2</td><td>5</td><td>5</td><td>Balkán András</td><td>Dr.</td><td>4</td><td>2</td></tr>",
                            "<tr><td>188</td><td>9</td><td>4</td><td>7</td><td>2</td><td>13</td><td>9</td><td>Farkasos Piroska</td><td>NULL</td><td>2</td><td>3</td></tr>",
                            "<tr><td>189</td><td>9</td><td>4</td><td>2</td><td>2</td><td>13</td><td>9</td><td>Farkasos Piroska</td><td>NULL</td><td>2</td><td>3</td></tr>",
                            "<tr><td>190</td><td>9</td><td>5</td><td>3</td><td>2</td><td>14</td><td>9</td><td>Farkasos Piroska</td><td>NULL</td><td>2</td><td>3</td></tr>",
                            "<tr><td>191</td><td>12</td><td>1</td><td>5</td><td>5</td><td>8</td><td>12</td><td>Varga Kata</td><td>Dr.</td><td>4</td><td>1</td></tr>",
                            "<tr><td>192</td><td>12</td><td>1</td><td>7</td><td>5</td><td>3</td><td>12</td><td>Varga Kata</td><td>Dr.</td><td>4</td><td>1</td></tr>",
                            "<tr><td>193</td><td>9</td><td>1</td><td>5</td><td>5</td><td>5</td><td>9</td><td>Farkasos Piroska</td><td>NULL</td><td>2</td><td>3</td></tr>",
                            "<tr><td>194</td><td>9</td><td>1</td><td>7</td><td>5</td><td>11</td><td>9</td><td>Farkasos Piroska</td><td>NULL</td><td>2</td><td>3</td></tr>",
                            "<tr><td>195</td><td>5</td><td>1</td><td>5</td><td>5</td><td>12</td><td>5</td><td>Balkán András</td><td>Dr.</td><td>4</td><td>2</td></tr>",
                            "<tr><td>196</td><td>5</td><td>1</td><td>7</td><td>5</td><td>6</td><td>5</td><td>Balkán András</td><td>Dr.</td><td>4</td><td>2</td></tr>",
                            "<tr><td>197</td><td>9</td><td>4</td><td>1</td><td>5</td><td>16</td><td>9</td><td>Farkasos Piroska</td><td>NULL</td><td>2</td><td>3</td></tr>",
                            "<tr><td>198</td><td>9</td><td>3</td><td>2</td><td>5</td><td>3</td><td>9</td><td>Farkasos Piroska</td><td>NULL</td><td>2</td><td>3</td></tr>",
                            "<tr><td>199</td><td>300</td><td>4</td><td>1</td><td>5</td><td>6</td><td>300</td><td>Szabó Andrera</td><td>NULL</td><td>1</td><td>1</td></tr>",
                            "<tr><td>200</td><td>300</td><td>4</td><td>2</td><td>5</td><td>8</td><td>300</td><td>Szabó Andrera</td><td>NULL</td><td>1</td><td>1</td></tr>",
                            "<tr><td>201</td><td>301</td><td>4</td><td>4</td><td>17</td><td>14</td><td>301</td><td>Juhász András</td><td>Dr.</td><td>6</td><td>1</td></tr>",
                            "<tr><td>202</td><td>301</td><td>4</td><td>5</td><td>17</td><td>15</td><td>301</td><td>Juhász András</td><td>Dr.</td><td>6</td><td>1</td></tr>",
                            "<tr><td>203</td><td>200</td><td>1</td><td>4</td><td>4</td><td>10</td><td>200</td><td>Aranyi Mária</td><td>NULL</td><td>1</td><td>1</td></tr>",
                            "<tr><td>204</td><td>108</td><td>2</td><td>5</td><td>4</td><td>4</td><td>108</td><td>Róbert Gida</td><td>NULL</td><td>2</td><td>1</td></tr>",
                            "<tr><td>205</td><td>4</td><td>1</td><td>4</td><td>18</td><td>8</td><td>4</td><td>Ujfalussi István</td><td>Prof, tanszékvezető</td><td>6</td><td>2</td></tr>",
                            "<tr><td>206</td><td>12</td><td>2</td><td>1</td><td>18</td><td>10</td><td>12</td><td>Varga Kata</td><td>Dr.</td><td>4</td><td>1</td></tr>",
                            "<tr><td>207</td><td>12</td><td>4</td><td>4</td><td>18</td><td>7</td><td>12</td><td>Varga Kata</td><td>Dr.</td><td>4</td><td>1</td></tr>",
                            "<tr><td>208</td><td>10</td><td>1</td><td>1</td><td>13</td><td>13</td><td>10</td><td>Jogrerős Pál</td><td>Prof.</td><td>6</td><td>1</td></tr>",
                            "<tr><td>209</td><td>10</td><td>1</td><td>2</td><td>13</td><td>13</td><td>10</td><td>Jogrerős Pál</td><td>Prof.</td><td>6</td><td>1</td></tr>",
                            "<tr><td>210</td><td>6</td><td>1</td><td>7</td><td>8</td><td>14</td><td>6</td><td>Szép llonka</td><td>Dr.</td><td>3</td><td>1</td></tr>",
                            "<tr><td>211</td><td>6</td><td>1</td><td>8</td><td>8</td><td>5</td><td>6</td><td>Szép llonka</td><td>Dr.</td><td>3</td><td>1</td></tr>",
                            "<tr><td>212</td><td>7</td><td>1</td><td>9</td><td>8</td><td>4</td><td>7</td><td>Kiss János</td><td>NULL</td><td>2</td><td>1</td></tr>",
                            "<tr><td>213</td><td>7</td><td>1</td><td>10</td><td>8</td><td>6</td><td>7</td><td>Kiss János</td><td>NULL</td><td>2</td><td>1</td></tr>",
                            "<tr><td>214</td><td>8</td><td>1</td><td>3</td><td>3</td><td>7</td><td>8</td><td>Pelikán József</td><td>NULL</td><td>2</td><td>3</td></tr>",
                            "<tr><td>215</td><td>8</td><td>1</td><td>4</td><td>3</td><td>9</td><td>8</td><td>Pelikán József</td><td>NULL</td><td>2</td><td>3</td></tr>",
                            "<tr><td>216</td><td>6</td><td>1</td><td>3</td><td>3</td><td>6</td><td>6</td><td>Szép llonka</td><td>Dr.</td><td>3</td><td>1</td></tr>",
                            "<tr><td>217</td><td>6</td><td>1</td><td>4</td><td>3</td><td>5</td><td>6</td><td>Szép llonka</td><td>Dr.</td><td>3</td><td>1</td></tr>",
                            "<tr><td>218</td><td>8</td><td>2</td><td>7</td><td>3</td><td>2</td><td>8</td><td>Pelikán József</td><td>NULL</td><td>2</td><td>3</td></tr>",
                            "<tr><td>219</td><td>8</td><td>2</td><td>8</td><td>3</td><td>7</td><td>8</td><td>Pelikán József</td><td>NULL</td><td>2</td><td>3</td></tr>",
                            "<tr><td>220</td><td>1</td><td>2</td><td>3</td><td>10</td><td>3</td><td>1</td><td>Kovács László</td><td>Dr.</td><td>6</td><td>2</td></tr>",
                            "<tr><td>221</td><td>1</td><td>3</td><td>3</td><td>10</td><td>13</td><td>1</td><td>Kovács László</td><td>Dr.</td><td>6</td><td>2</td></tr>",
                            "<tr><td>222</td><td>1</td><td>4</td><td>5</td><td>10</td><td>12</td><td>1</td><td>Kovács László</td><td>Dr.</td><td>6</td><td>2</td></tr>",
                            "<tr><td>223</td><td>1</td><td>5</td><td>1</td><td>10</td><td>10</td><td>1</td><td>Kovács László</td><td>Dr.</td><td>6</td><td>2</td></tr>",
                            "<tr><td>226</td><td>2</td><td>3</td><td>3</td><td>19</td><td>1</td><td>2</td><td>Szentágotai Istvás</td><td>Dr.</td><td>3</td><td>2</td></tr>",
                            "<tr><td>227</td><td>2</td><td>2</td><td>5</td><td>4</td><td>12</td><td>2</td><td>Szentágotai Istvás</td><td>Dr.</td><td>3</td><td>2</td></tr>",
                            "</table>"
                        ]
                    }
                }
            ],
            "execution_count": 7
        },
        {
            "cell_type": "markdown",
            "source": [
                "10. <span style=\"font-weight: 600; color: rgb(36, 41, 47); font-family: -apple-system, BlinkMacSystemFont, &quot;Segoe UI&quot;, Helvetica, Arial, sans-serif, &quot;Apple Color Emoji&quot;, &quot;Segoe UI Emoji&quot;; font-size: 16px;\">Melyek azok az oktatók, akiknek nincs órájuk?</span>\n",
                "\n",
                "1. Csak az oktatók neve jelenjen meg!\n",
                "2. ÖTLET: használjunk LEFT JOIN-t, és szűrjünk azokra a rekordokra, ahol NULL érték van a JOIN utáni feltétel jobb oldalán!"
            ],
            "metadata": {
                "azdata_cell_guid": "217c5772-afe2-4a7c-b913-e3a3e09d6411"
            },
            "attachments": {}
        },
        {
            "cell_type": "code",
            "source": [
                ""
            ],
            "metadata": {
                "azdata_cell_guid": "a9cc0926-3dbd-4ed8-8179-1c39d64a0762",
                "language": "sql"
            },
            "outputs": [],
            "execution_count": null
        },
        {
            "cell_type": "markdown",
            "source": [
                "11. <span style=\"font-weight: 600; color: rgb(36, 41, 47); font-family: -apple-system, BlinkMacSystemFont, &quot;Segoe UI&quot;, Helvetica, Arial, sans-serif, &quot;Apple Color Emoji&quot;, &quot;Segoe UI Emoji&quot;; font-size: 16px;\">Készítsünk lekérdezést, amely részletesen megjeleníti az egyes órák fontosabb adatait, azaz</span>\n",
                "\n",
                "1. Az órák azonosítóit, a tanár nevét, a tantárgy nevét, a terem nevét és a kezdési időpontot!\n",
                "2. Az oszlopokat nevezzük el értelemszerűen!"
            ],
            "metadata": {
                "azdata_cell_guid": "d2340f5f-1614-473c-b937-85740d67f7c1"
            },
            "attachments": {}
        },
        {
            "cell_type": "code",
            "source": [
                ""
            ],
            "metadata": {
                "azdata_cell_guid": "e99c2c53-898f-4787-b0e6-182d106dc16f",
                "language": "sql"
            },
            "outputs": [],
            "execution_count": null
        },
        {
            "cell_type": "markdown",
            "source": [
                "12. <span style=\"color: rgb(36, 41, 47); font-family: -apple-system, BlinkMacSystemFont, &quot;Segoe UI&quot;, Helvetica, Arial, sans-serif, &quot;Apple Color Emoji&quot;, &quot;Segoe UI Emoji&quot;; font-size: 16px;\">Készítsünk listát, amely tartalmazza az egyes órák azonosítóit, és az órán oktatott tantárgy felelősének nevét!</span>\n",
                "\n",
                "1. Rendezzük a listát a tantárgyfelelős neve szerint csökkenő sorrendbe!"
            ],
            "metadata": {
                "azdata_cell_guid": "a765e9d6-58b3-4171-872a-78f3118fd6e3"
            },
            "attachments": {}
        },
        {
            "cell_type": "code",
            "source": [
                ""
            ],
            "metadata": {
                "azdata_cell_guid": "422e8127-b652-4d3a-bfd7-9b1637b5781e",
                "language": "sql"
            },
            "outputs": [],
            "execution_count": null
        },
        {
            "cell_type": "markdown",
            "source": [
                "13. <span style=\"color: rgb(36, 41, 47); font-family: -apple-system, BlinkMacSystemFont, &quot;Segoe UI&quot;, Helvetica, Arial, sans-serif, &quot;Apple Color Emoji&quot;, &quot;Segoe UI Emoji&quot;; font-size: 16px;\">Készítsünk listát, amely megjeleníti, hogy az Orak táblában lévő órák közül hányat tart Dr., illetve nem Dr. titulusú tanár!</span>\n",
                "\n",
                "1. Az oszlopokat nevezzük el értelemszerűen!"
            ],
            "metadata": {
                "azdata_cell_guid": "3f9237ae-f109-401c-acb9-31d75e73331b"
            },
            "attachments": {}
        },
        {
            "cell_type": "code",
            "source": [
                ""
            ],
            "metadata": {
                "azdata_cell_guid": "4b31bb89-cfbc-46b1-8639-85c462877786",
                "language": "sql"
            },
            "outputs": [],
            "execution_count": null
        },
        {
            "cell_type": "markdown",
            "source": [
                "14. <span style=\"color: rgb(36, 41, 47); font-family: -apple-system, BlinkMacSystemFont, &quot;Segoe UI&quot;, Helvetica, Arial, sans-serif, &quot;Apple Color Emoji&quot;, &quot;Segoe UI Emoji&quot;; font-size: 16px;\">Készítsünk listát arról, hogy beosztásonként hány óra szerepel az Orak táblában!</span>\n",
                "\n",
                "1. Jelenítsük meg a beosztások nevét és az órák számát!\n",
                "2. A listát szűrjük azokra a beosztásokra, ahol ez az óraszám 10 feletti!"
            ],
            "metadata": {
                "azdata_cell_guid": "f634e09a-85ef-4e70-8ec6-ef355dfddaa7"
            },
            "attachments": {}
        },
        {
            "cell_type": "code",
            "source": [
                "SELECT beosztasok.beosztasnev,\r\n",
                "    count(*)\r\n",
                "from Orak JOIN Oktatok ON Orak.tanar = Oktatok.oktato_id\r\n",
                "          JOIN Beosztasok ON Oktatok.beosztás = Beosztasok.beosztas_id\r\n",
                "group by beosztasnev\r\n",
                "having count(*)>10"
            ],
            "metadata": {
                "azdata_cell_guid": "88abc55b-2c78-495b-a72f-3f8f4eb5fe70",
                "language": "sql"
            },
            "outputs": [
                {
                    "output_type": "display_data",
                    "data": {
                        "text/html": "(3 rows affected)"
                    },
                    "metadata": {}
                },
                {
                    "output_type": "display_data",
                    "data": {
                        "text/html": "Total execution time: 00:00:00.029"
                    },
                    "metadata": {}
                },
                {
                    "output_type": "execute_result",
                    "metadata": {},
                    "execution_count": 8,
                    "data": {
                        "application/vnd.dataresource+json": {
                            "schema": {
                                "fields": [
                                    {
                                        "name": "beosztasnev"
                                    },
                                    {
                                        "name": "(No column name)"
                                    }
                                ]
                            },
                            "data": [
                                {
                                    "beosztasnev": "Adjunktus",
                                    "(No column name)": "14"
                                },
                                {
                                    "beosztasnev": "Egyetemi tanár",
                                    "(No column name)": "11"
                                },
                                {
                                    "beosztasnev": "Tanársegéd",
                                    "(No column name)": "22"
                                }
                            ]
                        },
                        "text/html": [
                            "<table>",
                            "<tr><th>beosztasnev</th><th>(No column name)</th></tr>",
                            "<tr><td>Adjunktus</td><td>14</td></tr>",
                            "<tr><td>Egyetemi tanár</td><td>11</td></tr>",
                            "<tr><td>Tanársegéd</td><td>22</td></tr>",
                            "</table>"
                        ]
                    }
                }
            ],
            "execution_count": 8
        },
        {
            "cell_type": "markdown",
            "source": [
                "15. <span style=\"color: rgb(36, 41, 47); font-family: -apple-system, BlinkMacSystemFont, &quot;Segoe UI&quot;, Helvetica, Arial, sans-serif, &quot;Apple Color Emoji&quot;, &quot;Segoe UI Emoji&quot;; font-size: 16px;\">Melyek azok az órák, amelyek kezdési időpontja olyan sávba esik, amely a mostani időpont (óra:perc) után van?</span>\n",
                "\n",
                "1. Listázzuk az órák azonosítóit, valamint az órakezdés napját és időpontját!\n",
                "2. A listát rendezzük az időpont szerint növekvő sorrendbe!"
            ],
            "metadata": {
                "azdata_cell_guid": "4cbf2f0d-a65d-480a-8186-ccdb24498443"
            },
            "attachments": {}
        },
        {
            "cell_type": "code",
            "source": [
                ""
            ],
            "metadata": {
                "azdata_cell_guid": "c148aee8-bc85-40bf-b80a-a4898a6c05cb",
                "language": "sql"
            },
            "outputs": [],
            "execution_count": null
        }
    ]
}