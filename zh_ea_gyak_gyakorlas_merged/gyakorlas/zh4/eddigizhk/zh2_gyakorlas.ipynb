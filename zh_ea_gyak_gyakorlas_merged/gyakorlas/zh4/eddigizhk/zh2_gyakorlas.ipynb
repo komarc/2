{
    "metadata": {
        "kernelspec": {
            "name": "SQL",
            "display_name": "SQL",
            "language": "sql"
        },
        "language_info": {
            "name": "sql",
            "version": ""
        }
    },
    "nbformat_minor": 2,
    "nbformat": 4,
    "cells": [
        {
            "cell_type": "markdown",
            "source": [
                "<span style=\"color: #93a1a1;font-style: italic;\">1</span>\n",
                "\n",
                "<span style=\"color: #93a1a1;font-style: italic;\">foglalások száma szobánként, azon belül foglalás éve szerint csoportosítva</span>\n",
                "\n",
                "<span style=\"color: #93a1a1;font-style: italic;\">évnél mettől oszlop</span>\n",
                "\n",
                "<span style=\"color: #93a1a1;font-style: italic;\">részösszeg végösszeg, megfelelő jelölés</span>"
            ],
            "metadata": {
                "azdata_cell_guid": "d2842d2e-b552-4a44-86eb-9044d6d60665"
            },
            "attachments": {}
        },
        {
            "cell_type": "code",
            "source": [
                "select iif(GROUPING(sz.szoba_id) = 1, 'Végösszeg', cast((sz.szoba_id)as nvarchar)) , \r\n",
                "    case\r\n",
                "        when GROUPING_ID(sz.szoba_id, f.mettol)=1 then 'Részösszeg'\r\n",
                "        when GROUPING_ID(sz.szoba_id, f.mettol)=3 then 'Végösszeg'\r\n",
                "        else cast((f.mettol) as NVARCHAR)\r\n",
                "    end as 'év',\r\n",
                "    count(f.FOGLALAS_PK) as 'db'\r\n",
                "from Foglalas f join szoba sz on f.szoba_fk = sz.szoba_id\r\n",
                "group by rollup (sz.szoba_id, f.mettol)\r\n",
                ""
            ],
            "metadata": {
                "azdata_cell_guid": "e4178a90-84e8-4a50-aa18-7ddcd40041ca",
                "language": "sql"
            },
            "outputs": [
                {
                    "output_type": "display_data",
                    "data": {
                        "text/html": "(1215 rows affected)"
                    },
                    "metadata": {}
                },
                {
                    "output_type": "display_data",
                    "data": {
                        "text/html": "Total execution time: 00:00:00.079"
                    },
                    "metadata": {}
                },
                {
                    "output_type": "execute_result",
                    "execution_count": 6,
                    "data": {
                        "application/vnd.dataresource+json": {
                            "schema": {
                                "fields": [
                                    {
                                        "name": "(No column name)"
                                    },
                                    {
                                        "name": "év"
                                    },
                                    {
                                        "name": "db"
                                    }
                                ]
                            },
                            "data": [
                                {
                                    "(No column name)": "1",
                                    "év": "2016-05-05",
                                    "db": "1"
                                },
                                {
                                    "(No column name)": "1",
                                    "év": "2016-06-10",
                                    "db": "1"
                                },
                                {
                                    "(No column name)": "1",
                                    "év": "2016-07-30",
                                    "db": "1"
                                },
                                {
                                    "(No column name)": "1",
                                    "év": "2016-08-20",
                                    "db": "1"
                                },
                                {
                                    "(No column name)": "1",
                                    "év": "2016-10-09",
                                    "db": "1"
                                },
                                {
                                    "(No column name)": "1",
                                    "év": "2016-10-15",
                                    "db": "1"
                                },
                                {
                                    "(No column name)": "1",
                                    "év": "2016-11-11",
                                    "db": "1"
                                },
                                {
                                    "(No column name)": "1",
                                    "év": "2016-12-01",
                                    "db": "1"
                                },
                                {
                                    "(No column name)": "1",
                                    "év": "Részösszeg",
                                    "db": "8"
                                },
                                {
                                    "(No column name)": "2",
                                    "év": "2016-08-27",
                                    "db": "1"
                                },
                                {
                                    "(No column name)": "2",
                                    "év": "2016-09-14",
                                    "db": "1"
                                },
                                {
                                    "(No column name)": "2",
                                    "év": "2016-09-19",
                                    "db": "1"
                                },
                                {
                                    "(No column name)": "2",
                                    "év": "2016-11-23",
                                    "db": "1"
                                },
                                {
                                    "(No column name)": "2",
                                    "év": "Részösszeg",
                                    "db": "4"
                                },
                                {
                                    "(No column name)": "3",
                                    "év": "2016-05-09",
                                    "db": "1"
                                },
                                {
                                    "(No column name)": "3",
                                    "év": "2016-07-13",
                                    "db": "1"
                                },
                                {
                                    "(No column name)": "3",
                                    "év": "2016-08-16",
                                    "db": "1"
                                },
                                {
                                    "(No column name)": "3",
                                    "év": "2016-09-08",
                                    "db": "1"
                                },
                                {
                                    "(No column name)": "3",
                                    "év": "2016-10-01",
                                    "db": "1"
                                },
                                {
                                    "(No column name)": "3",
                                    "év": "2016-10-14",
                                    "db": "1"
                                },
                                {
                                    "(No column name)": "3",
                                    "év": "2017-01-12",
                                    "db": "1"
                                },
                                {
                                    "(No column name)": "3",
                                    "év": "2017-02-16",
                                    "db": "1"
                                },
                                {
                                    "(No column name)": "3",
                                    "év": "Részösszeg",
                                    "db": "8"
                                },
                                {
                                    "(No column name)": "4",
                                    "év": "2016-05-17",
                                    "db": "1"
                                },
                                {
                                    "(No column name)": "4",
                                    "év": "2016-06-10",
                                    "db": "1"
                                },
                                {
                                    "(No column name)": "4",
                                    "év": "2016-07-02",
                                    "db": "1"
                                },
                                {
                                    "(No column name)": "4",
                                    "év": "2016-10-07",
                                    "db": "1"
                                },
                                {
                                    "(No column name)": "4",
                                    "év": "2016-10-08",
                                    "db": "1"
                                },
                                {
                                    "(No column name)": "4",
                                    "év": "2017-02-03",
                                    "db": "1"
                                },
                                {
                                    "(No column name)": "4",
                                    "év": "Részösszeg",
                                    "db": "6"
                                },
                                {
                                    "(No column name)": "5",
                                    "év": "2016-04-08",
                                    "db": "1"
                                },
                                {
                                    "(No column name)": "5",
                                    "év": "2016-06-16",
                                    "db": "1"
                                },
                                {
                                    "(No column name)": "5",
                                    "év": "2016-09-21",
                                    "db": "1"
                                },
                                {
                                    "(No column name)": "5",
                                    "év": "2016-11-07",
                                    "db": "1"
                                },
                                {
                                    "(No column name)": "5",
                                    "év": "Részösszeg",
                                    "db": "4"
                                },
                                {
                                    "(No column name)": "6",
                                    "év": "2016-04-06",
                                    "db": "1"
                                },
                                {
                                    "(No column name)": "6",
                                    "év": "2016-05-29",
                                    "db": "1"
                                },
                                {
                                    "(No column name)": "6",
                                    "év": "2016-06-27",
                                    "db": "1"
                                },
                                {
                                    "(No column name)": "6",
                                    "év": "2016-08-12",
                                    "db": "1"
                                },
                                {
                                    "(No column name)": "6",
                                    "év": "2016-09-05",
                                    "db": "1"
                                },
                                {
                                    "(No column name)": "6",
                                    "év": "2016-10-01",
                                    "db": "1"
                                },
                                {
                                    "(No column name)": "6",
                                    "év": "Részösszeg",
                                    "db": "6"
                                },
                                {
                                    "(No column name)": "7",
                                    "év": "2016-04-06",
                                    "db": "1"
                                },
                                {
                                    "(No column name)": "7",
                                    "év": "2016-08-06",
                                    "db": "1"
                                },
                                {
                                    "(No column name)": "7",
                                    "év": "2016-10-08",
                                    "db": "1"
                                },
                                {
                                    "(No column name)": "7",
                                    "év": "2016-10-21",
                                    "db": "1"
                                },
                                {
                                    "(No column name)": "7",
                                    "év": "2016-10-23",
                                    "db": "1"
                                },
                                {
                                    "(No column name)": "7",
                                    "év": "2016-11-05",
                                    "db": "1"
                                },
                                {
                                    "(No column name)": "7",
                                    "év": "Részösszeg",
                                    "db": "6"
                                },
                                {
                                    "(No column name)": "8",
                                    "év": "2016-05-30",
                                    "db": "1"
                                },
                                {
                                    "(No column name)": "8",
                                    "év": "2016-06-10",
                                    "db": "1"
                                },
                                {
                                    "(No column name)": "8",
                                    "év": "2016-07-20",
                                    "db": "1"
                                },
                                {
                                    "(No column name)": "8",
                                    "év": "2016-08-24",
                                    "db": "1"
                                },
                                {
                                    "(No column name)": "8",
                                    "év": "2016-08-28",
                                    "db": "1"
                                },
                                {
                                    "(No column name)": "8",
                                    "év": "Részösszeg",
                                    "db": "5"
                                },
                                {
                                    "(No column name)": "9",
                                    "év": "2016-04-29",
                                    "db": "1"
                                },
                                {
                                    "(No column name)": "9",
                                    "év": "2016-10-15",
                                    "db": "1"
                                },
                                {
                                    "(No column name)": "9",
                                    "év": "2016-10-30",
                                    "db": "1"
                                },
                                {
                                    "(No column name)": "9",
                                    "év": "2016-11-07",
                                    "db": "1"
                                },
                                {
                                    "(No column name)": "9",
                                    "év": "2017-01-06",
                                    "db": "1"
                                },
                                {
                                    "(No column name)": "9",
                                    "év": "2017-02-16",
                                    "db": "1"
                                },
                                {
                                    "(No column name)": "9",
                                    "év": "Részösszeg",
                                    "db": "6"
                                },
                                {
                                    "(No column name)": "10",
                                    "év": "2016-04-10",
                                    "db": "1"
                                },
                                {
                                    "(No column name)": "10",
                                    "év": "2016-08-16",
                                    "db": "1"
                                },
                                {
                                    "(No column name)": "10",
                                    "év": "2016-08-17",
                                    "db": "1"
                                },
                                {
                                    "(No column name)": "10",
                                    "év": "2016-11-25",
                                    "db": "1"
                                },
                                {
                                    "(No column name)": "10",
                                    "év": "Részösszeg",
                                    "db": "4"
                                },
                                {
                                    "(No column name)": "11",
                                    "év": "2016-06-06",
                                    "db": "1"
                                },
                                {
                                    "(No column name)": "11",
                                    "év": "2016-10-05",
                                    "db": "1"
                                },
                                {
                                    "(No column name)": "11",
                                    "év": "2016-11-01",
                                    "db": "1"
                                },
                                {
                                    "(No column name)": "11",
                                    "év": "2017-02-12",
                                    "db": "1"
                                },
                                {
                                    "(No column name)": "11",
                                    "év": "Részösszeg",
                                    "db": "4"
                                },
                                {
                                    "(No column name)": "12",
                                    "év": "2016-05-30",
                                    "db": "1"
                                },
                                {
                                    "(No column name)": "12",
                                    "év": "2016-06-11",
                                    "db": "1"
                                },
                                {
                                    "(No column name)": "12",
                                    "év": "2016-06-17",
                                    "db": "1"
                                },
                                {
                                    "(No column name)": "12",
                                    "év": "2016-07-09",
                                    "db": "1"
                                },
                                {
                                    "(No column name)": "12",
                                    "év": "2016-07-20",
                                    "db": "1"
                                },
                                {
                                    "(No column name)": "12",
                                    "év": "2016-08-13",
                                    "db": "1"
                                },
                                {
                                    "(No column name)": "12",
                                    "év": "2016-10-09",
                                    "db": "1"
                                },
                                {
                                    "(No column name)": "12",
                                    "év": "2016-10-18",
                                    "db": "1"
                                },
                                {
                                    "(No column name)": "12",
                                    "év": "2017-01-09",
                                    "db": "1"
                                },
                                {
                                    "(No column name)": "12",
                                    "év": "Részösszeg",
                                    "db": "9"
                                },
                                {
                                    "(No column name)": "13",
                                    "év": "2016-08-08",
                                    "db": "1"
                                },
                                {
                                    "(No column name)": "13",
                                    "év": "2016-09-12",
                                    "db": "1"
                                },
                                {
                                    "(No column name)": "13",
                                    "év": "2016-12-06",
                                    "db": "1"
                                },
                                {
                                    "(No column name)": "13",
                                    "év": "2017-01-23",
                                    "db": "1"
                                },
                                {
                                    "(No column name)": "13",
                                    "év": "Részösszeg",
                                    "db": "4"
                                },
                                {
                                    "(No column name)": "14",
                                    "év": "2016-05-22",
                                    "db": "1"
                                },
                                {
                                    "(No column name)": "14",
                                    "év": "2016-08-24",
                                    "db": "1"
                                },
                                {
                                    "(No column name)": "14",
                                    "év": "2017-02-16",
                                    "db": "1"
                                },
                                {
                                    "(No column name)": "14",
                                    "év": "Részösszeg",
                                    "db": "3"
                                },
                                {
                                    "(No column name)": "15",
                                    "év": "2016-07-13",
                                    "db": "1"
                                },
                                {
                                    "(No column name)": "15",
                                    "év": "2016-08-16",
                                    "db": "1"
                                },
                                {
                                    "(No column name)": "15",
                                    "év": "2016-10-08",
                                    "db": "1"
                                },
                                {
                                    "(No column name)": "15",
                                    "év": "2016-11-03",
                                    "db": "1"
                                },
                                {
                                    "(No column name)": "15",
                                    "év": "2017-01-04",
                                    "db": "1"
                                },
                                {
                                    "(No column name)": "15",
                                    "év": "2017-01-16",
                                    "db": "1"
                                },
                                {
                                    "(No column name)": "15",
                                    "év": "Részösszeg",
                                    "db": "6"
                                },
                                {
                                    "(No column name)": "16",
                                    "év": "2016-05-24",
                                    "db": "1"
                                },
                                {
                                    "(No column name)": "16",
                                    "év": "2016-06-03",
                                    "db": "1"
                                },
                                {
                                    "(No column name)": "16",
                                    "év": "2016-06-20",
                                    "db": "1"
                                },
                                {
                                    "(No column name)": "16",
                                    "év": "2016-07-18",
                                    "db": "1"
                                },
                                {
                                    "(No column name)": "16",
                                    "év": "2017-02-04",
                                    "db": "1"
                                },
                                {
                                    "(No column name)": "16",
                                    "év": "Részösszeg",
                                    "db": "5"
                                },
                                {
                                    "(No column name)": "17",
                                    "év": "2016-04-26",
                                    "db": "1"
                                },
                                {
                                    "(No column name)": "17",
                                    "év": "2016-06-06",
                                    "db": "1"
                                },
                                {
                                    "(No column name)": "17",
                                    "év": "2016-07-24",
                                    "db": "1"
                                },
                                {
                                    "(No column name)": "17",
                                    "év": "2016-08-01",
                                    "db": "1"
                                },
                                {
                                    "(No column name)": "17",
                                    "év": "2016-11-25",
                                    "db": "1"
                                },
                                {
                                    "(No column name)": "17",
                                    "év": "2017-02-18",
                                    "db": "1"
                                },
                                {
                                    "(No column name)": "17",
                                    "év": "Részösszeg",
                                    "db": "6"
                                },
                                {
                                    "(No column name)": "18",
                                    "év": "2016-05-08",
                                    "db": "1"
                                },
                                {
                                    "(No column name)": "18",
                                    "év": "2016-08-11",
                                    "db": "1"
                                },
                                {
                                    "(No column name)": "18",
                                    "év": "2016-09-07",
                                    "db": "1"
                                },
                                {
                                    "(No column name)": "18",
                                    "év": "2016-10-21",
                                    "db": "1"
                                },
                                {
                                    "(No column name)": "18",
                                    "év": "2016-10-26",
                                    "db": "1"
                                },
                                {
                                    "(No column name)": "18",
                                    "év": "2017-02-06",
                                    "db": "1"
                                },
                                {
                                    "(No column name)": "18",
                                    "év": "Részösszeg",
                                    "db": "6"
                                },
                                {
                                    "(No column name)": "19",
                                    "év": "2016-06-10",
                                    "db": "1"
                                },
                                {
                                    "(No column name)": "19",
                                    "év": "2016-07-20",
                                    "db": "1"
                                },
                                {
                                    "(No column name)": "19",
                                    "év": "2016-08-14",
                                    "db": "1"
                                },
                                {
                                    "(No column name)": "19",
                                    "év": "2016-10-09",
                                    "db": "1"
                                },
                                {
                                    "(No column name)": "19",
                                    "év": "2016-11-02",
                                    "db": "1"
                                },
                                {
                                    "(No column name)": "19",
                                    "év": "2017-02-14",
                                    "db": "1"
                                },
                                {
                                    "(No column name)": "19",
                                    "év": "Részösszeg",
                                    "db": "6"
                                },
                                {
                                    "(No column name)": "20",
                                    "év": "2016-08-04",
                                    "db": "1"
                                },
                                {
                                    "(No column name)": "20",
                                    "év": "2016-08-24",
                                    "db": "1"
                                },
                                {
                                    "(No column name)": "20",
                                    "év": "2016-09-19",
                                    "db": "1"
                                },
                                {
                                    "(No column name)": "20",
                                    "év": "2016-10-01",
                                    "db": "2"
                                },
                                {
                                    "(No column name)": "20",
                                    "év": "Részösszeg",
                                    "db": "5"
                                },
                                {
                                    "(No column name)": "21",
                                    "év": "2016-04-09",
                                    "db": "1"
                                },
                                {
                                    "(No column name)": "21",
                                    "év": "2016-05-21",
                                    "db": "1"
                                },
                                {
                                    "(No column name)": "21",
                                    "év": "2016-08-21",
                                    "db": "1"
                                },
                                {
                                    "(No column name)": "21",
                                    "év": "2016-10-28",
                                    "db": "1"
                                },
                                {
                                    "(No column name)": "21",
                                    "év": "Részösszeg",
                                    "db": "4"
                                },
                                {
                                    "(No column name)": "22",
                                    "év": "2016-06-04",
                                    "db": "1"
                                },
                                {
                                    "(No column name)": "22",
                                    "év": "2016-07-03",
                                    "db": "1"
                                },
                                {
                                    "(No column name)": "22",
                                    "év": "2016-10-08",
                                    "db": "1"
                                },
                                {
                                    "(No column name)": "22",
                                    "év": "2016-10-26",
                                    "db": "1"
                                },
                                {
                                    "(No column name)": "22",
                                    "év": "2016-10-27",
                                    "db": "1"
                                },
                                {
                                    "(No column name)": "22",
                                    "év": "2016-11-17",
                                    "db": "1"
                                },
                                {
                                    "(No column name)": "22",
                                    "év": "Részösszeg",
                                    "db": "6"
                                },
                                {
                                    "(No column name)": "23",
                                    "év": "2016-06-08",
                                    "db": "1"
                                },
                                {
                                    "(No column name)": "23",
                                    "év": "2016-06-10",
                                    "db": "1"
                                },
                                {
                                    "(No column name)": "23",
                                    "év": "2016-09-04",
                                    "db": "1"
                                },
                                {
                                    "(No column name)": "23",
                                    "év": "Részösszeg",
                                    "db": "3"
                                },
                                {
                                    "(No column name)": "24",
                                    "év": "2016-05-23",
                                    "db": "1"
                                },
                                {
                                    "(No column name)": "24",
                                    "év": "2016-10-19",
                                    "db": "1"
                                },
                                {
                                    "(No column name)": "24",
                                    "év": "2017-01-03",
                                    "db": "1"
                                },
                                {
                                    "(No column name)": "24",
                                    "év": "Részösszeg",
                                    "db": "3"
                                },
                                {
                                    "(No column name)": "25",
                                    "év": "2016-09-14",
                                    "db": "1"
                                },
                                {
                                    "(No column name)": "25",
                                    "év": "2016-12-14",
                                    "db": "1"
                                },
                                {
                                    "(No column name)": "25",
                                    "év": "Részösszeg",
                                    "db": "2"
                                },
                                {
                                    "(No column name)": "26",
                                    "év": "2016-10-16",
                                    "db": "1"
                                },
                                {
                                    "(No column name)": "26",
                                    "év": "2016-12-24",
                                    "db": "1"
                                },
                                {
                                    "(No column name)": "26",
                                    "év": "Részösszeg",
                                    "db": "2"
                                },
                                {
                                    "(No column name)": "27",
                                    "év": "2016-08-05",
                                    "db": "1"
                                },
                                {
                                    "(No column name)": "27",
                                    "év": "2016-08-22",
                                    "db": "1"
                                },
                                {
                                    "(No column name)": "27",
                                    "év": "2016-09-05",
                                    "db": "1"
                                },
                                {
                                    "(No column name)": "27",
                                    "év": "2016-09-26",
                                    "db": "1"
                                },
                                {
                                    "(No column name)": "27",
                                    "év": "2016-11-11",
                                    "db": "1"
                                },
                                {
                                    "(No column name)": "27",
                                    "év": "2016-12-18",
                                    "db": "1"
                                },
                                {
                                    "(No column name)": "27",
                                    "év": "2017-01-27",
                                    "db": "1"
                                },
                                {
                                    "(No column name)": "27",
                                    "év": "Részösszeg",
                                    "db": "7"
                                },
                                {
                                    "(No column name)": "28",
                                    "év": "2016-05-29",
                                    "db": "1"
                                },
                                {
                                    "(No column name)": "28",
                                    "év": "2016-06-01",
                                    "db": "1"
                                },
                                {
                                    "(No column name)": "28",
                                    "év": "2016-06-04",
                                    "db": "1"
                                },
                                {
                                    "(No column name)": "28",
                                    "év": "2016-07-27",
                                    "db": "1"
                                },
                                {
                                    "(No column name)": "28",
                                    "év": "2016-10-13",
                                    "db": "1"
                                },
                                {
                                    "(No column name)": "28",
                                    "év": "2017-01-20",
                                    "db": "1"
                                },
                                {
                                    "(No column name)": "28",
                                    "év": "Részösszeg",
                                    "db": "6"
                                },
                                {
                                    "(No column name)": "29",
                                    "év": "2016-05-01",
                                    "db": "1"
                                },
                                {
                                    "(No column name)": "29",
                                    "év": "2016-06-03",
                                    "db": "1"
                                },
                                {
                                    "(No column name)": "29",
                                    "év": "2016-09-23",
                                    "db": "1"
                                },
                                {
                                    "(No column name)": "29",
                                    "év": "2016-10-23",
                                    "db": "1"
                                },
                                {
                                    "(No column name)": "29",
                                    "év": "2016-11-01",
                                    "db": "1"
                                },
                                {
                                    "(No column name)": "29",
                                    "év": "2017-02-24",
                                    "db": "1"
                                },
                                {
                                    "(No column name)": "29",
                                    "év": "Részösszeg",
                                    "db": "6"
                                },
                                {
                                    "(No column name)": "30",
                                    "év": "2016-04-27",
                                    "db": "1"
                                },
                                {
                                    "(No column name)": "30",
                                    "év": "2016-07-10",
                                    "db": "1"
                                },
                                {
                                    "(No column name)": "30",
                                    "év": "2016-10-09",
                                    "db": "1"
                                },
                                {
                                    "(No column name)": "30",
                                    "év": "Részösszeg",
                                    "db": "3"
                                },
                                {
                                    "(No column name)": "31",
                                    "év": "2016-04-24",
                                    "db": "1"
                                },
                                {
                                    "(No column name)": "31",
                                    "év": "2016-04-27",
                                    "db": "1"
                                },
                                {
                                    "(No column name)": "31",
                                    "év": "2016-07-27",
                                    "db": "1"
                                },
                                {
                                    "(No column name)": "31",
                                    "év": "Részösszeg",
                                    "db": "3"
                                },
                                {
                                    "(No column name)": "32",
                                    "év": "2016-06-06",
                                    "db": "1"
                                },
                                {
                                    "(No column name)": "32",
                                    "év": "Részösszeg",
                                    "db": "1"
                                },
                                {
                                    "(No column name)": "33",
                                    "év": "2016-05-08",
                                    "db": "1"
                                },
                                {
                                    "(No column name)": "33",
                                    "év": "2016-07-05",
                                    "db": "1"
                                },
                                {
                                    "(No column name)": "33",
                                    "év": "2016-09-15",
                                    "db": "1"
                                },
                                {
                                    "(No column name)": "33",
                                    "év": "2016-11-25",
                                    "db": "1"
                                },
                                {
                                    "(No column name)": "33",
                                    "év": "2016-12-05",
                                    "db": "1"
                                },
                                {
                                    "(No column name)": "33",
                                    "év": "2016-12-21",
                                    "db": "1"
                                },
                                {
                                    "(No column name)": "33",
                                    "év": "Részösszeg",
                                    "db": "6"
                                },
                                {
                                    "(No column name)": "34",
                                    "év": "2016-05-28",
                                    "db": "1"
                                },
                                {
                                    "(No column name)": "34",
                                    "év": "2016-06-04",
                                    "db": "1"
                                },
                                {
                                    "(No column name)": "34",
                                    "év": "2016-08-14",
                                    "db": "1"
                                },
                                {
                                    "(No column name)": "34",
                                    "év": "2016-08-24",
                                    "db": "1"
                                },
                                {
                                    "(No column name)": "34",
                                    "év": "Részösszeg",
                                    "db": "4"
                                },
                                {
                                    "(No column name)": "35",
                                    "év": "2016-06-18",
                                    "db": "1"
                                },
                                {
                                    "(No column name)": "35",
                                    "év": "2016-06-22",
                                    "db": "1"
                                },
                                {
                                    "(No column name)": "35",
                                    "év": "2016-07-18",
                                    "db": "1"
                                },
                                {
                                    "(No column name)": "35",
                                    "év": "2016-07-23",
                                    "db": "1"
                                },
                                {
                                    "(No column name)": "35",
                                    "év": "2016-08-28",
                                    "db": "1"
                                },
                                {
                                    "(No column name)": "35",
                                    "év": "2016-12-29",
                                    "db": "1"
                                },
                                {
                                    "(No column name)": "35",
                                    "év": "2017-01-01",
                                    "db": "1"
                                },
                                {
                                    "(No column name)": "35",
                                    "év": "2017-01-13",
                                    "db": "1"
                                },
                                {
                                    "(No column name)": "35",
                                    "év": "2017-02-13",
                                    "db": "1"
                                },
                                {
                                    "(No column name)": "35",
                                    "év": "Részösszeg",
                                    "db": "9"
                                },
                                {
                                    "(No column name)": "36",
                                    "év": "2016-06-03",
                                    "db": "1"
                                },
                                {
                                    "(No column name)": "36",
                                    "év": "2016-06-06",
                                    "db": "1"
                                },
                                {
                                    "(No column name)": "36",
                                    "év": "2016-06-24",
                                    "db": "1"
                                },
                                {
                                    "(No column name)": "36",
                                    "év": "2016-07-03",
                                    "db": "1"
                                },
                                {
                                    "(No column name)": "36",
                                    "év": "2016-08-02",
                                    "db": "1"
                                },
                                {
                                    "(No column name)": "36",
                                    "év": "2016-08-03",
                                    "db": "1"
                                },
                                {
                                    "(No column name)": "36",
                                    "év": "Részösszeg",
                                    "db": "6"
                                },
                                {
                                    "(No column name)": "37",
                                    "év": "2016-07-19",
                                    "db": "1"
                                },
                                {
                                    "(No column name)": "37",
                                    "év": "2016-07-22",
                                    "db": "1"
                                },
                                {
                                    "(No column name)": "37",
                                    "év": "2016-12-01",
                                    "db": "1"
                                },
                                {
                                    "(No column name)": "37",
                                    "év": "Részösszeg",
                                    "db": "3"
                                },
                                {
                                    "(No column name)": "38",
                                    "év": "2016-05-08",
                                    "db": "1"
                                },
                                {
                                    "(No column name)": "38",
                                    "év": "2016-09-05",
                                    "db": "1"
                                },
                                {
                                    "(No column name)": "38",
                                    "év": "2016-09-17",
                                    "db": "1"
                                },
                                {
                                    "(No column name)": "38",
                                    "év": "2016-09-23",
                                    "db": "1"
                                },
                                {
                                    "(No column name)": "38",
                                    "év": "2016-12-06",
                                    "db": "1"
                                },
                                {
                                    "(No column name)": "38",
                                    "év": "2017-01-03",
                                    "db": "1"
                                },
                                {
                                    "(No column name)": "38",
                                    "év": "2017-01-28",
                                    "db": "1"
                                },
                                {
                                    "(No column name)": "38",
                                    "év": "2017-02-21",
                                    "db": "1"
                                },
                                {
                                    "(No column name)": "38",
                                    "év": "Részösszeg",
                                    "db": "8"
                                },
                                {
                                    "(No column name)": "39",
                                    "év": "2016-04-25",
                                    "db": "1"
                                },
                                {
                                    "(No column name)": "39",
                                    "év": "2016-06-03",
                                    "db": "1"
                                },
                                {
                                    "(No column name)": "39",
                                    "év": "2016-10-29",
                                    "db": "1"
                                },
                                {
                                    "(No column name)": "39",
                                    "év": "2016-12-20",
                                    "db": "1"
                                },
                                {
                                    "(No column name)": "39",
                                    "év": "2017-01-12",
                                    "db": "1"
                                },
                                {
                                    "(No column name)": "39",
                                    "év": "2017-01-18",
                                    "db": "1"
                                },
                                {
                                    "(No column name)": "39",
                                    "év": "2017-02-16",
                                    "db": "1"
                                },
                                {
                                    "(No column name)": "39",
                                    "év": "Részösszeg",
                                    "db": "7"
                                },
                                {
                                    "(No column name)": "40",
                                    "év": "2016-06-07",
                                    "db": "2"
                                },
                                {
                                    "(No column name)": "40",
                                    "év": "2016-07-08",
                                    "db": "1"
                                },
                                {
                                    "(No column name)": "40",
                                    "év": "2016-10-03",
                                    "db": "1"
                                },
                                {
                                    "(No column name)": "40",
                                    "év": "Részösszeg",
                                    "db": "4"
                                },
                                {
                                    "(No column name)": "41",
                                    "év": "2016-06-15",
                                    "db": "1"
                                },
                                {
                                    "(No column name)": "41",
                                    "év": "2016-10-09",
                                    "db": "1"
                                },
                                {
                                    "(No column name)": "41",
                                    "év": "Részösszeg",
                                    "db": "2"
                                },
                                {
                                    "(No column name)": "42",
                                    "év": "2016-04-06",
                                    "db": "1"
                                },
                                {
                                    "(No column name)": "42",
                                    "év": "2016-04-19",
                                    "db": "1"
                                },
                                {
                                    "(No column name)": "42",
                                    "év": "2016-05-22",
                                    "db": "1"
                                },
                                {
                                    "(No column name)": "42",
                                    "év": "2016-08-12",
                                    "db": "1"
                                },
                                {
                                    "(No column name)": "42",
                                    "év": "2016-11-23",
                                    "db": "1"
                                },
                                {
                                    "(No column name)": "42",
                                    "év": "2017-01-16",
                                    "db": "1"
                                },
                                {
                                    "(No column name)": "42",
                                    "év": "Részösszeg",
                                    "db": "6"
                                },
                                {
                                    "(No column name)": "43",
                                    "év": "2016-07-08",
                                    "db": "1"
                                },
                                {
                                    "(No column name)": "43",
                                    "év": "2016-07-14",
                                    "db": "1"
                                },
                                {
                                    "(No column name)": "43",
                                    "év": "2016-09-29",
                                    "db": "1"
                                },
                                {
                                    "(No column name)": "43",
                                    "év": "2016-10-27",
                                    "db": "1"
                                },
                                {
                                    "(No column name)": "43",
                                    "év": "2016-10-30",
                                    "db": "1"
                                },
                                {
                                    "(No column name)": "43",
                                    "év": "2016-11-10",
                                    "db": "1"
                                },
                                {
                                    "(No column name)": "43",
                                    "év": "2017-02-12",
                                    "db": "1"
                                },
                                {
                                    "(No column name)": "43",
                                    "év": "2017-02-20",
                                    "db": "1"
                                },
                                {
                                    "(No column name)": "43",
                                    "év": "Részösszeg",
                                    "db": "8"
                                },
                                {
                                    "(No column name)": "44",
                                    "év": "2016-04-19",
                                    "db": "1"
                                },
                                {
                                    "(No column name)": "44",
                                    "év": "2016-05-21",
                                    "db": "1"
                                },
                                {
                                    "(No column name)": "44",
                                    "év": "2016-08-25",
                                    "db": "1"
                                },
                                {
                                    "(No column name)": "44",
                                    "év": "2016-11-19",
                                    "db": "1"
                                },
                                {
                                    "(No column name)": "44",
                                    "év": "2017-01-08",
                                    "db": "1"
                                },
                                {
                                    "(No column name)": "44",
                                    "év": "2017-02-20",
                                    "db": "1"
                                },
                                {
                                    "(No column name)": "44",
                                    "év": "Részösszeg",
                                    "db": "6"
                                },
                                {
                                    "(No column name)": "45",
                                    "év": "2016-08-20",
                                    "db": "2"
                                },
                                {
                                    "(No column name)": "45",
                                    "év": "2016-09-02",
                                    "db": "1"
                                },
                                {
                                    "(No column name)": "45",
                                    "év": "2016-10-09",
                                    "db": "1"
                                },
                                {
                                    "(No column name)": "45",
                                    "év": "2016-11-22",
                                    "db": "1"
                                },
                                {
                                    "(No column name)": "45",
                                    "év": "Részösszeg",
                                    "db": "5"
                                },
                                {
                                    "(No column name)": "46",
                                    "év": "2016-08-03",
                                    "db": "1"
                                },
                                {
                                    "(No column name)": "46",
                                    "év": "2016-10-23",
                                    "db": "1"
                                },
                                {
                                    "(No column name)": "46",
                                    "év": "2016-11-19",
                                    "db": "1"
                                },
                                {
                                    "(No column name)": "46",
                                    "év": "2017-02-10",
                                    "db": "1"
                                },
                                {
                                    "(No column name)": "46",
                                    "év": "Részösszeg",
                                    "db": "4"
                                },
                                {
                                    "(No column name)": "47",
                                    "év": "2016-06-13",
                                    "db": "1"
                                },
                                {
                                    "(No column name)": "47",
                                    "év": "2016-09-16",
                                    "db": "1"
                                },
                                {
                                    "(No column name)": "47",
                                    "év": "Részösszeg",
                                    "db": "2"
                                },
                                {
                                    "(No column name)": "48",
                                    "év": "2016-04-26",
                                    "db": "1"
                                },
                                {
                                    "(No column name)": "48",
                                    "év": "2016-05-09",
                                    "db": "1"
                                },
                                {
                                    "(No column name)": "48",
                                    "év": "2016-06-06",
                                    "db": "1"
                                },
                                {
                                    "(No column name)": "48",
                                    "év": "2016-06-25",
                                    "db": "1"
                                },
                                {
                                    "(No column name)": "48",
                                    "év": "2016-08-25",
                                    "db": "1"
                                },
                                {
                                    "(No column name)": "48",
                                    "év": "2016-11-03",
                                    "db": "1"
                                },
                                {
                                    "(No column name)": "48",
                                    "év": "2017-02-17",
                                    "db": "1"
                                },
                                {
                                    "(No column name)": "48",
                                    "év": "2017-02-18",
                                    "db": "1"
                                },
                                {
                                    "(No column name)": "48",
                                    "év": "2017-03-01",
                                    "db": "1"
                                },
                                {
                                    "(No column name)": "48",
                                    "év": "Részösszeg",
                                    "db": "9"
                                },
                                {
                                    "(No column name)": "49",
                                    "év": "2016-06-02",
                                    "db": "1"
                                },
                                {
                                    "(No column name)": "49",
                                    "év": "2016-08-17",
                                    "db": "1"
                                },
                                {
                                    "(No column name)": "49",
                                    "év": "2016-08-26",
                                    "db": "1"
                                },
                                {
                                    "(No column name)": "49",
                                    "év": "2016-09-18",
                                    "db": "1"
                                },
                                {
                                    "(No column name)": "49",
                                    "év": "2016-10-26",
                                    "db": "1"
                                },
                                {
                                    "(No column name)": "49",
                                    "év": "2016-10-30",
                                    "db": "1"
                                },
                                {
                                    "(No column name)": "49",
                                    "év": "2017-02-16",
                                    "db": "1"
                                },
                                {
                                    "(No column name)": "49",
                                    "év": "Részösszeg",
                                    "db": "7"
                                },
                                {
                                    "(No column name)": "50",
                                    "év": "2016-08-16",
                                    "db": "1"
                                },
                                {
                                    "(No column name)": "50",
                                    "év": "2016-09-18",
                                    "db": "1"
                                },
                                {
                                    "(No column name)": "50",
                                    "év": "2016-10-30",
                                    "db": "1"
                                },
                                {
                                    "(No column name)": "50",
                                    "év": "2016-11-10",
                                    "db": "1"
                                },
                                {
                                    "(No column name)": "50",
                                    "év": "Részösszeg",
                                    "db": "4"
                                },
                                {
                                    "(No column name)": "51",
                                    "év": "2016-05-28",
                                    "db": "1"
                                },
                                {
                                    "(No column name)": "51",
                                    "év": "2016-08-23",
                                    "db": "1"
                                },
                                {
                                    "(No column name)": "51",
                                    "év": "2016-10-19",
                                    "db": "1"
                                },
                                {
                                    "(No column name)": "51",
                                    "év": "2017-01-28",
                                    "db": "1"
                                },
                                {
                                    "(No column name)": "51",
                                    "év": "2017-02-18",
                                    "db": "1"
                                },
                                {
                                    "(No column name)": "51",
                                    "év": "Részösszeg",
                                    "db": "5"
                                },
                                {
                                    "(No column name)": "52",
                                    "év": "2016-08-24",
                                    "db": "1"
                                },
                                {
                                    "(No column name)": "52",
                                    "év": "2016-10-26",
                                    "db": "1"
                                },
                                {
                                    "(No column name)": "52",
                                    "év": "2016-11-07",
                                    "db": "1"
                                },
                                {
                                    "(No column name)": "52",
                                    "év": "2017-01-10",
                                    "db": "1"
                                },
                                {
                                    "(No column name)": "52",
                                    "év": "2017-02-14",
                                    "db": "1"
                                },
                                {
                                    "(No column name)": "52",
                                    "év": "Részösszeg",
                                    "db": "5"
                                },
                                {
                                    "(No column name)": "53",
                                    "év": "2016-05-24",
                                    "db": "1"
                                },
                                {
                                    "(No column name)": "53",
                                    "év": "2016-06-26",
                                    "db": "1"
                                },
                                {
                                    "(No column name)": "53",
                                    "év": "Részösszeg",
                                    "db": "2"
                                },
                                {
                                    "(No column name)": "54",
                                    "év": "2016-05-07",
                                    "db": "1"
                                },
                                {
                                    "(No column name)": "54",
                                    "év": "2016-05-13",
                                    "db": "1"
                                },
                                {
                                    "(No column name)": "54",
                                    "év": "2016-06-02",
                                    "db": "1"
                                },
                                {
                                    "(No column name)": "54",
                                    "év": "2016-07-14",
                                    "db": "1"
                                },
                                {
                                    "(No column name)": "54",
                                    "év": "2016-09-30",
                                    "db": "1"
                                },
                                {
                                    "(No column name)": "54",
                                    "év": "2016-11-28",
                                    "db": "1"
                                },
                                {
                                    "(No column name)": "54",
                                    "év": "Részösszeg",
                                    "db": "6"
                                },
                                {
                                    "(No column name)": "55",
                                    "év": "2016-07-28",
                                    "db": "1"
                                },
                                {
                                    "(No column name)": "55",
                                    "év": "2016-09-28",
                                    "db": "1"
                                },
                                {
                                    "(No column name)": "55",
                                    "év": "2016-10-17",
                                    "db": "1"
                                },
                                {
                                    "(No column name)": "55",
                                    "év": "2016-10-30",
                                    "db": "1"
                                },
                                {
                                    "(No column name)": "55",
                                    "év": "2016-11-28",
                                    "db": "1"
                                },
                                {
                                    "(No column name)": "55",
                                    "év": "2016-12-24",
                                    "db": "1"
                                },
                                {
                                    "(No column name)": "55",
                                    "év": "2017-02-08",
                                    "db": "1"
                                },
                                {
                                    "(No column name)": "55",
                                    "év": "2017-02-12",
                                    "db": "1"
                                },
                                {
                                    "(No column name)": "55",
                                    "év": "Részösszeg",
                                    "db": "8"
                                },
                                {
                                    "(No column name)": "56",
                                    "év": "2016-06-08",
                                    "db": "1"
                                },
                                {
                                    "(No column name)": "56",
                                    "év": "2016-08-29",
                                    "db": "1"
                                },
                                {
                                    "(No column name)": "56",
                                    "év": "Részösszeg",
                                    "db": "2"
                                },
                                {
                                    "(No column name)": "57",
                                    "év": "2016-12-06",
                                    "db": "1"
                                },
                                {
                                    "(No column name)": "57",
                                    "év": "2016-12-25",
                                    "db": "1"
                                },
                                {
                                    "(No column name)": "57",
                                    "év": "2017-01-22",
                                    "db": "1"
                                },
                                {
                                    "(No column name)": "57",
                                    "év": "2017-02-06",
                                    "db": "1"
                                },
                                {
                                    "(No column name)": "57",
                                    "év": "Részösszeg",
                                    "db": "4"
                                },
                                {
                                    "(No column name)": "58",
                                    "év": "2016-05-30",
                                    "db": "1"
                                },
                                {
                                    "(No column name)": "58",
                                    "év": "2016-07-27",
                                    "db": "1"
                                },
                                {
                                    "(No column name)": "58",
                                    "év": "2016-08-12",
                                    "db": "1"
                                },
                                {
                                    "(No column name)": "58",
                                    "év": "2016-10-01",
                                    "db": "1"
                                },
                                {
                                    "(No column name)": "58",
                                    "év": "2016-10-23",
                                    "db": "1"
                                },
                                {
                                    "(No column name)": "58",
                                    "év": "2016-10-28",
                                    "db": "1"
                                },
                                {
                                    "(No column name)": "58",
                                    "év": "2016-11-06",
                                    "db": "1"
                                },
                                {
                                    "(No column name)": "58",
                                    "év": "2016-11-07",
                                    "db": "1"
                                },
                                {
                                    "(No column name)": "58",
                                    "év": "2016-11-16",
                                    "db": "1"
                                },
                                {
                                    "(No column name)": "58",
                                    "év": "2016-11-19",
                                    "db": "1"
                                },
                                {
                                    "(No column name)": "58",
                                    "év": "2016-11-23",
                                    "db": "1"
                                },
                                {
                                    "(No column name)": "58",
                                    "év": "2016-11-26",
                                    "db": "1"
                                },
                                {
                                    "(No column name)": "58",
                                    "év": "2017-01-17",
                                    "db": "1"
                                },
                                {
                                    "(No column name)": "58",
                                    "év": "Részösszeg",
                                    "db": "13"
                                },
                                {
                                    "(No column name)": "59",
                                    "év": "2016-09-25",
                                    "db": "1"
                                },
                                {
                                    "(No column name)": "59",
                                    "év": "2016-09-28",
                                    "db": "1"
                                },
                                {
                                    "(No column name)": "59",
                                    "év": "2016-10-20",
                                    "db": "1"
                                },
                                {
                                    "(No column name)": "59",
                                    "év": "2016-10-25",
                                    "db": "1"
                                },
                                {
                                    "(No column name)": "59",
                                    "év": "2016-11-03",
                                    "db": "1"
                                },
                                {
                                    "(No column name)": "59",
                                    "év": "2016-11-17",
                                    "db": "1"
                                },
                                {
                                    "(No column name)": "59",
                                    "év": "2017-02-26",
                                    "db": "1"
                                },
                                {
                                    "(No column name)": "59",
                                    "év": "Részösszeg",
                                    "db": "7"
                                },
                                {
                                    "(No column name)": "60",
                                    "év": "2016-07-16",
                                    "db": "1"
                                },
                                {
                                    "(No column name)": "60",
                                    "év": "Részösszeg",
                                    "db": "1"
                                },
                                {
                                    "(No column name)": "61",
                                    "év": "2016-07-21",
                                    "db": "1"
                                },
                                {
                                    "(No column name)": "61",
                                    "év": "2016-08-05",
                                    "db": "1"
                                },
                                {
                                    "(No column name)": "61",
                                    "év": "2016-10-11",
                                    "db": "1"
                                },
                                {
                                    "(No column name)": "61",
                                    "év": "2016-10-29",
                                    "db": "1"
                                },
                                {
                                    "(No column name)": "61",
                                    "év": "2017-02-04",
                                    "db": "1"
                                },
                                {
                                    "(No column name)": "61",
                                    "év": "Részösszeg",
                                    "db": "5"
                                },
                                {
                                    "(No column name)": "62",
                                    "év": "2016-06-08",
                                    "db": "1"
                                },
                                {
                                    "(No column name)": "62",
                                    "év": "2016-06-09",
                                    "db": "1"
                                },
                                {
                                    "(No column name)": "62",
                                    "év": "2016-07-21",
                                    "db": "1"
                                },
                                {
                                    "(No column name)": "62",
                                    "év": "2016-09-26",
                                    "db": "1"
                                },
                                {
                                    "(No column name)": "62",
                                    "év": "2017-01-09",
                                    "db": "1"
                                },
                                {
                                    "(No column name)": "62",
                                    "év": "Részösszeg",
                                    "db": "5"
                                },
                                {
                                    "(No column name)": "63",
                                    "év": "2016-05-08",
                                    "db": "1"
                                },
                                {
                                    "(No column name)": "63",
                                    "év": "2016-06-02",
                                    "db": "1"
                                },
                                {
                                    "(No column name)": "63",
                                    "év": "2016-08-12",
                                    "db": "1"
                                },
                                {
                                    "(No column name)": "63",
                                    "év": "2016-09-02",
                                    "db": "1"
                                },
                                {
                                    "(No column name)": "63",
                                    "év": "Részösszeg",
                                    "db": "4"
                                },
                                {
                                    "(No column name)": "64",
                                    "év": "2016-05-30",
                                    "db": "1"
                                },
                                {
                                    "(No column name)": "64",
                                    "év": "2016-10-05",
                                    "db": "1"
                                },
                                {
                                    "(No column name)": "64",
                                    "év": "2016-10-31",
                                    "db": "1"
                                },
                                {
                                    "(No column name)": "64",
                                    "év": "2017-01-16",
                                    "db": "1"
                                },
                                {
                                    "(No column name)": "64",
                                    "év": "2017-01-22",
                                    "db": "1"
                                },
                                {
                                    "(No column name)": "64",
                                    "év": "2017-03-02",
                                    "db": "1"
                                },
                                {
                                    "(No column name)": "64",
                                    "év": "Részösszeg",
                                    "db": "6"
                                },
                                {
                                    "(No column name)": "65",
                                    "év": "2016-05-17",
                                    "db": "1"
                                },
                                {
                                    "(No column name)": "65",
                                    "év": "Részösszeg",
                                    "db": "1"
                                },
                                {
                                    "(No column name)": "66",
                                    "év": "2016-06-10",
                                    "db": "1"
                                },
                                {
                                    "(No column name)": "66",
                                    "év": "2016-07-29",
                                    "db": "1"
                                },
                                {
                                    "(No column name)": "66",
                                    "év": "2016-11-01",
                                    "db": "1"
                                },
                                {
                                    "(No column name)": "66",
                                    "év": "2016-11-08",
                                    "db": "1"
                                },
                                {
                                    "(No column name)": "66",
                                    "év": "Részösszeg",
                                    "db": "4"
                                },
                                {
                                    "(No column name)": "67",
                                    "év": "2016-05-12",
                                    "db": "1"
                                },
                                {
                                    "(No column name)": "67",
                                    "év": "2016-05-14",
                                    "db": "1"
                                },
                                {
                                    "(No column name)": "67",
                                    "év": "2016-05-30",
                                    "db": "1"
                                },
                                {
                                    "(No column name)": "67",
                                    "év": "2016-12-22",
                                    "db": "1"
                                },
                                {
                                    "(No column name)": "67",
                                    "év": "2017-03-01",
                                    "db": "1"
                                },
                                {
                                    "(No column name)": "67",
                                    "év": "2017-03-03",
                                    "db": "1"
                                },
                                {
                                    "(No column name)": "67",
                                    "év": "Részösszeg",
                                    "db": "6"
                                },
                                {
                                    "(No column name)": "68",
                                    "év": "2016-04-07",
                                    "db": "1"
                                },
                                {
                                    "(No column name)": "68",
                                    "év": "2016-07-12",
                                    "db": "1"
                                },
                                {
                                    "(No column name)": "68",
                                    "év": "2016-11-27",
                                    "db": "1"
                                },
                                {
                                    "(No column name)": "68",
                                    "év": "Részösszeg",
                                    "db": "3"
                                },
                                {
                                    "(No column name)": "69",
                                    "év": "2016-05-31",
                                    "db": "1"
                                },
                                {
                                    "(No column name)": "69",
                                    "év": "2016-09-15",
                                    "db": "1"
                                },
                                {
                                    "(No column name)": "69",
                                    "év": "2016-10-30",
                                    "db": "1"
                                },
                                {
                                    "(No column name)": "69",
                                    "év": "2016-11-05",
                                    "db": "1"
                                },
                                {
                                    "(No column name)": "69",
                                    "év": "Részösszeg",
                                    "db": "4"
                                },
                                {
                                    "(No column name)": "70",
                                    "év": "2016-04-17",
                                    "db": "1"
                                },
                                {
                                    "(No column name)": "70",
                                    "év": "2016-05-27",
                                    "db": "1"
                                },
                                {
                                    "(No column name)": "70",
                                    "év": "2016-07-03",
                                    "db": "1"
                                },
                                {
                                    "(No column name)": "70",
                                    "év": "2016-07-22",
                                    "db": "1"
                                },
                                {
                                    "(No column name)": "70",
                                    "év": "2016-08-24",
                                    "db": "1"
                                },
                                {
                                    "(No column name)": "70",
                                    "év": "2016-09-30",
                                    "db": "1"
                                },
                                {
                                    "(No column name)": "70",
                                    "év": "2016-10-07",
                                    "db": "1"
                                },
                                {
                                    "(No column name)": "70",
                                    "év": "2016-11-27",
                                    "db": "1"
                                },
                                {
                                    "(No column name)": "70",
                                    "év": "2016-11-30",
                                    "db": "1"
                                },
                                {
                                    "(No column name)": "70",
                                    "év": "2016-12-15",
                                    "db": "1"
                                },
                                {
                                    "(No column name)": "70",
                                    "év": "2017-01-19",
                                    "db": "1"
                                },
                                {
                                    "(No column name)": "70",
                                    "év": "Részösszeg",
                                    "db": "11"
                                },
                                {
                                    "(No column name)": "71",
                                    "év": "2016-07-04",
                                    "db": "1"
                                },
                                {
                                    "(No column name)": "71",
                                    "év": "2016-07-18",
                                    "db": "1"
                                },
                                {
                                    "(No column name)": "71",
                                    "év": "2016-07-24",
                                    "db": "1"
                                },
                                {
                                    "(No column name)": "71",
                                    "év": "Részösszeg",
                                    "db": "3"
                                },
                                {
                                    "(No column name)": "72",
                                    "év": "2016-06-04",
                                    "db": "1"
                                },
                                {
                                    "(No column name)": "72",
                                    "év": "2016-06-16",
                                    "db": "1"
                                },
                                {
                                    "(No column name)": "72",
                                    "év": "2016-11-25",
                                    "db": "1"
                                },
                                {
                                    "(No column name)": "72",
                                    "év": "2016-12-25",
                                    "db": "1"
                                },
                                {
                                    "(No column name)": "72",
                                    "év": "Részösszeg",
                                    "db": "4"
                                },
                                {
                                    "(No column name)": "73",
                                    "év": "2016-07-01",
                                    "db": "1"
                                },
                                {
                                    "(No column name)": "73",
                                    "év": "2016-07-25",
                                    "db": "1"
                                },
                                {
                                    "(No column name)": "73",
                                    "év": "2016-10-16",
                                    "db": "1"
                                },
                                {
                                    "(No column name)": "73",
                                    "év": "2016-11-29",
                                    "db": "1"
                                },
                                {
                                    "(No column name)": "73",
                                    "év": "Részösszeg",
                                    "db": "4"
                                },
                                {
                                    "(No column name)": "74",
                                    "év": "2016-04-22",
                                    "db": "1"
                                },
                                {
                                    "(No column name)": "74",
                                    "év": "2016-05-30",
                                    "db": "1"
                                },
                                {
                                    "(No column name)": "74",
                                    "év": "2016-06-09",
                                    "db": "1"
                                },
                                {
                                    "(No column name)": "74",
                                    "év": "2016-06-16",
                                    "db": "1"
                                },
                                {
                                    "(No column name)": "74",
                                    "év": "2016-08-18",
                                    "db": "1"
                                },
                                {
                                    "(No column name)": "74",
                                    "év": "2016-08-28",
                                    "db": "1"
                                },
                                {
                                    "(No column name)": "74",
                                    "év": "2016-09-03",
                                    "db": "1"
                                },
                                {
                                    "(No column name)": "74",
                                    "év": "2016-09-30",
                                    "db": "1"
                                },
                                {
                                    "(No column name)": "74",
                                    "év": "2016-10-22",
                                    "db": "1"
                                },
                                {
                                    "(No column name)": "74",
                                    "év": "Részösszeg",
                                    "db": "9"
                                },
                                {
                                    "(No column name)": "75",
                                    "év": "2016-07-06",
                                    "db": "1"
                                },
                                {
                                    "(No column name)": "75",
                                    "év": "2017-01-01",
                                    "db": "1"
                                },
                                {
                                    "(No column name)": "75",
                                    "év": "2017-01-19",
                                    "db": "1"
                                },
                                {
                                    "(No column name)": "75",
                                    "év": "Részösszeg",
                                    "db": "3"
                                },
                                {
                                    "(No column name)": "76",
                                    "év": "2016-06-22",
                                    "db": "1"
                                },
                                {
                                    "(No column name)": "76",
                                    "év": "2016-07-18",
                                    "db": "1"
                                },
                                {
                                    "(No column name)": "76",
                                    "év": "2017-02-21",
                                    "db": "1"
                                },
                                {
                                    "(No column name)": "76",
                                    "év": "Részösszeg",
                                    "db": "3"
                                },
                                {
                                    "(No column name)": "77",
                                    "év": "2016-04-21",
                                    "db": "1"
                                },
                                {
                                    "(No column name)": "77",
                                    "év": "2016-06-23",
                                    "db": "1"
                                },
                                {
                                    "(No column name)": "77",
                                    "év": "2016-07-20",
                                    "db": "1"
                                },
                                {
                                    "(No column name)": "77",
                                    "év": "2016-10-01",
                                    "db": "1"
                                },
                                {
                                    "(No column name)": "77",
                                    "év": "2017-01-15",
                                    "db": "1"
                                },
                                {
                                    "(No column name)": "77",
                                    "év": "2017-01-22",
                                    "db": "1"
                                },
                                {
                                    "(No column name)": "77",
                                    "év": "Részösszeg",
                                    "db": "6"
                                },
                                {
                                    "(No column name)": "78",
                                    "év": "2016-04-10",
                                    "db": "1"
                                },
                                {
                                    "(No column name)": "78",
                                    "év": "2016-05-14",
                                    "db": "1"
                                },
                                {
                                    "(No column name)": "78",
                                    "év": "2016-07-20",
                                    "db": "1"
                                },
                                {
                                    "(No column name)": "78",
                                    "év": "2016-11-09",
                                    "db": "1"
                                },
                                {
                                    "(No column name)": "78",
                                    "év": "2016-11-15",
                                    "db": "1"
                                },
                                {
                                    "(No column name)": "78",
                                    "év": "2017-02-27",
                                    "db": "1"
                                },
                                {
                                    "(No column name)": "78",
                                    "év": "Részösszeg",
                                    "db": "6"
                                },
                                {
                                    "(No column name)": "79",
                                    "év": "2016-04-16",
                                    "db": "1"
                                },
                                {
                                    "(No column name)": "79",
                                    "év": "2016-09-15",
                                    "db": "1"
                                },
                                {
                                    "(No column name)": "79",
                                    "év": "2016-10-30",
                                    "db": "1"
                                },
                                {
                                    "(No column name)": "79",
                                    "év": "2016-12-05",
                                    "db": "1"
                                },
                                {
                                    "(No column name)": "79",
                                    "év": "2017-01-16",
                                    "db": "1"
                                },
                                {
                                    "(No column name)": "79",
                                    "év": "Részösszeg",
                                    "db": "5"
                                },
                                {
                                    "(No column name)": "80",
                                    "év": "2016-06-01",
                                    "db": "1"
                                },
                                {
                                    "(No column name)": "80",
                                    "év": "2016-06-07",
                                    "db": "1"
                                },
                                {
                                    "(No column name)": "80",
                                    "év": "2016-06-23",
                                    "db": "1"
                                },
                                {
                                    "(No column name)": "80",
                                    "év": "2016-07-13",
                                    "db": "1"
                                },
                                {
                                    "(No column name)": "80",
                                    "év": "2016-09-20",
                                    "db": "1"
                                },
                                {
                                    "(No column name)": "80",
                                    "év": "2016-11-14",
                                    "db": "1"
                                },
                                {
                                    "(No column name)": "80",
                                    "év": "2016-12-17",
                                    "db": "1"
                                },
                                {
                                    "(No column name)": "80",
                                    "év": "Részösszeg",
                                    "db": "7"
                                },
                                {
                                    "(No column name)": "81",
                                    "év": "2016-12-16",
                                    "db": "1"
                                },
                                {
                                    "(No column name)": "81",
                                    "év": "2017-01-16",
                                    "db": "1"
                                },
                                {
                                    "(No column name)": "81",
                                    "év": "2017-01-22",
                                    "db": "1"
                                },
                                {
                                    "(No column name)": "81",
                                    "év": "2017-02-06",
                                    "db": "1"
                                },
                                {
                                    "(No column name)": "81",
                                    "év": "2017-02-23",
                                    "db": "1"
                                },
                                {
                                    "(No column name)": "81",
                                    "év": "Részösszeg",
                                    "db": "5"
                                },
                                {
                                    "(No column name)": "82",
                                    "év": "2016-05-27",
                                    "db": "1"
                                },
                                {
                                    "(No column name)": "82",
                                    "év": "2016-05-29",
                                    "db": "1"
                                },
                                {
                                    "(No column name)": "82",
                                    "év": "2016-07-01",
                                    "db": "1"
                                },
                                {
                                    "(No column name)": "82",
                                    "év": "2016-11-12",
                                    "db": "1"
                                },
                                {
                                    "(No column name)": "82",
                                    "év": "2016-12-04",
                                    "db": "1"
                                },
                                {
                                    "(No column name)": "82",
                                    "év": "2016-12-29",
                                    "db": "1"
                                },
                                {
                                    "(No column name)": "82",
                                    "év": "Részösszeg",
                                    "db": "6"
                                },
                                {
                                    "(No column name)": "83",
                                    "év": "2016-04-10",
                                    "db": "1"
                                },
                                {
                                    "(No column name)": "83",
                                    "év": "2016-05-28",
                                    "db": "1"
                                },
                                {
                                    "(No column name)": "83",
                                    "év": "2016-05-30",
                                    "db": "1"
                                },
                                {
                                    "(No column name)": "83",
                                    "év": "2016-06-30",
                                    "db": "1"
                                },
                                {
                                    "(No column name)": "83",
                                    "év": "2016-07-15",
                                    "db": "1"
                                },
                                {
                                    "(No column name)": "83",
                                    "év": "2016-08-18",
                                    "db": "1"
                                },
                                {
                                    "(No column name)": "83",
                                    "év": "2016-10-04",
                                    "db": "1"
                                },
                                {
                                    "(No column name)": "83",
                                    "év": "2016-12-19",
                                    "db": "1"
                                },
                                {
                                    "(No column name)": "83",
                                    "év": "Részösszeg",
                                    "db": "8"
                                },
                                {
                                    "(No column name)": "84",
                                    "év": "2016-06-13",
                                    "db": "1"
                                },
                                {
                                    "(No column name)": "84",
                                    "év": "2016-08-24",
                                    "db": "1"
                                },
                                {
                                    "(No column name)": "84",
                                    "év": "2016-12-17",
                                    "db": "1"
                                },
                                {
                                    "(No column name)": "84",
                                    "év": "2016-12-22",
                                    "db": "1"
                                },
                                {
                                    "(No column name)": "84",
                                    "év": "Részösszeg",
                                    "db": "4"
                                },
                                {
                                    "(No column name)": "85",
                                    "év": "2016-05-15",
                                    "db": "1"
                                },
                                {
                                    "(No column name)": "85",
                                    "év": "2016-09-17",
                                    "db": "1"
                                },
                                {
                                    "(No column name)": "85",
                                    "év": "2016-11-25",
                                    "db": "1"
                                },
                                {
                                    "(No column name)": "85",
                                    "év": "2017-02-09",
                                    "db": "1"
                                },
                                {
                                    "(No column name)": "85",
                                    "év": "Részösszeg",
                                    "db": "4"
                                },
                                {
                                    "(No column name)": "86",
                                    "év": "2016-05-26",
                                    "db": "1"
                                },
                                {
                                    "(No column name)": "86",
                                    "év": "2016-09-16",
                                    "db": "1"
                                },
                                {
                                    "(No column name)": "86",
                                    "év": "2016-09-24",
                                    "db": "1"
                                },
                                {
                                    "(No column name)": "86",
                                    "év": "2016-10-01",
                                    "db": "1"
                                },
                                {
                                    "(No column name)": "86",
                                    "év": "2017-01-17",
                                    "db": "1"
                                },
                                {
                                    "(No column name)": "86",
                                    "év": "Részösszeg",
                                    "db": "5"
                                },
                                {
                                    "(No column name)": "87",
                                    "év": "2016-04-06",
                                    "db": "1"
                                },
                                {
                                    "(No column name)": "87",
                                    "év": "2016-09-02",
                                    "db": "1"
                                },
                                {
                                    "(No column name)": "87",
                                    "év": "2016-10-01",
                                    "db": "1"
                                },
                                {
                                    "(No column name)": "87",
                                    "év": "2016-12-06",
                                    "db": "1"
                                },
                                {
                                    "(No column name)": "87",
                                    "év": "2017-01-19",
                                    "db": "1"
                                },
                                {
                                    "(No column name)": "87",
                                    "év": "Részösszeg",
                                    "db": "5"
                                },
                                {
                                    "(No column name)": "88",
                                    "év": "2016-05-28",
                                    "db": "1"
                                },
                                {
                                    "(No column name)": "88",
                                    "év": "2016-08-05",
                                    "db": "1"
                                },
                                {
                                    "(No column name)": "88",
                                    "év": "2016-10-26",
                                    "db": "1"
                                },
                                {
                                    "(No column name)": "88",
                                    "év": "2016-11-10",
                                    "db": "1"
                                },
                                {
                                    "(No column name)": "88",
                                    "év": "2016-11-21",
                                    "db": "1"
                                },
                                {
                                    "(No column name)": "88",
                                    "év": "2016-12-12",
                                    "db": "1"
                                },
                                {
                                    "(No column name)": "88",
                                    "év": "2017-02-18",
                                    "db": "1"
                                },
                                {
                                    "(No column name)": "88",
                                    "év": "2017-02-26",
                                    "db": "1"
                                },
                                {
                                    "(No column name)": "88",
                                    "év": "Részösszeg",
                                    "db": "8"
                                },
                                {
                                    "(No column name)": "89",
                                    "év": "2016-08-24",
                                    "db": "1"
                                },
                                {
                                    "(No column name)": "89",
                                    "év": "2016-09-08",
                                    "db": "1"
                                },
                                {
                                    "(No column name)": "89",
                                    "év": "2016-10-01",
                                    "db": "1"
                                },
                                {
                                    "(No column name)": "89",
                                    "év": "2016-10-24",
                                    "db": "1"
                                },
                                {
                                    "(No column name)": "89",
                                    "év": "2016-11-05",
                                    "db": "1"
                                },
                                {
                                    "(No column name)": "89",
                                    "év": "2016-11-09",
                                    "db": "1"
                                },
                                {
                                    "(No column name)": "89",
                                    "év": "2016-12-26",
                                    "db": "1"
                                },
                                {
                                    "(No column name)": "89",
                                    "év": "2017-02-12",
                                    "db": "1"
                                },
                                {
                                    "(No column name)": "89",
                                    "év": "Részösszeg",
                                    "db": "8"
                                },
                                {
                                    "(No column name)": "90",
                                    "év": "2016-07-28",
                                    "db": "1"
                                },
                                {
                                    "(No column name)": "90",
                                    "év": "2016-10-21",
                                    "db": "1"
                                },
                                {
                                    "(No column name)": "90",
                                    "év": "2016-11-21",
                                    "db": "1"
                                },
                                {
                                    "(No column name)": "90",
                                    "év": "2016-12-29",
                                    "db": "1"
                                },
                                {
                                    "(No column name)": "90",
                                    "év": "Részösszeg",
                                    "db": "4"
                                },
                                {
                                    "(No column name)": "91",
                                    "év": "2016-05-10",
                                    "db": "1"
                                },
                                {
                                    "(No column name)": "91",
                                    "év": "2016-07-28",
                                    "db": "1"
                                },
                                {
                                    "(No column name)": "91",
                                    "év": "2016-10-28",
                                    "db": "1"
                                },
                                {
                                    "(No column name)": "91",
                                    "év": "2016-12-25",
                                    "db": "1"
                                },
                                {
                                    "(No column name)": "91",
                                    "év": "Részösszeg",
                                    "db": "4"
                                },
                                {
                                    "(No column name)": "92",
                                    "év": "2016-06-10",
                                    "db": "1"
                                },
                                {
                                    "(No column name)": "92",
                                    "év": "2016-07-07",
                                    "db": "1"
                                },
                                {
                                    "(No column name)": "92",
                                    "év": "2016-08-23",
                                    "db": "1"
                                },
                                {
                                    "(No column name)": "92",
                                    "év": "2016-08-31",
                                    "db": "1"
                                },
                                {
                                    "(No column name)": "92",
                                    "év": "2017-02-13",
                                    "db": "1"
                                },
                                {
                                    "(No column name)": "92",
                                    "év": "2017-02-20",
                                    "db": "1"
                                },
                                {
                                    "(No column name)": "92",
                                    "év": "Részösszeg",
                                    "db": "6"
                                },
                                {
                                    "(No column name)": "93",
                                    "év": "2016-07-30",
                                    "db": "1"
                                },
                                {
                                    "(No column name)": "93",
                                    "év": "2016-10-20",
                                    "db": "1"
                                },
                                {
                                    "(No column name)": "93",
                                    "év": "2016-10-29",
                                    "db": "1"
                                },
                                {
                                    "(No column name)": "93",
                                    "év": "2016-12-08",
                                    "db": "1"
                                },
                                {
                                    "(No column name)": "93",
                                    "év": "2016-12-25",
                                    "db": "1"
                                },
                                {
                                    "(No column name)": "93",
                                    "év": "Részösszeg",
                                    "db": "5"
                                },
                                {
                                    "(No column name)": "94",
                                    "év": "2016-05-02",
                                    "db": "1"
                                },
                                {
                                    "(No column name)": "94",
                                    "év": "2016-06-21",
                                    "db": "1"
                                },
                                {
                                    "(No column name)": "94",
                                    "év": "2016-07-13",
                                    "db": "1"
                                },
                                {
                                    "(No column name)": "94",
                                    "év": "2016-07-27",
                                    "db": "1"
                                },
                                {
                                    "(No column name)": "94",
                                    "év": "2016-11-03",
                                    "db": "1"
                                },
                                {
                                    "(No column name)": "94",
                                    "év": "2016-11-22",
                                    "db": "1"
                                },
                                {
                                    "(No column name)": "94",
                                    "év": "2016-11-23",
                                    "db": "1"
                                },
                                {
                                    "(No column name)": "94",
                                    "év": "2016-12-17",
                                    "db": "1"
                                },
                                {
                                    "(No column name)": "94",
                                    "év": "2017-02-12",
                                    "db": "1"
                                },
                                {
                                    "(No column name)": "94",
                                    "év": "2017-02-23",
                                    "db": "1"
                                },
                                {
                                    "(No column name)": "94",
                                    "év": "Részösszeg",
                                    "db": "10"
                                },
                                {
                                    "(No column name)": "95",
                                    "év": "2016-05-19",
                                    "db": "1"
                                },
                                {
                                    "(No column name)": "95",
                                    "év": "2016-09-13",
                                    "db": "1"
                                },
                                {
                                    "(No column name)": "95",
                                    "év": "2016-10-01",
                                    "db": "1"
                                },
                                {
                                    "(No column name)": "95",
                                    "év": "2017-02-16",
                                    "db": "1"
                                },
                                {
                                    "(No column name)": "95",
                                    "év": "Részösszeg",
                                    "db": "4"
                                },
                                {
                                    "(No column name)": "96",
                                    "év": "2016-04-28",
                                    "db": "1"
                                },
                                {
                                    "(No column name)": "96",
                                    "év": "2016-05-08",
                                    "db": "1"
                                },
                                {
                                    "(No column name)": "96",
                                    "év": "2016-07-14",
                                    "db": "1"
                                },
                                {
                                    "(No column name)": "96",
                                    "év": "2016-08-15",
                                    "db": "1"
                                },
                                {
                                    "(No column name)": "96",
                                    "év": "2016-12-18",
                                    "db": "1"
                                },
                                {
                                    "(No column name)": "96",
                                    "év": "2017-01-14",
                                    "db": "1"
                                },
                                {
                                    "(No column name)": "96",
                                    "év": "2017-02-24",
                                    "db": "1"
                                },
                                {
                                    "(No column name)": "96",
                                    "év": "Részösszeg",
                                    "db": "7"
                                },
                                {
                                    "(No column name)": "97",
                                    "év": "2016-05-10",
                                    "db": "1"
                                },
                                {
                                    "(No column name)": "97",
                                    "év": "2016-07-27",
                                    "db": "2"
                                },
                                {
                                    "(No column name)": "97",
                                    "év": "2016-08-29",
                                    "db": "1"
                                },
                                {
                                    "(No column name)": "97",
                                    "év": "2016-12-25",
                                    "db": "1"
                                },
                                {
                                    "(No column name)": "97",
                                    "év": "2017-01-03",
                                    "db": "1"
                                },
                                {
                                    "(No column name)": "97",
                                    "év": "2017-02-13",
                                    "db": "1"
                                },
                                {
                                    "(No column name)": "97",
                                    "év": "Részösszeg",
                                    "db": "7"
                                },
                                {
                                    "(No column name)": "98",
                                    "év": "2016-05-09",
                                    "db": "1"
                                },
                                {
                                    "(No column name)": "98",
                                    "év": "2016-05-30",
                                    "db": "1"
                                },
                                {
                                    "(No column name)": "98",
                                    "év": "2016-09-13",
                                    "db": "1"
                                },
                                {
                                    "(No column name)": "98",
                                    "év": "2016-12-28",
                                    "db": "1"
                                },
                                {
                                    "(No column name)": "98",
                                    "év": "Részösszeg",
                                    "db": "4"
                                },
                                {
                                    "(No column name)": "99",
                                    "év": "2016-05-09",
                                    "db": "1"
                                },
                                {
                                    "(No column name)": "99",
                                    "év": "2016-07-20",
                                    "db": "1"
                                },
                                {
                                    "(No column name)": "99",
                                    "év": "2016-09-20",
                                    "db": "1"
                                },
                                {
                                    "(No column name)": "99",
                                    "év": "2016-12-31",
                                    "db": "1"
                                },
                                {
                                    "(No column name)": "99",
                                    "év": "2017-01-31",
                                    "db": "1"
                                },
                                {
                                    "(No column name)": "99",
                                    "év": "Részösszeg",
                                    "db": "5"
                                },
                                {
                                    "(No column name)": "100",
                                    "év": "2016-04-23",
                                    "db": "1"
                                },
                                {
                                    "(No column name)": "100",
                                    "év": "2016-05-11",
                                    "db": "1"
                                },
                                {
                                    "(No column name)": "100",
                                    "év": "2016-11-24",
                                    "db": "1"
                                },
                                {
                                    "(No column name)": "100",
                                    "év": "2017-01-29",
                                    "db": "1"
                                },
                                {
                                    "(No column name)": "100",
                                    "év": "Részösszeg",
                                    "db": "4"
                                },
                                {
                                    "(No column name)": "101",
                                    "év": "2016-07-25",
                                    "db": "1"
                                },
                                {
                                    "(No column name)": "101",
                                    "év": "2016-11-29",
                                    "db": "1"
                                },
                                {
                                    "(No column name)": "101",
                                    "év": "2017-02-10",
                                    "db": "1"
                                },
                                {
                                    "(No column name)": "101",
                                    "év": "Részösszeg",
                                    "db": "3"
                                },
                                {
                                    "(No column name)": "102",
                                    "év": "2016-07-19",
                                    "db": "1"
                                },
                                {
                                    "(No column name)": "102",
                                    "év": "2016-12-05",
                                    "db": "1"
                                },
                                {
                                    "(No column name)": "102",
                                    "év": "Részösszeg",
                                    "db": "2"
                                },
                                {
                                    "(No column name)": "103",
                                    "év": "2016-06-19",
                                    "db": "1"
                                },
                                {
                                    "(No column name)": "103",
                                    "év": "2016-06-29",
                                    "db": "1"
                                },
                                {
                                    "(No column name)": "103",
                                    "év": "2016-12-26",
                                    "db": "1"
                                },
                                {
                                    "(No column name)": "103",
                                    "év": "2017-01-30",
                                    "db": "1"
                                },
                                {
                                    "(No column name)": "103",
                                    "év": "Részösszeg",
                                    "db": "4"
                                },
                                {
                                    "(No column name)": "104",
                                    "év": "2016-08-29",
                                    "db": "1"
                                },
                                {
                                    "(No column name)": "104",
                                    "év": "2016-10-22",
                                    "db": "1"
                                },
                                {
                                    "(No column name)": "104",
                                    "év": "2017-02-12",
                                    "db": "1"
                                },
                                {
                                    "(No column name)": "104",
                                    "év": "2017-02-14",
                                    "db": "1"
                                },
                                {
                                    "(No column name)": "104",
                                    "év": "Részösszeg",
                                    "db": "4"
                                },
                                {
                                    "(No column name)": "105",
                                    "év": "2016-05-03",
                                    "db": "1"
                                },
                                {
                                    "(No column name)": "105",
                                    "év": "2017-02-12",
                                    "db": "1"
                                },
                                {
                                    "(No column name)": "105",
                                    "év": "Részösszeg",
                                    "db": "2"
                                },
                                {
                                    "(No column name)": "106",
                                    "év": "2016-04-30",
                                    "db": "1"
                                },
                                {
                                    "(No column name)": "106",
                                    "év": "2016-07-23",
                                    "db": "1"
                                },
                                {
                                    "(No column name)": "106",
                                    "év": "2016-10-30",
                                    "db": "1"
                                },
                                {
                                    "(No column name)": "106",
                                    "év": "2016-11-10",
                                    "db": "1"
                                },
                                {
                                    "(No column name)": "106",
                                    "év": "2016-12-17",
                                    "db": "1"
                                },
                                {
                                    "(No column name)": "106",
                                    "év": "2017-02-08",
                                    "db": "1"
                                },
                                {
                                    "(No column name)": "106",
                                    "év": "Részösszeg",
                                    "db": "6"
                                },
                                {
                                    "(No column name)": "107",
                                    "év": "2016-04-18",
                                    "db": "1"
                                },
                                {
                                    "(No column name)": "107",
                                    "év": "2016-11-05",
                                    "db": "1"
                                },
                                {
                                    "(No column name)": "107",
                                    "év": "2016-12-07",
                                    "db": "1"
                                },
                                {
                                    "(No column name)": "107",
                                    "év": "2017-01-17",
                                    "db": "1"
                                },
                                {
                                    "(No column name)": "107",
                                    "év": "2017-02-04",
                                    "db": "1"
                                },
                                {
                                    "(No column name)": "107",
                                    "év": "Részösszeg",
                                    "db": "5"
                                },
                                {
                                    "(No column name)": "108",
                                    "év": "2016-10-01",
                                    "db": "1"
                                },
                                {
                                    "(No column name)": "108",
                                    "év": "2016-12-25",
                                    "db": "1"
                                },
                                {
                                    "(No column name)": "108",
                                    "év": "Részösszeg",
                                    "db": "2"
                                },
                                {
                                    "(No column name)": "109",
                                    "év": "2016-05-01",
                                    "db": "1"
                                },
                                {
                                    "(No column name)": "109",
                                    "év": "2016-05-06",
                                    "db": "1"
                                },
                                {
                                    "(No column name)": "109",
                                    "év": "2016-05-18",
                                    "db": "1"
                                },
                                {
                                    "(No column name)": "109",
                                    "év": "2016-08-23",
                                    "db": "1"
                                },
                                {
                                    "(No column name)": "109",
                                    "év": "2016-09-27",
                                    "db": "1"
                                },
                                {
                                    "(No column name)": "109",
                                    "év": "2016-11-20",
                                    "db": "1"
                                },
                                {
                                    "(No column name)": "109",
                                    "év": "2017-02-23",
                                    "db": "1"
                                },
                                {
                                    "(No column name)": "109",
                                    "év": "Részösszeg",
                                    "db": "7"
                                },
                                {
                                    "(No column name)": "110",
                                    "év": "2016-06-07",
                                    "db": "1"
                                },
                                {
                                    "(No column name)": "110",
                                    "év": "2016-06-16",
                                    "db": "1"
                                },
                                {
                                    "(No column name)": "110",
                                    "év": "2016-07-18",
                                    "db": "1"
                                },
                                {
                                    "(No column name)": "110",
                                    "év": "2016-09-10",
                                    "db": "1"
                                },
                                {
                                    "(No column name)": "110",
                                    "év": "2016-10-01",
                                    "db": "1"
                                },
                                {
                                    "(No column name)": "110",
                                    "év": "2016-10-17",
                                    "db": "1"
                                },
                                {
                                    "(No column name)": "110",
                                    "év": "2017-01-07",
                                    "db": "1"
                                },
                                {
                                    "(No column name)": "110",
                                    "év": "2017-02-02",
                                    "db": "1"
                                },
                                {
                                    "(No column name)": "110",
                                    "év": "Részösszeg",
                                    "db": "8"
                                },
                                {
                                    "(No column name)": "111",
                                    "év": "2016-04-27",
                                    "db": "1"
                                },
                                {
                                    "(No column name)": "111",
                                    "év": "2016-06-14",
                                    "db": "1"
                                },
                                {
                                    "(No column name)": "111",
                                    "év": "2016-08-16",
                                    "db": "1"
                                },
                                {
                                    "(No column name)": "111",
                                    "év": "2016-11-19",
                                    "db": "1"
                                },
                                {
                                    "(No column name)": "111",
                                    "év": "2016-12-07",
                                    "db": "1"
                                },
                                {
                                    "(No column name)": "111",
                                    "év": "Részösszeg",
                                    "db": "5"
                                },
                                {
                                    "(No column name)": "112",
                                    "év": "2016-06-06",
                                    "db": "1"
                                },
                                {
                                    "(No column name)": "112",
                                    "év": "2016-08-14",
                                    "db": "1"
                                },
                                {
                                    "(No column name)": "112",
                                    "év": "2016-08-20",
                                    "db": "1"
                                },
                                {
                                    "(No column name)": "112",
                                    "év": "2016-10-06",
                                    "db": "1"
                                },
                                {
                                    "(No column name)": "112",
                                    "év": "2017-02-13",
                                    "db": "1"
                                },
                                {
                                    "(No column name)": "112",
                                    "év": "Részösszeg",
                                    "db": "5"
                                },
                                {
                                    "(No column name)": "113",
                                    "év": "2016-09-05",
                                    "db": "1"
                                },
                                {
                                    "(No column name)": "113",
                                    "év": "2016-09-28",
                                    "db": "1"
                                },
                                {
                                    "(No column name)": "113",
                                    "év": "2016-11-08",
                                    "db": "1"
                                },
                                {
                                    "(No column name)": "113",
                                    "év": "2017-02-04",
                                    "db": "1"
                                },
                                {
                                    "(No column name)": "113",
                                    "év": "2017-02-05",
                                    "db": "1"
                                },
                                {
                                    "(No column name)": "113",
                                    "év": "Részösszeg",
                                    "db": "5"
                                },
                                {
                                    "(No column name)": "114",
                                    "év": "2016-06-16",
                                    "db": "1"
                                },
                                {
                                    "(No column name)": "114",
                                    "év": "2016-07-29",
                                    "db": "1"
                                },
                                {
                                    "(No column name)": "114",
                                    "év": "2016-08-26",
                                    "db": "1"
                                },
                                {
                                    "(No column name)": "114",
                                    "év": "2017-02-16",
                                    "db": "1"
                                },
                                {
                                    "(No column name)": "114",
                                    "év": "Részösszeg",
                                    "db": "4"
                                },
                                {
                                    "(No column name)": "115",
                                    "év": "2016-04-23",
                                    "db": "1"
                                },
                                {
                                    "(No column name)": "115",
                                    "év": "2016-06-10",
                                    "db": "1"
                                },
                                {
                                    "(No column name)": "115",
                                    "év": "2016-10-04",
                                    "db": "1"
                                },
                                {
                                    "(No column name)": "115",
                                    "év": "2016-10-15",
                                    "db": "1"
                                },
                                {
                                    "(No column name)": "115",
                                    "év": "2016-12-07",
                                    "db": "1"
                                },
                                {
                                    "(No column name)": "115",
                                    "év": "2017-02-20",
                                    "db": "1"
                                },
                                {
                                    "(No column name)": "115",
                                    "év": "2017-02-24",
                                    "db": "1"
                                },
                                {
                                    "(No column name)": "115",
                                    "év": "Részösszeg",
                                    "db": "7"
                                },
                                {
                                    "(No column name)": "116",
                                    "év": "2017-01-18",
                                    "db": "1"
                                },
                                {
                                    "(No column name)": "116",
                                    "év": "2017-02-05",
                                    "db": "1"
                                },
                                {
                                    "(No column name)": "116",
                                    "év": "Részösszeg",
                                    "db": "2"
                                },
                                {
                                    "(No column name)": "117",
                                    "év": "2016-05-01",
                                    "db": "1"
                                },
                                {
                                    "(No column name)": "117",
                                    "év": "2016-05-02",
                                    "db": "1"
                                },
                                {
                                    "(No column name)": "117",
                                    "év": "2016-06-12",
                                    "db": "1"
                                },
                                {
                                    "(No column name)": "117",
                                    "év": "2016-06-16",
                                    "db": "1"
                                },
                                {
                                    "(No column name)": "117",
                                    "év": "2016-07-03",
                                    "db": "1"
                                },
                                {
                                    "(No column name)": "117",
                                    "év": "2016-10-26",
                                    "db": "1"
                                },
                                {
                                    "(No column name)": "117",
                                    "év": "2016-11-05",
                                    "db": "1"
                                },
                                {
                                    "(No column name)": "117",
                                    "év": "2017-01-23",
                                    "db": "1"
                                },
                                {
                                    "(No column name)": "117",
                                    "év": "Részösszeg",
                                    "db": "8"
                                },
                                {
                                    "(No column name)": "118",
                                    "év": "2016-05-28",
                                    "db": "1"
                                },
                                {
                                    "(No column name)": "118",
                                    "év": "2016-06-30",
                                    "db": "1"
                                },
                                {
                                    "(No column name)": "118",
                                    "év": "2016-07-01",
                                    "db": "1"
                                },
                                {
                                    "(No column name)": "118",
                                    "év": "2016-07-26",
                                    "db": "1"
                                },
                                {
                                    "(No column name)": "118",
                                    "év": "2016-12-17",
                                    "db": "1"
                                },
                                {
                                    "(No column name)": "118",
                                    "év": "2017-01-24",
                                    "db": "1"
                                },
                                {
                                    "(No column name)": "118",
                                    "év": "2017-01-29",
                                    "db": "1"
                                },
                                {
                                    "(No column name)": "118",
                                    "év": "Részösszeg",
                                    "db": "7"
                                },
                                {
                                    "(No column name)": "119",
                                    "év": "2016-07-12",
                                    "db": "1"
                                },
                                {
                                    "(No column name)": "119",
                                    "év": "2016-07-22",
                                    "db": "1"
                                },
                                {
                                    "(No column name)": "119",
                                    "év": "2016-07-27",
                                    "db": "1"
                                },
                                {
                                    "(No column name)": "119",
                                    "év": "2017-01-02",
                                    "db": "1"
                                },
                                {
                                    "(No column name)": "119",
                                    "év": "2017-02-01",
                                    "db": "1"
                                },
                                {
                                    "(No column name)": "119",
                                    "év": "Részösszeg",
                                    "db": "5"
                                },
                                {
                                    "(No column name)": "120",
                                    "év": "2016-07-01",
                                    "db": "1"
                                },
                                {
                                    "(No column name)": "120",
                                    "év": "2016-08-07",
                                    "db": "1"
                                },
                                {
                                    "(No column name)": "120",
                                    "év": "2016-09-30",
                                    "db": "1"
                                },
                                {
                                    "(No column name)": "120",
                                    "év": "2016-12-03",
                                    "db": "1"
                                },
                                {
                                    "(No column name)": "120",
                                    "év": "2017-01-30",
                                    "db": "1"
                                },
                                {
                                    "(No column name)": "120",
                                    "év": "2017-02-04",
                                    "db": "1"
                                },
                                {
                                    "(No column name)": "120",
                                    "év": "Részösszeg",
                                    "db": "6"
                                },
                                {
                                    "(No column name)": "121",
                                    "év": "2016-05-25",
                                    "db": "1"
                                },
                                {
                                    "(No column name)": "121",
                                    "év": "2016-07-28",
                                    "db": "1"
                                },
                                {
                                    "(No column name)": "121",
                                    "év": "2016-07-30",
                                    "db": "1"
                                },
                                {
                                    "(No column name)": "121",
                                    "év": "2016-09-13",
                                    "db": "1"
                                },
                                {
                                    "(No column name)": "121",
                                    "év": "2016-10-08",
                                    "db": "1"
                                },
                                {
                                    "(No column name)": "121",
                                    "év": "2016-10-29",
                                    "db": "1"
                                },
                                {
                                    "(No column name)": "121",
                                    "év": "2016-12-17",
                                    "db": "1"
                                },
                                {
                                    "(No column name)": "121",
                                    "év": "2016-12-25",
                                    "db": "1"
                                },
                                {
                                    "(No column name)": "121",
                                    "év": "Részösszeg",
                                    "db": "8"
                                },
                                {
                                    "(No column name)": "122",
                                    "év": "2016-07-04",
                                    "db": "1"
                                },
                                {
                                    "(No column name)": "122",
                                    "év": "2016-09-08",
                                    "db": "1"
                                },
                                {
                                    "(No column name)": "122",
                                    "év": "2016-09-17",
                                    "db": "1"
                                },
                                {
                                    "(No column name)": "122",
                                    "év": "2016-10-19",
                                    "db": "1"
                                },
                                {
                                    "(No column name)": "122",
                                    "év": "2016-10-28",
                                    "db": "1"
                                },
                                {
                                    "(No column name)": "122",
                                    "év": "2016-11-04",
                                    "db": "1"
                                },
                                {
                                    "(No column name)": "122",
                                    "év": "2016-12-02",
                                    "db": "1"
                                },
                                {
                                    "(No column name)": "122",
                                    "év": "2016-12-23",
                                    "db": "1"
                                },
                                {
                                    "(No column name)": "122",
                                    "év": "2017-01-15",
                                    "db": "1"
                                },
                                {
                                    "(No column name)": "122",
                                    "év": "Részösszeg",
                                    "db": "9"
                                },
                                {
                                    "(No column name)": "123",
                                    "év": "2016-04-19",
                                    "db": "1"
                                },
                                {
                                    "(No column name)": "123",
                                    "év": "2016-06-07",
                                    "db": "1"
                                },
                                {
                                    "(No column name)": "123",
                                    "év": "2016-06-16",
                                    "db": "1"
                                },
                                {
                                    "(No column name)": "123",
                                    "év": "2016-10-30",
                                    "db": "1"
                                },
                                {
                                    "(No column name)": "123",
                                    "év": "2016-11-15",
                                    "db": "1"
                                },
                                {
                                    "(No column name)": "123",
                                    "év": "Részösszeg",
                                    "db": "5"
                                },
                                {
                                    "(No column name)": "124",
                                    "év": "2016-05-27",
                                    "db": "1"
                                },
                                {
                                    "(No column name)": "124",
                                    "év": "2016-10-28",
                                    "db": "1"
                                },
                                {
                                    "(No column name)": "124",
                                    "év": "2016-11-29",
                                    "db": "1"
                                },
                                {
                                    "(No column name)": "124",
                                    "év": "2016-12-29",
                                    "db": "1"
                                },
                                {
                                    "(No column name)": "124",
                                    "év": "2017-01-05",
                                    "db": "1"
                                },
                                {
                                    "(No column name)": "124",
                                    "év": "2017-02-13",
                                    "db": "1"
                                },
                                {
                                    "(No column name)": "124",
                                    "év": "Részösszeg",
                                    "db": "6"
                                },
                                {
                                    "(No column name)": "125",
                                    "év": "2016-04-11",
                                    "db": "1"
                                },
                                {
                                    "(No column name)": "125",
                                    "év": "Részösszeg",
                                    "db": "1"
                                },
                                {
                                    "(No column name)": "126",
                                    "év": "2016-08-04",
                                    "db": "1"
                                },
                                {
                                    "(No column name)": "126",
                                    "év": "2016-08-21",
                                    "db": "1"
                                },
                                {
                                    "(No column name)": "126",
                                    "év": "2016-10-08",
                                    "db": "1"
                                },
                                {
                                    "(No column name)": "126",
                                    "év": "2016-12-15",
                                    "db": "1"
                                },
                                {
                                    "(No column name)": "126",
                                    "év": "2017-01-09",
                                    "db": "1"
                                },
                                {
                                    "(No column name)": "126",
                                    "év": "2017-02-05",
                                    "db": "1"
                                },
                                {
                                    "(No column name)": "126",
                                    "év": "Részösszeg",
                                    "db": "6"
                                },
                                {
                                    "(No column name)": "127",
                                    "év": "2016-05-14",
                                    "db": "1"
                                },
                                {
                                    "(No column name)": "127",
                                    "év": "2016-05-24",
                                    "db": "1"
                                },
                                {
                                    "(No column name)": "127",
                                    "év": "2016-05-30",
                                    "db": "1"
                                },
                                {
                                    "(No column name)": "127",
                                    "év": "2016-09-06",
                                    "db": "1"
                                },
                                {
                                    "(No column name)": "127",
                                    "év": "2016-10-30",
                                    "db": "1"
                                },
                                {
                                    "(No column name)": "127",
                                    "év": "2016-11-16",
                                    "db": "1"
                                },
                                {
                                    "(No column name)": "127",
                                    "év": "2017-02-28",
                                    "db": "1"
                                },
                                {
                                    "(No column name)": "127",
                                    "év": "Részösszeg",
                                    "db": "7"
                                },
                                {
                                    "(No column name)": "128",
                                    "év": "2016-07-26",
                                    "db": "1"
                                },
                                {
                                    "(No column name)": "128",
                                    "év": "2016-08-24",
                                    "db": "1"
                                },
                                {
                                    "(No column name)": "128",
                                    "év": "2016-11-19",
                                    "db": "1"
                                },
                                {
                                    "(No column name)": "128",
                                    "év": "2017-02-26",
                                    "db": "1"
                                },
                                {
                                    "(No column name)": "128",
                                    "év": "2017-03-03",
                                    "db": "1"
                                },
                                {
                                    "(No column name)": "128",
                                    "év": "Részösszeg",
                                    "db": "5"
                                },
                                {
                                    "(No column name)": "129",
                                    "év": "2016-07-27",
                                    "db": "1"
                                },
                                {
                                    "(No column name)": "129",
                                    "év": "2016-12-13",
                                    "db": "1"
                                },
                                {
                                    "(No column name)": "129",
                                    "év": "2017-01-16",
                                    "db": "1"
                                },
                                {
                                    "(No column name)": "129",
                                    "év": "2017-02-08",
                                    "db": "1"
                                },
                                {
                                    "(No column name)": "129",
                                    "év": "Részösszeg",
                                    "db": "4"
                                },
                                {
                                    "(No column name)": "130",
                                    "év": "2016-04-14",
                                    "db": "1"
                                },
                                {
                                    "(No column name)": "130",
                                    "év": "2016-05-01",
                                    "db": "1"
                                },
                                {
                                    "(No column name)": "130",
                                    "év": "2016-06-06",
                                    "db": "1"
                                },
                                {
                                    "(No column name)": "130",
                                    "év": "2016-08-15",
                                    "db": "1"
                                },
                                {
                                    "(No column name)": "130",
                                    "év": "2016-09-09",
                                    "db": "1"
                                },
                                {
                                    "(No column name)": "130",
                                    "év": "2017-01-26",
                                    "db": "1"
                                },
                                {
                                    "(No column name)": "130",
                                    "év": "Részösszeg",
                                    "db": "6"
                                },
                                {
                                    "(No column name)": "131",
                                    "év": "2016-04-06",
                                    "db": "1"
                                },
                                {
                                    "(No column name)": "131",
                                    "év": "2016-05-18",
                                    "db": "1"
                                },
                                {
                                    "(No column name)": "131",
                                    "év": "2016-05-30",
                                    "db": "1"
                                },
                                {
                                    "(No column name)": "131",
                                    "év": "2016-08-06",
                                    "db": "1"
                                },
                                {
                                    "(No column name)": "131",
                                    "év": "2017-01-25",
                                    "db": "1"
                                },
                                {
                                    "(No column name)": "131",
                                    "év": "Részösszeg",
                                    "db": "5"
                                },
                                {
                                    "(No column name)": "132",
                                    "év": "2016-05-04",
                                    "db": "1"
                                },
                                {
                                    "(No column name)": "132",
                                    "év": "2016-07-01",
                                    "db": "1"
                                },
                                {
                                    "(No column name)": "132",
                                    "év": "2016-09-30",
                                    "db": "1"
                                },
                                {
                                    "(No column name)": "132",
                                    "év": "2016-10-01",
                                    "db": "1"
                                },
                                {
                                    "(No column name)": "132",
                                    "év": "2016-11-22",
                                    "db": "1"
                                },
                                {
                                    "(No column name)": "132",
                                    "év": "2017-02-12",
                                    "db": "1"
                                },
                                {
                                    "(No column name)": "132",
                                    "év": "Részösszeg",
                                    "db": "6"
                                },
                                {
                                    "(No column name)": "133",
                                    "év": "2016-06-06",
                                    "db": "1"
                                },
                                {
                                    "(No column name)": "133",
                                    "év": "2016-06-27",
                                    "db": "1"
                                },
                                {
                                    "(No column name)": "133",
                                    "év": "2016-10-12",
                                    "db": "1"
                                },
                                {
                                    "(No column name)": "133",
                                    "év": "2016-11-22",
                                    "db": "1"
                                },
                                {
                                    "(No column name)": "133",
                                    "év": "2016-12-15",
                                    "db": "1"
                                },
                                {
                                    "(No column name)": "133",
                                    "év": "2017-01-01",
                                    "db": "1"
                                },
                                {
                                    "(No column name)": "133",
                                    "év": "Részösszeg",
                                    "db": "6"
                                },
                                {
                                    "(No column name)": "134",
                                    "év": "2016-07-03",
                                    "db": "1"
                                },
                                {
                                    "(No column name)": "134",
                                    "év": "2016-07-11",
                                    "db": "1"
                                },
                                {
                                    "(No column name)": "134",
                                    "év": "2016-09-12",
                                    "db": "1"
                                },
                                {
                                    "(No column name)": "134",
                                    "év": "2016-10-22",
                                    "db": "1"
                                },
                                {
                                    "(No column name)": "134",
                                    "év": "2016-10-30",
                                    "db": "1"
                                },
                                {
                                    "(No column name)": "134",
                                    "év": "2017-02-15",
                                    "db": "1"
                                },
                                {
                                    "(No column name)": "134",
                                    "év": "Részösszeg",
                                    "db": "6"
                                },
                                {
                                    "(No column name)": "135",
                                    "év": "2016-07-27",
                                    "db": "1"
                                },
                                {
                                    "(No column name)": "135",
                                    "év": "2016-09-05",
                                    "db": "1"
                                },
                                {
                                    "(No column name)": "135",
                                    "év": "2016-11-18",
                                    "db": "1"
                                },
                                {
                                    "(No column name)": "135",
                                    "év": "Részösszeg",
                                    "db": "3"
                                },
                                {
                                    "(No column name)": "136",
                                    "év": "2016-04-17",
                                    "db": "1"
                                },
                                {
                                    "(No column name)": "136",
                                    "év": "2016-05-21",
                                    "db": "1"
                                },
                                {
                                    "(No column name)": "136",
                                    "év": "2016-09-12",
                                    "db": "1"
                                },
                                {
                                    "(No column name)": "136",
                                    "év": "Részösszeg",
                                    "db": "3"
                                },
                                {
                                    "(No column name)": "137",
                                    "év": "2016-04-16",
                                    "db": "1"
                                },
                                {
                                    "(No column name)": "137",
                                    "év": "2016-05-17",
                                    "db": "1"
                                },
                                {
                                    "(No column name)": "137",
                                    "év": "2016-05-20",
                                    "db": "1"
                                },
                                {
                                    "(No column name)": "137",
                                    "év": "2016-07-06",
                                    "db": "1"
                                },
                                {
                                    "(No column name)": "137",
                                    "év": "2016-10-26",
                                    "db": "1"
                                },
                                {
                                    "(No column name)": "137",
                                    "év": "2016-11-15",
                                    "db": "1"
                                },
                                {
                                    "(No column name)": "137",
                                    "év": "Részösszeg",
                                    "db": "6"
                                },
                                {
                                    "(No column name)": "138",
                                    "év": "2016-08-12",
                                    "db": "1"
                                },
                                {
                                    "(No column name)": "138",
                                    "év": "2016-08-17",
                                    "db": "1"
                                },
                                {
                                    "(No column name)": "138",
                                    "év": "2016-11-06",
                                    "db": "1"
                                },
                                {
                                    "(No column name)": "138",
                                    "év": "2016-11-16",
                                    "db": "1"
                                },
                                {
                                    "(No column name)": "138",
                                    "év": "2016-11-19",
                                    "db": "1"
                                },
                                {
                                    "(No column name)": "138",
                                    "év": "2016-12-11",
                                    "db": "1"
                                },
                                {
                                    "(No column name)": "138",
                                    "év": "2016-12-17",
                                    "db": "1"
                                },
                                {
                                    "(No column name)": "138",
                                    "év": "Részösszeg",
                                    "db": "7"
                                },
                                {
                                    "(No column name)": "139",
                                    "év": "2016-04-14",
                                    "db": "1"
                                },
                                {
                                    "(No column name)": "139",
                                    "év": "2016-08-01",
                                    "db": "1"
                                },
                                {
                                    "(No column name)": "139",
                                    "év": "2016-08-03",
                                    "db": "1"
                                },
                                {
                                    "(No column name)": "139",
                                    "év": "2016-09-10",
                                    "db": "1"
                                },
                                {
                                    "(No column name)": "139",
                                    "év": "2016-09-18",
                                    "db": "1"
                                },
                                {
                                    "(No column name)": "139",
                                    "év": "2017-01-11",
                                    "db": "1"
                                },
                                {
                                    "(No column name)": "139",
                                    "év": "2017-01-17",
                                    "db": "1"
                                },
                                {
                                    "(No column name)": "139",
                                    "év": "Részösszeg",
                                    "db": "7"
                                },
                                {
                                    "(No column name)": "140",
                                    "év": "2016-06-06",
                                    "db": "1"
                                },
                                {
                                    "(No column name)": "140",
                                    "év": "2016-07-28",
                                    "db": "1"
                                },
                                {
                                    "(No column name)": "140",
                                    "év": "2016-10-01",
                                    "db": "1"
                                },
                                {
                                    "(No column name)": "140",
                                    "év": "2016-10-15",
                                    "db": "1"
                                },
                                {
                                    "(No column name)": "140",
                                    "év": "2016-11-07",
                                    "db": "1"
                                },
                                {
                                    "(No column name)": "140",
                                    "év": "2016-12-10",
                                    "db": "1"
                                },
                                {
                                    "(No column name)": "140",
                                    "év": "2016-12-14",
                                    "db": "1"
                                },
                                {
                                    "(No column name)": "140",
                                    "év": "2016-12-17",
                                    "db": "1"
                                },
                                {
                                    "(No column name)": "140",
                                    "év": "Részösszeg",
                                    "db": "8"
                                },
                                {
                                    "(No column name)": "141",
                                    "év": "2016-04-08",
                                    "db": "1"
                                },
                                {
                                    "(No column name)": "141",
                                    "év": "2016-06-05",
                                    "db": "1"
                                },
                                {
                                    "(No column name)": "141",
                                    "év": "2016-08-06",
                                    "db": "1"
                                },
                                {
                                    "(No column name)": "141",
                                    "év": "2016-08-16",
                                    "db": "1"
                                },
                                {
                                    "(No column name)": "141",
                                    "év": "2016-11-06",
                                    "db": "1"
                                },
                                {
                                    "(No column name)": "141",
                                    "év": "2016-12-27",
                                    "db": "1"
                                },
                                {
                                    "(No column name)": "141",
                                    "év": "Részösszeg",
                                    "db": "6"
                                },
                                {
                                    "(No column name)": "142",
                                    "év": "2016-12-17",
                                    "db": "1"
                                },
                                {
                                    "(No column name)": "142",
                                    "év": "2017-02-17",
                                    "db": "1"
                                },
                                {
                                    "(No column name)": "142",
                                    "év": "Részösszeg",
                                    "db": "2"
                                },
                                {
                                    "(No column name)": "143",
                                    "év": "2016-06-23",
                                    "db": "1"
                                },
                                {
                                    "(No column name)": "143",
                                    "év": "2016-10-15",
                                    "db": "1"
                                },
                                {
                                    "(No column name)": "143",
                                    "év": "2016-10-26",
                                    "db": "1"
                                },
                                {
                                    "(No column name)": "143",
                                    "év": "2016-10-30",
                                    "db": "1"
                                },
                                {
                                    "(No column name)": "143",
                                    "év": "2016-11-23",
                                    "db": "1"
                                },
                                {
                                    "(No column name)": "143",
                                    "év": "2016-12-25",
                                    "db": "1"
                                },
                                {
                                    "(No column name)": "143",
                                    "év": "2017-01-16",
                                    "db": "1"
                                },
                                {
                                    "(No column name)": "143",
                                    "év": "Részösszeg",
                                    "db": "7"
                                },
                                {
                                    "(No column name)": "144",
                                    "év": "2016-04-15",
                                    "db": "1"
                                },
                                {
                                    "(No column name)": "144",
                                    "év": "2016-09-29",
                                    "db": "1"
                                },
                                {
                                    "(No column name)": "144",
                                    "év": "2016-10-26",
                                    "db": "1"
                                },
                                {
                                    "(No column name)": "144",
                                    "év": "2016-11-19",
                                    "db": "1"
                                },
                                {
                                    "(No column name)": "144",
                                    "év": "2017-02-25",
                                    "db": "1"
                                },
                                {
                                    "(No column name)": "144",
                                    "év": "Részösszeg",
                                    "db": "5"
                                },
                                {
                                    "(No column name)": "145",
                                    "év": "2016-07-22",
                                    "db": "1"
                                },
                                {
                                    "(No column name)": "145",
                                    "év": "2016-09-23",
                                    "db": "1"
                                },
                                {
                                    "(No column name)": "145",
                                    "év": "2016-10-04",
                                    "db": "1"
                                },
                                {
                                    "(No column name)": "145",
                                    "év": "2016-10-09",
                                    "db": "1"
                                },
                                {
                                    "(No column name)": "145",
                                    "év": "2016-12-02",
                                    "db": "1"
                                },
                                {
                                    "(No column name)": "145",
                                    "év": "2017-01-23",
                                    "db": "1"
                                },
                                {
                                    "(No column name)": "145",
                                    "év": "Részösszeg",
                                    "db": "6"
                                },
                                {
                                    "(No column name)": "146",
                                    "év": "2016-06-02",
                                    "db": "1"
                                },
                                {
                                    "(No column name)": "146",
                                    "év": "2016-07-13",
                                    "db": "1"
                                },
                                {
                                    "(No column name)": "146",
                                    "év": "2016-08-16",
                                    "db": "1"
                                },
                                {
                                    "(No column name)": "146",
                                    "év": "2016-08-20",
                                    "db": "1"
                                },
                                {
                                    "(No column name)": "146",
                                    "év": "2016-09-05",
                                    "db": "1"
                                },
                                {
                                    "(No column name)": "146",
                                    "év": "2017-01-28",
                                    "db": "1"
                                },
                                {
                                    "(No column name)": "146",
                                    "év": "Részösszeg",
                                    "db": "6"
                                },
                                {
                                    "(No column name)": "147",
                                    "év": "2016-08-12",
                                    "db": "1"
                                },
                                {
                                    "(No column name)": "147",
                                    "év": "Részösszeg",
                                    "db": "1"
                                },
                                {
                                    "(No column name)": "148",
                                    "év": "2016-07-17",
                                    "db": "1"
                                },
                                {
                                    "(No column name)": "148",
                                    "év": "2016-08-09",
                                    "db": "1"
                                },
                                {
                                    "(No column name)": "148",
                                    "év": "2016-08-16",
                                    "db": "1"
                                },
                                {
                                    "(No column name)": "148",
                                    "év": "2016-08-23",
                                    "db": "2"
                                },
                                {
                                    "(No column name)": "148",
                                    "év": "2017-02-27",
                                    "db": "1"
                                },
                                {
                                    "(No column name)": "148",
                                    "év": "Részösszeg",
                                    "db": "6"
                                },
                                {
                                    "(No column name)": "149",
                                    "év": "2016-04-20",
                                    "db": "1"
                                },
                                {
                                    "(No column name)": "149",
                                    "év": "2016-05-18",
                                    "db": "1"
                                },
                                {
                                    "(No column name)": "149",
                                    "év": "2016-08-28",
                                    "db": "1"
                                },
                                {
                                    "(No column name)": "149",
                                    "év": "2016-08-29",
                                    "db": "1"
                                },
                                {
                                    "(No column name)": "149",
                                    "év": "2016-09-01",
                                    "db": "1"
                                },
                                {
                                    "(No column name)": "149",
                                    "év": "2016-10-10",
                                    "db": "1"
                                },
                                {
                                    "(No column name)": "149",
                                    "év": "2017-02-09",
                                    "db": "1"
                                },
                                {
                                    "(No column name)": "149",
                                    "év": "Részösszeg",
                                    "db": "7"
                                },
                                {
                                    "(No column name)": "150",
                                    "év": "2016-05-13",
                                    "db": "1"
                                },
                                {
                                    "(No column name)": "150",
                                    "év": "2016-10-01",
                                    "db": "2"
                                },
                                {
                                    "(No column name)": "150",
                                    "év": "2016-10-22",
                                    "db": "1"
                                },
                                {
                                    "(No column name)": "150",
                                    "év": "2016-10-26",
                                    "db": "1"
                                },
                                {
                                    "(No column name)": "150",
                                    "év": "2017-01-10",
                                    "db": "1"
                                },
                                {
                                    "(No column name)": "150",
                                    "év": "Részösszeg",
                                    "db": "6"
                                },
                                {
                                    "(No column name)": "151",
                                    "év": "2016-06-03",
                                    "db": "1"
                                },
                                {
                                    "(No column name)": "151",
                                    "év": "2016-09-16",
                                    "db": "1"
                                },
                                {
                                    "(No column name)": "151",
                                    "év": "2016-10-02",
                                    "db": "1"
                                },
                                {
                                    "(No column name)": "151",
                                    "év": "Részösszeg",
                                    "db": "3"
                                },
                                {
                                    "(No column name)": "152",
                                    "év": "2016-07-28",
                                    "db": "1"
                                },
                                {
                                    "(No column name)": "152",
                                    "év": "2016-10-16",
                                    "db": "1"
                                },
                                {
                                    "(No column name)": "152",
                                    "év": "2016-10-26",
                                    "db": "1"
                                },
                                {
                                    "(No column name)": "152",
                                    "év": "2017-02-21",
                                    "db": "1"
                                },
                                {
                                    "(No column name)": "152",
                                    "év": "Részösszeg",
                                    "db": "4"
                                },
                                {
                                    "(No column name)": "153",
                                    "év": "2016-04-22",
                                    "db": "1"
                                },
                                {
                                    "(No column name)": "153",
                                    "év": "2016-06-17",
                                    "db": "1"
                                },
                                {
                                    "(No column name)": "153",
                                    "év": "2017-01-21",
                                    "db": "1"
                                },
                                {
                                    "(No column name)": "153",
                                    "év": "2017-01-23",
                                    "db": "1"
                                },
                                {
                                    "(No column name)": "153",
                                    "év": "2017-02-07",
                                    "db": "1"
                                },
                                {
                                    "(No column name)": "153",
                                    "év": "Részösszeg",
                                    "db": "5"
                                },
                                {
                                    "(No column name)": "154",
                                    "év": "2016-06-16",
                                    "db": "1"
                                },
                                {
                                    "(No column name)": "154",
                                    "év": "2016-09-17",
                                    "db": "1"
                                },
                                {
                                    "(No column name)": "154",
                                    "év": "2016-10-19",
                                    "db": "1"
                                },
                                {
                                    "(No column name)": "154",
                                    "év": "2016-11-07",
                                    "db": "1"
                                },
                                {
                                    "(No column name)": "154",
                                    "év": "2017-02-16",
                                    "db": "1"
                                },
                                {
                                    "(No column name)": "154",
                                    "év": "Részösszeg",
                                    "db": "5"
                                },
                                {
                                    "(No column name)": "155",
                                    "év": "2016-04-10",
                                    "db": "1"
                                },
                                {
                                    "(No column name)": "155",
                                    "év": "2016-04-12",
                                    "db": "1"
                                },
                                {
                                    "(No column name)": "155",
                                    "év": "2016-10-01",
                                    "db": "1"
                                },
                                {
                                    "(No column name)": "155",
                                    "év": "2016-11-23",
                                    "db": "1"
                                },
                                {
                                    "(No column name)": "155",
                                    "év": "2017-02-16",
                                    "db": "1"
                                },
                                {
                                    "(No column name)": "155",
                                    "év": "Részösszeg",
                                    "db": "5"
                                },
                                {
                                    "(No column name)": "156",
                                    "év": "2016-04-19",
                                    "db": "1"
                                },
                                {
                                    "(No column name)": "156",
                                    "év": "2016-06-05",
                                    "db": "1"
                                },
                                {
                                    "(No column name)": "156",
                                    "év": "2016-06-13",
                                    "db": "1"
                                },
                                {
                                    "(No column name)": "156",
                                    "év": "2016-07-20",
                                    "db": "1"
                                },
                                {
                                    "(No column name)": "156",
                                    "év": "2017-01-22",
                                    "db": "1"
                                },
                                {
                                    "(No column name)": "156",
                                    "év": "2017-02-03",
                                    "db": "1"
                                },
                                {
                                    "(No column name)": "156",
                                    "év": "2017-02-23",
                                    "db": "1"
                                },
                                {
                                    "(No column name)": "156",
                                    "év": "Részösszeg",
                                    "db": "7"
                                },
                                {
                                    "(No column name)": "157",
                                    "év": "2016-05-16",
                                    "db": "1"
                                },
                                {
                                    "(No column name)": "157",
                                    "év": "2016-07-12",
                                    "db": "1"
                                },
                                {
                                    "(No column name)": "157",
                                    "év": "2016-09-13",
                                    "db": "1"
                                },
                                {
                                    "(No column name)": "157",
                                    "év": "2016-11-03",
                                    "db": "1"
                                },
                                {
                                    "(No column name)": "157",
                                    "év": "2017-02-19",
                                    "db": "1"
                                },
                                {
                                    "(No column name)": "157",
                                    "év": "Részösszeg",
                                    "db": "5"
                                },
                                {
                                    "(No column name)": "158",
                                    "év": "2016-08-25",
                                    "db": "1"
                                },
                                {
                                    "(No column name)": "158",
                                    "év": "2016-08-30",
                                    "db": "1"
                                },
                                {
                                    "(No column name)": "158",
                                    "év": "2016-10-03",
                                    "db": "1"
                                },
                                {
                                    "(No column name)": "158",
                                    "év": "Részösszeg",
                                    "db": "3"
                                },
                                {
                                    "(No column name)": "160",
                                    "év": "2016-06-06",
                                    "db": "1"
                                },
                                {
                                    "(No column name)": "160",
                                    "év": "2016-06-07",
                                    "db": "2"
                                },
                                {
                                    "(No column name)": "160",
                                    "év": "2016-07-27",
                                    "db": "1"
                                },
                                {
                                    "(No column name)": "160",
                                    "év": "2017-02-23",
                                    "db": "1"
                                },
                                {
                                    "(No column name)": "160",
                                    "év": "Részösszeg",
                                    "db": "5"
                                },
                                {
                                    "(No column name)": "161",
                                    "év": "2016-05-12",
                                    "db": "1"
                                },
                                {
                                    "(No column name)": "161",
                                    "év": "2016-05-18",
                                    "db": "1"
                                },
                                {
                                    "(No column name)": "161",
                                    "év": "2016-06-06",
                                    "db": "1"
                                },
                                {
                                    "(No column name)": "161",
                                    "év": "2016-09-19",
                                    "db": "1"
                                },
                                {
                                    "(No column name)": "161",
                                    "év": "2016-10-24",
                                    "db": "1"
                                },
                                {
                                    "(No column name)": "161",
                                    "év": "2017-02-25",
                                    "db": "1"
                                },
                                {
                                    "(No column name)": "161",
                                    "év": "Részösszeg",
                                    "db": "6"
                                },
                                {
                                    "(No column name)": "162",
                                    "év": "2016-04-24",
                                    "db": "1"
                                },
                                {
                                    "(No column name)": "162",
                                    "év": "2016-10-27",
                                    "db": "1"
                                },
                                {
                                    "(No column name)": "162",
                                    "év": "2016-12-26",
                                    "db": "1"
                                },
                                {
                                    "(No column name)": "162",
                                    "év": "Részösszeg",
                                    "db": "3"
                                },
                                {
                                    "(No column name)": "163",
                                    "év": "2016-05-09",
                                    "db": "1"
                                },
                                {
                                    "(No column name)": "163",
                                    "év": "2016-06-10",
                                    "db": "1"
                                },
                                {
                                    "(No column name)": "163",
                                    "év": "2016-08-16",
                                    "db": "1"
                                },
                                {
                                    "(No column name)": "163",
                                    "év": "2016-09-23",
                                    "db": "1"
                                },
                                {
                                    "(No column name)": "163",
                                    "év": "2016-10-01",
                                    "db": "1"
                                },
                                {
                                    "(No column name)": "163",
                                    "év": "2016-11-08",
                                    "db": "1"
                                },
                                {
                                    "(No column name)": "163",
                                    "év": "2017-02-01",
                                    "db": "1"
                                },
                                {
                                    "(No column name)": "163",
                                    "év": "Részösszeg",
                                    "db": "7"
                                },
                                {
                                    "(No column name)": "164",
                                    "év": "2016-04-10",
                                    "db": "1"
                                },
                                {
                                    "(No column name)": "164",
                                    "év": "2016-07-04",
                                    "db": "1"
                                },
                                {
                                    "(No column name)": "164",
                                    "év": "2016-07-31",
                                    "db": "1"
                                },
                                {
                                    "(No column name)": "164",
                                    "év": "2016-11-16",
                                    "db": "1"
                                },
                                {
                                    "(No column name)": "164",
                                    "év": "2016-11-19",
                                    "db": "1"
                                },
                                {
                                    "(No column name)": "164",
                                    "év": "Részösszeg",
                                    "db": "5"
                                },
                                {
                                    "(No column name)": "165",
                                    "év": "2016-05-12",
                                    "db": "1"
                                },
                                {
                                    "(No column name)": "165",
                                    "év": "2016-05-25",
                                    "db": "1"
                                },
                                {
                                    "(No column name)": "165",
                                    "év": "2016-06-03",
                                    "db": "3"
                                },
                                {
                                    "(No column name)": "165",
                                    "év": "2016-10-09",
                                    "db": "1"
                                },
                                {
                                    "(No column name)": "165",
                                    "év": "2016-12-17",
                                    "db": "1"
                                },
                                {
                                    "(No column name)": "165",
                                    "év": "Részösszeg",
                                    "db": "7"
                                },
                                {
                                    "(No column name)": "166",
                                    "év": "2016-05-14",
                                    "db": "1"
                                },
                                {
                                    "(No column name)": "166",
                                    "év": "2016-08-16",
                                    "db": "1"
                                },
                                {
                                    "(No column name)": "166",
                                    "év": "2017-02-12",
                                    "db": "1"
                                },
                                {
                                    "(No column name)": "166",
                                    "év": "Részösszeg",
                                    "db": "3"
                                },
                                {
                                    "(No column name)": "167",
                                    "év": "2016-05-24",
                                    "db": "1"
                                },
                                {
                                    "(No column name)": "167",
                                    "év": "2017-01-02",
                                    "db": "1"
                                },
                                {
                                    "(No column name)": "167",
                                    "év": "Részösszeg",
                                    "db": "2"
                                },
                                {
                                    "(No column name)": "168",
                                    "év": "2016-06-07",
                                    "db": "1"
                                },
                                {
                                    "(No column name)": "168",
                                    "év": "2016-08-16",
                                    "db": "1"
                                },
                                {
                                    "(No column name)": "168",
                                    "év": "2016-08-17",
                                    "db": "1"
                                },
                                {
                                    "(No column name)": "168",
                                    "év": "2016-11-05",
                                    "db": "1"
                                },
                                {
                                    "(No column name)": "168",
                                    "év": "2016-11-08",
                                    "db": "1"
                                },
                                {
                                    "(No column name)": "168",
                                    "év": "Részösszeg",
                                    "db": "5"
                                },
                                {
                                    "(No column name)": "169",
                                    "év": "2016-04-10",
                                    "db": "1"
                                },
                                {
                                    "(No column name)": "169",
                                    "év": "2016-05-21",
                                    "db": "1"
                                },
                                {
                                    "(No column name)": "169",
                                    "év": "2016-06-20",
                                    "db": "1"
                                },
                                {
                                    "(No column name)": "169",
                                    "év": "2016-08-01",
                                    "db": "1"
                                },
                                {
                                    "(No column name)": "169",
                                    "év": "2016-12-09",
                                    "db": "1"
                                },
                                {
                                    "(No column name)": "169",
                                    "év": "2017-01-09",
                                    "db": "1"
                                },
                                {
                                    "(No column name)": "169",
                                    "év": "Részösszeg",
                                    "db": "6"
                                },
                                {
                                    "(No column name)": "170",
                                    "év": "2016-04-10",
                                    "db": "1"
                                },
                                {
                                    "(No column name)": "170",
                                    "év": "2016-06-10",
                                    "db": "1"
                                },
                                {
                                    "(No column name)": "170",
                                    "év": "2016-10-26",
                                    "db": "1"
                                },
                                {
                                    "(No column name)": "170",
                                    "év": "2016-11-09",
                                    "db": "1"
                                },
                                {
                                    "(No column name)": "170",
                                    "év": "2016-12-04",
                                    "db": "1"
                                },
                                {
                                    "(No column name)": "170",
                                    "év": "Részösszeg",
                                    "db": "5"
                                },
                                {
                                    "(No column name)": "171",
                                    "év": "2016-04-10",
                                    "db": "1"
                                },
                                {
                                    "(No column name)": "171",
                                    "év": "2016-06-23",
                                    "db": "1"
                                },
                                {
                                    "(No column name)": "171",
                                    "év": "2016-10-23",
                                    "db": "1"
                                },
                                {
                                    "(No column name)": "171",
                                    "év": "2016-11-29",
                                    "db": "1"
                                },
                                {
                                    "(No column name)": "171",
                                    "év": "2017-02-24",
                                    "db": "1"
                                },
                                {
                                    "(No column name)": "171",
                                    "év": "Részösszeg",
                                    "db": "5"
                                },
                                {
                                    "(No column name)": "172",
                                    "év": "2016-06-24",
                                    "db": "1"
                                },
                                {
                                    "(No column name)": "172",
                                    "év": "2016-07-24",
                                    "db": "1"
                                },
                                {
                                    "(No column name)": "172",
                                    "év": "2016-08-02",
                                    "db": "1"
                                },
                                {
                                    "(No column name)": "172",
                                    "év": "2016-08-29",
                                    "db": "1"
                                },
                                {
                                    "(No column name)": "172",
                                    "év": "2016-10-09",
                                    "db": "1"
                                },
                                {
                                    "(No column name)": "172",
                                    "év": "2016-10-20",
                                    "db": "1"
                                },
                                {
                                    "(No column name)": "172",
                                    "év": "2016-12-02",
                                    "db": "1"
                                },
                                {
                                    "(No column name)": "172",
                                    "év": "2017-01-05",
                                    "db": "1"
                                },
                                {
                                    "(No column name)": "172",
                                    "év": "2017-02-03",
                                    "db": "1"
                                },
                                {
                                    "(No column name)": "172",
                                    "év": "Részösszeg",
                                    "db": "9"
                                },
                                {
                                    "(No column name)": "173",
                                    "év": "2016-06-06",
                                    "db": "1"
                                },
                                {
                                    "(No column name)": "173",
                                    "év": "2016-07-14",
                                    "db": "1"
                                },
                                {
                                    "(No column name)": "173",
                                    "év": "2016-12-06",
                                    "db": "1"
                                },
                                {
                                    "(No column name)": "173",
                                    "év": "2017-01-09",
                                    "db": "1"
                                },
                                {
                                    "(No column name)": "173",
                                    "év": "Részösszeg",
                                    "db": "4"
                                },
                                {
                                    "(No column name)": "174",
                                    "év": "2016-06-06",
                                    "db": "1"
                                },
                                {
                                    "(No column name)": "174",
                                    "év": "2016-07-06",
                                    "db": "1"
                                },
                                {
                                    "(No column name)": "174",
                                    "év": "2016-07-18",
                                    "db": "1"
                                },
                                {
                                    "(No column name)": "174",
                                    "év": "2016-11-12",
                                    "db": "1"
                                },
                                {
                                    "(No column name)": "174",
                                    "év": "Részösszeg",
                                    "db": "4"
                                },
                                {
                                    "(No column name)": "175",
                                    "év": "2016-05-28",
                                    "db": "1"
                                },
                                {
                                    "(No column name)": "175",
                                    "év": "2016-08-19",
                                    "db": "1"
                                },
                                {
                                    "(No column name)": "175",
                                    "év": "2016-09-30",
                                    "db": "1"
                                },
                                {
                                    "(No column name)": "175",
                                    "év": "2016-10-08",
                                    "db": "1"
                                },
                                {
                                    "(No column name)": "175",
                                    "év": "2016-12-30",
                                    "db": "1"
                                },
                                {
                                    "(No column name)": "175",
                                    "év": "Részösszeg",
                                    "db": "5"
                                },
                                {
                                    "(No column name)": "176",
                                    "év": "2016-04-21",
                                    "db": "1"
                                },
                                {
                                    "(No column name)": "176",
                                    "év": "2016-10-09",
                                    "db": "1"
                                },
                                {
                                    "(No column name)": "176",
                                    "év": "2016-11-13",
                                    "db": "1"
                                },
                                {
                                    "(No column name)": "176",
                                    "év": "2016-12-22",
                                    "db": "1"
                                },
                                {
                                    "(No column name)": "176",
                                    "év": "2017-02-08",
                                    "db": "1"
                                },
                                {
                                    "(No column name)": "176",
                                    "év": "2017-02-24",
                                    "db": "1"
                                },
                                {
                                    "(No column name)": "176",
                                    "év": "Részösszeg",
                                    "db": "6"
                                },
                                {
                                    "(No column name)": "177",
                                    "év": "2016-08-16",
                                    "db": "1"
                                },
                                {
                                    "(No column name)": "177",
                                    "év": "2016-08-28",
                                    "db": "1"
                                },
                                {
                                    "(No column name)": "177",
                                    "év": "2016-10-21",
                                    "db": "1"
                                },
                                {
                                    "(No column name)": "177",
                                    "év": "2017-02-05",
                                    "db": "1"
                                },
                                {
                                    "(No column name)": "177",
                                    "év": "Részösszeg",
                                    "db": "4"
                                },
                                {
                                    "(No column name)": "178",
                                    "év": "2016-06-28",
                                    "db": "1"
                                },
                                {
                                    "(No column name)": "178",
                                    "év": "2016-08-24",
                                    "db": "1"
                                },
                                {
                                    "(No column name)": "178",
                                    "év": "2016-10-28",
                                    "db": "1"
                                },
                                {
                                    "(No column name)": "178",
                                    "év": "2016-11-03",
                                    "db": "1"
                                },
                                {
                                    "(No column name)": "178",
                                    "év": "Részösszeg",
                                    "db": "4"
                                },
                                {
                                    "(No column name)": "179",
                                    "év": "2016-05-21",
                                    "db": "1"
                                },
                                {
                                    "(No column name)": "179",
                                    "év": "2016-07-09",
                                    "db": "1"
                                },
                                {
                                    "(No column name)": "179",
                                    "év": "2017-02-04",
                                    "db": "1"
                                },
                                {
                                    "(No column name)": "179",
                                    "év": "Részösszeg",
                                    "db": "3"
                                },
                                {
                                    "(No column name)": "180",
                                    "év": "2016-06-04",
                                    "db": "1"
                                },
                                {
                                    "(No column name)": "180",
                                    "év": "2017-02-22",
                                    "db": "1"
                                },
                                {
                                    "(No column name)": "180",
                                    "év": "2017-02-23",
                                    "db": "1"
                                },
                                {
                                    "(No column name)": "180",
                                    "év": "Részösszeg",
                                    "db": "3"
                                },
                                {
                                    "(No column name)": "181",
                                    "év": "2016-06-08",
                                    "db": "1"
                                },
                                {
                                    "(No column name)": "181",
                                    "év": "2016-06-13",
                                    "db": "1"
                                },
                                {
                                    "(No column name)": "181",
                                    "év": "2016-07-10",
                                    "db": "1"
                                },
                                {
                                    "(No column name)": "181",
                                    "év": "2016-07-16",
                                    "db": "1"
                                },
                                {
                                    "(No column name)": "181",
                                    "év": "2016-07-28",
                                    "db": "1"
                                },
                                {
                                    "(No column name)": "181",
                                    "év": "2016-12-05",
                                    "db": "1"
                                },
                                {
                                    "(No column name)": "181",
                                    "év": "Részösszeg",
                                    "db": "6"
                                },
                                {
                                    "(No column name)": "182",
                                    "év": "2016-04-10",
                                    "db": "1"
                                },
                                {
                                    "(No column name)": "182",
                                    "év": "2016-06-07",
                                    "db": "1"
                                },
                                {
                                    "(No column name)": "182",
                                    "év": "2016-07-04",
                                    "db": "1"
                                },
                                {
                                    "(No column name)": "182",
                                    "év": "2016-07-30",
                                    "db": "1"
                                },
                                {
                                    "(No column name)": "182",
                                    "év": "2016-10-24",
                                    "db": "1"
                                },
                                {
                                    "(No column name)": "182",
                                    "év": "2016-10-30",
                                    "db": "2"
                                },
                                {
                                    "(No column name)": "182",
                                    "év": "2016-11-23",
                                    "db": "1"
                                },
                                {
                                    "(No column name)": "182",
                                    "év": "2016-11-25",
                                    "db": "1"
                                },
                                {
                                    "(No column name)": "182",
                                    "év": "2016-11-28",
                                    "db": "1"
                                },
                                {
                                    "(No column name)": "182",
                                    "év": "2017-01-01",
                                    "db": "1"
                                },
                                {
                                    "(No column name)": "182",
                                    "év": "2017-01-06",
                                    "db": "1"
                                },
                                {
                                    "(No column name)": "182",
                                    "év": "Részösszeg",
                                    "db": "12"
                                },
                                {
                                    "(No column name)": "183",
                                    "év": "2016-06-09",
                                    "db": "1"
                                },
                                {
                                    "(No column name)": "183",
                                    "év": "2016-09-19",
                                    "db": "1"
                                },
                                {
                                    "(No column name)": "183",
                                    "év": "2016-10-10",
                                    "db": "1"
                                },
                                {
                                    "(No column name)": "183",
                                    "év": "2017-01-13",
                                    "db": "1"
                                },
                                {
                                    "(No column name)": "183",
                                    "év": "Részösszeg",
                                    "db": "4"
                                },
                                {
                                    "(No column name)": "184",
                                    "év": "2016-04-28",
                                    "db": "1"
                                },
                                {
                                    "(No column name)": "184",
                                    "év": "2016-05-30",
                                    "db": "1"
                                },
                                {
                                    "(No column name)": "184",
                                    "év": "2016-07-18",
                                    "db": "1"
                                },
                                {
                                    "(No column name)": "184",
                                    "év": "2016-11-05",
                                    "db": "1"
                                },
                                {
                                    "(No column name)": "184",
                                    "év": "Részösszeg",
                                    "db": "4"
                                },
                                {
                                    "(No column name)": "185",
                                    "év": "2016-04-13",
                                    "db": "1"
                                },
                                {
                                    "(No column name)": "185",
                                    "év": "2016-05-28",
                                    "db": "1"
                                },
                                {
                                    "(No column name)": "185",
                                    "év": "2016-06-03",
                                    "db": "1"
                                },
                                {
                                    "(No column name)": "185",
                                    "év": "2016-06-07",
                                    "db": "1"
                                },
                                {
                                    "(No column name)": "185",
                                    "év": "2016-07-14",
                                    "db": "1"
                                },
                                {
                                    "(No column name)": "185",
                                    "év": "2016-07-17",
                                    "db": "1"
                                },
                                {
                                    "(No column name)": "185",
                                    "év": "2016-07-20",
                                    "db": "1"
                                },
                                {
                                    "(No column name)": "185",
                                    "év": "2016-07-24",
                                    "db": "1"
                                },
                                {
                                    "(No column name)": "185",
                                    "év": "2016-10-06",
                                    "db": "1"
                                },
                                {
                                    "(No column name)": "185",
                                    "év": "2016-10-23",
                                    "db": "1"
                                },
                                {
                                    "(No column name)": "185",
                                    "év": "2017-01-16",
                                    "db": "1"
                                },
                                {
                                    "(No column name)": "185",
                                    "év": "2017-01-22",
                                    "db": "1"
                                },
                                {
                                    "(No column name)": "185",
                                    "év": "Részösszeg",
                                    "db": "12"
                                },
                                {
                                    "(No column name)": "186",
                                    "év": "2016-05-01",
                                    "db": "1"
                                },
                                {
                                    "(No column name)": "186",
                                    "év": "2016-10-15",
                                    "db": "1"
                                },
                                {
                                    "(No column name)": "186",
                                    "év": "2016-11-05",
                                    "db": "1"
                                },
                                {
                                    "(No column name)": "186",
                                    "év": "2017-01-22",
                                    "db": "1"
                                },
                                {
                                    "(No column name)": "186",
                                    "év": "Részösszeg",
                                    "db": "4"
                                },
                                {
                                    "(No column name)": "187",
                                    "év": "2016-05-09",
                                    "db": "1"
                                },
                                {
                                    "(No column name)": "187",
                                    "év": "2016-05-28",
                                    "db": "1"
                                },
                                {
                                    "(No column name)": "187",
                                    "év": "2016-06-13",
                                    "db": "1"
                                },
                                {
                                    "(No column name)": "187",
                                    "év": "2016-07-20",
                                    "db": "1"
                                },
                                {
                                    "(No column name)": "187",
                                    "év": "2016-07-31",
                                    "db": "1"
                                },
                                {
                                    "(No column name)": "187",
                                    "év": "2016-08-10",
                                    "db": "1"
                                },
                                {
                                    "(No column name)": "187",
                                    "év": "2016-12-29",
                                    "db": "1"
                                },
                                {
                                    "(No column name)": "187",
                                    "év": "Részösszeg",
                                    "db": "7"
                                },
                                {
                                    "(No column name)": "188",
                                    "év": "2016-06-06",
                                    "db": "1"
                                },
                                {
                                    "(No column name)": "188",
                                    "év": "2016-07-19",
                                    "db": "1"
                                },
                                {
                                    "(No column name)": "188",
                                    "év": "2016-07-24",
                                    "db": "1"
                                },
                                {
                                    "(No column name)": "188",
                                    "év": "2016-08-01",
                                    "db": "1"
                                },
                                {
                                    "(No column name)": "188",
                                    "év": "2016-09-05",
                                    "db": "1"
                                },
                                {
                                    "(No column name)": "188",
                                    "év": "2016-12-25",
                                    "db": "1"
                                },
                                {
                                    "(No column name)": "188",
                                    "év": "Részösszeg",
                                    "db": "6"
                                },
                                {
                                    "(No column name)": "189",
                                    "év": "2016-07-20",
                                    "db": "1"
                                },
                                {
                                    "(No column name)": "189",
                                    "év": "2016-08-03",
                                    "db": "1"
                                },
                                {
                                    "(No column name)": "189",
                                    "év": "2016-10-27",
                                    "db": "1"
                                },
                                {
                                    "(No column name)": "189",
                                    "év": "2017-01-17",
                                    "db": "1"
                                },
                                {
                                    "(No column name)": "189",
                                    "év": "2017-02-26",
                                    "db": "1"
                                },
                                {
                                    "(No column name)": "189",
                                    "év": "Részösszeg",
                                    "db": "5"
                                },
                                {
                                    "(No column name)": "190",
                                    "év": "2016-04-24",
                                    "db": "1"
                                },
                                {
                                    "(No column name)": "190",
                                    "év": "2016-06-27",
                                    "db": "1"
                                },
                                {
                                    "(No column name)": "190",
                                    "év": "2016-07-08",
                                    "db": "1"
                                },
                                {
                                    "(No column name)": "190",
                                    "év": "2016-08-13",
                                    "db": "1"
                                },
                                {
                                    "(No column name)": "190",
                                    "év": "2017-02-11",
                                    "db": "1"
                                },
                                {
                                    "(No column name)": "190",
                                    "év": "Részösszeg",
                                    "db": "5"
                                },
                                {
                                    "(No column name)": "191",
                                    "év": "2016-09-09",
                                    "db": "1"
                                },
                                {
                                    "(No column name)": "191",
                                    "év": "2016-11-22",
                                    "db": "1"
                                },
                                {
                                    "(No column name)": "191",
                                    "év": "2016-11-27",
                                    "db": "1"
                                },
                                {
                                    "(No column name)": "191",
                                    "év": "2017-02-05",
                                    "db": "1"
                                },
                                {
                                    "(No column name)": "191",
                                    "év": "2017-02-08",
                                    "db": "1"
                                },
                                {
                                    "(No column name)": "191",
                                    "év": "Részösszeg",
                                    "db": "5"
                                },
                                {
                                    "(No column name)": "192",
                                    "év": "2016-06-04",
                                    "db": "1"
                                },
                                {
                                    "(No column name)": "192",
                                    "év": "2016-07-17",
                                    "db": "1"
                                },
                                {
                                    "(No column name)": "192",
                                    "év": "Részösszeg",
                                    "db": "2"
                                },
                                {
                                    "(No column name)": "193",
                                    "év": "2016-05-09",
                                    "db": "1"
                                },
                                {
                                    "(No column name)": "193",
                                    "év": "2016-06-07",
                                    "db": "1"
                                },
                                {
                                    "(No column name)": "193",
                                    "év": "2016-06-22",
                                    "db": "1"
                                },
                                {
                                    "(No column name)": "193",
                                    "év": "2016-07-15",
                                    "db": "1"
                                },
                                {
                                    "(No column name)": "193",
                                    "év": "2016-08-29",
                                    "db": "1"
                                },
                                {
                                    "(No column name)": "193",
                                    "év": "2016-09-11",
                                    "db": "1"
                                },
                                {
                                    "(No column name)": "193",
                                    "év": "2016-11-03",
                                    "db": "1"
                                },
                                {
                                    "(No column name)": "193",
                                    "év": "Részösszeg",
                                    "db": "7"
                                },
                                {
                                    "(No column name)": "194",
                                    "év": "2016-09-30",
                                    "db": "1"
                                },
                                {
                                    "(No column name)": "194",
                                    "év": "Részösszeg",
                                    "db": "1"
                                },
                                {
                                    "(No column name)": "195",
                                    "év": "2016-07-27",
                                    "db": "1"
                                },
                                {
                                    "(No column name)": "195",
                                    "év": "2016-08-31",
                                    "db": "1"
                                },
                                {
                                    "(No column name)": "195",
                                    "év": "2016-09-22",
                                    "db": "1"
                                },
                                {
                                    "(No column name)": "195",
                                    "év": "2016-10-23",
                                    "db": "1"
                                },
                                {
                                    "(No column name)": "195",
                                    "év": "2017-01-24",
                                    "db": "1"
                                },
                                {
                                    "(No column name)": "195",
                                    "év": "2017-01-30",
                                    "db": "1"
                                },
                                {
                                    "(No column name)": "195",
                                    "év": "Részösszeg",
                                    "db": "6"
                                },
                                {
                                    "(No column name)": "196",
                                    "év": "2016-06-11",
                                    "db": "1"
                                },
                                {
                                    "(No column name)": "196",
                                    "év": "2016-07-14",
                                    "db": "1"
                                },
                                {
                                    "(No column name)": "196",
                                    "év": "2016-11-23",
                                    "db": "1"
                                },
                                {
                                    "(No column name)": "196",
                                    "év": "2016-12-04",
                                    "db": "1"
                                },
                                {
                                    "(No column name)": "196",
                                    "év": "Részösszeg",
                                    "db": "4"
                                },
                                {
                                    "(No column name)": "197",
                                    "év": "2016-06-30",
                                    "db": "1"
                                },
                                {
                                    "(No column name)": "197",
                                    "év": "2016-08-09",
                                    "db": "1"
                                },
                                {
                                    "(No column name)": "197",
                                    "év": "2016-09-30",
                                    "db": "1"
                                },
                                {
                                    "(No column name)": "197",
                                    "év": "2016-10-20",
                                    "db": "1"
                                },
                                {
                                    "(No column name)": "197",
                                    "év": "2016-11-22",
                                    "db": "1"
                                },
                                {
                                    "(No column name)": "197",
                                    "év": "2016-12-24",
                                    "db": "1"
                                },
                                {
                                    "(No column name)": "197",
                                    "év": "Részösszeg",
                                    "db": "6"
                                },
                                {
                                    "(No column name)": "198",
                                    "év": "2016-06-22",
                                    "db": "1"
                                },
                                {
                                    "(No column name)": "198",
                                    "év": "2016-07-04",
                                    "db": "1"
                                },
                                {
                                    "(No column name)": "198",
                                    "év": "2016-09-18",
                                    "db": "1"
                                },
                                {
                                    "(No column name)": "198",
                                    "év": "2016-10-03",
                                    "db": "1"
                                },
                                {
                                    "(No column name)": "198",
                                    "év": "2016-10-09",
                                    "db": "1"
                                },
                                {
                                    "(No column name)": "198",
                                    "év": "2016-10-17",
                                    "db": "1"
                                },
                                {
                                    "(No column name)": "198",
                                    "év": "2016-10-29",
                                    "db": "1"
                                },
                                {
                                    "(No column name)": "198",
                                    "év": "2017-01-05",
                                    "db": "1"
                                },
                                {
                                    "(No column name)": "198",
                                    "év": "Részösszeg",
                                    "db": "8"
                                },
                                {
                                    "(No column name)": "Végösszeg",
                                    "év": "Végösszeg",
                                    "db": "1027"
                                }
                            ]
                        },
                        "text/html": "<table><tr><th>(No column name)</th><th>év</th><th>db</th></tr><tr><td>1</td><td>2016-05-05</td><td>1</td></tr><tr><td>1</td><td>2016-06-10</td><td>1</td></tr><tr><td>1</td><td>2016-07-30</td><td>1</td></tr><tr><td>1</td><td>2016-08-20</td><td>1</td></tr><tr><td>1</td><td>2016-10-09</td><td>1</td></tr><tr><td>1</td><td>2016-10-15</td><td>1</td></tr><tr><td>1</td><td>2016-11-11</td><td>1</td></tr><tr><td>1</td><td>2016-12-01</td><td>1</td></tr><tr><td>1</td><td>Részösszeg</td><td>8</td></tr><tr><td>2</td><td>2016-08-27</td><td>1</td></tr><tr><td>2</td><td>2016-09-14</td><td>1</td></tr><tr><td>2</td><td>2016-09-19</td><td>1</td></tr><tr><td>2</td><td>2016-11-23</td><td>1</td></tr><tr><td>2</td><td>Részösszeg</td><td>4</td></tr><tr><td>3</td><td>2016-05-09</td><td>1</td></tr><tr><td>3</td><td>2016-07-13</td><td>1</td></tr><tr><td>3</td><td>2016-08-16</td><td>1</td></tr><tr><td>3</td><td>2016-09-08</td><td>1</td></tr><tr><td>3</td><td>2016-10-01</td><td>1</td></tr><tr><td>3</td><td>2016-10-14</td><td>1</td></tr><tr><td>3</td><td>2017-01-12</td><td>1</td></tr><tr><td>3</td><td>2017-02-16</td><td>1</td></tr><tr><td>3</td><td>Részösszeg</td><td>8</td></tr><tr><td>4</td><td>2016-05-17</td><td>1</td></tr><tr><td>4</td><td>2016-06-10</td><td>1</td></tr><tr><td>4</td><td>2016-07-02</td><td>1</td></tr><tr><td>4</td><td>2016-10-07</td><td>1</td></tr><tr><td>4</td><td>2016-10-08</td><td>1</td></tr><tr><td>4</td><td>2017-02-03</td><td>1</td></tr><tr><td>4</td><td>Részösszeg</td><td>6</td></tr><tr><td>5</td><td>2016-04-08</td><td>1</td></tr><tr><td>5</td><td>2016-06-16</td><td>1</td></tr><tr><td>5</td><td>2016-09-21</td><td>1</td></tr><tr><td>5</td><td>2016-11-07</td><td>1</td></tr><tr><td>5</td><td>Részösszeg</td><td>4</td></tr><tr><td>6</td><td>2016-04-06</td><td>1</td></tr><tr><td>6</td><td>2016-05-29</td><td>1</td></tr><tr><td>6</td><td>2016-06-27</td><td>1</td></tr><tr><td>6</td><td>2016-08-12</td><td>1</td></tr><tr><td>6</td><td>2016-09-05</td><td>1</td></tr><tr><td>6</td><td>2016-10-01</td><td>1</td></tr><tr><td>6</td><td>Részösszeg</td><td>6</td></tr><tr><td>7</td><td>2016-04-06</td><td>1</td></tr><tr><td>7</td><td>2016-08-06</td><td>1</td></tr><tr><td>7</td><td>2016-10-08</td><td>1</td></tr><tr><td>7</td><td>2016-10-21</td><td>1</td></tr><tr><td>7</td><td>2016-10-23</td><td>1</td></tr><tr><td>7</td><td>2016-11-05</td><td>1</td></tr><tr><td>7</td><td>Részösszeg</td><td>6</td></tr><tr><td>8</td><td>2016-05-30</td><td>1</td></tr><tr><td>8</td><td>2016-06-10</td><td>1</td></tr><tr><td>8</td><td>2016-07-20</td><td>1</td></tr><tr><td>8</td><td>2016-08-24</td><td>1</td></tr><tr><td>8</td><td>2016-08-28</td><td>1</td></tr><tr><td>8</td><td>Részösszeg</td><td>5</td></tr><tr><td>9</td><td>2016-04-29</td><td>1</td></tr><tr><td>9</td><td>2016-10-15</td><td>1</td></tr><tr><td>9</td><td>2016-10-30</td><td>1</td></tr><tr><td>9</td><td>2016-11-07</td><td>1</td></tr><tr><td>9</td><td>2017-01-06</td><td>1</td></tr><tr><td>9</td><td>2017-02-16</td><td>1</td></tr><tr><td>9</td><td>Részösszeg</td><td>6</td></tr><tr><td>10</td><td>2016-04-10</td><td>1</td></tr><tr><td>10</td><td>2016-08-16</td><td>1</td></tr><tr><td>10</td><td>2016-08-17</td><td>1</td></tr><tr><td>10</td><td>2016-11-25</td><td>1</td></tr><tr><td>10</td><td>Részösszeg</td><td>4</td></tr><tr><td>11</td><td>2016-06-06</td><td>1</td></tr><tr><td>11</td><td>2016-10-05</td><td>1</td></tr><tr><td>11</td><td>2016-11-01</td><td>1</td></tr><tr><td>11</td><td>2017-02-12</td><td>1</td></tr><tr><td>11</td><td>Részösszeg</td><td>4</td></tr><tr><td>12</td><td>2016-05-30</td><td>1</td></tr><tr><td>12</td><td>2016-06-11</td><td>1</td></tr><tr><td>12</td><td>2016-06-17</td><td>1</td></tr><tr><td>12</td><td>2016-07-09</td><td>1</td></tr><tr><td>12</td><td>2016-07-20</td><td>1</td></tr><tr><td>12</td><td>2016-08-13</td><td>1</td></tr><tr><td>12</td><td>2016-10-09</td><td>1</td></tr><tr><td>12</td><td>2016-10-18</td><td>1</td></tr><tr><td>12</td><td>2017-01-09</td><td>1</td></tr><tr><td>12</td><td>Részösszeg</td><td>9</td></tr><tr><td>13</td><td>2016-08-08</td><td>1</td></tr><tr><td>13</td><td>2016-09-12</td><td>1</td></tr><tr><td>13</td><td>2016-12-06</td><td>1</td></tr><tr><td>13</td><td>2017-01-23</td><td>1</td></tr><tr><td>13</td><td>Részösszeg</td><td>4</td></tr><tr><td>14</td><td>2016-05-22</td><td>1</td></tr><tr><td>14</td><td>2016-08-24</td><td>1</td></tr><tr><td>14</td><td>2017-02-16</td><td>1</td></tr><tr><td>14</td><td>Részösszeg</td><td>3</td></tr><tr><td>15</td><td>2016-07-13</td><td>1</td></tr><tr><td>15</td><td>2016-08-16</td><td>1</td></tr><tr><td>15</td><td>2016-10-08</td><td>1</td></tr><tr><td>15</td><td>2016-11-03</td><td>1</td></tr><tr><td>15</td><td>2017-01-04</td><td>1</td></tr><tr><td>15</td><td>2017-01-16</td><td>1</td></tr><tr><td>15</td><td>Részösszeg</td><td>6</td></tr><tr><td>16</td><td>2016-05-24</td><td>1</td></tr><tr><td>16</td><td>2016-06-03</td><td>1</td></tr><tr><td>16</td><td>2016-06-20</td><td>1</td></tr><tr><td>16</td><td>2016-07-18</td><td>1</td></tr><tr><td>16</td><td>2017-02-04</td><td>1</td></tr><tr><td>16</td><td>Részösszeg</td><td>5</td></tr><tr><td>17</td><td>2016-04-26</td><td>1</td></tr><tr><td>17</td><td>2016-06-06</td><td>1</td></tr><tr><td>17</td><td>2016-07-24</td><td>1</td></tr><tr><td>17</td><td>2016-08-01</td><td>1</td></tr><tr><td>17</td><td>2016-11-25</td><td>1</td></tr><tr><td>17</td><td>2017-02-18</td><td>1</td></tr><tr><td>17</td><td>Részösszeg</td><td>6</td></tr><tr><td>18</td><td>2016-05-08</td><td>1</td></tr><tr><td>18</td><td>2016-08-11</td><td>1</td></tr><tr><td>18</td><td>2016-09-07</td><td>1</td></tr><tr><td>18</td><td>2016-10-21</td><td>1</td></tr><tr><td>18</td><td>2016-10-26</td><td>1</td></tr><tr><td>18</td><td>2017-02-06</td><td>1</td></tr><tr><td>18</td><td>Részösszeg</td><td>6</td></tr><tr><td>19</td><td>2016-06-10</td><td>1</td></tr><tr><td>19</td><td>2016-07-20</td><td>1</td></tr><tr><td>19</td><td>2016-08-14</td><td>1</td></tr><tr><td>19</td><td>2016-10-09</td><td>1</td></tr><tr><td>19</td><td>2016-11-02</td><td>1</td></tr><tr><td>19</td><td>2017-02-14</td><td>1</td></tr><tr><td>19</td><td>Részösszeg</td><td>6</td></tr><tr><td>20</td><td>2016-08-04</td><td>1</td></tr><tr><td>20</td><td>2016-08-24</td><td>1</td></tr><tr><td>20</td><td>2016-09-19</td><td>1</td></tr><tr><td>20</td><td>2016-10-01</td><td>2</td></tr><tr><td>20</td><td>Részösszeg</td><td>5</td></tr><tr><td>21</td><td>2016-04-09</td><td>1</td></tr><tr><td>21</td><td>2016-05-21</td><td>1</td></tr><tr><td>21</td><td>2016-08-21</td><td>1</td></tr><tr><td>21</td><td>2016-10-28</td><td>1</td></tr><tr><td>21</td><td>Részösszeg</td><td>4</td></tr><tr><td>22</td><td>2016-06-04</td><td>1</td></tr><tr><td>22</td><td>2016-07-03</td><td>1</td></tr><tr><td>22</td><td>2016-10-08</td><td>1</td></tr><tr><td>22</td><td>2016-10-26</td><td>1</td></tr><tr><td>22</td><td>2016-10-27</td><td>1</td></tr><tr><td>22</td><td>2016-11-17</td><td>1</td></tr><tr><td>22</td><td>Részösszeg</td><td>6</td></tr><tr><td>23</td><td>2016-06-08</td><td>1</td></tr><tr><td>23</td><td>2016-06-10</td><td>1</td></tr><tr><td>23</td><td>2016-09-04</td><td>1</td></tr><tr><td>23</td><td>Részösszeg</td><td>3</td></tr><tr><td>24</td><td>2016-05-23</td><td>1</td></tr><tr><td>24</td><td>2016-10-19</td><td>1</td></tr><tr><td>24</td><td>2017-01-03</td><td>1</td></tr><tr><td>24</td><td>Részösszeg</td><td>3</td></tr><tr><td>25</td><td>2016-09-14</td><td>1</td></tr><tr><td>25</td><td>2016-12-14</td><td>1</td></tr><tr><td>25</td><td>Részösszeg</td><td>2</td></tr><tr><td>26</td><td>2016-10-16</td><td>1</td></tr><tr><td>26</td><td>2016-12-24</td><td>1</td></tr><tr><td>26</td><td>Részösszeg</td><td>2</td></tr><tr><td>27</td><td>2016-08-05</td><td>1</td></tr><tr><td>27</td><td>2016-08-22</td><td>1</td></tr><tr><td>27</td><td>2016-09-05</td><td>1</td></tr><tr><td>27</td><td>2016-09-26</td><td>1</td></tr><tr><td>27</td><td>2016-11-11</td><td>1</td></tr><tr><td>27</td><td>2016-12-18</td><td>1</td></tr><tr><td>27</td><td>2017-01-27</td><td>1</td></tr><tr><td>27</td><td>Részösszeg</td><td>7</td></tr><tr><td>28</td><td>2016-05-29</td><td>1</td></tr><tr><td>28</td><td>2016-06-01</td><td>1</td></tr><tr><td>28</td><td>2016-06-04</td><td>1</td></tr><tr><td>28</td><td>2016-07-27</td><td>1</td></tr><tr><td>28</td><td>2016-10-13</td><td>1</td></tr><tr><td>28</td><td>2017-01-20</td><td>1</td></tr><tr><td>28</td><td>Részösszeg</td><td>6</td></tr><tr><td>29</td><td>2016-05-01</td><td>1</td></tr><tr><td>29</td><td>2016-06-03</td><td>1</td></tr><tr><td>29</td><td>2016-09-23</td><td>1</td></tr><tr><td>29</td><td>2016-10-23</td><td>1</td></tr><tr><td>29</td><td>2016-11-01</td><td>1</td></tr><tr><td>29</td><td>2017-02-24</td><td>1</td></tr><tr><td>29</td><td>Részösszeg</td><td>6</td></tr><tr><td>30</td><td>2016-04-27</td><td>1</td></tr><tr><td>30</td><td>2016-07-10</td><td>1</td></tr><tr><td>30</td><td>2016-10-09</td><td>1</td></tr><tr><td>30</td><td>Részösszeg</td><td>3</td></tr><tr><td>31</td><td>2016-04-24</td><td>1</td></tr><tr><td>31</td><td>2016-04-27</td><td>1</td></tr><tr><td>31</td><td>2016-07-27</td><td>1</td></tr><tr><td>31</td><td>Részösszeg</td><td>3</td></tr><tr><td>32</td><td>2016-06-06</td><td>1</td></tr><tr><td>32</td><td>Részösszeg</td><td>1</td></tr><tr><td>33</td><td>2016-05-08</td><td>1</td></tr><tr><td>33</td><td>2016-07-05</td><td>1</td></tr><tr><td>33</td><td>2016-09-15</td><td>1</td></tr><tr><td>33</td><td>2016-11-25</td><td>1</td></tr><tr><td>33</td><td>2016-12-05</td><td>1</td></tr><tr><td>33</td><td>2016-12-21</td><td>1</td></tr><tr><td>33</td><td>Részösszeg</td><td>6</td></tr><tr><td>34</td><td>2016-05-28</td><td>1</td></tr><tr><td>34</td><td>2016-06-04</td><td>1</td></tr><tr><td>34</td><td>2016-08-14</td><td>1</td></tr><tr><td>34</td><td>2016-08-24</td><td>1</td></tr><tr><td>34</td><td>Részösszeg</td><td>4</td></tr><tr><td>35</td><td>2016-06-18</td><td>1</td></tr><tr><td>35</td><td>2016-06-22</td><td>1</td></tr><tr><td>35</td><td>2016-07-18</td><td>1</td></tr><tr><td>35</td><td>2016-07-23</td><td>1</td></tr><tr><td>35</td><td>2016-08-28</td><td>1</td></tr><tr><td>35</td><td>2016-12-29</td><td>1</td></tr><tr><td>35</td><td>2017-01-01</td><td>1</td></tr><tr><td>35</td><td>2017-01-13</td><td>1</td></tr><tr><td>35</td><td>2017-02-13</td><td>1</td></tr><tr><td>35</td><td>Részösszeg</td><td>9</td></tr><tr><td>36</td><td>2016-06-03</td><td>1</td></tr><tr><td>36</td><td>2016-06-06</td><td>1</td></tr><tr><td>36</td><td>2016-06-24</td><td>1</td></tr><tr><td>36</td><td>2016-07-03</td><td>1</td></tr><tr><td>36</td><td>2016-08-02</td><td>1</td></tr><tr><td>36</td><td>2016-08-03</td><td>1</td></tr><tr><td>36</td><td>Részösszeg</td><td>6</td></tr><tr><td>37</td><td>2016-07-19</td><td>1</td></tr><tr><td>37</td><td>2016-07-22</td><td>1</td></tr><tr><td>37</td><td>2016-12-01</td><td>1</td></tr><tr><td>37</td><td>Részösszeg</td><td>3</td></tr><tr><td>38</td><td>2016-05-08</td><td>1</td></tr><tr><td>38</td><td>2016-09-05</td><td>1</td></tr><tr><td>38</td><td>2016-09-17</td><td>1</td></tr><tr><td>38</td><td>2016-09-23</td><td>1</td></tr><tr><td>38</td><td>2016-12-06</td><td>1</td></tr><tr><td>38</td><td>2017-01-03</td><td>1</td></tr><tr><td>38</td><td>2017-01-28</td><td>1</td></tr><tr><td>38</td><td>2017-02-21</td><td>1</td></tr><tr><td>38</td><td>Részösszeg</td><td>8</td></tr><tr><td>39</td><td>2016-04-25</td><td>1</td></tr><tr><td>39</td><td>2016-06-03</td><td>1</td></tr><tr><td>39</td><td>2016-10-29</td><td>1</td></tr><tr><td>39</td><td>2016-12-20</td><td>1</td></tr><tr><td>39</td><td>2017-01-12</td><td>1</td></tr><tr><td>39</td><td>2017-01-18</td><td>1</td></tr><tr><td>39</td><td>2017-02-16</td><td>1</td></tr><tr><td>39</td><td>Részösszeg</td><td>7</td></tr><tr><td>40</td><td>2016-06-07</td><td>2</td></tr><tr><td>40</td><td>2016-07-08</td><td>1</td></tr><tr><td>40</td><td>2016-10-03</td><td>1</td></tr><tr><td>40</td><td>Részösszeg</td><td>4</td></tr><tr><td>41</td><td>2016-06-15</td><td>1</td></tr><tr><td>41</td><td>2016-10-09</td><td>1</td></tr><tr><td>41</td><td>Részösszeg</td><td>2</td></tr><tr><td>42</td><td>2016-04-06</td><td>1</td></tr><tr><td>42</td><td>2016-04-19</td><td>1</td></tr><tr><td>42</td><td>2016-05-22</td><td>1</td></tr><tr><td>42</td><td>2016-08-12</td><td>1</td></tr><tr><td>42</td><td>2016-11-23</td><td>1</td></tr><tr><td>42</td><td>2017-01-16</td><td>1</td></tr><tr><td>42</td><td>Részösszeg</td><td>6</td></tr><tr><td>43</td><td>2016-07-08</td><td>1</td></tr><tr><td>43</td><td>2016-07-14</td><td>1</td></tr><tr><td>43</td><td>2016-09-29</td><td>1</td></tr><tr><td>43</td><td>2016-10-27</td><td>1</td></tr><tr><td>43</td><td>2016-10-30</td><td>1</td></tr><tr><td>43</td><td>2016-11-10</td><td>1</td></tr><tr><td>43</td><td>2017-02-12</td><td>1</td></tr><tr><td>43</td><td>2017-02-20</td><td>1</td></tr><tr><td>43</td><td>Részösszeg</td><td>8</td></tr><tr><td>44</td><td>2016-04-19</td><td>1</td></tr><tr><td>44</td><td>2016-05-21</td><td>1</td></tr><tr><td>44</td><td>2016-08-25</td><td>1</td></tr><tr><td>44</td><td>2016-11-19</td><td>1</td></tr><tr><td>44</td><td>2017-01-08</td><td>1</td></tr><tr><td>44</td><td>2017-02-20</td><td>1</td></tr><tr><td>44</td><td>Részösszeg</td><td>6</td></tr><tr><td>45</td><td>2016-08-20</td><td>2</td></tr><tr><td>45</td><td>2016-09-02</td><td>1</td></tr><tr><td>45</td><td>2016-10-09</td><td>1</td></tr><tr><td>45</td><td>2016-11-22</td><td>1</td></tr><tr><td>45</td><td>Részösszeg</td><td>5</td></tr><tr><td>46</td><td>2016-08-03</td><td>1</td></tr><tr><td>46</td><td>2016-10-23</td><td>1</td></tr><tr><td>46</td><td>2016-11-19</td><td>1</td></tr><tr><td>46</td><td>2017-02-10</td><td>1</td></tr><tr><td>46</td><td>Részösszeg</td><td>4</td></tr><tr><td>47</td><td>2016-06-13</td><td>1</td></tr><tr><td>47</td><td>2016-09-16</td><td>1</td></tr><tr><td>47</td><td>Részösszeg</td><td>2</td></tr><tr><td>48</td><td>2016-04-26</td><td>1</td></tr><tr><td>48</td><td>2016-05-09</td><td>1</td></tr><tr><td>48</td><td>2016-06-06</td><td>1</td></tr><tr><td>48</td><td>2016-06-25</td><td>1</td></tr><tr><td>48</td><td>2016-08-25</td><td>1</td></tr><tr><td>48</td><td>2016-11-03</td><td>1</td></tr><tr><td>48</td><td>2017-02-17</td><td>1</td></tr><tr><td>48</td><td>2017-02-18</td><td>1</td></tr><tr><td>48</td><td>2017-03-01</td><td>1</td></tr><tr><td>48</td><td>Részösszeg</td><td>9</td></tr><tr><td>49</td><td>2016-06-02</td><td>1</td></tr><tr><td>49</td><td>2016-08-17</td><td>1</td></tr><tr><td>49</td><td>2016-08-26</td><td>1</td></tr><tr><td>49</td><td>2016-09-18</td><td>1</td></tr><tr><td>49</td><td>2016-10-26</td><td>1</td></tr><tr><td>49</td><td>2016-10-30</td><td>1</td></tr><tr><td>49</td><td>2017-02-16</td><td>1</td></tr><tr><td>49</td><td>Részösszeg</td><td>7</td></tr><tr><td>50</td><td>2016-08-16</td><td>1</td></tr><tr><td>50</td><td>2016-09-18</td><td>1</td></tr><tr><td>50</td><td>2016-10-30</td><td>1</td></tr><tr><td>50</td><td>2016-11-10</td><td>1</td></tr><tr><td>50</td><td>Részösszeg</td><td>4</td></tr><tr><td>51</td><td>2016-05-28</td><td>1</td></tr><tr><td>51</td><td>2016-08-23</td><td>1</td></tr><tr><td>51</td><td>2016-10-19</td><td>1</td></tr><tr><td>51</td><td>2017-01-28</td><td>1</td></tr><tr><td>51</td><td>2017-02-18</td><td>1</td></tr><tr><td>51</td><td>Részösszeg</td><td>5</td></tr><tr><td>52</td><td>2016-08-24</td><td>1</td></tr><tr><td>52</td><td>2016-10-26</td><td>1</td></tr><tr><td>52</td><td>2016-11-07</td><td>1</td></tr><tr><td>52</td><td>2017-01-10</td><td>1</td></tr><tr><td>52</td><td>2017-02-14</td><td>1</td></tr><tr><td>52</td><td>Részösszeg</td><td>5</td></tr><tr><td>53</td><td>2016-05-24</td><td>1</td></tr><tr><td>53</td><td>2016-06-26</td><td>1</td></tr><tr><td>53</td><td>Részösszeg</td><td>2</td></tr><tr><td>54</td><td>2016-05-07</td><td>1</td></tr><tr><td>54</td><td>2016-05-13</td><td>1</td></tr><tr><td>54</td><td>2016-06-02</td><td>1</td></tr><tr><td>54</td><td>2016-07-14</td><td>1</td></tr><tr><td>54</td><td>2016-09-30</td><td>1</td></tr><tr><td>54</td><td>2016-11-28</td><td>1</td></tr><tr><td>54</td><td>Részösszeg</td><td>6</td></tr><tr><td>55</td><td>2016-07-28</td><td>1</td></tr><tr><td>55</td><td>2016-09-28</td><td>1</td></tr><tr><td>55</td><td>2016-10-17</td><td>1</td></tr><tr><td>55</td><td>2016-10-30</td><td>1</td></tr><tr><td>55</td><td>2016-11-28</td><td>1</td></tr><tr><td>55</td><td>2016-12-24</td><td>1</td></tr><tr><td>55</td><td>2017-02-08</td><td>1</td></tr><tr><td>55</td><td>2017-02-12</td><td>1</td></tr><tr><td>55</td><td>Részösszeg</td><td>8</td></tr><tr><td>56</td><td>2016-06-08</td><td>1</td></tr><tr><td>56</td><td>2016-08-29</td><td>1</td></tr><tr><td>56</td><td>Részösszeg</td><td>2</td></tr><tr><td>57</td><td>2016-12-06</td><td>1</td></tr><tr><td>57</td><td>2016-12-25</td><td>1</td></tr><tr><td>57</td><td>2017-01-22</td><td>1</td></tr><tr><td>57</td><td>2017-02-06</td><td>1</td></tr><tr><td>57</td><td>Részösszeg</td><td>4</td></tr><tr><td>58</td><td>2016-05-30</td><td>1</td></tr><tr><td>58</td><td>2016-07-27</td><td>1</td></tr><tr><td>58</td><td>2016-08-12</td><td>1</td></tr><tr><td>58</td><td>2016-10-01</td><td>1</td></tr><tr><td>58</td><td>2016-10-23</td><td>1</td></tr><tr><td>58</td><td>2016-10-28</td><td>1</td></tr><tr><td>58</td><td>2016-11-06</td><td>1</td></tr><tr><td>58</td><td>2016-11-07</td><td>1</td></tr><tr><td>58</td><td>2016-11-16</td><td>1</td></tr><tr><td>58</td><td>2016-11-19</td><td>1</td></tr><tr><td>58</td><td>2016-11-23</td><td>1</td></tr><tr><td>58</td><td>2016-11-26</td><td>1</td></tr><tr><td>58</td><td>2017-01-17</td><td>1</td></tr><tr><td>58</td><td>Részösszeg</td><td>13</td></tr><tr><td>59</td><td>2016-09-25</td><td>1</td></tr><tr><td>59</td><td>2016-09-28</td><td>1</td></tr><tr><td>59</td><td>2016-10-20</td><td>1</td></tr><tr><td>59</td><td>2016-10-25</td><td>1</td></tr><tr><td>59</td><td>2016-11-03</td><td>1</td></tr><tr><td>59</td><td>2016-11-17</td><td>1</td></tr><tr><td>59</td><td>2017-02-26</td><td>1</td></tr><tr><td>59</td><td>Részösszeg</td><td>7</td></tr><tr><td>60</td><td>2016-07-16</td><td>1</td></tr><tr><td>60</td><td>Részösszeg</td><td>1</td></tr><tr><td>61</td><td>2016-07-21</td><td>1</td></tr><tr><td>61</td><td>2016-08-05</td><td>1</td></tr><tr><td>61</td><td>2016-10-11</td><td>1</td></tr><tr><td>61</td><td>2016-10-29</td><td>1</td></tr><tr><td>61</td><td>2017-02-04</td><td>1</td></tr><tr><td>61</td><td>Részösszeg</td><td>5</td></tr><tr><td>62</td><td>2016-06-08</td><td>1</td></tr><tr><td>62</td><td>2016-06-09</td><td>1</td></tr><tr><td>62</td><td>2016-07-21</td><td>1</td></tr><tr><td>62</td><td>2016-09-26</td><td>1</td></tr><tr><td>62</td><td>2017-01-09</td><td>1</td></tr><tr><td>62</td><td>Részösszeg</td><td>5</td></tr><tr><td>63</td><td>2016-05-08</td><td>1</td></tr><tr><td>63</td><td>2016-06-02</td><td>1</td></tr><tr><td>63</td><td>2016-08-12</td><td>1</td></tr><tr><td>63</td><td>2016-09-02</td><td>1</td></tr><tr><td>63</td><td>Részösszeg</td><td>4</td></tr><tr><td>64</td><td>2016-05-30</td><td>1</td></tr><tr><td>64</td><td>2016-10-05</td><td>1</td></tr><tr><td>64</td><td>2016-10-31</td><td>1</td></tr><tr><td>64</td><td>2017-01-16</td><td>1</td></tr><tr><td>64</td><td>2017-01-22</td><td>1</td></tr><tr><td>64</td><td>2017-03-02</td><td>1</td></tr><tr><td>64</td><td>Részösszeg</td><td>6</td></tr><tr><td>65</td><td>2016-05-17</td><td>1</td></tr><tr><td>65</td><td>Részösszeg</td><td>1</td></tr><tr><td>66</td><td>2016-06-10</td><td>1</td></tr><tr><td>66</td><td>2016-07-29</td><td>1</td></tr><tr><td>66</td><td>2016-11-01</td><td>1</td></tr><tr><td>66</td><td>2016-11-08</td><td>1</td></tr><tr><td>66</td><td>Részösszeg</td><td>4</td></tr><tr><td>67</td><td>2016-05-12</td><td>1</td></tr><tr><td>67</td><td>2016-05-14</td><td>1</td></tr><tr><td>67</td><td>2016-05-30</td><td>1</td></tr><tr><td>67</td><td>2016-12-22</td><td>1</td></tr><tr><td>67</td><td>2017-03-01</td><td>1</td></tr><tr><td>67</td><td>2017-03-03</td><td>1</td></tr><tr><td>67</td><td>Részösszeg</td><td>6</td></tr><tr><td>68</td><td>2016-04-07</td><td>1</td></tr><tr><td>68</td><td>2016-07-12</td><td>1</td></tr><tr><td>68</td><td>2016-11-27</td><td>1</td></tr><tr><td>68</td><td>Részösszeg</td><td>3</td></tr><tr><td>69</td><td>2016-05-31</td><td>1</td></tr><tr><td>69</td><td>2016-09-15</td><td>1</td></tr><tr><td>69</td><td>2016-10-30</td><td>1</td></tr><tr><td>69</td><td>2016-11-05</td><td>1</td></tr><tr><td>69</td><td>Részösszeg</td><td>4</td></tr><tr><td>70</td><td>2016-04-17</td><td>1</td></tr><tr><td>70</td><td>2016-05-27</td><td>1</td></tr><tr><td>70</td><td>2016-07-03</td><td>1</td></tr><tr><td>70</td><td>2016-07-22</td><td>1</td></tr><tr><td>70</td><td>2016-08-24</td><td>1</td></tr><tr><td>70</td><td>2016-09-30</td><td>1</td></tr><tr><td>70</td><td>2016-10-07</td><td>1</td></tr><tr><td>70</td><td>2016-11-27</td><td>1</td></tr><tr><td>70</td><td>2016-11-30</td><td>1</td></tr><tr><td>70</td><td>2016-12-15</td><td>1</td></tr><tr><td>70</td><td>2017-01-19</td><td>1</td></tr><tr><td>70</td><td>Részösszeg</td><td>11</td></tr><tr><td>71</td><td>2016-07-04</td><td>1</td></tr><tr><td>71</td><td>2016-07-18</td><td>1</td></tr><tr><td>71</td><td>2016-07-24</td><td>1</td></tr><tr><td>71</td><td>Részösszeg</td><td>3</td></tr><tr><td>72</td><td>2016-06-04</td><td>1</td></tr><tr><td>72</td><td>2016-06-16</td><td>1</td></tr><tr><td>72</td><td>2016-11-25</td><td>1</td></tr><tr><td>72</td><td>2016-12-25</td><td>1</td></tr><tr><td>72</td><td>Részösszeg</td><td>4</td></tr><tr><td>73</td><td>2016-07-01</td><td>1</td></tr><tr><td>73</td><td>2016-07-25</td><td>1</td></tr><tr><td>73</td><td>2016-10-16</td><td>1</td></tr><tr><td>73</td><td>2016-11-29</td><td>1</td></tr><tr><td>73</td><td>Részösszeg</td><td>4</td></tr><tr><td>74</td><td>2016-04-22</td><td>1</td></tr><tr><td>74</td><td>2016-05-30</td><td>1</td></tr><tr><td>74</td><td>2016-06-09</td><td>1</td></tr><tr><td>74</td><td>2016-06-16</td><td>1</td></tr><tr><td>74</td><td>2016-08-18</td><td>1</td></tr><tr><td>74</td><td>2016-08-28</td><td>1</td></tr><tr><td>74</td><td>2016-09-03</td><td>1</td></tr><tr><td>74</td><td>2016-09-30</td><td>1</td></tr><tr><td>74</td><td>2016-10-22</td><td>1</td></tr><tr><td>74</td><td>Részösszeg</td><td>9</td></tr><tr><td>75</td><td>2016-07-06</td><td>1</td></tr><tr><td>75</td><td>2017-01-01</td><td>1</td></tr><tr><td>75</td><td>2017-01-19</td><td>1</td></tr><tr><td>75</td><td>Részösszeg</td><td>3</td></tr><tr><td>76</td><td>2016-06-22</td><td>1</td></tr><tr><td>76</td><td>2016-07-18</td><td>1</td></tr><tr><td>76</td><td>2017-02-21</td><td>1</td></tr><tr><td>76</td><td>Részösszeg</td><td>3</td></tr><tr><td>77</td><td>2016-04-21</td><td>1</td></tr><tr><td>77</td><td>2016-06-23</td><td>1</td></tr><tr><td>77</td><td>2016-07-20</td><td>1</td></tr><tr><td>77</td><td>2016-10-01</td><td>1</td></tr><tr><td>77</td><td>2017-01-15</td><td>1</td></tr><tr><td>77</td><td>2017-01-22</td><td>1</td></tr><tr><td>77</td><td>Részösszeg</td><td>6</td></tr><tr><td>78</td><td>2016-04-10</td><td>1</td></tr><tr><td>78</td><td>2016-05-14</td><td>1</td></tr><tr><td>78</td><td>2016-07-20</td><td>1</td></tr><tr><td>78</td><td>2016-11-09</td><td>1</td></tr><tr><td>78</td><td>2016-11-15</td><td>1</td></tr><tr><td>78</td><td>2017-02-27</td><td>1</td></tr><tr><td>78</td><td>Részösszeg</td><td>6</td></tr><tr><td>79</td><td>2016-04-16</td><td>1</td></tr><tr><td>79</td><td>2016-09-15</td><td>1</td></tr><tr><td>79</td><td>2016-10-30</td><td>1</td></tr><tr><td>79</td><td>2016-12-05</td><td>1</td></tr><tr><td>79</td><td>2017-01-16</td><td>1</td></tr><tr><td>79</td><td>Részösszeg</td><td>5</td></tr><tr><td>80</td><td>2016-06-01</td><td>1</td></tr><tr><td>80</td><td>2016-06-07</td><td>1</td></tr><tr><td>80</td><td>2016-06-23</td><td>1</td></tr><tr><td>80</td><td>2016-07-13</td><td>1</td></tr><tr><td>80</td><td>2016-09-20</td><td>1</td></tr><tr><td>80</td><td>2016-11-14</td><td>1</td></tr><tr><td>80</td><td>2016-12-17</td><td>1</td></tr><tr><td>80</td><td>Részösszeg</td><td>7</td></tr><tr><td>81</td><td>2016-12-16</td><td>1</td></tr><tr><td>81</td><td>2017-01-16</td><td>1</td></tr><tr><td>81</td><td>2017-01-22</td><td>1</td></tr><tr><td>81</td><td>2017-02-06</td><td>1</td></tr><tr><td>81</td><td>2017-02-23</td><td>1</td></tr><tr><td>81</td><td>Részösszeg</td><td>5</td></tr><tr><td>82</td><td>2016-05-27</td><td>1</td></tr><tr><td>82</td><td>2016-05-29</td><td>1</td></tr><tr><td>82</td><td>2016-07-01</td><td>1</td></tr><tr><td>82</td><td>2016-11-12</td><td>1</td></tr><tr><td>82</td><td>2016-12-04</td><td>1</td></tr><tr><td>82</td><td>2016-12-29</td><td>1</td></tr><tr><td>82</td><td>Részösszeg</td><td>6</td></tr><tr><td>83</td><td>2016-04-10</td><td>1</td></tr><tr><td>83</td><td>2016-05-28</td><td>1</td></tr><tr><td>83</td><td>2016-05-30</td><td>1</td></tr><tr><td>83</td><td>2016-06-30</td><td>1</td></tr><tr><td>83</td><td>2016-07-15</td><td>1</td></tr><tr><td>83</td><td>2016-08-18</td><td>1</td></tr><tr><td>83</td><td>2016-10-04</td><td>1</td></tr><tr><td>83</td><td>2016-12-19</td><td>1</td></tr><tr><td>83</td><td>Részösszeg</td><td>8</td></tr><tr><td>84</td><td>2016-06-13</td><td>1</td></tr><tr><td>84</td><td>2016-08-24</td><td>1</td></tr><tr><td>84</td><td>2016-12-17</td><td>1</td></tr><tr><td>84</td><td>2016-12-22</td><td>1</td></tr><tr><td>84</td><td>Részösszeg</td><td>4</td></tr><tr><td>85</td><td>2016-05-15</td><td>1</td></tr><tr><td>85</td><td>2016-09-17</td><td>1</td></tr><tr><td>85</td><td>2016-11-25</td><td>1</td></tr><tr><td>85</td><td>2017-02-09</td><td>1</td></tr><tr><td>85</td><td>Részösszeg</td><td>4</td></tr><tr><td>86</td><td>2016-05-26</td><td>1</td></tr><tr><td>86</td><td>2016-09-16</td><td>1</td></tr><tr><td>86</td><td>2016-09-24</td><td>1</td></tr><tr><td>86</td><td>2016-10-01</td><td>1</td></tr><tr><td>86</td><td>2017-01-17</td><td>1</td></tr><tr><td>86</td><td>Részösszeg</td><td>5</td></tr><tr><td>87</td><td>2016-04-06</td><td>1</td></tr><tr><td>87</td><td>2016-09-02</td><td>1</td></tr><tr><td>87</td><td>2016-10-01</td><td>1</td></tr><tr><td>87</td><td>2016-12-06</td><td>1</td></tr><tr><td>87</td><td>2017-01-19</td><td>1</td></tr><tr><td>87</td><td>Részösszeg</td><td>5</td></tr><tr><td>88</td><td>2016-05-28</td><td>1</td></tr><tr><td>88</td><td>2016-08-05</td><td>1</td></tr><tr><td>88</td><td>2016-10-26</td><td>1</td></tr><tr><td>88</td><td>2016-11-10</td><td>1</td></tr><tr><td>88</td><td>2016-11-21</td><td>1</td></tr><tr><td>88</td><td>2016-12-12</td><td>1</td></tr><tr><td>88</td><td>2017-02-18</td><td>1</td></tr><tr><td>88</td><td>2017-02-26</td><td>1</td></tr><tr><td>88</td><td>Részösszeg</td><td>8</td></tr><tr><td>89</td><td>2016-08-24</td><td>1</td></tr><tr><td>89</td><td>2016-09-08</td><td>1</td></tr><tr><td>89</td><td>2016-10-01</td><td>1</td></tr><tr><td>89</td><td>2016-10-24</td><td>1</td></tr><tr><td>89</td><td>2016-11-05</td><td>1</td></tr><tr><td>89</td><td>2016-11-09</td><td>1</td></tr><tr><td>89</td><td>2016-12-26</td><td>1</td></tr><tr><td>89</td><td>2017-02-12</td><td>1</td></tr><tr><td>89</td><td>Részösszeg</td><td>8</td></tr><tr><td>90</td><td>2016-07-28</td><td>1</td></tr><tr><td>90</td><td>2016-10-21</td><td>1</td></tr><tr><td>90</td><td>2016-11-21</td><td>1</td></tr><tr><td>90</td><td>2016-12-29</td><td>1</td></tr><tr><td>90</td><td>Részösszeg</td><td>4</td></tr><tr><td>91</td><td>2016-05-10</td><td>1</td></tr><tr><td>91</td><td>2016-07-28</td><td>1</td></tr><tr><td>91</td><td>2016-10-28</td><td>1</td></tr><tr><td>91</td><td>2016-12-25</td><td>1</td></tr><tr><td>91</td><td>Részösszeg</td><td>4</td></tr><tr><td>92</td><td>2016-06-10</td><td>1</td></tr><tr><td>92</td><td>2016-07-07</td><td>1</td></tr><tr><td>92</td><td>2016-08-23</td><td>1</td></tr><tr><td>92</td><td>2016-08-31</td><td>1</td></tr><tr><td>92</td><td>2017-02-13</td><td>1</td></tr><tr><td>92</td><td>2017-02-20</td><td>1</td></tr><tr><td>92</td><td>Részösszeg</td><td>6</td></tr><tr><td>93</td><td>2016-07-30</td><td>1</td></tr><tr><td>93</td><td>2016-10-20</td><td>1</td></tr><tr><td>93</td><td>2016-10-29</td><td>1</td></tr><tr><td>93</td><td>2016-12-08</td><td>1</td></tr><tr><td>93</td><td>2016-12-25</td><td>1</td></tr><tr><td>93</td><td>Részösszeg</td><td>5</td></tr><tr><td>94</td><td>2016-05-02</td><td>1</td></tr><tr><td>94</td><td>2016-06-21</td><td>1</td></tr><tr><td>94</td><td>2016-07-13</td><td>1</td></tr><tr><td>94</td><td>2016-07-27</td><td>1</td></tr><tr><td>94</td><td>2016-11-03</td><td>1</td></tr><tr><td>94</td><td>2016-11-22</td><td>1</td></tr><tr><td>94</td><td>2016-11-23</td><td>1</td></tr><tr><td>94</td><td>2016-12-17</td><td>1</td></tr><tr><td>94</td><td>2017-02-12</td><td>1</td></tr><tr><td>94</td><td>2017-02-23</td><td>1</td></tr><tr><td>94</td><td>Részösszeg</td><td>10</td></tr><tr><td>95</td><td>2016-05-19</td><td>1</td></tr><tr><td>95</td><td>2016-09-13</td><td>1</td></tr><tr><td>95</td><td>2016-10-01</td><td>1</td></tr><tr><td>95</td><td>2017-02-16</td><td>1</td></tr><tr><td>95</td><td>Részösszeg</td><td>4</td></tr><tr><td>96</td><td>2016-04-28</td><td>1</td></tr><tr><td>96</td><td>2016-05-08</td><td>1</td></tr><tr><td>96</td><td>2016-07-14</td><td>1</td></tr><tr><td>96</td><td>2016-08-15</td><td>1</td></tr><tr><td>96</td><td>2016-12-18</td><td>1</td></tr><tr><td>96</td><td>2017-01-14</td><td>1</td></tr><tr><td>96</td><td>2017-02-24</td><td>1</td></tr><tr><td>96</td><td>Részösszeg</td><td>7</td></tr><tr><td>97</td><td>2016-05-10</td><td>1</td></tr><tr><td>97</td><td>2016-07-27</td><td>2</td></tr><tr><td>97</td><td>2016-08-29</td><td>1</td></tr><tr><td>97</td><td>2016-12-25</td><td>1</td></tr><tr><td>97</td><td>2017-01-03</td><td>1</td></tr><tr><td>97</td><td>2017-02-13</td><td>1</td></tr><tr><td>97</td><td>Részösszeg</td><td>7</td></tr><tr><td>98</td><td>2016-05-09</td><td>1</td></tr><tr><td>98</td><td>2016-05-30</td><td>1</td></tr><tr><td>98</td><td>2016-09-13</td><td>1</td></tr><tr><td>98</td><td>2016-12-28</td><td>1</td></tr><tr><td>98</td><td>Részösszeg</td><td>4</td></tr><tr><td>99</td><td>2016-05-09</td><td>1</td></tr><tr><td>99</td><td>2016-07-20</td><td>1</td></tr><tr><td>99</td><td>2016-09-20</td><td>1</td></tr><tr><td>99</td><td>2016-12-31</td><td>1</td></tr><tr><td>99</td><td>2017-01-31</td><td>1</td></tr><tr><td>99</td><td>Részösszeg</td><td>5</td></tr><tr><td>100</td><td>2016-04-23</td><td>1</td></tr><tr><td>100</td><td>2016-05-11</td><td>1</td></tr><tr><td>100</td><td>2016-11-24</td><td>1</td></tr><tr><td>100</td><td>2017-01-29</td><td>1</td></tr><tr><td>100</td><td>Részösszeg</td><td>4</td></tr><tr><td>101</td><td>2016-07-25</td><td>1</td></tr><tr><td>101</td><td>2016-11-29</td><td>1</td></tr><tr><td>101</td><td>2017-02-10</td><td>1</td></tr><tr><td>101</td><td>Részösszeg</td><td>3</td></tr><tr><td>102</td><td>2016-07-19</td><td>1</td></tr><tr><td>102</td><td>2016-12-05</td><td>1</td></tr><tr><td>102</td><td>Részösszeg</td><td>2</td></tr><tr><td>103</td><td>2016-06-19</td><td>1</td></tr><tr><td>103</td><td>2016-06-29</td><td>1</td></tr><tr><td>103</td><td>2016-12-26</td><td>1</td></tr><tr><td>103</td><td>2017-01-30</td><td>1</td></tr><tr><td>103</td><td>Részösszeg</td><td>4</td></tr><tr><td>104</td><td>2016-08-29</td><td>1</td></tr><tr><td>104</td><td>2016-10-22</td><td>1</td></tr><tr><td>104</td><td>2017-02-12</td><td>1</td></tr><tr><td>104</td><td>2017-02-14</td><td>1</td></tr><tr><td>104</td><td>Részösszeg</td><td>4</td></tr><tr><td>105</td><td>2016-05-03</td><td>1</td></tr><tr><td>105</td><td>2017-02-12</td><td>1</td></tr><tr><td>105</td><td>Részösszeg</td><td>2</td></tr><tr><td>106</td><td>2016-04-30</td><td>1</td></tr><tr><td>106</td><td>2016-07-23</td><td>1</td></tr><tr><td>106</td><td>2016-10-30</td><td>1</td></tr><tr><td>106</td><td>2016-11-10</td><td>1</td></tr><tr><td>106</td><td>2016-12-17</td><td>1</td></tr><tr><td>106</td><td>2017-02-08</td><td>1</td></tr><tr><td>106</td><td>Részösszeg</td><td>6</td></tr><tr><td>107</td><td>2016-04-18</td><td>1</td></tr><tr><td>107</td><td>2016-11-05</td><td>1</td></tr><tr><td>107</td><td>2016-12-07</td><td>1</td></tr><tr><td>107</td><td>2017-01-17</td><td>1</td></tr><tr><td>107</td><td>2017-02-04</td><td>1</td></tr><tr><td>107</td><td>Részösszeg</td><td>5</td></tr><tr><td>108</td><td>2016-10-01</td><td>1</td></tr><tr><td>108</td><td>2016-12-25</td><td>1</td></tr><tr><td>108</td><td>Részösszeg</td><td>2</td></tr><tr><td>109</td><td>2016-05-01</td><td>1</td></tr><tr><td>109</td><td>2016-05-06</td><td>1</td></tr><tr><td>109</td><td>2016-05-18</td><td>1</td></tr><tr><td>109</td><td>2016-08-23</td><td>1</td></tr><tr><td>109</td><td>2016-09-27</td><td>1</td></tr><tr><td>109</td><td>2016-11-20</td><td>1</td></tr><tr><td>109</td><td>2017-02-23</td><td>1</td></tr><tr><td>109</td><td>Részösszeg</td><td>7</td></tr><tr><td>110</td><td>2016-06-07</td><td>1</td></tr><tr><td>110</td><td>2016-06-16</td><td>1</td></tr><tr><td>110</td><td>2016-07-18</td><td>1</td></tr><tr><td>110</td><td>2016-09-10</td><td>1</td></tr><tr><td>110</td><td>2016-10-01</td><td>1</td></tr><tr><td>110</td><td>2016-10-17</td><td>1</td></tr><tr><td>110</td><td>2017-01-07</td><td>1</td></tr><tr><td>110</td><td>2017-02-02</td><td>1</td></tr><tr><td>110</td><td>Részösszeg</td><td>8</td></tr><tr><td>111</td><td>2016-04-27</td><td>1</td></tr><tr><td>111</td><td>2016-06-14</td><td>1</td></tr><tr><td>111</td><td>2016-08-16</td><td>1</td></tr><tr><td>111</td><td>2016-11-19</td><td>1</td></tr><tr><td>111</td><td>2016-12-07</td><td>1</td></tr><tr><td>111</td><td>Részösszeg</td><td>5</td></tr><tr><td>112</td><td>2016-06-06</td><td>1</td></tr><tr><td>112</td><td>2016-08-14</td><td>1</td></tr><tr><td>112</td><td>2016-08-20</td><td>1</td></tr><tr><td>112</td><td>2016-10-06</td><td>1</td></tr><tr><td>112</td><td>2017-02-13</td><td>1</td></tr><tr><td>112</td><td>Részösszeg</td><td>5</td></tr><tr><td>113</td><td>2016-09-05</td><td>1</td></tr><tr><td>113</td><td>2016-09-28</td><td>1</td></tr><tr><td>113</td><td>2016-11-08</td><td>1</td></tr><tr><td>113</td><td>2017-02-04</td><td>1</td></tr><tr><td>113</td><td>2017-02-05</td><td>1</td></tr><tr><td>113</td><td>Részösszeg</td><td>5</td></tr><tr><td>114</td><td>2016-06-16</td><td>1</td></tr><tr><td>114</td><td>2016-07-29</td><td>1</td></tr><tr><td>114</td><td>2016-08-26</td><td>1</td></tr><tr><td>114</td><td>2017-02-16</td><td>1</td></tr><tr><td>114</td><td>Részösszeg</td><td>4</td></tr><tr><td>115</td><td>2016-04-23</td><td>1</td></tr><tr><td>115</td><td>2016-06-10</td><td>1</td></tr><tr><td>115</td><td>2016-10-04</td><td>1</td></tr><tr><td>115</td><td>2016-10-15</td><td>1</td></tr><tr><td>115</td><td>2016-12-07</td><td>1</td></tr><tr><td>115</td><td>2017-02-20</td><td>1</td></tr><tr><td>115</td><td>2017-02-24</td><td>1</td></tr><tr><td>115</td><td>Részösszeg</td><td>7</td></tr><tr><td>116</td><td>2017-01-18</td><td>1</td></tr><tr><td>116</td><td>2017-02-05</td><td>1</td></tr><tr><td>116</td><td>Részösszeg</td><td>2</td></tr><tr><td>117</td><td>2016-05-01</td><td>1</td></tr><tr><td>117</td><td>2016-05-02</td><td>1</td></tr><tr><td>117</td><td>2016-06-12</td><td>1</td></tr><tr><td>117</td><td>2016-06-16</td><td>1</td></tr><tr><td>117</td><td>2016-07-03</td><td>1</td></tr><tr><td>117</td><td>2016-10-26</td><td>1</td></tr><tr><td>117</td><td>2016-11-05</td><td>1</td></tr><tr><td>117</td><td>2017-01-23</td><td>1</td></tr><tr><td>117</td><td>Részösszeg</td><td>8</td></tr><tr><td>118</td><td>2016-05-28</td><td>1</td></tr><tr><td>118</td><td>2016-06-30</td><td>1</td></tr><tr><td>118</td><td>2016-07-01</td><td>1</td></tr><tr><td>118</td><td>2016-07-26</td><td>1</td></tr><tr><td>118</td><td>2016-12-17</td><td>1</td></tr><tr><td>118</td><td>2017-01-24</td><td>1</td></tr><tr><td>118</td><td>2017-01-29</td><td>1</td></tr><tr><td>118</td><td>Részösszeg</td><td>7</td></tr><tr><td>119</td><td>2016-07-12</td><td>1</td></tr><tr><td>119</td><td>2016-07-22</td><td>1</td></tr><tr><td>119</td><td>2016-07-27</td><td>1</td></tr><tr><td>119</td><td>2017-01-02</td><td>1</td></tr><tr><td>119</td><td>2017-02-01</td><td>1</td></tr><tr><td>119</td><td>Részösszeg</td><td>5</td></tr><tr><td>120</td><td>2016-07-01</td><td>1</td></tr><tr><td>120</td><td>2016-08-07</td><td>1</td></tr><tr><td>120</td><td>2016-09-30</td><td>1</td></tr><tr><td>120</td><td>2016-12-03</td><td>1</td></tr><tr><td>120</td><td>2017-01-30</td><td>1</td></tr><tr><td>120</td><td>2017-02-04</td><td>1</td></tr><tr><td>120</td><td>Részösszeg</td><td>6</td></tr><tr><td>121</td><td>2016-05-25</td><td>1</td></tr><tr><td>121</td><td>2016-07-28</td><td>1</td></tr><tr><td>121</td><td>2016-07-30</td><td>1</td></tr><tr><td>121</td><td>2016-09-13</td><td>1</td></tr><tr><td>121</td><td>2016-10-08</td><td>1</td></tr><tr><td>121</td><td>2016-10-29</td><td>1</td></tr><tr><td>121</td><td>2016-12-17</td><td>1</td></tr><tr><td>121</td><td>2016-12-25</td><td>1</td></tr><tr><td>121</td><td>Részösszeg</td><td>8</td></tr><tr><td>122</td><td>2016-07-04</td><td>1</td></tr><tr><td>122</td><td>2016-09-08</td><td>1</td></tr><tr><td>122</td><td>2016-09-17</td><td>1</td></tr><tr><td>122</td><td>2016-10-19</td><td>1</td></tr><tr><td>122</td><td>2016-10-28</td><td>1</td></tr><tr><td>122</td><td>2016-11-04</td><td>1</td></tr><tr><td>122</td><td>2016-12-02</td><td>1</td></tr><tr><td>122</td><td>2016-12-23</td><td>1</td></tr><tr><td>122</td><td>2017-01-15</td><td>1</td></tr><tr><td>122</td><td>Részösszeg</td><td>9</td></tr><tr><td>123</td><td>2016-04-19</td><td>1</td></tr><tr><td>123</td><td>2016-06-07</td><td>1</td></tr><tr><td>123</td><td>2016-06-16</td><td>1</td></tr><tr><td>123</td><td>2016-10-30</td><td>1</td></tr><tr><td>123</td><td>2016-11-15</td><td>1</td></tr><tr><td>123</td><td>Részösszeg</td><td>5</td></tr><tr><td>124</td><td>2016-05-27</td><td>1</td></tr><tr><td>124</td><td>2016-10-28</td><td>1</td></tr><tr><td>124</td><td>2016-11-29</td><td>1</td></tr><tr><td>124</td><td>2016-12-29</td><td>1</td></tr><tr><td>124</td><td>2017-01-05</td><td>1</td></tr><tr><td>124</td><td>2017-02-13</td><td>1</td></tr><tr><td>124</td><td>Részösszeg</td><td>6</td></tr><tr><td>125</td><td>2016-04-11</td><td>1</td></tr><tr><td>125</td><td>Részösszeg</td><td>1</td></tr><tr><td>126</td><td>2016-08-04</td><td>1</td></tr><tr><td>126</td><td>2016-08-21</td><td>1</td></tr><tr><td>126</td><td>2016-10-08</td><td>1</td></tr><tr><td>126</td><td>2016-12-15</td><td>1</td></tr><tr><td>126</td><td>2017-01-09</td><td>1</td></tr><tr><td>126</td><td>2017-02-05</td><td>1</td></tr><tr><td>126</td><td>Részösszeg</td><td>6</td></tr><tr><td>127</td><td>2016-05-14</td><td>1</td></tr><tr><td>127</td><td>2016-05-24</td><td>1</td></tr><tr><td>127</td><td>2016-05-30</td><td>1</td></tr><tr><td>127</td><td>2016-09-06</td><td>1</td></tr><tr><td>127</td><td>2016-10-30</td><td>1</td></tr><tr><td>127</td><td>2016-11-16</td><td>1</td></tr><tr><td>127</td><td>2017-02-28</td><td>1</td></tr><tr><td>127</td><td>Részösszeg</td><td>7</td></tr><tr><td>128</td><td>2016-07-26</td><td>1</td></tr><tr><td>128</td><td>2016-08-24</td><td>1</td></tr><tr><td>128</td><td>2016-11-19</td><td>1</td></tr><tr><td>128</td><td>2017-02-26</td><td>1</td></tr><tr><td>128</td><td>2017-03-03</td><td>1</td></tr><tr><td>128</td><td>Részösszeg</td><td>5</td></tr><tr><td>129</td><td>2016-07-27</td><td>1</td></tr><tr><td>129</td><td>2016-12-13</td><td>1</td></tr><tr><td>129</td><td>2017-01-16</td><td>1</td></tr><tr><td>129</td><td>2017-02-08</td><td>1</td></tr><tr><td>129</td><td>Részösszeg</td><td>4</td></tr><tr><td>130</td><td>2016-04-14</td><td>1</td></tr><tr><td>130</td><td>2016-05-01</td><td>1</td></tr><tr><td>130</td><td>2016-06-06</td><td>1</td></tr><tr><td>130</td><td>2016-08-15</td><td>1</td></tr><tr><td>130</td><td>2016-09-09</td><td>1</td></tr><tr><td>130</td><td>2017-01-26</td><td>1</td></tr><tr><td>130</td><td>Részösszeg</td><td>6</td></tr><tr><td>131</td><td>2016-04-06</td><td>1</td></tr><tr><td>131</td><td>2016-05-18</td><td>1</td></tr><tr><td>131</td><td>2016-05-30</td><td>1</td></tr><tr><td>131</td><td>2016-08-06</td><td>1</td></tr><tr><td>131</td><td>2017-01-25</td><td>1</td></tr><tr><td>131</td><td>Részösszeg</td><td>5</td></tr><tr><td>132</td><td>2016-05-04</td><td>1</td></tr><tr><td>132</td><td>2016-07-01</td><td>1</td></tr><tr><td>132</td><td>2016-09-30</td><td>1</td></tr><tr><td>132</td><td>2016-10-01</td><td>1</td></tr><tr><td>132</td><td>2016-11-22</td><td>1</td></tr><tr><td>132</td><td>2017-02-12</td><td>1</td></tr><tr><td>132</td><td>Részösszeg</td><td>6</td></tr><tr><td>133</td><td>2016-06-06</td><td>1</td></tr><tr><td>133</td><td>2016-06-27</td><td>1</td></tr><tr><td>133</td><td>2016-10-12</td><td>1</td></tr><tr><td>133</td><td>2016-11-22</td><td>1</td></tr><tr><td>133</td><td>2016-12-15</td><td>1</td></tr><tr><td>133</td><td>2017-01-01</td><td>1</td></tr><tr><td>133</td><td>Részösszeg</td><td>6</td></tr><tr><td>134</td><td>2016-07-03</td><td>1</td></tr><tr><td>134</td><td>2016-07-11</td><td>1</td></tr><tr><td>134</td><td>2016-09-12</td><td>1</td></tr><tr><td>134</td><td>2016-10-22</td><td>1</td></tr><tr><td>134</td><td>2016-10-30</td><td>1</td></tr><tr><td>134</td><td>2017-02-15</td><td>1</td></tr><tr><td>134</td><td>Részösszeg</td><td>6</td></tr><tr><td>135</td><td>2016-07-27</td><td>1</td></tr><tr><td>135</td><td>2016-09-05</td><td>1</td></tr><tr><td>135</td><td>2016-11-18</td><td>1</td></tr><tr><td>135</td><td>Részösszeg</td><td>3</td></tr><tr><td>136</td><td>2016-04-17</td><td>1</td></tr><tr><td>136</td><td>2016-05-21</td><td>1</td></tr><tr><td>136</td><td>2016-09-12</td><td>1</td></tr><tr><td>136</td><td>Részösszeg</td><td>3</td></tr><tr><td>137</td><td>2016-04-16</td><td>1</td></tr><tr><td>137</td><td>2016-05-17</td><td>1</td></tr><tr><td>137</td><td>2016-05-20</td><td>1</td></tr><tr><td>137</td><td>2016-07-06</td><td>1</td></tr><tr><td>137</td><td>2016-10-26</td><td>1</td></tr><tr><td>137</td><td>2016-11-15</td><td>1</td></tr><tr><td>137</td><td>Részösszeg</td><td>6</td></tr><tr><td>138</td><td>2016-08-12</td><td>1</td></tr><tr><td>138</td><td>2016-08-17</td><td>1</td></tr><tr><td>138</td><td>2016-11-06</td><td>1</td></tr><tr><td>138</td><td>2016-11-16</td><td>1</td></tr><tr><td>138</td><td>2016-11-19</td><td>1</td></tr><tr><td>138</td><td>2016-12-11</td><td>1</td></tr><tr><td>138</td><td>2016-12-17</td><td>1</td></tr><tr><td>138</td><td>Részösszeg</td><td>7</td></tr><tr><td>139</td><td>2016-04-14</td><td>1</td></tr><tr><td>139</td><td>2016-08-01</td><td>1</td></tr><tr><td>139</td><td>2016-08-03</td><td>1</td></tr><tr><td>139</td><td>2016-09-10</td><td>1</td></tr><tr><td>139</td><td>2016-09-18</td><td>1</td></tr><tr><td>139</td><td>2017-01-11</td><td>1</td></tr><tr><td>139</td><td>2017-01-17</td><td>1</td></tr><tr><td>139</td><td>Részösszeg</td><td>7</td></tr><tr><td>140</td><td>2016-06-06</td><td>1</td></tr><tr><td>140</td><td>2016-07-28</td><td>1</td></tr><tr><td>140</td><td>2016-10-01</td><td>1</td></tr><tr><td>140</td><td>2016-10-15</td><td>1</td></tr><tr><td>140</td><td>2016-11-07</td><td>1</td></tr><tr><td>140</td><td>2016-12-10</td><td>1</td></tr><tr><td>140</td><td>2016-12-14</td><td>1</td></tr><tr><td>140</td><td>2016-12-17</td><td>1</td></tr><tr><td>140</td><td>Részösszeg</td><td>8</td></tr><tr><td>141</td><td>2016-04-08</td><td>1</td></tr><tr><td>141</td><td>2016-06-05</td><td>1</td></tr><tr><td>141</td><td>2016-08-06</td><td>1</td></tr><tr><td>141</td><td>2016-08-16</td><td>1</td></tr><tr><td>141</td><td>2016-11-06</td><td>1</td></tr><tr><td>141</td><td>2016-12-27</td><td>1</td></tr><tr><td>141</td><td>Részösszeg</td><td>6</td></tr><tr><td>142</td><td>2016-12-17</td><td>1</td></tr><tr><td>142</td><td>2017-02-17</td><td>1</td></tr><tr><td>142</td><td>Részösszeg</td><td>2</td></tr><tr><td>143</td><td>2016-06-23</td><td>1</td></tr><tr><td>143</td><td>2016-10-15</td><td>1</td></tr><tr><td>143</td><td>2016-10-26</td><td>1</td></tr><tr><td>143</td><td>2016-10-30</td><td>1</td></tr><tr><td>143</td><td>2016-11-23</td><td>1</td></tr><tr><td>143</td><td>2016-12-25</td><td>1</td></tr><tr><td>143</td><td>2017-01-16</td><td>1</td></tr><tr><td>143</td><td>Részösszeg</td><td>7</td></tr><tr><td>144</td><td>2016-04-15</td><td>1</td></tr><tr><td>144</td><td>2016-09-29</td><td>1</td></tr><tr><td>144</td><td>2016-10-26</td><td>1</td></tr><tr><td>144</td><td>2016-11-19</td><td>1</td></tr><tr><td>144</td><td>2017-02-25</td><td>1</td></tr><tr><td>144</td><td>Részösszeg</td><td>5</td></tr><tr><td>145</td><td>2016-07-22</td><td>1</td></tr><tr><td>145</td><td>2016-09-23</td><td>1</td></tr><tr><td>145</td><td>2016-10-04</td><td>1</td></tr><tr><td>145</td><td>2016-10-09</td><td>1</td></tr><tr><td>145</td><td>2016-12-02</td><td>1</td></tr><tr><td>145</td><td>2017-01-23</td><td>1</td></tr><tr><td>145</td><td>Részösszeg</td><td>6</td></tr><tr><td>146</td><td>2016-06-02</td><td>1</td></tr><tr><td>146</td><td>2016-07-13</td><td>1</td></tr><tr><td>146</td><td>2016-08-16</td><td>1</td></tr><tr><td>146</td><td>2016-08-20</td><td>1</td></tr><tr><td>146</td><td>2016-09-05</td><td>1</td></tr><tr><td>146</td><td>2017-01-28</td><td>1</td></tr><tr><td>146</td><td>Részösszeg</td><td>6</td></tr><tr><td>147</td><td>2016-08-12</td><td>1</td></tr><tr><td>147</td><td>Részösszeg</td><td>1</td></tr><tr><td>148</td><td>2016-07-17</td><td>1</td></tr><tr><td>148</td><td>2016-08-09</td><td>1</td></tr><tr><td>148</td><td>2016-08-16</td><td>1</td></tr><tr><td>148</td><td>2016-08-23</td><td>2</td></tr><tr><td>148</td><td>2017-02-27</td><td>1</td></tr><tr><td>148</td><td>Részösszeg</td><td>6</td></tr><tr><td>149</td><td>2016-04-20</td><td>1</td></tr><tr><td>149</td><td>2016-05-18</td><td>1</td></tr><tr><td>149</td><td>2016-08-28</td><td>1</td></tr><tr><td>149</td><td>2016-08-29</td><td>1</td></tr><tr><td>149</td><td>2016-09-01</td><td>1</td></tr><tr><td>149</td><td>2016-10-10</td><td>1</td></tr><tr><td>149</td><td>2017-02-09</td><td>1</td></tr><tr><td>149</td><td>Részösszeg</td><td>7</td></tr><tr><td>150</td><td>2016-05-13</td><td>1</td></tr><tr><td>150</td><td>2016-10-01</td><td>2</td></tr><tr><td>150</td><td>2016-10-22</td><td>1</td></tr><tr><td>150</td><td>2016-10-26</td><td>1</td></tr><tr><td>150</td><td>2017-01-10</td><td>1</td></tr><tr><td>150</td><td>Részösszeg</td><td>6</td></tr><tr><td>151</td><td>2016-06-03</td><td>1</td></tr><tr><td>151</td><td>2016-09-16</td><td>1</td></tr><tr><td>151</td><td>2016-10-02</td><td>1</td></tr><tr><td>151</td><td>Részösszeg</td><td>3</td></tr><tr><td>152</td><td>2016-07-28</td><td>1</td></tr><tr><td>152</td><td>2016-10-16</td><td>1</td></tr><tr><td>152</td><td>2016-10-26</td><td>1</td></tr><tr><td>152</td><td>2017-02-21</td><td>1</td></tr><tr><td>152</td><td>Részösszeg</td><td>4</td></tr><tr><td>153</td><td>2016-04-22</td><td>1</td></tr><tr><td>153</td><td>2016-06-17</td><td>1</td></tr><tr><td>153</td><td>2017-01-21</td><td>1</td></tr><tr><td>153</td><td>2017-01-23</td><td>1</td></tr><tr><td>153</td><td>2017-02-07</td><td>1</td></tr><tr><td>153</td><td>Részösszeg</td><td>5</td></tr><tr><td>154</td><td>2016-06-16</td><td>1</td></tr><tr><td>154</td><td>2016-09-17</td><td>1</td></tr><tr><td>154</td><td>2016-10-19</td><td>1</td></tr><tr><td>154</td><td>2016-11-07</td><td>1</td></tr><tr><td>154</td><td>2017-02-16</td><td>1</td></tr><tr><td>154</td><td>Részösszeg</td><td>5</td></tr><tr><td>155</td><td>2016-04-10</td><td>1</td></tr><tr><td>155</td><td>2016-04-12</td><td>1</td></tr><tr><td>155</td><td>2016-10-01</td><td>1</td></tr><tr><td>155</td><td>2016-11-23</td><td>1</td></tr><tr><td>155</td><td>2017-02-16</td><td>1</td></tr><tr><td>155</td><td>Részösszeg</td><td>5</td></tr><tr><td>156</td><td>2016-04-19</td><td>1</td></tr><tr><td>156</td><td>2016-06-05</td><td>1</td></tr><tr><td>156</td><td>2016-06-13</td><td>1</td></tr><tr><td>156</td><td>2016-07-20</td><td>1</td></tr><tr><td>156</td><td>2017-01-22</td><td>1</td></tr><tr><td>156</td><td>2017-02-03</td><td>1</td></tr><tr><td>156</td><td>2017-02-23</td><td>1</td></tr><tr><td>156</td><td>Részösszeg</td><td>7</td></tr><tr><td>157</td><td>2016-05-16</td><td>1</td></tr><tr><td>157</td><td>2016-07-12</td><td>1</td></tr><tr><td>157</td><td>2016-09-13</td><td>1</td></tr><tr><td>157</td><td>2016-11-03</td><td>1</td></tr><tr><td>157</td><td>2017-02-19</td><td>1</td></tr><tr><td>157</td><td>Részösszeg</td><td>5</td></tr><tr><td>158</td><td>2016-08-25</td><td>1</td></tr><tr><td>158</td><td>2016-08-30</td><td>1</td></tr><tr><td>158</td><td>2016-10-03</td><td>1</td></tr><tr><td>158</td><td>Részösszeg</td><td>3</td></tr><tr><td>160</td><td>2016-06-06</td><td>1</td></tr><tr><td>160</td><td>2016-06-07</td><td>2</td></tr><tr><td>160</td><td>2016-07-27</td><td>1</td></tr><tr><td>160</td><td>2017-02-23</td><td>1</td></tr><tr><td>160</td><td>Részösszeg</td><td>5</td></tr><tr><td>161</td><td>2016-05-12</td><td>1</td></tr><tr><td>161</td><td>2016-05-18</td><td>1</td></tr><tr><td>161</td><td>2016-06-06</td><td>1</td></tr><tr><td>161</td><td>2016-09-19</td><td>1</td></tr><tr><td>161</td><td>2016-10-24</td><td>1</td></tr><tr><td>161</td><td>2017-02-25</td><td>1</td></tr><tr><td>161</td><td>Részösszeg</td><td>6</td></tr><tr><td>162</td><td>2016-04-24</td><td>1</td></tr><tr><td>162</td><td>2016-10-27</td><td>1</td></tr><tr><td>162</td><td>2016-12-26</td><td>1</td></tr><tr><td>162</td><td>Részösszeg</td><td>3</td></tr><tr><td>163</td><td>2016-05-09</td><td>1</td></tr><tr><td>163</td><td>2016-06-10</td><td>1</td></tr><tr><td>163</td><td>2016-08-16</td><td>1</td></tr><tr><td>163</td><td>2016-09-23</td><td>1</td></tr><tr><td>163</td><td>2016-10-01</td><td>1</td></tr><tr><td>163</td><td>2016-11-08</td><td>1</td></tr><tr><td>163</td><td>2017-02-01</td><td>1</td></tr><tr><td>163</td><td>Részösszeg</td><td>7</td></tr><tr><td>164</td><td>2016-04-10</td><td>1</td></tr><tr><td>164</td><td>2016-07-04</td><td>1</td></tr><tr><td>164</td><td>2016-07-31</td><td>1</td></tr><tr><td>164</td><td>2016-11-16</td><td>1</td></tr><tr><td>164</td><td>2016-11-19</td><td>1</td></tr><tr><td>164</td><td>Részösszeg</td><td>5</td></tr><tr><td>165</td><td>2016-05-12</td><td>1</td></tr><tr><td>165</td><td>2016-05-25</td><td>1</td></tr><tr><td>165</td><td>2016-06-03</td><td>3</td></tr><tr><td>165</td><td>2016-10-09</td><td>1</td></tr><tr><td>165</td><td>2016-12-17</td><td>1</td></tr><tr><td>165</td><td>Részösszeg</td><td>7</td></tr><tr><td>166</td><td>2016-05-14</td><td>1</td></tr><tr><td>166</td><td>2016-08-16</td><td>1</td></tr><tr><td>166</td><td>2017-02-12</td><td>1</td></tr><tr><td>166</td><td>Részösszeg</td><td>3</td></tr><tr><td>167</td><td>2016-05-24</td><td>1</td></tr><tr><td>167</td><td>2017-01-02</td><td>1</td></tr><tr><td>167</td><td>Részösszeg</td><td>2</td></tr><tr><td>168</td><td>2016-06-07</td><td>1</td></tr><tr><td>168</td><td>2016-08-16</td><td>1</td></tr><tr><td>168</td><td>2016-08-17</td><td>1</td></tr><tr><td>168</td><td>2016-11-05</td><td>1</td></tr><tr><td>168</td><td>2016-11-08</td><td>1</td></tr><tr><td>168</td><td>Részösszeg</td><td>5</td></tr><tr><td>169</td><td>2016-04-10</td><td>1</td></tr><tr><td>169</td><td>2016-05-21</td><td>1</td></tr><tr><td>169</td><td>2016-06-20</td><td>1</td></tr><tr><td>169</td><td>2016-08-01</td><td>1</td></tr><tr><td>169</td><td>2016-12-09</td><td>1</td></tr><tr><td>169</td><td>2017-01-09</td><td>1</td></tr><tr><td>169</td><td>Részösszeg</td><td>6</td></tr><tr><td>170</td><td>2016-04-10</td><td>1</td></tr><tr><td>170</td><td>2016-06-10</td><td>1</td></tr><tr><td>170</td><td>2016-10-26</td><td>1</td></tr><tr><td>170</td><td>2016-11-09</td><td>1</td></tr><tr><td>170</td><td>2016-12-04</td><td>1</td></tr><tr><td>170</td><td>Részösszeg</td><td>5</td></tr><tr><td>171</td><td>2016-04-10</td><td>1</td></tr><tr><td>171</td><td>2016-06-23</td><td>1</td></tr><tr><td>171</td><td>2016-10-23</td><td>1</td></tr><tr><td>171</td><td>2016-11-29</td><td>1</td></tr><tr><td>171</td><td>2017-02-24</td><td>1</td></tr><tr><td>171</td><td>Részösszeg</td><td>5</td></tr><tr><td>172</td><td>2016-06-24</td><td>1</td></tr><tr><td>172</td><td>2016-07-24</td><td>1</td></tr><tr><td>172</td><td>2016-08-02</td><td>1</td></tr><tr><td>172</td><td>2016-08-29</td><td>1</td></tr><tr><td>172</td><td>2016-10-09</td><td>1</td></tr><tr><td>172</td><td>2016-10-20</td><td>1</td></tr><tr><td>172</td><td>2016-12-02</td><td>1</td></tr><tr><td>172</td><td>2017-01-05</td><td>1</td></tr><tr><td>172</td><td>2017-02-03</td><td>1</td></tr><tr><td>172</td><td>Részösszeg</td><td>9</td></tr><tr><td>173</td><td>2016-06-06</td><td>1</td></tr><tr><td>173</td><td>2016-07-14</td><td>1</td></tr><tr><td>173</td><td>2016-12-06</td><td>1</td></tr><tr><td>173</td><td>2017-01-09</td><td>1</td></tr><tr><td>173</td><td>Részösszeg</td><td>4</td></tr><tr><td>174</td><td>2016-06-06</td><td>1</td></tr><tr><td>174</td><td>2016-07-06</td><td>1</td></tr><tr><td>174</td><td>2016-07-18</td><td>1</td></tr><tr><td>174</td><td>2016-11-12</td><td>1</td></tr><tr><td>174</td><td>Részösszeg</td><td>4</td></tr><tr><td>175</td><td>2016-05-28</td><td>1</td></tr><tr><td>175</td><td>2016-08-19</td><td>1</td></tr><tr><td>175</td><td>2016-09-30</td><td>1</td></tr><tr><td>175</td><td>2016-10-08</td><td>1</td></tr><tr><td>175</td><td>2016-12-30</td><td>1</td></tr><tr><td>175</td><td>Részösszeg</td><td>5</td></tr><tr><td>176</td><td>2016-04-21</td><td>1</td></tr><tr><td>176</td><td>2016-10-09</td><td>1</td></tr><tr><td>176</td><td>2016-11-13</td><td>1</td></tr><tr><td>176</td><td>2016-12-22</td><td>1</td></tr><tr><td>176</td><td>2017-02-08</td><td>1</td></tr><tr><td>176</td><td>2017-02-24</td><td>1</td></tr><tr><td>176</td><td>Részösszeg</td><td>6</td></tr><tr><td>177</td><td>2016-08-16</td><td>1</td></tr><tr><td>177</td><td>2016-08-28</td><td>1</td></tr><tr><td>177</td><td>2016-10-21</td><td>1</td></tr><tr><td>177</td><td>2017-02-05</td><td>1</td></tr><tr><td>177</td><td>Részösszeg</td><td>4</td></tr><tr><td>178</td><td>2016-06-28</td><td>1</td></tr><tr><td>178</td><td>2016-08-24</td><td>1</td></tr><tr><td>178</td><td>2016-10-28</td><td>1</td></tr><tr><td>178</td><td>2016-11-03</td><td>1</td></tr><tr><td>178</td><td>Részösszeg</td><td>4</td></tr><tr><td>179</td><td>2016-05-21</td><td>1</td></tr><tr><td>179</td><td>2016-07-09</td><td>1</td></tr><tr><td>179</td><td>2017-02-04</td><td>1</td></tr><tr><td>179</td><td>Részösszeg</td><td>3</td></tr><tr><td>180</td><td>2016-06-04</td><td>1</td></tr><tr><td>180</td><td>2017-02-22</td><td>1</td></tr><tr><td>180</td><td>2017-02-23</td><td>1</td></tr><tr><td>180</td><td>Részösszeg</td><td>3</td></tr><tr><td>181</td><td>2016-06-08</td><td>1</td></tr><tr><td>181</td><td>2016-06-13</td><td>1</td></tr><tr><td>181</td><td>2016-07-10</td><td>1</td></tr><tr><td>181</td><td>2016-07-16</td><td>1</td></tr><tr><td>181</td><td>2016-07-28</td><td>1</td></tr><tr><td>181</td><td>2016-12-05</td><td>1</td></tr><tr><td>181</td><td>Részösszeg</td><td>6</td></tr><tr><td>182</td><td>2016-04-10</td><td>1</td></tr><tr><td>182</td><td>2016-06-07</td><td>1</td></tr><tr><td>182</td><td>2016-07-04</td><td>1</td></tr><tr><td>182</td><td>2016-07-30</td><td>1</td></tr><tr><td>182</td><td>2016-10-24</td><td>1</td></tr><tr><td>182</td><td>2016-10-30</td><td>2</td></tr><tr><td>182</td><td>2016-11-23</td><td>1</td></tr><tr><td>182</td><td>2016-11-25</td><td>1</td></tr><tr><td>182</td><td>2016-11-28</td><td>1</td></tr><tr><td>182</td><td>2017-01-01</td><td>1</td></tr><tr><td>182</td><td>2017-01-06</td><td>1</td></tr><tr><td>182</td><td>Részösszeg</td><td>12</td></tr><tr><td>183</td><td>2016-06-09</td><td>1</td></tr><tr><td>183</td><td>2016-09-19</td><td>1</td></tr><tr><td>183</td><td>2016-10-10</td><td>1</td></tr><tr><td>183</td><td>2017-01-13</td><td>1</td></tr><tr><td>183</td><td>Részösszeg</td><td>4</td></tr><tr><td>184</td><td>2016-04-28</td><td>1</td></tr><tr><td>184</td><td>2016-05-30</td><td>1</td></tr><tr><td>184</td><td>2016-07-18</td><td>1</td></tr><tr><td>184</td><td>2016-11-05</td><td>1</td></tr><tr><td>184</td><td>Részösszeg</td><td>4</td></tr><tr><td>185</td><td>2016-04-13</td><td>1</td></tr><tr><td>185</td><td>2016-05-28</td><td>1</td></tr><tr><td>185</td><td>2016-06-03</td><td>1</td></tr><tr><td>185</td><td>2016-06-07</td><td>1</td></tr><tr><td>185</td><td>2016-07-14</td><td>1</td></tr><tr><td>185</td><td>2016-07-17</td><td>1</td></tr><tr><td>185</td><td>2016-07-20</td><td>1</td></tr><tr><td>185</td><td>2016-07-24</td><td>1</td></tr><tr><td>185</td><td>2016-10-06</td><td>1</td></tr><tr><td>185</td><td>2016-10-23</td><td>1</td></tr><tr><td>185</td><td>2017-01-16</td><td>1</td></tr><tr><td>185</td><td>2017-01-22</td><td>1</td></tr><tr><td>185</td><td>Részösszeg</td><td>12</td></tr><tr><td>186</td><td>2016-05-01</td><td>1</td></tr><tr><td>186</td><td>2016-10-15</td><td>1</td></tr><tr><td>186</td><td>2016-11-05</td><td>1</td></tr><tr><td>186</td><td>2017-01-22</td><td>1</td></tr><tr><td>186</td><td>Részösszeg</td><td>4</td></tr><tr><td>187</td><td>2016-05-09</td><td>1</td></tr><tr><td>187</td><td>2016-05-28</td><td>1</td></tr><tr><td>187</td><td>2016-06-13</td><td>1</td></tr><tr><td>187</td><td>2016-07-20</td><td>1</td></tr><tr><td>187</td><td>2016-07-31</td><td>1</td></tr><tr><td>187</td><td>2016-08-10</td><td>1</td></tr><tr><td>187</td><td>2016-12-29</td><td>1</td></tr><tr><td>187</td><td>Részösszeg</td><td>7</td></tr><tr><td>188</td><td>2016-06-06</td><td>1</td></tr><tr><td>188</td><td>2016-07-19</td><td>1</td></tr><tr><td>188</td><td>2016-07-24</td><td>1</td></tr><tr><td>188</td><td>2016-08-01</td><td>1</td></tr><tr><td>188</td><td>2016-09-05</td><td>1</td></tr><tr><td>188</td><td>2016-12-25</td><td>1</td></tr><tr><td>188</td><td>Részösszeg</td><td>6</td></tr><tr><td>189</td><td>2016-07-20</td><td>1</td></tr><tr><td>189</td><td>2016-08-03</td><td>1</td></tr><tr><td>189</td><td>2016-10-27</td><td>1</td></tr><tr><td>189</td><td>2017-01-17</td><td>1</td></tr><tr><td>189</td><td>2017-02-26</td><td>1</td></tr><tr><td>189</td><td>Részösszeg</td><td>5</td></tr><tr><td>190</td><td>2016-04-24</td><td>1</td></tr><tr><td>190</td><td>2016-06-27</td><td>1</td></tr><tr><td>190</td><td>2016-07-08</td><td>1</td></tr><tr><td>190</td><td>2016-08-13</td><td>1</td></tr><tr><td>190</td><td>2017-02-11</td><td>1</td></tr><tr><td>190</td><td>Részösszeg</td><td>5</td></tr><tr><td>191</td><td>2016-09-09</td><td>1</td></tr><tr><td>191</td><td>2016-11-22</td><td>1</td></tr><tr><td>191</td><td>2016-11-27</td><td>1</td></tr><tr><td>191</td><td>2017-02-05</td><td>1</td></tr><tr><td>191</td><td>2017-02-08</td><td>1</td></tr><tr><td>191</td><td>Részösszeg</td><td>5</td></tr><tr><td>192</td><td>2016-06-04</td><td>1</td></tr><tr><td>192</td><td>2016-07-17</td><td>1</td></tr><tr><td>192</td><td>Részösszeg</td><td>2</td></tr><tr><td>193</td><td>2016-05-09</td><td>1</td></tr><tr><td>193</td><td>2016-06-07</td><td>1</td></tr><tr><td>193</td><td>2016-06-22</td><td>1</td></tr><tr><td>193</td><td>2016-07-15</td><td>1</td></tr><tr><td>193</td><td>2016-08-29</td><td>1</td></tr><tr><td>193</td><td>2016-09-11</td><td>1</td></tr><tr><td>193</td><td>2016-11-03</td><td>1</td></tr><tr><td>193</td><td>Részösszeg</td><td>7</td></tr><tr><td>194</td><td>2016-09-30</td><td>1</td></tr><tr><td>194</td><td>Részösszeg</td><td>1</td></tr><tr><td>195</td><td>2016-07-27</td><td>1</td></tr><tr><td>195</td><td>2016-08-31</td><td>1</td></tr><tr><td>195</td><td>2016-09-22</td><td>1</td></tr><tr><td>195</td><td>2016-10-23</td><td>1</td></tr><tr><td>195</td><td>2017-01-24</td><td>1</td></tr><tr><td>195</td><td>2017-01-30</td><td>1</td></tr><tr><td>195</td><td>Részösszeg</td><td>6</td></tr><tr><td>196</td><td>2016-06-11</td><td>1</td></tr><tr><td>196</td><td>2016-07-14</td><td>1</td></tr><tr><td>196</td><td>2016-11-23</td><td>1</td></tr><tr><td>196</td><td>2016-12-04</td><td>1</td></tr><tr><td>196</td><td>Részösszeg</td><td>4</td></tr><tr><td>197</td><td>2016-06-30</td><td>1</td></tr><tr><td>197</td><td>2016-08-09</td><td>1</td></tr><tr><td>197</td><td>2016-09-30</td><td>1</td></tr><tr><td>197</td><td>2016-10-20</td><td>1</td></tr><tr><td>197</td><td>2016-11-22</td><td>1</td></tr><tr><td>197</td><td>2016-12-24</td><td>1</td></tr><tr><td>197</td><td>Részösszeg</td><td>6</td></tr><tr><td>198</td><td>2016-06-22</td><td>1</td></tr><tr><td>198</td><td>2016-07-04</td><td>1</td></tr><tr><td>198</td><td>2016-09-18</td><td>1</td></tr><tr><td>198</td><td>2016-10-03</td><td>1</td></tr><tr><td>198</td><td>2016-10-09</td><td>1</td></tr><tr><td>198</td><td>2016-10-17</td><td>1</td></tr><tr><td>198</td><td>2016-10-29</td><td>1</td></tr><tr><td>198</td><td>2017-01-05</td><td>1</td></tr><tr><td>198</td><td>Részösszeg</td><td>8</td></tr><tr><td>Végösszeg</td><td>Végösszeg</td><td>1027</td></tr></table>"
                    },
                    "metadata": {}
                }
            ],
            "execution_count": 6
        },
        {
            "cell_type": "markdown",
            "source": [
                "lista a szoba az és a hozzájuk tartozó foglalások azonosítóját és időtartamát napokban mutassa\n",
                "\n",
                "új oszlopban adott szoba időben előző foglalás időtartama\n",
                "\n",
                "ha nincs előző 0 legyen"
            ],
            "metadata": {
                "azdata_cell_guid": "0358e88b-10a0-4910-8737-2b60281f9dba"
            },
            "attachments": {}
        },
        {
            "cell_type": "code",
            "source": [
                "select sz.SZOBA_ID, DATEDIFF(day, MEDDIG, METTOL), lag(DATEDIFF(day, METTOL, MEDDIG),1,0) over (PARTITION by sz.szoba_id order by f.mettol) as 'előző foglalás időtartama'\r\n",
                "from szoba sz join Foglalas f on sz.SZOBA_ID=f.SZOBA_FK"
            ],
            "metadata": {
                "azdata_cell_guid": "6d43ad36-677b-4002-9b7b-9c3a16ada911",
                "language": "sql"
            },
            "outputs": [
                {
                    "output_type": "display_data",
                    "data": {
                        "text/html": "(1027 rows affected)"
                    },
                    "metadata": {}
                },
                {
                    "output_type": "display_data",
                    "data": {
                        "text/html": "Total execution time: 00:00:00.044"
                    },
                    "metadata": {}
                },
                {
                    "output_type": "execute_result",
                    "execution_count": 9,
                    "data": {
                        "application/vnd.dataresource+json": {
                            "schema": {
                                "fields": [
                                    {
                                        "name": "SZOBA_ID"
                                    },
                                    {
                                        "name": "(No column name)"
                                    },
                                    {
                                        "name": "előző foglalás időtartama"
                                    }
                                ]
                            },
                            "data": [
                                {
                                    "SZOBA_ID": "1",
                                    "(No column name)": "-5",
                                    "előző foglalás időtartama": "0"
                                },
                                {
                                    "SZOBA_ID": "1",
                                    "(No column name)": "-1",
                                    "előző foglalás időtartama": "5"
                                },
                                {
                                    "SZOBA_ID": "1",
                                    "(No column name)": "-7",
                                    "előző foglalás időtartama": "1"
                                },
                                {
                                    "SZOBA_ID": "1",
                                    "(No column name)": "-4",
                                    "előző foglalás időtartama": "7"
                                },
                                {
                                    "SZOBA_ID": "1",
                                    "(No column name)": "-2",
                                    "előző foglalás időtartama": "4"
                                },
                                {
                                    "SZOBA_ID": "1",
                                    "(No column name)": "-1",
                                    "előző foglalás időtartama": "2"
                                },
                                {
                                    "SZOBA_ID": "1",
                                    "(No column name)": "-1",
                                    "előző foglalás időtartama": "1"
                                },
                                {
                                    "SZOBA_ID": "1",
                                    "(No column name)": "-4",
                                    "előző foglalás időtartama": "1"
                                },
                                {
                                    "SZOBA_ID": "2",
                                    "(No column name)": "-3",
                                    "előző foglalás időtartama": "0"
                                },
                                {
                                    "SZOBA_ID": "2",
                                    "(No column name)": "-1",
                                    "előző foglalás időtartama": "3"
                                },
                                {
                                    "SZOBA_ID": "2",
                                    "(No column name)": "-7",
                                    "előző foglalás időtartama": "1"
                                },
                                {
                                    "SZOBA_ID": "2",
                                    "(No column name)": "-7",
                                    "előző foglalás időtartama": "7"
                                },
                                {
                                    "SZOBA_ID": "3",
                                    "(No column name)": "-4",
                                    "előző foglalás időtartama": "0"
                                },
                                {
                                    "SZOBA_ID": "3",
                                    "(No column name)": "-6",
                                    "előző foglalás időtartama": "4"
                                },
                                {
                                    "SZOBA_ID": "3",
                                    "(No column name)": "-6",
                                    "előző foglalás időtartama": "6"
                                },
                                {
                                    "SZOBA_ID": "3",
                                    "(No column name)": "-3",
                                    "előző foglalás időtartama": "6"
                                },
                                {
                                    "SZOBA_ID": "3",
                                    "(No column name)": "-7",
                                    "előző foglalás időtartama": "3"
                                },
                                {
                                    "SZOBA_ID": "3",
                                    "(No column name)": "-1",
                                    "előző foglalás időtartama": "7"
                                },
                                {
                                    "SZOBA_ID": "3",
                                    "(No column name)": "-5",
                                    "előző foglalás időtartama": "1"
                                },
                                {
                                    "SZOBA_ID": "3",
                                    "(No column name)": "-5",
                                    "előző foglalás időtartama": "5"
                                },
                                {
                                    "SZOBA_ID": "4",
                                    "(No column name)": "-7",
                                    "előző foglalás időtartama": "0"
                                },
                                {
                                    "SZOBA_ID": "4",
                                    "(No column name)": "-5",
                                    "előző foglalás időtartama": "7"
                                },
                                {
                                    "SZOBA_ID": "4",
                                    "(No column name)": "-7",
                                    "előző foglalás időtartama": "5"
                                },
                                {
                                    "SZOBA_ID": "4",
                                    "(No column name)": "-3",
                                    "előző foglalás időtartama": "7"
                                },
                                {
                                    "SZOBA_ID": "4",
                                    "(No column name)": "-6",
                                    "előző foglalás időtartama": "3"
                                },
                                {
                                    "SZOBA_ID": "4",
                                    "(No column name)": "-6",
                                    "előző foglalás időtartama": "6"
                                },
                                {
                                    "SZOBA_ID": "5",
                                    "(No column name)": "-2",
                                    "előző foglalás időtartama": "0"
                                },
                                {
                                    "SZOBA_ID": "5",
                                    "(No column name)": "-7",
                                    "előző foglalás időtartama": "2"
                                },
                                {
                                    "SZOBA_ID": "5",
                                    "(No column name)": "-5",
                                    "előző foglalás időtartama": "7"
                                },
                                {
                                    "SZOBA_ID": "5",
                                    "(No column name)": "-3",
                                    "előző foglalás időtartama": "5"
                                },
                                {
                                    "SZOBA_ID": "6",
                                    "(No column name)": "-6",
                                    "előző foglalás időtartama": "0"
                                },
                                {
                                    "SZOBA_ID": "6",
                                    "(No column name)": "-3",
                                    "előző foglalás időtartama": "6"
                                },
                                {
                                    "SZOBA_ID": "6",
                                    "(No column name)": "-4",
                                    "előző foglalás időtartama": "3"
                                },
                                {
                                    "SZOBA_ID": "6",
                                    "(No column name)": "-6",
                                    "előző foglalás időtartama": "4"
                                },
                                {
                                    "SZOBA_ID": "6",
                                    "(No column name)": "-2",
                                    "előző foglalás időtartama": "6"
                                },
                                {
                                    "SZOBA_ID": "6",
                                    "(No column name)": "-4",
                                    "előző foglalás időtartama": "2"
                                },
                                {
                                    "SZOBA_ID": "7",
                                    "(No column name)": "-4",
                                    "előző foglalás időtartama": "0"
                                },
                                {
                                    "SZOBA_ID": "7",
                                    "(No column name)": "-7",
                                    "előző foglalás időtartama": "4"
                                },
                                {
                                    "SZOBA_ID": "7",
                                    "(No column name)": "-1",
                                    "előző foglalás időtartama": "7"
                                },
                                {
                                    "SZOBA_ID": "7",
                                    "(No column name)": "-4",
                                    "előző foglalás időtartama": "1"
                                },
                                {
                                    "SZOBA_ID": "7",
                                    "(No column name)": "-4",
                                    "előző foglalás időtartama": "4"
                                },
                                {
                                    "SZOBA_ID": "7",
                                    "(No column name)": "-2",
                                    "előző foglalás időtartama": "4"
                                },
                                {
                                    "SZOBA_ID": "8",
                                    "(No column name)": "-1",
                                    "előző foglalás időtartama": "0"
                                },
                                {
                                    "SZOBA_ID": "8",
                                    "(No column name)": "-3",
                                    "előző foglalás időtartama": "1"
                                },
                                {
                                    "SZOBA_ID": "8",
                                    "(No column name)": "-4",
                                    "előző foglalás időtartama": "3"
                                },
                                {
                                    "SZOBA_ID": "8",
                                    "(No column name)": "-4",
                                    "előző foglalás időtartama": "4"
                                },
                                {
                                    "SZOBA_ID": "8",
                                    "(No column name)": "-4",
                                    "előző foglalás időtartama": "4"
                                },
                                {
                                    "SZOBA_ID": "9",
                                    "(No column name)": "-2",
                                    "előző foglalás időtartama": "0"
                                },
                                {
                                    "SZOBA_ID": "9",
                                    "(No column name)": "-6",
                                    "előző foglalás időtartama": "2"
                                },
                                {
                                    "SZOBA_ID": "9",
                                    "(No column name)": "-3",
                                    "előző foglalás időtartama": "6"
                                },
                                {
                                    "SZOBA_ID": "9",
                                    "(No column name)": "-6",
                                    "előző foglalás időtartama": "3"
                                },
                                {
                                    "SZOBA_ID": "9",
                                    "(No column name)": "-3",
                                    "előző foglalás időtartama": "6"
                                },
                                {
                                    "SZOBA_ID": "9",
                                    "(No column name)": "-3",
                                    "előző foglalás időtartama": "3"
                                },
                                {
                                    "SZOBA_ID": "10",
                                    "(No column name)": "-3",
                                    "előző foglalás időtartama": "0"
                                },
                                {
                                    "SZOBA_ID": "10",
                                    "(No column name)": "-5",
                                    "előző foglalás időtartama": "3"
                                },
                                {
                                    "SZOBA_ID": "10",
                                    "(No column name)": "-4",
                                    "előző foglalás időtartama": "5"
                                },
                                {
                                    "SZOBA_ID": "10",
                                    "(No column name)": "-6",
                                    "előző foglalás időtartama": "4"
                                },
                                {
                                    "SZOBA_ID": "11",
                                    "(No column name)": "-6",
                                    "előző foglalás időtartama": "0"
                                },
                                {
                                    "SZOBA_ID": "11",
                                    "(No column name)": "-5",
                                    "előző foglalás időtartama": "6"
                                },
                                {
                                    "SZOBA_ID": "11",
                                    "(No column name)": "-1",
                                    "előző foglalás időtartama": "5"
                                },
                                {
                                    "SZOBA_ID": "11",
                                    "(No column name)": "-1",
                                    "előző foglalás időtartama": "1"
                                },
                                {
                                    "SZOBA_ID": "12",
                                    "(No column name)": "-7",
                                    "előző foglalás időtartama": "0"
                                },
                                {
                                    "SZOBA_ID": "12",
                                    "(No column name)": "-3",
                                    "előző foglalás időtartama": "7"
                                },
                                {
                                    "SZOBA_ID": "12",
                                    "(No column name)": "-2",
                                    "előző foglalás időtartama": "3"
                                },
                                {
                                    "SZOBA_ID": "12",
                                    "(No column name)": "-5",
                                    "előző foglalás időtartama": "2"
                                },
                                {
                                    "SZOBA_ID": "12",
                                    "(No column name)": "-2",
                                    "előző foglalás időtartama": "5"
                                },
                                {
                                    "SZOBA_ID": "12",
                                    "(No column name)": "-4",
                                    "előző foglalás időtartama": "2"
                                },
                                {
                                    "SZOBA_ID": "12",
                                    "(No column name)": "-3",
                                    "előző foglalás időtartama": "4"
                                },
                                {
                                    "SZOBA_ID": "12",
                                    "(No column name)": "-5",
                                    "előző foglalás időtartama": "3"
                                },
                                {
                                    "SZOBA_ID": "12",
                                    "(No column name)": "-2",
                                    "előző foglalás időtartama": "5"
                                },
                                {
                                    "SZOBA_ID": "13",
                                    "(No column name)": "-4",
                                    "előző foglalás időtartama": "0"
                                },
                                {
                                    "SZOBA_ID": "13",
                                    "(No column name)": "-6",
                                    "előző foglalás időtartama": "4"
                                },
                                {
                                    "SZOBA_ID": "13",
                                    "(No column name)": "-3",
                                    "előző foglalás időtartama": "6"
                                },
                                {
                                    "SZOBA_ID": "13",
                                    "(No column name)": "-2",
                                    "előző foglalás időtartama": "3"
                                },
                                {
                                    "SZOBA_ID": "14",
                                    "(No column name)": "-1",
                                    "előző foglalás időtartama": "0"
                                },
                                {
                                    "SZOBA_ID": "14",
                                    "(No column name)": "-3",
                                    "előző foglalás időtartama": "1"
                                },
                                {
                                    "SZOBA_ID": "14",
                                    "(No column name)": "-4",
                                    "előző foglalás időtartama": "3"
                                },
                                {
                                    "SZOBA_ID": "15",
                                    "(No column name)": "-2",
                                    "előző foglalás időtartama": "0"
                                },
                                {
                                    "SZOBA_ID": "15",
                                    "(No column name)": "-5",
                                    "előző foglalás időtartama": "2"
                                },
                                {
                                    "SZOBA_ID": "15",
                                    "(No column name)": "-4",
                                    "előző foglalás időtartama": "5"
                                },
                                {
                                    "SZOBA_ID": "15",
                                    "(No column name)": "-1",
                                    "előző foglalás időtartama": "4"
                                },
                                {
                                    "SZOBA_ID": "15",
                                    "(No column name)": "-4",
                                    "előző foglalás időtartama": "1"
                                },
                                {
                                    "SZOBA_ID": "15",
                                    "(No column name)": "-3",
                                    "előző foglalás időtartama": "4"
                                },
                                {
                                    "SZOBA_ID": "16",
                                    "(No column name)": "-6",
                                    "előző foglalás időtartama": "0"
                                },
                                {
                                    "SZOBA_ID": "16",
                                    "(No column name)": "-1",
                                    "előző foglalás időtartama": "6"
                                },
                                {
                                    "SZOBA_ID": "16",
                                    "(No column name)": "-1",
                                    "előző foglalás időtartama": "1"
                                },
                                {
                                    "SZOBA_ID": "16",
                                    "(No column name)": "-3",
                                    "előző foglalás időtartama": "1"
                                },
                                {
                                    "SZOBA_ID": "16",
                                    "(No column name)": "-7",
                                    "előző foglalás időtartama": "3"
                                },
                                {
                                    "SZOBA_ID": "17",
                                    "(No column name)": "-6",
                                    "előző foglalás időtartama": "0"
                                },
                                {
                                    "SZOBA_ID": "17",
                                    "(No column name)": "-2",
                                    "előző foglalás időtartama": "6"
                                },
                                {
                                    "SZOBA_ID": "17",
                                    "(No column name)": "-6",
                                    "előző foglalás időtartama": "2"
                                },
                                {
                                    "SZOBA_ID": "17",
                                    "(No column name)": "-1",
                                    "előző foglalás időtartama": "6"
                                },
                                {
                                    "SZOBA_ID": "17",
                                    "(No column name)": "-5",
                                    "előző foglalás időtartama": "1"
                                },
                                {
                                    "SZOBA_ID": "17",
                                    "(No column name)": "-3",
                                    "előző foglalás időtartama": "5"
                                },
                                {
                                    "SZOBA_ID": "18",
                                    "(No column name)": "-3",
                                    "előző foglalás időtartama": "0"
                                },
                                {
                                    "SZOBA_ID": "18",
                                    "(No column name)": "-3",
                                    "előző foglalás időtartama": "3"
                                },
                                {
                                    "SZOBA_ID": "18",
                                    "(No column name)": "-6",
                                    "előző foglalás időtartama": "3"
                                },
                                {
                                    "SZOBA_ID": "18",
                                    "(No column name)": "-6",
                                    "előző foglalás időtartama": "6"
                                },
                                {
                                    "SZOBA_ID": "18",
                                    "(No column name)": "-4",
                                    "előző foglalás időtartama": "6"
                                },
                                {
                                    "SZOBA_ID": "18",
                                    "(No column name)": "-6",
                                    "előző foglalás időtartama": "4"
                                },
                                {
                                    "SZOBA_ID": "19",
                                    "(No column name)": "-2",
                                    "előző foglalás időtartama": "0"
                                },
                                {
                                    "SZOBA_ID": "19",
                                    "(No column name)": "-1",
                                    "előző foglalás időtartama": "2"
                                },
                                {
                                    "SZOBA_ID": "19",
                                    "(No column name)": "-1",
                                    "előző foglalás időtartama": "1"
                                },
                                {
                                    "SZOBA_ID": "19",
                                    "(No column name)": "-7",
                                    "előző foglalás időtartama": "1"
                                },
                                {
                                    "SZOBA_ID": "19",
                                    "(No column name)": "-1",
                                    "előző foglalás időtartama": "7"
                                },
                                {
                                    "SZOBA_ID": "19",
                                    "(No column name)": "-1",
                                    "előző foglalás időtartama": "1"
                                },
                                {
                                    "SZOBA_ID": "20",
                                    "(No column name)": "-6",
                                    "előző foglalás időtartama": "0"
                                },
                                {
                                    "SZOBA_ID": "20",
                                    "(No column name)": "-1",
                                    "előző foglalás időtartama": "6"
                                },
                                {
                                    "SZOBA_ID": "20",
                                    "(No column name)": "-1",
                                    "előző foglalás időtartama": "1"
                                },
                                {
                                    "SZOBA_ID": "20",
                                    "(No column name)": "-5",
                                    "előző foglalás időtartama": "1"
                                },
                                {
                                    "SZOBA_ID": "20",
                                    "(No column name)": "-2",
                                    "előző foglalás időtartama": "5"
                                },
                                {
                                    "SZOBA_ID": "21",
                                    "(No column name)": "-6",
                                    "előző foglalás időtartama": "0"
                                },
                                {
                                    "SZOBA_ID": "21",
                                    "(No column name)": "-5",
                                    "előző foglalás időtartama": "6"
                                },
                                {
                                    "SZOBA_ID": "21",
                                    "(No column name)": "-1",
                                    "előző foglalás időtartama": "5"
                                },
                                {
                                    "SZOBA_ID": "21",
                                    "(No column name)": "-6",
                                    "előző foglalás időtartama": "1"
                                },
                                {
                                    "SZOBA_ID": "22",
                                    "(No column name)": "-1",
                                    "előző foglalás időtartama": "0"
                                },
                                {
                                    "SZOBA_ID": "22",
                                    "(No column name)": "-3",
                                    "előző foglalás időtartama": "1"
                                },
                                {
                                    "SZOBA_ID": "22",
                                    "(No column name)": "-1",
                                    "előző foglalás időtartama": "3"
                                },
                                {
                                    "SZOBA_ID": "22",
                                    "(No column name)": "-6",
                                    "előző foglalás időtartama": "1"
                                },
                                {
                                    "SZOBA_ID": "22",
                                    "(No column name)": "-7",
                                    "előző foglalás időtartama": "6"
                                },
                                {
                                    "SZOBA_ID": "22",
                                    "(No column name)": "-3",
                                    "előző foglalás időtartama": "7"
                                },
                                {
                                    "SZOBA_ID": "23",
                                    "(No column name)": "-1",
                                    "előző foglalás időtartama": "0"
                                },
                                {
                                    "SZOBA_ID": "23",
                                    "(No column name)": "-7",
                                    "előző foglalás időtartama": "1"
                                },
                                {
                                    "SZOBA_ID": "23",
                                    "(No column name)": "-1",
                                    "előző foglalás időtartama": "7"
                                },
                                {
                                    "SZOBA_ID": "24",
                                    "(No column name)": "-2",
                                    "előző foglalás időtartama": "0"
                                },
                                {
                                    "SZOBA_ID": "24",
                                    "(No column name)": "-1",
                                    "előző foglalás időtartama": "2"
                                },
                                {
                                    "SZOBA_ID": "24",
                                    "(No column name)": "-3",
                                    "előző foglalás időtartama": "1"
                                },
                                {
                                    "SZOBA_ID": "25",
                                    "(No column name)": "-3",
                                    "előző foglalás időtartama": "0"
                                },
                                {
                                    "SZOBA_ID": "25",
                                    "(No column name)": "-2",
                                    "előző foglalás időtartama": "3"
                                },
                                {
                                    "SZOBA_ID": "26",
                                    "(No column name)": "-2",
                                    "előző foglalás időtartama": "0"
                                },
                                {
                                    "SZOBA_ID": "26",
                                    "(No column name)": "-3",
                                    "előző foglalás időtartama": "2"
                                },
                                {
                                    "SZOBA_ID": "27",
                                    "(No column name)": "-3",
                                    "előző foglalás időtartama": "0"
                                },
                                {
                                    "SZOBA_ID": "27",
                                    "(No column name)": "-2",
                                    "előző foglalás időtartama": "3"
                                },
                                {
                                    "SZOBA_ID": "27",
                                    "(No column name)": "-2",
                                    "előző foglalás időtartama": "2"
                                },
                                {
                                    "SZOBA_ID": "27",
                                    "(No column name)": "-5",
                                    "előző foglalás időtartama": "2"
                                },
                                {
                                    "SZOBA_ID": "27",
                                    "(No column name)": "-6",
                                    "előző foglalás időtartama": "5"
                                },
                                {
                                    "SZOBA_ID": "27",
                                    "(No column name)": "-1",
                                    "előző foglalás időtartama": "6"
                                },
                                {
                                    "SZOBA_ID": "27",
                                    "(No column name)": "-1",
                                    "előző foglalás időtartama": "1"
                                },
                                {
                                    "SZOBA_ID": "28",
                                    "(No column name)": "-5",
                                    "előző foglalás időtartama": "0"
                                },
                                {
                                    "SZOBA_ID": "28",
                                    "(No column name)": "-4",
                                    "előző foglalás időtartama": "5"
                                },
                                {
                                    "SZOBA_ID": "28",
                                    "(No column name)": "-4",
                                    "előző foglalás időtartama": "4"
                                },
                                {
                                    "SZOBA_ID": "28",
                                    "(No column name)": "-5",
                                    "előző foglalás időtartama": "4"
                                },
                                {
                                    "SZOBA_ID": "28",
                                    "(No column name)": "-6",
                                    "előző foglalás időtartama": "5"
                                },
                                {
                                    "SZOBA_ID": "28",
                                    "(No column name)": "-2",
                                    "előző foglalás időtartama": "6"
                                },
                                {
                                    "SZOBA_ID": "29",
                                    "(No column name)": "-5",
                                    "előző foglalás időtartama": "0"
                                },
                                {
                                    "SZOBA_ID": "29",
                                    "(No column name)": "-1",
                                    "előző foglalás időtartama": "5"
                                },
                                {
                                    "SZOBA_ID": "29",
                                    "(No column name)": "-7",
                                    "előző foglalás időtartama": "1"
                                },
                                {
                                    "SZOBA_ID": "29",
                                    "(No column name)": "-5",
                                    "előző foglalás időtartama": "7"
                                },
                                {
                                    "SZOBA_ID": "29",
                                    "(No column name)": "-7",
                                    "előző foglalás időtartama": "5"
                                },
                                {
                                    "SZOBA_ID": "29",
                                    "(No column name)": "-7",
                                    "előző foglalás időtartama": "7"
                                },
                                {
                                    "SZOBA_ID": "30",
                                    "(No column name)": "-2",
                                    "előző foglalás időtartama": "0"
                                },
                                {
                                    "SZOBA_ID": "30",
                                    "(No column name)": "-7",
                                    "előző foglalás időtartama": "2"
                                },
                                {
                                    "SZOBA_ID": "30",
                                    "(No column name)": "-5",
                                    "előző foglalás időtartama": "7"
                                },
                                {
                                    "SZOBA_ID": "31",
                                    "(No column name)": "-2",
                                    "előző foglalás időtartama": "0"
                                },
                                {
                                    "SZOBA_ID": "31",
                                    "(No column name)": "-1",
                                    "előző foglalás időtartama": "2"
                                },
                                {
                                    "SZOBA_ID": "31",
                                    "(No column name)": "-4",
                                    "előző foglalás időtartama": "1"
                                },
                                {
                                    "SZOBA_ID": "32",
                                    "(No column name)": "-4",
                                    "előző foglalás időtartama": "0"
                                },
                                {
                                    "SZOBA_ID": "33",
                                    "(No column name)": "-6",
                                    "előző foglalás időtartama": "0"
                                },
                                {
                                    "SZOBA_ID": "33",
                                    "(No column name)": "-7",
                                    "előző foglalás időtartama": "6"
                                },
                                {
                                    "SZOBA_ID": "33",
                                    "(No column name)": "-1",
                                    "előző foglalás időtartama": "7"
                                },
                                {
                                    "SZOBA_ID": "33",
                                    "(No column name)": "-4",
                                    "előző foglalás időtartama": "1"
                                },
                                {
                                    "SZOBA_ID": "33",
                                    "(No column name)": "-5",
                                    "előző foglalás időtartama": "4"
                                },
                                {
                                    "SZOBA_ID": "33",
                                    "(No column name)": "-6",
                                    "előző foglalás időtartama": "5"
                                },
                                {
                                    "SZOBA_ID": "34",
                                    "(No column name)": "-6",
                                    "előző foglalás időtartama": "0"
                                },
                                {
                                    "SZOBA_ID": "34",
                                    "(No column name)": "-2",
                                    "előző foglalás időtartama": "6"
                                },
                                {
                                    "SZOBA_ID": "34",
                                    "(No column name)": "-3",
                                    "előző foglalás időtartama": "2"
                                },
                                {
                                    "SZOBA_ID": "34",
                                    "(No column name)": "-1",
                                    "előző foglalás időtartama": "3"
                                },
                                {
                                    "SZOBA_ID": "35",
                                    "(No column name)": "-3",
                                    "előző foglalás időtartama": "0"
                                },
                                {
                                    "SZOBA_ID": "35",
                                    "(No column name)": "-7",
                                    "előző foglalás időtartama": "3"
                                },
                                {
                                    "SZOBA_ID": "35",
                                    "(No column name)": "-6",
                                    "előző foglalás időtartama": "7"
                                },
                                {
                                    "SZOBA_ID": "35",
                                    "(No column name)": "-2",
                                    "előző foglalás időtartama": "6"
                                },
                                {
                                    "SZOBA_ID": "35",
                                    "(No column name)": "-2",
                                    "előző foglalás időtartama": "2"
                                },
                                {
                                    "SZOBA_ID": "35",
                                    "(No column name)": "-37",
                                    "előző foglalás időtartama": "2"
                                },
                                {
                                    "SZOBA_ID": "35",
                                    "(No column name)": "-1",
                                    "előző foglalás időtartama": "37"
                                },
                                {
                                    "SZOBA_ID": "35",
                                    "(No column name)": "-1",
                                    "előző foglalás időtartama": "1"
                                },
                                {
                                    "SZOBA_ID": "35",
                                    "(No column name)": "-4",
                                    "előző foglalás időtartama": "1"
                                },
                                {
                                    "SZOBA_ID": "36",
                                    "(No column name)": "-5",
                                    "előző foglalás időtartama": "0"
                                },
                                {
                                    "SZOBA_ID": "36",
                                    "(No column name)": "-1",
                                    "előző foglalás időtartama": "5"
                                },
                                {
                                    "SZOBA_ID": "36",
                                    "(No column name)": "-6",
                                    "előző foglalás időtartama": "1"
                                },
                                {
                                    "SZOBA_ID": "36",
                                    "(No column name)": "-4",
                                    "előző foglalás időtartama": "6"
                                },
                                {
                                    "SZOBA_ID": "36",
                                    "(No column name)": "-2",
                                    "előző foglalás időtartama": "4"
                                },
                                {
                                    "SZOBA_ID": "36",
                                    "(No column name)": "-6",
                                    "előző foglalás időtartama": "2"
                                },
                                {
                                    "SZOBA_ID": "37",
                                    "(No column name)": "-2",
                                    "előző foglalás időtartama": "0"
                                },
                                {
                                    "SZOBA_ID": "37",
                                    "(No column name)": "-4",
                                    "előző foglalás időtartama": "2"
                                },
                                {
                                    "SZOBA_ID": "37",
                                    "(No column name)": "-7",
                                    "előző foglalás időtartama": "4"
                                },
                                {
                                    "SZOBA_ID": "38",
                                    "(No column name)": "-6",
                                    "előző foglalás időtartama": "0"
                                },
                                {
                                    "SZOBA_ID": "38",
                                    "(No column name)": "-2",
                                    "előző foglalás időtartama": "6"
                                },
                                {
                                    "SZOBA_ID": "38",
                                    "(No column name)": "-2",
                                    "előző foglalás időtartama": "2"
                                },
                                {
                                    "SZOBA_ID": "38",
                                    "(No column name)": "-7",
                                    "előző foglalás időtartama": "2"
                                },
                                {
                                    "SZOBA_ID": "38",
                                    "(No column name)": "-4",
                                    "előző foglalás időtartama": "7"
                                },
                                {
                                    "SZOBA_ID": "38",
                                    "(No column name)": "-5",
                                    "előző foglalás időtartama": "4"
                                },
                                {
                                    "SZOBA_ID": "38",
                                    "(No column name)": "-4",
                                    "előző foglalás időtartama": "5"
                                },
                                {
                                    "SZOBA_ID": "38",
                                    "(No column name)": "-6",
                                    "előző foglalás időtartama": "4"
                                },
                                {
                                    "SZOBA_ID": "39",
                                    "(No column name)": "-6",
                                    "előző foglalás időtartama": "0"
                                },
                                {
                                    "SZOBA_ID": "39",
                                    "(No column name)": "-6",
                                    "előző foglalás időtartama": "6"
                                },
                                {
                                    "SZOBA_ID": "39",
                                    "(No column name)": "-5",
                                    "előző foglalás időtartama": "6"
                                },
                                {
                                    "SZOBA_ID": "39",
                                    "(No column name)": "-5",
                                    "előző foglalás időtartama": "5"
                                },
                                {
                                    "SZOBA_ID": "39",
                                    "(No column name)": "-7",
                                    "előző foglalás időtartama": "5"
                                },
                                {
                                    "SZOBA_ID": "39",
                                    "(No column name)": "-1",
                                    "előző foglalás időtartama": "7"
                                },
                                {
                                    "SZOBA_ID": "39",
                                    "(No column name)": "-2",
                                    "előző foglalás időtartama": "1"
                                },
                                {
                                    "SZOBA_ID": "40",
                                    "(No column name)": "-5",
                                    "előző foglalás időtartama": "0"
                                },
                                {
                                    "SZOBA_ID": "40",
                                    "(No column name)": "-6",
                                    "előző foglalás időtartama": "5"
                                },
                                {
                                    "SZOBA_ID": "40",
                                    "(No column name)": "-5",
                                    "előző foglalás időtartama": "6"
                                },
                                {
                                    "SZOBA_ID": "40",
                                    "(No column name)": "-5",
                                    "előző foglalás időtartama": "5"
                                },
                                {
                                    "SZOBA_ID": "41",
                                    "(No column name)": "-6",
                                    "előző foglalás időtartama": "0"
                                },
                                {
                                    "SZOBA_ID": "41",
                                    "(No column name)": "-1",
                                    "előző foglalás időtartama": "6"
                                },
                                {
                                    "SZOBA_ID": "42",
                                    "(No column name)": "-4",
                                    "előző foglalás időtartama": "0"
                                },
                                {
                                    "SZOBA_ID": "42",
                                    "(No column name)": "-5",
                                    "előző foglalás időtartama": "4"
                                },
                                {
                                    "SZOBA_ID": "42",
                                    "(No column name)": "-7",
                                    "előző foglalás időtartama": "5"
                                },
                                {
                                    "SZOBA_ID": "42",
                                    "(No column name)": "-3",
                                    "előző foglalás időtartama": "7"
                                },
                                {
                                    "SZOBA_ID": "42",
                                    "(No column name)": "-2",
                                    "előző foglalás időtartama": "3"
                                },
                                {
                                    "SZOBA_ID": "42",
                                    "(No column name)": "-6",
                                    "előző foglalás időtartama": "2"
                                },
                                {
                                    "SZOBA_ID": "43",
                                    "(No column name)": "-4",
                                    "előző foglalás időtartama": "0"
                                },
                                {
                                    "SZOBA_ID": "43",
                                    "(No column name)": "-4",
                                    "előző foglalás időtartama": "4"
                                },
                                {
                                    "SZOBA_ID": "43",
                                    "(No column name)": "-2",
                                    "előző foglalás időtartama": "4"
                                },
                                {
                                    "SZOBA_ID": "43",
                                    "(No column name)": "-1",
                                    "előző foglalás időtartama": "2"
                                },
                                {
                                    "SZOBA_ID": "43",
                                    "(No column name)": "-5",
                                    "előző foglalás időtartama": "1"
                                },
                                {
                                    "SZOBA_ID": "43",
                                    "(No column name)": "-4",
                                    "előző foglalás időtartama": "5"
                                },
                                {
                                    "SZOBA_ID": "43",
                                    "(No column name)": "-1",
                                    "előző foglalás időtartama": "4"
                                },
                                {
                                    "SZOBA_ID": "43",
                                    "(No column name)": "-5",
                                    "előző foglalás időtartama": "1"
                                },
                                {
                                    "SZOBA_ID": "44",
                                    "(No column name)": "-2",
                                    "előző foglalás időtartama": "0"
                                },
                                {
                                    "SZOBA_ID": "44",
                                    "(No column name)": "-6",
                                    "előző foglalás időtartama": "2"
                                },
                                {
                                    "SZOBA_ID": "44",
                                    "(No column name)": "-2",
                                    "előző foglalás időtartama": "6"
                                },
                                {
                                    "SZOBA_ID": "44",
                                    "(No column name)": "-2",
                                    "előző foglalás időtartama": "2"
                                },
                                {
                                    "SZOBA_ID": "44",
                                    "(No column name)": "-2",
                                    "előző foglalás időtartama": "2"
                                },
                                {
                                    "SZOBA_ID": "44",
                                    "(No column name)": "-2",
                                    "előző foglalás időtartama": "2"
                                },
                                {
                                    "SZOBA_ID": "45",
                                    "(No column name)": "-7",
                                    "előző foglalás időtartama": "0"
                                },
                                {
                                    "SZOBA_ID": "45",
                                    "(No column name)": "-5",
                                    "előző foglalás időtartama": "7"
                                },
                                {
                                    "SZOBA_ID": "45",
                                    "(No column name)": "-3",
                                    "előző foglalás időtartama": "5"
                                },
                                {
                                    "SZOBA_ID": "45",
                                    "(No column name)": "-3",
                                    "előző foglalás időtartama": "3"
                                },
                                {
                                    "SZOBA_ID": "45",
                                    "(No column name)": "-2",
                                    "előző foglalás időtartama": "3"
                                },
                                {
                                    "SZOBA_ID": "46",
                                    "(No column name)": "-5",
                                    "előző foglalás időtartama": "0"
                                },
                                {
                                    "SZOBA_ID": "46",
                                    "(No column name)": "-7",
                                    "előző foglalás időtartama": "5"
                                },
                                {
                                    "SZOBA_ID": "46",
                                    "(No column name)": "-3",
                                    "előző foglalás időtartama": "7"
                                },
                                {
                                    "SZOBA_ID": "46",
                                    "(No column name)": "-4",
                                    "előző foglalás időtartama": "3"
                                },
                                {
                                    "SZOBA_ID": "47",
                                    "(No column name)": "-1",
                                    "előző foglalás időtartama": "0"
                                },
                                {
                                    "SZOBA_ID": "47",
                                    "(No column name)": "-7",
                                    "előző foglalás időtartama": "1"
                                },
                                {
                                    "SZOBA_ID": "48",
                                    "(No column name)": "-3",
                                    "előző foglalás időtartama": "0"
                                },
                                {
                                    "SZOBA_ID": "48",
                                    "(No column name)": "-2",
                                    "előző foglalás időtartama": "3"
                                },
                                {
                                    "SZOBA_ID": "48",
                                    "(No column name)": "-5",
                                    "előző foglalás időtartama": "2"
                                },
                                {
                                    "SZOBA_ID": "48",
                                    "(No column name)": "-5",
                                    "előző foglalás időtartama": "5"
                                },
                                {
                                    "SZOBA_ID": "48",
                                    "(No column name)": "-2",
                                    "előző foglalás időtartama": "5"
                                },
                                {
                                    "SZOBA_ID": "48",
                                    "(No column name)": "-6",
                                    "előző foglalás időtartama": "2"
                                },
                                {
                                    "SZOBA_ID": "48",
                                    "(No column name)": "-3",
                                    "előző foglalás időtartama": "6"
                                },
                                {
                                    "SZOBA_ID": "48",
                                    "(No column name)": "-1",
                                    "előző foglalás időtartama": "3"
                                },
                                {
                                    "SZOBA_ID": "48",
                                    "(No column name)": "-5",
                                    "előző foglalás időtartama": "1"
                                },
                                {
                                    "SZOBA_ID": "49",
                                    "(No column name)": "-7",
                                    "előző foglalás időtartama": "0"
                                },
                                {
                                    "SZOBA_ID": "49",
                                    "(No column name)": "-6",
                                    "előző foglalás időtartama": "7"
                                },
                                {
                                    "SZOBA_ID": "49",
                                    "(No column name)": "-4",
                                    "előző foglalás időtartama": "6"
                                },
                                {
                                    "SZOBA_ID": "49",
                                    "(No column name)": "-7",
                                    "előző foglalás időtartama": "4"
                                },
                                {
                                    "SZOBA_ID": "49",
                                    "(No column name)": "-7",
                                    "előző foglalás időtartama": "7"
                                },
                                {
                                    "SZOBA_ID": "49",
                                    "(No column name)": "-2",
                                    "előző foglalás időtartama": "7"
                                },
                                {
                                    "SZOBA_ID": "49",
                                    "(No column name)": "-6",
                                    "előző foglalás időtartama": "2"
                                },
                                {
                                    "SZOBA_ID": "50",
                                    "(No column name)": "-3",
                                    "előző foglalás időtartama": "0"
                                },
                                {
                                    "SZOBA_ID": "50",
                                    "(No column name)": "-2",
                                    "előző foglalás időtartama": "3"
                                },
                                {
                                    "SZOBA_ID": "50",
                                    "(No column name)": "-1",
                                    "előző foglalás időtartama": "2"
                                },
                                {
                                    "SZOBA_ID": "50",
                                    "(No column name)": "-1",
                                    "előző foglalás időtartama": "1"
                                },
                                {
                                    "SZOBA_ID": "51",
                                    "(No column name)": "-7",
                                    "előző foglalás időtartama": "0"
                                },
                                {
                                    "SZOBA_ID": "51",
                                    "(No column name)": "-2",
                                    "előző foglalás időtartama": "7"
                                },
                                {
                                    "SZOBA_ID": "51",
                                    "(No column name)": "-5",
                                    "előző foglalás időtartama": "2"
                                },
                                {
                                    "SZOBA_ID": "51",
                                    "(No column name)": "-6",
                                    "előző foglalás időtartama": "5"
                                },
                                {
                                    "SZOBA_ID": "51",
                                    "(No column name)": "-1",
                                    "előző foglalás időtartama": "6"
                                },
                                {
                                    "SZOBA_ID": "52",
                                    "(No column name)": "-7",
                                    "előző foglalás időtartama": "0"
                                },
                                {
                                    "SZOBA_ID": "52",
                                    "(No column name)": "-2",
                                    "előző foglalás időtartama": "7"
                                },
                                {
                                    "SZOBA_ID": "52",
                                    "(No column name)": "-5",
                                    "előző foglalás időtartama": "2"
                                },
                                {
                                    "SZOBA_ID": "52",
                                    "(No column name)": "-5",
                                    "előző foglalás időtartama": "5"
                                },
                                {
                                    "SZOBA_ID": "52",
                                    "(No column name)": "-5",
                                    "előző foglalás időtartama": "5"
                                },
                                {
                                    "SZOBA_ID": "53",
                                    "(No column name)": "-1",
                                    "előző foglalás időtartama": "0"
                                },
                                {
                                    "SZOBA_ID": "53",
                                    "(No column name)": "-4",
                                    "előző foglalás időtartama": "1"
                                },
                                {
                                    "SZOBA_ID": "54",
                                    "(No column name)": "-7",
                                    "előző foglalás időtartama": "0"
                                },
                                {
                                    "SZOBA_ID": "54",
                                    "(No column name)": "-5",
                                    "előző foglalás időtartama": "7"
                                },
                                {
                                    "SZOBA_ID": "54",
                                    "(No column name)": "-2",
                                    "előző foglalás időtartama": "5"
                                },
                                {
                                    "SZOBA_ID": "54",
                                    "(No column name)": "-1",
                                    "előző foglalás időtartama": "2"
                                },
                                {
                                    "SZOBA_ID": "54",
                                    "(No column name)": "-4",
                                    "előző foglalás időtartama": "1"
                                },
                                {
                                    "SZOBA_ID": "54",
                                    "(No column name)": "-4",
                                    "előző foglalás időtartama": "4"
                                },
                                {
                                    "SZOBA_ID": "55",
                                    "(No column name)": "-6",
                                    "előző foglalás időtartama": "0"
                                },
                                {
                                    "SZOBA_ID": "55",
                                    "(No column name)": "-5",
                                    "előző foglalás időtartama": "6"
                                },
                                {
                                    "SZOBA_ID": "55",
                                    "(No column name)": "-2",
                                    "előző foglalás időtartama": "5"
                                },
                                {
                                    "SZOBA_ID": "55",
                                    "(No column name)": "-7",
                                    "előző foglalás időtartama": "2"
                                },
                                {
                                    "SZOBA_ID": "55",
                                    "(No column name)": "-6",
                                    "előző foglalás időtartama": "7"
                                },
                                {
                                    "SZOBA_ID": "55",
                                    "(No column name)": "-2",
                                    "előző foglalás időtartama": "6"
                                },
                                {
                                    "SZOBA_ID": "55",
                                    "(No column name)": "-1",
                                    "előző foglalás időtartama": "2"
                                },
                                {
                                    "SZOBA_ID": "55",
                                    "(No column name)": "-1",
                                    "előző foglalás időtartama": "1"
                                },
                                {
                                    "SZOBA_ID": "56",
                                    "(No column name)": "-4",
                                    "előző foglalás időtartama": "0"
                                },
                                {
                                    "SZOBA_ID": "56",
                                    "(No column name)": "-2",
                                    "előző foglalás időtartama": "4"
                                },
                                {
                                    "SZOBA_ID": "57",
                                    "(No column name)": "-1",
                                    "előző foglalás időtartama": "0"
                                },
                                {
                                    "SZOBA_ID": "57",
                                    "(No column name)": "-1",
                                    "előző foglalás időtartama": "1"
                                },
                                {
                                    "SZOBA_ID": "57",
                                    "(No column name)": "-7",
                                    "előző foglalás időtartama": "1"
                                },
                                {
                                    "SZOBA_ID": "57",
                                    "(No column name)": "-4",
                                    "előző foglalás időtartama": "7"
                                },
                                {
                                    "SZOBA_ID": "58",
                                    "(No column name)": "-5",
                                    "előző foglalás időtartama": "0"
                                },
                                {
                                    "SZOBA_ID": "58",
                                    "(No column name)": "-3",
                                    "előző foglalás időtartama": "5"
                                },
                                {
                                    "SZOBA_ID": "58",
                                    "(No column name)": "-2",
                                    "előző foglalás időtartama": "3"
                                },
                                {
                                    "SZOBA_ID": "58",
                                    "(No column name)": "-3",
                                    "előző foglalás időtartama": "2"
                                },
                                {
                                    "SZOBA_ID": "58",
                                    "(No column name)": "-6",
                                    "előző foglalás időtartama": "3"
                                },
                                {
                                    "SZOBA_ID": "58",
                                    "(No column name)": "-6",
                                    "előző foglalás időtartama": "6"
                                },
                                {
                                    "SZOBA_ID": "58",
                                    "(No column name)": "-7",
                                    "előző foglalás időtartama": "6"
                                },
                                {
                                    "SZOBA_ID": "58",
                                    "(No column name)": "-6",
                                    "előző foglalás időtartama": "7"
                                },
                                {
                                    "SZOBA_ID": "58",
                                    "(No column name)": "-7",
                                    "előző foglalás időtartama": "6"
                                },
                                {
                                    "SZOBA_ID": "58",
                                    "(No column name)": "-3",
                                    "előző foglalás időtartama": "7"
                                },
                                {
                                    "SZOBA_ID": "58",
                                    "(No column name)": "-6",
                                    "előző foglalás időtartama": "3"
                                },
                                {
                                    "SZOBA_ID": "58",
                                    "(No column name)": "-3",
                                    "előző foglalás időtartama": "6"
                                },
                                {
                                    "SZOBA_ID": "58",
                                    "(No column name)": "-6",
                                    "előző foglalás időtartama": "3"
                                },
                                {
                                    "SZOBA_ID": "59",
                                    "(No column name)": "-1",
                                    "előző foglalás időtartama": "0"
                                },
                                {
                                    "SZOBA_ID": "59",
                                    "(No column name)": "-2",
                                    "előző foglalás időtartama": "1"
                                },
                                {
                                    "SZOBA_ID": "59",
                                    "(No column name)": "-5",
                                    "előző foglalás időtartama": "2"
                                },
                                {
                                    "SZOBA_ID": "59",
                                    "(No column name)": "-6",
                                    "előző foglalás időtartama": "5"
                                },
                                {
                                    "SZOBA_ID": "59",
                                    "(No column name)": "-2",
                                    "előző foglalás időtartama": "6"
                                },
                                {
                                    "SZOBA_ID": "59",
                                    "(No column name)": "-3",
                                    "előző foglalás időtartama": "2"
                                },
                                {
                                    "SZOBA_ID": "59",
                                    "(No column name)": "-1",
                                    "előző foglalás időtartama": "3"
                                },
                                {
                                    "SZOBA_ID": "60",
                                    "(No column name)": "-2",
                                    "előző foglalás időtartama": "0"
                                },
                                {
                                    "SZOBA_ID": "61",
                                    "(No column name)": "-2",
                                    "előző foglalás időtartama": "0"
                                },
                                {
                                    "SZOBA_ID": "61",
                                    "(No column name)": "-6",
                                    "előző foglalás időtartama": "2"
                                },
                                {
                                    "SZOBA_ID": "61",
                                    "(No column name)": "-3",
                                    "előző foglalás időtartama": "6"
                                },
                                {
                                    "SZOBA_ID": "61",
                                    "(No column name)": "-2",
                                    "előző foglalás időtartama": "3"
                                },
                                {
                                    "SZOBA_ID": "61",
                                    "(No column name)": "-7",
                                    "előző foglalás időtartama": "2"
                                },
                                {
                                    "SZOBA_ID": "62",
                                    "(No column name)": "-3",
                                    "előző foglalás időtartama": "0"
                                },
                                {
                                    "SZOBA_ID": "62",
                                    "(No column name)": "-1",
                                    "előző foglalás időtartama": "3"
                                },
                                {
                                    "SZOBA_ID": "62",
                                    "(No column name)": "-5",
                                    "előző foglalás időtartama": "1"
                                },
                                {
                                    "SZOBA_ID": "62",
                                    "(No column name)": "-7",
                                    "előző foglalás időtartama": "5"
                                },
                                {
                                    "SZOBA_ID": "62",
                                    "(No column name)": "-4",
                                    "előző foglalás időtartama": "7"
                                },
                                {
                                    "SZOBA_ID": "63",
                                    "(No column name)": "-3",
                                    "előző foglalás időtartama": "0"
                                },
                                {
                                    "SZOBA_ID": "63",
                                    "(No column name)": "-6",
                                    "előző foglalás időtartama": "3"
                                },
                                {
                                    "SZOBA_ID": "63",
                                    "(No column name)": "-5",
                                    "előző foglalás időtartama": "6"
                                },
                                {
                                    "SZOBA_ID": "63",
                                    "(No column name)": "-1",
                                    "előző foglalás időtartama": "5"
                                },
                                {
                                    "SZOBA_ID": "64",
                                    "(No column name)": "-2",
                                    "előző foglalás időtartama": "0"
                                },
                                {
                                    "SZOBA_ID": "64",
                                    "(No column name)": "-4",
                                    "előző foglalás időtartama": "2"
                                },
                                {
                                    "SZOBA_ID": "64",
                                    "(No column name)": "-7",
                                    "előző foglalás időtartama": "4"
                                },
                                {
                                    "SZOBA_ID": "64",
                                    "(No column name)": "-6",
                                    "előző foglalás időtartama": "7"
                                },
                                {
                                    "SZOBA_ID": "64",
                                    "(No column name)": "-4",
                                    "előző foglalás időtartama": "6"
                                },
                                {
                                    "SZOBA_ID": "64",
                                    "(No column name)": "-1",
                                    "előző foglalás időtartama": "4"
                                },
                                {
                                    "SZOBA_ID": "65",
                                    "(No column name)": "-6",
                                    "előző foglalás időtartama": "0"
                                },
                                {
                                    "SZOBA_ID": "66",
                                    "(No column name)": "-3",
                                    "előző foglalás időtartama": "0"
                                },
                                {
                                    "SZOBA_ID": "66",
                                    "(No column name)": "-3",
                                    "előző foglalás időtartama": "3"
                                },
                                {
                                    "SZOBA_ID": "66",
                                    "(No column name)": "-3",
                                    "előző foglalás időtartama": "3"
                                },
                                {
                                    "SZOBA_ID": "66",
                                    "(No column name)": "-4",
                                    "előző foglalás időtartama": "3"
                                },
                                {
                                    "SZOBA_ID": "67",
                                    "(No column name)": "-5",
                                    "előző foglalás időtartama": "0"
                                },
                                {
                                    "SZOBA_ID": "67",
                                    "(No column name)": "-6",
                                    "előző foglalás időtartama": "5"
                                },
                                {
                                    "SZOBA_ID": "67",
                                    "(No column name)": "-6",
                                    "előző foglalás időtartama": "6"
                                },
                                {
                                    "SZOBA_ID": "67",
                                    "(No column name)": "-1",
                                    "előző foglalás időtartama": "6"
                                },
                                {
                                    "SZOBA_ID": "67",
                                    "(No column name)": "-5",
                                    "előző foglalás időtartama": "1"
                                },
                                {
                                    "SZOBA_ID": "67",
                                    "(No column name)": "-1",
                                    "előző foglalás időtartama": "5"
                                },
                                {
                                    "SZOBA_ID": "68",
                                    "(No column name)": "-5",
                                    "előző foglalás időtartama": "0"
                                },
                                {
                                    "SZOBA_ID": "68",
                                    "(No column name)": "-7",
                                    "előző foglalás időtartama": "5"
                                },
                                {
                                    "SZOBA_ID": "68",
                                    "(No column name)": "-4",
                                    "előző foglalás időtartama": "7"
                                },
                                {
                                    "SZOBA_ID": "69",
                                    "(No column name)": "-1",
                                    "előző foglalás időtartama": "0"
                                },
                                {
                                    "SZOBA_ID": "69",
                                    "(No column name)": "-5",
                                    "előző foglalás időtartama": "1"
                                },
                                {
                                    "SZOBA_ID": "69",
                                    "(No column name)": "-5",
                                    "előző foglalás időtartama": "5"
                                },
                                {
                                    "SZOBA_ID": "69",
                                    "(No column name)": "-7",
                                    "előző foglalás időtartama": "5"
                                },
                                {
                                    "SZOBA_ID": "70",
                                    "(No column name)": "-5",
                                    "előző foglalás időtartama": "0"
                                },
                                {
                                    "SZOBA_ID": "70",
                                    "(No column name)": "-2",
                                    "előző foglalás időtartama": "5"
                                },
                                {
                                    "SZOBA_ID": "70",
                                    "(No column name)": "-3",
                                    "előző foglalás időtartama": "2"
                                },
                                {
                                    "SZOBA_ID": "70",
                                    "(No column name)": "-3",
                                    "előző foglalás időtartama": "3"
                                },
                                {
                                    "SZOBA_ID": "70",
                                    "(No column name)": "-3",
                                    "előző foglalás időtartama": "3"
                                },
                                {
                                    "SZOBA_ID": "70",
                                    "(No column name)": "-3",
                                    "előző foglalás időtartama": "3"
                                },
                                {
                                    "SZOBA_ID": "70",
                                    "(No column name)": "-3",
                                    "előző foglalás időtartama": "3"
                                },
                                {
                                    "SZOBA_ID": "70",
                                    "(No column name)": "-7",
                                    "előző foglalás időtartama": "3"
                                },
                                {
                                    "SZOBA_ID": "70",
                                    "(No column name)": "-6",
                                    "előző foglalás időtartama": "7"
                                },
                                {
                                    "SZOBA_ID": "70",
                                    "(No column name)": "-3",
                                    "előző foglalás időtartama": "6"
                                },
                                {
                                    "SZOBA_ID": "70",
                                    "(No column name)": "-7",
                                    "előző foglalás időtartama": "3"
                                },
                                {
                                    "SZOBA_ID": "71",
                                    "(No column name)": "-1",
                                    "előző foglalás időtartama": "0"
                                },
                                {
                                    "SZOBA_ID": "71",
                                    "(No column name)": "-3",
                                    "előző foglalás időtartama": "1"
                                },
                                {
                                    "SZOBA_ID": "71",
                                    "(No column name)": "-1",
                                    "előző foglalás időtartama": "3"
                                },
                                {
                                    "SZOBA_ID": "72",
                                    "(No column name)": "-5",
                                    "előző foglalás időtartama": "0"
                                },
                                {
                                    "SZOBA_ID": "72",
                                    "(No column name)": "-6",
                                    "előző foglalás időtartama": "5"
                                },
                                {
                                    "SZOBA_ID": "72",
                                    "(No column name)": "-2",
                                    "előző foglalás időtartama": "6"
                                },
                                {
                                    "SZOBA_ID": "72",
                                    "(No column name)": "-3",
                                    "előző foglalás időtartama": "2"
                                },
                                {
                                    "SZOBA_ID": "73",
                                    "(No column name)": "-4",
                                    "előző foglalás időtartama": "0"
                                },
                                {
                                    "SZOBA_ID": "73",
                                    "(No column name)": "-7",
                                    "előző foglalás időtartama": "4"
                                },
                                {
                                    "SZOBA_ID": "73",
                                    "(No column name)": "-5",
                                    "előző foglalás időtartama": "7"
                                },
                                {
                                    "SZOBA_ID": "73",
                                    "(No column name)": "-4",
                                    "előző foglalás időtartama": "5"
                                },
                                {
                                    "SZOBA_ID": "74",
                                    "(No column name)": "-7",
                                    "előző foglalás időtartama": "0"
                                },
                                {
                                    "SZOBA_ID": "74",
                                    "(No column name)": "-4",
                                    "előző foglalás időtartama": "7"
                                },
                                {
                                    "SZOBA_ID": "74",
                                    "(No column name)": "-5",
                                    "előző foglalás időtartama": "4"
                                },
                                {
                                    "SZOBA_ID": "74",
                                    "(No column name)": "-1",
                                    "előző foglalás időtartama": "5"
                                },
                                {
                                    "SZOBA_ID": "74",
                                    "(No column name)": "-5",
                                    "előző foglalás időtartama": "1"
                                },
                                {
                                    "SZOBA_ID": "74",
                                    "(No column name)": "-1",
                                    "előző foglalás időtartama": "5"
                                },
                                {
                                    "SZOBA_ID": "74",
                                    "(No column name)": "-3",
                                    "előző foglalás időtartama": "1"
                                },
                                {
                                    "SZOBA_ID": "74",
                                    "(No column name)": "-6",
                                    "előző foglalás időtartama": "3"
                                },
                                {
                                    "SZOBA_ID": "74",
                                    "(No column name)": "-7",
                                    "előző foglalás időtartama": "6"
                                },
                                {
                                    "SZOBA_ID": "75",
                                    "(No column name)": "-5",
                                    "előző foglalás időtartama": "0"
                                },
                                {
                                    "SZOBA_ID": "75",
                                    "(No column name)": "-2",
                                    "előző foglalás időtartama": "5"
                                },
                                {
                                    "SZOBA_ID": "75",
                                    "(No column name)": "-1",
                                    "előző foglalás időtartama": "2"
                                },
                                {
                                    "SZOBA_ID": "76",
                                    "(No column name)": "-2",
                                    "előző foglalás időtartama": "0"
                                },
                                {
                                    "SZOBA_ID": "76",
                                    "(No column name)": "-7",
                                    "előző foglalás időtartama": "2"
                                },
                                {
                                    "SZOBA_ID": "76",
                                    "(No column name)": "-3",
                                    "előző foglalás időtartama": "7"
                                },
                                {
                                    "SZOBA_ID": "77",
                                    "(No column name)": "-3",
                                    "előző foglalás időtartama": "0"
                                },
                                {
                                    "SZOBA_ID": "77",
                                    "(No column name)": "-3",
                                    "előző foglalás időtartama": "3"
                                },
                                {
                                    "SZOBA_ID": "77",
                                    "(No column name)": "-4",
                                    "előző foglalás időtartama": "3"
                                },
                                {
                                    "SZOBA_ID": "77",
                                    "(No column name)": "-1",
                                    "előző foglalás időtartama": "4"
                                },
                                {
                                    "SZOBA_ID": "77",
                                    "(No column name)": "-6",
                                    "előző foglalás időtartama": "1"
                                },
                                {
                                    "SZOBA_ID": "77",
                                    "(No column name)": "-4",
                                    "előző foglalás időtartama": "6"
                                },
                                {
                                    "SZOBA_ID": "78",
                                    "(No column name)": "-1",
                                    "előző foglalás időtartama": "0"
                                },
                                {
                                    "SZOBA_ID": "78",
                                    "(No column name)": "-3",
                                    "előző foglalás időtartama": "1"
                                },
                                {
                                    "SZOBA_ID": "78",
                                    "(No column name)": "-5",
                                    "előző foglalás időtartama": "3"
                                },
                                {
                                    "SZOBA_ID": "78",
                                    "(No column name)": "-2",
                                    "előző foglalás időtartama": "5"
                                },
                                {
                                    "SZOBA_ID": "78",
                                    "(No column name)": "-3",
                                    "előző foglalás időtartama": "2"
                                },
                                {
                                    "SZOBA_ID": "78",
                                    "(No column name)": "-7",
                                    "előző foglalás időtartama": "3"
                                },
                                {
                                    "SZOBA_ID": "79",
                                    "(No column name)": "-6",
                                    "előző foglalás időtartama": "0"
                                },
                                {
                                    "SZOBA_ID": "79",
                                    "(No column name)": "-1",
                                    "előző foglalás időtartama": "6"
                                },
                                {
                                    "SZOBA_ID": "79",
                                    "(No column name)": "-7",
                                    "előző foglalás időtartama": "1"
                                },
                                {
                                    "SZOBA_ID": "79",
                                    "(No column name)": "-3",
                                    "előző foglalás időtartama": "7"
                                },
                                {
                                    "SZOBA_ID": "79",
                                    "(No column name)": "-4",
                                    "előző foglalás időtartama": "3"
                                },
                                {
                                    "SZOBA_ID": "80",
                                    "(No column name)": "-6",
                                    "előző foglalás időtartama": "0"
                                },
                                {
                                    "SZOBA_ID": "80",
                                    "(No column name)": "-2",
                                    "előző foglalás időtartama": "6"
                                },
                                {
                                    "SZOBA_ID": "80",
                                    "(No column name)": "-6",
                                    "előző foglalás időtartama": "2"
                                },
                                {
                                    "SZOBA_ID": "80",
                                    "(No column name)": "-6",
                                    "előző foglalás időtartama": "6"
                                },
                                {
                                    "SZOBA_ID": "80",
                                    "(No column name)": "-4",
                                    "előző foglalás időtartama": "6"
                                },
                                {
                                    "SZOBA_ID": "80",
                                    "(No column name)": "-5",
                                    "előző foglalás időtartama": "4"
                                },
                                {
                                    "SZOBA_ID": "80",
                                    "(No column name)": "-3",
                                    "előző foglalás időtartama": "5"
                                },
                                {
                                    "SZOBA_ID": "81",
                                    "(No column name)": "-5",
                                    "előző foglalás időtartama": "0"
                                },
                                {
                                    "SZOBA_ID": "81",
                                    "(No column name)": "-7",
                                    "előző foglalás időtartama": "5"
                                },
                                {
                                    "SZOBA_ID": "81",
                                    "(No column name)": "-7",
                                    "előző foglalás időtartama": "7"
                                },
                                {
                                    "SZOBA_ID": "81",
                                    "(No column name)": "-3",
                                    "előző foglalás időtartama": "7"
                                },
                                {
                                    "SZOBA_ID": "81",
                                    "(No column name)": "-3",
                                    "előző foglalás időtartama": "3"
                                },
                                {
                                    "SZOBA_ID": "82",
                                    "(No column name)": "-4",
                                    "előző foglalás időtartama": "0"
                                },
                                {
                                    "SZOBA_ID": "82",
                                    "(No column name)": "-5",
                                    "előző foglalás időtartama": "4"
                                },
                                {
                                    "SZOBA_ID": "82",
                                    "(No column name)": "-6",
                                    "előző foglalás időtartama": "5"
                                },
                                {
                                    "SZOBA_ID": "82",
                                    "(No column name)": "-5",
                                    "előző foglalás időtartama": "6"
                                },
                                {
                                    "SZOBA_ID": "82",
                                    "(No column name)": "-2",
                                    "előző foglalás időtartama": "5"
                                },
                                {
                                    "SZOBA_ID": "82",
                                    "(No column name)": "-1",
                                    "előző foglalás időtartama": "2"
                                },
                                {
                                    "SZOBA_ID": "83",
                                    "(No column name)": "-7",
                                    "előző foglalás időtartama": "0"
                                },
                                {
                                    "SZOBA_ID": "83",
                                    "(No column name)": "-6",
                                    "előző foglalás időtartama": "7"
                                },
                                {
                                    "SZOBA_ID": "83",
                                    "(No column name)": "-6",
                                    "előző foglalás időtartama": "6"
                                },
                                {
                                    "SZOBA_ID": "83",
                                    "(No column name)": "-5",
                                    "előző foglalás időtartama": "6"
                                },
                                {
                                    "SZOBA_ID": "83",
                                    "(No column name)": "-4",
                                    "előző foglalás időtartama": "5"
                                },
                                {
                                    "SZOBA_ID": "83",
                                    "(No column name)": "-4",
                                    "előző foglalás időtartama": "4"
                                },
                                {
                                    "SZOBA_ID": "83",
                                    "(No column name)": "-6",
                                    "előző foglalás időtartama": "4"
                                },
                                {
                                    "SZOBA_ID": "83",
                                    "(No column name)": "-7",
                                    "előző foglalás időtartama": "6"
                                },
                                {
                                    "SZOBA_ID": "84",
                                    "(No column name)": "-5",
                                    "előző foglalás időtartama": "0"
                                },
                                {
                                    "SZOBA_ID": "84",
                                    "(No column name)": "-2",
                                    "előző foglalás időtartama": "5"
                                },
                                {
                                    "SZOBA_ID": "84",
                                    "(No column name)": "-5",
                                    "előző foglalás időtartama": "2"
                                },
                                {
                                    "SZOBA_ID": "84",
                                    "(No column name)": "-7",
                                    "előző foglalás időtartama": "5"
                                },
                                {
                                    "SZOBA_ID": "85",
                                    "(No column name)": "-3",
                                    "előző foglalás időtartama": "0"
                                },
                                {
                                    "SZOBA_ID": "85",
                                    "(No column name)": "-3",
                                    "előző foglalás időtartama": "3"
                                },
                                {
                                    "SZOBA_ID": "85",
                                    "(No column name)": "-1",
                                    "előző foglalás időtartama": "3"
                                },
                                {
                                    "SZOBA_ID": "85",
                                    "(No column name)": "-7",
                                    "előző foglalás időtartama": "1"
                                },
                                {
                                    "SZOBA_ID": "86",
                                    "(No column name)": "-1",
                                    "előző foglalás időtartama": "0"
                                },
                                {
                                    "SZOBA_ID": "86",
                                    "(No column name)": "-5",
                                    "előző foglalás időtartama": "1"
                                },
                                {
                                    "SZOBA_ID": "86",
                                    "(No column name)": "-4",
                                    "előző foglalás időtartama": "5"
                                },
                                {
                                    "SZOBA_ID": "86",
                                    "(No column name)": "-1",
                                    "előző foglalás időtartama": "4"
                                },
                                {
                                    "SZOBA_ID": "86",
                                    "(No column name)": "-1",
                                    "előző foglalás időtartama": "1"
                                },
                                {
                                    "SZOBA_ID": "87",
                                    "(No column name)": "-4",
                                    "előző foglalás időtartama": "0"
                                },
                                {
                                    "SZOBA_ID": "87",
                                    "(No column name)": "-1",
                                    "előző foglalás időtartama": "4"
                                },
                                {
                                    "SZOBA_ID": "87",
                                    "(No column name)": "-3",
                                    "előző foglalás időtartama": "1"
                                },
                                {
                                    "SZOBA_ID": "87",
                                    "(No column name)": "-5",
                                    "előző foglalás időtartama": "3"
                                },
                                {
                                    "SZOBA_ID": "87",
                                    "(No column name)": "-5",
                                    "előző foglalás időtartama": "5"
                                },
                                {
                                    "SZOBA_ID": "88",
                                    "(No column name)": "-2",
                                    "előző foglalás időtartama": "0"
                                },
                                {
                                    "SZOBA_ID": "88",
                                    "(No column name)": "-7",
                                    "előző foglalás időtartama": "2"
                                },
                                {
                                    "SZOBA_ID": "88",
                                    "(No column name)": "-3",
                                    "előző foglalás időtartama": "7"
                                },
                                {
                                    "SZOBA_ID": "88",
                                    "(No column name)": "-7",
                                    "előző foglalás időtartama": "3"
                                },
                                {
                                    "SZOBA_ID": "88",
                                    "(No column name)": "-3",
                                    "előző foglalás időtartama": "7"
                                },
                                {
                                    "SZOBA_ID": "88",
                                    "(No column name)": "-2",
                                    "előző foglalás időtartama": "3"
                                },
                                {
                                    "SZOBA_ID": "88",
                                    "(No column name)": "-7",
                                    "előző foglalás időtartama": "2"
                                },
                                {
                                    "SZOBA_ID": "88",
                                    "(No column name)": "-6",
                                    "előző foglalás időtartama": "7"
                                },
                                {
                                    "SZOBA_ID": "89",
                                    "(No column name)": "-3",
                                    "előző foglalás időtartama": "0"
                                },
                                {
                                    "SZOBA_ID": "89",
                                    "(No column name)": "-7",
                                    "előző foglalás időtartama": "3"
                                },
                                {
                                    "SZOBA_ID": "89",
                                    "(No column name)": "-5",
                                    "előző foglalás időtartama": "7"
                                },
                                {
                                    "SZOBA_ID": "89",
                                    "(No column name)": "-6",
                                    "előző foglalás időtartama": "5"
                                },
                                {
                                    "SZOBA_ID": "89",
                                    "(No column name)": "-2",
                                    "előző foglalás időtartama": "6"
                                },
                                {
                                    "SZOBA_ID": "89",
                                    "(No column name)": "-2",
                                    "előző foglalás időtartama": "2"
                                },
                                {
                                    "SZOBA_ID": "89",
                                    "(No column name)": "-2",
                                    "előző foglalás időtartama": "2"
                                },
                                {
                                    "SZOBA_ID": "89",
                                    "(No column name)": "-7",
                                    "előző foglalás időtartama": "2"
                                },
                                {
                                    "SZOBA_ID": "90",
                                    "(No column name)": "-2",
                                    "előző foglalás időtartama": "0"
                                },
                                {
                                    "SZOBA_ID": "90",
                                    "(No column name)": "-7",
                                    "előző foglalás időtartama": "2"
                                },
                                {
                                    "SZOBA_ID": "90",
                                    "(No column name)": "-6",
                                    "előző foglalás időtartama": "7"
                                },
                                {
                                    "SZOBA_ID": "90",
                                    "(No column name)": "-5",
                                    "előző foglalás időtartama": "6"
                                },
                                {
                                    "SZOBA_ID": "91",
                                    "(No column name)": "-6",
                                    "előző foglalás időtartama": "0"
                                },
                                {
                                    "SZOBA_ID": "91",
                                    "(No column name)": "-4",
                                    "előző foglalás időtartama": "6"
                                },
                                {
                                    "SZOBA_ID": "91",
                                    "(No column name)": "-3",
                                    "előző foglalás időtartama": "4"
                                },
                                {
                                    "SZOBA_ID": "91",
                                    "(No column name)": "-4",
                                    "előző foglalás időtartama": "3"
                                },
                                {
                                    "SZOBA_ID": "92",
                                    "(No column name)": "-6",
                                    "előző foglalás időtartama": "0"
                                },
                                {
                                    "SZOBA_ID": "92",
                                    "(No column name)": "-2",
                                    "előző foglalás időtartama": "6"
                                },
                                {
                                    "SZOBA_ID": "92",
                                    "(No column name)": "-3",
                                    "előző foglalás időtartama": "2"
                                },
                                {
                                    "SZOBA_ID": "92",
                                    "(No column name)": "-6",
                                    "előző foglalás időtartama": "3"
                                },
                                {
                                    "SZOBA_ID": "92",
                                    "(No column name)": "-2",
                                    "előző foglalás időtartama": "6"
                                },
                                {
                                    "SZOBA_ID": "92",
                                    "(No column name)": "-4",
                                    "előző foglalás időtartama": "2"
                                },
                                {
                                    "SZOBA_ID": "93",
                                    "(No column name)": "-7",
                                    "előző foglalás időtartama": "0"
                                },
                                {
                                    "SZOBA_ID": "93",
                                    "(No column name)": "-4",
                                    "előző foglalás időtartama": "7"
                                },
                                {
                                    "SZOBA_ID": "93",
                                    "(No column name)": "-1",
                                    "előző foglalás időtartama": "4"
                                },
                                {
                                    "SZOBA_ID": "93",
                                    "(No column name)": "-2",
                                    "előző foglalás időtartama": "1"
                                },
                                {
                                    "SZOBA_ID": "93",
                                    "(No column name)": "-4",
                                    "előző foglalás időtartama": "2"
                                },
                                {
                                    "SZOBA_ID": "94",
                                    "(No column name)": "-4",
                                    "előző foglalás időtartama": "0"
                                },
                                {
                                    "SZOBA_ID": "94",
                                    "(No column name)": "-5",
                                    "előző foglalás időtartama": "4"
                                },
                                {
                                    "SZOBA_ID": "94",
                                    "(No column name)": "-7",
                                    "előző foglalás időtartama": "5"
                                },
                                {
                                    "SZOBA_ID": "94",
                                    "(No column name)": "-3",
                                    "előző foglalás időtartama": "7"
                                },
                                {
                                    "SZOBA_ID": "94",
                                    "(No column name)": "-7",
                                    "előző foglalás időtartama": "3"
                                },
                                {
                                    "SZOBA_ID": "94",
                                    "(No column name)": "-2",
                                    "előző foglalás időtartama": "7"
                                },
                                {
                                    "SZOBA_ID": "94",
                                    "(No column name)": "-3",
                                    "előző foglalás időtartama": "2"
                                },
                                {
                                    "SZOBA_ID": "94",
                                    "(No column name)": "-1",
                                    "előző foglalás időtartama": "3"
                                },
                                {
                                    "SZOBA_ID": "94",
                                    "(No column name)": "-2",
                                    "előző foglalás időtartama": "1"
                                },
                                {
                                    "SZOBA_ID": "94",
                                    "(No column name)": "-7",
                                    "előző foglalás időtartama": "2"
                                },
                                {
                                    "SZOBA_ID": "95",
                                    "(No column name)": "-7",
                                    "előző foglalás időtartama": "0"
                                },
                                {
                                    "SZOBA_ID": "95",
                                    "(No column name)": "-3",
                                    "előző foglalás időtartama": "7"
                                },
                                {
                                    "SZOBA_ID": "95",
                                    "(No column name)": "-4",
                                    "előző foglalás időtartama": "3"
                                },
                                {
                                    "SZOBA_ID": "95",
                                    "(No column name)": "-7",
                                    "előző foglalás időtartama": "4"
                                },
                                {
                                    "SZOBA_ID": "96",
                                    "(No column name)": "-4",
                                    "előző foglalás időtartama": "0"
                                },
                                {
                                    "SZOBA_ID": "96",
                                    "(No column name)": "-7",
                                    "előző foglalás időtartama": "4"
                                },
                                {
                                    "SZOBA_ID": "96",
                                    "(No column name)": "-4",
                                    "előző foglalás időtartama": "7"
                                },
                                {
                                    "SZOBA_ID": "96",
                                    "(No column name)": "-1",
                                    "előző foglalás időtartama": "4"
                                },
                                {
                                    "SZOBA_ID": "96",
                                    "(No column name)": "-3",
                                    "előző foglalás időtartama": "1"
                                },
                                {
                                    "SZOBA_ID": "96",
                                    "(No column name)": "-2",
                                    "előző foglalás időtartama": "3"
                                },
                                {
                                    "SZOBA_ID": "96",
                                    "(No column name)": "-7",
                                    "előző foglalás időtartama": "2"
                                },
                                {
                                    "SZOBA_ID": "97",
                                    "(No column name)": "-3",
                                    "előző foglalás időtartama": "0"
                                },
                                {
                                    "SZOBA_ID": "97",
                                    "(No column name)": "-4",
                                    "előző foglalás időtartama": "3"
                                },
                                {
                                    "SZOBA_ID": "97",
                                    "(No column name)": "-7",
                                    "előző foglalás időtartama": "4"
                                },
                                {
                                    "SZOBA_ID": "97",
                                    "(No column name)": "-2",
                                    "előző foglalás időtartama": "7"
                                },
                                {
                                    "SZOBA_ID": "97",
                                    "(No column name)": "-1",
                                    "előző foglalás időtartama": "2"
                                },
                                {
                                    "SZOBA_ID": "97",
                                    "(No column name)": "-7",
                                    "előző foglalás időtartama": "1"
                                },
                                {
                                    "SZOBA_ID": "97",
                                    "(No column name)": "-2",
                                    "előző foglalás időtartama": "7"
                                },
                                {
                                    "SZOBA_ID": "98",
                                    "(No column name)": "-6",
                                    "előző foglalás időtartama": "0"
                                },
                                {
                                    "SZOBA_ID": "98",
                                    "(No column name)": "-5",
                                    "előző foglalás időtartama": "6"
                                },
                                {
                                    "SZOBA_ID": "98",
                                    "(No column name)": "-6",
                                    "előző foglalás időtartama": "5"
                                },
                                {
                                    "SZOBA_ID": "98",
                                    "(No column name)": "-2",
                                    "előző foglalás időtartama": "6"
                                },
                                {
                                    "SZOBA_ID": "99",
                                    "(No column name)": "-1",
                                    "előző foglalás időtartama": "0"
                                },
                                {
                                    "SZOBA_ID": "99",
                                    "(No column name)": "-5",
                                    "előző foglalás időtartama": "1"
                                },
                                {
                                    "SZOBA_ID": "99",
                                    "(No column name)": "-1",
                                    "előző foglalás időtartama": "5"
                                },
                                {
                                    "SZOBA_ID": "99",
                                    "(No column name)": "-1",
                                    "előző foglalás időtartama": "1"
                                },
                                {
                                    "SZOBA_ID": "99",
                                    "(No column name)": "-5",
                                    "előző foglalás időtartama": "1"
                                },
                                {
                                    "SZOBA_ID": "100",
                                    "(No column name)": "-1",
                                    "előző foglalás időtartama": "0"
                                },
                                {
                                    "SZOBA_ID": "100",
                                    "(No column name)": "-5",
                                    "előző foglalás időtartama": "1"
                                },
                                {
                                    "SZOBA_ID": "100",
                                    "(No column name)": "-5",
                                    "előző foglalás időtartama": "5"
                                },
                                {
                                    "SZOBA_ID": "100",
                                    "(No column name)": "-7",
                                    "előző foglalás időtartama": "5"
                                },
                                {
                                    "SZOBA_ID": "101",
                                    "(No column name)": "-3",
                                    "előző foglalás időtartama": "0"
                                },
                                {
                                    "SZOBA_ID": "101",
                                    "(No column name)": "-6",
                                    "előző foglalás időtartama": "3"
                                },
                                {
                                    "SZOBA_ID": "101",
                                    "(No column name)": "-4",
                                    "előző foglalás időtartama": "6"
                                },
                                {
                                    "SZOBA_ID": "102",
                                    "(No column name)": "-5",
                                    "előző foglalás időtartama": "0"
                                },
                                {
                                    "SZOBA_ID": "102",
                                    "(No column name)": "-2",
                                    "előző foglalás időtartama": "5"
                                },
                                {
                                    "SZOBA_ID": "103",
                                    "(No column name)": "-2",
                                    "előző foglalás időtartama": "0"
                                },
                                {
                                    "SZOBA_ID": "103",
                                    "(No column name)": "-7",
                                    "előző foglalás időtartama": "2"
                                },
                                {
                                    "SZOBA_ID": "103",
                                    "(No column name)": "-1",
                                    "előző foglalás időtartama": "7"
                                },
                                {
                                    "SZOBA_ID": "103",
                                    "(No column name)": "-4",
                                    "előző foglalás időtartama": "1"
                                },
                                {
                                    "SZOBA_ID": "104",
                                    "(No column name)": "-4",
                                    "előző foglalás időtartama": "0"
                                },
                                {
                                    "SZOBA_ID": "104",
                                    "(No column name)": "-1",
                                    "előző foglalás időtartama": "4"
                                },
                                {
                                    "SZOBA_ID": "104",
                                    "(No column name)": "-2",
                                    "előző foglalás időtartama": "1"
                                },
                                {
                                    "SZOBA_ID": "104",
                                    "(No column name)": "-3",
                                    "előző foglalás időtartama": "2"
                                },
                                {
                                    "SZOBA_ID": "105",
                                    "(No column name)": "-1",
                                    "előző foglalás időtartama": "0"
                                },
                                {
                                    "SZOBA_ID": "105",
                                    "(No column name)": "-5",
                                    "előző foglalás időtartama": "1"
                                },
                                {
                                    "SZOBA_ID": "106",
                                    "(No column name)": "-3",
                                    "előző foglalás időtartama": "0"
                                },
                                {
                                    "SZOBA_ID": "106",
                                    "(No column name)": "-7",
                                    "előző foglalás időtartama": "3"
                                },
                                {
                                    "SZOBA_ID": "106",
                                    "(No column name)": "-7",
                                    "előző foglalás időtartama": "7"
                                },
                                {
                                    "SZOBA_ID": "106",
                                    "(No column name)": "-5",
                                    "előző foglalás időtartama": "7"
                                },
                                {
                                    "SZOBA_ID": "106",
                                    "(No column name)": "-7",
                                    "előző foglalás időtartama": "5"
                                },
                                {
                                    "SZOBA_ID": "106",
                                    "(No column name)": "-6",
                                    "előző foglalás időtartama": "7"
                                },
                                {
                                    "SZOBA_ID": "107",
                                    "(No column name)": "-6",
                                    "előző foglalás időtartama": "0"
                                },
                                {
                                    "SZOBA_ID": "107",
                                    "(No column name)": "-4",
                                    "előző foglalás időtartama": "6"
                                },
                                {
                                    "SZOBA_ID": "107",
                                    "(No column name)": "-1",
                                    "előző foglalás időtartama": "4"
                                },
                                {
                                    "SZOBA_ID": "107",
                                    "(No column name)": "-6",
                                    "előző foglalás időtartama": "1"
                                },
                                {
                                    "SZOBA_ID": "107",
                                    "(No column name)": "-2",
                                    "előző foglalás időtartama": "6"
                                },
                                {
                                    "SZOBA_ID": "108",
                                    "(No column name)": "-1",
                                    "előző foglalás időtartama": "0"
                                },
                                {
                                    "SZOBA_ID": "108",
                                    "(No column name)": "-6",
                                    "előző foglalás időtartama": "1"
                                },
                                {
                                    "SZOBA_ID": "109",
                                    "(No column name)": "-4",
                                    "előző foglalás időtartama": "0"
                                },
                                {
                                    "SZOBA_ID": "109",
                                    "(No column name)": "-7",
                                    "előző foglalás időtartama": "4"
                                },
                                {
                                    "SZOBA_ID": "109",
                                    "(No column name)": "-5",
                                    "előző foglalás időtartama": "7"
                                },
                                {
                                    "SZOBA_ID": "109",
                                    "(No column name)": "-2",
                                    "előző foglalás időtartama": "5"
                                },
                                {
                                    "SZOBA_ID": "109",
                                    "(No column name)": "-1",
                                    "előző foglalás időtartama": "2"
                                },
                                {
                                    "SZOBA_ID": "109",
                                    "(No column name)": "-4",
                                    "előző foglalás időtartama": "1"
                                },
                                {
                                    "SZOBA_ID": "109",
                                    "(No column name)": "-1",
                                    "előző foglalás időtartama": "4"
                                },
                                {
                                    "SZOBA_ID": "110",
                                    "(No column name)": "-5",
                                    "előző foglalás időtartama": "0"
                                },
                                {
                                    "SZOBA_ID": "110",
                                    "(No column name)": "-6",
                                    "előző foglalás időtartama": "5"
                                },
                                {
                                    "SZOBA_ID": "110",
                                    "(No column name)": "-1",
                                    "előző foglalás időtartama": "6"
                                },
                                {
                                    "SZOBA_ID": "110",
                                    "(No column name)": "-3",
                                    "előző foglalás időtartama": "1"
                                },
                                {
                                    "SZOBA_ID": "110",
                                    "(No column name)": "-5",
                                    "előző foglalás időtartama": "3"
                                },
                                {
                                    "SZOBA_ID": "110",
                                    "(No column name)": "-2",
                                    "előző foglalás időtartama": "5"
                                },
                                {
                                    "SZOBA_ID": "110",
                                    "(No column name)": "-1",
                                    "előző foglalás időtartama": "2"
                                },
                                {
                                    "SZOBA_ID": "110",
                                    "(No column name)": "-6",
                                    "előző foglalás időtartama": "1"
                                },
                                {
                                    "SZOBA_ID": "111",
                                    "(No column name)": "-7",
                                    "előző foglalás időtartama": "0"
                                },
                                {
                                    "SZOBA_ID": "111",
                                    "(No column name)": "-7",
                                    "előző foglalás időtartama": "7"
                                },
                                {
                                    "SZOBA_ID": "111",
                                    "(No column name)": "-4",
                                    "előző foglalás időtartama": "7"
                                },
                                {
                                    "SZOBA_ID": "111",
                                    "(No column name)": "-3",
                                    "előző foglalás időtartama": "4"
                                },
                                {
                                    "SZOBA_ID": "111",
                                    "(No column name)": "-5",
                                    "előző foglalás időtartama": "3"
                                },
                                {
                                    "SZOBA_ID": "112",
                                    "(No column name)": "-1",
                                    "előző foglalás időtartama": "0"
                                },
                                {
                                    "SZOBA_ID": "112",
                                    "(No column name)": "-4",
                                    "előző foglalás időtartama": "1"
                                },
                                {
                                    "SZOBA_ID": "112",
                                    "(No column name)": "-5",
                                    "előző foglalás időtartama": "4"
                                },
                                {
                                    "SZOBA_ID": "112",
                                    "(No column name)": "-6",
                                    "előző foglalás időtartama": "5"
                                },
                                {
                                    "SZOBA_ID": "112",
                                    "(No column name)": "-6",
                                    "előző foglalás időtartama": "6"
                                },
                                {
                                    "SZOBA_ID": "113",
                                    "(No column name)": "-5",
                                    "előző foglalás időtartama": "0"
                                },
                                {
                                    "SZOBA_ID": "113",
                                    "(No column name)": "-4",
                                    "előző foglalás időtartama": "5"
                                },
                                {
                                    "SZOBA_ID": "113",
                                    "(No column name)": "-1",
                                    "előző foglalás időtartama": "4"
                                },
                                {
                                    "SZOBA_ID": "113",
                                    "(No column name)": "-7",
                                    "előző foglalás időtartama": "1"
                                },
                                {
                                    "SZOBA_ID": "113",
                                    "(No column name)": "-2",
                                    "előző foglalás időtartama": "7"
                                },
                                {
                                    "SZOBA_ID": "114",
                                    "(No column name)": "-6",
                                    "előző foglalás időtartama": "0"
                                },
                                {
                                    "SZOBA_ID": "114",
                                    "(No column name)": "-2",
                                    "előző foglalás időtartama": "6"
                                },
                                {
                                    "SZOBA_ID": "114",
                                    "(No column name)": "-7",
                                    "előző foglalás időtartama": "2"
                                },
                                {
                                    "SZOBA_ID": "114",
                                    "(No column name)": "-3",
                                    "előző foglalás időtartama": "7"
                                },
                                {
                                    "SZOBA_ID": "115",
                                    "(No column name)": "-7",
                                    "előző foglalás időtartama": "0"
                                },
                                {
                                    "SZOBA_ID": "115",
                                    "(No column name)": "-7",
                                    "előző foglalás időtartama": "7"
                                },
                                {
                                    "SZOBA_ID": "115",
                                    "(No column name)": "-7",
                                    "előző foglalás időtartama": "7"
                                },
                                {
                                    "SZOBA_ID": "115",
                                    "(No column name)": "-4",
                                    "előző foglalás időtartama": "7"
                                },
                                {
                                    "SZOBA_ID": "115",
                                    "(No column name)": "-3",
                                    "előző foglalás időtartama": "4"
                                },
                                {
                                    "SZOBA_ID": "115",
                                    "(No column name)": "-3",
                                    "előző foglalás időtartama": "3"
                                },
                                {
                                    "SZOBA_ID": "115",
                                    "(No column name)": "-1",
                                    "előző foglalás időtartama": "3"
                                },
                                {
                                    "SZOBA_ID": "116",
                                    "(No column name)": "-2",
                                    "előző foglalás időtartama": "0"
                                },
                                {
                                    "SZOBA_ID": "116",
                                    "(No column name)": "-4",
                                    "előző foglalás időtartama": "2"
                                },
                                {
                                    "SZOBA_ID": "117",
                                    "(No column name)": "-2",
                                    "előző foglalás időtartama": "0"
                                },
                                {
                                    "SZOBA_ID": "117",
                                    "(No column name)": "-3",
                                    "előző foglalás időtartama": "2"
                                },
                                {
                                    "SZOBA_ID": "117",
                                    "(No column name)": "-5",
                                    "előző foglalás időtartama": "3"
                                },
                                {
                                    "SZOBA_ID": "117",
                                    "(No column name)": "-4",
                                    "előző foglalás időtartama": "5"
                                },
                                {
                                    "SZOBA_ID": "117",
                                    "(No column name)": "-1",
                                    "előző foglalás időtartama": "4"
                                },
                                {
                                    "SZOBA_ID": "117",
                                    "(No column name)": "-2",
                                    "előző foglalás időtartama": "1"
                                },
                                {
                                    "SZOBA_ID": "117",
                                    "(No column name)": "-3",
                                    "előző foglalás időtartama": "2"
                                },
                                {
                                    "SZOBA_ID": "117",
                                    "(No column name)": "-7",
                                    "előző foglalás időtartama": "3"
                                },
                                {
                                    "SZOBA_ID": "118",
                                    "(No column name)": "-6",
                                    "előző foglalás időtartama": "0"
                                },
                                {
                                    "SZOBA_ID": "118",
                                    "(No column name)": "-7",
                                    "előző foglalás időtartama": "6"
                                },
                                {
                                    "SZOBA_ID": "118",
                                    "(No column name)": "-3",
                                    "előző foglalás időtartama": "7"
                                },
                                {
                                    "SZOBA_ID": "118",
                                    "(No column name)": "-1",
                                    "előző foglalás időtartama": "3"
                                },
                                {
                                    "SZOBA_ID": "118",
                                    "(No column name)": "-5",
                                    "előző foglalás időtartama": "1"
                                },
                                {
                                    "SZOBA_ID": "118",
                                    "(No column name)": "-6",
                                    "előző foglalás időtartama": "5"
                                },
                                {
                                    "SZOBA_ID": "118",
                                    "(No column name)": "-3",
                                    "előző foglalás időtartama": "6"
                                },
                                {
                                    "SZOBA_ID": "119",
                                    "(No column name)": "-3",
                                    "előző foglalás időtartama": "0"
                                },
                                {
                                    "SZOBA_ID": "119",
                                    "(No column name)": "-2",
                                    "előző foglalás időtartama": "3"
                                },
                                {
                                    "SZOBA_ID": "119",
                                    "(No column name)": "-1",
                                    "előző foglalás időtartama": "2"
                                },
                                {
                                    "SZOBA_ID": "119",
                                    "(No column name)": "-3",
                                    "előző foglalás időtartama": "1"
                                },
                                {
                                    "SZOBA_ID": "119",
                                    "(No column name)": "-3",
                                    "előző foglalás időtartama": "3"
                                },
                                {
                                    "SZOBA_ID": "120",
                                    "(No column name)": "-3",
                                    "előző foglalás időtartama": "0"
                                },
                                {
                                    "SZOBA_ID": "120",
                                    "(No column name)": "-3",
                                    "előző foglalás időtartama": "3"
                                },
                                {
                                    "SZOBA_ID": "120",
                                    "(No column name)": "-6",
                                    "előző foglalás időtartama": "3"
                                },
                                {
                                    "SZOBA_ID": "120",
                                    "(No column name)": "-6",
                                    "előző foglalás időtartama": "6"
                                },
                                {
                                    "SZOBA_ID": "120",
                                    "(No column name)": "-1",
                                    "előző foglalás időtartama": "6"
                                },
                                {
                                    "SZOBA_ID": "120",
                                    "(No column name)": "-7",
                                    "előző foglalás időtartama": "1"
                                },
                                {
                                    "SZOBA_ID": "121",
                                    "(No column name)": "-5",
                                    "előző foglalás időtartama": "0"
                                },
                                {
                                    "SZOBA_ID": "121",
                                    "(No column name)": "-6",
                                    "előző foglalás időtartama": "5"
                                },
                                {
                                    "SZOBA_ID": "121",
                                    "(No column name)": "-6",
                                    "előző foglalás időtartama": "6"
                                },
                                {
                                    "SZOBA_ID": "121",
                                    "(No column name)": "-3",
                                    "előző foglalás időtartama": "6"
                                },
                                {
                                    "SZOBA_ID": "121",
                                    "(No column name)": "-4",
                                    "előző foglalás időtartama": "3"
                                },
                                {
                                    "SZOBA_ID": "121",
                                    "(No column name)": "-4",
                                    "előző foglalás időtartama": "4"
                                },
                                {
                                    "SZOBA_ID": "121",
                                    "(No column name)": "-5",
                                    "előző foglalás időtartama": "4"
                                },
                                {
                                    "SZOBA_ID": "121",
                                    "(No column name)": "-6",
                                    "előző foglalás időtartama": "5"
                                },
                                {
                                    "SZOBA_ID": "122",
                                    "(No column name)": "-2",
                                    "előző foglalás időtartama": "0"
                                },
                                {
                                    "SZOBA_ID": "122",
                                    "(No column name)": "-2",
                                    "előző foglalás időtartama": "2"
                                },
                                {
                                    "SZOBA_ID": "122",
                                    "(No column name)": "-3",
                                    "előző foglalás időtartama": "2"
                                },
                                {
                                    "SZOBA_ID": "122",
                                    "(No column name)": "-4",
                                    "előző foglalás időtartama": "3"
                                },
                                {
                                    "SZOBA_ID": "122",
                                    "(No column name)": "-1",
                                    "előző foglalás időtartama": "4"
                                },
                                {
                                    "SZOBA_ID": "122",
                                    "(No column name)": "-2",
                                    "előző foglalás időtartama": "1"
                                },
                                {
                                    "SZOBA_ID": "122",
                                    "(No column name)": "-2",
                                    "előző foglalás időtartama": "2"
                                },
                                {
                                    "SZOBA_ID": "122",
                                    "(No column name)": "-5",
                                    "előző foglalás időtartama": "2"
                                },
                                {
                                    "SZOBA_ID": "122",
                                    "(No column name)": "-3",
                                    "előző foglalás időtartama": "5"
                                },
                                {
                                    "SZOBA_ID": "123",
                                    "(No column name)": "-7",
                                    "előző foglalás időtartama": "0"
                                },
                                {
                                    "SZOBA_ID": "123",
                                    "(No column name)": "-4",
                                    "előző foglalás időtartama": "7"
                                },
                                {
                                    "SZOBA_ID": "123",
                                    "(No column name)": "-5",
                                    "előző foglalás időtartama": "4"
                                },
                                {
                                    "SZOBA_ID": "123",
                                    "(No column name)": "-1",
                                    "előző foglalás időtartama": "5"
                                },
                                {
                                    "SZOBA_ID": "123",
                                    "(No column name)": "-6",
                                    "előző foglalás időtartama": "1"
                                },
                                {
                                    "SZOBA_ID": "124",
                                    "(No column name)": "-1",
                                    "előző foglalás időtartama": "0"
                                },
                                {
                                    "SZOBA_ID": "124",
                                    "(No column name)": "-4",
                                    "előző foglalás időtartama": "1"
                                },
                                {
                                    "SZOBA_ID": "124",
                                    "(No column name)": "-7",
                                    "előző foglalás időtartama": "4"
                                },
                                {
                                    "SZOBA_ID": "124",
                                    "(No column name)": "-6",
                                    "előző foglalás időtartama": "7"
                                },
                                {
                                    "SZOBA_ID": "124",
                                    "(No column name)": "-3",
                                    "előző foglalás időtartama": "6"
                                },
                                {
                                    "SZOBA_ID": "124",
                                    "(No column name)": "-6",
                                    "előző foglalás időtartama": "3"
                                },
                                {
                                    "SZOBA_ID": "125",
                                    "(No column name)": "-1",
                                    "előző foglalás időtartama": "0"
                                },
                                {
                                    "SZOBA_ID": "126",
                                    "(No column name)": "-4",
                                    "előző foglalás időtartama": "0"
                                },
                                {
                                    "SZOBA_ID": "126",
                                    "(No column name)": "-6",
                                    "előző foglalás időtartama": "4"
                                },
                                {
                                    "SZOBA_ID": "126",
                                    "(No column name)": "-1",
                                    "előző foglalás időtartama": "6"
                                },
                                {
                                    "SZOBA_ID": "126",
                                    "(No column name)": "-6",
                                    "előző foglalás időtartama": "1"
                                },
                                {
                                    "SZOBA_ID": "126",
                                    "(No column name)": "-7",
                                    "előző foglalás időtartama": "6"
                                },
                                {
                                    "SZOBA_ID": "126",
                                    "(No column name)": "-4",
                                    "előző foglalás időtartama": "7"
                                },
                                {
                                    "SZOBA_ID": "127",
                                    "(No column name)": "-2",
                                    "előző foglalás időtartama": "0"
                                },
                                {
                                    "SZOBA_ID": "127",
                                    "(No column name)": "-5",
                                    "előző foglalás időtartama": "2"
                                },
                                {
                                    "SZOBA_ID": "127",
                                    "(No column name)": "-2",
                                    "előző foglalás időtartama": "5"
                                },
                                {
                                    "SZOBA_ID": "127",
                                    "(No column name)": "-6",
                                    "előző foglalás időtartama": "2"
                                },
                                {
                                    "SZOBA_ID": "127",
                                    "(No column name)": "-5",
                                    "előző foglalás időtartama": "6"
                                },
                                {
                                    "SZOBA_ID": "127",
                                    "(No column name)": "-1",
                                    "előző foglalás időtartama": "5"
                                },
                                {
                                    "SZOBA_ID": "127",
                                    "(No column name)": "-5",
                                    "előző foglalás időtartama": "1"
                                },
                                {
                                    "SZOBA_ID": "128",
                                    "(No column name)": "-2",
                                    "előző foglalás időtartama": "0"
                                },
                                {
                                    "SZOBA_ID": "128",
                                    "(No column name)": "-1",
                                    "előző foglalás időtartama": "2"
                                },
                                {
                                    "SZOBA_ID": "128",
                                    "(No column name)": "-1",
                                    "előző foglalás időtartama": "1"
                                },
                                {
                                    "SZOBA_ID": "128",
                                    "(No column name)": "-1",
                                    "előző foglalás időtartama": "1"
                                },
                                {
                                    "SZOBA_ID": "128",
                                    "(No column name)": "-4",
                                    "előző foglalás időtartama": "1"
                                },
                                {
                                    "SZOBA_ID": "129",
                                    "(No column name)": "-7",
                                    "előző foglalás időtartama": "0"
                                },
                                {
                                    "SZOBA_ID": "129",
                                    "(No column name)": "-6",
                                    "előző foglalás időtartama": "7"
                                },
                                {
                                    "SZOBA_ID": "129",
                                    "(No column name)": "-7",
                                    "előző foglalás időtartama": "6"
                                },
                                {
                                    "SZOBA_ID": "129",
                                    "(No column name)": "-6",
                                    "előző foglalás időtartama": "7"
                                },
                                {
                                    "SZOBA_ID": "130",
                                    "(No column name)": "-3",
                                    "előző foglalás időtartama": "0"
                                },
                                {
                                    "SZOBA_ID": "130",
                                    "(No column name)": "-3",
                                    "előző foglalás időtartama": "3"
                                },
                                {
                                    "SZOBA_ID": "130",
                                    "(No column name)": "-2",
                                    "előző foglalás időtartama": "3"
                                },
                                {
                                    "SZOBA_ID": "130",
                                    "(No column name)": "-6",
                                    "előző foglalás időtartama": "2"
                                },
                                {
                                    "SZOBA_ID": "130",
                                    "(No column name)": "-1",
                                    "előző foglalás időtartama": "6"
                                },
                                {
                                    "SZOBA_ID": "130",
                                    "(No column name)": "-7",
                                    "előző foglalás időtartama": "1"
                                },
                                {
                                    "SZOBA_ID": "131",
                                    "(No column name)": "-2",
                                    "előző foglalás időtartama": "0"
                                },
                                {
                                    "SZOBA_ID": "131",
                                    "(No column name)": "-1",
                                    "előző foglalás időtartama": "2"
                                },
                                {
                                    "SZOBA_ID": "131",
                                    "(No column name)": "-6",
                                    "előző foglalás időtartama": "1"
                                },
                                {
                                    "SZOBA_ID": "131",
                                    "(No column name)": "-4",
                                    "előző foglalás időtartama": "6"
                                },
                                {
                                    "SZOBA_ID": "131",
                                    "(No column name)": "-5",
                                    "előző foglalás időtartama": "4"
                                },
                                {
                                    "SZOBA_ID": "132",
                                    "(No column name)": "-7",
                                    "előző foglalás időtartama": "0"
                                },
                                {
                                    "SZOBA_ID": "132",
                                    "(No column name)": "-6",
                                    "előző foglalás időtartama": "7"
                                },
                                {
                                    "SZOBA_ID": "132",
                                    "(No column name)": "-7",
                                    "előző foglalás időtartama": "6"
                                },
                                {
                                    "SZOBA_ID": "132",
                                    "(No column name)": "-3",
                                    "előző foglalás időtartama": "7"
                                },
                                {
                                    "SZOBA_ID": "132",
                                    "(No column name)": "-2",
                                    "előző foglalás időtartama": "3"
                                },
                                {
                                    "SZOBA_ID": "132",
                                    "(No column name)": "-2",
                                    "előző foglalás időtartama": "2"
                                },
                                {
                                    "SZOBA_ID": "133",
                                    "(No column name)": "-4",
                                    "előző foglalás időtartama": "0"
                                },
                                {
                                    "SZOBA_ID": "133",
                                    "(No column name)": "-3",
                                    "előző foglalás időtartama": "4"
                                },
                                {
                                    "SZOBA_ID": "133",
                                    "(No column name)": "-7",
                                    "előző foglalás időtartama": "3"
                                },
                                {
                                    "SZOBA_ID": "133",
                                    "(No column name)": "-3",
                                    "előző foglalás időtartama": "7"
                                },
                                {
                                    "SZOBA_ID": "133",
                                    "(No column name)": "-5",
                                    "előző foglalás időtartama": "3"
                                },
                                {
                                    "SZOBA_ID": "133",
                                    "(No column name)": "-1",
                                    "előző foglalás időtartama": "5"
                                },
                                {
                                    "SZOBA_ID": "134",
                                    "(No column name)": "-5",
                                    "előző foglalás időtartama": "0"
                                },
                                {
                                    "SZOBA_ID": "134",
                                    "(No column name)": "-1",
                                    "előző foglalás időtartama": "5"
                                },
                                {
                                    "SZOBA_ID": "134",
                                    "(No column name)": "-2",
                                    "előző foglalás időtartama": "1"
                                },
                                {
                                    "SZOBA_ID": "134",
                                    "(No column name)": "-7",
                                    "előző foglalás időtartama": "2"
                                },
                                {
                                    "SZOBA_ID": "134",
                                    "(No column name)": "-6",
                                    "előző foglalás időtartama": "7"
                                },
                                {
                                    "SZOBA_ID": "134",
                                    "(No column name)": "-7",
                                    "előző foglalás időtartama": "6"
                                },
                                {
                                    "SZOBA_ID": "135",
                                    "(No column name)": "-6",
                                    "előző foglalás időtartama": "0"
                                },
                                {
                                    "SZOBA_ID": "135",
                                    "(No column name)": "-7",
                                    "előző foglalás időtartama": "6"
                                },
                                {
                                    "SZOBA_ID": "135",
                                    "(No column name)": "-3",
                                    "előző foglalás időtartama": "7"
                                },
                                {
                                    "SZOBA_ID": "136",
                                    "(No column name)": "-2",
                                    "előző foglalás időtartama": "0"
                                },
                                {
                                    "SZOBA_ID": "136",
                                    "(No column name)": "-5",
                                    "előző foglalás időtartama": "2"
                                },
                                {
                                    "SZOBA_ID": "136",
                                    "(No column name)": "-4",
                                    "előző foglalás időtartama": "5"
                                },
                                {
                                    "SZOBA_ID": "137",
                                    "(No column name)": "-3",
                                    "előző foglalás időtartama": "0"
                                },
                                {
                                    "SZOBA_ID": "137",
                                    "(No column name)": "-5",
                                    "előző foglalás időtartama": "3"
                                },
                                {
                                    "SZOBA_ID": "137",
                                    "(No column name)": "-6",
                                    "előző foglalás időtartama": "5"
                                },
                                {
                                    "SZOBA_ID": "137",
                                    "(No column name)": "-1",
                                    "előző foglalás időtartama": "6"
                                },
                                {
                                    "SZOBA_ID": "137",
                                    "(No column name)": "-6",
                                    "előző foglalás időtartama": "1"
                                },
                                {
                                    "SZOBA_ID": "137",
                                    "(No column name)": "-3",
                                    "előző foglalás időtartama": "6"
                                },
                                {
                                    "SZOBA_ID": "138",
                                    "(No column name)": "-6",
                                    "előző foglalás időtartama": "0"
                                },
                                {
                                    "SZOBA_ID": "138",
                                    "(No column name)": "-4",
                                    "előző foglalás időtartama": "6"
                                },
                                {
                                    "SZOBA_ID": "138",
                                    "(No column name)": "-4",
                                    "előző foglalás időtartama": "4"
                                },
                                {
                                    "SZOBA_ID": "138",
                                    "(No column name)": "-2",
                                    "előző foglalás időtartama": "4"
                                },
                                {
                                    "SZOBA_ID": "138",
                                    "(No column name)": "-5",
                                    "előző foglalás időtartama": "2"
                                },
                                {
                                    "SZOBA_ID": "138",
                                    "(No column name)": "-7",
                                    "előző foglalás időtartama": "5"
                                },
                                {
                                    "SZOBA_ID": "138",
                                    "(No column name)": "-5",
                                    "előző foglalás időtartama": "7"
                                },
                                {
                                    "SZOBA_ID": "139",
                                    "(No column name)": "-2",
                                    "előző foglalás időtartama": "0"
                                },
                                {
                                    "SZOBA_ID": "139",
                                    "(No column name)": "-1",
                                    "előző foglalás időtartama": "2"
                                },
                                {
                                    "SZOBA_ID": "139",
                                    "(No column name)": "-4",
                                    "előző foglalás időtartama": "1"
                                },
                                {
                                    "SZOBA_ID": "139",
                                    "(No column name)": "-2",
                                    "előző foglalás időtartama": "4"
                                },
                                {
                                    "SZOBA_ID": "139",
                                    "(No column name)": "-6",
                                    "előző foglalás időtartama": "2"
                                },
                                {
                                    "SZOBA_ID": "139",
                                    "(No column name)": "-6",
                                    "előző foglalás időtartama": "6"
                                },
                                {
                                    "SZOBA_ID": "139",
                                    "(No column name)": "-7",
                                    "előző foglalás időtartama": "6"
                                },
                                {
                                    "SZOBA_ID": "140",
                                    "(No column name)": "-2",
                                    "előző foglalás időtartama": "0"
                                },
                                {
                                    "SZOBA_ID": "140",
                                    "(No column name)": "-1",
                                    "előző foglalás időtartama": "2"
                                },
                                {
                                    "SZOBA_ID": "140",
                                    "(No column name)": "-2",
                                    "előző foglalás időtartama": "1"
                                },
                                {
                                    "SZOBA_ID": "140",
                                    "(No column name)": "-3",
                                    "előző foglalás időtartama": "2"
                                },
                                {
                                    "SZOBA_ID": "140",
                                    "(No column name)": "-7",
                                    "előző foglalás időtartama": "3"
                                },
                                {
                                    "SZOBA_ID": "140",
                                    "(No column name)": "-4",
                                    "előző foglalás időtartama": "7"
                                },
                                {
                                    "SZOBA_ID": "140",
                                    "(No column name)": "-3",
                                    "előző foglalás időtartama": "4"
                                },
                                {
                                    "SZOBA_ID": "140",
                                    "(No column name)": "-1",
                                    "előző foglalás időtartama": "3"
                                },
                                {
                                    "SZOBA_ID": "141",
                                    "(No column name)": "-6",
                                    "előző foglalás időtartama": "0"
                                },
                                {
                                    "SZOBA_ID": "141",
                                    "(No column name)": "-2",
                                    "előző foglalás időtartama": "6"
                                },
                                {
                                    "SZOBA_ID": "141",
                                    "(No column name)": "-3",
                                    "előző foglalás időtartama": "2"
                                },
                                {
                                    "SZOBA_ID": "141",
                                    "(No column name)": "-7",
                                    "előző foglalás időtartama": "3"
                                },
                                {
                                    "SZOBA_ID": "141",
                                    "(No column name)": "-4",
                                    "előző foglalás időtartama": "7"
                                },
                                {
                                    "SZOBA_ID": "141",
                                    "(No column name)": "-6",
                                    "előző foglalás időtartama": "4"
                                },
                                {
                                    "SZOBA_ID": "142",
                                    "(No column name)": "-6",
                                    "előző foglalás időtartama": "0"
                                },
                                {
                                    "SZOBA_ID": "142",
                                    "(No column name)": "-3",
                                    "előző foglalás időtartama": "6"
                                },
                                {
                                    "SZOBA_ID": "143",
                                    "(No column name)": "-3",
                                    "előző foglalás időtartama": "0"
                                },
                                {
                                    "SZOBA_ID": "143",
                                    "(No column name)": "-7",
                                    "előző foglalás időtartama": "3"
                                },
                                {
                                    "SZOBA_ID": "143",
                                    "(No column name)": "-6",
                                    "előző foglalás időtartama": "7"
                                },
                                {
                                    "SZOBA_ID": "143",
                                    "(No column name)": "-2",
                                    "előző foglalás időtartama": "6"
                                },
                                {
                                    "SZOBA_ID": "143",
                                    "(No column name)": "-4",
                                    "előző foglalás időtartama": "2"
                                },
                                {
                                    "SZOBA_ID": "143",
                                    "(No column name)": "-3",
                                    "előző foglalás időtartama": "4"
                                },
                                {
                                    "SZOBA_ID": "143",
                                    "(No column name)": "-6",
                                    "előző foglalás időtartama": "3"
                                },
                                {
                                    "SZOBA_ID": "144",
                                    "(No column name)": "-4",
                                    "előző foglalás időtartama": "0"
                                },
                                {
                                    "SZOBA_ID": "144",
                                    "(No column name)": "-2",
                                    "előző foglalás időtartama": "4"
                                },
                                {
                                    "SZOBA_ID": "144",
                                    "(No column name)": "-7",
                                    "előző foglalás időtartama": "2"
                                },
                                {
                                    "SZOBA_ID": "144",
                                    "(No column name)": "-1",
                                    "előző foglalás időtartama": "7"
                                },
                                {
                                    "SZOBA_ID": "144",
                                    "(No column name)": "-2",
                                    "előző foglalás időtartama": "1"
                                },
                                {
                                    "SZOBA_ID": "145",
                                    "(No column name)": "-4",
                                    "előző foglalás időtartama": "0"
                                },
                                {
                                    "SZOBA_ID": "145",
                                    "(No column name)": "-1",
                                    "előző foglalás időtartama": "4"
                                },
                                {
                                    "SZOBA_ID": "145",
                                    "(No column name)": "-1",
                                    "előző foglalás időtartama": "1"
                                },
                                {
                                    "SZOBA_ID": "145",
                                    "(No column name)": "-4",
                                    "előző foglalás időtartama": "1"
                                },
                                {
                                    "SZOBA_ID": "145",
                                    "(No column name)": "-2",
                                    "előző foglalás időtartama": "4"
                                },
                                {
                                    "SZOBA_ID": "145",
                                    "(No column name)": "-1",
                                    "előző foglalás időtartama": "2"
                                },
                                {
                                    "SZOBA_ID": "146",
                                    "(No column name)": "-3",
                                    "előző foglalás időtartama": "0"
                                },
                                {
                                    "SZOBA_ID": "146",
                                    "(No column name)": "-3",
                                    "előző foglalás időtartama": "3"
                                },
                                {
                                    "SZOBA_ID": "146",
                                    "(No column name)": "-7",
                                    "előző foglalás időtartama": "3"
                                },
                                {
                                    "SZOBA_ID": "146",
                                    "(No column name)": "-7",
                                    "előző foglalás időtartama": "7"
                                },
                                {
                                    "SZOBA_ID": "146",
                                    "(No column name)": "-5",
                                    "előző foglalás időtartama": "7"
                                },
                                {
                                    "SZOBA_ID": "146",
                                    "(No column name)": "-6",
                                    "előző foglalás időtartama": "5"
                                },
                                {
                                    "SZOBA_ID": "147",
                                    "(No column name)": "-4",
                                    "előző foglalás időtartama": "0"
                                },
                                {
                                    "SZOBA_ID": "148",
                                    "(No column name)": "-4",
                                    "előző foglalás időtartama": "0"
                                },
                                {
                                    "SZOBA_ID": "148",
                                    "(No column name)": "-3",
                                    "előző foglalás időtartama": "4"
                                },
                                {
                                    "SZOBA_ID": "148",
                                    "(No column name)": "-7",
                                    "előző foglalás időtartama": "3"
                                },
                                {
                                    "SZOBA_ID": "148",
                                    "(No column name)": "-2",
                                    "előző foglalás időtartama": "7"
                                },
                                {
                                    "SZOBA_ID": "148",
                                    "(No column name)": "-6",
                                    "előző foglalás időtartama": "2"
                                },
                                {
                                    "SZOBA_ID": "148",
                                    "(No column name)": "-7",
                                    "előző foglalás időtartama": "6"
                                },
                                {
                                    "SZOBA_ID": "149",
                                    "(No column name)": "-1",
                                    "előző foglalás időtartama": "0"
                                },
                                {
                                    "SZOBA_ID": "149",
                                    "(No column name)": "-1",
                                    "előző foglalás időtartama": "1"
                                },
                                {
                                    "SZOBA_ID": "149",
                                    "(No column name)": "-2",
                                    "előző foglalás időtartama": "1"
                                },
                                {
                                    "SZOBA_ID": "149",
                                    "(No column name)": "-5",
                                    "előző foglalás időtartama": "2"
                                },
                                {
                                    "SZOBA_ID": "149",
                                    "(No column name)": "-4",
                                    "előző foglalás időtartama": "5"
                                },
                                {
                                    "SZOBA_ID": "149",
                                    "(No column name)": "-6",
                                    "előző foglalás időtartama": "4"
                                },
                                {
                                    "SZOBA_ID": "149",
                                    "(No column name)": "-5",
                                    "előző foglalás időtartama": "6"
                                },
                                {
                                    "SZOBA_ID": "150",
                                    "(No column name)": "-3",
                                    "előző foglalás időtartama": "0"
                                },
                                {
                                    "SZOBA_ID": "150",
                                    "(No column name)": "-5",
                                    "előző foglalás időtartama": "3"
                                },
                                {
                                    "SZOBA_ID": "150",
                                    "(No column name)": "-1",
                                    "előző foglalás időtartama": "5"
                                },
                                {
                                    "SZOBA_ID": "150",
                                    "(No column name)": "-1",
                                    "előző foglalás időtartama": "1"
                                },
                                {
                                    "SZOBA_ID": "150",
                                    "(No column name)": "-4",
                                    "előző foglalás időtartama": "1"
                                },
                                {
                                    "SZOBA_ID": "150",
                                    "(No column name)": "-3",
                                    "előző foglalás időtartama": "4"
                                },
                                {
                                    "SZOBA_ID": "151",
                                    "(No column name)": "-3",
                                    "előző foglalás időtartama": "0"
                                },
                                {
                                    "SZOBA_ID": "151",
                                    "(No column name)": "-3",
                                    "előző foglalás időtartama": "3"
                                },
                                {
                                    "SZOBA_ID": "151",
                                    "(No column name)": "-3",
                                    "előző foglalás időtartama": "3"
                                },
                                {
                                    "SZOBA_ID": "152",
                                    "(No column name)": "-2",
                                    "előző foglalás időtartama": "0"
                                },
                                {
                                    "SZOBA_ID": "152",
                                    "(No column name)": "-7",
                                    "előző foglalás időtartama": "2"
                                },
                                {
                                    "SZOBA_ID": "152",
                                    "(No column name)": "-6",
                                    "előző foglalás időtartama": "7"
                                },
                                {
                                    "SZOBA_ID": "152",
                                    "(No column name)": "-2",
                                    "előző foglalás időtartama": "6"
                                },
                                {
                                    "SZOBA_ID": "153",
                                    "(No column name)": "-3",
                                    "előző foglalás időtartama": "0"
                                },
                                {
                                    "SZOBA_ID": "153",
                                    "(No column name)": "-6",
                                    "előző foglalás időtartama": "3"
                                },
                                {
                                    "SZOBA_ID": "153",
                                    "(No column name)": "-3",
                                    "előző foglalás időtartama": "6"
                                },
                                {
                                    "SZOBA_ID": "153",
                                    "(No column name)": "-5",
                                    "előző foglalás időtartama": "3"
                                },
                                {
                                    "SZOBA_ID": "153",
                                    "(No column name)": "-3",
                                    "előző foglalás időtartama": "5"
                                },
                                {
                                    "SZOBA_ID": "154",
                                    "(No column name)": "-1",
                                    "előző foglalás időtartama": "0"
                                },
                                {
                                    "SZOBA_ID": "154",
                                    "(No column name)": "-7",
                                    "előző foglalás időtartama": "1"
                                },
                                {
                                    "SZOBA_ID": "154",
                                    "(No column name)": "-6",
                                    "előző foglalás időtartama": "7"
                                },
                                {
                                    "SZOBA_ID": "154",
                                    "(No column name)": "-1",
                                    "előző foglalás időtartama": "6"
                                },
                                {
                                    "SZOBA_ID": "154",
                                    "(No column name)": "-2",
                                    "előző foglalás időtartama": "1"
                                },
                                {
                                    "SZOBA_ID": "155",
                                    "(No column name)": "-1",
                                    "előző foglalás időtartama": "0"
                                },
                                {
                                    "SZOBA_ID": "155",
                                    "(No column name)": "-3",
                                    "előző foglalás időtartama": "1"
                                },
                                {
                                    "SZOBA_ID": "155",
                                    "(No column name)": "-4",
                                    "előző foglalás időtartama": "3"
                                },
                                {
                                    "SZOBA_ID": "155",
                                    "(No column name)": "-1",
                                    "előző foglalás időtartama": "4"
                                },
                                {
                                    "SZOBA_ID": "155",
                                    "(No column name)": "-1",
                                    "előző foglalás időtartama": "1"
                                },
                                {
                                    "SZOBA_ID": "156",
                                    "(No column name)": "-7",
                                    "előző foglalás időtartama": "0"
                                },
                                {
                                    "SZOBA_ID": "156",
                                    "(No column name)": "-3",
                                    "előző foglalás időtartama": "7"
                                },
                                {
                                    "SZOBA_ID": "156",
                                    "(No column name)": "-6",
                                    "előző foglalás időtartama": "3"
                                },
                                {
                                    "SZOBA_ID": "156",
                                    "(No column name)": "-6",
                                    "előző foglalás időtartama": "6"
                                },
                                {
                                    "SZOBA_ID": "156",
                                    "(No column name)": "-7",
                                    "előző foglalás időtartama": "6"
                                },
                                {
                                    "SZOBA_ID": "156",
                                    "(No column name)": "-1",
                                    "előző foglalás időtartama": "7"
                                },
                                {
                                    "SZOBA_ID": "156",
                                    "(No column name)": "-4",
                                    "előző foglalás időtartama": "1"
                                },
                                {
                                    "SZOBA_ID": "157",
                                    "(No column name)": "-4",
                                    "előző foglalás időtartama": "0"
                                },
                                {
                                    "SZOBA_ID": "157",
                                    "(No column name)": "-3",
                                    "előző foglalás időtartama": "4"
                                },
                                {
                                    "SZOBA_ID": "157",
                                    "(No column name)": "-4",
                                    "előző foglalás időtartama": "3"
                                },
                                {
                                    "SZOBA_ID": "157",
                                    "(No column name)": "-7",
                                    "előző foglalás időtartama": "4"
                                },
                                {
                                    "SZOBA_ID": "157",
                                    "(No column name)": "-3",
                                    "előző foglalás időtartama": "7"
                                },
                                {
                                    "SZOBA_ID": "158",
                                    "(No column name)": "-4",
                                    "előző foglalás időtartama": "0"
                                },
                                {
                                    "SZOBA_ID": "158",
                                    "(No column name)": "-4",
                                    "előző foglalás időtartama": "4"
                                },
                                {
                                    "SZOBA_ID": "158",
                                    "(No column name)": "-3",
                                    "előző foglalás időtartama": "4"
                                },
                                {
                                    "SZOBA_ID": "160",
                                    "(No column name)": "-2",
                                    "előző foglalás időtartama": "0"
                                },
                                {
                                    "SZOBA_ID": "160",
                                    "(No column name)": "-4",
                                    "előző foglalás időtartama": "2"
                                },
                                {
                                    "SZOBA_ID": "160",
                                    "(No column name)": "-4",
                                    "előző foglalás időtartama": "4"
                                },
                                {
                                    "SZOBA_ID": "160",
                                    "(No column name)": "-2",
                                    "előző foglalás időtartama": "4"
                                },
                                {
                                    "SZOBA_ID": "160",
                                    "(No column name)": "-3",
                                    "előző foglalás időtartama": "2"
                                },
                                {
                                    "SZOBA_ID": "161",
                                    "(No column name)": "-4",
                                    "előző foglalás időtartama": "0"
                                },
                                {
                                    "SZOBA_ID": "161",
                                    "(No column name)": "-7",
                                    "előző foglalás időtartama": "4"
                                },
                                {
                                    "SZOBA_ID": "161",
                                    "(No column name)": "-4",
                                    "előző foglalás időtartama": "7"
                                },
                                {
                                    "SZOBA_ID": "161",
                                    "(No column name)": "-6",
                                    "előző foglalás időtartama": "4"
                                },
                                {
                                    "SZOBA_ID": "161",
                                    "(No column name)": "-7",
                                    "előző foglalás időtartama": "6"
                                },
                                {
                                    "SZOBA_ID": "161",
                                    "(No column name)": "-4",
                                    "előző foglalás időtartama": "7"
                                },
                                {
                                    "SZOBA_ID": "162",
                                    "(No column name)": "-4",
                                    "előző foglalás időtartama": "0"
                                },
                                {
                                    "SZOBA_ID": "162",
                                    "(No column name)": "-6",
                                    "előző foglalás időtartama": "4"
                                },
                                {
                                    "SZOBA_ID": "162",
                                    "(No column name)": "-1",
                                    "előző foglalás időtartama": "6"
                                },
                                {
                                    "SZOBA_ID": "163",
                                    "(No column name)": "-2",
                                    "előző foglalás időtartama": "0"
                                },
                                {
                                    "SZOBA_ID": "163",
                                    "(No column name)": "-1",
                                    "előző foglalás időtartama": "2"
                                },
                                {
                                    "SZOBA_ID": "163",
                                    "(No column name)": "-3",
                                    "előző foglalás időtartama": "1"
                                },
                                {
                                    "SZOBA_ID": "163",
                                    "(No column name)": "-4",
                                    "előző foglalás időtartama": "3"
                                },
                                {
                                    "SZOBA_ID": "163",
                                    "(No column name)": "-3",
                                    "előző foglalás időtartama": "4"
                                },
                                {
                                    "SZOBA_ID": "163",
                                    "(No column name)": "-5",
                                    "előző foglalás időtartama": "3"
                                },
                                {
                                    "SZOBA_ID": "163",
                                    "(No column name)": "-3",
                                    "előző foglalás időtartama": "5"
                                },
                                {
                                    "SZOBA_ID": "164",
                                    "(No column name)": "-7",
                                    "előző foglalás időtartama": "0"
                                },
                                {
                                    "SZOBA_ID": "164",
                                    "(No column name)": "-2",
                                    "előző foglalás időtartama": "7"
                                },
                                {
                                    "SZOBA_ID": "164",
                                    "(No column name)": "-6",
                                    "előző foglalás időtartama": "2"
                                },
                                {
                                    "SZOBA_ID": "164",
                                    "(No column name)": "-4",
                                    "előző foglalás időtartama": "6"
                                },
                                {
                                    "SZOBA_ID": "164",
                                    "(No column name)": "-2",
                                    "előző foglalás időtartama": "4"
                                },
                                {
                                    "SZOBA_ID": "165",
                                    "(No column name)": "-3",
                                    "előző foglalás időtartama": "0"
                                },
                                {
                                    "SZOBA_ID": "165",
                                    "(No column name)": "-5",
                                    "előző foglalás időtartama": "3"
                                },
                                {
                                    "SZOBA_ID": "165",
                                    "(No column name)": "-6",
                                    "előző foglalás időtartama": "5"
                                },
                                {
                                    "SZOBA_ID": "165",
                                    "(No column name)": "-6",
                                    "előző foglalás időtartama": "6"
                                },
                                {
                                    "SZOBA_ID": "165",
                                    "(No column name)": "-3",
                                    "előző foglalás időtartama": "6"
                                },
                                {
                                    "SZOBA_ID": "165",
                                    "(No column name)": "-1",
                                    "előző foglalás időtartama": "3"
                                },
                                {
                                    "SZOBA_ID": "165",
                                    "(No column name)": "-4",
                                    "előző foglalás időtartama": "1"
                                },
                                {
                                    "SZOBA_ID": "166",
                                    "(No column name)": "-7",
                                    "előző foglalás időtartama": "0"
                                },
                                {
                                    "SZOBA_ID": "166",
                                    "(No column name)": "-7",
                                    "előző foglalás időtartama": "7"
                                },
                                {
                                    "SZOBA_ID": "166",
                                    "(No column name)": "-2",
                                    "előző foglalás időtartama": "7"
                                },
                                {
                                    "SZOBA_ID": "167",
                                    "(No column name)": "-7",
                                    "előző foglalás időtartama": "0"
                                },
                                {
                                    "SZOBA_ID": "167",
                                    "(No column name)": "-3",
                                    "előző foglalás időtartama": "7"
                                },
                                {
                                    "SZOBA_ID": "168",
                                    "(No column name)": "-3",
                                    "előző foglalás időtartama": "0"
                                },
                                {
                                    "SZOBA_ID": "168",
                                    "(No column name)": "-3",
                                    "előző foglalás időtartama": "3"
                                },
                                {
                                    "SZOBA_ID": "168",
                                    "(No column name)": "-4",
                                    "előző foglalás időtartama": "3"
                                },
                                {
                                    "SZOBA_ID": "168",
                                    "(No column name)": "-4",
                                    "előző foglalás időtartama": "4"
                                },
                                {
                                    "SZOBA_ID": "168",
                                    "(No column name)": "-4",
                                    "előző foglalás időtartama": "4"
                                },
                                {
                                    "SZOBA_ID": "169",
                                    "(No column name)": "-5",
                                    "előző foglalás időtartama": "0"
                                },
                                {
                                    "SZOBA_ID": "169",
                                    "(No column name)": "-6",
                                    "előző foglalás időtartama": "5"
                                },
                                {
                                    "SZOBA_ID": "169",
                                    "(No column name)": "-1",
                                    "előző foglalás időtartama": "6"
                                },
                                {
                                    "SZOBA_ID": "169",
                                    "(No column name)": "-7",
                                    "előző foglalás időtartama": "1"
                                },
                                {
                                    "SZOBA_ID": "169",
                                    "(No column name)": "-4",
                                    "előző foglalás időtartama": "7"
                                },
                                {
                                    "SZOBA_ID": "169",
                                    "(No column name)": "-1",
                                    "előző foglalás időtartama": "4"
                                },
                                {
                                    "SZOBA_ID": "170",
                                    "(No column name)": "-7",
                                    "előző foglalás időtartama": "0"
                                },
                                {
                                    "SZOBA_ID": "170",
                                    "(No column name)": "-4",
                                    "előző foglalás időtartama": "7"
                                },
                                {
                                    "SZOBA_ID": "170",
                                    "(No column name)": "-4",
                                    "előző foglalás időtartama": "4"
                                },
                                {
                                    "SZOBA_ID": "170",
                                    "(No column name)": "-7",
                                    "előző foglalás időtartama": "4"
                                },
                                {
                                    "SZOBA_ID": "170",
                                    "(No column name)": "-6",
                                    "előző foglalás időtartama": "7"
                                },
                                {
                                    "SZOBA_ID": "171",
                                    "(No column name)": "-2",
                                    "előző foglalás időtartama": "0"
                                },
                                {
                                    "SZOBA_ID": "171",
                                    "(No column name)": "-4",
                                    "előző foglalás időtartama": "2"
                                },
                                {
                                    "SZOBA_ID": "171",
                                    "(No column name)": "-6",
                                    "előző foglalás időtartama": "4"
                                },
                                {
                                    "SZOBA_ID": "171",
                                    "(No column name)": "-5",
                                    "előző foglalás időtartama": "6"
                                },
                                {
                                    "SZOBA_ID": "171",
                                    "(No column name)": "-6",
                                    "előző foglalás időtartama": "5"
                                },
                                {
                                    "SZOBA_ID": "172",
                                    "(No column name)": "-4",
                                    "előző foglalás időtartama": "0"
                                },
                                {
                                    "SZOBA_ID": "172",
                                    "(No column name)": "-5",
                                    "előző foglalás időtartama": "4"
                                },
                                {
                                    "SZOBA_ID": "172",
                                    "(No column name)": "-6",
                                    "előző foglalás időtartama": "5"
                                },
                                {
                                    "SZOBA_ID": "172",
                                    "(No column name)": "-5",
                                    "előző foglalás időtartama": "6"
                                },
                                {
                                    "SZOBA_ID": "172",
                                    "(No column name)": "-4",
                                    "előző foglalás időtartama": "5"
                                },
                                {
                                    "SZOBA_ID": "172",
                                    "(No column name)": "-5",
                                    "előző foglalás időtartama": "4"
                                },
                                {
                                    "SZOBA_ID": "172",
                                    "(No column name)": "-5",
                                    "előző foglalás időtartama": "5"
                                },
                                {
                                    "SZOBA_ID": "172",
                                    "(No column name)": "-5",
                                    "előző foglalás időtartama": "5"
                                },
                                {
                                    "SZOBA_ID": "172",
                                    "(No column name)": "-2",
                                    "előző foglalás időtartama": "5"
                                },
                                {
                                    "SZOBA_ID": "173",
                                    "(No column name)": "-1",
                                    "előző foglalás időtartama": "0"
                                },
                                {
                                    "SZOBA_ID": "173",
                                    "(No column name)": "-7",
                                    "előző foglalás időtartama": "1"
                                },
                                {
                                    "SZOBA_ID": "173",
                                    "(No column name)": "-3",
                                    "előző foglalás időtartama": "7"
                                },
                                {
                                    "SZOBA_ID": "173",
                                    "(No column name)": "-4",
                                    "előző foglalás időtartama": "3"
                                },
                                {
                                    "SZOBA_ID": "174",
                                    "(No column name)": "-2",
                                    "előző foglalás időtartama": "0"
                                },
                                {
                                    "SZOBA_ID": "174",
                                    "(No column name)": "-5",
                                    "előző foglalás időtartama": "2"
                                },
                                {
                                    "SZOBA_ID": "174",
                                    "(No column name)": "-3",
                                    "előző foglalás időtartama": "5"
                                },
                                {
                                    "SZOBA_ID": "174",
                                    "(No column name)": "-1",
                                    "előző foglalás időtartama": "3"
                                },
                                {
                                    "SZOBA_ID": "175",
                                    "(No column name)": "-6",
                                    "előző foglalás időtartama": "0"
                                },
                                {
                                    "SZOBA_ID": "175",
                                    "(No column name)": "-4",
                                    "előző foglalás időtartama": "6"
                                },
                                {
                                    "SZOBA_ID": "175",
                                    "(No column name)": "-5",
                                    "előző foglalás időtartama": "4"
                                },
                                {
                                    "SZOBA_ID": "175",
                                    "(No column name)": "-2",
                                    "előző foglalás időtartama": "5"
                                },
                                {
                                    "SZOBA_ID": "175",
                                    "(No column name)": "-7",
                                    "előző foglalás időtartama": "2"
                                },
                                {
                                    "SZOBA_ID": "176",
                                    "(No column name)": "-5",
                                    "előző foglalás időtartama": "0"
                                },
                                {
                                    "SZOBA_ID": "176",
                                    "(No column name)": "-6",
                                    "előző foglalás időtartama": "5"
                                },
                                {
                                    "SZOBA_ID": "176",
                                    "(No column name)": "-6",
                                    "előző foglalás időtartama": "6"
                                },
                                {
                                    "SZOBA_ID": "176",
                                    "(No column name)": "-4",
                                    "előző foglalás időtartama": "6"
                                },
                                {
                                    "SZOBA_ID": "176",
                                    "(No column name)": "-2",
                                    "előző foglalás időtartama": "4"
                                },
                                {
                                    "SZOBA_ID": "176",
                                    "(No column name)": "-3",
                                    "előző foglalás időtartama": "2"
                                },
                                {
                                    "SZOBA_ID": "177",
                                    "(No column name)": "-3",
                                    "előző foglalás időtartama": "0"
                                },
                                {
                                    "SZOBA_ID": "177",
                                    "(No column name)": "-7",
                                    "előző foglalás időtartama": "3"
                                },
                                {
                                    "SZOBA_ID": "177",
                                    "(No column name)": "-3",
                                    "előző foglalás időtartama": "7"
                                },
                                {
                                    "SZOBA_ID": "177",
                                    "(No column name)": "-3",
                                    "előző foglalás időtartama": "3"
                                },
                                {
                                    "SZOBA_ID": "178",
                                    "(No column name)": "-7",
                                    "előző foglalás időtartama": "0"
                                },
                                {
                                    "SZOBA_ID": "178",
                                    "(No column name)": "-4",
                                    "előző foglalás időtartama": "7"
                                },
                                {
                                    "SZOBA_ID": "178",
                                    "(No column name)": "-3",
                                    "előző foglalás időtartama": "4"
                                },
                                {
                                    "SZOBA_ID": "178",
                                    "(No column name)": "-1",
                                    "előző foglalás időtartama": "3"
                                },
                                {
                                    "SZOBA_ID": "179",
                                    "(No column name)": "-2",
                                    "előző foglalás időtartama": "0"
                                },
                                {
                                    "SZOBA_ID": "179",
                                    "(No column name)": "-1",
                                    "előző foglalás időtartama": "2"
                                },
                                {
                                    "SZOBA_ID": "179",
                                    "(No column name)": "-1",
                                    "előző foglalás időtartama": "1"
                                },
                                {
                                    "SZOBA_ID": "180",
                                    "(No column name)": "-5",
                                    "előző foglalás időtartama": "0"
                                },
                                {
                                    "SZOBA_ID": "180",
                                    "(No column name)": "-3",
                                    "előző foglalás időtartama": "5"
                                },
                                {
                                    "SZOBA_ID": "180",
                                    "(No column name)": "-6",
                                    "előző foglalás időtartama": "3"
                                },
                                {
                                    "SZOBA_ID": "181",
                                    "(No column name)": "-3",
                                    "előző foglalás időtartama": "0"
                                },
                                {
                                    "SZOBA_ID": "181",
                                    "(No column name)": "-5",
                                    "előző foglalás időtartama": "3"
                                },
                                {
                                    "SZOBA_ID": "181",
                                    "(No column name)": "-1",
                                    "előző foglalás időtartama": "5"
                                },
                                {
                                    "SZOBA_ID": "181",
                                    "(No column name)": "-4",
                                    "előző foglalás időtartama": "1"
                                },
                                {
                                    "SZOBA_ID": "181",
                                    "(No column name)": "-6",
                                    "előző foglalás időtartama": "4"
                                },
                                {
                                    "SZOBA_ID": "181",
                                    "(No column name)": "-6",
                                    "előző foglalás időtartama": "6"
                                },
                                {
                                    "SZOBA_ID": "182",
                                    "(No column name)": "-2",
                                    "előző foglalás időtartama": "0"
                                },
                                {
                                    "SZOBA_ID": "182",
                                    "(No column name)": "-2",
                                    "előző foglalás időtartama": "2"
                                },
                                {
                                    "SZOBA_ID": "182",
                                    "(No column name)": "-6",
                                    "előző foglalás időtartama": "2"
                                },
                                {
                                    "SZOBA_ID": "182",
                                    "(No column name)": "-3",
                                    "előző foglalás időtartama": "6"
                                },
                                {
                                    "SZOBA_ID": "182",
                                    "(No column name)": "-1",
                                    "előző foglalás időtartama": "3"
                                },
                                {
                                    "SZOBA_ID": "182",
                                    "(No column name)": "-7",
                                    "előző foglalás időtartama": "1"
                                },
                                {
                                    "SZOBA_ID": "182",
                                    "(No column name)": "-4",
                                    "előző foglalás időtartama": "7"
                                },
                                {
                                    "SZOBA_ID": "182",
                                    "(No column name)": "-1",
                                    "előző foglalás időtartama": "4"
                                },
                                {
                                    "SZOBA_ID": "182",
                                    "(No column name)": "-3",
                                    "előző foglalás időtartama": "1"
                                },
                                {
                                    "SZOBA_ID": "182",
                                    "(No column name)": "-4",
                                    "előző foglalás időtartama": "3"
                                },
                                {
                                    "SZOBA_ID": "182",
                                    "(No column name)": "-4",
                                    "előző foglalás időtartama": "4"
                                },
                                {
                                    "SZOBA_ID": "182",
                                    "(No column name)": "-3",
                                    "előző foglalás időtartama": "4"
                                },
                                {
                                    "SZOBA_ID": "183",
                                    "(No column name)": "-4",
                                    "előző foglalás időtartama": "0"
                                },
                                {
                                    "SZOBA_ID": "183",
                                    "(No column name)": "-7",
                                    "előző foglalás időtartama": "4"
                                },
                                {
                                    "SZOBA_ID": "183",
                                    "(No column name)": "-4",
                                    "előző foglalás időtartama": "7"
                                },
                                {
                                    "SZOBA_ID": "183",
                                    "(No column name)": "-4",
                                    "előző foglalás időtartama": "4"
                                },
                                {
                                    "SZOBA_ID": "184",
                                    "(No column name)": "-2",
                                    "előző foglalás időtartama": "0"
                                },
                                {
                                    "SZOBA_ID": "184",
                                    "(No column name)": "-4",
                                    "előző foglalás időtartama": "2"
                                },
                                {
                                    "SZOBA_ID": "184",
                                    "(No column name)": "-3",
                                    "előző foglalás időtartama": "4"
                                },
                                {
                                    "SZOBA_ID": "184",
                                    "(No column name)": "-4",
                                    "előző foglalás időtartama": "3"
                                },
                                {
                                    "SZOBA_ID": "185",
                                    "(No column name)": "-6",
                                    "előző foglalás időtartama": "0"
                                },
                                {
                                    "SZOBA_ID": "185",
                                    "(No column name)": "-4",
                                    "előző foglalás időtartama": "6"
                                },
                                {
                                    "SZOBA_ID": "185",
                                    "(No column name)": "-4",
                                    "előző foglalás időtartama": "4"
                                },
                                {
                                    "SZOBA_ID": "185",
                                    "(No column name)": "-6",
                                    "előző foglalás időtartama": "4"
                                },
                                {
                                    "SZOBA_ID": "185",
                                    "(No column name)": "-3",
                                    "előző foglalás időtartama": "6"
                                },
                                {
                                    "SZOBA_ID": "185",
                                    "(No column name)": "-5",
                                    "előző foglalás időtartama": "3"
                                },
                                {
                                    "SZOBA_ID": "185",
                                    "(No column name)": "-2",
                                    "előző foglalás időtartama": "5"
                                },
                                {
                                    "SZOBA_ID": "185",
                                    "(No column name)": "-3",
                                    "előző foglalás időtartama": "2"
                                },
                                {
                                    "SZOBA_ID": "185",
                                    "(No column name)": "-3",
                                    "előző foglalás időtartama": "3"
                                },
                                {
                                    "SZOBA_ID": "185",
                                    "(No column name)": "-5",
                                    "előző foglalás időtartama": "3"
                                },
                                {
                                    "SZOBA_ID": "185",
                                    "(No column name)": "-7",
                                    "előző foglalás időtartama": "5"
                                },
                                {
                                    "SZOBA_ID": "185",
                                    "(No column name)": "-7",
                                    "előző foglalás időtartama": "7"
                                },
                                {
                                    "SZOBA_ID": "186",
                                    "(No column name)": "-3",
                                    "előző foglalás időtartama": "0"
                                },
                                {
                                    "SZOBA_ID": "186",
                                    "(No column name)": "-3",
                                    "előző foglalás időtartama": "3"
                                },
                                {
                                    "SZOBA_ID": "186",
                                    "(No column name)": "-2",
                                    "előző foglalás időtartama": "3"
                                },
                                {
                                    "SZOBA_ID": "186",
                                    "(No column name)": "-3",
                                    "előző foglalás időtartama": "2"
                                },
                                {
                                    "SZOBA_ID": "187",
                                    "(No column name)": "-6",
                                    "előző foglalás időtartama": "0"
                                },
                                {
                                    "SZOBA_ID": "187",
                                    "(No column name)": "-4",
                                    "előző foglalás időtartama": "6"
                                },
                                {
                                    "SZOBA_ID": "187",
                                    "(No column name)": "-4",
                                    "előző foglalás időtartama": "4"
                                },
                                {
                                    "SZOBA_ID": "187",
                                    "(No column name)": "-6",
                                    "előző foglalás időtartama": "4"
                                },
                                {
                                    "SZOBA_ID": "187",
                                    "(No column name)": "-2",
                                    "előző foglalás időtartama": "6"
                                },
                                {
                                    "SZOBA_ID": "187",
                                    "(No column name)": "-1",
                                    "előző foglalás időtartama": "2"
                                },
                                {
                                    "SZOBA_ID": "187",
                                    "(No column name)": "-2",
                                    "előző foglalás időtartama": "1"
                                },
                                {
                                    "SZOBA_ID": "188",
                                    "(No column name)": "-1",
                                    "előző foglalás időtartama": "0"
                                },
                                {
                                    "SZOBA_ID": "188",
                                    "(No column name)": "-4",
                                    "előző foglalás időtartama": "1"
                                },
                                {
                                    "SZOBA_ID": "188",
                                    "(No column name)": "-7",
                                    "előző foglalás időtartama": "4"
                                },
                                {
                                    "SZOBA_ID": "188",
                                    "(No column name)": "-3",
                                    "előző foglalás időtartama": "7"
                                },
                                {
                                    "SZOBA_ID": "188",
                                    "(No column name)": "-4",
                                    "előző foglalás időtartama": "3"
                                },
                                {
                                    "SZOBA_ID": "188",
                                    "(No column name)": "-5",
                                    "előző foglalás időtartama": "4"
                                },
                                {
                                    "SZOBA_ID": "189",
                                    "(No column name)": "-2",
                                    "előző foglalás időtartama": "0"
                                },
                                {
                                    "SZOBA_ID": "189",
                                    "(No column name)": "-1",
                                    "előző foglalás időtartama": "2"
                                },
                                {
                                    "SZOBA_ID": "189",
                                    "(No column name)": "-2",
                                    "előző foglalás időtartama": "1"
                                },
                                {
                                    "SZOBA_ID": "189",
                                    "(No column name)": "-2",
                                    "előző foglalás időtartama": "2"
                                },
                                {
                                    "SZOBA_ID": "189",
                                    "(No column name)": "-3",
                                    "előző foglalás időtartama": "2"
                                },
                                {
                                    "SZOBA_ID": "190",
                                    "(No column name)": "-7",
                                    "előző foglalás időtartama": "0"
                                },
                                {
                                    "SZOBA_ID": "190",
                                    "(No column name)": "-1",
                                    "előző foglalás időtartama": "7"
                                },
                                {
                                    "SZOBA_ID": "190",
                                    "(No column name)": "-1",
                                    "előző foglalás időtartama": "1"
                                },
                                {
                                    "SZOBA_ID": "190",
                                    "(No column name)": "-5",
                                    "előző foglalás időtartama": "1"
                                },
                                {
                                    "SZOBA_ID": "190",
                                    "(No column name)": "-5",
                                    "előző foglalás időtartama": "5"
                                },
                                {
                                    "SZOBA_ID": "191",
                                    "(No column name)": "-6",
                                    "előző foglalás időtartama": "0"
                                },
                                {
                                    "SZOBA_ID": "191",
                                    "(No column name)": "-1",
                                    "előző foglalás időtartama": "6"
                                },
                                {
                                    "SZOBA_ID": "191",
                                    "(No column name)": "-7",
                                    "előző foglalás időtartama": "1"
                                },
                                {
                                    "SZOBA_ID": "191",
                                    "(No column name)": "-2",
                                    "előző foglalás időtartama": "7"
                                },
                                {
                                    "SZOBA_ID": "191",
                                    "(No column name)": "-7",
                                    "előző foglalás időtartama": "2"
                                },
                                {
                                    "SZOBA_ID": "192",
                                    "(No column name)": "-7",
                                    "előző foglalás időtartama": "0"
                                },
                                {
                                    "SZOBA_ID": "192",
                                    "(No column name)": "-4",
                                    "előző foglalás időtartama": "7"
                                },
                                {
                                    "SZOBA_ID": "193",
                                    "(No column name)": "-6",
                                    "előző foglalás időtartama": "0"
                                },
                                {
                                    "SZOBA_ID": "193",
                                    "(No column name)": "-1",
                                    "előző foglalás időtartama": "6"
                                },
                                {
                                    "SZOBA_ID": "193",
                                    "(No column name)": "-2",
                                    "előző foglalás időtartama": "1"
                                },
                                {
                                    "SZOBA_ID": "193",
                                    "(No column name)": "-2",
                                    "előző foglalás időtartama": "2"
                                },
                                {
                                    "SZOBA_ID": "193",
                                    "(No column name)": "-2",
                                    "előző foglalás időtartama": "2"
                                },
                                {
                                    "SZOBA_ID": "193",
                                    "(No column name)": "-6",
                                    "előző foglalás időtartama": "2"
                                },
                                {
                                    "SZOBA_ID": "193",
                                    "(No column name)": "-6",
                                    "előző foglalás időtartama": "6"
                                },
                                {
                                    "SZOBA_ID": "194",
                                    "(No column name)": "-5",
                                    "előző foglalás időtartama": "0"
                                },
                                {
                                    "SZOBA_ID": "195",
                                    "(No column name)": "-4",
                                    "előző foglalás időtartama": "0"
                                },
                                {
                                    "SZOBA_ID": "195",
                                    "(No column name)": "-4",
                                    "előző foglalás időtartama": "4"
                                },
                                {
                                    "SZOBA_ID": "195",
                                    "(No column name)": "-7",
                                    "előző foglalás időtartama": "4"
                                },
                                {
                                    "SZOBA_ID": "195",
                                    "(No column name)": "-5",
                                    "előző foglalás időtartama": "7"
                                },
                                {
                                    "SZOBA_ID": "195",
                                    "(No column name)": "-7",
                                    "előző foglalás időtartama": "5"
                                },
                                {
                                    "SZOBA_ID": "195",
                                    "(No column name)": "-1",
                                    "előző foglalás időtartama": "7"
                                },
                                {
                                    "SZOBA_ID": "196",
                                    "(No column name)": "-3",
                                    "előző foglalás időtartama": "0"
                                },
                                {
                                    "SZOBA_ID": "196",
                                    "(No column name)": "-5",
                                    "előző foglalás időtartama": "3"
                                },
                                {
                                    "SZOBA_ID": "196",
                                    "(No column name)": "-5",
                                    "előző foglalás időtartama": "5"
                                },
                                {
                                    "SZOBA_ID": "196",
                                    "(No column name)": "-5",
                                    "előző foglalás időtartama": "5"
                                },
                                {
                                    "SZOBA_ID": "197",
                                    "(No column name)": "-7",
                                    "előző foglalás időtartama": "0"
                                },
                                {
                                    "SZOBA_ID": "197",
                                    "(No column name)": "-7",
                                    "előző foglalás időtartama": "7"
                                },
                                {
                                    "SZOBA_ID": "197",
                                    "(No column name)": "-7",
                                    "előző foglalás időtartama": "7"
                                },
                                {
                                    "SZOBA_ID": "197",
                                    "(No column name)": "-7",
                                    "előző foglalás időtartama": "7"
                                },
                                {
                                    "SZOBA_ID": "197",
                                    "(No column name)": "-7",
                                    "előző foglalás időtartama": "7"
                                },
                                {
                                    "SZOBA_ID": "197",
                                    "(No column name)": "-3",
                                    "előző foglalás időtartama": "7"
                                },
                                {
                                    "SZOBA_ID": "198",
                                    "(No column name)": "-1",
                                    "előző foglalás időtartama": "0"
                                },
                                {
                                    "SZOBA_ID": "198",
                                    "(No column name)": "-7",
                                    "előző foglalás időtartama": "1"
                                },
                                {
                                    "SZOBA_ID": "198",
                                    "(No column name)": "-3",
                                    "előző foglalás időtartama": "7"
                                },
                                {
                                    "SZOBA_ID": "198",
                                    "(No column name)": "-1",
                                    "előző foglalás időtartama": "3"
                                },
                                {
                                    "SZOBA_ID": "198",
                                    "(No column name)": "-5",
                                    "előző foglalás időtartama": "1"
                                },
                                {
                                    "SZOBA_ID": "198",
                                    "(No column name)": "-5",
                                    "előző foglalás időtartama": "5"
                                },
                                {
                                    "SZOBA_ID": "198",
                                    "(No column name)": "-7",
                                    "előző foglalás időtartama": "5"
                                },
                                {
                                    "SZOBA_ID": "198",
                                    "(No column name)": "-5",
                                    "előző foglalás időtartama": "7"
                                }
                            ]
                        },
                        "text/html": "<table><tr><th>SZOBA_ID</th><th>(No column name)</th><th>előző foglalás időtartama</th></tr><tr><td>1</td><td>-5</td><td>0</td></tr><tr><td>1</td><td>-1</td><td>5</td></tr><tr><td>1</td><td>-7</td><td>1</td></tr><tr><td>1</td><td>-4</td><td>7</td></tr><tr><td>1</td><td>-2</td><td>4</td></tr><tr><td>1</td><td>-1</td><td>2</td></tr><tr><td>1</td><td>-1</td><td>1</td></tr><tr><td>1</td><td>-4</td><td>1</td></tr><tr><td>2</td><td>-3</td><td>0</td></tr><tr><td>2</td><td>-1</td><td>3</td></tr><tr><td>2</td><td>-7</td><td>1</td></tr><tr><td>2</td><td>-7</td><td>7</td></tr><tr><td>3</td><td>-4</td><td>0</td></tr><tr><td>3</td><td>-6</td><td>4</td></tr><tr><td>3</td><td>-6</td><td>6</td></tr><tr><td>3</td><td>-3</td><td>6</td></tr><tr><td>3</td><td>-7</td><td>3</td></tr><tr><td>3</td><td>-1</td><td>7</td></tr><tr><td>3</td><td>-5</td><td>1</td></tr><tr><td>3</td><td>-5</td><td>5</td></tr><tr><td>4</td><td>-7</td><td>0</td></tr><tr><td>4</td><td>-5</td><td>7</td></tr><tr><td>4</td><td>-7</td><td>5</td></tr><tr><td>4</td><td>-3</td><td>7</td></tr><tr><td>4</td><td>-6</td><td>3</td></tr><tr><td>4</td><td>-6</td><td>6</td></tr><tr><td>5</td><td>-2</td><td>0</td></tr><tr><td>5</td><td>-7</td><td>2</td></tr><tr><td>5</td><td>-5</td><td>7</td></tr><tr><td>5</td><td>-3</td><td>5</td></tr><tr><td>6</td><td>-6</td><td>0</td></tr><tr><td>6</td><td>-3</td><td>6</td></tr><tr><td>6</td><td>-4</td><td>3</td></tr><tr><td>6</td><td>-6</td><td>4</td></tr><tr><td>6</td><td>-2</td><td>6</td></tr><tr><td>6</td><td>-4</td><td>2</td></tr><tr><td>7</td><td>-4</td><td>0</td></tr><tr><td>7</td><td>-7</td><td>4</td></tr><tr><td>7</td><td>-1</td><td>7</td></tr><tr><td>7</td><td>-4</td><td>1</td></tr><tr><td>7</td><td>-4</td><td>4</td></tr><tr><td>7</td><td>-2</td><td>4</td></tr><tr><td>8</td><td>-1</td><td>0</td></tr><tr><td>8</td><td>-3</td><td>1</td></tr><tr><td>8</td><td>-4</td><td>3</td></tr><tr><td>8</td><td>-4</td><td>4</td></tr><tr><td>8</td><td>-4</td><td>4</td></tr><tr><td>9</td><td>-2</td><td>0</td></tr><tr><td>9</td><td>-6</td><td>2</td></tr><tr><td>9</td><td>-3</td><td>6</td></tr><tr><td>9</td><td>-6</td><td>3</td></tr><tr><td>9</td><td>-3</td><td>6</td></tr><tr><td>9</td><td>-3</td><td>3</td></tr><tr><td>10</td><td>-3</td><td>0</td></tr><tr><td>10</td><td>-5</td><td>3</td></tr><tr><td>10</td><td>-4</td><td>5</td></tr><tr><td>10</td><td>-6</td><td>4</td></tr><tr><td>11</td><td>-6</td><td>0</td></tr><tr><td>11</td><td>-5</td><td>6</td></tr><tr><td>11</td><td>-1</td><td>5</td></tr><tr><td>11</td><td>-1</td><td>1</td></tr><tr><td>12</td><td>-7</td><td>0</td></tr><tr><td>12</td><td>-3</td><td>7</td></tr><tr><td>12</td><td>-2</td><td>3</td></tr><tr><td>12</td><td>-5</td><td>2</td></tr><tr><td>12</td><td>-2</td><td>5</td></tr><tr><td>12</td><td>-4</td><td>2</td></tr><tr><td>12</td><td>-3</td><td>4</td></tr><tr><td>12</td><td>-5</td><td>3</td></tr><tr><td>12</td><td>-2</td><td>5</td></tr><tr><td>13</td><td>-4</td><td>0</td></tr><tr><td>13</td><td>-6</td><td>4</td></tr><tr><td>13</td><td>-3</td><td>6</td></tr><tr><td>13</td><td>-2</td><td>3</td></tr><tr><td>14</td><td>-1</td><td>0</td></tr><tr><td>14</td><td>-3</td><td>1</td></tr><tr><td>14</td><td>-4</td><td>3</td></tr><tr><td>15</td><td>-2</td><td>0</td></tr><tr><td>15</td><td>-5</td><td>2</td></tr><tr><td>15</td><td>-4</td><td>5</td></tr><tr><td>15</td><td>-1</td><td>4</td></tr><tr><td>15</td><td>-4</td><td>1</td></tr><tr><td>15</td><td>-3</td><td>4</td></tr><tr><td>16</td><td>-6</td><td>0</td></tr><tr><td>16</td><td>-1</td><td>6</td></tr><tr><td>16</td><td>-1</td><td>1</td></tr><tr><td>16</td><td>-3</td><td>1</td></tr><tr><td>16</td><td>-7</td><td>3</td></tr><tr><td>17</td><td>-6</td><td>0</td></tr><tr><td>17</td><td>-2</td><td>6</td></tr><tr><td>17</td><td>-6</td><td>2</td></tr><tr><td>17</td><td>-1</td><td>6</td></tr><tr><td>17</td><td>-5</td><td>1</td></tr><tr><td>17</td><td>-3</td><td>5</td></tr><tr><td>18</td><td>-3</td><td>0</td></tr><tr><td>18</td><td>-3</td><td>3</td></tr><tr><td>18</td><td>-6</td><td>3</td></tr><tr><td>18</td><td>-6</td><td>6</td></tr><tr><td>18</td><td>-4</td><td>6</td></tr><tr><td>18</td><td>-6</td><td>4</td></tr><tr><td>19</td><td>-2</td><td>0</td></tr><tr><td>19</td><td>-1</td><td>2</td></tr><tr><td>19</td><td>-1</td><td>1</td></tr><tr><td>19</td><td>-7</td><td>1</td></tr><tr><td>19</td><td>-1</td><td>7</td></tr><tr><td>19</td><td>-1</td><td>1</td></tr><tr><td>20</td><td>-6</td><td>0</td></tr><tr><td>20</td><td>-1</td><td>6</td></tr><tr><td>20</td><td>-1</td><td>1</td></tr><tr><td>20</td><td>-5</td><td>1</td></tr><tr><td>20</td><td>-2</td><td>5</td></tr><tr><td>21</td><td>-6</td><td>0</td></tr><tr><td>21</td><td>-5</td><td>6</td></tr><tr><td>21</td><td>-1</td><td>5</td></tr><tr><td>21</td><td>-6</td><td>1</td></tr><tr><td>22</td><td>-1</td><td>0</td></tr><tr><td>22</td><td>-3</td><td>1</td></tr><tr><td>22</td><td>-1</td><td>3</td></tr><tr><td>22</td><td>-6</td><td>1</td></tr><tr><td>22</td><td>-7</td><td>6</td></tr><tr><td>22</td><td>-3</td><td>7</td></tr><tr><td>23</td><td>-1</td><td>0</td></tr><tr><td>23</td><td>-7</td><td>1</td></tr><tr><td>23</td><td>-1</td><td>7</td></tr><tr><td>24</td><td>-2</td><td>0</td></tr><tr><td>24</td><td>-1</td><td>2</td></tr><tr><td>24</td><td>-3</td><td>1</td></tr><tr><td>25</td><td>-3</td><td>0</td></tr><tr><td>25</td><td>-2</td><td>3</td></tr><tr><td>26</td><td>-2</td><td>0</td></tr><tr><td>26</td><td>-3</td><td>2</td></tr><tr><td>27</td><td>-3</td><td>0</td></tr><tr><td>27</td><td>-2</td><td>3</td></tr><tr><td>27</td><td>-2</td><td>2</td></tr><tr><td>27</td><td>-5</td><td>2</td></tr><tr><td>27</td><td>-6</td><td>5</td></tr><tr><td>27</td><td>-1</td><td>6</td></tr><tr><td>27</td><td>-1</td><td>1</td></tr><tr><td>28</td><td>-5</td><td>0</td></tr><tr><td>28</td><td>-4</td><td>5</td></tr><tr><td>28</td><td>-4</td><td>4</td></tr><tr><td>28</td><td>-5</td><td>4</td></tr><tr><td>28</td><td>-6</td><td>5</td></tr><tr><td>28</td><td>-2</td><td>6</td></tr><tr><td>29</td><td>-5</td><td>0</td></tr><tr><td>29</td><td>-1</td><td>5</td></tr><tr><td>29</td><td>-7</td><td>1</td></tr><tr><td>29</td><td>-5</td><td>7</td></tr><tr><td>29</td><td>-7</td><td>5</td></tr><tr><td>29</td><td>-7</td><td>7</td></tr><tr><td>30</td><td>-2</td><td>0</td></tr><tr><td>30</td><td>-7</td><td>2</td></tr><tr><td>30</td><td>-5</td><td>7</td></tr><tr><td>31</td><td>-2</td><td>0</td></tr><tr><td>31</td><td>-1</td><td>2</td></tr><tr><td>31</td><td>-4</td><td>1</td></tr><tr><td>32</td><td>-4</td><td>0</td></tr><tr><td>33</td><td>-6</td><td>0</td></tr><tr><td>33</td><td>-7</td><td>6</td></tr><tr><td>33</td><td>-1</td><td>7</td></tr><tr><td>33</td><td>-4</td><td>1</td></tr><tr><td>33</td><td>-5</td><td>4</td></tr><tr><td>33</td><td>-6</td><td>5</td></tr><tr><td>34</td><td>-6</td><td>0</td></tr><tr><td>34</td><td>-2</td><td>6</td></tr><tr><td>34</td><td>-3</td><td>2</td></tr><tr><td>34</td><td>-1</td><td>3</td></tr><tr><td>35</td><td>-3</td><td>0</td></tr><tr><td>35</td><td>-7</td><td>3</td></tr><tr><td>35</td><td>-6</td><td>7</td></tr><tr><td>35</td><td>-2</td><td>6</td></tr><tr><td>35</td><td>-2</td><td>2</td></tr><tr><td>35</td><td>-37</td><td>2</td></tr><tr><td>35</td><td>-1</td><td>37</td></tr><tr><td>35</td><td>-1</td><td>1</td></tr><tr><td>35</td><td>-4</td><td>1</td></tr><tr><td>36</td><td>-5</td><td>0</td></tr><tr><td>36</td><td>-1</td><td>5</td></tr><tr><td>36</td><td>-6</td><td>1</td></tr><tr><td>36</td><td>-4</td><td>6</td></tr><tr><td>36</td><td>-2</td><td>4</td></tr><tr><td>36</td><td>-6</td><td>2</td></tr><tr><td>37</td><td>-2</td><td>0</td></tr><tr><td>37</td><td>-4</td><td>2</td></tr><tr><td>37</td><td>-7</td><td>4</td></tr><tr><td>38</td><td>-6</td><td>0</td></tr><tr><td>38</td><td>-2</td><td>6</td></tr><tr><td>38</td><td>-2</td><td>2</td></tr><tr><td>38</td><td>-7</td><td>2</td></tr><tr><td>38</td><td>-4</td><td>7</td></tr><tr><td>38</td><td>-5</td><td>4</td></tr><tr><td>38</td><td>-4</td><td>5</td></tr><tr><td>38</td><td>-6</td><td>4</td></tr><tr><td>39</td><td>-6</td><td>0</td></tr><tr><td>39</td><td>-6</td><td>6</td></tr><tr><td>39</td><td>-5</td><td>6</td></tr><tr><td>39</td><td>-5</td><td>5</td></tr><tr><td>39</td><td>-7</td><td>5</td></tr><tr><td>39</td><td>-1</td><td>7</td></tr><tr><td>39</td><td>-2</td><td>1</td></tr><tr><td>40</td><td>-5</td><td>0</td></tr><tr><td>40</td><td>-6</td><td>5</td></tr><tr><td>40</td><td>-5</td><td>6</td></tr><tr><td>40</td><td>-5</td><td>5</td></tr><tr><td>41</td><td>-6</td><td>0</td></tr><tr><td>41</td><td>-1</td><td>6</td></tr><tr><td>42</td><td>-4</td><td>0</td></tr><tr><td>42</td><td>-5</td><td>4</td></tr><tr><td>42</td><td>-7</td><td>5</td></tr><tr><td>42</td><td>-3</td><td>7</td></tr><tr><td>42</td><td>-2</td><td>3</td></tr><tr><td>42</td><td>-6</td><td>2</td></tr><tr><td>43</td><td>-4</td><td>0</td></tr><tr><td>43</td><td>-4</td><td>4</td></tr><tr><td>43</td><td>-2</td><td>4</td></tr><tr><td>43</td><td>-1</td><td>2</td></tr><tr><td>43</td><td>-5</td><td>1</td></tr><tr><td>43</td><td>-4</td><td>5</td></tr><tr><td>43</td><td>-1</td><td>4</td></tr><tr><td>43</td><td>-5</td><td>1</td></tr><tr><td>44</td><td>-2</td><td>0</td></tr><tr><td>44</td><td>-6</td><td>2</td></tr><tr><td>44</td><td>-2</td><td>6</td></tr><tr><td>44</td><td>-2</td><td>2</td></tr><tr><td>44</td><td>-2</td><td>2</td></tr><tr><td>44</td><td>-2</td><td>2</td></tr><tr><td>45</td><td>-7</td><td>0</td></tr><tr><td>45</td><td>-5</td><td>7</td></tr><tr><td>45</td><td>-3</td><td>5</td></tr><tr><td>45</td><td>-3</td><td>3</td></tr><tr><td>45</td><td>-2</td><td>3</td></tr><tr><td>46</td><td>-5</td><td>0</td></tr><tr><td>46</td><td>-7</td><td>5</td></tr><tr><td>46</td><td>-3</td><td>7</td></tr><tr><td>46</td><td>-4</td><td>3</td></tr><tr><td>47</td><td>-1</td><td>0</td></tr><tr><td>47</td><td>-7</td><td>1</td></tr><tr><td>48</td><td>-3</td><td>0</td></tr><tr><td>48</td><td>-2</td><td>3</td></tr><tr><td>48</td><td>-5</td><td>2</td></tr><tr><td>48</td><td>-5</td><td>5</td></tr><tr><td>48</td><td>-2</td><td>5</td></tr><tr><td>48</td><td>-6</td><td>2</td></tr><tr><td>48</td><td>-3</td><td>6</td></tr><tr><td>48</td><td>-1</td><td>3</td></tr><tr><td>48</td><td>-5</td><td>1</td></tr><tr><td>49</td><td>-7</td><td>0</td></tr><tr><td>49</td><td>-6</td><td>7</td></tr><tr><td>49</td><td>-4</td><td>6</td></tr><tr><td>49</td><td>-7</td><td>4</td></tr><tr><td>49</td><td>-7</td><td>7</td></tr><tr><td>49</td><td>-2</td><td>7</td></tr><tr><td>49</td><td>-6</td><td>2</td></tr><tr><td>50</td><td>-3</td><td>0</td></tr><tr><td>50</td><td>-2</td><td>3</td></tr><tr><td>50</td><td>-1</td><td>2</td></tr><tr><td>50</td><td>-1</td><td>1</td></tr><tr><td>51</td><td>-7</td><td>0</td></tr><tr><td>51</td><td>-2</td><td>7</td></tr><tr><td>51</td><td>-5</td><td>2</td></tr><tr><td>51</td><td>-6</td><td>5</td></tr><tr><td>51</td><td>-1</td><td>6</td></tr><tr><td>52</td><td>-7</td><td>0</td></tr><tr><td>52</td><td>-2</td><td>7</td></tr><tr><td>52</td><td>-5</td><td>2</td></tr><tr><td>52</td><td>-5</td><td>5</td></tr><tr><td>52</td><td>-5</td><td>5</td></tr><tr><td>53</td><td>-1</td><td>0</td></tr><tr><td>53</td><td>-4</td><td>1</td></tr><tr><td>54</td><td>-7</td><td>0</td></tr><tr><td>54</td><td>-5</td><td>7</td></tr><tr><td>54</td><td>-2</td><td>5</td></tr><tr><td>54</td><td>-1</td><td>2</td></tr><tr><td>54</td><td>-4</td><td>1</td></tr><tr><td>54</td><td>-4</td><td>4</td></tr><tr><td>55</td><td>-6</td><td>0</td></tr><tr><td>55</td><td>-5</td><td>6</td></tr><tr><td>55</td><td>-2</td><td>5</td></tr><tr><td>55</td><td>-7</td><td>2</td></tr><tr><td>55</td><td>-6</td><td>7</td></tr><tr><td>55</td><td>-2</td><td>6</td></tr><tr><td>55</td><td>-1</td><td>2</td></tr><tr><td>55</td><td>-1</td><td>1</td></tr><tr><td>56</td><td>-4</td><td>0</td></tr><tr><td>56</td><td>-2</td><td>4</td></tr><tr><td>57</td><td>-1</td><td>0</td></tr><tr><td>57</td><td>-1</td><td>1</td></tr><tr><td>57</td><td>-7</td><td>1</td></tr><tr><td>57</td><td>-4</td><td>7</td></tr><tr><td>58</td><td>-5</td><td>0</td></tr><tr><td>58</td><td>-3</td><td>5</td></tr><tr><td>58</td><td>-2</td><td>3</td></tr><tr><td>58</td><td>-3</td><td>2</td></tr><tr><td>58</td><td>-6</td><td>3</td></tr><tr><td>58</td><td>-6</td><td>6</td></tr><tr><td>58</td><td>-7</td><td>6</td></tr><tr><td>58</td><td>-6</td><td>7</td></tr><tr><td>58</td><td>-7</td><td>6</td></tr><tr><td>58</td><td>-3</td><td>7</td></tr><tr><td>58</td><td>-6</td><td>3</td></tr><tr><td>58</td><td>-3</td><td>6</td></tr><tr><td>58</td><td>-6</td><td>3</td></tr><tr><td>59</td><td>-1</td><td>0</td></tr><tr><td>59</td><td>-2</td><td>1</td></tr><tr><td>59</td><td>-5</td><td>2</td></tr><tr><td>59</td><td>-6</td><td>5</td></tr><tr><td>59</td><td>-2</td><td>6</td></tr><tr><td>59</td><td>-3</td><td>2</td></tr><tr><td>59</td><td>-1</td><td>3</td></tr><tr><td>60</td><td>-2</td><td>0</td></tr><tr><td>61</td><td>-2</td><td>0</td></tr><tr><td>61</td><td>-6</td><td>2</td></tr><tr><td>61</td><td>-3</td><td>6</td></tr><tr><td>61</td><td>-2</td><td>3</td></tr><tr><td>61</td><td>-7</td><td>2</td></tr><tr><td>62</td><td>-3</td><td>0</td></tr><tr><td>62</td><td>-1</td><td>3</td></tr><tr><td>62</td><td>-5</td><td>1</td></tr><tr><td>62</td><td>-7</td><td>5</td></tr><tr><td>62</td><td>-4</td><td>7</td></tr><tr><td>63</td><td>-3</td><td>0</td></tr><tr><td>63</td><td>-6</td><td>3</td></tr><tr><td>63</td><td>-5</td><td>6</td></tr><tr><td>63</td><td>-1</td><td>5</td></tr><tr><td>64</td><td>-2</td><td>0</td></tr><tr><td>64</td><td>-4</td><td>2</td></tr><tr><td>64</td><td>-7</td><td>4</td></tr><tr><td>64</td><td>-6</td><td>7</td></tr><tr><td>64</td><td>-4</td><td>6</td></tr><tr><td>64</td><td>-1</td><td>4</td></tr><tr><td>65</td><td>-6</td><td>0</td></tr><tr><td>66</td><td>-3</td><td>0</td></tr><tr><td>66</td><td>-3</td><td>3</td></tr><tr><td>66</td><td>-3</td><td>3</td></tr><tr><td>66</td><td>-4</td><td>3</td></tr><tr><td>67</td><td>-5</td><td>0</td></tr><tr><td>67</td><td>-6</td><td>5</td></tr><tr><td>67</td><td>-6</td><td>6</td></tr><tr><td>67</td><td>-1</td><td>6</td></tr><tr><td>67</td><td>-5</td><td>1</td></tr><tr><td>67</td><td>-1</td><td>5</td></tr><tr><td>68</td><td>-5</td><td>0</td></tr><tr><td>68</td><td>-7</td><td>5</td></tr><tr><td>68</td><td>-4</td><td>7</td></tr><tr><td>69</td><td>-1</td><td>0</td></tr><tr><td>69</td><td>-5</td><td>1</td></tr><tr><td>69</td><td>-5</td><td>5</td></tr><tr><td>69</td><td>-7</td><td>5</td></tr><tr><td>70</td><td>-5</td><td>0</td></tr><tr><td>70</td><td>-2</td><td>5</td></tr><tr><td>70</td><td>-3</td><td>2</td></tr><tr><td>70</td><td>-3</td><td>3</td></tr><tr><td>70</td><td>-3</td><td>3</td></tr><tr><td>70</td><td>-3</td><td>3</td></tr><tr><td>70</td><td>-3</td><td>3</td></tr><tr><td>70</td><td>-7</td><td>3</td></tr><tr><td>70</td><td>-6</td><td>7</td></tr><tr><td>70</td><td>-3</td><td>6</td></tr><tr><td>70</td><td>-7</td><td>3</td></tr><tr><td>71</td><td>-1</td><td>0</td></tr><tr><td>71</td><td>-3</td><td>1</td></tr><tr><td>71</td><td>-1</td><td>3</td></tr><tr><td>72</td><td>-5</td><td>0</td></tr><tr><td>72</td><td>-6</td><td>5</td></tr><tr><td>72</td><td>-2</td><td>6</td></tr><tr><td>72</td><td>-3</td><td>2</td></tr><tr><td>73</td><td>-4</td><td>0</td></tr><tr><td>73</td><td>-7</td><td>4</td></tr><tr><td>73</td><td>-5</td><td>7</td></tr><tr><td>73</td><td>-4</td><td>5</td></tr><tr><td>74</td><td>-7</td><td>0</td></tr><tr><td>74</td><td>-4</td><td>7</td></tr><tr><td>74</td><td>-5</td><td>4</td></tr><tr><td>74</td><td>-1</td><td>5</td></tr><tr><td>74</td><td>-5</td><td>1</td></tr><tr><td>74</td><td>-1</td><td>5</td></tr><tr><td>74</td><td>-3</td><td>1</td></tr><tr><td>74</td><td>-6</td><td>3</td></tr><tr><td>74</td><td>-7</td><td>6</td></tr><tr><td>75</td><td>-5</td><td>0</td></tr><tr><td>75</td><td>-2</td><td>5</td></tr><tr><td>75</td><td>-1</td><td>2</td></tr><tr><td>76</td><td>-2</td><td>0</td></tr><tr><td>76</td><td>-7</td><td>2</td></tr><tr><td>76</td><td>-3</td><td>7</td></tr><tr><td>77</td><td>-3</td><td>0</td></tr><tr><td>77</td><td>-3</td><td>3</td></tr><tr><td>77</td><td>-4</td><td>3</td></tr><tr><td>77</td><td>-1</td><td>4</td></tr><tr><td>77</td><td>-6</td><td>1</td></tr><tr><td>77</td><td>-4</td><td>6</td></tr><tr><td>78</td><td>-1</td><td>0</td></tr><tr><td>78</td><td>-3</td><td>1</td></tr><tr><td>78</td><td>-5</td><td>3</td></tr><tr><td>78</td><td>-2</td><td>5</td></tr><tr><td>78</td><td>-3</td><td>2</td></tr><tr><td>78</td><td>-7</td><td>3</td></tr><tr><td>79</td><td>-6</td><td>0</td></tr><tr><td>79</td><td>-1</td><td>6</td></tr><tr><td>79</td><td>-7</td><td>1</td></tr><tr><td>79</td><td>-3</td><td>7</td></tr><tr><td>79</td><td>-4</td><td>3</td></tr><tr><td>80</td><td>-6</td><td>0</td></tr><tr><td>80</td><td>-2</td><td>6</td></tr><tr><td>80</td><td>-6</td><td>2</td></tr><tr><td>80</td><td>-6</td><td>6</td></tr><tr><td>80</td><td>-4</td><td>6</td></tr><tr><td>80</td><td>-5</td><td>4</td></tr><tr><td>80</td><td>-3</td><td>5</td></tr><tr><td>81</td><td>-5</td><td>0</td></tr><tr><td>81</td><td>-7</td><td>5</td></tr><tr><td>81</td><td>-7</td><td>7</td></tr><tr><td>81</td><td>-3</td><td>7</td></tr><tr><td>81</td><td>-3</td><td>3</td></tr><tr><td>82</td><td>-4</td><td>0</td></tr><tr><td>82</td><td>-5</td><td>4</td></tr><tr><td>82</td><td>-6</td><td>5</td></tr><tr><td>82</td><td>-5</td><td>6</td></tr><tr><td>82</td><td>-2</td><td>5</td></tr><tr><td>82</td><td>-1</td><td>2</td></tr><tr><td>83</td><td>-7</td><td>0</td></tr><tr><td>83</td><td>-6</td><td>7</td></tr><tr><td>83</td><td>-6</td><td>6</td></tr><tr><td>83</td><td>-5</td><td>6</td></tr><tr><td>83</td><td>-4</td><td>5</td></tr><tr><td>83</td><td>-4</td><td>4</td></tr><tr><td>83</td><td>-6</td><td>4</td></tr><tr><td>83</td><td>-7</td><td>6</td></tr><tr><td>84</td><td>-5</td><td>0</td></tr><tr><td>84</td><td>-2</td><td>5</td></tr><tr><td>84</td><td>-5</td><td>2</td></tr><tr><td>84</td><td>-7</td><td>5</td></tr><tr><td>85</td><td>-3</td><td>0</td></tr><tr><td>85</td><td>-3</td><td>3</td></tr><tr><td>85</td><td>-1</td><td>3</td></tr><tr><td>85</td><td>-7</td><td>1</td></tr><tr><td>86</td><td>-1</td><td>0</td></tr><tr><td>86</td><td>-5</td><td>1</td></tr><tr><td>86</td><td>-4</td><td>5</td></tr><tr><td>86</td><td>-1</td><td>4</td></tr><tr><td>86</td><td>-1</td><td>1</td></tr><tr><td>87</td><td>-4</td><td>0</td></tr><tr><td>87</td><td>-1</td><td>4</td></tr><tr><td>87</td><td>-3</td><td>1</td></tr><tr><td>87</td><td>-5</td><td>3</td></tr><tr><td>87</td><td>-5</td><td>5</td></tr><tr><td>88</td><td>-2</td><td>0</td></tr><tr><td>88</td><td>-7</td><td>2</td></tr><tr><td>88</td><td>-3</td><td>7</td></tr><tr><td>88</td><td>-7</td><td>3</td></tr><tr><td>88</td><td>-3</td><td>7</td></tr><tr><td>88</td><td>-2</td><td>3</td></tr><tr><td>88</td><td>-7</td><td>2</td></tr><tr><td>88</td><td>-6</td><td>7</td></tr><tr><td>89</td><td>-3</td><td>0</td></tr><tr><td>89</td><td>-7</td><td>3</td></tr><tr><td>89</td><td>-5</td><td>7</td></tr><tr><td>89</td><td>-6</td><td>5</td></tr><tr><td>89</td><td>-2</td><td>6</td></tr><tr><td>89</td><td>-2</td><td>2</td></tr><tr><td>89</td><td>-2</td><td>2</td></tr><tr><td>89</td><td>-7</td><td>2</td></tr><tr><td>90</td><td>-2</td><td>0</td></tr><tr><td>90</td><td>-7</td><td>2</td></tr><tr><td>90</td><td>-6</td><td>7</td></tr><tr><td>90</td><td>-5</td><td>6</td></tr><tr><td>91</td><td>-6</td><td>0</td></tr><tr><td>91</td><td>-4</td><td>6</td></tr><tr><td>91</td><td>-3</td><td>4</td></tr><tr><td>91</td><td>-4</td><td>3</td></tr><tr><td>92</td><td>-6</td><td>0</td></tr><tr><td>92</td><td>-2</td><td>6</td></tr><tr><td>92</td><td>-3</td><td>2</td></tr><tr><td>92</td><td>-6</td><td>3</td></tr><tr><td>92</td><td>-2</td><td>6</td></tr><tr><td>92</td><td>-4</td><td>2</td></tr><tr><td>93</td><td>-7</td><td>0</td></tr><tr><td>93</td><td>-4</td><td>7</td></tr><tr><td>93</td><td>-1</td><td>4</td></tr><tr><td>93</td><td>-2</td><td>1</td></tr><tr><td>93</td><td>-4</td><td>2</td></tr><tr><td>94</td><td>-4</td><td>0</td></tr><tr><td>94</td><td>-5</td><td>4</td></tr><tr><td>94</td><td>-7</td><td>5</td></tr><tr><td>94</td><td>-3</td><td>7</td></tr><tr><td>94</td><td>-7</td><td>3</td></tr><tr><td>94</td><td>-2</td><td>7</td></tr><tr><td>94</td><td>-3</td><td>2</td></tr><tr><td>94</td><td>-1</td><td>3</td></tr><tr><td>94</td><td>-2</td><td>1</td></tr><tr><td>94</td><td>-7</td><td>2</td></tr><tr><td>95</td><td>-7</td><td>0</td></tr><tr><td>95</td><td>-3</td><td>7</td></tr><tr><td>95</td><td>-4</td><td>3</td></tr><tr><td>95</td><td>-7</td><td>4</td></tr><tr><td>96</td><td>-4</td><td>0</td></tr><tr><td>96</td><td>-7</td><td>4</td></tr><tr><td>96</td><td>-4</td><td>7</td></tr><tr><td>96</td><td>-1</td><td>4</td></tr><tr><td>96</td><td>-3</td><td>1</td></tr><tr><td>96</td><td>-2</td><td>3</td></tr><tr><td>96</td><td>-7</td><td>2</td></tr><tr><td>97</td><td>-3</td><td>0</td></tr><tr><td>97</td><td>-4</td><td>3</td></tr><tr><td>97</td><td>-7</td><td>4</td></tr><tr><td>97</td><td>-2</td><td>7</td></tr><tr><td>97</td><td>-1</td><td>2</td></tr><tr><td>97</td><td>-7</td><td>1</td></tr><tr><td>97</td><td>-2</td><td>7</td></tr><tr><td>98</td><td>-6</td><td>0</td></tr><tr><td>98</td><td>-5</td><td>6</td></tr><tr><td>98</td><td>-6</td><td>5</td></tr><tr><td>98</td><td>-2</td><td>6</td></tr><tr><td>99</td><td>-1</td><td>0</td></tr><tr><td>99</td><td>-5</td><td>1</td></tr><tr><td>99</td><td>-1</td><td>5</td></tr><tr><td>99</td><td>-1</td><td>1</td></tr><tr><td>99</td><td>-5</td><td>1</td></tr><tr><td>100</td><td>-1</td><td>0</td></tr><tr><td>100</td><td>-5</td><td>1</td></tr><tr><td>100</td><td>-5</td><td>5</td></tr><tr><td>100</td><td>-7</td><td>5</td></tr><tr><td>101</td><td>-3</td><td>0</td></tr><tr><td>101</td><td>-6</td><td>3</td></tr><tr><td>101</td><td>-4</td><td>6</td></tr><tr><td>102</td><td>-5</td><td>0</td></tr><tr><td>102</td><td>-2</td><td>5</td></tr><tr><td>103</td><td>-2</td><td>0</td></tr><tr><td>103</td><td>-7</td><td>2</td></tr><tr><td>103</td><td>-1</td><td>7</td></tr><tr><td>103</td><td>-4</td><td>1</td></tr><tr><td>104</td><td>-4</td><td>0</td></tr><tr><td>104</td><td>-1</td><td>4</td></tr><tr><td>104</td><td>-2</td><td>1</td></tr><tr><td>104</td><td>-3</td><td>2</td></tr><tr><td>105</td><td>-1</td><td>0</td></tr><tr><td>105</td><td>-5</td><td>1</td></tr><tr><td>106</td><td>-3</td><td>0</td></tr><tr><td>106</td><td>-7</td><td>3</td></tr><tr><td>106</td><td>-7</td><td>7</td></tr><tr><td>106</td><td>-5</td><td>7</td></tr><tr><td>106</td><td>-7</td><td>5</td></tr><tr><td>106</td><td>-6</td><td>7</td></tr><tr><td>107</td><td>-6</td><td>0</td></tr><tr><td>107</td><td>-4</td><td>6</td></tr><tr><td>107</td><td>-1</td><td>4</td></tr><tr><td>107</td><td>-6</td><td>1</td></tr><tr><td>107</td><td>-2</td><td>6</td></tr><tr><td>108</td><td>-1</td><td>0</td></tr><tr><td>108</td><td>-6</td><td>1</td></tr><tr><td>109</td><td>-4</td><td>0</td></tr><tr><td>109</td><td>-7</td><td>4</td></tr><tr><td>109</td><td>-5</td><td>7</td></tr><tr><td>109</td><td>-2</td><td>5</td></tr><tr><td>109</td><td>-1</td><td>2</td></tr><tr><td>109</td><td>-4</td><td>1</td></tr><tr><td>109</td><td>-1</td><td>4</td></tr><tr><td>110</td><td>-5</td><td>0</td></tr><tr><td>110</td><td>-6</td><td>5</td></tr><tr><td>110</td><td>-1</td><td>6</td></tr><tr><td>110</td><td>-3</td><td>1</td></tr><tr><td>110</td><td>-5</td><td>3</td></tr><tr><td>110</td><td>-2</td><td>5</td></tr><tr><td>110</td><td>-1</td><td>2</td></tr><tr><td>110</td><td>-6</td><td>1</td></tr><tr><td>111</td><td>-7</td><td>0</td></tr><tr><td>111</td><td>-7</td><td>7</td></tr><tr><td>111</td><td>-4</td><td>7</td></tr><tr><td>111</td><td>-3</td><td>4</td></tr><tr><td>111</td><td>-5</td><td>3</td></tr><tr><td>112</td><td>-1</td><td>0</td></tr><tr><td>112</td><td>-4</td><td>1</td></tr><tr><td>112</td><td>-5</td><td>4</td></tr><tr><td>112</td><td>-6</td><td>5</td></tr><tr><td>112</td><td>-6</td><td>6</td></tr><tr><td>113</td><td>-5</td><td>0</td></tr><tr><td>113</td><td>-4</td><td>5</td></tr><tr><td>113</td><td>-1</td><td>4</td></tr><tr><td>113</td><td>-7</td><td>1</td></tr><tr><td>113</td><td>-2</td><td>7</td></tr><tr><td>114</td><td>-6</td><td>0</td></tr><tr><td>114</td><td>-2</td><td>6</td></tr><tr><td>114</td><td>-7</td><td>2</td></tr><tr><td>114</td><td>-3</td><td>7</td></tr><tr><td>115</td><td>-7</td><td>0</td></tr><tr><td>115</td><td>-7</td><td>7</td></tr><tr><td>115</td><td>-7</td><td>7</td></tr><tr><td>115</td><td>-4</td><td>7</td></tr><tr><td>115</td><td>-3</td><td>4</td></tr><tr><td>115</td><td>-3</td><td>3</td></tr><tr><td>115</td><td>-1</td><td>3</td></tr><tr><td>116</td><td>-2</td><td>0</td></tr><tr><td>116</td><td>-4</td><td>2</td></tr><tr><td>117</td><td>-2</td><td>0</td></tr><tr><td>117</td><td>-3</td><td>2</td></tr><tr><td>117</td><td>-5</td><td>3</td></tr><tr><td>117</td><td>-4</td><td>5</td></tr><tr><td>117</td><td>-1</td><td>4</td></tr><tr><td>117</td><td>-2</td><td>1</td></tr><tr><td>117</td><td>-3</td><td>2</td></tr><tr><td>117</td><td>-7</td><td>3</td></tr><tr><td>118</td><td>-6</td><td>0</td></tr><tr><td>118</td><td>-7</td><td>6</td></tr><tr><td>118</td><td>-3</td><td>7</td></tr><tr><td>118</td><td>-1</td><td>3</td></tr><tr><td>118</td><td>-5</td><td>1</td></tr><tr><td>118</td><td>-6</td><td>5</td></tr><tr><td>118</td><td>-3</td><td>6</td></tr><tr><td>119</td><td>-3</td><td>0</td></tr><tr><td>119</td><td>-2</td><td>3</td></tr><tr><td>119</td><td>-1</td><td>2</td></tr><tr><td>119</td><td>-3</td><td>1</td></tr><tr><td>119</td><td>-3</td><td>3</td></tr><tr><td>120</td><td>-3</td><td>0</td></tr><tr><td>120</td><td>-3</td><td>3</td></tr><tr><td>120</td><td>-6</td><td>3</td></tr><tr><td>120</td><td>-6</td><td>6</td></tr><tr><td>120</td><td>-1</td><td>6</td></tr><tr><td>120</td><td>-7</td><td>1</td></tr><tr><td>121</td><td>-5</td><td>0</td></tr><tr><td>121</td><td>-6</td><td>5</td></tr><tr><td>121</td><td>-6</td><td>6</td></tr><tr><td>121</td><td>-3</td><td>6</td></tr><tr><td>121</td><td>-4</td><td>3</td></tr><tr><td>121</td><td>-4</td><td>4</td></tr><tr><td>121</td><td>-5</td><td>4</td></tr><tr><td>121</td><td>-6</td><td>5</td></tr><tr><td>122</td><td>-2</td><td>0</td></tr><tr><td>122</td><td>-2</td><td>2</td></tr><tr><td>122</td><td>-3</td><td>2</td></tr><tr><td>122</td><td>-4</td><td>3</td></tr><tr><td>122</td><td>-1</td><td>4</td></tr><tr><td>122</td><td>-2</td><td>1</td></tr><tr><td>122</td><td>-2</td><td>2</td></tr><tr><td>122</td><td>-5</td><td>2</td></tr><tr><td>122</td><td>-3</td><td>5</td></tr><tr><td>123</td><td>-7</td><td>0</td></tr><tr><td>123</td><td>-4</td><td>7</td></tr><tr><td>123</td><td>-5</td><td>4</td></tr><tr><td>123</td><td>-1</td><td>5</td></tr><tr><td>123</td><td>-6</td><td>1</td></tr><tr><td>124</td><td>-1</td><td>0</td></tr><tr><td>124</td><td>-4</td><td>1</td></tr><tr><td>124</td><td>-7</td><td>4</td></tr><tr><td>124</td><td>-6</td><td>7</td></tr><tr><td>124</td><td>-3</td><td>6</td></tr><tr><td>124</td><td>-6</td><td>3</td></tr><tr><td>125</td><td>-1</td><td>0</td></tr><tr><td>126</td><td>-4</td><td>0</td></tr><tr><td>126</td><td>-6</td><td>4</td></tr><tr><td>126</td><td>-1</td><td>6</td></tr><tr><td>126</td><td>-6</td><td>1</td></tr><tr><td>126</td><td>-7</td><td>6</td></tr><tr><td>126</td><td>-4</td><td>7</td></tr><tr><td>127</td><td>-2</td><td>0</td></tr><tr><td>127</td><td>-5</td><td>2</td></tr><tr><td>127</td><td>-2</td><td>5</td></tr><tr><td>127</td><td>-6</td><td>2</td></tr><tr><td>127</td><td>-5</td><td>6</td></tr><tr><td>127</td><td>-1</td><td>5</td></tr><tr><td>127</td><td>-5</td><td>1</td></tr><tr><td>128</td><td>-2</td><td>0</td></tr><tr><td>128</td><td>-1</td><td>2</td></tr><tr><td>128</td><td>-1</td><td>1</td></tr><tr><td>128</td><td>-1</td><td>1</td></tr><tr><td>128</td><td>-4</td><td>1</td></tr><tr><td>129</td><td>-7</td><td>0</td></tr><tr><td>129</td><td>-6</td><td>7</td></tr><tr><td>129</td><td>-7</td><td>6</td></tr><tr><td>129</td><td>-6</td><td>7</td></tr><tr><td>130</td><td>-3</td><td>0</td></tr><tr><td>130</td><td>-3</td><td>3</td></tr><tr><td>130</td><td>-2</td><td>3</td></tr><tr><td>130</td><td>-6</td><td>2</td></tr><tr><td>130</td><td>-1</td><td>6</td></tr><tr><td>130</td><td>-7</td><td>1</td></tr><tr><td>131</td><td>-2</td><td>0</td></tr><tr><td>131</td><td>-1</td><td>2</td></tr><tr><td>131</td><td>-6</td><td>1</td></tr><tr><td>131</td><td>-4</td><td>6</td></tr><tr><td>131</td><td>-5</td><td>4</td></tr><tr><td>132</td><td>-7</td><td>0</td></tr><tr><td>132</td><td>-6</td><td>7</td></tr><tr><td>132</td><td>-7</td><td>6</td></tr><tr><td>132</td><td>-3</td><td>7</td></tr><tr><td>132</td><td>-2</td><td>3</td></tr><tr><td>132</td><td>-2</td><td>2</td></tr><tr><td>133</td><td>-4</td><td>0</td></tr><tr><td>133</td><td>-3</td><td>4</td></tr><tr><td>133</td><td>-7</td><td>3</td></tr><tr><td>133</td><td>-3</td><td>7</td></tr><tr><td>133</td><td>-5</td><td>3</td></tr><tr><td>133</td><td>-1</td><td>5</td></tr><tr><td>134</td><td>-5</td><td>0</td></tr><tr><td>134</td><td>-1</td><td>5</td></tr><tr><td>134</td><td>-2</td><td>1</td></tr><tr><td>134</td><td>-7</td><td>2</td></tr><tr><td>134</td><td>-6</td><td>7</td></tr><tr><td>134</td><td>-7</td><td>6</td></tr><tr><td>135</td><td>-6</td><td>0</td></tr><tr><td>135</td><td>-7</td><td>6</td></tr><tr><td>135</td><td>-3</td><td>7</td></tr><tr><td>136</td><td>-2</td><td>0</td></tr><tr><td>136</td><td>-5</td><td>2</td></tr><tr><td>136</td><td>-4</td><td>5</td></tr><tr><td>137</td><td>-3</td><td>0</td></tr><tr><td>137</td><td>-5</td><td>3</td></tr><tr><td>137</td><td>-6</td><td>5</td></tr><tr><td>137</td><td>-1</td><td>6</td></tr><tr><td>137</td><td>-6</td><td>1</td></tr><tr><td>137</td><td>-3</td><td>6</td></tr><tr><td>138</td><td>-6</td><td>0</td></tr><tr><td>138</td><td>-4</td><td>6</td></tr><tr><td>138</td><td>-4</td><td>4</td></tr><tr><td>138</td><td>-2</td><td>4</td></tr><tr><td>138</td><td>-5</td><td>2</td></tr><tr><td>138</td><td>-7</td><td>5</td></tr><tr><td>138</td><td>-5</td><td>7</td></tr><tr><td>139</td><td>-2</td><td>0</td></tr><tr><td>139</td><td>-1</td><td>2</td></tr><tr><td>139</td><td>-4</td><td>1</td></tr><tr><td>139</td><td>-2</td><td>4</td></tr><tr><td>139</td><td>-6</td><td>2</td></tr><tr><td>139</td><td>-6</td><td>6</td></tr><tr><td>139</td><td>-7</td><td>6</td></tr><tr><td>140</td><td>-2</td><td>0</td></tr><tr><td>140</td><td>-1</td><td>2</td></tr><tr><td>140</td><td>-2</td><td>1</td></tr><tr><td>140</td><td>-3</td><td>2</td></tr><tr><td>140</td><td>-7</td><td>3</td></tr><tr><td>140</td><td>-4</td><td>7</td></tr><tr><td>140</td><td>-3</td><td>4</td></tr><tr><td>140</td><td>-1</td><td>3</td></tr><tr><td>141</td><td>-6</td><td>0</td></tr><tr><td>141</td><td>-2</td><td>6</td></tr><tr><td>141</td><td>-3</td><td>2</td></tr><tr><td>141</td><td>-7</td><td>3</td></tr><tr><td>141</td><td>-4</td><td>7</td></tr><tr><td>141</td><td>-6</td><td>4</td></tr><tr><td>142</td><td>-6</td><td>0</td></tr><tr><td>142</td><td>-3</td><td>6</td></tr><tr><td>143</td><td>-3</td><td>0</td></tr><tr><td>143</td><td>-7</td><td>3</td></tr><tr><td>143</td><td>-6</td><td>7</td></tr><tr><td>143</td><td>-2</td><td>6</td></tr><tr><td>143</td><td>-4</td><td>2</td></tr><tr><td>143</td><td>-3</td><td>4</td></tr><tr><td>143</td><td>-6</td><td>3</td></tr><tr><td>144</td><td>-4</td><td>0</td></tr><tr><td>144</td><td>-2</td><td>4</td></tr><tr><td>144</td><td>-7</td><td>2</td></tr><tr><td>144</td><td>-1</td><td>7</td></tr><tr><td>144</td><td>-2</td><td>1</td></tr><tr><td>145</td><td>-4</td><td>0</td></tr><tr><td>145</td><td>-1</td><td>4</td></tr><tr><td>145</td><td>-1</td><td>1</td></tr><tr><td>145</td><td>-4</td><td>1</td></tr><tr><td>145</td><td>-2</td><td>4</td></tr><tr><td>145</td><td>-1</td><td>2</td></tr><tr><td>146</td><td>-3</td><td>0</td></tr><tr><td>146</td><td>-3</td><td>3</td></tr><tr><td>146</td><td>-7</td><td>3</td></tr><tr><td>146</td><td>-7</td><td>7</td></tr><tr><td>146</td><td>-5</td><td>7</td></tr><tr><td>146</td><td>-6</td><td>5</td></tr><tr><td>147</td><td>-4</td><td>0</td></tr><tr><td>148</td><td>-4</td><td>0</td></tr><tr><td>148</td><td>-3</td><td>4</td></tr><tr><td>148</td><td>-7</td><td>3</td></tr><tr><td>148</td><td>-2</td><td>7</td></tr><tr><td>148</td><td>-6</td><td>2</td></tr><tr><td>148</td><td>-7</td><td>6</td></tr><tr><td>149</td><td>-1</td><td>0</td></tr><tr><td>149</td><td>-1</td><td>1</td></tr><tr><td>149</td><td>-2</td><td>1</td></tr><tr><td>149</td><td>-5</td><td>2</td></tr><tr><td>149</td><td>-4</td><td>5</td></tr><tr><td>149</td><td>-6</td><td>4</td></tr><tr><td>149</td><td>-5</td><td>6</td></tr><tr><td>150</td><td>-3</td><td>0</td></tr><tr><td>150</td><td>-5</td><td>3</td></tr><tr><td>150</td><td>-1</td><td>5</td></tr><tr><td>150</td><td>-1</td><td>1</td></tr><tr><td>150</td><td>-4</td><td>1</td></tr><tr><td>150</td><td>-3</td><td>4</td></tr><tr><td>151</td><td>-3</td><td>0</td></tr><tr><td>151</td><td>-3</td><td>3</td></tr><tr><td>151</td><td>-3</td><td>3</td></tr><tr><td>152</td><td>-2</td><td>0</td></tr><tr><td>152</td><td>-7</td><td>2</td></tr><tr><td>152</td><td>-6</td><td>7</td></tr><tr><td>152</td><td>-2</td><td>6</td></tr><tr><td>153</td><td>-3</td><td>0</td></tr><tr><td>153</td><td>-6</td><td>3</td></tr><tr><td>153</td><td>-3</td><td>6</td></tr><tr><td>153</td><td>-5</td><td>3</td></tr><tr><td>153</td><td>-3</td><td>5</td></tr><tr><td>154</td><td>-1</td><td>0</td></tr><tr><td>154</td><td>-7</td><td>1</td></tr><tr><td>154</td><td>-6</td><td>7</td></tr><tr><td>154</td><td>-1</td><td>6</td></tr><tr><td>154</td><td>-2</td><td>1</td></tr><tr><td>155</td><td>-1</td><td>0</td></tr><tr><td>155</td><td>-3</td><td>1</td></tr><tr><td>155</td><td>-4</td><td>3</td></tr><tr><td>155</td><td>-1</td><td>4</td></tr><tr><td>155</td><td>-1</td><td>1</td></tr><tr><td>156</td><td>-7</td><td>0</td></tr><tr><td>156</td><td>-3</td><td>7</td></tr><tr><td>156</td><td>-6</td><td>3</td></tr><tr><td>156</td><td>-6</td><td>6</td></tr><tr><td>156</td><td>-7</td><td>6</td></tr><tr><td>156</td><td>-1</td><td>7</td></tr><tr><td>156</td><td>-4</td><td>1</td></tr><tr><td>157</td><td>-4</td><td>0</td></tr><tr><td>157</td><td>-3</td><td>4</td></tr><tr><td>157</td><td>-4</td><td>3</td></tr><tr><td>157</td><td>-7</td><td>4</td></tr><tr><td>157</td><td>-3</td><td>7</td></tr><tr><td>158</td><td>-4</td><td>0</td></tr><tr><td>158</td><td>-4</td><td>4</td></tr><tr><td>158</td><td>-3</td><td>4</td></tr><tr><td>160</td><td>-2</td><td>0</td></tr><tr><td>160</td><td>-4</td><td>2</td></tr><tr><td>160</td><td>-4</td><td>4</td></tr><tr><td>160</td><td>-2</td><td>4</td></tr><tr><td>160</td><td>-3</td><td>2</td></tr><tr><td>161</td><td>-4</td><td>0</td></tr><tr><td>161</td><td>-7</td><td>4</td></tr><tr><td>161</td><td>-4</td><td>7</td></tr><tr><td>161</td><td>-6</td><td>4</td></tr><tr><td>161</td><td>-7</td><td>6</td></tr><tr><td>161</td><td>-4</td><td>7</td></tr><tr><td>162</td><td>-4</td><td>0</td></tr><tr><td>162</td><td>-6</td><td>4</td></tr><tr><td>162</td><td>-1</td><td>6</td></tr><tr><td>163</td><td>-2</td><td>0</td></tr><tr><td>163</td><td>-1</td><td>2</td></tr><tr><td>163</td><td>-3</td><td>1</td></tr><tr><td>163</td><td>-4</td><td>3</td></tr><tr><td>163</td><td>-3</td><td>4</td></tr><tr><td>163</td><td>-5</td><td>3</td></tr><tr><td>163</td><td>-3</td><td>5</td></tr><tr><td>164</td><td>-7</td><td>0</td></tr><tr><td>164</td><td>-2</td><td>7</td></tr><tr><td>164</td><td>-6</td><td>2</td></tr><tr><td>164</td><td>-4</td><td>6</td></tr><tr><td>164</td><td>-2</td><td>4</td></tr><tr><td>165</td><td>-3</td><td>0</td></tr><tr><td>165</td><td>-5</td><td>3</td></tr><tr><td>165</td><td>-6</td><td>5</td></tr><tr><td>165</td><td>-6</td><td>6</td></tr><tr><td>165</td><td>-3</td><td>6</td></tr><tr><td>165</td><td>-1</td><td>3</td></tr><tr><td>165</td><td>-4</td><td>1</td></tr><tr><td>166</td><td>-7</td><td>0</td></tr><tr><td>166</td><td>-7</td><td>7</td></tr><tr><td>166</td><td>-2</td><td>7</td></tr><tr><td>167</td><td>-7</td><td>0</td></tr><tr><td>167</td><td>-3</td><td>7</td></tr><tr><td>168</td><td>-3</td><td>0</td></tr><tr><td>168</td><td>-3</td><td>3</td></tr><tr><td>168</td><td>-4</td><td>3</td></tr><tr><td>168</td><td>-4</td><td>4</td></tr><tr><td>168</td><td>-4</td><td>4</td></tr><tr><td>169</td><td>-5</td><td>0</td></tr><tr><td>169</td><td>-6</td><td>5</td></tr><tr><td>169</td><td>-1</td><td>6</td></tr><tr><td>169</td><td>-7</td><td>1</td></tr><tr><td>169</td><td>-4</td><td>7</td></tr><tr><td>169</td><td>-1</td><td>4</td></tr><tr><td>170</td><td>-7</td><td>0</td></tr><tr><td>170</td><td>-4</td><td>7</td></tr><tr><td>170</td><td>-4</td><td>4</td></tr><tr><td>170</td><td>-7</td><td>4</td></tr><tr><td>170</td><td>-6</td><td>7</td></tr><tr><td>171</td><td>-2</td><td>0</td></tr><tr><td>171</td><td>-4</td><td>2</td></tr><tr><td>171</td><td>-6</td><td>4</td></tr><tr><td>171</td><td>-5</td><td>6</td></tr><tr><td>171</td><td>-6</td><td>5</td></tr><tr><td>172</td><td>-4</td><td>0</td></tr><tr><td>172</td><td>-5</td><td>4</td></tr><tr><td>172</td><td>-6</td><td>5</td></tr><tr><td>172</td><td>-5</td><td>6</td></tr><tr><td>172</td><td>-4</td><td>5</td></tr><tr><td>172</td><td>-5</td><td>4</td></tr><tr><td>172</td><td>-5</td><td>5</td></tr><tr><td>172</td><td>-5</td><td>5</td></tr><tr><td>172</td><td>-2</td><td>5</td></tr><tr><td>173</td><td>-1</td><td>0</td></tr><tr><td>173</td><td>-7</td><td>1</td></tr><tr><td>173</td><td>-3</td><td>7</td></tr><tr><td>173</td><td>-4</td><td>3</td></tr><tr><td>174</td><td>-2</td><td>0</td></tr><tr><td>174</td><td>-5</td><td>2</td></tr><tr><td>174</td><td>-3</td><td>5</td></tr><tr><td>174</td><td>-1</td><td>3</td></tr><tr><td>175</td><td>-6</td><td>0</td></tr><tr><td>175</td><td>-4</td><td>6</td></tr><tr><td>175</td><td>-5</td><td>4</td></tr><tr><td>175</td><td>-2</td><td>5</td></tr><tr><td>175</td><td>-7</td><td>2</td></tr><tr><td>176</td><td>-5</td><td>0</td></tr><tr><td>176</td><td>-6</td><td>5</td></tr><tr><td>176</td><td>-6</td><td>6</td></tr><tr><td>176</td><td>-4</td><td>6</td></tr><tr><td>176</td><td>-2</td><td>4</td></tr><tr><td>176</td><td>-3</td><td>2</td></tr><tr><td>177</td><td>-3</td><td>0</td></tr><tr><td>177</td><td>-7</td><td>3</td></tr><tr><td>177</td><td>-3</td><td>7</td></tr><tr><td>177</td><td>-3</td><td>3</td></tr><tr><td>178</td><td>-7</td><td>0</td></tr><tr><td>178</td><td>-4</td><td>7</td></tr><tr><td>178</td><td>-3</td><td>4</td></tr><tr><td>178</td><td>-1</td><td>3</td></tr><tr><td>179</td><td>-2</td><td>0</td></tr><tr><td>179</td><td>-1</td><td>2</td></tr><tr><td>179</td><td>-1</td><td>1</td></tr><tr><td>180</td><td>-5</td><td>0</td></tr><tr><td>180</td><td>-3</td><td>5</td></tr><tr><td>180</td><td>-6</td><td>3</td></tr><tr><td>181</td><td>-3</td><td>0</td></tr><tr><td>181</td><td>-5</td><td>3</td></tr><tr><td>181</td><td>-1</td><td>5</td></tr><tr><td>181</td><td>-4</td><td>1</td></tr><tr><td>181</td><td>-6</td><td>4</td></tr><tr><td>181</td><td>-6</td><td>6</td></tr><tr><td>182</td><td>-2</td><td>0</td></tr><tr><td>182</td><td>-2</td><td>2</td></tr><tr><td>182</td><td>-6</td><td>2</td></tr><tr><td>182</td><td>-3</td><td>6</td></tr><tr><td>182</td><td>-1</td><td>3</td></tr><tr><td>182</td><td>-7</td><td>1</td></tr><tr><td>182</td><td>-4</td><td>7</td></tr><tr><td>182</td><td>-1</td><td>4</td></tr><tr><td>182</td><td>-3</td><td>1</td></tr><tr><td>182</td><td>-4</td><td>3</td></tr><tr><td>182</td><td>-4</td><td>4</td></tr><tr><td>182</td><td>-3</td><td>4</td></tr><tr><td>183</td><td>-4</td><td>0</td></tr><tr><td>183</td><td>-7</td><td>4</td></tr><tr><td>183</td><td>-4</td><td>7</td></tr><tr><td>183</td><td>-4</td><td>4</td></tr><tr><td>184</td><td>-2</td><td>0</td></tr><tr><td>184</td><td>-4</td><td>2</td></tr><tr><td>184</td><td>-3</td><td>4</td></tr><tr><td>184</td><td>-4</td><td>3</td></tr><tr><td>185</td><td>-6</td><td>0</td></tr><tr><td>185</td><td>-4</td><td>6</td></tr><tr><td>185</td><td>-4</td><td>4</td></tr><tr><td>185</td><td>-6</td><td>4</td></tr><tr><td>185</td><td>-3</td><td>6</td></tr><tr><td>185</td><td>-5</td><td>3</td></tr><tr><td>185</td><td>-2</td><td>5</td></tr><tr><td>185</td><td>-3</td><td>2</td></tr><tr><td>185</td><td>-3</td><td>3</td></tr><tr><td>185</td><td>-5</td><td>3</td></tr><tr><td>185</td><td>-7</td><td>5</td></tr><tr><td>185</td><td>-7</td><td>7</td></tr><tr><td>186</td><td>-3</td><td>0</td></tr><tr><td>186</td><td>-3</td><td>3</td></tr><tr><td>186</td><td>-2</td><td>3</td></tr><tr><td>186</td><td>-3</td><td>2</td></tr><tr><td>187</td><td>-6</td><td>0</td></tr><tr><td>187</td><td>-4</td><td>6</td></tr><tr><td>187</td><td>-4</td><td>4</td></tr><tr><td>187</td><td>-6</td><td>4</td></tr><tr><td>187</td><td>-2</td><td>6</td></tr><tr><td>187</td><td>-1</td><td>2</td></tr><tr><td>187</td><td>-2</td><td>1</td></tr><tr><td>188</td><td>-1</td><td>0</td></tr><tr><td>188</td><td>-4</td><td>1</td></tr><tr><td>188</td><td>-7</td><td>4</td></tr><tr><td>188</td><td>-3</td><td>7</td></tr><tr><td>188</td><td>-4</td><td>3</td></tr><tr><td>188</td><td>-5</td><td>4</td></tr><tr><td>189</td><td>-2</td><td>0</td></tr><tr><td>189</td><td>-1</td><td>2</td></tr><tr><td>189</td><td>-2</td><td>1</td></tr><tr><td>189</td><td>-2</td><td>2</td></tr><tr><td>189</td><td>-3</td><td>2</td></tr><tr><td>190</td><td>-7</td><td>0</td></tr><tr><td>190</td><td>-1</td><td>7</td></tr><tr><td>190</td><td>-1</td><td>1</td></tr><tr><td>190</td><td>-5</td><td>1</td></tr><tr><td>190</td><td>-5</td><td>5</td></tr><tr><td>191</td><td>-6</td><td>0</td></tr><tr><td>191</td><td>-1</td><td>6</td></tr><tr><td>191</td><td>-7</td><td>1</td></tr><tr><td>191</td><td>-2</td><td>7</td></tr><tr><td>191</td><td>-7</td><td>2</td></tr><tr><td>192</td><td>-7</td><td>0</td></tr><tr><td>192</td><td>-4</td><td>7</td></tr><tr><td>193</td><td>-6</td><td>0</td></tr><tr><td>193</td><td>-1</td><td>6</td></tr><tr><td>193</td><td>-2</td><td>1</td></tr><tr><td>193</td><td>-2</td><td>2</td></tr><tr><td>193</td><td>-2</td><td>2</td></tr><tr><td>193</td><td>-6</td><td>2</td></tr><tr><td>193</td><td>-6</td><td>6</td></tr><tr><td>194</td><td>-5</td><td>0</td></tr><tr><td>195</td><td>-4</td><td>0</td></tr><tr><td>195</td><td>-4</td><td>4</td></tr><tr><td>195</td><td>-7</td><td>4</td></tr><tr><td>195</td><td>-5</td><td>7</td></tr><tr><td>195</td><td>-7</td><td>5</td></tr><tr><td>195</td><td>-1</td><td>7</td></tr><tr><td>196</td><td>-3</td><td>0</td></tr><tr><td>196</td><td>-5</td><td>3</td></tr><tr><td>196</td><td>-5</td><td>5</td></tr><tr><td>196</td><td>-5</td><td>5</td></tr><tr><td>197</td><td>-7</td><td>0</td></tr><tr><td>197</td><td>-7</td><td>7</td></tr><tr><td>197</td><td>-7</td><td>7</td></tr><tr><td>197</td><td>-7</td><td>7</td></tr><tr><td>197</td><td>-7</td><td>7</td></tr><tr><td>197</td><td>-3</td><td>7</td></tr><tr><td>198</td><td>-1</td><td>0</td></tr><tr><td>198</td><td>-7</td><td>1</td></tr><tr><td>198</td><td>-3</td><td>7</td></tr><tr><td>198</td><td>-1</td><td>3</td></tr><tr><td>198</td><td>-5</td><td>1</td></tr><tr><td>198</td><td>-5</td><td>5</td></tr><tr><td>198</td><td>-7</td><td>5</td></tr><tr><td>198</td><td>-5</td><td>7</td></tr></table>"
                    },
                    "metadata": {}
                }
            ],
            "execution_count": 9
        },
        {
            "cell_type": "markdown",
            "source": [
                "átlagosnál kevesebb főre foglalások adatai\n",
                "\n",
                "+ügyfél neve, ügyfél előző 3 átlagos foglalása hány főre\n",
                "\n",
                "azokat is mutassa akik nem foglaltak"
            ],
            "metadata": {
                "azdata_cell_guid": "a9ee77f8-2fc0-4f34-84dc-2f7c723d2b7d"
            },
            "attachments": {}
        },
        {
            "cell_type": "code",
            "source": [
                "-- nem ment\r\n",
                "select v.NEV, AVG(FELNOTT_SZAM+GYERMEK_SZAM) over (PARTITION by v.usernev order by f.mettol rows BETWEEN 3 preceding and current row)\r\n",
                "from Foglalas f left join Vendeg v on v.usernev=f.ugyfel_fk\r\n",
                "where "
            ],
            "metadata": {
                "azdata_cell_guid": "f876639e-61d7-4f05-81e4-6b90a6793760",
                "language": "sql"
            },
            "outputs": [
                {
                    "output_type": "display_data",
                    "data": {
                        "text/html": "(1027 rows affected)"
                    },
                    "metadata": {}
                },
                {
                    "output_type": "display_data",
                    "data": {
                        "text/html": "Total execution time: 00:00:00.055"
                    },
                    "metadata": {}
                },
                {
                    "output_type": "execute_result",
                    "execution_count": 17,
                    "data": {
                        "application/vnd.dataresource+json": {
                            "schema": {
                                "fields": [
                                    {
                                        "name": "NEV"
                                    },
                                    {
                                        "name": "(No column name)"
                                    }
                                ]
                            },
                            "data": [
                                {
                                    "NEV": "Kiss Ádám",
                                    "(No column name)": "3"
                                },
                                {
                                    "NEV": "Kiss Ádám",
                                    "(No column name)": "2"
                                },
                                {
                                    "NEV": "Kiss Ádám",
                                    "(No column name)": "2"
                                },
                                {
                                    "NEV": "Barkóci Ádám",
                                    "(No column name)": "2"
                                },
                                {
                                    "NEV": "Barkóci Ádám",
                                    "(No column name)": "1"
                                },
                                {
                                    "NEV": "Bieniek Ádám",
                                    "(No column name)": "3"
                                },
                                {
                                    "NEV": "Bieniek Ádám",
                                    "(No column name)": "3"
                                },
                                {
                                    "NEV": "Bieniek Ádám",
                                    "(No column name)": "2"
                                },
                                {
                                    "NEV": "Bieniek Ádám",
                                    "(No column name)": "2"
                                },
                                {
                                    "NEV": "Bieniek Ádám",
                                    "(No column name)": "2"
                                },
                                {
                                    "NEV": "Bieniek Ádám",
                                    "(No column name)": "2"
                                },
                                {
                                    "NEV": "Lengyel Ágnes",
                                    "(No column name)": "3"
                                },
                                {
                                    "NEV": "Lengyel Ágnes",
                                    "(No column name)": "2"
                                },
                                {
                                    "NEV": "Lengyel Ágnes",
                                    "(No column name)": "2"
                                },
                                {
                                    "NEV": "Lengyel Ágnes",
                                    "(No column name)": "2"
                                },
                                {
                                    "NEV": "Lengyel Ágnes",
                                    "(No column name)": "2"
                                },
                                {
                                    "NEV": "Hartyánszky Ágnes",
                                    "(No column name)": "1"
                                },
                                {
                                    "NEV": "Hartyánszky Ágnes",
                                    "(No column name)": "2"
                                },
                                {
                                    "NEV": "Hartyánszky Ágnes",
                                    "(No column name)": "2"
                                },
                                {
                                    "NEV": "Horváth Ágnes",
                                    "(No column name)": "2"
                                },
                                {
                                    "NEV": "Horváth Ágnes",
                                    "(No column name)": "3"
                                },
                                {
                                    "NEV": "Horváth Ágnes",
                                    "(No column name)": "2"
                                },
                                {
                                    "NEV": "Horváth Ágnes",
                                    "(No column name)": "2"
                                },
                                {
                                    "NEV": "Horváth Ágnes",
                                    "(No column name)": "2"
                                },
                                {
                                    "NEV": "Horváth Ágnes",
                                    "(No column name)": "1"
                                },
                                {
                                    "NEV": "Kovács Ágnes",
                                    "(No column name)": "3"
                                },
                                {
                                    "NEV": "Kovács Ágnes",
                                    "(No column name)": "2"
                                },
                                {
                                    "NEV": "Kovács Ágnes",
                                    "(No column name)": "2"
                                },
                                {
                                    "NEV": "Bíró Ákos",
                                    "(No column name)": "2"
                                },
                                {
                                    "NEV": "Bíró Ákos",
                                    "(No column name)": "2"
                                },
                                {
                                    "NEV": "Bíró Ákos",
                                    "(No column name)": "2"
                                },
                                {
                                    "NEV": "Bíró Ákos",
                                    "(No column name)": "1"
                                },
                                {
                                    "NEV": "Bíró Ákos",
                                    "(No column name)": "1"
                                },
                                {
                                    "NEV": "Bíró Ákos",
                                    "(No column name)": "1"
                                },
                                {
                                    "NEV": "Bíró Ákos",
                                    "(No column name)": "1"
                                },
                                {
                                    "NEV": "Bíró Ákos",
                                    "(No column name)": "1"
                                },
                                {
                                    "NEV": "Bíró Ákos",
                                    "(No column name)": "2"
                                },
                                {
                                    "NEV": "Bíró Ákos",
                                    "(No column name)": "2"
                                },
                                {
                                    "NEV": "Dunai Aladár",
                                    "(No column name)": "1"
                                },
                                {
                                    "NEV": "Dunai Aladár",
                                    "(No column name)": "1"
                                },
                                {
                                    "NEV": "Dunai Aladár",
                                    "(No column name)": "1"
                                },
                                {
                                    "NEV": "Bagóczki Alexandra",
                                    "(No column name)": "3"
                                },
                                {
                                    "NEV": "Bagóczki Alexandra",
                                    "(No column name)": "3"
                                },
                                {
                                    "NEV": "Bagóczki Alexandra",
                                    "(No column name)": "2"
                                },
                                {
                                    "NEV": "Bagóczki Alexandra",
                                    "(No column name)": "2"
                                },
                                {
                                    "NEV": "Bagóczki Alexandra",
                                    "(No column name)": "2"
                                },
                                {
                                    "NEV": "Bagóczki Alexandra",
                                    "(No column name)": "1"
                                },
                                {
                                    "NEV": "Bagóczki Alexandra",
                                    "(No column name)": "1"
                                },
                                {
                                    "NEV": "Maródi Andrea",
                                    "(No column name)": "4"
                                },
                                {
                                    "NEV": "Maródi Andrea",
                                    "(No column name)": "2"
                                },
                                {
                                    "NEV": "Maródi Andrea",
                                    "(No column name)": "2"
                                },
                                {
                                    "NEV": "Maródi Andrea",
                                    "(No column name)": "2"
                                },
                                {
                                    "NEV": "Maródi Andrea",
                                    "(No column name)": "2"
                                },
                                {
                                    "NEV": "Tóth András",
                                    "(No column name)": "1"
                                },
                                {
                                    "NEV": "Tóth András",
                                    "(No column name)": "1"
                                },
                                {
                                    "NEV": "Tóth András",
                                    "(No column name)": "1"
                                },
                                {
                                    "NEV": "Tóth András",
                                    "(No column name)": "2"
                                },
                                {
                                    "NEV": "Tóth András",
                                    "(No column name)": "2"
                                },
                                {
                                    "NEV": "Molnár András",
                                    "(No column name)": "2"
                                },
                                {
                                    "NEV": "Molnár András",
                                    "(No column name)": "2"
                                },
                                {
                                    "NEV": "Molnár András",
                                    "(No column name)": "2"
                                },
                                {
                                    "NEV": "Molnár András",
                                    "(No column name)": "2"
                                },
                                {
                                    "NEV": "Molnár András",
                                    "(No column name)": "2"
                                },
                                {
                                    "NEV": "Molnár András",
                                    "(No column name)": "2"
                                },
                                {
                                    "NEV": "Molnár András",
                                    "(No column name)": "3"
                                },
                                {
                                    "NEV": "Vígh András",
                                    "(No column name)": "2"
                                },
                                {
                                    "NEV": "Vígh András",
                                    "(No column name)": "1"
                                },
                                {
                                    "NEV": "Vígh András",
                                    "(No column name)": "1"
                                },
                                {
                                    "NEV": "Vígh András",
                                    "(No column name)": "1"
                                },
                                {
                                    "NEV": "Vígh András",
                                    "(No column name)": "1"
                                },
                                {
                                    "NEV": "Vígh András",
                                    "(No column name)": "2"
                                },
                                {
                                    "NEV": "Vígh András",
                                    "(No column name)": "2"
                                },
                                {
                                    "NEV": "Vígh András",
                                    "(No column name)": "2"
                                },
                                {
                                    "NEV": "Back András",
                                    "(No column name)": "2"
                                },
                                {
                                    "NEV": "Back András",
                                    "(No column name)": "2"
                                },
                                {
                                    "NEV": "Back András",
                                    "(No column name)": "2"
                                },
                                {
                                    "NEV": "Komjáti András",
                                    "(No column name)": "2"
                                },
                                {
                                    "NEV": "Komjáti András",
                                    "(No column name)": "3"
                                },
                                {
                                    "NEV": "Komjáti András",
                                    "(No column name)": "3"
                                },
                                {
                                    "NEV": "Komjáti András",
                                    "(No column name)": "2"
                                },
                                {
                                    "NEV": "Komjáti András",
                                    "(No column name)": "3"
                                },
                                {
                                    "NEV": "Komjáti András",
                                    "(No column name)": "2"
                                },
                                {
                                    "NEV": "Komjáti András",
                                    "(No column name)": "2"
                                },
                                {
                                    "NEV": "Komjáti András",
                                    "(No column name)": "2"
                                },
                                {
                                    "NEV": "Komjáti András",
                                    "(No column name)": "1"
                                },
                                {
                                    "NEV": "Komjáti András",
                                    "(No column name)": "1"
                                },
                                {
                                    "NEV": "Komjáti András",
                                    "(No column name)": "2"
                                },
                                {
                                    "NEV": "Komjáti András",
                                    "(No column name)": "2"
                                },
                                {
                                    "NEV": "Komjáti András",
                                    "(No column name)": "2"
                                },
                                {
                                    "NEV": "Erdei András",
                                    "(No column name)": "1"
                                },
                                {
                                    "NEV": "Erdei András",
                                    "(No column name)": "1"
                                },
                                {
                                    "NEV": "Erdei András",
                                    "(No column name)": "1"
                                },
                                {
                                    "NEV": "Erdei András",
                                    "(No column name)": "2"
                                },
                                {
                                    "NEV": "Erdei András",
                                    "(No column name)": "2"
                                },
                                {
                                    "NEV": "Nagy András",
                                    "(No column name)": "2"
                                },
                                {
                                    "NEV": "Kiss Andrea",
                                    "(No column name)": "2"
                                },
                                {
                                    "NEV": "Kiss Andrea",
                                    "(No column name)": "2"
                                },
                                {
                                    "NEV": "Kiss Andrea",
                                    "(No column name)": "2"
                                },
                                {
                                    "NEV": "Kiss Andrea",
                                    "(No column name)": "2"
                                },
                                {
                                    "NEV": "Kiss Andrea",
                                    "(No column name)": "2"
                                },
                                {
                                    "NEV": "Kiss Andrea",
                                    "(No column name)": "2"
                                },
                                {
                                    "NEV": "Szomor Andrea",
                                    "(No column name)": "3"
                                },
                                {
                                    "NEV": "Neizer Andrea",
                                    "(No column name)": "1"
                                },
                                {
                                    "NEV": "Neizer Andrea",
                                    "(No column name)": "1"
                                },
                                {
                                    "NEV": "Neizer Andrea",
                                    "(No column name)": "2"
                                },
                                {
                                    "NEV": "Neizer Andrea",
                                    "(No column name)": "2"
                                },
                                {
                                    "NEV": "Tornyos Andrea",
                                    "(No column name)": "2"
                                },
                                {
                                    "NEV": "Tornyos Andrea",
                                    "(No column name)": "2"
                                },
                                {
                                    "NEV": "Tornyos Andrea",
                                    "(No column name)": "2"
                                },
                                {
                                    "NEV": "Pivarcsi Anett",
                                    "(No column name)": "1"
                                },
                                {
                                    "NEV": "Pivarcsi Anett",
                                    "(No column name)": "2"
                                },
                                {
                                    "NEV": "Pivarcsi Anett",
                                    "(No column name)": "2"
                                },
                                {
                                    "NEV": "Pivarcsi Anett",
                                    "(No column name)": "2"
                                },
                                {
                                    "NEV": "Pivarcsi Anett",
                                    "(No column name)": "2"
                                },
                                {
                                    "NEV": "Pivarcsi Anett",
                                    "(No column name)": "2"
                                },
                                {
                                    "NEV": "Pivarcsi Anett",
                                    "(No column name)": "2"
                                },
                                {
                                    "NEV": "Pivarcsi Anett",
                                    "(No column name)": "2"
                                },
                                {
                                    "NEV": "Tóth Anikó",
                                    "(No column name)": "3"
                                },
                                {
                                    "NEV": "Tóth Anikó",
                                    "(No column name)": "3"
                                },
                                {
                                    "NEV": "Tóth Anikó",
                                    "(No column name)": "2"
                                },
                                {
                                    "NEV": "Böröcz Anikó",
                                    "(No column name)": "1"
                                },
                                {
                                    "NEV": "Böröcz Anikó",
                                    "(No column name)": "2"
                                },
                                {
                                    "NEV": "Böröcz Anikó",
                                    "(No column name)": "2"
                                },
                                {
                                    "NEV": "Böröcz Anikó",
                                    "(No column name)": "2"
                                },
                                {
                                    "NEV": "Simon Anikó",
                                    "(No column name)": "2"
                                },
                                {
                                    "NEV": "Simon Anikó",
                                    "(No column name)": "2"
                                },
                                {
                                    "NEV": "Simon Anikó",
                                    "(No column name)": "2"
                                },
                                {
                                    "NEV": "Simon Anikó",
                                    "(No column name)": "2"
                                },
                                {
                                    "NEV": "Simon Anikó",
                                    "(No column name)": "2"
                                },
                                {
                                    "NEV": "Simon Anikó",
                                    "(No column name)": "2"
                                },
                                {
                                    "NEV": "Simon Anikó",
                                    "(No column name)": "2"
                                },
                                {
                                    "NEV": "Simon Anikó",
                                    "(No column name)": "2"
                                },
                                {
                                    "NEV": "Simon Anikó",
                                    "(No column name)": "2"
                                },
                                {
                                    "NEV": "Hamvay-Kovács Anita",
                                    "(No column name)": "4"
                                },
                                {
                                    "NEV": "Hamvay-Kovács Anita",
                                    "(No column name)": "3"
                                },
                                {
                                    "NEV": "Hamvay-Kovács Anita",
                                    "(No column name)": "2"
                                },
                                {
                                    "NEV": "Hamvay-Kovács Anita",
                                    "(No column name)": "2"
                                },
                                {
                                    "NEV": "Szűcs Annamária",
                                    "(No column name)": "3"
                                },
                                {
                                    "NEV": "Szűcs Annamária",
                                    "(No column name)": "3"
                                },
                                {
                                    "NEV": "Regős Annamária",
                                    "(No column name)": "2"
                                },
                                {
                                    "NEV": "Regős Annamária",
                                    "(No column name)": "1"
                                },
                                {
                                    "NEV": "Regős Annamária",
                                    "(No column name)": "1"
                                },
                                {
                                    "NEV": "Regős Annamária",
                                    "(No column name)": "2"
                                },
                                {
                                    "NEV": "Regős Annamária",
                                    "(No column name)": "2"
                                },
                                {
                                    "NEV": "Regős Annamária",
                                    "(No column name)": "2"
                                },
                                {
                                    "NEV": "Jakab Áron",
                                    "(No column name)": "3"
                                },
                                {
                                    "NEV": "Jakab Áron",
                                    "(No column name)": "3"
                                },
                                {
                                    "NEV": "Jakab Áron",
                                    "(No column name)": "2"
                                },
                                {
                                    "NEV": "Jakab Áron",
                                    "(No column name)": "2"
                                },
                                {
                                    "NEV": "Jakab Áron",
                                    "(No column name)": "2"
                                },
                                {
                                    "NEV": "Jakab Áron",
                                    "(No column name)": "2"
                                },
                                {
                                    "NEV": "Kelemen Áron",
                                    "(No column name)": "2"
                                },
                                {
                                    "NEV": "Kelemen Áron",
                                    "(No column name)": "3"
                                },
                                {
                                    "NEV": "Kelemen Áron",
                                    "(No column name)": "2"
                                },
                                {
                                    "NEV": "Kelemen Áron",
                                    "(No column name)": "2"
                                },
                                {
                                    "NEV": "Kelemen Áron",
                                    "(No column name)": "2"
                                },
                                {
                                    "NEV": "Kelemen Áron",
                                    "(No column name)": "2"
                                },
                                {
                                    "NEV": "Kelemen Áron",
                                    "(No column name)": "2"
                                },
                                {
                                    "NEV": "Kelemen Áron",
                                    "(No column name)": "2"
                                },
                                {
                                    "NEV": "Kelemen Áron",
                                    "(No column name)": "2"
                                },
                                {
                                    "NEV": "Kelemen Áron",
                                    "(No column name)": "2"
                                },
                                {
                                    "NEV": "Kelemen Áron",
                                    "(No column name)": "2"
                                },
                                {
                                    "NEV": "Kelemen Áron",
                                    "(No column name)": "2"
                                },
                                {
                                    "NEV": "Kelemen Áron",
                                    "(No column name)": "2"
                                },
                                {
                                    "NEV": "Ötvös Árpád",
                                    "(No column name)": "2"
                                },
                                {
                                    "NEV": "Ötvös Árpád",
                                    "(No column name)": "2"
                                },
                                {
                                    "NEV": "Ötvös Árpád",
                                    "(No column name)": "2"
                                },
                                {
                                    "NEV": "Ötvös Árpád",
                                    "(No column name)": "2"
                                },
                                {
                                    "NEV": "Ötvös Árpád",
                                    "(No column name)": "2"
                                },
                                {
                                    "NEV": "Ötvös Árpád",
                                    "(No column name)": "2"
                                },
                                {
                                    "NEV": "Ötvös Árpád",
                                    "(No column name)": "3"
                                },
                                {
                                    "NEV": "Horváth Árpád",
                                    "(No column name)": "3"
                                },
                                {
                                    "NEV": "Horváth Árpád",
                                    "(No column name)": "2"
                                },
                                {
                                    "NEV": "Horváth Árpád",
                                    "(No column name)": "2"
                                },
                                {
                                    "NEV": "Horváth Árpád",
                                    "(No column name)": "1"
                                },
                                {
                                    "NEV": "Horváth Árpád",
                                    "(No column name)": "1"
                                },
                                {
                                    "NEV": "Horváth Árpád",
                                    "(No column name)": "1"
                                },
                                {
                                    "NEV": "Horváth Árpád",
                                    "(No column name)": "1"
                                },
                                {
                                    "NEV": "Móricz Árpád",
                                    "(No column name)": "2"
                                },
                                {
                                    "NEV": "Móricz Árpád",
                                    "(No column name)": "2"
                                },
                                {
                                    "NEV": "Móricz Árpád",
                                    "(No column name)": "2"
                                },
                                {
                                    "NEV": "Móricz Árpád",
                                    "(No column name)": "2"
                                },
                                {
                                    "NEV": "Móricz Árpád",
                                    "(No column name)": "2"
                                },
                                {
                                    "NEV": "Móricz Árpád",
                                    "(No column name)": "2"
                                },
                                {
                                    "NEV": "Csóti Attila",
                                    "(No column name)": "3"
                                },
                                {
                                    "NEV": "Csóti Attila",
                                    "(No column name)": "2"
                                },
                                {
                                    "NEV": "Csóti Attila",
                                    "(No column name)": "2"
                                },
                                {
                                    "NEV": "Gulyás Attila",
                                    "(No column name)": "1"
                                },
                                {
                                    "NEV": "Gulyás Attila",
                                    "(No column name)": "1"
                                },
                                {
                                    "NEV": "Gulyás Attila",
                                    "(No column name)": "2"
                                },
                                {
                                    "NEV": "Gulyás Attila",
                                    "(No column name)": "2"
                                },
                                {
                                    "NEV": "Gulyás Attila",
                                    "(No column name)": "2"
                                },
                                {
                                    "NEV": "Gulyás Attila",
                                    "(No column name)": "2"
                                },
                                {
                                    "NEV": "Baróti Attila",
                                    "(No column name)": "4"
                                },
                                {
                                    "NEV": "Baróti Attila",
                                    "(No column name)": "3"
                                },
                                {
                                    "NEV": "Baróti Attila",
                                    "(No column name)": "2"
                                },
                                {
                                    "NEV": "Opra Attila",
                                    "(No column name)": "3"
                                },
                                {
                                    "NEV": "Opra Attila",
                                    "(No column name)": "3"
                                },
                                {
                                    "NEV": "Opra Attila",
                                    "(No column name)": "2"
                                },
                                {
                                    "NEV": "Opra Attila",
                                    "(No column name)": "2"
                                },
                                {
                                    "NEV": "Bozsik Balázs",
                                    "(No column name)": "2"
                                },
                                {
                                    "NEV": "Bozsik Balázs",
                                    "(No column name)": "3"
                                },
                                {
                                    "NEV": "Bozsik Balázs",
                                    "(No column name)": "3"
                                },
                                {
                                    "NEV": "Bozsik Balázs",
                                    "(No column name)": "2"
                                },
                                {
                                    "NEV": "Bozsik Balázs",
                                    "(No column name)": "3"
                                },
                                {
                                    "NEV": "Bozsik Balázs",
                                    "(No column name)": "2"
                                },
                                {
                                    "NEV": "Szűcs Balázs",
                                    "(No column name)": "2"
                                },
                                {
                                    "NEV": "Szűcs Balázs",
                                    "(No column name)": "2"
                                },
                                {
                                    "NEV": "Szűcs Balázs",
                                    "(No column name)": "2"
                                },
                                {
                                    "NEV": "Szűcs Balázs",
                                    "(No column name)": "2"
                                },
                                {
                                    "NEV": "Szűcs Balázs",
                                    "(No column name)": "3"
                                },
                                {
                                    "NEV": "Szűcs Balázs",
                                    "(No column name)": "2"
                                },
                                {
                                    "NEV": "Szűcs Balázs",
                                    "(No column name)": "2"
                                },
                                {
                                    "NEV": "Szűcs Balázs",
                                    "(No column name)": "2"
                                },
                                {
                                    "NEV": "Szűcs Balázs",
                                    "(No column name)": "2"
                                },
                                {
                                    "NEV": "Szűcs Balázs",
                                    "(No column name)": "2"
                                },
                                {
                                    "NEV": "Bakódy Balázs",
                                    "(No column name)": "2"
                                },
                                {
                                    "NEV": "Bakódy Balázs",
                                    "(No column name)": "3"
                                },
                                {
                                    "NEV": "Bakódy Balázs",
                                    "(No column name)": "3"
                                },
                                {
                                    "NEV": "Bakódy Balázs",
                                    "(No column name)": "3"
                                },
                                {
                                    "NEV": "Bakódy Balázs",
                                    "(No column name)": "3"
                                },
                                {
                                    "NEV": "Bakódy Balázs",
                                    "(No column name)": "2"
                                },
                                {
                                    "NEV": "Horváth Bálint",
                                    "(No column name)": "2"
                                },
                                {
                                    "NEV": "Horváth Bálint",
                                    "(No column name)": "2"
                                },
                                {
                                    "NEV": "Horváth Bálint",
                                    "(No column name)": "2"
                                },
                                {
                                    "NEV": "Molnár Bálint",
                                    "(No column name)": "3"
                                },
                                {
                                    "NEV": "Molnár Bálint",
                                    "(No column name)": "3"
                                },
                                {
                                    "NEV": "Molnár Bálint",
                                    "(No column name)": "2"
                                },
                                {
                                    "NEV": "Molnár Bálint",
                                    "(No column name)": "2"
                                },
                                {
                                    "NEV": "Molnár Bálint",
                                    "(No column name)": "2"
                                },
                                {
                                    "NEV": "Molnár Bálint",
                                    "(No column name)": "1"
                                },
                                {
                                    "NEV": "Molnár Bálint",
                                    "(No column name)": "1"
                                },
                                {
                                    "NEV": "Molnár Bálint",
                                    "(No column name)": "2"
                                },
                                {
                                    "NEV": "Molnár Bálint",
                                    "(No column name)": "2"
                                },
                                {
                                    "NEV": "Molnár Bálint",
                                    "(No column name)": "2"
                                },
                                {
                                    "NEV": "Vukasinovity Bálint",
                                    "(No column name)": "1"
                                },
                                {
                                    "NEV": "Vukasinovity Bálint",
                                    "(No column name)": "2"
                                },
                                {
                                    "NEV": "Endresz Bálint",
                                    "(No column name)": "2"
                                },
                                {
                                    "NEV": "Endresz Bálint",
                                    "(No column name)": "2"
                                },
                                {
                                    "NEV": "Bagi Beáta",
                                    "(No column name)": "2"
                                },
                                {
                                    "NEV": "Bagi Beáta",
                                    "(No column name)": "2"
                                },
                                {
                                    "NEV": "Bagi Beáta",
                                    "(No column name)": "1"
                                },
                                {
                                    "NEV": "Bagi Beáta",
                                    "(No column name)": "2"
                                },
                                {
                                    "NEV": "Bagi Beáta",
                                    "(No column name)": "1"
                                },
                                {
                                    "NEV": "Bagi Beáta",
                                    "(No column name)": "2"
                                },
                                {
                                    "NEV": "Kerényi Beatrix",
                                    "(No column name)": "2"
                                },
                                {
                                    "NEV": "Kerényi Beatrix",
                                    "(No column name)": "2"
                                },
                                {
                                    "NEV": "Kerényi Beatrix",
                                    "(No column name)": "2"
                                },
                                {
                                    "NEV": "Kerényi Beatrix",
                                    "(No column name)": "2"
                                },
                                {
                                    "NEV": "Kerényi Beatrix",
                                    "(No column name)": "2"
                                },
                                {
                                    "NEV": "Kerényi Beatrix",
                                    "(No column name)": "2"
                                },
                                {
                                    "NEV": "Kerényi Beatrix",
                                    "(No column name)": "2"
                                },
                                {
                                    "NEV": "Kerényi Beatrix",
                                    "(No column name)": "2"
                                },
                                {
                                    "NEV": "Kerényi Beatrix",
                                    "(No column name)": "3"
                                },
                                {
                                    "NEV": "Szekendi Beatrix",
                                    "(No column name)": "1"
                                },
                                {
                                    "NEV": "Szekendi Beatrix",
                                    "(No column name)": "2"
                                },
                                {
                                    "NEV": "Szekendi Beatrix",
                                    "(No column name)": "2"
                                },
                                {
                                    "NEV": "Szekendi Beatrix",
                                    "(No column name)": "2"
                                },
                                {
                                    "NEV": "Szekendi Beatrix",
                                    "(No column name)": "2"
                                },
                                {
                                    "NEV": "Szekendi Beatrix",
                                    "(No column name)": "2"
                                },
                                {
                                    "NEV": "Farkas Béla",
                                    "(No column name)": "3"
                                },
                                {
                                    "NEV": "Farkas Béla",
                                    "(No column name)": "2"
                                },
                                {
                                    "NEV": "Farkas Béla",
                                    "(No column name)": "2"
                                },
                                {
                                    "NEV": "Farkas Béla",
                                    "(No column name)": "2"
                                },
                                {
                                    "NEV": "Farkas Béla",
                                    "(No column name)": "2"
                                },
                                {
                                    "NEV": "Farkas Béla",
                                    "(No column name)": "2"
                                },
                                {
                                    "NEV": "Győrffy Bence",
                                    "(No column name)": "2"
                                },
                                {
                                    "NEV": "Győrffy Bence",
                                    "(No column name)": "1"
                                },
                                {
                                    "NEV": "Győrffy Bence",
                                    "(No column name)": "1"
                                },
                                {
                                    "NEV": "Győrffy Bence",
                                    "(No column name)": "2"
                                },
                                {
                                    "NEV": "Győrffy Bence",
                                    "(No column name)": "2"
                                },
                                {
                                    "NEV": "Győrffy Bence",
                                    "(No column name)": "3"
                                },
                                {
                                    "NEV": "Győrffy Bence",
                                    "(No column name)": "3"
                                },
                                {
                                    "NEV": "Győrffy Bence",
                                    "(No column name)": "2"
                                },
                                {
                                    "NEV": "Győrffy Bence",
                                    "(No column name)": "2"
                                },
                                {
                                    "NEV": "Bajusz Bence",
                                    "(No column name)": "3"
                                },
                                {
                                    "NEV": "Bajusz Bence",
                                    "(No column name)": "2"
                                },
                                {
                                    "NEV": "Bajusz Bence",
                                    "(No column name)": "2"
                                },
                                {
                                    "NEV": "Bajusz Bence",
                                    "(No column name)": "2"
                                },
                                {
                                    "NEV": "Bajusz Bence",
                                    "(No column name)": "2"
                                },
                                {
                                    "NEV": "Bajusz Bence",
                                    "(No column name)": "2"
                                },
                                {
                                    "NEV": "Simon Bernadett",
                                    "(No column name)": "3"
                                },
                                {
                                    "NEV": "Simon Bernadett",
                                    "(No column name)": "3"
                                },
                                {
                                    "NEV": "Simon Bernadett",
                                    "(No column name)": "3"
                                },
                                {
                                    "NEV": "Simon Bernadett",
                                    "(No column name)": "3"
                                },
                                {
                                    "NEV": "Simon Bernadett",
                                    "(No column name)": "3"
                                },
                                {
                                    "NEV": "Simon Bernadett",
                                    "(No column name)": "3"
                                },
                                {
                                    "NEV": "Simon Bernadett",
                                    "(No column name)": "2"
                                },
                                {
                                    "NEV": "Kovács Bernadett",
                                    "(No column name)": "2"
                                },
                                {
                                    "NEV": "Kovács Bernadett",
                                    "(No column name)": "2"
                                },
                                {
                                    "NEV": "Kovács Bernadett",
                                    "(No column name)": "2"
                                },
                                {
                                    "NEV": "Kovács Bernadett",
                                    "(No column name)": "2"
                                },
                                {
                                    "NEV": "Kovács Bernadett",
                                    "(No column name)": "2"
                                },
                                {
                                    "NEV": "Kovács Bernadett",
                                    "(No column name)": "2"
                                },
                                {
                                    "NEV": "Kovács Bernadett",
                                    "(No column name)": "2"
                                },
                                {
                                    "NEV": "Kovács Bernadett",
                                    "(No column name)": "2"
                                },
                                {
                                    "NEV": "Orbán Bernadett",
                                    "(No column name)": "2"
                                },
                                {
                                    "NEV": "Orbán Bernadett",
                                    "(No column name)": "2"
                                },
                                {
                                    "NEV": "Orbán Bernadett",
                                    "(No column name)": "2"
                                },
                                {
                                    "NEV": "Orbán Bernadett",
                                    "(No column name)": "2"
                                },
                                {
                                    "NEV": "Orbán Bernadett",
                                    "(No column name)": "2"
                                },
                                {
                                    "NEV": "Orbán Bernadett",
                                    "(No column name)": "3"
                                },
                                {
                                    "NEV": "Orbán Bernadett",
                                    "(No column name)": "2"
                                },
                                {
                                    "NEV": "Csiger Bertalan",
                                    "(No column name)": "2"
                                },
                                {
                                    "NEV": "Csiger Bertalan",
                                    "(No column name)": "1"
                                },
                                {
                                    "NEV": "Csiger Bertalan",
                                    "(No column name)": "1"
                                },
                                {
                                    "NEV": "Csiger Bertalan",
                                    "(No column name)": "2"
                                },
                                {
                                    "NEV": "Csiger Bertalan",
                                    "(No column name)": "2"
                                },
                                {
                                    "NEV": "Csiger Bertalan",
                                    "(No column name)": "2"
                                },
                                {
                                    "NEV": "Székely Brigitta",
                                    "(No column name)": "3"
                                },
                                {
                                    "NEV": "Székely Brigitta",
                                    "(No column name)": "3"
                                },
                                {
                                    "NEV": "Székely Brigitta",
                                    "(No column name)": "3"
                                },
                                {
                                    "NEV": "Székely Brigitta",
                                    "(No column name)": "2"
                                },
                                {
                                    "NEV": "Székely Brigitta",
                                    "(No column name)": "2"
                                },
                                {
                                    "NEV": "Pataki Brigitta",
                                    "(No column name)": "2"
                                },
                                {
                                    "NEV": "Pataki Brigitta",
                                    "(No column name)": "2"
                                },
                                {
                                    "NEV": "Pataki Brigitta",
                                    "(No column name)": "2"
                                },
                                {
                                    "NEV": "Pataki Brigitta",
                                    "(No column name)": "2"
                                },
                                {
                                    "NEV": "Pataki Brigitta",
                                    "(No column name)": "2"
                                },
                                {
                                    "NEV": "Nagymihály Csongor",
                                    "(No column name)": "2"
                                },
                                {
                                    "NEV": "Nagymihály Csongor",
                                    "(No column name)": "2"
                                },
                                {
                                    "NEV": "Nagymihály Csongor",
                                    "(No column name)": "2"
                                },
                                {
                                    "NEV": "Nagymihály Csongor",
                                    "(No column name)": "2"
                                },
                                {
                                    "NEV": "Nagymihály Csongor",
                                    "(No column name)": "2"
                                },
                                {
                                    "NEV": "Nagymihály Csongor",
                                    "(No column name)": "2"
                                },
                                {
                                    "NEV": "Nagymihály Csongor",
                                    "(No column name)": "3"
                                },
                                {
                                    "NEV": "Nagymihály Csongor",
                                    "(No column name)": "3"
                                },
                                {
                                    "NEV": "Vörös Dániel",
                                    "(No column name)": "3"
                                },
                                {
                                    "NEV": "Vörös Dániel",
                                    "(No column name)": "3"
                                },
                                {
                                    "NEV": "Vörös Dániel",
                                    "(No column name)": "2"
                                },
                                {
                                    "NEV": "Vörös Dániel",
                                    "(No column name)": "3"
                                },
                                {
                                    "NEV": "Vörös Dániel",
                                    "(No column name)": "2"
                                },
                                {
                                    "NEV": "Vörös Dániel",
                                    "(No column name)": "2"
                                },
                                {
                                    "NEV": "Vörös Dániel",
                                    "(No column name)": "2"
                                },
                                {
                                    "NEV": "Vörös Dániel",
                                    "(No column name)": "1"
                                },
                                {
                                    "NEV": "Vörös Dániel",
                                    "(No column name)": "2"
                                },
                                {
                                    "NEV": "Rácz Dániel",
                                    "(No column name)": "4"
                                },
                                {
                                    "NEV": "Rácz Dániel",
                                    "(No column name)": "3"
                                },
                                {
                                    "NEV": "Rácz Dániel",
                                    "(No column name)": "3"
                                },
                                {
                                    "NEV": "Rácz Dániel",
                                    "(No column name)": "3"
                                },
                                {
                                    "NEV": "Rácz Dániel",
                                    "(No column name)": "3"
                                },
                                {
                                    "NEV": "Rácz Dániel",
                                    "(No column name)": "3"
                                },
                                {
                                    "NEV": "Rácz Dániel",
                                    "(No column name)": "2"
                                },
                                {
                                    "NEV": "Rácz Dániel",
                                    "(No column name)": "2"
                                },
                                {
                                    "NEV": "Rácz Dániel",
                                    "(No column name)": "2"
                                },
                                {
                                    "NEV": "Keszler Dániel",
                                    "(No column name)": "2"
                                },
                                {
                                    "NEV": "Keszler Dániel",
                                    "(No column name)": "3"
                                },
                                {
                                    "NEV": "Keszler Dániel",
                                    "(No column name)": "3"
                                },
                                {
                                    "NEV": "Keszler Dániel",
                                    "(No column name)": "2"
                                },
                                {
                                    "NEV": "Keszler Dániel",
                                    "(No column name)": "2"
                                },
                                {
                                    "NEV": "Keszler Dániel",
                                    "(No column name)": "2"
                                },
                                {
                                    "NEV": "Keszler Dániel",
                                    "(No column name)": "2"
                                },
                                {
                                    "NEV": "Ambrus Dávid",
                                    "(No column name)": "2"
                                },
                                {
                                    "NEV": "Ambrus Dávid",
                                    "(No column name)": "2"
                                },
                                {
                                    "NEV": "Ambrus Dávid",
                                    "(No column name)": "2"
                                },
                                {
                                    "NEV": "Ambrus Dávid",
                                    "(No column name)": "2"
                                },
                                {
                                    "NEV": "Ambrus Dávid",
                                    "(No column name)": "1"
                                },
                                {
                                    "NEV": "Ambrus Dávid",
                                    "(No column name)": "2"
                                },
                                {
                                    "NEV": "Ambrus Dávid",
                                    "(No column name)": "2"
                                },
                                {
                                    "NEV": "Ambrus Dávid",
                                    "(No column name)": "2"
                                },
                                {
                                    "NEV": "Ambrus Dávid",
                                    "(No column name)": "2"
                                },
                                {
                                    "NEV": "Sobják Dávid",
                                    "(No column name)": "2"
                                },
                                {
                                    "NEV": "Sobják Dávid",
                                    "(No column name)": "2"
                                },
                                {
                                    "NEV": "Sobják Dávid",
                                    "(No column name)": "2"
                                },
                                {
                                    "NEV": "Sobják Dávid",
                                    "(No column name)": "2"
                                },
                                {
                                    "NEV": "Sobják Dávid",
                                    "(No column name)": "2"
                                },
                                {
                                    "NEV": "Sobják Dávid",
                                    "(No column name)": "2"
                                },
                                {
                                    "NEV": "Berta Dávid",
                                    "(No column name)": "3"
                                },
                                {
                                    "NEV": "Barna Debóra",
                                    "(No column name)": "5"
                                },
                                {
                                    "NEV": "Barna Debóra",
                                    "(No column name)": "3"
                                },
                                {
                                    "NEV": "Barna Debóra",
                                    "(No column name)": "3"
                                },
                                {
                                    "NEV": "Barna Debóra",
                                    "(No column name)": "3"
                                },
                                {
                                    "NEV": "Tömböly Dénes",
                                    "(No column name)": "3"
                                },
                                {
                                    "NEV": "Tömböly Dénes",
                                    "(No column name)": "2"
                                },
                                {
                                    "NEV": "Tömböly Dénes",
                                    "(No column name)": "2"
                                },
                                {
                                    "NEV": "Tömböly Dénes",
                                    "(No column name)": "2"
                                },
                                {
                                    "NEV": "Tömböly Dénes",
                                    "(No column name)": "2"
                                },
                                {
                                    "NEV": "Tömböly Dénes",
                                    "(No column name)": "2"
                                },
                                {
                                    "NEV": "Sarodi Dóra",
                                    "(No column name)": "4"
                                },
                                {
                                    "NEV": "Sarodi Dóra",
                                    "(No column name)": "3"
                                },
                                {
                                    "NEV": "Sarodi Dóra",
                                    "(No column name)": "3"
                                },
                                {
                                    "NEV": "Sarodi Dóra",
                                    "(No column name)": "3"
                                },
                                {
                                    "NEV": "Sarodi Dóra",
                                    "(No column name)": "3"
                                },
                                {
                                    "NEV": "Bittmann Edit",
                                    "(No column name)": "3"
                                },
                                {
                                    "NEV": "Bittmann Edit",
                                    "(No column name)": "3"
                                },
                                {
                                    "NEV": "Bittmann Edit",
                                    "(No column name)": "3"
                                },
                                {
                                    "NEV": "Bittmann Edit",
                                    "(No column name)": "2"
                                },
                                {
                                    "NEV": "Bittmann Edit",
                                    "(No column name)": "2"
                                },
                                {
                                    "NEV": "Bittmann Edit",
                                    "(No column name)": "2"
                                },
                                {
                                    "NEV": "Bittmann Edit",
                                    "(No column name)": "3"
                                },
                                {
                                    "NEV": "Kuruc Emese",
                                    "(No column name)": "2"
                                },
                                {
                                    "NEV": "Kuruc Emese",
                                    "(No column name)": "2"
                                },
                                {
                                    "NEV": "Kuruc Emese",
                                    "(No column name)": "2"
                                },
                                {
                                    "NEV": "Kuruc Emese",
                                    "(No column name)": "2"
                                },
                                {
                                    "NEV": "Kuruc Emese",
                                    "(No column name)": "2"
                                },
                                {
                                    "NEV": "Kuruc Emese",
                                    "(No column name)": "2"
                                },
                                {
                                    "NEV": "Kuruc Emese",
                                    "(No column name)": "2"
                                },
                                {
                                    "NEV": "Molnár Eszter",
                                    "(No column name)": "3"
                                },
                                {
                                    "NEV": "Molnár Eszter",
                                    "(No column name)": "3"
                                },
                                {
                                    "NEV": "Molnár Eszter",
                                    "(No column name)": "3"
                                },
                                {
                                    "NEV": "Molnár Eszter",
                                    "(No column name)": "2"
                                },
                                {
                                    "NEV": "Balogh Eszter",
                                    "(No column name)": "3"
                                },
                                {
                                    "NEV": "Balogh Eszter",
                                    "(No column name)": "2"
                                },
                                {
                                    "NEV": "Balogh Eszter",
                                    "(No column name)": "2"
                                },
                                {
                                    "NEV": "Balogh Eszter",
                                    "(No column name)": "2"
                                },
                                {
                                    "NEV": "Balogh Eszter",
                                    "(No column name)": "1"
                                },
                                {
                                    "NEV": "Balogh Eszter",
                                    "(No column name)": "1"
                                },
                                {
                                    "NEV": "Balogh Eszter",
                                    "(No column name)": "1"
                                },
                                {
                                    "NEV": "Balogh Eszter",
                                    "(No column name)": "1"
                                },
                                {
                                    "NEV": "Balogh Eszter",
                                    "(No column name)": "2"
                                },
                                {
                                    "NEV": "Balogh Eszter",
                                    "(No column name)": "2"
                                },
                                {
                                    "NEV": "Fülöp Eszter",
                                    "(No column name)": "2"
                                },
                                {
                                    "NEV": "Fülöp Eszter",
                                    "(No column name)": "2"
                                },
                                {
                                    "NEV": "Fülöp Eszter",
                                    "(No column name)": "2"
                                },
                                {
                                    "NEV": "Érsek Eszter",
                                    "(No column name)": "2"
                                },
                                {
                                    "NEV": "Érsek Eszter",
                                    "(No column name)": "2"
                                },
                                {
                                    "NEV": "Érsek Eszter",
                                    "(No column name)": "2"
                                },
                                {
                                    "NEV": "Érsek Eszter",
                                    "(No column name)": "2"
                                },
                                {
                                    "NEV": "Enyedi Éva",
                                    "(No column name)": "3"
                                },
                                {
                                    "NEV": "Enyedi Éva",
                                    "(No column name)": "2"
                                },
                                {
                                    "NEV": "Perlinger Éva",
                                    "(No column name)": "1"
                                },
                                {
                                    "NEV": "Perlinger Éva",
                                    "(No column name)": "1"
                                },
                                {
                                    "NEV": "Perlinger Éva",
                                    "(No column name)": "1"
                                },
                                {
                                    "NEV": "Perlinger Éva",
                                    "(No column name)": "2"
                                },
                                {
                                    "NEV": "Viktor Éva",
                                    "(No column name)": "3"
                                },
                                {
                                    "NEV": "Viktor Éva",
                                    "(No column name)": "2"
                                },
                                {
                                    "NEV": "Viktor Éva",
                                    "(No column name)": "2"
                                },
                                {
                                    "NEV": "Viktor Éva",
                                    "(No column name)": "2"
                                },
                                {
                                    "NEV": "Viktor Éva",
                                    "(No column name)": "3"
                                },
                                {
                                    "NEV": "Orosz Ferenc",
                                    "(No column name)": "2"
                                },
                                {
                                    "NEV": "Orosz Ferenc",
                                    "(No column name)": "2"
                                },
                                {
                                    "NEV": "Orosz Ferenc",
                                    "(No column name)": "2"
                                },
                                {
                                    "NEV": "Orosz Ferenc",
                                    "(No column name)": "2"
                                },
                                {
                                    "NEV": "Frank Fruzsina",
                                    "(No column name)": "2"
                                },
                                {
                                    "NEV": "Frank Fruzsina",
                                    "(No column name)": "2"
                                },
                                {
                                    "NEV": "Frank Fruzsina",
                                    "(No column name)": "2"
                                },
                                {
                                    "NEV": "Frank Fruzsina",
                                    "(No column name)": "3"
                                },
                                {
                                    "NEV": "Frank Fruzsina",
                                    "(No column name)": "3"
                                },
                                {
                                    "NEV": "Frank Fruzsina",
                                    "(No column name)": "3"
                                },
                                {
                                    "NEV": "Frank Fruzsina",
                                    "(No column name)": "2"
                                },
                                {
                                    "NEV": "Frank Fruzsina",
                                    "(No column name)": "2"
                                },
                                {
                                    "NEV": "Köves Gábor",
                                    "(No column name)": "4"
                                },
                                {
                                    "NEV": "Köves Gábor",
                                    "(No column name)": "2"
                                },
                                {
                                    "NEV": "Köves Gábor",
                                    "(No column name)": "2"
                                },
                                {
                                    "NEV": "Köves Gábor",
                                    "(No column name)": "2"
                                },
                                {
                                    "NEV": "Köves Gábor",
                                    "(No column name)": "1"
                                },
                                {
                                    "NEV": "Köves Gábor",
                                    "(No column name)": "2"
                                },
                                {
                                    "NEV": "Telek Gábor",
                                    "(No column name)": "3"
                                },
                                {
                                    "NEV": "Telek Gábor",
                                    "(No column name)": "2"
                                },
                                {
                                    "NEV": "Telek Gábor",
                                    "(No column name)": "2"
                                },
                                {
                                    "NEV": "Telek Gábor",
                                    "(No column name)": "3"
                                },
                                {
                                    "NEV": "Nagy Gabriella",
                                    "(No column name)": "3"
                                },
                                {
                                    "NEV": "Nagy Gabriella",
                                    "(No column name)": "3"
                                },
                                {
                                    "NEV": "Nagy Gabriella",
                                    "(No column name)": "2"
                                },
                                {
                                    "NEV": "Nagy Gabriella",
                                    "(No column name)": "2"
                                },
                                {
                                    "NEV": "Nagy Gabriella",
                                    "(No column name)": "2"
                                },
                                {
                                    "NEV": "Nagy Gabriella",
                                    "(No column name)": "2"
                                },
                                {
                                    "NEV": "Vida Gabriella",
                                    "(No column name)": "3"
                                },
                                {
                                    "NEV": "Nyíri Georgij",
                                    "(No column name)": "3"
                                },
                                {
                                    "NEV": "Nyíri Georgij",
                                    "(No column name)": "3"
                                },
                                {
                                    "NEV": "Nyíri Georgij",
                                    "(No column name)": "3"
                                },
                                {
                                    "NEV": "Nyíri Georgij",
                                    "(No column name)": "3"
                                },
                                {
                                    "NEV": "Bárci Gusztáv",
                                    "(No column name)": "2"
                                },
                                {
                                    "NEV": "Bárci Gusztáv",
                                    "(No column name)": "2"
                                },
                                {
                                    "NEV": "Bárci Gusztáv",
                                    "(No column name)": "2"
                                },
                                {
                                    "NEV": "Bárci Gusztáv",
                                    "(No column name)": "2"
                                },
                                {
                                    "NEV": "Bárci Gusztáv",
                                    "(No column name)": "3"
                                },
                                {
                                    "NEV": "Kornseé Gyöngyi",
                                    "(No column name)": "3"
                                },
                                {
                                    "NEV": "Kornseé Gyöngyi",
                                    "(No column name)": "2"
                                },
                                {
                                    "NEV": "Kornseé Gyöngyi",
                                    "(No column name)": "2"
                                },
                                {
                                    "NEV": "Kornseé Gyöngyi",
                                    "(No column name)": "2"
                                },
                                {
                                    "NEV": "Kornseé Gyöngyi",
                                    "(No column name)": "2"
                                },
                                {
                                    "NEV": "Kornseé Gyöngyi",
                                    "(No column name)": "2"
                                },
                                {
                                    "NEV": "Kornseé Gyöngyi",
                                    "(No column name)": "2"
                                },
                                {
                                    "NEV": "Oroszi György",
                                    "(No column name)": "3"
                                },
                                {
                                    "NEV": "Oroszi György",
                                    "(No column name)": "2"
                                },
                                {
                                    "NEV": "Oroszi György",
                                    "(No column name)": "2"
                                },
                                {
                                    "NEV": "Oroszi György",
                                    "(No column name)": "2"
                                },
                                {
                                    "NEV": "Oroszi György",
                                    "(No column name)": "2"
                                },
                                {
                                    "NEV": "Oroszi György",
                                    "(No column name)": "2"
                                },
                                {
                                    "NEV": "Oroszi György",
                                    "(No column name)": "2"
                                },
                                {
                                    "NEV": "Oroszi György",
                                    "(No column name)": "2"
                                },
                                {
                                    "NEV": "Nádudvari Henrik",
                                    "(No column name)": "1"
                                },
                                {
                                    "NEV": "Nádudvari Henrik",
                                    "(No column name)": "2"
                                },
                                {
                                    "NEV": "Nádudvari Henrik",
                                    "(No column name)": "2"
                                },
                                {
                                    "NEV": "Andor Ibolya",
                                    "(No column name)": "5"
                                },
                                {
                                    "NEV": "Andor Ibolya",
                                    "(No column name)": "3"
                                },
                                {
                                    "NEV": "Andor Ibolya",
                                    "(No column name)": "3"
                                },
                                {
                                    "NEV": "Bosnyák Ilona",
                                    "(No column name)": "2"
                                },
                                {
                                    "NEV": "Bosnyák Ilona",
                                    "(No column name)": "2"
                                },
                                {
                                    "NEV": "Bosnyák Ilona",
                                    "(No column name)": "3"
                                },
                                {
                                    "NEV": "Bosnyák Ilona",
                                    "(No column name)": "3"
                                },
                                {
                                    "NEV": "Búza Imre",
                                    "(No column name)": "3"
                                },
                                {
                                    "NEV": "Búza Imre",
                                    "(No column name)": "3"
                                },
                                {
                                    "NEV": "Papp Imre",
                                    "(No column name)": "4"
                                },
                                {
                                    "NEV": "Papp Imre",
                                    "(No column name)": "3"
                                },
                                {
                                    "NEV": "Papp Imre",
                                    "(No column name)": "2"
                                },
                                {
                                    "NEV": "Papp Imre",
                                    "(No column name)": "2"
                                },
                                {
                                    "NEV": "Papp Imre",
                                    "(No column name)": "2"
                                },
                                {
                                    "NEV": "Papp Imre",
                                    "(No column name)": "2"
                                },
                                {
                                    "NEV": "Papp Imre",
                                    "(No column name)": "2"
                                },
                                {
                                    "NEV": "Soós István",
                                    "(No column name)": "2"
                                },
                                {
                                    "NEV": "Soós István",
                                    "(No column name)": "2"
                                },
                                {
                                    "NEV": "Soós István",
                                    "(No column name)": "2"
                                },
                                {
                                    "NEV": "Vizi István",
                                    "(No column name)": "3"
                                },
                                {
                                    "NEV": "Vizi István",
                                    "(No column name)": "3"
                                },
                                {
                                    "NEV": "Vizi István",
                                    "(No column name)": "2"
                                },
                                {
                                    "NEV": "Vizi István",
                                    "(No column name)": "2"
                                },
                                {
                                    "NEV": "Varga István",
                                    "(No column name)": "4"
                                },
                                {
                                    "NEV": "Varga István",
                                    "(No column name)": "3"
                                },
                                {
                                    "NEV": "Harangozó János",
                                    "(No column name)": "1"
                                },
                                {
                                    "NEV": "Harangozó János",
                                    "(No column name)": "2"
                                },
                                {
                                    "NEV": "Harangozó János",
                                    "(No column name)": "2"
                                },
                                {
                                    "NEV": "Harangozó János",
                                    "(No column name)": "2"
                                },
                                {
                                    "NEV": "Harangozó János",
                                    "(No column name)": "2"
                                },
                                {
                                    "NEV": "Giliga János",
                                    "(No column name)": "1"
                                },
                                {
                                    "NEV": "Giliga János",
                                    "(No column name)": "2"
                                },
                                {
                                    "NEV": "Giliga János",
                                    "(No column name)": "2"
                                },
                                {
                                    "NEV": "Giliga János",
                                    "(No column name)": "2"
                                },
                                {
                                    "NEV": "Giliga János",
                                    "(No column name)": "2"
                                },
                                {
                                    "NEV": "Giliga János",
                                    "(No column name)": "2"
                                },
                                {
                                    "NEV": "Giliga János",
                                    "(No column name)": "2"
                                },
                                {
                                    "NEV": "Pálinkás János",
                                    "(No column name)": "3"
                                },
                                {
                                    "NEV": "Pálinkás János",
                                    "(No column name)": "2"
                                },
                                {
                                    "NEV": "Pálinkás János",
                                    "(No column name)": "2"
                                },
                                {
                                    "NEV": "Pálinkás János",
                                    "(No column name)": "2"
                                },
                                {
                                    "NEV": "Gergely József",
                                    "(No column name)": "2"
                                },
                                {
                                    "NEV": "Gergely József",
                                    "(No column name)": "2"
                                },
                                {
                                    "NEV": "Gergely József",
                                    "(No column name)": "2"
                                },
                                {
                                    "NEV": "Vajda József",
                                    "(No column name)": "2"
                                },
                                {
                                    "NEV": "Vajda József",
                                    "(No column name)": "2"
                                },
                                {
                                    "NEV": "Vajda József",
                                    "(No column name)": "2"
                                },
                                {
                                    "NEV": "Vajda József",
                                    "(No column name)": "2"
                                },
                                {
                                    "NEV": "Vajda József",
                                    "(No column name)": "2"
                                },
                                {
                                    "NEV": "Gyuris József",
                                    "(No column name)": "2"
                                },
                                {
                                    "NEV": "Gyuris József",
                                    "(No column name)": "1"
                                },
                                {
                                    "NEV": "Gyuris József",
                                    "(No column name)": "2"
                                },
                                {
                                    "NEV": "Gyuris József",
                                    "(No column name)": "2"
                                },
                                {
                                    "NEV": "Gyuris József",
                                    "(No column name)": "2"
                                },
                                {
                                    "NEV": "Gyuris József",
                                    "(No column name)": "2"
                                },
                                {
                                    "NEV": "Gyuris József",
                                    "(No column name)": "2"
                                },
                                {
                                    "NEV": "Hídasi Judit",
                                    "(No column name)": "2"
                                },
                                {
                                    "NEV": "Hídasi Judit",
                                    "(No column name)": "2"
                                },
                                {
                                    "NEV": "Hídasi Judit",
                                    "(No column name)": "1"
                                },
                                {
                                    "NEV": "Tóth Júlia",
                                    "(No column name)": "2"
                                },
                                {
                                    "NEV": "Tóth Júlia",
                                    "(No column name)": "1"
                                },
                                {
                                    "NEV": "Tóth Júlia",
                                    "(No column name)": "2"
                                },
                                {
                                    "NEV": "Tóth Júlia",
                                    "(No column name)": "2"
                                },
                                {
                                    "NEV": "Tóth Júlia",
                                    "(No column name)": "2"
                                },
                                {
                                    "NEV": "Nagy Júlia",
                                    "(No column name)": "1"
                                },
                                {
                                    "NEV": "Nagy Júlia",
                                    "(No column name)": "2"
                                },
                                {
                                    "NEV": "Szabó Julianna",
                                    "(No column name)": "2"
                                },
                                {
                                    "NEV": "Szabó Julianna",
                                    "(No column name)": "2"
                                },
                                {
                                    "NEV": "Szabó Julianna",
                                    "(No column name)": "2"
                                },
                                {
                                    "NEV": "Szabó Julianna",
                                    "(No column name)": "2"
                                },
                                {
                                    "NEV": "Gondos Katalin",
                                    "(No column name)": "2"
                                },
                                {
                                    "NEV": "Gondos Katalin",
                                    "(No column name)": "1"
                                },
                                {
                                    "NEV": "Gondos Katalin",
                                    "(No column name)": "2"
                                },
                                {
                                    "NEV": "Gondos Katalin",
                                    "(No column name)": "2"
                                },
                                {
                                    "NEV": "Gondos Katalin",
                                    "(No column name)": "2"
                                },
                                {
                                    "NEV": "Gondos Katalin",
                                    "(No column name)": "2"
                                },
                                {
                                    "NEV": "Gondos Katalin",
                                    "(No column name)": "2"
                                },
                                {
                                    "NEV": "Gondos Katalin",
                                    "(No column name)": "2"
                                },
                                {
                                    "NEV": "Gondos Katalin",
                                    "(No column name)": "2"
                                },
                                {
                                    "NEV": "Gondos Katalin",
                                    "(No column name)": "3"
                                },
                                {
                                    "NEV": "Horváth Katalin",
                                    "(No column name)": "2"
                                },
                                {
                                    "NEV": "Horváth Katalin",
                                    "(No column name)": "1"
                                },
                                {
                                    "NEV": "Horváth Katalin",
                                    "(No column name)": "1"
                                },
                                {
                                    "NEV": "Horváth Katalin",
                                    "(No column name)": "1"
                                },
                                {
                                    "NEV": "Horváth Katalin",
                                    "(No column name)": "1"
                                },
                                {
                                    "NEV": "Horváth Katalin",
                                    "(No column name)": "1"
                                },
                                {
                                    "NEV": "Horváth Katalin",
                                    "(No column name)": "1"
                                },
                                {
                                    "NEV": "Horváth Katalin",
                                    "(No column name)": "1"
                                },
                                {
                                    "NEV": "Horváth Katalin",
                                    "(No column name)": "2"
                                },
                                {
                                    "NEV": "Kertész Katalin",
                                    "(No column name)": "1"
                                },
                                {
                                    "NEV": "Kertész Katalin",
                                    "(No column name)": "2"
                                },
                                {
                                    "NEV": "Kertész Katalin",
                                    "(No column name)": "2"
                                },
                                {
                                    "NEV": "Kertész Katalin",
                                    "(No column name)": "2"
                                },
                                {
                                    "NEV": "Kertész Katalin",
                                    "(No column name)": "3"
                                },
                                {
                                    "NEV": "Kertész Katalin",
                                    "(No column name)": "2"
                                },
                                {
                                    "NEV": "Zatykó Katalin",
                                    "(No column name)": "2"
                                },
                                {
                                    "NEV": "Zatykó Katalin",
                                    "(No column name)": "2"
                                },
                                {
                                    "NEV": "Zatykó Katalin",
                                    "(No column name)": "2"
                                },
                                {
                                    "NEV": "Zatykó Katalin",
                                    "(No column name)": "2"
                                },
                                {
                                    "NEV": "Zatykó Katalin",
                                    "(No column name)": "2"
                                },
                                {
                                    "NEV": "Zatykó Katalin",
                                    "(No column name)": "2"
                                },
                                {
                                    "NEV": "Zatykó Katalin",
                                    "(No column name)": "2"
                                },
                                {
                                    "NEV": "Kovács Katalin",
                                    "(No column name)": "2"
                                },
                                {
                                    "NEV": "Kovács Katalin",
                                    "(No column name)": "2"
                                },
                                {
                                    "NEV": "Kovács Katalin",
                                    "(No column name)": "2"
                                },
                                {
                                    "NEV": "Kovács Katalin",
                                    "(No column name)": "2"
                                },
                                {
                                    "NEV": "Kovács Katalin",
                                    "(No column name)": "2"
                                },
                                {
                                    "NEV": "Kovács Katalin",
                                    "(No column name)": "2"
                                },
                                {
                                    "NEV": "Kovács Katalin",
                                    "(No column name)": "3"
                                },
                                {
                                    "NEV": "Kovács Katalin",
                                    "(No column name)": "3"
                                },
                                {
                                    "NEV": "Kovács Katalin",
                                    "(No column name)": "3"
                                },
                                {
                                    "NEV": "Bakó Klaudia",
                                    "(No column name)": "4"
                                },
                                {
                                    "NEV": "Bakó Klaudia",
                                    "(No column name)": "3"
                                },
                                {
                                    "NEV": "Bakó Klaudia",
                                    "(No column name)": "2"
                                },
                                {
                                    "NEV": "Lukács Kornél",
                                    "(No column name)": "3"
                                },
                                {
                                    "NEV": "Lukács Kornél",
                                    "(No column name)": "3"
                                },
                                {
                                    "NEV": "Lukács Kornél",
                                    "(No column name)": "3"
                                },
                                {
                                    "NEV": "Poprádi Kristóf",
                                    "(No column name)": "2"
                                },
                                {
                                    "NEV": "Poprádi Kristóf",
                                    "(No column name)": "2"
                                },
                                {
                                    "NEV": "Horváth Krisztina",
                                    "(No column name)": "2"
                                },
                                {
                                    "NEV": "Horváth Krisztina",
                                    "(No column name)": "2"
                                },
                                {
                                    "NEV": "Horváth Krisztina",
                                    "(No column name)": "2"
                                },
                                {
                                    "NEV": "Horváth Krisztina",
                                    "(No column name)": "2"
                                },
                                {
                                    "NEV": "Horváth Krisztina",
                                    "(No column name)": "3"
                                },
                                {
                                    "NEV": "Horváth Krisztina",
                                    "(No column name)": "3"
                                },
                                {
                                    "NEV": "Czérna Krisztián",
                                    "(No column name)": "2"
                                },
                                {
                                    "NEV": "Czérna Krisztián",
                                    "(No column name)": "2"
                                },
                                {
                                    "NEV": "Czérna Krisztián",
                                    "(No column name)": "2"
                                },
                                {
                                    "NEV": "Czérna Krisztián",
                                    "(No column name)": "2"
                                },
                                {
                                    "NEV": "Czérna Krisztián",
                                    "(No column name)": "2"
                                },
                                {
                                    "NEV": "Czérna Krisztián",
                                    "(No column name)": "1"
                                },
                                {
                                    "NEV": "Czérna Krisztián",
                                    "(No column name)": "2"
                                },
                                {
                                    "NEV": "Czérna Krisztián",
                                    "(No column name)": "1"
                                },
                                {
                                    "NEV": "Czérna Krisztián",
                                    "(No column name)": "2"
                                },
                                {
                                    "NEV": "Czérna Krisztián",
                                    "(No column name)": "2"
                                },
                                {
                                    "NEV": "Czérna Krisztián",
                                    "(No column name)": "2"
                                },
                                {
                                    "NEV": "Czérna Krisztián",
                                    "(No column name)": "2"
                                },
                                {
                                    "NEV": "Mogyródi Krisztián",
                                    "(No column name)": "2"
                                },
                                {
                                    "NEV": "Mogyródi Krisztián",
                                    "(No column name)": "2"
                                },
                                {
                                    "NEV": "Mogyródi Krisztián",
                                    "(No column name)": "2"
                                },
                                {
                                    "NEV": "Mogyródi Krisztián",
                                    "(No column name)": "2"
                                },
                                {
                                    "NEV": "Mogyródi Krisztián",
                                    "(No column name)": "2"
                                },
                                {
                                    "NEV": "Mogyródi Krisztián",
                                    "(No column name)": "2"
                                },
                                {
                                    "NEV": "Szedlár Krisztina",
                                    "(No column name)": "2"
                                },
                                {
                                    "NEV": "Szedlár Krisztina",
                                    "(No column name)": "2"
                                },
                                {
                                    "NEV": "Szedlár Krisztina",
                                    "(No column name)": "2"
                                },
                                {
                                    "NEV": "Szedlár Krisztina",
                                    "(No column name)": "2"
                                },
                                {
                                    "NEV": "Szedlár Krisztina",
                                    "(No column name)": "2"
                                },
                                {
                                    "NEV": "Szedlár Krisztina",
                                    "(No column name)": "1"
                                },
                                {
                                    "NEV": "Szedlár Krisztina",
                                    "(No column name)": "1"
                                },
                                {
                                    "NEV": "Szedlár Krisztina",
                                    "(No column name)": "2"
                                },
                                {
                                    "NEV": "Bori Krisztina",
                                    "(No column name)": "2"
                                },
                                {
                                    "NEV": "Bori Krisztina",
                                    "(No column name)": "1"
                                },
                                {
                                    "NEV": "Bori Krisztina",
                                    "(No column name)": "1"
                                },
                                {
                                    "NEV": "Bori Krisztina",
                                    "(No column name)": "2"
                                },
                                {
                                    "NEV": "Bori Krisztina",
                                    "(No column name)": "2"
                                },
                                {
                                    "NEV": "Bori Krisztina",
                                    "(No column name)": "2"
                                },
                                {
                                    "NEV": "Gyárfás Krisztina",
                                    "(No column name)": "2"
                                },
                                {
                                    "NEV": "Gyárfás Krisztina",
                                    "(No column name)": "1"
                                },
                                {
                                    "NEV": "Gyárfás Krisztina",
                                    "(No column name)": "1"
                                },
                                {
                                    "NEV": "Gyárfás Krisztina",
                                    "(No column name)": "1"
                                },
                                {
                                    "NEV": "Gyárfás Krisztina",
                                    "(No column name)": "1"
                                },
                                {
                                    "NEV": "Kiss Lajos",
                                    "(No column name)": "2"
                                },
                                {
                                    "NEV": "Kiss Lajos",
                                    "(No column name)": "3"
                                },
                                {
                                    "NEV": "Kiss Lajos",
                                    "(No column name)": "2"
                                },
                                {
                                    "NEV": "Nagymihály Lajos",
                                    "(No column name)": "2"
                                },
                                {
                                    "NEV": "Nagymihály Lajos",
                                    "(No column name)": "2"
                                },
                                {
                                    "NEV": "Nagymihály Lajos",
                                    "(No column name)": "2"
                                },
                                {
                                    "NEV": "Nagymihály Lajos",
                                    "(No column name)": "2"
                                },
                                {
                                    "NEV": "Nagymihály Lajos",
                                    "(No column name)": "3"
                                },
                                {
                                    "NEV": "Nagymihály Lajos",
                                    "(No column name)": "2"
                                },
                                {
                                    "NEV": "Farkas László",
                                    "(No column name)": "3"
                                },
                                {
                                    "NEV": "Móra László",
                                    "(No column name)": "2"
                                },
                                {
                                    "NEV": "Móra László",
                                    "(No column name)": "2"
                                },
                                {
                                    "NEV": "Móra László",
                                    "(No column name)": "2"
                                },
                                {
                                    "NEV": "Móra László",
                                    "(No column name)": "2"
                                },
                                {
                                    "NEV": "Móra László",
                                    "(No column name)": "2"
                                },
                                {
                                    "NEV": "Antal László",
                                    "(No column name)": "2"
                                },
                                {
                                    "NEV": "Antal László",
                                    "(No column name)": "1"
                                },
                                {
                                    "NEV": "Antal László",
                                    "(No column name)": "2"
                                },
                                {
                                    "NEV": "Antal László",
                                    "(No column name)": "2"
                                },
                                {
                                    "NEV": "Nagy László",
                                    "(No column name)": "1"
                                },
                                {
                                    "NEV": "Nagy László",
                                    "(No column name)": "1"
                                },
                                {
                                    "NEV": "Nagy László",
                                    "(No column name)": "2"
                                },
                                {
                                    "NEV": "Nagy László",
                                    "(No column name)": "1"
                                },
                                {
                                    "NEV": "Nagy László",
                                    "(No column name)": "1"
                                },
                                {
                                    "NEV": "Nagy László",
                                    "(No column name)": "2"
                                },
                                {
                                    "NEV": "Baráth Mária",
                                    "(No column name)": "2"
                                },
                                {
                                    "NEV": "Baráth Mária",
                                    "(No column name)": "1"
                                },
                                {
                                    "NEV": "Baráth Mária",
                                    "(No column name)": "1"
                                },
                                {
                                    "NEV": "Baráth Mária",
                                    "(No column name)": "1"
                                },
                                {
                                    "NEV": "Baráth Mária",
                                    "(No column name)": "1"
                                },
                                {
                                    "NEV": "Baráth Mária",
                                    "(No column name)": "1"
                                },
                                {
                                    "NEV": "Baráth Mária",
                                    "(No column name)": "2"
                                },
                                {
                                    "NEV": "Baráth Mária",
                                    "(No column name)": "2"
                                },
                                {
                                    "NEV": "Kispál Márk",
                                    "(No column name)": "4"
                                },
                                {
                                    "NEV": "Kispál Márk",
                                    "(No column name)": "3"
                                },
                                {
                                    "NEV": "Kispál Márk",
                                    "(No column name)": "3"
                                },
                                {
                                    "NEV": "Kispál Márk",
                                    "(No column name)": "2"
                                },
                                {
                                    "NEV": "Kispál Márk",
                                    "(No column name)": "2"
                                },
                                {
                                    "NEV": "Horváth Márk",
                                    "(No column name)": "3"
                                },
                                {
                                    "NEV": "Horváth Márk",
                                    "(No column name)": "2"
                                },
                                {
                                    "NEV": "Horváth Márk",
                                    "(No column name)": "3"
                                },
                                {
                                    "NEV": "Horváth Márk",
                                    "(No column name)": "3"
                                },
                                {
                                    "NEV": "Kalacsi Márton",
                                    "(No column name)": "3"
                                },
                                {
                                    "NEV": "Kalacsi Márton",
                                    "(No column name)": "2"
                                },
                                {
                                    "NEV": "Kalacsi Márton",
                                    "(No column name)": "2"
                                },
                                {
                                    "NEV": "Kalacsi Márton",
                                    "(No column name)": "2"
                                },
                                {
                                    "NEV": "Kalacsi Márton",
                                    "(No column name)": "2"
                                },
                                {
                                    "NEV": "Kalacsi Márton",
                                    "(No column name)": "2"
                                },
                                {
                                    "NEV": "Kalacsi Márton",
                                    "(No column name)": "2"
                                },
                                {
                                    "NEV": "Koza Máté",
                                    "(No column name)": "4"
                                },
                                {
                                    "NEV": "Koza Máté",
                                    "(No column name)": "3"
                                },
                                {
                                    "NEV": "Koza Máté",
                                    "(No column name)": "2"
                                },
                                {
                                    "NEV": "Botka Mátyás",
                                    "(No column name)": "2"
                                },
                                {
                                    "NEV": "Botka Mátyás",
                                    "(No column name)": "2"
                                },
                                {
                                    "NEV": "Szilágyi Mátyás",
                                    "(No column name)": "2"
                                },
                                {
                                    "NEV": "Szilágyi Mátyás",
                                    "(No column name)": "1"
                                },
                                {
                                    "NEV": "Szilágyi Mátyás",
                                    "(No column name)": "2"
                                },
                                {
                                    "NEV": "Szilágyi Mátyás",
                                    "(No column name)": "2"
                                },
                                {
                                    "NEV": "Szilágyi Mátyás",
                                    "(No column name)": "2"
                                },
                                {
                                    "NEV": "Szilágyi Mátyás",
                                    "(No column name)": "2"
                                },
                                {
                                    "NEV": "Szilágyi Mátyás",
                                    "(No column name)": "2"
                                },
                                {
                                    "NEV": "Szilágyi Mátyás",
                                    "(No column name)": "2"
                                },
                                {
                                    "NEV": "Juhász Mihály",
                                    "(No column name)": "2"
                                },
                                {
                                    "NEV": "Juhász Mihály",
                                    "(No column name)": "1"
                                },
                                {
                                    "NEV": "Juhász Mihály",
                                    "(No column name)": "1"
                                },
                                {
                                    "NEV": "Juhász Mihály",
                                    "(No column name)": "1"
                                },
                                {
                                    "NEV": "Juhász Mihály",
                                    "(No column name)": "2"
                                },
                                {
                                    "NEV": "Gondos Miklós",
                                    "(No column name)": "3"
                                },
                                {
                                    "NEV": "Gondos Miklós",
                                    "(No column name)": "2"
                                },
                                {
                                    "NEV": "Gondos Miklós",
                                    "(No column name)": "2"
                                },
                                {
                                    "NEV": "Balla Miklós",
                                    "(No column name)": "2"
                                },
                                {
                                    "NEV": "Balla Miklós",
                                    "(No column name)": "2"
                                },
                                {
                                    "NEV": "Balla Miklós",
                                    "(No column name)": "2"
                                },
                                {
                                    "NEV": "Mohos Mónika",
                                    "(No column name)": "2"
                                },
                                {
                                    "NEV": "Mohos Mónika",
                                    "(No column name)": "1"
                                },
                                {
                                    "NEV": "Mohos Mónika",
                                    "(No column name)": "1"
                                },
                                {
                                    "NEV": "Mohos Mónika",
                                    "(No column name)": "1"
                                },
                                {
                                    "NEV": "Mohos Mónika",
                                    "(No column name)": "1"
                                },
                                {
                                    "NEV": "Mohos Mónika",
                                    "(No column name)": "1"
                                },
                                {
                                    "NEV": "Fő Nándor",
                                    "(No column name)": "3"
                                },
                                {
                                    "NEV": "Fő Nándor",
                                    "(No column name)": "3"
                                },
                                {
                                    "NEV": "Fő Nándor",
                                    "(No column name)": "3"
                                },
                                {
                                    "NEV": "Horváth Nikolett",
                                    "(No column name)": "2"
                                },
                                {
                                    "NEV": "Horváth Nikolett",
                                    "(No column name)": "1"
                                },
                                {
                                    "NEV": "Horváth Nikolett",
                                    "(No column name)": "1"
                                },
                                {
                                    "NEV": "Horváth Nikolett",
                                    "(No column name)": "1"
                                },
                                {
                                    "NEV": "Kő Nikoletta",
                                    "(No column name)": "2"
                                },
                                {
                                    "NEV": "Kő Nikoletta",
                                    "(No column name)": "2"
                                },
                                {
                                    "NEV": "Kő Nikoletta",
                                    "(No column name)": "2"
                                },
                                {
                                    "NEV": "Kő Nikoletta",
                                    "(No column name)": "2"
                                },
                                {
                                    "NEV": "Kő Nikoletta",
                                    "(No column name)": "2"
                                },
                                {
                                    "NEV": "Kő Nikoletta",
                                    "(No column name)": "3"
                                },
                                {
                                    "NEV": "Kő Nikoletta",
                                    "(No column name)": "3"
                                },
                                {
                                    "NEV": "Tatár Nikoletta",
                                    "(No column name)": "4"
                                },
                                {
                                    "NEV": "Tatár Nikoletta",
                                    "(No column name)": "3"
                                },
                                {
                                    "NEV": "Tatár Nikoletta",
                                    "(No column name)": "3"
                                },
                                {
                                    "NEV": "Tatár Nikoletta",
                                    "(No column name)": "3"
                                },
                                {
                                    "NEV": "Szűcs Norbert",
                                    "(No column name)": "1"
                                },
                                {
                                    "NEV": "Szűcs Norbert",
                                    "(No column name)": "2"
                                },
                                {
                                    "NEV": "Szűcs Norbert",
                                    "(No column name)": "2"
                                },
                                {
                                    "NEV": "Szűcs Norbert",
                                    "(No column name)": "2"
                                },
                                {
                                    "NEV": "Szűcs Norbert",
                                    "(No column name)": "2"
                                },
                                {
                                    "NEV": "Hegedűs Norbert",
                                    "(No column name)": "1"
                                },
                                {
                                    "NEV": "Hegedűs Norbert",
                                    "(No column name)": "1"
                                },
                                {
                                    "NEV": "Hegedűs Norbert",
                                    "(No column name)": "2"
                                },
                                {
                                    "NEV": "Hegedűs Norbert",
                                    "(No column name)": "2"
                                },
                                {
                                    "NEV": "Hegedűs Norbert",
                                    "(No column name)": "2"
                                },
                                {
                                    "NEV": "Hegedűs Norbert",
                                    "(No column name)": "2"
                                },
                                {
                                    "NEV": "Hegedűs Norbert",
                                    "(No column name)": "2"
                                },
                                {
                                    "NEV": "Mile Norbert",
                                    "(No column name)": "2"
                                },
                                {
                                    "NEV": "Mile Norbert",
                                    "(No column name)": "2"
                                },
                                {
                                    "NEV": "Mile Norbert",
                                    "(No column name)": "3"
                                },
                                {
                                    "NEV": "Mile Norbert",
                                    "(No column name)": "3"
                                },
                                {
                                    "NEV": "Mile Norbert",
                                    "(No column name)": "3"
                                },
                                {
                                    "NEV": "Mile Norbert",
                                    "(No column name)": "3"
                                },
                                {
                                    "NEV": "Mile Norbert",
                                    "(No column name)": "3"
                                },
                                {
                                    "NEV": "Mile Norbert",
                                    "(No column name)": "2"
                                },
                                {
                                    "NEV": "Mile Norbert",
                                    "(No column name)": "2"
                                },
                                {
                                    "NEV": "Béres Norbert",
                                    "(No column name)": "2"
                                },
                                {
                                    "NEV": "Béres Norbert",
                                    "(No column name)": "2"
                                },
                                {
                                    "NEV": "Béres Norbert",
                                    "(No column name)": "1"
                                },
                                {
                                    "NEV": "Barabás Pál",
                                    "(No column name)": "3"
                                },
                                {
                                    "NEV": "Barabás Pál",
                                    "(No column name)": "2"
                                },
                                {
                                    "NEV": "Barabás Pál",
                                    "(No column name)": "2"
                                },
                                {
                                    "NEV": "Barabás Pál",
                                    "(No column name)": "2"
                                },
                                {
                                    "NEV": "Barabás Pál",
                                    "(No column name)": "2"
                                },
                                {
                                    "NEV": "Kozma Péter",
                                    "(No column name)": "3"
                                },
                                {
                                    "NEV": "Kozma Péter",
                                    "(No column name)": "3"
                                },
                                {
                                    "NEV": "Kozma Péter",
                                    "(No column name)": "3"
                                },
                                {
                                    "NEV": "Kozma Péter",
                                    "(No column name)": "3"
                                },
                                {
                                    "NEV": "Bozsó Péter",
                                    "(No column name)": "2"
                                },
                                {
                                    "NEV": "Bozsó Péter",
                                    "(No column name)": "2"
                                },
                                {
                                    "NEV": "Bozsó Péter",
                                    "(No column name)": "2"
                                },
                                {
                                    "NEV": "Bozsó Péter",
                                    "(No column name)": "2"
                                },
                                {
                                    "NEV": "Szalai Péter",
                                    "(No column name)": "3"
                                },
                                {
                                    "NEV": "Szalai Péter",
                                    "(No column name)": "3"
                                },
                                {
                                    "NEV": "Szalai Péter",
                                    "(No column name)": "3"
                                },
                                {
                                    "NEV": "Szalai Péter",
                                    "(No column name)": "2"
                                },
                                {
                                    "NEV": "Szalai Péter",
                                    "(No column name)": "2"
                                },
                                {
                                    "NEV": "Szalai Péter",
                                    "(No column name)": "1"
                                },
                                {
                                    "NEV": "Bíró Péter",
                                    "(No column name)": "3"
                                },
                                {
                                    "NEV": "Bíró Péter",
                                    "(No column name)": "2"
                                },
                                {
                                    "NEV": "Bíró Péter",
                                    "(No column name)": "2"
                                },
                                {
                                    "NEV": "Bíró Péter",
                                    "(No column name)": "3"
                                },
                                {
                                    "NEV": "Bíró Péter",
                                    "(No column name)": "3"
                                },
                                {
                                    "NEV": "Bíró Péter",
                                    "(No column name)": "3"
                                },
                                {
                                    "NEV": "Bíró Péter",
                                    "(No column name)": "3"
                                },
                                {
                                    "NEV": "Bíró Péter",
                                    "(No column name)": "2"
                                },
                                {
                                    "NEV": "Bíró Péter",
                                    "(No column name)": "2"
                                },
                                {
                                    "NEV": "Bíró Péter",
                                    "(No column name)": "2"
                                },
                                {
                                    "NEV": "Bíró Péter",
                                    "(No column name)": "2"
                                },
                                {
                                    "NEV": "Bíró Péter",
                                    "(No column name)": "3"
                                },
                                {
                                    "NEV": "Berendi Péter",
                                    "(No column name)": "1"
                                },
                                {
                                    "NEV": "Berendi Péter",
                                    "(No column name)": "1"
                                },
                                {
                                    "NEV": "Berendi Péter",
                                    "(No column name)": "1"
                                },
                                {
                                    "NEV": "Berendi Péter",
                                    "(No column name)": "2"
                                },
                                {
                                    "NEV": "Berendi Péter",
                                    "(No column name)": "2"
                                },
                                {
                                    "NEV": "Palágyi Polla",
                                    "(No column name)": "3"
                                },
                                {
                                    "NEV": "Palágyi Polla",
                                    "(No column name)": "2"
                                },
                                {
                                    "NEV": "Palágyi Polla",
                                    "(No column name)": "2"
                                },
                                {
                                    "NEV": "Palágyi Polla",
                                    "(No column name)": "2"
                                },
                                {
                                    "NEV": "Palágyi Polla",
                                    "(No column name)": "2"
                                },
                                {
                                    "NEV": "Palágyi Polla",
                                    "(No column name)": "2"
                                },
                                {
                                    "NEV": "Rácz Rajmond",
                                    "(No column name)": "3"
                                },
                                {
                                    "NEV": "Rácz Rajmond",
                                    "(No column name)": "3"
                                },
                                {
                                    "NEV": "Rácz Rajmond",
                                    "(No column name)": "3"
                                },
                                {
                                    "NEV": "Rácz Rajmond",
                                    "(No column name)": "3"
                                },
                                {
                                    "NEV": "Szikszai Réka",
                                    "(No column name)": "2"
                                },
                                {
                                    "NEV": "Szikszai Réka",
                                    "(No column name)": "3"
                                },
                                {
                                    "NEV": "Szikszai Réka",
                                    "(No column name)": "3"
                                },
                                {
                                    "NEV": "Szikszai Réka",
                                    "(No column name)": "2"
                                },
                                {
                                    "NEV": "Szikszai Réka",
                                    "(No column name)": "2"
                                },
                                {
                                    "NEV": "Kardos Renáta",
                                    "(No column name)": "4"
                                },
                                {
                                    "NEV": "Kardos Renáta",
                                    "(No column name)": "2"
                                },
                                {
                                    "NEV": "Kardos Renáta",
                                    "(No column name)": "2"
                                },
                                {
                                    "NEV": "Kardos Renáta",
                                    "(No column name)": "2"
                                },
                                {
                                    "NEV": "Kardos Renáta",
                                    "(No column name)": "1"
                                },
                                {
                                    "NEV": "Kardos Renáta",
                                    "(No column name)": "1"
                                },
                                {
                                    "NEV": "Szirmai Renáta",
                                    "(No column name)": "2"
                                },
                                {
                                    "NEV": "Szirmai Renáta",
                                    "(No column name)": "2"
                                },
                                {
                                    "NEV": "Szirmai Renáta",
                                    "(No column name)": "3"
                                },
                                {
                                    "NEV": "Szirmai Renáta",
                                    "(No column name)": "2"
                                },
                                {
                                    "NEV": "Szirmai Renáta",
                                    "(No column name)": "2"
                                },
                                {
                                    "NEV": "Patay Róbert",
                                    "(No column name)": "2"
                                },
                                {
                                    "NEV": "Patay Róbert",
                                    "(No column name)": "2"
                                },
                                {
                                    "NEV": "Patay Róbert",
                                    "(No column name)": "2"
                                },
                                {
                                    "NEV": "Patay Róbert",
                                    "(No column name)": "2"
                                },
                                {
                                    "NEV": "Iván Róbert",
                                    "(No column name)": "4"
                                },
                                {
                                    "NEV": "Iván Róbert",
                                    "(No column name)": "3"
                                },
                                {
                                    "NEV": "Iván Róbert",
                                    "(No column name)": "2"
                                },
                                {
                                    "NEV": "Iván Róbert",
                                    "(No column name)": "2"
                                },
                                {
                                    "NEV": "Iván Róbert",
                                    "(No column name)": "2"
                                },
                                {
                                    "NEV": "Iván Róbert",
                                    "(No column name)": "2"
                                },
                                {
                                    "NEV": "Iván Róbert",
                                    "(No column name)": "2"
                                },
                                {
                                    "NEV": "Iván Róbert",
                                    "(No column name)": "1"
                                },
                                {
                                    "NEV": "Pásztor Róbert",
                                    "(No column name)": "2"
                                },
                                {
                                    "NEV": "Pásztor Róbert",
                                    "(No column name)": "3"
                                },
                                {
                                    "NEV": "Tóth Roland",
                                    "(No column name)": "3"
                                },
                                {
                                    "NEV": "Tóth Roland",
                                    "(No column name)": "3"
                                },
                                {
                                    "NEV": "Tóth Roland",
                                    "(No column name)": "2"
                                },
                                {
                                    "NEV": "Tóth Roland",
                                    "(No column name)": "2"
                                },
                                {
                                    "NEV": "Ferencz Roland",
                                    "(No column name)": "3"
                                },
                                {
                                    "NEV": "Ferencz Roland",
                                    "(No column name)": "2"
                                },
                                {
                                    "NEV": "Ferencz Roland",
                                    "(No column name)": "2"
                                },
                                {
                                    "NEV": "Ferencz Roland",
                                    "(No column name)": "2"
                                },
                                {
                                    "NEV": "Bucskó Róza",
                                    "(No column name)": "2"
                                },
                                {
                                    "NEV": "Bucskó Róza",
                                    "(No column name)": "2"
                                },
                                {
                                    "NEV": "Bucskó Róza",
                                    "(No column name)": "2"
                                },
                                {
                                    "NEV": "Karasz Sándor",
                                    "(No column name)": "2"
                                },
                                {
                                    "NEV": "Karasz Sándor",
                                    "(No column name)": "2"
                                },
                                {
                                    "NEV": "Karasz Sándor",
                                    "(No column name)": "2"
                                },
                                {
                                    "NEV": "Karasz Sándor",
                                    "(No column name)": "2"
                                },
                                {
                                    "NEV": "Farkas Sándor",
                                    "(No column name)": "2"
                                },
                                {
                                    "NEV": "Farkas Sándor",
                                    "(No column name)": "1"
                                },
                                {
                                    "NEV": "Farkas Sándor",
                                    "(No column name)": "1"
                                },
                                {
                                    "NEV": "Farkas Sándor",
                                    "(No column name)": "2"
                                },
                                {
                                    "NEV": "Farkas Sándor",
                                    "(No column name)": "2"
                                },
                                {
                                    "NEV": "Nagy Sándor",
                                    "(No column name)": "1"
                                },
                                {
                                    "NEV": "Nagy Sándor",
                                    "(No column name)": "1"
                                },
                                {
                                    "NEV": "Nagy Sándor",
                                    "(No column name)": "1"
                                },
                                {
                                    "NEV": "Nagy Sándor",
                                    "(No column name)": "1"
                                },
                                {
                                    "NEV": "Farkas Sára",
                                    "(No column name)": "2"
                                },
                                {
                                    "NEV": "Farkas Sára",
                                    "(No column name)": "2"
                                },
                                {
                                    "NEV": "Farkas Sára",
                                    "(No column name)": "2"
                                },
                                {
                                    "NEV": "Farkas Sára",
                                    "(No column name)": "2"
                                },
                                {
                                    "NEV": "Farkas Sára",
                                    "(No column name)": "2"
                                },
                                {
                                    "NEV": "Farkas Sára",
                                    "(No column name)": "2"
                                },
                                {
                                    "NEV": "Farkas Sára",
                                    "(No column name)": "3"
                                },
                                {
                                    "NEV": "Farkas Sára",
                                    "(No column name)": "2"
                                },
                                {
                                    "NEV": "Farkas Sára",
                                    "(No column name)": "2"
                                },
                                {
                                    "NEV": "Farkas Sára",
                                    "(No column name)": "3"
                                },
                                {
                                    "NEV": "Farkas Sára",
                                    "(No column name)": "2"
                                },
                                {
                                    "NEV": "Farkas Sára",
                                    "(No column name)": "2"
                                },
                                {
                                    "NEV": "Foltényi Sebastián",
                                    "(No column name)": "2"
                                },
                                {
                                    "NEV": "Foltényi Sebastián",
                                    "(No column name)": "2"
                                },
                                {
                                    "NEV": "Foltényi Sebastián",
                                    "(No column name)": "2"
                                },
                                {
                                    "NEV": "Foltényi Sebastián",
                                    "(No column name)": "2"
                                },
                                {
                                    "NEV": "Foltényi Sebastián",
                                    "(No column name)": "3"
                                },
                                {
                                    "NEV": "Rab Sebestyén",
                                    "(No column name)": "4"
                                },
                                {
                                    "NEV": "Rab Sebestyén",
                                    "(No column name)": "4"
                                },
                                {
                                    "NEV": "Rab Sebestyén",
                                    "(No column name)": "4"
                                },
                                {
                                    "NEV": "Rab Sebestyén",
                                    "(No column name)": "4"
                                },
                                {
                                    "NEV": "Bodor Szabolcs",
                                    "(No column name)": "2"
                                },
                                {
                                    "NEV": "Miklós Szabolcs",
                                    "(No column name)": "3"
                                },
                                {
                                    "NEV": "Miklós Szabolcs",
                                    "(No column name)": "2"
                                },
                                {
                                    "NEV": "Miklós Szabolcs",
                                    "(No column name)": "2"
                                },
                                {
                                    "NEV": "Miklós Szabolcs",
                                    "(No column name)": "2"
                                },
                                {
                                    "NEV": "Miklós Szabolcs",
                                    "(No column name)": "2"
                                },
                                {
                                    "NEV": "Miklós Szabolcs",
                                    "(No column name)": "2"
                                },
                                {
                                    "NEV": "Miklós Szabolcs",
                                    "(No column name)": "2"
                                },
                                {
                                    "NEV": "Szalai Szilárd",
                                    "(No column name)": "3"
                                },
                                {
                                    "NEV": "Szalai Szilárd",
                                    "(No column name)": "4"
                                },
                                {
                                    "NEV": "Szalai Szilárd",
                                    "(No column name)": "4"
                                },
                                {
                                    "NEV": "Szalai Szilárd",
                                    "(No column name)": "3"
                                },
                                {
                                    "NEV": "Szalai Szilárd",
                                    "(No column name)": "3"
                                },
                                {
                                    "NEV": "Szalai Szilárd",
                                    "(No column name)": "3"
                                },
                                {
                                    "NEV": "Szalai Szilárd",
                                    "(No column name)": "2"
                                },
                                {
                                    "NEV": "Tari Szilvia",
                                    "(No column name)": "2"
                                },
                                {
                                    "NEV": "Tari Szilvia",
                                    "(No column name)": "2"
                                },
                                {
                                    "NEV": "Tari Szilvia",
                                    "(No column name)": "2"
                                },
                                {
                                    "NEV": "Tari Szilvia",
                                    "(No column name)": "2"
                                },
                                {
                                    "NEV": "Tari Szilvia",
                                    "(No column name)": "2"
                                },
                                {
                                    "NEV": "Tari Szilvia",
                                    "(No column name)": "2"
                                },
                                {
                                    "NEV": "Tari Szilvia",
                                    "(No column name)": "3"
                                },
                                {
                                    "NEV": "Tari Szilvia",
                                    "(No column name)": "3"
                                },
                                {
                                    "NEV": "Tari Szilvia",
                                    "(No column name)": "2"
                                },
                                {
                                    "NEV": "Miklós Tamara",
                                    "(No column name)": "3"
                                },
                                {
                                    "NEV": "Miklós Tamara",
                                    "(No column name)": "2"
                                },
                                {
                                    "NEV": "Antal Tamás",
                                    "(No column name)": "2"
                                },
                                {
                                    "NEV": "Antal Tamás",
                                    "(No column name)": "2"
                                },
                                {
                                    "NEV": "Antal Tamás",
                                    "(No column name)": "2"
                                },
                                {
                                    "NEV": "Antal Tamás",
                                    "(No column name)": "2"
                                },
                                {
                                    "NEV": "Fényes Tamás",
                                    "(No column name)": "2"
                                },
                                {
                                    "NEV": "Fényes Tamás",
                                    "(No column name)": "2"
                                },
                                {
                                    "NEV": "Fényes Tamás",
                                    "(No column name)": "2"
                                },
                                {
                                    "NEV": "Fényes Tamás",
                                    "(No column name)": "2"
                                },
                                {
                                    "NEV": "Fényes Tamás",
                                    "(No column name)": "2"
                                },
                                {
                                    "NEV": "Fényes Tamás",
                                    "(No column name)": "2"
                                },
                                {
                                    "NEV": "Fényes Tamás",
                                    "(No column name)": "2"
                                },
                                {
                                    "NEV": "Fényes Tamás",
                                    "(No column name)": "2"
                                },
                                {
                                    "NEV": "Fényes Tamás",
                                    "(No column name)": "2"
                                },
                                {
                                    "NEV": "Gombos Tibor",
                                    "(No column name)": "2"
                                },
                                {
                                    "NEV": "Gombos Tibor",
                                    "(No column name)": "1"
                                },
                                {
                                    "NEV": "Dániel Tibor",
                                    "(No column name)": "2"
                                },
                                {
                                    "NEV": "Kazy Tihamér",
                                    "(No column name)": "1"
                                },
                                {
                                    "NEV": "Kazy Tihamér",
                                    "(No column name)": "3"
                                },
                                {
                                    "NEV": "Kazy Tihamér",
                                    "(No column name)": "3"
                                },
                                {
                                    "NEV": "Kazy Tihamér",
                                    "(No column name)": "3"
                                },
                                {
                                    "NEV": "Kazy Tihamér",
                                    "(No column name)": "3"
                                },
                                {
                                    "NEV": "Kazy Tihamér",
                                    "(No column name)": "2"
                                },
                                {
                                    "NEV": "Papós Tímea",
                                    "(No column name)": "2"
                                },
                                {
                                    "NEV": "Dusha Tímea",
                                    "(No column name)": "2"
                                },
                                {
                                    "NEV": "Dusha Tímea",
                                    "(No column name)": "2"
                                },
                                {
                                    "NEV": "Dusha Tímea",
                                    "(No column name)": "2"
                                },
                                {
                                    "NEV": "Dusha Tímea",
                                    "(No column name)": "3"
                                },
                                {
                                    "NEV": "Dusha Tímea",
                                    "(No column name)": "3"
                                },
                                {
                                    "NEV": "Turcsik Tünde",
                                    "(No column name)": "3"
                                },
                                {
                                    "NEV": "Turcsik Tünde",
                                    "(No column name)": "3"
                                },
                                {
                                    "NEV": "Turcsik Tünde",
                                    "(No column name)": "2"
                                },
                                {
                                    "NEV": "Turcsik Tünde",
                                    "(No column name)": "2"
                                },
                                {
                                    "NEV": "Turcsik Tünde",
                                    "(No column name)": "2"
                                },
                                {
                                    "NEV": "Turcsik Tünde",
                                    "(No column name)": "2"
                                },
                                {
                                    "NEV": "Turcsik Tünde",
                                    "(No column name)": "2"
                                },
                                {
                                    "NEV": "Turcsik Tünde",
                                    "(No column name)": "3"
                                },
                                {
                                    "NEV": "Feró Valentin",
                                    "(No column name)": "4"
                                },
                                {
                                    "NEV": "Feró Valentin",
                                    "(No column name)": "2"
                                },
                                {
                                    "NEV": "Feró Valentin",
                                    "(No column name)": "2"
                                },
                                {
                                    "NEV": "Feró Valentin",
                                    "(No column name)": "2"
                                },
                                {
                                    "NEV": "Feró Valentin",
                                    "(No column name)": "2"
                                },
                                {
                                    "NEV": "Tankó Veronika",
                                    "(No column name)": "2"
                                },
                                {
                                    "NEV": "Tankó Veronika",
                                    "(No column name)": "2"
                                },
                                {
                                    "NEV": "Tankó Veronika",
                                    "(No column name)": "2"
                                },
                                {
                                    "NEV": "Tankó Veronika",
                                    "(No column name)": "2"
                                },
                                {
                                    "NEV": "Tankó Veronika",
                                    "(No column name)": "2"
                                },
                                {
                                    "NEV": "Tankó Veronika",
                                    "(No column name)": "2"
                                },
                                {
                                    "NEV": "Urbán Viktoria",
                                    "(No column name)": "1"
                                },
                                {
                                    "NEV": "Urbán Viktoria",
                                    "(No column name)": "1"
                                },
                                {
                                    "NEV": "Urbán Viktoria",
                                    "(No column name)": "2"
                                },
                                {
                                    "NEV": "Urbán Viktoria",
                                    "(No column name)": "2"
                                },
                                {
                                    "NEV": "Keresztúri Viktor",
                                    "(No column name)": "2"
                                },
                                {
                                    "NEV": "Keresztúri Viktor",
                                    "(No column name)": "3"
                                },
                                {
                                    "NEV": "Boros Vivien",
                                    "(No column name)": "3"
                                },
                                {
                                    "NEV": "Boros Vivien",
                                    "(No column name)": "2"
                                },
                                {
                                    "NEV": "Boros Vivien",
                                    "(No column name)": "2"
                                },
                                {
                                    "NEV": "Boros Vivien",
                                    "(No column name)": "2"
                                },
                                {
                                    "NEV": "Boros Vivien",
                                    "(No column name)": "1"
                                },
                                {
                                    "NEV": "Boros Vivien",
                                    "(No column name)": "1"
                                },
                                {
                                    "NEV": "Boros Vivien",
                                    "(No column name)": "2"
                                },
                                {
                                    "NEV": "Fodor Zoltán",
                                    "(No column name)": "2"
                                },
                                {
                                    "NEV": "Fodor Zoltán",
                                    "(No column name)": "2"
                                },
                                {
                                    "NEV": "Barna Zoltán",
                                    "(No column name)": "3"
                                },
                                {
                                    "NEV": "Barna Zoltán",
                                    "(No column name)": "3"
                                },
                                {
                                    "NEV": "Barna Zoltán",
                                    "(No column name)": "2"
                                },
                                {
                                    "NEV": "Barna Zoltán",
                                    "(No column name)": "2"
                                },
                                {
                                    "NEV": "Barna Zoltán",
                                    "(No column name)": "1"
                                },
                                {
                                    "NEV": "Barna Zoltán",
                                    "(No column name)": "1"
                                },
                                {
                                    "NEV": "Barna Zoltán",
                                    "(No column name)": "2"
                                },
                                {
                                    "NEV": "Barna Zoltán",
                                    "(No column name)": "3"
                                },
                                {
                                    "NEV": "Barna Zoltán",
                                    "(No column name)": "2"
                                },
                                {
                                    "NEV": "Barna Zoltán",
                                    "(No column name)": "2"
                                },
                                {
                                    "NEV": "Barna Zoltán",
                                    "(No column name)": "1"
                                },
                                {
                                    "NEV": "Barna Zoltán",
                                    "(No column name)": "1"
                                },
                                {
                                    "NEV": "Pintér Zoltán",
                                    "(No column name)": "2"
                                },
                                {
                                    "NEV": "Pintér Zoltán",
                                    "(No column name)": "2"
                                },
                                {
                                    "NEV": "Pintér Zoltán",
                                    "(No column name)": "2"
                                },
                                {
                                    "NEV": "Pintér Zoltán",
                                    "(No column name)": "2"
                                },
                                {
                                    "NEV": "Pintér Zoltán",
                                    "(No column name)": "2"
                                },
                                {
                                    "NEV": "Pintér Zoltán",
                                    "(No column name)": "2"
                                },
                                {
                                    "NEV": "Tóth Zoltán",
                                    "(No column name)": "3"
                                },
                                {
                                    "NEV": "Tóth Zoltán",
                                    "(No column name)": "3"
                                },
                                {
                                    "NEV": "Tóth Zoltán",
                                    "(No column name)": "2"
                                },
                                {
                                    "NEV": "Molnár Zsófi",
                                    "(No column name)": "2"
                                },
                                {
                                    "NEV": "Molnár Zsófi",
                                    "(No column name)": "2"
                                },
                                {
                                    "NEV": "Pulai Zsolt",
                                    "(No column name)": "2"
                                },
                                {
                                    "NEV": "Pulai Zsolt",
                                    "(No column name)": "2"
                                },
                                {
                                    "NEV": "Pulai Zsolt",
                                    "(No column name)": "2"
                                },
                                {
                                    "NEV": "Pulai Zsolt",
                                    "(No column name)": "2"
                                },
                                {
                                    "NEV": "Józsa Zsolt",
                                    "(No column name)": "4"
                                },
                                {
                                    "NEV": "Józsa Zsolt",
                                    "(No column name)": "3"
                                },
                                {
                                    "NEV": "Józsa Zsolt",
                                    "(No column name)": "2"
                                },
                                {
                                    "NEV": "Józsa Zsolt",
                                    "(No column name)": "2"
                                },
                                {
                                    "NEV": "Józsa Zsolt",
                                    "(No column name)": "1"
                                },
                                {
                                    "NEV": "Józsa Zsolt",
                                    "(No column name)": "1"
                                },
                                {
                                    "NEV": "Pusztai Zsuzsanna",
                                    "(No column name)": "3"
                                },
                                {
                                    "NEV": "Pusztai Zsuzsanna",
                                    "(No column name)": "2"
                                },
                                {
                                    "NEV": "Pusztai Zsuzsanna",
                                    "(No column name)": "2"
                                },
                                {
                                    "NEV": "Varsányi Zsuzsa",
                                    "(No column name)": "2"
                                },
                                {
                                    "NEV": "Varsányi Zsuzsa",
                                    "(No column name)": "2"
                                },
                                {
                                    "NEV": "Varsányi Zsuzsa",
                                    "(No column name)": "2"
                                },
                                {
                                    "NEV": "Varsányi Zsuzsa",
                                    "(No column name)": "2"
                                },
                                {
                                    "NEV": "Barta Zsuzsanna",
                                    "(No column name)": "2"
                                },
                                {
                                    "NEV": "Barta Zsuzsanna",
                                    "(No column name)": "2"
                                },
                                {
                                    "NEV": "Barta Zsuzsanna",
                                    "(No column name)": "1"
                                },
                                {
                                    "NEV": "Barta Zsuzsanna",
                                    "(No column name)": "1"
                                },
                                {
                                    "NEV": "Vajda Zsuzsa",
                                    "(No column name)": "2"
                                },
                                {
                                    "NEV": "Vajda Zsuzsa",
                                    "(No column name)": "3"
                                },
                                {
                                    "NEV": "Vajda Zsuzsa",
                                    "(No column name)": "3"
                                },
                                {
                                    "NEV": "Vajda Zsuzsa",
                                    "(No column name)": "2"
                                },
                                {
                                    "NEV": "Vajda Zsuzsa",
                                    "(No column name)": "2"
                                },
                                {
                                    "NEV": "Vajda Zsuzsa",
                                    "(No column name)": "2"
                                }
                            ]
                        },
                        "text/html": "<table><tr><th>NEV</th><th>(No column name)</th></tr><tr><td>Kiss Ádám</td><td>3</td></tr><tr><td>Kiss Ádám</td><td>2</td></tr><tr><td>Kiss Ádám</td><td>2</td></tr><tr><td>Barkóci Ádám</td><td>2</td></tr><tr><td>Barkóci Ádám</td><td>1</td></tr><tr><td>Bieniek Ádám</td><td>3</td></tr><tr><td>Bieniek Ádám</td><td>3</td></tr><tr><td>Bieniek Ádám</td><td>2</td></tr><tr><td>Bieniek Ádám</td><td>2</td></tr><tr><td>Bieniek Ádám</td><td>2</td></tr><tr><td>Bieniek Ádám</td><td>2</td></tr><tr><td>Lengyel Ágnes</td><td>3</td></tr><tr><td>Lengyel Ágnes</td><td>2</td></tr><tr><td>Lengyel Ágnes</td><td>2</td></tr><tr><td>Lengyel Ágnes</td><td>2</td></tr><tr><td>Lengyel Ágnes</td><td>2</td></tr><tr><td>Hartyánszky Ágnes</td><td>1</td></tr><tr><td>Hartyánszky Ágnes</td><td>2</td></tr><tr><td>Hartyánszky Ágnes</td><td>2</td></tr><tr><td>Horváth Ágnes</td><td>2</td></tr><tr><td>Horváth Ágnes</td><td>3</td></tr><tr><td>Horváth Ágnes</td><td>2</td></tr><tr><td>Horváth Ágnes</td><td>2</td></tr><tr><td>Horváth Ágnes</td><td>2</td></tr><tr><td>Horváth Ágnes</td><td>1</td></tr><tr><td>Kovács Ágnes</td><td>3</td></tr><tr><td>Kovács Ágnes</td><td>2</td></tr><tr><td>Kovács Ágnes</td><td>2</td></tr><tr><td>Bíró Ákos</td><td>2</td></tr><tr><td>Bíró Ákos</td><td>2</td></tr><tr><td>Bíró Ákos</td><td>2</td></tr><tr><td>Bíró Ákos</td><td>1</td></tr><tr><td>Bíró Ákos</td><td>1</td></tr><tr><td>Bíró Ákos</td><td>1</td></tr><tr><td>Bíró Ákos</td><td>1</td></tr><tr><td>Bíró Ákos</td><td>1</td></tr><tr><td>Bíró Ákos</td><td>2</td></tr><tr><td>Bíró Ákos</td><td>2</td></tr><tr><td>Dunai Aladár</td><td>1</td></tr><tr><td>Dunai Aladár</td><td>1</td></tr><tr><td>Dunai Aladár</td><td>1</td></tr><tr><td>Bagóczki Alexandra</td><td>3</td></tr><tr><td>Bagóczki Alexandra</td><td>3</td></tr><tr><td>Bagóczki Alexandra</td><td>2</td></tr><tr><td>Bagóczki Alexandra</td><td>2</td></tr><tr><td>Bagóczki Alexandra</td><td>2</td></tr><tr><td>Bagóczki Alexandra</td><td>1</td></tr><tr><td>Bagóczki Alexandra</td><td>1</td></tr><tr><td>Maródi Andrea</td><td>4</td></tr><tr><td>Maródi Andrea</td><td>2</td></tr><tr><td>Maródi Andrea</td><td>2</td></tr><tr><td>Maródi Andrea</td><td>2</td></tr><tr><td>Maródi Andrea</td><td>2</td></tr><tr><td>Tóth András</td><td>1</td></tr><tr><td>Tóth András</td><td>1</td></tr><tr><td>Tóth András</td><td>1</td></tr><tr><td>Tóth András</td><td>2</td></tr><tr><td>Tóth András</td><td>2</td></tr><tr><td>Molnár András</td><td>2</td></tr><tr><td>Molnár András</td><td>2</td></tr><tr><td>Molnár András</td><td>2</td></tr><tr><td>Molnár András</td><td>2</td></tr><tr><td>Molnár András</td><td>2</td></tr><tr><td>Molnár András</td><td>2</td></tr><tr><td>Molnár András</td><td>3</td></tr><tr><td>Vígh András</td><td>2</td></tr><tr><td>Vígh András</td><td>1</td></tr><tr><td>Vígh András</td><td>1</td></tr><tr><td>Vígh András</td><td>1</td></tr><tr><td>Vígh András</td><td>1</td></tr><tr><td>Vígh András</td><td>2</td></tr><tr><td>Vígh András</td><td>2</td></tr><tr><td>Vígh András</td><td>2</td></tr><tr><td>Back András</td><td>2</td></tr><tr><td>Back András</td><td>2</td></tr><tr><td>Back András</td><td>2</td></tr><tr><td>Komjáti András</td><td>2</td></tr><tr><td>Komjáti András</td><td>3</td></tr><tr><td>Komjáti András</td><td>3</td></tr><tr><td>Komjáti András</td><td>2</td></tr><tr><td>Komjáti András</td><td>3</td></tr><tr><td>Komjáti András</td><td>2</td></tr><tr><td>Komjáti András</td><td>2</td></tr><tr><td>Komjáti András</td><td>2</td></tr><tr><td>Komjáti András</td><td>1</td></tr><tr><td>Komjáti András</td><td>1</td></tr><tr><td>Komjáti András</td><td>2</td></tr><tr><td>Komjáti András</td><td>2</td></tr><tr><td>Komjáti András</td><td>2</td></tr><tr><td>Erdei András</td><td>1</td></tr><tr><td>Erdei András</td><td>1</td></tr><tr><td>Erdei András</td><td>1</td></tr><tr><td>Erdei András</td><td>2</td></tr><tr><td>Erdei András</td><td>2</td></tr><tr><td>Nagy András</td><td>2</td></tr><tr><td>Kiss Andrea</td><td>2</td></tr><tr><td>Kiss Andrea</td><td>2</td></tr><tr><td>Kiss Andrea</td><td>2</td></tr><tr><td>Kiss Andrea</td><td>2</td></tr><tr><td>Kiss Andrea</td><td>2</td></tr><tr><td>Kiss Andrea</td><td>2</td></tr><tr><td>Szomor Andrea</td><td>3</td></tr><tr><td>Neizer Andrea</td><td>1</td></tr><tr><td>Neizer Andrea</td><td>1</td></tr><tr><td>Neizer Andrea</td><td>2</td></tr><tr><td>Neizer Andrea</td><td>2</td></tr><tr><td>Tornyos Andrea</td><td>2</td></tr><tr><td>Tornyos Andrea</td><td>2</td></tr><tr><td>Tornyos Andrea</td><td>2</td></tr><tr><td>Pivarcsi Anett</td><td>1</td></tr><tr><td>Pivarcsi Anett</td><td>2</td></tr><tr><td>Pivarcsi Anett</td><td>2</td></tr><tr><td>Pivarcsi Anett</td><td>2</td></tr><tr><td>Pivarcsi Anett</td><td>2</td></tr><tr><td>Pivarcsi Anett</td><td>2</td></tr><tr><td>Pivarcsi Anett</td><td>2</td></tr><tr><td>Pivarcsi Anett</td><td>2</td></tr><tr><td>Tóth Anikó</td><td>3</td></tr><tr><td>Tóth Anikó</td><td>3</td></tr><tr><td>Tóth Anikó</td><td>2</td></tr><tr><td>Böröcz Anikó</td><td>1</td></tr><tr><td>Böröcz Anikó</td><td>2</td></tr><tr><td>Böröcz Anikó</td><td>2</td></tr><tr><td>Böröcz Anikó</td><td>2</td></tr><tr><td>Simon Anikó</td><td>2</td></tr><tr><td>Simon Anikó</td><td>2</td></tr><tr><td>Simon Anikó</td><td>2</td></tr><tr><td>Simon Anikó</td><td>2</td></tr><tr><td>Simon Anikó</td><td>2</td></tr><tr><td>Simon Anikó</td><td>2</td></tr><tr><td>Simon Anikó</td><td>2</td></tr><tr><td>Simon Anikó</td><td>2</td></tr><tr><td>Simon Anikó</td><td>2</td></tr><tr><td>Hamvay-Kovács Anita</td><td>4</td></tr><tr><td>Hamvay-Kovács Anita</td><td>3</td></tr><tr><td>Hamvay-Kovács Anita</td><td>2</td></tr><tr><td>Hamvay-Kovács Anita</td><td>2</td></tr><tr><td>Szűcs Annamária</td><td>3</td></tr><tr><td>Szűcs Annamária</td><td>3</td></tr><tr><td>Regős Annamária</td><td>2</td></tr><tr><td>Regős Annamária</td><td>1</td></tr><tr><td>Regős Annamária</td><td>1</td></tr><tr><td>Regős Annamária</td><td>2</td></tr><tr><td>Regős Annamária</td><td>2</td></tr><tr><td>Regős Annamária</td><td>2</td></tr><tr><td>Jakab Áron</td><td>3</td></tr><tr><td>Jakab Áron</td><td>3</td></tr><tr><td>Jakab Áron</td><td>2</td></tr><tr><td>Jakab Áron</td><td>2</td></tr><tr><td>Jakab Áron</td><td>2</td></tr><tr><td>Jakab Áron</td><td>2</td></tr><tr><td>Kelemen Áron</td><td>2</td></tr><tr><td>Kelemen Áron</td><td>3</td></tr><tr><td>Kelemen Áron</td><td>2</td></tr><tr><td>Kelemen Áron</td><td>2</td></tr><tr><td>Kelemen Áron</td><td>2</td></tr><tr><td>Kelemen Áron</td><td>2</td></tr><tr><td>Kelemen Áron</td><td>2</td></tr><tr><td>Kelemen Áron</td><td>2</td></tr><tr><td>Kelemen Áron</td><td>2</td></tr><tr><td>Kelemen Áron</td><td>2</td></tr><tr><td>Kelemen Áron</td><td>2</td></tr><tr><td>Kelemen Áron</td><td>2</td></tr><tr><td>Kelemen Áron</td><td>2</td></tr><tr><td>Ötvös Árpád</td><td>2</td></tr><tr><td>Ötvös Árpád</td><td>2</td></tr><tr><td>Ötvös Árpád</td><td>2</td></tr><tr><td>Ötvös Árpád</td><td>2</td></tr><tr><td>Ötvös Árpád</td><td>2</td></tr><tr><td>Ötvös Árpád</td><td>2</td></tr><tr><td>Ötvös Árpád</td><td>3</td></tr><tr><td>Horváth Árpád</td><td>3</td></tr><tr><td>Horváth Árpád</td><td>2</td></tr><tr><td>Horváth Árpád</td><td>2</td></tr><tr><td>Horváth Árpád</td><td>1</td></tr><tr><td>Horváth Árpád</td><td>1</td></tr><tr><td>Horváth Árpád</td><td>1</td></tr><tr><td>Horváth Árpád</td><td>1</td></tr><tr><td>Móricz Árpád</td><td>2</td></tr><tr><td>Móricz Árpád</td><td>2</td></tr><tr><td>Móricz Árpád</td><td>2</td></tr><tr><td>Móricz Árpád</td><td>2</td></tr><tr><td>Móricz Árpád</td><td>2</td></tr><tr><td>Móricz Árpád</td><td>2</td></tr><tr><td>Csóti Attila</td><td>3</td></tr><tr><td>Csóti Attila</td><td>2</td></tr><tr><td>Csóti Attila</td><td>2</td></tr><tr><td>Gulyás Attila</td><td>1</td></tr><tr><td>Gulyás Attila</td><td>1</td></tr><tr><td>Gulyás Attila</td><td>2</td></tr><tr><td>Gulyás Attila</td><td>2</td></tr><tr><td>Gulyás Attila</td><td>2</td></tr><tr><td>Gulyás Attila</td><td>2</td></tr><tr><td>Baróti Attila</td><td>4</td></tr><tr><td>Baróti Attila</td><td>3</td></tr><tr><td>Baróti Attila</td><td>2</td></tr><tr><td>Opra Attila</td><td>3</td></tr><tr><td>Opra Attila</td><td>3</td></tr><tr><td>Opra Attila</td><td>2</td></tr><tr><td>Opra Attila</td><td>2</td></tr><tr><td>Bozsik Balázs</td><td>2</td></tr><tr><td>Bozsik Balázs</td><td>3</td></tr><tr><td>Bozsik Balázs</td><td>3</td></tr><tr><td>Bozsik Balázs</td><td>2</td></tr><tr><td>Bozsik Balázs</td><td>3</td></tr><tr><td>Bozsik Balázs</td><td>2</td></tr><tr><td>Szűcs Balázs</td><td>2</td></tr><tr><td>Szűcs Balázs</td><td>2</td></tr><tr><td>Szűcs Balázs</td><td>2</td></tr><tr><td>Szűcs Balázs</td><td>2</td></tr><tr><td>Szűcs Balázs</td><td>3</td></tr><tr><td>Szűcs Balázs</td><td>2</td></tr><tr><td>Szűcs Balázs</td><td>2</td></tr><tr><td>Szűcs Balázs</td><td>2</td></tr><tr><td>Szűcs Balázs</td><td>2</td></tr><tr><td>Szűcs Balázs</td><td>2</td></tr><tr><td>Bakódy Balázs</td><td>2</td></tr><tr><td>Bakódy Balázs</td><td>3</td></tr><tr><td>Bakódy Balázs</td><td>3</td></tr><tr><td>Bakódy Balázs</td><td>3</td></tr><tr><td>Bakódy Balázs</td><td>3</td></tr><tr><td>Bakódy Balázs</td><td>2</td></tr><tr><td>Horváth Bálint</td><td>2</td></tr><tr><td>Horváth Bálint</td><td>2</td></tr><tr><td>Horváth Bálint</td><td>2</td></tr><tr><td>Molnár Bálint</td><td>3</td></tr><tr><td>Molnár Bálint</td><td>3</td></tr><tr><td>Molnár Bálint</td><td>2</td></tr><tr><td>Molnár Bálint</td><td>2</td></tr><tr><td>Molnár Bálint</td><td>2</td></tr><tr><td>Molnár Bálint</td><td>1</td></tr><tr><td>Molnár Bálint</td><td>1</td></tr><tr><td>Molnár Bálint</td><td>2</td></tr><tr><td>Molnár Bálint</td><td>2</td></tr><tr><td>Molnár Bálint</td><td>2</td></tr><tr><td>Vukasinovity Bálint</td><td>1</td></tr><tr><td>Vukasinovity Bálint</td><td>2</td></tr><tr><td>Endresz Bálint</td><td>2</td></tr><tr><td>Endresz Bálint</td><td>2</td></tr><tr><td>Bagi Beáta</td><td>2</td></tr><tr><td>Bagi Beáta</td><td>2</td></tr><tr><td>Bagi Beáta</td><td>1</td></tr><tr><td>Bagi Beáta</td><td>2</td></tr><tr><td>Bagi Beáta</td><td>1</td></tr><tr><td>Bagi Beáta</td><td>2</td></tr><tr><td>Kerényi Beatrix</td><td>2</td></tr><tr><td>Kerényi Beatrix</td><td>2</td></tr><tr><td>Kerényi Beatrix</td><td>2</td></tr><tr><td>Kerényi Beatrix</td><td>2</td></tr><tr><td>Kerényi Beatrix</td><td>2</td></tr><tr><td>Kerényi Beatrix</td><td>2</td></tr><tr><td>Kerényi Beatrix</td><td>2</td></tr><tr><td>Kerényi Beatrix</td><td>2</td></tr><tr><td>Kerényi Beatrix</td><td>3</td></tr><tr><td>Szekendi Beatrix</td><td>1</td></tr><tr><td>Szekendi Beatrix</td><td>2</td></tr><tr><td>Szekendi Beatrix</td><td>2</td></tr><tr><td>Szekendi Beatrix</td><td>2</td></tr><tr><td>Szekendi Beatrix</td><td>2</td></tr><tr><td>Szekendi Beatrix</td><td>2</td></tr><tr><td>Farkas Béla</td><td>3</td></tr><tr><td>Farkas Béla</td><td>2</td></tr><tr><td>Farkas Béla</td><td>2</td></tr><tr><td>Farkas Béla</td><td>2</td></tr><tr><td>Farkas Béla</td><td>2</td></tr><tr><td>Farkas Béla</td><td>2</td></tr><tr><td>Győrffy Bence</td><td>2</td></tr><tr><td>Győrffy Bence</td><td>1</td></tr><tr><td>Győrffy Bence</td><td>1</td></tr><tr><td>Győrffy Bence</td><td>2</td></tr><tr><td>Győrffy Bence</td><td>2</td></tr><tr><td>Győrffy Bence</td><td>3</td></tr><tr><td>Győrffy Bence</td><td>3</td></tr><tr><td>Győrffy Bence</td><td>2</td></tr><tr><td>Győrffy Bence</td><td>2</td></tr><tr><td>Bajusz Bence</td><td>3</td></tr><tr><td>Bajusz Bence</td><td>2</td></tr><tr><td>Bajusz Bence</td><td>2</td></tr><tr><td>Bajusz Bence</td><td>2</td></tr><tr><td>Bajusz Bence</td><td>2</td></tr><tr><td>Bajusz Bence</td><td>2</td></tr><tr><td>Simon Bernadett</td><td>3</td></tr><tr><td>Simon Bernadett</td><td>3</td></tr><tr><td>Simon Bernadett</td><td>3</td></tr><tr><td>Simon Bernadett</td><td>3</td></tr><tr><td>Simon Bernadett</td><td>3</td></tr><tr><td>Simon Bernadett</td><td>3</td></tr><tr><td>Simon Bernadett</td><td>2</td></tr><tr><td>Kovács Bernadett</td><td>2</td></tr><tr><td>Kovács Bernadett</td><td>2</td></tr><tr><td>Kovács Bernadett</td><td>2</td></tr><tr><td>Kovács Bernadett</td><td>2</td></tr><tr><td>Kovács Bernadett</td><td>2</td></tr><tr><td>Kovács Bernadett</td><td>2</td></tr><tr><td>Kovács Bernadett</td><td>2</td></tr><tr><td>Kovács Bernadett</td><td>2</td></tr><tr><td>Orbán Bernadett</td><td>2</td></tr><tr><td>Orbán Bernadett</td><td>2</td></tr><tr><td>Orbán Bernadett</td><td>2</td></tr><tr><td>Orbán Bernadett</td><td>2</td></tr><tr><td>Orbán Bernadett</td><td>2</td></tr><tr><td>Orbán Bernadett</td><td>3</td></tr><tr><td>Orbán Bernadett</td><td>2</td></tr><tr><td>Csiger Bertalan</td><td>2</td></tr><tr><td>Csiger Bertalan</td><td>1</td></tr><tr><td>Csiger Bertalan</td><td>1</td></tr><tr><td>Csiger Bertalan</td><td>2</td></tr><tr><td>Csiger Bertalan</td><td>2</td></tr><tr><td>Csiger Bertalan</td><td>2</td></tr><tr><td>Székely Brigitta</td><td>3</td></tr><tr><td>Székely Brigitta</td><td>3</td></tr><tr><td>Székely Brigitta</td><td>3</td></tr><tr><td>Székely Brigitta</td><td>2</td></tr><tr><td>Székely Brigitta</td><td>2</td></tr><tr><td>Pataki Brigitta</td><td>2</td></tr><tr><td>Pataki Brigitta</td><td>2</td></tr><tr><td>Pataki Brigitta</td><td>2</td></tr><tr><td>Pataki Brigitta</td><td>2</td></tr><tr><td>Pataki Brigitta</td><td>2</td></tr><tr><td>Nagymihály Csongor</td><td>2</td></tr><tr><td>Nagymihály Csongor</td><td>2</td></tr><tr><td>Nagymihály Csongor</td><td>2</td></tr><tr><td>Nagymihály Csongor</td><td>2</td></tr><tr><td>Nagymihály Csongor</td><td>2</td></tr><tr><td>Nagymihály Csongor</td><td>2</td></tr><tr><td>Nagymihály Csongor</td><td>3</td></tr><tr><td>Nagymihály Csongor</td><td>3</td></tr><tr><td>Vörös Dániel</td><td>3</td></tr><tr><td>Vörös Dániel</td><td>3</td></tr><tr><td>Vörös Dániel</td><td>2</td></tr><tr><td>Vörös Dániel</td><td>3</td></tr><tr><td>Vörös Dániel</td><td>2</td></tr><tr><td>Vörös Dániel</td><td>2</td></tr><tr><td>Vörös Dániel</td><td>2</td></tr><tr><td>Vörös Dániel</td><td>1</td></tr><tr><td>Vörös Dániel</td><td>2</td></tr><tr><td>Rácz Dániel</td><td>4</td></tr><tr><td>Rácz Dániel</td><td>3</td></tr><tr><td>Rácz Dániel</td><td>3</td></tr><tr><td>Rácz Dániel</td><td>3</td></tr><tr><td>Rácz Dániel</td><td>3</td></tr><tr><td>Rácz Dániel</td><td>3</td></tr><tr><td>Rácz Dániel</td><td>2</td></tr><tr><td>Rácz Dániel</td><td>2</td></tr><tr><td>Rácz Dániel</td><td>2</td></tr><tr><td>Keszler Dániel</td><td>2</td></tr><tr><td>Keszler Dániel</td><td>3</td></tr><tr><td>Keszler Dániel</td><td>3</td></tr><tr><td>Keszler Dániel</td><td>2</td></tr><tr><td>Keszler Dániel</td><td>2</td></tr><tr><td>Keszler Dániel</td><td>2</td></tr><tr><td>Keszler Dániel</td><td>2</td></tr><tr><td>Ambrus Dávid</td><td>2</td></tr><tr><td>Ambrus Dávid</td><td>2</td></tr><tr><td>Ambrus Dávid</td><td>2</td></tr><tr><td>Ambrus Dávid</td><td>2</td></tr><tr><td>Ambrus Dávid</td><td>1</td></tr><tr><td>Ambrus Dávid</td><td>2</td></tr><tr><td>Ambrus Dávid</td><td>2</td></tr><tr><td>Ambrus Dávid</td><td>2</td></tr><tr><td>Ambrus Dávid</td><td>2</td></tr><tr><td>Sobják Dávid</td><td>2</td></tr><tr><td>Sobják Dávid</td><td>2</td></tr><tr><td>Sobják Dávid</td><td>2</td></tr><tr><td>Sobják Dávid</td><td>2</td></tr><tr><td>Sobják Dávid</td><td>2</td></tr><tr><td>Sobják Dávid</td><td>2</td></tr><tr><td>Berta Dávid</td><td>3</td></tr><tr><td>Barna Debóra</td><td>5</td></tr><tr><td>Barna Debóra</td><td>3</td></tr><tr><td>Barna Debóra</td><td>3</td></tr><tr><td>Barna Debóra</td><td>3</td></tr><tr><td>Tömböly Dénes</td><td>3</td></tr><tr><td>Tömböly Dénes</td><td>2</td></tr><tr><td>Tömböly Dénes</td><td>2</td></tr><tr><td>Tömböly Dénes</td><td>2</td></tr><tr><td>Tömböly Dénes</td><td>2</td></tr><tr><td>Tömböly Dénes</td><td>2</td></tr><tr><td>Sarodi Dóra</td><td>4</td></tr><tr><td>Sarodi Dóra</td><td>3</td></tr><tr><td>Sarodi Dóra</td><td>3</td></tr><tr><td>Sarodi Dóra</td><td>3</td></tr><tr><td>Sarodi Dóra</td><td>3</td></tr><tr><td>Bittmann Edit</td><td>3</td></tr><tr><td>Bittmann Edit</td><td>3</td></tr><tr><td>Bittmann Edit</td><td>3</td></tr><tr><td>Bittmann Edit</td><td>2</td></tr><tr><td>Bittmann Edit</td><td>2</td></tr><tr><td>Bittmann Edit</td><td>2</td></tr><tr><td>Bittmann Edit</td><td>3</td></tr><tr><td>Kuruc Emese</td><td>2</td></tr><tr><td>Kuruc Emese</td><td>2</td></tr><tr><td>Kuruc Emese</td><td>2</td></tr><tr><td>Kuruc Emese</td><td>2</td></tr><tr><td>Kuruc Emese</td><td>2</td></tr><tr><td>Kuruc Emese</td><td>2</td></tr><tr><td>Kuruc Emese</td><td>2</td></tr><tr><td>Molnár Eszter</td><td>3</td></tr><tr><td>Molnár Eszter</td><td>3</td></tr><tr><td>Molnár Eszter</td><td>3</td></tr><tr><td>Molnár Eszter</td><td>2</td></tr><tr><td>Balogh Eszter</td><td>3</td></tr><tr><td>Balogh Eszter</td><td>2</td></tr><tr><td>Balogh Eszter</td><td>2</td></tr><tr><td>Balogh Eszter</td><td>2</td></tr><tr><td>Balogh Eszter</td><td>1</td></tr><tr><td>Balogh Eszter</td><td>1</td></tr><tr><td>Balogh Eszter</td><td>1</td></tr><tr><td>Balogh Eszter</td><td>1</td></tr><tr><td>Balogh Eszter</td><td>2</td></tr><tr><td>Balogh Eszter</td><td>2</td></tr><tr><td>Fülöp Eszter</td><td>2</td></tr><tr><td>Fülöp Eszter</td><td>2</td></tr><tr><td>Fülöp Eszter</td><td>2</td></tr><tr><td>Érsek Eszter</td><td>2</td></tr><tr><td>Érsek Eszter</td><td>2</td></tr><tr><td>Érsek Eszter</td><td>2</td></tr><tr><td>Érsek Eszter</td><td>2</td></tr><tr><td>Enyedi Éva</td><td>3</td></tr><tr><td>Enyedi Éva</td><td>2</td></tr><tr><td>Perlinger Éva</td><td>1</td></tr><tr><td>Perlinger Éva</td><td>1</td></tr><tr><td>Perlinger Éva</td><td>1</td></tr><tr><td>Perlinger Éva</td><td>2</td></tr><tr><td>Viktor Éva</td><td>3</td></tr><tr><td>Viktor Éva</td><td>2</td></tr><tr><td>Viktor Éva</td><td>2</td></tr><tr><td>Viktor Éva</td><td>2</td></tr><tr><td>Viktor Éva</td><td>3</td></tr><tr><td>Orosz Ferenc</td><td>2</td></tr><tr><td>Orosz Ferenc</td><td>2</td></tr><tr><td>Orosz Ferenc</td><td>2</td></tr><tr><td>Orosz Ferenc</td><td>2</td></tr><tr><td>Frank Fruzsina</td><td>2</td></tr><tr><td>Frank Fruzsina</td><td>2</td></tr><tr><td>Frank Fruzsina</td><td>2</td></tr><tr><td>Frank Fruzsina</td><td>3</td></tr><tr><td>Frank Fruzsina</td><td>3</td></tr><tr><td>Frank Fruzsina</td><td>3</td></tr><tr><td>Frank Fruzsina</td><td>2</td></tr><tr><td>Frank Fruzsina</td><td>2</td></tr><tr><td>Köves Gábor</td><td>4</td></tr><tr><td>Köves Gábor</td><td>2</td></tr><tr><td>Köves Gábor</td><td>2</td></tr><tr><td>Köves Gábor</td><td>2</td></tr><tr><td>Köves Gábor</td><td>1</td></tr><tr><td>Köves Gábor</td><td>2</td></tr><tr><td>Telek Gábor</td><td>3</td></tr><tr><td>Telek Gábor</td><td>2</td></tr><tr><td>Telek Gábor</td><td>2</td></tr><tr><td>Telek Gábor</td><td>3</td></tr><tr><td>Nagy Gabriella</td><td>3</td></tr><tr><td>Nagy Gabriella</td><td>3</td></tr><tr><td>Nagy Gabriella</td><td>2</td></tr><tr><td>Nagy Gabriella</td><td>2</td></tr><tr><td>Nagy Gabriella</td><td>2</td></tr><tr><td>Nagy Gabriella</td><td>2</td></tr><tr><td>Vida Gabriella</td><td>3</td></tr><tr><td>Nyíri Georgij</td><td>3</td></tr><tr><td>Nyíri Georgij</td><td>3</td></tr><tr><td>Nyíri Georgij</td><td>3</td></tr><tr><td>Nyíri Georgij</td><td>3</td></tr><tr><td>Bárci Gusztáv</td><td>2</td></tr><tr><td>Bárci Gusztáv</td><td>2</td></tr><tr><td>Bárci Gusztáv</td><td>2</td></tr><tr><td>Bárci Gusztáv</td><td>2</td></tr><tr><td>Bárci Gusztáv</td><td>3</td></tr><tr><td>Kornseé Gyöngyi</td><td>3</td></tr><tr><td>Kornseé Gyöngyi</td><td>2</td></tr><tr><td>Kornseé Gyöngyi</td><td>2</td></tr><tr><td>Kornseé Gyöngyi</td><td>2</td></tr><tr><td>Kornseé Gyöngyi</td><td>2</td></tr><tr><td>Kornseé Gyöngyi</td><td>2</td></tr><tr><td>Kornseé Gyöngyi</td><td>2</td></tr><tr><td>Oroszi György</td><td>3</td></tr><tr><td>Oroszi György</td><td>2</td></tr><tr><td>Oroszi György</td><td>2</td></tr><tr><td>Oroszi György</td><td>2</td></tr><tr><td>Oroszi György</td><td>2</td></tr><tr><td>Oroszi György</td><td>2</td></tr><tr><td>Oroszi György</td><td>2</td></tr><tr><td>Oroszi György</td><td>2</td></tr><tr><td>Nádudvari Henrik</td><td>1</td></tr><tr><td>Nádudvari Henrik</td><td>2</td></tr><tr><td>Nádudvari Henrik</td><td>2</td></tr><tr><td>Andor Ibolya</td><td>5</td></tr><tr><td>Andor Ibolya</td><td>3</td></tr><tr><td>Andor Ibolya</td><td>3</td></tr><tr><td>Bosnyák Ilona</td><td>2</td></tr><tr><td>Bosnyák Ilona</td><td>2</td></tr><tr><td>Bosnyák Ilona</td><td>3</td></tr><tr><td>Bosnyák Ilona</td><td>3</td></tr><tr><td>Búza Imre</td><td>3</td></tr><tr><td>Búza Imre</td><td>3</td></tr><tr><td>Papp Imre</td><td>4</td></tr><tr><td>Papp Imre</td><td>3</td></tr><tr><td>Papp Imre</td><td>2</td></tr><tr><td>Papp Imre</td><td>2</td></tr><tr><td>Papp Imre</td><td>2</td></tr><tr><td>Papp Imre</td><td>2</td></tr><tr><td>Papp Imre</td><td>2</td></tr><tr><td>Soós István</td><td>2</td></tr><tr><td>Soós István</td><td>2</td></tr><tr><td>Soós István</td><td>2</td></tr><tr><td>Vizi István</td><td>3</td></tr><tr><td>Vizi István</td><td>3</td></tr><tr><td>Vizi István</td><td>2</td></tr><tr><td>Vizi István</td><td>2</td></tr><tr><td>Varga István</td><td>4</td></tr><tr><td>Varga István</td><td>3</td></tr><tr><td>Harangozó János</td><td>1</td></tr><tr><td>Harangozó János</td><td>2</td></tr><tr><td>Harangozó János</td><td>2</td></tr><tr><td>Harangozó János</td><td>2</td></tr><tr><td>Harangozó János</td><td>2</td></tr><tr><td>Giliga János</td><td>1</td></tr><tr><td>Giliga János</td><td>2</td></tr><tr><td>Giliga János</td><td>2</td></tr><tr><td>Giliga János</td><td>2</td></tr><tr><td>Giliga János</td><td>2</td></tr><tr><td>Giliga János</td><td>2</td></tr><tr><td>Giliga János</td><td>2</td></tr><tr><td>Pálinkás János</td><td>3</td></tr><tr><td>Pálinkás János</td><td>2</td></tr><tr><td>Pálinkás János</td><td>2</td></tr><tr><td>Pálinkás János</td><td>2</td></tr><tr><td>Gergely József</td><td>2</td></tr><tr><td>Gergely József</td><td>2</td></tr><tr><td>Gergely József</td><td>2</td></tr><tr><td>Vajda József</td><td>2</td></tr><tr><td>Vajda József</td><td>2</td></tr><tr><td>Vajda József</td><td>2</td></tr><tr><td>Vajda József</td><td>2</td></tr><tr><td>Vajda József</td><td>2</td></tr><tr><td>Gyuris József</td><td>2</td></tr><tr><td>Gyuris József</td><td>1</td></tr><tr><td>Gyuris József</td><td>2</td></tr><tr><td>Gyuris József</td><td>2</td></tr><tr><td>Gyuris József</td><td>2</td></tr><tr><td>Gyuris József</td><td>2</td></tr><tr><td>Gyuris József</td><td>2</td></tr><tr><td>Hídasi Judit</td><td>2</td></tr><tr><td>Hídasi Judit</td><td>2</td></tr><tr><td>Hídasi Judit</td><td>1</td></tr><tr><td>Tóth Júlia</td><td>2</td></tr><tr><td>Tóth Júlia</td><td>1</td></tr><tr><td>Tóth Júlia</td><td>2</td></tr><tr><td>Tóth Júlia</td><td>2</td></tr><tr><td>Tóth Júlia</td><td>2</td></tr><tr><td>Nagy Júlia</td><td>1</td></tr><tr><td>Nagy Júlia</td><td>2</td></tr><tr><td>Szabó Julianna</td><td>2</td></tr><tr><td>Szabó Julianna</td><td>2</td></tr><tr><td>Szabó Julianna</td><td>2</td></tr><tr><td>Szabó Julianna</td><td>2</td></tr><tr><td>Gondos Katalin</td><td>2</td></tr><tr><td>Gondos Katalin</td><td>1</td></tr><tr><td>Gondos Katalin</td><td>2</td></tr><tr><td>Gondos Katalin</td><td>2</td></tr><tr><td>Gondos Katalin</td><td>2</td></tr><tr><td>Gondos Katalin</td><td>2</td></tr><tr><td>Gondos Katalin</td><td>2</td></tr><tr><td>Gondos Katalin</td><td>2</td></tr><tr><td>Gondos Katalin</td><td>2</td></tr><tr><td>Gondos Katalin</td><td>3</td></tr><tr><td>Horváth Katalin</td><td>2</td></tr><tr><td>Horváth Katalin</td><td>1</td></tr><tr><td>Horváth Katalin</td><td>1</td></tr><tr><td>Horváth Katalin</td><td>1</td></tr><tr><td>Horváth Katalin</td><td>1</td></tr><tr><td>Horváth Katalin</td><td>1</td></tr><tr><td>Horváth Katalin</td><td>1</td></tr><tr><td>Horváth Katalin</td><td>1</td></tr><tr><td>Horváth Katalin</td><td>2</td></tr><tr><td>Kertész Katalin</td><td>1</td></tr><tr><td>Kertész Katalin</td><td>2</td></tr><tr><td>Kertész Katalin</td><td>2</td></tr><tr><td>Kertész Katalin</td><td>2</td></tr><tr><td>Kertész Katalin</td><td>3</td></tr><tr><td>Kertész Katalin</td><td>2</td></tr><tr><td>Zatykó Katalin</td><td>2</td></tr><tr><td>Zatykó Katalin</td><td>2</td></tr><tr><td>Zatykó Katalin</td><td>2</td></tr><tr><td>Zatykó Katalin</td><td>2</td></tr><tr><td>Zatykó Katalin</td><td>2</td></tr><tr><td>Zatykó Katalin</td><td>2</td></tr><tr><td>Zatykó Katalin</td><td>2</td></tr><tr><td>Kovács Katalin</td><td>2</td></tr><tr><td>Kovács Katalin</td><td>2</td></tr><tr><td>Kovács Katalin</td><td>2</td></tr><tr><td>Kovács Katalin</td><td>2</td></tr><tr><td>Kovács Katalin</td><td>2</td></tr><tr><td>Kovács Katalin</td><td>2</td></tr><tr><td>Kovács Katalin</td><td>3</td></tr><tr><td>Kovács Katalin</td><td>3</td></tr><tr><td>Kovács Katalin</td><td>3</td></tr><tr><td>Bakó Klaudia</td><td>4</td></tr><tr><td>Bakó Klaudia</td><td>3</td></tr><tr><td>Bakó Klaudia</td><td>2</td></tr><tr><td>Lukács Kornél</td><td>3</td></tr><tr><td>Lukács Kornél</td><td>3</td></tr><tr><td>Lukács Kornél</td><td>3</td></tr><tr><td>Poprádi Kristóf</td><td>2</td></tr><tr><td>Poprádi Kristóf</td><td>2</td></tr><tr><td>Horváth Krisztina</td><td>2</td></tr><tr><td>Horváth Krisztina</td><td>2</td></tr><tr><td>Horváth Krisztina</td><td>2</td></tr><tr><td>Horváth Krisztina</td><td>2</td></tr><tr><td>Horváth Krisztina</td><td>3</td></tr><tr><td>Horváth Krisztina</td><td>3</td></tr><tr><td>Czérna Krisztián</td><td>2</td></tr><tr><td>Czérna Krisztián</td><td>2</td></tr><tr><td>Czérna Krisztián</td><td>2</td></tr><tr><td>Czérna Krisztián</td><td>2</td></tr><tr><td>Czérna Krisztián</td><td>2</td></tr><tr><td>Czérna Krisztián</td><td>1</td></tr><tr><td>Czérna Krisztián</td><td>2</td></tr><tr><td>Czérna Krisztián</td><td>1</td></tr><tr><td>Czérna Krisztián</td><td>2</td></tr><tr><td>Czérna Krisztián</td><td>2</td></tr><tr><td>Czérna Krisztián</td><td>2</td></tr><tr><td>Czérna Krisztián</td><td>2</td></tr><tr><td>Mogyródi Krisztián</td><td>2</td></tr><tr><td>Mogyródi Krisztián</td><td>2</td></tr><tr><td>Mogyródi Krisztián</td><td>2</td></tr><tr><td>Mogyródi Krisztián</td><td>2</td></tr><tr><td>Mogyródi Krisztián</td><td>2</td></tr><tr><td>Mogyródi Krisztián</td><td>2</td></tr><tr><td>Szedlár Krisztina</td><td>2</td></tr><tr><td>Szedlár Krisztina</td><td>2</td></tr><tr><td>Szedlár Krisztina</td><td>2</td></tr><tr><td>Szedlár Krisztina</td><td>2</td></tr><tr><td>Szedlár Krisztina</td><td>2</td></tr><tr><td>Szedlár Krisztina</td><td>1</td></tr><tr><td>Szedlár Krisztina</td><td>1</td></tr><tr><td>Szedlár Krisztina</td><td>2</td></tr><tr><td>Bori Krisztina</td><td>2</td></tr><tr><td>Bori Krisztina</td><td>1</td></tr><tr><td>Bori Krisztina</td><td>1</td></tr><tr><td>Bori Krisztina</td><td>2</td></tr><tr><td>Bori Krisztina</td><td>2</td></tr><tr><td>Bori Krisztina</td><td>2</td></tr><tr><td>Gyárfás Krisztina</td><td>2</td></tr><tr><td>Gyárfás Krisztina</td><td>1</td></tr><tr><td>Gyárfás Krisztina</td><td>1</td></tr><tr><td>Gyárfás Krisztina</td><td>1</td></tr><tr><td>Gyárfás Krisztina</td><td>1</td></tr><tr><td>Kiss Lajos</td><td>2</td></tr><tr><td>Kiss Lajos</td><td>3</td></tr><tr><td>Kiss Lajos</td><td>2</td></tr><tr><td>Nagymihály Lajos</td><td>2</td></tr><tr><td>Nagymihály Lajos</td><td>2</td></tr><tr><td>Nagymihály Lajos</td><td>2</td></tr><tr><td>Nagymihály Lajos</td><td>2</td></tr><tr><td>Nagymihály Lajos</td><td>3</td></tr><tr><td>Nagymihály Lajos</td><td>2</td></tr><tr><td>Farkas László</td><td>3</td></tr><tr><td>Móra László</td><td>2</td></tr><tr><td>Móra László</td><td>2</td></tr><tr><td>Móra László</td><td>2</td></tr><tr><td>Móra László</td><td>2</td></tr><tr><td>Móra László</td><td>2</td></tr><tr><td>Antal László</td><td>2</td></tr><tr><td>Antal László</td><td>1</td></tr><tr><td>Antal László</td><td>2</td></tr><tr><td>Antal László</td><td>2</td></tr><tr><td>Nagy László</td><td>1</td></tr><tr><td>Nagy László</td><td>1</td></tr><tr><td>Nagy László</td><td>2</td></tr><tr><td>Nagy László</td><td>1</td></tr><tr><td>Nagy László</td><td>1</td></tr><tr><td>Nagy László</td><td>2</td></tr><tr><td>Baráth Mária</td><td>2</td></tr><tr><td>Baráth Mária</td><td>1</td></tr><tr><td>Baráth Mária</td><td>1</td></tr><tr><td>Baráth Mária</td><td>1</td></tr><tr><td>Baráth Mária</td><td>1</td></tr><tr><td>Baráth Mária</td><td>1</td></tr><tr><td>Baráth Mária</td><td>2</td></tr><tr><td>Baráth Mária</td><td>2</td></tr><tr><td>Kispál Márk</td><td>4</td></tr><tr><td>Kispál Márk</td><td>3</td></tr><tr><td>Kispál Márk</td><td>3</td></tr><tr><td>Kispál Márk</td><td>2</td></tr><tr><td>Kispál Márk</td><td>2</td></tr><tr><td>Horváth Márk</td><td>3</td></tr><tr><td>Horváth Márk</td><td>2</td></tr><tr><td>Horváth Márk</td><td>3</td></tr><tr><td>Horváth Márk</td><td>3</td></tr><tr><td>Kalacsi Márton</td><td>3</td></tr><tr><td>Kalacsi Márton</td><td>2</td></tr><tr><td>Kalacsi Márton</td><td>2</td></tr><tr><td>Kalacsi Márton</td><td>2</td></tr><tr><td>Kalacsi Márton</td><td>2</td></tr><tr><td>Kalacsi Márton</td><td>2</td></tr><tr><td>Kalacsi Márton</td><td>2</td></tr><tr><td>Koza Máté</td><td>4</td></tr><tr><td>Koza Máté</td><td>3</td></tr><tr><td>Koza Máté</td><td>2</td></tr><tr><td>Botka Mátyás</td><td>2</td></tr><tr><td>Botka Mátyás</td><td>2</td></tr><tr><td>Szilágyi Mátyás</td><td>2</td></tr><tr><td>Szilágyi Mátyás</td><td>1</td></tr><tr><td>Szilágyi Mátyás</td><td>2</td></tr><tr><td>Szilágyi Mátyás</td><td>2</td></tr><tr><td>Szilágyi Mátyás</td><td>2</td></tr><tr><td>Szilágyi Mátyás</td><td>2</td></tr><tr><td>Szilágyi Mátyás</td><td>2</td></tr><tr><td>Szilágyi Mátyás</td><td>2</td></tr><tr><td>Juhász Mihály</td><td>2</td></tr><tr><td>Juhász Mihály</td><td>1</td></tr><tr><td>Juhász Mihály</td><td>1</td></tr><tr><td>Juhász Mihály</td><td>1</td></tr><tr><td>Juhász Mihály</td><td>2</td></tr><tr><td>Gondos Miklós</td><td>3</td></tr><tr><td>Gondos Miklós</td><td>2</td></tr><tr><td>Gondos Miklós</td><td>2</td></tr><tr><td>Balla Miklós</td><td>2</td></tr><tr><td>Balla Miklós</td><td>2</td></tr><tr><td>Balla Miklós</td><td>2</td></tr><tr><td>Mohos Mónika</td><td>2</td></tr><tr><td>Mohos Mónika</td><td>1</td></tr><tr><td>Mohos Mónika</td><td>1</td></tr><tr><td>Mohos Mónika</td><td>1</td></tr><tr><td>Mohos Mónika</td><td>1</td></tr><tr><td>Mohos Mónika</td><td>1</td></tr><tr><td>Fő Nándor</td><td>3</td></tr><tr><td>Fő Nándor</td><td>3</td></tr><tr><td>Fő Nándor</td><td>3</td></tr><tr><td>Horváth Nikolett</td><td>2</td></tr><tr><td>Horváth Nikolett</td><td>1</td></tr><tr><td>Horváth Nikolett</td><td>1</td></tr><tr><td>Horváth Nikolett</td><td>1</td></tr><tr><td>Kő Nikoletta</td><td>2</td></tr><tr><td>Kő Nikoletta</td><td>2</td></tr><tr><td>Kő Nikoletta</td><td>2</td></tr><tr><td>Kő Nikoletta</td><td>2</td></tr><tr><td>Kő Nikoletta</td><td>2</td></tr><tr><td>Kő Nikoletta</td><td>3</td></tr><tr><td>Kő Nikoletta</td><td>3</td></tr><tr><td>Tatár Nikoletta</td><td>4</td></tr><tr><td>Tatár Nikoletta</td><td>3</td></tr><tr><td>Tatár Nikoletta</td><td>3</td></tr><tr><td>Tatár Nikoletta</td><td>3</td></tr><tr><td>Szűcs Norbert</td><td>1</td></tr><tr><td>Szűcs Norbert</td><td>2</td></tr><tr><td>Szűcs Norbert</td><td>2</td></tr><tr><td>Szűcs Norbert</td><td>2</td></tr><tr><td>Szűcs Norbert</td><td>2</td></tr><tr><td>Hegedűs Norbert</td><td>1</td></tr><tr><td>Hegedűs Norbert</td><td>1</td></tr><tr><td>Hegedűs Norbert</td><td>2</td></tr><tr><td>Hegedűs Norbert</td><td>2</td></tr><tr><td>Hegedűs Norbert</td><td>2</td></tr><tr><td>Hegedűs Norbert</td><td>2</td></tr><tr><td>Hegedűs Norbert</td><td>2</td></tr><tr><td>Mile Norbert</td><td>2</td></tr><tr><td>Mile Norbert</td><td>2</td></tr><tr><td>Mile Norbert</td><td>3</td></tr><tr><td>Mile Norbert</td><td>3</td></tr><tr><td>Mile Norbert</td><td>3</td></tr><tr><td>Mile Norbert</td><td>3</td></tr><tr><td>Mile Norbert</td><td>3</td></tr><tr><td>Mile Norbert</td><td>2</td></tr><tr><td>Mile Norbert</td><td>2</td></tr><tr><td>Béres Norbert</td><td>2</td></tr><tr><td>Béres Norbert</td><td>2</td></tr><tr><td>Béres Norbert</td><td>1</td></tr><tr><td>Barabás Pál</td><td>3</td></tr><tr><td>Barabás Pál</td><td>2</td></tr><tr><td>Barabás Pál</td><td>2</td></tr><tr><td>Barabás Pál</td><td>2</td></tr><tr><td>Barabás Pál</td><td>2</td></tr><tr><td>Kozma Péter</td><td>3</td></tr><tr><td>Kozma Péter</td><td>3</td></tr><tr><td>Kozma Péter</td><td>3</td></tr><tr><td>Kozma Péter</td><td>3</td></tr><tr><td>Bozsó Péter</td><td>2</td></tr><tr><td>Bozsó Péter</td><td>2</td></tr><tr><td>Bozsó Péter</td><td>2</td></tr><tr><td>Bozsó Péter</td><td>2</td></tr><tr><td>Szalai Péter</td><td>3</td></tr><tr><td>Szalai Péter</td><td>3</td></tr><tr><td>Szalai Péter</td><td>3</td></tr><tr><td>Szalai Péter</td><td>2</td></tr><tr><td>Szalai Péter</td><td>2</td></tr><tr><td>Szalai Péter</td><td>1</td></tr><tr><td>Bíró Péter</td><td>3</td></tr><tr><td>Bíró Péter</td><td>2</td></tr><tr><td>Bíró Péter</td><td>2</td></tr><tr><td>Bíró Péter</td><td>3</td></tr><tr><td>Bíró Péter</td><td>3</td></tr><tr><td>Bíró Péter</td><td>3</td></tr><tr><td>Bíró Péter</td><td>3</td></tr><tr><td>Bíró Péter</td><td>2</td></tr><tr><td>Bíró Péter</td><td>2</td></tr><tr><td>Bíró Péter</td><td>2</td></tr><tr><td>Bíró Péter</td><td>2</td></tr><tr><td>Bíró Péter</td><td>3</td></tr><tr><td>Berendi Péter</td><td>1</td></tr><tr><td>Berendi Péter</td><td>1</td></tr><tr><td>Berendi Péter</td><td>1</td></tr><tr><td>Berendi Péter</td><td>2</td></tr><tr><td>Berendi Péter</td><td>2</td></tr><tr><td>Palágyi Polla</td><td>3</td></tr><tr><td>Palágyi Polla</td><td>2</td></tr><tr><td>Palágyi Polla</td><td>2</td></tr><tr><td>Palágyi Polla</td><td>2</td></tr><tr><td>Palágyi Polla</td><td>2</td></tr><tr><td>Palágyi Polla</td><td>2</td></tr><tr><td>Rácz Rajmond</td><td>3</td></tr><tr><td>Rácz Rajmond</td><td>3</td></tr><tr><td>Rácz Rajmond</td><td>3</td></tr><tr><td>Rácz Rajmond</td><td>3</td></tr><tr><td>Szikszai Réka</td><td>2</td></tr><tr><td>Szikszai Réka</td><td>3</td></tr><tr><td>Szikszai Réka</td><td>3</td></tr><tr><td>Szikszai Réka</td><td>2</td></tr><tr><td>Szikszai Réka</td><td>2</td></tr><tr><td>Kardos Renáta</td><td>4</td></tr><tr><td>Kardos Renáta</td><td>2</td></tr><tr><td>Kardos Renáta</td><td>2</td></tr><tr><td>Kardos Renáta</td><td>2</td></tr><tr><td>Kardos Renáta</td><td>1</td></tr><tr><td>Kardos Renáta</td><td>1</td></tr><tr><td>Szirmai Renáta</td><td>2</td></tr><tr><td>Szirmai Renáta</td><td>2</td></tr><tr><td>Szirmai Renáta</td><td>3</td></tr><tr><td>Szirmai Renáta</td><td>2</td></tr><tr><td>Szirmai Renáta</td><td>2</td></tr><tr><td>Patay Róbert</td><td>2</td></tr><tr><td>Patay Róbert</td><td>2</td></tr><tr><td>Patay Róbert</td><td>2</td></tr><tr><td>Patay Róbert</td><td>2</td></tr><tr><td>Iván Róbert</td><td>4</td></tr><tr><td>Iván Róbert</td><td>3</td></tr><tr><td>Iván Róbert</td><td>2</td></tr><tr><td>Iván Róbert</td><td>2</td></tr><tr><td>Iván Róbert</td><td>2</td></tr><tr><td>Iván Róbert</td><td>2</td></tr><tr><td>Iván Róbert</td><td>2</td></tr><tr><td>Iván Róbert</td><td>1</td></tr><tr><td>Pásztor Róbert</td><td>2</td></tr><tr><td>Pásztor Róbert</td><td>3</td></tr><tr><td>Tóth Roland</td><td>3</td></tr><tr><td>Tóth Roland</td><td>3</td></tr><tr><td>Tóth Roland</td><td>2</td></tr><tr><td>Tóth Roland</td><td>2</td></tr><tr><td>Ferencz Roland</td><td>3</td></tr><tr><td>Ferencz Roland</td><td>2</td></tr><tr><td>Ferencz Roland</td><td>2</td></tr><tr><td>Ferencz Roland</td><td>2</td></tr><tr><td>Bucskó Róza</td><td>2</td></tr><tr><td>Bucskó Róza</td><td>2</td></tr><tr><td>Bucskó Róza</td><td>2</td></tr><tr><td>Karasz Sándor</td><td>2</td></tr><tr><td>Karasz Sándor</td><td>2</td></tr><tr><td>Karasz Sándor</td><td>2</td></tr><tr><td>Karasz Sándor</td><td>2</td></tr><tr><td>Farkas Sándor</td><td>2</td></tr><tr><td>Farkas Sándor</td><td>1</td></tr><tr><td>Farkas Sándor</td><td>1</td></tr><tr><td>Farkas Sándor</td><td>2</td></tr><tr><td>Farkas Sándor</td><td>2</td></tr><tr><td>Nagy Sándor</td><td>1</td></tr><tr><td>Nagy Sándor</td><td>1</td></tr><tr><td>Nagy Sándor</td><td>1</td></tr><tr><td>Nagy Sándor</td><td>1</td></tr><tr><td>Farkas Sára</td><td>2</td></tr><tr><td>Farkas Sára</td><td>2</td></tr><tr><td>Farkas Sára</td><td>2</td></tr><tr><td>Farkas Sára</td><td>2</td></tr><tr><td>Farkas Sára</td><td>2</td></tr><tr><td>Farkas Sára</td><td>2</td></tr><tr><td>Farkas Sára</td><td>3</td></tr><tr><td>Farkas Sára</td><td>2</td></tr><tr><td>Farkas Sára</td><td>2</td></tr><tr><td>Farkas Sára</td><td>3</td></tr><tr><td>Farkas Sára</td><td>2</td></tr><tr><td>Farkas Sára</td><td>2</td></tr><tr><td>Foltényi Sebastián</td><td>2</td></tr><tr><td>Foltényi Sebastián</td><td>2</td></tr><tr><td>Foltényi Sebastián</td><td>2</td></tr><tr><td>Foltényi Sebastián</td><td>2</td></tr><tr><td>Foltényi Sebastián</td><td>3</td></tr><tr><td>Rab Sebestyén</td><td>4</td></tr><tr><td>Rab Sebestyén</td><td>4</td></tr><tr><td>Rab Sebestyén</td><td>4</td></tr><tr><td>Rab Sebestyén</td><td>4</td></tr><tr><td>Bodor Szabolcs</td><td>2</td></tr><tr><td>Miklós Szabolcs</td><td>3</td></tr><tr><td>Miklós Szabolcs</td><td>2</td></tr><tr><td>Miklós Szabolcs</td><td>2</td></tr><tr><td>Miklós Szabolcs</td><td>2</td></tr><tr><td>Miklós Szabolcs</td><td>2</td></tr><tr><td>Miklós Szabolcs</td><td>2</td></tr><tr><td>Miklós Szabolcs</td><td>2</td></tr><tr><td>Szalai Szilárd</td><td>3</td></tr><tr><td>Szalai Szilárd</td><td>4</td></tr><tr><td>Szalai Szilárd</td><td>4</td></tr><tr><td>Szalai Szilárd</td><td>3</td></tr><tr><td>Szalai Szilárd</td><td>3</td></tr><tr><td>Szalai Szilárd</td><td>3</td></tr><tr><td>Szalai Szilárd</td><td>2</td></tr><tr><td>Tari Szilvia</td><td>2</td></tr><tr><td>Tari Szilvia</td><td>2</td></tr><tr><td>Tari Szilvia</td><td>2</td></tr><tr><td>Tari Szilvia</td><td>2</td></tr><tr><td>Tari Szilvia</td><td>2</td></tr><tr><td>Tari Szilvia</td><td>2</td></tr><tr><td>Tari Szilvia</td><td>3</td></tr><tr><td>Tari Szilvia</td><td>3</td></tr><tr><td>Tari Szilvia</td><td>2</td></tr><tr><td>Miklós Tamara</td><td>3</td></tr><tr><td>Miklós Tamara</td><td>2</td></tr><tr><td>Antal Tamás</td><td>2</td></tr><tr><td>Antal Tamás</td><td>2</td></tr><tr><td>Antal Tamás</td><td>2</td></tr><tr><td>Antal Tamás</td><td>2</td></tr><tr><td>Fényes Tamás</td><td>2</td></tr><tr><td>Fényes Tamás</td><td>2</td></tr><tr><td>Fényes Tamás</td><td>2</td></tr><tr><td>Fényes Tamás</td><td>2</td></tr><tr><td>Fényes Tamás</td><td>2</td></tr><tr><td>Fényes Tamás</td><td>2</td></tr><tr><td>Fényes Tamás</td><td>2</td></tr><tr><td>Fényes Tamás</td><td>2</td></tr><tr><td>Fényes Tamás</td><td>2</td></tr><tr><td>Gombos Tibor</td><td>2</td></tr><tr><td>Gombos Tibor</td><td>1</td></tr><tr><td>Dániel Tibor</td><td>2</td></tr><tr><td>Kazy Tihamér</td><td>1</td></tr><tr><td>Kazy Tihamér</td><td>3</td></tr><tr><td>Kazy Tihamér</td><td>3</td></tr><tr><td>Kazy Tihamér</td><td>3</td></tr><tr><td>Kazy Tihamér</td><td>3</td></tr><tr><td>Kazy Tihamér</td><td>2</td></tr><tr><td>Papós Tímea</td><td>2</td></tr><tr><td>Dusha Tímea</td><td>2</td></tr><tr><td>Dusha Tímea</td><td>2</td></tr><tr><td>Dusha Tímea</td><td>2</td></tr><tr><td>Dusha Tímea</td><td>3</td></tr><tr><td>Dusha Tímea</td><td>3</td></tr><tr><td>Turcsik Tünde</td><td>3</td></tr><tr><td>Turcsik Tünde</td><td>3</td></tr><tr><td>Turcsik Tünde</td><td>2</td></tr><tr><td>Turcsik Tünde</td><td>2</td></tr><tr><td>Turcsik Tünde</td><td>2</td></tr><tr><td>Turcsik Tünde</td><td>2</td></tr><tr><td>Turcsik Tünde</td><td>2</td></tr><tr><td>Turcsik Tünde</td><td>3</td></tr><tr><td>Feró Valentin</td><td>4</td></tr><tr><td>Feró Valentin</td><td>2</td></tr><tr><td>Feró Valentin</td><td>2</td></tr><tr><td>Feró Valentin</td><td>2</td></tr><tr><td>Feró Valentin</td><td>2</td></tr><tr><td>Tankó Veronika</td><td>2</td></tr><tr><td>Tankó Veronika</td><td>2</td></tr><tr><td>Tankó Veronika</td><td>2</td></tr><tr><td>Tankó Veronika</td><td>2</td></tr><tr><td>Tankó Veronika</td><td>2</td></tr><tr><td>Tankó Veronika</td><td>2</td></tr><tr><td>Urbán Viktoria</td><td>1</td></tr><tr><td>Urbán Viktoria</td><td>1</td></tr><tr><td>Urbán Viktoria</td><td>2</td></tr><tr><td>Urbán Viktoria</td><td>2</td></tr><tr><td>Keresztúri Viktor</td><td>2</td></tr><tr><td>Keresztúri Viktor</td><td>3</td></tr><tr><td>Boros Vivien</td><td>3</td></tr><tr><td>Boros Vivien</td><td>2</td></tr><tr><td>Boros Vivien</td><td>2</td></tr><tr><td>Boros Vivien</td><td>2</td></tr><tr><td>Boros Vivien</td><td>1</td></tr><tr><td>Boros Vivien</td><td>1</td></tr><tr><td>Boros Vivien</td><td>2</td></tr><tr><td>Fodor Zoltán</td><td>2</td></tr><tr><td>Fodor Zoltán</td><td>2</td></tr><tr><td>Barna Zoltán</td><td>3</td></tr><tr><td>Barna Zoltán</td><td>3</td></tr><tr><td>Barna Zoltán</td><td>2</td></tr><tr><td>Barna Zoltán</td><td>2</td></tr><tr><td>Barna Zoltán</td><td>1</td></tr><tr><td>Barna Zoltán</td><td>1</td></tr><tr><td>Barna Zoltán</td><td>2</td></tr><tr><td>Barna Zoltán</td><td>3</td></tr><tr><td>Barna Zoltán</td><td>2</td></tr><tr><td>Barna Zoltán</td><td>2</td></tr><tr><td>Barna Zoltán</td><td>1</td></tr><tr><td>Barna Zoltán</td><td>1</td></tr><tr><td>Pintér Zoltán</td><td>2</td></tr><tr><td>Pintér Zoltán</td><td>2</td></tr><tr><td>Pintér Zoltán</td><td>2</td></tr><tr><td>Pintér Zoltán</td><td>2</td></tr><tr><td>Pintér Zoltán</td><td>2</td></tr><tr><td>Pintér Zoltán</td><td>2</td></tr><tr><td>Tóth Zoltán</td><td>3</td></tr><tr><td>Tóth Zoltán</td><td>3</td></tr><tr><td>Tóth Zoltán</td><td>2</td></tr><tr><td>Molnár Zsófi</td><td>2</td></tr><tr><td>Molnár Zsófi</td><td>2</td></tr><tr><td>Pulai Zsolt</td><td>2</td></tr><tr><td>Pulai Zsolt</td><td>2</td></tr><tr><td>Pulai Zsolt</td><td>2</td></tr><tr><td>Pulai Zsolt</td><td>2</td></tr><tr><td>Józsa Zsolt</td><td>4</td></tr><tr><td>Józsa Zsolt</td><td>3</td></tr><tr><td>Józsa Zsolt</td><td>2</td></tr><tr><td>Józsa Zsolt</td><td>2</td></tr><tr><td>Józsa Zsolt</td><td>1</td></tr><tr><td>Józsa Zsolt</td><td>1</td></tr><tr><td>Pusztai Zsuzsanna</td><td>3</td></tr><tr><td>Pusztai Zsuzsanna</td><td>2</td></tr><tr><td>Pusztai Zsuzsanna</td><td>2</td></tr><tr><td>Varsányi Zsuzsa</td><td>2</td></tr><tr><td>Varsányi Zsuzsa</td><td>2</td></tr><tr><td>Varsányi Zsuzsa</td><td>2</td></tr><tr><td>Varsányi Zsuzsa</td><td>2</td></tr><tr><td>Barta Zsuzsanna</td><td>2</td></tr><tr><td>Barta Zsuzsanna</td><td>2</td></tr><tr><td>Barta Zsuzsanna</td><td>1</td></tr><tr><td>Barta Zsuzsanna</td><td>1</td></tr><tr><td>Vajda Zsuzsa</td><td>2</td></tr><tr><td>Vajda Zsuzsa</td><td>3</td></tr><tr><td>Vajda Zsuzsa</td><td>3</td></tr><tr><td>Vajda Zsuzsa</td><td>2</td></tr><tr><td>Vajda Zsuzsa</td><td>2</td></tr><tr><td>Vajda Zsuzsa</td><td>2</td></tr></table>"
                    },
                    "metadata": {}
                }
            ],
            "execution_count": 17
        },
        {
            "cell_type": "markdown",
            "source": [
                "szobánként hény fogllaás ahol több felnőtt volt mint gyerek\n",
                "\n",
                "végösszeg"
            ],
            "metadata": {
                "azdata_cell_guid": "71a9ced8-d64f-4924-b845-0c4f3ac661de"
            },
            "attachments": {}
        },
        {
            "cell_type": "code",
            "source": [
                "--egyszerű\r\n",
                "select COUNT()\r\n",
                "from Szoba sz join Foglalas f on sz.SZOBA_ID=f.SZOBA_FK"
            ],
            "metadata": {
                "azdata_cell_guid": "363e892c-5153-4fca-9fef-46c44c9ef9f5",
                "language": "sql"
            },
            "outputs": [],
            "execution_count": null
        },
        {
            "cell_type": "markdown",
            "source": [
                "szálláshelyenként összesen hány főre foglaltak\n",
                "\n",
                "szűrés a legkevesebb foglalással rend. szhelyre\n",
                "\n",
                "szhely neve, foglalásszám"
            ],
            "metadata": {
                "azdata_cell_guid": "d875f930-55df-4d33-aa73-7e742795925c"
            },
            "attachments": {}
        },
        {
            "cell_type": "code",
            "source": [
                "--nem mukodik\r\n",
                "select szh.SZALLAS_NEV, COUNT(f.FOGLALAS_PK) as 'foglalasok szama'\r\n",
                "from szallashely szh join Szoba sz on szh.SZALLAS_ID=sz.SZALLAS_FK\r\n",
                "    join Foglalas f on sz.SZOBA_ID=f.SZOBA_FK\r\n",
                "group by szh.SZALLAS_NEV\r\n",
                "having szh.szallas_nev in (\r\n",
                "    SELECT top (1) szh.SZALLAS_nev\r\n",
                "    from szallashely szh join Szoba sz on szh.SZALLAS_ID=sz.SZALLAS_FK\r\n",
                "    join Foglalas f on sz.SZOBA_ID=f.SZOBA_FK\r\n",
                "    group by szh.SZALLAS_NEV\r\n",
                "    order by count(f.FOGLALAS_PK) asc\r\n",
                "    \r\n",
                ")\r\n",
                ""
            ],
            "metadata": {
                "azdata_cell_guid": "1f9e9721-ff40-4030-9d4c-405ddfbd84cf",
                "language": "sql"
            },
            "outputs": [
                {
                    "output_type": "display_data",
                    "data": {
                        "text/html": "(1 row affected)"
                    },
                    "metadata": {}
                },
                {
                    "output_type": "display_data",
                    "data": {
                        "text/html": "Total execution time: 00:00:00.018"
                    },
                    "metadata": {}
                },
                {
                    "output_type": "execute_result",
                    "metadata": {},
                    "execution_count": 6,
                    "data": {
                        "application/vnd.dataresource+json": {
                            "schema": {
                                "fields": [
                                    {
                                        "name": "SZALLAS_NEV"
                                    },
                                    {
                                        "name": "foglalasok szama"
                                    }
                                ]
                            },
                            "data": [
                                {
                                    "SZALLAS_NEV": "Családi Ház",
                                    "foglalasok szama": "18"
                                }
                            ]
                        },
                        "text/html": [
                            "<table>",
                            "<tr><th>SZALLAS_NEV</th><th>foglalasok szama</th></tr>",
                            "<tr><td>Családi Ház</td><td>18</td></tr>",
                            "</table>"
                        ]
                    }
                }
            ],
            "execution_count": 6
        }
    ]
}