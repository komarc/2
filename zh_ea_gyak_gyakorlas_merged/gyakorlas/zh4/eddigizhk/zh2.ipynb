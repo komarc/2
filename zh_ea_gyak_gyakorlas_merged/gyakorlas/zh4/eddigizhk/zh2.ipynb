{
    "metadata": {
        "kernelspec": {
            "name": "SQL",
            "display_name": "SQL",
            "language": "sql"
        },
        "language_info": {
            "name": "sql",
            "version": ""
        }
    },
    "nbformat_minor": 2,
    "nbformat": 4,
    "cells": [
        {
            "cell_type": "code",
            "source": [
                "--1.\r\n",
                "select iif(GROUPING(SZOBA_FK)=1,'Végösszeg', cast(szoba_fk as nvarchar)) as 'Szobaszám', count (*) as 'Foglalások száma'\r\n",
                "from Foglalas\r\n",
                "where FELNOTT_SZAM>GYERMEK_SZAM\r\n",
                "group by rollup (SZOBA_FK)"
            ],
            "metadata": {
                "azdata_cell_guid": "e3c30efb-a0d6-45cd-98a8-07ce84489fd6",
                "language": "sql"
            },
            "outputs": [
                {
                    "output_type": "display_data",
                    "data": {
                        "text/html": "(190 rows affected)"
                    },
                    "metadata": {}
                },
                {
                    "output_type": "display_data",
                    "data": {
                        "text/html": "Total execution time: 00:00:00.013"
                    },
                    "metadata": {}
                },
                {
                    "output_type": "execute_result",
                    "execution_count": 3,
                    "data": {
                        "application/vnd.dataresource+json": {
                            "schema": {
                                "fields": [
                                    {
                                        "name": "Szobaszám"
                                    },
                                    {
                                        "name": "Foglalások száma"
                                    }
                                ]
                            },
                            "data": [
                                {
                                    "Szobaszám": "1",
                                    "Foglalások száma": "7"
                                },
                                {
                                    "Szobaszám": "2",
                                    "Foglalások száma": "2"
                                },
                                {
                                    "Szobaszám": "3",
                                    "Foglalások száma": "3"
                                },
                                {
                                    "Szobaszám": "4",
                                    "Foglalások száma": "5"
                                },
                                {
                                    "Szobaszám": "5",
                                    "Foglalások száma": "2"
                                },
                                {
                                    "Szobaszám": "6",
                                    "Foglalások száma": "5"
                                },
                                {
                                    "Szobaszám": "7",
                                    "Foglalások száma": "6"
                                },
                                {
                                    "Szobaszám": "8",
                                    "Foglalások száma": "5"
                                },
                                {
                                    "Szobaszám": "9",
                                    "Foglalások száma": "4"
                                },
                                {
                                    "Szobaszám": "10",
                                    "Foglalások száma": "4"
                                },
                                {
                                    "Szobaszám": "11",
                                    "Foglalások száma": "4"
                                },
                                {
                                    "Szobaszám": "12",
                                    "Foglalások száma": "7"
                                },
                                {
                                    "Szobaszám": "13",
                                    "Foglalások száma": "4"
                                },
                                {
                                    "Szobaszám": "14",
                                    "Foglalások száma": "3"
                                },
                                {
                                    "Szobaszám": "15",
                                    "Foglalások száma": "4"
                                },
                                {
                                    "Szobaszám": "16",
                                    "Foglalások száma": "1"
                                },
                                {
                                    "Szobaszám": "17",
                                    "Foglalások száma": "2"
                                },
                                {
                                    "Szobaszám": "18",
                                    "Foglalások száma": "3"
                                },
                                {
                                    "Szobaszám": "19",
                                    "Foglalások száma": "4"
                                },
                                {
                                    "Szobaszám": "20",
                                    "Foglalások száma": "5"
                                },
                                {
                                    "Szobaszám": "21",
                                    "Foglalások száma": "1"
                                },
                                {
                                    "Szobaszám": "22",
                                    "Foglalások száma": "2"
                                },
                                {
                                    "Szobaszám": "23",
                                    "Foglalások száma": "3"
                                },
                                {
                                    "Szobaszám": "24",
                                    "Foglalások száma": "3"
                                },
                                {
                                    "Szobaszám": "25",
                                    "Foglalások száma": "1"
                                },
                                {
                                    "Szobaszám": "27",
                                    "Foglalások száma": "5"
                                },
                                {
                                    "Szobaszám": "28",
                                    "Foglalások száma": "5"
                                },
                                {
                                    "Szobaszám": "29",
                                    "Foglalások száma": "3"
                                },
                                {
                                    "Szobaszám": "30",
                                    "Foglalások száma": "2"
                                },
                                {
                                    "Szobaszám": "31",
                                    "Foglalások száma": "1"
                                },
                                {
                                    "Szobaszám": "32",
                                    "Foglalások száma": "1"
                                },
                                {
                                    "Szobaszám": "33",
                                    "Foglalások száma": "3"
                                },
                                {
                                    "Szobaszám": "34",
                                    "Foglalások száma": "3"
                                },
                                {
                                    "Szobaszám": "35",
                                    "Foglalások száma": "6"
                                },
                                {
                                    "Szobaszám": "36",
                                    "Foglalások száma": "4"
                                },
                                {
                                    "Szobaszám": "37",
                                    "Foglalások száma": "2"
                                },
                                {
                                    "Szobaszám": "38",
                                    "Foglalások száma": "5"
                                },
                                {
                                    "Szobaszám": "39",
                                    "Foglalások száma": "4"
                                },
                                {
                                    "Szobaszám": "40",
                                    "Foglalások száma": "3"
                                },
                                {
                                    "Szobaszám": "41",
                                    "Foglalások száma": "1"
                                },
                                {
                                    "Szobaszám": "42",
                                    "Foglalások száma": "5"
                                },
                                {
                                    "Szobaszám": "43",
                                    "Foglalások száma": "4"
                                },
                                {
                                    "Szobaszám": "44",
                                    "Foglalások száma": "6"
                                },
                                {
                                    "Szobaszám": "45",
                                    "Foglalások száma": "4"
                                },
                                {
                                    "Szobaszám": "46",
                                    "Foglalások száma": "3"
                                },
                                {
                                    "Szobaszám": "47",
                                    "Foglalások száma": "2"
                                },
                                {
                                    "Szobaszám": "48",
                                    "Foglalások száma": "6"
                                },
                                {
                                    "Szobaszám": "49",
                                    "Foglalások száma": "5"
                                },
                                {
                                    "Szobaszám": "50",
                                    "Foglalások száma": "3"
                                },
                                {
                                    "Szobaszám": "51",
                                    "Foglalások száma": "3"
                                },
                                {
                                    "Szobaszám": "52",
                                    "Foglalások száma": "5"
                                },
                                {
                                    "Szobaszám": "54",
                                    "Foglalások száma": "4"
                                },
                                {
                                    "Szobaszám": "55",
                                    "Foglalások száma": "3"
                                },
                                {
                                    "Szobaszám": "56",
                                    "Foglalások száma": "1"
                                },
                                {
                                    "Szobaszám": "57",
                                    "Foglalások száma": "3"
                                },
                                {
                                    "Szobaszám": "58",
                                    "Foglalások száma": "8"
                                },
                                {
                                    "Szobaszám": "59",
                                    "Foglalások száma": "4"
                                },
                                {
                                    "Szobaszám": "60",
                                    "Foglalások száma": "1"
                                },
                                {
                                    "Szobaszám": "61",
                                    "Foglalások száma": "4"
                                },
                                {
                                    "Szobaszám": "62",
                                    "Foglalások száma": "3"
                                },
                                {
                                    "Szobaszám": "63",
                                    "Foglalások száma": "3"
                                },
                                {
                                    "Szobaszám": "64",
                                    "Foglalások száma": "5"
                                },
                                {
                                    "Szobaszám": "66",
                                    "Foglalások száma": "3"
                                },
                                {
                                    "Szobaszám": "67",
                                    "Foglalások száma": "2"
                                },
                                {
                                    "Szobaszám": "69",
                                    "Foglalások száma": "2"
                                },
                                {
                                    "Szobaszám": "70",
                                    "Foglalások száma": "8"
                                },
                                {
                                    "Szobaszám": "71",
                                    "Foglalások száma": "2"
                                },
                                {
                                    "Szobaszám": "72",
                                    "Foglalások száma": "2"
                                },
                                {
                                    "Szobaszám": "73",
                                    "Foglalások száma": "4"
                                },
                                {
                                    "Szobaszám": "74",
                                    "Foglalások száma": "8"
                                },
                                {
                                    "Szobaszám": "75",
                                    "Foglalások száma": "2"
                                },
                                {
                                    "Szobaszám": "76",
                                    "Foglalások száma": "2"
                                },
                                {
                                    "Szobaszám": "77",
                                    "Foglalások száma": "3"
                                },
                                {
                                    "Szobaszám": "78",
                                    "Foglalások száma": "3"
                                },
                                {
                                    "Szobaszám": "79",
                                    "Foglalások száma": "4"
                                },
                                {
                                    "Szobaszám": "80",
                                    "Foglalások száma": "5"
                                },
                                {
                                    "Szobaszám": "81",
                                    "Foglalások száma": "3"
                                },
                                {
                                    "Szobaszám": "82",
                                    "Foglalások száma": "5"
                                },
                                {
                                    "Szobaszám": "83",
                                    "Foglalások száma": "5"
                                },
                                {
                                    "Szobaszám": "84",
                                    "Foglalások száma": "3"
                                },
                                {
                                    "Szobaszám": "85",
                                    "Foglalások száma": "2"
                                },
                                {
                                    "Szobaszám": "86",
                                    "Foglalások száma": "4"
                                },
                                {
                                    "Szobaszám": "87",
                                    "Foglalások száma": "5"
                                },
                                {
                                    "Szobaszám": "88",
                                    "Foglalások száma": "5"
                                },
                                {
                                    "Szobaszám": "89",
                                    "Foglalások száma": "8"
                                },
                                {
                                    "Szobaszám": "90",
                                    "Foglalások száma": "3"
                                },
                                {
                                    "Szobaszám": "91",
                                    "Foglalások száma": "2"
                                },
                                {
                                    "Szobaszám": "92",
                                    "Foglalások száma": "5"
                                },
                                {
                                    "Szobaszám": "93",
                                    "Foglalások száma": "3"
                                },
                                {
                                    "Szobaszám": "94",
                                    "Foglalások száma": "6"
                                },
                                {
                                    "Szobaszám": "95",
                                    "Foglalások száma": "3"
                                },
                                {
                                    "Szobaszám": "96",
                                    "Foglalások száma": "6"
                                },
                                {
                                    "Szobaszám": "97",
                                    "Foglalások száma": "5"
                                },
                                {
                                    "Szobaszám": "98",
                                    "Foglalások száma": "4"
                                },
                                {
                                    "Szobaszám": "99",
                                    "Foglalások száma": "4"
                                },
                                {
                                    "Szobaszám": "100",
                                    "Foglalások száma": "2"
                                },
                                {
                                    "Szobaszám": "101",
                                    "Foglalások száma": "1"
                                },
                                {
                                    "Szobaszám": "102",
                                    "Foglalások száma": "1"
                                },
                                {
                                    "Szobaszám": "103",
                                    "Foglalások száma": "1"
                                },
                                {
                                    "Szobaszám": "104",
                                    "Foglalások száma": "3"
                                },
                                {
                                    "Szobaszám": "106",
                                    "Foglalások száma": "4"
                                },
                                {
                                    "Szobaszám": "107",
                                    "Foglalások száma": "4"
                                },
                                {
                                    "Szobaszám": "108",
                                    "Foglalások száma": "1"
                                },
                                {
                                    "Szobaszám": "109",
                                    "Foglalások száma": "2"
                                },
                                {
                                    "Szobaszám": "110",
                                    "Foglalások száma": "5"
                                },
                                {
                                    "Szobaszám": "111",
                                    "Foglalások száma": "1"
                                },
                                {
                                    "Szobaszám": "112",
                                    "Foglalások száma": "4"
                                },
                                {
                                    "Szobaszám": "113",
                                    "Foglalások száma": "2"
                                },
                                {
                                    "Szobaszám": "114",
                                    "Foglalások száma": "1"
                                },
                                {
                                    "Szobaszám": "115",
                                    "Foglalások száma": "5"
                                },
                                {
                                    "Szobaszám": "117",
                                    "Foglalások száma": "4"
                                },
                                {
                                    "Szobaszám": "118",
                                    "Foglalások száma": "2"
                                },
                                {
                                    "Szobaszám": "119",
                                    "Foglalások száma": "4"
                                },
                                {
                                    "Szobaszám": "120",
                                    "Foglalások száma": "2"
                                },
                                {
                                    "Szobaszám": "121",
                                    "Foglalások száma": "5"
                                },
                                {
                                    "Szobaszám": "122",
                                    "Foglalások száma": "3"
                                },
                                {
                                    "Szobaszám": "123",
                                    "Foglalások száma": "5"
                                },
                                {
                                    "Szobaszám": "124",
                                    "Foglalások száma": "4"
                                },
                                {
                                    "Szobaszám": "126",
                                    "Foglalások száma": "4"
                                },
                                {
                                    "Szobaszám": "127",
                                    "Foglalások száma": "5"
                                },
                                {
                                    "Szobaszám": "129",
                                    "Foglalások száma": "3"
                                },
                                {
                                    "Szobaszám": "130",
                                    "Foglalások száma": "5"
                                },
                                {
                                    "Szobaszám": "131",
                                    "Foglalások száma": "4"
                                },
                                {
                                    "Szobaszám": "132",
                                    "Foglalások száma": "4"
                                },
                                {
                                    "Szobaszám": "133",
                                    "Foglalások száma": "4"
                                },
                                {
                                    "Szobaszám": "134",
                                    "Foglalások száma": "4"
                                },
                                {
                                    "Szobaszám": "135",
                                    "Foglalások száma": "3"
                                },
                                {
                                    "Szobaszám": "136",
                                    "Foglalások száma": "2"
                                },
                                {
                                    "Szobaszám": "137",
                                    "Foglalások száma": "2"
                                },
                                {
                                    "Szobaszám": "138",
                                    "Foglalások száma": "5"
                                },
                                {
                                    "Szobaszám": "139",
                                    "Foglalások száma": "6"
                                },
                                {
                                    "Szobaszám": "140",
                                    "Foglalások száma": "5"
                                },
                                {
                                    "Szobaszám": "141",
                                    "Foglalások száma": "4"
                                },
                                {
                                    "Szobaszám": "142",
                                    "Foglalások száma": "1"
                                },
                                {
                                    "Szobaszám": "143",
                                    "Foglalások száma": "5"
                                },
                                {
                                    "Szobaszám": "144",
                                    "Foglalások száma": "2"
                                },
                                {
                                    "Szobaszám": "145",
                                    "Foglalások száma": "2"
                                },
                                {
                                    "Szobaszám": "146",
                                    "Foglalások száma": "3"
                                },
                                {
                                    "Szobaszám": "147",
                                    "Foglalások száma": "1"
                                },
                                {
                                    "Szobaszám": "148",
                                    "Foglalások száma": "5"
                                },
                                {
                                    "Szobaszám": "149",
                                    "Foglalások száma": "5"
                                },
                                {
                                    "Szobaszám": "150",
                                    "Foglalások száma": "6"
                                },
                                {
                                    "Szobaszám": "151",
                                    "Foglalások száma": "2"
                                },
                                {
                                    "Szobaszám": "152",
                                    "Foglalások száma": "3"
                                },
                                {
                                    "Szobaszám": "153",
                                    "Foglalások száma": "4"
                                },
                                {
                                    "Szobaszám": "154",
                                    "Foglalások száma": "3"
                                },
                                {
                                    "Szobaszám": "155",
                                    "Foglalások száma": "3"
                                },
                                {
                                    "Szobaszám": "156",
                                    "Foglalások száma": "2"
                                },
                                {
                                    "Szobaszám": "157",
                                    "Foglalások száma": "2"
                                },
                                {
                                    "Szobaszám": "158",
                                    "Foglalások száma": "3"
                                },
                                {
                                    "Szobaszám": "160",
                                    "Foglalások száma": "2"
                                },
                                {
                                    "Szobaszám": "161",
                                    "Foglalások száma": "3"
                                },
                                {
                                    "Szobaszám": "162",
                                    "Foglalások száma": "2"
                                },
                                {
                                    "Szobaszám": "163",
                                    "Foglalások száma": "5"
                                },
                                {
                                    "Szobaszám": "164",
                                    "Foglalások száma": "4"
                                },
                                {
                                    "Szobaszám": "165",
                                    "Foglalások száma": "5"
                                },
                                {
                                    "Szobaszám": "166",
                                    "Foglalások száma": "3"
                                },
                                {
                                    "Szobaszám": "167",
                                    "Foglalások száma": "2"
                                },
                                {
                                    "Szobaszám": "168",
                                    "Foglalások száma": "1"
                                },
                                {
                                    "Szobaszám": "169",
                                    "Foglalások száma": "3"
                                },
                                {
                                    "Szobaszám": "170",
                                    "Foglalások száma": "3"
                                },
                                {
                                    "Szobaszám": "171",
                                    "Foglalások száma": "5"
                                },
                                {
                                    "Szobaszám": "172",
                                    "Foglalások száma": "6"
                                },
                                {
                                    "Szobaszám": "173",
                                    "Foglalások száma": "3"
                                },
                                {
                                    "Szobaszám": "174",
                                    "Foglalások száma": "4"
                                },
                                {
                                    "Szobaszám": "175",
                                    "Foglalások száma": "3"
                                },
                                {
                                    "Szobaszám": "176",
                                    "Foglalások száma": "2"
                                },
                                {
                                    "Szobaszám": "177",
                                    "Foglalások száma": "1"
                                },
                                {
                                    "Szobaszám": "178",
                                    "Foglalások száma": "1"
                                },
                                {
                                    "Szobaszám": "179",
                                    "Foglalások száma": "2"
                                },
                                {
                                    "Szobaszám": "180",
                                    "Foglalások száma": "1"
                                },
                                {
                                    "Szobaszám": "181",
                                    "Foglalások száma": "5"
                                },
                                {
                                    "Szobaszám": "182",
                                    "Foglalások száma": "11"
                                },
                                {
                                    "Szobaszám": "183",
                                    "Foglalások száma": "3"
                                },
                                {
                                    "Szobaszám": "184",
                                    "Foglalások száma": "4"
                                },
                                {
                                    "Szobaszám": "185",
                                    "Foglalások száma": "10"
                                },
                                {
                                    "Szobaszám": "186",
                                    "Foglalások száma": "1"
                                },
                                {
                                    "Szobaszám": "187",
                                    "Foglalások száma": "6"
                                },
                                {
                                    "Szobaszám": "188",
                                    "Foglalások száma": "2"
                                },
                                {
                                    "Szobaszám": "189",
                                    "Foglalások száma": "1"
                                },
                                {
                                    "Szobaszám": "190",
                                    "Foglalások száma": "5"
                                },
                                {
                                    "Szobaszám": "191",
                                    "Foglalások száma": "3"
                                },
                                {
                                    "Szobaszám": "192",
                                    "Foglalások száma": "1"
                                },
                                {
                                    "Szobaszám": "193",
                                    "Foglalások száma": "2"
                                },
                                {
                                    "Szobaszám": "194",
                                    "Foglalások száma": "1"
                                },
                                {
                                    "Szobaszám": "195",
                                    "Foglalások száma": "5"
                                },
                                {
                                    "Szobaszám": "196",
                                    "Foglalások száma": "2"
                                },
                                {
                                    "Szobaszám": "197",
                                    "Foglalások száma": "6"
                                },
                                {
                                    "Szobaszám": "198",
                                    "Foglalások száma": "7"
                                },
                                {
                                    "Szobaszám": "Végösszeg",
                                    "Foglalások száma": "668"
                                }
                            ]
                        },
                        "text/html": "<table><tr><th>Szobaszám</th><th>Foglalások száma</th></tr><tr><td>1</td><td>7</td></tr><tr><td>2</td><td>2</td></tr><tr><td>3</td><td>3</td></tr><tr><td>4</td><td>5</td></tr><tr><td>5</td><td>2</td></tr><tr><td>6</td><td>5</td></tr><tr><td>7</td><td>6</td></tr><tr><td>8</td><td>5</td></tr><tr><td>9</td><td>4</td></tr><tr><td>10</td><td>4</td></tr><tr><td>11</td><td>4</td></tr><tr><td>12</td><td>7</td></tr><tr><td>13</td><td>4</td></tr><tr><td>14</td><td>3</td></tr><tr><td>15</td><td>4</td></tr><tr><td>16</td><td>1</td></tr><tr><td>17</td><td>2</td></tr><tr><td>18</td><td>3</td></tr><tr><td>19</td><td>4</td></tr><tr><td>20</td><td>5</td></tr><tr><td>21</td><td>1</td></tr><tr><td>22</td><td>2</td></tr><tr><td>23</td><td>3</td></tr><tr><td>24</td><td>3</td></tr><tr><td>25</td><td>1</td></tr><tr><td>27</td><td>5</td></tr><tr><td>28</td><td>5</td></tr><tr><td>29</td><td>3</td></tr><tr><td>30</td><td>2</td></tr><tr><td>31</td><td>1</td></tr><tr><td>32</td><td>1</td></tr><tr><td>33</td><td>3</td></tr><tr><td>34</td><td>3</td></tr><tr><td>35</td><td>6</td></tr><tr><td>36</td><td>4</td></tr><tr><td>37</td><td>2</td></tr><tr><td>38</td><td>5</td></tr><tr><td>39</td><td>4</td></tr><tr><td>40</td><td>3</td></tr><tr><td>41</td><td>1</td></tr><tr><td>42</td><td>5</td></tr><tr><td>43</td><td>4</td></tr><tr><td>44</td><td>6</td></tr><tr><td>45</td><td>4</td></tr><tr><td>46</td><td>3</td></tr><tr><td>47</td><td>2</td></tr><tr><td>48</td><td>6</td></tr><tr><td>49</td><td>5</td></tr><tr><td>50</td><td>3</td></tr><tr><td>51</td><td>3</td></tr><tr><td>52</td><td>5</td></tr><tr><td>54</td><td>4</td></tr><tr><td>55</td><td>3</td></tr><tr><td>56</td><td>1</td></tr><tr><td>57</td><td>3</td></tr><tr><td>58</td><td>8</td></tr><tr><td>59</td><td>4</td></tr><tr><td>60</td><td>1</td></tr><tr><td>61</td><td>4</td></tr><tr><td>62</td><td>3</td></tr><tr><td>63</td><td>3</td></tr><tr><td>64</td><td>5</td></tr><tr><td>66</td><td>3</td></tr><tr><td>67</td><td>2</td></tr><tr><td>69</td><td>2</td></tr><tr><td>70</td><td>8</td></tr><tr><td>71</td><td>2</td></tr><tr><td>72</td><td>2</td></tr><tr><td>73</td><td>4</td></tr><tr><td>74</td><td>8</td></tr><tr><td>75</td><td>2</td></tr><tr><td>76</td><td>2</td></tr><tr><td>77</td><td>3</td></tr><tr><td>78</td><td>3</td></tr><tr><td>79</td><td>4</td></tr><tr><td>80</td><td>5</td></tr><tr><td>81</td><td>3</td></tr><tr><td>82</td><td>5</td></tr><tr><td>83</td><td>5</td></tr><tr><td>84</td><td>3</td></tr><tr><td>85</td><td>2</td></tr><tr><td>86</td><td>4</td></tr><tr><td>87</td><td>5</td></tr><tr><td>88</td><td>5</td></tr><tr><td>89</td><td>8</td></tr><tr><td>90</td><td>3</td></tr><tr><td>91</td><td>2</td></tr><tr><td>92</td><td>5</td></tr><tr><td>93</td><td>3</td></tr><tr><td>94</td><td>6</td></tr><tr><td>95</td><td>3</td></tr><tr><td>96</td><td>6</td></tr><tr><td>97</td><td>5</td></tr><tr><td>98</td><td>4</td></tr><tr><td>99</td><td>4</td></tr><tr><td>100</td><td>2</td></tr><tr><td>101</td><td>1</td></tr><tr><td>102</td><td>1</td></tr><tr><td>103</td><td>1</td></tr><tr><td>104</td><td>3</td></tr><tr><td>106</td><td>4</td></tr><tr><td>107</td><td>4</td></tr><tr><td>108</td><td>1</td></tr><tr><td>109</td><td>2</td></tr><tr><td>110</td><td>5</td></tr><tr><td>111</td><td>1</td></tr><tr><td>112</td><td>4</td></tr><tr><td>113</td><td>2</td></tr><tr><td>114</td><td>1</td></tr><tr><td>115</td><td>5</td></tr><tr><td>117</td><td>4</td></tr><tr><td>118</td><td>2</td></tr><tr><td>119</td><td>4</td></tr><tr><td>120</td><td>2</td></tr><tr><td>121</td><td>5</td></tr><tr><td>122</td><td>3</td></tr><tr><td>123</td><td>5</td></tr><tr><td>124</td><td>4</td></tr><tr><td>126</td><td>4</td></tr><tr><td>127</td><td>5</td></tr><tr><td>129</td><td>3</td></tr><tr><td>130</td><td>5</td></tr><tr><td>131</td><td>4</td></tr><tr><td>132</td><td>4</td></tr><tr><td>133</td><td>4</td></tr><tr><td>134</td><td>4</td></tr><tr><td>135</td><td>3</td></tr><tr><td>136</td><td>2</td></tr><tr><td>137</td><td>2</td></tr><tr><td>138</td><td>5</td></tr><tr><td>139</td><td>6</td></tr><tr><td>140</td><td>5</td></tr><tr><td>141</td><td>4</td></tr><tr><td>142</td><td>1</td></tr><tr><td>143</td><td>5</td></tr><tr><td>144</td><td>2</td></tr><tr><td>145</td><td>2</td></tr><tr><td>146</td><td>3</td></tr><tr><td>147</td><td>1</td></tr><tr><td>148</td><td>5</td></tr><tr><td>149</td><td>5</td></tr><tr><td>150</td><td>6</td></tr><tr><td>151</td><td>2</td></tr><tr><td>152</td><td>3</td></tr><tr><td>153</td><td>4</td></tr><tr><td>154</td><td>3</td></tr><tr><td>155</td><td>3</td></tr><tr><td>156</td><td>2</td></tr><tr><td>157</td><td>2</td></tr><tr><td>158</td><td>3</td></tr><tr><td>160</td><td>2</td></tr><tr><td>161</td><td>3</td></tr><tr><td>162</td><td>2</td></tr><tr><td>163</td><td>5</td></tr><tr><td>164</td><td>4</td></tr><tr><td>165</td><td>5</td></tr><tr><td>166</td><td>3</td></tr><tr><td>167</td><td>2</td></tr><tr><td>168</td><td>1</td></tr><tr><td>169</td><td>3</td></tr><tr><td>170</td><td>3</td></tr><tr><td>171</td><td>5</td></tr><tr><td>172</td><td>6</td></tr><tr><td>173</td><td>3</td></tr><tr><td>174</td><td>4</td></tr><tr><td>175</td><td>3</td></tr><tr><td>176</td><td>2</td></tr><tr><td>177</td><td>1</td></tr><tr><td>178</td><td>1</td></tr><tr><td>179</td><td>2</td></tr><tr><td>180</td><td>1</td></tr><tr><td>181</td><td>5</td></tr><tr><td>182</td><td>11</td></tr><tr><td>183</td><td>3</td></tr><tr><td>184</td><td>4</td></tr><tr><td>185</td><td>10</td></tr><tr><td>186</td><td>1</td></tr><tr><td>187</td><td>6</td></tr><tr><td>188</td><td>2</td></tr><tr><td>189</td><td>1</td></tr><tr><td>190</td><td>5</td></tr><tr><td>191</td><td>3</td></tr><tr><td>192</td><td>1</td></tr><tr><td>193</td><td>2</td></tr><tr><td>194</td><td>1</td></tr><tr><td>195</td><td>5</td></tr><tr><td>196</td><td>2</td></tr><tr><td>197</td><td>6</td></tr><tr><td>198</td><td>7</td></tr><tr><td>Végösszeg</td><td>668</td></tr></table>"
                    },
                    "metadata": {}
                }
            ],
            "execution_count": 3
        },
        {
            "cell_type": "code",
            "source": [
                "--2.\r\n",
                "select SZOBA_ID, \r\n",
                "    DENSE_RANK() over (PARTITION by count (FOGLALAS_PK)  , FEROHELY   order by count (FOGLALAS_PK) DESC, FEROHELY ASC ) as 'Helyezés',\r\n",
                "    FEROHELY, count(FOGLALAS_PK)\r\n",
                "from Szoba sz JOIN Foglalas f on sz.SZOBA_ID=f.SZOBA_FK\r\n",
                "group by SZOBA_ID, FEROHELY\r\n",
                "order by count(*) DESC, FEROHELY asc"
            ],
            "metadata": {
                "azdata_cell_guid": "fe0ca819-d631-4db2-8bff-5d20b45e3bd6",
                "language": "sql"
            },
            "outputs": [
                {
                    "output_type": "display_data",
                    "data": {
                        "text/html": "(197 rows affected)"
                    },
                    "metadata": {}
                },
                {
                    "output_type": "display_data",
                    "data": {
                        "text/html": "Total execution time: 00:00:00.058"
                    },
                    "metadata": {}
                },
                {
                    "output_type": "execute_result",
                    "execution_count": 21,
                    "data": {
                        "application/vnd.dataresource+json": {
                            "schema": {
                                "fields": [
                                    {
                                        "name": "SZOBA_ID"
                                    },
                                    {
                                        "name": "Helyezés"
                                    },
                                    {
                                        "name": "FEROHELY"
                                    },
                                    {
                                        "name": "(No column name)"
                                    }
                                ]
                            },
                            "data": [
                                {
                                    "SZOBA_ID": "58",
                                    "Helyezés": "1",
                                    "FEROHELY": "2",
                                    "(No column name)": "13"
                                },
                                {
                                    "SZOBA_ID": "182",
                                    "Helyezés": "1",
                                    "FEROHELY": "2",
                                    "(No column name)": "12"
                                },
                                {
                                    "SZOBA_ID": "185",
                                    "Helyezés": "1",
                                    "FEROHELY": "3",
                                    "(No column name)": "12"
                                },
                                {
                                    "SZOBA_ID": "70",
                                    "Helyezés": "1",
                                    "FEROHELY": "2",
                                    "(No column name)": "11"
                                },
                                {
                                    "SZOBA_ID": "94",
                                    "Helyezés": "1",
                                    "FEROHELY": "2",
                                    "(No column name)": "10"
                                },
                                {
                                    "SZOBA_ID": "172",
                                    "Helyezés": "1",
                                    "FEROHELY": "2",
                                    "(No column name)": "9"
                                },
                                {
                                    "SZOBA_ID": "12",
                                    "Helyezés": "1",
                                    "FEROHELY": "2",
                                    "(No column name)": "9"
                                },
                                {
                                    "SZOBA_ID": "35",
                                    "Helyezés": "1",
                                    "FEROHELY": "3",
                                    "(No column name)": "9"
                                },
                                {
                                    "SZOBA_ID": "48",
                                    "Helyezés": "1",
                                    "FEROHELY": "3",
                                    "(No column name)": "9"
                                },
                                {
                                    "SZOBA_ID": "74",
                                    "Helyezés": "1",
                                    "FEROHELY": "3",
                                    "(No column name)": "9"
                                },
                                {
                                    "SZOBA_ID": "122",
                                    "Helyezés": "1",
                                    "FEROHELY": "3",
                                    "(No column name)": "9"
                                },
                                {
                                    "SZOBA_ID": "55",
                                    "Helyezés": "1",
                                    "FEROHELY": "2",
                                    "(No column name)": "8"
                                },
                                {
                                    "SZOBA_ID": "38",
                                    "Helyezés": "1",
                                    "FEROHELY": "2",
                                    "(No column name)": "8"
                                },
                                {
                                    "SZOBA_ID": "110",
                                    "Helyezés": "1",
                                    "FEROHELY": "2",
                                    "(No column name)": "8"
                                },
                                {
                                    "SZOBA_ID": "121",
                                    "Helyezés": "1",
                                    "FEROHELY": "2",
                                    "(No column name)": "8"
                                },
                                {
                                    "SZOBA_ID": "140",
                                    "Helyezés": "1",
                                    "FEROHELY": "2",
                                    "(No column name)": "8"
                                },
                                {
                                    "SZOBA_ID": "117",
                                    "Helyezés": "1",
                                    "FEROHELY": "3",
                                    "(No column name)": "8"
                                },
                                {
                                    "SZOBA_ID": "83",
                                    "Helyezés": "1",
                                    "FEROHELY": "3",
                                    "(No column name)": "8"
                                },
                                {
                                    "SZOBA_ID": "88",
                                    "Helyezés": "1",
                                    "FEROHELY": "3",
                                    "(No column name)": "8"
                                },
                                {
                                    "SZOBA_ID": "89",
                                    "Helyezés": "1",
                                    "FEROHELY": "3",
                                    "(No column name)": "8"
                                },
                                {
                                    "SZOBA_ID": "43",
                                    "Helyezés": "1",
                                    "FEROHELY": "3",
                                    "(No column name)": "8"
                                },
                                {
                                    "SZOBA_ID": "1",
                                    "Helyezés": "1",
                                    "FEROHELY": "3",
                                    "(No column name)": "8"
                                },
                                {
                                    "SZOBA_ID": "3",
                                    "Helyezés": "1",
                                    "FEROHELY": "3",
                                    "(No column name)": "8"
                                },
                                {
                                    "SZOBA_ID": "198",
                                    "Helyezés": "1",
                                    "FEROHELY": "3",
                                    "(No column name)": "8"
                                },
                                {
                                    "SZOBA_ID": "59",
                                    "Helyezés": "1",
                                    "FEROHELY": "2",
                                    "(No column name)": "7"
                                },
                                {
                                    "SZOBA_ID": "39",
                                    "Helyezés": "1",
                                    "FEROHELY": "2",
                                    "(No column name)": "7"
                                },
                                {
                                    "SZOBA_ID": "80",
                                    "Helyezés": "1",
                                    "FEROHELY": "2",
                                    "(No column name)": "7"
                                },
                                {
                                    "SZOBA_ID": "127",
                                    "Helyezés": "1",
                                    "FEROHELY": "2",
                                    "(No column name)": "7"
                                },
                                {
                                    "SZOBA_ID": "109",
                                    "Helyezés": "1",
                                    "FEROHELY": "2",
                                    "(No column name)": "7"
                                },
                                {
                                    "SZOBA_ID": "118",
                                    "Helyezés": "1",
                                    "FEROHELY": "2",
                                    "(No column name)": "7"
                                },
                                {
                                    "SZOBA_ID": "139",
                                    "Helyezés": "1",
                                    "FEROHELY": "2",
                                    "(No column name)": "7"
                                },
                                {
                                    "SZOBA_ID": "149",
                                    "Helyezés": "1",
                                    "FEROHELY": "2",
                                    "(No column name)": "7"
                                },
                                {
                                    "SZOBA_ID": "156",
                                    "Helyezés": "1",
                                    "FEROHELY": "2",
                                    "(No column name)": "7"
                                },
                                {
                                    "SZOBA_ID": "165",
                                    "Helyezés": "1",
                                    "FEROHELY": "2",
                                    "(No column name)": "7"
                                },
                                {
                                    "SZOBA_ID": "163",
                                    "Helyezés": "1",
                                    "FEROHELY": "2",
                                    "(No column name)": "7"
                                },
                                {
                                    "SZOBA_ID": "187",
                                    "Helyezés": "1",
                                    "FEROHELY": "3",
                                    "(No column name)": "7"
                                },
                                {
                                    "SZOBA_ID": "193",
                                    "Helyezés": "1",
                                    "FEROHELY": "3",
                                    "(No column name)": "7"
                                },
                                {
                                    "SZOBA_ID": "138",
                                    "Helyezés": "1",
                                    "FEROHELY": "3",
                                    "(No column name)": "7"
                                },
                                {
                                    "SZOBA_ID": "143",
                                    "Helyezés": "1",
                                    "FEROHELY": "3",
                                    "(No column name)": "7"
                                },
                                {
                                    "SZOBA_ID": "115",
                                    "Helyezés": "1",
                                    "FEROHELY": "3",
                                    "(No column name)": "7"
                                },
                                {
                                    "SZOBA_ID": "96",
                                    "Helyezés": "1",
                                    "FEROHELY": "3",
                                    "(No column name)": "7"
                                },
                                {
                                    "SZOBA_ID": "97",
                                    "Helyezés": "1",
                                    "FEROHELY": "3",
                                    "(No column name)": "7"
                                },
                                {
                                    "SZOBA_ID": "49",
                                    "Helyezés": "1",
                                    "FEROHELY": "3",
                                    "(No column name)": "7"
                                },
                                {
                                    "SZOBA_ID": "27",
                                    "Helyezés": "1",
                                    "FEROHELY": "3",
                                    "(No column name)": "7"
                                },
                                {
                                    "SZOBA_ID": "4",
                                    "Helyezés": "1",
                                    "FEROHELY": "2",
                                    "(No column name)": "6"
                                },
                                {
                                    "SZOBA_ID": "15",
                                    "Helyezés": "1",
                                    "FEROHELY": "2",
                                    "(No column name)": "6"
                                },
                                {
                                    "SZOBA_ID": "7",
                                    "Helyezés": "1",
                                    "FEROHELY": "2",
                                    "(No column name)": "6"
                                },
                                {
                                    "SZOBA_ID": "19",
                                    "Helyezés": "1",
                                    "FEROHELY": "2",
                                    "(No column name)": "6"
                                },
                                {
                                    "SZOBA_ID": "33",
                                    "Helyezés": "1",
                                    "FEROHELY": "2",
                                    "(No column name)": "6"
                                },
                                {
                                    "SZOBA_ID": "28",
                                    "Helyezés": "1",
                                    "FEROHELY": "2",
                                    "(No column name)": "6"
                                },
                                {
                                    "SZOBA_ID": "29",
                                    "Helyezés": "1",
                                    "FEROHELY": "2",
                                    "(No column name)": "6"
                                },
                                {
                                    "SZOBA_ID": "64",
                                    "Helyezés": "1",
                                    "FEROHELY": "2",
                                    "(No column name)": "6"
                                },
                                {
                                    "SZOBA_ID": "67",
                                    "Helyezés": "1",
                                    "FEROHELY": "2",
                                    "(No column name)": "6"
                                },
                                {
                                    "SZOBA_ID": "42",
                                    "Helyezés": "1",
                                    "FEROHELY": "2",
                                    "(No column name)": "6"
                                },
                                {
                                    "SZOBA_ID": "78",
                                    "Helyezés": "1",
                                    "FEROHELY": "2",
                                    "(No column name)": "6"
                                },
                                {
                                    "SZOBA_ID": "106",
                                    "Helyezés": "1",
                                    "FEROHELY": "2",
                                    "(No column name)": "6"
                                },
                                {
                                    "SZOBA_ID": "126",
                                    "Helyezés": "1",
                                    "FEROHELY": "2",
                                    "(No column name)": "6"
                                },
                                {
                                    "SZOBA_ID": "130",
                                    "Helyezés": "1",
                                    "FEROHELY": "2",
                                    "(No column name)": "6"
                                },
                                {
                                    "SZOBA_ID": "141",
                                    "Helyezés": "1",
                                    "FEROHELY": "2",
                                    "(No column name)": "6"
                                },
                                {
                                    "SZOBA_ID": "137",
                                    "Helyezés": "1",
                                    "FEROHELY": "2",
                                    "(No column name)": "6"
                                },
                                {
                                    "SZOBA_ID": "145",
                                    "Helyezés": "1",
                                    "FEROHELY": "2",
                                    "(No column name)": "6"
                                },
                                {
                                    "SZOBA_ID": "148",
                                    "Helyezés": "1",
                                    "FEROHELY": "2",
                                    "(No column name)": "6"
                                },
                                {
                                    "SZOBA_ID": "161",
                                    "Helyezés": "1",
                                    "FEROHELY": "2",
                                    "(No column name)": "6"
                                },
                                {
                                    "SZOBA_ID": "150",
                                    "Helyezés": "1",
                                    "FEROHELY": "2",
                                    "(No column name)": "6"
                                },
                                {
                                    "SZOBA_ID": "169",
                                    "Helyezés": "1",
                                    "FEROHELY": "2",
                                    "(No column name)": "6"
                                },
                                {
                                    "SZOBA_ID": "195",
                                    "Helyezés": "1",
                                    "FEROHELY": "2",
                                    "(No column name)": "6"
                                },
                                {
                                    "SZOBA_ID": "197",
                                    "Helyezés": "1",
                                    "FEROHELY": "3",
                                    "(No column name)": "6"
                                },
                                {
                                    "SZOBA_ID": "188",
                                    "Helyezés": "1",
                                    "FEROHELY": "3",
                                    "(No column name)": "6"
                                },
                                {
                                    "SZOBA_ID": "176",
                                    "Helyezés": "1",
                                    "FEROHELY": "3",
                                    "(No column name)": "6"
                                },
                                {
                                    "SZOBA_ID": "181",
                                    "Helyezés": "1",
                                    "FEROHELY": "3",
                                    "(No column name)": "6"
                                },
                                {
                                    "SZOBA_ID": "146",
                                    "Helyezés": "1",
                                    "FEROHELY": "3",
                                    "(No column name)": "6"
                                },
                                {
                                    "SZOBA_ID": "132",
                                    "Helyezés": "1",
                                    "FEROHELY": "3",
                                    "(No column name)": "6"
                                },
                                {
                                    "SZOBA_ID": "133",
                                    "Helyezés": "1",
                                    "FEROHELY": "3",
                                    "(No column name)": "6"
                                },
                                {
                                    "SZOBA_ID": "134",
                                    "Helyezés": "1",
                                    "FEROHELY": "3",
                                    "(No column name)": "6"
                                },
                                {
                                    "SZOBA_ID": "124",
                                    "Helyezés": "1",
                                    "FEROHELY": "3",
                                    "(No column name)": "6"
                                },
                                {
                                    "SZOBA_ID": "120",
                                    "Helyezés": "1",
                                    "FEROHELY": "3",
                                    "(No column name)": "6"
                                },
                                {
                                    "SZOBA_ID": "92",
                                    "Helyezés": "1",
                                    "FEROHELY": "3",
                                    "(No column name)": "6"
                                },
                                {
                                    "SZOBA_ID": "82",
                                    "Helyezés": "1",
                                    "FEROHELY": "3",
                                    "(No column name)": "6"
                                },
                                {
                                    "SZOBA_ID": "77",
                                    "Helyezés": "1",
                                    "FEROHELY": "3",
                                    "(No column name)": "6"
                                },
                                {
                                    "SZOBA_ID": "36",
                                    "Helyezés": "1",
                                    "FEROHELY": "3",
                                    "(No column name)": "6"
                                },
                                {
                                    "SZOBA_ID": "44",
                                    "Helyezés": "1",
                                    "FEROHELY": "3",
                                    "(No column name)": "6"
                                },
                                {
                                    "SZOBA_ID": "54",
                                    "Helyezés": "1",
                                    "FEROHELY": "3",
                                    "(No column name)": "6"
                                },
                                {
                                    "SZOBA_ID": "22",
                                    "Helyezés": "1",
                                    "FEROHELY": "3",
                                    "(No column name)": "6"
                                },
                                {
                                    "SZOBA_ID": "17",
                                    "Helyezés": "1",
                                    "FEROHELY": "3",
                                    "(No column name)": "6"
                                },
                                {
                                    "SZOBA_ID": "18",
                                    "Helyezés": "1",
                                    "FEROHELY": "3",
                                    "(No column name)": "6"
                                },
                                {
                                    "SZOBA_ID": "9",
                                    "Helyezés": "1",
                                    "FEROHELY": "3",
                                    "(No column name)": "6"
                                },
                                {
                                    "SZOBA_ID": "6",
                                    "Helyezés": "1",
                                    "FEROHELY": "3",
                                    "(No column name)": "6"
                                },
                                {
                                    "SZOBA_ID": "62",
                                    "Helyezés": "1",
                                    "FEROHELY": "2",
                                    "(No column name)": "5"
                                },
                                {
                                    "SZOBA_ID": "52",
                                    "Helyezés": "1",
                                    "FEROHELY": "2",
                                    "(No column name)": "5"
                                },
                                {
                                    "SZOBA_ID": "45",
                                    "Helyezés": "1",
                                    "FEROHELY": "2",
                                    "(No column name)": "5"
                                },
                                {
                                    "SZOBA_ID": "81",
                                    "Helyezés": "1",
                                    "FEROHELY": "2",
                                    "(No column name)": "5"
                                },
                                {
                                    "SZOBA_ID": "86",
                                    "Helyezés": "1",
                                    "FEROHELY": "2",
                                    "(No column name)": "5"
                                },
                                {
                                    "SZOBA_ID": "107",
                                    "Helyezés": "1",
                                    "FEROHELY": "2",
                                    "(No column name)": "5"
                                },
                                {
                                    "SZOBA_ID": "99",
                                    "Helyezés": "1",
                                    "FEROHELY": "2",
                                    "(No column name)": "5"
                                },
                                {
                                    "SZOBA_ID": "111",
                                    "Helyezés": "1",
                                    "FEROHELY": "2",
                                    "(No column name)": "5"
                                },
                                {
                                    "SZOBA_ID": "119",
                                    "Helyezés": "1",
                                    "FEROHELY": "2",
                                    "(No column name)": "5"
                                },
                                {
                                    "SZOBA_ID": "128",
                                    "Helyezés": "1",
                                    "FEROHELY": "2",
                                    "(No column name)": "5"
                                },
                                {
                                    "SZOBA_ID": "131",
                                    "Helyezés": "1",
                                    "FEROHELY": "2",
                                    "(No column name)": "5"
                                },
                                {
                                    "SZOBA_ID": "175",
                                    "Helyezés": "1",
                                    "FEROHELY": "2",
                                    "(No column name)": "5"
                                },
                                {
                                    "SZOBA_ID": "168",
                                    "Helyezés": "1",
                                    "FEROHELY": "2",
                                    "(No column name)": "5"
                                },
                                {
                                    "SZOBA_ID": "170",
                                    "Helyezés": "1",
                                    "FEROHELY": "2",
                                    "(No column name)": "5"
                                },
                                {
                                    "SZOBA_ID": "171",
                                    "Helyezés": "1",
                                    "FEROHELY": "2",
                                    "(No column name)": "5"
                                },
                                {
                                    "SZOBA_ID": "154",
                                    "Helyezés": "1",
                                    "FEROHELY": "2",
                                    "(No column name)": "5"
                                },
                                {
                                    "SZOBA_ID": "164",
                                    "Helyezés": "1",
                                    "FEROHELY": "2",
                                    "(No column name)": "5"
                                },
                                {
                                    "SZOBA_ID": "157",
                                    "Helyezés": "1",
                                    "FEROHELY": "2",
                                    "(No column name)": "5"
                                },
                                {
                                    "SZOBA_ID": "189",
                                    "Helyezés": "1",
                                    "FEROHELY": "2",
                                    "(No column name)": "5"
                                },
                                {
                                    "SZOBA_ID": "190",
                                    "Helyezés": "1",
                                    "FEROHELY": "2",
                                    "(No column name)": "5"
                                },
                                {
                                    "SZOBA_ID": "191",
                                    "Helyezés": "1",
                                    "FEROHELY": "2",
                                    "(No column name)": "5"
                                },
                                {
                                    "SZOBA_ID": "160",
                                    "Helyezés": "1",
                                    "FEROHELY": "3",
                                    "(No column name)": "5"
                                },
                                {
                                    "SZOBA_ID": "155",
                                    "Helyezés": "1",
                                    "FEROHELY": "3",
                                    "(No column name)": "5"
                                },
                                {
                                    "SZOBA_ID": "153",
                                    "Helyezés": "1",
                                    "FEROHELY": "3",
                                    "(No column name)": "5"
                                },
                                {
                                    "SZOBA_ID": "144",
                                    "Helyezés": "1",
                                    "FEROHELY": "3",
                                    "(No column name)": "5"
                                },
                                {
                                    "SZOBA_ID": "123",
                                    "Helyezés": "1",
                                    "FEROHELY": "3",
                                    "(No column name)": "5"
                                },
                                {
                                    "SZOBA_ID": "112",
                                    "Helyezés": "1",
                                    "FEROHELY": "3",
                                    "(No column name)": "5"
                                },
                                {
                                    "SZOBA_ID": "113",
                                    "Helyezés": "1",
                                    "FEROHELY": "3",
                                    "(No column name)": "5"
                                },
                                {
                                    "SZOBA_ID": "93",
                                    "Helyezés": "1",
                                    "FEROHELY": "3",
                                    "(No column name)": "5"
                                },
                                {
                                    "SZOBA_ID": "87",
                                    "Helyezés": "1",
                                    "FEROHELY": "3",
                                    "(No column name)": "5"
                                },
                                {
                                    "SZOBA_ID": "79",
                                    "Helyezés": "1",
                                    "FEROHELY": "3",
                                    "(No column name)": "5"
                                },
                                {
                                    "SZOBA_ID": "51",
                                    "Helyezés": "1",
                                    "FEROHELY": "3",
                                    "(No column name)": "5"
                                },
                                {
                                    "SZOBA_ID": "61",
                                    "Helyezés": "1",
                                    "FEROHELY": "3",
                                    "(No column name)": "5"
                                },
                                {
                                    "SZOBA_ID": "20",
                                    "Helyezés": "1",
                                    "FEROHELY": "3",
                                    "(No column name)": "5"
                                },
                                {
                                    "SZOBA_ID": "16",
                                    "Helyezés": "1",
                                    "FEROHELY": "3",
                                    "(No column name)": "5"
                                },
                                {
                                    "SZOBA_ID": "8",
                                    "Helyezés": "1",
                                    "FEROHELY": "3",
                                    "(No column name)": "5"
                                },
                                {
                                    "SZOBA_ID": "21",
                                    "Helyezés": "1",
                                    "FEROHELY": "2",
                                    "(No column name)": "4"
                                },
                                {
                                    "SZOBA_ID": "11",
                                    "Helyezés": "1",
                                    "FEROHELY": "2",
                                    "(No column name)": "4"
                                },
                                {
                                    "SZOBA_ID": "5",
                                    "Helyezés": "1",
                                    "FEROHELY": "2",
                                    "(No column name)": "4"
                                },
                                {
                                    "SZOBA_ID": "63",
                                    "Helyezés": "1",
                                    "FEROHELY": "2",
                                    "(No column name)": "4"
                                },
                                {
                                    "SZOBA_ID": "57",
                                    "Helyezés": "1",
                                    "FEROHELY": "2",
                                    "(No column name)": "4"
                                },
                                {
                                    "SZOBA_ID": "50",
                                    "Helyezés": "1",
                                    "FEROHELY": "2",
                                    "(No column name)": "4"
                                },
                                {
                                    "SZOBA_ID": "129",
                                    "Helyezés": "1",
                                    "FEROHELY": "2",
                                    "(No column name)": "4"
                                },
                                {
                                    "SZOBA_ID": "114",
                                    "Helyezés": "1",
                                    "FEROHELY": "2",
                                    "(No column name)": "4"
                                },
                                {
                                    "SZOBA_ID": "72",
                                    "Helyezés": "1",
                                    "FEROHELY": "2",
                                    "(No column name)": "4"
                                },
                                {
                                    "SZOBA_ID": "73",
                                    "Helyezés": "1",
                                    "FEROHELY": "2",
                                    "(No column name)": "4"
                                },
                                {
                                    "SZOBA_ID": "85",
                                    "Helyezés": "1",
                                    "FEROHELY": "2",
                                    "(No column name)": "4"
                                },
                                {
                                    "SZOBA_ID": "103",
                                    "Helyezés": "1",
                                    "FEROHELY": "2",
                                    "(No column name)": "4"
                                },
                                {
                                    "SZOBA_ID": "100",
                                    "Helyezés": "1",
                                    "FEROHELY": "2",
                                    "(No column name)": "4"
                                },
                                {
                                    "SZOBA_ID": "91",
                                    "Helyezés": "1",
                                    "FEROHELY": "2",
                                    "(No column name)": "4"
                                },
                                {
                                    "SZOBA_ID": "98",
                                    "Helyezés": "1",
                                    "FEROHELY": "2",
                                    "(No column name)": "4"
                                },
                                {
                                    "SZOBA_ID": "184",
                                    "Helyezés": "1",
                                    "FEROHELY": "2",
                                    "(No column name)": "4"
                                },
                                {
                                    "SZOBA_ID": "173",
                                    "Helyezés": "1",
                                    "FEROHELY": "2",
                                    "(No column name)": "4"
                                },
                                {
                                    "SZOBA_ID": "174",
                                    "Helyezés": "1",
                                    "FEROHELY": "2",
                                    "(No column name)": "4"
                                },
                                {
                                    "SZOBA_ID": "152",
                                    "Helyezés": "1",
                                    "FEROHELY": "2",
                                    "(No column name)": "4"
                                },
                                {
                                    "SZOBA_ID": "186",
                                    "Helyezés": "1",
                                    "FEROHELY": "2",
                                    "(No column name)": "4"
                                },
                                {
                                    "SZOBA_ID": "196",
                                    "Helyezés": "1",
                                    "FEROHELY": "2",
                                    "(No column name)": "4"
                                },
                                {
                                    "SZOBA_ID": "183",
                                    "Helyezés": "1",
                                    "FEROHELY": "3",
                                    "(No column name)": "4"
                                },
                                {
                                    "SZOBA_ID": "177",
                                    "Helyezés": "1",
                                    "FEROHELY": "3",
                                    "(No column name)": "4"
                                },
                                {
                                    "SZOBA_ID": "178",
                                    "Helyezés": "1",
                                    "FEROHELY": "3",
                                    "(No column name)": "4"
                                },
                                {
                                    "SZOBA_ID": "95",
                                    "Helyezés": "1",
                                    "FEROHELY": "3",
                                    "(No column name)": "4"
                                },
                                {
                                    "SZOBA_ID": "90",
                                    "Helyezés": "1",
                                    "FEROHELY": "3",
                                    "(No column name)": "4"
                                },
                                {
                                    "SZOBA_ID": "104",
                                    "Helyezés": "1",
                                    "FEROHELY": "3",
                                    "(No column name)": "4"
                                },
                                {
                                    "SZOBA_ID": "84",
                                    "Helyezés": "1",
                                    "FEROHELY": "3",
                                    "(No column name)": "4"
                                },
                                {
                                    "SZOBA_ID": "40",
                                    "Helyezés": "1",
                                    "FEROHELY": "3",
                                    "(No column name)": "4"
                                },
                                {
                                    "SZOBA_ID": "46",
                                    "Helyezés": "1",
                                    "FEROHELY": "3",
                                    "(No column name)": "4"
                                },
                                {
                                    "SZOBA_ID": "34",
                                    "Helyezés": "1",
                                    "FEROHELY": "3",
                                    "(No column name)": "4"
                                },
                                {
                                    "SZOBA_ID": "69",
                                    "Helyezés": "1",
                                    "FEROHELY": "3",
                                    "(No column name)": "4"
                                },
                                {
                                    "SZOBA_ID": "66",
                                    "Helyezés": "1",
                                    "FEROHELY": "3",
                                    "(No column name)": "4"
                                },
                                {
                                    "SZOBA_ID": "2",
                                    "Helyezés": "1",
                                    "FEROHELY": "3",
                                    "(No column name)": "4"
                                },
                                {
                                    "SZOBA_ID": "10",
                                    "Helyezés": "1",
                                    "FEROHELY": "3",
                                    "(No column name)": "4"
                                },
                                {
                                    "SZOBA_ID": "13",
                                    "Helyezés": "1",
                                    "FEROHELY": "3",
                                    "(No column name)": "4"
                                },
                                {
                                    "SZOBA_ID": "37",
                                    "Helyezés": "1",
                                    "FEROHELY": "2",
                                    "(No column name)": "3"
                                },
                                {
                                    "SZOBA_ID": "68",
                                    "Helyezés": "1",
                                    "FEROHELY": "2",
                                    "(No column name)": "3"
                                },
                                {
                                    "SZOBA_ID": "23",
                                    "Helyezés": "1",
                                    "FEROHELY": "2",
                                    "(No column name)": "3"
                                },
                                {
                                    "SZOBA_ID": "136",
                                    "Helyezés": "1",
                                    "FEROHELY": "2",
                                    "(No column name)": "3"
                                },
                                {
                                    "SZOBA_ID": "101",
                                    "Helyezés": "1",
                                    "FEROHELY": "2",
                                    "(No column name)": "3"
                                },
                                {
                                    "SZOBA_ID": "75",
                                    "Helyezés": "1",
                                    "FEROHELY": "2",
                                    "(No column name)": "3"
                                },
                                {
                                    "SZOBA_ID": "76",
                                    "Helyezés": "1",
                                    "FEROHELY": "2",
                                    "(No column name)": "3"
                                },
                                {
                                    "SZOBA_ID": "166",
                                    "Helyezés": "1",
                                    "FEROHELY": "2",
                                    "(No column name)": "3"
                                },
                                {
                                    "SZOBA_ID": "180",
                                    "Helyezés": "1",
                                    "FEROHELY": "2",
                                    "(No column name)": "3"
                                },
                                {
                                    "SZOBA_ID": "151",
                                    "Helyezés": "1",
                                    "FEROHELY": "2",
                                    "(No column name)": "3"
                                },
                                {
                                    "SZOBA_ID": "158",
                                    "Helyezés": "1",
                                    "FEROHELY": "2",
                                    "(No column name)": "3"
                                },
                                {
                                    "SZOBA_ID": "162",
                                    "Helyezés": "1",
                                    "FEROHELY": "3",
                                    "(No column name)": "3"
                                },
                                {
                                    "SZOBA_ID": "179",
                                    "Helyezés": "1",
                                    "FEROHELY": "3",
                                    "(No column name)": "3"
                                },
                                {
                                    "SZOBA_ID": "71",
                                    "Helyezés": "1",
                                    "FEROHELY": "3",
                                    "(No column name)": "3"
                                },
                                {
                                    "SZOBA_ID": "135",
                                    "Helyezés": "1",
                                    "FEROHELY": "3",
                                    "(No column name)": "3"
                                },
                                {
                                    "SZOBA_ID": "30",
                                    "Helyezés": "1",
                                    "FEROHELY": "3",
                                    "(No column name)": "3"
                                },
                                {
                                    "SZOBA_ID": "31",
                                    "Helyezés": "1",
                                    "FEROHELY": "3",
                                    "(No column name)": "3"
                                },
                                {
                                    "SZOBA_ID": "14",
                                    "Helyezés": "1",
                                    "FEROHELY": "3",
                                    "(No column name)": "3"
                                },
                                {
                                    "SZOBA_ID": "24",
                                    "Helyezés": "1",
                                    "FEROHELY": "4",
                                    "(No column name)": "3"
                                },
                                {
                                    "SZOBA_ID": "56",
                                    "Helyezés": "1",
                                    "FEROHELY": "2",
                                    "(No column name)": "2"
                                },
                                {
                                    "SZOBA_ID": "53",
                                    "Helyezés": "1",
                                    "FEROHELY": "2",
                                    "(No column name)": "2"
                                },
                                {
                                    "SZOBA_ID": "47",
                                    "Helyezés": "1",
                                    "FEROHELY": "2",
                                    "(No column name)": "2"
                                },
                                {
                                    "SZOBA_ID": "26",
                                    "Helyezés": "1",
                                    "FEROHELY": "2",
                                    "(No column name)": "2"
                                },
                                {
                                    "SZOBA_ID": "108",
                                    "Helyezés": "1",
                                    "FEROHELY": "2",
                                    "(No column name)": "2"
                                },
                                {
                                    "SZOBA_ID": "102",
                                    "Helyezés": "1",
                                    "FEROHELY": "2",
                                    "(No column name)": "2"
                                },
                                {
                                    "SZOBA_ID": "105",
                                    "Helyezés": "1",
                                    "FEROHELY": "2",
                                    "(No column name)": "2"
                                },
                                {
                                    "SZOBA_ID": "192",
                                    "Helyezés": "1",
                                    "FEROHELY": "2",
                                    "(No column name)": "2"
                                },
                                {
                                    "SZOBA_ID": "167",
                                    "Helyezés": "1",
                                    "FEROHELY": "3",
                                    "(No column name)": "2"
                                },
                                {
                                    "SZOBA_ID": "116",
                                    "Helyezés": "1",
                                    "FEROHELY": "3",
                                    "(No column name)": "2"
                                },
                                {
                                    "SZOBA_ID": "142",
                                    "Helyezés": "1",
                                    "FEROHELY": "3",
                                    "(No column name)": "2"
                                },
                                {
                                    "SZOBA_ID": "25",
                                    "Helyezés": "1",
                                    "FEROHELY": "3",
                                    "(No column name)": "2"
                                },
                                {
                                    "SZOBA_ID": "41",
                                    "Helyezés": "1",
                                    "FEROHELY": "3",
                                    "(No column name)": "2"
                                },
                                {
                                    "SZOBA_ID": "32",
                                    "Helyezés": "1",
                                    "FEROHELY": "2",
                                    "(No column name)": "1"
                                },
                                {
                                    "SZOBA_ID": "65",
                                    "Helyezés": "1",
                                    "FEROHELY": "2",
                                    "(No column name)": "1"
                                },
                                {
                                    "SZOBA_ID": "125",
                                    "Helyezés": "1",
                                    "FEROHELY": "2",
                                    "(No column name)": "1"
                                },
                                {
                                    "SZOBA_ID": "147",
                                    "Helyezés": "1",
                                    "FEROHELY": "2",
                                    "(No column name)": "1"
                                },
                                {
                                    "SZOBA_ID": "194",
                                    "Helyezés": "1",
                                    "FEROHELY": "2",
                                    "(No column name)": "1"
                                },
                                {
                                    "SZOBA_ID": "60",
                                    "Helyezés": "1",
                                    "FEROHELY": "3",
                                    "(No column name)": "1"
                                }
                            ]
                        },
                        "text/html": "<table><tr><th>SZOBA_ID</th><th>Helyezés</th><th>FEROHELY</th><th>(No column name)</th></tr><tr><td>58</td><td>1</td><td>2</td><td>13</td></tr><tr><td>182</td><td>1</td><td>2</td><td>12</td></tr><tr><td>185</td><td>1</td><td>3</td><td>12</td></tr><tr><td>70</td><td>1</td><td>2</td><td>11</td></tr><tr><td>94</td><td>1</td><td>2</td><td>10</td></tr><tr><td>172</td><td>1</td><td>2</td><td>9</td></tr><tr><td>12</td><td>1</td><td>2</td><td>9</td></tr><tr><td>35</td><td>1</td><td>3</td><td>9</td></tr><tr><td>48</td><td>1</td><td>3</td><td>9</td></tr><tr><td>74</td><td>1</td><td>3</td><td>9</td></tr><tr><td>122</td><td>1</td><td>3</td><td>9</td></tr><tr><td>55</td><td>1</td><td>2</td><td>8</td></tr><tr><td>38</td><td>1</td><td>2</td><td>8</td></tr><tr><td>110</td><td>1</td><td>2</td><td>8</td></tr><tr><td>121</td><td>1</td><td>2</td><td>8</td></tr><tr><td>140</td><td>1</td><td>2</td><td>8</td></tr><tr><td>117</td><td>1</td><td>3</td><td>8</td></tr><tr><td>83</td><td>1</td><td>3</td><td>8</td></tr><tr><td>88</td><td>1</td><td>3</td><td>8</td></tr><tr><td>89</td><td>1</td><td>3</td><td>8</td></tr><tr><td>43</td><td>1</td><td>3</td><td>8</td></tr><tr><td>1</td><td>1</td><td>3</td><td>8</td></tr><tr><td>3</td><td>1</td><td>3</td><td>8</td></tr><tr><td>198</td><td>1</td><td>3</td><td>8</td></tr><tr><td>59</td><td>1</td><td>2</td><td>7</td></tr><tr><td>39</td><td>1</td><td>2</td><td>7</td></tr><tr><td>80</td><td>1</td><td>2</td><td>7</td></tr><tr><td>127</td><td>1</td><td>2</td><td>7</td></tr><tr><td>109</td><td>1</td><td>2</td><td>7</td></tr><tr><td>118</td><td>1</td><td>2</td><td>7</td></tr><tr><td>139</td><td>1</td><td>2</td><td>7</td></tr><tr><td>149</td><td>1</td><td>2</td><td>7</td></tr><tr><td>156</td><td>1</td><td>2</td><td>7</td></tr><tr><td>165</td><td>1</td><td>2</td><td>7</td></tr><tr><td>163</td><td>1</td><td>2</td><td>7</td></tr><tr><td>187</td><td>1</td><td>3</td><td>7</td></tr><tr><td>193</td><td>1</td><td>3</td><td>7</td></tr><tr><td>138</td><td>1</td><td>3</td><td>7</td></tr><tr><td>143</td><td>1</td><td>3</td><td>7</td></tr><tr><td>115</td><td>1</td><td>3</td><td>7</td></tr><tr><td>96</td><td>1</td><td>3</td><td>7</td></tr><tr><td>97</td><td>1</td><td>3</td><td>7</td></tr><tr><td>49</td><td>1</td><td>3</td><td>7</td></tr><tr><td>27</td><td>1</td><td>3</td><td>7</td></tr><tr><td>4</td><td>1</td><td>2</td><td>6</td></tr><tr><td>15</td><td>1</td><td>2</td><td>6</td></tr><tr><td>7</td><td>1</td><td>2</td><td>6</td></tr><tr><td>19</td><td>1</td><td>2</td><td>6</td></tr><tr><td>33</td><td>1</td><td>2</td><td>6</td></tr><tr><td>28</td><td>1</td><td>2</td><td>6</td></tr><tr><td>29</td><td>1</td><td>2</td><td>6</td></tr><tr><td>64</td><td>1</td><td>2</td><td>6</td></tr><tr><td>67</td><td>1</td><td>2</td><td>6</td></tr><tr><td>42</td><td>1</td><td>2</td><td>6</td></tr><tr><td>78</td><td>1</td><td>2</td><td>6</td></tr><tr><td>106</td><td>1</td><td>2</td><td>6</td></tr><tr><td>126</td><td>1</td><td>2</td><td>6</td></tr><tr><td>130</td><td>1</td><td>2</td><td>6</td></tr><tr><td>141</td><td>1</td><td>2</td><td>6</td></tr><tr><td>137</td><td>1</td><td>2</td><td>6</td></tr><tr><td>145</td><td>1</td><td>2</td><td>6</td></tr><tr><td>148</td><td>1</td><td>2</td><td>6</td></tr><tr><td>161</td><td>1</td><td>2</td><td>6</td></tr><tr><td>150</td><td>1</td><td>2</td><td>6</td></tr><tr><td>169</td><td>1</td><td>2</td><td>6</td></tr><tr><td>195</td><td>1</td><td>2</td><td>6</td></tr><tr><td>197</td><td>1</td><td>3</td><td>6</td></tr><tr><td>188</td><td>1</td><td>3</td><td>6</td></tr><tr><td>176</td><td>1</td><td>3</td><td>6</td></tr><tr><td>181</td><td>1</td><td>3</td><td>6</td></tr><tr><td>146</td><td>1</td><td>3</td><td>6</td></tr><tr><td>132</td><td>1</td><td>3</td><td>6</td></tr><tr><td>133</td><td>1</td><td>3</td><td>6</td></tr><tr><td>134</td><td>1</td><td>3</td><td>6</td></tr><tr><td>124</td><td>1</td><td>3</td><td>6</td></tr><tr><td>120</td><td>1</td><td>3</td><td>6</td></tr><tr><td>92</td><td>1</td><td>3</td><td>6</td></tr><tr><td>82</td><td>1</td><td>3</td><td>6</td></tr><tr><td>77</td><td>1</td><td>3</td><td>6</td></tr><tr><td>36</td><td>1</td><td>3</td><td>6</td></tr><tr><td>44</td><td>1</td><td>3</td><td>6</td></tr><tr><td>54</td><td>1</td><td>3</td><td>6</td></tr><tr><td>22</td><td>1</td><td>3</td><td>6</td></tr><tr><td>17</td><td>1</td><td>3</td><td>6</td></tr><tr><td>18</td><td>1</td><td>3</td><td>6</td></tr><tr><td>9</td><td>1</td><td>3</td><td>6</td></tr><tr><td>6</td><td>1</td><td>3</td><td>6</td></tr><tr><td>62</td><td>1</td><td>2</td><td>5</td></tr><tr><td>52</td><td>1</td><td>2</td><td>5</td></tr><tr><td>45</td><td>1</td><td>2</td><td>5</td></tr><tr><td>81</td><td>1</td><td>2</td><td>5</td></tr><tr><td>86</td><td>1</td><td>2</td><td>5</td></tr><tr><td>107</td><td>1</td><td>2</td><td>5</td></tr><tr><td>99</td><td>1</td><td>2</td><td>5</td></tr><tr><td>111</td><td>1</td><td>2</td><td>5</td></tr><tr><td>119</td><td>1</td><td>2</td><td>5</td></tr><tr><td>128</td><td>1</td><td>2</td><td>5</td></tr><tr><td>131</td><td>1</td><td>2</td><td>5</td></tr><tr><td>175</td><td>1</td><td>2</td><td>5</td></tr><tr><td>168</td><td>1</td><td>2</td><td>5</td></tr><tr><td>170</td><td>1</td><td>2</td><td>5</td></tr><tr><td>171</td><td>1</td><td>2</td><td>5</td></tr><tr><td>154</td><td>1</td><td>2</td><td>5</td></tr><tr><td>164</td><td>1</td><td>2</td><td>5</td></tr><tr><td>157</td><td>1</td><td>2</td><td>5</td></tr><tr><td>189</td><td>1</td><td>2</td><td>5</td></tr><tr><td>190</td><td>1</td><td>2</td><td>5</td></tr><tr><td>191</td><td>1</td><td>2</td><td>5</td></tr><tr><td>160</td><td>1</td><td>3</td><td>5</td></tr><tr><td>155</td><td>1</td><td>3</td><td>5</td></tr><tr><td>153</td><td>1</td><td>3</td><td>5</td></tr><tr><td>144</td><td>1</td><td>3</td><td>5</td></tr><tr><td>123</td><td>1</td><td>3</td><td>5</td></tr><tr><td>112</td><td>1</td><td>3</td><td>5</td></tr><tr><td>113</td><td>1</td><td>3</td><td>5</td></tr><tr><td>93</td><td>1</td><td>3</td><td>5</td></tr><tr><td>87</td><td>1</td><td>3</td><td>5</td></tr><tr><td>79</td><td>1</td><td>3</td><td>5</td></tr><tr><td>51</td><td>1</td><td>3</td><td>5</td></tr><tr><td>61</td><td>1</td><td>3</td><td>5</td></tr><tr><td>20</td><td>1</td><td>3</td><td>5</td></tr><tr><td>16</td><td>1</td><td>3</td><td>5</td></tr><tr><td>8</td><td>1</td><td>3</td><td>5</td></tr><tr><td>21</td><td>1</td><td>2</td><td>4</td></tr><tr><td>11</td><td>1</td><td>2</td><td>4</td></tr><tr><td>5</td><td>1</td><td>2</td><td>4</td></tr><tr><td>63</td><td>1</td><td>2</td><td>4</td></tr><tr><td>57</td><td>1</td><td>2</td><td>4</td></tr><tr><td>50</td><td>1</td><td>2</td><td>4</td></tr><tr><td>129</td><td>1</td><td>2</td><td>4</td></tr><tr><td>114</td><td>1</td><td>2</td><td>4</td></tr><tr><td>72</td><td>1</td><td>2</td><td>4</td></tr><tr><td>73</td><td>1</td><td>2</td><td>4</td></tr><tr><td>85</td><td>1</td><td>2</td><td>4</td></tr><tr><td>103</td><td>1</td><td>2</td><td>4</td></tr><tr><td>100</td><td>1</td><td>2</td><td>4</td></tr><tr><td>91</td><td>1</td><td>2</td><td>4</td></tr><tr><td>98</td><td>1</td><td>2</td><td>4</td></tr><tr><td>184</td><td>1</td><td>2</td><td>4</td></tr><tr><td>173</td><td>1</td><td>2</td><td>4</td></tr><tr><td>174</td><td>1</td><td>2</td><td>4</td></tr><tr><td>152</td><td>1</td><td>2</td><td>4</td></tr><tr><td>186</td><td>1</td><td>2</td><td>4</td></tr><tr><td>196</td><td>1</td><td>2</td><td>4</td></tr><tr><td>183</td><td>1</td><td>3</td><td>4</td></tr><tr><td>177</td><td>1</td><td>3</td><td>4</td></tr><tr><td>178</td><td>1</td><td>3</td><td>4</td></tr><tr><td>95</td><td>1</td><td>3</td><td>4</td></tr><tr><td>90</td><td>1</td><td>3</td><td>4</td></tr><tr><td>104</td><td>1</td><td>3</td><td>4</td></tr><tr><td>84</td><td>1</td><td>3</td><td>4</td></tr><tr><td>40</td><td>1</td><td>3</td><td>4</td></tr><tr><td>46</td><td>1</td><td>3</td><td>4</td></tr><tr><td>34</td><td>1</td><td>3</td><td>4</td></tr><tr><td>69</td><td>1</td><td>3</td><td>4</td></tr><tr><td>66</td><td>1</td><td>3</td><td>4</td></tr><tr><td>2</td><td>1</td><td>3</td><td>4</td></tr><tr><td>10</td><td>1</td><td>3</td><td>4</td></tr><tr><td>13</td><td>1</td><td>3</td><td>4</td></tr><tr><td>37</td><td>1</td><td>2</td><td>3</td></tr><tr><td>68</td><td>1</td><td>2</td><td>3</td></tr><tr><td>23</td><td>1</td><td>2</td><td>3</td></tr><tr><td>136</td><td>1</td><td>2</td><td>3</td></tr><tr><td>101</td><td>1</td><td>2</td><td>3</td></tr><tr><td>75</td><td>1</td><td>2</td><td>3</td></tr><tr><td>76</td><td>1</td><td>2</td><td>3</td></tr><tr><td>166</td><td>1</td><td>2</td><td>3</td></tr><tr><td>180</td><td>1</td><td>2</td><td>3</td></tr><tr><td>151</td><td>1</td><td>2</td><td>3</td></tr><tr><td>158</td><td>1</td><td>2</td><td>3</td></tr><tr><td>162</td><td>1</td><td>3</td><td>3</td></tr><tr><td>179</td><td>1</td><td>3</td><td>3</td></tr><tr><td>71</td><td>1</td><td>3</td><td>3</td></tr><tr><td>135</td><td>1</td><td>3</td><td>3</td></tr><tr><td>30</td><td>1</td><td>3</td><td>3</td></tr><tr><td>31</td><td>1</td><td>3</td><td>3</td></tr><tr><td>14</td><td>1</td><td>3</td><td>3</td></tr><tr><td>24</td><td>1</td><td>4</td><td>3</td></tr><tr><td>56</td><td>1</td><td>2</td><td>2</td></tr><tr><td>53</td><td>1</td><td>2</td><td>2</td></tr><tr><td>47</td><td>1</td><td>2</td><td>2</td></tr><tr><td>26</td><td>1</td><td>2</td><td>2</td></tr><tr><td>108</td><td>1</td><td>2</td><td>2</td></tr><tr><td>102</td><td>1</td><td>2</td><td>2</td></tr><tr><td>105</td><td>1</td><td>2</td><td>2</td></tr><tr><td>192</td><td>1</td><td>2</td><td>2</td></tr><tr><td>167</td><td>1</td><td>3</td><td>2</td></tr><tr><td>116</td><td>1</td><td>3</td><td>2</td></tr><tr><td>142</td><td>1</td><td>3</td><td>2</td></tr><tr><td>25</td><td>1</td><td>3</td><td>2</td></tr><tr><td>41</td><td>1</td><td>3</td><td>2</td></tr><tr><td>32</td><td>1</td><td>2</td><td>1</td></tr><tr><td>65</td><td>1</td><td>2</td><td>1</td></tr><tr><td>125</td><td>1</td><td>2</td><td>1</td></tr><tr><td>147</td><td>1</td><td>2</td><td>1</td></tr><tr><td>194</td><td>1</td><td>2</td><td>1</td></tr><tr><td>60</td><td>1</td><td>3</td><td>1</td></tr></table>"
                    },
                    "metadata": {}
                }
            ],
            "execution_count": 21
        },
        {
            "cell_type": "code",
            "source": [
                "--3.\r\n",
                "select SZALLAS_NEV, sum (GYERMEK_SZAM+FELNOTT_SZAM) as 'összes foglalt fő'\r\n",
                "from szallashely szh join Szoba sz on sz.SZALLAS_FK=szh.SZALLAS_ID\r\n",
                "            JOIN Foglalas f on f.SZOBA_FK=sz.SZOBA_ID\r\n",
                "group by SZALLAS_NEV\r\n",
                "having (sum (GYERMEK_SZAM+FELNOTT_SZAM)) <= ALL (\r\n",
                "    select first_value(sum(GYERMEK_SZAM+FELNOTT_SZAM)) over (order by sum(GYERMEK_SZAM+FELNOTT_SZAM)) \r\n",
                "    from szallashely szh join Szoba sz on sz.SZALLAS_FK=szh.SZALLAS_ID\r\n",
                "            JOIN Foglalas f on f.SZOBA_FK=sz.SZOBA_ID\r\n",
                ")\r\n",
                ""
            ],
            "metadata": {
                "azdata_cell_guid": "b039e176-f6cb-4b66-8c92-997ff5c264c9",
                "language": "sql"
            },
            "outputs": [
                {
                    "output_type": "display_data",
                    "data": {
                        "text/html": "(11 rows affected)"
                    },
                    "metadata": {}
                },
                {
                    "output_type": "display_data",
                    "data": {
                        "text/html": "Total execution time: 00:00:00.022"
                    },
                    "metadata": {}
                },
                {
                    "output_type": "execute_result",
                    "execution_count": 41,
                    "data": {
                        "application/vnd.dataresource+json": {
                            "schema": {
                                "fields": [
                                    {
                                        "name": "SZALLAS_NEV"
                                    },
                                    {
                                        "name": "összes foglalt fő"
                                    }
                                ]
                            },
                            "data": [
                                {
                                    "SZALLAS_NEV": "Családi Ház",
                                    "összes foglalt fő": "52"
                                },
                                {
                                    "SZALLAS_NEV": "Fortuna Apartman",
                                    "összes foglalt fő": "106"
                                },
                                {
                                    "SZALLAS_NEV": "Fortuna panzió",
                                    "összes foglalt fő": "311"
                                },
                                {
                                    "SZALLAS_NEV": "Gold Hotel",
                                    "összes foglalt fő": "428"
                                },
                                {
                                    "SZALLAS_NEV": "Hotel Három Hattyú",
                                    "összes foglalt fő": "504"
                                },
                                {
                                    "SZALLAS_NEV": "Jáde panzió",
                                    "összes foglalt fő": "66"
                                },
                                {
                                    "SZALLAS_NEV": "Kentaur Hotel",
                                    "összes foglalt fő": "420"
                                },
                                {
                                    "SZALLAS_NEV": "Lagúna Hotel",
                                    "összes foglalt fő": "291"
                                },
                                {
                                    "SZALLAS_NEV": "Partiszél Vendégház",
                                    "összes foglalt fő": "63"
                                },
                                {
                                    "SZALLAS_NEV": "Sába-Ház",
                                    "összes foglalt fő": "166"
                                },
                                {
                                    "SZALLAS_NEV": "Szieszta Apartmanház",
                                    "összes foglalt fő": "83"
                                }
                            ]
                        },
                        "text/html": "<table><tr><th>SZALLAS_NEV</th><th>összes foglalt fő</th></tr><tr><td>Családi Ház</td><td>52</td></tr><tr><td>Fortuna Apartman</td><td>106</td></tr><tr><td>Fortuna panzió</td><td>311</td></tr><tr><td>Gold Hotel</td><td>428</td></tr><tr><td>Hotel Három Hattyú</td><td>504</td></tr><tr><td>Jáde panzió</td><td>66</td></tr><tr><td>Kentaur Hotel</td><td>420</td></tr><tr><td>Lagúna Hotel</td><td>291</td></tr><tr><td>Partiszél Vendégház</td><td>63</td></tr><tr><td>Sába-Ház</td><td>166</td></tr><tr><td>Szieszta Apartmanház</td><td>83</td></tr></table>"
                    },
                    "metadata": {}
                }
            ],
            "execution_count": 41
        }
    ]
}