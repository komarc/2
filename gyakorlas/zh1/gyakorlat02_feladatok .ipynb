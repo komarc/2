{
    "metadata": {
        "kernelspec": {
            "name": "SQL",
            "display_name": "SQL",
            "language": "sql"
        },
        "language_info": {
            "name": "sql",
            "version": ""
        },
        "extensions": {
            "azuredatastudio": {
                "version": 1,
                "views": []
            }
        }
    },
    "nbformat_minor": 2,
    "nbformat": 4,
    "cells": [
        {
            "cell_type": "markdown",
            "source": [
                "1. <span style=\"color:rgb(36, 41, 47);font-family:-apple-system, BlinkMacSystemFont, &quot;Segoe UI&quot;, Helvetica, Arial, sans-serif, &quot;Apple Color Emoji&quot;, &quot;Segoe UI Emoji&quot;;font-size:16px;\">Készítsünk lekérdezést, amely listázza, hogy mely napokon hány db kölcsönzés történt!</span>\n",
                "\n",
                "<span style=\"font-size: 16px;\">a.&nbsp;</span> Az oszlopok neve legyen 'Dátum' és 'Kölcsönzések száma'  \n",
                "b. A listát rendezzük a kölcsönzés dátuma szerint csökkenő sorrendbe!"
            ],
            "metadata": {
                "azdata_cell_guid": "77f2d5b3-38e9-41cc-893f-f5afd02b97ef"
            },
            "attachments": {}
        },
        {
            "cell_type": "code",
            "source": [
                "select ki_datum,\r\n",
                "    count(*)\r\n",
                "from kolcsonzesek\r\n",
                "group by ki_datum"
            ],
            "metadata": {
                "azdata_cell_guid": "bd3cef1a-4e6e-4ece-9dc3-aaa9d2b5d66d",
                "language": "sql"
            },
            "outputs": [
                {
                    "output_type": "display_data",
                    "data": {
                        "text/html": "(3 rows affected)"
                    },
                    "metadata": {}
                },
                {
                    "output_type": "display_data",
                    "data": {
                        "text/html": "Total execution time: 00:00:00.023"
                    },
                    "metadata": {}
                },
                {
                    "output_type": "execute_result",
                    "metadata": {},
                    "execution_count": 2,
                    "data": {
                        "application/vnd.dataresource+json": {
                            "schema": {
                                "fields": [
                                    {
                                        "name": "ki_datum"
                                    },
                                    {
                                        "name": "(No column name)"
                                    }
                                ]
                            },
                            "data": [
                                {
                                    "ki_datum": "2003-12-11",
                                    "(No column name)": "3"
                                },
                                {
                                    "ki_datum": "2006-10-01",
                                    "(No column name)": "1"
                                },
                                {
                                    "ki_datum": "2006-10-02",
                                    "(No column name)": "1"
                                }
                            ]
                        },
                        "text/html": [
                            "<table>",
                            "<tr><th>ki_datum</th><th>(No column name)</th></tr>",
                            "<tr><td>2003-12-11</td><td>3</td></tr>",
                            "<tr><td>2006-10-01</td><td>1</td></tr>",
                            "<tr><td>2006-10-02</td><td>1</td></tr>",
                            "</table>"
                        ]
                    }
                }
            ],
            "execution_count": 2
        },
        {
            "cell_type": "markdown",
            "source": [
                "2. <span style=\"font-weight: 600; color: rgb(36, 41, 47); font-family: -apple-system, BlinkMacSystemFont, &quot;Segoe UI&quot;, Helvetica, Arial, sans-serif, &quot;Apple Color Emoji&quot;, &quot;Segoe UI Emoji&quot;; font-size: 16px;\">Mennyi a dvd-k átlagos ára stílusonkénti bontásban?</span>\n",
                "\n",
                "1. Csak azokat a stílusokat vegyük figyelembe, ahol az átlagos ár 4500 Ft feletti!\n",
                "2. Az oszlopokat nevezzük el értelemszerűen!\n",
                "3. A listát rendezzük átlagos ár szerint csökkenő sorrendbe!"
            ],
            "metadata": {
                "azdata_cell_guid": "88f5b4bb-f4c1-4bad-a0c7-b2592687b422"
            },
            "attachments": {}
        },
        {
            "cell_type": "code",
            "source": [
                ""
            ],
            "metadata": {
                "azdata_cell_guid": "e9de5726-f036-4fb9-8c33-a873955ed886",
                "language": "sql"
            },
            "outputs": [],
            "execution_count": null
        },
        {
            "cell_type": "markdown",
            "source": [
                "3. <span style=\"color:rgb(36, 41, 47);font-family:-apple-system, BlinkMacSystemFont, &quot;Segoe UI&quot;, Helvetica, Arial, sans-serif, &quot;Apple Color Emoji&quot;, &quot;Segoe UI Emoji&quot;;font-size:16px;\">Listázzuk nyelvenkénti, azon belül stílusonkénti bontásban, hogy mennyi a dvd-k legkisebb és legnagyobb ára!&nbsp;</span> \n",
                "\n",
                "<span style=\"font-size: 16px;\">a. Az oszlopok neve legyen 'Nyelv', 'Stílus', 'MinÁr' és 'MaxÁr'!<br>b.&nbsp;</span> A listából hagyjuk ki azokat a sorokat, ahol a nyelv vagy a stílus nincs megadva!  \n",
                "c. Szintén hagyjuk ki azokat a csoportokat, ahol a csoport elemszáma 3-nál kisebb!"
            ],
            "metadata": {
                "azdata_cell_guid": "9e7249de-1b59-43d8-84b1-26fa7d81fc5a"
            },
            "attachments": {}
        },
        {
            "cell_type": "code",
            "source": [
                ""
            ],
            "metadata": {
                "azdata_cell_guid": "6405d3e8-a9b1-45d7-aa76-3b1e785ef6cc",
                "language": "sql"
            },
            "outputs": [],
            "execution_count": null
        },
        {
            "cell_type": "markdown",
            "source": [
                "4. <span style=\"color: rgb(36, 41, 47); font-family: -apple-system, BlinkMacSystemFont, &quot;Segoe UI&quot;, Helvetica, Arial, sans-serif, &quot;Apple Color Emoji&quot;, &quot;Segoe UI Emoji&quot;; font-size: 16px;\">Készítsünk listát, amely a csoportokat hoz létre aszerint, hogy a mai naptól számítva hány nap telt el a kölcsönzés kezdete óta. A lista jelenítse meg csoportonkénti bontásban a kikölcsönzött dvd-k számát!</span>\n",
                "\n",
                "1. Az oszlopokat nevezzük el értelemszerűen!\n",
                "2. A listát rendezzük az eltelt napok száma szerint csökkenő sorrendbe!"
            ],
            "metadata": {
                "azdata_cell_guid": "6478e469-c094-472c-a772-ccd5b5c61516"
            },
            "attachments": {}
        },
        {
            "cell_type": "code",
            "source": [
                "select *,\r\n",
                "DATEDIFF(day,ki_datum,vissza_datum)\r\n",
                "from kolcsonzesek"
            ],
            "metadata": {
                "azdata_cell_guid": "02031ea2-3838-458d-839c-228e3b362b61",
                "language": "sql"
            },
            "outputs": [
                {
                    "output_type": "display_data",
                    "data": {
                        "text/html": "(5 rows affected)"
                    },
                    "metadata": {}
                },
                {
                    "output_type": "display_data",
                    "data": {
                        "text/html": "Total execution time: 00:00:00.010"
                    },
                    "metadata": {}
                },
                {
                    "output_type": "execute_result",
                    "metadata": {},
                    "execution_count": 5,
                    "data": {
                        "application/vnd.dataresource+json": {
                            "schema": {
                                "fields": [
                                    {
                                        "name": "ID"
                                    },
                                    {
                                        "name": "ki"
                                    },
                                    {
                                        "name": "mit"
                                    },
                                    {
                                        "name": "ki_datum"
                                    },
                                    {
                                        "name": "vissza_datum"
                                    },
                                    {
                                        "name": "(No column name)"
                                    }
                                ]
                            },
                            "data": [
                                {
                                    "ID": "10",
                                    "ki": "3",
                                    "mit": "5",
                                    "ki_datum": "2003-12-11",
                                    "vissza_datum": "NULL",
                                    "(No column name)": "NULL"
                                },
                                {
                                    "ID": "11",
                                    "ki": "4",
                                    "mit": "2",
                                    "ki_datum": "2003-12-11",
                                    "vissza_datum": "NULL",
                                    "(No column name)": "NULL"
                                },
                                {
                                    "ID": "12",
                                    "ki": "5",
                                    "mit": "6",
                                    "ki_datum": "2003-12-11",
                                    "vissza_datum": "NULL",
                                    "(No column name)": "NULL"
                                },
                                {
                                    "ID": "13",
                                    "ki": "1",
                                    "mit": "3",
                                    "ki_datum": "2006-10-01",
                                    "vissza_datum": "2006-10-10",
                                    "(No column name)": "9"
                                },
                                {
                                    "ID": "14",
                                    "ki": "2",
                                    "mit": "3",
                                    "ki_datum": "2006-10-02",
                                    "vissza_datum": "2006-10-09",
                                    "(No column name)": "7"
                                }
                            ]
                        },
                        "text/html": [
                            "<table>",
                            "<tr><th>ID</th><th>ki</th><th>mit</th><th>ki_datum</th><th>vissza_datum</th><th>(No column name)</th></tr>",
                            "<tr><td>10</td><td>3</td><td>5</td><td>2003-12-11</td><td>NULL</td><td>NULL</td></tr>",
                            "<tr><td>11</td><td>4</td><td>2</td><td>2003-12-11</td><td>NULL</td><td>NULL</td></tr>",
                            "<tr><td>12</td><td>5</td><td>6</td><td>2003-12-11</td><td>NULL</td><td>NULL</td></tr>",
                            "<tr><td>13</td><td>1</td><td>3</td><td>2006-10-01</td><td>2006-10-10</td><td>9</td></tr>",
                            "<tr><td>14</td><td>2</td><td>3</td><td>2006-10-02</td><td>2006-10-09</td><td>7</td></tr>",
                            "</table>"
                        ]
                    }
                }
            ],
            "execution_count": 5
        },
        {
            "cell_type": "markdown",
            "source": [
                "5. <span style=\"color: rgb(36, 41, 47); font-family: -apple-system, BlinkMacSystemFont, &quot;Segoe UI&quot;, Helvetica, Arial, sans-serif, &quot;Apple Color Emoji&quot;, &quot;Segoe UI Emoji&quot;; font-size: 16px;\">A kölcsönző tulajdonosa elhatározza, hogy ezentúl kerekebb árakat alkalmaz. Ezért minden dvd árát 1000 Ft-ra kerekíti. Készítsünk lekérdezést, amely megmutatja, hogy melyik 1000 Ft-ra kerekített ár szerint, azon belül stílus szerint hány db dvd összesen raktáron! **</span>\n",
                "\n",
                "1. Csak olyan csoportokat listázzunk, ahol a raktárkészlet legalább 30!\n",
                "2. A listát rendezzük kerekített ár szerint, azon belül raktárkészlet szerint növekvő sorrendbe!"
            ],
            "metadata": {
                "azdata_cell_guid": "9edbbaf9-c276-4898-9a01-e1b2993c089f"
            },
            "attachments": {}
        },
        {
            "cell_type": "code",
            "source": [
                "select stilus,\r\n",
                "    round(nettoar,-3) as 'nettoar',\r\n",
                "    sum([raktár készlet]) as 'Darabok'\r\n",
                "from dvd\r\n",
                "group by round(nettoar,-3), stilus\r\n",
                "  HAVING SUM([raktár készlet]) > 30"
            ],
            "metadata": {
                "azdata_cell_guid": "5ad5fdcb-2878-4111-861a-833bcd50e935",
                "language": "sql"
            },
            "outputs": [
                {
                    "output_type": "display_data",
                    "data": {
                        "text/html": "(19 rows affected)"
                    },
                    "metadata": {}
                },
                {
                    "output_type": "display_data",
                    "data": {
                        "text/html": "Total execution time: 00:00:00.031"
                    },
                    "metadata": {}
                },
                {
                    "output_type": "execute_result",
                    "metadata": {},
                    "execution_count": 23,
                    "data": {
                        "application/vnd.dataresource+json": {
                            "schema": {
                                "fields": [
                                    {
                                        "name": "stilus"
                                    },
                                    {
                                        "name": "nettoar"
                                    },
                                    {
                                        "name": "Darabok"
                                    }
                                ]
                            },
                            "data": [
                                {
                                    "stilus": "csillagászat",
                                    "nettoar": "4000",
                                    "Darabok": "40"
                                },
                                {
                                    "stilus": "földrajz",
                                    "nettoar": "4000",
                                    "Darabok": "50"
                                },
                                {
                                    "stilus": "földrajz",
                                    "nettoar": "5000",
                                    "Darabok": "60"
                                },
                                {
                                    "stilus": "irodalom",
                                    "nettoar": "4000",
                                    "Darabok": "90"
                                },
                                {
                                    "stilus": "ismeretterjesztő",
                                    "nettoar": "3000",
                                    "Darabok": "70"
                                },
                                {
                                    "stilus": "ismeretterjesztő",
                                    "nettoar": "4000",
                                    "Darabok": "130"
                                },
                                {
                                    "stilus": "ismeretterjesztő",
                                    "nettoar": "5000",
                                    "Darabok": "170"
                                },
                                {
                                    "stilus": "ismeretterjesztő",
                                    "nettoar": "6000",
                                    "Darabok": "90"
                                },
                                {
                                    "stilus": "játék",
                                    "nettoar": "3000",
                                    "Darabok": "40"
                                },
                                {
                                    "stilus": "játék",
                                    "nettoar": "4000",
                                    "Darabok": "180"
                                },
                                {
                                    "stilus": "játék",
                                    "nettoar": "5000",
                                    "Darabok": "210"
                                },
                                {
                                    "stilus": "játék",
                                    "nettoar": "6000",
                                    "Darabok": "170"
                                },
                                {
                                    "stilus": "nyelvtanító",
                                    "nettoar": "4000",
                                    "Darabok": "140"
                                },
                                {
                                    "stilus": "nyelvtanító",
                                    "nettoar": "5000",
                                    "Darabok": "140"
                                },
                                {
                                    "stilus": "nyelvtanító",
                                    "nettoar": "6000",
                                    "Darabok": "110"
                                },
                                {
                                    "stilus": "történelem",
                                    "nettoar": "3000",
                                    "Darabok": "40"
                                },
                                {
                                    "stilus": "történelem",
                                    "nettoar": "4000",
                                    "Darabok": "160"
                                },
                                {
                                    "stilus": "történelem",
                                    "nettoar": "5000",
                                    "Darabok": "120"
                                },
                                {
                                    "stilus": "történelem",
                                    "nettoar": "6000",
                                    "Darabok": "88"
                                }
                            ]
                        },
                        "text/html": [
                            "<table>",
                            "<tr><th>stilus</th><th>nettoar</th><th>Darabok</th></tr>",
                            "<tr><td>csillagászat</td><td>4000</td><td>40</td></tr>",
                            "<tr><td>földrajz</td><td>4000</td><td>50</td></tr>",
                            "<tr><td>földrajz</td><td>5000</td><td>60</td></tr>",
                            "<tr><td>irodalom</td><td>4000</td><td>90</td></tr>",
                            "<tr><td>ismeretterjesztő</td><td>3000</td><td>70</td></tr>",
                            "<tr><td>ismeretterjesztő</td><td>4000</td><td>130</td></tr>",
                            "<tr><td>ismeretterjesztő</td><td>5000</td><td>170</td></tr>",
                            "<tr><td>ismeretterjesztő</td><td>6000</td><td>90</td></tr>",
                            "<tr><td>játék</td><td>3000</td><td>40</td></tr>",
                            "<tr><td>játék</td><td>4000</td><td>180</td></tr>",
                            "<tr><td>játék</td><td>5000</td><td>210</td></tr>",
                            "<tr><td>játék</td><td>6000</td><td>170</td></tr>",
                            "<tr><td>nyelvtanító</td><td>4000</td><td>140</td></tr>",
                            "<tr><td>nyelvtanító</td><td>5000</td><td>140</td></tr>",
                            "<tr><td>nyelvtanító</td><td>6000</td><td>110</td></tr>",
                            "<tr><td>történelem</td><td>3000</td><td>40</td></tr>",
                            "<tr><td>történelem</td><td>4000</td><td>160</td></tr>",
                            "<tr><td>történelem</td><td>5000</td><td>120</td></tr>",
                            "<tr><td>történelem</td><td>6000</td><td>88</td></tr>",
                            "</table>"
                        ]
                    }
                }
            ],
            "execution_count": 23
        },
        {
            "cell_type": "markdown",
            "source": [
                "6. <span style=\"font-weight: 600; color: rgb(36, 41, 47); font-family: -apple-system, BlinkMacSystemFont, &quot;Segoe UI&quot;, Helvetica, Arial, sans-serif, &quot;Apple Color Emoji&quot;, &quot;Segoe UI Emoji&quot;; font-size: 16px;\">A dvd-ket csoportosíthatjuk aszerint, hogy milyen hosszú a címük. Amelyiknél a cím hosszúsága 10 karakter alatt van, az legyen Rövid, 10-20-ig Átlagos, 20 felett Hosszú. Hány Rövid, Átlagos, illetve Hosszú dvd-van összesen raktáron?</span>\n",
                "\n",
                "1. Az oszlopok neve legyen 'Cím hosszúság' és 'Darabszám"
            ],
            "metadata": {
                "azdata_cell_guid": "5fe65c1c-2479-45ac-ad03-ec99d12eae21"
            },
            "attachments": {}
        },
        {
            "cell_type": "code",
            "source": [
                ""
            ],
            "metadata": {
                "azdata_cell_guid": "924f2dde-f1c2-4def-a7f9-dbf4bace7735",
                "language": "sql"
            },
            "outputs": [],
            "execution_count": null
        },
        {
            "cell_type": "markdown",
            "source": [
                "7. <span style=\"color: rgb(36, 41, 47); font-family: -apple-system, BlinkMacSystemFont, &quot;Segoe UI&quot;, Helvetica, Arial, sans-serif, &quot;Apple Color Emoji&quot;, &quot;Segoe UI Emoji&quot;; font-size: 16px;\">Készítsünk listát arról, hogy melyik teremben hány óra van!</span>\n",
                "\n",
                "1. Jelenítsük meg a termek azonosítóit és a teremben tartott órák számát!\n",
                "2. Az oszlopokat nevezzük el értelemszerűen!\n",
                "3. Szűrjünk azokra a termekre, ahol az órák száma legalább 3!"
            ],
            "metadata": {
                "azdata_cell_guid": "3aeb6bf5-b111-40d5-92b2-9712ce335696"
            },
            "attachments": {}
        },
        {
            "cell_type": "code",
            "source": [
                ""
            ],
            "metadata": {
                "azdata_cell_guid": "3e89b651-f56f-4102-af52-30eb2bbe360d",
                "language": "sql"
            },
            "outputs": [],
            "execution_count": null
        },
        {
            "cell_type": "markdown",
            "source": [
                "8. <span style=\"color: rgb(36, 41, 47); font-family: -apple-system, BlinkMacSystemFont, &quot;Segoe UI&quot;, Helvetica, Arial, sans-serif, &quot;Apple Color Emoji&quot;, &quot;Segoe UI Emoji&quot;; font-size: 16px;\">Készítsünk lekérdezést, amely megadja, hogy minimálian és maximálisan hány kreditet ér egy tantárgy!</span>\n",
                "\n",
                "1. Az oszlopokat nevezzük el értelemszerűen!\n",
                "2. Ne vegyük figyelembe azokat a tantárgyakat, amelyek nevében az „alapjai” szó szerepel, vagy a tantárgy neve 10 karakternél rövidebb!"
            ],
            "metadata": {
                "azdata_cell_guid": "26a504dc-ff6a-439f-94c0-4580eca3eacf"
            },
            "attachments": {}
        },
        {
            "cell_type": "code",
            "source": [
                ""
            ],
            "metadata": {
                "azdata_cell_guid": "1cbb8aeb-78b5-4350-aa45-e3202fdab85b",
                "language": "sql"
            },
            "outputs": [],
            "execution_count": null
        },
        {
            "cell_type": "markdown",
            "source": [
                "9. <span style=\"color: rgb(36, 41, 47); font-family: -apple-system, BlinkMacSystemFont, &quot;Segoe UI&quot;, Helvetica, Arial, sans-serif, &quot;Apple Color Emoji&quot;, &quot;Segoe UI Emoji&quot;; font-size: 16px;\">A tapasztalat alapján a tanársegédeknek 8, az óraadóknak 10 órájuk van egy héten. A többiek annyi órát tartanak, amennyi az elvárt óraszámuk. Készítsünk lekérdezést, amely minden beosztáshoz megjeleníti, hogy hetente hány túlóra tartozik hozzá!</span>\n",
                "\n",
                "1. A lekérdezés csak a beosztások nevét és a heti túlórák számát jelenítse meg!"
            ],
            "metadata": {
                "azdata_cell_guid": "435e2860-2dd5-4877-90f4-34a43baeb53c"
            },
            "attachments": {}
        },
        {
            "cell_type": "code",
            "source": [
                ""
            ],
            "metadata": {
                "azdata_cell_guid": "ce846351-ddbe-4d8e-b8fb-2a92c73ac80b",
                "language": "sql"
            },
            "outputs": [],
            "execution_count": null
        },
        {
            "cell_type": "markdown",
            "source": [
                "10. <span style=\"font-weight: 600; color: rgb(36, 41, 47); font-family: -apple-system, BlinkMacSystemFont, &quot;Segoe UI&quot;, Helvetica, Arial, sans-serif, &quot;Apple Color Emoji&quot;, &quot;Segoe UI Emoji&quot;; font-size: 16px;\">Melyek azok az oktatók, akiknek nincs órájuk?</span>\n",
                "\n",
                "1. Csak az oktatók neve jelenjen meg!\n",
                "2. ÖTLET: használjunk LEFT JOIN-t, és szűrjünk azokra a rekordokra, ahol NULL érték van a JOIN utáni feltétel jobb oldalán!"
            ],
            "metadata": {
                "azdata_cell_guid": "217c5772-afe2-4a7c-b913-e3a3e09d6411"
            },
            "attachments": {}
        },
        {
            "cell_type": "code",
            "source": [
                "select * \r\n",
                "from Oktatok okt LEFT JOIN Orak o ON okt.oktato_id=o.tanar\r\n",
                "where o.ora_id is NULL "
            ],
            "metadata": {
                "azdata_cell_guid": "a9cc0926-3dbd-4ed8-8179-1c39d64a0762",
                "language": "sql"
            },
            "outputs": [
                {
                    "output_type": "display_data",
                    "data": {
                        "text/html": "(5 rows affected)"
                    },
                    "metadata": {}
                },
                {
                    "output_type": "display_data",
                    "data": {
                        "text/html": "Total execution time: 00:00:00.039"
                    },
                    "metadata": {}
                },
                {
                    "output_type": "execute_result",
                    "metadata": {},
                    "execution_count": 26,
                    "data": {
                        "application/vnd.dataresource+json": {
                            "schema": {
                                "fields": [
                                    {
                                        "name": "oktato_id"
                                    },
                                    {
                                        "name": "nev"
                                    },
                                    {
                                        "name": "titulus"
                                    },
                                    {
                                        "name": "beosztás"
                                    },
                                    {
                                        "name": "status"
                                    },
                                    {
                                        "name": "ora_id"
                                    },
                                    {
                                        "name": "tanar"
                                    },
                                    {
                                        "name": "nap"
                                    },
                                    {
                                        "name": "Sav"
                                    },
                                    {
                                        "name": "targy"
                                    },
                                    {
                                        "name": "terem"
                                    }
                                ]
                            },
                            "data": [
                                {
                                    "oktato_id": "11",
                                    "nev": "Józsa Gábor",
                                    "titulus": "Dr.",
                                    "beosztás": "4",
                                    "status": "1",
                                    "ora_id": "NULL",
                                    "tanar": "NULL",
                                    "nap": "NULL",
                                    "Sav": "NULL",
                                    "targy": "NULL",
                                    "terem": "NULL"
                                },
                                {
                                    "oktato_id": "19",
                                    "nev": "Rácz András",
                                    "titulus": "NULL",
                                    "beosztás": "1",
                                    "status": "1",
                                    "ora_id": "NULL",
                                    "tanar": "NULL",
                                    "nap": "NULL",
                                    "Sav": "NULL",
                                    "targy": "NULL",
                                    "terem": "NULL"
                                },
                                {
                                    "oktato_id": "105",
                                    "nev": "Kiss István",
                                    "titulus": "NULL",
                                    "beosztás": "1",
                                    "status": "2",
                                    "ora_id": "NULL",
                                    "tanar": "NULL",
                                    "nap": "NULL",
                                    "Sav": "NULL",
                                    "targy": "NULL",
                                    "terem": "NULL"
                                },
                                {
                                    "oktato_id": "107",
                                    "nev": "Mészáros Kriszta",
                                    "titulus": "NULL",
                                    "beosztás": "1",
                                    "status": "2",
                                    "ora_id": "NULL",
                                    "tanar": "NULL",
                                    "nap": "NULL",
                                    "Sav": "NULL",
                                    "targy": "NULL",
                                    "terem": "NULL"
                                },
                                {
                                    "oktato_id": "302",
                                    "nev": "Kovacs Istvan",
                                    "titulus": "Dr.",
                                    "beosztás": "5",
                                    "status": "1",
                                    "ora_id": "NULL",
                                    "tanar": "NULL",
                                    "nap": "NULL",
                                    "Sav": "NULL",
                                    "targy": "NULL",
                                    "terem": "NULL"
                                }
                            ]
                        },
                        "text/html": [
                            "<table>",
                            "<tr><th>oktato_id</th><th>nev</th><th>titulus</th><th>beosztás</th><th>status</th><th>ora_id</th><th>tanar</th><th>nap</th><th>Sav</th><th>targy</th><th>terem</th></tr>",
                            "<tr><td>11</td><td>Józsa Gábor</td><td>Dr.</td><td>4</td><td>1</td><td>NULL</td><td>NULL</td><td>NULL</td><td>NULL</td><td>NULL</td><td>NULL</td></tr>",
                            "<tr><td>19</td><td>Rácz András</td><td>NULL</td><td>1</td><td>1</td><td>NULL</td><td>NULL</td><td>NULL</td><td>NULL</td><td>NULL</td><td>NULL</td></tr>",
                            "<tr><td>105</td><td>Kiss István</td><td>NULL</td><td>1</td><td>2</td><td>NULL</td><td>NULL</td><td>NULL</td><td>NULL</td><td>NULL</td><td>NULL</td></tr>",
                            "<tr><td>107</td><td>Mészáros Kriszta</td><td>NULL</td><td>1</td><td>2</td><td>NULL</td><td>NULL</td><td>NULL</td><td>NULL</td><td>NULL</td><td>NULL</td></tr>",
                            "<tr><td>302</td><td>Kovacs Istvan</td><td>Dr.</td><td>5</td><td>1</td><td>NULL</td><td>NULL</td><td>NULL</td><td>NULL</td><td>NULL</td><td>NULL</td></tr>",
                            "</table>"
                        ]
                    }
                }
            ],
            "execution_count": 26
        },
        {
            "cell_type": "markdown",
            "source": [
                "11. <span style=\"font-weight: 600; color: rgb(36, 41, 47); font-family: -apple-system, BlinkMacSystemFont, &quot;Segoe UI&quot;, Helvetica, Arial, sans-serif, &quot;Apple Color Emoji&quot;, &quot;Segoe UI Emoji&quot;; font-size: 16px;\">Készítsünk lekérdezést, amely részletesen megjeleníti az egyes órák fontosabb adatait, azaz</span>\n",
                "\n",
                "1. Az órák azonosítóit, a tanár nevét, a tantárgy nevét, a terem nevét és a kezdési időpontot!\n",
                "2. Az oszlopokat nevezzük el értelemszerűen!"
            ],
            "metadata": {
                "azdata_cell_guid": "d2340f5f-1614-473c-b937-85740d67f7c1"
            },
            "attachments": {}
        },
        {
            "cell_type": "code",
            "source": [
                ""
            ],
            "metadata": {
                "azdata_cell_guid": "e99c2c53-898f-4787-b0e6-182d106dc16f",
                "language": "sql"
            },
            "outputs": [],
            "execution_count": null
        },
        {
            "cell_type": "markdown",
            "source": [
                "12. <span style=\"color: rgb(36, 41, 47); font-family: -apple-system, BlinkMacSystemFont, &quot;Segoe UI&quot;, Helvetica, Arial, sans-serif, &quot;Apple Color Emoji&quot;, &quot;Segoe UI Emoji&quot;; font-size: 16px;\">Készítsünk listát, amely tartalmazza az egyes órák azonosítóit, és az órán oktatott tantárgy felelősének nevét!</span>\n",
                "\n",
                "1. Rendezzük a listát a tantárgyfelelős neve szerint csökkenő sorrendbe!"
            ],
            "metadata": {
                "azdata_cell_guid": "a765e9d6-58b3-4171-872a-78f3118fd6e3"
            },
            "attachments": {}
        },
        {
            "cell_type": "code",
            "source": [
                ""
            ],
            "metadata": {
                "azdata_cell_guid": "422e8127-b652-4d3a-bfd7-9b1637b5781e",
                "language": "sql"
            },
            "outputs": [],
            "execution_count": null
        },
        {
            "cell_type": "markdown",
            "source": [
                "13. <span style=\"color: rgb(36, 41, 47); font-family: -apple-system, BlinkMacSystemFont, &quot;Segoe UI&quot;, Helvetica, Arial, sans-serif, &quot;Apple Color Emoji&quot;, &quot;Segoe UI Emoji&quot;; font-size: 16px;\">Készítsünk listát, amely megjeleníti, hogy az Orak táblában lévő órák közül hányat tart Dr., illetve nem Dr. titulusú tanár!</span>\n",
                "\n",
                "1. Az oszlopokat nevezzük el értelemszerűen!"
            ],
            "metadata": {
                "azdata_cell_guid": "3f9237ae-f109-401c-acb9-31d75e73331b"
            },
            "attachments": {}
        },
        {
            "cell_type": "code",
            "source": [
                ""
            ],
            "metadata": {
                "azdata_cell_guid": "4b31bb89-cfbc-46b1-8639-85c462877786",
                "language": "sql"
            },
            "outputs": [],
            "execution_count": null
        },
        {
            "cell_type": "markdown",
            "source": [
                "14. <span style=\"color: rgb(36, 41, 47); font-family: -apple-system, BlinkMacSystemFont, &quot;Segoe UI&quot;, Helvetica, Arial, sans-serif, &quot;Apple Color Emoji&quot;, &quot;Segoe UI Emoji&quot;; font-size: 16px;\">Készítsünk listát arról, hogy beosztásonként hány óra szerepel az Orak táblában!</span>\n",
                "\n",
                "1. Jelenítsük meg a beosztások nevét és az órák számát!\n",
                "2. A listát szűrjük azokra a beosztásokra, ahol ez az óraszám 10 feletti!"
            ],
            "metadata": {
                "azdata_cell_guid": "f634e09a-85ef-4e70-8ec6-ef355dfddaa7"
            },
            "attachments": {}
        },
        {
            "cell_type": "code",
            "source": [
                "select beo.beosztasnev,\r\n",
                "    count(o.ora_id) as 'Órák száma'\r\n",
                "from Orak o JOIN Oktatok okt ON o.tanar=okt.oktato_id\r\n",
                "            JOIN Beosztasok beo ON beo.beosztas_id=okt.beosztás\r\n",
                "group by beo.beosztasnev"
            ],
            "metadata": {
                "azdata_cell_guid": "88abc55b-2c78-495b-a72f-3f8f4eb5fe70",
                "language": "sql"
            },
            "outputs": [
                {
                    "output_type": "display_data",
                    "data": {
                        "text/html": "(5 rows affected)"
                    },
                    "metadata": {}
                },
                {
                    "output_type": "display_data",
                    "data": {
                        "text/html": "Total execution time: 00:00:00.134"
                    },
                    "metadata": {}
                },
                {
                    "output_type": "execute_result",
                    "metadata": {},
                    "execution_count": 27,
                    "data": {
                        "application/vnd.dataresource+json": {
                            "schema": {
                                "fields": [
                                    {
                                        "name": "beosztasnev"
                                    },
                                    {
                                        "name": "Órák száma"
                                    }
                                ]
                            },
                            "data": [
                                {
                                    "beosztasnev": "Adjunktus",
                                    "Órák száma": "14"
                                },
                                {
                                    "beosztasnev": "Docens",
                                    "Órák száma": "10"
                                },
                                {
                                    "beosztasnev": "Egyetemi tanár",
                                    "Órák száma": "11"
                                },
                                {
                                    "beosztasnev": "Óraadó",
                                    "Órák száma": "10"
                                },
                                {
                                    "beosztasnev": "Tanársegéd",
                                    "Órák száma": "22"
                                }
                            ]
                        },
                        "text/html": [
                            "<table>",
                            "<tr><th>beosztasnev</th><th>Órák száma</th></tr>",
                            "<tr><td>Adjunktus</td><td>14</td></tr>",
                            "<tr><td>Docens</td><td>10</td></tr>",
                            "<tr><td>Egyetemi tanár</td><td>11</td></tr>",
                            "<tr><td>Óraadó</td><td>10</td></tr>",
                            "<tr><td>Tanársegéd</td><td>22</td></tr>",
                            "</table>"
                        ]
                    }
                }
            ],
            "execution_count": 27
        },
        {
            "cell_type": "markdown",
            "source": [
                "15. <span style=\"color: rgb(36, 41, 47); font-family: -apple-system, BlinkMacSystemFont, &quot;Segoe UI&quot;, Helvetica, Arial, sans-serif, &quot;Apple Color Emoji&quot;, &quot;Segoe UI Emoji&quot;; font-size: 16px;\">Melyek azok az órák, amelyek kezdési időpontja olyan sávba esik, amely a mostani időpont (óra:perc) után van?</span>\n",
                "\n",
                "1. Listázzuk az órák azonosítóit, valamint az órakezdés napját és időpontját!\n",
                "2. A listát rendezzük az időpont szerint növekvő sorrendbe!"
            ],
            "metadata": {
                "azdata_cell_guid": "4cbf2f0d-a65d-480a-8186-ccdb24498443"
            },
            "attachments": {}
        },
        {
            "cell_type": "code",
            "source": [
                "select ora_id\r\n",
                "from Orak o JOIN Savok sav ON o.Sav=sav.Sav_id\r\n",
                "where cast(left(sav.Időpont, CHARINDEX('.',sav.Időpont)-1)+':'+right(sav.Időpont,2) as time)>cast(GETDATE() as time)"
            ],
            "metadata": {
                "azdata_cell_guid": "c148aee8-bc85-40bf-b80a-a4898a6c05cb",
                "language": "sql"
            },
            "outputs": [
                {
                    "output_type": "display_data",
                    "data": {
                        "text/html": "(67 rows affected)"
                    },
                    "metadata": {}
                },
                {
                    "output_type": "display_data",
                    "data": {
                        "text/html": "Total execution time: 00:00:00.090"
                    },
                    "metadata": {}
                },
                {
                    "output_type": "execute_result",
                    "metadata": {},
                    "execution_count": 32,
                    "data": {
                        "application/vnd.dataresource+json": {
                            "schema": {
                                "fields": [
                                    {
                                        "name": "ora_id"
                                    }
                                ]
                            },
                            "data": [
                                {
                                    "ora_id": "159"
                                },
                                {
                                    "ora_id": "160"
                                },
                                {
                                    "ora_id": "161"
                                },
                                {
                                    "ora_id": "162"
                                },
                                {
                                    "ora_id": "163"
                                },
                                {
                                    "ora_id": "164"
                                },
                                {
                                    "ora_id": "165"
                                },
                                {
                                    "ora_id": "166"
                                },
                                {
                                    "ora_id": "167"
                                },
                                {
                                    "ora_id": "168"
                                },
                                {
                                    "ora_id": "169"
                                },
                                {
                                    "ora_id": "170"
                                },
                                {
                                    "ora_id": "171"
                                },
                                {
                                    "ora_id": "172"
                                },
                                {
                                    "ora_id": "173"
                                },
                                {
                                    "ora_id": "174"
                                },
                                {
                                    "ora_id": "175"
                                },
                                {
                                    "ora_id": "176"
                                },
                                {
                                    "ora_id": "177"
                                },
                                {
                                    "ora_id": "178"
                                },
                                {
                                    "ora_id": "179"
                                },
                                {
                                    "ora_id": "180"
                                },
                                {
                                    "ora_id": "181"
                                },
                                {
                                    "ora_id": "182"
                                },
                                {
                                    "ora_id": "183"
                                },
                                {
                                    "ora_id": "184"
                                },
                                {
                                    "ora_id": "185"
                                },
                                {
                                    "ora_id": "186"
                                },
                                {
                                    "ora_id": "187"
                                },
                                {
                                    "ora_id": "188"
                                },
                                {
                                    "ora_id": "189"
                                },
                                {
                                    "ora_id": "190"
                                },
                                {
                                    "ora_id": "191"
                                },
                                {
                                    "ora_id": "192"
                                },
                                {
                                    "ora_id": "193"
                                },
                                {
                                    "ora_id": "194"
                                },
                                {
                                    "ora_id": "195"
                                },
                                {
                                    "ora_id": "196"
                                },
                                {
                                    "ora_id": "197"
                                },
                                {
                                    "ora_id": "198"
                                },
                                {
                                    "ora_id": "199"
                                },
                                {
                                    "ora_id": "200"
                                },
                                {
                                    "ora_id": "201"
                                },
                                {
                                    "ora_id": "202"
                                },
                                {
                                    "ora_id": "203"
                                },
                                {
                                    "ora_id": "204"
                                },
                                {
                                    "ora_id": "205"
                                },
                                {
                                    "ora_id": "206"
                                },
                                {
                                    "ora_id": "207"
                                },
                                {
                                    "ora_id": "208"
                                },
                                {
                                    "ora_id": "209"
                                },
                                {
                                    "ora_id": "210"
                                },
                                {
                                    "ora_id": "211"
                                },
                                {
                                    "ora_id": "212"
                                },
                                {
                                    "ora_id": "213"
                                },
                                {
                                    "ora_id": "214"
                                },
                                {
                                    "ora_id": "215"
                                },
                                {
                                    "ora_id": "216"
                                },
                                {
                                    "ora_id": "217"
                                },
                                {
                                    "ora_id": "218"
                                },
                                {
                                    "ora_id": "219"
                                },
                                {
                                    "ora_id": "220"
                                },
                                {
                                    "ora_id": "221"
                                },
                                {
                                    "ora_id": "222"
                                },
                                {
                                    "ora_id": "223"
                                },
                                {
                                    "ora_id": "226"
                                },
                                {
                                    "ora_id": "227"
                                }
                            ]
                        },
                        "text/html": [
                            "<table>",
                            "<tr><th>ora_id</th></tr>",
                            "<tr><td>159</td></tr>",
                            "<tr><td>160</td></tr>",
                            "<tr><td>161</td></tr>",
                            "<tr><td>162</td></tr>",
                            "<tr><td>163</td></tr>",
                            "<tr><td>164</td></tr>",
                            "<tr><td>165</td></tr>",
                            "<tr><td>166</td></tr>",
                            "<tr><td>167</td></tr>",
                            "<tr><td>168</td></tr>",
                            "<tr><td>169</td></tr>",
                            "<tr><td>170</td></tr>",
                            "<tr><td>171</td></tr>",
                            "<tr><td>172</td></tr>",
                            "<tr><td>173</td></tr>",
                            "<tr><td>174</td></tr>",
                            "<tr><td>175</td></tr>",
                            "<tr><td>176</td></tr>",
                            "<tr><td>177</td></tr>",
                            "<tr><td>178</td></tr>",
                            "<tr><td>179</td></tr>",
                            "<tr><td>180</td></tr>",
                            "<tr><td>181</td></tr>",
                            "<tr><td>182</td></tr>",
                            "<tr><td>183</td></tr>",
                            "<tr><td>184</td></tr>",
                            "<tr><td>185</td></tr>",
                            "<tr><td>186</td></tr>",
                            "<tr><td>187</td></tr>",
                            "<tr><td>188</td></tr>",
                            "<tr><td>189</td></tr>",
                            "<tr><td>190</td></tr>",
                            "<tr><td>191</td></tr>",
                            "<tr><td>192</td></tr>",
                            "<tr><td>193</td></tr>",
                            "<tr><td>194</td></tr>",
                            "<tr><td>195</td></tr>",
                            "<tr><td>196</td></tr>",
                            "<tr><td>197</td></tr>",
                            "<tr><td>198</td></tr>",
                            "<tr><td>199</td></tr>",
                            "<tr><td>200</td></tr>",
                            "<tr><td>201</td></tr>",
                            "<tr><td>202</td></tr>",
                            "<tr><td>203</td></tr>",
                            "<tr><td>204</td></tr>",
                            "<tr><td>205</td></tr>",
                            "<tr><td>206</td></tr>",
                            "<tr><td>207</td></tr>",
                            "<tr><td>208</td></tr>",
                            "<tr><td>209</td></tr>",
                            "<tr><td>210</td></tr>",
                            "<tr><td>211</td></tr>",
                            "<tr><td>212</td></tr>",
                            "<tr><td>213</td></tr>",
                            "<tr><td>214</td></tr>",
                            "<tr><td>215</td></tr>",
                            "<tr><td>216</td></tr>",
                            "<tr><td>217</td></tr>",
                            "<tr><td>218</td></tr>",
                            "<tr><td>219</td></tr>",
                            "<tr><td>220</td></tr>",
                            "<tr><td>221</td></tr>",
                            "<tr><td>222</td></tr>",
                            "<tr><td>223</td></tr>",
                            "<tr><td>226</td></tr>",
                            "<tr><td>227</td></tr>",
                            "</table>"
                        ]
                    }
                }
            ],
            "execution_count": 32
        }
    ]
}