{
    "metadata": {
        "kernelspec": {
            "name": "SQL",
            "display_name": "SQL",
            "language": "sql"
        },
        "language_info": {
            "name": "sql",
            "version": ""
        }
    },
    "nbformat_minor": 2,
    "nbformat": 4,
    "cells": [
        {
            "cell_type": "markdown",
            "source": [
                "1. <span style=\"background-color: rgb(255, 255, 255); color: rgb(0, 0, 0); font-family: &quot;Open Sans&quot;, sans-serif; font-size: 14.44px;\">Készítsünk listát arról, hogy ügyfelenként (LOGIN), azon belül szállítási módonként hány megrendelés történt!&nbsp;</span> \n",
                "\n",
                "a. A lista tartalmazza a részösszegeket és a végösszeget is!  \n",
                "b. Használjuk a ROLLUP záradékot!"
            ],
            "metadata": {
                "azdata_cell_guid": "363cd270-6577-449b-9c89-d4b7c7972d52"
            },
            "attachments": {}
        },
        {
            "cell_type": "code",
            "source": [
                ""
            ],
            "metadata": {
                "azdata_cell_guid": "6ab9f633-a3b5-48c9-a1dc-4fb8235ae85b",
                "language": "sql"
            },
            "outputs": [],
            "execution_count": null
        },
        {
            "cell_type": "markdown",
            "source": [
                "2. <span style=\"background-color: rgb(255, 255, 255); color: rgb(0, 0, 0); font-family: &quot;Open Sans&quot;, sans-serif; font-size: 14.44px;\">Készítsünk listát a termékek számáról a következő csoportosítási szempontok szerint:<br>kategória azonosító, raktárkód, raktárkód+mennyiségi egység!</span>\n",
                "\n",
                "a. A listát szűrjük azokra a csoportokra, ahol a termékek száma legalább 6!"
            ],
            "metadata": {
                "azdata_cell_guid": "ea75c103-911f-41a3-a32c-3d40fb3e4e4a"
            },
            "attachments": {}
        },
        {
            "cell_type": "code",
            "source": [
                "select count(*), kat_id, cast(RAKTAR_KOD as nvarchar)+MEGYS\r\n",
                "from Termek\r\n",
                "group by ROLLUP (kat_id, cast(RAKTAR_KOD as nvarchar)+MEGYS)"
            ],
            "metadata": {
                "azdata_cell_guid": "222b9618-a8e8-42b4-a8e8-d002257122b7",
                "language": "sql"
            },
            "outputs": [
                {
                    "output_type": "display_data",
                    "data": {
                        "text/html": "(479 rows affected)"
                    },
                    "metadata": {}
                },
                {
                    "output_type": "display_data",
                    "data": {
                        "text/html": "Total execution time: 00:00:00.086"
                    },
                    "metadata": {}
                },
                {
                    "output_type": "execute_result",
                    "metadata": {},
                    "execution_count": 6,
                    "data": {
                        "application/vnd.dataresource+json": {
                            "schema": {
                                "fields": [
                                    {
                                        "name": "(No column name)"
                                    },
                                    {
                                        "name": "kat_id"
                                    },
                                    {
                                        "name": "(No column name)"
                                    }
                                ]
                            },
                            "data": [
                                {
                                    "(No column name)": "5db",
                                    "kat_id": "4"
                                },
                                {
                                    "(No column name)": "6db",
                                    "kat_id": "4"
                                },
                                {
                                    "(No column name)": "7db",
                                    "kat_id": "4"
                                },
                                {
                                    "(No column name)": "8db",
                                    "kat_id": "4"
                                },
                                {
                                    "(No column name)": "9db",
                                    "kat_id": "4"
                                },
                                {
                                    "(No column name)": "NULL",
                                    "kat_id": "4"
                                },
                                {
                                    "(No column name)": "5db",
                                    "kat_id": "5"
                                },
                                {
                                    "(No column name)": "9db",
                                    "kat_id": "5"
                                },
                                {
                                    "(No column name)": "NULL",
                                    "kat_id": "5"
                                },
                                {
                                    "(No column name)": "6db",
                                    "kat_id": "6"
                                },
                                {
                                    "(No column name)": "7db",
                                    "kat_id": "6"
                                },
                                {
                                    "(No column name)": "7tekercs",
                                    "kat_id": "6"
                                },
                                {
                                    "(No column name)": "8db",
                                    "kat_id": "6"
                                },
                                {
                                    "(No column name)": "9db",
                                    "kat_id": "6"
                                },
                                {
                                    "(No column name)": "NULL",
                                    "kat_id": "6"
                                },
                                {
                                    "(No column name)": "7db",
                                    "kat_id": "7"
                                },
                                {
                                    "(No column name)": "8db",
                                    "kat_id": "7"
                                },
                                {
                                    "(No column name)": "NULL",
                                    "kat_id": "7"
                                },
                                {
                                    "(No column name)": "3db",
                                    "kat_id": "8"
                                },
                                {
                                    "(No column name)": "4db",
                                    "kat_id": "8"
                                },
                                {
                                    "(No column name)": "NULL",
                                    "kat_id": "8"
                                },
                                {
                                    "(No column name)": "6db",
                                    "kat_id": "9"
                                },
                                {
                                    "(No column name)": "9db",
                                    "kat_id": "9"
                                },
                                {
                                    "(No column name)": "NULL",
                                    "kat_id": "9"
                                },
                                {
                                    "(No column name)": "9db",
                                    "kat_id": "10"
                                },
                                {
                                    "(No column name)": "NULL",
                                    "kat_id": "10"
                                },
                                {
                                    "(No column name)": "8db",
                                    "kat_id": "11"
                                },
                                {
                                    "(No column name)": "NULL",
                                    "kat_id": "11"
                                },
                                {
                                    "(No column name)": "5db",
                                    "kat_id": "12"
                                },
                                {
                                    "(No column name)": "NULL",
                                    "kat_id": "12"
                                },
                                {
                                    "(No column name)": "5db",
                                    "kat_id": "13"
                                },
                                {
                                    "(No column name)": "8db",
                                    "kat_id": "13"
                                },
                                {
                                    "(No column name)": "NULL",
                                    "kat_id": "13"
                                },
                                {
                                    "(No column name)": "6db",
                                    "kat_id": "14"
                                },
                                {
                                    "(No column name)": "7db",
                                    "kat_id": "14"
                                },
                                {
                                    "(No column name)": "8db",
                                    "kat_id": "14"
                                },
                                {
                                    "(No column name)": "NULL",
                                    "kat_id": "14"
                                },
                                {
                                    "(No column name)": "9db",
                                    "kat_id": "15"
                                },
                                {
                                    "(No column name)": "NULL",
                                    "kat_id": "15"
                                },
                                {
                                    "(No column name)": "5db",
                                    "kat_id": "16"
                                },
                                {
                                    "(No column name)": "6db",
                                    "kat_id": "16"
                                },
                                {
                                    "(No column name)": "7db",
                                    "kat_id": "16"
                                },
                                {
                                    "(No column name)": "8db",
                                    "kat_id": "16"
                                },
                                {
                                    "(No column name)": "9db",
                                    "kat_id": "16"
                                },
                                {
                                    "(No column name)": "NULL",
                                    "kat_id": "16"
                                },
                                {
                                    "(No column name)": "8db",
                                    "kat_id": "17"
                                },
                                {
                                    "(No column name)": "NULL",
                                    "kat_id": "17"
                                },
                                {
                                    "(No column name)": "8csomag",
                                    "kat_id": "18"
                                },
                                {
                                    "(No column name)": "8db",
                                    "kat_id": "18"
                                },
                                {
                                    "(No column name)": "NULL",
                                    "kat_id": "18"
                                },
                                {
                                    "(No column name)": "5db",
                                    "kat_id": "19"
                                },
                                {
                                    "(No column name)": "6db",
                                    "kat_id": "19"
                                },
                                {
                                    "(No column name)": "7db",
                                    "kat_id": "19"
                                },
                                {
                                    "(No column name)": "8db",
                                    "kat_id": "19"
                                },
                                {
                                    "(No column name)": "9db",
                                    "kat_id": "19"
                                },
                                {
                                    "(No column name)": "NULL",
                                    "kat_id": "19"
                                },
                                {
                                    "(No column name)": "7db",
                                    "kat_id": "20"
                                },
                                {
                                    "(No column name)": "9db",
                                    "kat_id": "20"
                                },
                                {
                                    "(No column name)": "NULL",
                                    "kat_id": "20"
                                },
                                {
                                    "(No column name)": "5csomag",
                                    "kat_id": "21"
                                },
                                {
                                    "(No column name)": "5ív",
                                    "kat_id": "21"
                                },
                                {
                                    "(No column name)": "6ív",
                                    "kat_id": "21"
                                },
                                {
                                    "(No column name)": "9Ív",
                                    "kat_id": "21"
                                },
                                {
                                    "(No column name)": "NULL",
                                    "kat_id": "21"
                                },
                                {
                                    "(No column name)": "7db",
                                    "kat_id": "22"
                                },
                                {
                                    "(No column name)": "8csomag",
                                    "kat_id": "22"
                                },
                                {
                                    "(No column name)": "NULL",
                                    "kat_id": "22"
                                },
                                {
                                    "(No column name)": "5db",
                                    "kat_id": "24"
                                },
                                {
                                    "(No column name)": "5ív",
                                    "kat_id": "24"
                                },
                                {
                                    "(No column name)": "6db",
                                    "kat_id": "24"
                                },
                                {
                                    "(No column name)": "7db",
                                    "kat_id": "24"
                                },
                                {
                                    "(No column name)": "9db",
                                    "kat_id": "24"
                                },
                                {
                                    "(No column name)": "9ív",
                                    "kat_id": "24"
                                },
                                {
                                    "(No column name)": "NULL",
                                    "kat_id": "24"
                                },
                                {
                                    "(No column name)": "5db",
                                    "kat_id": "25"
                                },
                                {
                                    "(No column name)": "6db",
                                    "kat_id": "25"
                                },
                                {
                                    "(No column name)": "7db",
                                    "kat_id": "25"
                                },
                                {
                                    "(No column name)": "8db",
                                    "kat_id": "25"
                                },
                                {
                                    "(No column name)": "NULL",
                                    "kat_id": "25"
                                },
                                {
                                    "(No column name)": "9ív",
                                    "kat_id": "26"
                                },
                                {
                                    "(No column name)": "NULL",
                                    "kat_id": "26"
                                },
                                {
                                    "(No column name)": "5db",
                                    "kat_id": "27"
                                },
                                {
                                    "(No column name)": "7db",
                                    "kat_id": "27"
                                },
                                {
                                    "(No column name)": "9db",
                                    "kat_id": "27"
                                },
                                {
                                    "(No column name)": "NULL",
                                    "kat_id": "27"
                                },
                                {
                                    "(No column name)": "6db",
                                    "kat_id": "28"
                                },
                                {
                                    "(No column name)": "8db",
                                    "kat_id": "28"
                                },
                                {
                                    "(No column name)": "NULL",
                                    "kat_id": "28"
                                },
                                {
                                    "(No column name)": "9db",
                                    "kat_id": "29"
                                },
                                {
                                    "(No column name)": "NULL",
                                    "kat_id": "29"
                                },
                                {
                                    "(No column name)": "5db",
                                    "kat_id": "30"
                                },
                                {
                                    "(No column name)": "6db",
                                    "kat_id": "30"
                                },
                                {
                                    "(No column name)": "7db",
                                    "kat_id": "30"
                                },
                                {
                                    "(No column name)": "8db",
                                    "kat_id": "30"
                                },
                                {
                                    "(No column name)": "9db",
                                    "kat_id": "30"
                                },
                                {
                                    "(No column name)": "NULL",
                                    "kat_id": "30"
                                },
                                {
                                    "(No column name)": "5db",
                                    "kat_id": "31"
                                },
                                {
                                    "(No column name)": "NULL",
                                    "kat_id": "31"
                                },
                                {
                                    "(No column name)": "6db",
                                    "kat_id": "32"
                                },
                                {
                                    "(No column name)": "7db",
                                    "kat_id": "32"
                                },
                                {
                                    "(No column name)": "NULL",
                                    "kat_id": "32"
                                },
                                {
                                    "(No column name)": "7db",
                                    "kat_id": "33"
                                },
                                {
                                    "(No column name)": "NULL",
                                    "kat_id": "33"
                                },
                                {
                                    "(No column name)": "9db",
                                    "kat_id": "34"
                                },
                                {
                                    "(No column name)": "NULL",
                                    "kat_id": "34"
                                },
                                {
                                    "(No column name)": "1db",
                                    "kat_id": "35"
                                },
                                {
                                    "(No column name)": "2db",
                                    "kat_id": "35"
                                },
                                {
                                    "(No column name)": "3db",
                                    "kat_id": "35"
                                },
                                {
                                    "(No column name)": "4db",
                                    "kat_id": "35"
                                },
                                {
                                    "(No column name)": "NULL",
                                    "kat_id": "35"
                                },
                                {
                                    "(No column name)": "5csomag",
                                    "kat_id": "36"
                                },
                                {
                                    "(No column name)": "6csomag",
                                    "kat_id": "36"
                                },
                                {
                                    "(No column name)": "9csomag",
                                    "kat_id": "36"
                                },
                                {
                                    "(No column name)": "NULL",
                                    "kat_id": "36"
                                },
                                {
                                    "(No column name)": "1db",
                                    "kat_id": "37"
                                },
                                {
                                    "(No column name)": "NULL",
                                    "kat_id": "37"
                                },
                                {
                                    "(No column name)": "1db",
                                    "kat_id": "38"
                                },
                                {
                                    "(No column name)": "NULL",
                                    "kat_id": "38"
                                },
                                {
                                    "(No column name)": "1db",
                                    "kat_id": "39"
                                },
                                {
                                    "(No column name)": "3db",
                                    "kat_id": "39"
                                },
                                {
                                    "(No column name)": "NULL",
                                    "kat_id": "39"
                                },
                                {
                                    "(No column name)": "6db",
                                    "kat_id": "40"
                                },
                                {
                                    "(No column name)": "NULL",
                                    "kat_id": "40"
                                },
                                {
                                    "(No column name)": "5db",
                                    "kat_id": "41"
                                },
                                {
                                    "(No column name)": "7db",
                                    "kat_id": "41"
                                },
                                {
                                    "(No column name)": "8db",
                                    "kat_id": "41"
                                },
                                {
                                    "(No column name)": "9csomag",
                                    "kat_id": "41"
                                },
                                {
                                    "(No column name)": "9db",
                                    "kat_id": "41"
                                },
                                {
                                    "(No column name)": "NULL",
                                    "kat_id": "41"
                                },
                                {
                                    "(No column name)": "7db",
                                    "kat_id": "42"
                                },
                                {
                                    "(No column name)": "NULL",
                                    "kat_id": "42"
                                },
                                {
                                    "(No column name)": "8ív",
                                    "kat_id": "43"
                                },
                                {
                                    "(No column name)": "9ív",
                                    "kat_id": "43"
                                },
                                {
                                    "(No column name)": "NULL",
                                    "kat_id": "43"
                                },
                                {
                                    "(No column name)": "9db",
                                    "kat_id": "44"
                                },
                                {
                                    "(No column name)": "NULL",
                                    "kat_id": "44"
                                },
                                {
                                    "(No column name)": "5db",
                                    "kat_id": "45"
                                },
                                {
                                    "(No column name)": "6db",
                                    "kat_id": "45"
                                },
                                {
                                    "(No column name)": "7db",
                                    "kat_id": "45"
                                },
                                {
                                    "(No column name)": "8db",
                                    "kat_id": "45"
                                },
                                {
                                    "(No column name)": "9db",
                                    "kat_id": "45"
                                },
                                {
                                    "(No column name)": "NULL",
                                    "kat_id": "45"
                                },
                                {
                                    "(No column name)": "2db",
                                    "kat_id": "46"
                                },
                                {
                                    "(No column name)": "6db",
                                    "kat_id": "46"
                                },
                                {
                                    "(No column name)": "7csomag",
                                    "kat_id": "46"
                                },
                                {
                                    "(No column name)": "7db",
                                    "kat_id": "46"
                                },
                                {
                                    "(No column name)": "9db",
                                    "kat_id": "46"
                                },
                                {
                                    "(No column name)": "NULL",
                                    "kat_id": "46"
                                },
                                {
                                    "(No column name)": "6db",
                                    "kat_id": "47"
                                },
                                {
                                    "(No column name)": "7db",
                                    "kat_id": "47"
                                },
                                {
                                    "(No column name)": "9db",
                                    "kat_id": "47"
                                },
                                {
                                    "(No column name)": "NULL",
                                    "kat_id": "47"
                                },
                                {
                                    "(No column name)": "7db",
                                    "kat_id": "48"
                                },
                                {
                                    "(No column name)": "8db",
                                    "kat_id": "48"
                                },
                                {
                                    "(No column name)": "NULL",
                                    "kat_id": "48"
                                },
                                {
                                    "(No column name)": "5csomag",
                                    "kat_id": "49"
                                },
                                {
                                    "(No column name)": "8csomag",
                                    "kat_id": "49"
                                },
                                {
                                    "(No column name)": "NULL",
                                    "kat_id": "49"
                                },
                                {
                                    "(No column name)": "7csomag",
                                    "kat_id": "50"
                                },
                                {
                                    "(No column name)": "NULL",
                                    "kat_id": "50"
                                },
                                {
                                    "(No column name)": "7csomag",
                                    "kat_id": "51"
                                },
                                {
                                    "(No column name)": "8db",
                                    "kat_id": "51"
                                },
                                {
                                    "(No column name)": "9csomag",
                                    "kat_id": "51"
                                },
                                {
                                    "(No column name)": "NULL",
                                    "kat_id": "51"
                                },
                                {
                                    "(No column name)": "5db",
                                    "kat_id": "52"
                                },
                                {
                                    "(No column name)": "6db",
                                    "kat_id": "52"
                                },
                                {
                                    "(No column name)": "7db",
                                    "kat_id": "52"
                                },
                                {
                                    "(No column name)": "8db",
                                    "kat_id": "52"
                                },
                                {
                                    "(No column name)": "9db",
                                    "kat_id": "52"
                                },
                                {
                                    "(No column name)": "NULL",
                                    "kat_id": "52"
                                },
                                {
                                    "(No column name)": "9csomag",
                                    "kat_id": "53"
                                },
                                {
                                    "(No column name)": "NULL",
                                    "kat_id": "53"
                                },
                                {
                                    "(No column name)": "1db",
                                    "kat_id": "54"
                                },
                                {
                                    "(No column name)": "2db",
                                    "kat_id": "54"
                                },
                                {
                                    "(No column name)": "3db",
                                    "kat_id": "54"
                                },
                                {
                                    "(No column name)": "NULL",
                                    "kat_id": "54"
                                },
                                {
                                    "(No column name)": "1db",
                                    "kat_id": "55"
                                },
                                {
                                    "(No column name)": "NULL",
                                    "kat_id": "55"
                                },
                                {
                                    "(No column name)": "1db",
                                    "kat_id": "56"
                                },
                                {
                                    "(No column name)": "3db",
                                    "kat_id": "56"
                                },
                                {
                                    "(No column name)": "NULL",
                                    "kat_id": "56"
                                },
                                {
                                    "(No column name)": "3db",
                                    "kat_id": "57"
                                },
                                {
                                    "(No column name)": "NULL",
                                    "kat_id": "57"
                                },
                                {
                                    "(No column name)": "5db",
                                    "kat_id": "58"
                                },
                                {
                                    "(No column name)": "7db",
                                    "kat_id": "58"
                                },
                                {
                                    "(No column name)": "8db",
                                    "kat_id": "58"
                                },
                                {
                                    "(No column name)": "NULL",
                                    "kat_id": "58"
                                },
                                {
                                    "(No column name)": "5csomag",
                                    "kat_id": "59"
                                },
                                {
                                    "(No column name)": "6db",
                                    "kat_id": "59"
                                },
                                {
                                    "(No column name)": "8db",
                                    "kat_id": "59"
                                },
                                {
                                    "(No column name)": "9csomag",
                                    "kat_id": "59"
                                },
                                {
                                    "(No column name)": "NULL",
                                    "kat_id": "59"
                                },
                                {
                                    "(No column name)": "6db",
                                    "kat_id": "60"
                                },
                                {
                                    "(No column name)": "7db",
                                    "kat_id": "60"
                                },
                                {
                                    "(No column name)": "9db",
                                    "kat_id": "60"
                                },
                                {
                                    "(No column name)": "NULL",
                                    "kat_id": "60"
                                },
                                {
                                    "(No column name)": "8db",
                                    "kat_id": "61"
                                },
                                {
                                    "(No column name)": "NULL",
                                    "kat_id": "61"
                                },
                                {
                                    "(No column name)": "9db",
                                    "kat_id": "62"
                                },
                                {
                                    "(No column name)": "NULL",
                                    "kat_id": "62"
                                },
                                {
                                    "(No column name)": "6db",
                                    "kat_id": "64"
                                },
                                {
                                    "(No column name)": "8db",
                                    "kat_id": "64"
                                },
                                {
                                    "(No column name)": "NULL",
                                    "kat_id": "64"
                                },
                                {
                                    "(No column name)": "7db",
                                    "kat_id": "65"
                                },
                                {
                                    "(No column name)": "9db",
                                    "kat_id": "65"
                                },
                                {
                                    "(No column name)": "NULL",
                                    "kat_id": "65"
                                },
                                {
                                    "(No column name)": "5db",
                                    "kat_id": "66"
                                },
                                {
                                    "(No column name)": "6db",
                                    "kat_id": "66"
                                },
                                {
                                    "(No column name)": "7db",
                                    "kat_id": "66"
                                },
                                {
                                    "(No column name)": "8db",
                                    "kat_id": "66"
                                },
                                {
                                    "(No column name)": "9db",
                                    "kat_id": "66"
                                },
                                {
                                    "(No column name)": "NULL",
                                    "kat_id": "66"
                                },
                                {
                                    "(No column name)": "7db",
                                    "kat_id": "67"
                                },
                                {
                                    "(No column name)": "8db",
                                    "kat_id": "67"
                                },
                                {
                                    "(No column name)": "NULL",
                                    "kat_id": "67"
                                },
                                {
                                    "(No column name)": "5db",
                                    "kat_id": "68"
                                },
                                {
                                    "(No column name)": "NULL",
                                    "kat_id": "68"
                                },
                                {
                                    "(No column name)": "6db",
                                    "kat_id": "70"
                                },
                                {
                                    "(No column name)": "8db",
                                    "kat_id": "70"
                                },
                                {
                                    "(No column name)": "NULL",
                                    "kat_id": "70"
                                },
                                {
                                    "(No column name)": "5db",
                                    "kat_id": "71"
                                },
                                {
                                    "(No column name)": "9db",
                                    "kat_id": "71"
                                },
                                {
                                    "(No column name)": "NULL",
                                    "kat_id": "71"
                                },
                                {
                                    "(No column name)": "6db",
                                    "kat_id": "72"
                                },
                                {
                                    "(No column name)": "7db",
                                    "kat_id": "72"
                                },
                                {
                                    "(No column name)": "NULL",
                                    "kat_id": "72"
                                },
                                {
                                    "(No column name)": "7db",
                                    "kat_id": "73"
                                },
                                {
                                    "(No column name)": "8db",
                                    "kat_id": "73"
                                },
                                {
                                    "(No column name)": "NULL",
                                    "kat_id": "73"
                                },
                                {
                                    "(No column name)": "5db",
                                    "kat_id": "74"
                                },
                                {
                                    "(No column name)": "NULL",
                                    "kat_id": "74"
                                },
                                {
                                    "(No column name)": "8db",
                                    "kat_id": "75"
                                },
                                {
                                    "(No column name)": "NULL",
                                    "kat_id": "75"
                                },
                                {
                                    "(No column name)": "5db",
                                    "kat_id": "76"
                                },
                                {
                                    "(No column name)": "6db",
                                    "kat_id": "76"
                                },
                                {
                                    "(No column name)": "7db",
                                    "kat_id": "76"
                                },
                                {
                                    "(No column name)": "NULL",
                                    "kat_id": "76"
                                },
                                {
                                    "(No column name)": "5csomag",
                                    "kat_id": "78"
                                },
                                {
                                    "(No column name)": "5db",
                                    "kat_id": "78"
                                },
                                {
                                    "(No column name)": "6csomag",
                                    "kat_id": "78"
                                },
                                {
                                    "(No column name)": "6db",
                                    "kat_id": "78"
                                },
                                {
                                    "(No column name)": "7csomag",
                                    "kat_id": "78"
                                },
                                {
                                    "(No column name)": "7db",
                                    "kat_id": "78"
                                },
                                {
                                    "(No column name)": "8db",
                                    "kat_id": "78"
                                },
                                {
                                    "(No column name)": "9db",
                                    "kat_id": "78"
                                },
                                {
                                    "(No column name)": "NULL",
                                    "kat_id": "78"
                                },
                                {
                                    "(No column name)": "7db",
                                    "kat_id": "79"
                                },
                                {
                                    "(No column name)": "NULL",
                                    "kat_id": "79"
                                },
                                {
                                    "(No column name)": "5db",
                                    "kat_id": "80"
                                },
                                {
                                    "(No column name)": "NULL",
                                    "kat_id": "80"
                                },
                                {
                                    "(No column name)": "8db",
                                    "kat_id": "82"
                                },
                                {
                                    "(No column name)": "NULL",
                                    "kat_id": "82"
                                },
                                {
                                    "(No column name)": "5ív",
                                    "kat_id": "83"
                                },
                                {
                                    "(No column name)": "6ív",
                                    "kat_id": "83"
                                },
                                {
                                    "(No column name)": "7ív",
                                    "kat_id": "83"
                                },
                                {
                                    "(No column name)": "8ív",
                                    "kat_id": "83"
                                },
                                {
                                    "(No column name)": "9ív",
                                    "kat_id": "83"
                                },
                                {
                                    "(No column name)": "NULL",
                                    "kat_id": "83"
                                },
                                {
                                    "(No column name)": "6db",
                                    "kat_id": "84"
                                },
                                {
                                    "(No column name)": "NULL",
                                    "kat_id": "84"
                                },
                                {
                                    "(No column name)": "5db",
                                    "kat_id": "85"
                                },
                                {
                                    "(No column name)": "6db",
                                    "kat_id": "85"
                                },
                                {
                                    "(No column name)": "7db",
                                    "kat_id": "85"
                                },
                                {
                                    "(No column name)": "8db",
                                    "kat_id": "85"
                                },
                                {
                                    "(No column name)": "9db",
                                    "kat_id": "85"
                                },
                                {
                                    "(No column name)": "NULL",
                                    "kat_id": "85"
                                },
                                {
                                    "(No column name)": "7db",
                                    "kat_id": "86"
                                },
                                {
                                    "(No column name)": "NULL",
                                    "kat_id": "86"
                                },
                                {
                                    "(No column name)": "2db",
                                    "kat_id": "88"
                                },
                                {
                                    "(No column name)": "3db",
                                    "kat_id": "88"
                                },
                                {
                                    "(No column name)": "NULL",
                                    "kat_id": "88"
                                },
                                {
                                    "(No column name)": "5db",
                                    "kat_id": "89"
                                },
                                {
                                    "(No column name)": "6db",
                                    "kat_id": "89"
                                },
                                {
                                    "(No column name)": "8db",
                                    "kat_id": "89"
                                },
                                {
                                    "(No column name)": "NULL",
                                    "kat_id": "89"
                                },
                                {
                                    "(No column name)": "5ív",
                                    "kat_id": "90"
                                },
                                {
                                    "(No column name)": "8Ív",
                                    "kat_id": "90"
                                },
                                {
                                    "(No column name)": "NULL",
                                    "kat_id": "90"
                                },
                                {
                                    "(No column name)": "8db",
                                    "kat_id": "91"
                                },
                                {
                                    "(No column name)": "9db",
                                    "kat_id": "91"
                                },
                                {
                                    "(No column name)": "NULL",
                                    "kat_id": "91"
                                },
                                {
                                    "(No column name)": "7db",
                                    "kat_id": "92"
                                },
                                {
                                    "(No column name)": "8db",
                                    "kat_id": "92"
                                },
                                {
                                    "(No column name)": "NULL",
                                    "kat_id": "92"
                                },
                                {
                                    "(No column name)": "6csomag",
                                    "kat_id": "93"
                                },
                                {
                                    "(No column name)": "6db",
                                    "kat_id": "93"
                                },
                                {
                                    "(No column name)": "7db",
                                    "kat_id": "93"
                                },
                                {
                                    "(No column name)": "NULL",
                                    "kat_id": "93"
                                },
                                {
                                    "(No column name)": "6db",
                                    "kat_id": "94"
                                },
                                {
                                    "(No column name)": "7db",
                                    "kat_id": "94"
                                },
                                {
                                    "(No column name)": "NULL",
                                    "kat_id": "94"
                                },
                                {
                                    "(No column name)": "7db",
                                    "kat_id": "95"
                                },
                                {
                                    "(No column name)": "9db",
                                    "kat_id": "95"
                                },
                                {
                                    "(No column name)": "NULL",
                                    "kat_id": "95"
                                },
                                {
                                    "(No column name)": "6db",
                                    "kat_id": "96"
                                },
                                {
                                    "(No column name)": "7db",
                                    "kat_id": "96"
                                },
                                {
                                    "(No column name)": "8db",
                                    "kat_id": "96"
                                },
                                {
                                    "(No column name)": "9db",
                                    "kat_id": "96"
                                },
                                {
                                    "(No column name)": "NULL",
                                    "kat_id": "96"
                                },
                                {
                                    "(No column name)": "5db",
                                    "kat_id": "97"
                                },
                                {
                                    "(No column name)": "6db",
                                    "kat_id": "97"
                                },
                                {
                                    "(No column name)": "7db",
                                    "kat_id": "97"
                                },
                                {
                                    "(No column name)": "8db",
                                    "kat_id": "97"
                                },
                                {
                                    "(No column name)": "9db",
                                    "kat_id": "97"
                                },
                                {
                                    "(No column name)": "NULL",
                                    "kat_id": "97"
                                },
                                {
                                    "(No column name)": "5db",
                                    "kat_id": "98"
                                },
                                {
                                    "(No column name)": "6db",
                                    "kat_id": "98"
                                },
                                {
                                    "(No column name)": "9db",
                                    "kat_id": "98"
                                },
                                {
                                    "(No column name)": "NULL",
                                    "kat_id": "98"
                                },
                                {
                                    "(No column name)": "6db",
                                    "kat_id": "99"
                                },
                                {
                                    "(No column name)": "NULL",
                                    "kat_id": "99"
                                },
                                {
                                    "(No column name)": "5db",
                                    "kat_id": "100"
                                },
                                {
                                    "(No column name)": "6db",
                                    "kat_id": "100"
                                },
                                {
                                    "(No column name)": "7db",
                                    "kat_id": "100"
                                },
                                {
                                    "(No column name)": "8db",
                                    "kat_id": "100"
                                },
                                {
                                    "(No column name)": "9db",
                                    "kat_id": "100"
                                },
                                {
                                    "(No column name)": "NULL",
                                    "kat_id": "100"
                                },
                                {
                                    "(No column name)": "8ív",
                                    "kat_id": "101"
                                },
                                {
                                    "(No column name)": "NULL",
                                    "kat_id": "101"
                                },
                                {
                                    "(No column name)": "8db",
                                    "kat_id": "103"
                                },
                                {
                                    "(No column name)": "NULL",
                                    "kat_id": "103"
                                },
                                {
                                    "(No column name)": "8db",
                                    "kat_id": "104"
                                },
                                {
                                    "(No column name)": "9db",
                                    "kat_id": "104"
                                },
                                {
                                    "(No column name)": "NULL",
                                    "kat_id": "104"
                                },
                                {
                                    "(No column name)": "9db",
                                    "kat_id": "105"
                                },
                                {
                                    "(No column name)": "NULL",
                                    "kat_id": "105"
                                },
                                {
                                    "(No column name)": "5db",
                                    "kat_id": "106"
                                },
                                {
                                    "(No column name)": "6db",
                                    "kat_id": "106"
                                },
                                {
                                    "(No column name)": "9db",
                                    "kat_id": "106"
                                },
                                {
                                    "(No column name)": "NULL",
                                    "kat_id": "106"
                                },
                                {
                                    "(No column name)": "1db",
                                    "kat_id": "107"
                                },
                                {
                                    "(No column name)": "NULL",
                                    "kat_id": "107"
                                },
                                {
                                    "(No column name)": "2db",
                                    "kat_id": "108"
                                },
                                {
                                    "(No column name)": "NULL",
                                    "kat_id": "108"
                                },
                                {
                                    "(No column name)": "7ív",
                                    "kat_id": "109"
                                },
                                {
                                    "(No column name)": "NULL",
                                    "kat_id": "109"
                                },
                                {
                                    "(No column name)": "9db",
                                    "kat_id": "110"
                                },
                                {
                                    "(No column name)": "NULL",
                                    "kat_id": "110"
                                },
                                {
                                    "(No column name)": "5db",
                                    "kat_id": "111"
                                },
                                {
                                    "(No column name)": "7db",
                                    "kat_id": "111"
                                },
                                {
                                    "(No column name)": "8db",
                                    "kat_id": "111"
                                },
                                {
                                    "(No column name)": "NULL",
                                    "kat_id": "111"
                                },
                                {
                                    "(No column name)": "5doboz",
                                    "kat_id": "112"
                                },
                                {
                                    "(No column name)": "8db",
                                    "kat_id": "112"
                                },
                                {
                                    "(No column name)": "NULL",
                                    "kat_id": "112"
                                },
                                {
                                    "(No column name)": "8csomag",
                                    "kat_id": "114"
                                },
                                {
                                    "(No column name)": "NULL",
                                    "kat_id": "114"
                                },
                                {
                                    "(No column name)": "8ív",
                                    "kat_id": "115"
                                },
                                {
                                    "(No column name)": "NULL",
                                    "kat_id": "115"
                                },
                                {
                                    "(No column name)": "6db",
                                    "kat_id": "116"
                                },
                                {
                                    "(No column name)": "7db",
                                    "kat_id": "116"
                                },
                                {
                                    "(No column name)": "NULL",
                                    "kat_id": "116"
                                },
                                {
                                    "(No column name)": "6db",
                                    "kat_id": "117"
                                },
                                {
                                    "(No column name)": "9db",
                                    "kat_id": "117"
                                },
                                {
                                    "(No column name)": "NULL",
                                    "kat_id": "117"
                                },
                                {
                                    "(No column name)": "5db",
                                    "kat_id": "118"
                                },
                                {
                                    "(No column name)": "7db",
                                    "kat_id": "118"
                                },
                                {
                                    "(No column name)": "8db",
                                    "kat_id": "118"
                                },
                                {
                                    "(No column name)": "9db",
                                    "kat_id": "118"
                                },
                                {
                                    "(No column name)": "NULL",
                                    "kat_id": "118"
                                },
                                {
                                    "(No column name)": "5db",
                                    "kat_id": "119"
                                },
                                {
                                    "(No column name)": "7db",
                                    "kat_id": "119"
                                },
                                {
                                    "(No column name)": "9db",
                                    "kat_id": "119"
                                },
                                {
                                    "(No column name)": "NULL",
                                    "kat_id": "119"
                                },
                                {
                                    "(No column name)": "7db",
                                    "kat_id": "121"
                                },
                                {
                                    "(No column name)": "8db",
                                    "kat_id": "121"
                                },
                                {
                                    "(No column name)": "NULL",
                                    "kat_id": "121"
                                },
                                {
                                    "(No column name)": "6db",
                                    "kat_id": "122"
                                },
                                {
                                    "(No column name)": "7db",
                                    "kat_id": "122"
                                },
                                {
                                    "(No column name)": "8db",
                                    "kat_id": "122"
                                },
                                {
                                    "(No column name)": "9db",
                                    "kat_id": "122"
                                },
                                {
                                    "(No column name)": "NULL",
                                    "kat_id": "122"
                                },
                                {
                                    "(No column name)": "5db",
                                    "kat_id": "123"
                                },
                                {
                                    "(No column name)": "7db",
                                    "kat_id": "123"
                                },
                                {
                                    "(No column name)": "NULL",
                                    "kat_id": "123"
                                },
                                {
                                    "(No column name)": "5db",
                                    "kat_id": "124"
                                },
                                {
                                    "(No column name)": "6db",
                                    "kat_id": "124"
                                },
                                {
                                    "(No column name)": "7db",
                                    "kat_id": "124"
                                },
                                {
                                    "(No column name)": "8db",
                                    "kat_id": "124"
                                },
                                {
                                    "(No column name)": "9db",
                                    "kat_id": "124"
                                },
                                {
                                    "(No column name)": "NULL",
                                    "kat_id": "124"
                                },
                                {
                                    "(No column name)": "6db",
                                    "kat_id": "125"
                                },
                                {
                                    "(No column name)": "7db",
                                    "kat_id": "125"
                                },
                                {
                                    "(No column name)": "9db",
                                    "kat_id": "125"
                                },
                                {
                                    "(No column name)": "NULL",
                                    "kat_id": "125"
                                },
                                {
                                    "(No column name)": "9csomag",
                                    "kat_id": "126"
                                },
                                {
                                    "(No column name)": "NULL",
                                    "kat_id": "126"
                                },
                                {
                                    "(No column name)": "5csomag",
                                    "kat_id": "127"
                                },
                                {
                                    "(No column name)": "9csomag",
                                    "kat_id": "127"
                                },
                                {
                                    "(No column name)": "NULL",
                                    "kat_id": "127"
                                },
                                {
                                    "(No column name)": "6db",
                                    "kat_id": "128"
                                },
                                {
                                    "(No column name)": "8csomag",
                                    "kat_id": "128"
                                },
                                {
                                    "(No column name)": "NULL",
                                    "kat_id": "128"
                                },
                                {
                                    "(No column name)": "5db",
                                    "kat_id": "129"
                                },
                                {
                                    "(No column name)": "9db",
                                    "kat_id": "129"
                                },
                                {
                                    "(No column name)": "NULL",
                                    "kat_id": "129"
                                },
                                {
                                    "(No column name)": "1db",
                                    "kat_id": "130"
                                },
                                {
                                    "(No column name)": "NULL",
                                    "kat_id": "130"
                                },
                                {
                                    "(No column name)": "9db",
                                    "kat_id": "131"
                                },
                                {
                                    "(No column name)": "NULL",
                                    "kat_id": "131"
                                },
                                {
                                    "(No column name)": "8db",
                                    "kat_id": "132"
                                },
                                {
                                    "(No column name)": "NULL",
                                    "kat_id": "132"
                                },
                                {
                                    "(No column name)": "5csomag",
                                    "kat_id": "133"
                                },
                                {
                                    "(No column name)": "6csomag",
                                    "kat_id": "133"
                                },
                                {
                                    "(No column name)": "7csomag",
                                    "kat_id": "133"
                                },
                                {
                                    "(No column name)": "8csomag",
                                    "kat_id": "133"
                                },
                                {
                                    "(No column name)": "9csomag",
                                    "kat_id": "133"
                                },
                                {
                                    "(No column name)": "NULL",
                                    "kat_id": "133"
                                },
                                {
                                    "(No column name)": "5db",
                                    "kat_id": "134"
                                },
                                {
                                    "(No column name)": "6db",
                                    "kat_id": "134"
                                },
                                {
                                    "(No column name)": "NULL",
                                    "kat_id": "134"
                                },
                                {
                                    "(No column name)": "7csomag",
                                    "kat_id": "135"
                                },
                                {
                                    "(No column name)": "NULL",
                                    "kat_id": "135"
                                },
                                {
                                    "(No column name)": "7db",
                                    "kat_id": "136"
                                },
                                {
                                    "(No column name)": "8db",
                                    "kat_id": "136"
                                },
                                {
                                    "(No column name)": "NULL",
                                    "kat_id": "136"
                                },
                                {
                                    "(No column name)": "6db",
                                    "kat_id": "137"
                                },
                                {
                                    "(No column name)": "9db",
                                    "kat_id": "137"
                                },
                                {
                                    "(No column name)": "NULL",
                                    "kat_id": "137"
                                },
                                {
                                    "(No column name)": "5db",
                                    "kat_id": "138"
                                },
                                {
                                    "(No column name)": "6csomag",
                                    "kat_id": "138"
                                },
                                {
                                    "(No column name)": "7db",
                                    "kat_id": "138"
                                },
                                {
                                    "(No column name)": "8db",
                                    "kat_id": "138"
                                },
                                {
                                    "(No column name)": "9db",
                                    "kat_id": "138"
                                },
                                {
                                    "(No column name)": "NULL",
                                    "kat_id": "138"
                                },
                                {
                                    "(No column name)": "9csomag",
                                    "kat_id": "139"
                                },
                                {
                                    "(No column name)": "NULL",
                                    "kat_id": "139"
                                },
                                {
                                    "(No column name)": "6db",
                                    "kat_id": "140"
                                },
                                {
                                    "(No column name)": "NULL",
                                    "kat_id": "140"
                                },
                                {
                                    "(No column name)": "8db",
                                    "kat_id": "141"
                                },
                                {
                                    "(No column name)": "NULL",
                                    "kat_id": "141"
                                },
                                {
                                    "(No column name)": "6csomag",
                                    "kat_id": "142"
                                },
                                {
                                    "(No column name)": "NULL",
                                    "kat_id": "142"
                                },
                                {
                                    "(No column name)": "7csomag",
                                    "kat_id": "143"
                                },
                                {
                                    "(No column name)": "7db",
                                    "kat_id": "143"
                                },
                                {
                                    "(No column name)": "9db",
                                    "kat_id": "143"
                                },
                                {
                                    "(No column name)": "NULL",
                                    "kat_id": "143"
                                },
                                {
                                    "(No column name)": "5db",
                                    "kat_id": "144"
                                },
                                {
                                    "(No column name)": "9db",
                                    "kat_id": "144"
                                },
                                {
                                    "(No column name)": "NULL",
                                    "kat_id": "144"
                                },
                                {
                                    "(No column name)": "5db",
                                    "kat_id": "145"
                                },
                                {
                                    "(No column name)": "6db",
                                    "kat_id": "145"
                                },
                                {
                                    "(No column name)": "7db",
                                    "kat_id": "145"
                                },
                                {
                                    "(No column name)": "8db",
                                    "kat_id": "145"
                                },
                                {
                                    "(No column name)": "9db",
                                    "kat_id": "145"
                                },
                                {
                                    "(No column name)": "NULL",
                                    "kat_id": "145"
                                },
                                {
                                    "(No column name)": "5db",
                                    "kat_id": "146"
                                },
                                {
                                    "(No column name)": "7db",
                                    "kat_id": "146"
                                },
                                {
                                    "(No column name)": "8csomag",
                                    "kat_id": "146"
                                },
                                {
                                    "(No column name)": "9db",
                                    "kat_id": "146"
                                },
                                {
                                    "(No column name)": "NULL",
                                    "kat_id": "146"
                                },
                                {
                                    "(No column name)": "8db",
                                    "kat_id": "147"
                                },
                                {
                                    "(No column name)": "NULL",
                                    "kat_id": "147"
                                },
                                {
                                    "(No column name)": "5üveg",
                                    "kat_id": "148"
                                },
                                {
                                    "(No column name)": "NULL",
                                    "kat_id": "148"
                                },
                                {
                                    "(No column name)": "5db",
                                    "kat_id": "149"
                                },
                                {
                                    "(No column name)": "6db",
                                    "kat_id": "149"
                                },
                                {
                                    "(No column name)": "8db",
                                    "kat_id": "149"
                                },
                                {
                                    "(No column name)": "NULL",
                                    "kat_id": "149"
                                },
                                {
                                    "(No column name)": "7csomag",
                                    "kat_id": "150"
                                },
                                {
                                    "(No column name)": "9csomag",
                                    "kat_id": "150"
                                },
                                {
                                    "(No column name)": "NULL",
                                    "kat_id": "150"
                                },
                                {
                                    "(No column name)": "6db",
                                    "kat_id": "151"
                                },
                                {
                                    "(No column name)": "7db",
                                    "kat_id": "151"
                                },
                                {
                                    "(No column name)": "NULL",
                                    "kat_id": "151"
                                },
                                {
                                    "(No column name)": "6db",
                                    "kat_id": "152"
                                },
                                {
                                    "(No column name)": "7db",
                                    "kat_id": "152"
                                },
                                {
                                    "(No column name)": "8db",
                                    "kat_id": "152"
                                },
                                {
                                    "(No column name)": "9db",
                                    "kat_id": "152"
                                },
                                {
                                    "(No column name)": "NULL",
                                    "kat_id": "152"
                                },
                                {
                                    "(No column name)": "5db",
                                    "kat_id": "153"
                                },
                                {
                                    "(No column name)": "NULL",
                                    "kat_id": "153"
                                },
                                {
                                    "(No column name)": "7csomag",
                                    "kat_id": "154"
                                },
                                {
                                    "(No column name)": "7db",
                                    "kat_id": "154"
                                },
                                {
                                    "(No column name)": "9db",
                                    "kat_id": "154"
                                },
                                {
                                    "(No column name)": "NULL",
                                    "kat_id": "154"
                                },
                                {
                                    "(No column name)": "8db",
                                    "kat_id": "155"
                                },
                                {
                                    "(No column name)": "NULL",
                                    "kat_id": "155"
                                },
                                {
                                    "(No column name)": "NULL",
                                    "kat_id": "NULL"
                                }
                            ]
                        },
                        "text/html": [
                            "<table>",
                            "<tr><th>(No column name)</th><th>kat_id</th><th>(No column name)</th></tr>",
                            "<tr><td>3</td><td>4</td><td>5db</td></tr>",
                            "<tr><td>3</td><td>4</td><td>6db</td></tr>",
                            "<tr><td>1</td><td>4</td><td>7db</td></tr>",
                            "<tr><td>6</td><td>4</td><td>8db</td></tr>",
                            "<tr><td>2</td><td>4</td><td>9db</td></tr>",
                            "<tr><td>15</td><td>4</td><td>NULL</td></tr>",
                            "<tr><td>2</td><td>5</td><td>5db</td></tr>",
                            "<tr><td>1</td><td>5</td><td>9db</td></tr>",
                            "<tr><td>3</td><td>5</td><td>NULL</td></tr>",
                            "<tr><td>5</td><td>6</td><td>6db</td></tr>",
                            "<tr><td>3</td><td>6</td><td>7db</td></tr>",
                            "<tr><td>1</td><td>6</td><td>7tekercs</td></tr>",
                            "<tr><td>8</td><td>6</td><td>8db</td></tr>",
                            "<tr><td>3</td><td>6</td><td>9db</td></tr>",
                            "<tr><td>20</td><td>6</td><td>NULL</td></tr>",
                            "<tr><td>1</td><td>7</td><td>7db</td></tr>",
                            "<tr><td>2</td><td>7</td><td>8db</td></tr>",
                            "<tr><td>3</td><td>7</td><td>NULL</td></tr>",
                            "<tr><td>1</td><td>8</td><td>3db</td></tr>",
                            "<tr><td>2</td><td>8</td><td>4db</td></tr>",
                            "<tr><td>3</td><td>8</td><td>NULL</td></tr>",
                            "<tr><td>1</td><td>9</td><td>6db</td></tr>",
                            "<tr><td>1</td><td>9</td><td>9db</td></tr>",
                            "<tr><td>2</td><td>9</td><td>NULL</td></tr>",
                            "<tr><td>1</td><td>10</td><td>9db</td></tr>",
                            "<tr><td>1</td><td>10</td><td>NULL</td></tr>",
                            "<tr><td>1</td><td>11</td><td>8db</td></tr>",
                            "<tr><td>1</td><td>11</td><td>NULL</td></tr>",
                            "<tr><td>1</td><td>12</td><td>5db</td></tr>",
                            "<tr><td>1</td><td>12</td><td>NULL</td></tr>",
                            "<tr><td>1</td><td>13</td><td>5db</td></tr>",
                            "<tr><td>1</td><td>13</td><td>8db</td></tr>",
                            "<tr><td>2</td><td>13</td><td>NULL</td></tr>",
                            "<tr><td>2</td><td>14</td><td>6db</td></tr>",
                            "<tr><td>1</td><td>14</td><td>7db</td></tr>",
                            "<tr><td>1</td><td>14</td><td>8db</td></tr>",
                            "<tr><td>4</td><td>14</td><td>NULL</td></tr>",
                            "<tr><td>1</td><td>15</td><td>9db</td></tr>",
                            "<tr><td>1</td><td>15</td><td>NULL</td></tr>",
                            "<tr><td>1</td><td>16</td><td>5db</td></tr>",
                            "<tr><td>3</td><td>16</td><td>6db</td></tr>",
                            "<tr><td>1</td><td>16</td><td>7db</td></tr>",
                            "<tr><td>1</td><td>16</td><td>8db</td></tr>",
                            "<tr><td>1</td><td>16</td><td>9db</td></tr>",
                            "<tr><td>7</td><td>16</td><td>NULL</td></tr>",
                            "<tr><td>1</td><td>17</td><td>8db</td></tr>",
                            "<tr><td>1</td><td>17</td><td>NULL</td></tr>",
                            "<tr><td>1</td><td>18</td><td>8csomag</td></tr>",
                            "<tr><td>1</td><td>18</td><td>8db</td></tr>",
                            "<tr><td>2</td><td>18</td><td>NULL</td></tr>",
                            "<tr><td>4</td><td>19</td><td>5db</td></tr>",
                            "<tr><td>5</td><td>19</td><td>6db</td></tr>",
                            "<tr><td>5</td><td>19</td><td>7db</td></tr>",
                            "<tr><td>1</td><td>19</td><td>8db</td></tr>",
                            "<tr><td>4</td><td>19</td><td>9db</td></tr>",
                            "<tr><td>19</td><td>19</td><td>NULL</td></tr>",
                            "<tr><td>2</td><td>20</td><td>7db</td></tr>",
                            "<tr><td>1</td><td>20</td><td>9db</td></tr>",
                            "<tr><td>3</td><td>20</td><td>NULL</td></tr>",
                            "<tr><td>1</td><td>21</td><td>5csomag</td></tr>",
                            "<tr><td>1</td><td>21</td><td>5ív</td></tr>",
                            "<tr><td>2</td><td>21</td><td>6ív</td></tr>",
                            "<tr><td>1</td><td>21</td><td>9Ív</td></tr>",
                            "<tr><td>5</td><td>21</td><td>NULL</td></tr>",
                            "<tr><td>1</td><td>22</td><td>7db</td></tr>",
                            "<tr><td>1</td><td>22</td><td>8csomag</td></tr>",
                            "<tr><td>2</td><td>22</td><td>NULL</td></tr>",
                            "<tr><td>1</td><td>24</td><td>5db</td></tr>",
                            "<tr><td>1</td><td>24</td><td>5ív</td></tr>",
                            "<tr><td>1</td><td>24</td><td>6db</td></tr>",
                            "<tr><td>2</td><td>24</td><td>7db</td></tr>",
                            "<tr><td>1</td><td>24</td><td>9db</td></tr>",
                            "<tr><td>1</td><td>24</td><td>9ív</td></tr>",
                            "<tr><td>7</td><td>24</td><td>NULL</td></tr>",
                            "<tr><td>1</td><td>25</td><td>5db</td></tr>",
                            "<tr><td>1</td><td>25</td><td>6db</td></tr>",
                            "<tr><td>1</td><td>25</td><td>7db</td></tr>",
                            "<tr><td>1</td><td>25</td><td>8db</td></tr>",
                            "<tr><td>4</td><td>25</td><td>NULL</td></tr>",
                            "<tr><td>1</td><td>26</td><td>9ív</td></tr>",
                            "<tr><td>1</td><td>26</td><td>NULL</td></tr>",
                            "<tr><td>1</td><td>27</td><td>5db</td></tr>",
                            "<tr><td>1</td><td>27</td><td>7db</td></tr>",
                            "<tr><td>1</td><td>27</td><td>9db</td></tr>",
                            "<tr><td>3</td><td>27</td><td>NULL</td></tr>",
                            "<tr><td>1</td><td>28</td><td>6db</td></tr>",
                            "<tr><td>4</td><td>28</td><td>8db</td></tr>",
                            "<tr><td>5</td><td>28</td><td>NULL</td></tr>",
                            "<tr><td>1</td><td>29</td><td>9db</td></tr>",
                            "<tr><td>1</td><td>29</td><td>NULL</td></tr>",
                            "<tr><td>1</td><td>30</td><td>5db</td></tr>",
                            "<tr><td>1</td><td>30</td><td>6db</td></tr>",
                            "<tr><td>1</td><td>30</td><td>7db</td></tr>",
                            "<tr><td>3</td><td>30</td><td>8db</td></tr>",
                            "<tr><td>1</td><td>30</td><td>9db</td></tr>",
                            "<tr><td>7</td><td>30</td><td>NULL</td></tr>",
                            "<tr><td>1</td><td>31</td><td>5db</td></tr>",
                            "<tr><td>1</td><td>31</td><td>NULL</td></tr>",
                            "<tr><td>1</td><td>32</td><td>6db</td></tr>",
                            "<tr><td>2</td><td>32</td><td>7db</td></tr>",
                            "<tr><td>3</td><td>32</td><td>NULL</td></tr>",
                            "<tr><td>1</td><td>33</td><td>7db</td></tr>",
                            "<tr><td>1</td><td>33</td><td>NULL</td></tr>",
                            "<tr><td>1</td><td>34</td><td>9db</td></tr>",
                            "<tr><td>1</td><td>34</td><td>NULL</td></tr>",
                            "<tr><td>1</td><td>35</td><td>1db</td></tr>",
                            "<tr><td>1</td><td>35</td><td>2db</td></tr>",
                            "<tr><td>3</td><td>35</td><td>3db</td></tr>",
                            "<tr><td>2</td><td>35</td><td>4db</td></tr>",
                            "<tr><td>7</td><td>35</td><td>NULL</td></tr>",
                            "<tr><td>1</td><td>36</td><td>5csomag</td></tr>",
                            "<tr><td>2</td><td>36</td><td>6csomag</td></tr>",
                            "<tr><td>2</td><td>36</td><td>9csomag</td></tr>",
                            "<tr><td>5</td><td>36</td><td>NULL</td></tr>",
                            "<tr><td>1</td><td>37</td><td>1db</td></tr>",
                            "<tr><td>1</td><td>37</td><td>NULL</td></tr>",
                            "<tr><td>1</td><td>38</td><td>1db</td></tr>",
                            "<tr><td>1</td><td>38</td><td>NULL</td></tr>",
                            "<tr><td>1</td><td>39</td><td>1db</td></tr>",
                            "<tr><td>1</td><td>39</td><td>3db</td></tr>",
                            "<tr><td>2</td><td>39</td><td>NULL</td></tr>",
                            "<tr><td>1</td><td>40</td><td>6db</td></tr>",
                            "<tr><td>1</td><td>40</td><td>NULL</td></tr>",
                            "<tr><td>5</td><td>41</td><td>5db</td></tr>",
                            "<tr><td>1</td><td>41</td><td>7db</td></tr>",
                            "<tr><td>4</td><td>41</td><td>8db</td></tr>",
                            "<tr><td>1</td><td>41</td><td>9csomag</td></tr>",
                            "<tr><td>2</td><td>41</td><td>9db</td></tr>",
                            "<tr><td>13</td><td>41</td><td>NULL</td></tr>",
                            "<tr><td>1</td><td>42</td><td>7db</td></tr>",
                            "<tr><td>1</td><td>42</td><td>NULL</td></tr>",
                            "<tr><td>2</td><td>43</td><td>8ív</td></tr>",
                            "<tr><td>1</td><td>43</td><td>9ív</td></tr>",
                            "<tr><td>3</td><td>43</td><td>NULL</td></tr>",
                            "<tr><td>1</td><td>44</td><td>9db</td></tr>",
                            "<tr><td>1</td><td>44</td><td>NULL</td></tr>",
                            "<tr><td>1</td><td>45</td><td>5db</td></tr>",
                            "<tr><td>2</td><td>45</td><td>6db</td></tr>",
                            "<tr><td>2</td><td>45</td><td>7db</td></tr>",
                            "<tr><td>3</td><td>45</td><td>8db</td></tr>",
                            "<tr><td>3</td><td>45</td><td>9db</td></tr>",
                            "<tr><td>11</td><td>45</td><td>NULL</td></tr>",
                            "<tr><td>1</td><td>46</td><td>2db</td></tr>",
                            "<tr><td>2</td><td>46</td><td>6db</td></tr>",
                            "<tr><td>1</td><td>46</td><td>7csomag</td></tr>",
                            "<tr><td>1</td><td>46</td><td>7db</td></tr>",
                            "<tr><td>2</td><td>46</td><td>9db</td></tr>",
                            "<tr><td>7</td><td>46</td><td>NULL</td></tr>",
                            "<tr><td>2</td><td>47</td><td>6db</td></tr>",
                            "<tr><td>1</td><td>47</td><td>7db</td></tr>",
                            "<tr><td>1</td><td>47</td><td>9db</td></tr>",
                            "<tr><td>4</td><td>47</td><td>NULL</td></tr>",
                            "<tr><td>1</td><td>48</td><td>7db</td></tr>",
                            "<tr><td>1</td><td>48</td><td>8db</td></tr>",
                            "<tr><td>2</td><td>48</td><td>NULL</td></tr>",
                            "<tr><td>1</td><td>49</td><td>5csomag</td></tr>",
                            "<tr><td>1</td><td>49</td><td>8csomag</td></tr>",
                            "<tr><td>2</td><td>49</td><td>NULL</td></tr>",
                            "<tr><td>1</td><td>50</td><td>7csomag</td></tr>",
                            "<tr><td>1</td><td>50</td><td>NULL</td></tr>",
                            "<tr><td>1</td><td>51</td><td>7csomag</td></tr>",
                            "<tr><td>1</td><td>51</td><td>8db</td></tr>",
                            "<tr><td>1</td><td>51</td><td>9csomag</td></tr>",
                            "<tr><td>3</td><td>51</td><td>NULL</td></tr>",
                            "<tr><td>4</td><td>52</td><td>5db</td></tr>",
                            "<tr><td>5</td><td>52</td><td>6db</td></tr>",
                            "<tr><td>4</td><td>52</td><td>7db</td></tr>",
                            "<tr><td>8</td><td>52</td><td>8db</td></tr>",
                            "<tr><td>5</td><td>52</td><td>9db</td></tr>",
                            "<tr><td>26</td><td>52</td><td>NULL</td></tr>",
                            "<tr><td>1</td><td>53</td><td>9csomag</td></tr>",
                            "<tr><td>1</td><td>53</td><td>NULL</td></tr>",
                            "<tr><td>2</td><td>54</td><td>1db</td></tr>",
                            "<tr><td>1</td><td>54</td><td>2db</td></tr>",
                            "<tr><td>3</td><td>54</td><td>3db</td></tr>",
                            "<tr><td>6</td><td>54</td><td>NULL</td></tr>",
                            "<tr><td>2</td><td>55</td><td>1db</td></tr>",
                            "<tr><td>2</td><td>55</td><td>NULL</td></tr>",
                            "<tr><td>1</td><td>56</td><td>1db</td></tr>",
                            "<tr><td>3</td><td>56</td><td>3db</td></tr>",
                            "<tr><td>4</td><td>56</td><td>NULL</td></tr>",
                            "<tr><td>2</td><td>57</td><td>3db</td></tr>",
                            "<tr><td>2</td><td>57</td><td>NULL</td></tr>",
                            "<tr><td>1</td><td>58</td><td>5db</td></tr>",
                            "<tr><td>1</td><td>58</td><td>7db</td></tr>",
                            "<tr><td>1</td><td>58</td><td>8db</td></tr>",
                            "<tr><td>3</td><td>58</td><td>NULL</td></tr>",
                            "<tr><td>1</td><td>59</td><td>5csomag</td></tr>",
                            "<tr><td>1</td><td>59</td><td>6db</td></tr>",
                            "<tr><td>1</td><td>59</td><td>8db</td></tr>",
                            "<tr><td>1</td><td>59</td><td>9csomag</td></tr>",
                            "<tr><td>4</td><td>59</td><td>NULL</td></tr>",
                            "<tr><td>1</td><td>60</td><td>6db</td></tr>",
                            "<tr><td>1</td><td>60</td><td>7db</td></tr>",
                            "<tr><td>3</td><td>60</td><td>9db</td></tr>",
                            "<tr><td>5</td><td>60</td><td>NULL</td></tr>",
                            "<tr><td>1</td><td>61</td><td>8db</td></tr>",
                            "<tr><td>1</td><td>61</td><td>NULL</td></tr>",
                            "<tr><td>2</td><td>62</td><td>9db</td></tr>",
                            "<tr><td>2</td><td>62</td><td>NULL</td></tr>",
                            "<tr><td>2</td><td>64</td><td>6db</td></tr>",
                            "<tr><td>2</td><td>64</td><td>8db</td></tr>",
                            "<tr><td>4</td><td>64</td><td>NULL</td></tr>",
                            "<tr><td>1</td><td>65</td><td>7db</td></tr>",
                            "<tr><td>1</td><td>65</td><td>9db</td></tr>",
                            "<tr><td>2</td><td>65</td><td>NULL</td></tr>",
                            "<tr><td>1</td><td>66</td><td>5db</td></tr>",
                            "<tr><td>1</td><td>66</td><td>6db</td></tr>",
                            "<tr><td>3</td><td>66</td><td>7db</td></tr>",
                            "<tr><td>1</td><td>66</td><td>8db</td></tr>",
                            "<tr><td>1</td><td>66</td><td>9db</td></tr>",
                            "<tr><td>7</td><td>66</td><td>NULL</td></tr>",
                            "<tr><td>1</td><td>67</td><td>7db</td></tr>",
                            "<tr><td>1</td><td>67</td><td>8db</td></tr>",
                            "<tr><td>2</td><td>67</td><td>NULL</td></tr>",
                            "<tr><td>2</td><td>68</td><td>5db</td></tr>",
                            "<tr><td>2</td><td>68</td><td>NULL</td></tr>",
                            "<tr><td>1</td><td>70</td><td>6db</td></tr>",
                            "<tr><td>2</td><td>70</td><td>8db</td></tr>",
                            "<tr><td>3</td><td>70</td><td>NULL</td></tr>",
                            "<tr><td>1</td><td>71</td><td>5db</td></tr>",
                            "<tr><td>1</td><td>71</td><td>9db</td></tr>",
                            "<tr><td>2</td><td>71</td><td>NULL</td></tr>",
                            "<tr><td>1</td><td>72</td><td>6db</td></tr>",
                            "<tr><td>1</td><td>72</td><td>7db</td></tr>",
                            "<tr><td>2</td><td>72</td><td>NULL</td></tr>",
                            "<tr><td>1</td><td>73</td><td>7db</td></tr>",
                            "<tr><td>1</td><td>73</td><td>8db</td></tr>",
                            "<tr><td>2</td><td>73</td><td>NULL</td></tr>",
                            "<tr><td>1</td><td>74</td><td>5db</td></tr>",
                            "<tr><td>1</td><td>74</td><td>NULL</td></tr>",
                            "<tr><td>2</td><td>75</td><td>8db</td></tr>",
                            "<tr><td>2</td><td>75</td><td>NULL</td></tr>",
                            "<tr><td>1</td><td>76</td><td>5db</td></tr>",
                            "<tr><td>3</td><td>76</td><td>6db</td></tr>",
                            "<tr><td>1</td><td>76</td><td>7db</td></tr>",
                            "<tr><td>5</td><td>76</td><td>NULL</td></tr>",
                            "<tr><td>1</td><td>78</td><td>5csomag</td></tr>",
                            "<tr><td>3</td><td>78</td><td>5db</td></tr>",
                            "<tr><td>2</td><td>78</td><td>6csomag</td></tr>",
                            "<tr><td>6</td><td>78</td><td>6db</td></tr>",
                            "<tr><td>1</td><td>78</td><td>7csomag</td></tr>",
                            "<tr><td>5</td><td>78</td><td>7db</td></tr>",
                            "<tr><td>5</td><td>78</td><td>8db</td></tr>",
                            "<tr><td>1</td><td>78</td><td>9db</td></tr>",
                            "<tr><td>24</td><td>78</td><td>NULL</td></tr>",
                            "<tr><td>4</td><td>79</td><td>7db</td></tr>",
                            "<tr><td>4</td><td>79</td><td>NULL</td></tr>",
                            "<tr><td>1</td><td>80</td><td>5db</td></tr>",
                            "<tr><td>1</td><td>80</td><td>NULL</td></tr>",
                            "<tr><td>1</td><td>82</td><td>8db</td></tr>",
                            "<tr><td>1</td><td>82</td><td>NULL</td></tr>",
                            "<tr><td>2</td><td>83</td><td>5ív</td></tr>",
                            "<tr><td>1</td><td>83</td><td>6ív</td></tr>",
                            "<tr><td>1</td><td>83</td><td>7ív</td></tr>",
                            "<tr><td>1</td><td>83</td><td>8ív</td></tr>",
                            "<tr><td>1</td><td>83</td><td>9ív</td></tr>",
                            "<tr><td>6</td><td>83</td><td>NULL</td></tr>",
                            "<tr><td>1</td><td>84</td><td>6db</td></tr>",
                            "<tr><td>1</td><td>84</td><td>NULL</td></tr>",
                            "<tr><td>4</td><td>85</td><td>5db</td></tr>",
                            "<tr><td>3</td><td>85</td><td>6db</td></tr>",
                            "<tr><td>2</td><td>85</td><td>7db</td></tr>",
                            "<tr><td>3</td><td>85</td><td>8db</td></tr>",
                            "<tr><td>4</td><td>85</td><td>9db</td></tr>",
                            "<tr><td>16</td><td>85</td><td>NULL</td></tr>",
                            "<tr><td>1</td><td>86</td><td>7db</td></tr>",
                            "<tr><td>1</td><td>86</td><td>NULL</td></tr>",
                            "<tr><td>1</td><td>88</td><td>2db</td></tr>",
                            "<tr><td>1</td><td>88</td><td>3db</td></tr>",
                            "<tr><td>2</td><td>88</td><td>NULL</td></tr>",
                            "<tr><td>1</td><td>89</td><td>5db</td></tr>",
                            "<tr><td>1</td><td>89</td><td>6db</td></tr>",
                            "<tr><td>1</td><td>89</td><td>8db</td></tr>",
                            "<tr><td>3</td><td>89</td><td>NULL</td></tr>",
                            "<tr><td>1</td><td>90</td><td>5ív</td></tr>",
                            "<tr><td>1</td><td>90</td><td>8Ív</td></tr>",
                            "<tr><td>2</td><td>90</td><td>NULL</td></tr>",
                            "<tr><td>4</td><td>91</td><td>8db</td></tr>",
                            "<tr><td>3</td><td>91</td><td>9db</td></tr>",
                            "<tr><td>7</td><td>91</td><td>NULL</td></tr>",
                            "<tr><td>1</td><td>92</td><td>7db</td></tr>",
                            "<tr><td>1</td><td>92</td><td>8db</td></tr>",
                            "<tr><td>2</td><td>92</td><td>NULL</td></tr>",
                            "<tr><td>2</td><td>93</td><td>6csomag</td></tr>",
                            "<tr><td>3</td><td>93</td><td>6db</td></tr>",
                            "<tr><td>2</td><td>93</td><td>7db</td></tr>",
                            "<tr><td>7</td><td>93</td><td>NULL</td></tr>",
                            "<tr><td>1</td><td>94</td><td>6db</td></tr>",
                            "<tr><td>1</td><td>94</td><td>7db</td></tr>",
                            "<tr><td>2</td><td>94</td><td>NULL</td></tr>",
                            "<tr><td>1</td><td>95</td><td>7db</td></tr>",
                            "<tr><td>1</td><td>95</td><td>9db</td></tr>",
                            "<tr><td>2</td><td>95</td><td>NULL</td></tr>",
                            "<tr><td>2</td><td>96</td><td>6db</td></tr>",
                            "<tr><td>2</td><td>96</td><td>7db</td></tr>",
                            "<tr><td>3</td><td>96</td><td>8db</td></tr>",
                            "<tr><td>2</td><td>96</td><td>9db</td></tr>",
                            "<tr><td>9</td><td>96</td><td>NULL</td></tr>",
                            "<tr><td>3</td><td>97</td><td>5db</td></tr>",
                            "<tr><td>1</td><td>97</td><td>6db</td></tr>",
                            "<tr><td>1</td><td>97</td><td>7db</td></tr>",
                            "<tr><td>1</td><td>97</td><td>8db</td></tr>",
                            "<tr><td>4</td><td>97</td><td>9db</td></tr>",
                            "<tr><td>10</td><td>97</td><td>NULL</td></tr>",
                            "<tr><td>2</td><td>98</td><td>5db</td></tr>",
                            "<tr><td>1</td><td>98</td><td>6db</td></tr>",
                            "<tr><td>1</td><td>98</td><td>9db</td></tr>",
                            "<tr><td>4</td><td>98</td><td>NULL</td></tr>",
                            "<tr><td>1</td><td>99</td><td>6db</td></tr>",
                            "<tr><td>1</td><td>99</td><td>NULL</td></tr>",
                            "<tr><td>2</td><td>100</td><td>5db</td></tr>",
                            "<tr><td>4</td><td>100</td><td>6db</td></tr>",
                            "<tr><td>1</td><td>100</td><td>7db</td></tr>",
                            "<tr><td>1</td><td>100</td><td>8db</td></tr>",
                            "<tr><td>1</td><td>100</td><td>9db</td></tr>",
                            "<tr><td>9</td><td>100</td><td>NULL</td></tr>",
                            "<tr><td>1</td><td>101</td><td>8ív</td></tr>",
                            "<tr><td>1</td><td>101</td><td>NULL</td></tr>",
                            "<tr><td>1</td><td>103</td><td>8db</td></tr>",
                            "<tr><td>1</td><td>103</td><td>NULL</td></tr>",
                            "<tr><td>1</td><td>104</td><td>8db</td></tr>",
                            "<tr><td>1</td><td>104</td><td>9db</td></tr>",
                            "<tr><td>2</td><td>104</td><td>NULL</td></tr>",
                            "<tr><td>1</td><td>105</td><td>9db</td></tr>",
                            "<tr><td>1</td><td>105</td><td>NULL</td></tr>",
                            "<tr><td>1</td><td>106</td><td>5db</td></tr>",
                            "<tr><td>2</td><td>106</td><td>6db</td></tr>",
                            "<tr><td>2</td><td>106</td><td>9db</td></tr>",
                            "<tr><td>5</td><td>106</td><td>NULL</td></tr>",
                            "<tr><td>1</td><td>107</td><td>1db</td></tr>",
                            "<tr><td>1</td><td>107</td><td>NULL</td></tr>",
                            "<tr><td>1</td><td>108</td><td>2db</td></tr>",
                            "<tr><td>1</td><td>108</td><td>NULL</td></tr>",
                            "<tr><td>1</td><td>109</td><td>7ív</td></tr>",
                            "<tr><td>1</td><td>109</td><td>NULL</td></tr>",
                            "<tr><td>2</td><td>110</td><td>9db</td></tr>",
                            "<tr><td>2</td><td>110</td><td>NULL</td></tr>",
                            "<tr><td>1</td><td>111</td><td>5db</td></tr>",
                            "<tr><td>1</td><td>111</td><td>7db</td></tr>",
                            "<tr><td>1</td><td>111</td><td>8db</td></tr>",
                            "<tr><td>3</td><td>111</td><td>NULL</td></tr>",
                            "<tr><td>1</td><td>112</td><td>5doboz</td></tr>",
                            "<tr><td>1</td><td>112</td><td>8db</td></tr>",
                            "<tr><td>2</td><td>112</td><td>NULL</td></tr>",
                            "<tr><td>1</td><td>114</td><td>8csomag</td></tr>",
                            "<tr><td>1</td><td>114</td><td>NULL</td></tr>",
                            "<tr><td>1</td><td>115</td><td>8ív</td></tr>",
                            "<tr><td>1</td><td>115</td><td>NULL</td></tr>",
                            "<tr><td>1</td><td>116</td><td>6db</td></tr>",
                            "<tr><td>1</td><td>116</td><td>7db</td></tr>",
                            "<tr><td>2</td><td>116</td><td>NULL</td></tr>",
                            "<tr><td>1</td><td>117</td><td>6db</td></tr>",
                            "<tr><td>1</td><td>117</td><td>9db</td></tr>",
                            "<tr><td>2</td><td>117</td><td>NULL</td></tr>",
                            "<tr><td>3</td><td>118</td><td>5db</td></tr>",
                            "<tr><td>1</td><td>118</td><td>7db</td></tr>",
                            "<tr><td>4</td><td>118</td><td>8db</td></tr>",
                            "<tr><td>1</td><td>118</td><td>9db</td></tr>",
                            "<tr><td>9</td><td>118</td><td>NULL</td></tr>",
                            "<tr><td>1</td><td>119</td><td>5db</td></tr>",
                            "<tr><td>1</td><td>119</td><td>7db</td></tr>",
                            "<tr><td>1</td><td>119</td><td>9db</td></tr>",
                            "<tr><td>3</td><td>119</td><td>NULL</td></tr>",
                            "<tr><td>1</td><td>121</td><td>7db</td></tr>",
                            "<tr><td>1</td><td>121</td><td>8db</td></tr>",
                            "<tr><td>2</td><td>121</td><td>NULL</td></tr>",
                            "<tr><td>1</td><td>122</td><td>6db</td></tr>",
                            "<tr><td>1</td><td>122</td><td>7db</td></tr>",
                            "<tr><td>3</td><td>122</td><td>8db</td></tr>",
                            "<tr><td>2</td><td>122</td><td>9db</td></tr>",
                            "<tr><td>7</td><td>122</td><td>NULL</td></tr>",
                            "<tr><td>1</td><td>123</td><td>5db</td></tr>",
                            "<tr><td>1</td><td>123</td><td>7db</td></tr>",
                            "<tr><td>2</td><td>123</td><td>NULL</td></tr>",
                            "<tr><td>2</td><td>124</td><td>5db</td></tr>",
                            "<tr><td>2</td><td>124</td><td>6db</td></tr>",
                            "<tr><td>1</td><td>124</td><td>7db</td></tr>",
                            "<tr><td>3</td><td>124</td><td>8db</td></tr>",
                            "<tr><td>2</td><td>124</td><td>9db</td></tr>",
                            "<tr><td>10</td><td>124</td><td>NULL</td></tr>",
                            "<tr><td>1</td><td>125</td><td>6db</td></tr>",
                            "<tr><td>1</td><td>125</td><td>7db</td></tr>",
                            "<tr><td>2</td><td>125</td><td>9db</td></tr>",
                            "<tr><td>4</td><td>125</td><td>NULL</td></tr>",
                            "<tr><td>1</td><td>126</td><td>9csomag</td></tr>",
                            "<tr><td>1</td><td>126</td><td>NULL</td></tr>",
                            "<tr><td>1</td><td>127</td><td>5csomag</td></tr>",
                            "<tr><td>1</td><td>127</td><td>9csomag</td></tr>",
                            "<tr><td>2</td><td>127</td><td>NULL</td></tr>",
                            "<tr><td>1</td><td>128</td><td>6db</td></tr>",
                            "<tr><td>1</td><td>128</td><td>8csomag</td></tr>",
                            "<tr><td>2</td><td>128</td><td>NULL</td></tr>",
                            "<tr><td>1</td><td>129</td><td>5db</td></tr>",
                            "<tr><td>1</td><td>129</td><td>9db</td></tr>",
                            "<tr><td>2</td><td>129</td><td>NULL</td></tr>",
                            "<tr><td>1</td><td>130</td><td>1db</td></tr>",
                            "<tr><td>1</td><td>130</td><td>NULL</td></tr>",
                            "<tr><td>1</td><td>131</td><td>9db</td></tr>",
                            "<tr><td>1</td><td>131</td><td>NULL</td></tr>",
                            "<tr><td>1</td><td>132</td><td>8db</td></tr>",
                            "<tr><td>1</td><td>132</td><td>NULL</td></tr>",
                            "<tr><td>1</td><td>133</td><td>5csomag</td></tr>",
                            "<tr><td>1</td><td>133</td><td>6csomag</td></tr>",
                            "<tr><td>1</td><td>133</td><td>7csomag</td></tr>",
                            "<tr><td>2</td><td>133</td><td>8csomag</td></tr>",
                            "<tr><td>1</td><td>133</td><td>9csomag</td></tr>",
                            "<tr><td>6</td><td>133</td><td>NULL</td></tr>",
                            "<tr><td>1</td><td>134</td><td>5db</td></tr>",
                            "<tr><td>1</td><td>134</td><td>6db</td></tr>",
                            "<tr><td>2</td><td>134</td><td>NULL</td></tr>",
                            "<tr><td>1</td><td>135</td><td>7csomag</td></tr>",
                            "<tr><td>1</td><td>135</td><td>NULL</td></tr>",
                            "<tr><td>1</td><td>136</td><td>7db</td></tr>",
                            "<tr><td>1</td><td>136</td><td>8db</td></tr>",
                            "<tr><td>2</td><td>136</td><td>NULL</td></tr>",
                            "<tr><td>2</td><td>137</td><td>6db</td></tr>",
                            "<tr><td>1</td><td>137</td><td>9db</td></tr>",
                            "<tr><td>3</td><td>137</td><td>NULL</td></tr>",
                            "<tr><td>1</td><td>138</td><td>5db</td></tr>",
                            "<tr><td>1</td><td>138</td><td>6csomag</td></tr>",
                            "<tr><td>1</td><td>138</td><td>7db</td></tr>",
                            "<tr><td>1</td><td>138</td><td>8db</td></tr>",
                            "<tr><td>1</td><td>138</td><td>9db</td></tr>",
                            "<tr><td>5</td><td>138</td><td>NULL</td></tr>",
                            "<tr><td>1</td><td>139</td><td>9csomag</td></tr>",
                            "<tr><td>1</td><td>139</td><td>NULL</td></tr>",
                            "<tr><td>1</td><td>140</td><td>6db</td></tr>",
                            "<tr><td>1</td><td>140</td><td>NULL</td></tr>",
                            "<tr><td>2</td><td>141</td><td>8db</td></tr>",
                            "<tr><td>2</td><td>141</td><td>NULL</td></tr>",
                            "<tr><td>1</td><td>142</td><td>6csomag</td></tr>",
                            "<tr><td>1</td><td>142</td><td>NULL</td></tr>",
                            "<tr><td>1</td><td>143</td><td>7csomag</td></tr>",
                            "<tr><td>1</td><td>143</td><td>7db</td></tr>",
                            "<tr><td>1</td><td>143</td><td>9db</td></tr>",
                            "<tr><td>3</td><td>143</td><td>NULL</td></tr>",
                            "<tr><td>1</td><td>144</td><td>5db</td></tr>",
                            "<tr><td>1</td><td>144</td><td>9db</td></tr>",
                            "<tr><td>2</td><td>144</td><td>NULL</td></tr>",
                            "<tr><td>4</td><td>145</td><td>5db</td></tr>",
                            "<tr><td>6</td><td>145</td><td>6db</td></tr>",
                            "<tr><td>3</td><td>145</td><td>7db</td></tr>",
                            "<tr><td>2</td><td>145</td><td>8db</td></tr>",
                            "<tr><td>3</td><td>145</td><td>9db</td></tr>",
                            "<tr><td>18</td><td>145</td><td>NULL</td></tr>",
                            "<tr><td>2</td><td>146</td><td>5db</td></tr>",
                            "<tr><td>3</td><td>146</td><td>7db</td></tr>",
                            "<tr><td>1</td><td>146</td><td>8csomag</td></tr>",
                            "<tr><td>1</td><td>146</td><td>9db</td></tr>",
                            "<tr><td>7</td><td>146</td><td>NULL</td></tr>",
                            "<tr><td>1</td><td>147</td><td>8db</td></tr>",
                            "<tr><td>1</td><td>147</td><td>NULL</td></tr>",
                            "<tr><td>1</td><td>148</td><td>5üveg</td></tr>",
                            "<tr><td>1</td><td>148</td><td>NULL</td></tr>",
                            "<tr><td>2</td><td>149</td><td>5db</td></tr>",
                            "<tr><td>2</td><td>149</td><td>6db</td></tr>",
                            "<tr><td>2</td><td>149</td><td>8db</td></tr>",
                            "<tr><td>6</td><td>149</td><td>NULL</td></tr>",
                            "<tr><td>1</td><td>150</td><td>7csomag</td></tr>",
                            "<tr><td>1</td><td>150</td><td>9csomag</td></tr>",
                            "<tr><td>2</td><td>150</td><td>NULL</td></tr>",
                            "<tr><td>2</td><td>151</td><td>6db</td></tr>",
                            "<tr><td>2</td><td>151</td><td>7db</td></tr>",
                            "<tr><td>4</td><td>151</td><td>NULL</td></tr>",
                            "<tr><td>1</td><td>152</td><td>6db</td></tr>",
                            "<tr><td>1</td><td>152</td><td>7db</td></tr>",
                            "<tr><td>3</td><td>152</td><td>8db</td></tr>",
                            "<tr><td>1</td><td>152</td><td>9db</td></tr>",
                            "<tr><td>6</td><td>152</td><td>NULL</td></tr>",
                            "<tr><td>1</td><td>153</td><td>5db</td></tr>",
                            "<tr><td>1</td><td>153</td><td>NULL</td></tr>",
                            "<tr><td>1</td><td>154</td><td>7csomag</td></tr>",
                            "<tr><td>2</td><td>154</td><td>7db</td></tr>",
                            "<tr><td>1</td><td>154</td><td>9db</td></tr>",
                            "<tr><td>4</td><td>154</td><td>NULL</td></tr>",
                            "<tr><td>1</td><td>155</td><td>8db</td></tr>",
                            "<tr><td>1</td><td>155</td><td>NULL</td></tr>",
                            "<tr><td>551</td><td>NULL</td><td>NULL</td></tr>",
                            "</table>"
                        ]
                    }
                }
            ],
            "execution_count": 6
        },
        {
            "cell_type": "markdown",
            "source": [
                "```\n",
                "3. Készítsünk listát az egyes termékkategóriákban lévő termékek számáról! \n",
                "\n",
                "```\n",
                "\n",
                "a. Elég megjeleníteni a kategóriák azonosítóit és a darabszámokat!   \n",
                "<span style=\"color: var(--vscode-foreground);\">b. A lista megfelelően jelölve tartalmazza a végösszeget is!&nbsp;<br></span> <span style=\"color: var(--vscode-foreground);\">c. Az oszlopokat nevezzük el értelemszerűen!&nbsp;<br></span> <span style=\"color: var(--vscode-foreground);\">d. A listát rendezzük a darabszám szerint növekvő sorrendbe!</span>\n",
                "\n",
                "  \n",
                "\n",
                "![](https://moodle.uni-corvinus.hu/theme/image.php/adaptable/atto_h5p/1709548862/icon)"
            ],
            "metadata": {
                "azdata_cell_guid": "d7876bb9-76d0-4d07-baed-3cb17b2f96c3"
            },
            "attachments": {}
        },
        {
            "cell_type": "code",
            "source": [
                "select IIF(GROUPING(KAT_ID)=1, 'Végösszeg', cast(kat_id as NVARCHAR) ) as 'kategoria id', count(*) as 'termékszám'\r\n",
                "from Termekkategoria\r\n",
                "group by ROLLUP(kat_id)\r\n",
                "order by count(*) ASC\r\n",
                ""
            ],
            "metadata": {
                "azdata_cell_guid": "56ec19ce-e249-4551-b2a8-f17569765acc",
                "language": "sql"
            },
            "outputs": [
                {
                    "output_type": "display_data",
                    "data": {
                        "text/html": "(156 rows affected)"
                    },
                    "metadata": {}
                },
                {
                    "output_type": "display_data",
                    "data": {
                        "text/html": "Total execution time: 00:00:00.059"
                    },
                    "metadata": {}
                },
                {
                    "output_type": "execute_result",
                    "metadata": {},
                    "execution_count": 18,
                    "data": {
                        "application/vnd.dataresource+json": {
                            "schema": {
                                "fields": [
                                    {
                                        "name": "kategoria id"
                                    },
                                    {
                                        "name": "termékszám"
                                    }
                                ]
                            },
                            "data": [
                                {
                                    "kategoria id": "1",
                                    "termékszám": "1"
                                },
                                {
                                    "kategoria id": "2",
                                    "termékszám": "1"
                                },
                                {
                                    "kategoria id": "3",
                                    "termékszám": "1"
                                },
                                {
                                    "kategoria id": "4",
                                    "termékszám": "1"
                                },
                                {
                                    "kategoria id": "5",
                                    "termékszám": "1"
                                },
                                {
                                    "kategoria id": "6",
                                    "termékszám": "1"
                                },
                                {
                                    "kategoria id": "7",
                                    "termékszám": "1"
                                },
                                {
                                    "kategoria id": "8",
                                    "termékszám": "1"
                                },
                                {
                                    "kategoria id": "9",
                                    "termékszám": "1"
                                },
                                {
                                    "kategoria id": "10",
                                    "termékszám": "1"
                                },
                                {
                                    "kategoria id": "11",
                                    "termékszám": "1"
                                },
                                {
                                    "kategoria id": "12",
                                    "termékszám": "1"
                                },
                                {
                                    "kategoria id": "13",
                                    "termékszám": "1"
                                },
                                {
                                    "kategoria id": "14",
                                    "termékszám": "1"
                                },
                                {
                                    "kategoria id": "15",
                                    "termékszám": "1"
                                },
                                {
                                    "kategoria id": "16",
                                    "termékszám": "1"
                                },
                                {
                                    "kategoria id": "17",
                                    "termékszám": "1"
                                },
                                {
                                    "kategoria id": "18",
                                    "termékszám": "1"
                                },
                                {
                                    "kategoria id": "19",
                                    "termékszám": "1"
                                },
                                {
                                    "kategoria id": "20",
                                    "termékszám": "1"
                                },
                                {
                                    "kategoria id": "21",
                                    "termékszám": "1"
                                },
                                {
                                    "kategoria id": "22",
                                    "termékszám": "1"
                                },
                                {
                                    "kategoria id": "23",
                                    "termékszám": "1"
                                },
                                {
                                    "kategoria id": "24",
                                    "termékszám": "1"
                                },
                                {
                                    "kategoria id": "25",
                                    "termékszám": "1"
                                },
                                {
                                    "kategoria id": "26",
                                    "termékszám": "1"
                                },
                                {
                                    "kategoria id": "27",
                                    "termékszám": "1"
                                },
                                {
                                    "kategoria id": "28",
                                    "termékszám": "1"
                                },
                                {
                                    "kategoria id": "29",
                                    "termékszám": "1"
                                },
                                {
                                    "kategoria id": "30",
                                    "termékszám": "1"
                                },
                                {
                                    "kategoria id": "31",
                                    "termékszám": "1"
                                },
                                {
                                    "kategoria id": "32",
                                    "termékszám": "1"
                                },
                                {
                                    "kategoria id": "33",
                                    "termékszám": "1"
                                },
                                {
                                    "kategoria id": "34",
                                    "termékszám": "1"
                                },
                                {
                                    "kategoria id": "35",
                                    "termékszám": "1"
                                },
                                {
                                    "kategoria id": "36",
                                    "termékszám": "1"
                                },
                                {
                                    "kategoria id": "37",
                                    "termékszám": "1"
                                },
                                {
                                    "kategoria id": "38",
                                    "termékszám": "1"
                                },
                                {
                                    "kategoria id": "39",
                                    "termékszám": "1"
                                },
                                {
                                    "kategoria id": "40",
                                    "termékszám": "1"
                                },
                                {
                                    "kategoria id": "41",
                                    "termékszám": "1"
                                },
                                {
                                    "kategoria id": "42",
                                    "termékszám": "1"
                                },
                                {
                                    "kategoria id": "43",
                                    "termékszám": "1"
                                },
                                {
                                    "kategoria id": "44",
                                    "termékszám": "1"
                                },
                                {
                                    "kategoria id": "45",
                                    "termékszám": "1"
                                },
                                {
                                    "kategoria id": "46",
                                    "termékszám": "1"
                                },
                                {
                                    "kategoria id": "47",
                                    "termékszám": "1"
                                },
                                {
                                    "kategoria id": "48",
                                    "termékszám": "1"
                                },
                                {
                                    "kategoria id": "49",
                                    "termékszám": "1"
                                },
                                {
                                    "kategoria id": "50",
                                    "termékszám": "1"
                                },
                                {
                                    "kategoria id": "51",
                                    "termékszám": "1"
                                },
                                {
                                    "kategoria id": "52",
                                    "termékszám": "1"
                                },
                                {
                                    "kategoria id": "53",
                                    "termékszám": "1"
                                },
                                {
                                    "kategoria id": "54",
                                    "termékszám": "1"
                                },
                                {
                                    "kategoria id": "55",
                                    "termékszám": "1"
                                },
                                {
                                    "kategoria id": "56",
                                    "termékszám": "1"
                                },
                                {
                                    "kategoria id": "57",
                                    "termékszám": "1"
                                },
                                {
                                    "kategoria id": "58",
                                    "termékszám": "1"
                                },
                                {
                                    "kategoria id": "59",
                                    "termékszám": "1"
                                },
                                {
                                    "kategoria id": "60",
                                    "termékszám": "1"
                                },
                                {
                                    "kategoria id": "61",
                                    "termékszám": "1"
                                },
                                {
                                    "kategoria id": "62",
                                    "termékszám": "1"
                                },
                                {
                                    "kategoria id": "63",
                                    "termékszám": "1"
                                },
                                {
                                    "kategoria id": "64",
                                    "termékszám": "1"
                                },
                                {
                                    "kategoria id": "65",
                                    "termékszám": "1"
                                },
                                {
                                    "kategoria id": "66",
                                    "termékszám": "1"
                                },
                                {
                                    "kategoria id": "67",
                                    "termékszám": "1"
                                },
                                {
                                    "kategoria id": "68",
                                    "termékszám": "1"
                                },
                                {
                                    "kategoria id": "69",
                                    "termékszám": "1"
                                },
                                {
                                    "kategoria id": "70",
                                    "termékszám": "1"
                                },
                                {
                                    "kategoria id": "71",
                                    "termékszám": "1"
                                },
                                {
                                    "kategoria id": "72",
                                    "termékszám": "1"
                                },
                                {
                                    "kategoria id": "73",
                                    "termékszám": "1"
                                },
                                {
                                    "kategoria id": "74",
                                    "termékszám": "1"
                                },
                                {
                                    "kategoria id": "75",
                                    "termékszám": "1"
                                },
                                {
                                    "kategoria id": "76",
                                    "termékszám": "1"
                                },
                                {
                                    "kategoria id": "77",
                                    "termékszám": "1"
                                },
                                {
                                    "kategoria id": "78",
                                    "termékszám": "1"
                                },
                                {
                                    "kategoria id": "79",
                                    "termékszám": "1"
                                },
                                {
                                    "kategoria id": "80",
                                    "termékszám": "1"
                                },
                                {
                                    "kategoria id": "81",
                                    "termékszám": "1"
                                },
                                {
                                    "kategoria id": "82",
                                    "termékszám": "1"
                                },
                                {
                                    "kategoria id": "83",
                                    "termékszám": "1"
                                },
                                {
                                    "kategoria id": "84",
                                    "termékszám": "1"
                                },
                                {
                                    "kategoria id": "85",
                                    "termékszám": "1"
                                },
                                {
                                    "kategoria id": "86",
                                    "termékszám": "1"
                                },
                                {
                                    "kategoria id": "87",
                                    "termékszám": "1"
                                },
                                {
                                    "kategoria id": "88",
                                    "termékszám": "1"
                                },
                                {
                                    "kategoria id": "89",
                                    "termékszám": "1"
                                },
                                {
                                    "kategoria id": "90",
                                    "termékszám": "1"
                                },
                                {
                                    "kategoria id": "91",
                                    "termékszám": "1"
                                },
                                {
                                    "kategoria id": "92",
                                    "termékszám": "1"
                                },
                                {
                                    "kategoria id": "93",
                                    "termékszám": "1"
                                },
                                {
                                    "kategoria id": "94",
                                    "termékszám": "1"
                                },
                                {
                                    "kategoria id": "95",
                                    "termékszám": "1"
                                },
                                {
                                    "kategoria id": "96",
                                    "termékszám": "1"
                                },
                                {
                                    "kategoria id": "97",
                                    "termékszám": "1"
                                },
                                {
                                    "kategoria id": "98",
                                    "termékszám": "1"
                                },
                                {
                                    "kategoria id": "99",
                                    "termékszám": "1"
                                },
                                {
                                    "kategoria id": "100",
                                    "termékszám": "1"
                                },
                                {
                                    "kategoria id": "101",
                                    "termékszám": "1"
                                },
                                {
                                    "kategoria id": "102",
                                    "termékszám": "1"
                                },
                                {
                                    "kategoria id": "103",
                                    "termékszám": "1"
                                },
                                {
                                    "kategoria id": "104",
                                    "termékszám": "1"
                                },
                                {
                                    "kategoria id": "105",
                                    "termékszám": "1"
                                },
                                {
                                    "kategoria id": "106",
                                    "termékszám": "1"
                                },
                                {
                                    "kategoria id": "107",
                                    "termékszám": "1"
                                },
                                {
                                    "kategoria id": "108",
                                    "termékszám": "1"
                                },
                                {
                                    "kategoria id": "109",
                                    "termékszám": "1"
                                },
                                {
                                    "kategoria id": "110",
                                    "termékszám": "1"
                                },
                                {
                                    "kategoria id": "111",
                                    "termékszám": "1"
                                },
                                {
                                    "kategoria id": "112",
                                    "termékszám": "1"
                                },
                                {
                                    "kategoria id": "113",
                                    "termékszám": "1"
                                },
                                {
                                    "kategoria id": "114",
                                    "termékszám": "1"
                                },
                                {
                                    "kategoria id": "115",
                                    "termékszám": "1"
                                },
                                {
                                    "kategoria id": "116",
                                    "termékszám": "1"
                                },
                                {
                                    "kategoria id": "117",
                                    "termékszám": "1"
                                },
                                {
                                    "kategoria id": "118",
                                    "termékszám": "1"
                                },
                                {
                                    "kategoria id": "119",
                                    "termékszám": "1"
                                },
                                {
                                    "kategoria id": "120",
                                    "termékszám": "1"
                                },
                                {
                                    "kategoria id": "121",
                                    "termékszám": "1"
                                },
                                {
                                    "kategoria id": "122",
                                    "termékszám": "1"
                                },
                                {
                                    "kategoria id": "123",
                                    "termékszám": "1"
                                },
                                {
                                    "kategoria id": "124",
                                    "termékszám": "1"
                                },
                                {
                                    "kategoria id": "125",
                                    "termékszám": "1"
                                },
                                {
                                    "kategoria id": "126",
                                    "termékszám": "1"
                                },
                                {
                                    "kategoria id": "127",
                                    "termékszám": "1"
                                },
                                {
                                    "kategoria id": "128",
                                    "termékszám": "1"
                                },
                                {
                                    "kategoria id": "129",
                                    "termékszám": "1"
                                },
                                {
                                    "kategoria id": "130",
                                    "termékszám": "1"
                                },
                                {
                                    "kategoria id": "131",
                                    "termékszám": "1"
                                },
                                {
                                    "kategoria id": "132",
                                    "termékszám": "1"
                                },
                                {
                                    "kategoria id": "133",
                                    "termékszám": "1"
                                },
                                {
                                    "kategoria id": "134",
                                    "termékszám": "1"
                                },
                                {
                                    "kategoria id": "135",
                                    "termékszám": "1"
                                },
                                {
                                    "kategoria id": "136",
                                    "termékszám": "1"
                                },
                                {
                                    "kategoria id": "137",
                                    "termékszám": "1"
                                },
                                {
                                    "kategoria id": "138",
                                    "termékszám": "1"
                                },
                                {
                                    "kategoria id": "139",
                                    "termékszám": "1"
                                },
                                {
                                    "kategoria id": "140",
                                    "termékszám": "1"
                                },
                                {
                                    "kategoria id": "141",
                                    "termékszám": "1"
                                },
                                {
                                    "kategoria id": "142",
                                    "termékszám": "1"
                                },
                                {
                                    "kategoria id": "143",
                                    "termékszám": "1"
                                },
                                {
                                    "kategoria id": "144",
                                    "termékszám": "1"
                                },
                                {
                                    "kategoria id": "145",
                                    "termékszám": "1"
                                },
                                {
                                    "kategoria id": "146",
                                    "termékszám": "1"
                                },
                                {
                                    "kategoria id": "147",
                                    "termékszám": "1"
                                },
                                {
                                    "kategoria id": "148",
                                    "termékszám": "1"
                                },
                                {
                                    "kategoria id": "149",
                                    "termékszám": "1"
                                },
                                {
                                    "kategoria id": "150",
                                    "termékszám": "1"
                                },
                                {
                                    "kategoria id": "151",
                                    "termékszám": "1"
                                },
                                {
                                    "kategoria id": "152",
                                    "termékszám": "1"
                                },
                                {
                                    "kategoria id": "153",
                                    "termékszám": "1"
                                },
                                {
                                    "kategoria id": "154",
                                    "termékszám": "1"
                                },
                                {
                                    "kategoria id": "155",
                                    "termékszám": "1"
                                },
                                {
                                    "kategoria id": "Végösszeg",
                                    "termékszám": "155"
                                }
                            ]
                        },
                        "text/html": [
                            "<table>",
                            "<tr><th>kategoria id</th><th>termékszám</th></tr>",
                            "<tr><td>1</td><td>1</td></tr>",
                            "<tr><td>2</td><td>1</td></tr>",
                            "<tr><td>3</td><td>1</td></tr>",
                            "<tr><td>4</td><td>1</td></tr>",
                            "<tr><td>5</td><td>1</td></tr>",
                            "<tr><td>6</td><td>1</td></tr>",
                            "<tr><td>7</td><td>1</td></tr>",
                            "<tr><td>8</td><td>1</td></tr>",
                            "<tr><td>9</td><td>1</td></tr>",
                            "<tr><td>10</td><td>1</td></tr>",
                            "<tr><td>11</td><td>1</td></tr>",
                            "<tr><td>12</td><td>1</td></tr>",
                            "<tr><td>13</td><td>1</td></tr>",
                            "<tr><td>14</td><td>1</td></tr>",
                            "<tr><td>15</td><td>1</td></tr>",
                            "<tr><td>16</td><td>1</td></tr>",
                            "<tr><td>17</td><td>1</td></tr>",
                            "<tr><td>18</td><td>1</td></tr>",
                            "<tr><td>19</td><td>1</td></tr>",
                            "<tr><td>20</td><td>1</td></tr>",
                            "<tr><td>21</td><td>1</td></tr>",
                            "<tr><td>22</td><td>1</td></tr>",
                            "<tr><td>23</td><td>1</td></tr>",
                            "<tr><td>24</td><td>1</td></tr>",
                            "<tr><td>25</td><td>1</td></tr>",
                            "<tr><td>26</td><td>1</td></tr>",
                            "<tr><td>27</td><td>1</td></tr>",
                            "<tr><td>28</td><td>1</td></tr>",
                            "<tr><td>29</td><td>1</td></tr>",
                            "<tr><td>30</td><td>1</td></tr>",
                            "<tr><td>31</td><td>1</td></tr>",
                            "<tr><td>32</td><td>1</td></tr>",
                            "<tr><td>33</td><td>1</td></tr>",
                            "<tr><td>34</td><td>1</td></tr>",
                            "<tr><td>35</td><td>1</td></tr>",
                            "<tr><td>36</td><td>1</td></tr>",
                            "<tr><td>37</td><td>1</td></tr>",
                            "<tr><td>38</td><td>1</td></tr>",
                            "<tr><td>39</td><td>1</td></tr>",
                            "<tr><td>40</td><td>1</td></tr>",
                            "<tr><td>41</td><td>1</td></tr>",
                            "<tr><td>42</td><td>1</td></tr>",
                            "<tr><td>43</td><td>1</td></tr>",
                            "<tr><td>44</td><td>1</td></tr>",
                            "<tr><td>45</td><td>1</td></tr>",
                            "<tr><td>46</td><td>1</td></tr>",
                            "<tr><td>47</td><td>1</td></tr>",
                            "<tr><td>48</td><td>1</td></tr>",
                            "<tr><td>49</td><td>1</td></tr>",
                            "<tr><td>50</td><td>1</td></tr>",
                            "<tr><td>51</td><td>1</td></tr>",
                            "<tr><td>52</td><td>1</td></tr>",
                            "<tr><td>53</td><td>1</td></tr>",
                            "<tr><td>54</td><td>1</td></tr>",
                            "<tr><td>55</td><td>1</td></tr>",
                            "<tr><td>56</td><td>1</td></tr>",
                            "<tr><td>57</td><td>1</td></tr>",
                            "<tr><td>58</td><td>1</td></tr>",
                            "<tr><td>59</td><td>1</td></tr>",
                            "<tr><td>60</td><td>1</td></tr>",
                            "<tr><td>61</td><td>1</td></tr>",
                            "<tr><td>62</td><td>1</td></tr>",
                            "<tr><td>63</td><td>1</td></tr>",
                            "<tr><td>64</td><td>1</td></tr>",
                            "<tr><td>65</td><td>1</td></tr>",
                            "<tr><td>66</td><td>1</td></tr>",
                            "<tr><td>67</td><td>1</td></tr>",
                            "<tr><td>68</td><td>1</td></tr>",
                            "<tr><td>69</td><td>1</td></tr>",
                            "<tr><td>70</td><td>1</td></tr>",
                            "<tr><td>71</td><td>1</td></tr>",
                            "<tr><td>72</td><td>1</td></tr>",
                            "<tr><td>73</td><td>1</td></tr>",
                            "<tr><td>74</td><td>1</td></tr>",
                            "<tr><td>75</td><td>1</td></tr>",
                            "<tr><td>76</td><td>1</td></tr>",
                            "<tr><td>77</td><td>1</td></tr>",
                            "<tr><td>78</td><td>1</td></tr>",
                            "<tr><td>79</td><td>1</td></tr>",
                            "<tr><td>80</td><td>1</td></tr>",
                            "<tr><td>81</td><td>1</td></tr>",
                            "<tr><td>82</td><td>1</td></tr>",
                            "<tr><td>83</td><td>1</td></tr>",
                            "<tr><td>84</td><td>1</td></tr>",
                            "<tr><td>85</td><td>1</td></tr>",
                            "<tr><td>86</td><td>1</td></tr>",
                            "<tr><td>87</td><td>1</td></tr>",
                            "<tr><td>88</td><td>1</td></tr>",
                            "<tr><td>89</td><td>1</td></tr>",
                            "<tr><td>90</td><td>1</td></tr>",
                            "<tr><td>91</td><td>1</td></tr>",
                            "<tr><td>92</td><td>1</td></tr>",
                            "<tr><td>93</td><td>1</td></tr>",
                            "<tr><td>94</td><td>1</td></tr>",
                            "<tr><td>95</td><td>1</td></tr>",
                            "<tr><td>96</td><td>1</td></tr>",
                            "<tr><td>97</td><td>1</td></tr>",
                            "<tr><td>98</td><td>1</td></tr>",
                            "<tr><td>99</td><td>1</td></tr>",
                            "<tr><td>100</td><td>1</td></tr>",
                            "<tr><td>101</td><td>1</td></tr>",
                            "<tr><td>102</td><td>1</td></tr>",
                            "<tr><td>103</td><td>1</td></tr>",
                            "<tr><td>104</td><td>1</td></tr>",
                            "<tr><td>105</td><td>1</td></tr>",
                            "<tr><td>106</td><td>1</td></tr>",
                            "<tr><td>107</td><td>1</td></tr>",
                            "<tr><td>108</td><td>1</td></tr>",
                            "<tr><td>109</td><td>1</td></tr>",
                            "<tr><td>110</td><td>1</td></tr>",
                            "<tr><td>111</td><td>1</td></tr>",
                            "<tr><td>112</td><td>1</td></tr>",
                            "<tr><td>113</td><td>1</td></tr>",
                            "<tr><td>114</td><td>1</td></tr>",
                            "<tr><td>115</td><td>1</td></tr>",
                            "<tr><td>116</td><td>1</td></tr>",
                            "<tr><td>117</td><td>1</td></tr>",
                            "<tr><td>118</td><td>1</td></tr>",
                            "<tr><td>119</td><td>1</td></tr>",
                            "<tr><td>120</td><td>1</td></tr>",
                            "<tr><td>121</td><td>1</td></tr>",
                            "<tr><td>122</td><td>1</td></tr>",
                            "<tr><td>123</td><td>1</td></tr>",
                            "<tr><td>124</td><td>1</td></tr>",
                            "<tr><td>125</td><td>1</td></tr>",
                            "<tr><td>126</td><td>1</td></tr>",
                            "<tr><td>127</td><td>1</td></tr>",
                            "<tr><td>128</td><td>1</td></tr>",
                            "<tr><td>129</td><td>1</td></tr>",
                            "<tr><td>130</td><td>1</td></tr>",
                            "<tr><td>131</td><td>1</td></tr>",
                            "<tr><td>132</td><td>1</td></tr>",
                            "<tr><td>133</td><td>1</td></tr>",
                            "<tr><td>134</td><td>1</td></tr>",
                            "<tr><td>135</td><td>1</td></tr>",
                            "<tr><td>136</td><td>1</td></tr>",
                            "<tr><td>137</td><td>1</td></tr>",
                            "<tr><td>138</td><td>1</td></tr>",
                            "<tr><td>139</td><td>1</td></tr>",
                            "<tr><td>140</td><td>1</td></tr>",
                            "<tr><td>141</td><td>1</td></tr>",
                            "<tr><td>142</td><td>1</td></tr>",
                            "<tr><td>143</td><td>1</td></tr>",
                            "<tr><td>144</td><td>1</td></tr>",
                            "<tr><td>145</td><td>1</td></tr>",
                            "<tr><td>146</td><td>1</td></tr>",
                            "<tr><td>147</td><td>1</td></tr>",
                            "<tr><td>148</td><td>1</td></tr>",
                            "<tr><td>149</td><td>1</td></tr>",
                            "<tr><td>150</td><td>1</td></tr>",
                            "<tr><td>151</td><td>1</td></tr>",
                            "<tr><td>152</td><td>1</td></tr>",
                            "<tr><td>153</td><td>1</td></tr>",
                            "<tr><td>154</td><td>1</td></tr>",
                            "<tr><td>155</td><td>1</td></tr>",
                            "<tr><td>Végösszeg</td><td>155</td></tr>",
                            "</table>"
                        ]
                    }
                }
            ],
            "execution_count": 18
        },
        {
            "cell_type": "markdown",
            "source": [
                "4. <span style=\"background-color: rgb(255, 255, 255); color: rgb(0, 0, 0); font-family: &quot;Open Sans&quot;, sans-serif; font-size: 14.44px;\">Készítsünk listát az ügyfelek számáról születési év szerint, azon belül nem szerinti bontásban!&nbsp;</span> \n",
                "\n",
                "a. A lista megfelelően jelölve tartalmazza a részösszegeket és a végösszeget is!  \n",
                "b. Az oszlopoknak adjunk nevet értelemszerűen!"
            ],
            "metadata": {
                "azdata_cell_guid": "8e7fef82-8022-49a0-8255-fc2846c2134b"
            },
            "attachments": {}
        },
        {
            "cell_type": "code",
            "source": [
                "select iif(GROUPING(SZULEV)=1, 'Végösszeg', CAST(szulev as NVARCHAR))   ,\r\n",
                "    case\r\n",
                "        when GROUPING_ID(SZULEV,NEM)=1 then 'Részösszeg'\r\n",
                "        when GROUPING_ID(SZULEV,NEM)=3 then 'Végösszeg'\r\n",
                "        else NEM\r\n",
                "    end as 'nem', count(*) as 'ügyfelek száma'\r\n",
                "from Ugyfel\r\n",
                "group by rollup(szulev,nem)"
            ],
            "metadata": {
                "azdata_cell_guid": "36f7b396-4a1f-45e5-8720-2302537c91bc",
                "language": "sql"
            },
            "outputs": [
                {
                    "output_type": "display_data",
                    "data": {
                        "text/html": "(96 rows affected)"
                    },
                    "metadata": {}
                },
                {
                    "output_type": "display_data",
                    "data": {
                        "text/html": "Total execution time: 00:00:00.035"
                    },
                    "metadata": {}
                },
                {
                    "output_type": "execute_result",
                    "metadata": {},
                    "execution_count": 27,
                    "data": {
                        "application/vnd.dataresource+json": {
                            "schema": {
                                "fields": [
                                    {
                                        "name": "(No column name)"
                                    },
                                    {
                                        "name": "nem"
                                    },
                                    {
                                        "name": "ügyfelek száma"
                                    }
                                ]
                            },
                            "data": [
                                {
                                    "(No column name)": "1967",
                                    "nem": "F",
                                    "ügyfelek száma": "5"
                                },
                                {
                                    "(No column name)": "1967",
                                    "nem": "N",
                                    "ügyfelek száma": "3"
                                },
                                {
                                    "(No column name)": "1967",
                                    "nem": "Részösszeg",
                                    "ügyfelek száma": "8"
                                },
                                {
                                    "(No column name)": "1968",
                                    "nem": "F",
                                    "ügyfelek száma": "5"
                                },
                                {
                                    "(No column name)": "1968",
                                    "nem": "N",
                                    "ügyfelek száma": "3"
                                },
                                {
                                    "(No column name)": "1968",
                                    "nem": "Részösszeg",
                                    "ügyfelek száma": "8"
                                },
                                {
                                    "(No column name)": "1969",
                                    "nem": "F",
                                    "ügyfelek száma": "5"
                                },
                                {
                                    "(No column name)": "1969",
                                    "nem": "N",
                                    "ügyfelek száma": "3"
                                },
                                {
                                    "(No column name)": "1969",
                                    "nem": "Részösszeg",
                                    "ügyfelek száma": "8"
                                },
                                {
                                    "(No column name)": "1970",
                                    "nem": "F",
                                    "ügyfelek száma": "4"
                                },
                                {
                                    "(No column name)": "1970",
                                    "nem": "Részösszeg",
                                    "ügyfelek száma": "4"
                                },
                                {
                                    "(No column name)": "1971",
                                    "nem": "F",
                                    "ügyfelek száma": "2"
                                },
                                {
                                    "(No column name)": "1971",
                                    "nem": "N",
                                    "ügyfelek száma": "3"
                                },
                                {
                                    "(No column name)": "1971",
                                    "nem": "Részösszeg",
                                    "ügyfelek száma": "5"
                                },
                                {
                                    "(No column name)": "1972",
                                    "nem": "F",
                                    "ügyfelek száma": "2"
                                },
                                {
                                    "(No column name)": "1972",
                                    "nem": "N",
                                    "ügyfelek száma": "2"
                                },
                                {
                                    "(No column name)": "1972",
                                    "nem": "Részösszeg",
                                    "ügyfelek száma": "4"
                                },
                                {
                                    "(No column name)": "1973",
                                    "nem": "F",
                                    "ügyfelek száma": "2"
                                },
                                {
                                    "(No column name)": "1973",
                                    "nem": "N",
                                    "ügyfelek száma": "2"
                                },
                                {
                                    "(No column name)": "1973",
                                    "nem": "Részösszeg",
                                    "ügyfelek száma": "4"
                                },
                                {
                                    "(No column name)": "1974",
                                    "nem": "F",
                                    "ügyfelek száma": "1"
                                },
                                {
                                    "(No column name)": "1974",
                                    "nem": "N",
                                    "ügyfelek száma": "3"
                                },
                                {
                                    "(No column name)": "1974",
                                    "nem": "Részösszeg",
                                    "ügyfelek száma": "4"
                                },
                                {
                                    "(No column name)": "1975",
                                    "nem": "F",
                                    "ügyfelek száma": "8"
                                },
                                {
                                    "(No column name)": "1975",
                                    "nem": "N",
                                    "ügyfelek száma": "3"
                                },
                                {
                                    "(No column name)": "1975",
                                    "nem": "Részösszeg",
                                    "ügyfelek száma": "11"
                                },
                                {
                                    "(No column name)": "1976",
                                    "nem": "F",
                                    "ügyfelek száma": "5"
                                },
                                {
                                    "(No column name)": "1976",
                                    "nem": "N",
                                    "ügyfelek száma": "2"
                                },
                                {
                                    "(No column name)": "1976",
                                    "nem": "Részösszeg",
                                    "ügyfelek száma": "7"
                                },
                                {
                                    "(No column name)": "1977",
                                    "nem": "F",
                                    "ügyfelek száma": "4"
                                },
                                {
                                    "(No column name)": "1977",
                                    "nem": "N",
                                    "ügyfelek száma": "1"
                                },
                                {
                                    "(No column name)": "1977",
                                    "nem": "Részösszeg",
                                    "ügyfelek száma": "5"
                                },
                                {
                                    "(No column name)": "1978",
                                    "nem": "F",
                                    "ügyfelek száma": "3"
                                },
                                {
                                    "(No column name)": "1978",
                                    "nem": "N",
                                    "ügyfelek száma": "4"
                                },
                                {
                                    "(No column name)": "1978",
                                    "nem": "Részösszeg",
                                    "ügyfelek száma": "7"
                                },
                                {
                                    "(No column name)": "1979",
                                    "nem": "F",
                                    "ügyfelek száma": "4"
                                },
                                {
                                    "(No column name)": "1979",
                                    "nem": "N",
                                    "ügyfelek száma": "3"
                                },
                                {
                                    "(No column name)": "1979",
                                    "nem": "Részösszeg",
                                    "ügyfelek száma": "7"
                                },
                                {
                                    "(No column name)": "1980",
                                    "nem": "F",
                                    "ügyfelek száma": "4"
                                },
                                {
                                    "(No column name)": "1980",
                                    "nem": "N",
                                    "ügyfelek száma": "3"
                                },
                                {
                                    "(No column name)": "1980",
                                    "nem": "Részösszeg",
                                    "ügyfelek száma": "7"
                                },
                                {
                                    "(No column name)": "1981",
                                    "nem": "N",
                                    "ügyfelek száma": "4"
                                },
                                {
                                    "(No column name)": "1981",
                                    "nem": "Részösszeg",
                                    "ügyfelek száma": "4"
                                },
                                {
                                    "(No column name)": "1982",
                                    "nem": "F",
                                    "ügyfelek száma": "2"
                                },
                                {
                                    "(No column name)": "1982",
                                    "nem": "N",
                                    "ügyfelek száma": "2"
                                },
                                {
                                    "(No column name)": "1982",
                                    "nem": "Részösszeg",
                                    "ügyfelek száma": "4"
                                },
                                {
                                    "(No column name)": "1983",
                                    "nem": "F",
                                    "ügyfelek száma": "5"
                                },
                                {
                                    "(No column name)": "1983",
                                    "nem": "N",
                                    "ügyfelek száma": "3"
                                },
                                {
                                    "(No column name)": "1983",
                                    "nem": "Részösszeg",
                                    "ügyfelek száma": "8"
                                },
                                {
                                    "(No column name)": "1984",
                                    "nem": "F",
                                    "ügyfelek száma": "6"
                                },
                                {
                                    "(No column name)": "1984",
                                    "nem": "N",
                                    "ügyfelek száma": "2"
                                },
                                {
                                    "(No column name)": "1984",
                                    "nem": "Részösszeg",
                                    "ügyfelek száma": "8"
                                },
                                {
                                    "(No column name)": "1985",
                                    "nem": "F",
                                    "ügyfelek száma": "5"
                                },
                                {
                                    "(No column name)": "1985",
                                    "nem": "N",
                                    "ügyfelek száma": "1"
                                },
                                {
                                    "(No column name)": "1985",
                                    "nem": "Részösszeg",
                                    "ügyfelek száma": "6"
                                },
                                {
                                    "(No column name)": "1986",
                                    "nem": "F",
                                    "ügyfelek száma": "7"
                                },
                                {
                                    "(No column name)": "1986",
                                    "nem": "N",
                                    "ügyfelek száma": "2"
                                },
                                {
                                    "(No column name)": "1986",
                                    "nem": "Részösszeg",
                                    "ügyfelek száma": "9"
                                },
                                {
                                    "(No column name)": "1987",
                                    "nem": "F",
                                    "ügyfelek száma": "2"
                                },
                                {
                                    "(No column name)": "1987",
                                    "nem": "N",
                                    "ügyfelek száma": "3"
                                },
                                {
                                    "(No column name)": "1987",
                                    "nem": "Részösszeg",
                                    "ügyfelek száma": "5"
                                },
                                {
                                    "(No column name)": "1988",
                                    "nem": "F",
                                    "ügyfelek száma": "2"
                                },
                                {
                                    "(No column name)": "1988",
                                    "nem": "N",
                                    "ügyfelek száma": "4"
                                },
                                {
                                    "(No column name)": "1988",
                                    "nem": "Részösszeg",
                                    "ügyfelek száma": "6"
                                },
                                {
                                    "(No column name)": "1989",
                                    "nem": "F",
                                    "ügyfelek száma": "6"
                                },
                                {
                                    "(No column name)": "1989",
                                    "nem": "N",
                                    "ügyfelek száma": "1"
                                },
                                {
                                    "(No column name)": "1989",
                                    "nem": "Részösszeg",
                                    "ügyfelek száma": "7"
                                },
                                {
                                    "(No column name)": "1990",
                                    "nem": "F",
                                    "ügyfelek száma": "5"
                                },
                                {
                                    "(No column name)": "1990",
                                    "nem": "N",
                                    "ügyfelek száma": "3"
                                },
                                {
                                    "(No column name)": "1990",
                                    "nem": "Részösszeg",
                                    "ügyfelek száma": "8"
                                },
                                {
                                    "(No column name)": "1991",
                                    "nem": "F",
                                    "ügyfelek száma": "3"
                                },
                                {
                                    "(No column name)": "1991",
                                    "nem": "N",
                                    "ügyfelek száma": "3"
                                },
                                {
                                    "(No column name)": "1991",
                                    "nem": "Részösszeg",
                                    "ügyfelek száma": "6"
                                },
                                {
                                    "(No column name)": "1992",
                                    "nem": "F",
                                    "ügyfelek száma": "3"
                                },
                                {
                                    "(No column name)": "1992",
                                    "nem": "N",
                                    "ügyfelek száma": "1"
                                },
                                {
                                    "(No column name)": "1992",
                                    "nem": "Részösszeg",
                                    "ügyfelek száma": "4"
                                },
                                {
                                    "(No column name)": "1993",
                                    "nem": "F",
                                    "ügyfelek száma": "2"
                                },
                                {
                                    "(No column name)": "1993",
                                    "nem": "N",
                                    "ügyfelek száma": "3"
                                },
                                {
                                    "(No column name)": "1993",
                                    "nem": "Részösszeg",
                                    "ügyfelek száma": "5"
                                },
                                {
                                    "(No column name)": "1994",
                                    "nem": "N",
                                    "ügyfelek száma": "3"
                                },
                                {
                                    "(No column name)": "1994",
                                    "nem": "Részösszeg",
                                    "ügyfelek száma": "3"
                                },
                                {
                                    "(No column name)": "1995",
                                    "nem": "F",
                                    "ügyfelek száma": "3"
                                },
                                {
                                    "(No column name)": "1995",
                                    "nem": "N",
                                    "ügyfelek száma": "3"
                                },
                                {
                                    "(No column name)": "1995",
                                    "nem": "Részösszeg",
                                    "ügyfelek száma": "6"
                                },
                                {
                                    "(No column name)": "1996",
                                    "nem": "F",
                                    "ügyfelek száma": "2"
                                },
                                {
                                    "(No column name)": "1996",
                                    "nem": "N",
                                    "ügyfelek száma": "5"
                                },
                                {
                                    "(No column name)": "1996",
                                    "nem": "Részösszeg",
                                    "ügyfelek száma": "7"
                                },
                                {
                                    "(No column name)": "1997",
                                    "nem": "F",
                                    "ügyfelek száma": "10"
                                },
                                {
                                    "(No column name)": "1997",
                                    "nem": "N",
                                    "ügyfelek száma": "2"
                                },
                                {
                                    "(No column name)": "1997",
                                    "nem": "Részösszeg",
                                    "ügyfelek száma": "12"
                                },
                                {
                                    "(No column name)": "1998",
                                    "nem": "F",
                                    "ügyfelek száma": "1"
                                },
                                {
                                    "(No column name)": "1998",
                                    "nem": "N",
                                    "ügyfelek száma": "1"
                                },
                                {
                                    "(No column name)": "1998",
                                    "nem": "Részösszeg",
                                    "ügyfelek száma": "2"
                                },
                                {
                                    "(No column name)": "2000",
                                    "nem": "F",
                                    "ügyfelek száma": "1"
                                },
                                {
                                    "(No column name)": "2000",
                                    "nem": "Részösszeg",
                                    "ügyfelek száma": "1"
                                },
                                {
                                    "(No column name)": "Végösszeg",
                                    "nem": "Végösszeg",
                                    "ügyfelek száma": "200"
                                }
                            ]
                        },
                        "text/html": [
                            "<table>",
                            "<tr><th>(No column name)</th><th>nem</th><th>ügyfelek száma</th></tr>",
                            "<tr><td>1967</td><td>F</td><td>5</td></tr>",
                            "<tr><td>1967</td><td>N</td><td>3</td></tr>",
                            "<tr><td>1967</td><td>Részösszeg</td><td>8</td></tr>",
                            "<tr><td>1968</td><td>F</td><td>5</td></tr>",
                            "<tr><td>1968</td><td>N</td><td>3</td></tr>",
                            "<tr><td>1968</td><td>Részösszeg</td><td>8</td></tr>",
                            "<tr><td>1969</td><td>F</td><td>5</td></tr>",
                            "<tr><td>1969</td><td>N</td><td>3</td></tr>",
                            "<tr><td>1969</td><td>Részösszeg</td><td>8</td></tr>",
                            "<tr><td>1970</td><td>F</td><td>4</td></tr>",
                            "<tr><td>1970</td><td>Részösszeg</td><td>4</td></tr>",
                            "<tr><td>1971</td><td>F</td><td>2</td></tr>",
                            "<tr><td>1971</td><td>N</td><td>3</td></tr>",
                            "<tr><td>1971</td><td>Részösszeg</td><td>5</td></tr>",
                            "<tr><td>1972</td><td>F</td><td>2</td></tr>",
                            "<tr><td>1972</td><td>N</td><td>2</td></tr>",
                            "<tr><td>1972</td><td>Részösszeg</td><td>4</td></tr>",
                            "<tr><td>1973</td><td>F</td><td>2</td></tr>",
                            "<tr><td>1973</td><td>N</td><td>2</td></tr>",
                            "<tr><td>1973</td><td>Részösszeg</td><td>4</td></tr>",
                            "<tr><td>1974</td><td>F</td><td>1</td></tr>",
                            "<tr><td>1974</td><td>N</td><td>3</td></tr>",
                            "<tr><td>1974</td><td>Részösszeg</td><td>4</td></tr>",
                            "<tr><td>1975</td><td>F</td><td>8</td></tr>",
                            "<tr><td>1975</td><td>N</td><td>3</td></tr>",
                            "<tr><td>1975</td><td>Részösszeg</td><td>11</td></tr>",
                            "<tr><td>1976</td><td>F</td><td>5</td></tr>",
                            "<tr><td>1976</td><td>N</td><td>2</td></tr>",
                            "<tr><td>1976</td><td>Részösszeg</td><td>7</td></tr>",
                            "<tr><td>1977</td><td>F</td><td>4</td></tr>",
                            "<tr><td>1977</td><td>N</td><td>1</td></tr>",
                            "<tr><td>1977</td><td>Részösszeg</td><td>5</td></tr>",
                            "<tr><td>1978</td><td>F</td><td>3</td></tr>",
                            "<tr><td>1978</td><td>N</td><td>4</td></tr>",
                            "<tr><td>1978</td><td>Részösszeg</td><td>7</td></tr>",
                            "<tr><td>1979</td><td>F</td><td>4</td></tr>",
                            "<tr><td>1979</td><td>N</td><td>3</td></tr>",
                            "<tr><td>1979</td><td>Részösszeg</td><td>7</td></tr>",
                            "<tr><td>1980</td><td>F</td><td>4</td></tr>",
                            "<tr><td>1980</td><td>N</td><td>3</td></tr>",
                            "<tr><td>1980</td><td>Részösszeg</td><td>7</td></tr>",
                            "<tr><td>1981</td><td>N</td><td>4</td></tr>",
                            "<tr><td>1981</td><td>Részösszeg</td><td>4</td></tr>",
                            "<tr><td>1982</td><td>F</td><td>2</td></tr>",
                            "<tr><td>1982</td><td>N</td><td>2</td></tr>",
                            "<tr><td>1982</td><td>Részösszeg</td><td>4</td></tr>",
                            "<tr><td>1983</td><td>F</td><td>5</td></tr>",
                            "<tr><td>1983</td><td>N</td><td>3</td></tr>",
                            "<tr><td>1983</td><td>Részösszeg</td><td>8</td></tr>",
                            "<tr><td>1984</td><td>F</td><td>6</td></tr>",
                            "<tr><td>1984</td><td>N</td><td>2</td></tr>",
                            "<tr><td>1984</td><td>Részösszeg</td><td>8</td></tr>",
                            "<tr><td>1985</td><td>F</td><td>5</td></tr>",
                            "<tr><td>1985</td><td>N</td><td>1</td></tr>",
                            "<tr><td>1985</td><td>Részösszeg</td><td>6</td></tr>",
                            "<tr><td>1986</td><td>F</td><td>7</td></tr>",
                            "<tr><td>1986</td><td>N</td><td>2</td></tr>",
                            "<tr><td>1986</td><td>Részösszeg</td><td>9</td></tr>",
                            "<tr><td>1987</td><td>F</td><td>2</td></tr>",
                            "<tr><td>1987</td><td>N</td><td>3</td></tr>",
                            "<tr><td>1987</td><td>Részösszeg</td><td>5</td></tr>",
                            "<tr><td>1988</td><td>F</td><td>2</td></tr>",
                            "<tr><td>1988</td><td>N</td><td>4</td></tr>",
                            "<tr><td>1988</td><td>Részösszeg</td><td>6</td></tr>",
                            "<tr><td>1989</td><td>F</td><td>6</td></tr>",
                            "<tr><td>1989</td><td>N</td><td>1</td></tr>",
                            "<tr><td>1989</td><td>Részösszeg</td><td>7</td></tr>",
                            "<tr><td>1990</td><td>F</td><td>5</td></tr>",
                            "<tr><td>1990</td><td>N</td><td>3</td></tr>",
                            "<tr><td>1990</td><td>Részösszeg</td><td>8</td></tr>",
                            "<tr><td>1991</td><td>F</td><td>3</td></tr>",
                            "<tr><td>1991</td><td>N</td><td>3</td></tr>",
                            "<tr><td>1991</td><td>Részösszeg</td><td>6</td></tr>",
                            "<tr><td>1992</td><td>F</td><td>3</td></tr>",
                            "<tr><td>1992</td><td>N</td><td>1</td></tr>",
                            "<tr><td>1992</td><td>Részösszeg</td><td>4</td></tr>",
                            "<tr><td>1993</td><td>F</td><td>2</td></tr>",
                            "<tr><td>1993</td><td>N</td><td>3</td></tr>",
                            "<tr><td>1993</td><td>Részösszeg</td><td>5</td></tr>",
                            "<tr><td>1994</td><td>N</td><td>3</td></tr>",
                            "<tr><td>1994</td><td>Részösszeg</td><td>3</td></tr>",
                            "<tr><td>1995</td><td>F</td><td>3</td></tr>",
                            "<tr><td>1995</td><td>N</td><td>3</td></tr>",
                            "<tr><td>1995</td><td>Részösszeg</td><td>6</td></tr>",
                            "<tr><td>1996</td><td>F</td><td>2</td></tr>",
                            "<tr><td>1996</td><td>N</td><td>5</td></tr>",
                            "<tr><td>1996</td><td>Részösszeg</td><td>7</td></tr>",
                            "<tr><td>1997</td><td>F</td><td>10</td></tr>",
                            "<tr><td>1997</td><td>N</td><td>2</td></tr>",
                            "<tr><td>1997</td><td>Részösszeg</td><td>12</td></tr>",
                            "<tr><td>1998</td><td>F</td><td>1</td></tr>",
                            "<tr><td>1998</td><td>N</td><td>1</td></tr>",
                            "<tr><td>1998</td><td>Részösszeg</td><td>2</td></tr>",
                            "<tr><td>2000</td><td>F</td><td>1</td></tr>",
                            "<tr><td>2000</td><td>Részösszeg</td><td>1</td></tr>",
                            "<tr><td>Végösszeg</td><td>Végösszeg</td><td>200</td></tr>",
                            "</table>"
                        ]
                    }
                }
            ],
            "execution_count": 27
        },
        {
            "cell_type": "markdown",
            "source": [
                "5. <span style=\"background-color: rgb(255, 255, 255); color: rgb(0, 0, 0); font-family: &quot;Open Sans&quot;, sans-serif; font-size: 14.44px;\">Készítsünk listát a termékek számáról a felvitel hónapja, azon belül napja szerint csoportosítva.&nbsp;</span> \n",
                "\n",
                "a. A lista csak a részösszegeket és a végösszeget tartalmazza!  \n",
                "b. Az oszlopoknak adjunk megfelelő nevet!  \n",
                "c. Ötlet: HAVING + GROUPING\\_ID fv együttes használata"
            ],
            "metadata": {
                "azdata_cell_guid": "84239ca2-6b5e-49f5-9860-d44c11d6de32"
            },
            "attachments": {}
        },
        {
            "cell_type": "code",
            "source": [
                "select IIF(GROUPING(MONTH(FELVITEL))=1, 'Végösszeg', cast(MONTH(felvitel) as nvarchar)),case\r\n",
                "    when GROUPING_ID(MONTH(FELVITEL), DAY(FELVITEL))=1 then 'Részösszeg'\r\n",
                "    when GROUPING_ID(MONTH(FELVITEL), DAY(FELVITEL))=3 then 'Végösszeg'\r\n",
                "end as 'Nap', COUNT(*) as 'termékek száma'\r\n",
                "from Termek\r\n",
                "\r\n",
                "group by rollup (MONTH(FELVITEL), DAY(FELVITEL))\r\n",
                "having GROUPING_ID(MONTH(FELVITEL), DAY(FELVITEL))=3 or GROUPING_ID(MONTH(FELVITEL), DAY(FELVITEL))=1\r\n",
                ""
            ],
            "metadata": {
                "azdata_cell_guid": "06d9a62b-9430-424b-a135-d80e675f0eb3",
                "language": "sql"
            },
            "outputs": [
                {
                    "output_type": "display_data",
                    "data": {
                        "text/html": "(5 rows affected)"
                    },
                    "metadata": {}
                },
                {
                    "output_type": "display_data",
                    "data": {
                        "text/html": "Total execution time: 00:00:00.064"
                    },
                    "metadata": {}
                },
                {
                    "output_type": "execute_result",
                    "metadata": {},
                    "execution_count": 36,
                    "data": {
                        "application/vnd.dataresource+json": {
                            "schema": {
                                "fields": [
                                    {
                                        "name": "(No column name)"
                                    },
                                    {
                                        "name": "Nap"
                                    },
                                    {
                                        "name": "termékek száma"
                                    }
                                ]
                            },
                            "data": [
                                {
                                    "(No column name)": "7",
                                    "Nap": "Részösszeg",
                                    "termékek száma": "355"
                                },
                                {
                                    "(No column name)": "8",
                                    "Nap": "Részösszeg",
                                    "termékek száma": "194"
                                },
                                {
                                    "(No column name)": "9",
                                    "Nap": "Részösszeg",
                                    "termékek száma": "1"
                                },
                                {
                                    "(No column name)": "12",
                                    "Nap": "Részösszeg",
                                    "termékek száma": "1"
                                },
                                {
                                    "(No column name)": "Végösszeg",
                                    "Nap": "Végösszeg",
                                    "termékek száma": "551"
                                }
                            ]
                        },
                        "text/html": [
                            "<table>",
                            "<tr><th>(No column name)</th><th>Nap</th><th>termékek száma</th></tr>",
                            "<tr><td>7</td><td>Részösszeg</td><td>355</td></tr>",
                            "<tr><td>8</td><td>Részösszeg</td><td>194</td></tr>",
                            "<tr><td>9</td><td>Részösszeg</td><td>1</td></tr>",
                            "<tr><td>12</td><td>Részösszeg</td><td>1</td></tr>",
                            "<tr><td>Végösszeg</td><td>Végösszeg</td><td>551</td></tr>",
                            "</table>"
                        ]
                    }
                }
            ],
            "execution_count": 36
        }
    ]
}