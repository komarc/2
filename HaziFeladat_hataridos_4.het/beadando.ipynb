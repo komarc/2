{
    "metadata": {
        "kernelspec": {
            "name": "SQL",
            "display_name": "SQL",
            "language": "sql"
        },
        "language_info": {
            "name": "sql",
            "version": ""
        }
    },
    "nbformat_minor": 2,
    "nbformat": 4,
    "cells": [
        {
            "cell_type": "markdown",
            "source": [
                "**ELSO TABLA**"
            ],
            "metadata": {
                "azdata_cell_guid": "255a3aac-a660-4055-823f-cba7608c6a36"
            },
            "attachments": {}
        },
        {
            "cell_type": "markdown",
            "source": [
                "Szallashely tábla\n",
                "\n",
                "Csillagok\n",
                "\n",
                "MIN, MAX, AVG, SZÓRÁS, VAR"
            ],
            "metadata": {
                "azdata_cell_guid": "a12b0f6e-5465-4147-ae0d-7d5f9c21d447"
            },
            "attachments": {}
        },
        {
            "cell_type": "code",
            "source": [
                "select MIN(CSILLAGOK_SZAMA) as 'Minimum csillagszám',\r\n",
                "        MAX(CSILLAGOK_SZAMA) as 'Maximum csillagszám',\r\n",
                "        AVG(CSILLAGOK_SZAMA) as 'Átlagos csillagszám',\r\n",
                "        STDEV(CSILLAGOK_SZAMA) as 'Eloszlás csillagszám',\r\n",
                "        VAR (CSILLAGOK_SZAMA) as 'VAR csillagszám'\r\n",
                "from szallashely\r\n",
                "\r\n",
                ""
            ],
            "metadata": {
                "azdata_cell_guid": "42633aff-9e55-492d-803b-669653b14ca1",
                "language": "sql"
            },
            "outputs": [
                {
                    "output_type": "display_data",
                    "data": {
                        "text/html": "(1 row affected)"
                    },
                    "metadata": {}
                },
                {
                    "output_type": "display_data",
                    "data": {
                        "text/html": "Total execution time: 00:00:00.063"
                    },
                    "metadata": {}
                },
                {
                    "output_type": "execute_result",
                    "metadata": {},
                    "execution_count": 4,
                    "data": {
                        "application/vnd.dataresource+json": {
                            "schema": {
                                "fields": [
                                    {
                                        "name": "Minimum csillagszám"
                                    },
                                    {
                                        "name": "Maximum csillagszám"
                                    },
                                    {
                                        "name": "Átlagos csillagszám"
                                    },
                                    {
                                        "name": "Eloszlás csillagszám"
                                    },
                                    {
                                        "name": "VAR csillagszám"
                                    }
                                ]
                            },
                            "data": [
                                {
                                    "Minimum csillagszám": "0",
                                    "Maximum csillagszám": "4",
                                    "Átlagos csillagszám": "1",
                                    "Eloszlás csillagszám": "1,7071279138616748",
                                    "VAR csillagszám": "2,914285714285714"
                                }
                            ]
                        },
                        "text/html": [
                            "<table>",
                            "<tr><th>Minimum csillagszám</th><th>Maximum csillagszám</th><th>Átlagos csillagszám</th><th>Eloszlás csillagszám</th><th>VAR csillagszám</th></tr>",
                            "<tr><td>0</td><td>4</td><td>1</td><td>1,7071279138616748</td><td>2,914285714285714</td></tr>",
                            "</table>"
                        ]
                    }
                }
            ],
            "execution_count": 4
        },
        {
            "cell_type": "markdown",
            "source": [
                "Szallashely tabla\n",
                "\n",
                "SZALLAS\\_NEV \n",
                "\n",
                "hossz - darab"
            ],
            "metadata": {
                "azdata_cell_guid": "20bf70ed-c29e-44e2-94d1-01ea535fbbec"
            },
            "attachments": {}
        },
        {
            "cell_type": "code",
            "source": [
                "select LEN(SZALLAS_NEV) as 'Szállás név hossza',\r\n",
                "        count(*) as 'hossz darab'\r\n",
                "from szallashely\r\n",
                "group by SZALLAS_NEV"
            ],
            "metadata": {
                "azdata_cell_guid": "a68a573e-ce1c-471d-ae40-c0d9384e7ff6",
                "language": "sql",
                "tags": []
            },
            "outputs": [
                {
                    "output_type": "display_data",
                    "data": {
                        "text/html": "(18 rows affected)"
                    },
                    "metadata": {}
                },
                {
                    "output_type": "display_data",
                    "data": {
                        "text/html": "Total execution time: 00:00:00.045"
                    },
                    "metadata": {}
                },
                {
                    "output_type": "execute_result",
                    "metadata": {},
                    "execution_count": 8,
                    "data": {
                        "application/vnd.dataresource+json": {
                            "schema": {
                                "fields": [
                                    {
                                        "name": "Szállás név hossza"
                                    },
                                    {
                                        "name": "hossz darab"
                                    }
                                ]
                            },
                            "data": [
                                {
                                    "Szállás név hossza": "12",
                                    "hossz darab": "1"
                                },
                                {
                                    "Szállás név hossza": "11",
                                    "hossz darab": "1"
                                },
                                {
                                    "Szállás név hossza": "16",
                                    "hossz darab": "2"
                                },
                                {
                                    "Szállás név hossza": "14",
                                    "hossz darab": "2"
                                },
                                {
                                    "Szállás név hossza": "10",
                                    "hossz darab": "1"
                                },
                                {
                                    "Szállás név hossza": "18",
                                    "hossz darab": "1"
                                },
                                {
                                    "Szállás név hossza": "11",
                                    "hossz darab": "1"
                                },
                                {
                                    "Szállás név hossza": "13",
                                    "hossz darab": "1"
                                },
                                {
                                    "Szállás név hossza": "9",
                                    "hossz darab": "1"
                                },
                                {
                                    "Szállás név hossza": "12",
                                    "hossz darab": "1"
                                },
                                {
                                    "Szállás név hossza": "16",
                                    "hossz darab": "1"
                                },
                                {
                                    "Szállás név hossza": "17",
                                    "hossz darab": "2"
                                },
                                {
                                    "Szállás név hossza": "19",
                                    "hossz darab": "1"
                                },
                                {
                                    "Szállás név hossza": "14",
                                    "hossz darab": "1"
                                },
                                {
                                    "Szállás név hossza": "8",
                                    "hossz darab": "1"
                                },
                                {
                                    "Szállás név hossza": "13",
                                    "hossz darab": "1"
                                },
                                {
                                    "Szállás név hossza": "20",
                                    "hossz darab": "1"
                                },
                                {
                                    "Szállás név hossza": "15",
                                    "hossz darab": "1"
                                }
                            ]
                        },
                        "text/html": [
                            "<table>",
                            "<tr><th>Szállás név hossza</th><th>hossz darab</th></tr>",
                            "<tr><td>12</td><td>1</td></tr>",
                            "<tr><td>11</td><td>1</td></tr>",
                            "<tr><td>16</td><td>2</td></tr>",
                            "<tr><td>14</td><td>2</td></tr>",
                            "<tr><td>10</td><td>1</td></tr>",
                            "<tr><td>18</td><td>1</td></tr>",
                            "<tr><td>11</td><td>1</td></tr>",
                            "<tr><td>13</td><td>1</td></tr>",
                            "<tr><td>9</td><td>1</td></tr>",
                            "<tr><td>12</td><td>1</td></tr>",
                            "<tr><td>16</td><td>1</td></tr>",
                            "<tr><td>17</td><td>2</td></tr>",
                            "<tr><td>19</td><td>1</td></tr>",
                            "<tr><td>14</td><td>1</td></tr>",
                            "<tr><td>8</td><td>1</td></tr>",
                            "<tr><td>13</td><td>1</td></tr>",
                            "<tr><td>20</td><td>1</td></tr>",
                            "<tr><td>15</td><td>1</td></tr>",
                            "</table>"
                        ]
                    }
                }
            ],
            "execution_count": 8
        },
        {
            "cell_type": "markdown",
            "source": [
                "SZALLASHELY\n",
                "\n",
                "CIM\n",
                "\n",
                "string, length"
            ],
            "metadata": {
                "azdata_cell_guid": "88af378a-fd6d-4551-b0e6-59e5f8aaf962"
            },
            "attachments": {}
        },
        {
            "cell_type": "code",
            "source": [
                "SELECT TOP 10 CIM AS string, \r\n",
                "        LEN(CIM) AS string_length\r\n",
                "FROM szallashely\r\n",
                "GROUP BY CIM\r\n",
                "ORDER BY 2 DESC"
            ],
            "metadata": {
                "azdata_cell_guid": "c886dea5-aa61-4548-b61f-bcbb696f08bc",
                "language": "sql"
            },
            "outputs": [
                {
                    "output_type": "display_data",
                    "data": {
                        "text/html": "(10 rows affected)"
                    },
                    "metadata": {}
                },
                {
                    "output_type": "display_data",
                    "data": {
                        "text/html": "Total execution time: 00:00:00.032"
                    },
                    "metadata": {}
                },
                {
                    "output_type": "execute_result",
                    "metadata": {
                        "azdata_chartOptions": {
                            "type": "horizontalBar",
                            "dataDirection": "horizontal",
                            "columnsAsLabels": true,
                            "labelFirstColumn": true,
                            "legendPosition": "top",
                            "encoding": "hex",
                            "imageFormat": "jpeg"
                        }
                    },
                    "execution_count": 9,
                    "data": {
                        "application/vnd.dataresource+json": {
                            "schema": {
                                "fields": [
                                    {
                                        "name": "string"
                                    },
                                    {
                                        "name": "string_length"
                                    }
                                ]
                            },
                            "data": [
                                {
                                    "string": "5900 Orosháza, Gyopárosfürdő Tópart utca 3.",
                                    "string_length": "43"
                                },
                                {
                                    "string": "8623 Balatonföldvár, Rákóczi Ferenc út 45.",
                                    "string_length": "42"
                                },
                                {
                                    "string": "8630 Balatonboglár, Dózsa György utca 108",
                                    "string_length": "41"
                                },
                                {
                                    "string": "8630 Balatonboglár, József Attila utca 25",
                                    "string_length": "41"
                                },
                                {
                                    "string": "8630 Balatonboglár, Radnóti Miklós utca 8",
                                    "string_length": "41"
                                },
                                {
                                    "string": "4200 Hajdúszoboszló, Wesselényi utca 56.",
                                    "string_length": "40"
                                },
                                {
                                    "string": "8600 Siófok (Széplak), Akácfa utca 1",
                                    "string_length": "36"
                                },
                                {
                                    "string": "1146 Budapest, Ajtósi Dürer sor 23.",
                                    "string_length": "35"
                                },
                                {
                                    "string": "1097 Budapest, Albert Flórián út 3",
                                    "string_length": "34"
                                },
                                {
                                    "string": "1019 Budapest XIV. Cinkotai út 86.",
                                    "string_length": "34"
                                }
                            ]
                        },
                        "text/html": [
                            "<table>",
                            "<tr><th>string</th><th>string_length</th></tr>",
                            "<tr><td>5900 Orosháza, Gyopárosfürdő Tópart utca 3.</td><td>43</td></tr>",
                            "<tr><td>8623 Balatonföldvár, Rákóczi Ferenc út 45.</td><td>42</td></tr>",
                            "<tr><td>8630 Balatonboglár, Dózsa György utca 108</td><td>41</td></tr>",
                            "<tr><td>8630 Balatonboglár, József Attila utca 25</td><td>41</td></tr>",
                            "<tr><td>8630 Balatonboglár, Radnóti Miklós utca 8</td><td>41</td></tr>",
                            "<tr><td>4200 Hajdúszoboszló, Wesselényi utca 56.</td><td>40</td></tr>",
                            "<tr><td>8600 Siófok (Széplak), Akácfa utca 1</td><td>36</td></tr>",
                            "<tr><td>1146 Budapest, Ajtósi Dürer sor 23.</td><td>35</td></tr>",
                            "<tr><td>1097 Budapest, Albert Flórián út 3</td><td>34</td></tr>",
                            "<tr><td>1019 Budapest XIV. Cinkotai út 86.</td><td>34</td></tr>",
                            "</table>"
                        ]
                    }
                }
            ],
            "execution_count": 9
        },
        {
            "cell_type": "markdown",
            "source": [
                "**MASODIK TABLA**"
            ],
            "metadata": {
                "azdata_cell_guid": "7b0af91e-4a08-4b0a-afea-6c2ad1ebd86f"
            },
            "attachments": {}
        },
        {
            "cell_type": "markdown",
            "source": [
                "VENDEG\n",
                "\n",
                "azon esetek ahol az email cím egyenlő a usernev-el"
            ],
            "metadata": {
                "azdata_cell_guid": "ced7f02d-da00-4a99-8c0e-29f36a69f236"
            },
            "attachments": {}
        },
        {
            "cell_type": "code",
            "source": [
                "select \r\n",
                "    case   \r\n",
                "        when LEFT(EMAIL,len(USERNEV)) = USERNEV then 'ugyanaz'\r\n",
                "        else 'nem ugyanaz'\r\n",
                "    end as 'Ugyanaz az email mint a username?',\r\n",
                "    count(*) 'darabszám'\r\n",
                "from Vendeg\r\n",
                "group by  case   \r\n",
                "        when LEFT(EMAIL,len(USERNEV)) = USERNEV then 'ugyanaz'\r\n",
                "        else 'nem ugyanaz'\r\n",
                "    end\r\n",
                ""
            ],
            "metadata": {
                "azdata_cell_guid": "ce10018e-165c-41eb-9c31-bcbdf5d159b0",
                "language": "sql"
            },
            "outputs": [
                {
                    "output_type": "display_data",
                    "data": {
                        "text/html": "(2 rows affected)"
                    },
                    "metadata": {}
                },
                {
                    "output_type": "display_data",
                    "data": {
                        "text/html": "Total execution time: 00:00:00.026"
                    },
                    "metadata": {}
                },
                {
                    "output_type": "execute_result",
                    "metadata": {
                        "azdata_chartOptions": {
                            "type": "horizontalBar",
                            "dataDirection": "horizontal",
                            "columnsAsLabels": true,
                            "labelFirstColumn": true,
                            "legendPosition": "top",
                            "dataType": "number"
                        }
                    },
                    "execution_count": 28,
                    "data": {
                        "application/vnd.dataresource+json": {
                            "schema": {
                                "fields": [
                                    {
                                        "name": "Ugyanaz az email mint a username?"
                                    },
                                    {
                                        "name": "darabszám"
                                    }
                                ]
                            },
                            "data": [
                                {
                                    "Ugyanaz az email mint a username?": "nem ugyanaz",
                                    "darabszám": "91"
                                },
                                {
                                    "Ugyanaz az email mint a username?": "ugyanaz",
                                    "darabszám": "105"
                                }
                            ]
                        },
                        "text/html": [
                            "<table>",
                            "<tr><th>Ugyanaz az email mint a username?</th><th>darabszám</th></tr>",
                            "<tr><td>nem ugyanaz</td><td>91</td></tr>",
                            "<tr><td>ugyanaz</td><td>105</td></tr>",
                            "</table>"
                        ]
                    }
                }
            ],
            "execution_count": 28
        },
        {
            "cell_type": "markdown",
            "source": [
                "VENDEG\n",
                "\n",
                "születési idő közötti időtartam hossza évben"
            ],
            "metadata": {
                "azdata_cell_guid": "ab1e3a34-3e0f-443d-a00a-f1684c6def8c"
            },
            "attachments": {}
        },
        {
            "cell_type": "code",
            "source": [
                "select YEAR(MAX(SZUL_DAT))-YEAR(MIN(SZUL_DAT)) as 'időtartam'\r\n",
                "from Vendeg"
            ],
            "metadata": {
                "azdata_cell_guid": "6b530f3c-7162-4d63-99c3-4c2df307c473",
                "language": "sql"
            },
            "outputs": [
                {
                    "output_type": "display_data",
                    "data": {
                        "text/html": "(1 row affected)"
                    },
                    "metadata": {}
                },
                {
                    "output_type": "display_data",
                    "data": {
                        "text/html": "Total execution time: 00:00:00.021"
                    },
                    "metadata": {}
                },
                {
                    "output_type": "execute_result",
                    "metadata": {},
                    "execution_count": 30,
                    "data": {
                        "application/vnd.dataresource+json": {
                            "schema": {
                                "fields": [
                                    {
                                        "name": "időtartam"
                                    }
                                ]
                            },
                            "data": [
                                {
                                    "időtartam": "31"
                                }
                            ]
                        },
                        "text/html": [
                            "<table>",
                            "<tr><th>időtartam</th></tr>",
                            "<tr><td>31</td></tr>",
                            "</table>"
                        ]
                    }
                }
            ],
            "execution_count": 30
        },
        {
            "cell_type": "markdown",
            "source": [
                "VENDEG\n",
                "\n",
                "10 véletlenszerű sor"
            ],
            "metadata": {
                "azdata_cell_guid": "a7b491af-baae-442c-aa16-2c37845b60ed"
            },
            "attachments": {}
        },
        {
            "cell_type": "code",
            "source": [
                "SELECT * \r\n",
                "FROM Vendeg\r\n",
                "WHERE USERNEV IN (\r\n",
                "    SELECT TOP (10) USERNEV\r\n",
                "    FROM Vendeg\r\n",
                "    ORDER BY NEWID())"
            ],
            "metadata": {
                "azdata_cell_guid": "26615fe4-ae98-40fc-8ed9-b7438cd9f659",
                "language": "sql"
            },
            "outputs": [
{
    "output_type": "display_data",
    "data": {
        "text/html": "(10 rows affected)"
    },
    "metadata": {}
}, {
    "output_type": "display_data",
    "data": {
        "text/html": "Total execution time: 00:00:00.021"
    },
    "metadata": {}
}, {
    "output_type": "execute_result",
    "metadata": {},
    "execution_count": 33,
    "data": {
        "application/vnd.dataresource+json": {
            "schema": {
                "fields": [
                    {
                        "name": "USERNEV"
                    },
                    {
                        "name": "NEV"
                    },
                    {
                        "name": "EMAIL"
                    },
                    {
                        "name": "SZAML_CIM"
                    },
                    {
                        "name": "SZUL_DAT"
                    }
                ]
            },
            "data": [
                {
                    "USERNEV": "KRISZTIANM",
                    "NEV": "Mogyródi Krisztián",
                    "EMAIL": "KRISZTIANM@gmail.com",
                    "SZAML_CIM": "9155 Lébény Jászai tér 21.",
                    "SZUL_DAT": "1968-05-27"
                },
                {
                    "USERNEV": "debora",
                    "NEV": "Barna Debóra",
                    "EMAIL": "debóra.barna@mail.hu",
                    "SZAML_CIM": "1155 Budapest Fő út 169.",
                    "SZUL_DAT": "1976-10-14"
                },
                {
                    "USERNEV": "dani",
                    "NEV": "Vörös Dániel",
                    "EMAIL": "daniel@gmail.com",
                    "SZAML_CIM": "7150 Bonyhád Dózsa György u. 1.",
                    "SZUL_DAT": "1986-10-14"
                },
                {
                    "USERNEV": "ZOLTANT",
                    "NEV": "Tóth Zoltán",
                    "EMAIL": "zoltán.tóth@mail.hu",
                    "SZAML_CIM": "4244 Újfehértó Posta köz 2.",
                    "SZUL_DAT": "1985-12-14"
                },
                {
                    "USERNEV": "imre",
                    "NEV": "Búza Imre",
                    "EMAIL": "imre.búza@mail.hu",
                    "SZAML_CIM": "9181 Kimle Petőfi Sándor tér 1.",
                    "SZUL_DAT": "1988-09-30"
                },
                {
                    "USERNEV": "georgij",
                    "NEV": "Nyíri Georgij",
                    "EMAIL": "georgij.nyíri@mail.hu",
                    "SZAML_CIM": "8391 Sármellék Grassalkovich út 10.",
                    "SZUL_DAT": "1983-02-23"
                },
                {
                    "USERNEV": "adam1",
                    "NEV": "Kiss Ádám",
                    "EMAIL": "ádám.kiss@mail.hu",
                    "SZAML_CIM": "5630 Békés Szolnoki út 8.",
                    "SZUL_DAT": "1991-12-28"
                },
                {
                    "USERNEV": "SEBASTIANF",
                    "NEV": "Foltényi Sebastián",
                    "EMAIL": "SEBASTIANF@gmail.com",
                    "SZAML_CIM": "7960 Sellye Grassalkovich út 10.",
                    "SZUL_DAT": "1992-09-09"
                },
                {
                    "USERNEV": "SZILARDS",
                    "NEV": "Szalai Szilárd",
                    "EMAIL": "szilárd.szalai@mail.hu",
                    "SZAML_CIM": "1077 Budapest Fő út 18.",
                    "SZUL_DAT": "1967-09-28"
                },
                {
                    "USERNEV": "balazs2",
                    "NEV": "Szűcs Balázs",
                    "EMAIL": "balázs.szűcs@mail.hu",
                    "SZAML_CIM": "3170 Szécsény Szabadság utca 95.",
                    "SZUL_DAT": "1984-10-31"
                }
            ]
        },
        "text/html": [
            "<table>",
            "<tr><th>USERNEV</th><th>NEV</th><th>EMAIL</th><th>SZAML_CIM</th><th>SZUL_DAT</th></tr>",
            "<tr><td>KRISZTIANM</td><td>Mogyródi Krisztián</td><td>KRISZTIANM@gmail.com</td><td>9155 Lébény Jászai tér 21.</td><td>1968-05-27</td></tr>",
            "<tr><td>debora</td><td>Barna Debóra</td><td>debóra.barna@mail.hu</td><td>1155 Budapest Fő út 169.</td><td>1976-10-14</td></tr>",
            "<tr><td>dani</td><td>Vörös Dániel</td><td>daniel@gmail.com</td><td>7150 Bonyhád Dózsa György u. 1.</td><td>1986-10-14</td></tr>",
            "<tr><td>ZOLTANT</td><td>Tóth Zoltán</td><td>zoltán.tóth@mail.hu</td><td>4244 Újfehértó Posta köz 2.</td><td>1985-12-14</td></tr>",
            "<tr><td>imre</td><td>Búza Imre</td><td>imre.búza@mail.hu</td><td>9181 Kimle Petőfi Sándor tér 1.</td><td>1988-09-30</td></tr>",
            "<tr><td>georgij</td><td>Nyíri Georgij</td><td>georgij.nyíri@mail.hu</td><td>8391 Sármellék Grassalkovich út 10.</td><td>1983-02-23</td></tr>",
            "<tr><td>adam1</td><td>Kiss Ádám</td><td>ádám.kiss@mail.hu</td><td>5630 Békés Szolnoki út 8.</td><td>1991-12-28</td></tr>",
            "<tr><td>SEBASTIANF</td><td>Foltényi Sebastián</td><td>SEBASTIANF@gmail.com</td><td>7960 Sellye Grassalkovich út 10.</td><td>1992-09-09</td></tr>",
            "<tr><td>SZILARDS</td><td>Szalai Szilárd</td><td>szilárd.szalai@mail.hu</td><td>1077 Budapest Fő út 18.</td><td>1967-09-28</td></tr>",
            "<tr><td>balazs2</td><td>Szűcs Balázs</td><td>balázs.szűcs@mail.hu</td><td>3170 Szécsény Szabadság utca 95.</td><td>1984-10-31</td></tr>",
            "</table>"
        ]
    }
}
],
            "execution_count": 33
        }
    ]
}