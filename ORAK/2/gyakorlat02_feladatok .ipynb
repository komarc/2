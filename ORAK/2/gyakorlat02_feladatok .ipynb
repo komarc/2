{
    "metadata": {
        "kernelspec": {
            "name": "SQL",
            "display_name": "SQL",
            "language": "sql"
        },
        "language_info": {
            "name": "sql",
            "version": ""
        },
        "extensions": {
            "azuredatastudio": {
                "version": 1,
                "views": []
            }
        }
    },
    "nbformat_minor": 2,
    "nbformat": 4,
    "cells": [
        {
            "cell_type": "markdown",
            "source": [
                "1. <span style=\"color:rgb(36, 41, 47);font-family:-apple-system, BlinkMacSystemFont, &quot;Segoe UI&quot;, Helvetica, Arial, sans-serif, &quot;Apple Color Emoji&quot;, &quot;Segoe UI Emoji&quot;;font-size:16px;\">Készítsünk lekérdezést, amely listázza, hogy mely napokon hány db kölcsönzés történt!</span>\n",
                "\n",
                "<span style=\"font-size: 16px;\">a.&nbsp;</span> Az oszlopok neve legyen 'Dátum' és 'Kölcsönzések száma'  \n",
                "b. A listát rendezzük a kölcsönzés dátuma szerint csökkenő sorrendbe!"
            ],
            "metadata": {
                "azdata_cell_guid": "77f2d5b3-38e9-41cc-893f-f5afd02b97ef"
            },
            "attachments": {}
        },
        {
            "cell_type": "code",
            "source": [
                "--dvd_magyar\r\n",
                "select ki_datum,\r\n",
                "    --hány db\r\n",
                "    count(*) as 'DB'\r\n",
                "from kolcsonzesek\r\n",
                "GROUP BY ki_datum\r\n",
                "ORDER BY ki_datum DESC"
            ],
            "metadata": {
                "azdata_cell_guid": "bd3cef1a-4e6e-4ece-9dc3-aaa9d2b5d66d",
                "language": "sql"
            },
            "outputs": [
                {
                    "output_type": "display_data",
                    "data": {
                        "text/html": "(3 rows affected)"
                    },
                    "metadata": {}
                },
                {
                    "output_type": "display_data",
                    "data": {
                        "text/html": "Total execution time: 00:00:00.186"
                    },
                    "metadata": {}
                },
                {
                    "output_type": "execute_result",
                    "execution_count": 1,
                    "data": {
                        "application/vnd.dataresource+json": {
                            "schema": {
                                "fields": [
                                    {
                                        "name": "ki_datum"
                                    },
                                    {
                                        "name": "DB"
                                    }
                                ]
                            },
                            "data": [
                                {
                                    "ki_datum": "2006-10-02",
                                    "DB": "1"
                                },
                                {
                                    "ki_datum": "2006-10-01",
                                    "DB": "1"
                                },
                                {
                                    "ki_datum": "2003-12-11",
                                    "DB": "3"
                                }
                            ]
                        },
                        "text/html": "<table><tr><th>ki_datum</th><th>DB</th></tr><tr><td>2006-10-02</td><td>1</td></tr><tr><td>2006-10-01</td><td>1</td></tr><tr><td>2003-12-11</td><td>3</td></tr></table>"
                    },
                    "metadata": {}
                }
            ],
            "execution_count": 1
        },
        {
            "cell_type": "markdown",
            "source": [
                "2. <span style=\"font-weight: 600; color: rgb(36, 41, 47); font-family: -apple-system, BlinkMacSystemFont, &quot;Segoe UI&quot;, Helvetica, Arial, sans-serif, &quot;Apple Color Emoji&quot;, &quot;Segoe UI Emoji&quot;; font-size: 16px;\">Mennyi a dvd-k átlagos ára stílusonkénti bontásban?</span>\n",
                "\n",
                "1. Csak azokat a stílusokat vegyük figyelembe, ahol az átlagos ár 4500 Ft feletti!\n",
                "2. Az oszlopokat nevezzük el értelemszerűen!\n",
                "3. A listát rendezzük átlagos ár szerint csökkenő sorrendbe!"
            ],
            "metadata": {
                "azdata_cell_guid": "88f5b4bb-f4c1-4bad-a0c7-b2592687b422"
            },
            "attachments": {}
        },
        {
            "cell_type": "code",
            "source": [
                "select stilus, avg(nettoar) as 'Átlag ár'\r\n",
                "from dvd\r\n",
                "where nettoar>4500\r\n",
                "group by stilus\r\n",
                "having avg(nettoar)>4500\r\n",
                "order by avg(nettoar) desc"
            ],
            "metadata": {
                "azdata_cell_guid": "e9de5726-f036-4fb9-8c33-a873955ed886",
                "language": "sql"
            },
            "outputs": [
<<<<<<< HEAD
{
    "output_type": "display_data",
    "data": {
        "text/html": "(34 rows affected)"
    },
    "metadata": {}
}, {
    "output_type": "display_data",
    "data": {
        "text/html": "Total execution time: 00:00:00.096"
    },
    "metadata": {}
}, {
    "output_type": "execute_result",
    "metadata": {},
    "execution_count": 3,
    "data": {
        "application/vnd.dataresource+json": {
            "schema": {
                "fields": [
                    {
                        "name": "stilus"
                    },
                    {
                        "name": "Átlag ár"
                    }
                ]
            },
            "data": [
                {
                    "stilus": "csillagászat",
                    "Átlag ár": "5888,333333333333"
                },
                {
                    "stilus": "ásványtan",
                    "Átlag ár": "5624"
                },
                {
                    "stilus": "felvételi",
                    "Átlag ár": "5605"
                },
                {
                    "stilus": "játék (rodeó)",
                    "Átlag ár": "5591"
                },
                {
                    "stilus": "humor",
                    "Átlag ár": "5573"
                },
                {
                    "stilus": "környezetvédelem",
                    "Átlag ár": "5508"
                },
                {
                    "stilus": "kresz",
                    "Átlag ár": "5476"
                },
                {
                    "stilus": "földrajz",
                    "Átlag ár": "5426,5"
                },
                {
                    "stilus": "művészet",
                    "Átlag ár": "5422,333333333333"
                },
                {
                    "stilus": "ismeretterjesztő",
                    "Átlag ár": "5409,884615384615"
                },
                {
                    "stilus": "festészet",
                    "Átlag ár": "5408"
                },
                {
                    "stilus": "játék",
                    "Átlag ár": "5383,315789473684"
                },
                {
                    "stilus": "nyelvtanító",
                    "Átlag ár": "5371,88"
                },
                {
                    "stilus": "történelem",
                    "Átlag ár": "5354,714285714285"
                },
                {
                    "stilus": "zene",
                    "Átlag ár": "5312,25"
                },
                {
                    "stilus": "nyelvtan",
                    "Átlag ár": "5312"
                },
                {
                    "stilus": "irodalom",
                    "Átlag ár": "5309,833333333333"
                },
                {
                    "stilus": "szótár",
                    "Átlag ár": "5297,25"
                },
                {
                    "stilus": "játék (labdarúgás)",
                    "Átlag ár": "5290,5"
                },
                {
                    "stilus": "fizika",
                    "Átlag ár": "5286,5"
                },
                {
                    "stilus": "matematika",
                    "Átlag ár": "5275,6"
                },
                {
                    "stilus": "játék (jégkorong)",
                    "Átlag ár": "5242"
                },
                {
                    "stilus": "biológia",
                    "Átlag ár": "5203"
                },
                {
                    "stilus": "gasztronómia",
                    "Átlag ár": "5168,666666666667"
                },
                {
                    "stilus": "színház",
                    "Átlag ár": "5158"
                },
                {
                    "stilus": "múvészet",
                    "Átlag ár": "5118"
                },
                {
                    "stilus": "állattan",
                    "Átlag ár": "5099"
                },
                {
                    "stilus": "számítástechnika",
                    "Átlag ár": "5097"
                },
                {
                    "stilus": "kémia",
                    "Átlag ár": "5094"
                },
                {
                    "stilus": "fordító program",
                    "Átlag ár": "5036"
                },
                {
                    "stilus": "játék (autóverseny)",
                    "Átlag ár": "5005"
                },
                {
                    "stilus": "kerttervező",
                    "Átlag ár": "4951"
                },
                {
                    "stilus": "irodalom, nyelv",
                    "Átlag ár": "4704"
                },
                {
                    "stilus": "sport",
                    "Átlag ár": "4607"
                }
            ]
        },
        "text/html": [
            "<table>",
            "<tr><th>stilus</th><th>Átlag ár</th></tr>",
            "<tr><td>csillagászat</td><td>5888,333333333333</td></tr>",
            "<tr><td>ásványtan</td><td>5624</td></tr>",
            "<tr><td>felvételi</td><td>5605</td></tr>",
            "<tr><td>játék (rodeó)</td><td>5591</td></tr>",
            "<tr><td>humor</td><td>5573</td></tr>",
            "<tr><td>környezetvédelem</td><td>5508</td></tr>",
            "<tr><td>kresz</td><td>5476</td></tr>",
            "<tr><td>földrajz</td><td>5426,5</td></tr>",
            "<tr><td>művészet</td><td>5422,333333333333</td></tr>",
            "<tr><td>ismeretterjesztő</td><td>5409,884615384615</td></tr>",
            "<tr><td>festészet</td><td>5408</td></tr>",
            "<tr><td>játék</td><td>5383,315789473684</td></tr>",
            "<tr><td>nyelvtanító</td><td>5371,88</td></tr>",
            "<tr><td>történelem</td><td>5354,714285714285</td></tr>",
            "<tr><td>zene</td><td>5312,25</td></tr>",
            "<tr><td>nyelvtan</td><td>5312</td></tr>",
            "<tr><td>irodalom</td><td>5309,833333333333</td></tr>",
            "<tr><td>szótár</td><td>5297,25</td></tr>",
            "<tr><td>játék (labdarúgás)</td><td>5290,5</td></tr>",
            "<tr><td>fizika</td><td>5286,5</td></tr>",
            "<tr><td>matematika</td><td>5275,6</td></tr>",
            "<tr><td>játék (jégkorong)</td><td>5242</td></tr>",
            "<tr><td>biológia</td><td>5203</td></tr>",
            "<tr><td>gasztronómia</td><td>5168,666666666667</td></tr>",
            "<tr><td>színház</td><td>5158</td></tr>",
            "<tr><td>múvészet</td><td>5118</td></tr>",
            "<tr><td>állattan</td><td>5099</td></tr>",
            "<tr><td>számítástechnika</td><td>5097</td></tr>",
            "<tr><td>kémia</td><td>5094</td></tr>",
            "<tr><td>fordító program</td><td>5036</td></tr>",
            "<tr><td>játék (autóverseny)</td><td>5005</td></tr>",
            "<tr><td>kerttervező</td><td>4951</td></tr>",
            "<tr><td>irodalom, nyelv</td><td>4704</td></tr>",
            "<tr><td>sport</td><td>4607</td></tr>",
            "</table>"
        ]
    }
}
],
            "execution_count": 3
=======
                {
                    "output_type": "display_data",
                    "data": {
                        "text/html": "(34 rows affected)"
                    },
                    "metadata": {}
                },
                {
                    "output_type": "display_data",
                    "data": {
                        "text/html": "Total execution time: 00:00:00.070"
                    },
                    "metadata": {}
                },
                {
                    "output_type": "execute_result",
                    "execution_count": 6,
                    "data": {
                        "application/vnd.dataresource+json": {
                            "schema": {
                                "fields": [
                                    {
                                        "name": "stilus"
                                    },
                                    {
                                        "name": "Átlag ár"
                                    }
                                ]
                            },
                            "data": [
                                {
                                    "stilus": "csillagászat",
                                    "Átlag ár": "5888,333333333333"
                                },
                                {
                                    "stilus": "ásványtan",
                                    "Átlag ár": "5624"
                                },
                                {
                                    "stilus": "felvételi",
                                    "Átlag ár": "5605"
                                },
                                {
                                    "stilus": "játék (rodeó)",
                                    "Átlag ár": "5591"
                                },
                                {
                                    "stilus": "humor",
                                    "Átlag ár": "5573"
                                },
                                {
                                    "stilus": "környezetvédelem",
                                    "Átlag ár": "5508"
                                },
                                {
                                    "stilus": "kresz",
                                    "Átlag ár": "5476"
                                },
                                {
                                    "stilus": "földrajz",
                                    "Átlag ár": "5426,5"
                                },
                                {
                                    "stilus": "művészet",
                                    "Átlag ár": "5422,333333333333"
                                },
                                {
                                    "stilus": "ismeretterjesztő",
                                    "Átlag ár": "5409,884615384615"
                                },
                                {
                                    "stilus": "festészet",
                                    "Átlag ár": "5408"
                                },
                                {
                                    "stilus": "játék",
                                    "Átlag ár": "5383,315789473684"
                                },
                                {
                                    "stilus": "nyelvtanító",
                                    "Átlag ár": "5371,88"
                                },
                                {
                                    "stilus": "történelem",
                                    "Átlag ár": "5354,714285714285"
                                },
                                {
                                    "stilus": "zene",
                                    "Átlag ár": "5312,25"
                                },
                                {
                                    "stilus": "nyelvtan",
                                    "Átlag ár": "5312"
                                },
                                {
                                    "stilus": "irodalom",
                                    "Átlag ár": "5309,833333333333"
                                },
                                {
                                    "stilus": "szótár",
                                    "Átlag ár": "5297,25"
                                },
                                {
                                    "stilus": "játék (labdarúgás)",
                                    "Átlag ár": "5290,5"
                                },
                                {
                                    "stilus": "fizika",
                                    "Átlag ár": "5286,5"
                                },
                                {
                                    "stilus": "matematika",
                                    "Átlag ár": "5275,6"
                                },
                                {
                                    "stilus": "játék (jégkorong)",
                                    "Átlag ár": "5242"
                                },
                                {
                                    "stilus": "biológia",
                                    "Átlag ár": "5203"
                                },
                                {
                                    "stilus": "gasztronómia",
                                    "Átlag ár": "5168,666666666667"
                                },
                                {
                                    "stilus": "színház",
                                    "Átlag ár": "5158"
                                },
                                {
                                    "stilus": "múvészet",
                                    "Átlag ár": "5118"
                                },
                                {
                                    "stilus": "állattan",
                                    "Átlag ár": "5099"
                                },
                                {
                                    "stilus": "számítástechnika",
                                    "Átlag ár": "5097"
                                },
                                {
                                    "stilus": "kémia",
                                    "Átlag ár": "5094"
                                },
                                {
                                    "stilus": "fordító program",
                                    "Átlag ár": "5036"
                                },
                                {
                                    "stilus": "játék (autóverseny)",
                                    "Átlag ár": "5005"
                                },
                                {
                                    "stilus": "kerttervező",
                                    "Átlag ár": "4951"
                                },
                                {
                                    "stilus": "irodalom, nyelv",
                                    "Átlag ár": "4704"
                                },
                                {
                                    "stilus": "sport",
                                    "Átlag ár": "4607"
                                }
                            ]
                        },
                        "text/html": "<table><tr><th>stilus</th><th>Átlag ár</th></tr><tr><td>csillagászat</td><td>5888,333333333333</td></tr><tr><td>ásványtan</td><td>5624</td></tr><tr><td>felvételi</td><td>5605</td></tr><tr><td>játék (rodeó)</td><td>5591</td></tr><tr><td>humor</td><td>5573</td></tr><tr><td>környezetvédelem</td><td>5508</td></tr><tr><td>kresz</td><td>5476</td></tr><tr><td>földrajz</td><td>5426,5</td></tr><tr><td>művészet</td><td>5422,333333333333</td></tr><tr><td>ismeretterjesztő</td><td>5409,884615384615</td></tr><tr><td>festészet</td><td>5408</td></tr><tr><td>játék</td><td>5383,315789473684</td></tr><tr><td>nyelvtanító</td><td>5371,88</td></tr><tr><td>történelem</td><td>5354,714285714285</td></tr><tr><td>zene</td><td>5312,25</td></tr><tr><td>nyelvtan</td><td>5312</td></tr><tr><td>irodalom</td><td>5309,833333333333</td></tr><tr><td>szótár</td><td>5297,25</td></tr><tr><td>játék (labdarúgás)</td><td>5290,5</td></tr><tr><td>fizika</td><td>5286,5</td></tr><tr><td>matematika</td><td>5275,6</td></tr><tr><td>játék (jégkorong)</td><td>5242</td></tr><tr><td>biológia</td><td>5203</td></tr><tr><td>gasztronómia</td><td>5168,666666666667</td></tr><tr><td>színház</td><td>5158</td></tr><tr><td>múvészet</td><td>5118</td></tr><tr><td>állattan</td><td>5099</td></tr><tr><td>számítástechnika</td><td>5097</td></tr><tr><td>kémia</td><td>5094</td></tr><tr><td>fordító program</td><td>5036</td></tr><tr><td>játék (autóverseny)</td><td>5005</td></tr><tr><td>kerttervező</td><td>4951</td></tr><tr><td>irodalom, nyelv</td><td>4704</td></tr><tr><td>sport</td><td>4607</td></tr></table>"
                    },
                    "metadata": {}
                }
            ],
            "execution_count": 6
>>>>>>> 39975290e750e7d196e84bfb55733b2e17a3673e
        },
        {
            "cell_type": "markdown",
            "source": [
                "3. <span style=\"color:rgb(36, 41, 47);font-family:-apple-system, BlinkMacSystemFont, &quot;Segoe UI&quot;, Helvetica, Arial, sans-serif, &quot;Apple Color Emoji&quot;, &quot;Segoe UI Emoji&quot;;font-size:16px;\">Listázzuk nyelvenkénti, azon belül stílusonkénti bontásban, hogy mennyi a dvd-k legkisebb és legnagyobb ára!&nbsp;</span> \n",
                "\n",
                "<span style=\"font-size: 16px;\">a. Az oszlopok neve legyen 'Nyelv', 'Stílus', 'MinÁr' és 'MaxÁr'!<br>b.&nbsp;</span> A listából hagyjuk ki azokat a sorokat, ahol a nyelv vagy a stílus nincs megadva!  \n",
                "c. Szintén hagyjuk ki azokat a csoportokat, ahol a csoport elemszáma 3-nál kisebb!"
            ],
            "metadata": {
                "azdata_cell_guid": "9e7249de-1b59-43d8-84b1-26fa7d81fc5a"
            },
            "attachments": {}
        },
        {
            "cell_type": "code",
            "source": [
                "select lang as Nyelv,\r\n",
                "    stilus,\r\n",
                "    max(nettoar) as 'MaxÁR',\r\n",
                "    min(nettoar) as 'MinÁr'\r\n",
                "from dvd\r\n",
                "where lang is not NULL and stilus is not null\r\n",
                "group by lang, stilus\r\n",
                "having count(*)>=3\r\n",
                ""
            ],
            "metadata": {
                "azdata_cell_guid": "6405d3e8-a9b1-45d7-aa76-3b1e785ef6cc",
                "language": "sql"
            },
            "outputs": [
                {
                    "output_type": "display_data",
                    "data": {
                        "text/html": "(25 rows affected)"
                    },
                    "metadata": {}
                },
                {
                    "output_type": "display_data",
                    "data": {
                        "text/html": "Total execution time: 00:00:00.028"
                    },
                    "metadata": {}
                },
                {
                    "output_type": "execute_result",
                    "execution_count": 20,
                    "data": {
                        "application/vnd.dataresource+json": {
                            "schema": {
                                "fields": [
                                    {
                                        "name": "Nyelv"
                                    },
                                    {
                                        "name": "stilus"
                                    },
                                    {
                                        "name": "MaxÁR"
                                    },
                                    {
                                        "name": "MinÁr"
                                    }
                                ]
                            },
                            "data": [
                                {
                                    "Nyelv": "1",
                                    "stilus": "állattan",
                                    "MaxÁR": "5235",
                                    "MinÁr": "4153"
                                },
                                {
                                    "Nyelv": "1",
                                    "stilus": "biológia",
                                    "MaxÁR": "5543",
                                    "MinÁr": "3482"
                                },
                                {
                                    "Nyelv": "1",
                                    "stilus": "csillagászat",
                                    "MaxÁR": "5992",
                                    "MinÁr": "3582"
                                },
                                {
                                    "Nyelv": "1",
                                    "stilus": "felvételi",
                                    "MaxÁR": "5955",
                                    "MinÁr": "3215"
                                },
                                {
                                    "Nyelv": "1",
                                    "stilus": "fizika",
                                    "MaxÁR": "5763",
                                    "MinÁr": "3734"
                                },
                                {
                                    "Nyelv": "1",
                                    "stilus": "földrajz",
                                    "MaxÁR": "6065",
                                    "MinÁr": "3123"
                                },
                                {
                                    "Nyelv": "1",
                                    "stilus": "gasztronómia",
                                    "MaxÁR": "5706",
                                    "MinÁr": "3258"
                                },
                                {
                                    "Nyelv": "1",
                                    "stilus": "irodalom",
                                    "MaxÁR": "5654",
                                    "MinÁr": "3391"
                                },
                                {
                                    "Nyelv": "1",
                                    "stilus": "ismeretterjesztő",
                                    "MaxÁR": "6072",
                                    "MinÁr": "3256"
                                },
                                {
                                    "Nyelv": "2",
                                    "stilus": "ismeretterjesztő",
                                    "MaxÁR": "5900",
                                    "MinÁr": "5334"
                                },
                                {
                                    "Nyelv": "1",
                                    "stilus": "játék",
                                    "MaxÁR": "6078",
                                    "MinÁr": "3110"
                                },
                                {
                                    "Nyelv": "2",
                                    "stilus": "játék",
                                    "MaxÁR": "6062",
                                    "MinÁr": "3144"
                                },
                                {
                                    "Nyelv": "2",
                                    "stilus": "játék (autóverseny)",
                                    "MaxÁR": "5005",
                                    "MinÁr": "3106"
                                },
                                {
                                    "Nyelv": "1",
                                    "stilus": "matematika",
                                    "MaxÁR": "5995",
                                    "MinÁr": "3105"
                                },
                                {
                                    "Nyelv": "1",
                                    "stilus": "művészet",
                                    "MaxÁR": "6098",
                                    "MinÁr": "3490"
                                },
                                {
                                    "Nyelv": "1",
                                    "stilus": "nyelvtan",
                                    "MaxÁR": "5845",
                                    "MinÁr": "3688"
                                },
                                {
                                    "Nyelv": "2",
                                    "stilus": "nyelvtanító",
                                    "MaxÁR": "6068",
                                    "MinÁr": "3115"
                                },
                                {
                                    "Nyelv": "3",
                                    "stilus": "nyelvtanító",
                                    "MaxÁR": "5990",
                                    "MinÁr": "3313"
                                },
                                {
                                    "Nyelv": "4",
                                    "stilus": "nyelvtanító",
                                    "MaxÁR": "6082",
                                    "MinÁr": "3419"
                                },
                                {
                                    "Nyelv": "6",
                                    "stilus": "nyelvtanító",
                                    "MaxÁR": "5882",
                                    "MinÁr": "3775"
                                },
                                {
                                    "Nyelv": "7",
                                    "stilus": "nyelvtanító",
                                    "MaxÁR": "5619",
                                    "MinÁr": "3770"
                                },
                                {
                                    "Nyelv": "1",
                                    "stilus": "számítástechnika",
                                    "MaxÁR": "5260",
                                    "MinÁr": "3277"
                                },
                                {
                                    "Nyelv": "2",
                                    "stilus": "szótár",
                                    "MaxÁR": "5638",
                                    "MinÁr": "3509"
                                },
                                {
                                    "Nyelv": "1",
                                    "stilus": "történelem",
                                    "MaxÁR": "6084",
                                    "MinÁr": "3122"
                                },
                                {
                                    "Nyelv": "1",
                                    "stilus": "zene",
                                    "MaxÁR": "5730",
                                    "MinÁr": "3391"
                                }
                            ]
                        },
                        "text/html": "<table><tr><th>Nyelv</th><th>stilus</th><th>MaxÁR</th><th>MinÁr</th></tr><tr><td>1</td><td>állattan</td><td>5235</td><td>4153</td></tr><tr><td>1</td><td>biológia</td><td>5543</td><td>3482</td></tr><tr><td>1</td><td>csillagászat</td><td>5992</td><td>3582</td></tr><tr><td>1</td><td>felvételi</td><td>5955</td><td>3215</td></tr><tr><td>1</td><td>fizika</td><td>5763</td><td>3734</td></tr><tr><td>1</td><td>földrajz</td><td>6065</td><td>3123</td></tr><tr><td>1</td><td>gasztronómia</td><td>5706</td><td>3258</td></tr><tr><td>1</td><td>irodalom</td><td>5654</td><td>3391</td></tr><tr><td>1</td><td>ismeretterjesztő</td><td>6072</td><td>3256</td></tr><tr><td>2</td><td>ismeretterjesztő</td><td>5900</td><td>5334</td></tr><tr><td>1</td><td>játék</td><td>6078</td><td>3110</td></tr><tr><td>2</td><td>játék</td><td>6062</td><td>3144</td></tr><tr><td>2</td><td>játék (autóverseny)</td><td>5005</td><td>3106</td></tr><tr><td>1</td><td>matematika</td><td>5995</td><td>3105</td></tr><tr><td>1</td><td>művészet</td><td>6098</td><td>3490</td></tr><tr><td>1</td><td>nyelvtan</td><td>5845</td><td>3688</td></tr><tr><td>2</td><td>nyelvtanító</td><td>6068</td><td>3115</td></tr><tr><td>3</td><td>nyelvtanító</td><td>5990</td><td>3313</td></tr><tr><td>4</td><td>nyelvtanító</td><td>6082</td><td>3419</td></tr><tr><td>6</td><td>nyelvtanító</td><td>5882</td><td>3775</td></tr><tr><td>7</td><td>nyelvtanító</td><td>5619</td><td>3770</td></tr><tr><td>1</td><td>számítástechnika</td><td>5260</td><td>3277</td></tr><tr><td>2</td><td>szótár</td><td>5638</td><td>3509</td></tr><tr><td>1</td><td>történelem</td><td>6084</td><td>3122</td></tr><tr><td>1</td><td>zene</td><td>5730</td><td>3391</td></tr></table>"
                    },
                    "metadata": {}
                }
            ],
            "execution_count": 20
        },
        {
            "cell_type": "markdown",
            "source": [
                "4. <span style=\"color: rgb(36, 41, 47); font-family: -apple-system, BlinkMacSystemFont, &quot;Segoe UI&quot;, Helvetica, Arial, sans-serif, &quot;Apple Color Emoji&quot;, &quot;Segoe UI Emoji&quot;; font-size: 16px;\">Készítsünk listát, amely a csoportokat hoz létre aszerint, hogy a mai naptól számítva hány nap telt el a kölcsönzés kezdete óta. A lista jelenítse meg csoportonkénti bontásban a kikölcsönzött dvd-k számát!</span>\n",
                "\n",
                "1. Az oszlopokat nevezzük el értelemszerűen!\n",
                "2. A listát rendezzük az eltelt napok száma szerint csökkenő sorrendbe!"
            ],
            "metadata": {
                "azdata_cell_guid": "6478e469-c094-472c-a772-ccd5b5c61516"
            },
            "attachments": {}
        },
        {
            "cell_type": "code",
            "source": [
                "select *,\r\n",
                "    DATEDIFF(day,ki_datum,GETDATE()) as 'Eltelt idő',\r\n",
                "    count(*) as 'DVD-k száma'\r\n",
                "from kolcsonzesek\r\n",
                "group by DATEDIFF(day,ki_datum,GETDATE())\r\n",
                "order by DATEDIFF(day,ki_datum,GETDATE()) DESC\r\n",
                ""
            ],
            "metadata": {
                "azdata_cell_guid": "02031ea2-3838-458d-839c-228e3b362b61",
                "language": "sql"
            },
            "outputs": [
                {
                    "output_type": "error",
                    "ename": "",
                    "evalue": "Msg 8120, Level 16, State 1, Line 1\r\nColumn 'kolcsonzesek.ID' is invalid in the select list because it is not contained in either an aggregate function or the GROUP BY clause.",
                    "traceback": []
                },
                {
                    "output_type": "display_data",
                    "data": {
                        "text/html": "Total execution time: 00:00:00.005"
                    },
                    "metadata": {}
                }
            ],
            "execution_count": 33
        },
        {
            "cell_type": "markdown",
            "source": [
                "5. <span style=\"color: rgb(36, 41, 47); font-family: -apple-system, BlinkMacSystemFont, &quot;Segoe UI&quot;, Helvetica, Arial, sans-serif, &quot;Apple Color Emoji&quot;, &quot;Segoe UI Emoji&quot;; font-size: 16px;\">A kölcsönző tulajdonosa elhatározza, hogy ezentúl kerekebb árakat alkalmaz. Ezért minden dvd árát 1000 Ft-ra kerekíti. Készítsünk lekérdezést, amely megmutatja, hogy melyik 1000 Ft-ra kerekített ár szerint, azon belül stílus szerint hány db dvd összesen raktáron! **</span>\n",
                "\n",
                "1. Csak olyan csoportokat listázzunk, ahol a raktárkészlet legalább 30!\n",
                "2. A listát rendezzük kerekített ár szerint, azon belül raktárkészlet szerint növekvő sorrendbe!"
            ],
            "metadata": {
                "azdata_cell_guid": "9edbbaf9-c276-4898-9a01-e1b2993c089f"
            },
            "attachments": {}
        },
        {
            "cell_type": "code",
            "source": [
                "select round(nettoar, -3) as 'Kerekitett ár',\r\n",
                "    stilus,\r\n",
                "    sum([raktár készlet]) as 'Raktárössz'\r\n",
                "from dvd\r\n",
                "group by round(nettoar, -3), stilus\r\n",
                "HAVING SUM([raktár készlet]) > 30\r\n",
                " order by round(nettoar, -3) desc"
            ],
            "metadata": {
                "azdata_cell_guid": "5ad5fdcb-2878-4111-861a-833bcd50e935",
                "language": "sql"
            },
            "outputs": [
                {
                    "output_type": "display_data",
                    "data": {
                        "text/html": "(19 rows affected)"
                    },
                    "metadata": {}
                },
                {
                    "output_type": "display_data",
                    "data": {
                        "text/html": "Total execution time: 00:00:00.508"
                    },
                    "metadata": {}
                },
                {
                    "output_type": "execute_result",
                    "execution_count": 37,
                    "data": {
                        "application/vnd.dataresource+json": {
                            "schema": {
                                "fields": [
                                    {
                                        "name": "Kerekitett ár"
                                    },
                                    {
                                        "name": "stilus"
                                    },
                                    {
                                        "name": "Raktárössz"
                                    }
                                ]
                            },
                            "data": [
                                {
                                    "Kerekitett ár": "6000",
                                    "stilus": "ismeretterjesztő",
                                    "Raktárössz": "90"
                                },
                                {
                                    "Kerekitett ár": "6000",
                                    "stilus": "játék",
                                    "Raktárössz": "170"
                                },
                                {
                                    "Kerekitett ár": "6000",
                                    "stilus": "nyelvtanító",
                                    "Raktárössz": "110"
                                },
                                {
                                    "Kerekitett ár": "6000",
                                    "stilus": "történelem",
                                    "Raktárössz": "88"
                                },
                                {
                                    "Kerekitett ár": "5000",
                                    "stilus": "földrajz",
                                    "Raktárössz": "60"
                                },
                                {
                                    "Kerekitett ár": "5000",
                                    "stilus": "ismeretterjesztő",
                                    "Raktárössz": "170"
                                },
                                {
                                    "Kerekitett ár": "5000",
                                    "stilus": "játék",
                                    "Raktárössz": "210"
                                },
                                {
                                    "Kerekitett ár": "5000",
                                    "stilus": "nyelvtanító",
                                    "Raktárössz": "140"
                                },
                                {
                                    "Kerekitett ár": "5000",
                                    "stilus": "történelem",
                                    "Raktárössz": "120"
                                },
                                {
                                    "Kerekitett ár": "4000",
                                    "stilus": "csillagászat",
                                    "Raktárössz": "40"
                                },
                                {
                                    "Kerekitett ár": "4000",
                                    "stilus": "földrajz",
                                    "Raktárössz": "50"
                                },
                                {
                                    "Kerekitett ár": "4000",
                                    "stilus": "irodalom",
                                    "Raktárössz": "90"
                                },
                                {
                                    "Kerekitett ár": "4000",
                                    "stilus": "ismeretterjesztő",
                                    "Raktárössz": "130"
                                },
                                {
                                    "Kerekitett ár": "4000",
                                    "stilus": "játék",
                                    "Raktárössz": "180"
                                },
                                {
                                    "Kerekitett ár": "4000",
                                    "stilus": "nyelvtanító",
                                    "Raktárössz": "140"
                                },
                                {
                                    "Kerekitett ár": "4000",
                                    "stilus": "történelem",
                                    "Raktárössz": "160"
                                },
                                {
                                    "Kerekitett ár": "3000",
                                    "stilus": "ismeretterjesztő",
                                    "Raktárössz": "70"
                                },
                                {
                                    "Kerekitett ár": "3000",
                                    "stilus": "játék",
                                    "Raktárössz": "40"
                                },
                                {
                                    "Kerekitett ár": "3000",
                                    "stilus": "történelem",
                                    "Raktárössz": "40"
                                }
                            ]
                        },
                        "text/html": "<table><tr><th>Kerekitett ár</th><th>stilus</th><th>Raktárössz</th></tr><tr><td>6000</td><td>ismeretterjesztő</td><td>90</td></tr><tr><td>6000</td><td>játék</td><td>170</td></tr><tr><td>6000</td><td>nyelvtanító</td><td>110</td></tr><tr><td>6000</td><td>történelem</td><td>88</td></tr><tr><td>5000</td><td>földrajz</td><td>60</td></tr><tr><td>5000</td><td>ismeretterjesztő</td><td>170</td></tr><tr><td>5000</td><td>játék</td><td>210</td></tr><tr><td>5000</td><td>nyelvtanító</td><td>140</td></tr><tr><td>5000</td><td>történelem</td><td>120</td></tr><tr><td>4000</td><td>csillagászat</td><td>40</td></tr><tr><td>4000</td><td>földrajz</td><td>50</td></tr><tr><td>4000</td><td>irodalom</td><td>90</td></tr><tr><td>4000</td><td>ismeretterjesztő</td><td>130</td></tr><tr><td>4000</td><td>játék</td><td>180</td></tr><tr><td>4000</td><td>nyelvtanító</td><td>140</td></tr><tr><td>4000</td><td>történelem</td><td>160</td></tr><tr><td>3000</td><td>ismeretterjesztő</td><td>70</td></tr><tr><td>3000</td><td>játék</td><td>40</td></tr><tr><td>3000</td><td>történelem</td><td>40</td></tr></table>"
                    },
                    "metadata": {}
                }
            ],
            "execution_count": 37
        },
        {
            "cell_type": "markdown",
            "source": [
                "6. <span style=\"font-weight: 600; color: rgb(36, 41, 47); font-family: -apple-system, BlinkMacSystemFont, &quot;Segoe UI&quot;, Helvetica, Arial, sans-serif, &quot;Apple Color Emoji&quot;, &quot;Segoe UI Emoji&quot;; font-size: 16px;\">A dvd-ket csoportosíthatjuk aszerint, hogy milyen hosszú a címük. Amelyiknél a cím hosszúsága 10 karakter alatt van, az legyen Rövid, 10-20-ig Átlagos, 20 felett Hosszú. Hány Rövid, Átlagos, illetve Hosszú dvd-van összesen raktáron?</span>\n",
                "\n",
                "1. Az oszlopok neve legyen 'Cím hosszúság' és 'Darabszám"
            ],
            "metadata": {
                "azdata_cell_guid": "5fe65c1c-2479-45ac-ad03-ec99d12eae21"
            },
            "attachments": {}
        },
        {
            "cell_type": "code",
            "source": [
                "select  CASE\r\n",
                "            when len(cim)<10 then 'rövid'\r\n",
                "            when len(cim) between 10 and 20 then 'átlagos'\r\n",
                "            else 'Hosszú'\r\n",
                "        END AS 'Cím hosszúság',\r\n",
                "        sum([raktár készlet])\r\n",
                "from dvd\r\n",
                "group by CASE\r\n",
                "            when len(cim)<10 then 'rövid'\r\n",
                "            when len(cim) between 10 and 20 then 'átlagos'\r\n",
                "            else 'Hosszú'\r\n",
                "        END\r\n",
                ""
            ],
            "metadata": {
                "azdata_cell_guid": "924f2dde-f1c2-4def-a7f9-dbf4bace7735",
                "language": "sql"
            },
            "outputs": [
                {
                    "output_type": "display_data",
                    "data": {
                        "text/html": "(3 rows affected)"
                    },
                    "metadata": {}
                },
                {
                    "output_type": "display_data",
                    "data": {
                        "text/html": "Total execution time: 00:00:00.024"
                    },
                    "metadata": {}
                },
                {
                    "output_type": "execute_result",
                    "execution_count": 38,
                    "data": {
                        "application/vnd.dataresource+json": {
                            "schema": {
                                "fields": [
                                    {
                                        "name": "Cím hosszúság"
                                    },
                                    {
                                        "name": "(No column name)"
                                    }
                                ]
                            },
                            "data": [
                                {
                                    "Cím hosszúság": "átlagos",
                                    "(No column name)": "930"
                                },
                                {
                                    "Cím hosszúság": "Hosszú",
                                    "(No column name)": "2128"
                                },
                                {
                                    "Cím hosszúság": "rövid",
                                    "(No column name)": "120"
                                }
                            ]
                        },
                        "text/html": "<table><tr><th>Cím hosszúság</th><th>(No column name)</th></tr><tr><td>átlagos</td><td>930</td></tr><tr><td>Hosszú</td><td>2128</td></tr><tr><td>rövid</td><td>120</td></tr></table>"
                    },
                    "metadata": {}
                }
            ],
            "execution_count": 38
        },
        {
            "cell_type": "markdown",
            "source": [
                "7. <span style=\"color: rgb(36, 41, 47); font-family: -apple-system, BlinkMacSystemFont, &quot;Segoe UI&quot;, Helvetica, Arial, sans-serif, &quot;Apple Color Emoji&quot;, &quot;Segoe UI Emoji&quot;; font-size: 16px;\">Készítsünk listát arról, hogy melyik teremben hány óra van!</span>\n",
                "\n",
                "1. Jelenítsük meg a termek azonosítóit és a teremben tartott órák számát!\n",
                "2. Az oszlopokat nevezzük el értelemszerűen!\n",
                "3. Szűrjünk azokra a termekre, ahol az órák száma legalább 3!"
            ],
            "metadata": {
                "azdata_cell_guid": "3aeb6bf5-b111-40d5-92b2-9712ce335696"
            },
            "attachments": {}
        },
        {
            "cell_type": "code",
            "source": [
                "select Terem,\r\n",
                "    count(*) as 'órák száma'\r\n",
                "from Orak\r\n",
                "GROUP BY Terem\r\n",
                "having count(*)>=3\r\n",
                "\r\n",
                ""
            ],
            "metadata": {
                "azdata_cell_guid": "3e89b651-f56f-4102-af52-30eb2bbe360d",
                "language": "sql"
            },
            "outputs": [
                {
                    "output_type": "display_data",
                    "data": {
                        "text/html": "(11 rows affected)"
                    },
                    "metadata": {}
                },
                {
                    "output_type": "display_data",
                    "data": {
                        "text/html": "Total execution time: 00:00:00.013"
                    },
                    "metadata": {}
                },
                {
                    "output_type": "execute_result",
                    "execution_count": 45,
                    "data": {
                        "application/vnd.dataresource+json": {
                            "schema": {
                                "fields": [
                                    {
                                        "name": "Terem"
                                    },
                                    {
                                        "name": "órák száma"
                                    }
                                ]
                            },
                            "data": [
                                {
                                    "Terem": "2",
                                    "órák száma": "5"
                                },
                                {
                                    "Terem": "3",
                                    "órák száma": "11"
                                },
                                {
                                    "Terem": "4",
                                    "órák száma": "8"
                                },
                                {
                                    "Terem": "5",
                                    "órák száma": "5"
                                },
                                {
                                    "Terem": "6",
                                    "órák száma": "6"
                                },
                                {
                                    "Terem": "7",
                                    "órák száma": "6"
                                },
                                {
                                    "Terem": "8",
                                    "órák száma": "6"
                                },
                                {
                                    "Terem": "10",
                                    "órák száma": "3"
                                },
                                {
                                    "Terem": "12",
                                    "órák száma": "3"
                                },
                                {
                                    "Terem": "13",
                                    "órák száma": "5"
                                },
                                {
                                    "Terem": "14",
                                    "órák száma": "3"
                                }
                            ]
                        },
                        "text/html": "<table><tr><th>Terem</th><th>órák száma</th></tr><tr><td>2</td><td>5</td></tr><tr><td>3</td><td>11</td></tr><tr><td>4</td><td>8</td></tr><tr><td>5</td><td>5</td></tr><tr><td>6</td><td>6</td></tr><tr><td>7</td><td>6</td></tr><tr><td>8</td><td>6</td></tr><tr><td>10</td><td>3</td></tr><tr><td>12</td><td>3</td></tr><tr><td>13</td><td>5</td></tr><tr><td>14</td><td>3</td></tr></table>"
                    },
                    "metadata": {}
                }
            ],
            "execution_count": 45
        },
        {
            "cell_type": "markdown",
            "source": [
                "8. <span style=\"color: rgb(36, 41, 47); font-family: -apple-system, BlinkMacSystemFont, &quot;Segoe UI&quot;, Helvetica, Arial, sans-serif, &quot;Apple Color Emoji&quot;, &quot;Segoe UI Emoji&quot;; font-size: 16px;\">Készítsünk lekérdezést, amely megadja, hogy minimálian és maximálisan hány kreditet ér egy tantárgy!</span>\n",
                "\n",
                "1. Az oszlopokat nevezzük el értelemszerűen!\n",
                "2. Ne vegyük figyelembe azokat a tantárgyakat, amelyek nevében az „alapjai” szó szerepel, vagy a tantárgy neve 10 karakternél rövidebb!"
            ],
            "metadata": {
                "azdata_cell_guid": "26a504dc-ff6a-439f-94c0-4580eca3eacf"
            },
            "attachments": {}
        },
        {
            "cell_type": "code",
            "source": [
                "select min(Kredit) as 'minkredit',\r\n",
                "    max(Kredit) as 'maxkredit'\r\n",
                "from Tantárgyak\r\n",
                "where Tantárgynév not like '%alapjai%' or len(tantárgynév)<10\r\n",
                ""
            ],
            "metadata": {
                "azdata_cell_guid": "1cbb8aeb-78b5-4350-aa45-e3202fdab85b",
                "language": "sql"
            },
            "outputs": [
                {
                    "output_type": "display_data",
                    "data": {
                        "text/html": "(1 row affected)"
                    },
                    "metadata": {}
                },
                {
                    "output_type": "display_data",
                    "data": {
                        "text/html": "Total execution time: 00:00:00.037"
                    },
                    "metadata": {}
                },
                {
                    "output_type": "execute_result",
                    "execution_count": 48,
                    "data": {
                        "application/vnd.dataresource+json": {
                            "schema": {
                                "fields": [
                                    {
                                        "name": "minkredit"
                                    },
                                    {
                                        "name": "maxkredit"
                                    }
                                ]
                            },
                            "data": [
                                {
                                    "minkredit": "1",
                                    "maxkredit": "6"
                                }
                            ]
                        },
                        "text/html": "<table><tr><th>minkredit</th><th>maxkredit</th></tr><tr><td>1</td><td>6</td></tr></table>"
                    },
                    "metadata": {}
                }
            ],
            "execution_count": 48
        },
        {
            "cell_type": "markdown",
            "source": [
                "9. <span style=\"color: rgb(36, 41, 47); font-family: -apple-system, BlinkMacSystemFont, &quot;Segoe UI&quot;, Helvetica, Arial, sans-serif, &quot;Apple Color Emoji&quot;, &quot;Segoe UI Emoji&quot;; font-size: 16px;\">A tapasztalat alapján a tanársegédeknek 8, az óraadóknak 10 órájuk van egy héten. A többiek annyi órát tartanak, amennyi az elvárt óraszámuk. Készítsünk lekérdezést, amely minden beosztáshoz megjeleníti, hogy hetente hány túlóra tartozik hozzá!</span>\n",
                "\n",
                "1. A lekérdezés csak a beosztások nevét és a heti túlórák számát jelenítse meg!"
            ],
            "metadata": {
                "azdata_cell_guid": "435e2860-2dd5-4877-90f4-34a43baeb53c"
            },
            "attachments": {}
        },
        {
            "cell_type": "code",
            "source": [
                "select beosztasnev,\r\n",
                "        CASE\r\n",
                "                WHEN beosztasnev='Tanársegéd' then 8\r\n",
                "                when beosztasnev='Óraadó' then 10\r\n",
                "                else elvart\r\n",
                "        END - elvart as 'Túlóra'\r\n",
                "from Beosztasok\r\n",
                ""
            ],
            "metadata": {
                "azdata_cell_guid": "ce846351-ddbe-4d8e-b8fb-2a92c73ac80b",
                "language": "sql"
            },
            "outputs": [
                {
                    "output_type": "display_data",
                    "data": {
                        "text/html": "(7 rows affected)"
                    },
                    "metadata": {}
                },
                {
                    "output_type": "display_data",
                    "data": {
                        "text/html": "Total execution time: 00:00:00.013"
                    },
                    "metadata": {}
                },
                {
                    "output_type": "execute_result",
                    "execution_count": 50,
                    "data": {
                        "application/vnd.dataresource+json": {
                            "schema": {
                                "fields": [
                                    {
                                        "name": "beosztasnev"
                                    },
                                    {
                                        "name": "Túlóra"
                                    }
                                ]
                            },
                            "data": [
                                {
                                    "beosztasnev": "Óraadó",
                                    "Túlóra": "4"
                                },
                                {
                                    "beosztasnev": "Tanársegéd",
                                    "Túlóra": "2"
                                },
                                {
                                    "beosztasnev": "Adjunktus",
                                    "Túlóra": "0"
                                },
                                {
                                    "beosztasnev": "Docens",
                                    "Túlóra": "0"
                                },
                                {
                                    "beosztasnev": "Professzor",
                                    "Túlóra": "0"
                                },
                                {
                                    "beosztasnev": "Egyetemi tanár",
                                    "Túlóra": "0"
                                },
                                {
                                    "beosztasnev": "Tudományos munkatárs",
                                    "Túlóra": "0"
                                }
                            ]
                        },
                        "text/html": "<table><tr><th>beosztasnev</th><th>Túlóra</th></tr><tr><td>Óraadó</td><td>4</td></tr><tr><td>Tanársegéd</td><td>2</td></tr><tr><td>Adjunktus</td><td>0</td></tr><tr><td>Docens</td><td>0</td></tr><tr><td>Professzor</td><td>0</td></tr><tr><td>Egyetemi tanár</td><td>0</td></tr><tr><td>Tudományos munkatárs</td><td>0</td></tr></table>"
                    },
                    "metadata": {}
                }
            ],
            "execution_count": 50
        },
        {
            "cell_type": "markdown",
            "source": [
                "10. <span style=\"font-weight: 600; color: rgb(36, 41, 47); font-family: -apple-system, BlinkMacSystemFont, &quot;Segoe UI&quot;, Helvetica, Arial, sans-serif, &quot;Apple Color Emoji&quot;, &quot;Segoe UI Emoji&quot;; font-size: 16px;\">Melyek azok az oktatók, akiknek nincs órájuk?</span>\n",
                "\n",
                "1. Csak az oktatók neve jelenjen meg!\n",
                "2. ÖTLET: használjunk LEFT JOIN-t, és szűrjünk azokra a rekordokra, ahol NULL érték van a JOIN utáni feltétel jobb oldalán!"
            ],
            "metadata": {
                "azdata_cell_guid": "217c5772-afe2-4a7c-b913-e3a3e09d6411"
            },
            "attachments": {}
        },
        {
            "cell_type": "code",
            "source": [
                "select nev\r\n",
                "from Oktatok okt LEFT JOIN orak o ON okt.oktato_id=o.tanar\r\n",
                "where o.tanar is NULL"
            ],
            "metadata": {
                "azdata_cell_guid": "a9cc0926-3dbd-4ed8-8179-1c39d64a0762",
                "language": "sql"
            },
            "outputs": [
                {
                    "output_type": "display_data",
                    "data": {
                        "text/html": "(5 rows affected)"
                    },
                    "metadata": {}
                },
                {
                    "output_type": "display_data",
                    "data": {
                        "text/html": "Total execution time: 00:00:00.013"
                    },
                    "metadata": {}
                },
                {
                    "output_type": "execute_result",
                    "execution_count": 51,
                    "data": {
                        "application/vnd.dataresource+json": {
                            "schema": {
                                "fields": [
                                    {
                                        "name": "nev"
                                    }
                                ]
                            },
                            "data": [
                                {
                                    "nev": "Józsa Gábor"
                                },
                                {
                                    "nev": "Rácz András"
                                },
                                {
                                    "nev": "Kiss István"
                                },
                                {
                                    "nev": "Mészáros Kriszta"
                                },
                                {
                                    "nev": "Kovacs Istvan"
                                }
                            ]
                        },
                        "text/html": "<table><tr><th>nev</th></tr><tr><td>Józsa Gábor</td></tr><tr><td>Rácz András</td></tr><tr><td>Kiss István</td></tr><tr><td>Mészáros Kriszta</td></tr><tr><td>Kovacs Istvan</td></tr></table>"
                    },
                    "metadata": {}
                }
            ],
            "execution_count": 51
        },
        {
            "cell_type": "markdown",
            "source": [
                "11. <span style=\"font-weight: 600; color: rgb(36, 41, 47); font-family: -apple-system, BlinkMacSystemFont, &quot;Segoe UI&quot;, Helvetica, Arial, sans-serif, &quot;Apple Color Emoji&quot;, &quot;Segoe UI Emoji&quot;; font-size: 16px;\">Készítsünk lekérdezést, amely részletesen megjeleníti az egyes órák fontosabb adatait, azaz</span>\n",
                "\n",
                "1. Az órák azonosítóit, a tanár nevét, a tantárgy nevét, a terem nevét és a kezdési időpontot!\n",
                "2. Az oszlopokat nevezzük el értelemszerűen!"
            ],
            "metadata": {
                "azdata_cell_guid": "d2340f5f-1614-473c-b937-85740d67f7c1"
            },
            "attachments": {}
        },
        {
            "cell_type": "code",
            "source": [
                "select o.ora_id,\r\n",
                "    okt.nev,\r\n",
                "    t.Tantárgynév,\r\n",
                "    term.Terem,\r\n",
                "    s.Sav\r\n",
                "from Orak o JOIN Oktatok okt ON o.tanar=okt.oktato_id\r\n",
                "            JOIN Tantárgyak t ON o.targy=t.Tkód\r\n",
                "            JOIN Termek term ON o.terem=term.Tkód\r\n",
                "            JOIN Savok s ON o.Sav=s.Sav_id\r\n",
                ""
            ],
            "metadata": {
                "azdata_cell_guid": "e99c2c53-898f-4787-b0e6-182d106dc16f",
                "language": "sql"
            },
            "outputs": [
                {
                    "output_type": "display_data",
                    "data": {
                        "text/html": "(67 rows affected)"
                    },
                    "metadata": {}
                },
                {
                    "output_type": "display_data",
                    "data": {
                        "text/html": "Total execution time: 00:00:00.079"
                    },
                    "metadata": {}
                },
                {
                    "output_type": "execute_result",
                    "execution_count": 56,
                    "data": {
                        "application/vnd.dataresource+json": {
                            "schema": {
                                "fields": [
                                    {
                                        "name": "ora_id"
                                    },
                                    {
                                        "name": "nev"
                                    },
                                    {
                                        "name": "Tantárgynév"
                                    },
                                    {
                                        "name": "Terem"
                                    },
                                    {
                                        "name": "Sav"
                                    }
                                ]
                            },
                            "data": [
                                {
                                    "ora_id": "159",
                                    "nev": "Ujfalussi István",
                                    "Tantárgynév": "Az ürgeöntés alapjai",
                                    "Terem": "117",
                                    "Sav": "1"
                                },
                                {
                                    "ora_id": "160",
                                    "nev": "Pelikán József",
                                    "Tantárgynév": "Az ürgeöntés alapjai",
                                    "Terem": "118",
                                    "Sav": "5"
                                },
                                {
                                    "ora_id": "161",
                                    "nev": "Pelikán József",
                                    "Tantárgynév": "Az ürgeöntés alapjai",
                                    "Terem": "118",
                                    "Sav": "2"
                                },
                                {
                                    "ora_id": "162",
                                    "nev": "Kovács András",
                                    "Tantárgynév": "Az ürgeöntés alapjai",
                                    "Terem": "119",
                                    "Sav": "4"
                                },
                                {
                                    "ora_id": "163",
                                    "nev": "Szerb László",
                                    "Tantárgynév": "Az ürgeöntés alapjai",
                                    "Terem": "120",
                                    "Sav": "2"
                                },
                                {
                                    "ora_id": "164",
                                    "nev": "Kiss János",
                                    "Tantárgynév": "Az ürgeöntés alapjai",
                                    "Terem": "119",
                                    "Sav": "3"
                                },
                                {
                                    "ora_id": "165",
                                    "nev": "Szerb László",
                                    "Tantárgynév": "Az ürgeöntés alapjai",
                                    "Terem": "119",
                                    "Sav": "3"
                                },
                                {
                                    "ora_id": "166",
                                    "nev": "Szerb László",
                                    "Tantárgynév": "Az ürgeöntés alapjai",
                                    "Terem": "119",
                                    "Sav": "4"
                                },
                                {
                                    "ora_id": "167",
                                    "nev": "Szentágotai Istvás",
                                    "Tantárgynév": "Az ürgeöntés alapjai",
                                    "Terem": "120",
                                    "Sav": "4"
                                },
                                {
                                    "ora_id": "168",
                                    "nev": "Ujfalussi István",
                                    "Tantárgynév": "Az ürgeöntés alapjai",
                                    "Terem": "217",
                                    "Sav": "3"
                                },
                                {
                                    "ora_id": "169",
                                    "nev": "Kovács András",
                                    "Tantárgynév": "Az ürgeöntés alapjai",
                                    "Terem": "218",
                                    "Sav": "2"
                                },
                                {
                                    "ora_id": "170",
                                    "nev": "Ludas Mátyás",
                                    "Tantárgynév": "Az ürgeöntés alapjai",
                                    "Terem": "120",
                                    "Sav": "2"
                                },
                                {
                                    "ora_id": "171",
                                    "nev": "Szénási ászló",
                                    "Tantárgynév": "Az ürgeöntés alapjai",
                                    "Terem": "220",
                                    "Sav": "2"
                                },
                                {
                                    "ora_id": "172",
                                    "nev": "Kiss János",
                                    "Tantárgynév": "Az ürgeöntés alapjai",
                                    "Terem": "119",
                                    "Sav": "2"
                                },
                                {
                                    "ora_id": "173",
                                    "nev": "Kovács András",
                                    "Tantárgynév": "Az ürgeöntés alapjai",
                                    "Terem": "119",
                                    "Sav": "3"
                                },
                                {
                                    "ora_id": "174",
                                    "nev": "Ludas Mátyás",
                                    "Tantárgynév": "Az ürgeöntés alapjai",
                                    "Terem": "219",
                                    "Sav": "3"
                                },
                                {
                                    "ora_id": "175",
                                    "nev": "Szénási ászló",
                                    "Tantárgynév": "Az ürgeöntés alapjai",
                                    "Terem": "120",
                                    "Sav": "4"
                                },
                                {
                                    "ora_id": "176",
                                    "nev": "Kovács András",
                                    "Tantárgynév": "Az ürgeöntés alapjai",
                                    "Terem": "118",
                                    "Sav": "4"
                                },
                                {
                                    "ora_id": "177",
                                    "nev": "Szentágotai Istvás",
                                    "Tantárgynév": "Az ürgeöntés alapjai",
                                    "Terem": "119",
                                    "Sav": "5"
                                },
                                {
                                    "ora_id": "178",
                                    "nev": "Vitéz János",
                                    "Tantárgynév": "Az ürgeöntés alapjai",
                                    "Terem": "220",
                                    "Sav": "5"
                                },
                                {
                                    "ora_id": "179",
                                    "nev": "Szentágotai Istvás",
                                    "Tantárgynév": "Az ürgeöntés alapjai",
                                    "Terem": "120",
                                    "Sav": "6"
                                },
                                {
                                    "ora_id": "180",
                                    "nev": "Vitéz János",
                                    "Tantárgynév": "Az ürgeöntés alapjai",
                                    "Terem": "119",
                                    "Sav": "6"
                                },
                                {
                                    "ora_id": "181",
                                    "nev": "Szentágotai Istvás",
                                    "Tantárgynév": "Az ürgeöntés alapjai",
                                    "Terem": "118",
                                    "Sav": "1"
                                },
                                {
                                    "ora_id": "182",
                                    "nev": "Vitéz János",
                                    "Tantárgynév": "Az ürgeöntés alapjai",
                                    "Terem": "219",
                                    "Sav": "1"
                                },
                                {
                                    "ora_id": "183",
                                    "nev": "Szentágotai Istvás",
                                    "Tantárgynév": "Az ürgeöntés alapjai",
                                    "Terem": "220",
                                    "Sav": "2"
                                },
                                {
                                    "ora_id": "184",
                                    "nev": "Vitéz János",
                                    "Tantárgynév": "Az ürgeöntés alapjai",
                                    "Terem": "218",
                                    "Sav": "2"
                                },
                                {
                                    "ora_id": "185",
                                    "nev": "Szentágotai Istvás",
                                    "Tantárgynév": "Az ürgeöntés alapjai",
                                    "Terem": "120",
                                    "Sav": "3"
                                },
                                {
                                    "ora_id": "186",
                                    "nev": "Nógrádi Kata",
                                    "Tantárgynév": "ü-business",
                                    "Terem": "219",
                                    "Sav": "4"
                                },
                                {
                                    "ora_id": "187",
                                    "nev": "Balkán András",
                                    "Tantárgynév": "Bevezetés az ürgeöntésbe",
                                    "Terem": "217",
                                    "Sav": "2"
                                },
                                {
                                    "ora_id": "188",
                                    "nev": "Farkasos Piroska",
                                    "Tantárgynév": "Bevezetés az ürgeöntésbe",
                                    "Terem": "VP 203.",
                                    "Sav": "6"
                                },
                                {
                                    "ora_id": "189",
                                    "nev": "Farkasos Piroska",
                                    "Tantárgynév": "Bevezetés az ürgeöntésbe",
                                    "Terem": "VP 203.",
                                    "Sav": "2"
                                },
                                {
                                    "ora_id": "190",
                                    "nev": "Farkasos Piroska",
                                    "Tantárgynév": "Bevezetés az ürgeöntésbe",
                                    "Terem": "E.2.238",
                                    "Sav": "3"
                                },
                                {
                                    "ora_id": "191",
                                    "nev": "Varga Kata",
                                    "Tantárgynév": "Az ürgeöntés hydrológiai alapjai II.",
                                    "Terem": "220",
                                    "Sav": "5"
                                },
                                {
                                    "ora_id": "192",
                                    "nev": "Varga Kata",
                                    "Tantárgynév": "Az ürgeöntés hydrológiai alapjai II.",
                                    "Terem": "119",
                                    "Sav": "6"
                                },
                                {
                                    "ora_id": "193",
                                    "nev": "Farkasos Piroska",
                                    "Tantárgynév": "Az ürgeöntés hydrológiai alapjai II.",
                                    "Terem": "217",
                                    "Sav": "5"
                                },
                                {
                                    "ora_id": "194",
                                    "nev": "Farkasos Piroska",
                                    "Tantárgynév": "Az ürgeöntés hydrológiai alapjai II.",
                                    "Terem": "E.fsz.I",
                                    "Sav": "6"
                                },
                                {
                                    "ora_id": "195",
                                    "nev": "Balkán András",
                                    "Tantárgynév": "Az ürgeöntés hydrológiai alapjai II.",
                                    "Terem": "116",
                                    "Sav": "5"
                                },
                                {
                                    "ora_id": "196",
                                    "nev": "Balkán András",
                                    "Tantárgynév": "Az ürgeöntés hydrológiai alapjai II.",
                                    "Terem": "218",
                                    "Sav": "6"
                                },
                                {
                                    "ora_id": "197",
                                    "nev": "Farkasos Piroska",
                                    "Tantárgynév": "Az ürgeöntés hydrológiai alapjai II.",
                                    "Terem": "116",
                                    "Sav": "1"
                                },
                                {
                                    "ora_id": "198",
                                    "nev": "Farkasos Piroska",
                                    "Tantárgynév": "Az ürgeöntés hydrológiai alapjai II.",
                                    "Terem": "119",
                                    "Sav": "2"
                                },
                                {
                                    "ora_id": "199",
                                    "nev": "Szabó Andrera",
                                    "Tantárgynév": "Az ürgeöntés hydrológiai alapjai II.",
                                    "Terem": "218",
                                    "Sav": "1"
                                },
                                {
                                    "ora_id": "200",
                                    "nev": "Szabó Andrera",
                                    "Tantárgynév": "Az ürgeöntés hydrológiai alapjai II.",
                                    "Terem": "220",
                                    "Sav": "2"
                                },
                                {
                                    "ora_id": "201",
                                    "nev": "Juhász András",
                                    "Tantárgynév": "Öntési gyakorlat",
                                    "Terem": "E.2.238",
                                    "Sav": "4"
                                },
                                {
                                    "ora_id": "202",
                                    "nev": "Juhász András",
                                    "Tantárgynév": "Öntési gyakorlat",
                                    "Terem": "E.3.332",
                                    "Sav": "5"
                                },
                                {
                                    "ora_id": "203",
                                    "nev": "Aranyi Mária",
                                    "Tantárgynév": "Az ürgeöntés hydrológiai alapjai I.",
                                    "Terem": "S.Asor.S3",
                                    "Sav": "4"
                                },
                                {
                                    "ora_id": "204",
                                    "nev": "Róbert Gida",
                                    "Tantárgynév": "Az ürgeöntés hydrológiai alapjai I.",
                                    "Terem": "120",
                                    "Sav": "5"
                                },
                                {
                                    "ora_id": "205",
                                    "nev": "Ujfalussi István",
                                    "Tantárgynév": "Az öntés elmélete",
                                    "Terem": "220",
                                    "Sav": "4"
                                },
                                {
                                    "ora_id": "206",
                                    "nev": "Varga Kata",
                                    "Tantárgynév": "Az öntés elmélete",
                                    "Terem": "S.Asor.S3",
                                    "Sav": "1"
                                },
                                {
                                    "ora_id": "207",
                                    "nev": "Varga Kata",
                                    "Tantárgynév": "Az öntés elmélete",
                                    "Terem": "219",
                                    "Sav": "4"
                                },
                                {
                                    "ora_id": "208",
                                    "nev": "Jogrerős Pál",
                                    "Tantárgynév": "Ürgevitel",
                                    "Terem": "VP 203.",
                                    "Sav": "1"
                                },
                                {
                                    "ora_id": "209",
                                    "nev": "Jogrerős Pál",
                                    "Tantárgynév": "Ürgevitel",
                                    "Terem": "VP 203.",
                                    "Sav": "2"
                                },
                                {
                                    "ora_id": "210",
                                    "nev": "Szép llonka",
                                    "Tantárgynév": "Ürgeöntés az EU-ban",
                                    "Terem": "E.2.238",
                                    "Sav": "6"
                                },
                                {
                                    "ora_id": "211",
                                    "nev": "Szép llonka",
                                    "Tantárgynév": "Ürgeöntés az EU-ban",
                                    "Terem": "217",
                                    "Sav": "7"
                                },
                                {
                                    "ora_id": "212",
                                    "nev": "Kiss János",
                                    "Tantárgynév": "Ürgeöntés az EU-ban",
                                    "Terem": "120",
                                    "Sav": "8"
                                },
                                {
                                    "ora_id": "213",
                                    "nev": "Kiss János",
                                    "Tantárgynév": "Ürgeöntés az EU-ban",
                                    "Terem": "218",
                                    "Sav": "8"
                                },
                                {
                                    "ora_id": "214",
                                    "nev": "Pelikán József",
                                    "Tantárgynév": "Az ürge anatómiája",
                                    "Terem": "219",
                                    "Sav": "3"
                                },
                                {
                                    "ora_id": "215",
                                    "nev": "Pelikán József",
                                    "Tantárgynév": "Az ürge anatómiája",
                                    "Terem": "E.fsz.IV.",
                                    "Sav": "4"
                                },
                                {
                                    "ora_id": "216",
                                    "nev": "Szép llonka",
                                    "Tantárgynév": "Az ürge anatómiája",
                                    "Terem": "218",
                                    "Sav": "3"
                                },
                                {
                                    "ora_id": "217",
                                    "nev": "Szép llonka",
                                    "Tantárgynév": "Az ürge anatómiája",
                                    "Terem": "217",
                                    "Sav": "4"
                                },
                                {
                                    "ora_id": "218",
                                    "nev": "Pelikán József",
                                    "Tantárgynév": "Az ürge anatómiája",
                                    "Terem": "118",
                                    "Sav": "6"
                                },
                                {
                                    "ora_id": "219",
                                    "nev": "Pelikán József",
                                    "Tantárgynév": "Az ürge anatómiája",
                                    "Terem": "219",
                                    "Sav": "7"
                                },
                                {
                                    "ora_id": "220",
                                    "nev": "Kovács László",
                                    "Tantárgynév": "Fejezetek az ürgék jogaiból",
                                    "Terem": "119",
                                    "Sav": "3"
                                },
                                {
                                    "ora_id": "221",
                                    "nev": "Kovács László",
                                    "Tantárgynév": "Fejezetek az ürgék jogaiból",
                                    "Terem": "VP 203.",
                                    "Sav": "3"
                                },
                                {
                                    "ora_id": "222",
                                    "nev": "Kovács László",
                                    "Tantárgynév": "Fejezetek az ürgék jogaiból",
                                    "Terem": "116",
                                    "Sav": "5"
                                },
                                {
                                    "ora_id": "223",
                                    "nev": "Kovács László",
                                    "Tantárgynév": "Fejezetek az ürgék jogaiból",
                                    "Terem": "S.Asor.S3",
                                    "Sav": "1"
                                },
                                {
                                    "ora_id": "226",
                                    "nev": "Szentágotai Istvás",
                                    "Tantárgynév": "ürgefőzés",
                                    "Terem": "117",
                                    "Sav": "3"
                                },
                                {
                                    "ora_id": "227",
                                    "nev": "Szentágotai Istvás",
                                    "Tantárgynév": "Az ürgeöntés hydrológiai alapjai I.",
                                    "Terem": "116",
                                    "Sav": "5"
                                }
                            ]
                        },
                        "text/html": "<table><tr><th>ora_id</th><th>nev</th><th>Tantárgynév</th><th>Terem</th><th>Sav</th></tr><tr><td>159</td><td>Ujfalussi István</td><td>Az ürgeöntés alapjai</td><td>117</td><td>1</td></tr><tr><td>160</td><td>Pelikán József</td><td>Az ürgeöntés alapjai</td><td>118</td><td>5</td></tr><tr><td>161</td><td>Pelikán József</td><td>Az ürgeöntés alapjai</td><td>118</td><td>2</td></tr><tr><td>162</td><td>Kovács András</td><td>Az ürgeöntés alapjai</td><td>119</td><td>4</td></tr><tr><td>163</td><td>Szerb László</td><td>Az ürgeöntés alapjai</td><td>120</td><td>2</td></tr><tr><td>164</td><td>Kiss János</td><td>Az ürgeöntés alapjai</td><td>119</td><td>3</td></tr><tr><td>165</td><td>Szerb László</td><td>Az ürgeöntés alapjai</td><td>119</td><td>3</td></tr><tr><td>166</td><td>Szerb László</td><td>Az ürgeöntés alapjai</td><td>119</td><td>4</td></tr><tr><td>167</td><td>Szentágotai Istvás</td><td>Az ürgeöntés alapjai</td><td>120</td><td>4</td></tr><tr><td>168</td><td>Ujfalussi István</td><td>Az ürgeöntés alapjai</td><td>217</td><td>3</td></tr><tr><td>169</td><td>Kovács András</td><td>Az ürgeöntés alapjai</td><td>218</td><td>2</td></tr><tr><td>170</td><td>Ludas Mátyás</td><td>Az ürgeöntés alapjai</td><td>120</td><td>2</td></tr><tr><td>171</td><td>Szénási ászló</td><td>Az ürgeöntés alapjai</td><td>220</td><td>2</td></tr><tr><td>172</td><td>Kiss János</td><td>Az ürgeöntés alapjai</td><td>119</td><td>2</td></tr><tr><td>173</td><td>Kovács András</td><td>Az ürgeöntés alapjai</td><td>119</td><td>3</td></tr><tr><td>174</td><td>Ludas Mátyás</td><td>Az ürgeöntés alapjai</td><td>219</td><td>3</td></tr><tr><td>175</td><td>Szénási ászló</td><td>Az ürgeöntés alapjai</td><td>120</td><td>4</td></tr><tr><td>176</td><td>Kovács András</td><td>Az ürgeöntés alapjai</td><td>118</td><td>4</td></tr><tr><td>177</td><td>Szentágotai Istvás</td><td>Az ürgeöntés alapjai</td><td>119</td><td>5</td></tr><tr><td>178</td><td>Vitéz János</td><td>Az ürgeöntés alapjai</td><td>220</td><td>5</td></tr><tr><td>179</td><td>Szentágotai Istvás</td><td>Az ürgeöntés alapjai</td><td>120</td><td>6</td></tr><tr><td>180</td><td>Vitéz János</td><td>Az ürgeöntés alapjai</td><td>119</td><td>6</td></tr><tr><td>181</td><td>Szentágotai Istvás</td><td>Az ürgeöntés alapjai</td><td>118</td><td>1</td></tr><tr><td>182</td><td>Vitéz János</td><td>Az ürgeöntés alapjai</td><td>219</td><td>1</td></tr><tr><td>183</td><td>Szentágotai Istvás</td><td>Az ürgeöntés alapjai</td><td>220</td><td>2</td></tr><tr><td>184</td><td>Vitéz János</td><td>Az ürgeöntés alapjai</td><td>218</td><td>2</td></tr><tr><td>185</td><td>Szentágotai Istvás</td><td>Az ürgeöntés alapjai</td><td>120</td><td>3</td></tr><tr><td>186</td><td>Nógrádi Kata</td><td>ü-business</td><td>219</td><td>4</td></tr><tr><td>187</td><td>Balkán András</td><td>Bevezetés az ürgeöntésbe</td><td>217</td><td>2</td></tr><tr><td>188</td><td>Farkasos Piroska</td><td>Bevezetés az ürgeöntésbe</td><td>VP 203.</td><td>6</td></tr><tr><td>189</td><td>Farkasos Piroska</td><td>Bevezetés az ürgeöntésbe</td><td>VP 203.</td><td>2</td></tr><tr><td>190</td><td>Farkasos Piroska</td><td>Bevezetés az ürgeöntésbe</td><td>E.2.238</td><td>3</td></tr><tr><td>191</td><td>Varga Kata</td><td>Az ürgeöntés hydrológiai alapjai II.</td><td>220</td><td>5</td></tr><tr><td>192</td><td>Varga Kata</td><td>Az ürgeöntés hydrológiai alapjai II.</td><td>119</td><td>6</td></tr><tr><td>193</td><td>Farkasos Piroska</td><td>Az ürgeöntés hydrológiai alapjai II.</td><td>217</td><td>5</td></tr><tr><td>194</td><td>Farkasos Piroska</td><td>Az ürgeöntés hydrológiai alapjai II.</td><td>E.fsz.I</td><td>6</td></tr><tr><td>195</td><td>Balkán András</td><td>Az ürgeöntés hydrológiai alapjai II.</td><td>116</td><td>5</td></tr><tr><td>196</td><td>Balkán András</td><td>Az ürgeöntés hydrológiai alapjai II.</td><td>218</td><td>6</td></tr><tr><td>197</td><td>Farkasos Piroska</td><td>Az ürgeöntés hydrológiai alapjai II.</td><td>116</td><td>1</td></tr><tr><td>198</td><td>Farkasos Piroska</td><td>Az ürgeöntés hydrológiai alapjai II.</td><td>119</td><td>2</td></tr><tr><td>199</td><td>Szabó Andrera</td><td>Az ürgeöntés hydrológiai alapjai II.</td><td>218</td><td>1</td></tr><tr><td>200</td><td>Szabó Andrera</td><td>Az ürgeöntés hydrológiai alapjai II.</td><td>220</td><td>2</td></tr><tr><td>201</td><td>Juhász András</td><td>Öntési gyakorlat</td><td>E.2.238</td><td>4</td></tr><tr><td>202</td><td>Juhász András</td><td>Öntési gyakorlat</td><td>E.3.332</td><td>5</td></tr><tr><td>203</td><td>Aranyi Mária</td><td>Az ürgeöntés hydrológiai alapjai I.</td><td>S.Asor.S3</td><td>4</td></tr><tr><td>204</td><td>Róbert Gida</td><td>Az ürgeöntés hydrológiai alapjai I.</td><td>120</td><td>5</td></tr><tr><td>205</td><td>Ujfalussi István</td><td>Az öntés elmélete</td><td>220</td><td>4</td></tr><tr><td>206</td><td>Varga Kata</td><td>Az öntés elmélete</td><td>S.Asor.S3</td><td>1</td></tr><tr><td>207</td><td>Varga Kata</td><td>Az öntés elmélete</td><td>219</td><td>4</td></tr><tr><td>208</td><td>Jogrerős Pál</td><td>Ürgevitel</td><td>VP 203.</td><td>1</td></tr><tr><td>209</td><td>Jogrerős Pál</td><td>Ürgevitel</td><td>VP 203.</td><td>2</td></tr><tr><td>210</td><td>Szép llonka</td><td>Ürgeöntés az EU-ban</td><td>E.2.238</td><td>6</td></tr><tr><td>211</td><td>Szép llonka</td><td>Ürgeöntés az EU-ban</td><td>217</td><td>7</td></tr><tr><td>212</td><td>Kiss János</td><td>Ürgeöntés az EU-ban</td><td>120</td><td>8</td></tr><tr><td>213</td><td>Kiss János</td><td>Ürgeöntés az EU-ban</td><td>218</td><td>8</td></tr><tr><td>214</td><td>Pelikán József</td><td>Az ürge anatómiája</td><td>219</td><td>3</td></tr><tr><td>215</td><td>Pelikán József</td><td>Az ürge anatómiája</td><td>E.fsz.IV.</td><td>4</td></tr><tr><td>216</td><td>Szép llonka</td><td>Az ürge anatómiája</td><td>218</td><td>3</td></tr><tr><td>217</td><td>Szép llonka</td><td>Az ürge anatómiája</td><td>217</td><td>4</td></tr><tr><td>218</td><td>Pelikán József</td><td>Az ürge anatómiája</td><td>118</td><td>6</td></tr><tr><td>219</td><td>Pelikán József</td><td>Az ürge anatómiája</td><td>219</td><td>7</td></tr><tr><td>220</td><td>Kovács László</td><td>Fejezetek az ürgék jogaiból</td><td>119</td><td>3</td></tr><tr><td>221</td><td>Kovács László</td><td>Fejezetek az ürgék jogaiból</td><td>VP 203.</td><td>3</td></tr><tr><td>222</td><td>Kovács László</td><td>Fejezetek az ürgék jogaiból</td><td>116</td><td>5</td></tr><tr><td>223</td><td>Kovács László</td><td>Fejezetek az ürgék jogaiból</td><td>S.Asor.S3</td><td>1</td></tr><tr><td>226</td><td>Szentágotai Istvás</td><td>ürgefőzés</td><td>117</td><td>3</td></tr><tr><td>227</td><td>Szentágotai Istvás</td><td>Az ürgeöntés hydrológiai alapjai I.</td><td>116</td><td>5</td></tr></table>"
                    },
                    "metadata": {}
                }
            ],
            "execution_count": 56
        },
        {
            "cell_type": "markdown",
            "source": [
                "12. <span style=\"color: rgb(36, 41, 47); font-family: -apple-system, BlinkMacSystemFont, &quot;Segoe UI&quot;, Helvetica, Arial, sans-serif, &quot;Apple Color Emoji&quot;, &quot;Segoe UI Emoji&quot;; font-size: 16px;\">Készítsünk listát, amely tartalmazza az egyes órák azonosítóit, és az órán oktatott tantárgy felelősének nevét!</span>\n",
                "\n",
                "1. Rendezzük a listát a tantárgyfelelős neve szerint csökkenő sorrendbe!"
            ],
            "metadata": {
                "azdata_cell_guid": "a765e9d6-58b3-4171-872a-78f3118fd6e3"
            },
            "attachments": {}
        },
        {
            "cell_type": "code",
            "source": [
                "select o.ora_id,\r\n",
                "        okt.nev\r\n",
                "from orak o JOIN Tantárgyak tan ON o.targy=tan.Tkód\r\n",
                "            JOIN Oktatok okt ON okt.oktato_id=tan.Tantárgyfelelős\r\n",
                "order by 2 DESC"
            ],
            "metadata": {
                "azdata_cell_guid": "422e8127-b652-4d3a-bfd7-9b1637b5781e",
                "language": "sql"
            },
            "outputs": [
                {
                    "output_type": "display_data",
                    "data": {
                        "text/html": "(67 rows affected)"
                    },
                    "metadata": {}
                },
                {
                    "output_type": "display_data",
                    "data": {
                        "text/html": "Total execution time: 00:00:00.054"
                    },
                    "metadata": {}
                },
                {
                    "output_type": "execute_result",
                    "execution_count": 64,
                    "data": {
                        "application/vnd.dataresource+json": {
                            "schema": {
                                "fields": [
                                    {
                                        "name": "ora_id"
                                    },
                                    {
                                        "name": "nev"
                                    }
                                ]
                            },
                            "data": [
                                {
                                    "ora_id": "203",
                                    "nev": "Ujfalussi István"
                                },
                                {
                                    "ora_id": "204",
                                    "nev": "Ujfalussi István"
                                },
                                {
                                    "ora_id": "227",
                                    "nev": "Ujfalussi István"
                                },
                                {
                                    "ora_id": "210",
                                    "nev": "Pelikán József"
                                },
                                {
                                    "ora_id": "211",
                                    "nev": "Pelikán József"
                                },
                                {
                                    "ora_id": "212",
                                    "nev": "Pelikán József"
                                },
                                {
                                    "ora_id": "213",
                                    "nev": "Pelikán József"
                                },
                                {
                                    "ora_id": "214",
                                    "nev": "Pelikán József"
                                },
                                {
                                    "ora_id": "215",
                                    "nev": "Pelikán József"
                                },
                                {
                                    "ora_id": "216",
                                    "nev": "Pelikán József"
                                },
                                {
                                    "ora_id": "217",
                                    "nev": "Pelikán József"
                                },
                                {
                                    "ora_id": "218",
                                    "nev": "Pelikán József"
                                },
                                {
                                    "ora_id": "219",
                                    "nev": "Pelikán József"
                                },
                                {
                                    "ora_id": "201",
                                    "nev": "Pelikán József"
                                },
                                {
                                    "ora_id": "202",
                                    "nev": "Pelikán József"
                                },
                                {
                                    "ora_id": "205",
                                    "nev": "Kovács László"
                                },
                                {
                                    "ora_id": "206",
                                    "nev": "Kovács László"
                                },
                                {
                                    "ora_id": "207",
                                    "nev": "Kovács László"
                                },
                                {
                                    "ora_id": "226",
                                    "nev": "Kovács László"
                                },
                                {
                                    "ora_id": "186",
                                    "nev": "Kovács László"
                                },
                                {
                                    "ora_id": "220",
                                    "nev": "Kovács László"
                                },
                                {
                                    "ora_id": "221",
                                    "nev": "Kovács László"
                                },
                                {
                                    "ora_id": "222",
                                    "nev": "Kovács László"
                                },
                                {
                                    "ora_id": "223",
                                    "nev": "Kovács László"
                                },
                                {
                                    "ora_id": "208",
                                    "nev": "Jogrerős Pál"
                                },
                                {
                                    "ora_id": "209",
                                    "nev": "Jogrerős Pál"
                                },
                                {
                                    "ora_id": "191",
                                    "nev": "Balkán András"
                                },
                                {
                                    "ora_id": "192",
                                    "nev": "Balkán András"
                                },
                                {
                                    "ora_id": "193",
                                    "nev": "Balkán András"
                                },
                                {
                                    "ora_id": "194",
                                    "nev": "Balkán András"
                                },
                                {
                                    "ora_id": "195",
                                    "nev": "Balkán András"
                                },
                                {
                                    "ora_id": "196",
                                    "nev": "Balkán András"
                                },
                                {
                                    "ora_id": "197",
                                    "nev": "Balkán András"
                                },
                                {
                                    "ora_id": "198",
                                    "nev": "Balkán András"
                                },
                                {
                                    "ora_id": "199",
                                    "nev": "Balkán András"
                                },
                                {
                                    "ora_id": "200",
                                    "nev": "Balkán András"
                                },
                                {
                                    "ora_id": "159",
                                    "nev": "Balkán András"
                                },
                                {
                                    "ora_id": "160",
                                    "nev": "Balkán András"
                                },
                                {
                                    "ora_id": "161",
                                    "nev": "Balkán András"
                                },
                                {
                                    "ora_id": "162",
                                    "nev": "Balkán András"
                                },
                                {
                                    "ora_id": "163",
                                    "nev": "Balkán András"
                                },
                                {
                                    "ora_id": "164",
                                    "nev": "Balkán András"
                                },
                                {
                                    "ora_id": "165",
                                    "nev": "Balkán András"
                                },
                                {
                                    "ora_id": "166",
                                    "nev": "Balkán András"
                                },
                                {
                                    "ora_id": "167",
                                    "nev": "Balkán András"
                                },
                                {
                                    "ora_id": "168",
                                    "nev": "Balkán András"
                                },
                                {
                                    "ora_id": "169",
                                    "nev": "Balkán András"
                                },
                                {
                                    "ora_id": "170",
                                    "nev": "Balkán András"
                                },
                                {
                                    "ora_id": "171",
                                    "nev": "Balkán András"
                                },
                                {
                                    "ora_id": "172",
                                    "nev": "Balkán András"
                                },
                                {
                                    "ora_id": "173",
                                    "nev": "Balkán András"
                                },
                                {
                                    "ora_id": "174",
                                    "nev": "Balkán András"
                                },
                                {
                                    "ora_id": "175",
                                    "nev": "Balkán András"
                                },
                                {
                                    "ora_id": "176",
                                    "nev": "Balkán András"
                                },
                                {
                                    "ora_id": "177",
                                    "nev": "Balkán András"
                                },
                                {
                                    "ora_id": "178",
                                    "nev": "Balkán András"
                                },
                                {
                                    "ora_id": "179",
                                    "nev": "Balkán András"
                                },
                                {
                                    "ora_id": "180",
                                    "nev": "Balkán András"
                                },
                                {
                                    "ora_id": "181",
                                    "nev": "Balkán András"
                                },
                                {
                                    "ora_id": "182",
                                    "nev": "Balkán András"
                                },
                                {
                                    "ora_id": "183",
                                    "nev": "Balkán András"
                                },
                                {
                                    "ora_id": "184",
                                    "nev": "Balkán András"
                                },
                                {
                                    "ora_id": "185",
                                    "nev": "Balkán András"
                                },
                                {
                                    "ora_id": "187",
                                    "nev": "Balkán András"
                                },
                                {
                                    "ora_id": "188",
                                    "nev": "Balkán András"
                                },
                                {
                                    "ora_id": "189",
                                    "nev": "Balkán András"
                                },
                                {
                                    "ora_id": "190",
                                    "nev": "Balkán András"
                                }
                            ]
                        },
                        "text/html": "<table><tr><th>ora_id</th><th>nev</th></tr><tr><td>203</td><td>Ujfalussi István</td></tr><tr><td>204</td><td>Ujfalussi István</td></tr><tr><td>227</td><td>Ujfalussi István</td></tr><tr><td>210</td><td>Pelikán József</td></tr><tr><td>211</td><td>Pelikán József</td></tr><tr><td>212</td><td>Pelikán József</td></tr><tr><td>213</td><td>Pelikán József</td></tr><tr><td>214</td><td>Pelikán József</td></tr><tr><td>215</td><td>Pelikán József</td></tr><tr><td>216</td><td>Pelikán József</td></tr><tr><td>217</td><td>Pelikán József</td></tr><tr><td>218</td><td>Pelikán József</td></tr><tr><td>219</td><td>Pelikán József</td></tr><tr><td>201</td><td>Pelikán József</td></tr><tr><td>202</td><td>Pelikán József</td></tr><tr><td>205</td><td>Kovács László</td></tr><tr><td>206</td><td>Kovács László</td></tr><tr><td>207</td><td>Kovács László</td></tr><tr><td>226</td><td>Kovács László</td></tr><tr><td>186</td><td>Kovács László</td></tr><tr><td>220</td><td>Kovács László</td></tr><tr><td>221</td><td>Kovács László</td></tr><tr><td>222</td><td>Kovács László</td></tr><tr><td>223</td><td>Kovács László</td></tr><tr><td>208</td><td>Jogrerős Pál</td></tr><tr><td>209</td><td>Jogrerős Pál</td></tr><tr><td>191</td><td>Balkán András</td></tr><tr><td>192</td><td>Balkán András</td></tr><tr><td>193</td><td>Balkán András</td></tr><tr><td>194</td><td>Balkán András</td></tr><tr><td>195</td><td>Balkán András</td></tr><tr><td>196</td><td>Balkán András</td></tr><tr><td>197</td><td>Balkán András</td></tr><tr><td>198</td><td>Balkán András</td></tr><tr><td>199</td><td>Balkán András</td></tr><tr><td>200</td><td>Balkán András</td></tr><tr><td>159</td><td>Balkán András</td></tr><tr><td>160</td><td>Balkán András</td></tr><tr><td>161</td><td>Balkán András</td></tr><tr><td>162</td><td>Balkán András</td></tr><tr><td>163</td><td>Balkán András</td></tr><tr><td>164</td><td>Balkán András</td></tr><tr><td>165</td><td>Balkán András</td></tr><tr><td>166</td><td>Balkán András</td></tr><tr><td>167</td><td>Balkán András</td></tr><tr><td>168</td><td>Balkán András</td></tr><tr><td>169</td><td>Balkán András</td></tr><tr><td>170</td><td>Balkán András</td></tr><tr><td>171</td><td>Balkán András</td></tr><tr><td>172</td><td>Balkán András</td></tr><tr><td>173</td><td>Balkán András</td></tr><tr><td>174</td><td>Balkán András</td></tr><tr><td>175</td><td>Balkán András</td></tr><tr><td>176</td><td>Balkán András</td></tr><tr><td>177</td><td>Balkán András</td></tr><tr><td>178</td><td>Balkán András</td></tr><tr><td>179</td><td>Balkán András</td></tr><tr><td>180</td><td>Balkán András</td></tr><tr><td>181</td><td>Balkán András</td></tr><tr><td>182</td><td>Balkán András</td></tr><tr><td>183</td><td>Balkán András</td></tr><tr><td>184</td><td>Balkán András</td></tr><tr><td>185</td><td>Balkán András</td></tr><tr><td>187</td><td>Balkán András</td></tr><tr><td>188</td><td>Balkán András</td></tr><tr><td>189</td><td>Balkán András</td></tr><tr><td>190</td><td>Balkán András</td></tr></table>"
                    },
                    "metadata": {}
                }
            ],
            "execution_count": 64
        },
        {
            "cell_type": "markdown",
            "source": [
                "13. <span style=\"color: rgb(36, 41, 47); font-family: -apple-system, BlinkMacSystemFont, &quot;Segoe UI&quot;, Helvetica, Arial, sans-serif, &quot;Apple Color Emoji&quot;, &quot;Segoe UI Emoji&quot;; font-size: 16px;\">Készítsünk listát, amely megjeleníti, hogy az Orak táblában lévő órák közül hányat tart Dr., illetve nem Dr. titulusú tanár!</span>\n",
                "\n",
                "1. Az oszlopokat nevezzük el értelemszerűen!"
            ],
            "metadata": {
                "azdata_cell_guid": "3f9237ae-f109-401c-acb9-31d75e73331b"
            },
            "attachments": {}
        },
        {
            "cell_type": "code",
            "source": [
                "select \r\n",
                "    CASE\r\n",
                "        WHEN okt.titulus = 'Dr.' THEN 'Dr.'\r\n",
                "        ELSE 'Nem Dr'\r\n",
                "    END as 'Doktori?',\r\n",
                "    count(*) as 'Órák száma'\r\n",
                "from Orak o JOIN Oktatok okt ON okt.oktato_id=o.tanar\r\n",
                "group by CASE\r\n",
                "        WHEN okt.titulus = 'Dr.' THEN 'Dr.'\r\n",
                "        ELSE 'Nem Dr'\r\n",
                "    END\r\n",
                ""
            ],
            "metadata": {
                "azdata_cell_guid": "4b31bb89-cfbc-46b1-8639-85c462877786",
                "language": "sql"
            },
            "outputs": [
                {
                    "output_type": "display_data",
                    "data": {
                        "text/html": "(2 rows affected)"
                    },
                    "metadata": {}
                },
                {
                    "output_type": "display_data",
                    "data": {
                        "text/html": "Total execution time: 00:00:00.017"
                    },
                    "metadata": {}
                },
                {
                    "output_type": "execute_result",
                    "execution_count": 71,
                    "data": {
                        "application/vnd.dataresource+json": {
                            "schema": {
                                "fields": [
                                    {
                                        "name": "Doktori?"
                                    },
                                    {
                                        "name": "Órák száma"
                                    }
                                ]
                            },
                            "data": [
                                {
                                    "Doktori?": "Dr.",
                                    "Órák száma": "25"
                                },
                                {
                                    "Doktori?": "Nem Dr",
                                    "Órák száma": "42"
                                }
                            ]
                        },
                        "text/html": "<table><tr><th>Doktori?</th><th>Órák száma</th></tr><tr><td>Dr.</td><td>25</td></tr><tr><td>Nem Dr</td><td>42</td></tr></table>"
                    },
                    "metadata": {}
                }
            ],
            "execution_count": 71
        },
        {
            "cell_type": "markdown",
            "source": [
                "14. <span style=\"color: rgb(36, 41, 47); font-family: -apple-system, BlinkMacSystemFont, &quot;Segoe UI&quot;, Helvetica, Arial, sans-serif, &quot;Apple Color Emoji&quot;, &quot;Segoe UI Emoji&quot;; font-size: 16px;\">Készítsünk listát arról, hogy beosztásonként hány óra szerepel az Orak táblában!</span>\n",
                "\n",
                "1. Jelenítsük meg a beosztások nevét és az órák számát!\n",
                "2. A listát szűrjük azokra a beosztásokra, ahol ez az óraszám 10 feletti!"
            ],
            "metadata": {
                "azdata_cell_guid": "f634e09a-85ef-4e70-8ec6-ef355dfddaa7"
            },
            "attachments": {}
        },
        {
            "cell_type": "code",
            "source": [
                "select beo.beosztasnev,\r\n",
                "    count(*) as 'Órák száma'\r\n",
                "from Beosztasok beo JOIN Oktatok okt ON beo.beosztas_id=okt.beosztás\r\n",
                "                    JOIN Orak o ON okt.oktato_id=o.tanar\r\n",
                "group by beo.beosztasnev\r\n",
                "having count(*)>10"
            ],
            "metadata": {
                "azdata_cell_guid": "88abc55b-2c78-495b-a72f-3f8f4eb5fe70",
                "language": "sql"
            },
            "outputs": [
                {
                    "output_type": "display_data",
                    "data": {
                        "text/html": "(3 rows affected)"
                    },
                    "metadata": {}
                },
                {
                    "output_type": "display_data",
                    "data": {
                        "text/html": "Total execution time: 00:00:00.017"
                    },
                    "metadata": {}
                },
                {
                    "output_type": "execute_result",
                    "execution_count": 88,
                    "data": {
                        "application/vnd.dataresource+json": {
                            "schema": {
                                "fields": [
                                    {
                                        "name": "beosztasnev"
                                    },
                                    {
                                        "name": "Órák száma"
                                    }
                                ]
                            },
                            "data": [
                                {
                                    "beosztasnev": "Adjunktus",
                                    "Órák száma": "14"
                                },
                                {
                                    "beosztasnev": "Egyetemi tanár",
                                    "Órák száma": "11"
                                },
                                {
                                    "beosztasnev": "Tanársegéd",
                                    "Órák száma": "22"
                                }
                            ]
                        },
                        "text/html": "<table><tr><th>beosztasnev</th><th>Órák száma</th></tr><tr><td>Adjunktus</td><td>14</td></tr><tr><td>Egyetemi tanár</td><td>11</td></tr><tr><td>Tanársegéd</td><td>22</td></tr></table>"
                    },
                    "metadata": {}
                }
            ],
            "execution_count": 88
        },
        {
            "cell_type": "markdown",
            "source": [
                "15. <span style=\"color: rgb(36, 41, 47); font-family: -apple-system, BlinkMacSystemFont, &quot;Segoe UI&quot;, Helvetica, Arial, sans-serif, &quot;Apple Color Emoji&quot;, &quot;Segoe UI Emoji&quot;; font-size: 16px;\">Melyek azok az órák, amelyek kezdési időpontja olyan sávba esik, amely a mostani időpont (óra:perc) után van?</span>\n",
                "\n",
                "1. Listázzuk az órák azonosítóit, valamint az órakezdés napját és időpontját!\n",
                "2. A listát rendezzük az időpont szerint növekvő sorrendbe!"
            ],
            "metadata": {
                "azdata_cell_guid": "4cbf2f0d-a65d-480a-8186-ccdb24498443"
            },
            "attachments": {}
        },
        {
            "cell_type": "code",
            "source": [
                "select o.ora_id,\r\n",
                "        nap.nap,\r\n",
                "        sav.Időpont,\r\n",
                "        cast(left(sav.Időpont, CHARINDEX('.',sav.Időpont)-1)+':'+right(sav.Időpont,LEN(sav.Időpont)-CHARINDEX('.',sav.Időpont)) as time) as 'time formátum idő', \r\n",
                "        cast(format(GETDATE(),'HH:mm') as time) as 'jelenlegi idő',\r\n",
                "        case\r\n",
                "            when cast(left(sav.Időpont, CHARINDEX('.',sav.Időpont)-1)+':'+right(sav.Időpont,LEN(sav.Időpont)-CHARINDEX('.',sav.Időpont)) as time)>format(GETDATE(),'HH:mm') then 'utána'\r\n",
                "            else 'előtte'\r\n",
                "        end as 'utana vagy elotte'\r\n",
                "from Orak o JOIN Savok sav ON o.Sav=sav.Sav_id\r\n",
                "            JOIN Napok nap ON o.nap=nap.nap_id\r\n",
                "\r\n",
                "\r\n",
                "\r\n",
                "\r\n",
                "\r\n",
                ""
            ],
            "metadata": {
                "azdata_cell_guid": "c148aee8-bc85-40bf-b80a-a4898a6c05cb",
                "language": "sql",
                "tags": []
            },
            "outputs": [
                {
                    "output_type": "display_data",
                    "data": {
                        "text/html": "(67 rows affected)"
                    },
                    "metadata": {}
                },
                {
                    "output_type": "display_data",
                    "data": {
                        "text/html": "Total execution time: 00:00:00.174"
                    },
                    "metadata": {}
                },
                {
                    "output_type": "execute_result",
<<<<<<< HEAD
=======
                    "metadata": {},
>>>>>>> 39975290e750e7d196e84bfb55733b2e17a3673e
                    "execution_count": 5,
                    "data": {
                        "application/vnd.dataresource+json": {
                            "schema": {
                                "fields": [
                                    {
                                        "name": "ora_id"
                                    },
                                    {
                                        "name": "nap"
                                    },
                                    {
                                        "name": "Időpont"
                                    },
                                    {
                                        "name": "time formátum idő"
                                    },
                                    {
                                        "name": "jelenlegi idő"
                                    },
                                    {
                                        "name": "utana vagy elotte"
                                    }
                                ]
                            },
                            "data": [
                                {
                                    "ora_id": "159",
                                    "nap": "Szerda",
                                    "Időpont": "8.00",
                                    "time formátum idő": "08:00:00",
                                    "jelenlegi idő": "15:49:00",
                                    "utana vagy elotte": "előtte"
                                },
                                {
                                    "ora_id": "160",
                                    "nap": "Kedd",
                                    "Időpont": "14.00",
                                    "time formátum idő": "14:00:00",
                                    "jelenlegi idő": "15:49:00",
                                    "utana vagy elotte": "előtte"
                                },
                                {
                                    "ora_id": "161",
                                    "nap": "Hétfő",
                                    "Időpont": "9.30",
                                    "time formátum idő": "09:30:00",
                                    "jelenlegi idő": "15:49:00",
                                    "utana vagy elotte": "előtte"
                                },
                                {
                                    "ora_id": "162",
                                    "nap": "Hétfő",
                                    "Időpont": "12.30",
                                    "time formátum idő": "12:30:00",
                                    "jelenlegi idő": "15:49:00",
                                    "utana vagy elotte": "előtte"
                                },
                                {
                                    "ora_id": "163",
                                    "nap": "Szerda",
                                    "Időpont": "9.30",
                                    "time formátum idő": "09:30:00",
                                    "jelenlegi idő": "15:49:00",
                                    "utana vagy elotte": "előtte"
                                },
                                {
                                    "ora_id": "164",
                                    "nap": "Kedd",
                                    "Időpont": "11.00",
                                    "time formátum idő": "11:00:00",
                                    "jelenlegi idő": "15:49:00",
                                    "utana vagy elotte": "előtte"
                                },
                                {
                                    "ora_id": "165",
                                    "nap": "Kedd",
                                    "Időpont": "11.00",
                                    "time formátum idő": "11:00:00",
                                    "jelenlegi idő": "15:49:00",
                                    "utana vagy elotte": "előtte"
                                },
                                {
                                    "ora_id": "166",
                                    "nap": "Kedd",
                                    "Időpont": "12.30",
                                    "time formátum idő": "12:30:00",
                                    "jelenlegi idő": "15:49:00",
                                    "utana vagy elotte": "előtte"
                                },
                                {
                                    "ora_id": "167",
                                    "nap": "Hétfő",
                                    "Időpont": "12.30",
                                    "time formátum idő": "12:30:00",
                                    "jelenlegi idő": "15:49:00",
                                    "utana vagy elotte": "előtte"
                                },
                                {
                                    "ora_id": "168",
                                    "nap": "Csütörtök",
                                    "Időpont": "11.00",
                                    "time formátum idő": "11:00:00",
                                    "jelenlegi idő": "15:49:00",
                                    "utana vagy elotte": "előtte"
                                },
                                {
                                    "ora_id": "169",
                                    "nap": "Hétfő",
                                    "Időpont": "9.30",
                                    "time formátum idő": "09:30:00",
                                    "jelenlegi idő": "15:49:00",
                                    "utana vagy elotte": "előtte"
                                },
                                {
                                    "ora_id": "170",
                                    "nap": "Hétfő",
                                    "Időpont": "9.30",
                                    "time formátum idő": "09:30:00",
                                    "jelenlegi idő": "15:49:00",
                                    "utana vagy elotte": "előtte"
                                },
                                {
                                    "ora_id": "171",
                                    "nap": "Kedd",
                                    "Időpont": "9.30",
                                    "time formátum idő": "09:30:00",
                                    "jelenlegi idő": "15:49:00",
                                    "utana vagy elotte": "előtte"
                                },
                                {
                                    "ora_id": "172",
                                    "nap": "Kedd",
                                    "Időpont": "9.30",
                                    "time formátum idő": "09:30:00",
                                    "jelenlegi idő": "15:49:00",
                                    "utana vagy elotte": "előtte"
                                },
                                {
                                    "ora_id": "173",
                                    "nap": "Csütörtök",
                                    "Időpont": "11.00",
                                    "time formátum idő": "11:00:00",
                                    "jelenlegi idő": "15:49:00",
                                    "utana vagy elotte": "előtte"
                                },
                                {
                                    "ora_id": "174",
                                    "nap": "Csütörtök",
                                    "Időpont": "11.00",
                                    "time formátum idő": "11:00:00",
                                    "jelenlegi idő": "15:49:00",
                                    "utana vagy elotte": "előtte"
                                },
                                {
                                    "ora_id": "175",
                                    "nap": "Csütörtök",
                                    "Időpont": "12.30",
                                    "time formátum idő": "12:30:00",
                                    "jelenlegi idő": "15:49:00",
                                    "utana vagy elotte": "előtte"
                                },
                                {
                                    "ora_id": "176",
                                    "nap": "Csütörtök",
                                    "Időpont": "12.30",
                                    "time formátum idő": "12:30:00",
                                    "jelenlegi idő": "15:49:00",
                                    "utana vagy elotte": "előtte"
                                },
                                {
                                    "ora_id": "177",
                                    "nap": "Csütörtök",
                                    "Időpont": "14.00",
                                    "time formátum idő": "14:00:00",
                                    "jelenlegi idő": "15:49:00",
                                    "utana vagy elotte": "előtte"
                                },
                                {
                                    "ora_id": "178",
                                    "nap": "Csütörtök",
                                    "Időpont": "14.00",
                                    "time formátum idő": "14:00:00",
                                    "jelenlegi idő": "15:49:00",
                                    "utana vagy elotte": "előtte"
                                },
                                {
                                    "ora_id": "179",
                                    "nap": "Csütörtök",
                                    "Időpont": "15.30",
                                    "time formátum idő": "15:30:00",
                                    "jelenlegi idő": "15:49:00",
                                    "utana vagy elotte": "előtte"
                                },
                                {
                                    "ora_id": "180",
                                    "nap": "Csütörtök",
                                    "Időpont": "15.30",
                                    "time formátum idő": "15:30:00",
                                    "jelenlegi idő": "15:49:00",
                                    "utana vagy elotte": "előtte"
                                },
                                {
                                    "ora_id": "181",
                                    "nap": "Péntek",
                                    "Időpont": "8.00",
                                    "time formátum idő": "08:00:00",
                                    "jelenlegi idő": "15:49:00",
                                    "utana vagy elotte": "előtte"
                                },
                                {
                                    "ora_id": "182",
                                    "nap": "Péntek",
                                    "Időpont": "8.00",
                                    "time formátum idő": "08:00:00",
                                    "jelenlegi idő": "15:49:00",
                                    "utana vagy elotte": "előtte"
                                },
                                {
                                    "ora_id": "183",
                                    "nap": "Péntek",
                                    "Időpont": "9.30",
                                    "time formátum idő": "09:30:00",
                                    "jelenlegi idő": "15:49:00",
                                    "utana vagy elotte": "előtte"
                                },
                                {
                                    "ora_id": "184",
                                    "nap": "Péntek",
                                    "Időpont": "9.30",
                                    "time formátum idő": "09:30:00",
                                    "jelenlegi idő": "15:49:00",
                                    "utana vagy elotte": "előtte"
                                },
                                {
                                    "ora_id": "185",
                                    "nap": "Csütörtök",
                                    "Időpont": "11.00",
                                    "time formátum idő": "11:00:00",
                                    "jelenlegi idő": "15:49:00",
                                    "utana vagy elotte": "előtte"
                                },
                                {
                                    "ora_id": "186",
                                    "nap": "Kedd",
                                    "Időpont": "12.30",
                                    "time formátum idő": "12:30:00",
                                    "jelenlegi idő": "15:49:00",
                                    "utana vagy elotte": "előtte"
                                },
                                {
                                    "ora_id": "187",
                                    "nap": "Szerda",
                                    "Időpont": "9.30",
                                    "time formátum idő": "09:30:00",
                                    "jelenlegi idő": "15:49:00",
                                    "utana vagy elotte": "előtte"
                                },
                                {
                                    "ora_id": "188",
                                    "nap": "Csütörtök",
                                    "Időpont": "15.30",
                                    "time formátum idő": "15:30:00",
                                    "jelenlegi idő": "15:49:00",
                                    "utana vagy elotte": "előtte"
                                },
                                {
                                    "ora_id": "189",
                                    "nap": "Csütörtök",
                                    "Időpont": "9.30",
                                    "time formátum idő": "09:30:00",
                                    "jelenlegi idő": "15:49:00",
                                    "utana vagy elotte": "előtte"
                                },
                                {
                                    "ora_id": "190",
                                    "nap": "Péntek",
                                    "Időpont": "11.00",
                                    "time formátum idő": "11:00:00",
                                    "jelenlegi idő": "15:49:00",
                                    "utana vagy elotte": "előtte"
                                },
                                {
                                    "ora_id": "191",
                                    "nap": "Hétfő",
                                    "Időpont": "14.00",
                                    "time formátum idő": "14:00:00",
                                    "jelenlegi idő": "15:49:00",
                                    "utana vagy elotte": "előtte"
                                },
                                {
                                    "ora_id": "192",
                                    "nap": "Hétfő",
                                    "Időpont": "15.30",
                                    "time formátum idő": "15:30:00",
                                    "jelenlegi idő": "15:49:00",
                                    "utana vagy elotte": "előtte"
                                },
                                {
                                    "ora_id": "193",
                                    "nap": "Hétfő",
                                    "Időpont": "14.00",
                                    "time formátum idő": "14:00:00",
                                    "jelenlegi idő": "15:49:00",
                                    "utana vagy elotte": "előtte"
                                },
                                {
                                    "ora_id": "194",
                                    "nap": "Hétfő",
                                    "Időpont": "15.30",
                                    "time formátum idő": "15:30:00",
                                    "jelenlegi idő": "15:49:00",
                                    "utana vagy elotte": "előtte"
                                },
                                {
                                    "ora_id": "195",
                                    "nap": "Hétfő",
                                    "Időpont": "14.00",
                                    "time formátum idő": "14:00:00",
                                    "jelenlegi idő": "15:49:00",
                                    "utana vagy elotte": "előtte"
                                },
                                {
                                    "ora_id": "196",
                                    "nap": "Hétfő",
                                    "Időpont": "15.30",
                                    "time formátum idő": "15:30:00",
                                    "jelenlegi idő": "15:49:00",
                                    "utana vagy elotte": "előtte"
                                },
                                {
                                    "ora_id": "197",
                                    "nap": "Csütörtök",
                                    "Időpont": "8.00",
                                    "time formátum idő": "08:00:00",
                                    "jelenlegi idő": "15:49:00",
                                    "utana vagy elotte": "előtte"
                                },
                                {
                                    "ora_id": "198",
                                    "nap": "Szerda",
                                    "Időpont": "9.30",
                                    "time formátum idő": "09:30:00",
                                    "jelenlegi idő": "15:49:00",
                                    "utana vagy elotte": "előtte"
                                },
                                {
                                    "ora_id": "199",
                                    "nap": "Csütörtök",
                                    "Időpont": "8.00",
                                    "time formátum idő": "08:00:00",
                                    "jelenlegi idő": "15:49:00",
                                    "utana vagy elotte": "előtte"
                                },
                                {
                                    "ora_id": "200",
                                    "nap": "Csütörtök",
                                    "Időpont": "9.30",
                                    "time formátum idő": "09:30:00",
                                    "jelenlegi idő": "15:49:00",
                                    "utana vagy elotte": "előtte"
                                },
                                {
                                    "ora_id": "201",
                                    "nap": "Csütörtök",
                                    "Időpont": "12.30",
                                    "time formátum idő": "12:30:00",
                                    "jelenlegi idő": "15:49:00",
                                    "utana vagy elotte": "előtte"
                                },
                                {
                                    "ora_id": "202",
                                    "nap": "Csütörtök",
                                    "Időpont": "14.00",
                                    "time formátum idő": "14:00:00",
                                    "jelenlegi idő": "15:49:00",
                                    "utana vagy elotte": "előtte"
                                },
                                {
                                    "ora_id": "203",
                                    "nap": "Hétfő",
                                    "Időpont": "12.30",
                                    "time formátum idő": "12:30:00",
                                    "jelenlegi idő": "15:49:00",
                                    "utana vagy elotte": "előtte"
                                },
                                {
                                    "ora_id": "204",
                                    "nap": "Kedd",
                                    "Időpont": "14.00",
                                    "time formátum idő": "14:00:00",
                                    "jelenlegi idő": "15:49:00",
                                    "utana vagy elotte": "előtte"
                                },
                                {
                                    "ora_id": "205",
                                    "nap": "Hétfő",
                                    "Időpont": "12.30",
                                    "time formátum idő": "12:30:00",
                                    "jelenlegi idő": "15:49:00",
                                    "utana vagy elotte": "előtte"
                                },
                                {
                                    "ora_id": "206",
                                    "nap": "Kedd",
                                    "Időpont": "8.00",
                                    "time formátum idő": "08:00:00",
                                    "jelenlegi idő": "15:49:00",
                                    "utana vagy elotte": "előtte"
                                },
                                {
                                    "ora_id": "207",
                                    "nap": "Csütörtök",
                                    "Időpont": "12.30",
                                    "time formátum idő": "12:30:00",
                                    "jelenlegi idő": "15:49:00",
                                    "utana vagy elotte": "előtte"
                                },
                                {
                                    "ora_id": "208",
                                    "nap": "Hétfő",
                                    "Időpont": "8.00",
                                    "time formátum idő": "08:00:00",
                                    "jelenlegi idő": "15:49:00",
                                    "utana vagy elotte": "előtte"
                                },
                                {
                                    "ora_id": "209",
                                    "nap": "Hétfő",
                                    "Időpont": "9.30",
                                    "time formátum idő": "09:30:00",
                                    "jelenlegi idő": "15:49:00",
                                    "utana vagy elotte": "előtte"
                                },
                                {
                                    "ora_id": "210",
                                    "nap": "Hétfő",
                                    "Időpont": "15.30",
                                    "time formátum idő": "15:30:00",
                                    "jelenlegi idő": "15:49:00",
                                    "utana vagy elotte": "előtte"
                                },
                                {
                                    "ora_id": "211",
                                    "nap": "Hétfő",
                                    "Időpont": "17.00",
                                    "time formátum idő": "17:00:00",
                                    "jelenlegi idő": "15:49:00",
                                    "utana vagy elotte": "utána"
                                },
                                {
                                    "ora_id": "212",
                                    "nap": "Hétfő",
                                    "Időpont": "18.30",
                                    "time formátum idő": "18:30:00",
                                    "jelenlegi idő": "15:49:00",
                                    "utana vagy elotte": "utána"
                                },
                                {
                                    "ora_id": "213",
                                    "nap": "Hétfő",
                                    "Időpont": "20.00",
                                    "time formátum idő": "20:00:00",
                                    "jelenlegi idő": "15:49:00",
                                    "utana vagy elotte": "utána"
                                },
                                {
                                    "ora_id": "214",
                                    "nap": "Hétfő",
                                    "Időpont": "11.00",
                                    "time formátum idő": "11:00:00",
                                    "jelenlegi idő": "15:49:00",
                                    "utana vagy elotte": "előtte"
                                },
                                {
                                    "ora_id": "215",
                                    "nap": "Hétfő",
                                    "Időpont": "12.30",
                                    "time formátum idő": "12:30:00",
                                    "jelenlegi idő": "15:49:00",
                                    "utana vagy elotte": "előtte"
                                },
                                {
                                    "ora_id": "216",
                                    "nap": "Hétfő",
                                    "Időpont": "11.00",
                                    "time formátum idő": "11:00:00",
                                    "jelenlegi idő": "15:49:00",
                                    "utana vagy elotte": "előtte"
                                },
                                {
                                    "ora_id": "217",
                                    "nap": "Hétfő",
                                    "Időpont": "12.30",
                                    "time formátum idő": "12:30:00",
                                    "jelenlegi idő": "15:49:00",
                                    "utana vagy elotte": "előtte"
                                },
                                {
                                    "ora_id": "218",
                                    "nap": "Kedd",
                                    "Időpont": "15.30",
                                    "time formátum idő": "15:30:00",
                                    "jelenlegi idő": "15:49:00",
                                    "utana vagy elotte": "előtte"
                                },
                                {
                                    "ora_id": "219",
                                    "nap": "Kedd",
                                    "Időpont": "17.00",
                                    "time formátum idő": "17:00:00",
                                    "jelenlegi idő": "15:49:00",
                                    "utana vagy elotte": "utána"
                                },
                                {
                                    "ora_id": "220",
                                    "nap": "Kedd",
                                    "Időpont": "11.00",
                                    "time formátum idő": "11:00:00",
                                    "jelenlegi idő": "15:49:00",
                                    "utana vagy elotte": "előtte"
                                },
                                {
                                    "ora_id": "221",
                                    "nap": "Szerda",
                                    "Időpont": "11.00",
                                    "time formátum idő": "11:00:00",
                                    "jelenlegi idő": "15:49:00",
                                    "utana vagy elotte": "előtte"
                                },
                                {
                                    "ora_id": "222",
                                    "nap": "Csütörtök",
                                    "Időpont": "14.00",
                                    "time formátum idő": "14:00:00",
                                    "jelenlegi idő": "15:49:00",
                                    "utana vagy elotte": "előtte"
                                },
                                {
                                    "ora_id": "223",
                                    "nap": "Péntek",
                                    "Időpont": "8.00",
                                    "time formátum idő": "08:00:00",
                                    "jelenlegi idő": "15:49:00",
                                    "utana vagy elotte": "előtte"
                                },
                                {
                                    "ora_id": "226",
                                    "nap": "Szerda",
                                    "Időpont": "11.00",
                                    "time formátum idő": "11:00:00",
                                    "jelenlegi idő": "15:49:00",
                                    "utana vagy elotte": "előtte"
                                },
                                {
                                    "ora_id": "227",
                                    "nap": "Kedd",
                                    "Időpont": "14.00",
                                    "time formátum idő": "14:00:00",
                                    "jelenlegi idő": "15:49:00",
                                    "utana vagy elotte": "előtte"
                                }
                            ]
                        },
<<<<<<< HEAD
                        "text/html": "<table><tr><th>ora_id</th><th>nap</th><th>Időpont</th><th>time formátum idő</th><th>jelenlegi idő</th><th>utana vagy elotte</th></tr><tr><td>159</td><td>Szerda</td><td>8.00</td><td>08:00:00</td><td>15:49:00</td><td>előtte</td></tr><tr><td>160</td><td>Kedd</td><td>14.00</td><td>14:00:00</td><td>15:49:00</td><td>előtte</td></tr><tr><td>161</td><td>Hétfő</td><td>9.30</td><td>09:30:00</td><td>15:49:00</td><td>előtte</td></tr><tr><td>162</td><td>Hétfő</td><td>12.30</td><td>12:30:00</td><td>15:49:00</td><td>előtte</td></tr><tr><td>163</td><td>Szerda</td><td>9.30</td><td>09:30:00</td><td>15:49:00</td><td>előtte</td></tr><tr><td>164</td><td>Kedd</td><td>11.00</td><td>11:00:00</td><td>15:49:00</td><td>előtte</td></tr><tr><td>165</td><td>Kedd</td><td>11.00</td><td>11:00:00</td><td>15:49:00</td><td>előtte</td></tr><tr><td>166</td><td>Kedd</td><td>12.30</td><td>12:30:00</td><td>15:49:00</td><td>előtte</td></tr><tr><td>167</td><td>Hétfő</td><td>12.30</td><td>12:30:00</td><td>15:49:00</td><td>előtte</td></tr><tr><td>168</td><td>Csütörtök</td><td>11.00</td><td>11:00:00</td><td>15:49:00</td><td>előtte</td></tr><tr><td>169</td><td>Hétfő</td><td>9.30</td><td>09:30:00</td><td>15:49:00</td><td>előtte</td></tr><tr><td>170</td><td>Hétfő</td><td>9.30</td><td>09:30:00</td><td>15:49:00</td><td>előtte</td></tr><tr><td>171</td><td>Kedd</td><td>9.30</td><td>09:30:00</td><td>15:49:00</td><td>előtte</td></tr><tr><td>172</td><td>Kedd</td><td>9.30</td><td>09:30:00</td><td>15:49:00</td><td>előtte</td></tr><tr><td>173</td><td>Csütörtök</td><td>11.00</td><td>11:00:00</td><td>15:49:00</td><td>előtte</td></tr><tr><td>174</td><td>Csütörtök</td><td>11.00</td><td>11:00:00</td><td>15:49:00</td><td>előtte</td></tr><tr><td>175</td><td>Csütörtök</td><td>12.30</td><td>12:30:00</td><td>15:49:00</td><td>előtte</td></tr><tr><td>176</td><td>Csütörtök</td><td>12.30</td><td>12:30:00</td><td>15:49:00</td><td>előtte</td></tr><tr><td>177</td><td>Csütörtök</td><td>14.00</td><td>14:00:00</td><td>15:49:00</td><td>előtte</td></tr><tr><td>178</td><td>Csütörtök</td><td>14.00</td><td>14:00:00</td><td>15:49:00</td><td>előtte</td></tr><tr><td>179</td><td>Csütörtök</td><td>15.30</td><td>15:30:00</td><td>15:49:00</td><td>előtte</td></tr><tr><td>180</td><td>Csütörtök</td><td>15.30</td><td>15:30:00</td><td>15:49:00</td><td>előtte</td></tr><tr><td>181</td><td>Péntek</td><td>8.00</td><td>08:00:00</td><td>15:49:00</td><td>előtte</td></tr><tr><td>182</td><td>Péntek</td><td>8.00</td><td>08:00:00</td><td>15:49:00</td><td>előtte</td></tr><tr><td>183</td><td>Péntek</td><td>9.30</td><td>09:30:00</td><td>15:49:00</td><td>előtte</td></tr><tr><td>184</td><td>Péntek</td><td>9.30</td><td>09:30:00</td><td>15:49:00</td><td>előtte</td></tr><tr><td>185</td><td>Csütörtök</td><td>11.00</td><td>11:00:00</td><td>15:49:00</td><td>előtte</td></tr><tr><td>186</td><td>Kedd</td><td>12.30</td><td>12:30:00</td><td>15:49:00</td><td>előtte</td></tr><tr><td>187</td><td>Szerda</td><td>9.30</td><td>09:30:00</td><td>15:49:00</td><td>előtte</td></tr><tr><td>188</td><td>Csütörtök</td><td>15.30</td><td>15:30:00</td><td>15:49:00</td><td>előtte</td></tr><tr><td>189</td><td>Csütörtök</td><td>9.30</td><td>09:30:00</td><td>15:49:00</td><td>előtte</td></tr><tr><td>190</td><td>Péntek</td><td>11.00</td><td>11:00:00</td><td>15:49:00</td><td>előtte</td></tr><tr><td>191</td><td>Hétfő</td><td>14.00</td><td>14:00:00</td><td>15:49:00</td><td>előtte</td></tr><tr><td>192</td><td>Hétfő</td><td>15.30</td><td>15:30:00</td><td>15:49:00</td><td>előtte</td></tr><tr><td>193</td><td>Hétfő</td><td>14.00</td><td>14:00:00</td><td>15:49:00</td><td>előtte</td></tr><tr><td>194</td><td>Hétfő</td><td>15.30</td><td>15:30:00</td><td>15:49:00</td><td>előtte</td></tr><tr><td>195</td><td>Hétfő</td><td>14.00</td><td>14:00:00</td><td>15:49:00</td><td>előtte</td></tr><tr><td>196</td><td>Hétfő</td><td>15.30</td><td>15:30:00</td><td>15:49:00</td><td>előtte</td></tr><tr><td>197</td><td>Csütörtök</td><td>8.00</td><td>08:00:00</td><td>15:49:00</td><td>előtte</td></tr><tr><td>198</td><td>Szerda</td><td>9.30</td><td>09:30:00</td><td>15:49:00</td><td>előtte</td></tr><tr><td>199</td><td>Csütörtök</td><td>8.00</td><td>08:00:00</td><td>15:49:00</td><td>előtte</td></tr><tr><td>200</td><td>Csütörtök</td><td>9.30</td><td>09:30:00</td><td>15:49:00</td><td>előtte</td></tr><tr><td>201</td><td>Csütörtök</td><td>12.30</td><td>12:30:00</td><td>15:49:00</td><td>előtte</td></tr><tr><td>202</td><td>Csütörtök</td><td>14.00</td><td>14:00:00</td><td>15:49:00</td><td>előtte</td></tr><tr><td>203</td><td>Hétfő</td><td>12.30</td><td>12:30:00</td><td>15:49:00</td><td>előtte</td></tr><tr><td>204</td><td>Kedd</td><td>14.00</td><td>14:00:00</td><td>15:49:00</td><td>előtte</td></tr><tr><td>205</td><td>Hétfő</td><td>12.30</td><td>12:30:00</td><td>15:49:00</td><td>előtte</td></tr><tr><td>206</td><td>Kedd</td><td>8.00</td><td>08:00:00</td><td>15:49:00</td><td>előtte</td></tr><tr><td>207</td><td>Csütörtök</td><td>12.30</td><td>12:30:00</td><td>15:49:00</td><td>előtte</td></tr><tr><td>208</td><td>Hétfő</td><td>8.00</td><td>08:00:00</td><td>15:49:00</td><td>előtte</td></tr><tr><td>209</td><td>Hétfő</td><td>9.30</td><td>09:30:00</td><td>15:49:00</td><td>előtte</td></tr><tr><td>210</td><td>Hétfő</td><td>15.30</td><td>15:30:00</td><td>15:49:00</td><td>előtte</td></tr><tr><td>211</td><td>Hétfő</td><td>17.00</td><td>17:00:00</td><td>15:49:00</td><td>utána</td></tr><tr><td>212</td><td>Hétfő</td><td>18.30</td><td>18:30:00</td><td>15:49:00</td><td>utána</td></tr><tr><td>213</td><td>Hétfő</td><td>20.00</td><td>20:00:00</td><td>15:49:00</td><td>utána</td></tr><tr><td>214</td><td>Hétfő</td><td>11.00</td><td>11:00:00</td><td>15:49:00</td><td>előtte</td></tr><tr><td>215</td><td>Hétfő</td><td>12.30</td><td>12:30:00</td><td>15:49:00</td><td>előtte</td></tr><tr><td>216</td><td>Hétfő</td><td>11.00</td><td>11:00:00</td><td>15:49:00</td><td>előtte</td></tr><tr><td>217</td><td>Hétfő</td><td>12.30</td><td>12:30:00</td><td>15:49:00</td><td>előtte</td></tr><tr><td>218</td><td>Kedd</td><td>15.30</td><td>15:30:00</td><td>15:49:00</td><td>előtte</td></tr><tr><td>219</td><td>Kedd</td><td>17.00</td><td>17:00:00</td><td>15:49:00</td><td>utána</td></tr><tr><td>220</td><td>Kedd</td><td>11.00</td><td>11:00:00</td><td>15:49:00</td><td>előtte</td></tr><tr><td>221</td><td>Szerda</td><td>11.00</td><td>11:00:00</td><td>15:49:00</td><td>előtte</td></tr><tr><td>222</td><td>Csütörtök</td><td>14.00</td><td>14:00:00</td><td>15:49:00</td><td>előtte</td></tr><tr><td>223</td><td>Péntek</td><td>8.00</td><td>08:00:00</td><td>15:49:00</td><td>előtte</td></tr><tr><td>226</td><td>Szerda</td><td>11.00</td><td>11:00:00</td><td>15:49:00</td><td>előtte</td></tr><tr><td>227</td><td>Kedd</td><td>14.00</td><td>14:00:00</td><td>15:49:00</td><td>előtte</td></tr></table>"
                    },
                    "metadata": {}
=======
                        "text/html": [
                            "<table>",
                            "<tr><th>ora_id</th><th>nap</th><th>Időpont</th><th>time formátum idő</th><th>jelenlegi idő</th><th>utana vagy elotte</th></tr>",
                            "<tr><td>159</td><td>Szerda</td><td>8.00</td><td>08:00:00</td><td>15:49:00</td><td>előtte</td></tr>",
                            "<tr><td>160</td><td>Kedd</td><td>14.00</td><td>14:00:00</td><td>15:49:00</td><td>előtte</td></tr>",
                            "<tr><td>161</td><td>Hétfő</td><td>9.30</td><td>09:30:00</td><td>15:49:00</td><td>előtte</td></tr>",
                            "<tr><td>162</td><td>Hétfő</td><td>12.30</td><td>12:30:00</td><td>15:49:00</td><td>előtte</td></tr>",
                            "<tr><td>163</td><td>Szerda</td><td>9.30</td><td>09:30:00</td><td>15:49:00</td><td>előtte</td></tr>",
                            "<tr><td>164</td><td>Kedd</td><td>11.00</td><td>11:00:00</td><td>15:49:00</td><td>előtte</td></tr>",
                            "<tr><td>165</td><td>Kedd</td><td>11.00</td><td>11:00:00</td><td>15:49:00</td><td>előtte</td></tr>",
                            "<tr><td>166</td><td>Kedd</td><td>12.30</td><td>12:30:00</td><td>15:49:00</td><td>előtte</td></tr>",
                            "<tr><td>167</td><td>Hétfő</td><td>12.30</td><td>12:30:00</td><td>15:49:00</td><td>előtte</td></tr>",
                            "<tr><td>168</td><td>Csütörtök</td><td>11.00</td><td>11:00:00</td><td>15:49:00</td><td>előtte</td></tr>",
                            "<tr><td>169</td><td>Hétfő</td><td>9.30</td><td>09:30:00</td><td>15:49:00</td><td>előtte</td></tr>",
                            "<tr><td>170</td><td>Hétfő</td><td>9.30</td><td>09:30:00</td><td>15:49:00</td><td>előtte</td></tr>",
                            "<tr><td>171</td><td>Kedd</td><td>9.30</td><td>09:30:00</td><td>15:49:00</td><td>előtte</td></tr>",
                            "<tr><td>172</td><td>Kedd</td><td>9.30</td><td>09:30:00</td><td>15:49:00</td><td>előtte</td></tr>",
                            "<tr><td>173</td><td>Csütörtök</td><td>11.00</td><td>11:00:00</td><td>15:49:00</td><td>előtte</td></tr>",
                            "<tr><td>174</td><td>Csütörtök</td><td>11.00</td><td>11:00:00</td><td>15:49:00</td><td>előtte</td></tr>",
                            "<tr><td>175</td><td>Csütörtök</td><td>12.30</td><td>12:30:00</td><td>15:49:00</td><td>előtte</td></tr>",
                            "<tr><td>176</td><td>Csütörtök</td><td>12.30</td><td>12:30:00</td><td>15:49:00</td><td>előtte</td></tr>",
                            "<tr><td>177</td><td>Csütörtök</td><td>14.00</td><td>14:00:00</td><td>15:49:00</td><td>előtte</td></tr>",
                            "<tr><td>178</td><td>Csütörtök</td><td>14.00</td><td>14:00:00</td><td>15:49:00</td><td>előtte</td></tr>",
                            "<tr><td>179</td><td>Csütörtök</td><td>15.30</td><td>15:30:00</td><td>15:49:00</td><td>előtte</td></tr>",
                            "<tr><td>180</td><td>Csütörtök</td><td>15.30</td><td>15:30:00</td><td>15:49:00</td><td>előtte</td></tr>",
                            "<tr><td>181</td><td>Péntek</td><td>8.00</td><td>08:00:00</td><td>15:49:00</td><td>előtte</td></tr>",
                            "<tr><td>182</td><td>Péntek</td><td>8.00</td><td>08:00:00</td><td>15:49:00</td><td>előtte</td></tr>",
                            "<tr><td>183</td><td>Péntek</td><td>9.30</td><td>09:30:00</td><td>15:49:00</td><td>előtte</td></tr>",
                            "<tr><td>184</td><td>Péntek</td><td>9.30</td><td>09:30:00</td><td>15:49:00</td><td>előtte</td></tr>",
                            "<tr><td>185</td><td>Csütörtök</td><td>11.00</td><td>11:00:00</td><td>15:49:00</td><td>előtte</td></tr>",
                            "<tr><td>186</td><td>Kedd</td><td>12.30</td><td>12:30:00</td><td>15:49:00</td><td>előtte</td></tr>",
                            "<tr><td>187</td><td>Szerda</td><td>9.30</td><td>09:30:00</td><td>15:49:00</td><td>előtte</td></tr>",
                            "<tr><td>188</td><td>Csütörtök</td><td>15.30</td><td>15:30:00</td><td>15:49:00</td><td>előtte</td></tr>",
                            "<tr><td>189</td><td>Csütörtök</td><td>9.30</td><td>09:30:00</td><td>15:49:00</td><td>előtte</td></tr>",
                            "<tr><td>190</td><td>Péntek</td><td>11.00</td><td>11:00:00</td><td>15:49:00</td><td>előtte</td></tr>",
                            "<tr><td>191</td><td>Hétfő</td><td>14.00</td><td>14:00:00</td><td>15:49:00</td><td>előtte</td></tr>",
                            "<tr><td>192</td><td>Hétfő</td><td>15.30</td><td>15:30:00</td><td>15:49:00</td><td>előtte</td></tr>",
                            "<tr><td>193</td><td>Hétfő</td><td>14.00</td><td>14:00:00</td><td>15:49:00</td><td>előtte</td></tr>",
                            "<tr><td>194</td><td>Hétfő</td><td>15.30</td><td>15:30:00</td><td>15:49:00</td><td>előtte</td></tr>",
                            "<tr><td>195</td><td>Hétfő</td><td>14.00</td><td>14:00:00</td><td>15:49:00</td><td>előtte</td></tr>",
                            "<tr><td>196</td><td>Hétfő</td><td>15.30</td><td>15:30:00</td><td>15:49:00</td><td>előtte</td></tr>",
                            "<tr><td>197</td><td>Csütörtök</td><td>8.00</td><td>08:00:00</td><td>15:49:00</td><td>előtte</td></tr>",
                            "<tr><td>198</td><td>Szerda</td><td>9.30</td><td>09:30:00</td><td>15:49:00</td><td>előtte</td></tr>",
                            "<tr><td>199</td><td>Csütörtök</td><td>8.00</td><td>08:00:00</td><td>15:49:00</td><td>előtte</td></tr>",
                            "<tr><td>200</td><td>Csütörtök</td><td>9.30</td><td>09:30:00</td><td>15:49:00</td><td>előtte</td></tr>",
                            "<tr><td>201</td><td>Csütörtök</td><td>12.30</td><td>12:30:00</td><td>15:49:00</td><td>előtte</td></tr>",
                            "<tr><td>202</td><td>Csütörtök</td><td>14.00</td><td>14:00:00</td><td>15:49:00</td><td>előtte</td></tr>",
                            "<tr><td>203</td><td>Hétfő</td><td>12.30</td><td>12:30:00</td><td>15:49:00</td><td>előtte</td></tr>",
                            "<tr><td>204</td><td>Kedd</td><td>14.00</td><td>14:00:00</td><td>15:49:00</td><td>előtte</td></tr>",
                            "<tr><td>205</td><td>Hétfő</td><td>12.30</td><td>12:30:00</td><td>15:49:00</td><td>előtte</td></tr>",
                            "<tr><td>206</td><td>Kedd</td><td>8.00</td><td>08:00:00</td><td>15:49:00</td><td>előtte</td></tr>",
                            "<tr><td>207</td><td>Csütörtök</td><td>12.30</td><td>12:30:00</td><td>15:49:00</td><td>előtte</td></tr>",
                            "<tr><td>208</td><td>Hétfő</td><td>8.00</td><td>08:00:00</td><td>15:49:00</td><td>előtte</td></tr>",
                            "<tr><td>209</td><td>Hétfő</td><td>9.30</td><td>09:30:00</td><td>15:49:00</td><td>előtte</td></tr>",
                            "<tr><td>210</td><td>Hétfő</td><td>15.30</td><td>15:30:00</td><td>15:49:00</td><td>előtte</td></tr>",
                            "<tr><td>211</td><td>Hétfő</td><td>17.00</td><td>17:00:00</td><td>15:49:00</td><td>utána</td></tr>",
                            "<tr><td>212</td><td>Hétfő</td><td>18.30</td><td>18:30:00</td><td>15:49:00</td><td>utána</td></tr>",
                            "<tr><td>213</td><td>Hétfő</td><td>20.00</td><td>20:00:00</td><td>15:49:00</td><td>utána</td></tr>",
                            "<tr><td>214</td><td>Hétfő</td><td>11.00</td><td>11:00:00</td><td>15:49:00</td><td>előtte</td></tr>",
                            "<tr><td>215</td><td>Hétfő</td><td>12.30</td><td>12:30:00</td><td>15:49:00</td><td>előtte</td></tr>",
                            "<tr><td>216</td><td>Hétfő</td><td>11.00</td><td>11:00:00</td><td>15:49:00</td><td>előtte</td></tr>",
                            "<tr><td>217</td><td>Hétfő</td><td>12.30</td><td>12:30:00</td><td>15:49:00</td><td>előtte</td></tr>",
                            "<tr><td>218</td><td>Kedd</td><td>15.30</td><td>15:30:00</td><td>15:49:00</td><td>előtte</td></tr>",
                            "<tr><td>219</td><td>Kedd</td><td>17.00</td><td>17:00:00</td><td>15:49:00</td><td>utána</td></tr>",
                            "<tr><td>220</td><td>Kedd</td><td>11.00</td><td>11:00:00</td><td>15:49:00</td><td>előtte</td></tr>",
                            "<tr><td>221</td><td>Szerda</td><td>11.00</td><td>11:00:00</td><td>15:49:00</td><td>előtte</td></tr>",
                            "<tr><td>222</td><td>Csütörtök</td><td>14.00</td><td>14:00:00</td><td>15:49:00</td><td>előtte</td></tr>",
                            "<tr><td>223</td><td>Péntek</td><td>8.00</td><td>08:00:00</td><td>15:49:00</td><td>előtte</td></tr>",
                            "<tr><td>226</td><td>Szerda</td><td>11.00</td><td>11:00:00</td><td>15:49:00</td><td>előtte</td></tr>",
                            "<tr><td>227</td><td>Kedd</td><td>14.00</td><td>14:00:00</td><td>15:49:00</td><td>előtte</td></tr>",
                            "</table>"
                        ]
                    }
>>>>>>> 39975290e750e7d196e84bfb55733b2e17a3673e
                }
            ],
            "execution_count": 5
        }
    ]
}