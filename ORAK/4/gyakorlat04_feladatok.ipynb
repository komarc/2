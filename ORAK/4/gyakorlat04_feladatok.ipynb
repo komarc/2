{
    "metadata": {
        "kernelspec": {
            "name": "SQL",
            "display_name": "SQL",
            "language": "sql"
        },
        "language_info": {
            "name": "sql",
            "version": ""
        }
    },
    "nbformat_minor": 2,
    "nbformat": 4,
    "cells": [
        {
            "cell_type": "markdown",
            "source": [
                "1. <span style=\"background-color: rgb(255, 255, 255); color: rgb(0, 0, 0); font-family: &quot;Open Sans&quot;, sans-serif; font-size: 14.44px;\">Készítsünk listát arról, hogy ügyfelenként (LOGIN), azon belül szállítási módonként hány megrendelés történt!&nbsp;</span> \n",
                "\n",
                "a. A lista tartalmazza a részösszegeket és a végösszeget is!  \n",
                "b. Használjuk a ROLLUP záradékot!"
            ],
            "metadata": {
                "azdata_cell_guid": "363cd270-6577-449b-9c89-d4b7c7972d52"
            },
            "attachments": {}
        },
        {
            "cell_type": "code",
            "source": [
                "select LOGIN,SZALL_MOD,count(*) as 'megrendelések száma'\r\n",
                "from Rendeles\r\n",
                "where LOGIN = 'tibor2'\r\n",
                "group by ROLLUP (LOGIN, SZALL_MOD)"
            ],
            "metadata": {
                "azdata_cell_guid": "6ab9f633-a3b5-48c9-a1dc-4fb8235ae85b",
                "language": "sql"
            },
            "outputs": [
                {
                    "output_type": "display_data",
                    "data": {
                        "text/html": "(5 rows affected)"
                    },
                    "metadata": {}
                },
                {
                    "output_type": "display_data",
                    "data": {
                        "text/html": "Total execution time: 00:00:01.030"
                    },
                    "metadata": {}
                },
                {
                    "output_type": "execute_result",
                    "execution_count": 9,
                    "data": {
                        "application/vnd.dataresource+json": {
                            "schema": {
                                "fields": [
                                    {
                                        "name": "LOGIN"
                                    },
                                    {
                                        "name": "SZALL_MOD"
                                    },
                                    {
                                        "name": "megrendelések száma"
                                    }
                                ]
                            },
                            "data": [
                                {
                                    "LOGIN": "tibor2",
                                    "SZALL_MOD": "GLS",
                                    "megrendelések száma": "7"
                                },
                                {
                                    "LOGIN": "tibor2",
                                    "SZALL_MOD": "Posta",
                                    "megrendelések száma": "7"
                                },
                                {
                                    "LOGIN": "tibor2",
                                    "SZALL_MOD": "Személyes átvétel",
                                    "megrendelések száma": "11"
                                },
                                {
                                    "LOGIN": "tibor2",
                                    "SZALL_MOD": "NULL",
                                    "megrendelések száma": "25"
                                },
                                {
                                    "LOGIN": "NULL",
                                    "SZALL_MOD": "NULL",
                                    "megrendelések száma": "25"
                                }
                            ]
                        },
                        "text/html": "<table><tr><th>LOGIN</th><th>SZALL_MOD</th><th>megrendelések száma</th></tr><tr><td>tibor2</td><td>GLS</td><td>7</td></tr><tr><td>tibor2</td><td>Posta</td><td>7</td></tr><tr><td>tibor2</td><td>Személyes átvétel</td><td>11</td></tr><tr><td>tibor2</td><td>NULL</td><td>25</td></tr><tr><td>NULL</td><td>NULL</td><td>25</td></tr></table>"
                    },
                    "metadata": {}
                }
            ],
            "execution_count": 9
        },
        {
            "cell_type": "markdown",
            "source": [
                "2. <span style=\"background-color: rgb(255, 255, 255); color: rgb(0, 0, 0); font-family: &quot;Open Sans&quot;, sans-serif; font-size: 14.44px;\">Készítsünk listát a termékek számáról a következő csoportosítási szempontok szerint:<br>kategória azonosító, raktárkód, raktárkód+mennyiségi egység!</span>\n",
                "\n",
                "a. A listát szűrjük azokra a csoportokra, ahol a termékek száma legalább 6!"
            ],
            "metadata": {
                "azdata_cell_guid": "ea75c103-911f-41a3-a32c-3d40fb3e4e4a"
            },
            "attachments": {}
        },
        {
            "cell_type": "code",
            "source": [
                "select KAT_ID, RAKTAR_KOD, cast(RAKTAR_KOD as nvarchar)+MEGYS as 'darabszám'\r\n",
                "from Termek\r\n",
                "group by rollup (KAT_ID, RAKTAR_KOD, MEGYS)"
            ],
            "metadata": {
                "azdata_cell_guid": "222b9618-a8e8-42b4-a8e8-d002257122b7",
                "language": "sql",
                "tags": []
            },
            "outputs": [
                {
                    "output_type": "display_data",
                    "data": {
                        "text/html": "(801 rows affected)"
                    },
                    "metadata": {}
                },
                {
                    "output_type": "display_data",
                    "data": {
                        "text/html": "Total execution time: 00:00:03.176"
                    },
                    "metadata": {}
                },
                {
                    "output_type": "execute_result",
                    "execution_count": 17,
                    "data": {
                        "application/vnd.dataresource+json": {
                            "schema": {
                                "fields": [
                                    {
                                        "name": "KAT_ID"
                                    },
                                    {
                                        "name": "RAKTAR_KOD"
                                    },
                                    {
                                        "name": "darabszám"
                                    }
                                ]
                            },
                            "data": [
                                {
                                    "KAT_ID": "4",
                                    "RAKTAR_KOD": "5",
                                    "darabszám": "5db"
                                },
                                {
                                    "KAT_ID": "4",
                                    "RAKTAR_KOD": "5",
                                    "darabszám": "NULL"
                                },
                                {
                                    "KAT_ID": "4",
                                    "RAKTAR_KOD": "6",
                                    "darabszám": "6db"
                                },
                                {
                                    "KAT_ID": "4",
                                    "RAKTAR_KOD": "6",
                                    "darabszám": "NULL"
                                },
                                {
                                    "KAT_ID": "4",
                                    "RAKTAR_KOD": "7",
                                    "darabszám": "7db"
                                },
                                {
                                    "KAT_ID": "4",
                                    "RAKTAR_KOD": "7",
                                    "darabszám": "NULL"
                                },
                                {
                                    "KAT_ID": "4",
                                    "RAKTAR_KOD": "8",
                                    "darabszám": "8db"
                                },
                                {
                                    "KAT_ID": "4",
                                    "RAKTAR_KOD": "8",
                                    "darabszám": "NULL"
                                },
                                {
                                    "KAT_ID": "4",
                                    "RAKTAR_KOD": "9",
                                    "darabszám": "9db"
                                },
                                {
                                    "KAT_ID": "4",
                                    "RAKTAR_KOD": "9",
                                    "darabszám": "NULL"
                                },
                                {
                                    "KAT_ID": "4",
                                    "RAKTAR_KOD": "NULL",
                                    "darabszám": "NULL"
                                },
                                {
                                    "KAT_ID": "5",
                                    "RAKTAR_KOD": "5",
                                    "darabszám": "5db"
                                },
                                {
                                    "KAT_ID": "5",
                                    "RAKTAR_KOD": "5",
                                    "darabszám": "NULL"
                                },
                                {
                                    "KAT_ID": "5",
                                    "RAKTAR_KOD": "9",
                                    "darabszám": "9db"
                                },
                                {
                                    "KAT_ID": "5",
                                    "RAKTAR_KOD": "9",
                                    "darabszám": "NULL"
                                },
                                {
                                    "KAT_ID": "5",
                                    "RAKTAR_KOD": "NULL",
                                    "darabszám": "NULL"
                                },
                                {
                                    "KAT_ID": "6",
                                    "RAKTAR_KOD": "6",
                                    "darabszám": "6db"
                                },
                                {
                                    "KAT_ID": "6",
                                    "RAKTAR_KOD": "6",
                                    "darabszám": "NULL"
                                },
                                {
                                    "KAT_ID": "6",
                                    "RAKTAR_KOD": "7",
                                    "darabszám": "7db"
                                },
                                {
                                    "KAT_ID": "6",
                                    "RAKTAR_KOD": "7",
                                    "darabszám": "7tekercs"
                                },
                                {
                                    "KAT_ID": "6",
                                    "RAKTAR_KOD": "7",
                                    "darabszám": "NULL"
                                },
                                {
                                    "KAT_ID": "6",
                                    "RAKTAR_KOD": "8",
                                    "darabszám": "8db"
                                },
                                {
                                    "KAT_ID": "6",
                                    "RAKTAR_KOD": "8",
                                    "darabszám": "NULL"
                                },
                                {
                                    "KAT_ID": "6",
                                    "RAKTAR_KOD": "9",
                                    "darabszám": "9db"
                                },
                                {
                                    "KAT_ID": "6",
                                    "RAKTAR_KOD": "9",
                                    "darabszám": "NULL"
                                },
                                {
                                    "KAT_ID": "6",
                                    "RAKTAR_KOD": "NULL",
                                    "darabszám": "NULL"
                                },
                                {
                                    "KAT_ID": "7",
                                    "RAKTAR_KOD": "7",
                                    "darabszám": "7db"
                                },
                                {
                                    "KAT_ID": "7",
                                    "RAKTAR_KOD": "7",
                                    "darabszám": "NULL"
                                },
                                {
                                    "KAT_ID": "7",
                                    "RAKTAR_KOD": "8",
                                    "darabszám": "8db"
                                },
                                {
                                    "KAT_ID": "7",
                                    "RAKTAR_KOD": "8",
                                    "darabszám": "NULL"
                                },
                                {
                                    "KAT_ID": "7",
                                    "RAKTAR_KOD": "NULL",
                                    "darabszám": "NULL"
                                },
                                {
                                    "KAT_ID": "8",
                                    "RAKTAR_KOD": "3",
                                    "darabszám": "3db"
                                },
                                {
                                    "KAT_ID": "8",
                                    "RAKTAR_KOD": "3",
                                    "darabszám": "NULL"
                                },
                                {
                                    "KAT_ID": "8",
                                    "RAKTAR_KOD": "4",
                                    "darabszám": "4db"
                                },
                                {
                                    "KAT_ID": "8",
                                    "RAKTAR_KOD": "4",
                                    "darabszám": "NULL"
                                },
                                {
                                    "KAT_ID": "8",
                                    "RAKTAR_KOD": "NULL",
                                    "darabszám": "NULL"
                                },
                                {
                                    "KAT_ID": "9",
                                    "RAKTAR_KOD": "6",
                                    "darabszám": "6db"
                                },
                                {
                                    "KAT_ID": "9",
                                    "RAKTAR_KOD": "6",
                                    "darabszám": "NULL"
                                },
                                {
                                    "KAT_ID": "9",
                                    "RAKTAR_KOD": "9",
                                    "darabszám": "9db"
                                },
                                {
                                    "KAT_ID": "9",
                                    "RAKTAR_KOD": "9",
                                    "darabszám": "NULL"
                                },
                                {
                                    "KAT_ID": "9",
                                    "RAKTAR_KOD": "NULL",
                                    "darabszám": "NULL"
                                },
                                {
                                    "KAT_ID": "10",
                                    "RAKTAR_KOD": "9",
                                    "darabszám": "9db"
                                },
                                {
                                    "KAT_ID": "10",
                                    "RAKTAR_KOD": "9",
                                    "darabszám": "NULL"
                                },
                                {
                                    "KAT_ID": "10",
                                    "RAKTAR_KOD": "NULL",
                                    "darabszám": "NULL"
                                },
                                {
                                    "KAT_ID": "11",
                                    "RAKTAR_KOD": "8",
                                    "darabszám": "8db"
                                },
                                {
                                    "KAT_ID": "11",
                                    "RAKTAR_KOD": "8",
                                    "darabszám": "NULL"
                                },
                                {
                                    "KAT_ID": "11",
                                    "RAKTAR_KOD": "NULL",
                                    "darabszám": "NULL"
                                },
                                {
                                    "KAT_ID": "12",
                                    "RAKTAR_KOD": "5",
                                    "darabszám": "5db"
                                },
                                {
                                    "KAT_ID": "12",
                                    "RAKTAR_KOD": "5",
                                    "darabszám": "NULL"
                                },
                                {
                                    "KAT_ID": "12",
                                    "RAKTAR_KOD": "NULL",
                                    "darabszám": "NULL"
                                },
                                {
                                    "KAT_ID": "13",
                                    "RAKTAR_KOD": "5",
                                    "darabszám": "5db"
                                },
                                {
                                    "KAT_ID": "13",
                                    "RAKTAR_KOD": "5",
                                    "darabszám": "NULL"
                                },
                                {
                                    "KAT_ID": "13",
                                    "RAKTAR_KOD": "8",
                                    "darabszám": "8db"
                                },
                                {
                                    "KAT_ID": "13",
                                    "RAKTAR_KOD": "8",
                                    "darabszám": "NULL"
                                },
                                {
                                    "KAT_ID": "13",
                                    "RAKTAR_KOD": "NULL",
                                    "darabszám": "NULL"
                                },
                                {
                                    "KAT_ID": "14",
                                    "RAKTAR_KOD": "6",
                                    "darabszám": "6db"
                                },
                                {
                                    "KAT_ID": "14",
                                    "RAKTAR_KOD": "6",
                                    "darabszám": "NULL"
                                },
                                {
                                    "KAT_ID": "14",
                                    "RAKTAR_KOD": "7",
                                    "darabszám": "7db"
                                },
                                {
                                    "KAT_ID": "14",
                                    "RAKTAR_KOD": "7",
                                    "darabszám": "NULL"
                                },
                                {
                                    "KAT_ID": "14",
                                    "RAKTAR_KOD": "8",
                                    "darabszám": "8db"
                                },
                                {
                                    "KAT_ID": "14",
                                    "RAKTAR_KOD": "8",
                                    "darabszám": "NULL"
                                },
                                {
                                    "KAT_ID": "14",
                                    "RAKTAR_KOD": "NULL",
                                    "darabszám": "NULL"
                                },
                                {
                                    "KAT_ID": "15",
                                    "RAKTAR_KOD": "9",
                                    "darabszám": "9db"
                                },
                                {
                                    "KAT_ID": "15",
                                    "RAKTAR_KOD": "9",
                                    "darabszám": "NULL"
                                },
                                {
                                    "KAT_ID": "15",
                                    "RAKTAR_KOD": "NULL",
                                    "darabszám": "NULL"
                                },
                                {
                                    "KAT_ID": "16",
                                    "RAKTAR_KOD": "5",
                                    "darabszám": "5db"
                                },
                                {
                                    "KAT_ID": "16",
                                    "RAKTAR_KOD": "5",
                                    "darabszám": "NULL"
                                },
                                {
                                    "KAT_ID": "16",
                                    "RAKTAR_KOD": "6",
                                    "darabszám": "6db"
                                },
                                {
                                    "KAT_ID": "16",
                                    "RAKTAR_KOD": "6",
                                    "darabszám": "NULL"
                                },
                                {
                                    "KAT_ID": "16",
                                    "RAKTAR_KOD": "7",
                                    "darabszám": "7db"
                                },
                                {
                                    "KAT_ID": "16",
                                    "RAKTAR_KOD": "7",
                                    "darabszám": "NULL"
                                },
                                {
                                    "KAT_ID": "16",
                                    "RAKTAR_KOD": "8",
                                    "darabszám": "8db"
                                },
                                {
                                    "KAT_ID": "16",
                                    "RAKTAR_KOD": "8",
                                    "darabszám": "NULL"
                                },
                                {
                                    "KAT_ID": "16",
                                    "RAKTAR_KOD": "9",
                                    "darabszám": "9db"
                                },
                                {
                                    "KAT_ID": "16",
                                    "RAKTAR_KOD": "9",
                                    "darabszám": "NULL"
                                },
                                {
                                    "KAT_ID": "16",
                                    "RAKTAR_KOD": "NULL",
                                    "darabszám": "NULL"
                                },
                                {
                                    "KAT_ID": "17",
                                    "RAKTAR_KOD": "8",
                                    "darabszám": "8db"
                                },
                                {
                                    "KAT_ID": "17",
                                    "RAKTAR_KOD": "8",
                                    "darabszám": "NULL"
                                },
                                {
                                    "KAT_ID": "17",
                                    "RAKTAR_KOD": "NULL",
                                    "darabszám": "NULL"
                                },
                                {
                                    "KAT_ID": "18",
                                    "RAKTAR_KOD": "8",
                                    "darabszám": "8csomag"
                                },
                                {
                                    "KAT_ID": "18",
                                    "RAKTAR_KOD": "8",
                                    "darabszám": "8db"
                                },
                                {
                                    "KAT_ID": "18",
                                    "RAKTAR_KOD": "8",
                                    "darabszám": "NULL"
                                },
                                {
                                    "KAT_ID": "18",
                                    "RAKTAR_KOD": "NULL",
                                    "darabszám": "NULL"
                                },
                                {
                                    "KAT_ID": "19",
                                    "RAKTAR_KOD": "5",
                                    "darabszám": "5db"
                                },
                                {
                                    "KAT_ID": "19",
                                    "RAKTAR_KOD": "5",
                                    "darabszám": "NULL"
                                },
                                {
                                    "KAT_ID": "19",
                                    "RAKTAR_KOD": "6",
                                    "darabszám": "6db"
                                },
                                {
                                    "KAT_ID": "19",
                                    "RAKTAR_KOD": "6",
                                    "darabszám": "NULL"
                                },
                                {
                                    "KAT_ID": "19",
                                    "RAKTAR_KOD": "7",
                                    "darabszám": "7db"
                                },
                                {
                                    "KAT_ID": "19",
                                    "RAKTAR_KOD": "7",
                                    "darabszám": "NULL"
                                },
                                {
                                    "KAT_ID": "19",
                                    "RAKTAR_KOD": "8",
                                    "darabszám": "8db"
                                },
                                {
                                    "KAT_ID": "19",
                                    "RAKTAR_KOD": "8",
                                    "darabszám": "NULL"
                                },
                                {
                                    "KAT_ID": "19",
                                    "RAKTAR_KOD": "9",
                                    "darabszám": "9db"
                                },
                                {
                                    "KAT_ID": "19",
                                    "RAKTAR_KOD": "9",
                                    "darabszám": "NULL"
                                },
                                {
                                    "KAT_ID": "19",
                                    "RAKTAR_KOD": "NULL",
                                    "darabszám": "NULL"
                                },
                                {
                                    "KAT_ID": "20",
                                    "RAKTAR_KOD": "7",
                                    "darabszám": "7db"
                                },
                                {
                                    "KAT_ID": "20",
                                    "RAKTAR_KOD": "7",
                                    "darabszám": "NULL"
                                },
                                {
                                    "KAT_ID": "20",
                                    "RAKTAR_KOD": "9",
                                    "darabszám": "9db"
                                },
                                {
                                    "KAT_ID": "20",
                                    "RAKTAR_KOD": "9",
                                    "darabszám": "NULL"
                                },
                                {
                                    "KAT_ID": "20",
                                    "RAKTAR_KOD": "NULL",
                                    "darabszám": "NULL"
                                },
                                {
                                    "KAT_ID": "21",
                                    "RAKTAR_KOD": "5",
                                    "darabszám": "5csomag"
                                },
                                {
                                    "KAT_ID": "21",
                                    "RAKTAR_KOD": "5",
                                    "darabszám": "5ív"
                                },
                                {
                                    "KAT_ID": "21",
                                    "RAKTAR_KOD": "5",
                                    "darabszám": "NULL"
                                },
                                {
                                    "KAT_ID": "21",
                                    "RAKTAR_KOD": "6",
                                    "darabszám": "6ív"
                                },
                                {
                                    "KAT_ID": "21",
                                    "RAKTAR_KOD": "6",
                                    "darabszám": "NULL"
                                },
                                {
                                    "KAT_ID": "21",
                                    "RAKTAR_KOD": "9",
                                    "darabszám": "9Ív"
                                },
                                {
                                    "KAT_ID": "21",
                                    "RAKTAR_KOD": "9",
                                    "darabszám": "NULL"
                                },
                                {
                                    "KAT_ID": "21",
                                    "RAKTAR_KOD": "NULL",
                                    "darabszám": "NULL"
                                },
                                {
                                    "KAT_ID": "22",
                                    "RAKTAR_KOD": "7",
                                    "darabszám": "7db"
                                },
                                {
                                    "KAT_ID": "22",
                                    "RAKTAR_KOD": "7",
                                    "darabszám": "NULL"
                                },
                                {
                                    "KAT_ID": "22",
                                    "RAKTAR_KOD": "8",
                                    "darabszám": "8csomag"
                                },
                                {
                                    "KAT_ID": "22",
                                    "RAKTAR_KOD": "8",
                                    "darabszám": "NULL"
                                },
                                {
                                    "KAT_ID": "22",
                                    "RAKTAR_KOD": "NULL",
                                    "darabszám": "NULL"
                                },
                                {
                                    "KAT_ID": "24",
                                    "RAKTAR_KOD": "5",
                                    "darabszám": "5db"
                                },
                                {
                                    "KAT_ID": "24",
                                    "RAKTAR_KOD": "5",
                                    "darabszám": "5ív"
                                },
                                {
                                    "KAT_ID": "24",
                                    "RAKTAR_KOD": "5",
                                    "darabszám": "NULL"
                                },
                                {
                                    "KAT_ID": "24",
                                    "RAKTAR_KOD": "6",
                                    "darabszám": "6db"
                                },
                                {
                                    "KAT_ID": "24",
                                    "RAKTAR_KOD": "6",
                                    "darabszám": "NULL"
                                },
                                {
                                    "KAT_ID": "24",
                                    "RAKTAR_KOD": "7",
                                    "darabszám": "7db"
                                },
                                {
                                    "KAT_ID": "24",
                                    "RAKTAR_KOD": "7",
                                    "darabszám": "NULL"
                                },
                                {
                                    "KAT_ID": "24",
                                    "RAKTAR_KOD": "9",
                                    "darabszám": "9db"
                                },
                                {
                                    "KAT_ID": "24",
                                    "RAKTAR_KOD": "9",
                                    "darabszám": "9ív"
                                },
                                {
                                    "KAT_ID": "24",
                                    "RAKTAR_KOD": "9",
                                    "darabszám": "NULL"
                                },
                                {
                                    "KAT_ID": "24",
                                    "RAKTAR_KOD": "NULL",
                                    "darabszám": "NULL"
                                },
                                {
                                    "KAT_ID": "25",
                                    "RAKTAR_KOD": "5",
                                    "darabszám": "5db"
                                },
                                {
                                    "KAT_ID": "25",
                                    "RAKTAR_KOD": "5",
                                    "darabszám": "NULL"
                                },
                                {
                                    "KAT_ID": "25",
                                    "RAKTAR_KOD": "6",
                                    "darabszám": "6db"
                                },
                                {
                                    "KAT_ID": "25",
                                    "RAKTAR_KOD": "6",
                                    "darabszám": "NULL"
                                },
                                {
                                    "KAT_ID": "25",
                                    "RAKTAR_KOD": "7",
                                    "darabszám": "7db"
                                },
                                {
                                    "KAT_ID": "25",
                                    "RAKTAR_KOD": "7",
                                    "darabszám": "NULL"
                                },
                                {
                                    "KAT_ID": "25",
                                    "RAKTAR_KOD": "8",
                                    "darabszám": "8db"
                                },
                                {
                                    "KAT_ID": "25",
                                    "RAKTAR_KOD": "8",
                                    "darabszám": "NULL"
                                },
                                {
                                    "KAT_ID": "25",
                                    "RAKTAR_KOD": "NULL",
                                    "darabszám": "NULL"
                                },
                                {
                                    "KAT_ID": "26",
                                    "RAKTAR_KOD": "9",
                                    "darabszám": "9ív"
                                },
                                {
                                    "KAT_ID": "26",
                                    "RAKTAR_KOD": "9",
                                    "darabszám": "NULL"
                                },
                                {
                                    "KAT_ID": "26",
                                    "RAKTAR_KOD": "NULL",
                                    "darabszám": "NULL"
                                },
                                {
                                    "KAT_ID": "27",
                                    "RAKTAR_KOD": "5",
                                    "darabszám": "5db"
                                },
                                {
                                    "KAT_ID": "27",
                                    "RAKTAR_KOD": "5",
                                    "darabszám": "NULL"
                                },
                                {
                                    "KAT_ID": "27",
                                    "RAKTAR_KOD": "7",
                                    "darabszám": "7db"
                                },
                                {
                                    "KAT_ID": "27",
                                    "RAKTAR_KOD": "7",
                                    "darabszám": "NULL"
                                },
                                {
                                    "KAT_ID": "27",
                                    "RAKTAR_KOD": "9",
                                    "darabszám": "9db"
                                },
                                {
                                    "KAT_ID": "27",
                                    "RAKTAR_KOD": "9",
                                    "darabszám": "NULL"
                                },
                                {
                                    "KAT_ID": "27",
                                    "RAKTAR_KOD": "NULL",
                                    "darabszám": "NULL"
                                },
                                {
                                    "KAT_ID": "28",
                                    "RAKTAR_KOD": "6",
                                    "darabszám": "6db"
                                },
                                {
                                    "KAT_ID": "28",
                                    "RAKTAR_KOD": "6",
                                    "darabszám": "NULL"
                                },
                                {
                                    "KAT_ID": "28",
                                    "RAKTAR_KOD": "8",
                                    "darabszám": "8db"
                                },
                                {
                                    "KAT_ID": "28",
                                    "RAKTAR_KOD": "8",
                                    "darabszám": "NULL"
                                },
                                {
                                    "KAT_ID": "28",
                                    "RAKTAR_KOD": "NULL",
                                    "darabszám": "NULL"
                                },
                                {
                                    "KAT_ID": "29",
                                    "RAKTAR_KOD": "9",
                                    "darabszám": "9db"
                                },
                                {
                                    "KAT_ID": "29",
                                    "RAKTAR_KOD": "9",
                                    "darabszám": "NULL"
                                },
                                {
                                    "KAT_ID": "29",
                                    "RAKTAR_KOD": "NULL",
                                    "darabszám": "NULL"
                                },
                                {
                                    "KAT_ID": "30",
                                    "RAKTAR_KOD": "5",
                                    "darabszám": "5db"
                                },
                                {
                                    "KAT_ID": "30",
                                    "RAKTAR_KOD": "5",
                                    "darabszám": "NULL"
                                },
                                {
                                    "KAT_ID": "30",
                                    "RAKTAR_KOD": "6",
                                    "darabszám": "6db"
                                },
                                {
                                    "KAT_ID": "30",
                                    "RAKTAR_KOD": "6",
                                    "darabszám": "NULL"
                                },
                                {
                                    "KAT_ID": "30",
                                    "RAKTAR_KOD": "7",
                                    "darabszám": "7db"
                                },
                                {
                                    "KAT_ID": "30",
                                    "RAKTAR_KOD": "7",
                                    "darabszám": "NULL"
                                },
                                {
                                    "KAT_ID": "30",
                                    "RAKTAR_KOD": "8",
                                    "darabszám": "8db"
                                },
                                {
                                    "KAT_ID": "30",
                                    "RAKTAR_KOD": "8",
                                    "darabszám": "NULL"
                                },
                                {
                                    "KAT_ID": "30",
                                    "RAKTAR_KOD": "9",
                                    "darabszám": "9db"
                                },
                                {
                                    "KAT_ID": "30",
                                    "RAKTAR_KOD": "9",
                                    "darabszám": "NULL"
                                },
                                {
                                    "KAT_ID": "30",
                                    "RAKTAR_KOD": "NULL",
                                    "darabszám": "NULL"
                                },
                                {
                                    "KAT_ID": "31",
                                    "RAKTAR_KOD": "5",
                                    "darabszám": "5db"
                                },
                                {
                                    "KAT_ID": "31",
                                    "RAKTAR_KOD": "5",
                                    "darabszám": "NULL"
                                },
                                {
                                    "KAT_ID": "31",
                                    "RAKTAR_KOD": "NULL",
                                    "darabszám": "NULL"
                                },
                                {
                                    "KAT_ID": "32",
                                    "RAKTAR_KOD": "6",
                                    "darabszám": "6db"
                                },
                                {
                                    "KAT_ID": "32",
                                    "RAKTAR_KOD": "6",
                                    "darabszám": "NULL"
                                },
                                {
                                    "KAT_ID": "32",
                                    "RAKTAR_KOD": "7",
                                    "darabszám": "7db"
                                },
                                {
                                    "KAT_ID": "32",
                                    "RAKTAR_KOD": "7",
                                    "darabszám": "NULL"
                                },
                                {
                                    "KAT_ID": "32",
                                    "RAKTAR_KOD": "NULL",
                                    "darabszám": "NULL"
                                },
                                {
                                    "KAT_ID": "33",
                                    "RAKTAR_KOD": "7",
                                    "darabszám": "7db"
                                },
                                {
                                    "KAT_ID": "33",
                                    "RAKTAR_KOD": "7",
                                    "darabszám": "NULL"
                                },
                                {
                                    "KAT_ID": "33",
                                    "RAKTAR_KOD": "NULL",
                                    "darabszám": "NULL"
                                },
                                {
                                    "KAT_ID": "34",
                                    "RAKTAR_KOD": "9",
                                    "darabszám": "9db"
                                },
                                {
                                    "KAT_ID": "34",
                                    "RAKTAR_KOD": "9",
                                    "darabszám": "NULL"
                                },
                                {
                                    "KAT_ID": "34",
                                    "RAKTAR_KOD": "NULL",
                                    "darabszám": "NULL"
                                },
                                {
                                    "KAT_ID": "35",
                                    "RAKTAR_KOD": "1",
                                    "darabszám": "1db"
                                },
                                {
                                    "KAT_ID": "35",
                                    "RAKTAR_KOD": "1",
                                    "darabszám": "NULL"
                                },
                                {
                                    "KAT_ID": "35",
                                    "RAKTAR_KOD": "2",
                                    "darabszám": "2db"
                                },
                                {
                                    "KAT_ID": "35",
                                    "RAKTAR_KOD": "2",
                                    "darabszám": "NULL"
                                },
                                {
                                    "KAT_ID": "35",
                                    "RAKTAR_KOD": "3",
                                    "darabszám": "3db"
                                },
                                {
                                    "KAT_ID": "35",
                                    "RAKTAR_KOD": "3",
                                    "darabszám": "NULL"
                                },
                                {
                                    "KAT_ID": "35",
                                    "RAKTAR_KOD": "4",
                                    "darabszám": "4db"
                                },
                                {
                                    "KAT_ID": "35",
                                    "RAKTAR_KOD": "4",
                                    "darabszám": "NULL"
                                },
                                {
                                    "KAT_ID": "35",
                                    "RAKTAR_KOD": "NULL",
                                    "darabszám": "NULL"
                                },
                                {
                                    "KAT_ID": "36",
                                    "RAKTAR_KOD": "5",
                                    "darabszám": "5csomag"
                                },
                                {
                                    "KAT_ID": "36",
                                    "RAKTAR_KOD": "5",
                                    "darabszám": "NULL"
                                },
                                {
                                    "KAT_ID": "36",
                                    "RAKTAR_KOD": "6",
                                    "darabszám": "6csomag"
                                },
                                {
                                    "KAT_ID": "36",
                                    "RAKTAR_KOD": "6",
                                    "darabszám": "NULL"
                                },
                                {
                                    "KAT_ID": "36",
                                    "RAKTAR_KOD": "9",
                                    "darabszám": "9csomag"
                                },
                                {
                                    "KAT_ID": "36",
                                    "RAKTAR_KOD": "9",
                                    "darabszám": "NULL"
                                },
                                {
                                    "KAT_ID": "36",
                                    "RAKTAR_KOD": "NULL",
                                    "darabszám": "NULL"
                                },
                                {
                                    "KAT_ID": "37",
                                    "RAKTAR_KOD": "1",
                                    "darabszám": "1db"
                                },
                                {
                                    "KAT_ID": "37",
                                    "RAKTAR_KOD": "1",
                                    "darabszám": "NULL"
                                },
                                {
                                    "KAT_ID": "37",
                                    "RAKTAR_KOD": "NULL",
                                    "darabszám": "NULL"
                                },
                                {
                                    "KAT_ID": "38",
                                    "RAKTAR_KOD": "1",
                                    "darabszám": "1db"
                                },
                                {
                                    "KAT_ID": "38",
                                    "RAKTAR_KOD": "1",
                                    "darabszám": "NULL"
                                },
                                {
                                    "KAT_ID": "38",
                                    "RAKTAR_KOD": "NULL",
                                    "darabszám": "NULL"
                                },
                                {
                                    "KAT_ID": "39",
                                    "RAKTAR_KOD": "1",
                                    "darabszám": "1db"
                                },
                                {
                                    "KAT_ID": "39",
                                    "RAKTAR_KOD": "1",
                                    "darabszám": "NULL"
                                },
                                {
                                    "KAT_ID": "39",
                                    "RAKTAR_KOD": "3",
                                    "darabszám": "3db"
                                },
                                {
                                    "KAT_ID": "39",
                                    "RAKTAR_KOD": "3",
                                    "darabszám": "NULL"
                                },
                                {
                                    "KAT_ID": "39",
                                    "RAKTAR_KOD": "NULL",
                                    "darabszám": "NULL"
                                },
                                {
                                    "KAT_ID": "40",
                                    "RAKTAR_KOD": "6",
                                    "darabszám": "6db"
                                },
                                {
                                    "KAT_ID": "40",
                                    "RAKTAR_KOD": "6",
                                    "darabszám": "NULL"
                                },
                                {
                                    "KAT_ID": "40",
                                    "RAKTAR_KOD": "NULL",
                                    "darabszám": "NULL"
                                },
                                {
                                    "KAT_ID": "41",
                                    "RAKTAR_KOD": "5",
                                    "darabszám": "5db"
                                },
                                {
                                    "KAT_ID": "41",
                                    "RAKTAR_KOD": "5",
                                    "darabszám": "NULL"
                                },
                                {
                                    "KAT_ID": "41",
                                    "RAKTAR_KOD": "7",
                                    "darabszám": "7db"
                                },
                                {
                                    "KAT_ID": "41",
                                    "RAKTAR_KOD": "7",
                                    "darabszám": "NULL"
                                },
                                {
                                    "KAT_ID": "41",
                                    "RAKTAR_KOD": "8",
                                    "darabszám": "8db"
                                },
                                {
                                    "KAT_ID": "41",
                                    "RAKTAR_KOD": "8",
                                    "darabszám": "NULL"
                                },
                                {
                                    "KAT_ID": "41",
                                    "RAKTAR_KOD": "9",
                                    "darabszám": "9csomag"
                                },
                                {
                                    "KAT_ID": "41",
                                    "RAKTAR_KOD": "9",
                                    "darabszám": "9db"
                                },
                                {
                                    "KAT_ID": "41",
                                    "RAKTAR_KOD": "9",
                                    "darabszám": "NULL"
                                },
                                {
                                    "KAT_ID": "41",
                                    "RAKTAR_KOD": "NULL",
                                    "darabszám": "NULL"
                                },
                                {
                                    "KAT_ID": "42",
                                    "RAKTAR_KOD": "7",
                                    "darabszám": "7db"
                                },
                                {
                                    "KAT_ID": "42",
                                    "RAKTAR_KOD": "7",
                                    "darabszám": "NULL"
                                },
                                {
                                    "KAT_ID": "42",
                                    "RAKTAR_KOD": "NULL",
                                    "darabszám": "NULL"
                                },
                                {
                                    "KAT_ID": "43",
                                    "RAKTAR_KOD": "8",
                                    "darabszám": "8ív"
                                },
                                {
                                    "KAT_ID": "43",
                                    "RAKTAR_KOD": "8",
                                    "darabszám": "NULL"
                                },
                                {
                                    "KAT_ID": "43",
                                    "RAKTAR_KOD": "9",
                                    "darabszám": "9ív"
                                },
                                {
                                    "KAT_ID": "43",
                                    "RAKTAR_KOD": "9",
                                    "darabszám": "NULL"
                                },
                                {
                                    "KAT_ID": "43",
                                    "RAKTAR_KOD": "NULL",
                                    "darabszám": "NULL"
                                },
                                {
                                    "KAT_ID": "44",
                                    "RAKTAR_KOD": "9",
                                    "darabszám": "9db"
                                },
                                {
                                    "KAT_ID": "44",
                                    "RAKTAR_KOD": "9",
                                    "darabszám": "NULL"
                                },
                                {
                                    "KAT_ID": "44",
                                    "RAKTAR_KOD": "NULL",
                                    "darabszám": "NULL"
                                },
                                {
                                    "KAT_ID": "45",
                                    "RAKTAR_KOD": "5",
                                    "darabszám": "5db"
                                },
                                {
                                    "KAT_ID": "45",
                                    "RAKTAR_KOD": "5",
                                    "darabszám": "NULL"
                                },
                                {
                                    "KAT_ID": "45",
                                    "RAKTAR_KOD": "6",
                                    "darabszám": "6db"
                                },
                                {
                                    "KAT_ID": "45",
                                    "RAKTAR_KOD": "6",
                                    "darabszám": "NULL"
                                },
                                {
                                    "KAT_ID": "45",
                                    "RAKTAR_KOD": "7",
                                    "darabszám": "7db"
                                },
                                {
                                    "KAT_ID": "45",
                                    "RAKTAR_KOD": "7",
                                    "darabszám": "NULL"
                                },
                                {
                                    "KAT_ID": "45",
                                    "RAKTAR_KOD": "8",
                                    "darabszám": "8db"
                                },
                                {
                                    "KAT_ID": "45",
                                    "RAKTAR_KOD": "8",
                                    "darabszám": "NULL"
                                },
                                {
                                    "KAT_ID": "45",
                                    "RAKTAR_KOD": "9",
                                    "darabszám": "9db"
                                },
                                {
                                    "KAT_ID": "45",
                                    "RAKTAR_KOD": "9",
                                    "darabszám": "NULL"
                                },
                                {
                                    "KAT_ID": "45",
                                    "RAKTAR_KOD": "NULL",
                                    "darabszám": "NULL"
                                },
                                {
                                    "KAT_ID": "46",
                                    "RAKTAR_KOD": "2",
                                    "darabszám": "2db"
                                },
                                {
                                    "KAT_ID": "46",
                                    "RAKTAR_KOD": "2",
                                    "darabszám": "NULL"
                                },
                                {
                                    "KAT_ID": "46",
                                    "RAKTAR_KOD": "6",
                                    "darabszám": "6db"
                                },
                                {
                                    "KAT_ID": "46",
                                    "RAKTAR_KOD": "6",
                                    "darabszám": "NULL"
                                },
                                {
                                    "KAT_ID": "46",
                                    "RAKTAR_KOD": "7",
                                    "darabszám": "7csomag"
                                },
                                {
                                    "KAT_ID": "46",
                                    "RAKTAR_KOD": "7",
                                    "darabszám": "7db"
                                },
                                {
                                    "KAT_ID": "46",
                                    "RAKTAR_KOD": "7",
                                    "darabszám": "NULL"
                                },
                                {
                                    "KAT_ID": "46",
                                    "RAKTAR_KOD": "9",
                                    "darabszám": "9db"
                                },
                                {
                                    "KAT_ID": "46",
                                    "RAKTAR_KOD": "9",
                                    "darabszám": "NULL"
                                },
                                {
                                    "KAT_ID": "46",
                                    "RAKTAR_KOD": "NULL",
                                    "darabszám": "NULL"
                                },
                                {
                                    "KAT_ID": "47",
                                    "RAKTAR_KOD": "6",
                                    "darabszám": "6db"
                                },
                                {
                                    "KAT_ID": "47",
                                    "RAKTAR_KOD": "6",
                                    "darabszám": "NULL"
                                },
                                {
                                    "KAT_ID": "47",
                                    "RAKTAR_KOD": "7",
                                    "darabszám": "7db"
                                },
                                {
                                    "KAT_ID": "47",
                                    "RAKTAR_KOD": "7",
                                    "darabszám": "NULL"
                                },
                                {
                                    "KAT_ID": "47",
                                    "RAKTAR_KOD": "9",
                                    "darabszám": "9db"
                                },
                                {
                                    "KAT_ID": "47",
                                    "RAKTAR_KOD": "9",
                                    "darabszám": "NULL"
                                },
                                {
                                    "KAT_ID": "47",
                                    "RAKTAR_KOD": "NULL",
                                    "darabszám": "NULL"
                                },
                                {
                                    "KAT_ID": "48",
                                    "RAKTAR_KOD": "7",
                                    "darabszám": "7db"
                                },
                                {
                                    "KAT_ID": "48",
                                    "RAKTAR_KOD": "7",
                                    "darabszám": "NULL"
                                },
                                {
                                    "KAT_ID": "48",
                                    "RAKTAR_KOD": "8",
                                    "darabszám": "8db"
                                },
                                {
                                    "KAT_ID": "48",
                                    "RAKTAR_KOD": "8",
                                    "darabszám": "NULL"
                                },
                                {
                                    "KAT_ID": "48",
                                    "RAKTAR_KOD": "NULL",
                                    "darabszám": "NULL"
                                },
                                {
                                    "KAT_ID": "49",
                                    "RAKTAR_KOD": "5",
                                    "darabszám": "5csomag"
                                },
                                {
                                    "KAT_ID": "49",
                                    "RAKTAR_KOD": "5",
                                    "darabszám": "NULL"
                                },
                                {
                                    "KAT_ID": "49",
                                    "RAKTAR_KOD": "8",
                                    "darabszám": "8csomag"
                                },
                                {
                                    "KAT_ID": "49",
                                    "RAKTAR_KOD": "8",
                                    "darabszám": "NULL"
                                },
                                {
                                    "KAT_ID": "49",
                                    "RAKTAR_KOD": "NULL",
                                    "darabszám": "NULL"
                                },
                                {
                                    "KAT_ID": "50",
                                    "RAKTAR_KOD": "7",
                                    "darabszám": "7csomag"
                                },
                                {
                                    "KAT_ID": "50",
                                    "RAKTAR_KOD": "7",
                                    "darabszám": "NULL"
                                },
                                {
                                    "KAT_ID": "50",
                                    "RAKTAR_KOD": "NULL",
                                    "darabszám": "NULL"
                                },
                                {
                                    "KAT_ID": "51",
                                    "RAKTAR_KOD": "7",
                                    "darabszám": "7csomag"
                                },
                                {
                                    "KAT_ID": "51",
                                    "RAKTAR_KOD": "7",
                                    "darabszám": "NULL"
                                },
                                {
                                    "KAT_ID": "51",
                                    "RAKTAR_KOD": "8",
                                    "darabszám": "8db"
                                },
                                {
                                    "KAT_ID": "51",
                                    "RAKTAR_KOD": "8",
                                    "darabszám": "NULL"
                                },
                                {
                                    "KAT_ID": "51",
                                    "RAKTAR_KOD": "9",
                                    "darabszám": "9csomag"
                                },
                                {
                                    "KAT_ID": "51",
                                    "RAKTAR_KOD": "9",
                                    "darabszám": "NULL"
                                },
                                {
                                    "KAT_ID": "51",
                                    "RAKTAR_KOD": "NULL",
                                    "darabszám": "NULL"
                                },
                                {
                                    "KAT_ID": "52",
                                    "RAKTAR_KOD": "5",
                                    "darabszám": "5db"
                                },
                                {
                                    "KAT_ID": "52",
                                    "RAKTAR_KOD": "5",
                                    "darabszám": "NULL"
                                },
                                {
                                    "KAT_ID": "52",
                                    "RAKTAR_KOD": "6",
                                    "darabszám": "6db"
                                },
                                {
                                    "KAT_ID": "52",
                                    "RAKTAR_KOD": "6",
                                    "darabszám": "NULL"
                                },
                                {
                                    "KAT_ID": "52",
                                    "RAKTAR_KOD": "7",
                                    "darabszám": "7db"
                                },
                                {
                                    "KAT_ID": "52",
                                    "RAKTAR_KOD": "7",
                                    "darabszám": "NULL"
                                },
                                {
                                    "KAT_ID": "52",
                                    "RAKTAR_KOD": "8",
                                    "darabszám": "8db"
                                },
                                {
                                    "KAT_ID": "52",
                                    "RAKTAR_KOD": "8",
                                    "darabszám": "NULL"
                                },
                                {
                                    "KAT_ID": "52",
                                    "RAKTAR_KOD": "9",
                                    "darabszám": "9db"
                                },
                                {
                                    "KAT_ID": "52",
                                    "RAKTAR_KOD": "9",
                                    "darabszám": "NULL"
                                },
                                {
                                    "KAT_ID": "52",
                                    "RAKTAR_KOD": "NULL",
                                    "darabszám": "NULL"
                                },
                                {
                                    "KAT_ID": "53",
                                    "RAKTAR_KOD": "9",
                                    "darabszám": "9csomag"
                                },
                                {
                                    "KAT_ID": "53",
                                    "RAKTAR_KOD": "9",
                                    "darabszám": "NULL"
                                },
                                {
                                    "KAT_ID": "53",
                                    "RAKTAR_KOD": "NULL",
                                    "darabszám": "NULL"
                                },
                                {
                                    "KAT_ID": "54",
                                    "RAKTAR_KOD": "1",
                                    "darabszám": "1db"
                                },
                                {
                                    "KAT_ID": "54",
                                    "RAKTAR_KOD": "1",
                                    "darabszám": "NULL"
                                },
                                {
                                    "KAT_ID": "54",
                                    "RAKTAR_KOD": "2",
                                    "darabszám": "2db"
                                },
                                {
                                    "KAT_ID": "54",
                                    "RAKTAR_KOD": "2",
                                    "darabszám": "NULL"
                                },
                                {
                                    "KAT_ID": "54",
                                    "RAKTAR_KOD": "3",
                                    "darabszám": "3db"
                                },
                                {
                                    "KAT_ID": "54",
                                    "RAKTAR_KOD": "3",
                                    "darabszám": "NULL"
                                },
                                {
                                    "KAT_ID": "54",
                                    "RAKTAR_KOD": "NULL",
                                    "darabszám": "NULL"
                                },
                                {
                                    "KAT_ID": "55",
                                    "RAKTAR_KOD": "1",
                                    "darabszám": "1db"
                                },
                                {
                                    "KAT_ID": "55",
                                    "RAKTAR_KOD": "1",
                                    "darabszám": "NULL"
                                },
                                {
                                    "KAT_ID": "55",
                                    "RAKTAR_KOD": "NULL",
                                    "darabszám": "NULL"
                                },
                                {
                                    "KAT_ID": "56",
                                    "RAKTAR_KOD": "1",
                                    "darabszám": "1db"
                                },
                                {
                                    "KAT_ID": "56",
                                    "RAKTAR_KOD": "1",
                                    "darabszám": "NULL"
                                },
                                {
                                    "KAT_ID": "56",
                                    "RAKTAR_KOD": "3",
                                    "darabszám": "3db"
                                },
                                {
                                    "KAT_ID": "56",
                                    "RAKTAR_KOD": "3",
                                    "darabszám": "NULL"
                                },
                                {
                                    "KAT_ID": "56",
                                    "RAKTAR_KOD": "NULL",
                                    "darabszám": "NULL"
                                },
                                {
                                    "KAT_ID": "57",
                                    "RAKTAR_KOD": "3",
                                    "darabszám": "3db"
                                },
                                {
                                    "KAT_ID": "57",
                                    "RAKTAR_KOD": "3",
                                    "darabszám": "NULL"
                                },
                                {
                                    "KAT_ID": "57",
                                    "RAKTAR_KOD": "NULL",
                                    "darabszám": "NULL"
                                },
                                {
                                    "KAT_ID": "58",
                                    "RAKTAR_KOD": "5",
                                    "darabszám": "5db"
                                },
                                {
                                    "KAT_ID": "58",
                                    "RAKTAR_KOD": "5",
                                    "darabszám": "NULL"
                                },
                                {
                                    "KAT_ID": "58",
                                    "RAKTAR_KOD": "7",
                                    "darabszám": "7db"
                                },
                                {
                                    "KAT_ID": "58",
                                    "RAKTAR_KOD": "7",
                                    "darabszám": "NULL"
                                },
                                {
                                    "KAT_ID": "58",
                                    "RAKTAR_KOD": "8",
                                    "darabszám": "8db"
                                },
                                {
                                    "KAT_ID": "58",
                                    "RAKTAR_KOD": "8",
                                    "darabszám": "NULL"
                                },
                                {
                                    "KAT_ID": "58",
                                    "RAKTAR_KOD": "NULL",
                                    "darabszám": "NULL"
                                },
                                {
                                    "KAT_ID": "59",
                                    "RAKTAR_KOD": "5",
                                    "darabszám": "5csomag"
                                },
                                {
                                    "KAT_ID": "59",
                                    "RAKTAR_KOD": "5",
                                    "darabszám": "NULL"
                                },
                                {
                                    "KAT_ID": "59",
                                    "RAKTAR_KOD": "6",
                                    "darabszám": "6db"
                                },
                                {
                                    "KAT_ID": "59",
                                    "RAKTAR_KOD": "6",
                                    "darabszám": "NULL"
                                },
                                {
                                    "KAT_ID": "59",
                                    "RAKTAR_KOD": "8",
                                    "darabszám": "8db"
                                },
                                {
                                    "KAT_ID": "59",
                                    "RAKTAR_KOD": "8",
                                    "darabszám": "NULL"
                                },
                                {
                                    "KAT_ID": "59",
                                    "RAKTAR_KOD": "9",
                                    "darabszám": "9csomag"
                                },
                                {
                                    "KAT_ID": "59",
                                    "RAKTAR_KOD": "9",
                                    "darabszám": "NULL"
                                },
                                {
                                    "KAT_ID": "59",
                                    "RAKTAR_KOD": "NULL",
                                    "darabszám": "NULL"
                                },
                                {
                                    "KAT_ID": "60",
                                    "RAKTAR_KOD": "6",
                                    "darabszám": "6db"
                                },
                                {
                                    "KAT_ID": "60",
                                    "RAKTAR_KOD": "6",
                                    "darabszám": "NULL"
                                },
                                {
                                    "KAT_ID": "60",
                                    "RAKTAR_KOD": "7",
                                    "darabszám": "7db"
                                },
                                {
                                    "KAT_ID": "60",
                                    "RAKTAR_KOD": "7",
                                    "darabszám": "NULL"
                                },
                                {
                                    "KAT_ID": "60",
                                    "RAKTAR_KOD": "9",
                                    "darabszám": "9db"
                                },
                                {
                                    "KAT_ID": "60",
                                    "RAKTAR_KOD": "9",
                                    "darabszám": "NULL"
                                },
                                {
                                    "KAT_ID": "60",
                                    "RAKTAR_KOD": "NULL",
                                    "darabszám": "NULL"
                                },
                                {
                                    "KAT_ID": "61",
                                    "RAKTAR_KOD": "8",
                                    "darabszám": "8db"
                                },
                                {
                                    "KAT_ID": "61",
                                    "RAKTAR_KOD": "8",
                                    "darabszám": "NULL"
                                },
                                {
                                    "KAT_ID": "61",
                                    "RAKTAR_KOD": "NULL",
                                    "darabszám": "NULL"
                                },
                                {
                                    "KAT_ID": "62",
                                    "RAKTAR_KOD": "9",
                                    "darabszám": "9db"
                                },
                                {
                                    "KAT_ID": "62",
                                    "RAKTAR_KOD": "9",
                                    "darabszám": "NULL"
                                },
                                {
                                    "KAT_ID": "62",
                                    "RAKTAR_KOD": "NULL",
                                    "darabszám": "NULL"
                                },
                                {
                                    "KAT_ID": "64",
                                    "RAKTAR_KOD": "6",
                                    "darabszám": "6db"
                                },
                                {
                                    "KAT_ID": "64",
                                    "RAKTAR_KOD": "6",
                                    "darabszám": "NULL"
                                },
                                {
                                    "KAT_ID": "64",
                                    "RAKTAR_KOD": "8",
                                    "darabszám": "8db"
                                },
                                {
                                    "KAT_ID": "64",
                                    "RAKTAR_KOD": "8",
                                    "darabszám": "NULL"
                                },
                                {
                                    "KAT_ID": "64",
                                    "RAKTAR_KOD": "NULL",
                                    "darabszám": "NULL"
                                },
                                {
                                    "KAT_ID": "65",
                                    "RAKTAR_KOD": "7",
                                    "darabszám": "7db"
                                },
                                {
                                    "KAT_ID": "65",
                                    "RAKTAR_KOD": "7",
                                    "darabszám": "NULL"
                                },
                                {
                                    "KAT_ID": "65",
                                    "RAKTAR_KOD": "9",
                                    "darabszám": "9db"
                                },
                                {
                                    "KAT_ID": "65",
                                    "RAKTAR_KOD": "9",
                                    "darabszám": "NULL"
                                },
                                {
                                    "KAT_ID": "65",
                                    "RAKTAR_KOD": "NULL",
                                    "darabszám": "NULL"
                                },
                                {
                                    "KAT_ID": "66",
                                    "RAKTAR_KOD": "5",
                                    "darabszám": "5db"
                                },
                                {
                                    "KAT_ID": "66",
                                    "RAKTAR_KOD": "5",
                                    "darabszám": "NULL"
                                },
                                {
                                    "KAT_ID": "66",
                                    "RAKTAR_KOD": "6",
                                    "darabszám": "6db"
                                },
                                {
                                    "KAT_ID": "66",
                                    "RAKTAR_KOD": "6",
                                    "darabszám": "NULL"
                                },
                                {
                                    "KAT_ID": "66",
                                    "RAKTAR_KOD": "7",
                                    "darabszám": "7db"
                                },
                                {
                                    "KAT_ID": "66",
                                    "RAKTAR_KOD": "7",
                                    "darabszám": "NULL"
                                },
                                {
                                    "KAT_ID": "66",
                                    "RAKTAR_KOD": "8",
                                    "darabszám": "8db"
                                },
                                {
                                    "KAT_ID": "66",
                                    "RAKTAR_KOD": "8",
                                    "darabszám": "NULL"
                                },
                                {
                                    "KAT_ID": "66",
                                    "RAKTAR_KOD": "9",
                                    "darabszám": "9db"
                                },
                                {
                                    "KAT_ID": "66",
                                    "RAKTAR_KOD": "9",
                                    "darabszám": "NULL"
                                },
                                {
                                    "KAT_ID": "66",
                                    "RAKTAR_KOD": "NULL",
                                    "darabszám": "NULL"
                                },
                                {
                                    "KAT_ID": "67",
                                    "RAKTAR_KOD": "7",
                                    "darabszám": "7db"
                                },
                                {
                                    "KAT_ID": "67",
                                    "RAKTAR_KOD": "7",
                                    "darabszám": "NULL"
                                },
                                {
                                    "KAT_ID": "67",
                                    "RAKTAR_KOD": "8",
                                    "darabszám": "8db"
                                },
                                {
                                    "KAT_ID": "67",
                                    "RAKTAR_KOD": "8",
                                    "darabszám": "NULL"
                                },
                                {
                                    "KAT_ID": "67",
                                    "RAKTAR_KOD": "NULL",
                                    "darabszám": "NULL"
                                },
                                {
                                    "KAT_ID": "68",
                                    "RAKTAR_KOD": "5",
                                    "darabszám": "5db"
                                },
                                {
                                    "KAT_ID": "68",
                                    "RAKTAR_KOD": "5",
                                    "darabszám": "NULL"
                                },
                                {
                                    "KAT_ID": "68",
                                    "RAKTAR_KOD": "NULL",
                                    "darabszám": "NULL"
                                },
                                {
                                    "KAT_ID": "70",
                                    "RAKTAR_KOD": "6",
                                    "darabszám": "6db"
                                },
                                {
                                    "KAT_ID": "70",
                                    "RAKTAR_KOD": "6",
                                    "darabszám": "NULL"
                                },
                                {
                                    "KAT_ID": "70",
                                    "RAKTAR_KOD": "8",
                                    "darabszám": "8db"
                                },
                                {
                                    "KAT_ID": "70",
                                    "RAKTAR_KOD": "8",
                                    "darabszám": "NULL"
                                },
                                {
                                    "KAT_ID": "70",
                                    "RAKTAR_KOD": "NULL",
                                    "darabszám": "NULL"
                                },
                                {
                                    "KAT_ID": "71",
                                    "RAKTAR_KOD": "5",
                                    "darabszám": "5db"
                                },
                                {
                                    "KAT_ID": "71",
                                    "RAKTAR_KOD": "5",
                                    "darabszám": "NULL"
                                },
                                {
                                    "KAT_ID": "71",
                                    "RAKTAR_KOD": "9",
                                    "darabszám": "9db"
                                },
                                {
                                    "KAT_ID": "71",
                                    "RAKTAR_KOD": "9",
                                    "darabszám": "NULL"
                                },
                                {
                                    "KAT_ID": "71",
                                    "RAKTAR_KOD": "NULL",
                                    "darabszám": "NULL"
                                },
                                {
                                    "KAT_ID": "72",
                                    "RAKTAR_KOD": "6",
                                    "darabszám": "6db"
                                },
                                {
                                    "KAT_ID": "72",
                                    "RAKTAR_KOD": "6",
                                    "darabszám": "NULL"
                                },
                                {
                                    "KAT_ID": "72",
                                    "RAKTAR_KOD": "7",
                                    "darabszám": "7db"
                                },
                                {
                                    "KAT_ID": "72",
                                    "RAKTAR_KOD": "7",
                                    "darabszám": "NULL"
                                },
                                {
                                    "KAT_ID": "72",
                                    "RAKTAR_KOD": "NULL",
                                    "darabszám": "NULL"
                                },
                                {
                                    "KAT_ID": "73",
                                    "RAKTAR_KOD": "7",
                                    "darabszám": "7db"
                                },
                                {
                                    "KAT_ID": "73",
                                    "RAKTAR_KOD": "7",
                                    "darabszám": "NULL"
                                },
                                {
                                    "KAT_ID": "73",
                                    "RAKTAR_KOD": "8",
                                    "darabszám": "8db"
                                },
                                {
                                    "KAT_ID": "73",
                                    "RAKTAR_KOD": "8",
                                    "darabszám": "NULL"
                                },
                                {
                                    "KAT_ID": "73",
                                    "RAKTAR_KOD": "NULL",
                                    "darabszám": "NULL"
                                },
                                {
                                    "KAT_ID": "74",
                                    "RAKTAR_KOD": "5",
                                    "darabszám": "5db"
                                },
                                {
                                    "KAT_ID": "74",
                                    "RAKTAR_KOD": "5",
                                    "darabszám": "NULL"
                                },
                                {
                                    "KAT_ID": "74",
                                    "RAKTAR_KOD": "NULL",
                                    "darabszám": "NULL"
                                },
                                {
                                    "KAT_ID": "75",
                                    "RAKTAR_KOD": "8",
                                    "darabszám": "8db"
                                },
                                {
                                    "KAT_ID": "75",
                                    "RAKTAR_KOD": "8",
                                    "darabszám": "NULL"
                                },
                                {
                                    "KAT_ID": "75",
                                    "RAKTAR_KOD": "NULL",
                                    "darabszám": "NULL"
                                },
                                {
                                    "KAT_ID": "76",
                                    "RAKTAR_KOD": "5",
                                    "darabszám": "5db"
                                },
                                {
                                    "KAT_ID": "76",
                                    "RAKTAR_KOD": "5",
                                    "darabszám": "NULL"
                                },
                                {
                                    "KAT_ID": "76",
                                    "RAKTAR_KOD": "6",
                                    "darabszám": "6db"
                                },
                                {
                                    "KAT_ID": "76",
                                    "RAKTAR_KOD": "6",
                                    "darabszám": "NULL"
                                },
                                {
                                    "KAT_ID": "76",
                                    "RAKTAR_KOD": "7",
                                    "darabszám": "7db"
                                },
                                {
                                    "KAT_ID": "76",
                                    "RAKTAR_KOD": "7",
                                    "darabszám": "NULL"
                                },
                                {
                                    "KAT_ID": "76",
                                    "RAKTAR_KOD": "NULL",
                                    "darabszám": "NULL"
                                },
                                {
                                    "KAT_ID": "78",
                                    "RAKTAR_KOD": "5",
                                    "darabszám": "5csomag"
                                },
                                {
                                    "KAT_ID": "78",
                                    "RAKTAR_KOD": "5",
                                    "darabszám": "5db"
                                },
                                {
                                    "KAT_ID": "78",
                                    "RAKTAR_KOD": "5",
                                    "darabszám": "NULL"
                                },
                                {
                                    "KAT_ID": "78",
                                    "RAKTAR_KOD": "6",
                                    "darabszám": "6csomag"
                                },
                                {
                                    "KAT_ID": "78",
                                    "RAKTAR_KOD": "6",
                                    "darabszám": "6db"
                                },
                                {
                                    "KAT_ID": "78",
                                    "RAKTAR_KOD": "6",
                                    "darabszám": "NULL"
                                },
                                {
                                    "KAT_ID": "78",
                                    "RAKTAR_KOD": "7",
                                    "darabszám": "7csomag"
                                },
                                {
                                    "KAT_ID": "78",
                                    "RAKTAR_KOD": "7",
                                    "darabszám": "7db"
                                },
                                {
                                    "KAT_ID": "78",
                                    "RAKTAR_KOD": "7",
                                    "darabszám": "NULL"
                                },
                                {
                                    "KAT_ID": "78",
                                    "RAKTAR_KOD": "8",
                                    "darabszám": "8db"
                                },
                                {
                                    "KAT_ID": "78",
                                    "RAKTAR_KOD": "8",
                                    "darabszám": "NULL"
                                },
                                {
                                    "KAT_ID": "78",
                                    "RAKTAR_KOD": "9",
                                    "darabszám": "9db"
                                },
                                {
                                    "KAT_ID": "78",
                                    "RAKTAR_KOD": "9",
                                    "darabszám": "NULL"
                                },
                                {
                                    "KAT_ID": "78",
                                    "RAKTAR_KOD": "NULL",
                                    "darabszám": "NULL"
                                },
                                {
                                    "KAT_ID": "79",
                                    "RAKTAR_KOD": "7",
                                    "darabszám": "7db"
                                },
                                {
                                    "KAT_ID": "79",
                                    "RAKTAR_KOD": "7",
                                    "darabszám": "NULL"
                                },
                                {
                                    "KAT_ID": "79",
                                    "RAKTAR_KOD": "NULL",
                                    "darabszám": "NULL"
                                },
                                {
                                    "KAT_ID": "80",
                                    "RAKTAR_KOD": "5",
                                    "darabszám": "5db"
                                },
                                {
                                    "KAT_ID": "80",
                                    "RAKTAR_KOD": "5",
                                    "darabszám": "NULL"
                                },
                                {
                                    "KAT_ID": "80",
                                    "RAKTAR_KOD": "NULL",
                                    "darabszám": "NULL"
                                },
                                {
                                    "KAT_ID": "82",
                                    "RAKTAR_KOD": "8",
                                    "darabszám": "8db"
                                },
                                {
                                    "KAT_ID": "82",
                                    "RAKTAR_KOD": "8",
                                    "darabszám": "NULL"
                                },
                                {
                                    "KAT_ID": "82",
                                    "RAKTAR_KOD": "NULL",
                                    "darabszám": "NULL"
                                },
                                {
                                    "KAT_ID": "83",
                                    "RAKTAR_KOD": "5",
                                    "darabszám": "5ív"
                                },
                                {
                                    "KAT_ID": "83",
                                    "RAKTAR_KOD": "5",
                                    "darabszám": "NULL"
                                },
                                {
                                    "KAT_ID": "83",
                                    "RAKTAR_KOD": "6",
                                    "darabszám": "6ív"
                                },
                                {
                                    "KAT_ID": "83",
                                    "RAKTAR_KOD": "6",
                                    "darabszám": "NULL"
                                },
                                {
                                    "KAT_ID": "83",
                                    "RAKTAR_KOD": "7",
                                    "darabszám": "7ív"
                                },
                                {
                                    "KAT_ID": "83",
                                    "RAKTAR_KOD": "7",
                                    "darabszám": "NULL"
                                },
                                {
                                    "KAT_ID": "83",
                                    "RAKTAR_KOD": "8",
                                    "darabszám": "8ív"
                                },
                                {
                                    "KAT_ID": "83",
                                    "RAKTAR_KOD": "8",
                                    "darabszám": "NULL"
                                },
                                {
                                    "KAT_ID": "83",
                                    "RAKTAR_KOD": "9",
                                    "darabszám": "9ív"
                                },
                                {
                                    "KAT_ID": "83",
                                    "RAKTAR_KOD": "9",
                                    "darabszám": "NULL"
                                },
                                {
                                    "KAT_ID": "83",
                                    "RAKTAR_KOD": "NULL",
                                    "darabszám": "NULL"
                                },
                                {
                                    "KAT_ID": "84",
                                    "RAKTAR_KOD": "6",
                                    "darabszám": "6db"
                                },
                                {
                                    "KAT_ID": "84",
                                    "RAKTAR_KOD": "6",
                                    "darabszám": "NULL"
                                },
                                {
                                    "KAT_ID": "84",
                                    "RAKTAR_KOD": "NULL",
                                    "darabszám": "NULL"
                                },
                                {
                                    "KAT_ID": "85",
                                    "RAKTAR_KOD": "5",
                                    "darabszám": "5db"
                                },
                                {
                                    "KAT_ID": "85",
                                    "RAKTAR_KOD": "5",
                                    "darabszám": "NULL"
                                },
                                {
                                    "KAT_ID": "85",
                                    "RAKTAR_KOD": "6",
                                    "darabszám": "6db"
                                },
                                {
                                    "KAT_ID": "85",
                                    "RAKTAR_KOD": "6",
                                    "darabszám": "NULL"
                                },
                                {
                                    "KAT_ID": "85",
                                    "RAKTAR_KOD": "7",
                                    "darabszám": "7db"
                                },
                                {
                                    "KAT_ID": "85",
                                    "RAKTAR_KOD": "7",
                                    "darabszám": "NULL"
                                },
                                {
                                    "KAT_ID": "85",
                                    "RAKTAR_KOD": "8",
                                    "darabszám": "8db"
                                },
                                {
                                    "KAT_ID": "85",
                                    "RAKTAR_KOD": "8",
                                    "darabszám": "NULL"
                                },
                                {
                                    "KAT_ID": "85",
                                    "RAKTAR_KOD": "9",
                                    "darabszám": "9db"
                                },
                                {
                                    "KAT_ID": "85",
                                    "RAKTAR_KOD": "9",
                                    "darabszám": "NULL"
                                },
                                {
                                    "KAT_ID": "85",
                                    "RAKTAR_KOD": "NULL",
                                    "darabszám": "NULL"
                                },
                                {
                                    "KAT_ID": "86",
                                    "RAKTAR_KOD": "7",
                                    "darabszám": "7db"
                                },
                                {
                                    "KAT_ID": "86",
                                    "RAKTAR_KOD": "7",
                                    "darabszám": "NULL"
                                },
                                {
                                    "KAT_ID": "86",
                                    "RAKTAR_KOD": "NULL",
                                    "darabszám": "NULL"
                                },
                                {
                                    "KAT_ID": "88",
                                    "RAKTAR_KOD": "2",
                                    "darabszám": "2db"
                                },
                                {
                                    "KAT_ID": "88",
                                    "RAKTAR_KOD": "2",
                                    "darabszám": "NULL"
                                },
                                {
                                    "KAT_ID": "88",
                                    "RAKTAR_KOD": "3",
                                    "darabszám": "3db"
                                },
                                {
                                    "KAT_ID": "88",
                                    "RAKTAR_KOD": "3",
                                    "darabszám": "NULL"
                                },
                                {
                                    "KAT_ID": "88",
                                    "RAKTAR_KOD": "NULL",
                                    "darabszám": "NULL"
                                },
                                {
                                    "KAT_ID": "89",
                                    "RAKTAR_KOD": "5",
                                    "darabszám": "5db"
                                },
                                {
                                    "KAT_ID": "89",
                                    "RAKTAR_KOD": "5",
                                    "darabszám": "NULL"
                                },
                                {
                                    "KAT_ID": "89",
                                    "RAKTAR_KOD": "6",
                                    "darabszám": "6db"
                                },
                                {
                                    "KAT_ID": "89",
                                    "RAKTAR_KOD": "6",
                                    "darabszám": "NULL"
                                },
                                {
                                    "KAT_ID": "89",
                                    "RAKTAR_KOD": "8",
                                    "darabszám": "8db"
                                },
                                {
                                    "KAT_ID": "89",
                                    "RAKTAR_KOD": "8",
                                    "darabszám": "NULL"
                                },
                                {
                                    "KAT_ID": "89",
                                    "RAKTAR_KOD": "NULL",
                                    "darabszám": "NULL"
                                },
                                {
                                    "KAT_ID": "90",
                                    "RAKTAR_KOD": "5",
                                    "darabszám": "5ív"
                                },
                                {
                                    "KAT_ID": "90",
                                    "RAKTAR_KOD": "5",
                                    "darabszám": "NULL"
                                },
                                {
                                    "KAT_ID": "90",
                                    "RAKTAR_KOD": "8",
                                    "darabszám": "8Ív"
                                },
                                {
                                    "KAT_ID": "90",
                                    "RAKTAR_KOD": "8",
                                    "darabszám": "NULL"
                                },
                                {
                                    "KAT_ID": "90",
                                    "RAKTAR_KOD": "NULL",
                                    "darabszám": "NULL"
                                },
                                {
                                    "KAT_ID": "91",
                                    "RAKTAR_KOD": "8",
                                    "darabszám": "8db"
                                },
                                {
                                    "KAT_ID": "91",
                                    "RAKTAR_KOD": "8",
                                    "darabszám": "NULL"
                                },
                                {
                                    "KAT_ID": "91",
                                    "RAKTAR_KOD": "9",
                                    "darabszám": "9db"
                                },
                                {
                                    "KAT_ID": "91",
                                    "RAKTAR_KOD": "9",
                                    "darabszám": "NULL"
                                },
                                {
                                    "KAT_ID": "91",
                                    "RAKTAR_KOD": "NULL",
                                    "darabszám": "NULL"
                                },
                                {
                                    "KAT_ID": "92",
                                    "RAKTAR_KOD": "7",
                                    "darabszám": "7db"
                                },
                                {
                                    "KAT_ID": "92",
                                    "RAKTAR_KOD": "7",
                                    "darabszám": "NULL"
                                },
                                {
                                    "KAT_ID": "92",
                                    "RAKTAR_KOD": "8",
                                    "darabszám": "8db"
                                },
                                {
                                    "KAT_ID": "92",
                                    "RAKTAR_KOD": "8",
                                    "darabszám": "NULL"
                                },
                                {
                                    "KAT_ID": "92",
                                    "RAKTAR_KOD": "NULL",
                                    "darabszám": "NULL"
                                },
                                {
                                    "KAT_ID": "93",
                                    "RAKTAR_KOD": "6",
                                    "darabszám": "6csomag"
                                },
                                {
                                    "KAT_ID": "93",
                                    "RAKTAR_KOD": "6",
                                    "darabszám": "6db"
                                },
                                {
                                    "KAT_ID": "93",
                                    "RAKTAR_KOD": "6",
                                    "darabszám": "NULL"
                                },
                                {
                                    "KAT_ID": "93",
                                    "RAKTAR_KOD": "7",
                                    "darabszám": "7db"
                                },
                                {
                                    "KAT_ID": "93",
                                    "RAKTAR_KOD": "7",
                                    "darabszám": "NULL"
                                },
                                {
                                    "KAT_ID": "93",
                                    "RAKTAR_KOD": "NULL",
                                    "darabszám": "NULL"
                                },
                                {
                                    "KAT_ID": "94",
                                    "RAKTAR_KOD": "6",
                                    "darabszám": "6db"
                                },
                                {
                                    "KAT_ID": "94",
                                    "RAKTAR_KOD": "6",
                                    "darabszám": "NULL"
                                },
                                {
                                    "KAT_ID": "94",
                                    "RAKTAR_KOD": "7",
                                    "darabszám": "7db"
                                },
                                {
                                    "KAT_ID": "94",
                                    "RAKTAR_KOD": "7",
                                    "darabszám": "NULL"
                                },
                                {
                                    "KAT_ID": "94",
                                    "RAKTAR_KOD": "NULL",
                                    "darabszám": "NULL"
                                },
                                {
                                    "KAT_ID": "95",
                                    "RAKTAR_KOD": "7",
                                    "darabszám": "7db"
                                },
                                {
                                    "KAT_ID": "95",
                                    "RAKTAR_KOD": "7",
                                    "darabszám": "NULL"
                                },
                                {
                                    "KAT_ID": "95",
                                    "RAKTAR_KOD": "9",
                                    "darabszám": "9db"
                                },
                                {
                                    "KAT_ID": "95",
                                    "RAKTAR_KOD": "9",
                                    "darabszám": "NULL"
                                },
                                {
                                    "KAT_ID": "95",
                                    "RAKTAR_KOD": "NULL",
                                    "darabszám": "NULL"
                                },
                                {
                                    "KAT_ID": "96",
                                    "RAKTAR_KOD": "6",
                                    "darabszám": "6db"
                                },
                                {
                                    "KAT_ID": "96",
                                    "RAKTAR_KOD": "6",
                                    "darabszám": "NULL"
                                },
                                {
                                    "KAT_ID": "96",
                                    "RAKTAR_KOD": "7",
                                    "darabszám": "7db"
                                },
                                {
                                    "KAT_ID": "96",
                                    "RAKTAR_KOD": "7",
                                    "darabszám": "NULL"
                                },
                                {
                                    "KAT_ID": "96",
                                    "RAKTAR_KOD": "8",
                                    "darabszám": "8db"
                                },
                                {
                                    "KAT_ID": "96",
                                    "RAKTAR_KOD": "8",
                                    "darabszám": "NULL"
                                },
                                {
                                    "KAT_ID": "96",
                                    "RAKTAR_KOD": "9",
                                    "darabszám": "9db"
                                },
                                {
                                    "KAT_ID": "96",
                                    "RAKTAR_KOD": "9",
                                    "darabszám": "NULL"
                                },
                                {
                                    "KAT_ID": "96",
                                    "RAKTAR_KOD": "NULL",
                                    "darabszám": "NULL"
                                },
                                {
                                    "KAT_ID": "97",
                                    "RAKTAR_KOD": "5",
                                    "darabszám": "5db"
                                },
                                {
                                    "KAT_ID": "97",
                                    "RAKTAR_KOD": "5",
                                    "darabszám": "NULL"
                                },
                                {
                                    "KAT_ID": "97",
                                    "RAKTAR_KOD": "6",
                                    "darabszám": "6db"
                                },
                                {
                                    "KAT_ID": "97",
                                    "RAKTAR_KOD": "6",
                                    "darabszám": "NULL"
                                },
                                {
                                    "KAT_ID": "97",
                                    "RAKTAR_KOD": "7",
                                    "darabszám": "7db"
                                },
                                {
                                    "KAT_ID": "97",
                                    "RAKTAR_KOD": "7",
                                    "darabszám": "NULL"
                                },
                                {
                                    "KAT_ID": "97",
                                    "RAKTAR_KOD": "8",
                                    "darabszám": "8db"
                                },
                                {
                                    "KAT_ID": "97",
                                    "RAKTAR_KOD": "8",
                                    "darabszám": "NULL"
                                },
                                {
                                    "KAT_ID": "97",
                                    "RAKTAR_KOD": "9",
                                    "darabszám": "9db"
                                },
                                {
                                    "KAT_ID": "97",
                                    "RAKTAR_KOD": "9",
                                    "darabszám": "NULL"
                                },
                                {
                                    "KAT_ID": "97",
                                    "RAKTAR_KOD": "NULL",
                                    "darabszám": "NULL"
                                },
                                {
                                    "KAT_ID": "98",
                                    "RAKTAR_KOD": "5",
                                    "darabszám": "5db"
                                },
                                {
                                    "KAT_ID": "98",
                                    "RAKTAR_KOD": "5",
                                    "darabszám": "NULL"
                                },
                                {
                                    "KAT_ID": "98",
                                    "RAKTAR_KOD": "6",
                                    "darabszám": "6db"
                                },
                                {
                                    "KAT_ID": "98",
                                    "RAKTAR_KOD": "6",
                                    "darabszám": "NULL"
                                },
                                {
                                    "KAT_ID": "98",
                                    "RAKTAR_KOD": "9",
                                    "darabszám": "9db"
                                },
                                {
                                    "KAT_ID": "98",
                                    "RAKTAR_KOD": "9",
                                    "darabszám": "NULL"
                                },
                                {
                                    "KAT_ID": "98",
                                    "RAKTAR_KOD": "NULL",
                                    "darabszám": "NULL"
                                },
                                {
                                    "KAT_ID": "99",
                                    "RAKTAR_KOD": "6",
                                    "darabszám": "6db"
                                },
                                {
                                    "KAT_ID": "99",
                                    "RAKTAR_KOD": "6",
                                    "darabszám": "NULL"
                                },
                                {
                                    "KAT_ID": "99",
                                    "RAKTAR_KOD": "NULL",
                                    "darabszám": "NULL"
                                },
                                {
                                    "KAT_ID": "100",
                                    "RAKTAR_KOD": "5",
                                    "darabszám": "5db"
                                },
                                {
                                    "KAT_ID": "100",
                                    "RAKTAR_KOD": "5",
                                    "darabszám": "NULL"
                                },
                                {
                                    "KAT_ID": "100",
                                    "RAKTAR_KOD": "6",
                                    "darabszám": "6db"
                                },
                                {
                                    "KAT_ID": "100",
                                    "RAKTAR_KOD": "6",
                                    "darabszám": "NULL"
                                },
                                {
                                    "KAT_ID": "100",
                                    "RAKTAR_KOD": "7",
                                    "darabszám": "7db"
                                },
                                {
                                    "KAT_ID": "100",
                                    "RAKTAR_KOD": "7",
                                    "darabszám": "NULL"
                                },
                                {
                                    "KAT_ID": "100",
                                    "RAKTAR_KOD": "8",
                                    "darabszám": "8db"
                                },
                                {
                                    "KAT_ID": "100",
                                    "RAKTAR_KOD": "8",
                                    "darabszám": "NULL"
                                },
                                {
                                    "KAT_ID": "100",
                                    "RAKTAR_KOD": "9",
                                    "darabszám": "9db"
                                },
                                {
                                    "KAT_ID": "100",
                                    "RAKTAR_KOD": "9",
                                    "darabszám": "NULL"
                                },
                                {
                                    "KAT_ID": "100",
                                    "RAKTAR_KOD": "NULL",
                                    "darabszám": "NULL"
                                },
                                {
                                    "KAT_ID": "101",
                                    "RAKTAR_KOD": "8",
                                    "darabszám": "8ív"
                                },
                                {
                                    "KAT_ID": "101",
                                    "RAKTAR_KOD": "8",
                                    "darabszám": "NULL"
                                },
                                {
                                    "KAT_ID": "101",
                                    "RAKTAR_KOD": "NULL",
                                    "darabszám": "NULL"
                                },
                                {
                                    "KAT_ID": "103",
                                    "RAKTAR_KOD": "8",
                                    "darabszám": "8db"
                                },
                                {
                                    "KAT_ID": "103",
                                    "RAKTAR_KOD": "8",
                                    "darabszám": "NULL"
                                },
                                {
                                    "KAT_ID": "103",
                                    "RAKTAR_KOD": "NULL",
                                    "darabszám": "NULL"
                                },
                                {
                                    "KAT_ID": "104",
                                    "RAKTAR_KOD": "8",
                                    "darabszám": "8db"
                                },
                                {
                                    "KAT_ID": "104",
                                    "RAKTAR_KOD": "8",
                                    "darabszám": "NULL"
                                },
                                {
                                    "KAT_ID": "104",
                                    "RAKTAR_KOD": "9",
                                    "darabszám": "9db"
                                },
                                {
                                    "KAT_ID": "104",
                                    "RAKTAR_KOD": "9",
                                    "darabszám": "NULL"
                                },
                                {
                                    "KAT_ID": "104",
                                    "RAKTAR_KOD": "NULL",
                                    "darabszám": "NULL"
                                },
                                {
                                    "KAT_ID": "105",
                                    "RAKTAR_KOD": "9",
                                    "darabszám": "9db"
                                },
                                {
                                    "KAT_ID": "105",
                                    "RAKTAR_KOD": "9",
                                    "darabszám": "NULL"
                                },
                                {
                                    "KAT_ID": "105",
                                    "RAKTAR_KOD": "NULL",
                                    "darabszám": "NULL"
                                },
                                {
                                    "KAT_ID": "106",
                                    "RAKTAR_KOD": "5",
                                    "darabszám": "5db"
                                },
                                {
                                    "KAT_ID": "106",
                                    "RAKTAR_KOD": "5",
                                    "darabszám": "NULL"
                                },
                                {
                                    "KAT_ID": "106",
                                    "RAKTAR_KOD": "6",
                                    "darabszám": "6db"
                                },
                                {
                                    "KAT_ID": "106",
                                    "RAKTAR_KOD": "6",
                                    "darabszám": "NULL"
                                },
                                {
                                    "KAT_ID": "106",
                                    "RAKTAR_KOD": "9",
                                    "darabszám": "9db"
                                },
                                {
                                    "KAT_ID": "106",
                                    "RAKTAR_KOD": "9",
                                    "darabszám": "NULL"
                                },
                                {
                                    "KAT_ID": "106",
                                    "RAKTAR_KOD": "NULL",
                                    "darabszám": "NULL"
                                },
                                {
                                    "KAT_ID": "107",
                                    "RAKTAR_KOD": "1",
                                    "darabszám": "1db"
                                },
                                {
                                    "KAT_ID": "107",
                                    "RAKTAR_KOD": "1",
                                    "darabszám": "NULL"
                                },
                                {
                                    "KAT_ID": "107",
                                    "RAKTAR_KOD": "NULL",
                                    "darabszám": "NULL"
                                },
                                {
                                    "KAT_ID": "108",
                                    "RAKTAR_KOD": "2",
                                    "darabszám": "2db"
                                },
                                {
                                    "KAT_ID": "108",
                                    "RAKTAR_KOD": "2",
                                    "darabszám": "NULL"
                                },
                                {
                                    "KAT_ID": "108",
                                    "RAKTAR_KOD": "NULL",
                                    "darabszám": "NULL"
                                },
                                {
                                    "KAT_ID": "109",
                                    "RAKTAR_KOD": "7",
                                    "darabszám": "7ív"
                                },
                                {
                                    "KAT_ID": "109",
                                    "RAKTAR_KOD": "7",
                                    "darabszám": "NULL"
                                },
                                {
                                    "KAT_ID": "109",
                                    "RAKTAR_KOD": "NULL",
                                    "darabszám": "NULL"
                                },
                                {
                                    "KAT_ID": "110",
                                    "RAKTAR_KOD": "9",
                                    "darabszám": "9db"
                                },
                                {
                                    "KAT_ID": "110",
                                    "RAKTAR_KOD": "9",
                                    "darabszám": "NULL"
                                },
                                {
                                    "KAT_ID": "110",
                                    "RAKTAR_KOD": "NULL",
                                    "darabszám": "NULL"
                                },
                                {
                                    "KAT_ID": "111",
                                    "RAKTAR_KOD": "5",
                                    "darabszám": "5db"
                                },
                                {
                                    "KAT_ID": "111",
                                    "RAKTAR_KOD": "5",
                                    "darabszám": "NULL"
                                },
                                {
                                    "KAT_ID": "111",
                                    "RAKTAR_KOD": "7",
                                    "darabszám": "7db"
                                },
                                {
                                    "KAT_ID": "111",
                                    "RAKTAR_KOD": "7",
                                    "darabszám": "NULL"
                                },
                                {
                                    "KAT_ID": "111",
                                    "RAKTAR_KOD": "8",
                                    "darabszám": "8db"
                                },
                                {
                                    "KAT_ID": "111",
                                    "RAKTAR_KOD": "8",
                                    "darabszám": "NULL"
                                },
                                {
                                    "KAT_ID": "111",
                                    "RAKTAR_KOD": "NULL",
                                    "darabszám": "NULL"
                                },
                                {
                                    "KAT_ID": "112",
                                    "RAKTAR_KOD": "5",
                                    "darabszám": "5doboz"
                                },
                                {
                                    "KAT_ID": "112",
                                    "RAKTAR_KOD": "5",
                                    "darabszám": "NULL"
                                },
                                {
                                    "KAT_ID": "112",
                                    "RAKTAR_KOD": "8",
                                    "darabszám": "8db"
                                },
                                {
                                    "KAT_ID": "112",
                                    "RAKTAR_KOD": "8",
                                    "darabszám": "NULL"
                                },
                                {
                                    "KAT_ID": "112",
                                    "RAKTAR_KOD": "NULL",
                                    "darabszám": "NULL"
                                },
                                {
                                    "KAT_ID": "114",
                                    "RAKTAR_KOD": "8",
                                    "darabszám": "8csomag"
                                },
                                {
                                    "KAT_ID": "114",
                                    "RAKTAR_KOD": "8",
                                    "darabszám": "NULL"
                                },
                                {
                                    "KAT_ID": "114",
                                    "RAKTAR_KOD": "NULL",
                                    "darabszám": "NULL"
                                },
                                {
                                    "KAT_ID": "115",
                                    "RAKTAR_KOD": "8",
                                    "darabszám": "8ív"
                                },
                                {
                                    "KAT_ID": "115",
                                    "RAKTAR_KOD": "8",
                                    "darabszám": "NULL"
                                },
                                {
                                    "KAT_ID": "115",
                                    "RAKTAR_KOD": "NULL",
                                    "darabszám": "NULL"
                                },
                                {
                                    "KAT_ID": "116",
                                    "RAKTAR_KOD": "6",
                                    "darabszám": "6db"
                                },
                                {
                                    "KAT_ID": "116",
                                    "RAKTAR_KOD": "6",
                                    "darabszám": "NULL"
                                },
                                {
                                    "KAT_ID": "116",
                                    "RAKTAR_KOD": "7",
                                    "darabszám": "7db"
                                },
                                {
                                    "KAT_ID": "116",
                                    "RAKTAR_KOD": "7",
                                    "darabszám": "NULL"
                                },
                                {
                                    "KAT_ID": "116",
                                    "RAKTAR_KOD": "NULL",
                                    "darabszám": "NULL"
                                },
                                {
                                    "KAT_ID": "117",
                                    "RAKTAR_KOD": "6",
                                    "darabszám": "6db"
                                },
                                {
                                    "KAT_ID": "117",
                                    "RAKTAR_KOD": "6",
                                    "darabszám": "NULL"
                                },
                                {
                                    "KAT_ID": "117",
                                    "RAKTAR_KOD": "9",
                                    "darabszám": "9db"
                                },
                                {
                                    "KAT_ID": "117",
                                    "RAKTAR_KOD": "9",
                                    "darabszám": "NULL"
                                },
                                {
                                    "KAT_ID": "117",
                                    "RAKTAR_KOD": "NULL",
                                    "darabszám": "NULL"
                                },
                                {
                                    "KAT_ID": "118",
                                    "RAKTAR_KOD": "5",
                                    "darabszám": "5db"
                                },
                                {
                                    "KAT_ID": "118",
                                    "RAKTAR_KOD": "5",
                                    "darabszám": "NULL"
                                },
                                {
                                    "KAT_ID": "118",
                                    "RAKTAR_KOD": "7",
                                    "darabszám": "7db"
                                },
                                {
                                    "KAT_ID": "118",
                                    "RAKTAR_KOD": "7",
                                    "darabszám": "NULL"
                                },
                                {
                                    "KAT_ID": "118",
                                    "RAKTAR_KOD": "8",
                                    "darabszám": "8db"
                                },
                                {
                                    "KAT_ID": "118",
                                    "RAKTAR_KOD": "8",
                                    "darabszám": "NULL"
                                },
                                {
                                    "KAT_ID": "118",
                                    "RAKTAR_KOD": "9",
                                    "darabszám": "9db"
                                },
                                {
                                    "KAT_ID": "118",
                                    "RAKTAR_KOD": "9",
                                    "darabszám": "NULL"
                                },
                                {
                                    "KAT_ID": "118",
                                    "RAKTAR_KOD": "NULL",
                                    "darabszám": "NULL"
                                },
                                {
                                    "KAT_ID": "119",
                                    "RAKTAR_KOD": "5",
                                    "darabszám": "5db"
                                },
                                {
                                    "KAT_ID": "119",
                                    "RAKTAR_KOD": "5",
                                    "darabszám": "NULL"
                                },
                                {
                                    "KAT_ID": "119",
                                    "RAKTAR_KOD": "7",
                                    "darabszám": "7db"
                                },
                                {
                                    "KAT_ID": "119",
                                    "RAKTAR_KOD": "7",
                                    "darabszám": "NULL"
                                },
                                {
                                    "KAT_ID": "119",
                                    "RAKTAR_KOD": "9",
                                    "darabszám": "9db"
                                },
                                {
                                    "KAT_ID": "119",
                                    "RAKTAR_KOD": "9",
                                    "darabszám": "NULL"
                                },
                                {
                                    "KAT_ID": "119",
                                    "RAKTAR_KOD": "NULL",
                                    "darabszám": "NULL"
                                },
                                {
                                    "KAT_ID": "121",
                                    "RAKTAR_KOD": "7",
                                    "darabszám": "7db"
                                },
                                {
                                    "KAT_ID": "121",
                                    "RAKTAR_KOD": "7",
                                    "darabszám": "NULL"
                                },
                                {
                                    "KAT_ID": "121",
                                    "RAKTAR_KOD": "8",
                                    "darabszám": "8db"
                                },
                                {
                                    "KAT_ID": "121",
                                    "RAKTAR_KOD": "8",
                                    "darabszám": "NULL"
                                },
                                {
                                    "KAT_ID": "121",
                                    "RAKTAR_KOD": "NULL",
                                    "darabszám": "NULL"
                                },
                                {
                                    "KAT_ID": "122",
                                    "RAKTAR_KOD": "6",
                                    "darabszám": "6db"
                                },
                                {
                                    "KAT_ID": "122",
                                    "RAKTAR_KOD": "6",
                                    "darabszám": "NULL"
                                },
                                {
                                    "KAT_ID": "122",
                                    "RAKTAR_KOD": "7",
                                    "darabszám": "7db"
                                },
                                {
                                    "KAT_ID": "122",
                                    "RAKTAR_KOD": "7",
                                    "darabszám": "NULL"
                                },
                                {
                                    "KAT_ID": "122",
                                    "RAKTAR_KOD": "8",
                                    "darabszám": "8db"
                                },
                                {
                                    "KAT_ID": "122",
                                    "RAKTAR_KOD": "8",
                                    "darabszám": "NULL"
                                },
                                {
                                    "KAT_ID": "122",
                                    "RAKTAR_KOD": "9",
                                    "darabszám": "9db"
                                },
                                {
                                    "KAT_ID": "122",
                                    "RAKTAR_KOD": "9",
                                    "darabszám": "NULL"
                                },
                                {
                                    "KAT_ID": "122",
                                    "RAKTAR_KOD": "NULL",
                                    "darabszám": "NULL"
                                },
                                {
                                    "KAT_ID": "123",
                                    "RAKTAR_KOD": "5",
                                    "darabszám": "5db"
                                },
                                {
                                    "KAT_ID": "123",
                                    "RAKTAR_KOD": "5",
                                    "darabszám": "NULL"
                                },
                                {
                                    "KAT_ID": "123",
                                    "RAKTAR_KOD": "7",
                                    "darabszám": "7db"
                                },
                                {
                                    "KAT_ID": "123",
                                    "RAKTAR_KOD": "7",
                                    "darabszám": "NULL"
                                },
                                {
                                    "KAT_ID": "123",
                                    "RAKTAR_KOD": "NULL",
                                    "darabszám": "NULL"
                                },
                                {
                                    "KAT_ID": "124",
                                    "RAKTAR_KOD": "5",
                                    "darabszám": "5db"
                                },
                                {
                                    "KAT_ID": "124",
                                    "RAKTAR_KOD": "5",
                                    "darabszám": "NULL"
                                },
                                {
                                    "KAT_ID": "124",
                                    "RAKTAR_KOD": "6",
                                    "darabszám": "6db"
                                },
                                {
                                    "KAT_ID": "124",
                                    "RAKTAR_KOD": "6",
                                    "darabszám": "NULL"
                                },
                                {
                                    "KAT_ID": "124",
                                    "RAKTAR_KOD": "7",
                                    "darabszám": "7db"
                                },
                                {
                                    "KAT_ID": "124",
                                    "RAKTAR_KOD": "7",
                                    "darabszám": "NULL"
                                },
                                {
                                    "KAT_ID": "124",
                                    "RAKTAR_KOD": "8",
                                    "darabszám": "8db"
                                },
                                {
                                    "KAT_ID": "124",
                                    "RAKTAR_KOD": "8",
                                    "darabszám": "NULL"
                                },
                                {
                                    "KAT_ID": "124",
                                    "RAKTAR_KOD": "9",
                                    "darabszám": "9db"
                                },
                                {
                                    "KAT_ID": "124",
                                    "RAKTAR_KOD": "9",
                                    "darabszám": "NULL"
                                },
                                {
                                    "KAT_ID": "124",
                                    "RAKTAR_KOD": "NULL",
                                    "darabszám": "NULL"
                                },
                                {
                                    "KAT_ID": "125",
                                    "RAKTAR_KOD": "6",
                                    "darabszám": "6db"
                                },
                                {
                                    "KAT_ID": "125",
                                    "RAKTAR_KOD": "6",
                                    "darabszám": "NULL"
                                },
                                {
                                    "KAT_ID": "125",
                                    "RAKTAR_KOD": "7",
                                    "darabszám": "7db"
                                },
                                {
                                    "KAT_ID": "125",
                                    "RAKTAR_KOD": "7",
                                    "darabszám": "NULL"
                                },
                                {
                                    "KAT_ID": "125",
                                    "RAKTAR_KOD": "9",
                                    "darabszám": "9db"
                                },
                                {
                                    "KAT_ID": "125",
                                    "RAKTAR_KOD": "9",
                                    "darabszám": "NULL"
                                },
                                {
                                    "KAT_ID": "125",
                                    "RAKTAR_KOD": "NULL",
                                    "darabszám": "NULL"
                                },
                                {
                                    "KAT_ID": "126",
                                    "RAKTAR_KOD": "9",
                                    "darabszám": "9csomag"
                                },
                                {
                                    "KAT_ID": "126",
                                    "RAKTAR_KOD": "9",
                                    "darabszám": "NULL"
                                },
                                {
                                    "KAT_ID": "126",
                                    "RAKTAR_KOD": "NULL",
                                    "darabszám": "NULL"
                                },
                                {
                                    "KAT_ID": "127",
                                    "RAKTAR_KOD": "5",
                                    "darabszám": "5csomag"
                                },
                                {
                                    "KAT_ID": "127",
                                    "RAKTAR_KOD": "5",
                                    "darabszám": "NULL"
                                },
                                {
                                    "KAT_ID": "127",
                                    "RAKTAR_KOD": "9",
                                    "darabszám": "9csomag"
                                },
                                {
                                    "KAT_ID": "127",
                                    "RAKTAR_KOD": "9",
                                    "darabszám": "NULL"
                                },
                                {
                                    "KAT_ID": "127",
                                    "RAKTAR_KOD": "NULL",
                                    "darabszám": "NULL"
                                },
                                {
                                    "KAT_ID": "128",
                                    "RAKTAR_KOD": "6",
                                    "darabszám": "6db"
                                },
                                {
                                    "KAT_ID": "128",
                                    "RAKTAR_KOD": "6",
                                    "darabszám": "NULL"
                                },
                                {
                                    "KAT_ID": "128",
                                    "RAKTAR_KOD": "8",
                                    "darabszám": "8csomag"
                                },
                                {
                                    "KAT_ID": "128",
                                    "RAKTAR_KOD": "8",
                                    "darabszám": "NULL"
                                },
                                {
                                    "KAT_ID": "128",
                                    "RAKTAR_KOD": "NULL",
                                    "darabszám": "NULL"
                                },
                                {
                                    "KAT_ID": "129",
                                    "RAKTAR_KOD": "5",
                                    "darabszám": "5db"
                                },
                                {
                                    "KAT_ID": "129",
                                    "RAKTAR_KOD": "5",
                                    "darabszám": "NULL"
                                },
                                {
                                    "KAT_ID": "129",
                                    "RAKTAR_KOD": "9",
                                    "darabszám": "9db"
                                },
                                {
                                    "KAT_ID": "129",
                                    "RAKTAR_KOD": "9",
                                    "darabszám": "NULL"
                                },
                                {
                                    "KAT_ID": "129",
                                    "RAKTAR_KOD": "NULL",
                                    "darabszám": "NULL"
                                },
                                {
                                    "KAT_ID": "130",
                                    "RAKTAR_KOD": "1",
                                    "darabszám": "1db"
                                },
                                {
                                    "KAT_ID": "130",
                                    "RAKTAR_KOD": "1",
                                    "darabszám": "NULL"
                                },
                                {
                                    "KAT_ID": "130",
                                    "RAKTAR_KOD": "NULL",
                                    "darabszám": "NULL"
                                },
                                {
                                    "KAT_ID": "131",
                                    "RAKTAR_KOD": "9",
                                    "darabszám": "9db"
                                },
                                {
                                    "KAT_ID": "131",
                                    "RAKTAR_KOD": "9",
                                    "darabszám": "NULL"
                                },
                                {
                                    "KAT_ID": "131",
                                    "RAKTAR_KOD": "NULL",
                                    "darabszám": "NULL"
                                },
                                {
                                    "KAT_ID": "132",
                                    "RAKTAR_KOD": "8",
                                    "darabszám": "8db"
                                },
                                {
                                    "KAT_ID": "132",
                                    "RAKTAR_KOD": "8",
                                    "darabszám": "NULL"
                                },
                                {
                                    "KAT_ID": "132",
                                    "RAKTAR_KOD": "NULL",
                                    "darabszám": "NULL"
                                },
                                {
                                    "KAT_ID": "133",
                                    "RAKTAR_KOD": "5",
                                    "darabszám": "5csomag"
                                },
                                {
                                    "KAT_ID": "133",
                                    "RAKTAR_KOD": "5",
                                    "darabszám": "NULL"
                                },
                                {
                                    "KAT_ID": "133",
                                    "RAKTAR_KOD": "6",
                                    "darabszám": "6csomag"
                                },
                                {
                                    "KAT_ID": "133",
                                    "RAKTAR_KOD": "6",
                                    "darabszám": "NULL"
                                },
                                {
                                    "KAT_ID": "133",
                                    "RAKTAR_KOD": "7",
                                    "darabszám": "7csomag"
                                },
                                {
                                    "KAT_ID": "133",
                                    "RAKTAR_KOD": "7",
                                    "darabszám": "NULL"
                                },
                                {
                                    "KAT_ID": "133",
                                    "RAKTAR_KOD": "8",
                                    "darabszám": "8csomag"
                                },
                                {
                                    "KAT_ID": "133",
                                    "RAKTAR_KOD": "8",
                                    "darabszám": "NULL"
                                },
                                {
                                    "KAT_ID": "133",
                                    "RAKTAR_KOD": "9",
                                    "darabszám": "9csomag"
                                },
                                {
                                    "KAT_ID": "133",
                                    "RAKTAR_KOD": "9",
                                    "darabszám": "NULL"
                                },
                                {
                                    "KAT_ID": "133",
                                    "RAKTAR_KOD": "NULL",
                                    "darabszám": "NULL"
                                },
                                {
                                    "KAT_ID": "134",
                                    "RAKTAR_KOD": "5",
                                    "darabszám": "5db"
                                },
                                {
                                    "KAT_ID": "134",
                                    "RAKTAR_KOD": "5",
                                    "darabszám": "NULL"
                                },
                                {
                                    "KAT_ID": "134",
                                    "RAKTAR_KOD": "6",
                                    "darabszám": "6db"
                                },
                                {
                                    "KAT_ID": "134",
                                    "RAKTAR_KOD": "6",
                                    "darabszám": "NULL"
                                },
                                {
                                    "KAT_ID": "134",
                                    "RAKTAR_KOD": "NULL",
                                    "darabszám": "NULL"
                                },
                                {
                                    "KAT_ID": "135",
                                    "RAKTAR_KOD": "7",
                                    "darabszám": "7csomag"
                                },
                                {
                                    "KAT_ID": "135",
                                    "RAKTAR_KOD": "7",
                                    "darabszám": "NULL"
                                },
                                {
                                    "KAT_ID": "135",
                                    "RAKTAR_KOD": "NULL",
                                    "darabszám": "NULL"
                                },
                                {
                                    "KAT_ID": "136",
                                    "RAKTAR_KOD": "7",
                                    "darabszám": "7db"
                                },
                                {
                                    "KAT_ID": "136",
                                    "RAKTAR_KOD": "7",
                                    "darabszám": "NULL"
                                },
                                {
                                    "KAT_ID": "136",
                                    "RAKTAR_KOD": "8",
                                    "darabszám": "8db"
                                },
                                {
                                    "KAT_ID": "136",
                                    "RAKTAR_KOD": "8",
                                    "darabszám": "NULL"
                                },
                                {
                                    "KAT_ID": "136",
                                    "RAKTAR_KOD": "NULL",
                                    "darabszám": "NULL"
                                },
                                {
                                    "KAT_ID": "137",
                                    "RAKTAR_KOD": "6",
                                    "darabszám": "6db"
                                },
                                {
                                    "KAT_ID": "137",
                                    "RAKTAR_KOD": "6",
                                    "darabszám": "NULL"
                                },
                                {
                                    "KAT_ID": "137",
                                    "RAKTAR_KOD": "9",
                                    "darabszám": "9db"
                                },
                                {
                                    "KAT_ID": "137",
                                    "RAKTAR_KOD": "9",
                                    "darabszám": "NULL"
                                },
                                {
                                    "KAT_ID": "137",
                                    "RAKTAR_KOD": "NULL",
                                    "darabszám": "NULL"
                                },
                                {
                                    "KAT_ID": "138",
                                    "RAKTAR_KOD": "5",
                                    "darabszám": "5db"
                                },
                                {
                                    "KAT_ID": "138",
                                    "RAKTAR_KOD": "5",
                                    "darabszám": "NULL"
                                },
                                {
                                    "KAT_ID": "138",
                                    "RAKTAR_KOD": "6",
                                    "darabszám": "6csomag"
                                },
                                {
                                    "KAT_ID": "138",
                                    "RAKTAR_KOD": "6",
                                    "darabszám": "NULL"
                                },
                                {
                                    "KAT_ID": "138",
                                    "RAKTAR_KOD": "7",
                                    "darabszám": "7db"
                                },
                                {
                                    "KAT_ID": "138",
                                    "RAKTAR_KOD": "7",
                                    "darabszám": "NULL"
                                },
                                {
                                    "KAT_ID": "138",
                                    "RAKTAR_KOD": "8",
                                    "darabszám": "8db"
                                },
                                {
                                    "KAT_ID": "138",
                                    "RAKTAR_KOD": "8",
                                    "darabszám": "NULL"
                                },
                                {
                                    "KAT_ID": "138",
                                    "RAKTAR_KOD": "9",
                                    "darabszám": "9db"
                                },
                                {
                                    "KAT_ID": "138",
                                    "RAKTAR_KOD": "9",
                                    "darabszám": "NULL"
                                },
                                {
                                    "KAT_ID": "138",
                                    "RAKTAR_KOD": "NULL",
                                    "darabszám": "NULL"
                                },
                                {
                                    "KAT_ID": "139",
                                    "RAKTAR_KOD": "9",
                                    "darabszám": "9csomag"
                                },
                                {
                                    "KAT_ID": "139",
                                    "RAKTAR_KOD": "9",
                                    "darabszám": "NULL"
                                },
                                {
                                    "KAT_ID": "139",
                                    "RAKTAR_KOD": "NULL",
                                    "darabszám": "NULL"
                                },
                                {
                                    "KAT_ID": "140",
                                    "RAKTAR_KOD": "6",
                                    "darabszám": "6db"
                                },
                                {
                                    "KAT_ID": "140",
                                    "RAKTAR_KOD": "6",
                                    "darabszám": "NULL"
                                },
                                {
                                    "KAT_ID": "140",
                                    "RAKTAR_KOD": "NULL",
                                    "darabszám": "NULL"
                                },
                                {
                                    "KAT_ID": "141",
                                    "RAKTAR_KOD": "8",
                                    "darabszám": "8db"
                                },
                                {
                                    "KAT_ID": "141",
                                    "RAKTAR_KOD": "8",
                                    "darabszám": "NULL"
                                },
                                {
                                    "KAT_ID": "141",
                                    "RAKTAR_KOD": "NULL",
                                    "darabszám": "NULL"
                                },
                                {
                                    "KAT_ID": "142",
                                    "RAKTAR_KOD": "6",
                                    "darabszám": "6csomag"
                                },
                                {
                                    "KAT_ID": "142",
                                    "RAKTAR_KOD": "6",
                                    "darabszám": "NULL"
                                },
                                {
                                    "KAT_ID": "142",
                                    "RAKTAR_KOD": "NULL",
                                    "darabszám": "NULL"
                                },
                                {
                                    "KAT_ID": "143",
                                    "RAKTAR_KOD": "7",
                                    "darabszám": "7csomag"
                                },
                                {
                                    "KAT_ID": "143",
                                    "RAKTAR_KOD": "7",
                                    "darabszám": "7db"
                                },
                                {
                                    "KAT_ID": "143",
                                    "RAKTAR_KOD": "7",
                                    "darabszám": "NULL"
                                },
                                {
                                    "KAT_ID": "143",
                                    "RAKTAR_KOD": "9",
                                    "darabszám": "9db"
                                },
                                {
                                    "KAT_ID": "143",
                                    "RAKTAR_KOD": "9",
                                    "darabszám": "NULL"
                                },
                                {
                                    "KAT_ID": "143",
                                    "RAKTAR_KOD": "NULL",
                                    "darabszám": "NULL"
                                },
                                {
                                    "KAT_ID": "144",
                                    "RAKTAR_KOD": "5",
                                    "darabszám": "5db"
                                },
                                {
                                    "KAT_ID": "144",
                                    "RAKTAR_KOD": "5",
                                    "darabszám": "NULL"
                                },
                                {
                                    "KAT_ID": "144",
                                    "RAKTAR_KOD": "9",
                                    "darabszám": "9db"
                                },
                                {
                                    "KAT_ID": "144",
                                    "RAKTAR_KOD": "9",
                                    "darabszám": "NULL"
                                },
                                {
                                    "KAT_ID": "144",
                                    "RAKTAR_KOD": "NULL",
                                    "darabszám": "NULL"
                                },
                                {
                                    "KAT_ID": "145",
                                    "RAKTAR_KOD": "5",
                                    "darabszám": "5db"
                                },
                                {
                                    "KAT_ID": "145",
                                    "RAKTAR_KOD": "5",
                                    "darabszám": "NULL"
                                },
                                {
                                    "KAT_ID": "145",
                                    "RAKTAR_KOD": "6",
                                    "darabszám": "6db"
                                },
                                {
                                    "KAT_ID": "145",
                                    "RAKTAR_KOD": "6",
                                    "darabszám": "NULL"
                                },
                                {
                                    "KAT_ID": "145",
                                    "RAKTAR_KOD": "7",
                                    "darabszám": "7db"
                                },
                                {
                                    "KAT_ID": "145",
                                    "RAKTAR_KOD": "7",
                                    "darabszám": "NULL"
                                },
                                {
                                    "KAT_ID": "145",
                                    "RAKTAR_KOD": "8",
                                    "darabszám": "8db"
                                },
                                {
                                    "KAT_ID": "145",
                                    "RAKTAR_KOD": "8",
                                    "darabszám": "NULL"
                                },
                                {
                                    "KAT_ID": "145",
                                    "RAKTAR_KOD": "9",
                                    "darabszám": "9db"
                                },
                                {
                                    "KAT_ID": "145",
                                    "RAKTAR_KOD": "9",
                                    "darabszám": "NULL"
                                },
                                {
                                    "KAT_ID": "145",
                                    "RAKTAR_KOD": "NULL",
                                    "darabszám": "NULL"
                                },
                                {
                                    "KAT_ID": "146",
                                    "RAKTAR_KOD": "5",
                                    "darabszám": "5db"
                                },
                                {
                                    "KAT_ID": "146",
                                    "RAKTAR_KOD": "5",
                                    "darabszám": "NULL"
                                },
                                {
                                    "KAT_ID": "146",
                                    "RAKTAR_KOD": "7",
                                    "darabszám": "7db"
                                },
                                {
                                    "KAT_ID": "146",
                                    "RAKTAR_KOD": "7",
                                    "darabszám": "NULL"
                                },
                                {
                                    "KAT_ID": "146",
                                    "RAKTAR_KOD": "8",
                                    "darabszám": "8csomag"
                                },
                                {
                                    "KAT_ID": "146",
                                    "RAKTAR_KOD": "8",
                                    "darabszám": "NULL"
                                },
                                {
                                    "KAT_ID": "146",
                                    "RAKTAR_KOD": "9",
                                    "darabszám": "9db"
                                },
                                {
                                    "KAT_ID": "146",
                                    "RAKTAR_KOD": "9",
                                    "darabszám": "NULL"
                                },
                                {
                                    "KAT_ID": "146",
                                    "RAKTAR_KOD": "NULL",
                                    "darabszám": "NULL"
                                },
                                {
                                    "KAT_ID": "147",
                                    "RAKTAR_KOD": "8",
                                    "darabszám": "8db"
                                },
                                {
                                    "KAT_ID": "147",
                                    "RAKTAR_KOD": "8",
                                    "darabszám": "NULL"
                                },
                                {
                                    "KAT_ID": "147",
                                    "RAKTAR_KOD": "NULL",
                                    "darabszám": "NULL"
                                },
                                {
                                    "KAT_ID": "148",
                                    "RAKTAR_KOD": "5",
                                    "darabszám": "5üveg"
                                },
                                {
                                    "KAT_ID": "148",
                                    "RAKTAR_KOD": "5",
                                    "darabszám": "NULL"
                                },
                                {
                                    "KAT_ID": "148",
                                    "RAKTAR_KOD": "NULL",
                                    "darabszám": "NULL"
                                },
                                {
                                    "KAT_ID": "149",
                                    "RAKTAR_KOD": "5",
                                    "darabszám": "5db"
                                },
                                {
                                    "KAT_ID": "149",
                                    "RAKTAR_KOD": "5",
                                    "darabszám": "NULL"
                                },
                                {
                                    "KAT_ID": "149",
                                    "RAKTAR_KOD": "6",
                                    "darabszám": "6db"
                                },
                                {
                                    "KAT_ID": "149",
                                    "RAKTAR_KOD": "6",
                                    "darabszám": "NULL"
                                },
                                {
                                    "KAT_ID": "149",
                                    "RAKTAR_KOD": "8",
                                    "darabszám": "8db"
                                },
                                {
                                    "KAT_ID": "149",
                                    "RAKTAR_KOD": "8",
                                    "darabszám": "NULL"
                                },
                                {
                                    "KAT_ID": "149",
                                    "RAKTAR_KOD": "NULL",
                                    "darabszám": "NULL"
                                },
                                {
                                    "KAT_ID": "150",
                                    "RAKTAR_KOD": "7",
                                    "darabszám": "7csomag"
                                },
                                {
                                    "KAT_ID": "150",
                                    "RAKTAR_KOD": "7",
                                    "darabszám": "NULL"
                                },
                                {
                                    "KAT_ID": "150",
                                    "RAKTAR_KOD": "9",
                                    "darabszám": "9csomag"
                                },
                                {
                                    "KAT_ID": "150",
                                    "RAKTAR_KOD": "9",
                                    "darabszám": "NULL"
                                },
                                {
                                    "KAT_ID": "150",
                                    "RAKTAR_KOD": "NULL",
                                    "darabszám": "NULL"
                                },
                                {
                                    "KAT_ID": "151",
                                    "RAKTAR_KOD": "6",
                                    "darabszám": "6db"
                                },
                                {
                                    "KAT_ID": "151",
                                    "RAKTAR_KOD": "6",
                                    "darabszám": "NULL"
                                },
                                {
                                    "KAT_ID": "151",
                                    "RAKTAR_KOD": "7",
                                    "darabszám": "7db"
                                },
                                {
                                    "KAT_ID": "151",
                                    "RAKTAR_KOD": "7",
                                    "darabszám": "NULL"
                                },
                                {
                                    "KAT_ID": "151",
                                    "RAKTAR_KOD": "NULL",
                                    "darabszám": "NULL"
                                },
                                {
                                    "KAT_ID": "152",
                                    "RAKTAR_KOD": "6",
                                    "darabszám": "6db"
                                },
                                {
                                    "KAT_ID": "152",
                                    "RAKTAR_KOD": "6",
                                    "darabszám": "NULL"
                                },
                                {
                                    "KAT_ID": "152",
                                    "RAKTAR_KOD": "7",
                                    "darabszám": "7db"
                                },
                                {
                                    "KAT_ID": "152",
                                    "RAKTAR_KOD": "7",
                                    "darabszám": "NULL"
                                },
                                {
                                    "KAT_ID": "152",
                                    "RAKTAR_KOD": "8",
                                    "darabszám": "8db"
                                },
                                {
                                    "KAT_ID": "152",
                                    "RAKTAR_KOD": "8",
                                    "darabszám": "NULL"
                                },
                                {
                                    "KAT_ID": "152",
                                    "RAKTAR_KOD": "9",
                                    "darabszám": "9db"
                                },
                                {
                                    "KAT_ID": "152",
                                    "RAKTAR_KOD": "9",
                                    "darabszám": "NULL"
                                },
                                {
                                    "KAT_ID": "152",
                                    "RAKTAR_KOD": "NULL",
                                    "darabszám": "NULL"
                                },
                                {
                                    "KAT_ID": "153",
                                    "RAKTAR_KOD": "5",
                                    "darabszám": "5db"
                                },
                                {
                                    "KAT_ID": "153",
                                    "RAKTAR_KOD": "5",
                                    "darabszám": "NULL"
                                },
                                {
                                    "KAT_ID": "153",
                                    "RAKTAR_KOD": "NULL",
                                    "darabszám": "NULL"
                                },
                                {
                                    "KAT_ID": "154",
                                    "RAKTAR_KOD": "7",
                                    "darabszám": "7csomag"
                                },
                                {
                                    "KAT_ID": "154",
                                    "RAKTAR_KOD": "7",
                                    "darabszám": "7db"
                                },
                                {
                                    "KAT_ID": "154",
                                    "RAKTAR_KOD": "7",
                                    "darabszám": "NULL"
                                },
                                {
                                    "KAT_ID": "154",
                                    "RAKTAR_KOD": "9",
                                    "darabszám": "9db"
                                },
                                {
                                    "KAT_ID": "154",
                                    "RAKTAR_KOD": "9",
                                    "darabszám": "NULL"
                                },
                                {
                                    "KAT_ID": "154",
                                    "RAKTAR_KOD": "NULL",
                                    "darabszám": "NULL"
                                },
                                {
                                    "KAT_ID": "155",
                                    "RAKTAR_KOD": "8",
                                    "darabszám": "8db"
                                },
                                {
                                    "KAT_ID": "155",
                                    "RAKTAR_KOD": "8",
                                    "darabszám": "NULL"
                                },
                                {
                                    "KAT_ID": "155",
                                    "RAKTAR_KOD": "NULL",
                                    "darabszám": "NULL"
                                },
                                {
                                    "KAT_ID": "NULL",
                                    "RAKTAR_KOD": "NULL",
                                    "darabszám": "NULL"
                                }
                            ]
                        },
                        "text/html": "<table><tr><th>KAT_ID</th><th>RAKTAR_KOD</th><th>darabszám</th></tr><tr><td>4</td><td>5</td><td>5db</td></tr><tr><td>4</td><td>5</td><td>NULL</td></tr><tr><td>4</td><td>6</td><td>6db</td></tr><tr><td>4</td><td>6</td><td>NULL</td></tr><tr><td>4</td><td>7</td><td>7db</td></tr><tr><td>4</td><td>7</td><td>NULL</td></tr><tr><td>4</td><td>8</td><td>8db</td></tr><tr><td>4</td><td>8</td><td>NULL</td></tr><tr><td>4</td><td>9</td><td>9db</td></tr><tr><td>4</td><td>9</td><td>NULL</td></tr><tr><td>4</td><td>NULL</td><td>NULL</td></tr><tr><td>5</td><td>5</td><td>5db</td></tr><tr><td>5</td><td>5</td><td>NULL</td></tr><tr><td>5</td><td>9</td><td>9db</td></tr><tr><td>5</td><td>9</td><td>NULL</td></tr><tr><td>5</td><td>NULL</td><td>NULL</td></tr><tr><td>6</td><td>6</td><td>6db</td></tr><tr><td>6</td><td>6</td><td>NULL</td></tr><tr><td>6</td><td>7</td><td>7db</td></tr><tr><td>6</td><td>7</td><td>7tekercs</td></tr><tr><td>6</td><td>7</td><td>NULL</td></tr><tr><td>6</td><td>8</td><td>8db</td></tr><tr><td>6</td><td>8</td><td>NULL</td></tr><tr><td>6</td><td>9</td><td>9db</td></tr><tr><td>6</td><td>9</td><td>NULL</td></tr><tr><td>6</td><td>NULL</td><td>NULL</td></tr><tr><td>7</td><td>7</td><td>7db</td></tr><tr><td>7</td><td>7</td><td>NULL</td></tr><tr><td>7</td><td>8</td><td>8db</td></tr><tr><td>7</td><td>8</td><td>NULL</td></tr><tr><td>7</td><td>NULL</td><td>NULL</td></tr><tr><td>8</td><td>3</td><td>3db</td></tr><tr><td>8</td><td>3</td><td>NULL</td></tr><tr><td>8</td><td>4</td><td>4db</td></tr><tr><td>8</td><td>4</td><td>NULL</td></tr><tr><td>8</td><td>NULL</td><td>NULL</td></tr><tr><td>9</td><td>6</td><td>6db</td></tr><tr><td>9</td><td>6</td><td>NULL</td></tr><tr><td>9</td><td>9</td><td>9db</td></tr><tr><td>9</td><td>9</td><td>NULL</td></tr><tr><td>9</td><td>NULL</td><td>NULL</td></tr><tr><td>10</td><td>9</td><td>9db</td></tr><tr><td>10</td><td>9</td><td>NULL</td></tr><tr><td>10</td><td>NULL</td><td>NULL</td></tr><tr><td>11</td><td>8</td><td>8db</td></tr><tr><td>11</td><td>8</td><td>NULL</td></tr><tr><td>11</td><td>NULL</td><td>NULL</td></tr><tr><td>12</td><td>5</td><td>5db</td></tr><tr><td>12</td><td>5</td><td>NULL</td></tr><tr><td>12</td><td>NULL</td><td>NULL</td></tr><tr><td>13</td><td>5</td><td>5db</td></tr><tr><td>13</td><td>5</td><td>NULL</td></tr><tr><td>13</td><td>8</td><td>8db</td></tr><tr><td>13</td><td>8</td><td>NULL</td></tr><tr><td>13</td><td>NULL</td><td>NULL</td></tr><tr><td>14</td><td>6</td><td>6db</td></tr><tr><td>14</td><td>6</td><td>NULL</td></tr><tr><td>14</td><td>7</td><td>7db</td></tr><tr><td>14</td><td>7</td><td>NULL</td></tr><tr><td>14</td><td>8</td><td>8db</td></tr><tr><td>14</td><td>8</td><td>NULL</td></tr><tr><td>14</td><td>NULL</td><td>NULL</td></tr><tr><td>15</td><td>9</td><td>9db</td></tr><tr><td>15</td><td>9</td><td>NULL</td></tr><tr><td>15</td><td>NULL</td><td>NULL</td></tr><tr><td>16</td><td>5</td><td>5db</td></tr><tr><td>16</td><td>5</td><td>NULL</td></tr><tr><td>16</td><td>6</td><td>6db</td></tr><tr><td>16</td><td>6</td><td>NULL</td></tr><tr><td>16</td><td>7</td><td>7db</td></tr><tr><td>16</td><td>7</td><td>NULL</td></tr><tr><td>16</td><td>8</td><td>8db</td></tr><tr><td>16</td><td>8</td><td>NULL</td></tr><tr><td>16</td><td>9</td><td>9db</td></tr><tr><td>16</td><td>9</td><td>NULL</td></tr><tr><td>16</td><td>NULL</td><td>NULL</td></tr><tr><td>17</td><td>8</td><td>8db</td></tr><tr><td>17</td><td>8</td><td>NULL</td></tr><tr><td>17</td><td>NULL</td><td>NULL</td></tr><tr><td>18</td><td>8</td><td>8csomag</td></tr><tr><td>18</td><td>8</td><td>8db</td></tr><tr><td>18</td><td>8</td><td>NULL</td></tr><tr><td>18</td><td>NULL</td><td>NULL</td></tr><tr><td>19</td><td>5</td><td>5db</td></tr><tr><td>19</td><td>5</td><td>NULL</td></tr><tr><td>19</td><td>6</td><td>6db</td></tr><tr><td>19</td><td>6</td><td>NULL</td></tr><tr><td>19</td><td>7</td><td>7db</td></tr><tr><td>19</td><td>7</td><td>NULL</td></tr><tr><td>19</td><td>8</td><td>8db</td></tr><tr><td>19</td><td>8</td><td>NULL</td></tr><tr><td>19</td><td>9</td><td>9db</td></tr><tr><td>19</td><td>9</td><td>NULL</td></tr><tr><td>19</td><td>NULL</td><td>NULL</td></tr><tr><td>20</td><td>7</td><td>7db</td></tr><tr><td>20</td><td>7</td><td>NULL</td></tr><tr><td>20</td><td>9</td><td>9db</td></tr><tr><td>20</td><td>9</td><td>NULL</td></tr><tr><td>20</td><td>NULL</td><td>NULL</td></tr><tr><td>21</td><td>5</td><td>5csomag</td></tr><tr><td>21</td><td>5</td><td>5ív</td></tr><tr><td>21</td><td>5</td><td>NULL</td></tr><tr><td>21</td><td>6</td><td>6ív</td></tr><tr><td>21</td><td>6</td><td>NULL</td></tr><tr><td>21</td><td>9</td><td>9Ív</td></tr><tr><td>21</td><td>9</td><td>NULL</td></tr><tr><td>21</td><td>NULL</td><td>NULL</td></tr><tr><td>22</td><td>7</td><td>7db</td></tr><tr><td>22</td><td>7</td><td>NULL</td></tr><tr><td>22</td><td>8</td><td>8csomag</td></tr><tr><td>22</td><td>8</td><td>NULL</td></tr><tr><td>22</td><td>NULL</td><td>NULL</td></tr><tr><td>24</td><td>5</td><td>5db</td></tr><tr><td>24</td><td>5</td><td>5ív</td></tr><tr><td>24</td><td>5</td><td>NULL</td></tr><tr><td>24</td><td>6</td><td>6db</td></tr><tr><td>24</td><td>6</td><td>NULL</td></tr><tr><td>24</td><td>7</td><td>7db</td></tr><tr><td>24</td><td>7</td><td>NULL</td></tr><tr><td>24</td><td>9</td><td>9db</td></tr><tr><td>24</td><td>9</td><td>9ív</td></tr><tr><td>24</td><td>9</td><td>NULL</td></tr><tr><td>24</td><td>NULL</td><td>NULL</td></tr><tr><td>25</td><td>5</td><td>5db</td></tr><tr><td>25</td><td>5</td><td>NULL</td></tr><tr><td>25</td><td>6</td><td>6db</td></tr><tr><td>25</td><td>6</td><td>NULL</td></tr><tr><td>25</td><td>7</td><td>7db</td></tr><tr><td>25</td><td>7</td><td>NULL</td></tr><tr><td>25</td><td>8</td><td>8db</td></tr><tr><td>25</td><td>8</td><td>NULL</td></tr><tr><td>25</td><td>NULL</td><td>NULL</td></tr><tr><td>26</td><td>9</td><td>9ív</td></tr><tr><td>26</td><td>9</td><td>NULL</td></tr><tr><td>26</td><td>NULL</td><td>NULL</td></tr><tr><td>27</td><td>5</td><td>5db</td></tr><tr><td>27</td><td>5</td><td>NULL</td></tr><tr><td>27</td><td>7</td><td>7db</td></tr><tr><td>27</td><td>7</td><td>NULL</td></tr><tr><td>27</td><td>9</td><td>9db</td></tr><tr><td>27</td><td>9</td><td>NULL</td></tr><tr><td>27</td><td>NULL</td><td>NULL</td></tr><tr><td>28</td><td>6</td><td>6db</td></tr><tr><td>28</td><td>6</td><td>NULL</td></tr><tr><td>28</td><td>8</td><td>8db</td></tr><tr><td>28</td><td>8</td><td>NULL</td></tr><tr><td>28</td><td>NULL</td><td>NULL</td></tr><tr><td>29</td><td>9</td><td>9db</td></tr><tr><td>29</td><td>9</td><td>NULL</td></tr><tr><td>29</td><td>NULL</td><td>NULL</td></tr><tr><td>30</td><td>5</td><td>5db</td></tr><tr><td>30</td><td>5</td><td>NULL</td></tr><tr><td>30</td><td>6</td><td>6db</td></tr><tr><td>30</td><td>6</td><td>NULL</td></tr><tr><td>30</td><td>7</td><td>7db</td></tr><tr><td>30</td><td>7</td><td>NULL</td></tr><tr><td>30</td><td>8</td><td>8db</td></tr><tr><td>30</td><td>8</td><td>NULL</td></tr><tr><td>30</td><td>9</td><td>9db</td></tr><tr><td>30</td><td>9</td><td>NULL</td></tr><tr><td>30</td><td>NULL</td><td>NULL</td></tr><tr><td>31</td><td>5</td><td>5db</td></tr><tr><td>31</td><td>5</td><td>NULL</td></tr><tr><td>31</td><td>NULL</td><td>NULL</td></tr><tr><td>32</td><td>6</td><td>6db</td></tr><tr><td>32</td><td>6</td><td>NULL</td></tr><tr><td>32</td><td>7</td><td>7db</td></tr><tr><td>32</td><td>7</td><td>NULL</td></tr><tr><td>32</td><td>NULL</td><td>NULL</td></tr><tr><td>33</td><td>7</td><td>7db</td></tr><tr><td>33</td><td>7</td><td>NULL</td></tr><tr><td>33</td><td>NULL</td><td>NULL</td></tr><tr><td>34</td><td>9</td><td>9db</td></tr><tr><td>34</td><td>9</td><td>NULL</td></tr><tr><td>34</td><td>NULL</td><td>NULL</td></tr><tr><td>35</td><td>1</td><td>1db</td></tr><tr><td>35</td><td>1</td><td>NULL</td></tr><tr><td>35</td><td>2</td><td>2db</td></tr><tr><td>35</td><td>2</td><td>NULL</td></tr><tr><td>35</td><td>3</td><td>3db</td></tr><tr><td>35</td><td>3</td><td>NULL</td></tr><tr><td>35</td><td>4</td><td>4db</td></tr><tr><td>35</td><td>4</td><td>NULL</td></tr><tr><td>35</td><td>NULL</td><td>NULL</td></tr><tr><td>36</td><td>5</td><td>5csomag</td></tr><tr><td>36</td><td>5</td><td>NULL</td></tr><tr><td>36</td><td>6</td><td>6csomag</td></tr><tr><td>36</td><td>6</td><td>NULL</td></tr><tr><td>36</td><td>9</td><td>9csomag</td></tr><tr><td>36</td><td>9</td><td>NULL</td></tr><tr><td>36</td><td>NULL</td><td>NULL</td></tr><tr><td>37</td><td>1</td><td>1db</td></tr><tr><td>37</td><td>1</td><td>NULL</td></tr><tr><td>37</td><td>NULL</td><td>NULL</td></tr><tr><td>38</td><td>1</td><td>1db</td></tr><tr><td>38</td><td>1</td><td>NULL</td></tr><tr><td>38</td><td>NULL</td><td>NULL</td></tr><tr><td>39</td><td>1</td><td>1db</td></tr><tr><td>39</td><td>1</td><td>NULL</td></tr><tr><td>39</td><td>3</td><td>3db</td></tr><tr><td>39</td><td>3</td><td>NULL</td></tr><tr><td>39</td><td>NULL</td><td>NULL</td></tr><tr><td>40</td><td>6</td><td>6db</td></tr><tr><td>40</td><td>6</td><td>NULL</td></tr><tr><td>40</td><td>NULL</td><td>NULL</td></tr><tr><td>41</td><td>5</td><td>5db</td></tr><tr><td>41</td><td>5</td><td>NULL</td></tr><tr><td>41</td><td>7</td><td>7db</td></tr><tr><td>41</td><td>7</td><td>NULL</td></tr><tr><td>41</td><td>8</td><td>8db</td></tr><tr><td>41</td><td>8</td><td>NULL</td></tr><tr><td>41</td><td>9</td><td>9csomag</td></tr><tr><td>41</td><td>9</td><td>9db</td></tr><tr><td>41</td><td>9</td><td>NULL</td></tr><tr><td>41</td><td>NULL</td><td>NULL</td></tr><tr><td>42</td><td>7</td><td>7db</td></tr><tr><td>42</td><td>7</td><td>NULL</td></tr><tr><td>42</td><td>NULL</td><td>NULL</td></tr><tr><td>43</td><td>8</td><td>8ív</td></tr><tr><td>43</td><td>8</td><td>NULL</td></tr><tr><td>43</td><td>9</td><td>9ív</td></tr><tr><td>43</td><td>9</td><td>NULL</td></tr><tr><td>43</td><td>NULL</td><td>NULL</td></tr><tr><td>44</td><td>9</td><td>9db</td></tr><tr><td>44</td><td>9</td><td>NULL</td></tr><tr><td>44</td><td>NULL</td><td>NULL</td></tr><tr><td>45</td><td>5</td><td>5db</td></tr><tr><td>45</td><td>5</td><td>NULL</td></tr><tr><td>45</td><td>6</td><td>6db</td></tr><tr><td>45</td><td>6</td><td>NULL</td></tr><tr><td>45</td><td>7</td><td>7db</td></tr><tr><td>45</td><td>7</td><td>NULL</td></tr><tr><td>45</td><td>8</td><td>8db</td></tr><tr><td>45</td><td>8</td><td>NULL</td></tr><tr><td>45</td><td>9</td><td>9db</td></tr><tr><td>45</td><td>9</td><td>NULL</td></tr><tr><td>45</td><td>NULL</td><td>NULL</td></tr><tr><td>46</td><td>2</td><td>2db</td></tr><tr><td>46</td><td>2</td><td>NULL</td></tr><tr><td>46</td><td>6</td><td>6db</td></tr><tr><td>46</td><td>6</td><td>NULL</td></tr><tr><td>46</td><td>7</td><td>7csomag</td></tr><tr><td>46</td><td>7</td><td>7db</td></tr><tr><td>46</td><td>7</td><td>NULL</td></tr><tr><td>46</td><td>9</td><td>9db</td></tr><tr><td>46</td><td>9</td><td>NULL</td></tr><tr><td>46</td><td>NULL</td><td>NULL</td></tr><tr><td>47</td><td>6</td><td>6db</td></tr><tr><td>47</td><td>6</td><td>NULL</td></tr><tr><td>47</td><td>7</td><td>7db</td></tr><tr><td>47</td><td>7</td><td>NULL</td></tr><tr><td>47</td><td>9</td><td>9db</td></tr><tr><td>47</td><td>9</td><td>NULL</td></tr><tr><td>47</td><td>NULL</td><td>NULL</td></tr><tr><td>48</td><td>7</td><td>7db</td></tr><tr><td>48</td><td>7</td><td>NULL</td></tr><tr><td>48</td><td>8</td><td>8db</td></tr><tr><td>48</td><td>8</td><td>NULL</td></tr><tr><td>48</td><td>NULL</td><td>NULL</td></tr><tr><td>49</td><td>5</td><td>5csomag</td></tr><tr><td>49</td><td>5</td><td>NULL</td></tr><tr><td>49</td><td>8</td><td>8csomag</td></tr><tr><td>49</td><td>8</td><td>NULL</td></tr><tr><td>49</td><td>NULL</td><td>NULL</td></tr><tr><td>50</td><td>7</td><td>7csomag</td></tr><tr><td>50</td><td>7</td><td>NULL</td></tr><tr><td>50</td><td>NULL</td><td>NULL</td></tr><tr><td>51</td><td>7</td><td>7csomag</td></tr><tr><td>51</td><td>7</td><td>NULL</td></tr><tr><td>51</td><td>8</td><td>8db</td></tr><tr><td>51</td><td>8</td><td>NULL</td></tr><tr><td>51</td><td>9</td><td>9csomag</td></tr><tr><td>51</td><td>9</td><td>NULL</td></tr><tr><td>51</td><td>NULL</td><td>NULL</td></tr><tr><td>52</td><td>5</td><td>5db</td></tr><tr><td>52</td><td>5</td><td>NULL</td></tr><tr><td>52</td><td>6</td><td>6db</td></tr><tr><td>52</td><td>6</td><td>NULL</td></tr><tr><td>52</td><td>7</td><td>7db</td></tr><tr><td>52</td><td>7</td><td>NULL</td></tr><tr><td>52</td><td>8</td><td>8db</td></tr><tr><td>52</td><td>8</td><td>NULL</td></tr><tr><td>52</td><td>9</td><td>9db</td></tr><tr><td>52</td><td>9</td><td>NULL</td></tr><tr><td>52</td><td>NULL</td><td>NULL</td></tr><tr><td>53</td><td>9</td><td>9csomag</td></tr><tr><td>53</td><td>9</td><td>NULL</td></tr><tr><td>53</td><td>NULL</td><td>NULL</td></tr><tr><td>54</td><td>1</td><td>1db</td></tr><tr><td>54</td><td>1</td><td>NULL</td></tr><tr><td>54</td><td>2</td><td>2db</td></tr><tr><td>54</td><td>2</td><td>NULL</td></tr><tr><td>54</td><td>3</td><td>3db</td></tr><tr><td>54</td><td>3</td><td>NULL</td></tr><tr><td>54</td><td>NULL</td><td>NULL</td></tr><tr><td>55</td><td>1</td><td>1db</td></tr><tr><td>55</td><td>1</td><td>NULL</td></tr><tr><td>55</td><td>NULL</td><td>NULL</td></tr><tr><td>56</td><td>1</td><td>1db</td></tr><tr><td>56</td><td>1</td><td>NULL</td></tr><tr><td>56</td><td>3</td><td>3db</td></tr><tr><td>56</td><td>3</td><td>NULL</td></tr><tr><td>56</td><td>NULL</td><td>NULL</td></tr><tr><td>57</td><td>3</td><td>3db</td></tr><tr><td>57</td><td>3</td><td>NULL</td></tr><tr><td>57</td><td>NULL</td><td>NULL</td></tr><tr><td>58</td><td>5</td><td>5db</td></tr><tr><td>58</td><td>5</td><td>NULL</td></tr><tr><td>58</td><td>7</td><td>7db</td></tr><tr><td>58</td><td>7</td><td>NULL</td></tr><tr><td>58</td><td>8</td><td>8db</td></tr><tr><td>58</td><td>8</td><td>NULL</td></tr><tr><td>58</td><td>NULL</td><td>NULL</td></tr><tr><td>59</td><td>5</td><td>5csomag</td></tr><tr><td>59</td><td>5</td><td>NULL</td></tr><tr><td>59</td><td>6</td><td>6db</td></tr><tr><td>59</td><td>6</td><td>NULL</td></tr><tr><td>59</td><td>8</td><td>8db</td></tr><tr><td>59</td><td>8</td><td>NULL</td></tr><tr><td>59</td><td>9</td><td>9csomag</td></tr><tr><td>59</td><td>9</td><td>NULL</td></tr><tr><td>59</td><td>NULL</td><td>NULL</td></tr><tr><td>60</td><td>6</td><td>6db</td></tr><tr><td>60</td><td>6</td><td>NULL</td></tr><tr><td>60</td><td>7</td><td>7db</td></tr><tr><td>60</td><td>7</td><td>NULL</td></tr><tr><td>60</td><td>9</td><td>9db</td></tr><tr><td>60</td><td>9</td><td>NULL</td></tr><tr><td>60</td><td>NULL</td><td>NULL</td></tr><tr><td>61</td><td>8</td><td>8db</td></tr><tr><td>61</td><td>8</td><td>NULL</td></tr><tr><td>61</td><td>NULL</td><td>NULL</td></tr><tr><td>62</td><td>9</td><td>9db</td></tr><tr><td>62</td><td>9</td><td>NULL</td></tr><tr><td>62</td><td>NULL</td><td>NULL</td></tr><tr><td>64</td><td>6</td><td>6db</td></tr><tr><td>64</td><td>6</td><td>NULL</td></tr><tr><td>64</td><td>8</td><td>8db</td></tr><tr><td>64</td><td>8</td><td>NULL</td></tr><tr><td>64</td><td>NULL</td><td>NULL</td></tr><tr><td>65</td><td>7</td><td>7db</td></tr><tr><td>65</td><td>7</td><td>NULL</td></tr><tr><td>65</td><td>9</td><td>9db</td></tr><tr><td>65</td><td>9</td><td>NULL</td></tr><tr><td>65</td><td>NULL</td><td>NULL</td></tr><tr><td>66</td><td>5</td><td>5db</td></tr><tr><td>66</td><td>5</td><td>NULL</td></tr><tr><td>66</td><td>6</td><td>6db</td></tr><tr><td>66</td><td>6</td><td>NULL</td></tr><tr><td>66</td><td>7</td><td>7db</td></tr><tr><td>66</td><td>7</td><td>NULL</td></tr><tr><td>66</td><td>8</td><td>8db</td></tr><tr><td>66</td><td>8</td><td>NULL</td></tr><tr><td>66</td><td>9</td><td>9db</td></tr><tr><td>66</td><td>9</td><td>NULL</td></tr><tr><td>66</td><td>NULL</td><td>NULL</td></tr><tr><td>67</td><td>7</td><td>7db</td></tr><tr><td>67</td><td>7</td><td>NULL</td></tr><tr><td>67</td><td>8</td><td>8db</td></tr><tr><td>67</td><td>8</td><td>NULL</td></tr><tr><td>67</td><td>NULL</td><td>NULL</td></tr><tr><td>68</td><td>5</td><td>5db</td></tr><tr><td>68</td><td>5</td><td>NULL</td></tr><tr><td>68</td><td>NULL</td><td>NULL</td></tr><tr><td>70</td><td>6</td><td>6db</td></tr><tr><td>70</td><td>6</td><td>NULL</td></tr><tr><td>70</td><td>8</td><td>8db</td></tr><tr><td>70</td><td>8</td><td>NULL</td></tr><tr><td>70</td><td>NULL</td><td>NULL</td></tr><tr><td>71</td><td>5</td><td>5db</td></tr><tr><td>71</td><td>5</td><td>NULL</td></tr><tr><td>71</td><td>9</td><td>9db</td></tr><tr><td>71</td><td>9</td><td>NULL</td></tr><tr><td>71</td><td>NULL</td><td>NULL</td></tr><tr><td>72</td><td>6</td><td>6db</td></tr><tr><td>72</td><td>6</td><td>NULL</td></tr><tr><td>72</td><td>7</td><td>7db</td></tr><tr><td>72</td><td>7</td><td>NULL</td></tr><tr><td>72</td><td>NULL</td><td>NULL</td></tr><tr><td>73</td><td>7</td><td>7db</td></tr><tr><td>73</td><td>7</td><td>NULL</td></tr><tr><td>73</td><td>8</td><td>8db</td></tr><tr><td>73</td><td>8</td><td>NULL</td></tr><tr><td>73</td><td>NULL</td><td>NULL</td></tr><tr><td>74</td><td>5</td><td>5db</td></tr><tr><td>74</td><td>5</td><td>NULL</td></tr><tr><td>74</td><td>NULL</td><td>NULL</td></tr><tr><td>75</td><td>8</td><td>8db</td></tr><tr><td>75</td><td>8</td><td>NULL</td></tr><tr><td>75</td><td>NULL</td><td>NULL</td></tr><tr><td>76</td><td>5</td><td>5db</td></tr><tr><td>76</td><td>5</td><td>NULL</td></tr><tr><td>76</td><td>6</td><td>6db</td></tr><tr><td>76</td><td>6</td><td>NULL</td></tr><tr><td>76</td><td>7</td><td>7db</td></tr><tr><td>76</td><td>7</td><td>NULL</td></tr><tr><td>76</td><td>NULL</td><td>NULL</td></tr><tr><td>78</td><td>5</td><td>5csomag</td></tr><tr><td>78</td><td>5</td><td>5db</td></tr><tr><td>78</td><td>5</td><td>NULL</td></tr><tr><td>78</td><td>6</td><td>6csomag</td></tr><tr><td>78</td><td>6</td><td>6db</td></tr><tr><td>78</td><td>6</td><td>NULL</td></tr><tr><td>78</td><td>7</td><td>7csomag</td></tr><tr><td>78</td><td>7</td><td>7db</td></tr><tr><td>78</td><td>7</td><td>NULL</td></tr><tr><td>78</td><td>8</td><td>8db</td></tr><tr><td>78</td><td>8</td><td>NULL</td></tr><tr><td>78</td><td>9</td><td>9db</td></tr><tr><td>78</td><td>9</td><td>NULL</td></tr><tr><td>78</td><td>NULL</td><td>NULL</td></tr><tr><td>79</td><td>7</td><td>7db</td></tr><tr><td>79</td><td>7</td><td>NULL</td></tr><tr><td>79</td><td>NULL</td><td>NULL</td></tr><tr><td>80</td><td>5</td><td>5db</td></tr><tr><td>80</td><td>5</td><td>NULL</td></tr><tr><td>80</td><td>NULL</td><td>NULL</td></tr><tr><td>82</td><td>8</td><td>8db</td></tr><tr><td>82</td><td>8</td><td>NULL</td></tr><tr><td>82</td><td>NULL</td><td>NULL</td></tr><tr><td>83</td><td>5</td><td>5ív</td></tr><tr><td>83</td><td>5</td><td>NULL</td></tr><tr><td>83</td><td>6</td><td>6ív</td></tr><tr><td>83</td><td>6</td><td>NULL</td></tr><tr><td>83</td><td>7</td><td>7ív</td></tr><tr><td>83</td><td>7</td><td>NULL</td></tr><tr><td>83</td><td>8</td><td>8ív</td></tr><tr><td>83</td><td>8</td><td>NULL</td></tr><tr><td>83</td><td>9</td><td>9ív</td></tr><tr><td>83</td><td>9</td><td>NULL</td></tr><tr><td>83</td><td>NULL</td><td>NULL</td></tr><tr><td>84</td><td>6</td><td>6db</td></tr><tr><td>84</td><td>6</td><td>NULL</td></tr><tr><td>84</td><td>NULL</td><td>NULL</td></tr><tr><td>85</td><td>5</td><td>5db</td></tr><tr><td>85</td><td>5</td><td>NULL</td></tr><tr><td>85</td><td>6</td><td>6db</td></tr><tr><td>85</td><td>6</td><td>NULL</td></tr><tr><td>85</td><td>7</td><td>7db</td></tr><tr><td>85</td><td>7</td><td>NULL</td></tr><tr><td>85</td><td>8</td><td>8db</td></tr><tr><td>85</td><td>8</td><td>NULL</td></tr><tr><td>85</td><td>9</td><td>9db</td></tr><tr><td>85</td><td>9</td><td>NULL</td></tr><tr><td>85</td><td>NULL</td><td>NULL</td></tr><tr><td>86</td><td>7</td><td>7db</td></tr><tr><td>86</td><td>7</td><td>NULL</td></tr><tr><td>86</td><td>NULL</td><td>NULL</td></tr><tr><td>88</td><td>2</td><td>2db</td></tr><tr><td>88</td><td>2</td><td>NULL</td></tr><tr><td>88</td><td>3</td><td>3db</td></tr><tr><td>88</td><td>3</td><td>NULL</td></tr><tr><td>88</td><td>NULL</td><td>NULL</td></tr><tr><td>89</td><td>5</td><td>5db</td></tr><tr><td>89</td><td>5</td><td>NULL</td></tr><tr><td>89</td><td>6</td><td>6db</td></tr><tr><td>89</td><td>6</td><td>NULL</td></tr><tr><td>89</td><td>8</td><td>8db</td></tr><tr><td>89</td><td>8</td><td>NULL</td></tr><tr><td>89</td><td>NULL</td><td>NULL</td></tr><tr><td>90</td><td>5</td><td>5ív</td></tr><tr><td>90</td><td>5</td><td>NULL</td></tr><tr><td>90</td><td>8</td><td>8Ív</td></tr><tr><td>90</td><td>8</td><td>NULL</td></tr><tr><td>90</td><td>NULL</td><td>NULL</td></tr><tr><td>91</td><td>8</td><td>8db</td></tr><tr><td>91</td><td>8</td><td>NULL</td></tr><tr><td>91</td><td>9</td><td>9db</td></tr><tr><td>91</td><td>9</td><td>NULL</td></tr><tr><td>91</td><td>NULL</td><td>NULL</td></tr><tr><td>92</td><td>7</td><td>7db</td></tr><tr><td>92</td><td>7</td><td>NULL</td></tr><tr><td>92</td><td>8</td><td>8db</td></tr><tr><td>92</td><td>8</td><td>NULL</td></tr><tr><td>92</td><td>NULL</td><td>NULL</td></tr><tr><td>93</td><td>6</td><td>6csomag</td></tr><tr><td>93</td><td>6</td><td>6db</td></tr><tr><td>93</td><td>6</td><td>NULL</td></tr><tr><td>93</td><td>7</td><td>7db</td></tr><tr><td>93</td><td>7</td><td>NULL</td></tr><tr><td>93</td><td>NULL</td><td>NULL</td></tr><tr><td>94</td><td>6</td><td>6db</td></tr><tr><td>94</td><td>6</td><td>NULL</td></tr><tr><td>94</td><td>7</td><td>7db</td></tr><tr><td>94</td><td>7</td><td>NULL</td></tr><tr><td>94</td><td>NULL</td><td>NULL</td></tr><tr><td>95</td><td>7</td><td>7db</td></tr><tr><td>95</td><td>7</td><td>NULL</td></tr><tr><td>95</td><td>9</td><td>9db</td></tr><tr><td>95</td><td>9</td><td>NULL</td></tr><tr><td>95</td><td>NULL</td><td>NULL</td></tr><tr><td>96</td><td>6</td><td>6db</td></tr><tr><td>96</td><td>6</td><td>NULL</td></tr><tr><td>96</td><td>7</td><td>7db</td></tr><tr><td>96</td><td>7</td><td>NULL</td></tr><tr><td>96</td><td>8</td><td>8db</td></tr><tr><td>96</td><td>8</td><td>NULL</td></tr><tr><td>96</td><td>9</td><td>9db</td></tr><tr><td>96</td><td>9</td><td>NULL</td></tr><tr><td>96</td><td>NULL</td><td>NULL</td></tr><tr><td>97</td><td>5</td><td>5db</td></tr><tr><td>97</td><td>5</td><td>NULL</td></tr><tr><td>97</td><td>6</td><td>6db</td></tr><tr><td>97</td><td>6</td><td>NULL</td></tr><tr><td>97</td><td>7</td><td>7db</td></tr><tr><td>97</td><td>7</td><td>NULL</td></tr><tr><td>97</td><td>8</td><td>8db</td></tr><tr><td>97</td><td>8</td><td>NULL</td></tr><tr><td>97</td><td>9</td><td>9db</td></tr><tr><td>97</td><td>9</td><td>NULL</td></tr><tr><td>97</td><td>NULL</td><td>NULL</td></tr><tr><td>98</td><td>5</td><td>5db</td></tr><tr><td>98</td><td>5</td><td>NULL</td></tr><tr><td>98</td><td>6</td><td>6db</td></tr><tr><td>98</td><td>6</td><td>NULL</td></tr><tr><td>98</td><td>9</td><td>9db</td></tr><tr><td>98</td><td>9</td><td>NULL</td></tr><tr><td>98</td><td>NULL</td><td>NULL</td></tr><tr><td>99</td><td>6</td><td>6db</td></tr><tr><td>99</td><td>6</td><td>NULL</td></tr><tr><td>99</td><td>NULL</td><td>NULL</td></tr><tr><td>100</td><td>5</td><td>5db</td></tr><tr><td>100</td><td>5</td><td>NULL</td></tr><tr><td>100</td><td>6</td><td>6db</td></tr><tr><td>100</td><td>6</td><td>NULL</td></tr><tr><td>100</td><td>7</td><td>7db</td></tr><tr><td>100</td><td>7</td><td>NULL</td></tr><tr><td>100</td><td>8</td><td>8db</td></tr><tr><td>100</td><td>8</td><td>NULL</td></tr><tr><td>100</td><td>9</td><td>9db</td></tr><tr><td>100</td><td>9</td><td>NULL</td></tr><tr><td>100</td><td>NULL</td><td>NULL</td></tr><tr><td>101</td><td>8</td><td>8ív</td></tr><tr><td>101</td><td>8</td><td>NULL</td></tr><tr><td>101</td><td>NULL</td><td>NULL</td></tr><tr><td>103</td><td>8</td><td>8db</td></tr><tr><td>103</td><td>8</td><td>NULL</td></tr><tr><td>103</td><td>NULL</td><td>NULL</td></tr><tr><td>104</td><td>8</td><td>8db</td></tr><tr><td>104</td><td>8</td><td>NULL</td></tr><tr><td>104</td><td>9</td><td>9db</td></tr><tr><td>104</td><td>9</td><td>NULL</td></tr><tr><td>104</td><td>NULL</td><td>NULL</td></tr><tr><td>105</td><td>9</td><td>9db</td></tr><tr><td>105</td><td>9</td><td>NULL</td></tr><tr><td>105</td><td>NULL</td><td>NULL</td></tr><tr><td>106</td><td>5</td><td>5db</td></tr><tr><td>106</td><td>5</td><td>NULL</td></tr><tr><td>106</td><td>6</td><td>6db</td></tr><tr><td>106</td><td>6</td><td>NULL</td></tr><tr><td>106</td><td>9</td><td>9db</td></tr><tr><td>106</td><td>9</td><td>NULL</td></tr><tr><td>106</td><td>NULL</td><td>NULL</td></tr><tr><td>107</td><td>1</td><td>1db</td></tr><tr><td>107</td><td>1</td><td>NULL</td></tr><tr><td>107</td><td>NULL</td><td>NULL</td></tr><tr><td>108</td><td>2</td><td>2db</td></tr><tr><td>108</td><td>2</td><td>NULL</td></tr><tr><td>108</td><td>NULL</td><td>NULL</td></tr><tr><td>109</td><td>7</td><td>7ív</td></tr><tr><td>109</td><td>7</td><td>NULL</td></tr><tr><td>109</td><td>NULL</td><td>NULL</td></tr><tr><td>110</td><td>9</td><td>9db</td></tr><tr><td>110</td><td>9</td><td>NULL</td></tr><tr><td>110</td><td>NULL</td><td>NULL</td></tr><tr><td>111</td><td>5</td><td>5db</td></tr><tr><td>111</td><td>5</td><td>NULL</td></tr><tr><td>111</td><td>7</td><td>7db</td></tr><tr><td>111</td><td>7</td><td>NULL</td></tr><tr><td>111</td><td>8</td><td>8db</td></tr><tr><td>111</td><td>8</td><td>NULL</td></tr><tr><td>111</td><td>NULL</td><td>NULL</td></tr><tr><td>112</td><td>5</td><td>5doboz</td></tr><tr><td>112</td><td>5</td><td>NULL</td></tr><tr><td>112</td><td>8</td><td>8db</td></tr><tr><td>112</td><td>8</td><td>NULL</td></tr><tr><td>112</td><td>NULL</td><td>NULL</td></tr><tr><td>114</td><td>8</td><td>8csomag</td></tr><tr><td>114</td><td>8</td><td>NULL</td></tr><tr><td>114</td><td>NULL</td><td>NULL</td></tr><tr><td>115</td><td>8</td><td>8ív</td></tr><tr><td>115</td><td>8</td><td>NULL</td></tr><tr><td>115</td><td>NULL</td><td>NULL</td></tr><tr><td>116</td><td>6</td><td>6db</td></tr><tr><td>116</td><td>6</td><td>NULL</td></tr><tr><td>116</td><td>7</td><td>7db</td></tr><tr><td>116</td><td>7</td><td>NULL</td></tr><tr><td>116</td><td>NULL</td><td>NULL</td></tr><tr><td>117</td><td>6</td><td>6db</td></tr><tr><td>117</td><td>6</td><td>NULL</td></tr><tr><td>117</td><td>9</td><td>9db</td></tr><tr><td>117</td><td>9</td><td>NULL</td></tr><tr><td>117</td><td>NULL</td><td>NULL</td></tr><tr><td>118</td><td>5</td><td>5db</td></tr><tr><td>118</td><td>5</td><td>NULL</td></tr><tr><td>118</td><td>7</td><td>7db</td></tr><tr><td>118</td><td>7</td><td>NULL</td></tr><tr><td>118</td><td>8</td><td>8db</td></tr><tr><td>118</td><td>8</td><td>NULL</td></tr><tr><td>118</td><td>9</td><td>9db</td></tr><tr><td>118</td><td>9</td><td>NULL</td></tr><tr><td>118</td><td>NULL</td><td>NULL</td></tr><tr><td>119</td><td>5</td><td>5db</td></tr><tr><td>119</td><td>5</td><td>NULL</td></tr><tr><td>119</td><td>7</td><td>7db</td></tr><tr><td>119</td><td>7</td><td>NULL</td></tr><tr><td>119</td><td>9</td><td>9db</td></tr><tr><td>119</td><td>9</td><td>NULL</td></tr><tr><td>119</td><td>NULL</td><td>NULL</td></tr><tr><td>121</td><td>7</td><td>7db</td></tr><tr><td>121</td><td>7</td><td>NULL</td></tr><tr><td>121</td><td>8</td><td>8db</td></tr><tr><td>121</td><td>8</td><td>NULL</td></tr><tr><td>121</td><td>NULL</td><td>NULL</td></tr><tr><td>122</td><td>6</td><td>6db</td></tr><tr><td>122</td><td>6</td><td>NULL</td></tr><tr><td>122</td><td>7</td><td>7db</td></tr><tr><td>122</td><td>7</td><td>NULL</td></tr><tr><td>122</td><td>8</td><td>8db</td></tr><tr><td>122</td><td>8</td><td>NULL</td></tr><tr><td>122</td><td>9</td><td>9db</td></tr><tr><td>122</td><td>9</td><td>NULL</td></tr><tr><td>122</td><td>NULL</td><td>NULL</td></tr><tr><td>123</td><td>5</td><td>5db</td></tr><tr><td>123</td><td>5</td><td>NULL</td></tr><tr><td>123</td><td>7</td><td>7db</td></tr><tr><td>123</td><td>7</td><td>NULL</td></tr><tr><td>123</td><td>NULL</td><td>NULL</td></tr><tr><td>124</td><td>5</td><td>5db</td></tr><tr><td>124</td><td>5</td><td>NULL</td></tr><tr><td>124</td><td>6</td><td>6db</td></tr><tr><td>124</td><td>6</td><td>NULL</td></tr><tr><td>124</td><td>7</td><td>7db</td></tr><tr><td>124</td><td>7</td><td>NULL</td></tr><tr><td>124</td><td>8</td><td>8db</td></tr><tr><td>124</td><td>8</td><td>NULL</td></tr><tr><td>124</td><td>9</td><td>9db</td></tr><tr><td>124</td><td>9</td><td>NULL</td></tr><tr><td>124</td><td>NULL</td><td>NULL</td></tr><tr><td>125</td><td>6</td><td>6db</td></tr><tr><td>125</td><td>6</td><td>NULL</td></tr><tr><td>125</td><td>7</td><td>7db</td></tr><tr><td>125</td><td>7</td><td>NULL</td></tr><tr><td>125</td><td>9</td><td>9db</td></tr><tr><td>125</td><td>9</td><td>NULL</td></tr><tr><td>125</td><td>NULL</td><td>NULL</td></tr><tr><td>126</td><td>9</td><td>9csomag</td></tr><tr><td>126</td><td>9</td><td>NULL</td></tr><tr><td>126</td><td>NULL</td><td>NULL</td></tr><tr><td>127</td><td>5</td><td>5csomag</td></tr><tr><td>127</td><td>5</td><td>NULL</td></tr><tr><td>127</td><td>9</td><td>9csomag</td></tr><tr><td>127</td><td>9</td><td>NULL</td></tr><tr><td>127</td><td>NULL</td><td>NULL</td></tr><tr><td>128</td><td>6</td><td>6db</td></tr><tr><td>128</td><td>6</td><td>NULL</td></tr><tr><td>128</td><td>8</td><td>8csomag</td></tr><tr><td>128</td><td>8</td><td>NULL</td></tr><tr><td>128</td><td>NULL</td><td>NULL</td></tr><tr><td>129</td><td>5</td><td>5db</td></tr><tr><td>129</td><td>5</td><td>NULL</td></tr><tr><td>129</td><td>9</td><td>9db</td></tr><tr><td>129</td><td>9</td><td>NULL</td></tr><tr><td>129</td><td>NULL</td><td>NULL</td></tr><tr><td>130</td><td>1</td><td>1db</td></tr><tr><td>130</td><td>1</td><td>NULL</td></tr><tr><td>130</td><td>NULL</td><td>NULL</td></tr><tr><td>131</td><td>9</td><td>9db</td></tr><tr><td>131</td><td>9</td><td>NULL</td></tr><tr><td>131</td><td>NULL</td><td>NULL</td></tr><tr><td>132</td><td>8</td><td>8db</td></tr><tr><td>132</td><td>8</td><td>NULL</td></tr><tr><td>132</td><td>NULL</td><td>NULL</td></tr><tr><td>133</td><td>5</td><td>5csomag</td></tr><tr><td>133</td><td>5</td><td>NULL</td></tr><tr><td>133</td><td>6</td><td>6csomag</td></tr><tr><td>133</td><td>6</td><td>NULL</td></tr><tr><td>133</td><td>7</td><td>7csomag</td></tr><tr><td>133</td><td>7</td><td>NULL</td></tr><tr><td>133</td><td>8</td><td>8csomag</td></tr><tr><td>133</td><td>8</td><td>NULL</td></tr><tr><td>133</td><td>9</td><td>9csomag</td></tr><tr><td>133</td><td>9</td><td>NULL</td></tr><tr><td>133</td><td>NULL</td><td>NULL</td></tr><tr><td>134</td><td>5</td><td>5db</td></tr><tr><td>134</td><td>5</td><td>NULL</td></tr><tr><td>134</td><td>6</td><td>6db</td></tr><tr><td>134</td><td>6</td><td>NULL</td></tr><tr><td>134</td><td>NULL</td><td>NULL</td></tr><tr><td>135</td><td>7</td><td>7csomag</td></tr><tr><td>135</td><td>7</td><td>NULL</td></tr><tr><td>135</td><td>NULL</td><td>NULL</td></tr><tr><td>136</td><td>7</td><td>7db</td></tr><tr><td>136</td><td>7</td><td>NULL</td></tr><tr><td>136</td><td>8</td><td>8db</td></tr><tr><td>136</td><td>8</td><td>NULL</td></tr><tr><td>136</td><td>NULL</td><td>NULL</td></tr><tr><td>137</td><td>6</td><td>6db</td></tr><tr><td>137</td><td>6</td><td>NULL</td></tr><tr><td>137</td><td>9</td><td>9db</td></tr><tr><td>137</td><td>9</td><td>NULL</td></tr><tr><td>137</td><td>NULL</td><td>NULL</td></tr><tr><td>138</td><td>5</td><td>5db</td></tr><tr><td>138</td><td>5</td><td>NULL</td></tr><tr><td>138</td><td>6</td><td>6csomag</td></tr><tr><td>138</td><td>6</td><td>NULL</td></tr><tr><td>138</td><td>7</td><td>7db</td></tr><tr><td>138</td><td>7</td><td>NULL</td></tr><tr><td>138</td><td>8</td><td>8db</td></tr><tr><td>138</td><td>8</td><td>NULL</td></tr><tr><td>138</td><td>9</td><td>9db</td></tr><tr><td>138</td><td>9</td><td>NULL</td></tr><tr><td>138</td><td>NULL</td><td>NULL</td></tr><tr><td>139</td><td>9</td><td>9csomag</td></tr><tr><td>139</td><td>9</td><td>NULL</td></tr><tr><td>139</td><td>NULL</td><td>NULL</td></tr><tr><td>140</td><td>6</td><td>6db</td></tr><tr><td>140</td><td>6</td><td>NULL</td></tr><tr><td>140</td><td>NULL</td><td>NULL</td></tr><tr><td>141</td><td>8</td><td>8db</td></tr><tr><td>141</td><td>8</td><td>NULL</td></tr><tr><td>141</td><td>NULL</td><td>NULL</td></tr><tr><td>142</td><td>6</td><td>6csomag</td></tr><tr><td>142</td><td>6</td><td>NULL</td></tr><tr><td>142</td><td>NULL</td><td>NULL</td></tr><tr><td>143</td><td>7</td><td>7csomag</td></tr><tr><td>143</td><td>7</td><td>7db</td></tr><tr><td>143</td><td>7</td><td>NULL</td></tr><tr><td>143</td><td>9</td><td>9db</td></tr><tr><td>143</td><td>9</td><td>NULL</td></tr><tr><td>143</td><td>NULL</td><td>NULL</td></tr><tr><td>144</td><td>5</td><td>5db</td></tr><tr><td>144</td><td>5</td><td>NULL</td></tr><tr><td>144</td><td>9</td><td>9db</td></tr><tr><td>144</td><td>9</td><td>NULL</td></tr><tr><td>144</td><td>NULL</td><td>NULL</td></tr><tr><td>145</td><td>5</td><td>5db</td></tr><tr><td>145</td><td>5</td><td>NULL</td></tr><tr><td>145</td><td>6</td><td>6db</td></tr><tr><td>145</td><td>6</td><td>NULL</td></tr><tr><td>145</td><td>7</td><td>7db</td></tr><tr><td>145</td><td>7</td><td>NULL</td></tr><tr><td>145</td><td>8</td><td>8db</td></tr><tr><td>145</td><td>8</td><td>NULL</td></tr><tr><td>145</td><td>9</td><td>9db</td></tr><tr><td>145</td><td>9</td><td>NULL</td></tr><tr><td>145</td><td>NULL</td><td>NULL</td></tr><tr><td>146</td><td>5</td><td>5db</td></tr><tr><td>146</td><td>5</td><td>NULL</td></tr><tr><td>146</td><td>7</td><td>7db</td></tr><tr><td>146</td><td>7</td><td>NULL</td></tr><tr><td>146</td><td>8</td><td>8csomag</td></tr><tr><td>146</td><td>8</td><td>NULL</td></tr><tr><td>146</td><td>9</td><td>9db</td></tr><tr><td>146</td><td>9</td><td>NULL</td></tr><tr><td>146</td><td>NULL</td><td>NULL</td></tr><tr><td>147</td><td>8</td><td>8db</td></tr><tr><td>147</td><td>8</td><td>NULL</td></tr><tr><td>147</td><td>NULL</td><td>NULL</td></tr><tr><td>148</td><td>5</td><td>5üveg</td></tr><tr><td>148</td><td>5</td><td>NULL</td></tr><tr><td>148</td><td>NULL</td><td>NULL</td></tr><tr><td>149</td><td>5</td><td>5db</td></tr><tr><td>149</td><td>5</td><td>NULL</td></tr><tr><td>149</td><td>6</td><td>6db</td></tr><tr><td>149</td><td>6</td><td>NULL</td></tr><tr><td>149</td><td>8</td><td>8db</td></tr><tr><td>149</td><td>8</td><td>NULL</td></tr><tr><td>149</td><td>NULL</td><td>NULL</td></tr><tr><td>150</td><td>7</td><td>7csomag</td></tr><tr><td>150</td><td>7</td><td>NULL</td></tr><tr><td>150</td><td>9</td><td>9csomag</td></tr><tr><td>150</td><td>9</td><td>NULL</td></tr><tr><td>150</td><td>NULL</td><td>NULL</td></tr><tr><td>151</td><td>6</td><td>6db</td></tr><tr><td>151</td><td>6</td><td>NULL</td></tr><tr><td>151</td><td>7</td><td>7db</td></tr><tr><td>151</td><td>7</td><td>NULL</td></tr><tr><td>151</td><td>NULL</td><td>NULL</td></tr><tr><td>152</td><td>6</td><td>6db</td></tr><tr><td>152</td><td>6</td><td>NULL</td></tr><tr><td>152</td><td>7</td><td>7db</td></tr><tr><td>152</td><td>7</td><td>NULL</td></tr><tr><td>152</td><td>8</td><td>8db</td></tr><tr><td>152</td><td>8</td><td>NULL</td></tr><tr><td>152</td><td>9</td><td>9db</td></tr><tr><td>152</td><td>9</td><td>NULL</td></tr><tr><td>152</td><td>NULL</td><td>NULL</td></tr><tr><td>153</td><td>5</td><td>5db</td></tr><tr><td>153</td><td>5</td><td>NULL</td></tr><tr><td>153</td><td>NULL</td><td>NULL</td></tr><tr><td>154</td><td>7</td><td>7csomag</td></tr><tr><td>154</td><td>7</td><td>7db</td></tr><tr><td>154</td><td>7</td><td>NULL</td></tr><tr><td>154</td><td>9</td><td>9db</td></tr><tr><td>154</td><td>9</td><td>NULL</td></tr><tr><td>154</td><td>NULL</td><td>NULL</td></tr><tr><td>155</td><td>8</td><td>8db</td></tr><tr><td>155</td><td>8</td><td>NULL</td></tr><tr><td>155</td><td>NULL</td><td>NULL</td></tr><tr><td>NULL</td><td>NULL</td><td>NULL</td></tr></table>"
                    },
                    "metadata": {}
                }
            ],
            "execution_count": 17
        },
        {
            "cell_type": "markdown",
            "source": [
                "```\n",
                "3. Készítsünk listát az egyes termékkategóriákban lévő termékek számáról! \n",
                "\n",
                "```\n",
                "\n",
                "a. Elég megjeleníteni a kategóriák azonosítóit és a darabszámokat!   \n",
                "<span style=\"color: var(--vscode-foreground);\">b. A lista megfelelően jelölve tartalmazza a végösszeget is!&nbsp;<br></span> <span style=\"color: var(--vscode-foreground);\">c. Az oszlopokat nevezzük el értelemszerűen!&nbsp;<br></span> <span style=\"color: var(--vscode-foreground);\">d. A listát rendezzük a darabszám szerint növekvő sorrendbe!</span>\n",
                "\n",
                "  \n",
                "\n",
                "![](https://moodle.uni-corvinus.hu/theme/image.php/adaptable/atto_h5p/1709548862/icon)"
            ],
            "metadata": {
                "azdata_cell_guid": "d7876bb9-76d0-4d07-baed-3cb17b2f96c3"
            },
            "attachments": {}
        },
        {
            "cell_type": "code",
            "source": [
                "select tk.KAT_NEV, count(*) as 'darabszám'\r\n",
                "from Termek t left join Termekkategoria tk on t.KAT_ID=tk.KAT_ID\r\n",
                "group by rollup (KAT_NEV)\r\n",
                "order by count(*) ASC"
            ],
            "metadata": {
                "azdata_cell_guid": "56ec19ce-e249-4551-b2a8-f17569765acc",
                "language": "sql"
            },
            "outputs": [
                {
                    "output_type": "display_data",
                    "data": {
                        "text/html": "(144 rows affected)"
                    },
                    "metadata": {}
                },
                {
                    "output_type": "display_data",
                    "data": {
                        "text/html": "Total execution time: 00:00:00.074"
                    },
                    "metadata": {}
                },
                {
                    "output_type": "execute_result",
                    "execution_count": 22,
                    "data": {
                        "application/vnd.dataresource+json": {
                            "schema": {
                                "fields": [
                                    {
                                        "name": "KAT_NEV"
                                    },
                                    {
                                        "name": "darabszám"
                                    }
                                ]
                            },
                            "data": [
                                {
                                    "KAT_NEV": "árazószalag",
                                    "darabszám": "1"
                                },
                                {
                                    "KAT_NEV": "átírótömb",
                                    "darabszám": "1"
                                },
                                {
                                    "KAT_NEV": "beíró",
                                    "darabszám": "1"
                                },
                                {
                                    "KAT_NEV": "bélyegzőfesték",
                                    "darabszám": "1"
                                },
                                {
                                    "KAT_NEV": "cd tok",
                                    "darabszám": "1"
                                },
                                {
                                    "KAT_NEV": "dipa",
                                    "darabszám": "1"
                                },
                                {
                                    "KAT_NEV": "dvd",
                                    "darabszám": "1"
                                },
                                {
                                    "KAT_NEV": "előlap",
                                    "darabszám": "1"
                                },
                                {
                                    "KAT_NEV": "emléklap",
                                    "darabszám": "1"
                                },
                                {
                                    "KAT_NEV": "fax papír",
                                    "darabszám": "1"
                                },
                                {
                                    "KAT_NEV": "férfi ing",
                                    "darabszám": "1"
                                },
                                {
                                    "KAT_NEV": "férfi kabát",
                                    "darabszám": "1"
                                },
                                {
                                    "KAT_NEV": "festékpatron",
                                    "darabszám": "1"
                                },
                                {
                                    "KAT_NEV": "floppy",
                                    "darabszám": "1"
                                },
                                {
                                    "KAT_NEV": "fotópapír",
                                    "darabszám": "1"
                                },
                                {
                                    "KAT_NEV": "genoterm",
                                    "darabszám": "1"
                                },
                                {
                                    "KAT_NEV": "gumigyűrű",
                                    "darabszám": "1"
                                },
                                {
                                    "KAT_NEV": "hajgumi",
                                    "darabszám": "1"
                                },
                                {
                                    "KAT_NEV": "írásvetítő fólia",
                                    "darabszám": "1"
                                },
                                {
                                    "KAT_NEV": "irodaszer",
                                    "darabszám": "1"
                                },
                                {
                                    "KAT_NEV": "jelzőkréta",
                                    "darabszám": "1"
                                },
                                {
                                    "KAT_NEV": "kapocskiszedő",
                                    "darabszám": "1"
                                },
                                {
                                    "KAT_NEV": "kártya",
                                    "darabszám": "1"
                                },
                                {
                                    "KAT_NEV": "képkirakó",
                                    "darabszám": "1"
                                },
                                {
                                    "KAT_NEV": "miliméterpapír",
                                    "darabszám": "1"
                                },
                                {
                                    "KAT_NEV": "műnyomó",
                                    "darabszám": "1"
                                },
                                {
                                    "KAT_NEV": "naptár",
                                    "darabszám": "1"
                                },
                                {
                                    "KAT_NEV": "női kabát",
                                    "darabszám": "1"
                                },
                                {
                                    "KAT_NEV": "női nadrág",
                                    "darabszám": "1"
                                },
                                {
                                    "KAT_NEV": "ofszet",
                                    "darabszám": "1"
                                },
                                {
                                    "KAT_NEV": "papízsebkendő",
                                    "darabszám": "1"
                                },
                                {
                                    "KAT_NEV": "pausz",
                                    "darabszám": "1"
                                },
                                {
                                    "KAT_NEV": "névjegytartó",
                                    "darabszám": "1"
                                },
                                {
                                    "KAT_NEV": "rágógumi",
                                    "darabszám": "1"
                                },
                                {
                                    "KAT_NEV": "sál",
                                    "darabszám": "1"
                                },
                                {
                                    "KAT_NEV": "spirál",
                                    "darabszám": "1"
                                },
                                {
                                    "KAT_NEV": "strandlabda",
                                    "darabszám": "1"
                                },
                                {
                                    "KAT_NEV": "szemetes",
                                    "darabszám": "1"
                                },
                                {
                                    "KAT_NEV": "táblafilc",
                                    "darabszám": "1"
                                },
                                {
                                    "KAT_NEV": "tapétavágó",
                                    "darabszám": "1"
                                },
                                {
                                    "KAT_NEV": "térképtű",
                                    "darabszám": "1"
                                },
                                {
                                    "KAT_NEV": "toner",
                                    "darabszám": "1"
                                },
                                {
                                    "KAT_NEV": "töltőtoll",
                                    "darabszám": "1"
                                },
                                {
                                    "KAT_NEV": "zászló",
                                    "darabszám": "1"
                                },
                                {
                                    "KAT_NEV": "tűzőkapocs",
                                    "darabszám": "2"
                                },
                                {
                                    "KAT_NEV": "toll",
                                    "darabszám": "2"
                                },
                                {
                                    "KAT_NEV": "tempera",
                                    "darabszám": "2"
                                },
                                {
                                    "KAT_NEV": "számológép",
                                    "darabszám": "2"
                                },
                                {
                                    "KAT_NEV": "színes",
                                    "darabszám": "2"
                                },
                                {
                                    "KAT_NEV": "rajzlap",
                                    "darabszám": "2"
                                },
                                {
                                    "KAT_NEV": "rajzszeg",
                                    "darabszám": "2"
                                },
                                {
                                    "KAT_NEV": "regiszteres füzet",
                                    "darabszám": "2"
                                },
                                {
                                    "KAT_NEV": "post-it",
                                    "darabszám": "2"
                                },
                                {
                                    "KAT_NEV": "radírtoll",
                                    "darabszám": "2"
                                },
                                {
                                    "KAT_NEV": "öntapadó",
                                    "darabszám": "2"
                                },
                                {
                                    "KAT_NEV": "pénztárbizonylat",
                                    "darabszám": "2"
                                },
                                {
                                    "KAT_NEV": "pénztárgépszalag",
                                    "darabszám": "2"
                                },
                                {
                                    "KAT_NEV": "oklevél",
                                    "darabszám": "2"
                                },
                                {
                                    "KAT_NEV": "naptárhát",
                                    "darabszám": "2"
                                },
                                {
                                    "KAT_NEV": "kosztüm",
                                    "darabszám": "2"
                                },
                                {
                                    "KAT_NEV": "kreatív",
                                    "darabszám": "2"
                                },
                                {
                                    "KAT_NEV": "lufi",
                                    "darabszám": "2"
                                },
                                {
                                    "KAT_NEV": "lyukasztó",
                                    "darabszám": "2"
                                },
                                {
                                    "KAT_NEV": "labda",
                                    "darabszám": "2"
                                },
                                {
                                    "KAT_NEV": "írólap",
                                    "darabszám": "2"
                                },
                                {
                                    "KAT_NEV": "iratrendező",
                                    "darabszám": "2"
                                },
                                {
                                    "KAT_NEV": "iratsín",
                                    "darabszám": "2"
                                },
                                {
                                    "KAT_NEV": "irattartó",
                                    "darabszám": "2"
                                },
                                {
                                    "KAT_NEV": "hűtőmágnes",
                                    "darabszám": "2"
                                },
                                {
                                    "KAT_NEV": "indigó",
                                    "darabszám": "2"
                                },
                                {
                                    "KAT_NEV": "határidő napló",
                                    "darabszám": "2"
                                },
                                {
                                    "KAT_NEV": "hegyző",
                                    "darabszám": "2"
                                },
                                {
                                    "KAT_NEV": "gyermek kabát",
                                    "darabszám": "2"
                                },
                                {
                                    "KAT_NEV": "gyermek póló",
                                    "darabszám": "2"
                                },
                                {
                                    "KAT_NEV": "gemkapocs",
                                    "darabszám": "2"
                                },
                                {
                                    "KAT_NEV": "gémkapocs",
                                    "darabszám": "2"
                                },
                                {
                                    "KAT_NEV": "férfi nadrág",
                                    "darabszám": "2"
                                },
                                {
                                    "KAT_NEV": "alufólia",
                                    "darabszám": "2"
                                },
                                {
                                    "KAT_NEV": "celofán",
                                    "darabszám": "2"
                                },
                                {
                                    "KAT_NEV": "csomagoló",
                                    "darabszám": "2"
                                },
                                {
                                    "KAT_NEV": "beírókönyv",
                                    "darabszám": "2"
                                },
                                {
                                    "KAT_NEV": "ajándék tárgy",
                                    "darabszám": "3"
                                },
                                {
                                    "KAT_NEV": "álarc",
                                    "darabszám": "3"
                                },
                                {
                                    "KAT_NEV": "alkalmi",
                                    "darabszám": "3"
                                },
                                {
                                    "KAT_NEV": "címke",
                                    "darabszám": "3"
                                },
                                {
                                    "KAT_NEV": "díszdoboz",
                                    "darabszám": "3"
                                },
                                {
                                    "KAT_NEV": "emlékkönyv",
                                    "darabszám": "3"
                                },
                                {
                                    "KAT_NEV": "fólia",
                                    "darabszám": "3"
                                },
                                {
                                    "KAT_NEV": "genotherm",
                                    "darabszám": "3"
                                },
                                {
                                    "KAT_NEV": "gyorsfűző",
                                    "darabszám": "3"
                                },
                                {
                                    "KAT_NEV": "iratgyűjtő",
                                    "darabszám": "3"
                                },
                                {
                                    "KAT_NEV": "körző",
                                    "darabszám": "3"
                                },
                                {
                                    "KAT_NEV": "olló",
                                    "darabszám": "3"
                                },
                                {
                                    "KAT_NEV": "plüss",
                                    "darabszám": "3"
                                },
                                {
                                    "KAT_NEV": "szögmérő",
                                    "darabszám": "3"
                                },
                                {
                                    "KAT_NEV": "tintapatron",
                                    "darabszám": "3"
                                },
                                {
                                    "KAT_NEV": "ragasztószalag",
                                    "darabszám": "4"
                                },
                                {
                                    "KAT_NEV": "vízfesték",
                                    "darabszám": "4"
                                },
                                {
                                    "KAT_NEV": "zseléstoll",
                                    "darabszám": "4"
                                },
                                {
                                    "KAT_NEV": "meghívó",
                                    "darabszám": "4"
                                },
                                {
                                    "KAT_NEV": "hegyező",
                                    "darabszám": "4"
                                },
                                {
                                    "KAT_NEV": "füzettartó",
                                    "darabszám": "4"
                                },
                                {
                                    "KAT_NEV": "játékautó",
                                    "darabszám": "4"
                                },
                                {
                                    "KAT_NEV": "gyurma",
                                    "darabszám": "4"
                                },
                                {
                                    "KAT_NEV": "gyermek nadrág",
                                    "darabszám": "4"
                                },
                                {
                                    "KAT_NEV": "dekor",
                                    "darabszám": "4"
                                },
                                {
                                    "KAT_NEV": "bélyegző",
                                    "darabszám": "4"
                                },
                                {
                                    "KAT_NEV": "color copy",
                                    "darabszám": "5"
                                },
                                {
                                    "KAT_NEV": "díszkötöző",
                                    "darabszám": "5"
                                },
                                {
                                    "KAT_NEV": "gyűrűskönyv",
                                    "darabszám": "5"
                                },
                                {
                                    "KAT_NEV": "fénymásoló papír",
                                    "darabszám": "5"
                                },
                                {
                                    "KAT_NEV": "ironbél",
                                    "darabszám": "5"
                                },
                                {
                                    "KAT_NEV": "notesz",
                                    "darabszám": "5"
                                },
                                {
                                    "KAT_NEV": "szövegkiemelő",
                                    "darabszám": "5"
                                },
                                {
                                    "KAT_NEV": "szalvéta",
                                    "darabszám": "6"
                                },
                                {
                                    "KAT_NEV": "vonalzó",
                                    "darabszám": "6"
                                },
                                {
                                    "KAT_NEV": "tűzőgép",
                                    "darabszám": "6"
                                },
                                {
                                    "KAT_NEV": "karton",
                                    "darabszám": "6"
                                },
                                {
                                    "KAT_NEV": "gyermek cipő",
                                    "darabszám": "6"
                                },
                                {
                                    "KAT_NEV": "füzetborító",
                                    "darabszám": "7"
                                },
                                {
                                    "KAT_NEV": "hibajavító",
                                    "darabszám": "7"
                                },
                                {
                                    "KAT_NEV": "ecset",
                                    "darabszám": "7"
                                },
                                {
                                    "KAT_NEV": "fehérnemű",
                                    "darabszám": "7"
                                },
                                {
                                    "KAT_NEV": "csomagoló papír",
                                    "darabszám": "7"
                                },
                                {
                                    "KAT_NEV": "boríték",
                                    "darabszám": "7"
                                },
                                {
                                    "KAT_NEV": "kulcstartó",
                                    "darabszám": "7"
                                },
                                {
                                    "KAT_NEV": "levélpapír",
                                    "darabszám": "7"
                                },
                                {
                                    "KAT_NEV": "tolltartó",
                                    "darabszám": "7"
                                },
                                {
                                    "KAT_NEV": "radír",
                                    "darabszám": "7"
                                },
                                {
                                    "KAT_NEV": "mappa",
                                    "darabszám": "9"
                                },
                                {
                                    "KAT_NEV": "pixiron",
                                    "darabszám": "9"
                                },
                                {
                                    "KAT_NEV": "munkafüzet",
                                    "darabszám": "9"
                                },
                                {
                                    "KAT_NEV": "matrica",
                                    "darabszám": "10"
                                },
                                {
                                    "KAT_NEV": "ragasztó",
                                    "darabszám": "10"
                                },
                                {
                                    "KAT_NEV": "füzet",
                                    "darabszám": "11"
                                },
                                {
                                    "KAT_NEV": "filctoll",
                                    "darabszám": "13"
                                },
                                {
                                    "KAT_NEV": "könyv",
                                    "darabszám": "15"
                                },
                                {
                                    "KAT_NEV": "képeslap",
                                    "darabszám": "16"
                                },
                                {
                                    "KAT_NEV": "tollbetét",
                                    "darabszám": "18"
                                },
                                {
                                    "KAT_NEV": "ceruza",
                                    "darabszám": "19"
                                },
                                {
                                    "KAT_NEV": "ajándék tasak",
                                    "darabszám": "20"
                                },
                                {
                                    "KAT_NEV": "iskolaszer",
                                    "darabszám": "24"
                                },
                                {
                                    "KAT_NEV": "golyóstoll",
                                    "darabszám": "26"
                                },
                                {
                                    "KAT_NEV": "NULL",
                                    "darabszám": "551"
                                }
                            ]
                        },
                        "text/html": "<table><tr><th>KAT_NEV</th><th>darabszám</th></tr><tr><td>árazószalag</td><td>1</td></tr><tr><td>átírótömb</td><td>1</td></tr><tr><td>beíró</td><td>1</td></tr><tr><td>bélyegzőfesték</td><td>1</td></tr><tr><td>cd tok</td><td>1</td></tr><tr><td>dipa</td><td>1</td></tr><tr><td>dvd</td><td>1</td></tr><tr><td>előlap</td><td>1</td></tr><tr><td>emléklap</td><td>1</td></tr><tr><td>fax papír</td><td>1</td></tr><tr><td>férfi ing</td><td>1</td></tr><tr><td>férfi kabát</td><td>1</td></tr><tr><td>festékpatron</td><td>1</td></tr><tr><td>floppy</td><td>1</td></tr><tr><td>fotópapír</td><td>1</td></tr><tr><td>genoterm</td><td>1</td></tr><tr><td>gumigyűrű</td><td>1</td></tr><tr><td>hajgumi</td><td>1</td></tr><tr><td>írásvetítő fólia</td><td>1</td></tr><tr><td>irodaszer</td><td>1</td></tr><tr><td>jelzőkréta</td><td>1</td></tr><tr><td>kapocskiszedő</td><td>1</td></tr><tr><td>kártya</td><td>1</td></tr><tr><td>képkirakó</td><td>1</td></tr><tr><td>miliméterpapír</td><td>1</td></tr><tr><td>műnyomó</td><td>1</td></tr><tr><td>naptár</td><td>1</td></tr><tr><td>női kabát</td><td>1</td></tr><tr><td>női nadrág</td><td>1</td></tr><tr><td>ofszet</td><td>1</td></tr><tr><td>papízsebkendő</td><td>1</td></tr><tr><td>pausz</td><td>1</td></tr><tr><td>névjegytartó</td><td>1</td></tr><tr><td>rágógumi</td><td>1</td></tr><tr><td>sál</td><td>1</td></tr><tr><td>spirál</td><td>1</td></tr><tr><td>strandlabda</td><td>1</td></tr><tr><td>szemetes</td><td>1</td></tr><tr><td>táblafilc</td><td>1</td></tr><tr><td>tapétavágó</td><td>1</td></tr><tr><td>térképtű</td><td>1</td></tr><tr><td>toner</td><td>1</td></tr><tr><td>töltőtoll</td><td>1</td></tr><tr><td>zászló</td><td>1</td></tr><tr><td>tűzőkapocs</td><td>2</td></tr><tr><td>toll</td><td>2</td></tr><tr><td>tempera</td><td>2</td></tr><tr><td>számológép</td><td>2</td></tr><tr><td>színes</td><td>2</td></tr><tr><td>rajzlap</td><td>2</td></tr><tr><td>rajzszeg</td><td>2</td></tr><tr><td>regiszteres füzet</td><td>2</td></tr><tr><td>post-it</td><td>2</td></tr><tr><td>radírtoll</td><td>2</td></tr><tr><td>öntapadó</td><td>2</td></tr><tr><td>pénztárbizonylat</td><td>2</td></tr><tr><td>pénztárgépszalag</td><td>2</td></tr><tr><td>oklevél</td><td>2</td></tr><tr><td>naptárhát</td><td>2</td></tr><tr><td>kosztüm</td><td>2</td></tr><tr><td>kreatív</td><td>2</td></tr><tr><td>lufi</td><td>2</td></tr><tr><td>lyukasztó</td><td>2</td></tr><tr><td>labda</td><td>2</td></tr><tr><td>írólap</td><td>2</td></tr><tr><td>iratrendező</td><td>2</td></tr><tr><td>iratsín</td><td>2</td></tr><tr><td>irattartó</td><td>2</td></tr><tr><td>hűtőmágnes</td><td>2</td></tr><tr><td>indigó</td><td>2</td></tr><tr><td>határidő napló</td><td>2</td></tr><tr><td>hegyző</td><td>2</td></tr><tr><td>gyermek kabát</td><td>2</td></tr><tr><td>gyermek póló</td><td>2</td></tr><tr><td>gemkapocs</td><td>2</td></tr><tr><td>gémkapocs</td><td>2</td></tr><tr><td>férfi nadrág</td><td>2</td></tr><tr><td>alufólia</td><td>2</td></tr><tr><td>celofán</td><td>2</td></tr><tr><td>csomagoló</td><td>2</td></tr><tr><td>beírókönyv</td><td>2</td></tr><tr><td>ajándék tárgy</td><td>3</td></tr><tr><td>álarc</td><td>3</td></tr><tr><td>alkalmi</td><td>3</td></tr><tr><td>címke</td><td>3</td></tr><tr><td>díszdoboz</td><td>3</td></tr><tr><td>emlékkönyv</td><td>3</td></tr><tr><td>fólia</td><td>3</td></tr><tr><td>genotherm</td><td>3</td></tr><tr><td>gyorsfűző</td><td>3</td></tr><tr><td>iratgyűjtő</td><td>3</td></tr><tr><td>körző</td><td>3</td></tr><tr><td>olló</td><td>3</td></tr><tr><td>plüss</td><td>3</td></tr><tr><td>szögmérő</td><td>3</td></tr><tr><td>tintapatron</td><td>3</td></tr><tr><td>ragasztószalag</td><td>4</td></tr><tr><td>vízfesték</td><td>4</td></tr><tr><td>zseléstoll</td><td>4</td></tr><tr><td>meghívó</td><td>4</td></tr><tr><td>hegyező</td><td>4</td></tr><tr><td>füzettartó</td><td>4</td></tr><tr><td>játékautó</td><td>4</td></tr><tr><td>gyurma</td><td>4</td></tr><tr><td>gyermek nadrág</td><td>4</td></tr><tr><td>dekor</td><td>4</td></tr><tr><td>bélyegző</td><td>4</td></tr><tr><td>color copy</td><td>5</td></tr><tr><td>díszkötöző</td><td>5</td></tr><tr><td>gyűrűskönyv</td><td>5</td></tr><tr><td>fénymásoló papír</td><td>5</td></tr><tr><td>ironbél</td><td>5</td></tr><tr><td>notesz</td><td>5</td></tr><tr><td>szövegkiemelő</td><td>5</td></tr><tr><td>szalvéta</td><td>6</td></tr><tr><td>vonalzó</td><td>6</td></tr><tr><td>tűzőgép</td><td>6</td></tr><tr><td>karton</td><td>6</td></tr><tr><td>gyermek cipő</td><td>6</td></tr><tr><td>füzetborító</td><td>7</td></tr><tr><td>hibajavító</td><td>7</td></tr><tr><td>ecset</td><td>7</td></tr><tr><td>fehérnemű</td><td>7</td></tr><tr><td>csomagoló papír</td><td>7</td></tr><tr><td>boríték</td><td>7</td></tr><tr><td>kulcstartó</td><td>7</td></tr><tr><td>levélpapír</td><td>7</td></tr><tr><td>tolltartó</td><td>7</td></tr><tr><td>radír</td><td>7</td></tr><tr><td>mappa</td><td>9</td></tr><tr><td>pixiron</td><td>9</td></tr><tr><td>munkafüzet</td><td>9</td></tr><tr><td>matrica</td><td>10</td></tr><tr><td>ragasztó</td><td>10</td></tr><tr><td>füzet</td><td>11</td></tr><tr><td>filctoll</td><td>13</td></tr><tr><td>könyv</td><td>15</td></tr><tr><td>képeslap</td><td>16</td></tr><tr><td>tollbetét</td><td>18</td></tr><tr><td>ceruza</td><td>19</td></tr><tr><td>ajándék tasak</td><td>20</td></tr><tr><td>iskolaszer</td><td>24</td></tr><tr><td>golyóstoll</td><td>26</td></tr><tr><td>NULL</td><td>551</td></tr></table>"
                    },
                    "metadata": {}
                }
            ],
            "execution_count": 22
        },
        {
            "cell_type": "markdown",
            "source": [
                "4. <span style=\"background-color: rgb(255, 255, 255); color: rgb(0, 0, 0); font-family: &quot;Open Sans&quot;, sans-serif; font-size: 14.44px;\">Készítsünk listát az ügyfelek számáról születési év szerint, azon belül nem szerinti bontásban!&nbsp;</span> \n",
                "\n",
                "a. A lista megfelelően jelölve tartalmazza a részösszegeket és a végösszeget is!  \n",
                "b. Az oszlopoknak adjunk nevet értelemszerűen!"
            ],
            "metadata": {
                "azdata_cell_guid": "8e7fef82-8022-49a0-8255-fc2846c2134b"
            },
            "attachments": {}
        },
        {
            "cell_type": "code",
            "source": [
                "select count(*) as 'ügyfelek száma', \r\n",
                "    case\r\n",
                "        when GROUPING_ID(SZULEV, NEM) = 1 then 'Részösszeg'\r\n",
                "        when GROUPING_ID(SZULEV, NEM) = 3 then 'Végösszeg'\r\n",
                "        else NEM\r\n",
                "    end as 'nem',\r\n",
                "    IIF(GROUPING_ID(SZULEV)=1, 'Végösszeg', CAST(szulev as nvarchar(4)) ) as 'szulev'\r\n",
                "from Ugyfel\r\n",
                "group by rollup (SZULEV, NEM)"
            ],
            "metadata": {
                "azdata_cell_guid": "36f7b396-4a1f-45e5-8720-2302537c91bc",
                "language": "sql",
                "tags": []
            },
            "outputs": [
                {
                    "output_type": "display_data",
                    "data": {
                        "text/html": "(96 rows affected)"
                    },
                    "metadata": {}
                },
                {
                    "output_type": "display_data",
                    "data": {
                        "text/html": "Total execution time: 00:00:00.025"
                    },
                    "metadata": {}
                },
                {
                    "output_type": "execute_result",
                    "execution_count": 28,
                    "data": {
                        "application/vnd.dataresource+json": {
                            "schema": {
                                "fields": [
                                    {
                                        "name": "ügyfelek száma"
                                    },
                                    {
                                        "name": "nem"
                                    },
                                    {
                                        "name": "szulev"
                                    }
                                ]
                            },
                            "data": [
                                {
                                    "ügyfelek száma": "5",
                                    "nem": "F",
                                    "szulev": "1967"
                                },
                                {
                                    "ügyfelek száma": "3",
                                    "nem": "N",
                                    "szulev": "1967"
                                },
                                {
                                    "ügyfelek száma": "8",
                                    "nem": "Részösszeg",
                                    "szulev": "1967"
                                },
                                {
                                    "ügyfelek száma": "5",
                                    "nem": "F",
                                    "szulev": "1968"
                                },
                                {
                                    "ügyfelek száma": "3",
                                    "nem": "N",
                                    "szulev": "1968"
                                },
                                {
                                    "ügyfelek száma": "8",
                                    "nem": "Részösszeg",
                                    "szulev": "1968"
                                },
                                {
                                    "ügyfelek száma": "5",
                                    "nem": "F",
                                    "szulev": "1969"
                                },
                                {
                                    "ügyfelek száma": "3",
                                    "nem": "N",
                                    "szulev": "1969"
                                },
                                {
                                    "ügyfelek száma": "8",
                                    "nem": "Részösszeg",
                                    "szulev": "1969"
                                },
                                {
                                    "ügyfelek száma": "4",
                                    "nem": "F",
                                    "szulev": "1970"
                                },
                                {
                                    "ügyfelek száma": "4",
                                    "nem": "Részösszeg",
                                    "szulev": "1970"
                                },
                                {
                                    "ügyfelek száma": "2",
                                    "nem": "F",
                                    "szulev": "1971"
                                },
                                {
                                    "ügyfelek száma": "3",
                                    "nem": "N",
                                    "szulev": "1971"
                                },
                                {
                                    "ügyfelek száma": "5",
                                    "nem": "Részösszeg",
                                    "szulev": "1971"
                                },
                                {
                                    "ügyfelek száma": "2",
                                    "nem": "F",
                                    "szulev": "1972"
                                },
                                {
                                    "ügyfelek száma": "2",
                                    "nem": "N",
                                    "szulev": "1972"
                                },
                                {
                                    "ügyfelek száma": "4",
                                    "nem": "Részösszeg",
                                    "szulev": "1972"
                                },
                                {
                                    "ügyfelek száma": "2",
                                    "nem": "F",
                                    "szulev": "1973"
                                },
                                {
                                    "ügyfelek száma": "2",
                                    "nem": "N",
                                    "szulev": "1973"
                                },
                                {
                                    "ügyfelek száma": "4",
                                    "nem": "Részösszeg",
                                    "szulev": "1973"
                                },
                                {
                                    "ügyfelek száma": "1",
                                    "nem": "F",
                                    "szulev": "1974"
                                },
                                {
                                    "ügyfelek száma": "3",
                                    "nem": "N",
                                    "szulev": "1974"
                                },
                                {
                                    "ügyfelek száma": "4",
                                    "nem": "Részösszeg",
                                    "szulev": "1974"
                                },
                                {
                                    "ügyfelek száma": "8",
                                    "nem": "F",
                                    "szulev": "1975"
                                },
                                {
                                    "ügyfelek száma": "3",
                                    "nem": "N",
                                    "szulev": "1975"
                                },
                                {
                                    "ügyfelek száma": "11",
                                    "nem": "Részösszeg",
                                    "szulev": "1975"
                                },
                                {
                                    "ügyfelek száma": "5",
                                    "nem": "F",
                                    "szulev": "1976"
                                },
                                {
                                    "ügyfelek száma": "2",
                                    "nem": "N",
                                    "szulev": "1976"
                                },
                                {
                                    "ügyfelek száma": "7",
                                    "nem": "Részösszeg",
                                    "szulev": "1976"
                                },
                                {
                                    "ügyfelek száma": "4",
                                    "nem": "F",
                                    "szulev": "1977"
                                },
                                {
                                    "ügyfelek száma": "1",
                                    "nem": "N",
                                    "szulev": "1977"
                                },
                                {
                                    "ügyfelek száma": "5",
                                    "nem": "Részösszeg",
                                    "szulev": "1977"
                                },
                                {
                                    "ügyfelek száma": "3",
                                    "nem": "F",
                                    "szulev": "1978"
                                },
                                {
                                    "ügyfelek száma": "4",
                                    "nem": "N",
                                    "szulev": "1978"
                                },
                                {
                                    "ügyfelek száma": "7",
                                    "nem": "Részösszeg",
                                    "szulev": "1978"
                                },
                                {
                                    "ügyfelek száma": "4",
                                    "nem": "F",
                                    "szulev": "1979"
                                },
                                {
                                    "ügyfelek száma": "3",
                                    "nem": "N",
                                    "szulev": "1979"
                                },
                                {
                                    "ügyfelek száma": "7",
                                    "nem": "Részösszeg",
                                    "szulev": "1979"
                                },
                                {
                                    "ügyfelek száma": "4",
                                    "nem": "F",
                                    "szulev": "1980"
                                },
                                {
                                    "ügyfelek száma": "3",
                                    "nem": "N",
                                    "szulev": "1980"
                                },
                                {
                                    "ügyfelek száma": "7",
                                    "nem": "Részösszeg",
                                    "szulev": "1980"
                                },
                                {
                                    "ügyfelek száma": "4",
                                    "nem": "N",
                                    "szulev": "1981"
                                },
                                {
                                    "ügyfelek száma": "4",
                                    "nem": "Részösszeg",
                                    "szulev": "1981"
                                },
                                {
                                    "ügyfelek száma": "2",
                                    "nem": "F",
                                    "szulev": "1982"
                                },
                                {
                                    "ügyfelek száma": "2",
                                    "nem": "N",
                                    "szulev": "1982"
                                },
                                {
                                    "ügyfelek száma": "4",
                                    "nem": "Részösszeg",
                                    "szulev": "1982"
                                },
                                {
                                    "ügyfelek száma": "5",
                                    "nem": "F",
                                    "szulev": "1983"
                                },
                                {
                                    "ügyfelek száma": "3",
                                    "nem": "N",
                                    "szulev": "1983"
                                },
                                {
                                    "ügyfelek száma": "8",
                                    "nem": "Részösszeg",
                                    "szulev": "1983"
                                },
                                {
                                    "ügyfelek száma": "6",
                                    "nem": "F",
                                    "szulev": "1984"
                                },
                                {
                                    "ügyfelek száma": "2",
                                    "nem": "N",
                                    "szulev": "1984"
                                },
                                {
                                    "ügyfelek száma": "8",
                                    "nem": "Részösszeg",
                                    "szulev": "1984"
                                },
                                {
                                    "ügyfelek száma": "5",
                                    "nem": "F",
                                    "szulev": "1985"
                                },
                                {
                                    "ügyfelek száma": "1",
                                    "nem": "N",
                                    "szulev": "1985"
                                },
                                {
                                    "ügyfelek száma": "6",
                                    "nem": "Részösszeg",
                                    "szulev": "1985"
                                },
                                {
                                    "ügyfelek száma": "7",
                                    "nem": "F",
                                    "szulev": "1986"
                                },
                                {
                                    "ügyfelek száma": "2",
                                    "nem": "N",
                                    "szulev": "1986"
                                },
                                {
                                    "ügyfelek száma": "9",
                                    "nem": "Részösszeg",
                                    "szulev": "1986"
                                },
                                {
                                    "ügyfelek száma": "2",
                                    "nem": "F",
                                    "szulev": "1987"
                                },
                                {
                                    "ügyfelek száma": "3",
                                    "nem": "N",
                                    "szulev": "1987"
                                },
                                {
                                    "ügyfelek száma": "5",
                                    "nem": "Részösszeg",
                                    "szulev": "1987"
                                },
                                {
                                    "ügyfelek száma": "2",
                                    "nem": "F",
                                    "szulev": "1988"
                                },
                                {
                                    "ügyfelek száma": "4",
                                    "nem": "N",
                                    "szulev": "1988"
                                },
                                {
                                    "ügyfelek száma": "6",
                                    "nem": "Részösszeg",
                                    "szulev": "1988"
                                },
                                {
                                    "ügyfelek száma": "6",
                                    "nem": "F",
                                    "szulev": "1989"
                                },
                                {
                                    "ügyfelek száma": "1",
                                    "nem": "N",
                                    "szulev": "1989"
                                },
                                {
                                    "ügyfelek száma": "7",
                                    "nem": "Részösszeg",
                                    "szulev": "1989"
                                },
                                {
                                    "ügyfelek száma": "5",
                                    "nem": "F",
                                    "szulev": "1990"
                                },
                                {
                                    "ügyfelek száma": "3",
                                    "nem": "N",
                                    "szulev": "1990"
                                },
                                {
                                    "ügyfelek száma": "8",
                                    "nem": "Részösszeg",
                                    "szulev": "1990"
                                },
                                {
                                    "ügyfelek száma": "3",
                                    "nem": "F",
                                    "szulev": "1991"
                                },
                                {
                                    "ügyfelek száma": "3",
                                    "nem": "N",
                                    "szulev": "1991"
                                },
                                {
                                    "ügyfelek száma": "6",
                                    "nem": "Részösszeg",
                                    "szulev": "1991"
                                },
                                {
                                    "ügyfelek száma": "3",
                                    "nem": "F",
                                    "szulev": "1992"
                                },
                                {
                                    "ügyfelek száma": "1",
                                    "nem": "N",
                                    "szulev": "1992"
                                },
                                {
                                    "ügyfelek száma": "4",
                                    "nem": "Részösszeg",
                                    "szulev": "1992"
                                },
                                {
                                    "ügyfelek száma": "2",
                                    "nem": "F",
                                    "szulev": "1993"
                                },
                                {
                                    "ügyfelek száma": "3",
                                    "nem": "N",
                                    "szulev": "1993"
                                },
                                {
                                    "ügyfelek száma": "5",
                                    "nem": "Részösszeg",
                                    "szulev": "1993"
                                },
                                {
                                    "ügyfelek száma": "3",
                                    "nem": "N",
                                    "szulev": "1994"
                                },
                                {
                                    "ügyfelek száma": "3",
                                    "nem": "Részösszeg",
                                    "szulev": "1994"
                                },
                                {
                                    "ügyfelek száma": "3",
                                    "nem": "F",
                                    "szulev": "1995"
                                },
                                {
                                    "ügyfelek száma": "3",
                                    "nem": "N",
                                    "szulev": "1995"
                                },
                                {
                                    "ügyfelek száma": "6",
                                    "nem": "Részösszeg",
                                    "szulev": "1995"
                                },
                                {
                                    "ügyfelek száma": "2",
                                    "nem": "F",
                                    "szulev": "1996"
                                },
                                {
                                    "ügyfelek száma": "5",
                                    "nem": "N",
                                    "szulev": "1996"
                                },
                                {
                                    "ügyfelek száma": "7",
                                    "nem": "Részösszeg",
                                    "szulev": "1996"
                                },
                                {
                                    "ügyfelek száma": "10",
                                    "nem": "F",
                                    "szulev": "1997"
                                },
                                {
                                    "ügyfelek száma": "2",
                                    "nem": "N",
                                    "szulev": "1997"
                                },
                                {
                                    "ügyfelek száma": "12",
                                    "nem": "Részösszeg",
                                    "szulev": "1997"
                                },
                                {
                                    "ügyfelek száma": "1",
                                    "nem": "F",
                                    "szulev": "1998"
                                },
                                {
                                    "ügyfelek száma": "1",
                                    "nem": "N",
                                    "szulev": "1998"
                                },
                                {
                                    "ügyfelek száma": "2",
                                    "nem": "Részösszeg",
                                    "szulev": "1998"
                                },
                                {
                                    "ügyfelek száma": "1",
                                    "nem": "F",
                                    "szulev": "2000"
                                },
                                {
                                    "ügyfelek száma": "1",
                                    "nem": "Részösszeg",
                                    "szulev": "2000"
                                },
                                {
                                    "ügyfelek száma": "200",
                                    "nem": "Végösszeg",
                                    "szulev": "Végösszeg"
                                }
                            ]
                        },
                        "text/html": "<table><tr><th>ügyfelek száma</th><th>nem</th><th>szulev</th></tr><tr><td>5</td><td>F</td><td>1967</td></tr><tr><td>3</td><td>N</td><td>1967</td></tr><tr><td>8</td><td>Részösszeg</td><td>1967</td></tr><tr><td>5</td><td>F</td><td>1968</td></tr><tr><td>3</td><td>N</td><td>1968</td></tr><tr><td>8</td><td>Részösszeg</td><td>1968</td></tr><tr><td>5</td><td>F</td><td>1969</td></tr><tr><td>3</td><td>N</td><td>1969</td></tr><tr><td>8</td><td>Részösszeg</td><td>1969</td></tr><tr><td>4</td><td>F</td><td>1970</td></tr><tr><td>4</td><td>Részösszeg</td><td>1970</td></tr><tr><td>2</td><td>F</td><td>1971</td></tr><tr><td>3</td><td>N</td><td>1971</td></tr><tr><td>5</td><td>Részösszeg</td><td>1971</td></tr><tr><td>2</td><td>F</td><td>1972</td></tr><tr><td>2</td><td>N</td><td>1972</td></tr><tr><td>4</td><td>Részösszeg</td><td>1972</td></tr><tr><td>2</td><td>F</td><td>1973</td></tr><tr><td>2</td><td>N</td><td>1973</td></tr><tr><td>4</td><td>Részösszeg</td><td>1973</td></tr><tr><td>1</td><td>F</td><td>1974</td></tr><tr><td>3</td><td>N</td><td>1974</td></tr><tr><td>4</td><td>Részösszeg</td><td>1974</td></tr><tr><td>8</td><td>F</td><td>1975</td></tr><tr><td>3</td><td>N</td><td>1975</td></tr><tr><td>11</td><td>Részösszeg</td><td>1975</td></tr><tr><td>5</td><td>F</td><td>1976</td></tr><tr><td>2</td><td>N</td><td>1976</td></tr><tr><td>7</td><td>Részösszeg</td><td>1976</td></tr><tr><td>4</td><td>F</td><td>1977</td></tr><tr><td>1</td><td>N</td><td>1977</td></tr><tr><td>5</td><td>Részösszeg</td><td>1977</td></tr><tr><td>3</td><td>F</td><td>1978</td></tr><tr><td>4</td><td>N</td><td>1978</td></tr><tr><td>7</td><td>Részösszeg</td><td>1978</td></tr><tr><td>4</td><td>F</td><td>1979</td></tr><tr><td>3</td><td>N</td><td>1979</td></tr><tr><td>7</td><td>Részösszeg</td><td>1979</td></tr><tr><td>4</td><td>F</td><td>1980</td></tr><tr><td>3</td><td>N</td><td>1980</td></tr><tr><td>7</td><td>Részösszeg</td><td>1980</td></tr><tr><td>4</td><td>N</td><td>1981</td></tr><tr><td>4</td><td>Részösszeg</td><td>1981</td></tr><tr><td>2</td><td>F</td><td>1982</td></tr><tr><td>2</td><td>N</td><td>1982</td></tr><tr><td>4</td><td>Részösszeg</td><td>1982</td></tr><tr><td>5</td><td>F</td><td>1983</td></tr><tr><td>3</td><td>N</td><td>1983</td></tr><tr><td>8</td><td>Részösszeg</td><td>1983</td></tr><tr><td>6</td><td>F</td><td>1984</td></tr><tr><td>2</td><td>N</td><td>1984</td></tr><tr><td>8</td><td>Részösszeg</td><td>1984</td></tr><tr><td>5</td><td>F</td><td>1985</td></tr><tr><td>1</td><td>N</td><td>1985</td></tr><tr><td>6</td><td>Részösszeg</td><td>1985</td></tr><tr><td>7</td><td>F</td><td>1986</td></tr><tr><td>2</td><td>N</td><td>1986</td></tr><tr><td>9</td><td>Részösszeg</td><td>1986</td></tr><tr><td>2</td><td>F</td><td>1987</td></tr><tr><td>3</td><td>N</td><td>1987</td></tr><tr><td>5</td><td>Részösszeg</td><td>1987</td></tr><tr><td>2</td><td>F</td><td>1988</td></tr><tr><td>4</td><td>N</td><td>1988</td></tr><tr><td>6</td><td>Részösszeg</td><td>1988</td></tr><tr><td>6</td><td>F</td><td>1989</td></tr><tr><td>1</td><td>N</td><td>1989</td></tr><tr><td>7</td><td>Részösszeg</td><td>1989</td></tr><tr><td>5</td><td>F</td><td>1990</td></tr><tr><td>3</td><td>N</td><td>1990</td></tr><tr><td>8</td><td>Részösszeg</td><td>1990</td></tr><tr><td>3</td><td>F</td><td>1991</td></tr><tr><td>3</td><td>N</td><td>1991</td></tr><tr><td>6</td><td>Részösszeg</td><td>1991</td></tr><tr><td>3</td><td>F</td><td>1992</td></tr><tr><td>1</td><td>N</td><td>1992</td></tr><tr><td>4</td><td>Részösszeg</td><td>1992</td></tr><tr><td>2</td><td>F</td><td>1993</td></tr><tr><td>3</td><td>N</td><td>1993</td></tr><tr><td>5</td><td>Részösszeg</td><td>1993</td></tr><tr><td>3</td><td>N</td><td>1994</td></tr><tr><td>3</td><td>Részösszeg</td><td>1994</td></tr><tr><td>3</td><td>F</td><td>1995</td></tr><tr><td>3</td><td>N</td><td>1995</td></tr><tr><td>6</td><td>Részösszeg</td><td>1995</td></tr><tr><td>2</td><td>F</td><td>1996</td></tr><tr><td>5</td><td>N</td><td>1996</td></tr><tr><td>7</td><td>Részösszeg</td><td>1996</td></tr><tr><td>10</td><td>F</td><td>1997</td></tr><tr><td>2</td><td>N</td><td>1997</td></tr><tr><td>12</td><td>Részösszeg</td><td>1997</td></tr><tr><td>1</td><td>F</td><td>1998</td></tr><tr><td>1</td><td>N</td><td>1998</td></tr><tr><td>2</td><td>Részösszeg</td><td>1998</td></tr><tr><td>1</td><td>F</td><td>2000</td></tr><tr><td>1</td><td>Részösszeg</td><td>2000</td></tr><tr><td>200</td><td>Végösszeg</td><td>Végösszeg</td></tr></table>"
                    },
                    "metadata": {}
                }
            ],
            "execution_count": 28
        },
        {
            "cell_type": "markdown",
            "source": [
                "5. <span style=\"background-color: rgb(255, 255, 255); color: rgb(0, 0, 0); font-family: &quot;Open Sans&quot;, sans-serif; font-size: 14.44px;\">Készítsünk listát a termékek számáról a felvitel hónapja, azon belül napja szerint csoportosítva.&nbsp;</span> \n",
                "\n",
                "a. A lista csak a részösszegeket és a végösszeget tartalmazza!  \n",
                "b. Az oszlopoknak adjunk megfelelő nevet!  \n",
                "c. Ötlet: HAVING + GROUPING\\_ID fv együttes használata"
            ],
            "metadata": {
                "azdata_cell_guid": "84239ca2-6b5e-49f5-9860-d44c11d6de32"
            },
            "attachments": {}
        },
        {
            "cell_type": "code",
            "source": [
                "select count(*) as 'db',\r\n",
                "        MONTH(FELVITEL) as 'hónap',\r\n",
                "        day(FELVITEL) as 'felvitel napja'\r\n",
                "from Termek\r\n",
                "group by ROLLUP (MONTH(FELVITEL), day(FELVITEL))\r\n",
                "having GROUPING_ID(MONTH(FELVITEL), DAY(FELVITEL)) = 1 or GROUPING_ID(MONTH(FELVITEL), DAY(FELVITEL)) = 3\r\n",
                "\r\n",
                "\r\n",
                "\r\n",
                ""
            ],
            "metadata": {
                "azdata_cell_guid": "06d9a62b-9430-424b-a135-d80e675f0eb3",
                "language": "sql"
            },
            "outputs": [
                {
                    "output_type": "display_data",
                    "data": {
                        "text/html": "(5 rows affected)"
                    },
                    "metadata": {}
                },
                {
                    "output_type": "display_data",
                    "data": {
                        "text/html": "Total execution time: 00:00:00.038"
                    },
                    "metadata": {}
                },
                {
                    "output_type": "execute_result",
                    "execution_count": 29,
                    "data": {
                        "application/vnd.dataresource+json": {
                            "schema": {
                                "fields": [
                                    {
                                        "name": "db"
                                    },
                                    {
                                        "name": "hónap"
                                    },
                                    {
                                        "name": "felvitel napja"
                                    }
                                ]
                            },
                            "data": [
                                {
                                    "db": "355",
                                    "hónap": "7",
                                    "felvitel napja": "NULL"
                                },
                                {
                                    "db": "194",
                                    "hónap": "8",
                                    "felvitel napja": "NULL"
                                },
                                {
                                    "db": "1",
                                    "hónap": "9",
                                    "felvitel napja": "NULL"
                                },
                                {
                                    "db": "1",
                                    "hónap": "12",
                                    "felvitel napja": "NULL"
                                },
                                {
                                    "db": "551",
                                    "hónap": "NULL",
                                    "felvitel napja": "NULL"
                                }
                            ]
                        },
                        "text/html": "<table><tr><th>db</th><th>hónap</th><th>felvitel napja</th></tr><tr><td>355</td><td>7</td><td>NULL</td></tr><tr><td>194</td><td>8</td><td>NULL</td></tr><tr><td>1</td><td>9</td><td>NULL</td></tr><tr><td>1</td><td>12</td><td>NULL</td></tr><tr><td>551</td><td>NULL</td><td>NULL</td></tr></table>"
                    },
                    "metadata": {}
                }
            ],
            "execution_count": 29
        }
    ]
}