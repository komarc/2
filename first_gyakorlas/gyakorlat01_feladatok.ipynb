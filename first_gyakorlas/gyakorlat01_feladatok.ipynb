{
    "metadata": {
        "kernelspec": {
            "name": "SQL",
            "display_name": "SQL",
            "language": "sql"
        },
        "language_info": {
            "name": "sql",
            "version": ""
        },
        "extensions": {
            "azuredatastudio": {
                "version": 1,
                "views": []
            }
        }
    },
    "nbformat_minor": 2,
    "nbformat": 4,
    "cells": [
        {
            "cell_type": "markdown",
            "source": [
                "1. Listázzuk a <span style=\"color: #800000;\">`kolcsonzes`</span> tábla következő oszlopait: ID, ki\\_datum, vissza\\_datum! \n",
                "\n",
                "  \n",
                "\n",
                "a.  Az ID oszlop neve legyen Azonosító\n",
                "\n",
                "b.  A ki\\_datum oszlop neve legyen Kölcsönzés\\_dátuma\n",
                "\n",
                "c.  A vissza\\_datum oszlop neve legyen Visszahozatal\\_dátuma"
            ],
            "metadata": {
                "azdata_cell_guid": "77f2d5b3-38e9-41cc-893f-f5afd02b97ef"
            },
            "attachments": {}
        },
        {
            "cell_type": "code",
            "source": [
                ""
            ],
            "metadata": {
                "azdata_cell_guid": "bd3cef1a-4e6e-4ece-9dc3-aaa9d2b5d66d",
                "language": "sql"
            },
            "outputs": [],
            "execution_count": null
        },
        {
            "cell_type": "markdown",
            "source": [
                "2. Melyek azok a kölcsönzések, amelyek 2005.01.01 és 2007.01.01 között történtek?"
            ],
            "metadata": {
                "azdata_cell_guid": "88f5b4bb-f4c1-4bad-a0c7-b2592687b422"
            },
            "attachments": {}
        },
        {
            "cell_type": "code",
            "source": [
                "select * \r\n",
                "from kolcsonzesek\r\n",
                "where vissza_datum BETWEEN '2005.01.01' and '2007.01.01'"
            ],
            "metadata": {
                "azdata_cell_guid": "e9de5726-f036-4fb9-8c33-a873955ed886",
                "language": "sql"
            },
            "outputs": [
                {
                    "output_type": "display_data",
                    "data": {
                        "text/html": "(2 rows affected)"
                    },
                    "metadata": {}
                },
                {
                    "output_type": "display_data",
                    "data": {
                        "text/html": "Total execution time: 00:00:00.032"
                    },
                    "metadata": {}
                },
                {
                    "output_type": "execute_result",
                    "metadata": {},
                    "execution_count": 3,
                    "data": {
                        "application/vnd.dataresource+json": {
                            "schema": {
                                "fields": [
                                    {
                                        "name": "ID"
                                    },
                                    {
                                        "name": "ki"
                                    },
                                    {
                                        "name": "mit"
                                    },
                                    {
                                        "name": "ki_datum"
                                    },
                                    {
                                        "name": "vissza_datum"
                                    }
                                ]
                            },
                            "data": [
                                {
                                    "ID": "13",
                                    "ki": "1",
                                    "mit": "3",
                                    "ki_datum": "2006-10-01",
                                    "vissza_datum": "2006-10-10"
                                },
                                {
                                    "ID": "14",
                                    "ki": "2",
                                    "mit": "3",
                                    "ki_datum": "2006-10-02",
                                    "vissza_datum": "2006-10-09"
                                }
                            ]
                        },
                        "text/html": [
                            "<table>",
                            "<tr><th>ID</th><th>ki</th><th>mit</th><th>ki_datum</th><th>vissza_datum</th></tr>",
                            "<tr><td>13</td><td>1</td><td>3</td><td>2006-10-01</td><td>2006-10-10</td></tr>",
                            "<tr><td>14</td><td>2</td><td>3</td><td>2006-10-02</td><td>2006-10-09</td></tr>",
                            "</table>"
                        ]
                    }
                }
            ],
            "execution_count": 3
        },
        {
            "cell_type": "markdown",
            "source": [
                "3. Melyek azok a tagok, akiknek kedvenc stílusa a játék, és nevük a-ra végződik?\n",
                "\n",
                "  \n",
                "\n",
                "a.  Csak a tagok neve jelenjen meg, az oszlop neve Név legyen"
            ],
            "metadata": {
                "azdata_cell_guid": "9e7249de-1b59-43d8-84b1-26fa7d81fc5a"
            },
            "attachments": {}
        },
        {
            "cell_type": "code",
            "source": [
                ""
            ],
            "metadata": {
                "azdata_cell_guid": "6405d3e8-a9b1-45d7-aa76-3b1e785ef6cc",
                "language": "sql"
            },
            "outputs": [],
            "execution_count": null
        },
        {
            "cell_type": "markdown",
            "source": [
                "4. Listázzuk egy oszlopban a tagok nevét, címét és kedvenc stílusát összefűzve! \n",
                "\n",
                "  \n",
                "\n",
                "a.  A nevet, címet és a stílust kötőjellel válasszuk el\n",
                "\n",
                "b.  A kötőjelek előtt és után legyen 1-1 szóköz\n",
                "\n",
                "c.  Az oszlop neve legyen TAG\n",
                "\n",
                "d.  Kinga keresztnevű tagok ne legyenek benne a listában"
            ],
            "metadata": {
                "azdata_cell_guid": "6478e469-c094-472c-a772-ccd5b5c61516"
            },
            "attachments": {}
        },
        {
            "cell_type": "code",
            "source": [
                ""
            ],
            "metadata": {
                "azdata_cell_guid": "02031ea2-3838-458d-839c-228e3b362b61",
                "language": "sql"
            },
            "outputs": [],
            "execution_count": null
        },
        {
            "cell_type": "markdown",
            "source": [
                "5. Mennyi lenne a dvd-k nettó ára, ha 20%-kal csökkenne? \n",
                "\n",
                "  \n",
                "\n",
                "a.  Csak a dvd-k címét és a csökkentett árat jelenítsük meg\n",
                "\n",
                "b.  A csökkentett árat nevezzük el diszkont\\_ar-nak"
            ],
            "metadata": {
                "azdata_cell_guid": "9edbbaf9-c276-4898-9a01-e1b2993c089f"
            },
            "attachments": {}
        },
        {
            "cell_type": "code",
            "source": [
                ""
            ],
            "metadata": {
                "azdata_cell_guid": "5ad5fdcb-2878-4111-861a-833bcd50e935",
                "language": "sql"
            },
            "outputs": [],
            "execution_count": null
        },
        {
            "cell_type": "markdown",
            "source": [
                "6. Melyek azok a kölcsönzések, ahol még nem hozták vissza a dvd-t?"
            ],
            "metadata": {
                "azdata_cell_guid": "5fe65c1c-2479-45ac-ad03-ec99d12eae21"
            },
            "attachments": {}
        },
        {
            "cell_type": "code",
            "source": [
                "select *\r\n",
                "from kolcsonzesek\r\n",
                "where vissza_datum is NULL"
            ],
            "metadata": {
                "azdata_cell_guid": "924f2dde-f1c2-4def-a7f9-dbf4bace7735",
                "language": "sql"
            },
            "outputs": [
                {
                    "output_type": "display_data",
                    "data": {
                        "text/html": "(3 rows affected)"
                    },
                    "metadata": {}
                },
                {
                    "output_type": "display_data",
                    "data": {
                        "text/html": "Total execution time: 00:00:00.035"
                    },
                    "metadata": {}
                },
                {
                    "output_type": "execute_result",
                    "metadata": {},
                    "execution_count": 5,
                    "data": {
                        "application/vnd.dataresource+json": {
                            "schema": {
                                "fields": [
                                    {
                                        "name": "ID"
                                    },
                                    {
                                        "name": "ki"
                                    },
                                    {
                                        "name": "mit"
                                    },
                                    {
                                        "name": "ki_datum"
                                    },
                                    {
                                        "name": "vissza_datum"
                                    }
                                ]
                            },
                            "data": [
                                {
                                    "ID": "10",
                                    "ki": "3",
                                    "mit": "5",
                                    "ki_datum": "2003-12-11",
                                    "vissza_datum": "NULL"
                                },
                                {
                                    "ID": "11",
                                    "ki": "4",
                                    "mit": "2",
                                    "ki_datum": "2003-12-11",
                                    "vissza_datum": "NULL"
                                },
                                {
                                    "ID": "12",
                                    "ki": "5",
                                    "mit": "6",
                                    "ki_datum": "2003-12-11",
                                    "vissza_datum": "NULL"
                                }
                            ]
                        },
                        "text/html": [
                            "<table>",
                            "<tr><th>ID</th><th>ki</th><th>mit</th><th>ki_datum</th><th>vissza_datum</th></tr>",
                            "<tr><td>10</td><td>3</td><td>5</td><td>2003-12-11</td><td>NULL</td></tr>",
                            "<tr><td>11</td><td>4</td><td>2</td><td>2003-12-11</td><td>NULL</td></tr>",
                            "<tr><td>12</td><td>5</td><td>6</td><td>2003-12-11</td><td>NULL</td></tr>",
                            "</table>"
                        ]
                    }
                }
            ],
            "execution_count": 5
        },
        {
            "cell_type": "markdown",
            "source": [
                "7. Listázzuk azon diákok nevét és születési idejét, akik 1984-ben vagy 1985-ben születtek!  \n",
                "\n",
                "  \n",
                "\n",
                "a.  A születési dátum csak az évet, hónapot és a napot tartalmazza! \n",
                "\n",
                "b.  A születési dátum oszlopát nevezzük el 'Születési idő'-nek!"
            ],
            "metadata": {
                "azdata_cell_guid": "3aeb6bf5-b111-40d5-92b2-9712ce335696"
            },
            "attachments": {}
        },
        {
            "cell_type": "code",
            "source": [
                "select *\r\n",
                "from diak\r\n",
                "where YEAR(Szulido)=1984 or YEAR(Szulido)=1985\r\n",
                ""
            ],
            "metadata": {
                "azdata_cell_guid": "3e89b651-f56f-4102-af52-30eb2bbe360d",
                "language": "sql"
            },
            "outputs": [
                {
                    "output_type": "display_data",
                    "data": {
                        "text/html": "(3 rows affected)"
                    },
                    "metadata": {}
                },
                {
                    "output_type": "display_data",
                    "data": {
                        "text/html": "Total execution time: 00:00:00.132"
                    },
                    "metadata": {}
                },
                {
                    "output_type": "execute_result",
                    "metadata": {},
                    "execution_count": 8,
                    "data": {
                        "application/vnd.dataresource+json": {
                            "schema": {
                                "fields": [
                                    {
                                        "name": "DiakAz"
                                    },
                                    {
                                        "name": "Nev"
                                    },
                                    {
                                        "name": "Szulido"
                                    }
                                ]
                            },
                            "data": [
                                {
                                    "DiakAz": "3",
                                    "Nev": "Kovács Imre",
                                    "Szulido": "1984-03-02 00:00:00.000"
                                },
                                {
                                    "DiakAz": "5",
                                    "Nev": "Kapos Petra",
                                    "Szulido": "1985-12-23 00:00:00.000"
                                },
                                {
                                    "DiakAz": "9",
                                    "Nev": "Koppány Olga",
                                    "Szulido": "1984-02-28 00:00:00.000"
                                }
                            ]
                        },
                        "text/html": [
                            "<table>",
                            "<tr><th>DiakAz</th><th>Nev</th><th>Szulido</th></tr>",
                            "<tr><td>3</td><td>Kovács Imre</td><td>1984-03-02 00:00:00.000</td></tr>",
                            "<tr><td>5</td><td>Kapos Petra</td><td>1985-12-23 00:00:00.000</td></tr>",
                            "<tr><td>9</td><td>Koppány Olga</td><td>1984-02-28 00:00:00.000</td></tr>",
                            "</table>"
                        ]
                    }
                }
            ],
            "execution_count": 8
        },
        {
            "cell_type": "markdown",
            "source": [
                "8. Készítsünk lekérdezést, amely a tanulók nevét és az ebből képzett felhasználói nevét tartalmazza. \n",
                "\n",
                "  \n",
                "\n",
                "a.  A felhasználói név álljon a név első kettő, illetve utolsó kettő betűjének összefűzéséből!\n",
                "\n",
                "b.  A listát szűrjük azon tanulókra, akik teljes neve - szóközzel együtt - legalább 10 betűs!"
            ],
            "metadata": {
                "azdata_cell_guid": "26a504dc-ff6a-439f-94c0-4580eca3eacf"
            },
            "attachments": {}
        },
        {
            "cell_type": "code",
            "source": [
                ""
            ],
            "metadata": {
                "azdata_cell_guid": "1cbb8aeb-78b5-4350-aa45-e3202fdab85b",
                "language": "sql"
            },
            "outputs": [],
            "execution_count": null
        },
        {
            "cell_type": "markdown",
            "source": [
                "9. Készítsünk listát a diákok adatairól, ahol a diákok neve úgy jelenik meg, hogy először a keresztnév, majd a vezetéknév, közöttük szóközzel!  \n",
                "\n",
                "a.  Ezen felül a születési idő három külön oszlopban jelenjen meg (év, hónap, nap). \n",
                "\n",
                "b.  Az oszlopokat nevezzük el értelemszerűen!"
            ],
            "metadata": {
                "azdata_cell_guid": "435e2860-2dd5-4877-90f4-34a43baeb53c"
            },
            "attachments": {}
        },
        {
            "cell_type": "code",
            "source": [
                ""
            ],
            "metadata": {
                "azdata_cell_guid": "ce846351-ddbe-4d8e-b8fb-2a92c73ac80b",
                "language": "sql"
            },
            "outputs": [],
            "execution_count": null
        },
        {
            "cell_type": "markdown",
            "source": [
                "10. Készítsünk listát a munkák azonosítójáról és megnevezéséről! Egy új oszlopban azt is jelenítsük meg, hogy melyik munka hetente mennyit fizet! \n",
                "\n",
                "a.  Az oszlop neve legyen Heti bér, az értéket kerekítsük 1000 forintra! \n",
                "\n",
                "b.  A listát szűrjük azon rekordokra, ahol a kerekített heti bér 10000 Ft felett van!"
            ],
            "metadata": {
                "azdata_cell_guid": "217c5772-afe2-4a7c-b913-e3a3e09d6411"
            },
            "attachments": {}
        },
        {
            "cell_type": "code",
            "source": [
                "select munkaId,\r\n",
                "        allas,\r\n",
                "        ROUND(oradij*oraszam,-3) as 'heti bér'\r\n",
                "from munka"
            ],
            "metadata": {
                "azdata_cell_guid": "a9cc0926-3dbd-4ed8-8179-1c39d64a0762",
                "language": "sql"
            },
            "outputs": [
                {
                    "output_type": "display_data",
                    "data": {
                        "text/html": "(41 rows affected)"
                    },
                    "metadata": {}
                },
                {
                    "output_type": "display_data",
                    "data": {
                        "text/html": "Total execution time: 00:00:00.048"
                    },
                    "metadata": {}
                },
                {
                    "output_type": "execute_result",
                    "metadata": {},
                    "execution_count": 15,
                    "data": {
                        "application/vnd.dataresource+json": {
                            "schema": {
                                "fields": [
                                    {
                                        "name": "munkaId"
                                    },
                                    {
                                        "name": "allas"
                                    },
                                    {
                                        "name": "heti bér"
                                    }
                                ]
                            },
                            "data": [
                                {
                                    "munkaId": "1",
                                    "allas": "kézbesítő",
                                    "heti bér": "2000"
                                },
                                {
                                    "munkaId": "2",
                                    "allas": "ügyfélszolgálati munkatárs",
                                    "heti bér": "1000"
                                },
                                {
                                    "munkaId": "3",
                                    "allas": "kisegítő",
                                    "heti bér": "2000"
                                },
                                {
                                    "munkaId": "4",
                                    "allas": "eladó",
                                    "heti bér": "1000"
                                },
                                {
                                    "munkaId": "5",
                                    "allas": "kézbesítő",
                                    "heti bér": "3000"
                                },
                                {
                                    "munkaId": "6",
                                    "allas": "futár",
                                    "heti bér": "2000"
                                },
                                {
                                    "munkaId": "7",
                                    "allas": "eladó",
                                    "heti bér": "2000"
                                },
                                {
                                    "munkaId": "8",
                                    "allas": "kisegítő",
                                    "heti bér": "1000"
                                },
                                {
                                    "munkaId": "9",
                                    "allas": "takarító",
                                    "heti bér": "2000"
                                },
                                {
                                    "munkaId": "10",
                                    "allas": "takarító",
                                    "heti bér": "2000"
                                },
                                {
                                    "munkaId": "11",
                                    "allas": "kisegítő",
                                    "heti bér": "2000"
                                },
                                {
                                    "munkaId": "12",
                                    "allas": "kisegítő",
                                    "heti bér": "2000"
                                },
                                {
                                    "munkaId": "13",
                                    "allas": "takarító",
                                    "heti bér": "2000"
                                },
                                {
                                    "munkaId": "14",
                                    "allas": "ruhatáros",
                                    "heti bér": "2000"
                                },
                                {
                                    "munkaId": "15",
                                    "allas": "ruhatáros",
                                    "heti bér": "2000"
                                },
                                {
                                    "munkaId": "16",
                                    "allas": "pincér",
                                    "heti bér": "3000"
                                },
                                {
                                    "munkaId": "17",
                                    "allas": "pincér",
                                    "heti bér": "3000"
                                },
                                {
                                    "munkaId": "18",
                                    "allas": "eladó",
                                    "heti bér": "2000"
                                },
                                {
                                    "munkaId": "19",
                                    "allas": "eladó",
                                    "heti bér": "2000"
                                },
                                {
                                    "munkaId": "20",
                                    "allas": "takarító",
                                    "heti bér": "2000"
                                },
                                {
                                    "munkaId": "21",
                                    "allas": "takarító",
                                    "heti bér": "2000"
                                },
                                {
                                    "munkaId": "22",
                                    "allas": "eladó",
                                    "heti bér": "2000"
                                },
                                {
                                    "munkaId": "23",
                                    "allas": "raktáros",
                                    "heti bér": "1000"
                                },
                                {
                                    "munkaId": "24",
                                    "allas": "eladó",
                                    "heti bér": "2000"
                                },
                                {
                                    "munkaId": "25",
                                    "allas": "takarító",
                                    "heti bér": "1000"
                                },
                                {
                                    "munkaId": "26",
                                    "allas": "takarító",
                                    "heti bér": "1000"
                                },
                                {
                                    "munkaId": "27",
                                    "allas": "takarító",
                                    "heti bér": "1000"
                                },
                                {
                                    "munkaId": "28",
                                    "allas": "takarító",
                                    "heti bér": "1000"
                                },
                                {
                                    "munkaId": "29",
                                    "allas": "eladó",
                                    "heti bér": "2000"
                                },
                                {
                                    "munkaId": "30",
                                    "allas": "eladó",
                                    "heti bér": "2000"
                                },
                                {
                                    "munkaId": "31",
                                    "allas": "ruhatáros",
                                    "heti bér": "1000"
                                },
                                {
                                    "munkaId": "32",
                                    "allas": "ruhatáros",
                                    "heti bér": "1000"
                                },
                                {
                                    "munkaId": "33",
                                    "allas": "ruhatáros",
                                    "heti bér": "1000"
                                },
                                {
                                    "munkaId": "34",
                                    "allas": "ruhatáros",
                                    "heti bér": "1000"
                                },
                                {
                                    "munkaId": "35",
                                    "allas": "raktáros",
                                    "heti bér": "2000"
                                },
                                {
                                    "munkaId": "36",
                                    "allas": "raktáros",
                                    "heti bér": "2000"
                                },
                                {
                                    "munkaId": "37",
                                    "allas": "raktáros",
                                    "heti bér": "2000"
                                },
                                {
                                    "munkaId": "38",
                                    "allas": "eladó",
                                    "heti bér": "2000"
                                },
                                {
                                    "munkaId": "39",
                                    "allas": "eladó",
                                    "heti bér": "2000"
                                },
                                {
                                    "munkaId": "40",
                                    "allas": "eladó",
                                    "heti bér": "2000"
                                },
                                {
                                    "munkaId": "41",
                                    "allas": "eladó",
                                    "heti bér": "2000"
                                }
                            ]
                        },
                        "text/html": [
                            "<table>",
                            "<tr><th>munkaId</th><th>allas</th><th>heti bér</th></tr>",
                            "<tr><td>1</td><td>kézbesítő</td><td>2000</td></tr>",
                            "<tr><td>2</td><td>ügyfélszolgálati munkatárs</td><td>1000</td></tr>",
                            "<tr><td>3</td><td>kisegítő</td><td>2000</td></tr>",
                            "<tr><td>4</td><td>eladó</td><td>1000</td></tr>",
                            "<tr><td>5</td><td>kézbesítő</td><td>3000</td></tr>",
                            "<tr><td>6</td><td>futár</td><td>2000</td></tr>",
                            "<tr><td>7</td><td>eladó</td><td>2000</td></tr>",
                            "<tr><td>8</td><td>kisegítő</td><td>1000</td></tr>",
                            "<tr><td>9</td><td>takarító</td><td>2000</td></tr>",
                            "<tr><td>10</td><td>takarító</td><td>2000</td></tr>",
                            "<tr><td>11</td><td>kisegítő</td><td>2000</td></tr>",
                            "<tr><td>12</td><td>kisegítő</td><td>2000</td></tr>",
                            "<tr><td>13</td><td>takarító</td><td>2000</td></tr>",
                            "<tr><td>14</td><td>ruhatáros</td><td>2000</td></tr>",
                            "<tr><td>15</td><td>ruhatáros</td><td>2000</td></tr>",
                            "<tr><td>16</td><td>pincér</td><td>3000</td></tr>",
                            "<tr><td>17</td><td>pincér</td><td>3000</td></tr>",
                            "<tr><td>18</td><td>eladó</td><td>2000</td></tr>",
                            "<tr><td>19</td><td>eladó</td><td>2000</td></tr>",
                            "<tr><td>20</td><td>takarító</td><td>2000</td></tr>",
                            "<tr><td>21</td><td>takarító</td><td>2000</td></tr>",
                            "<tr><td>22</td><td>eladó</td><td>2000</td></tr>",
                            "<tr><td>23</td><td>raktáros</td><td>1000</td></tr>",
                            "<tr><td>24</td><td>eladó</td><td>2000</td></tr>",
                            "<tr><td>25</td><td>takarító</td><td>1000</td></tr>",
                            "<tr><td>26</td><td>takarító</td><td>1000</td></tr>",
                            "<tr><td>27</td><td>takarító</td><td>1000</td></tr>",
                            "<tr><td>28</td><td>takarító</td><td>1000</td></tr>",
                            "<tr><td>29</td><td>eladó</td><td>2000</td></tr>",
                            "<tr><td>30</td><td>eladó</td><td>2000</td></tr>",
                            "<tr><td>31</td><td>ruhatáros</td><td>1000</td></tr>",
                            "<tr><td>32</td><td>ruhatáros</td><td>1000</td></tr>",
                            "<tr><td>33</td><td>ruhatáros</td><td>1000</td></tr>",
                            "<tr><td>34</td><td>ruhatáros</td><td>1000</td></tr>",
                            "<tr><td>35</td><td>raktáros</td><td>2000</td></tr>",
                            "<tr><td>36</td><td>raktáros</td><td>2000</td></tr>",
                            "<tr><td>37</td><td>raktáros</td><td>2000</td></tr>",
                            "<tr><td>38</td><td>eladó</td><td>2000</td></tr>",
                            "<tr><td>39</td><td>eladó</td><td>2000</td></tr>",
                            "<tr><td>40</td><td>eladó</td><td>2000</td></tr>",
                            "<tr><td>41</td><td>eladó</td><td>2000</td></tr>",
                            "</table>"
                        ]
                    }
                }
            ],
            "execution_count": 15
        },
        {
            "cell_type": "markdown",
            "source": [
                "11. A diákok számára differenciált béremelést terveznek: a középiskolások esetében 33%, egyéb esetben 17% mértékben. Készítsünk listát, amely tartalmazza a munkák azonosítóját, az állás nevét, az eredeti óradíjat és a tervezett emelt óradíjat.\n",
                "\n",
                "  \n",
                "\n",
                "a.  Az oszlopoknak adjuk nevet értelemszerűen!\n",
                "\n",
                "b.  Az emelt óradíj összegét kerekítsük egészre! (Az esetlegesen megjelenő 0 tizedesjegyekkel ne foglalkozzunk)"
            ],
            "metadata": {
                "azdata_cell_guid": "d2340f5f-1614-473c-b937-85740d67f7c1"
            },
            "attachments": {}
        },
        {
            "cell_type": "code",
            "source": [
                "select munkaId,\r\n",
                "    allas,\r\n",
                "        oradij,\r\n",
                "        round(case   \r\n",
                "            when kozepiskolas=0 then oradij*1.17\r\n",
                "            else oradij*1.33\r\n",
                "        end,10) as 'Emelt oradij'\r\n",
                "from munka\r\n",
                ""
            ],
            "metadata": {
                "azdata_cell_guid": "e99c2c53-898f-4787-b0e6-182d106dc16f",
                "language": "sql"
            },
            "outputs": [
                {
                    "output_type": "display_data",
                    "data": {
                        "text/html": "(41 rows affected)"
                    },
                    "metadata": {}
                },
                {
                    "output_type": "display_data",
                    "data": {
                        "text/html": "Total execution time: 00:00:00.014"
                    },
                    "metadata": {}
                },
                {
                    "output_type": "execute_result",
                    "metadata": {},
                    "execution_count": 22,
                    "data": {
                        "application/vnd.dataresource+json": {
                            "schema": {
                                "fields": [
                                    {
                                        "name": "munkaId"
                                    },
                                    {
                                        "name": "allas"
                                    },
                                    {
                                        "name": "oradij"
                                    },
                                    {
                                        "name": "Emelt oradij"
                                    }
                                ]
                            },
                            "data": [
                                {
                                    "munkaId": "1",
                                    "allas": "kézbesítő",
                                    "oradij": "400",
                                    "Emelt oradij": "468.00"
                                },
                                {
                                    "munkaId": "2",
                                    "allas": "ügyfélszolgálati munkatárs",
                                    "oradij": "300",
                                    "Emelt oradij": "351.00"
                                },
                                {
                                    "munkaId": "3",
                                    "allas": "kisegítő",
                                    "oradij": "500",
                                    "Emelt oradij": "665.00"
                                },
                                {
                                    "munkaId": "4",
                                    "allas": "eladó",
                                    "oradij": "350",
                                    "Emelt oradij": "409.50"
                                },
                                {
                                    "munkaId": "5",
                                    "allas": "kézbesítő",
                                    "oradij": "450",
                                    "Emelt oradij": "526.50"
                                },
                                {
                                    "munkaId": "6",
                                    "allas": "futár",
                                    "oradij": "300",
                                    "Emelt oradij": "399.00"
                                },
                                {
                                    "munkaId": "7",
                                    "allas": "eladó",
                                    "oradij": "400",
                                    "Emelt oradij": "468.00"
                                },
                                {
                                    "munkaId": "8",
                                    "allas": "kisegítő",
                                    "oradij": "300",
                                    "Emelt oradij": "351.00"
                                },
                                {
                                    "munkaId": "9",
                                    "allas": "takarító",
                                    "oradij": "400",
                                    "Emelt oradij": "468.00"
                                },
                                {
                                    "munkaId": "10",
                                    "allas": "takarító",
                                    "oradij": "400",
                                    "Emelt oradij": "468.00"
                                },
                                {
                                    "munkaId": "11",
                                    "allas": "kisegítő",
                                    "oradij": "300",
                                    "Emelt oradij": "399.00"
                                },
                                {
                                    "munkaId": "12",
                                    "allas": "kisegítő",
                                    "oradij": "300",
                                    "Emelt oradij": "399.00"
                                },
                                {
                                    "munkaId": "13",
                                    "allas": "takarító",
                                    "oradij": "400",
                                    "Emelt oradij": "468.00"
                                },
                                {
                                    "munkaId": "14",
                                    "allas": "ruhatáros",
                                    "oradij": "400",
                                    "Emelt oradij": "468.00"
                                },
                                {
                                    "munkaId": "15",
                                    "allas": "ruhatáros",
                                    "oradij": "400",
                                    "Emelt oradij": "468.00"
                                },
                                {
                                    "munkaId": "16",
                                    "allas": "pincér",
                                    "oradij": "450",
                                    "Emelt oradij": "526.50"
                                },
                                {
                                    "munkaId": "17",
                                    "allas": "pincér",
                                    "oradij": "450",
                                    "Emelt oradij": "526.50"
                                },
                                {
                                    "munkaId": "18",
                                    "allas": "eladó",
                                    "oradij": "500",
                                    "Emelt oradij": "585.00"
                                },
                                {
                                    "munkaId": "19",
                                    "allas": "eladó",
                                    "oradij": "500",
                                    "Emelt oradij": "585.00"
                                },
                                {
                                    "munkaId": "20",
                                    "allas": "takarító",
                                    "oradij": "350",
                                    "Emelt oradij": "465.50"
                                },
                                {
                                    "munkaId": "21",
                                    "allas": "takarító",
                                    "oradij": "350",
                                    "Emelt oradij": "465.50"
                                },
                                {
                                    "munkaId": "22",
                                    "allas": "eladó",
                                    "oradij": "400",
                                    "Emelt oradij": "468.00"
                                },
                                {
                                    "munkaId": "23",
                                    "allas": "raktáros",
                                    "oradij": "300",
                                    "Emelt oradij": "351.00"
                                },
                                {
                                    "munkaId": "24",
                                    "allas": "eladó",
                                    "oradij": "300",
                                    "Emelt oradij": "351.00"
                                },
                                {
                                    "munkaId": "25",
                                    "allas": "takarító",
                                    "oradij": "250",
                                    "Emelt oradij": "332.50"
                                },
                                {
                                    "munkaId": "26",
                                    "allas": "takarító",
                                    "oradij": "250",
                                    "Emelt oradij": "332.50"
                                },
                                {
                                    "munkaId": "27",
                                    "allas": "takarító",
                                    "oradij": "300",
                                    "Emelt oradij": "399.00"
                                },
                                {
                                    "munkaId": "28",
                                    "allas": "takarító",
                                    "oradij": "300",
                                    "Emelt oradij": "399.00"
                                },
                                {
                                    "munkaId": "29",
                                    "allas": "eladó",
                                    "oradij": "300",
                                    "Emelt oradij": "399.00"
                                },
                                {
                                    "munkaId": "30",
                                    "allas": "eladó",
                                    "oradij": "300",
                                    "Emelt oradij": "399.00"
                                },
                                {
                                    "munkaId": "31",
                                    "allas": "ruhatáros",
                                    "oradij": "200",
                                    "Emelt oradij": "266.00"
                                },
                                {
                                    "munkaId": "32",
                                    "allas": "ruhatáros",
                                    "oradij": "200",
                                    "Emelt oradij": "266.00"
                                },
                                {
                                    "munkaId": "33",
                                    "allas": "ruhatáros",
                                    "oradij": "200",
                                    "Emelt oradij": "266.00"
                                },
                                {
                                    "munkaId": "34",
                                    "allas": "ruhatáros",
                                    "oradij": "200",
                                    "Emelt oradij": "266.00"
                                },
                                {
                                    "munkaId": "35",
                                    "allas": "raktáros",
                                    "oradij": "300",
                                    "Emelt oradij": "351.00"
                                },
                                {
                                    "munkaId": "36",
                                    "allas": "raktáros",
                                    "oradij": "300",
                                    "Emelt oradij": "351.00"
                                },
                                {
                                    "munkaId": "37",
                                    "allas": "raktáros",
                                    "oradij": "300",
                                    "Emelt oradij": "351.00"
                                },
                                {
                                    "munkaId": "38",
                                    "allas": "eladó",
                                    "oradij": "400",
                                    "Emelt oradij": "468.00"
                                },
                                {
                                    "munkaId": "39",
                                    "allas": "eladó",
                                    "oradij": "400",
                                    "Emelt oradij": "468.00"
                                },
                                {
                                    "munkaId": "40",
                                    "allas": "eladó",
                                    "oradij": "400",
                                    "Emelt oradij": "468.00"
                                },
                                {
                                    "munkaId": "41",
                                    "allas": "eladó",
                                    "oradij": "400",
                                    "Emelt oradij": "468.00"
                                }
                            ]
                        },
                        "text/html": [
                            "<table>",
                            "<tr><th>munkaId</th><th>allas</th><th>oradij</th><th>Emelt oradij</th></tr>",
                            "<tr><td>1</td><td>kézbesítő</td><td>400</td><td>468.00</td></tr>",
                            "<tr><td>2</td><td>ügyfélszolgálati munkatárs</td><td>300</td><td>351.00</td></tr>",
                            "<tr><td>3</td><td>kisegítő</td><td>500</td><td>665.00</td></tr>",
                            "<tr><td>4</td><td>eladó</td><td>350</td><td>409.50</td></tr>",
                            "<tr><td>5</td><td>kézbesítő</td><td>450</td><td>526.50</td></tr>",
                            "<tr><td>6</td><td>futár</td><td>300</td><td>399.00</td></tr>",
                            "<tr><td>7</td><td>eladó</td><td>400</td><td>468.00</td></tr>",
                            "<tr><td>8</td><td>kisegítő</td><td>300</td><td>351.00</td></tr>",
                            "<tr><td>9</td><td>takarító</td><td>400</td><td>468.00</td></tr>",
                            "<tr><td>10</td><td>takarító</td><td>400</td><td>468.00</td></tr>",
                            "<tr><td>11</td><td>kisegítő</td><td>300</td><td>399.00</td></tr>",
                            "<tr><td>12</td><td>kisegítő</td><td>300</td><td>399.00</td></tr>",
                            "<tr><td>13</td><td>takarító</td><td>400</td><td>468.00</td></tr>",
                            "<tr><td>14</td><td>ruhatáros</td><td>400</td><td>468.00</td></tr>",
                            "<tr><td>15</td><td>ruhatáros</td><td>400</td><td>468.00</td></tr>",
                            "<tr><td>16</td><td>pincér</td><td>450</td><td>526.50</td></tr>",
                            "<tr><td>17</td><td>pincér</td><td>450</td><td>526.50</td></tr>",
                            "<tr><td>18</td><td>eladó</td><td>500</td><td>585.00</td></tr>",
                            "<tr><td>19</td><td>eladó</td><td>500</td><td>585.00</td></tr>",
                            "<tr><td>20</td><td>takarító</td><td>350</td><td>465.50</td></tr>",
                            "<tr><td>21</td><td>takarító</td><td>350</td><td>465.50</td></tr>",
                            "<tr><td>22</td><td>eladó</td><td>400</td><td>468.00</td></tr>",
                            "<tr><td>23</td><td>raktáros</td><td>300</td><td>351.00</td></tr>",
                            "<tr><td>24</td><td>eladó</td><td>300</td><td>351.00</td></tr>",
                            "<tr><td>25</td><td>takarító</td><td>250</td><td>332.50</td></tr>",
                            "<tr><td>26</td><td>takarító</td><td>250</td><td>332.50</td></tr>",
                            "<tr><td>27</td><td>takarító</td><td>300</td><td>399.00</td></tr>",
                            "<tr><td>28</td><td>takarító</td><td>300</td><td>399.00</td></tr>",
                            "<tr><td>29</td><td>eladó</td><td>300</td><td>399.00</td></tr>",
                            "<tr><td>30</td><td>eladó</td><td>300</td><td>399.00</td></tr>",
                            "<tr><td>31</td><td>ruhatáros</td><td>200</td><td>266.00</td></tr>",
                            "<tr><td>32</td><td>ruhatáros</td><td>200</td><td>266.00</td></tr>",
                            "<tr><td>33</td><td>ruhatáros</td><td>200</td><td>266.00</td></tr>",
                            "<tr><td>34</td><td>ruhatáros</td><td>200</td><td>266.00</td></tr>",
                            "<tr><td>35</td><td>raktáros</td><td>300</td><td>351.00</td></tr>",
                            "<tr><td>36</td><td>raktáros</td><td>300</td><td>351.00</td></tr>",
                            "<tr><td>37</td><td>raktáros</td><td>300</td><td>351.00</td></tr>",
                            "<tr><td>38</td><td>eladó</td><td>400</td><td>468.00</td></tr>",
                            "<tr><td>39</td><td>eladó</td><td>400</td><td>468.00</td></tr>",
                            "<tr><td>40</td><td>eladó</td><td>400</td><td>468.00</td></tr>",
                            "<tr><td>41</td><td>eladó</td><td>400</td><td>468.00</td></tr>",
                            "</table>"
                        ]
                    }
                }
            ],
            "execution_count": 22
        },
        {
            "cell_type": "markdown",
            "source": [
                "12. A diákok számára próbaidőt írnak elő, amely a munka kezdetétől számítva 3 hónapig tart.    Jelenítsük meg a munka tábla adatait egy új oszloppal kiegészítve, amelyik a próbaidő    végének dátumát mutatja!  \n",
                "\n",
                "  \n",
                "\n",
                "a.  Az oszlop neve Próbaidő vége legyen! \n",
                "\n",
                "b.  A lista ne tartalmazza azokat a munkákat, ahol a diákok azonosítója nincs megadva!"
            ],
            "metadata": {
                "azdata_cell_guid": "a765e9d6-58b3-4171-872a-78f3118fd6e3"
            },
            "attachments": {}
        },
        {
            "cell_type": "code",
            "source": [
                "select *,\r\n",
                "    DATEADD(MONTH,3,datum) as 'Probaidoszak vege'\r\n",
                "from munka\r\n",
                ""
            ],
            "metadata": {
                "azdata_cell_guid": "422e8127-b652-4d3a-bfd7-9b1637b5781e",
                "language": "sql"
            },
            "outputs": [
                {
                    "output_type": "display_data",
                    "data": {
                        "text/html": "(41 rows affected)"
                    },
                    "metadata": {}
                },
                {
                    "output_type": "display_data",
                    "data": {
                        "text/html": "Total execution time: 00:00:00.066"
                    },
                    "metadata": {}
                },
                {
                    "output_type": "execute_result",
                    "metadata": {},
                    "execution_count": 26,
                    "data": {
                        "application/vnd.dataresource+json": {
                            "schema": {
                                "fields": [
                                    {
                                        "name": "munkaId"
                                    },
                                    {
                                        "name": "MhelyId"
                                    },
                                    {
                                        "name": "DiakAz"
                                    },
                                    {
                                        "name": "allas"
                                    },
                                    {
                                        "name": "datum"
                                    },
                                    {
                                        "name": "oradij"
                                    },
                                    {
                                        "name": "oraszam"
                                    },
                                    {
                                        "name": "kozepiskolas"
                                    },
                                    {
                                        "name": "Probaidoszak vege"
                                    }
                                ]
                            },
                            "data": [
                                {
                                    "munkaId": "1",
                                    "MhelyId": "1",
                                    "DiakAz": "1",
                                    "allas": "kézbesítő",
                                    "datum": "2003-07-02 00:00:00.000",
                                    "oradij": "400",
                                    "oraszam": "4",
                                    "kozepiskolas": "0",
                                    "Probaidoszak vege": "2003-10-02 00:00:00.000"
                                },
                                {
                                    "munkaId": "2",
                                    "MhelyId": "1",
                                    "DiakAz": "2",
                                    "allas": "ügyfélszolgálati munkatárs",
                                    "datum": "2003-07-03 00:00:00.000",
                                    "oradij": "300",
                                    "oraszam": "4",
                                    "kozepiskolas": "0",
                                    "Probaidoszak vege": "2003-10-03 00:00:00.000"
                                },
                                {
                                    "munkaId": "3",
                                    "MhelyId": "2",
                                    "DiakAz": "1",
                                    "allas": "kisegítő",
                                    "datum": "2003-07-01 00:00:00.000",
                                    "oradij": "500",
                                    "oraszam": "4",
                                    "kozepiskolas": "1",
                                    "Probaidoszak vege": "2003-10-01 00:00:00.000"
                                },
                                {
                                    "munkaId": "4",
                                    "MhelyId": "2",
                                    "DiakAz": "2",
                                    "allas": "eladó",
                                    "datum": "2003-07-01 00:00:00.000",
                                    "oradij": "350",
                                    "oraszam": "4",
                                    "kozepiskolas": "0",
                                    "Probaidoszak vege": "2003-10-01 00:00:00.000"
                                },
                                {
                                    "munkaId": "5",
                                    "MhelyId": "1",
                                    "DiakAz": "1",
                                    "allas": "kézbesítő",
                                    "datum": "2003-07-03 00:00:00.000",
                                    "oradij": "450",
                                    "oraszam": "6",
                                    "kozepiskolas": "0",
                                    "Probaidoszak vege": "2003-10-03 00:00:00.000"
                                },
                                {
                                    "munkaId": "6",
                                    "MhelyId": "1",
                                    "DiakAz": "2",
                                    "allas": "futár",
                                    "datum": "2003-07-06 00:00:00.000",
                                    "oradij": "300",
                                    "oraszam": "5",
                                    "kozepiskolas": "1",
                                    "Probaidoszak vege": "2003-10-06 00:00:00.000"
                                },
                                {
                                    "munkaId": "7",
                                    "MhelyId": "2",
                                    "DiakAz": "NULL",
                                    "allas": "eladó",
                                    "datum": "2003-07-07 00:00:00.000",
                                    "oradij": "400",
                                    "oraszam": "6",
                                    "kozepiskolas": "0",
                                    "Probaidoszak vege": "2003-10-07 00:00:00.000"
                                },
                                {
                                    "munkaId": "8",
                                    "MhelyId": "9",
                                    "DiakAz": "NULL",
                                    "allas": "kisegítő",
                                    "datum": "2003-06-19 00:00:00.000",
                                    "oradij": "300",
                                    "oraszam": "4",
                                    "kozepiskolas": "0",
                                    "Probaidoszak vege": "2003-09-19 00:00:00.000"
                                },
                                {
                                    "munkaId": "9",
                                    "MhelyId": "9",
                                    "DiakAz": "6",
                                    "allas": "takarító",
                                    "datum": "2003-06-19 00:00:00.000",
                                    "oradij": "400",
                                    "oraszam": "4",
                                    "kozepiskolas": "0",
                                    "Probaidoszak vege": "2003-09-19 00:00:00.000"
                                },
                                {
                                    "munkaId": "10",
                                    "MhelyId": "9",
                                    "DiakAz": "6",
                                    "allas": "takarító",
                                    "datum": "2003-06-20 00:00:00.000",
                                    "oradij": "400",
                                    "oraszam": "4",
                                    "kozepiskolas": "0",
                                    "Probaidoszak vege": "2003-09-20 00:00:00.000"
                                },
                                {
                                    "munkaId": "11",
                                    "MhelyId": "9",
                                    "DiakAz": "8",
                                    "allas": "kisegítő",
                                    "datum": "2003-06-21 00:00:00.000",
                                    "oradij": "300",
                                    "oraszam": "6",
                                    "kozepiskolas": "1",
                                    "Probaidoszak vege": "2003-09-21 00:00:00.000"
                                },
                                {
                                    "munkaId": "12",
                                    "MhelyId": "9",
                                    "DiakAz": "8",
                                    "allas": "kisegítő",
                                    "datum": "2003-06-22 00:00:00.000",
                                    "oradij": "300",
                                    "oraszam": "6",
                                    "kozepiskolas": "1",
                                    "Probaidoszak vege": "2003-09-22 00:00:00.000"
                                },
                                {
                                    "munkaId": "13",
                                    "MhelyId": "9",
                                    "DiakAz": "6",
                                    "allas": "takarító",
                                    "datum": "2003-06-23 00:00:00.000",
                                    "oradij": "400",
                                    "oraszam": "4",
                                    "kozepiskolas": "0",
                                    "Probaidoszak vege": "2003-09-23 00:00:00.000"
                                },
                                {
                                    "munkaId": "14",
                                    "MhelyId": "6",
                                    "DiakAz": "4",
                                    "allas": "ruhatáros",
                                    "datum": "2003-09-11 00:00:00.000",
                                    "oradij": "400",
                                    "oraszam": "4",
                                    "kozepiskolas": "0",
                                    "Probaidoszak vege": "2003-12-11 00:00:00.000"
                                },
                                {
                                    "munkaId": "15",
                                    "MhelyId": "6",
                                    "DiakAz": "7",
                                    "allas": "ruhatáros",
                                    "datum": "2003-09-11 00:00:00.000",
                                    "oradij": "400",
                                    "oraszam": "4",
                                    "kozepiskolas": "0",
                                    "Probaidoszak vege": "2003-12-11 00:00:00.000"
                                },
                                {
                                    "munkaId": "16",
                                    "MhelyId": "6",
                                    "DiakAz": "5",
                                    "allas": "pincér",
                                    "datum": "2003-06-11 00:00:00.000",
                                    "oradij": "450",
                                    "oraszam": "6",
                                    "kozepiskolas": "0",
                                    "Probaidoszak vege": "2003-09-11 00:00:00.000"
                                },
                                {
                                    "munkaId": "17",
                                    "MhelyId": "6",
                                    "DiakAz": "5",
                                    "allas": "pincér",
                                    "datum": "2003-06-12 00:00:00.000",
                                    "oradij": "450",
                                    "oraszam": "6",
                                    "kozepiskolas": "0",
                                    "Probaidoszak vege": "2003-09-12 00:00:00.000"
                                },
                                {
                                    "munkaId": "18",
                                    "MhelyId": "8",
                                    "DiakAz": "9",
                                    "allas": "eladó",
                                    "datum": "2003-07-21 00:00:00.000",
                                    "oradij": "500",
                                    "oraszam": "4",
                                    "kozepiskolas": "0",
                                    "Probaidoszak vege": "2003-10-21 00:00:00.000"
                                },
                                {
                                    "munkaId": "19",
                                    "MhelyId": "8",
                                    "DiakAz": "9",
                                    "allas": "eladó",
                                    "datum": "2003-07-22 00:00:00.000",
                                    "oradij": "500",
                                    "oraszam": "4",
                                    "kozepiskolas": "0",
                                    "Probaidoszak vege": "2003-10-22 00:00:00.000"
                                },
                                {
                                    "munkaId": "20",
                                    "MhelyId": "8",
                                    "DiakAz": "10",
                                    "allas": "takarító",
                                    "datum": "2003-08-10 00:00:00.000",
                                    "oradij": "350",
                                    "oraszam": "6",
                                    "kozepiskolas": "1",
                                    "Probaidoszak vege": "2003-11-10 00:00:00.000"
                                },
                                {
                                    "munkaId": "21",
                                    "MhelyId": "8",
                                    "DiakAz": "10",
                                    "allas": "takarító",
                                    "datum": "2003-08-11 00:00:00.000",
                                    "oradij": "350",
                                    "oraszam": "6",
                                    "kozepiskolas": "1",
                                    "Probaidoszak vege": "2003-11-11 00:00:00.000"
                                },
                                {
                                    "munkaId": "22",
                                    "MhelyId": "11",
                                    "DiakAz": "5",
                                    "allas": "eladó",
                                    "datum": "2003-05-10 00:00:00.000",
                                    "oradij": "400",
                                    "oraszam": "4",
                                    "kozepiskolas": "0",
                                    "Probaidoszak vege": "2003-08-10 00:00:00.000"
                                },
                                {
                                    "munkaId": "23",
                                    "MhelyId": "11",
                                    "DiakAz": "6",
                                    "allas": "raktáros",
                                    "datum": "2003-05-20 00:00:00.000",
                                    "oradij": "300",
                                    "oraszam": "4",
                                    "kozepiskolas": "0",
                                    "Probaidoszak vege": "2003-08-20 00:00:00.000"
                                },
                                {
                                    "munkaId": "24",
                                    "MhelyId": "11",
                                    "DiakAz": "5",
                                    "allas": "eladó",
                                    "datum": "2003-06-23 00:00:00.000",
                                    "oradij": "300",
                                    "oraszam": "6",
                                    "kozepiskolas": "0",
                                    "Probaidoszak vege": "2003-09-23 00:00:00.000"
                                },
                                {
                                    "munkaId": "25",
                                    "MhelyId": "10",
                                    "DiakAz": "NULL",
                                    "allas": "takarító",
                                    "datum": "2003-07-29 00:00:00.000",
                                    "oradij": "250",
                                    "oraszam": "4",
                                    "kozepiskolas": "1",
                                    "Probaidoszak vege": "2003-10-29 00:00:00.000"
                                },
                                {
                                    "munkaId": "26",
                                    "MhelyId": "10",
                                    "DiakAz": "NULL",
                                    "allas": "takarító",
                                    "datum": "2003-07-30 00:00:00.000",
                                    "oradij": "250",
                                    "oraszam": "4",
                                    "kozepiskolas": "1",
                                    "Probaidoszak vege": "2003-10-30 00:00:00.000"
                                },
                                {
                                    "munkaId": "27",
                                    "MhelyId": "10",
                                    "DiakAz": "3",
                                    "allas": "takarító",
                                    "datum": "2003-07-31 00:00:00.000",
                                    "oradij": "300",
                                    "oraszam": "4",
                                    "kozepiskolas": "1",
                                    "Probaidoszak vege": "2003-10-31 00:00:00.000"
                                },
                                {
                                    "munkaId": "28",
                                    "MhelyId": "10",
                                    "DiakAz": "3",
                                    "allas": "takarító",
                                    "datum": "2003-08-01 00:00:00.000",
                                    "oradij": "300",
                                    "oraszam": "4",
                                    "kozepiskolas": "1",
                                    "Probaidoszak vege": "2003-11-01 00:00:00.000"
                                },
                                {
                                    "munkaId": "29",
                                    "MhelyId": "10",
                                    "DiakAz": "8",
                                    "allas": "eladó",
                                    "datum": "2003-09-12 00:00:00.000",
                                    "oradij": "300",
                                    "oraszam": "6",
                                    "kozepiskolas": "1",
                                    "Probaidoszak vege": "2003-12-12 00:00:00.000"
                                },
                                {
                                    "munkaId": "30",
                                    "MhelyId": "10",
                                    "DiakAz": "8",
                                    "allas": "eladó",
                                    "datum": "2003-09-13 00:00:00.000",
                                    "oradij": "300",
                                    "oraszam": "6",
                                    "kozepiskolas": "1",
                                    "Probaidoszak vege": "2003-12-13 00:00:00.000"
                                },
                                {
                                    "munkaId": "31",
                                    "MhelyId": "7",
                                    "DiakAz": "8",
                                    "allas": "ruhatáros",
                                    "datum": "2003-08-20 00:00:00.000",
                                    "oradij": "200",
                                    "oraszam": "4",
                                    "kozepiskolas": "1",
                                    "Probaidoszak vege": "2003-11-20 00:00:00.000"
                                },
                                {
                                    "munkaId": "32",
                                    "MhelyId": "7",
                                    "DiakAz": "8",
                                    "allas": "ruhatáros",
                                    "datum": "2003-08-21 00:00:00.000",
                                    "oradij": "200",
                                    "oraszam": "4",
                                    "kozepiskolas": "1",
                                    "Probaidoszak vege": "2003-11-21 00:00:00.000"
                                },
                                {
                                    "munkaId": "33",
                                    "MhelyId": "7",
                                    "DiakAz": "NULL",
                                    "allas": "ruhatáros",
                                    "datum": "2003-08-22 00:00:00.000",
                                    "oradij": "200",
                                    "oraszam": "4",
                                    "kozepiskolas": "1",
                                    "Probaidoszak vege": "2003-11-22 00:00:00.000"
                                },
                                {
                                    "munkaId": "34",
                                    "MhelyId": "7",
                                    "DiakAz": "NULL",
                                    "allas": "ruhatáros",
                                    "datum": "2003-08-23 00:00:00.000",
                                    "oradij": "200",
                                    "oraszam": "4",
                                    "kozepiskolas": "1",
                                    "Probaidoszak vege": "2003-11-23 00:00:00.000"
                                },
                                {
                                    "munkaId": "35",
                                    "MhelyId": "4",
                                    "DiakAz": "NULL",
                                    "allas": "raktáros",
                                    "datum": "2003-10-10 00:00:00.000",
                                    "oradij": "300",
                                    "oraszam": "6",
                                    "kozepiskolas": "0",
                                    "Probaidoszak vege": "2004-01-10 00:00:00.000"
                                },
                                {
                                    "munkaId": "36",
                                    "MhelyId": "4",
                                    "DiakAz": "NULL",
                                    "allas": "raktáros",
                                    "datum": "2003-10-11 00:00:00.000",
                                    "oradij": "300",
                                    "oraszam": "6",
                                    "kozepiskolas": "0",
                                    "Probaidoszak vege": "2004-01-11 00:00:00.000"
                                },
                                {
                                    "munkaId": "37",
                                    "MhelyId": "4",
                                    "DiakAz": "NULL",
                                    "allas": "raktáros",
                                    "datum": "2003-10-12 00:00:00.000",
                                    "oradij": "300",
                                    "oraszam": "6",
                                    "kozepiskolas": "0",
                                    "Probaidoszak vege": "2004-01-12 00:00:00.000"
                                },
                                {
                                    "munkaId": "38",
                                    "MhelyId": "5",
                                    "DiakAz": "7",
                                    "allas": "eladó",
                                    "datum": "2003-06-05 00:00:00.000",
                                    "oradij": "400",
                                    "oraszam": "4",
                                    "kozepiskolas": "0",
                                    "Probaidoszak vege": "2003-09-05 00:00:00.000"
                                },
                                {
                                    "munkaId": "39",
                                    "MhelyId": "5",
                                    "DiakAz": "7",
                                    "allas": "eladó",
                                    "datum": "2003-06-06 00:00:00.000",
                                    "oradij": "400",
                                    "oraszam": "4",
                                    "kozepiskolas": "0",
                                    "Probaidoszak vege": "2003-09-06 00:00:00.000"
                                },
                                {
                                    "munkaId": "40",
                                    "MhelyId": "5",
                                    "DiakAz": "7",
                                    "allas": "eladó",
                                    "datum": "2003-06-07 00:00:00.000",
                                    "oradij": "400",
                                    "oraszam": "4",
                                    "kozepiskolas": "0",
                                    "Probaidoszak vege": "2003-09-07 00:00:00.000"
                                },
                                {
                                    "munkaId": "41",
                                    "MhelyId": "11",
                                    "DiakAz": "NULL",
                                    "allas": "eladó",
                                    "datum": "2003-07-07 00:00:00.000",
                                    "oradij": "400",
                                    "oraszam": "6",
                                    "kozepiskolas": "0",
                                    "Probaidoszak vege": "2003-10-07 00:00:00.000"
                                }
                            ]
                        },
                        "text/html": [
                            "<table>",
                            "<tr><th>munkaId</th><th>MhelyId</th><th>DiakAz</th><th>allas</th><th>datum</th><th>oradij</th><th>oraszam</th><th>kozepiskolas</th><th>Probaidoszak vege</th></tr>",
                            "<tr><td>1</td><td>1</td><td>1</td><td>kézbesítő</td><td>2003-07-02 00:00:00.000</td><td>400</td><td>4</td><td>0</td><td>2003-10-02 00:00:00.000</td></tr>",
                            "<tr><td>2</td><td>1</td><td>2</td><td>ügyfélszolgálati munkatárs</td><td>2003-07-03 00:00:00.000</td><td>300</td><td>4</td><td>0</td><td>2003-10-03 00:00:00.000</td></tr>",
                            "<tr><td>3</td><td>2</td><td>1</td><td>kisegítő</td><td>2003-07-01 00:00:00.000</td><td>500</td><td>4</td><td>1</td><td>2003-10-01 00:00:00.000</td></tr>",
                            "<tr><td>4</td><td>2</td><td>2</td><td>eladó</td><td>2003-07-01 00:00:00.000</td><td>350</td><td>4</td><td>0</td><td>2003-10-01 00:00:00.000</td></tr>",
                            "<tr><td>5</td><td>1</td><td>1</td><td>kézbesítő</td><td>2003-07-03 00:00:00.000</td><td>450</td><td>6</td><td>0</td><td>2003-10-03 00:00:00.000</td></tr>",
                            "<tr><td>6</td><td>1</td><td>2</td><td>futár</td><td>2003-07-06 00:00:00.000</td><td>300</td><td>5</td><td>1</td><td>2003-10-06 00:00:00.000</td></tr>",
                            "<tr><td>7</td><td>2</td><td>NULL</td><td>eladó</td><td>2003-07-07 00:00:00.000</td><td>400</td><td>6</td><td>0</td><td>2003-10-07 00:00:00.000</td></tr>",
                            "<tr><td>8</td><td>9</td><td>NULL</td><td>kisegítő</td><td>2003-06-19 00:00:00.000</td><td>300</td><td>4</td><td>0</td><td>2003-09-19 00:00:00.000</td></tr>",
                            "<tr><td>9</td><td>9</td><td>6</td><td>takarító</td><td>2003-06-19 00:00:00.000</td><td>400</td><td>4</td><td>0</td><td>2003-09-19 00:00:00.000</td></tr>",
                            "<tr><td>10</td><td>9</td><td>6</td><td>takarító</td><td>2003-06-20 00:00:00.000</td><td>400</td><td>4</td><td>0</td><td>2003-09-20 00:00:00.000</td></tr>",
                            "<tr><td>11</td><td>9</td><td>8</td><td>kisegítő</td><td>2003-06-21 00:00:00.000</td><td>300</td><td>6</td><td>1</td><td>2003-09-21 00:00:00.000</td></tr>",
                            "<tr><td>12</td><td>9</td><td>8</td><td>kisegítő</td><td>2003-06-22 00:00:00.000</td><td>300</td><td>6</td><td>1</td><td>2003-09-22 00:00:00.000</td></tr>",
                            "<tr><td>13</td><td>9</td><td>6</td><td>takarító</td><td>2003-06-23 00:00:00.000</td><td>400</td><td>4</td><td>0</td><td>2003-09-23 00:00:00.000</td></tr>",
                            "<tr><td>14</td><td>6</td><td>4</td><td>ruhatáros</td><td>2003-09-11 00:00:00.000</td><td>400</td><td>4</td><td>0</td><td>2003-12-11 00:00:00.000</td></tr>",
                            "<tr><td>15</td><td>6</td><td>7</td><td>ruhatáros</td><td>2003-09-11 00:00:00.000</td><td>400</td><td>4</td><td>0</td><td>2003-12-11 00:00:00.000</td></tr>",
                            "<tr><td>16</td><td>6</td><td>5</td><td>pincér</td><td>2003-06-11 00:00:00.000</td><td>450</td><td>6</td><td>0</td><td>2003-09-11 00:00:00.000</td></tr>",
                            "<tr><td>17</td><td>6</td><td>5</td><td>pincér</td><td>2003-06-12 00:00:00.000</td><td>450</td><td>6</td><td>0</td><td>2003-09-12 00:00:00.000</td></tr>",
                            "<tr><td>18</td><td>8</td><td>9</td><td>eladó</td><td>2003-07-21 00:00:00.000</td><td>500</td><td>4</td><td>0</td><td>2003-10-21 00:00:00.000</td></tr>",
                            "<tr><td>19</td><td>8</td><td>9</td><td>eladó</td><td>2003-07-22 00:00:00.000</td><td>500</td><td>4</td><td>0</td><td>2003-10-22 00:00:00.000</td></tr>",
                            "<tr><td>20</td><td>8</td><td>10</td><td>takarító</td><td>2003-08-10 00:00:00.000</td><td>350</td><td>6</td><td>1</td><td>2003-11-10 00:00:00.000</td></tr>",
                            "<tr><td>21</td><td>8</td><td>10</td><td>takarító</td><td>2003-08-11 00:00:00.000</td><td>350</td><td>6</td><td>1</td><td>2003-11-11 00:00:00.000</td></tr>",
                            "<tr><td>22</td><td>11</td><td>5</td><td>eladó</td><td>2003-05-10 00:00:00.000</td><td>400</td><td>4</td><td>0</td><td>2003-08-10 00:00:00.000</td></tr>",
                            "<tr><td>23</td><td>11</td><td>6</td><td>raktáros</td><td>2003-05-20 00:00:00.000</td><td>300</td><td>4</td><td>0</td><td>2003-08-20 00:00:00.000</td></tr>",
                            "<tr><td>24</td><td>11</td><td>5</td><td>eladó</td><td>2003-06-23 00:00:00.000</td><td>300</td><td>6</td><td>0</td><td>2003-09-23 00:00:00.000</td></tr>",
                            "<tr><td>25</td><td>10</td><td>NULL</td><td>takarító</td><td>2003-07-29 00:00:00.000</td><td>250</td><td>4</td><td>1</td><td>2003-10-29 00:00:00.000</td></tr>",
                            "<tr><td>26</td><td>10</td><td>NULL</td><td>takarító</td><td>2003-07-30 00:00:00.000</td><td>250</td><td>4</td><td>1</td><td>2003-10-30 00:00:00.000</td></tr>",
                            "<tr><td>27</td><td>10</td><td>3</td><td>takarító</td><td>2003-07-31 00:00:00.000</td><td>300</td><td>4</td><td>1</td><td>2003-10-31 00:00:00.000</td></tr>",
                            "<tr><td>28</td><td>10</td><td>3</td><td>takarító</td><td>2003-08-01 00:00:00.000</td><td>300</td><td>4</td><td>1</td><td>2003-11-01 00:00:00.000</td></tr>",
                            "<tr><td>29</td><td>10</td><td>8</td><td>eladó</td><td>2003-09-12 00:00:00.000</td><td>300</td><td>6</td><td>1</td><td>2003-12-12 00:00:00.000</td></tr>",
                            "<tr><td>30</td><td>10</td><td>8</td><td>eladó</td><td>2003-09-13 00:00:00.000</td><td>300</td><td>6</td><td>1</td><td>2003-12-13 00:00:00.000</td></tr>",
                            "<tr><td>31</td><td>7</td><td>8</td><td>ruhatáros</td><td>2003-08-20 00:00:00.000</td><td>200</td><td>4</td><td>1</td><td>2003-11-20 00:00:00.000</td></tr>",
                            "<tr><td>32</td><td>7</td><td>8</td><td>ruhatáros</td><td>2003-08-21 00:00:00.000</td><td>200</td><td>4</td><td>1</td><td>2003-11-21 00:00:00.000</td></tr>",
                            "<tr><td>33</td><td>7</td><td>NULL</td><td>ruhatáros</td><td>2003-08-22 00:00:00.000</td><td>200</td><td>4</td><td>1</td><td>2003-11-22 00:00:00.000</td></tr>",
                            "<tr><td>34</td><td>7</td><td>NULL</td><td>ruhatáros</td><td>2003-08-23 00:00:00.000</td><td>200</td><td>4</td><td>1</td><td>2003-11-23 00:00:00.000</td></tr>",
                            "<tr><td>35</td><td>4</td><td>NULL</td><td>raktáros</td><td>2003-10-10 00:00:00.000</td><td>300</td><td>6</td><td>0</td><td>2004-01-10 00:00:00.000</td></tr>",
                            "<tr><td>36</td><td>4</td><td>NULL</td><td>raktáros</td><td>2003-10-11 00:00:00.000</td><td>300</td><td>6</td><td>0</td><td>2004-01-11 00:00:00.000</td></tr>",
                            "<tr><td>37</td><td>4</td><td>NULL</td><td>raktáros</td><td>2003-10-12 00:00:00.000</td><td>300</td><td>6</td><td>0</td><td>2004-01-12 00:00:00.000</td></tr>",
                            "<tr><td>38</td><td>5</td><td>7</td><td>eladó</td><td>2003-06-05 00:00:00.000</td><td>400</td><td>4</td><td>0</td><td>2003-09-05 00:00:00.000</td></tr>",
                            "<tr><td>39</td><td>5</td><td>7</td><td>eladó</td><td>2003-06-06 00:00:00.000</td><td>400</td><td>4</td><td>0</td><td>2003-09-06 00:00:00.000</td></tr>",
                            "<tr><td>40</td><td>5</td><td>7</td><td>eladó</td><td>2003-06-07 00:00:00.000</td><td>400</td><td>4</td><td>0</td><td>2003-09-07 00:00:00.000</td></tr>",
                            "<tr><td>41</td><td>11</td><td>NULL</td><td>eladó</td><td>2003-07-07 00:00:00.000</td><td>400</td><td>6</td><td>0</td><td>2003-10-07 00:00:00.000</td></tr>",
                            "</table>"
                        ]
                    }
                }
            ],
            "execution_count": 26
        },
        {
            "cell_type": "markdown",
            "source": [
                "13. Készítsünk listát a munkák azonosítóiról és a megnevezésükről! A megnevezés allas-óraszám formában jelenjen meg, pl: eladó-4. \n",
                "\n",
                "  \n",
                "\n",
                "a.  Jelenítsük meg a dátumot is, de csak a évet és a hónapot, pl: 2003-07! \n",
                "\n",
                "b.  Ennek az oszlopnak 'Kezdés hónapja' legyen a neve! A listát szűrjük a nyári hónapokra!"
            ],
            "metadata": {
                "azdata_cell_guid": "3f9237ae-f109-401c-acb9-31d75e73331b"
            },
            "attachments": {}
        },
        {
            "cell_type": "code",
            "source": [
                ""
            ],
            "metadata": {
                "azdata_cell_guid": "4b31bb89-cfbc-46b1-8639-85c462877786",
                "language": "sql"
            },
            "outputs": [],
            "execution_count": null
        },
        {
            "cell_type": "markdown",
            "source": [
                "14. Készítsünk listát a diákok adatairól, amely a Nev oszlop helyén a diák monogramját jeleníti meg (keresztnév, illetve vezetéknév első betűje összefűzve). \n",
                "\n",
                "a.  A listát szűrjük 1983.01.01 és 1987.06.01 között született diákokra!"
            ],
            "metadata": {
                "azdata_cell_guid": "f634e09a-85ef-4e70-8ec6-ef355dfddaa7"
            },
            "attachments": {}
        },
        {
            "cell_type": "code",
            "source": [
                ""
            ],
            "metadata": {
                "azdata_cell_guid": "88abc55b-2c78-495b-a72f-3f8f4eb5fe70",
                "language": "sql"
            },
            "outputs": [],
            "execution_count": null
        },
        {
            "cell_type": "markdown",
            "source": [
                "15. A diákok a munkakezdés évének utolsó napján bónuszt kapnak, amennyiben az adott évben legalább 6 hónapot dolgoznak. \n",
                "\n",
                "  \n",
                "\n",
                "a.  Jelenítsük meg, hogy az egyes munkák adatait, egy új oszlopban az éves bónusz napját is 'Bónusz dátum' néven! \n",
                "\n",
                "b.  A lista csak a bónuszra jogosultak adatait tartalmazza!"
            ],
            "metadata": {
                "azdata_cell_guid": "4cbf2f0d-a65d-480a-8186-ccdb24498443"
            },
            "attachments": {}
        },
        {
            "cell_type": "code",
            "source": [
                ""
            ],
            "metadata": {
                "azdata_cell_guid": "c148aee8-bc85-40bf-b80a-a4898a6c05cb",
                "language": "sql"
            },
            "outputs": [],
            "execution_count": null
        }
    ]
}