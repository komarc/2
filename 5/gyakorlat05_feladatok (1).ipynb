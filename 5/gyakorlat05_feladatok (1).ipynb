{
    "metadata": {
        "kernelspec": {
            "name": "SQL",
            "display_name": "SQL",
            "language": "sql"
        },
        "language_info": {
            "name": "sql",
            "version": ""
        }
    },
    "nbformat_minor": 2,
    "nbformat": 4,
    "cells": [
        {
            "cell_type": "markdown",
            "source": [
                "1. <span style=\"color: rgb(36, 41, 47); font-family: -apple-system, BlinkMacSystemFont, &quot;Segoe UI&quot;, Helvetica, Arial, sans-serif, &quot;Apple Color Emoji&quot;, &quot;Segoe UI Emoji&quot;; font-size: 16px;\">Készítsünk listát éves bontásban norbert2 azonosítójú ügyfél rendeléseinek értékéről!</span>\n",
                "\n",
                "1. A lista megfelelően jelölve tartalmazza a végösszeget is!"
            ],
            "metadata": {
                "azdata_cell_guid": "363cd270-6577-449b-9c89-d4b7c7972d52"
            },
            "attachments": {}
        },
        {
            "cell_type": "code",
            "source": [
                "select     \r\n",
                "        IIF(GROUPING(YEAR(r.REND_DATUM))=1, 'Végösszeg', cast(YEAR(r.REND_DATUM) as nvarchar)) as 'rendelés éve',\r\n",
                "        sum(EGYSEGAR*MENNYISEG) as 'Rendelés értéke'\r\n",
                "from Rendeles r JOIN Rendeles_tetel rt on rt.SORSZAM=r.[SORSZAM]\r\n",
                "where r.[LOGIN] = 'norbert2'\r\n",
                "group by rollup (YEAR(r.REND_DATUM))"
            ],
            "metadata": {
                "azdata_cell_guid": "6ab9f633-a3b5-48c9-a1dc-4fb8235ae85b",
                "language": "sql"
            },
            "outputs": [
                {
                    "output_type": "display_data",
                    "data": {
                        "text/html": "(3 rows affected)"
                    },
                    "metadata": {}
                },
                {
                    "output_type": "display_data",
                    "data": {
                        "text/html": "Total execution time: 00:00:00.171"
                    },
                    "metadata": {}
                },
                {
                    "output_type": "execute_result",
                    "metadata": {},
                    "execution_count": 6,
                    "data": {
                        "application/vnd.dataresource+json": {
                            "schema": {
                                "fields": [
                                    {
                                        "name": "rendelés éve"
                                    },
                                    {
                                        "name": "Rendelés értéke"
                                    }
                                ]
                            },
                            "data": [
                                {
                                    "rendelés éve": "2015",
                                    "Rendelés értéke": "483473"
                                },
                                {
                                    "rendelés éve": "2017",
                                    "Rendelés értéke": "614340"
                                },
                                {
                                    "rendelés éve": "Végösszeg",
                                    "Rendelés értéke": "1097813"
                                }
                            ]
                        },
                        "text/html": [
                            "<table>",
                            "<tr><th>rendelés éve</th><th>Rendelés értéke</th></tr>",
                            "<tr><td>2015</td><td>483473</td></tr>",
                            "<tr><td>2017</td><td>614340</td></tr>",
                            "<tr><td>Végösszeg</td><td>1097813</td></tr>",
                            "</table>"
                        ]
                    }
                }
            ],
            "execution_count": 6
        },
        {
            "cell_type": "markdown",
            "source": [
                "2. <span style=\"color: rgb(36, 41, 47); font-family: -apple-system, BlinkMacSystemFont, &quot;Segoe UI&quot;, Helvetica, Arial, sans-serif, &quot;Apple Color Emoji&quot;, &quot;Segoe UI Emoji&quot;; font-size: 16px;\">Készítsünk listát szállítási dátumonként, azon belül szállítási módonként az egyes rendelések összmennyiségéről!</span>\n",
                "\n",
                "1. Csak azokat a termékeket vegyük figyelembe, amelyek mennyiségi egysége db!\n",
                "2. A listát szűrjük úgy, hogy az csak a részösszeg sorokat és a végösszeget tartalmazza!"
            ],
            "metadata": {
                "azdata_cell_guid": "ea75c103-911f-41a3-a32c-3d40fb3e4e4a"
            },
            "attachments": {}
        },
        {
            "cell_type": "code",
            "source": [
                "select IIF(GROUPING(SZALL_DATUM)=1, 'Végösszeg', cast(SZALL_DATUM as nvarchar)),\r\n",
                "        case\r\n",
                "            when GROUPING_ID(SZALL_DATUM, SZALL_MOD)=1 then 'Részösszeg'\r\n",
                "            when GROUPING_ID(SZALL_DATUM, SZALL_MOD)=3 then 'Végösszeg'\r\n",
                "        end as 'Rész/Végösszeg',\r\n",
                "        sum (rt.MENNYISEG) as 'mennyiség'\r\n",
                "from Rendeles r JOIN Rendeles_tetel rt on r.SORSZAM=rt.SORSZAM\r\n",
                "                JOIN Termek t on t.TERMEKKOD=rt.TERMEKKOD\r\n",
                "where MEGYS = 'db'\r\n",
                "group by rollup (SZALL_DATUM, SZALL_MOD)\r\n",
                "having GROUPING(SZALL_MOD) = 1 or GROUPING_ID(SZALL_MOD, SZALL_DATUM) = 3"
            ],
            "metadata": {
                "azdata_cell_guid": "222b9618-a8e8-42b4-a8e8-d002257122b7",
                "language": "sql"
            },
            "outputs": [
                {
                    "output_type": "display_data",
                    "data": {
                        "text/html": "(711 rows affected)"
                    },
                    "metadata": {}
                },
                {
                    "output_type": "display_data",
                    "data": {
                        "text/html": "Total execution time: 00:00:00.259"
                    },
                    "metadata": {}
                },
                {
                    "output_type": "execute_result",
                    "metadata": {},
                    "execution_count": 11,
                    "data": {
                        "application/vnd.dataresource+json": {
                            "schema": {
                                "fields": [
                                    {
                                        "name": "(No column name)"
                                    },
                                    {
                                        "name": "Rész/Végösszeg"
                                    },
                                    {
                                        "name": "mennyiség"
                                    }
                                ]
                            },
                            "data": [
                                {
                                    "(No column name)": "2015-05-03",
                                    "Rész/Végösszeg": "Részösszeg",
                                    "mennyiség": "100"
                                },
                                {
                                    "(No column name)": "2015-05-04",
                                    "Rész/Végösszeg": "Részösszeg",
                                    "mennyiség": "996"
                                },
                                {
                                    "(No column name)": "2015-05-05",
                                    "Rész/Végösszeg": "Részösszeg",
                                    "mennyiség": "3152"
                                },
                                {
                                    "(No column name)": "2015-05-06",
                                    "Rész/Végösszeg": "Részösszeg",
                                    "mennyiség": "5030"
                                },
                                {
                                    "(No column name)": "2015-05-07",
                                    "Rész/Végösszeg": "Részösszeg",
                                    "mennyiség": "3828"
                                },
                                {
                                    "(No column name)": "2015-05-08",
                                    "Rész/Végösszeg": "Részösszeg",
                                    "mennyiség": "3213"
                                },
                                {
                                    "(No column name)": "2015-05-09",
                                    "Rész/Végösszeg": "Részösszeg",
                                    "mennyiség": "6665"
                                },
                                {
                                    "(No column name)": "2015-05-10",
                                    "Rész/Végösszeg": "Részösszeg",
                                    "mennyiség": "6909"
                                },
                                {
                                    "(No column name)": "2015-05-11",
                                    "Rész/Végösszeg": "Részösszeg",
                                    "mennyiség": "6224"
                                },
                                {
                                    "(No column name)": "2015-05-12",
                                    "Rész/Végösszeg": "Részösszeg",
                                    "mennyiség": "7568"
                                },
                                {
                                    "(No column name)": "2015-05-13",
                                    "Rész/Végösszeg": "Részösszeg",
                                    "mennyiség": "7985"
                                },
                                {
                                    "(No column name)": "2015-05-14",
                                    "Rész/Végösszeg": "Részösszeg",
                                    "mennyiség": "9706"
                                },
                                {
                                    "(No column name)": "2015-05-15",
                                    "Rész/Végösszeg": "Részösszeg",
                                    "mennyiség": "7400"
                                },
                                {
                                    "(No column name)": "2015-05-16",
                                    "Rész/Végösszeg": "Részösszeg",
                                    "mennyiség": "7897"
                                },
                                {
                                    "(No column name)": "2015-05-17",
                                    "Rész/Végösszeg": "Részösszeg",
                                    "mennyiség": "4572"
                                },
                                {
                                    "(No column name)": "2015-05-18",
                                    "Rész/Végösszeg": "Részösszeg",
                                    "mennyiség": "8190"
                                },
                                {
                                    "(No column name)": "2015-05-19",
                                    "Rész/Végösszeg": "Részösszeg",
                                    "mennyiség": "7248"
                                },
                                {
                                    "(No column name)": "2015-05-20",
                                    "Rész/Végösszeg": "Részösszeg",
                                    "mennyiség": "9859"
                                },
                                {
                                    "(No column name)": "2015-05-21",
                                    "Rész/Végösszeg": "Részösszeg",
                                    "mennyiség": "8041"
                                },
                                {
                                    "(No column name)": "2015-05-22",
                                    "Rész/Végösszeg": "Részösszeg",
                                    "mennyiség": "8338"
                                },
                                {
                                    "(No column name)": "2015-05-23",
                                    "Rész/Végösszeg": "Részösszeg",
                                    "mennyiség": "5616"
                                },
                                {
                                    "(No column name)": "2015-05-24",
                                    "Rész/Végösszeg": "Részösszeg",
                                    "mennyiség": "5001"
                                },
                                {
                                    "(No column name)": "2015-05-25",
                                    "Rész/Végösszeg": "Részösszeg",
                                    "mennyiség": "7611"
                                },
                                {
                                    "(No column name)": "2015-05-26",
                                    "Rész/Végösszeg": "Részösszeg",
                                    "mennyiség": "7153"
                                },
                                {
                                    "(No column name)": "2015-05-27",
                                    "Rész/Végösszeg": "Részösszeg",
                                    "mennyiség": "8300"
                                },
                                {
                                    "(No column name)": "2015-05-28",
                                    "Rész/Végösszeg": "Részösszeg",
                                    "mennyiség": "9340"
                                },
                                {
                                    "(No column name)": "2015-05-29",
                                    "Rész/Végösszeg": "Részösszeg",
                                    "mennyiség": "10784"
                                },
                                {
                                    "(No column name)": "2015-05-30",
                                    "Rész/Végösszeg": "Részösszeg",
                                    "mennyiség": "7763"
                                },
                                {
                                    "(No column name)": "2015-05-31",
                                    "Rész/Végösszeg": "Részösszeg",
                                    "mennyiség": "4364"
                                },
                                {
                                    "(No column name)": "2015-06-01",
                                    "Rész/Végösszeg": "Részösszeg",
                                    "mennyiség": "6947"
                                },
                                {
                                    "(No column name)": "2015-06-02",
                                    "Rész/Végösszeg": "Részösszeg",
                                    "mennyiség": "6241"
                                },
                                {
                                    "(No column name)": "2015-06-03",
                                    "Rész/Végösszeg": "Részösszeg",
                                    "mennyiség": "9359"
                                },
                                {
                                    "(No column name)": "2015-06-04",
                                    "Rész/Végösszeg": "Részösszeg",
                                    "mennyiség": "8474"
                                },
                                {
                                    "(No column name)": "2015-06-05",
                                    "Rész/Végösszeg": "Részösszeg",
                                    "mennyiség": "8961"
                                },
                                {
                                    "(No column name)": "2015-06-06",
                                    "Rész/Végösszeg": "Részösszeg",
                                    "mennyiség": "9510"
                                },
                                {
                                    "(No column name)": "2015-06-07",
                                    "Rész/Végösszeg": "Részösszeg",
                                    "mennyiség": "7956"
                                },
                                {
                                    "(No column name)": "2015-06-08",
                                    "Rész/Végösszeg": "Részösszeg",
                                    "mennyiség": "4277"
                                },
                                {
                                    "(No column name)": "2015-06-09",
                                    "Rész/Végösszeg": "Részösszeg",
                                    "mennyiség": "7132"
                                },
                                {
                                    "(No column name)": "2015-06-10",
                                    "Rész/Végösszeg": "Részösszeg",
                                    "mennyiség": "9346"
                                },
                                {
                                    "(No column name)": "2015-06-11",
                                    "Rész/Végösszeg": "Részösszeg",
                                    "mennyiség": "5191"
                                },
                                {
                                    "(No column name)": "2015-06-12",
                                    "Rész/Végösszeg": "Részösszeg",
                                    "mennyiség": "7336"
                                },
                                {
                                    "(No column name)": "2015-06-13",
                                    "Rész/Végösszeg": "Részösszeg",
                                    "mennyiség": "7818"
                                },
                                {
                                    "(No column name)": "2015-06-14",
                                    "Rész/Végösszeg": "Részösszeg",
                                    "mennyiség": "6484"
                                },
                                {
                                    "(No column name)": "2015-06-15",
                                    "Rész/Végösszeg": "Részösszeg",
                                    "mennyiség": "7796"
                                },
                                {
                                    "(No column name)": "2015-06-16",
                                    "Rész/Végösszeg": "Részösszeg",
                                    "mennyiség": "4307"
                                },
                                {
                                    "(No column name)": "2015-06-17",
                                    "Rész/Végösszeg": "Részösszeg",
                                    "mennyiség": "8645"
                                },
                                {
                                    "(No column name)": "2015-06-18",
                                    "Rész/Végösszeg": "Részösszeg",
                                    "mennyiség": "10077"
                                },
                                {
                                    "(No column name)": "2015-06-19",
                                    "Rész/Végösszeg": "Részösszeg",
                                    "mennyiség": "5675"
                                },
                                {
                                    "(No column name)": "2015-06-20",
                                    "Rész/Végösszeg": "Részösszeg",
                                    "mennyiség": "7859"
                                },
                                {
                                    "(No column name)": "2015-06-21",
                                    "Rész/Végösszeg": "Részösszeg",
                                    "mennyiség": "6627"
                                },
                                {
                                    "(No column name)": "2015-06-22",
                                    "Rész/Végösszeg": "Részösszeg",
                                    "mennyiség": "9084"
                                },
                                {
                                    "(No column name)": "2015-06-23",
                                    "Rész/Végösszeg": "Részösszeg",
                                    "mennyiség": "8869"
                                },
                                {
                                    "(No column name)": "2015-06-24",
                                    "Rész/Végösszeg": "Részösszeg",
                                    "mennyiség": "4993"
                                },
                                {
                                    "(No column name)": "2015-06-25",
                                    "Rész/Végösszeg": "Részösszeg",
                                    "mennyiség": "8165"
                                },
                                {
                                    "(No column name)": "2015-06-26",
                                    "Rész/Végösszeg": "Részösszeg",
                                    "mennyiség": "10834"
                                },
                                {
                                    "(No column name)": "2015-06-27",
                                    "Rész/Végösszeg": "Részösszeg",
                                    "mennyiség": "6396"
                                },
                                {
                                    "(No column name)": "2015-06-28",
                                    "Rész/Végösszeg": "Részösszeg",
                                    "mennyiség": "6803"
                                },
                                {
                                    "(No column name)": "2015-06-29",
                                    "Rész/Végösszeg": "Részösszeg",
                                    "mennyiség": "7435"
                                },
                                {
                                    "(No column name)": "2015-06-30",
                                    "Rész/Végösszeg": "Részösszeg",
                                    "mennyiség": "8526"
                                },
                                {
                                    "(No column name)": "2015-07-01",
                                    "Rész/Végösszeg": "Részösszeg",
                                    "mennyiség": "6032"
                                },
                                {
                                    "(No column name)": "2015-07-02",
                                    "Rész/Végösszeg": "Részösszeg",
                                    "mennyiség": "7066"
                                },
                                {
                                    "(No column name)": "2015-07-03",
                                    "Rész/Végösszeg": "Részösszeg",
                                    "mennyiség": "6359"
                                },
                                {
                                    "(No column name)": "2015-07-04",
                                    "Rész/Végösszeg": "Részösszeg",
                                    "mennyiség": "8739"
                                },
                                {
                                    "(No column name)": "2015-07-05",
                                    "Rész/Végösszeg": "Részösszeg",
                                    "mennyiség": "8558"
                                },
                                {
                                    "(No column name)": "2015-07-06",
                                    "Rész/Végösszeg": "Részösszeg",
                                    "mennyiség": "8389"
                                },
                                {
                                    "(No column name)": "2015-07-07",
                                    "Rész/Végösszeg": "Részösszeg",
                                    "mennyiség": "9522"
                                },
                                {
                                    "(No column name)": "2015-07-08",
                                    "Rész/Végösszeg": "Részösszeg",
                                    "mennyiség": "6395"
                                },
                                {
                                    "(No column name)": "2015-07-09",
                                    "Rész/Végösszeg": "Részösszeg",
                                    "mennyiség": "7375"
                                },
                                {
                                    "(No column name)": "2015-07-10",
                                    "Rész/Végösszeg": "Részösszeg",
                                    "mennyiség": "7676"
                                },
                                {
                                    "(No column name)": "2015-07-11",
                                    "Rész/Végösszeg": "Részösszeg",
                                    "mennyiség": "7366"
                                },
                                {
                                    "(No column name)": "2015-07-12",
                                    "Rész/Végösszeg": "Részösszeg",
                                    "mennyiség": "8638"
                                },
                                {
                                    "(No column name)": "2015-07-13",
                                    "Rész/Végösszeg": "Részösszeg",
                                    "mennyiség": "8300"
                                },
                                {
                                    "(No column name)": "2015-07-14",
                                    "Rész/Végösszeg": "Részösszeg",
                                    "mennyiség": "6340"
                                },
                                {
                                    "(No column name)": "2015-07-15",
                                    "Rész/Végösszeg": "Részösszeg",
                                    "mennyiség": "8615"
                                },
                                {
                                    "(No column name)": "2015-07-16",
                                    "Rész/Végösszeg": "Részösszeg",
                                    "mennyiség": "7041"
                                },
                                {
                                    "(No column name)": "2015-07-17",
                                    "Rész/Végösszeg": "Részösszeg",
                                    "mennyiség": "7327"
                                },
                                {
                                    "(No column name)": "2015-07-18",
                                    "Rész/Végösszeg": "Részösszeg",
                                    "mennyiség": "6762"
                                },
                                {
                                    "(No column name)": "2015-07-19",
                                    "Rész/Végösszeg": "Részösszeg",
                                    "mennyiség": "6776"
                                },
                                {
                                    "(No column name)": "2015-07-20",
                                    "Rész/Végösszeg": "Részösszeg",
                                    "mennyiség": "9748"
                                },
                                {
                                    "(No column name)": "2015-07-21",
                                    "Rész/Végösszeg": "Részösszeg",
                                    "mennyiség": "9805"
                                },
                                {
                                    "(No column name)": "2015-07-22",
                                    "Rész/Végösszeg": "Részösszeg",
                                    "mennyiség": "5140"
                                },
                                {
                                    "(No column name)": "2015-07-23",
                                    "Rész/Végösszeg": "Részösszeg",
                                    "mennyiség": "7258"
                                },
                                {
                                    "(No column name)": "2015-07-24",
                                    "Rész/Végösszeg": "Részösszeg",
                                    "mennyiség": "8697"
                                },
                                {
                                    "(No column name)": "2015-07-25",
                                    "Rész/Végösszeg": "Részösszeg",
                                    "mennyiség": "8180"
                                },
                                {
                                    "(No column name)": "2015-07-26",
                                    "Rész/Végösszeg": "Részösszeg",
                                    "mennyiség": "9323"
                                },
                                {
                                    "(No column name)": "2015-07-27",
                                    "Rész/Végösszeg": "Részösszeg",
                                    "mennyiség": "5417"
                                },
                                {
                                    "(No column name)": "2015-07-28",
                                    "Rész/Végösszeg": "Részösszeg",
                                    "mennyiség": "7825"
                                },
                                {
                                    "(No column name)": "2015-07-29",
                                    "Rész/Végösszeg": "Részösszeg",
                                    "mennyiség": "6405"
                                },
                                {
                                    "(No column name)": "2015-07-30",
                                    "Rész/Végösszeg": "Részösszeg",
                                    "mennyiség": "10029"
                                },
                                {
                                    "(No column name)": "2015-07-31",
                                    "Rész/Végösszeg": "Részösszeg",
                                    "mennyiség": "8673"
                                },
                                {
                                    "(No column name)": "2015-08-01",
                                    "Rész/Végösszeg": "Részösszeg",
                                    "mennyiség": "9957"
                                },
                                {
                                    "(No column name)": "2015-08-02",
                                    "Rész/Végösszeg": "Részösszeg",
                                    "mennyiség": "7599"
                                },
                                {
                                    "(No column name)": "2015-08-03",
                                    "Rész/Végösszeg": "Részösszeg",
                                    "mennyiség": "9208"
                                },
                                {
                                    "(No column name)": "2015-08-04",
                                    "Rész/Végösszeg": "Részösszeg",
                                    "mennyiség": "9353"
                                },
                                {
                                    "(No column name)": "2015-08-05",
                                    "Rész/Végösszeg": "Részösszeg",
                                    "mennyiség": "10342"
                                },
                                {
                                    "(No column name)": "2015-08-06",
                                    "Rész/Végösszeg": "Részösszeg",
                                    "mennyiség": "5124"
                                },
                                {
                                    "(No column name)": "2015-08-07",
                                    "Rész/Végösszeg": "Részösszeg",
                                    "mennyiség": "8960"
                                },
                                {
                                    "(No column name)": "2015-08-08",
                                    "Rész/Végösszeg": "Részösszeg",
                                    "mennyiség": "10296"
                                },
                                {
                                    "(No column name)": "2015-08-09",
                                    "Rész/Végösszeg": "Részösszeg",
                                    "mennyiség": "6026"
                                },
                                {
                                    "(No column name)": "2015-08-10",
                                    "Rész/Végösszeg": "Részösszeg",
                                    "mennyiség": "7896"
                                },
                                {
                                    "(No column name)": "2015-08-11",
                                    "Rész/Végösszeg": "Részösszeg",
                                    "mennyiség": "9008"
                                },
                                {
                                    "(No column name)": "2015-08-12",
                                    "Rész/Végösszeg": "Részösszeg",
                                    "mennyiség": "7605"
                                },
                                {
                                    "(No column name)": "2015-08-13",
                                    "Rész/Végösszeg": "Részösszeg",
                                    "mennyiség": "9380"
                                },
                                {
                                    "(No column name)": "2015-08-14",
                                    "Rész/Végösszeg": "Részösszeg",
                                    "mennyiség": "9780"
                                },
                                {
                                    "(No column name)": "2015-08-15",
                                    "Rész/Végösszeg": "Részösszeg",
                                    "mennyiség": "7514"
                                },
                                {
                                    "(No column name)": "2015-08-16",
                                    "Rész/Végösszeg": "Részösszeg",
                                    "mennyiség": "5341"
                                },
                                {
                                    "(No column name)": "2015-08-17",
                                    "Rész/Végösszeg": "Részösszeg",
                                    "mennyiség": "7162"
                                },
                                {
                                    "(No column name)": "2015-08-18",
                                    "Rész/Végösszeg": "Részösszeg",
                                    "mennyiség": "6271"
                                },
                                {
                                    "(No column name)": "2015-08-19",
                                    "Rész/Végösszeg": "Részösszeg",
                                    "mennyiség": "6650"
                                },
                                {
                                    "(No column name)": "2015-08-20",
                                    "Rész/Végösszeg": "Részösszeg",
                                    "mennyiség": "9005"
                                },
                                {
                                    "(No column name)": "2015-08-21",
                                    "Rész/Végösszeg": "Részösszeg",
                                    "mennyiség": "6874"
                                },
                                {
                                    "(No column name)": "2015-08-22",
                                    "Rész/Végösszeg": "Részösszeg",
                                    "mennyiség": "10138"
                                },
                                {
                                    "(No column name)": "2015-08-23",
                                    "Rész/Végösszeg": "Részösszeg",
                                    "mennyiség": "6734"
                                },
                                {
                                    "(No column name)": "2015-08-24",
                                    "Rész/Végösszeg": "Részösszeg",
                                    "mennyiség": "7767"
                                },
                                {
                                    "(No column name)": "2015-08-25",
                                    "Rész/Végösszeg": "Részösszeg",
                                    "mennyiség": "9206"
                                },
                                {
                                    "(No column name)": "2015-08-26",
                                    "Rész/Végösszeg": "Részösszeg",
                                    "mennyiség": "11006"
                                },
                                {
                                    "(No column name)": "2015-08-27",
                                    "Rész/Végösszeg": "Részösszeg",
                                    "mennyiség": "6244"
                                },
                                {
                                    "(No column name)": "2015-08-28",
                                    "Rész/Végösszeg": "Részösszeg",
                                    "mennyiség": "8145"
                                },
                                {
                                    "(No column name)": "2015-08-29",
                                    "Rész/Végösszeg": "Részösszeg",
                                    "mennyiség": "7380"
                                },
                                {
                                    "(No column name)": "2015-08-30",
                                    "Rész/Végösszeg": "Részösszeg",
                                    "mennyiség": "9727"
                                },
                                {
                                    "(No column name)": "2015-08-31",
                                    "Rész/Végösszeg": "Részösszeg",
                                    "mennyiség": "7226"
                                },
                                {
                                    "(No column name)": "2015-09-01",
                                    "Rész/Végösszeg": "Részösszeg",
                                    "mennyiség": "9466"
                                },
                                {
                                    "(No column name)": "2015-09-02",
                                    "Rész/Végösszeg": "Részösszeg",
                                    "mennyiség": "6179"
                                },
                                {
                                    "(No column name)": "2015-09-03",
                                    "Rész/Végösszeg": "Részösszeg",
                                    "mennyiség": "9949"
                                },
                                {
                                    "(No column name)": "2015-09-04",
                                    "Rész/Végösszeg": "Részösszeg",
                                    "mennyiség": "10432"
                                },
                                {
                                    "(No column name)": "2015-09-05",
                                    "Rész/Végösszeg": "Részösszeg",
                                    "mennyiség": "7083"
                                },
                                {
                                    "(No column name)": "2015-09-06",
                                    "Rész/Végösszeg": "Részösszeg",
                                    "mennyiség": "8378"
                                },
                                {
                                    "(No column name)": "2015-09-07",
                                    "Rész/Végösszeg": "Részösszeg",
                                    "mennyiség": "8303"
                                },
                                {
                                    "(No column name)": "2015-09-08",
                                    "Rész/Végösszeg": "Részösszeg",
                                    "mennyiség": "8349"
                                },
                                {
                                    "(No column name)": "2015-09-09",
                                    "Rész/Végösszeg": "Részösszeg",
                                    "mennyiség": "7985"
                                },
                                {
                                    "(No column name)": "2015-09-10",
                                    "Rész/Végösszeg": "Részösszeg",
                                    "mennyiség": "10353"
                                },
                                {
                                    "(No column name)": "2015-09-11",
                                    "Rész/Végösszeg": "Részösszeg",
                                    "mennyiség": "9284"
                                },
                                {
                                    "(No column name)": "2015-09-12",
                                    "Rész/Végösszeg": "Részösszeg",
                                    "mennyiség": "8553"
                                },
                                {
                                    "(No column name)": "2015-09-13",
                                    "Rész/Végösszeg": "Részösszeg",
                                    "mennyiség": "7435"
                                },
                                {
                                    "(No column name)": "2015-09-14",
                                    "Rész/Végösszeg": "Részösszeg",
                                    "mennyiség": "8232"
                                },
                                {
                                    "(No column name)": "2015-09-15",
                                    "Rész/Végösszeg": "Részösszeg",
                                    "mennyiség": "4776"
                                },
                                {
                                    "(No column name)": "2015-09-16",
                                    "Rész/Végösszeg": "Részösszeg",
                                    "mennyiség": "7416"
                                },
                                {
                                    "(No column name)": "2015-09-17",
                                    "Rész/Végösszeg": "Részösszeg",
                                    "mennyiség": "8358"
                                },
                                {
                                    "(No column name)": "2015-09-18",
                                    "Rész/Végösszeg": "Részösszeg",
                                    "mennyiség": "7210"
                                },
                                {
                                    "(No column name)": "2015-09-19",
                                    "Rész/Végösszeg": "Részösszeg",
                                    "mennyiség": "8267"
                                },
                                {
                                    "(No column name)": "2015-09-20",
                                    "Rész/Végösszeg": "Részösszeg",
                                    "mennyiség": "10001"
                                },
                                {
                                    "(No column name)": "2015-09-21",
                                    "Rész/Végösszeg": "Részösszeg",
                                    "mennyiség": "7086"
                                },
                                {
                                    "(No column name)": "2015-09-22",
                                    "Rész/Végösszeg": "Részösszeg",
                                    "mennyiség": "7424"
                                },
                                {
                                    "(No column name)": "2015-09-23",
                                    "Rész/Végösszeg": "Részösszeg",
                                    "mennyiség": "8183"
                                },
                                {
                                    "(No column name)": "2015-09-24",
                                    "Rész/Végösszeg": "Részösszeg",
                                    "mennyiség": "10252"
                                },
                                {
                                    "(No column name)": "2015-09-25",
                                    "Rész/Végösszeg": "Részösszeg",
                                    "mennyiség": "8106"
                                },
                                {
                                    "(No column name)": "2015-09-26",
                                    "Rész/Végösszeg": "Részösszeg",
                                    "mennyiség": "9451"
                                },
                                {
                                    "(No column name)": "2015-09-27",
                                    "Rész/Végösszeg": "Részösszeg",
                                    "mennyiség": "8692"
                                },
                                {
                                    "(No column name)": "2015-09-28",
                                    "Rész/Végösszeg": "Részösszeg",
                                    "mennyiség": "10281"
                                },
                                {
                                    "(No column name)": "2015-09-29",
                                    "Rész/Végösszeg": "Részösszeg",
                                    "mennyiség": "9481"
                                },
                                {
                                    "(No column name)": "2015-09-30",
                                    "Rész/Végösszeg": "Részösszeg",
                                    "mennyiség": "5900"
                                },
                                {
                                    "(No column name)": "2015-10-01",
                                    "Rész/Végösszeg": "Részösszeg",
                                    "mennyiség": "9384"
                                },
                                {
                                    "(No column name)": "2015-10-02",
                                    "Rész/Végösszeg": "Részösszeg",
                                    "mennyiség": "5674"
                                },
                                {
                                    "(No column name)": "2015-10-03",
                                    "Rész/Végösszeg": "Részösszeg",
                                    "mennyiség": "8509"
                                },
                                {
                                    "(No column name)": "2015-10-04",
                                    "Rész/Végösszeg": "Részösszeg",
                                    "mennyiség": "7645"
                                },
                                {
                                    "(No column name)": "2015-10-05",
                                    "Rész/Végösszeg": "Részösszeg",
                                    "mennyiség": "8535"
                                },
                                {
                                    "(No column name)": "2015-10-06",
                                    "Rész/Végösszeg": "Részösszeg",
                                    "mennyiség": "7529"
                                },
                                {
                                    "(No column name)": "2015-10-07",
                                    "Rész/Végösszeg": "Részösszeg",
                                    "mennyiség": "9435"
                                },
                                {
                                    "(No column name)": "2015-10-08",
                                    "Rész/Végösszeg": "Részösszeg",
                                    "mennyiség": "7319"
                                },
                                {
                                    "(No column name)": "2015-10-09",
                                    "Rész/Végösszeg": "Részösszeg",
                                    "mennyiség": "8931"
                                },
                                {
                                    "(No column name)": "2015-10-10",
                                    "Rész/Végösszeg": "Részösszeg",
                                    "mennyiség": "7928"
                                },
                                {
                                    "(No column name)": "2015-10-11",
                                    "Rész/Végösszeg": "Részösszeg",
                                    "mennyiség": "7516"
                                },
                                {
                                    "(No column name)": "2015-10-12",
                                    "Rész/Végösszeg": "Részösszeg",
                                    "mennyiség": "9355"
                                },
                                {
                                    "(No column name)": "2015-10-13",
                                    "Rész/Végösszeg": "Részösszeg",
                                    "mennyiség": "6564"
                                },
                                {
                                    "(No column name)": "2015-10-14",
                                    "Rész/Végösszeg": "Részösszeg",
                                    "mennyiség": "7035"
                                },
                                {
                                    "(No column name)": "2015-10-15",
                                    "Rész/Végösszeg": "Részösszeg",
                                    "mennyiség": "9269"
                                },
                                {
                                    "(No column name)": "2015-10-16",
                                    "Rész/Végösszeg": "Részösszeg",
                                    "mennyiség": "8427"
                                },
                                {
                                    "(No column name)": "2015-10-17",
                                    "Rész/Végösszeg": "Részösszeg",
                                    "mennyiség": "6936"
                                },
                                {
                                    "(No column name)": "2015-10-18",
                                    "Rész/Végösszeg": "Részösszeg",
                                    "mennyiség": "8671"
                                },
                                {
                                    "(No column name)": "2015-10-19",
                                    "Rész/Végösszeg": "Részösszeg",
                                    "mennyiség": "7207"
                                },
                                {
                                    "(No column name)": "2015-10-20",
                                    "Rész/Végösszeg": "Részösszeg",
                                    "mennyiség": "8613"
                                },
                                {
                                    "(No column name)": "2015-10-21",
                                    "Rész/Végösszeg": "Részösszeg",
                                    "mennyiség": "7366"
                                },
                                {
                                    "(No column name)": "2015-10-22",
                                    "Rész/Végösszeg": "Részösszeg",
                                    "mennyiség": "6678"
                                },
                                {
                                    "(No column name)": "2015-10-23",
                                    "Rész/Végösszeg": "Részösszeg",
                                    "mennyiség": "8056"
                                },
                                {
                                    "(No column name)": "2015-10-24",
                                    "Rész/Végösszeg": "Részösszeg",
                                    "mennyiség": "7233"
                                },
                                {
                                    "(No column name)": "2015-10-25",
                                    "Rész/Végösszeg": "Részösszeg",
                                    "mennyiség": "9107"
                                },
                                {
                                    "(No column name)": "2015-10-26",
                                    "Rész/Végösszeg": "Részösszeg",
                                    "mennyiség": "9776"
                                },
                                {
                                    "(No column name)": "2015-10-27",
                                    "Rész/Végösszeg": "Részösszeg",
                                    "mennyiség": "7669"
                                },
                                {
                                    "(No column name)": "2015-10-28",
                                    "Rész/Végösszeg": "Részösszeg",
                                    "mennyiség": "7522"
                                },
                                {
                                    "(No column name)": "2015-10-29",
                                    "Rész/Végösszeg": "Részösszeg",
                                    "mennyiség": "6971"
                                },
                                {
                                    "(No column name)": "2015-10-30",
                                    "Rész/Végösszeg": "Részösszeg",
                                    "mennyiség": "8999"
                                },
                                {
                                    "(No column name)": "2015-10-31",
                                    "Rész/Végösszeg": "Részösszeg",
                                    "mennyiség": "7046"
                                },
                                {
                                    "(No column name)": "2015-11-01",
                                    "Rész/Végösszeg": "Részösszeg",
                                    "mennyiség": "6171"
                                },
                                {
                                    "(No column name)": "2015-11-02",
                                    "Rész/Végösszeg": "Részösszeg",
                                    "mennyiség": "7612"
                                },
                                {
                                    "(No column name)": "2015-11-03",
                                    "Rész/Végösszeg": "Részösszeg",
                                    "mennyiség": "11533"
                                },
                                {
                                    "(No column name)": "2015-11-04",
                                    "Rész/Végösszeg": "Részösszeg",
                                    "mennyiség": "5352"
                                },
                                {
                                    "(No column name)": "2015-11-05",
                                    "Rész/Végösszeg": "Részösszeg",
                                    "mennyiség": "7183"
                                },
                                {
                                    "(No column name)": "2015-11-06",
                                    "Rész/Végösszeg": "Részösszeg",
                                    "mennyiség": "8606"
                                },
                                {
                                    "(No column name)": "2015-11-07",
                                    "Rész/Végösszeg": "Részösszeg",
                                    "mennyiség": "7260"
                                },
                                {
                                    "(No column name)": "2015-11-08",
                                    "Rész/Végösszeg": "Részösszeg",
                                    "mennyiség": "8177"
                                },
                                {
                                    "(No column name)": "2015-11-09",
                                    "Rész/Végösszeg": "Részösszeg",
                                    "mennyiség": "8431"
                                },
                                {
                                    "(No column name)": "2015-11-10",
                                    "Rész/Végösszeg": "Részösszeg",
                                    "mennyiség": "8329"
                                },
                                {
                                    "(No column name)": "2015-11-11",
                                    "Rész/Végösszeg": "Részösszeg",
                                    "mennyiség": "8191"
                                },
                                {
                                    "(No column name)": "2015-11-12",
                                    "Rész/Végösszeg": "Részösszeg",
                                    "mennyiség": "5884"
                                },
                                {
                                    "(No column name)": "2015-11-13",
                                    "Rész/Végösszeg": "Részösszeg",
                                    "mennyiség": "7359"
                                },
                                {
                                    "(No column name)": "2015-11-14",
                                    "Rész/Végösszeg": "Részösszeg",
                                    "mennyiség": "7730"
                                },
                                {
                                    "(No column name)": "2015-11-15",
                                    "Rész/Végösszeg": "Részösszeg",
                                    "mennyiség": "6881"
                                },
                                {
                                    "(No column name)": "2015-11-16",
                                    "Rész/Végösszeg": "Részösszeg",
                                    "mennyiség": "7721"
                                },
                                {
                                    "(No column name)": "2015-11-17",
                                    "Rész/Végösszeg": "Részösszeg",
                                    "mennyiség": "7234"
                                },
                                {
                                    "(No column name)": "2015-11-18",
                                    "Rész/Végösszeg": "Részösszeg",
                                    "mennyiség": "8321"
                                },
                                {
                                    "(No column name)": "2015-11-19",
                                    "Rész/Végösszeg": "Részösszeg",
                                    "mennyiség": "7582"
                                },
                                {
                                    "(No column name)": "2015-11-20",
                                    "Rész/Végösszeg": "Részösszeg",
                                    "mennyiség": "6288"
                                },
                                {
                                    "(No column name)": "2015-11-21",
                                    "Rész/Végösszeg": "Részösszeg",
                                    "mennyiség": "6657"
                                },
                                {
                                    "(No column name)": "2015-11-22",
                                    "Rész/Végösszeg": "Részösszeg",
                                    "mennyiség": "8640"
                                },
                                {
                                    "(No column name)": "2015-11-23",
                                    "Rész/Végösszeg": "Részösszeg",
                                    "mennyiség": "7363"
                                },
                                {
                                    "(No column name)": "2015-11-24",
                                    "Rész/Végösszeg": "Részösszeg",
                                    "mennyiség": "7556"
                                },
                                {
                                    "(No column name)": "2015-11-25",
                                    "Rész/Végösszeg": "Részösszeg",
                                    "mennyiség": "7103"
                                },
                                {
                                    "(No column name)": "2015-11-26",
                                    "Rész/Végösszeg": "Részösszeg",
                                    "mennyiség": "8368"
                                },
                                {
                                    "(No column name)": "2015-11-27",
                                    "Rész/Végösszeg": "Részösszeg",
                                    "mennyiség": "6865"
                                },
                                {
                                    "(No column name)": "2015-11-28",
                                    "Rész/Végösszeg": "Részösszeg",
                                    "mennyiség": "10098"
                                },
                                {
                                    "(No column name)": "2015-11-29",
                                    "Rész/Végösszeg": "Részösszeg",
                                    "mennyiség": "7636"
                                },
                                {
                                    "(No column name)": "2015-11-30",
                                    "Rész/Végösszeg": "Részösszeg",
                                    "mennyiség": "7182"
                                },
                                {
                                    "(No column name)": "2015-12-01",
                                    "Rész/Végösszeg": "Részösszeg",
                                    "mennyiség": "7314"
                                },
                                {
                                    "(No column name)": "2015-12-02",
                                    "Rész/Végösszeg": "Részösszeg",
                                    "mennyiség": "9592"
                                },
                                {
                                    "(No column name)": "2015-12-03",
                                    "Rész/Végösszeg": "Részösszeg",
                                    "mennyiség": "8829"
                                },
                                {
                                    "(No column name)": "2015-12-04",
                                    "Rész/Végösszeg": "Részösszeg",
                                    "mennyiség": "8013"
                                },
                                {
                                    "(No column name)": "2015-12-05",
                                    "Rész/Végösszeg": "Részösszeg",
                                    "mennyiség": "8887"
                                },
                                {
                                    "(No column name)": "2015-12-06",
                                    "Rész/Végösszeg": "Részösszeg",
                                    "mennyiség": "5596"
                                },
                                {
                                    "(No column name)": "2015-12-07",
                                    "Rész/Végösszeg": "Részösszeg",
                                    "mennyiség": "8825"
                                },
                                {
                                    "(No column name)": "2015-12-08",
                                    "Rész/Végösszeg": "Részösszeg",
                                    "mennyiség": "7819"
                                },
                                {
                                    "(No column name)": "2015-12-09",
                                    "Rész/Végösszeg": "Részösszeg",
                                    "mennyiség": "7897"
                                },
                                {
                                    "(No column name)": "2015-12-10",
                                    "Rész/Végösszeg": "Részösszeg",
                                    "mennyiség": "9644"
                                },
                                {
                                    "(No column name)": "2015-12-11",
                                    "Rész/Végösszeg": "Részösszeg",
                                    "mennyiség": "8093"
                                },
                                {
                                    "(No column name)": "2015-12-12",
                                    "Rész/Végösszeg": "Részösszeg",
                                    "mennyiség": "8957"
                                },
                                {
                                    "(No column name)": "2015-12-13",
                                    "Rész/Végösszeg": "Részösszeg",
                                    "mennyiség": "7399"
                                },
                                {
                                    "(No column name)": "2015-12-14",
                                    "Rész/Végösszeg": "Részösszeg",
                                    "mennyiség": "7676"
                                },
                                {
                                    "(No column name)": "2015-12-15",
                                    "Rész/Végösszeg": "Részösszeg",
                                    "mennyiség": "6863"
                                },
                                {
                                    "(No column name)": "2015-12-16",
                                    "Rész/Végösszeg": "Részösszeg",
                                    "mennyiség": "7886"
                                },
                                {
                                    "(No column name)": "2015-12-17",
                                    "Rész/Végösszeg": "Részösszeg",
                                    "mennyiség": "6894"
                                },
                                {
                                    "(No column name)": "2015-12-18",
                                    "Rész/Végösszeg": "Részösszeg",
                                    "mennyiség": "12260"
                                },
                                {
                                    "(No column name)": "2015-12-19",
                                    "Rész/Végösszeg": "Részösszeg",
                                    "mennyiség": "5788"
                                },
                                {
                                    "(No column name)": "2015-12-20",
                                    "Rész/Végösszeg": "Részösszeg",
                                    "mennyiség": "8699"
                                },
                                {
                                    "(No column name)": "2015-12-21",
                                    "Rész/Végösszeg": "Részösszeg",
                                    "mennyiség": "6630"
                                },
                                {
                                    "(No column name)": "2015-12-22",
                                    "Rész/Végösszeg": "Részösszeg",
                                    "mennyiség": "9212"
                                },
                                {
                                    "(No column name)": "2015-12-23",
                                    "Rész/Végösszeg": "Részösszeg",
                                    "mennyiség": "6676"
                                },
                                {
                                    "(No column name)": "2015-12-24",
                                    "Rész/Végösszeg": "Részösszeg",
                                    "mennyiség": "8869"
                                },
                                {
                                    "(No column name)": "2015-12-25",
                                    "Rész/Végösszeg": "Részösszeg",
                                    "mennyiség": "6944"
                                },
                                {
                                    "(No column name)": "2015-12-26",
                                    "Rész/Végösszeg": "Részösszeg",
                                    "mennyiség": "8921"
                                },
                                {
                                    "(No column name)": "2015-12-27",
                                    "Rész/Végösszeg": "Részösszeg",
                                    "mennyiség": "7648"
                                },
                                {
                                    "(No column name)": "2015-12-28",
                                    "Rész/Végösszeg": "Részösszeg",
                                    "mennyiség": "8042"
                                },
                                {
                                    "(No column name)": "2015-12-29",
                                    "Rész/Végösszeg": "Részösszeg",
                                    "mennyiség": "7923"
                                },
                                {
                                    "(No column name)": "2015-12-30",
                                    "Rész/Végösszeg": "Részösszeg",
                                    "mennyiség": "6562"
                                },
                                {
                                    "(No column name)": "2015-12-31",
                                    "Rész/Végösszeg": "Részösszeg",
                                    "mennyiség": "7021"
                                },
                                {
                                    "(No column name)": "2016-01-01",
                                    "Rész/Végösszeg": "Részösszeg",
                                    "mennyiség": "8837"
                                },
                                {
                                    "(No column name)": "2016-01-02",
                                    "Rész/Végösszeg": "Részösszeg",
                                    "mennyiség": "7518"
                                },
                                {
                                    "(No column name)": "2016-01-03",
                                    "Rész/Végösszeg": "Részösszeg",
                                    "mennyiség": "8422"
                                },
                                {
                                    "(No column name)": "2016-01-04",
                                    "Rész/Végösszeg": "Részösszeg",
                                    "mennyiség": "8813"
                                },
                                {
                                    "(No column name)": "2016-01-05",
                                    "Rész/Végösszeg": "Részösszeg",
                                    "mennyiség": "6895"
                                },
                                {
                                    "(No column name)": "2016-01-06",
                                    "Rész/Végösszeg": "Részösszeg",
                                    "mennyiség": "6716"
                                },
                                {
                                    "(No column name)": "2016-01-07",
                                    "Rész/Végösszeg": "Részösszeg",
                                    "mennyiség": "5593"
                                },
                                {
                                    "(No column name)": "2016-01-08",
                                    "Rész/Végösszeg": "Részösszeg",
                                    "mennyiség": "9534"
                                },
                                {
                                    "(No column name)": "2016-01-09",
                                    "Rész/Végösszeg": "Részösszeg",
                                    "mennyiség": "7056"
                                },
                                {
                                    "(No column name)": "2016-01-10",
                                    "Rész/Végösszeg": "Részösszeg",
                                    "mennyiség": "8057"
                                },
                                {
                                    "(No column name)": "2016-01-11",
                                    "Rész/Végösszeg": "Részösszeg",
                                    "mennyiség": "6734"
                                },
                                {
                                    "(No column name)": "2016-01-12",
                                    "Rész/Végösszeg": "Részösszeg",
                                    "mennyiség": "6949"
                                },
                                {
                                    "(No column name)": "2016-01-13",
                                    "Rész/Végösszeg": "Részösszeg",
                                    "mennyiség": "7487"
                                },
                                {
                                    "(No column name)": "2016-01-14",
                                    "Rész/Végösszeg": "Részösszeg",
                                    "mennyiség": "8998"
                                },
                                {
                                    "(No column name)": "2016-01-15",
                                    "Rész/Végösszeg": "Részösszeg",
                                    "mennyiség": "9345"
                                },
                                {
                                    "(No column name)": "2016-01-16",
                                    "Rész/Végösszeg": "Részösszeg",
                                    "mennyiség": "8068"
                                },
                                {
                                    "(No column name)": "2016-01-17",
                                    "Rész/Végösszeg": "Részösszeg",
                                    "mennyiség": "6954"
                                },
                                {
                                    "(No column name)": "2016-01-18",
                                    "Rész/Végösszeg": "Részösszeg",
                                    "mennyiség": "4416"
                                },
                                {
                                    "(No column name)": "2016-01-19",
                                    "Rész/Végösszeg": "Részösszeg",
                                    "mennyiség": "7124"
                                },
                                {
                                    "(No column name)": "2016-01-20",
                                    "Rész/Végösszeg": "Részösszeg",
                                    "mennyiség": "8568"
                                },
                                {
                                    "(No column name)": "2016-01-21",
                                    "Rész/Végösszeg": "Részösszeg",
                                    "mennyiség": "10953"
                                },
                                {
                                    "(No column name)": "2016-01-22",
                                    "Rész/Végösszeg": "Részösszeg",
                                    "mennyiség": "8588"
                                },
                                {
                                    "(No column name)": "2016-01-23",
                                    "Rész/Végösszeg": "Részösszeg",
                                    "mennyiség": "6512"
                                },
                                {
                                    "(No column name)": "2016-01-24",
                                    "Rész/Végösszeg": "Részösszeg",
                                    "mennyiség": "8898"
                                },
                                {
                                    "(No column name)": "2016-01-25",
                                    "Rész/Végösszeg": "Részösszeg",
                                    "mennyiség": "5191"
                                },
                                {
                                    "(No column name)": "2016-01-26",
                                    "Rész/Végösszeg": "Részösszeg",
                                    "mennyiség": "5293"
                                },
                                {
                                    "(No column name)": "2016-01-27",
                                    "Rész/Végösszeg": "Részösszeg",
                                    "mennyiség": "6513"
                                },
                                {
                                    "(No column name)": "2016-01-28",
                                    "Rész/Végösszeg": "Részösszeg",
                                    "mennyiség": "8119"
                                },
                                {
                                    "(No column name)": "2016-01-29",
                                    "Rész/Végösszeg": "Részösszeg",
                                    "mennyiség": "6658"
                                },
                                {
                                    "(No column name)": "2016-01-30",
                                    "Rész/Végösszeg": "Részösszeg",
                                    "mennyiség": "8727"
                                },
                                {
                                    "(No column name)": "2016-01-31",
                                    "Rész/Végösszeg": "Részösszeg",
                                    "mennyiség": "7527"
                                },
                                {
                                    "(No column name)": "2016-02-01",
                                    "Rész/Végösszeg": "Részösszeg",
                                    "mennyiség": "9120"
                                },
                                {
                                    "(No column name)": "2016-02-02",
                                    "Rész/Végösszeg": "Részösszeg",
                                    "mennyiség": "8088"
                                },
                                {
                                    "(No column name)": "2016-02-03",
                                    "Rész/Végösszeg": "Részösszeg",
                                    "mennyiség": "9306"
                                },
                                {
                                    "(No column name)": "2016-02-04",
                                    "Rész/Végösszeg": "Részösszeg",
                                    "mennyiség": "7994"
                                },
                                {
                                    "(No column name)": "2016-02-05",
                                    "Rész/Végösszeg": "Részösszeg",
                                    "mennyiség": "9703"
                                },
                                {
                                    "(No column name)": "2016-02-06",
                                    "Rész/Végösszeg": "Részösszeg",
                                    "mennyiség": "9860"
                                },
                                {
                                    "(No column name)": "2016-02-07",
                                    "Rész/Végösszeg": "Részösszeg",
                                    "mennyiség": "6630"
                                },
                                {
                                    "(No column name)": "2016-02-08",
                                    "Rész/Végösszeg": "Részösszeg",
                                    "mennyiség": "10093"
                                },
                                {
                                    "(No column name)": "2016-02-09",
                                    "Rész/Végösszeg": "Részösszeg",
                                    "mennyiség": "9706"
                                },
                                {
                                    "(No column name)": "2016-02-10",
                                    "Rész/Végösszeg": "Részösszeg",
                                    "mennyiség": "8520"
                                },
                                {
                                    "(No column name)": "2016-02-11",
                                    "Rész/Végösszeg": "Részösszeg",
                                    "mennyiség": "7094"
                                },
                                {
                                    "(No column name)": "2016-02-12",
                                    "Rész/Végösszeg": "Részösszeg",
                                    "mennyiség": "7789"
                                },
                                {
                                    "(No column name)": "2016-02-13",
                                    "Rész/Végösszeg": "Részösszeg",
                                    "mennyiség": "7991"
                                },
                                {
                                    "(No column name)": "2016-02-14",
                                    "Rész/Végösszeg": "Részösszeg",
                                    "mennyiség": "8049"
                                },
                                {
                                    "(No column name)": "2016-02-15",
                                    "Rész/Végösszeg": "Részösszeg",
                                    "mennyiség": "10033"
                                },
                                {
                                    "(No column name)": "2016-02-16",
                                    "Rész/Végösszeg": "Részösszeg",
                                    "mennyiség": "8049"
                                },
                                {
                                    "(No column name)": "2016-02-17",
                                    "Rész/Végösszeg": "Részösszeg",
                                    "mennyiség": "9586"
                                },
                                {
                                    "(No column name)": "2016-02-18",
                                    "Rész/Végösszeg": "Részösszeg",
                                    "mennyiség": "5922"
                                },
                                {
                                    "(No column name)": "2016-02-19",
                                    "Rész/Végösszeg": "Részösszeg",
                                    "mennyiség": "8898"
                                },
                                {
                                    "(No column name)": "2016-02-20",
                                    "Rész/Végösszeg": "Részösszeg",
                                    "mennyiség": "7549"
                                },
                                {
                                    "(No column name)": "2016-02-21",
                                    "Rész/Végösszeg": "Részösszeg",
                                    "mennyiség": "6531"
                                },
                                {
                                    "(No column name)": "2016-02-22",
                                    "Rész/Végösszeg": "Részösszeg",
                                    "mennyiség": "8724"
                                },
                                {
                                    "(No column name)": "2016-02-23",
                                    "Rész/Végösszeg": "Részösszeg",
                                    "mennyiség": "6959"
                                },
                                {
                                    "(No column name)": "2016-02-24",
                                    "Rész/Végösszeg": "Részösszeg",
                                    "mennyiség": "6314"
                                },
                                {
                                    "(No column name)": "2016-02-25",
                                    "Rész/Végösszeg": "Részösszeg",
                                    "mennyiség": "7324"
                                },
                                {
                                    "(No column name)": "2016-02-26",
                                    "Rész/Végösszeg": "Részösszeg",
                                    "mennyiség": "8466"
                                },
                                {
                                    "(No column name)": "2016-02-27",
                                    "Rész/Végösszeg": "Részösszeg",
                                    "mennyiség": "7122"
                                },
                                {
                                    "(No column name)": "2016-02-28",
                                    "Rész/Végösszeg": "Részösszeg",
                                    "mennyiség": "8447"
                                },
                                {
                                    "(No column name)": "2016-02-29",
                                    "Rész/Végösszeg": "Részösszeg",
                                    "mennyiség": "8516"
                                },
                                {
                                    "(No column name)": "2016-03-01",
                                    "Rész/Végösszeg": "Részösszeg",
                                    "mennyiség": "9654"
                                },
                                {
                                    "(No column name)": "2016-03-02",
                                    "Rész/Végösszeg": "Részösszeg",
                                    "mennyiség": "7282"
                                },
                                {
                                    "(No column name)": "2016-03-03",
                                    "Rész/Végösszeg": "Részösszeg",
                                    "mennyiség": "8853"
                                },
                                {
                                    "(No column name)": "2016-03-04",
                                    "Rész/Végösszeg": "Részösszeg",
                                    "mennyiség": "8549"
                                },
                                {
                                    "(No column name)": "2016-03-05",
                                    "Rész/Végösszeg": "Részösszeg",
                                    "mennyiség": "9463"
                                },
                                {
                                    "(No column name)": "2016-03-06",
                                    "Rész/Végösszeg": "Részösszeg",
                                    "mennyiség": "7740"
                                },
                                {
                                    "(No column name)": "2016-03-07",
                                    "Rész/Végösszeg": "Részösszeg",
                                    "mennyiség": "7680"
                                },
                                {
                                    "(No column name)": "2016-03-08",
                                    "Rész/Végösszeg": "Részösszeg",
                                    "mennyiség": "5849"
                                },
                                {
                                    "(No column name)": "2016-03-09",
                                    "Rész/Végösszeg": "Részösszeg",
                                    "mennyiség": "9412"
                                },
                                {
                                    "(No column name)": "2016-03-10",
                                    "Rész/Végösszeg": "Részösszeg",
                                    "mennyiség": "8848"
                                },
                                {
                                    "(No column name)": "2016-03-11",
                                    "Rész/Végösszeg": "Részösszeg",
                                    "mennyiség": "6193"
                                },
                                {
                                    "(No column name)": "2016-03-12",
                                    "Rész/Végösszeg": "Részösszeg",
                                    "mennyiség": "10487"
                                },
                                {
                                    "(No column name)": "2016-03-13",
                                    "Rész/Végösszeg": "Részösszeg",
                                    "mennyiség": "5913"
                                },
                                {
                                    "(No column name)": "2016-03-14",
                                    "Rész/Végösszeg": "Részösszeg",
                                    "mennyiség": "9336"
                                },
                                {
                                    "(No column name)": "2016-03-15",
                                    "Rész/Végösszeg": "Részösszeg",
                                    "mennyiség": "8180"
                                },
                                {
                                    "(No column name)": "2016-03-16",
                                    "Rész/Végösszeg": "Részösszeg",
                                    "mennyiség": "7448"
                                },
                                {
                                    "(No column name)": "2016-03-17",
                                    "Rész/Végösszeg": "Részösszeg",
                                    "mennyiség": "7770"
                                },
                                {
                                    "(No column name)": "2016-03-18",
                                    "Rész/Végösszeg": "Részösszeg",
                                    "mennyiség": "6927"
                                },
                                {
                                    "(No column name)": "2016-03-19",
                                    "Rész/Végösszeg": "Részösszeg",
                                    "mennyiség": "7827"
                                },
                                {
                                    "(No column name)": "2016-03-20",
                                    "Rész/Végösszeg": "Részösszeg",
                                    "mennyiség": "12190"
                                },
                                {
                                    "(No column name)": "2016-03-21",
                                    "Rész/Végösszeg": "Részösszeg",
                                    "mennyiség": "11075"
                                },
                                {
                                    "(No column name)": "2016-03-22",
                                    "Rész/Végösszeg": "Részösszeg",
                                    "mennyiség": "7770"
                                },
                                {
                                    "(No column name)": "2016-03-23",
                                    "Rész/Végösszeg": "Részösszeg",
                                    "mennyiség": "6397"
                                },
                                {
                                    "(No column name)": "2016-03-24",
                                    "Rész/Végösszeg": "Részösszeg",
                                    "mennyiség": "7220"
                                },
                                {
                                    "(No column name)": "2016-03-25",
                                    "Rész/Végösszeg": "Részösszeg",
                                    "mennyiség": "8763"
                                },
                                {
                                    "(No column name)": "2016-03-26",
                                    "Rész/Végösszeg": "Részösszeg",
                                    "mennyiség": "9893"
                                },
                                {
                                    "(No column name)": "2016-03-27",
                                    "Rész/Végösszeg": "Részösszeg",
                                    "mennyiség": "8950"
                                },
                                {
                                    "(No column name)": "2016-03-28",
                                    "Rész/Végösszeg": "Részösszeg",
                                    "mennyiség": "7552"
                                },
                                {
                                    "(No column name)": "2016-03-29",
                                    "Rész/Végösszeg": "Részösszeg",
                                    "mennyiség": "7416"
                                },
                                {
                                    "(No column name)": "2016-03-30",
                                    "Rész/Végösszeg": "Részösszeg",
                                    "mennyiség": "8631"
                                },
                                {
                                    "(No column name)": "2016-03-31",
                                    "Rész/Végösszeg": "Részösszeg",
                                    "mennyiség": "6885"
                                },
                                {
                                    "(No column name)": "2016-04-01",
                                    "Rész/Végösszeg": "Részösszeg",
                                    "mennyiség": "8756"
                                },
                                {
                                    "(No column name)": "2016-04-02",
                                    "Rész/Végösszeg": "Részösszeg",
                                    "mennyiség": "8073"
                                },
                                {
                                    "(No column name)": "2016-04-03",
                                    "Rész/Végösszeg": "Részösszeg",
                                    "mennyiség": "5897"
                                },
                                {
                                    "(No column name)": "2016-04-04",
                                    "Rész/Végösszeg": "Részösszeg",
                                    "mennyiség": "7405"
                                },
                                {
                                    "(No column name)": "2016-04-05",
                                    "Rész/Végösszeg": "Részösszeg",
                                    "mennyiség": "8092"
                                },
                                {
                                    "(No column name)": "2016-04-06",
                                    "Rész/Végösszeg": "Részösszeg",
                                    "mennyiség": "7458"
                                },
                                {
                                    "(No column name)": "2016-04-07",
                                    "Rész/Végösszeg": "Részösszeg",
                                    "mennyiség": "9216"
                                },
                                {
                                    "(No column name)": "2016-04-08",
                                    "Rész/Végösszeg": "Részösszeg",
                                    "mennyiség": "10889"
                                },
                                {
                                    "(No column name)": "2016-04-09",
                                    "Rész/Végösszeg": "Részösszeg",
                                    "mennyiség": "9754"
                                },
                                {
                                    "(No column name)": "2016-04-10",
                                    "Rész/Végösszeg": "Részösszeg",
                                    "mennyiség": "9878"
                                },
                                {
                                    "(No column name)": "2016-04-11",
                                    "Rész/Végösszeg": "Részösszeg",
                                    "mennyiség": "8948"
                                },
                                {
                                    "(No column name)": "2016-04-12",
                                    "Rész/Végösszeg": "Részösszeg",
                                    "mennyiség": "7144"
                                },
                                {
                                    "(No column name)": "2016-04-13",
                                    "Rész/Végösszeg": "Részösszeg",
                                    "mennyiség": "7728"
                                },
                                {
                                    "(No column name)": "2016-04-14",
                                    "Rész/Végösszeg": "Részösszeg",
                                    "mennyiség": "8805"
                                },
                                {
                                    "(No column name)": "2016-04-15",
                                    "Rész/Végösszeg": "Részösszeg",
                                    "mennyiség": "8331"
                                },
                                {
                                    "(No column name)": "2016-04-16",
                                    "Rész/Végösszeg": "Részösszeg",
                                    "mennyiség": "8755"
                                },
                                {
                                    "(No column name)": "2016-04-17",
                                    "Rész/Végösszeg": "Részösszeg",
                                    "mennyiség": "10267"
                                },
                                {
                                    "(No column name)": "2016-04-18",
                                    "Rész/Végösszeg": "Részösszeg",
                                    "mennyiség": "7586"
                                },
                                {
                                    "(No column name)": "2016-04-19",
                                    "Rész/Végösszeg": "Részösszeg",
                                    "mennyiség": "9190"
                                },
                                {
                                    "(No column name)": "2016-04-20",
                                    "Rész/Végösszeg": "Részösszeg",
                                    "mennyiség": "6584"
                                },
                                {
                                    "(No column name)": "2016-04-21",
                                    "Rész/Végösszeg": "Részösszeg",
                                    "mennyiség": "6628"
                                },
                                {
                                    "(No column name)": "2016-04-22",
                                    "Rész/Végösszeg": "Részösszeg",
                                    "mennyiség": "6502"
                                },
                                {
                                    "(No column name)": "2016-04-23",
                                    "Rész/Végösszeg": "Részösszeg",
                                    "mennyiség": "6588"
                                },
                                {
                                    "(No column name)": "2016-04-24",
                                    "Rész/Végösszeg": "Részösszeg",
                                    "mennyiség": "9512"
                                },
                                {
                                    "(No column name)": "2016-04-25",
                                    "Rész/Végösszeg": "Részösszeg",
                                    "mennyiség": "10177"
                                },
                                {
                                    "(No column name)": "2016-04-26",
                                    "Rész/Végösszeg": "Részösszeg",
                                    "mennyiség": "7946"
                                },
                                {
                                    "(No column name)": "2016-04-27",
                                    "Rész/Végösszeg": "Részösszeg",
                                    "mennyiség": "8344"
                                },
                                {
                                    "(No column name)": "2016-04-28",
                                    "Rész/Végösszeg": "Részösszeg",
                                    "mennyiség": "7732"
                                },
                                {
                                    "(No column name)": "2016-04-29",
                                    "Rész/Végösszeg": "Részösszeg",
                                    "mennyiség": "7870"
                                },
                                {
                                    "(No column name)": "2016-04-30",
                                    "Rész/Végösszeg": "Részösszeg",
                                    "mennyiség": "7898"
                                },
                                {
                                    "(No column name)": "2016-05-01",
                                    "Rész/Végösszeg": "Részösszeg",
                                    "mennyiség": "6600"
                                },
                                {
                                    "(No column name)": "2016-05-02",
                                    "Rész/Végösszeg": "Részösszeg",
                                    "mennyiség": "8142"
                                },
                                {
                                    "(No column name)": "2016-05-03",
                                    "Rész/Végösszeg": "Részösszeg",
                                    "mennyiség": "5084"
                                },
                                {
                                    "(No column name)": "2016-05-04",
                                    "Rész/Végösszeg": "Részösszeg",
                                    "mennyiség": "9125"
                                },
                                {
                                    "(No column name)": "2016-05-05",
                                    "Rész/Végösszeg": "Részösszeg",
                                    "mennyiség": "7845"
                                },
                                {
                                    "(No column name)": "2016-05-06",
                                    "Rész/Végösszeg": "Részösszeg",
                                    "mennyiség": "7969"
                                },
                                {
                                    "(No column name)": "2016-05-07",
                                    "Rész/Végösszeg": "Részösszeg",
                                    "mennyiség": "8896"
                                },
                                {
                                    "(No column name)": "2016-05-08",
                                    "Rész/Végösszeg": "Részösszeg",
                                    "mennyiség": "7858"
                                },
                                {
                                    "(No column name)": "2016-05-09",
                                    "Rész/Végösszeg": "Részösszeg",
                                    "mennyiség": "11178"
                                },
                                {
                                    "(No column name)": "2016-05-10",
                                    "Rész/Végösszeg": "Részösszeg",
                                    "mennyiség": "8968"
                                },
                                {
                                    "(No column name)": "2016-05-11",
                                    "Rész/Végösszeg": "Részösszeg",
                                    "mennyiség": "8132"
                                },
                                {
                                    "(No column name)": "2016-05-12",
                                    "Rész/Végösszeg": "Részösszeg",
                                    "mennyiség": "8095"
                                },
                                {
                                    "(No column name)": "2016-05-13",
                                    "Rész/Végösszeg": "Részösszeg",
                                    "mennyiség": "8089"
                                },
                                {
                                    "(No column name)": "2016-05-14",
                                    "Rész/Végösszeg": "Részösszeg",
                                    "mennyiség": "7722"
                                },
                                {
                                    "(No column name)": "2016-05-15",
                                    "Rész/Végösszeg": "Részösszeg",
                                    "mennyiség": "5490"
                                },
                                {
                                    "(No column name)": "2016-05-16",
                                    "Rész/Végösszeg": "Részösszeg",
                                    "mennyiség": "7944"
                                },
                                {
                                    "(No column name)": "2016-05-17",
                                    "Rész/Végösszeg": "Részösszeg",
                                    "mennyiség": "8888"
                                },
                                {
                                    "(No column name)": "2016-05-18",
                                    "Rész/Végösszeg": "Részösszeg",
                                    "mennyiség": "5720"
                                },
                                {
                                    "(No column name)": "2016-05-19",
                                    "Rész/Végösszeg": "Részösszeg",
                                    "mennyiség": "7578"
                                },
                                {
                                    "(No column name)": "2016-05-20",
                                    "Rész/Végösszeg": "Részösszeg",
                                    "mennyiség": "8879"
                                },
                                {
                                    "(No column name)": "2016-05-21",
                                    "Rész/Végösszeg": "Részösszeg",
                                    "mennyiség": "9030"
                                },
                                {
                                    "(No column name)": "2016-05-22",
                                    "Rész/Végösszeg": "Részösszeg",
                                    "mennyiség": "4914"
                                },
                                {
                                    "(No column name)": "2016-05-23",
                                    "Rész/Végösszeg": "Részösszeg",
                                    "mennyiség": "8577"
                                },
                                {
                                    "(No column name)": "2016-05-24",
                                    "Rész/Végösszeg": "Részösszeg",
                                    "mennyiség": "8816"
                                },
                                {
                                    "(No column name)": "2016-05-25",
                                    "Rész/Végösszeg": "Részösszeg",
                                    "mennyiség": "9296"
                                },
                                {
                                    "(No column name)": "2016-05-26",
                                    "Rész/Végösszeg": "Részösszeg",
                                    "mennyiség": "5287"
                                },
                                {
                                    "(No column name)": "2016-05-27",
                                    "Rész/Végösszeg": "Részösszeg",
                                    "mennyiség": "9701"
                                },
                                {
                                    "(No column name)": "2016-05-28",
                                    "Rész/Végösszeg": "Részösszeg",
                                    "mennyiség": "6509"
                                },
                                {
                                    "(No column name)": "2016-05-29",
                                    "Rész/Végösszeg": "Részösszeg",
                                    "mennyiség": "9450"
                                },
                                {
                                    "(No column name)": "2016-05-30",
                                    "Rész/Végösszeg": "Részösszeg",
                                    "mennyiség": "6884"
                                },
                                {
                                    "(No column name)": "2016-05-31",
                                    "Rész/Végösszeg": "Részösszeg",
                                    "mennyiség": "10007"
                                },
                                {
                                    "(No column name)": "2016-06-01",
                                    "Rész/Végösszeg": "Részösszeg",
                                    "mennyiség": "8484"
                                },
                                {
                                    "(No column name)": "2016-06-02",
                                    "Rész/Végösszeg": "Részösszeg",
                                    "mennyiség": "6928"
                                },
                                {
                                    "(No column name)": "2016-06-03",
                                    "Rész/Végösszeg": "Részösszeg",
                                    "mennyiség": "6567"
                                },
                                {
                                    "(No column name)": "2016-06-04",
                                    "Rész/Végösszeg": "Részösszeg",
                                    "mennyiség": "7904"
                                },
                                {
                                    "(No column name)": "2016-06-05",
                                    "Rész/Végösszeg": "Részösszeg",
                                    "mennyiség": "5802"
                                },
                                {
                                    "(No column name)": "2016-06-06",
                                    "Rész/Végösszeg": "Részösszeg",
                                    "mennyiség": "9474"
                                },
                                {
                                    "(No column name)": "2016-06-07",
                                    "Rész/Végösszeg": "Részösszeg",
                                    "mennyiség": "8722"
                                },
                                {
                                    "(No column name)": "2016-06-08",
                                    "Rész/Végösszeg": "Részösszeg",
                                    "mennyiség": "7019"
                                },
                                {
                                    "(No column name)": "2016-06-09",
                                    "Rész/Végösszeg": "Részösszeg",
                                    "mennyiség": "7354"
                                },
                                {
                                    "(No column name)": "2016-06-10",
                                    "Rész/Végösszeg": "Részösszeg",
                                    "mennyiség": "8873"
                                },
                                {
                                    "(No column name)": "2016-06-11",
                                    "Rész/Végösszeg": "Részösszeg",
                                    "mennyiség": "9217"
                                },
                                {
                                    "(No column name)": "2016-06-12",
                                    "Rész/Végösszeg": "Részösszeg",
                                    "mennyiség": "9418"
                                },
                                {
                                    "(No column name)": "2016-06-13",
                                    "Rész/Végösszeg": "Részösszeg",
                                    "mennyiség": "6407"
                                },
                                {
                                    "(No column name)": "2016-06-14",
                                    "Rész/Végösszeg": "Részösszeg",
                                    "mennyiség": "7968"
                                },
                                {
                                    "(No column name)": "2016-06-15",
                                    "Rész/Végösszeg": "Részösszeg",
                                    "mennyiség": "8830"
                                },
                                {
                                    "(No column name)": "2016-06-16",
                                    "Rész/Végösszeg": "Részösszeg",
                                    "mennyiség": "6462"
                                },
                                {
                                    "(No column name)": "2016-06-17",
                                    "Rész/Végösszeg": "Részösszeg",
                                    "mennyiség": "9189"
                                },
                                {
                                    "(No column name)": "2016-06-18",
                                    "Rész/Végösszeg": "Részösszeg",
                                    "mennyiség": "6311"
                                },
                                {
                                    "(No column name)": "2016-06-19",
                                    "Rész/Végösszeg": "Részösszeg",
                                    "mennyiség": "8834"
                                },
                                {
                                    "(No column name)": "2016-06-20",
                                    "Rész/Végösszeg": "Részösszeg",
                                    "mennyiség": "8005"
                                },
                                {
                                    "(No column name)": "2016-06-21",
                                    "Rész/Végösszeg": "Részösszeg",
                                    "mennyiség": "6482"
                                },
                                {
                                    "(No column name)": "2016-06-22",
                                    "Rész/Végösszeg": "Részösszeg",
                                    "mennyiség": "6541"
                                },
                                {
                                    "(No column name)": "2016-06-23",
                                    "Rész/Végösszeg": "Részösszeg",
                                    "mennyiség": "6662"
                                },
                                {
                                    "(No column name)": "2016-06-24",
                                    "Rész/Végösszeg": "Részösszeg",
                                    "mennyiség": "8530"
                                },
                                {
                                    "(No column name)": "2016-06-25",
                                    "Rész/Végösszeg": "Részösszeg",
                                    "mennyiség": "8262"
                                },
                                {
                                    "(No column name)": "2016-06-26",
                                    "Rész/Végösszeg": "Részösszeg",
                                    "mennyiség": "10488"
                                },
                                {
                                    "(No column name)": "2016-06-27",
                                    "Rész/Végösszeg": "Részösszeg",
                                    "mennyiség": "5541"
                                },
                                {
                                    "(No column name)": "2016-06-28",
                                    "Rész/Végösszeg": "Részösszeg",
                                    "mennyiség": "10267"
                                },
                                {
                                    "(No column name)": "2016-06-29",
                                    "Rész/Végösszeg": "Részösszeg",
                                    "mennyiség": "9869"
                                },
                                {
                                    "(No column name)": "2016-06-30",
                                    "Rész/Végösszeg": "Részösszeg",
                                    "mennyiség": "9437"
                                },
                                {
                                    "(No column name)": "2016-07-01",
                                    "Rész/Végösszeg": "Részösszeg",
                                    "mennyiség": "5916"
                                },
                                {
                                    "(No column name)": "2016-07-02",
                                    "Rész/Végösszeg": "Részösszeg",
                                    "mennyiség": "6710"
                                },
                                {
                                    "(No column name)": "2016-07-03",
                                    "Rész/Végösszeg": "Részösszeg",
                                    "mennyiség": "9081"
                                },
                                {
                                    "(No column name)": "2016-07-04",
                                    "Rész/Végösszeg": "Részösszeg",
                                    "mennyiség": "10816"
                                },
                                {
                                    "(No column name)": "2016-07-05",
                                    "Rész/Végösszeg": "Részösszeg",
                                    "mennyiség": "8863"
                                },
                                {
                                    "(No column name)": "2016-07-06",
                                    "Rész/Végösszeg": "Részösszeg",
                                    "mennyiség": "7283"
                                },
                                {
                                    "(No column name)": "2016-07-07",
                                    "Rész/Végösszeg": "Részösszeg",
                                    "mennyiség": "5922"
                                },
                                {
                                    "(No column name)": "2016-07-08",
                                    "Rész/Végösszeg": "Részösszeg",
                                    "mennyiség": "7968"
                                },
                                {
                                    "(No column name)": "2016-07-09",
                                    "Rész/Végösszeg": "Részösszeg",
                                    "mennyiség": "9112"
                                },
                                {
                                    "(No column name)": "2016-07-10",
                                    "Rész/Végösszeg": "Részösszeg",
                                    "mennyiség": "7494"
                                },
                                {
                                    "(No column name)": "2016-07-11",
                                    "Rész/Végösszeg": "Részösszeg",
                                    "mennyiség": "10358"
                                },
                                {
                                    "(No column name)": "2016-07-12",
                                    "Rész/Végösszeg": "Részösszeg",
                                    "mennyiség": "8519"
                                },
                                {
                                    "(No column name)": "2016-07-13",
                                    "Rész/Végösszeg": "Részösszeg",
                                    "mennyiség": "8721"
                                },
                                {
                                    "(No column name)": "2016-07-14",
                                    "Rész/Végösszeg": "Részösszeg",
                                    "mennyiség": "7363"
                                },
                                {
                                    "(No column name)": "2016-07-15",
                                    "Rész/Végösszeg": "Részösszeg",
                                    "mennyiség": "7066"
                                },
                                {
                                    "(No column name)": "2016-07-16",
                                    "Rész/Végösszeg": "Részösszeg",
                                    "mennyiség": "8298"
                                },
                                {
                                    "(No column name)": "2016-07-17",
                                    "Rész/Végösszeg": "Részösszeg",
                                    "mennyiség": "6320"
                                },
                                {
                                    "(No column name)": "2016-07-18",
                                    "Rész/Végösszeg": "Részösszeg",
                                    "mennyiség": "8573"
                                },
                                {
                                    "(No column name)": "2016-07-19",
                                    "Rész/Végösszeg": "Részösszeg",
                                    "mennyiség": "9023"
                                },
                                {
                                    "(No column name)": "2016-07-20",
                                    "Rész/Végösszeg": "Részösszeg",
                                    "mennyiség": "7415"
                                },
                                {
                                    "(No column name)": "2016-07-21",
                                    "Rész/Végösszeg": "Részösszeg",
                                    "mennyiség": "7484"
                                },
                                {
                                    "(No column name)": "2016-07-22",
                                    "Rész/Végösszeg": "Részösszeg",
                                    "mennyiség": "7412"
                                },
                                {
                                    "(No column name)": "2016-07-23",
                                    "Rész/Végösszeg": "Részösszeg",
                                    "mennyiség": "6895"
                                },
                                {
                                    "(No column name)": "2016-07-24",
                                    "Rész/Végösszeg": "Részösszeg",
                                    "mennyiség": "6958"
                                },
                                {
                                    "(No column name)": "2016-07-25",
                                    "Rész/Végösszeg": "Részösszeg",
                                    "mennyiség": "7559"
                                },
                                {
                                    "(No column name)": "2016-07-26",
                                    "Rész/Végösszeg": "Részösszeg",
                                    "mennyiség": "7020"
                                },
                                {
                                    "(No column name)": "2016-07-27",
                                    "Rész/Végösszeg": "Részösszeg",
                                    "mennyiség": "9352"
                                },
                                {
                                    "(No column name)": "2016-07-28",
                                    "Rész/Végösszeg": "Részösszeg",
                                    "mennyiség": "7155"
                                },
                                {
                                    "(No column name)": "2016-07-29",
                                    "Rész/Végösszeg": "Részösszeg",
                                    "mennyiség": "9038"
                                },
                                {
                                    "(No column name)": "2016-07-30",
                                    "Rész/Végösszeg": "Részösszeg",
                                    "mennyiség": "6288"
                                },
                                {
                                    "(No column name)": "2016-07-31",
                                    "Rész/Végösszeg": "Részösszeg",
                                    "mennyiség": "9007"
                                },
                                {
                                    "(No column name)": "2016-08-01",
                                    "Rész/Végösszeg": "Részösszeg",
                                    "mennyiség": "7588"
                                },
                                {
                                    "(No column name)": "2016-08-02",
                                    "Rész/Végösszeg": "Részösszeg",
                                    "mennyiség": "6686"
                                },
                                {
                                    "(No column name)": "2016-08-03",
                                    "Rész/Végösszeg": "Részösszeg",
                                    "mennyiség": "7884"
                                },
                                {
                                    "(No column name)": "2016-08-04",
                                    "Rész/Végösszeg": "Részösszeg",
                                    "mennyiség": "6900"
                                },
                                {
                                    "(No column name)": "2016-08-05",
                                    "Rész/Végösszeg": "Részösszeg",
                                    "mennyiség": "7610"
                                },
                                {
                                    "(No column name)": "2016-08-06",
                                    "Rész/Végösszeg": "Részösszeg",
                                    "mennyiség": "8498"
                                },
                                {
                                    "(No column name)": "2016-08-07",
                                    "Rész/Végösszeg": "Részösszeg",
                                    "mennyiség": "5511"
                                },
                                {
                                    "(No column name)": "2016-08-08",
                                    "Rész/Végösszeg": "Részösszeg",
                                    "mennyiség": "5829"
                                },
                                {
                                    "(No column name)": "2016-08-09",
                                    "Rész/Végösszeg": "Részösszeg",
                                    "mennyiség": "10307"
                                },
                                {
                                    "(No column name)": "2016-08-10",
                                    "Rész/Végösszeg": "Részösszeg",
                                    "mennyiség": "8311"
                                },
                                {
                                    "(No column name)": "2016-08-11",
                                    "Rész/Végösszeg": "Részösszeg",
                                    "mennyiség": "8232"
                                },
                                {
                                    "(No column name)": "2016-08-12",
                                    "Rész/Végösszeg": "Részösszeg",
                                    "mennyiség": "8761"
                                },
                                {
                                    "(No column name)": "2016-08-13",
                                    "Rész/Végösszeg": "Részösszeg",
                                    "mennyiség": "9571"
                                },
                                {
                                    "(No column name)": "2016-08-14",
                                    "Rész/Végösszeg": "Részösszeg",
                                    "mennyiség": "8263"
                                },
                                {
                                    "(No column name)": "2016-08-15",
                                    "Rész/Végösszeg": "Részösszeg",
                                    "mennyiség": "10966"
                                },
                                {
                                    "(No column name)": "2016-08-16",
                                    "Rész/Végösszeg": "Részösszeg",
                                    "mennyiség": "7435"
                                },
                                {
                                    "(No column name)": "2016-08-17",
                                    "Rész/Végösszeg": "Részösszeg",
                                    "mennyiség": "7576"
                                },
                                {
                                    "(No column name)": "2016-08-18",
                                    "Rész/Végösszeg": "Részösszeg",
                                    "mennyiség": "7689"
                                },
                                {
                                    "(No column name)": "2016-08-19",
                                    "Rész/Végösszeg": "Részösszeg",
                                    "mennyiség": "6974"
                                },
                                {
                                    "(No column name)": "2016-08-20",
                                    "Rész/Végösszeg": "Részösszeg",
                                    "mennyiség": "9117"
                                },
                                {
                                    "(No column name)": "2016-08-21",
                                    "Rész/Végösszeg": "Részösszeg",
                                    "mennyiség": "5864"
                                },
                                {
                                    "(No column name)": "2016-08-22",
                                    "Rész/Végösszeg": "Részösszeg",
                                    "mennyiség": "7082"
                                },
                                {
                                    "(No column name)": "2016-08-23",
                                    "Rész/Végösszeg": "Részösszeg",
                                    "mennyiség": "6153"
                                },
                                {
                                    "(No column name)": "2016-08-24",
                                    "Rész/Végösszeg": "Részösszeg",
                                    "mennyiség": "8822"
                                },
                                {
                                    "(No column name)": "2016-08-25",
                                    "Rész/Végösszeg": "Részösszeg",
                                    "mennyiség": "9398"
                                },
                                {
                                    "(No column name)": "2016-08-26",
                                    "Rész/Végösszeg": "Részösszeg",
                                    "mennyiség": "8695"
                                },
                                {
                                    "(No column name)": "2016-08-27",
                                    "Rész/Végösszeg": "Részösszeg",
                                    "mennyiség": "8120"
                                },
                                {
                                    "(No column name)": "2016-08-28",
                                    "Rész/Végösszeg": "Részösszeg",
                                    "mennyiség": "8937"
                                },
                                {
                                    "(No column name)": "2016-08-29",
                                    "Rész/Végösszeg": "Részösszeg",
                                    "mennyiség": "7542"
                                },
                                {
                                    "(No column name)": "2016-08-30",
                                    "Rész/Végösszeg": "Részösszeg",
                                    "mennyiség": "5527"
                                },
                                {
                                    "(No column name)": "2016-08-31",
                                    "Rész/Végösszeg": "Részösszeg",
                                    "mennyiség": "6069"
                                },
                                {
                                    "(No column name)": "2016-09-01",
                                    "Rész/Végösszeg": "Részösszeg",
                                    "mennyiség": "6626"
                                },
                                {
                                    "(No column name)": "2016-09-02",
                                    "Rész/Végösszeg": "Részösszeg",
                                    "mennyiség": "7775"
                                },
                                {
                                    "(No column name)": "2016-09-03",
                                    "Rész/Végösszeg": "Részösszeg",
                                    "mennyiség": "11043"
                                },
                                {
                                    "(No column name)": "2016-09-04",
                                    "Rész/Végösszeg": "Részösszeg",
                                    "mennyiség": "11369"
                                },
                                {
                                    "(No column name)": "2016-09-05",
                                    "Rész/Végösszeg": "Részösszeg",
                                    "mennyiség": "6206"
                                },
                                {
                                    "(No column name)": "2016-09-06",
                                    "Rész/Végösszeg": "Részösszeg",
                                    "mennyiség": "8736"
                                },
                                {
                                    "(No column name)": "2016-09-07",
                                    "Rész/Végösszeg": "Részösszeg",
                                    "mennyiség": "8579"
                                },
                                {
                                    "(No column name)": "2016-09-08",
                                    "Rész/Végösszeg": "Részösszeg",
                                    "mennyiség": "8561"
                                },
                                {
                                    "(No column name)": "2016-09-09",
                                    "Rész/Végösszeg": "Részösszeg",
                                    "mennyiség": "8470"
                                },
                                {
                                    "(No column name)": "2016-09-10",
                                    "Rész/Végösszeg": "Részösszeg",
                                    "mennyiség": "9203"
                                },
                                {
                                    "(No column name)": "2016-09-11",
                                    "Rész/Végösszeg": "Részösszeg",
                                    "mennyiség": "8573"
                                },
                                {
                                    "(No column name)": "2016-09-12",
                                    "Rész/Végösszeg": "Részösszeg",
                                    "mennyiség": "6264"
                                },
                                {
                                    "(No column name)": "2016-09-13",
                                    "Rész/Végösszeg": "Részösszeg",
                                    "mennyiség": "8200"
                                },
                                {
                                    "(No column name)": "2016-09-14",
                                    "Rész/Végösszeg": "Részösszeg",
                                    "mennyiség": "10576"
                                },
                                {
                                    "(No column name)": "2016-09-15",
                                    "Rész/Végösszeg": "Részösszeg",
                                    "mennyiség": "10530"
                                },
                                {
                                    "(No column name)": "2016-09-16",
                                    "Rész/Végösszeg": "Részösszeg",
                                    "mennyiség": "5621"
                                },
                                {
                                    "(No column name)": "2016-09-17",
                                    "Rész/Végösszeg": "Részösszeg",
                                    "mennyiség": "7379"
                                },
                                {
                                    "(No column name)": "2016-09-18",
                                    "Rész/Végösszeg": "Részösszeg",
                                    "mennyiség": "10790"
                                },
                                {
                                    "(No column name)": "2016-09-19",
                                    "Rész/Végösszeg": "Részösszeg",
                                    "mennyiség": "7019"
                                },
                                {
                                    "(No column name)": "2016-09-20",
                                    "Rész/Végösszeg": "Részösszeg",
                                    "mennyiség": "8544"
                                },
                                {
                                    "(No column name)": "2016-09-21",
                                    "Rész/Végösszeg": "Részösszeg",
                                    "mennyiség": "5504"
                                },
                                {
                                    "(No column name)": "2016-09-22",
                                    "Rész/Végösszeg": "Részösszeg",
                                    "mennyiség": "6691"
                                },
                                {
                                    "(No column name)": "2016-09-23",
                                    "Rész/Végösszeg": "Részösszeg",
                                    "mennyiség": "6574"
                                },
                                {
                                    "(No column name)": "2016-09-24",
                                    "Rész/Végösszeg": "Részösszeg",
                                    "mennyiség": "6220"
                                },
                                {
                                    "(No column name)": "2016-09-25",
                                    "Rész/Végösszeg": "Részösszeg",
                                    "mennyiség": "6759"
                                },
                                {
                                    "(No column name)": "2016-09-26",
                                    "Rész/Végösszeg": "Részösszeg",
                                    "mennyiség": "7073"
                                },
                                {
                                    "(No column name)": "2016-09-27",
                                    "Rész/Végösszeg": "Részösszeg",
                                    "mennyiség": "9214"
                                },
                                {
                                    "(No column name)": "2016-09-28",
                                    "Rész/Végösszeg": "Részösszeg",
                                    "mennyiség": "7948"
                                },
                                {
                                    "(No column name)": "2016-09-29",
                                    "Rész/Végösszeg": "Részösszeg",
                                    "mennyiség": "5840"
                                },
                                {
                                    "(No column name)": "2016-09-30",
                                    "Rész/Végösszeg": "Részösszeg",
                                    "mennyiség": "8410"
                                },
                                {
                                    "(No column name)": "2016-10-01",
                                    "Rész/Végösszeg": "Részösszeg",
                                    "mennyiség": "8122"
                                },
                                {
                                    "(No column name)": "2016-10-02",
                                    "Rész/Végösszeg": "Részösszeg",
                                    "mennyiség": "7206"
                                },
                                {
                                    "(No column name)": "2016-10-03",
                                    "Rész/Végösszeg": "Részösszeg",
                                    "mennyiség": "6357"
                                },
                                {
                                    "(No column name)": "2016-10-04",
                                    "Rész/Végösszeg": "Részösszeg",
                                    "mennyiség": "7203"
                                },
                                {
                                    "(No column name)": "2016-10-05",
                                    "Rész/Végösszeg": "Részösszeg",
                                    "mennyiség": "7856"
                                },
                                {
                                    "(No column name)": "2016-10-06",
                                    "Rész/Végösszeg": "Részösszeg",
                                    "mennyiség": "6682"
                                },
                                {
                                    "(No column name)": "2016-10-07",
                                    "Rész/Végösszeg": "Részösszeg",
                                    "mennyiség": "6607"
                                },
                                {
                                    "(No column name)": "2016-10-08",
                                    "Rész/Végösszeg": "Részösszeg",
                                    "mennyiség": "8515"
                                },
                                {
                                    "(No column name)": "2016-10-09",
                                    "Rész/Végösszeg": "Részösszeg",
                                    "mennyiség": "10396"
                                },
                                {
                                    "(No column name)": "2016-10-10",
                                    "Rész/Végösszeg": "Részösszeg",
                                    "mennyiség": "7117"
                                },
                                {
                                    "(No column name)": "2016-10-11",
                                    "Rész/Végösszeg": "Részösszeg",
                                    "mennyiség": "9192"
                                },
                                {
                                    "(No column name)": "2016-10-12",
                                    "Rész/Végösszeg": "Részösszeg",
                                    "mennyiség": "10889"
                                },
                                {
                                    "(No column name)": "2016-10-13",
                                    "Rész/Végösszeg": "Részösszeg",
                                    "mennyiség": "10192"
                                },
                                {
                                    "(No column name)": "2016-10-14",
                                    "Rész/Végösszeg": "Részösszeg",
                                    "mennyiség": "7397"
                                },
                                {
                                    "(No column name)": "2016-10-15",
                                    "Rész/Végösszeg": "Részösszeg",
                                    "mennyiség": "7459"
                                },
                                {
                                    "(No column name)": "2016-10-16",
                                    "Rész/Végösszeg": "Részösszeg",
                                    "mennyiség": "7198"
                                },
                                {
                                    "(No column name)": "2016-10-17",
                                    "Rész/Végösszeg": "Részösszeg",
                                    "mennyiség": "11045"
                                },
                                {
                                    "(No column name)": "2016-10-18",
                                    "Rész/Végösszeg": "Részösszeg",
                                    "mennyiség": "7033"
                                },
                                {
                                    "(No column name)": "2016-10-19",
                                    "Rész/Végösszeg": "Részösszeg",
                                    "mennyiség": "9307"
                                },
                                {
                                    "(No column name)": "2016-10-20",
                                    "Rész/Végösszeg": "Részösszeg",
                                    "mennyiség": "6856"
                                },
                                {
                                    "(No column name)": "2016-10-21",
                                    "Rész/Végösszeg": "Részösszeg",
                                    "mennyiség": "9403"
                                },
                                {
                                    "(No column name)": "2016-10-22",
                                    "Rész/Végösszeg": "Részösszeg",
                                    "mennyiség": "8356"
                                },
                                {
                                    "(No column name)": "2016-10-23",
                                    "Rész/Végösszeg": "Részösszeg",
                                    "mennyiség": "9634"
                                },
                                {
                                    "(No column name)": "2016-10-24",
                                    "Rész/Végösszeg": "Részösszeg",
                                    "mennyiség": "4888"
                                },
                                {
                                    "(No column name)": "2016-10-25",
                                    "Rész/Végösszeg": "Részösszeg",
                                    "mennyiség": "11978"
                                },
                                {
                                    "(No column name)": "2016-10-26",
                                    "Rész/Végösszeg": "Részösszeg",
                                    "mennyiség": "8070"
                                },
                                {
                                    "(No column name)": "2016-10-27",
                                    "Rész/Végösszeg": "Részösszeg",
                                    "mennyiség": "7617"
                                },
                                {
                                    "(No column name)": "2016-10-28",
                                    "Rész/Végösszeg": "Részösszeg",
                                    "mennyiség": "7766"
                                },
                                {
                                    "(No column name)": "2016-10-29",
                                    "Rész/Végösszeg": "Részösszeg",
                                    "mennyiség": "6854"
                                },
                                {
                                    "(No column name)": "2016-10-30",
                                    "Rész/Végösszeg": "Részösszeg",
                                    "mennyiség": "11718"
                                },
                                {
                                    "(No column name)": "2016-10-31",
                                    "Rész/Végösszeg": "Részösszeg",
                                    "mennyiség": "8714"
                                },
                                {
                                    "(No column name)": "2016-11-01",
                                    "Rész/Végösszeg": "Részösszeg",
                                    "mennyiség": "7238"
                                },
                                {
                                    "(No column name)": "2016-11-02",
                                    "Rész/Végösszeg": "Részösszeg",
                                    "mennyiség": "5472"
                                },
                                {
                                    "(No column name)": "2016-11-03",
                                    "Rész/Végösszeg": "Részösszeg",
                                    "mennyiség": "7739"
                                },
                                {
                                    "(No column name)": "2016-11-04",
                                    "Rész/Végösszeg": "Részösszeg",
                                    "mennyiség": "6667"
                                },
                                {
                                    "(No column name)": "2016-11-05",
                                    "Rész/Végösszeg": "Részösszeg",
                                    "mennyiség": "9157"
                                },
                                {
                                    "(No column name)": "2016-11-06",
                                    "Rész/Végösszeg": "Részösszeg",
                                    "mennyiség": "8517"
                                },
                                {
                                    "(No column name)": "2016-11-07",
                                    "Rész/Végösszeg": "Részösszeg",
                                    "mennyiség": "6691"
                                },
                                {
                                    "(No column name)": "2016-11-08",
                                    "Rész/Végösszeg": "Részösszeg",
                                    "mennyiség": "8431"
                                },
                                {
                                    "(No column name)": "2016-11-09",
                                    "Rész/Végösszeg": "Részösszeg",
                                    "mennyiség": "5911"
                                },
                                {
                                    "(No column name)": "2016-11-10",
                                    "Rész/Végösszeg": "Részösszeg",
                                    "mennyiség": "6795"
                                },
                                {
                                    "(No column name)": "2016-11-11",
                                    "Rész/Végösszeg": "Részösszeg",
                                    "mennyiség": "6940"
                                },
                                {
                                    "(No column name)": "2016-11-12",
                                    "Rész/Végösszeg": "Részösszeg",
                                    "mennyiség": "10959"
                                },
                                {
                                    "(No column name)": "2016-11-13",
                                    "Rész/Végösszeg": "Részösszeg",
                                    "mennyiség": "10751"
                                },
                                {
                                    "(No column name)": "2016-11-14",
                                    "Rész/Végösszeg": "Részösszeg",
                                    "mennyiség": "11881"
                                },
                                {
                                    "(No column name)": "2016-11-15",
                                    "Rész/Végösszeg": "Részösszeg",
                                    "mennyiség": "6736"
                                },
                                {
                                    "(No column name)": "2016-11-16",
                                    "Rész/Végösszeg": "Részösszeg",
                                    "mennyiség": "8969"
                                },
                                {
                                    "(No column name)": "2016-11-17",
                                    "Rész/Végösszeg": "Részösszeg",
                                    "mennyiség": "6852"
                                },
                                {
                                    "(No column name)": "2016-11-18",
                                    "Rész/Végösszeg": "Részösszeg",
                                    "mennyiség": "6770"
                                },
                                {
                                    "(No column name)": "2016-11-19",
                                    "Rész/Végösszeg": "Részösszeg",
                                    "mennyiség": "7451"
                                },
                                {
                                    "(No column name)": "2016-11-20",
                                    "Rész/Végösszeg": "Részösszeg",
                                    "mennyiség": "7946"
                                },
                                {
                                    "(No column name)": "2016-11-21",
                                    "Rész/Végösszeg": "Részösszeg",
                                    "mennyiség": "6727"
                                },
                                {
                                    "(No column name)": "2016-11-22",
                                    "Rész/Végösszeg": "Részösszeg",
                                    "mennyiség": "7801"
                                },
                                {
                                    "(No column name)": "2016-11-23",
                                    "Rész/Végösszeg": "Részösszeg",
                                    "mennyiség": "7435"
                                },
                                {
                                    "(No column name)": "2016-11-24",
                                    "Rész/Végösszeg": "Részösszeg",
                                    "mennyiség": "5981"
                                },
                                {
                                    "(No column name)": "2016-11-25",
                                    "Rész/Végösszeg": "Részösszeg",
                                    "mennyiség": "6915"
                                },
                                {
                                    "(No column name)": "2016-11-26",
                                    "Rész/Végösszeg": "Részösszeg",
                                    "mennyiség": "9216"
                                },
                                {
                                    "(No column name)": "2016-11-27",
                                    "Rész/Végösszeg": "Részösszeg",
                                    "mennyiség": "9893"
                                },
                                {
                                    "(No column name)": "2016-11-28",
                                    "Rész/Végösszeg": "Részösszeg",
                                    "mennyiség": "9770"
                                },
                                {
                                    "(No column name)": "2016-11-29",
                                    "Rész/Végösszeg": "Részösszeg",
                                    "mennyiség": "8722"
                                },
                                {
                                    "(No column name)": "2016-11-30",
                                    "Rész/Végösszeg": "Részösszeg",
                                    "mennyiség": "6419"
                                },
                                {
                                    "(No column name)": "2016-12-01",
                                    "Rész/Végösszeg": "Részösszeg",
                                    "mennyiség": "9940"
                                },
                                {
                                    "(No column name)": "2016-12-02",
                                    "Rész/Végösszeg": "Részösszeg",
                                    "mennyiség": "4748"
                                },
                                {
                                    "(No column name)": "2016-12-03",
                                    "Rész/Végösszeg": "Részösszeg",
                                    "mennyiség": "6745"
                                },
                                {
                                    "(No column name)": "2016-12-04",
                                    "Rész/Végösszeg": "Részösszeg",
                                    "mennyiség": "9959"
                                },
                                {
                                    "(No column name)": "2016-12-05",
                                    "Rész/Végösszeg": "Részösszeg",
                                    "mennyiség": "8225"
                                },
                                {
                                    "(No column name)": "2016-12-06",
                                    "Rész/Végösszeg": "Részösszeg",
                                    "mennyiség": "7762"
                                },
                                {
                                    "(No column name)": "2016-12-07",
                                    "Rész/Végösszeg": "Részösszeg",
                                    "mennyiség": "7380"
                                },
                                {
                                    "(No column name)": "2016-12-08",
                                    "Rész/Végösszeg": "Részösszeg",
                                    "mennyiség": "7200"
                                },
                                {
                                    "(No column name)": "2016-12-09",
                                    "Rész/Végösszeg": "Részösszeg",
                                    "mennyiség": "9724"
                                },
                                {
                                    "(No column name)": "2016-12-10",
                                    "Rész/Végösszeg": "Részösszeg",
                                    "mennyiség": "7083"
                                },
                                {
                                    "(No column name)": "2016-12-11",
                                    "Rész/Végösszeg": "Részösszeg",
                                    "mennyiség": "7576"
                                },
                                {
                                    "(No column name)": "2016-12-12",
                                    "Rész/Végösszeg": "Részösszeg",
                                    "mennyiség": "8580"
                                },
                                {
                                    "(No column name)": "2016-12-13",
                                    "Rész/Végösszeg": "Részösszeg",
                                    "mennyiség": "8233"
                                },
                                {
                                    "(No column name)": "2016-12-14",
                                    "Rész/Végösszeg": "Részösszeg",
                                    "mennyiség": "6268"
                                },
                                {
                                    "(No column name)": "2016-12-15",
                                    "Rész/Végösszeg": "Részösszeg",
                                    "mennyiség": "7392"
                                },
                                {
                                    "(No column name)": "2016-12-16",
                                    "Rész/Végösszeg": "Részösszeg",
                                    "mennyiség": "6407"
                                },
                                {
                                    "(No column name)": "2016-12-17",
                                    "Rész/Végösszeg": "Részösszeg",
                                    "mennyiség": "7555"
                                },
                                {
                                    "(No column name)": "2016-12-18",
                                    "Rész/Végösszeg": "Részösszeg",
                                    "mennyiség": "6070"
                                },
                                {
                                    "(No column name)": "2016-12-19",
                                    "Rész/Végösszeg": "Részösszeg",
                                    "mennyiség": "5390"
                                },
                                {
                                    "(No column name)": "2016-12-20",
                                    "Rész/Végösszeg": "Részösszeg",
                                    "mennyiség": "7735"
                                },
                                {
                                    "(No column name)": "2016-12-21",
                                    "Rész/Végösszeg": "Részösszeg",
                                    "mennyiség": "10434"
                                },
                                {
                                    "(No column name)": "2016-12-22",
                                    "Rész/Végösszeg": "Részösszeg",
                                    "mennyiség": "5465"
                                },
                                {
                                    "(No column name)": "2016-12-23",
                                    "Rész/Végösszeg": "Részösszeg",
                                    "mennyiség": "8338"
                                },
                                {
                                    "(No column name)": "2016-12-24",
                                    "Rész/Végösszeg": "Részösszeg",
                                    "mennyiség": "5916"
                                },
                                {
                                    "(No column name)": "2016-12-25",
                                    "Rész/Végösszeg": "Részösszeg",
                                    "mennyiség": "7345"
                                },
                                {
                                    "(No column name)": "2016-12-26",
                                    "Rész/Végösszeg": "Részösszeg",
                                    "mennyiség": "9875"
                                },
                                {
                                    "(No column name)": "2016-12-27",
                                    "Rész/Végösszeg": "Részösszeg",
                                    "mennyiség": "10216"
                                },
                                {
                                    "(No column name)": "2016-12-28",
                                    "Rész/Végösszeg": "Részösszeg",
                                    "mennyiség": "6222"
                                },
                                {
                                    "(No column name)": "2016-12-29",
                                    "Rész/Végösszeg": "Részösszeg",
                                    "mennyiség": "10046"
                                },
                                {
                                    "(No column name)": "2016-12-30",
                                    "Rész/Végösszeg": "Részösszeg",
                                    "mennyiség": "7113"
                                },
                                {
                                    "(No column name)": "2016-12-31",
                                    "Rész/Végösszeg": "Részösszeg",
                                    "mennyiség": "7188"
                                },
                                {
                                    "(No column name)": "2017-01-01",
                                    "Rész/Végösszeg": "Részösszeg",
                                    "mennyiség": "7200"
                                },
                                {
                                    "(No column name)": "2017-01-02",
                                    "Rész/Végösszeg": "Részösszeg",
                                    "mennyiség": "7425"
                                },
                                {
                                    "(No column name)": "2017-01-03",
                                    "Rész/Végösszeg": "Részösszeg",
                                    "mennyiség": "6783"
                                },
                                {
                                    "(No column name)": "2017-01-04",
                                    "Rész/Végösszeg": "Részösszeg",
                                    "mennyiség": "7465"
                                },
                                {
                                    "(No column name)": "2017-01-05",
                                    "Rész/Végösszeg": "Részösszeg",
                                    "mennyiség": "7591"
                                },
                                {
                                    "(No column name)": "2017-01-06",
                                    "Rész/Végösszeg": "Részösszeg",
                                    "mennyiség": "8298"
                                },
                                {
                                    "(No column name)": "2017-01-07",
                                    "Rész/Végösszeg": "Részösszeg",
                                    "mennyiség": "8976"
                                },
                                {
                                    "(No column name)": "2017-01-08",
                                    "Rész/Végösszeg": "Részösszeg",
                                    "mennyiség": "7179"
                                },
                                {
                                    "(No column name)": "2017-01-09",
                                    "Rész/Végösszeg": "Részösszeg",
                                    "mennyiség": "9465"
                                },
                                {
                                    "(No column name)": "2017-01-10",
                                    "Rész/Végösszeg": "Részösszeg",
                                    "mennyiség": "8667"
                                },
                                {
                                    "(No column name)": "2017-01-11",
                                    "Rész/Végösszeg": "Részösszeg",
                                    "mennyiség": "9472"
                                },
                                {
                                    "(No column name)": "2017-01-12",
                                    "Rész/Végösszeg": "Részösszeg",
                                    "mennyiség": "7636"
                                },
                                {
                                    "(No column name)": "2017-01-13",
                                    "Rész/Végösszeg": "Részösszeg",
                                    "mennyiség": "7538"
                                },
                                {
                                    "(No column name)": "2017-01-14",
                                    "Rész/Végösszeg": "Részösszeg",
                                    "mennyiség": "8920"
                                },
                                {
                                    "(No column name)": "2017-01-15",
                                    "Rész/Végösszeg": "Részösszeg",
                                    "mennyiség": "7611"
                                },
                                {
                                    "(No column name)": "2017-01-16",
                                    "Rész/Végösszeg": "Részösszeg",
                                    "mennyiség": "7369"
                                },
                                {
                                    "(No column name)": "2017-01-17",
                                    "Rész/Végösszeg": "Részösszeg",
                                    "mennyiség": "8658"
                                },
                                {
                                    "(No column name)": "2017-01-18",
                                    "Rész/Végösszeg": "Részösszeg",
                                    "mennyiség": "6558"
                                },
                                {
                                    "(No column name)": "2017-01-19",
                                    "Rész/Végösszeg": "Részösszeg",
                                    "mennyiség": "6422"
                                },
                                {
                                    "(No column name)": "2017-01-20",
                                    "Rész/Végösszeg": "Részösszeg",
                                    "mennyiség": "6450"
                                },
                                {
                                    "(No column name)": "2017-01-21",
                                    "Rész/Végösszeg": "Részösszeg",
                                    "mennyiség": "7150"
                                },
                                {
                                    "(No column name)": "2017-01-22",
                                    "Rész/Végösszeg": "Részösszeg",
                                    "mennyiség": "8199"
                                },
                                {
                                    "(No column name)": "2017-01-23",
                                    "Rész/Végösszeg": "Részösszeg",
                                    "mennyiség": "8394"
                                },
                                {
                                    "(No column name)": "2017-01-24",
                                    "Rész/Végösszeg": "Részösszeg",
                                    "mennyiség": "8615"
                                },
                                {
                                    "(No column name)": "2017-01-25",
                                    "Rész/Végösszeg": "Részösszeg",
                                    "mennyiség": "6484"
                                },
                                {
                                    "(No column name)": "2017-01-26",
                                    "Rész/Végösszeg": "Részösszeg",
                                    "mennyiség": "9426"
                                },
                                {
                                    "(No column name)": "2017-01-27",
                                    "Rész/Végösszeg": "Részösszeg",
                                    "mennyiség": "5418"
                                },
                                {
                                    "(No column name)": "2017-01-28",
                                    "Rész/Végösszeg": "Részösszeg",
                                    "mennyiség": "8401"
                                },
                                {
                                    "(No column name)": "2017-01-29",
                                    "Rész/Végösszeg": "Részösszeg",
                                    "mennyiség": "8997"
                                },
                                {
                                    "(No column name)": "2017-01-30",
                                    "Rész/Végösszeg": "Részösszeg",
                                    "mennyiség": "9661"
                                },
                                {
                                    "(No column name)": "2017-01-31",
                                    "Rész/Végösszeg": "Részösszeg",
                                    "mennyiség": "6253"
                                },
                                {
                                    "(No column name)": "2017-02-01",
                                    "Rész/Végösszeg": "Részösszeg",
                                    "mennyiség": "5703"
                                },
                                {
                                    "(No column name)": "2017-02-02",
                                    "Rész/Végösszeg": "Részösszeg",
                                    "mennyiség": "8746"
                                },
                                {
                                    "(No column name)": "2017-02-03",
                                    "Rész/Végösszeg": "Részösszeg",
                                    "mennyiség": "7840"
                                },
                                {
                                    "(No column name)": "2017-02-04",
                                    "Rész/Végösszeg": "Részösszeg",
                                    "mennyiség": "6220"
                                },
                                {
                                    "(No column name)": "2017-02-05",
                                    "Rész/Végösszeg": "Részösszeg",
                                    "mennyiség": "5138"
                                },
                                {
                                    "(No column name)": "2017-02-06",
                                    "Rész/Végösszeg": "Részösszeg",
                                    "mennyiség": "8206"
                                },
                                {
                                    "(No column name)": "2017-02-07",
                                    "Rész/Végösszeg": "Részösszeg",
                                    "mennyiség": "6846"
                                },
                                {
                                    "(No column name)": "2017-02-08",
                                    "Rész/Végösszeg": "Részösszeg",
                                    "mennyiség": "10057"
                                },
                                {
                                    "(No column name)": "2017-02-09",
                                    "Rész/Végösszeg": "Részösszeg",
                                    "mennyiség": "8302"
                                },
                                {
                                    "(No column name)": "2017-02-10",
                                    "Rész/Végösszeg": "Részösszeg",
                                    "mennyiség": "8964"
                                },
                                {
                                    "(No column name)": "2017-02-11",
                                    "Rész/Végösszeg": "Részösszeg",
                                    "mennyiség": "8790"
                                },
                                {
                                    "(No column name)": "2017-02-12",
                                    "Rész/Végösszeg": "Részösszeg",
                                    "mennyiség": "6268"
                                },
                                {
                                    "(No column name)": "2017-02-13",
                                    "Rész/Végösszeg": "Részösszeg",
                                    "mennyiség": "8176"
                                },
                                {
                                    "(No column name)": "2017-02-14",
                                    "Rész/Végösszeg": "Részösszeg",
                                    "mennyiség": "10029"
                                },
                                {
                                    "(No column name)": "2017-02-15",
                                    "Rész/Végösszeg": "Részösszeg",
                                    "mennyiség": "6443"
                                },
                                {
                                    "(No column name)": "2017-02-16",
                                    "Rész/Végösszeg": "Részösszeg",
                                    "mennyiség": "8794"
                                },
                                {
                                    "(No column name)": "2017-02-17",
                                    "Rész/Végösszeg": "Részösszeg",
                                    "mennyiség": "9808"
                                },
                                {
                                    "(No column name)": "2017-02-18",
                                    "Rész/Végösszeg": "Részösszeg",
                                    "mennyiség": "10757"
                                },
                                {
                                    "(No column name)": "2017-02-19",
                                    "Rész/Végösszeg": "Részösszeg",
                                    "mennyiség": "8284"
                                },
                                {
                                    "(No column name)": "2017-02-20",
                                    "Rész/Végösszeg": "Részösszeg",
                                    "mennyiség": "5660"
                                },
                                {
                                    "(No column name)": "2017-02-21",
                                    "Rész/Végösszeg": "Részösszeg",
                                    "mennyiség": "8878"
                                },
                                {
                                    "(No column name)": "2017-02-22",
                                    "Rész/Végösszeg": "Részösszeg",
                                    "mennyiség": "9034"
                                },
                                {
                                    "(No column name)": "2017-02-23",
                                    "Rész/Végösszeg": "Részösszeg",
                                    "mennyiség": "7574"
                                },
                                {
                                    "(No column name)": "2017-02-24",
                                    "Rész/Végösszeg": "Részösszeg",
                                    "mennyiség": "6814"
                                },
                                {
                                    "(No column name)": "2017-02-25",
                                    "Rész/Végösszeg": "Részösszeg",
                                    "mennyiség": "6820"
                                },
                                {
                                    "(No column name)": "2017-02-26",
                                    "Rész/Végösszeg": "Részösszeg",
                                    "mennyiség": "8578"
                                },
                                {
                                    "(No column name)": "2017-02-27",
                                    "Rész/Végösszeg": "Részösszeg",
                                    "mennyiség": "9185"
                                },
                                {
                                    "(No column name)": "2017-02-28",
                                    "Rész/Végösszeg": "Részösszeg",
                                    "mennyiség": "11649"
                                },
                                {
                                    "(No column name)": "2017-03-01",
                                    "Rész/Végösszeg": "Részösszeg",
                                    "mennyiség": "5037"
                                },
                                {
                                    "(No column name)": "2017-03-02",
                                    "Rész/Végösszeg": "Részösszeg",
                                    "mennyiség": "4861"
                                },
                                {
                                    "(No column name)": "2017-03-03",
                                    "Rész/Végösszeg": "Részösszeg",
                                    "mennyiség": "7585"
                                },
                                {
                                    "(No column name)": "2017-03-04",
                                    "Rész/Végösszeg": "Részösszeg",
                                    "mennyiség": "5977"
                                },
                                {
                                    "(No column name)": "2017-03-05",
                                    "Rész/Végösszeg": "Részösszeg",
                                    "mennyiség": "10338"
                                },
                                {
                                    "(No column name)": "2017-03-06",
                                    "Rész/Végösszeg": "Részösszeg",
                                    "mennyiség": "10916"
                                },
                                {
                                    "(No column name)": "2017-03-07",
                                    "Rész/Végösszeg": "Részösszeg",
                                    "mennyiség": "8747"
                                },
                                {
                                    "(No column name)": "2017-03-08",
                                    "Rész/Végösszeg": "Részösszeg",
                                    "mennyiség": "6837"
                                },
                                {
                                    "(No column name)": "2017-03-09",
                                    "Rész/Végösszeg": "Részösszeg",
                                    "mennyiség": "6964"
                                },
                                {
                                    "(No column name)": "2017-03-10",
                                    "Rész/Végösszeg": "Részösszeg",
                                    "mennyiség": "6846"
                                },
                                {
                                    "(No column name)": "2017-03-11",
                                    "Rész/Végösszeg": "Részösszeg",
                                    "mennyiség": "6885"
                                },
                                {
                                    "(No column name)": "2017-03-12",
                                    "Rész/Végösszeg": "Részösszeg",
                                    "mennyiség": "5941"
                                },
                                {
                                    "(No column name)": "2017-03-13",
                                    "Rész/Végösszeg": "Részösszeg",
                                    "mennyiség": "6950"
                                },
                                {
                                    "(No column name)": "2017-03-14",
                                    "Rész/Végösszeg": "Részösszeg",
                                    "mennyiség": "7224"
                                },
                                {
                                    "(No column name)": "2017-03-15",
                                    "Rész/Végösszeg": "Részösszeg",
                                    "mennyiség": "9718"
                                },
                                {
                                    "(No column name)": "2017-03-16",
                                    "Rész/Végösszeg": "Részösszeg",
                                    "mennyiség": "9763"
                                },
                                {
                                    "(No column name)": "2017-03-17",
                                    "Rész/Végösszeg": "Részösszeg",
                                    "mennyiség": "8908"
                                },
                                {
                                    "(No column name)": "2017-03-18",
                                    "Rész/Végösszeg": "Részösszeg",
                                    "mennyiség": "9344"
                                },
                                {
                                    "(No column name)": "2017-03-19",
                                    "Rész/Végösszeg": "Részösszeg",
                                    "mennyiség": "9937"
                                },
                                {
                                    "(No column name)": "2017-03-20",
                                    "Rész/Végösszeg": "Részösszeg",
                                    "mennyiség": "7683"
                                },
                                {
                                    "(No column name)": "2017-03-21",
                                    "Rész/Végösszeg": "Részösszeg",
                                    "mennyiség": "8639"
                                },
                                {
                                    "(No column name)": "2017-03-22",
                                    "Rész/Végösszeg": "Részösszeg",
                                    "mennyiség": "6526"
                                },
                                {
                                    "(No column name)": "2017-03-23",
                                    "Rész/Végösszeg": "Részösszeg",
                                    "mennyiség": "8799"
                                },
                                {
                                    "(No column name)": "2017-03-24",
                                    "Rész/Végösszeg": "Részösszeg",
                                    "mennyiség": "7416"
                                },
                                {
                                    "(No column name)": "2017-03-25",
                                    "Rész/Végösszeg": "Részösszeg",
                                    "mennyiség": "6272"
                                },
                                {
                                    "(No column name)": "2017-03-26",
                                    "Rész/Végösszeg": "Részösszeg",
                                    "mennyiség": "7786"
                                },
                                {
                                    "(No column name)": "2017-03-27",
                                    "Rész/Végösszeg": "Részösszeg",
                                    "mennyiség": "7715"
                                },
                                {
                                    "(No column name)": "2017-03-28",
                                    "Rész/Végösszeg": "Részösszeg",
                                    "mennyiség": "8568"
                                },
                                {
                                    "(No column name)": "2017-03-29",
                                    "Rész/Végösszeg": "Részösszeg",
                                    "mennyiség": "8346"
                                },
                                {
                                    "(No column name)": "2017-03-30",
                                    "Rész/Végösszeg": "Részösszeg",
                                    "mennyiség": "8513"
                                },
                                {
                                    "(No column name)": "2017-03-31",
                                    "Rész/Végösszeg": "Részösszeg",
                                    "mennyiség": "8598"
                                },
                                {
                                    "(No column name)": "2017-04-01",
                                    "Rész/Végösszeg": "Részösszeg",
                                    "mennyiség": "7307"
                                },
                                {
                                    "(No column name)": "2017-04-02",
                                    "Rész/Végösszeg": "Részösszeg",
                                    "mennyiség": "9477"
                                },
                                {
                                    "(No column name)": "2017-04-03",
                                    "Rész/Végösszeg": "Részösszeg",
                                    "mennyiség": "6042"
                                },
                                {
                                    "(No column name)": "2017-04-04",
                                    "Rész/Végösszeg": "Részösszeg",
                                    "mennyiség": "7493"
                                },
                                {
                                    "(No column name)": "2017-04-05",
                                    "Rész/Végösszeg": "Részösszeg",
                                    "mennyiség": "7562"
                                },
                                {
                                    "(No column name)": "2017-04-06",
                                    "Rész/Végösszeg": "Részösszeg",
                                    "mennyiség": "4646"
                                },
                                {
                                    "(No column name)": "2017-04-07",
                                    "Rész/Végösszeg": "Részösszeg",
                                    "mennyiség": "5197"
                                },
                                {
                                    "(No column name)": "2017-04-08",
                                    "Rész/Végösszeg": "Részösszeg",
                                    "mennyiség": "3057"
                                },
                                {
                                    "(No column name)": "2017-04-09",
                                    "Rész/Végösszeg": "Részösszeg",
                                    "mennyiség": "3870"
                                },
                                {
                                    "(No column name)": "2017-04-10",
                                    "Rész/Végösszeg": "Részösszeg",
                                    "mennyiség": "1640"
                                },
                                {
                                    "(No column name)": "2017-04-11",
                                    "Rész/Végösszeg": "Részösszeg",
                                    "mennyiség": "1220"
                                },
                                {
                                    "(No column name)": "Végösszeg",
                                    "Rész/Végösszeg": "Végösszeg",
                                    "mennyiség": "5578316"
                                }
                            ]
                        },
                        "text/html": [
                            "<table>",
                            "<tr><th>(No column name)</th><th>Rész/Végösszeg</th><th>mennyiség</th></tr>",
                            "<tr><td>2015-05-03</td><td>Részösszeg</td><td>100</td></tr>",
                            "<tr><td>2015-05-04</td><td>Részösszeg</td><td>996</td></tr>",
                            "<tr><td>2015-05-05</td><td>Részösszeg</td><td>3152</td></tr>",
                            "<tr><td>2015-05-06</td><td>Részösszeg</td><td>5030</td></tr>",
                            "<tr><td>2015-05-07</td><td>Részösszeg</td><td>3828</td></tr>",
                            "<tr><td>2015-05-08</td><td>Részösszeg</td><td>3213</td></tr>",
                            "<tr><td>2015-05-09</td><td>Részösszeg</td><td>6665</td></tr>",
                            "<tr><td>2015-05-10</td><td>Részösszeg</td><td>6909</td></tr>",
                            "<tr><td>2015-05-11</td><td>Részösszeg</td><td>6224</td></tr>",
                            "<tr><td>2015-05-12</td><td>Részösszeg</td><td>7568</td></tr>",
                            "<tr><td>2015-05-13</td><td>Részösszeg</td><td>7985</td></tr>",
                            "<tr><td>2015-05-14</td><td>Részösszeg</td><td>9706</td></tr>",
                            "<tr><td>2015-05-15</td><td>Részösszeg</td><td>7400</td></tr>",
                            "<tr><td>2015-05-16</td><td>Részösszeg</td><td>7897</td></tr>",
                            "<tr><td>2015-05-17</td><td>Részösszeg</td><td>4572</td></tr>",
                            "<tr><td>2015-05-18</td><td>Részösszeg</td><td>8190</td></tr>",
                            "<tr><td>2015-05-19</td><td>Részösszeg</td><td>7248</td></tr>",
                            "<tr><td>2015-05-20</td><td>Részösszeg</td><td>9859</td></tr>",
                            "<tr><td>2015-05-21</td><td>Részösszeg</td><td>8041</td></tr>",
                            "<tr><td>2015-05-22</td><td>Részösszeg</td><td>8338</td></tr>",
                            "<tr><td>2015-05-23</td><td>Részösszeg</td><td>5616</td></tr>",
                            "<tr><td>2015-05-24</td><td>Részösszeg</td><td>5001</td></tr>",
                            "<tr><td>2015-05-25</td><td>Részösszeg</td><td>7611</td></tr>",
                            "<tr><td>2015-05-26</td><td>Részösszeg</td><td>7153</td></tr>",
                            "<tr><td>2015-05-27</td><td>Részösszeg</td><td>8300</td></tr>",
                            "<tr><td>2015-05-28</td><td>Részösszeg</td><td>9340</td></tr>",
                            "<tr><td>2015-05-29</td><td>Részösszeg</td><td>10784</td></tr>",
                            "<tr><td>2015-05-30</td><td>Részösszeg</td><td>7763</td></tr>",
                            "<tr><td>2015-05-31</td><td>Részösszeg</td><td>4364</td></tr>",
                            "<tr><td>2015-06-01</td><td>Részösszeg</td><td>6947</td></tr>",
                            "<tr><td>2015-06-02</td><td>Részösszeg</td><td>6241</td></tr>",
                            "<tr><td>2015-06-03</td><td>Részösszeg</td><td>9359</td></tr>",
                            "<tr><td>2015-06-04</td><td>Részösszeg</td><td>8474</td></tr>",
                            "<tr><td>2015-06-05</td><td>Részösszeg</td><td>8961</td></tr>",
                            "<tr><td>2015-06-06</td><td>Részösszeg</td><td>9510</td></tr>",
                            "<tr><td>2015-06-07</td><td>Részösszeg</td><td>7956</td></tr>",
                            "<tr><td>2015-06-08</td><td>Részösszeg</td><td>4277</td></tr>",
                            "<tr><td>2015-06-09</td><td>Részösszeg</td><td>7132</td></tr>",
                            "<tr><td>2015-06-10</td><td>Részösszeg</td><td>9346</td></tr>",
                            "<tr><td>2015-06-11</td><td>Részösszeg</td><td>5191</td></tr>",
                            "<tr><td>2015-06-12</td><td>Részösszeg</td><td>7336</td></tr>",
                            "<tr><td>2015-06-13</td><td>Részösszeg</td><td>7818</td></tr>",
                            "<tr><td>2015-06-14</td><td>Részösszeg</td><td>6484</td></tr>",
                            "<tr><td>2015-06-15</td><td>Részösszeg</td><td>7796</td></tr>",
                            "<tr><td>2015-06-16</td><td>Részösszeg</td><td>4307</td></tr>",
                            "<tr><td>2015-06-17</td><td>Részösszeg</td><td>8645</td></tr>",
                            "<tr><td>2015-06-18</td><td>Részösszeg</td><td>10077</td></tr>",
                            "<tr><td>2015-06-19</td><td>Részösszeg</td><td>5675</td></tr>",
                            "<tr><td>2015-06-20</td><td>Részösszeg</td><td>7859</td></tr>",
                            "<tr><td>2015-06-21</td><td>Részösszeg</td><td>6627</td></tr>",
                            "<tr><td>2015-06-22</td><td>Részösszeg</td><td>9084</td></tr>",
                            "<tr><td>2015-06-23</td><td>Részösszeg</td><td>8869</td></tr>",
                            "<tr><td>2015-06-24</td><td>Részösszeg</td><td>4993</td></tr>",
                            "<tr><td>2015-06-25</td><td>Részösszeg</td><td>8165</td></tr>",
                            "<tr><td>2015-06-26</td><td>Részösszeg</td><td>10834</td></tr>",
                            "<tr><td>2015-06-27</td><td>Részösszeg</td><td>6396</td></tr>",
                            "<tr><td>2015-06-28</td><td>Részösszeg</td><td>6803</td></tr>",
                            "<tr><td>2015-06-29</td><td>Részösszeg</td><td>7435</td></tr>",
                            "<tr><td>2015-06-30</td><td>Részösszeg</td><td>8526</td></tr>",
                            "<tr><td>2015-07-01</td><td>Részösszeg</td><td>6032</td></tr>",
                            "<tr><td>2015-07-02</td><td>Részösszeg</td><td>7066</td></tr>",
                            "<tr><td>2015-07-03</td><td>Részösszeg</td><td>6359</td></tr>",
                            "<tr><td>2015-07-04</td><td>Részösszeg</td><td>8739</td></tr>",
                            "<tr><td>2015-07-05</td><td>Részösszeg</td><td>8558</td></tr>",
                            "<tr><td>2015-07-06</td><td>Részösszeg</td><td>8389</td></tr>",
                            "<tr><td>2015-07-07</td><td>Részösszeg</td><td>9522</td></tr>",
                            "<tr><td>2015-07-08</td><td>Részösszeg</td><td>6395</td></tr>",
                            "<tr><td>2015-07-09</td><td>Részösszeg</td><td>7375</td></tr>",
                            "<tr><td>2015-07-10</td><td>Részösszeg</td><td>7676</td></tr>",
                            "<tr><td>2015-07-11</td><td>Részösszeg</td><td>7366</td></tr>",
                            "<tr><td>2015-07-12</td><td>Részösszeg</td><td>8638</td></tr>",
                            "<tr><td>2015-07-13</td><td>Részösszeg</td><td>8300</td></tr>",
                            "<tr><td>2015-07-14</td><td>Részösszeg</td><td>6340</td></tr>",
                            "<tr><td>2015-07-15</td><td>Részösszeg</td><td>8615</td></tr>",
                            "<tr><td>2015-07-16</td><td>Részösszeg</td><td>7041</td></tr>",
                            "<tr><td>2015-07-17</td><td>Részösszeg</td><td>7327</td></tr>",
                            "<tr><td>2015-07-18</td><td>Részösszeg</td><td>6762</td></tr>",
                            "<tr><td>2015-07-19</td><td>Részösszeg</td><td>6776</td></tr>",
                            "<tr><td>2015-07-20</td><td>Részösszeg</td><td>9748</td></tr>",
                            "<tr><td>2015-07-21</td><td>Részösszeg</td><td>9805</td></tr>",
                            "<tr><td>2015-07-22</td><td>Részösszeg</td><td>5140</td></tr>",
                            "<tr><td>2015-07-23</td><td>Részösszeg</td><td>7258</td></tr>",
                            "<tr><td>2015-07-24</td><td>Részösszeg</td><td>8697</td></tr>",
                            "<tr><td>2015-07-25</td><td>Részösszeg</td><td>8180</td></tr>",
                            "<tr><td>2015-07-26</td><td>Részösszeg</td><td>9323</td></tr>",
                            "<tr><td>2015-07-27</td><td>Részösszeg</td><td>5417</td></tr>",
                            "<tr><td>2015-07-28</td><td>Részösszeg</td><td>7825</td></tr>",
                            "<tr><td>2015-07-29</td><td>Részösszeg</td><td>6405</td></tr>",
                            "<tr><td>2015-07-30</td><td>Részösszeg</td><td>10029</td></tr>",
                            "<tr><td>2015-07-31</td><td>Részösszeg</td><td>8673</td></tr>",
                            "<tr><td>2015-08-01</td><td>Részösszeg</td><td>9957</td></tr>",
                            "<tr><td>2015-08-02</td><td>Részösszeg</td><td>7599</td></tr>",
                            "<tr><td>2015-08-03</td><td>Részösszeg</td><td>9208</td></tr>",
                            "<tr><td>2015-08-04</td><td>Részösszeg</td><td>9353</td></tr>",
                            "<tr><td>2015-08-05</td><td>Részösszeg</td><td>10342</td></tr>",
                            "<tr><td>2015-08-06</td><td>Részösszeg</td><td>5124</td></tr>",
                            "<tr><td>2015-08-07</td><td>Részösszeg</td><td>8960</td></tr>",
                            "<tr><td>2015-08-08</td><td>Részösszeg</td><td>10296</td></tr>",
                            "<tr><td>2015-08-09</td><td>Részösszeg</td><td>6026</td></tr>",
                            "<tr><td>2015-08-10</td><td>Részösszeg</td><td>7896</td></tr>",
                            "<tr><td>2015-08-11</td><td>Részösszeg</td><td>9008</td></tr>",
                            "<tr><td>2015-08-12</td><td>Részösszeg</td><td>7605</td></tr>",
                            "<tr><td>2015-08-13</td><td>Részösszeg</td><td>9380</td></tr>",
                            "<tr><td>2015-08-14</td><td>Részösszeg</td><td>9780</td></tr>",
                            "<tr><td>2015-08-15</td><td>Részösszeg</td><td>7514</td></tr>",
                            "<tr><td>2015-08-16</td><td>Részösszeg</td><td>5341</td></tr>",
                            "<tr><td>2015-08-17</td><td>Részösszeg</td><td>7162</td></tr>",
                            "<tr><td>2015-08-18</td><td>Részösszeg</td><td>6271</td></tr>",
                            "<tr><td>2015-08-19</td><td>Részösszeg</td><td>6650</td></tr>",
                            "<tr><td>2015-08-20</td><td>Részösszeg</td><td>9005</td></tr>",
                            "<tr><td>2015-08-21</td><td>Részösszeg</td><td>6874</td></tr>",
                            "<tr><td>2015-08-22</td><td>Részösszeg</td><td>10138</td></tr>",
                            "<tr><td>2015-08-23</td><td>Részösszeg</td><td>6734</td></tr>",
                            "<tr><td>2015-08-24</td><td>Részösszeg</td><td>7767</td></tr>",
                            "<tr><td>2015-08-25</td><td>Részösszeg</td><td>9206</td></tr>",
                            "<tr><td>2015-08-26</td><td>Részösszeg</td><td>11006</td></tr>",
                            "<tr><td>2015-08-27</td><td>Részösszeg</td><td>6244</td></tr>",
                            "<tr><td>2015-08-28</td><td>Részösszeg</td><td>8145</td></tr>",
                            "<tr><td>2015-08-29</td><td>Részösszeg</td><td>7380</td></tr>",
                            "<tr><td>2015-08-30</td><td>Részösszeg</td><td>9727</td></tr>",
                            "<tr><td>2015-08-31</td><td>Részösszeg</td><td>7226</td></tr>",
                            "<tr><td>2015-09-01</td><td>Részösszeg</td><td>9466</td></tr>",
                            "<tr><td>2015-09-02</td><td>Részösszeg</td><td>6179</td></tr>",
                            "<tr><td>2015-09-03</td><td>Részösszeg</td><td>9949</td></tr>",
                            "<tr><td>2015-09-04</td><td>Részösszeg</td><td>10432</td></tr>",
                            "<tr><td>2015-09-05</td><td>Részösszeg</td><td>7083</td></tr>",
                            "<tr><td>2015-09-06</td><td>Részösszeg</td><td>8378</td></tr>",
                            "<tr><td>2015-09-07</td><td>Részösszeg</td><td>8303</td></tr>",
                            "<tr><td>2015-09-08</td><td>Részösszeg</td><td>8349</td></tr>",
                            "<tr><td>2015-09-09</td><td>Részösszeg</td><td>7985</td></tr>",
                            "<tr><td>2015-09-10</td><td>Részösszeg</td><td>10353</td></tr>",
                            "<tr><td>2015-09-11</td><td>Részösszeg</td><td>9284</td></tr>",
                            "<tr><td>2015-09-12</td><td>Részösszeg</td><td>8553</td></tr>",
                            "<tr><td>2015-09-13</td><td>Részösszeg</td><td>7435</td></tr>",
                            "<tr><td>2015-09-14</td><td>Részösszeg</td><td>8232</td></tr>",
                            "<tr><td>2015-09-15</td><td>Részösszeg</td><td>4776</td></tr>",
                            "<tr><td>2015-09-16</td><td>Részösszeg</td><td>7416</td></tr>",
                            "<tr><td>2015-09-17</td><td>Részösszeg</td><td>8358</td></tr>",
                            "<tr><td>2015-09-18</td><td>Részösszeg</td><td>7210</td></tr>",
                            "<tr><td>2015-09-19</td><td>Részösszeg</td><td>8267</td></tr>",
                            "<tr><td>2015-09-20</td><td>Részösszeg</td><td>10001</td></tr>",
                            "<tr><td>2015-09-21</td><td>Részösszeg</td><td>7086</td></tr>",
                            "<tr><td>2015-09-22</td><td>Részösszeg</td><td>7424</td></tr>",
                            "<tr><td>2015-09-23</td><td>Részösszeg</td><td>8183</td></tr>",
                            "<tr><td>2015-09-24</td><td>Részösszeg</td><td>10252</td></tr>",
                            "<tr><td>2015-09-25</td><td>Részösszeg</td><td>8106</td></tr>",
                            "<tr><td>2015-09-26</td><td>Részösszeg</td><td>9451</td></tr>",
                            "<tr><td>2015-09-27</td><td>Részösszeg</td><td>8692</td></tr>",
                            "<tr><td>2015-09-28</td><td>Részösszeg</td><td>10281</td></tr>",
                            "<tr><td>2015-09-29</td><td>Részösszeg</td><td>9481</td></tr>",
                            "<tr><td>2015-09-30</td><td>Részösszeg</td><td>5900</td></tr>",
                            "<tr><td>2015-10-01</td><td>Részösszeg</td><td>9384</td></tr>",
                            "<tr><td>2015-10-02</td><td>Részösszeg</td><td>5674</td></tr>",
                            "<tr><td>2015-10-03</td><td>Részösszeg</td><td>8509</td></tr>",
                            "<tr><td>2015-10-04</td><td>Részösszeg</td><td>7645</td></tr>",
                            "<tr><td>2015-10-05</td><td>Részösszeg</td><td>8535</td></tr>",
                            "<tr><td>2015-10-06</td><td>Részösszeg</td><td>7529</td></tr>",
                            "<tr><td>2015-10-07</td><td>Részösszeg</td><td>9435</td></tr>",
                            "<tr><td>2015-10-08</td><td>Részösszeg</td><td>7319</td></tr>",
                            "<tr><td>2015-10-09</td><td>Részösszeg</td><td>8931</td></tr>",
                            "<tr><td>2015-10-10</td><td>Részösszeg</td><td>7928</td></tr>",
                            "<tr><td>2015-10-11</td><td>Részösszeg</td><td>7516</td></tr>",
                            "<tr><td>2015-10-12</td><td>Részösszeg</td><td>9355</td></tr>",
                            "<tr><td>2015-10-13</td><td>Részösszeg</td><td>6564</td></tr>",
                            "<tr><td>2015-10-14</td><td>Részösszeg</td><td>7035</td></tr>",
                            "<tr><td>2015-10-15</td><td>Részösszeg</td><td>9269</td></tr>",
                            "<tr><td>2015-10-16</td><td>Részösszeg</td><td>8427</td></tr>",
                            "<tr><td>2015-10-17</td><td>Részösszeg</td><td>6936</td></tr>",
                            "<tr><td>2015-10-18</td><td>Részösszeg</td><td>8671</td></tr>",
                            "<tr><td>2015-10-19</td><td>Részösszeg</td><td>7207</td></tr>",
                            "<tr><td>2015-10-20</td><td>Részösszeg</td><td>8613</td></tr>",
                            "<tr><td>2015-10-21</td><td>Részösszeg</td><td>7366</td></tr>",
                            "<tr><td>2015-10-22</td><td>Részösszeg</td><td>6678</td></tr>",
                            "<tr><td>2015-10-23</td><td>Részösszeg</td><td>8056</td></tr>",
                            "<tr><td>2015-10-24</td><td>Részösszeg</td><td>7233</td></tr>",
                            "<tr><td>2015-10-25</td><td>Részösszeg</td><td>9107</td></tr>",
                            "<tr><td>2015-10-26</td><td>Részösszeg</td><td>9776</td></tr>",
                            "<tr><td>2015-10-27</td><td>Részösszeg</td><td>7669</td></tr>",
                            "<tr><td>2015-10-28</td><td>Részösszeg</td><td>7522</td></tr>",
                            "<tr><td>2015-10-29</td><td>Részösszeg</td><td>6971</td></tr>",
                            "<tr><td>2015-10-30</td><td>Részösszeg</td><td>8999</td></tr>",
                            "<tr><td>2015-10-31</td><td>Részösszeg</td><td>7046</td></tr>",
                            "<tr><td>2015-11-01</td><td>Részösszeg</td><td>6171</td></tr>",
                            "<tr><td>2015-11-02</td><td>Részösszeg</td><td>7612</td></tr>",
                            "<tr><td>2015-11-03</td><td>Részösszeg</td><td>11533</td></tr>",
                            "<tr><td>2015-11-04</td><td>Részösszeg</td><td>5352</td></tr>",
                            "<tr><td>2015-11-05</td><td>Részösszeg</td><td>7183</td></tr>",
                            "<tr><td>2015-11-06</td><td>Részösszeg</td><td>8606</td></tr>",
                            "<tr><td>2015-11-07</td><td>Részösszeg</td><td>7260</td></tr>",
                            "<tr><td>2015-11-08</td><td>Részösszeg</td><td>8177</td></tr>",
                            "<tr><td>2015-11-09</td><td>Részösszeg</td><td>8431</td></tr>",
                            "<tr><td>2015-11-10</td><td>Részösszeg</td><td>8329</td></tr>",
                            "<tr><td>2015-11-11</td><td>Részösszeg</td><td>8191</td></tr>",
                            "<tr><td>2015-11-12</td><td>Részösszeg</td><td>5884</td></tr>",
                            "<tr><td>2015-11-13</td><td>Részösszeg</td><td>7359</td></tr>",
                            "<tr><td>2015-11-14</td><td>Részösszeg</td><td>7730</td></tr>",
                            "<tr><td>2015-11-15</td><td>Részösszeg</td><td>6881</td></tr>",
                            "<tr><td>2015-11-16</td><td>Részösszeg</td><td>7721</td></tr>",
                            "<tr><td>2015-11-17</td><td>Részösszeg</td><td>7234</td></tr>",
                            "<tr><td>2015-11-18</td><td>Részösszeg</td><td>8321</td></tr>",
                            "<tr><td>2015-11-19</td><td>Részösszeg</td><td>7582</td></tr>",
                            "<tr><td>2015-11-20</td><td>Részösszeg</td><td>6288</td></tr>",
                            "<tr><td>2015-11-21</td><td>Részösszeg</td><td>6657</td></tr>",
                            "<tr><td>2015-11-22</td><td>Részösszeg</td><td>8640</td></tr>",
                            "<tr><td>2015-11-23</td><td>Részösszeg</td><td>7363</td></tr>",
                            "<tr><td>2015-11-24</td><td>Részösszeg</td><td>7556</td></tr>",
                            "<tr><td>2015-11-25</td><td>Részösszeg</td><td>7103</td></tr>",
                            "<tr><td>2015-11-26</td><td>Részösszeg</td><td>8368</td></tr>",
                            "<tr><td>2015-11-27</td><td>Részösszeg</td><td>6865</td></tr>",
                            "<tr><td>2015-11-28</td><td>Részösszeg</td><td>10098</td></tr>",
                            "<tr><td>2015-11-29</td><td>Részösszeg</td><td>7636</td></tr>",
                            "<tr><td>2015-11-30</td><td>Részösszeg</td><td>7182</td></tr>",
                            "<tr><td>2015-12-01</td><td>Részösszeg</td><td>7314</td></tr>",
                            "<tr><td>2015-12-02</td><td>Részösszeg</td><td>9592</td></tr>",
                            "<tr><td>2015-12-03</td><td>Részösszeg</td><td>8829</td></tr>",
                            "<tr><td>2015-12-04</td><td>Részösszeg</td><td>8013</td></tr>",
                            "<tr><td>2015-12-05</td><td>Részösszeg</td><td>8887</td></tr>",
                            "<tr><td>2015-12-06</td><td>Részösszeg</td><td>5596</td></tr>",
                            "<tr><td>2015-12-07</td><td>Részösszeg</td><td>8825</td></tr>",
                            "<tr><td>2015-12-08</td><td>Részösszeg</td><td>7819</td></tr>",
                            "<tr><td>2015-12-09</td><td>Részösszeg</td><td>7897</td></tr>",
                            "<tr><td>2015-12-10</td><td>Részösszeg</td><td>9644</td></tr>",
                            "<tr><td>2015-12-11</td><td>Részösszeg</td><td>8093</td></tr>",
                            "<tr><td>2015-12-12</td><td>Részösszeg</td><td>8957</td></tr>",
                            "<tr><td>2015-12-13</td><td>Részösszeg</td><td>7399</td></tr>",
                            "<tr><td>2015-12-14</td><td>Részösszeg</td><td>7676</td></tr>",
                            "<tr><td>2015-12-15</td><td>Részösszeg</td><td>6863</td></tr>",
                            "<tr><td>2015-12-16</td><td>Részösszeg</td><td>7886</td></tr>",
                            "<tr><td>2015-12-17</td><td>Részösszeg</td><td>6894</td></tr>",
                            "<tr><td>2015-12-18</td><td>Részösszeg</td><td>12260</td></tr>",
                            "<tr><td>2015-12-19</td><td>Részösszeg</td><td>5788</td></tr>",
                            "<tr><td>2015-12-20</td><td>Részösszeg</td><td>8699</td></tr>",
                            "<tr><td>2015-12-21</td><td>Részösszeg</td><td>6630</td></tr>",
                            "<tr><td>2015-12-22</td><td>Részösszeg</td><td>9212</td></tr>",
                            "<tr><td>2015-12-23</td><td>Részösszeg</td><td>6676</td></tr>",
                            "<tr><td>2015-12-24</td><td>Részösszeg</td><td>8869</td></tr>",
                            "<tr><td>2015-12-25</td><td>Részösszeg</td><td>6944</td></tr>",
                            "<tr><td>2015-12-26</td><td>Részösszeg</td><td>8921</td></tr>",
                            "<tr><td>2015-12-27</td><td>Részösszeg</td><td>7648</td></tr>",
                            "<tr><td>2015-12-28</td><td>Részösszeg</td><td>8042</td></tr>",
                            "<tr><td>2015-12-29</td><td>Részösszeg</td><td>7923</td></tr>",
                            "<tr><td>2015-12-30</td><td>Részösszeg</td><td>6562</td></tr>",
                            "<tr><td>2015-12-31</td><td>Részösszeg</td><td>7021</td></tr>",
                            "<tr><td>2016-01-01</td><td>Részösszeg</td><td>8837</td></tr>",
                            "<tr><td>2016-01-02</td><td>Részösszeg</td><td>7518</td></tr>",
                            "<tr><td>2016-01-03</td><td>Részösszeg</td><td>8422</td></tr>",
                            "<tr><td>2016-01-04</td><td>Részösszeg</td><td>8813</td></tr>",
                            "<tr><td>2016-01-05</td><td>Részösszeg</td><td>6895</td></tr>",
                            "<tr><td>2016-01-06</td><td>Részösszeg</td><td>6716</td></tr>",
                            "<tr><td>2016-01-07</td><td>Részösszeg</td><td>5593</td></tr>",
                            "<tr><td>2016-01-08</td><td>Részösszeg</td><td>9534</td></tr>",
                            "<tr><td>2016-01-09</td><td>Részösszeg</td><td>7056</td></tr>",
                            "<tr><td>2016-01-10</td><td>Részösszeg</td><td>8057</td></tr>",
                            "<tr><td>2016-01-11</td><td>Részösszeg</td><td>6734</td></tr>",
                            "<tr><td>2016-01-12</td><td>Részösszeg</td><td>6949</td></tr>",
                            "<tr><td>2016-01-13</td><td>Részösszeg</td><td>7487</td></tr>",
                            "<tr><td>2016-01-14</td><td>Részösszeg</td><td>8998</td></tr>",
                            "<tr><td>2016-01-15</td><td>Részösszeg</td><td>9345</td></tr>",
                            "<tr><td>2016-01-16</td><td>Részösszeg</td><td>8068</td></tr>",
                            "<tr><td>2016-01-17</td><td>Részösszeg</td><td>6954</td></tr>",
                            "<tr><td>2016-01-18</td><td>Részösszeg</td><td>4416</td></tr>",
                            "<tr><td>2016-01-19</td><td>Részösszeg</td><td>7124</td></tr>",
                            "<tr><td>2016-01-20</td><td>Részösszeg</td><td>8568</td></tr>",
                            "<tr><td>2016-01-21</td><td>Részösszeg</td><td>10953</td></tr>",
                            "<tr><td>2016-01-22</td><td>Részösszeg</td><td>8588</td></tr>",
                            "<tr><td>2016-01-23</td><td>Részösszeg</td><td>6512</td></tr>",
                            "<tr><td>2016-01-24</td><td>Részösszeg</td><td>8898</td></tr>",
                            "<tr><td>2016-01-25</td><td>Részösszeg</td><td>5191</td></tr>",
                            "<tr><td>2016-01-26</td><td>Részösszeg</td><td>5293</td></tr>",
                            "<tr><td>2016-01-27</td><td>Részösszeg</td><td>6513</td></tr>",
                            "<tr><td>2016-01-28</td><td>Részösszeg</td><td>8119</td></tr>",
                            "<tr><td>2016-01-29</td><td>Részösszeg</td><td>6658</td></tr>",
                            "<tr><td>2016-01-30</td><td>Részösszeg</td><td>8727</td></tr>",
                            "<tr><td>2016-01-31</td><td>Részösszeg</td><td>7527</td></tr>",
                            "<tr><td>2016-02-01</td><td>Részösszeg</td><td>9120</td></tr>",
                            "<tr><td>2016-02-02</td><td>Részösszeg</td><td>8088</td></tr>",
                            "<tr><td>2016-02-03</td><td>Részösszeg</td><td>9306</td></tr>",
                            "<tr><td>2016-02-04</td><td>Részösszeg</td><td>7994</td></tr>",
                            "<tr><td>2016-02-05</td><td>Részösszeg</td><td>9703</td></tr>",
                            "<tr><td>2016-02-06</td><td>Részösszeg</td><td>9860</td></tr>",
                            "<tr><td>2016-02-07</td><td>Részösszeg</td><td>6630</td></tr>",
                            "<tr><td>2016-02-08</td><td>Részösszeg</td><td>10093</td></tr>",
                            "<tr><td>2016-02-09</td><td>Részösszeg</td><td>9706</td></tr>",
                            "<tr><td>2016-02-10</td><td>Részösszeg</td><td>8520</td></tr>",
                            "<tr><td>2016-02-11</td><td>Részösszeg</td><td>7094</td></tr>",
                            "<tr><td>2016-02-12</td><td>Részösszeg</td><td>7789</td></tr>",
                            "<tr><td>2016-02-13</td><td>Részösszeg</td><td>7991</td></tr>",
                            "<tr><td>2016-02-14</td><td>Részösszeg</td><td>8049</td></tr>",
                            "<tr><td>2016-02-15</td><td>Részösszeg</td><td>10033</td></tr>",
                            "<tr><td>2016-02-16</td><td>Részösszeg</td><td>8049</td></tr>",
                            "<tr><td>2016-02-17</td><td>Részösszeg</td><td>9586</td></tr>",
                            "<tr><td>2016-02-18</td><td>Részösszeg</td><td>5922</td></tr>",
                            "<tr><td>2016-02-19</td><td>Részösszeg</td><td>8898</td></tr>",
                            "<tr><td>2016-02-20</td><td>Részösszeg</td><td>7549</td></tr>",
                            "<tr><td>2016-02-21</td><td>Részösszeg</td><td>6531</td></tr>",
                            "<tr><td>2016-02-22</td><td>Részösszeg</td><td>8724</td></tr>",
                            "<tr><td>2016-02-23</td><td>Részösszeg</td><td>6959</td></tr>",
                            "<tr><td>2016-02-24</td><td>Részösszeg</td><td>6314</td></tr>",
                            "<tr><td>2016-02-25</td><td>Részösszeg</td><td>7324</td></tr>",
                            "<tr><td>2016-02-26</td><td>Részösszeg</td><td>8466</td></tr>",
                            "<tr><td>2016-02-27</td><td>Részösszeg</td><td>7122</td></tr>",
                            "<tr><td>2016-02-28</td><td>Részösszeg</td><td>8447</td></tr>",
                            "<tr><td>2016-02-29</td><td>Részösszeg</td><td>8516</td></tr>",
                            "<tr><td>2016-03-01</td><td>Részösszeg</td><td>9654</td></tr>",
                            "<tr><td>2016-03-02</td><td>Részösszeg</td><td>7282</td></tr>",
                            "<tr><td>2016-03-03</td><td>Részösszeg</td><td>8853</td></tr>",
                            "<tr><td>2016-03-04</td><td>Részösszeg</td><td>8549</td></tr>",
                            "<tr><td>2016-03-05</td><td>Részösszeg</td><td>9463</td></tr>",
                            "<tr><td>2016-03-06</td><td>Részösszeg</td><td>7740</td></tr>",
                            "<tr><td>2016-03-07</td><td>Részösszeg</td><td>7680</td></tr>",
                            "<tr><td>2016-03-08</td><td>Részösszeg</td><td>5849</td></tr>",
                            "<tr><td>2016-03-09</td><td>Részösszeg</td><td>9412</td></tr>",
                            "<tr><td>2016-03-10</td><td>Részösszeg</td><td>8848</td></tr>",
                            "<tr><td>2016-03-11</td><td>Részösszeg</td><td>6193</td></tr>",
                            "<tr><td>2016-03-12</td><td>Részösszeg</td><td>10487</td></tr>",
                            "<tr><td>2016-03-13</td><td>Részösszeg</td><td>5913</td></tr>",
                            "<tr><td>2016-03-14</td><td>Részösszeg</td><td>9336</td></tr>",
                            "<tr><td>2016-03-15</td><td>Részösszeg</td><td>8180</td></tr>",
                            "<tr><td>2016-03-16</td><td>Részösszeg</td><td>7448</td></tr>",
                            "<tr><td>2016-03-17</td><td>Részösszeg</td><td>7770</td></tr>",
                            "<tr><td>2016-03-18</td><td>Részösszeg</td><td>6927</td></tr>",
                            "<tr><td>2016-03-19</td><td>Részösszeg</td><td>7827</td></tr>",
                            "<tr><td>2016-03-20</td><td>Részösszeg</td><td>12190</td></tr>",
                            "<tr><td>2016-03-21</td><td>Részösszeg</td><td>11075</td></tr>",
                            "<tr><td>2016-03-22</td><td>Részösszeg</td><td>7770</td></tr>",
                            "<tr><td>2016-03-23</td><td>Részösszeg</td><td>6397</td></tr>",
                            "<tr><td>2016-03-24</td><td>Részösszeg</td><td>7220</td></tr>",
                            "<tr><td>2016-03-25</td><td>Részösszeg</td><td>8763</td></tr>",
                            "<tr><td>2016-03-26</td><td>Részösszeg</td><td>9893</td></tr>",
                            "<tr><td>2016-03-27</td><td>Részösszeg</td><td>8950</td></tr>",
                            "<tr><td>2016-03-28</td><td>Részösszeg</td><td>7552</td></tr>",
                            "<tr><td>2016-03-29</td><td>Részösszeg</td><td>7416</td></tr>",
                            "<tr><td>2016-03-30</td><td>Részösszeg</td><td>8631</td></tr>",
                            "<tr><td>2016-03-31</td><td>Részösszeg</td><td>6885</td></tr>",
                            "<tr><td>2016-04-01</td><td>Részösszeg</td><td>8756</td></tr>",
                            "<tr><td>2016-04-02</td><td>Részösszeg</td><td>8073</td></tr>",
                            "<tr><td>2016-04-03</td><td>Részösszeg</td><td>5897</td></tr>",
                            "<tr><td>2016-04-04</td><td>Részösszeg</td><td>7405</td></tr>",
                            "<tr><td>2016-04-05</td><td>Részösszeg</td><td>8092</td></tr>",
                            "<tr><td>2016-04-06</td><td>Részösszeg</td><td>7458</td></tr>",
                            "<tr><td>2016-04-07</td><td>Részösszeg</td><td>9216</td></tr>",
                            "<tr><td>2016-04-08</td><td>Részösszeg</td><td>10889</td></tr>",
                            "<tr><td>2016-04-09</td><td>Részösszeg</td><td>9754</td></tr>",
                            "<tr><td>2016-04-10</td><td>Részösszeg</td><td>9878</td></tr>",
                            "<tr><td>2016-04-11</td><td>Részösszeg</td><td>8948</td></tr>",
                            "<tr><td>2016-04-12</td><td>Részösszeg</td><td>7144</td></tr>",
                            "<tr><td>2016-04-13</td><td>Részösszeg</td><td>7728</td></tr>",
                            "<tr><td>2016-04-14</td><td>Részösszeg</td><td>8805</td></tr>",
                            "<tr><td>2016-04-15</td><td>Részösszeg</td><td>8331</td></tr>",
                            "<tr><td>2016-04-16</td><td>Részösszeg</td><td>8755</td></tr>",
                            "<tr><td>2016-04-17</td><td>Részösszeg</td><td>10267</td></tr>",
                            "<tr><td>2016-04-18</td><td>Részösszeg</td><td>7586</td></tr>",
                            "<tr><td>2016-04-19</td><td>Részösszeg</td><td>9190</td></tr>",
                            "<tr><td>2016-04-20</td><td>Részösszeg</td><td>6584</td></tr>",
                            "<tr><td>2016-04-21</td><td>Részösszeg</td><td>6628</td></tr>",
                            "<tr><td>2016-04-22</td><td>Részösszeg</td><td>6502</td></tr>",
                            "<tr><td>2016-04-23</td><td>Részösszeg</td><td>6588</td></tr>",
                            "<tr><td>2016-04-24</td><td>Részösszeg</td><td>9512</td></tr>",
                            "<tr><td>2016-04-25</td><td>Részösszeg</td><td>10177</td></tr>",
                            "<tr><td>2016-04-26</td><td>Részösszeg</td><td>7946</td></tr>",
                            "<tr><td>2016-04-27</td><td>Részösszeg</td><td>8344</td></tr>",
                            "<tr><td>2016-04-28</td><td>Részösszeg</td><td>7732</td></tr>",
                            "<tr><td>2016-04-29</td><td>Részösszeg</td><td>7870</td></tr>",
                            "<tr><td>2016-04-30</td><td>Részösszeg</td><td>7898</td></tr>",
                            "<tr><td>2016-05-01</td><td>Részösszeg</td><td>6600</td></tr>",
                            "<tr><td>2016-05-02</td><td>Részösszeg</td><td>8142</td></tr>",
                            "<tr><td>2016-05-03</td><td>Részösszeg</td><td>5084</td></tr>",
                            "<tr><td>2016-05-04</td><td>Részösszeg</td><td>9125</td></tr>",
                            "<tr><td>2016-05-05</td><td>Részösszeg</td><td>7845</td></tr>",
                            "<tr><td>2016-05-06</td><td>Részösszeg</td><td>7969</td></tr>",
                            "<tr><td>2016-05-07</td><td>Részösszeg</td><td>8896</td></tr>",
                            "<tr><td>2016-05-08</td><td>Részösszeg</td><td>7858</td></tr>",
                            "<tr><td>2016-05-09</td><td>Részösszeg</td><td>11178</td></tr>",
                            "<tr><td>2016-05-10</td><td>Részösszeg</td><td>8968</td></tr>",
                            "<tr><td>2016-05-11</td><td>Részösszeg</td><td>8132</td></tr>",
                            "<tr><td>2016-05-12</td><td>Részösszeg</td><td>8095</td></tr>",
                            "<tr><td>2016-05-13</td><td>Részösszeg</td><td>8089</td></tr>",
                            "<tr><td>2016-05-14</td><td>Részösszeg</td><td>7722</td></tr>",
                            "<tr><td>2016-05-15</td><td>Részösszeg</td><td>5490</td></tr>",
                            "<tr><td>2016-05-16</td><td>Részösszeg</td><td>7944</td></tr>",
                            "<tr><td>2016-05-17</td><td>Részösszeg</td><td>8888</td></tr>",
                            "<tr><td>2016-05-18</td><td>Részösszeg</td><td>5720</td></tr>",
                            "<tr><td>2016-05-19</td><td>Részösszeg</td><td>7578</td></tr>",
                            "<tr><td>2016-05-20</td><td>Részösszeg</td><td>8879</td></tr>",
                            "<tr><td>2016-05-21</td><td>Részösszeg</td><td>9030</td></tr>",
                            "<tr><td>2016-05-22</td><td>Részösszeg</td><td>4914</td></tr>",
                            "<tr><td>2016-05-23</td><td>Részösszeg</td><td>8577</td></tr>",
                            "<tr><td>2016-05-24</td><td>Részösszeg</td><td>8816</td></tr>",
                            "<tr><td>2016-05-25</td><td>Részösszeg</td><td>9296</td></tr>",
                            "<tr><td>2016-05-26</td><td>Részösszeg</td><td>5287</td></tr>",
                            "<tr><td>2016-05-27</td><td>Részösszeg</td><td>9701</td></tr>",
                            "<tr><td>2016-05-28</td><td>Részösszeg</td><td>6509</td></tr>",
                            "<tr><td>2016-05-29</td><td>Részösszeg</td><td>9450</td></tr>",
                            "<tr><td>2016-05-30</td><td>Részösszeg</td><td>6884</td></tr>",
                            "<tr><td>2016-05-31</td><td>Részösszeg</td><td>10007</td></tr>",
                            "<tr><td>2016-06-01</td><td>Részösszeg</td><td>8484</td></tr>",
                            "<tr><td>2016-06-02</td><td>Részösszeg</td><td>6928</td></tr>",
                            "<tr><td>2016-06-03</td><td>Részösszeg</td><td>6567</td></tr>",
                            "<tr><td>2016-06-04</td><td>Részösszeg</td><td>7904</td></tr>",
                            "<tr><td>2016-06-05</td><td>Részösszeg</td><td>5802</td></tr>",
                            "<tr><td>2016-06-06</td><td>Részösszeg</td><td>9474</td></tr>",
                            "<tr><td>2016-06-07</td><td>Részösszeg</td><td>8722</td></tr>",
                            "<tr><td>2016-06-08</td><td>Részösszeg</td><td>7019</td></tr>",
                            "<tr><td>2016-06-09</td><td>Részösszeg</td><td>7354</td></tr>",
                            "<tr><td>2016-06-10</td><td>Részösszeg</td><td>8873</td></tr>",
                            "<tr><td>2016-06-11</td><td>Részösszeg</td><td>9217</td></tr>",
                            "<tr><td>2016-06-12</td><td>Részösszeg</td><td>9418</td></tr>",
                            "<tr><td>2016-06-13</td><td>Részösszeg</td><td>6407</td></tr>",
                            "<tr><td>2016-06-14</td><td>Részösszeg</td><td>7968</td></tr>",
                            "<tr><td>2016-06-15</td><td>Részösszeg</td><td>8830</td></tr>",
                            "<tr><td>2016-06-16</td><td>Részösszeg</td><td>6462</td></tr>",
                            "<tr><td>2016-06-17</td><td>Részösszeg</td><td>9189</td></tr>",
                            "<tr><td>2016-06-18</td><td>Részösszeg</td><td>6311</td></tr>",
                            "<tr><td>2016-06-19</td><td>Részösszeg</td><td>8834</td></tr>",
                            "<tr><td>2016-06-20</td><td>Részösszeg</td><td>8005</td></tr>",
                            "<tr><td>2016-06-21</td><td>Részösszeg</td><td>6482</td></tr>",
                            "<tr><td>2016-06-22</td><td>Részösszeg</td><td>6541</td></tr>",
                            "<tr><td>2016-06-23</td><td>Részösszeg</td><td>6662</td></tr>",
                            "<tr><td>2016-06-24</td><td>Részösszeg</td><td>8530</td></tr>",
                            "<tr><td>2016-06-25</td><td>Részösszeg</td><td>8262</td></tr>",
                            "<tr><td>2016-06-26</td><td>Részösszeg</td><td>10488</td></tr>",
                            "<tr><td>2016-06-27</td><td>Részösszeg</td><td>5541</td></tr>",
                            "<tr><td>2016-06-28</td><td>Részösszeg</td><td>10267</td></tr>",
                            "<tr><td>2016-06-29</td><td>Részösszeg</td><td>9869</td></tr>",
                            "<tr><td>2016-06-30</td><td>Részösszeg</td><td>9437</td></tr>",
                            "<tr><td>2016-07-01</td><td>Részösszeg</td><td>5916</td></tr>",
                            "<tr><td>2016-07-02</td><td>Részösszeg</td><td>6710</td></tr>",
                            "<tr><td>2016-07-03</td><td>Részösszeg</td><td>9081</td></tr>",
                            "<tr><td>2016-07-04</td><td>Részösszeg</td><td>10816</td></tr>",
                            "<tr><td>2016-07-05</td><td>Részösszeg</td><td>8863</td></tr>",
                            "<tr><td>2016-07-06</td><td>Részösszeg</td><td>7283</td></tr>",
                            "<tr><td>2016-07-07</td><td>Részösszeg</td><td>5922</td></tr>",
                            "<tr><td>2016-07-08</td><td>Részösszeg</td><td>7968</td></tr>",
                            "<tr><td>2016-07-09</td><td>Részösszeg</td><td>9112</td></tr>",
                            "<tr><td>2016-07-10</td><td>Részösszeg</td><td>7494</td></tr>",
                            "<tr><td>2016-07-11</td><td>Részösszeg</td><td>10358</td></tr>",
                            "<tr><td>2016-07-12</td><td>Részösszeg</td><td>8519</td></tr>",
                            "<tr><td>2016-07-13</td><td>Részösszeg</td><td>8721</td></tr>",
                            "<tr><td>2016-07-14</td><td>Részösszeg</td><td>7363</td></tr>",
                            "<tr><td>2016-07-15</td><td>Részösszeg</td><td>7066</td></tr>",
                            "<tr><td>2016-07-16</td><td>Részösszeg</td><td>8298</td></tr>",
                            "<tr><td>2016-07-17</td><td>Részösszeg</td><td>6320</td></tr>",
                            "<tr><td>2016-07-18</td><td>Részösszeg</td><td>8573</td></tr>",
                            "<tr><td>2016-07-19</td><td>Részösszeg</td><td>9023</td></tr>",
                            "<tr><td>2016-07-20</td><td>Részösszeg</td><td>7415</td></tr>",
                            "<tr><td>2016-07-21</td><td>Részösszeg</td><td>7484</td></tr>",
                            "<tr><td>2016-07-22</td><td>Részösszeg</td><td>7412</td></tr>",
                            "<tr><td>2016-07-23</td><td>Részösszeg</td><td>6895</td></tr>",
                            "<tr><td>2016-07-24</td><td>Részösszeg</td><td>6958</td></tr>",
                            "<tr><td>2016-07-25</td><td>Részösszeg</td><td>7559</td></tr>",
                            "<tr><td>2016-07-26</td><td>Részösszeg</td><td>7020</td></tr>",
                            "<tr><td>2016-07-27</td><td>Részösszeg</td><td>9352</td></tr>",
                            "<tr><td>2016-07-28</td><td>Részösszeg</td><td>7155</td></tr>",
                            "<tr><td>2016-07-29</td><td>Részösszeg</td><td>9038</td></tr>",
                            "<tr><td>2016-07-30</td><td>Részösszeg</td><td>6288</td></tr>",
                            "<tr><td>2016-07-31</td><td>Részösszeg</td><td>9007</td></tr>",
                            "<tr><td>2016-08-01</td><td>Részösszeg</td><td>7588</td></tr>",
                            "<tr><td>2016-08-02</td><td>Részösszeg</td><td>6686</td></tr>",
                            "<tr><td>2016-08-03</td><td>Részösszeg</td><td>7884</td></tr>",
                            "<tr><td>2016-08-04</td><td>Részösszeg</td><td>6900</td></tr>",
                            "<tr><td>2016-08-05</td><td>Részösszeg</td><td>7610</td></tr>",
                            "<tr><td>2016-08-06</td><td>Részösszeg</td><td>8498</td></tr>",
                            "<tr><td>2016-08-07</td><td>Részösszeg</td><td>5511</td></tr>",
                            "<tr><td>2016-08-08</td><td>Részösszeg</td><td>5829</td></tr>",
                            "<tr><td>2016-08-09</td><td>Részösszeg</td><td>10307</td></tr>",
                            "<tr><td>2016-08-10</td><td>Részösszeg</td><td>8311</td></tr>",
                            "<tr><td>2016-08-11</td><td>Részösszeg</td><td>8232</td></tr>",
                            "<tr><td>2016-08-12</td><td>Részösszeg</td><td>8761</td></tr>",
                            "<tr><td>2016-08-13</td><td>Részösszeg</td><td>9571</td></tr>",
                            "<tr><td>2016-08-14</td><td>Részösszeg</td><td>8263</td></tr>",
                            "<tr><td>2016-08-15</td><td>Részösszeg</td><td>10966</td></tr>",
                            "<tr><td>2016-08-16</td><td>Részösszeg</td><td>7435</td></tr>",
                            "<tr><td>2016-08-17</td><td>Részösszeg</td><td>7576</td></tr>",
                            "<tr><td>2016-08-18</td><td>Részösszeg</td><td>7689</td></tr>",
                            "<tr><td>2016-08-19</td><td>Részösszeg</td><td>6974</td></tr>",
                            "<tr><td>2016-08-20</td><td>Részösszeg</td><td>9117</td></tr>",
                            "<tr><td>2016-08-21</td><td>Részösszeg</td><td>5864</td></tr>",
                            "<tr><td>2016-08-22</td><td>Részösszeg</td><td>7082</td></tr>",
                            "<tr><td>2016-08-23</td><td>Részösszeg</td><td>6153</td></tr>",
                            "<tr><td>2016-08-24</td><td>Részösszeg</td><td>8822</td></tr>",
                            "<tr><td>2016-08-25</td><td>Részösszeg</td><td>9398</td></tr>",
                            "<tr><td>2016-08-26</td><td>Részösszeg</td><td>8695</td></tr>",
                            "<tr><td>2016-08-27</td><td>Részösszeg</td><td>8120</td></tr>",
                            "<tr><td>2016-08-28</td><td>Részösszeg</td><td>8937</td></tr>",
                            "<tr><td>2016-08-29</td><td>Részösszeg</td><td>7542</td></tr>",
                            "<tr><td>2016-08-30</td><td>Részösszeg</td><td>5527</td></tr>",
                            "<tr><td>2016-08-31</td><td>Részösszeg</td><td>6069</td></tr>",
                            "<tr><td>2016-09-01</td><td>Részösszeg</td><td>6626</td></tr>",
                            "<tr><td>2016-09-02</td><td>Részösszeg</td><td>7775</td></tr>",
                            "<tr><td>2016-09-03</td><td>Részösszeg</td><td>11043</td></tr>",
                            "<tr><td>2016-09-04</td><td>Részösszeg</td><td>11369</td></tr>",
                            "<tr><td>2016-09-05</td><td>Részösszeg</td><td>6206</td></tr>",
                            "<tr><td>2016-09-06</td><td>Részösszeg</td><td>8736</td></tr>",
                            "<tr><td>2016-09-07</td><td>Részösszeg</td><td>8579</td></tr>",
                            "<tr><td>2016-09-08</td><td>Részösszeg</td><td>8561</td></tr>",
                            "<tr><td>2016-09-09</td><td>Részösszeg</td><td>8470</td></tr>",
                            "<tr><td>2016-09-10</td><td>Részösszeg</td><td>9203</td></tr>",
                            "<tr><td>2016-09-11</td><td>Részösszeg</td><td>8573</td></tr>",
                            "<tr><td>2016-09-12</td><td>Részösszeg</td><td>6264</td></tr>",
                            "<tr><td>2016-09-13</td><td>Részösszeg</td><td>8200</td></tr>",
                            "<tr><td>2016-09-14</td><td>Részösszeg</td><td>10576</td></tr>",
                            "<tr><td>2016-09-15</td><td>Részösszeg</td><td>10530</td></tr>",
                            "<tr><td>2016-09-16</td><td>Részösszeg</td><td>5621</td></tr>",
                            "<tr><td>2016-09-17</td><td>Részösszeg</td><td>7379</td></tr>",
                            "<tr><td>2016-09-18</td><td>Részösszeg</td><td>10790</td></tr>",
                            "<tr><td>2016-09-19</td><td>Részösszeg</td><td>7019</td></tr>",
                            "<tr><td>2016-09-20</td><td>Részösszeg</td><td>8544</td></tr>",
                            "<tr><td>2016-09-21</td><td>Részösszeg</td><td>5504</td></tr>",
                            "<tr><td>2016-09-22</td><td>Részösszeg</td><td>6691</td></tr>",
                            "<tr><td>2016-09-23</td><td>Részösszeg</td><td>6574</td></tr>",
                            "<tr><td>2016-09-24</td><td>Részösszeg</td><td>6220</td></tr>",
                            "<tr><td>2016-09-25</td><td>Részösszeg</td><td>6759</td></tr>",
                            "<tr><td>2016-09-26</td><td>Részösszeg</td><td>7073</td></tr>",
                            "<tr><td>2016-09-27</td><td>Részösszeg</td><td>9214</td></tr>",
                            "<tr><td>2016-09-28</td><td>Részösszeg</td><td>7948</td></tr>",
                            "<tr><td>2016-09-29</td><td>Részösszeg</td><td>5840</td></tr>",
                            "<tr><td>2016-09-30</td><td>Részösszeg</td><td>8410</td></tr>",
                            "<tr><td>2016-10-01</td><td>Részösszeg</td><td>8122</td></tr>",
                            "<tr><td>2016-10-02</td><td>Részösszeg</td><td>7206</td></tr>",
                            "<tr><td>2016-10-03</td><td>Részösszeg</td><td>6357</td></tr>",
                            "<tr><td>2016-10-04</td><td>Részösszeg</td><td>7203</td></tr>",
                            "<tr><td>2016-10-05</td><td>Részösszeg</td><td>7856</td></tr>",
                            "<tr><td>2016-10-06</td><td>Részösszeg</td><td>6682</td></tr>",
                            "<tr><td>2016-10-07</td><td>Részösszeg</td><td>6607</td></tr>",
                            "<tr><td>2016-10-08</td><td>Részösszeg</td><td>8515</td></tr>",
                            "<tr><td>2016-10-09</td><td>Részösszeg</td><td>10396</td></tr>",
                            "<tr><td>2016-10-10</td><td>Részösszeg</td><td>7117</td></tr>",
                            "<tr><td>2016-10-11</td><td>Részösszeg</td><td>9192</td></tr>",
                            "<tr><td>2016-10-12</td><td>Részösszeg</td><td>10889</td></tr>",
                            "<tr><td>2016-10-13</td><td>Részösszeg</td><td>10192</td></tr>",
                            "<tr><td>2016-10-14</td><td>Részösszeg</td><td>7397</td></tr>",
                            "<tr><td>2016-10-15</td><td>Részösszeg</td><td>7459</td></tr>",
                            "<tr><td>2016-10-16</td><td>Részösszeg</td><td>7198</td></tr>",
                            "<tr><td>2016-10-17</td><td>Részösszeg</td><td>11045</td></tr>",
                            "<tr><td>2016-10-18</td><td>Részösszeg</td><td>7033</td></tr>",
                            "<tr><td>2016-10-19</td><td>Részösszeg</td><td>9307</td></tr>",
                            "<tr><td>2016-10-20</td><td>Részösszeg</td><td>6856</td></tr>",
                            "<tr><td>2016-10-21</td><td>Részösszeg</td><td>9403</td></tr>",
                            "<tr><td>2016-10-22</td><td>Részösszeg</td><td>8356</td></tr>",
                            "<tr><td>2016-10-23</td><td>Részösszeg</td><td>9634</td></tr>",
                            "<tr><td>2016-10-24</td><td>Részösszeg</td><td>4888</td></tr>",
                            "<tr><td>2016-10-25</td><td>Részösszeg</td><td>11978</td></tr>",
                            "<tr><td>2016-10-26</td><td>Részösszeg</td><td>8070</td></tr>",
                            "<tr><td>2016-10-27</td><td>Részösszeg</td><td>7617</td></tr>",
                            "<tr><td>2016-10-28</td><td>Részösszeg</td><td>7766</td></tr>",
                            "<tr><td>2016-10-29</td><td>Részösszeg</td><td>6854</td></tr>",
                            "<tr><td>2016-10-30</td><td>Részösszeg</td><td>11718</td></tr>",
                            "<tr><td>2016-10-31</td><td>Részösszeg</td><td>8714</td></tr>",
                            "<tr><td>2016-11-01</td><td>Részösszeg</td><td>7238</td></tr>",
                            "<tr><td>2016-11-02</td><td>Részösszeg</td><td>5472</td></tr>",
                            "<tr><td>2016-11-03</td><td>Részösszeg</td><td>7739</td></tr>",
                            "<tr><td>2016-11-04</td><td>Részösszeg</td><td>6667</td></tr>",
                            "<tr><td>2016-11-05</td><td>Részösszeg</td><td>9157</td></tr>",
                            "<tr><td>2016-11-06</td><td>Részösszeg</td><td>8517</td></tr>",
                            "<tr><td>2016-11-07</td><td>Részösszeg</td><td>6691</td></tr>",
                            "<tr><td>2016-11-08</td><td>Részösszeg</td><td>8431</td></tr>",
                            "<tr><td>2016-11-09</td><td>Részösszeg</td><td>5911</td></tr>",
                            "<tr><td>2016-11-10</td><td>Részösszeg</td><td>6795</td></tr>",
                            "<tr><td>2016-11-11</td><td>Részösszeg</td><td>6940</td></tr>",
                            "<tr><td>2016-11-12</td><td>Részösszeg</td><td>10959</td></tr>",
                            "<tr><td>2016-11-13</td><td>Részösszeg</td><td>10751</td></tr>",
                            "<tr><td>2016-11-14</td><td>Részösszeg</td><td>11881</td></tr>",
                            "<tr><td>2016-11-15</td><td>Részösszeg</td><td>6736</td></tr>",
                            "<tr><td>2016-11-16</td><td>Részösszeg</td><td>8969</td></tr>",
                            "<tr><td>2016-11-17</td><td>Részösszeg</td><td>6852</td></tr>",
                            "<tr><td>2016-11-18</td><td>Részösszeg</td><td>6770</td></tr>",
                            "<tr><td>2016-11-19</td><td>Részösszeg</td><td>7451</td></tr>",
                            "<tr><td>2016-11-20</td><td>Részösszeg</td><td>7946</td></tr>",
                            "<tr><td>2016-11-21</td><td>Részösszeg</td><td>6727</td></tr>",
                            "<tr><td>2016-11-22</td><td>Részösszeg</td><td>7801</td></tr>",
                            "<tr><td>2016-11-23</td><td>Részösszeg</td><td>7435</td></tr>",
                            "<tr><td>2016-11-24</td><td>Részösszeg</td><td>5981</td></tr>",
                            "<tr><td>2016-11-25</td><td>Részösszeg</td><td>6915</td></tr>",
                            "<tr><td>2016-11-26</td><td>Részösszeg</td><td>9216</td></tr>",
                            "<tr><td>2016-11-27</td><td>Részösszeg</td><td>9893</td></tr>",
                            "<tr><td>2016-11-28</td><td>Részösszeg</td><td>9770</td></tr>",
                            "<tr><td>2016-11-29</td><td>Részösszeg</td><td>8722</td></tr>",
                            "<tr><td>2016-11-30</td><td>Részösszeg</td><td>6419</td></tr>",
                            "<tr><td>2016-12-01</td><td>Részösszeg</td><td>9940</td></tr>",
                            "<tr><td>2016-12-02</td><td>Részösszeg</td><td>4748</td></tr>",
                            "<tr><td>2016-12-03</td><td>Részösszeg</td><td>6745</td></tr>",
                            "<tr><td>2016-12-04</td><td>Részösszeg</td><td>9959</td></tr>",
                            "<tr><td>2016-12-05</td><td>Részösszeg</td><td>8225</td></tr>",
                            "<tr><td>2016-12-06</td><td>Részösszeg</td><td>7762</td></tr>",
                            "<tr><td>2016-12-07</td><td>Részösszeg</td><td>7380</td></tr>",
                            "<tr><td>2016-12-08</td><td>Részösszeg</td><td>7200</td></tr>",
                            "<tr><td>2016-12-09</td><td>Részösszeg</td><td>9724</td></tr>",
                            "<tr><td>2016-12-10</td><td>Részösszeg</td><td>7083</td></tr>",
                            "<tr><td>2016-12-11</td><td>Részösszeg</td><td>7576</td></tr>",
                            "<tr><td>2016-12-12</td><td>Részösszeg</td><td>8580</td></tr>",
                            "<tr><td>2016-12-13</td><td>Részösszeg</td><td>8233</td></tr>",
                            "<tr><td>2016-12-14</td><td>Részösszeg</td><td>6268</td></tr>",
                            "<tr><td>2016-12-15</td><td>Részösszeg</td><td>7392</td></tr>",
                            "<tr><td>2016-12-16</td><td>Részösszeg</td><td>6407</td></tr>",
                            "<tr><td>2016-12-17</td><td>Részösszeg</td><td>7555</td></tr>",
                            "<tr><td>2016-12-18</td><td>Részösszeg</td><td>6070</td></tr>",
                            "<tr><td>2016-12-19</td><td>Részösszeg</td><td>5390</td></tr>",
                            "<tr><td>2016-12-20</td><td>Részösszeg</td><td>7735</td></tr>",
                            "<tr><td>2016-12-21</td><td>Részösszeg</td><td>10434</td></tr>",
                            "<tr><td>2016-12-22</td><td>Részösszeg</td><td>5465</td></tr>",
                            "<tr><td>2016-12-23</td><td>Részösszeg</td><td>8338</td></tr>",
                            "<tr><td>2016-12-24</td><td>Részösszeg</td><td>5916</td></tr>",
                            "<tr><td>2016-12-25</td><td>Részösszeg</td><td>7345</td></tr>",
                            "<tr><td>2016-12-26</td><td>Részösszeg</td><td>9875</td></tr>",
                            "<tr><td>2016-12-27</td><td>Részösszeg</td><td>10216</td></tr>",
                            "<tr><td>2016-12-28</td><td>Részösszeg</td><td>6222</td></tr>",
                            "<tr><td>2016-12-29</td><td>Részösszeg</td><td>10046</td></tr>",
                            "<tr><td>2016-12-30</td><td>Részösszeg</td><td>7113</td></tr>",
                            "<tr><td>2016-12-31</td><td>Részösszeg</td><td>7188</td></tr>",
                            "<tr><td>2017-01-01</td><td>Részösszeg</td><td>7200</td></tr>",
                            "<tr><td>2017-01-02</td><td>Részösszeg</td><td>7425</td></tr>",
                            "<tr><td>2017-01-03</td><td>Részösszeg</td><td>6783</td></tr>",
                            "<tr><td>2017-01-04</td><td>Részösszeg</td><td>7465</td></tr>",
                            "<tr><td>2017-01-05</td><td>Részösszeg</td><td>7591</td></tr>",
                            "<tr><td>2017-01-06</td><td>Részösszeg</td><td>8298</td></tr>",
                            "<tr><td>2017-01-07</td><td>Részösszeg</td><td>8976</td></tr>",
                            "<tr><td>2017-01-08</td><td>Részösszeg</td><td>7179</td></tr>",
                            "<tr><td>2017-01-09</td><td>Részösszeg</td><td>9465</td></tr>",
                            "<tr><td>2017-01-10</td><td>Részösszeg</td><td>8667</td></tr>",
                            "<tr><td>2017-01-11</td><td>Részösszeg</td><td>9472</td></tr>",
                            "<tr><td>2017-01-12</td><td>Részösszeg</td><td>7636</td></tr>",
                            "<tr><td>2017-01-13</td><td>Részösszeg</td><td>7538</td></tr>",
                            "<tr><td>2017-01-14</td><td>Részösszeg</td><td>8920</td></tr>",
                            "<tr><td>2017-01-15</td><td>Részösszeg</td><td>7611</td></tr>",
                            "<tr><td>2017-01-16</td><td>Részösszeg</td><td>7369</td></tr>",
                            "<tr><td>2017-01-17</td><td>Részösszeg</td><td>8658</td></tr>",
                            "<tr><td>2017-01-18</td><td>Részösszeg</td><td>6558</td></tr>",
                            "<tr><td>2017-01-19</td><td>Részösszeg</td><td>6422</td></tr>",
                            "<tr><td>2017-01-20</td><td>Részösszeg</td><td>6450</td></tr>",
                            "<tr><td>2017-01-21</td><td>Részösszeg</td><td>7150</td></tr>",
                            "<tr><td>2017-01-22</td><td>Részösszeg</td><td>8199</td></tr>",
                            "<tr><td>2017-01-23</td><td>Részösszeg</td><td>8394</td></tr>",
                            "<tr><td>2017-01-24</td><td>Részösszeg</td><td>8615</td></tr>",
                            "<tr><td>2017-01-25</td><td>Részösszeg</td><td>6484</td></tr>",
                            "<tr><td>2017-01-26</td><td>Részösszeg</td><td>9426</td></tr>",
                            "<tr><td>2017-01-27</td><td>Részösszeg</td><td>5418</td></tr>",
                            "<tr><td>2017-01-28</td><td>Részösszeg</td><td>8401</td></tr>",
                            "<tr><td>2017-01-29</td><td>Részösszeg</td><td>8997</td></tr>",
                            "<tr><td>2017-01-30</td><td>Részösszeg</td><td>9661</td></tr>",
                            "<tr><td>2017-01-31</td><td>Részösszeg</td><td>6253</td></tr>",
                            "<tr><td>2017-02-01</td><td>Részösszeg</td><td>5703</td></tr>",
                            "<tr><td>2017-02-02</td><td>Részösszeg</td><td>8746</td></tr>",
                            "<tr><td>2017-02-03</td><td>Részösszeg</td><td>7840</td></tr>",
                            "<tr><td>2017-02-04</td><td>Részösszeg</td><td>6220</td></tr>",
                            "<tr><td>2017-02-05</td><td>Részösszeg</td><td>5138</td></tr>",
                            "<tr><td>2017-02-06</td><td>Részösszeg</td><td>8206</td></tr>",
                            "<tr><td>2017-02-07</td><td>Részösszeg</td><td>6846</td></tr>",
                            "<tr><td>2017-02-08</td><td>Részösszeg</td><td>10057</td></tr>",
                            "<tr><td>2017-02-09</td><td>Részösszeg</td><td>8302</td></tr>",
                            "<tr><td>2017-02-10</td><td>Részösszeg</td><td>8964</td></tr>",
                            "<tr><td>2017-02-11</td><td>Részösszeg</td><td>8790</td></tr>",
                            "<tr><td>2017-02-12</td><td>Részösszeg</td><td>6268</td></tr>",
                            "<tr><td>2017-02-13</td><td>Részösszeg</td><td>8176</td></tr>",
                            "<tr><td>2017-02-14</td><td>Részösszeg</td><td>10029</td></tr>",
                            "<tr><td>2017-02-15</td><td>Részösszeg</td><td>6443</td></tr>",
                            "<tr><td>2017-02-16</td><td>Részösszeg</td><td>8794</td></tr>",
                            "<tr><td>2017-02-17</td><td>Részösszeg</td><td>9808</td></tr>",
                            "<tr><td>2017-02-18</td><td>Részösszeg</td><td>10757</td></tr>",
                            "<tr><td>2017-02-19</td><td>Részösszeg</td><td>8284</td></tr>",
                            "<tr><td>2017-02-20</td><td>Részösszeg</td><td>5660</td></tr>",
                            "<tr><td>2017-02-21</td><td>Részösszeg</td><td>8878</td></tr>",
                            "<tr><td>2017-02-22</td><td>Részösszeg</td><td>9034</td></tr>",
                            "<tr><td>2017-02-23</td><td>Részösszeg</td><td>7574</td></tr>",
                            "<tr><td>2017-02-24</td><td>Részösszeg</td><td>6814</td></tr>",
                            "<tr><td>2017-02-25</td><td>Részösszeg</td><td>6820</td></tr>",
                            "<tr><td>2017-02-26</td><td>Részösszeg</td><td>8578</td></tr>",
                            "<tr><td>2017-02-27</td><td>Részösszeg</td><td>9185</td></tr>",
                            "<tr><td>2017-02-28</td><td>Részösszeg</td><td>11649</td></tr>",
                            "<tr><td>2017-03-01</td><td>Részösszeg</td><td>5037</td></tr>",
                            "<tr><td>2017-03-02</td><td>Részösszeg</td><td>4861</td></tr>",
                            "<tr><td>2017-03-03</td><td>Részösszeg</td><td>7585</td></tr>",
                            "<tr><td>2017-03-04</td><td>Részösszeg</td><td>5977</td></tr>",
                            "<tr><td>2017-03-05</td><td>Részösszeg</td><td>10338</td></tr>",
                            "<tr><td>2017-03-06</td><td>Részösszeg</td><td>10916</td></tr>",
                            "<tr><td>2017-03-07</td><td>Részösszeg</td><td>8747</td></tr>",
                            "<tr><td>2017-03-08</td><td>Részösszeg</td><td>6837</td></tr>",
                            "<tr><td>2017-03-09</td><td>Részösszeg</td><td>6964</td></tr>",
                            "<tr><td>2017-03-10</td><td>Részösszeg</td><td>6846</td></tr>",
                            "<tr><td>2017-03-11</td><td>Részösszeg</td><td>6885</td></tr>",
                            "<tr><td>2017-03-12</td><td>Részösszeg</td><td>5941</td></tr>",
                            "<tr><td>2017-03-13</td><td>Részösszeg</td><td>6950</td></tr>",
                            "<tr><td>2017-03-14</td><td>Részösszeg</td><td>7224</td></tr>",
                            "<tr><td>2017-03-15</td><td>Részösszeg</td><td>9718</td></tr>",
                            "<tr><td>2017-03-16</td><td>Részösszeg</td><td>9763</td></tr>",
                            "<tr><td>2017-03-17</td><td>Részösszeg</td><td>8908</td></tr>",
                            "<tr><td>2017-03-18</td><td>Részösszeg</td><td>9344</td></tr>",
                            "<tr><td>2017-03-19</td><td>Részösszeg</td><td>9937</td></tr>",
                            "<tr><td>2017-03-20</td><td>Részösszeg</td><td>7683</td></tr>",
                            "<tr><td>2017-03-21</td><td>Részösszeg</td><td>8639</td></tr>",
                            "<tr><td>2017-03-22</td><td>Részösszeg</td><td>6526</td></tr>",
                            "<tr><td>2017-03-23</td><td>Részösszeg</td><td>8799</td></tr>",
                            "<tr><td>2017-03-24</td><td>Részösszeg</td><td>7416</td></tr>",
                            "<tr><td>2017-03-25</td><td>Részösszeg</td><td>6272</td></tr>",
                            "<tr><td>2017-03-26</td><td>Részösszeg</td><td>7786</td></tr>",
                            "<tr><td>2017-03-27</td><td>Részösszeg</td><td>7715</td></tr>",
                            "<tr><td>2017-03-28</td><td>Részösszeg</td><td>8568</td></tr>",
                            "<tr><td>2017-03-29</td><td>Részösszeg</td><td>8346</td></tr>",
                            "<tr><td>2017-03-30</td><td>Részösszeg</td><td>8513</td></tr>",
                            "<tr><td>2017-03-31</td><td>Részösszeg</td><td>8598</td></tr>",
                            "<tr><td>2017-04-01</td><td>Részösszeg</td><td>7307</td></tr>",
                            "<tr><td>2017-04-02</td><td>Részösszeg</td><td>9477</td></tr>",
                            "<tr><td>2017-04-03</td><td>Részösszeg</td><td>6042</td></tr>",
                            "<tr><td>2017-04-04</td><td>Részösszeg</td><td>7493</td></tr>",
                            "<tr><td>2017-04-05</td><td>Részösszeg</td><td>7562</td></tr>",
                            "<tr><td>2017-04-06</td><td>Részösszeg</td><td>4646</td></tr>",
                            "<tr><td>2017-04-07</td><td>Részösszeg</td><td>5197</td></tr>",
                            "<tr><td>2017-04-08</td><td>Részösszeg</td><td>3057</td></tr>",
                            "<tr><td>2017-04-09</td><td>Részösszeg</td><td>3870</td></tr>",
                            "<tr><td>2017-04-10</td><td>Részösszeg</td><td>1640</td></tr>",
                            "<tr><td>2017-04-11</td><td>Részösszeg</td><td>1220</td></tr>",
                            "<tr><td>Végösszeg</td><td>Végösszeg</td><td>5578316</td></tr>",
                            "</table>"
                        ]
                    }
                }
            ],
            "execution_count": 11
        },
        {
            "cell_type": "markdown",
            "source": [
                "```\n",
                "3. Hány olyan ügyfél van, aki még nem rendelt semmit?\n",
                "```\n",
                "\n",
                "1. Csoportosítsuk őket nem szerint, azon belül életkor szerint!\n",
                "2. A lista tartalmazza a részösszegeket és a végösszeget is!\n",
                "\n",
                "![](https://moodle.uni-corvinus.hu/theme/image.php/adaptable/atto_h5p/1709548862/icon)"
            ],
            "metadata": {
                "azdata_cell_guid": "d7876bb9-76d0-4d07-baed-3cb17b2f96c3"
            },
            "attachments": {}
        },
        {
            "cell_type": "code",
            "source": [
                "select count(*) as 'ügyfelek száma',\r\n",
                "        u.NEM,\r\n",
                "        year(GETDATE())-u.SZULEV as 'Életkor'\r\n",
                "from UGYFEL u LEFT JOIN RENDELES r on u.[LOGIN]=r.LOGIN\r\n",
                "where r.SORSZAM is null\r\n",
                "group by rollup (u.NEM, year(GETDATE())-u.SZULEV)"
            ],
            "metadata": {
                "azdata_cell_guid": "56ec19ce-e249-4551-b2a8-f17569765acc",
                "language": "sql"
            },
            "outputs": [
                {
                    "output_type": "display_data",
                    "data": {
                        "text/html": "(12 rows affected)"
                    },
                    "metadata": {}
                },
                {
                    "output_type": "display_data",
                    "data": {
                        "text/html": "Total execution time: 00:00:00.041"
                    },
                    "metadata": {}
                },
                {
                    "output_type": "execute_result",
                    "metadata": {},
                    "execution_count": 20,
                    "data": {
                        "application/vnd.dataresource+json": {
                            "schema": {
                                "fields": [
                                    {
                                        "name": "ügyfelek száma"
                                    },
                                    {
                                        "name": "NEM"
                                    },
                                    {
                                        "name": "Életkor"
                                    }
                                ]
                            },
                            "data": [
                                {
                                    "ügyfelek száma": "1",
                                    "NEM": "F",
                                    "Életkor": "24"
                                },
                                {
                                    "ügyfelek száma": "1",
                                    "NEM": "F",
                                    "Életkor": "26"
                                },
                                {
                                    "ügyfelek száma": "1",
                                    "NEM": "F",
                                    "Életkor": "28"
                                },
                                {
                                    "ügyfelek száma": "1",
                                    "NEM": "F",
                                    "Életkor": "45"
                                },
                                {
                                    "ügyfelek száma": "1",
                                    "NEM": "F",
                                    "Életkor": "55"
                                },
                                {
                                    "ügyfelek száma": "1",
                                    "NEM": "F",
                                    "Életkor": "56"
                                },
                                {
                                    "ügyfelek száma": "6",
                                    "NEM": "F",
                                    "Életkor": "NULL"
                                },
                                {
                                    "ügyfelek száma": "1",
                                    "NEM": "N",
                                    "Életkor": "30"
                                },
                                {
                                    "ügyfelek száma": "1",
                                    "NEM": "N",
                                    "Életkor": "37"
                                },
                                {
                                    "ügyfelek száma": "1",
                                    "NEM": "N",
                                    "Életkor": "49"
                                },
                                {
                                    "ügyfelek száma": "3",
                                    "NEM": "N",
                                    "Életkor": "NULL"
                                },
                                {
                                    "ügyfelek száma": "9",
                                    "NEM": "NULL",
                                    "Életkor": "NULL"
                                }
                            ]
                        },
                        "text/html": [
                            "<table>",
                            "<tr><th>ügyfelek száma</th><th>NEM</th><th>Életkor</th></tr>",
                            "<tr><td>1</td><td>F</td><td>24</td></tr>",
                            "<tr><td>1</td><td>F</td><td>26</td></tr>",
                            "<tr><td>1</td><td>F</td><td>28</td></tr>",
                            "<tr><td>1</td><td>F</td><td>45</td></tr>",
                            "<tr><td>1</td><td>F</td><td>55</td></tr>",
                            "<tr><td>1</td><td>F</td><td>56</td></tr>",
                            "<tr><td>6</td><td>F</td><td>NULL</td></tr>",
                            "<tr><td>1</td><td>N</td><td>30</td></tr>",
                            "<tr><td>1</td><td>N</td><td>37</td></tr>",
                            "<tr><td>1</td><td>N</td><td>49</td></tr>",
                            "<tr><td>3</td><td>N</td><td>NULL</td></tr>",
                            "<tr><td>9</td><td>NULL</td><td>NULL</td></tr>",
                            "</table>"
                        ]
                    }
                }
            ],
            "execution_count": 20
        },
        {
            "cell_type": "markdown",
            "source": [
                "4. <span style=\"color: rgb(36, 41, 47); font-family: -apple-system, BlinkMacSystemFont, &quot;Segoe UI&quot;, Helvetica, Arial, sans-serif, &quot;Apple Color Emoji&quot;, &quot;Segoe UI Emoji&quot;; font-size: 16px;\">Készítsünk listát a megrendelt termékek legkisebb és legnagyobb egységáráról szállítási dátum, azon belül szállítási mód szerinti bontásban!</span>\n",
                "\n",
                "1. A lista csak a 2015 májusi szállításokat tartalmazza!\n",
                "2. Jelenítsük meg a részösszegeket és a végösszeget is!"
            ],
            "metadata": {
                "azdata_cell_guid": "8e7fef82-8022-49a0-8255-fc2846c2134b"
            },
            "attachments": {}
        },
        {
            "cell_type": "code",
            "source": [
                "select  r.SZALL_DATUM,\r\n",
                "        MIN(EGYSEGAR) as 'min egységár',\r\n",
                "        MAX(EGYSEGAR) as 'max egységár',\r\n",
                "        SZALL_MOD\r\n",
                "from Rendeles_tetel rt JOIN Rendeles r on rt.SORSZAM=r.SORSZAM \r\n",
                "                        JOIN Termek t on t.TERMEKKOD = rt.TERMEKKOD\r\n",
                "where YEAR(SZALL_DATUM)=2015 and MONTH(SZALL_DATUM)=05 \r\n",
                "group by rollup (SZALL_DATUM,SZALL_MOD)\r\n",
                ""
            ],
            "metadata": {
                "azdata_cell_guid": "36f7b396-4a1f-45e5-8720-2302537c91bc",
                "language": "sql"
            },
            "outputs": [
                {
                    "output_type": "display_data",
                    "data": {
                        "text/html": "(115 rows affected)"
                    },
                    "metadata": {}
                },
                {
                    "output_type": "display_data",
                    "data": {
                        "text/html": "Total execution time: 00:00:00.047"
                    },
                    "metadata": {}
                },
                {
                    "output_type": "execute_result",
                    "metadata": {},
                    "execution_count": 33,
                    "data": {
                        "application/vnd.dataresource+json": {
                            "schema": {
                                "fields": [
                                    {
                                        "name": "SZALL_DATUM"
                                    },
                                    {
                                        "name": "min egységár"
                                    },
                                    {
                                        "name": "max egységár"
                                    },
                                    {
                                        "name": "SZALL_MOD"
                                    }
                                ]
                            },
                            "data": [
                                {
                                    "SZALL_DATUM": "2015-05-03",
                                    "min egységár": "17",
                                    "max egységár": "400",
                                    "SZALL_MOD": "GLS"
                                },
                                {
                                    "SZALL_DATUM": "2015-05-03",
                                    "min egységár": "17",
                                    "max egységár": "400",
                                    "SZALL_MOD": "NULL"
                                },
                                {
                                    "SZALL_DATUM": "2015-05-04",
                                    "min egységár": "9",
                                    "max egységár": "1251",
                                    "SZALL_MOD": "GLS"
                                },
                                {
                                    "SZALL_DATUM": "2015-05-04",
                                    "min egységár": "12",
                                    "max egységár": "15363",
                                    "SZALL_MOD": "Posta"
                                },
                                {
                                    "SZALL_DATUM": "2015-05-04",
                                    "min egységár": "23",
                                    "max egységár": "15363",
                                    "SZALL_MOD": "Személyes átvétel"
                                },
                                {
                                    "SZALL_DATUM": "2015-05-04",
                                    "min egységár": "9",
                                    "max egységár": "15363",
                                    "SZALL_MOD": "NULL"
                                },
                                {
                                    "SZALL_DATUM": "2015-05-05",
                                    "min egységár": "18",
                                    "max egységár": "29090",
                                    "SZALL_MOD": "GLS"
                                },
                                {
                                    "SZALL_DATUM": "2015-05-05",
                                    "min egységár": "10",
                                    "max egységár": "29090",
                                    "SZALL_MOD": "Posta"
                                },
                                {
                                    "SZALL_DATUM": "2015-05-05",
                                    "min egységár": "11",
                                    "max egységár": "366",
                                    "SZALL_MOD": "Személyes átvétel"
                                },
                                {
                                    "SZALL_DATUM": "2015-05-05",
                                    "min egységár": "10",
                                    "max egységár": "29090",
                                    "SZALL_MOD": "NULL"
                                },
                                {
                                    "SZALL_DATUM": "2015-05-06",
                                    "min egységár": "7",
                                    "max egységár": "35454",
                                    "SZALL_MOD": "GLS"
                                },
                                {
                                    "SZALL_DATUM": "2015-05-06",
                                    "min egységár": "8",
                                    "max egységár": "702",
                                    "SZALL_MOD": "Posta"
                                },
                                {
                                    "SZALL_DATUM": "2015-05-06",
                                    "min egységár": "2",
                                    "max egységár": "41818",
                                    "SZALL_MOD": "Személyes átvétel"
                                },
                                {
                                    "SZALL_DATUM": "2015-05-06",
                                    "min egységár": "2",
                                    "max egységár": "41818",
                                    "SZALL_MOD": "NULL"
                                },
                                {
                                    "SZALL_DATUM": "2015-05-07",
                                    "min egységár": "3",
                                    "max egységár": "41818",
                                    "SZALL_MOD": "GLS"
                                },
                                {
                                    "SZALL_DATUM": "2015-05-07",
                                    "min egységár": "12",
                                    "max egységár": "394",
                                    "SZALL_MOD": "Posta"
                                },
                                {
                                    "SZALL_DATUM": "2015-05-07",
                                    "min egységár": "2",
                                    "max egységár": "1604",
                                    "SZALL_MOD": "Személyes átvétel"
                                },
                                {
                                    "SZALL_DATUM": "2015-05-07",
                                    "min egységár": "2",
                                    "max egységár": "41818",
                                    "SZALL_MOD": "NULL"
                                },
                                {
                                    "SZALL_DATUM": "2015-05-08",
                                    "min egységár": "2",
                                    "max egységár": "15363",
                                    "SZALL_MOD": "GLS"
                                },
                                {
                                    "SZALL_DATUM": "2015-05-08",
                                    "min egységár": "12",
                                    "max egységár": "35454",
                                    "SZALL_MOD": "Posta"
                                },
                                {
                                    "SZALL_DATUM": "2015-05-08",
                                    "min egységár": "5",
                                    "max egységár": "41818",
                                    "SZALL_MOD": "Személyes átvétel"
                                },
                                {
                                    "SZALL_DATUM": "2015-05-08",
                                    "min egységár": "2",
                                    "max egységár": "41818",
                                    "SZALL_MOD": "NULL"
                                },
                                {
                                    "SZALL_DATUM": "2015-05-09",
                                    "min egységár": "7",
                                    "max egységár": "12954",
                                    "SZALL_MOD": "GLS"
                                },
                                {
                                    "SZALL_DATUM": "2015-05-09",
                                    "min egységár": "13",
                                    "max egységár": "1604",
                                    "SZALL_MOD": "Posta"
                                },
                                {
                                    "SZALL_DATUM": "2015-05-09",
                                    "min egységár": "2",
                                    "max egységár": "41818",
                                    "SZALL_MOD": "Személyes átvétel"
                                },
                                {
                                    "SZALL_DATUM": "2015-05-09",
                                    "min egységár": "2",
                                    "max egységár": "41818",
                                    "SZALL_MOD": "NULL"
                                },
                                {
                                    "SZALL_DATUM": "2015-05-10",
                                    "min egységár": "10",
                                    "max egységár": "35454",
                                    "SZALL_MOD": "GLS"
                                },
                                {
                                    "SZALL_DATUM": "2015-05-10",
                                    "min egységár": "5",
                                    "max egységár": "29090",
                                    "SZALL_MOD": "Posta"
                                },
                                {
                                    "SZALL_DATUM": "2015-05-10",
                                    "min egységár": "0",
                                    "max egységár": "789",
                                    "SZALL_MOD": "Személyes átvétel"
                                },
                                {
                                    "SZALL_DATUM": "2015-05-10",
                                    "min egységár": "0",
                                    "max egységár": "35454",
                                    "SZALL_MOD": "NULL"
                                },
                                {
                                    "SZALL_DATUM": "2015-05-11",
                                    "min egységár": "7",
                                    "max egységár": "41818",
                                    "SZALL_MOD": "GLS"
                                },
                                {
                                    "SZALL_DATUM": "2015-05-11",
                                    "min egységár": "2",
                                    "max egységár": "29090",
                                    "SZALL_MOD": "Posta"
                                },
                                {
                                    "SZALL_DATUM": "2015-05-11",
                                    "min egységár": "8",
                                    "max egységár": "35454",
                                    "SZALL_MOD": "Személyes átvétel"
                                },
                                {
                                    "SZALL_DATUM": "2015-05-11",
                                    "min egységár": "2",
                                    "max egységár": "41818",
                                    "SZALL_MOD": "NULL"
                                },
                                {
                                    "SZALL_DATUM": "2015-05-12",
                                    "min egységár": "7",
                                    "max egységár": "6272",
                                    "SZALL_MOD": "GLS"
                                },
                                {
                                    "SZALL_DATUM": "2015-05-12",
                                    "min egységár": "0",
                                    "max egységár": "41818",
                                    "SZALL_MOD": "Posta"
                                },
                                {
                                    "SZALL_DATUM": "2015-05-12",
                                    "min egységár": "7",
                                    "max egységár": "35454",
                                    "SZALL_MOD": "Személyes átvétel"
                                },
                                {
                                    "SZALL_DATUM": "2015-05-12",
                                    "min egységár": "0",
                                    "max egységár": "41818",
                                    "SZALL_MOD": "NULL"
                                },
                                {
                                    "SZALL_DATUM": "2015-05-13",
                                    "min egységár": "17",
                                    "max egységár": "15363",
                                    "SZALL_MOD": "GLS"
                                },
                                {
                                    "SZALL_DATUM": "2015-05-13",
                                    "min egységár": "0",
                                    "max egységár": "41818",
                                    "SZALL_MOD": "Posta"
                                },
                                {
                                    "SZALL_DATUM": "2015-05-13",
                                    "min egységár": "5",
                                    "max egységár": "29090",
                                    "SZALL_MOD": "Személyes átvétel"
                                },
                                {
                                    "SZALL_DATUM": "2015-05-13",
                                    "min egységár": "0",
                                    "max egységár": "41818",
                                    "SZALL_MOD": "NULL"
                                },
                                {
                                    "SZALL_DATUM": "2015-05-14",
                                    "min egységár": "2",
                                    "max egységár": "41818",
                                    "SZALL_MOD": "GLS"
                                },
                                {
                                    "SZALL_DATUM": "2015-05-14",
                                    "min egységár": "3",
                                    "max egységár": "41818",
                                    "SZALL_MOD": "Posta"
                                },
                                {
                                    "SZALL_DATUM": "2015-05-14",
                                    "min egységár": "0",
                                    "max egységár": "41818",
                                    "SZALL_MOD": "Személyes átvétel"
                                },
                                {
                                    "SZALL_DATUM": "2015-05-14",
                                    "min egységár": "0",
                                    "max egységár": "41818",
                                    "SZALL_MOD": "NULL"
                                },
                                {
                                    "SZALL_DATUM": "2015-05-15",
                                    "min egységár": "5",
                                    "max egységár": "15363",
                                    "SZALL_MOD": "GLS"
                                },
                                {
                                    "SZALL_DATUM": "2015-05-15",
                                    "min egységár": "5",
                                    "max egységár": "15363",
                                    "SZALL_MOD": "Posta"
                                },
                                {
                                    "SZALL_DATUM": "2015-05-15",
                                    "min egységár": "2",
                                    "max egységár": "41818",
                                    "SZALL_MOD": "Személyes átvétel"
                                },
                                {
                                    "SZALL_DATUM": "2015-05-15",
                                    "min egységár": "2",
                                    "max egységár": "41818",
                                    "SZALL_MOD": "NULL"
                                },
                                {
                                    "SZALL_DATUM": "2015-05-16",
                                    "min egységár": "7",
                                    "max egységár": "41818",
                                    "SZALL_MOD": "GLS"
                                },
                                {
                                    "SZALL_DATUM": "2015-05-16",
                                    "min egységár": "8",
                                    "max egységár": "35454",
                                    "SZALL_MOD": "Posta"
                                },
                                {
                                    "SZALL_DATUM": "2015-05-16",
                                    "min egységár": "2",
                                    "max egységár": "29090",
                                    "SZALL_MOD": "Személyes átvétel"
                                },
                                {
                                    "SZALL_DATUM": "2015-05-16",
                                    "min egységár": "2",
                                    "max egységár": "41818",
                                    "SZALL_MOD": "NULL"
                                },
                                {
                                    "SZALL_DATUM": "2015-05-17",
                                    "min egységár": "2",
                                    "max egységár": "29090",
                                    "SZALL_MOD": "GLS"
                                },
                                {
                                    "SZALL_DATUM": "2015-05-17",
                                    "min egységár": "23",
                                    "max egységár": "35454",
                                    "SZALL_MOD": "Posta"
                                },
                                {
                                    "SZALL_DATUM": "2015-05-17",
                                    "min egységár": "13",
                                    "max egységár": "35454",
                                    "SZALL_MOD": "Személyes átvétel"
                                },
                                {
                                    "SZALL_DATUM": "2015-05-17",
                                    "min egységár": "2",
                                    "max egységár": "35454",
                                    "SZALL_MOD": "NULL"
                                },
                                {
                                    "SZALL_DATUM": "2015-05-18",
                                    "min egységár": "7",
                                    "max egységár": "35454",
                                    "SZALL_MOD": "GLS"
                                },
                                {
                                    "SZALL_DATUM": "2015-05-18",
                                    "min egységár": "12",
                                    "max egységár": "41818",
                                    "SZALL_MOD": "Posta"
                                },
                                {
                                    "SZALL_DATUM": "2015-05-18",
                                    "min egységár": "3",
                                    "max egységár": "41818",
                                    "SZALL_MOD": "Személyes átvétel"
                                },
                                {
                                    "SZALL_DATUM": "2015-05-18",
                                    "min egységár": "3",
                                    "max egységár": "41818",
                                    "SZALL_MOD": "NULL"
                                },
                                {
                                    "SZALL_DATUM": "2015-05-19",
                                    "min egységár": "5",
                                    "max egységár": "41818",
                                    "SZALL_MOD": "GLS"
                                },
                                {
                                    "SZALL_DATUM": "2015-05-19",
                                    "min egységár": "13",
                                    "max egységár": "41818",
                                    "SZALL_MOD": "Posta"
                                },
                                {
                                    "SZALL_DATUM": "2015-05-19",
                                    "min egységár": "7",
                                    "max egységár": "12954",
                                    "SZALL_MOD": "Személyes átvétel"
                                },
                                {
                                    "SZALL_DATUM": "2015-05-19",
                                    "min egységár": "5",
                                    "max egységár": "41818",
                                    "SZALL_MOD": "NULL"
                                },
                                {
                                    "SZALL_DATUM": "2015-05-20",
                                    "min egységár": "5",
                                    "max egységár": "41818",
                                    "SZALL_MOD": "GLS"
                                },
                                {
                                    "SZALL_DATUM": "2015-05-20",
                                    "min egységár": "7",
                                    "max egységár": "1251",
                                    "SZALL_MOD": "Posta"
                                },
                                {
                                    "SZALL_DATUM": "2015-05-20",
                                    "min egységár": "7",
                                    "max egységár": "41818",
                                    "SZALL_MOD": "Személyes átvétel"
                                },
                                {
                                    "SZALL_DATUM": "2015-05-20",
                                    "min egységár": "5",
                                    "max egységár": "41818",
                                    "SZALL_MOD": "NULL"
                                },
                                {
                                    "SZALL_DATUM": "2015-05-21",
                                    "min egységár": "9",
                                    "max egységár": "10818",
                                    "SZALL_MOD": "GLS"
                                },
                                {
                                    "SZALL_DATUM": "2015-05-21",
                                    "min egységár": "3",
                                    "max egységár": "15363",
                                    "SZALL_MOD": "Posta"
                                },
                                {
                                    "SZALL_DATUM": "2015-05-21",
                                    "min egységár": "2",
                                    "max egységár": "29090",
                                    "SZALL_MOD": "Személyes átvétel"
                                },
                                {
                                    "SZALL_DATUM": "2015-05-21",
                                    "min egységár": "2",
                                    "max egységár": "29090",
                                    "SZALL_MOD": "NULL"
                                },
                                {
                                    "SZALL_DATUM": "2015-05-22",
                                    "min egységár": "0",
                                    "max egységár": "41818",
                                    "SZALL_MOD": "GLS"
                                },
                                {
                                    "SZALL_DATUM": "2015-05-22",
                                    "min egységár": "2",
                                    "max egységár": "21818",
                                    "SZALL_MOD": "Posta"
                                },
                                {
                                    "SZALL_DATUM": "2015-05-22",
                                    "min egységár": "4",
                                    "max egységár": "29090",
                                    "SZALL_MOD": "Személyes átvétel"
                                },
                                {
                                    "SZALL_DATUM": "2015-05-22",
                                    "min egységár": "0",
                                    "max egységár": "41818",
                                    "SZALL_MOD": "NULL"
                                },
                                {
                                    "SZALL_DATUM": "2015-05-23",
                                    "min egységár": "0",
                                    "max egységár": "35454",
                                    "SZALL_MOD": "GLS"
                                },
                                {
                                    "SZALL_DATUM": "2015-05-23",
                                    "min egységár": "0",
                                    "max egységár": "990",
                                    "SZALL_MOD": "Posta"
                                },
                                {
                                    "SZALL_DATUM": "2015-05-23",
                                    "min egységár": "9",
                                    "max egységár": "15363",
                                    "SZALL_MOD": "Személyes átvétel"
                                },
                                {
                                    "SZALL_DATUM": "2015-05-23",
                                    "min egységár": "0",
                                    "max egységár": "35454",
                                    "SZALL_MOD": "NULL"
                                },
                                {
                                    "SZALL_DATUM": "2015-05-24",
                                    "min egységár": "5",
                                    "max egységár": "35454",
                                    "SZALL_MOD": "GLS"
                                },
                                {
                                    "SZALL_DATUM": "2015-05-24",
                                    "min egységár": "5",
                                    "max egységár": "41818",
                                    "SZALL_MOD": "Posta"
                                },
                                {
                                    "SZALL_DATUM": "2015-05-24",
                                    "min egységár": "8",
                                    "max egységár": "35454",
                                    "SZALL_MOD": "Személyes átvétel"
                                },
                                {
                                    "SZALL_DATUM": "2015-05-24",
                                    "min egységár": "5",
                                    "max egységár": "41818",
                                    "SZALL_MOD": "NULL"
                                },
                                {
                                    "SZALL_DATUM": "2015-05-25",
                                    "min egységár": "0",
                                    "max egységár": "1042",
                                    "SZALL_MOD": "GLS"
                                },
                                {
                                    "SZALL_DATUM": "2015-05-25",
                                    "min egységár": "27",
                                    "max egységár": "10818",
                                    "SZALL_MOD": "Posta"
                                },
                                {
                                    "SZALL_DATUM": "2015-05-25",
                                    "min egységár": "3",
                                    "max egységár": "41818",
                                    "SZALL_MOD": "Személyes átvétel"
                                },
                                {
                                    "SZALL_DATUM": "2015-05-25",
                                    "min egységár": "0",
                                    "max egységár": "41818",
                                    "SZALL_MOD": "NULL"
                                },
                                {
                                    "SZALL_DATUM": "2015-05-26",
                                    "min egységár": "2",
                                    "max egységár": "35454",
                                    "SZALL_MOD": "GLS"
                                },
                                {
                                    "SZALL_DATUM": "2015-05-26",
                                    "min egységár": "17",
                                    "max egységár": "7272",
                                    "SZALL_MOD": "Posta"
                                },
                                {
                                    "SZALL_DATUM": "2015-05-26",
                                    "min egységár": "2",
                                    "max egységár": "29090",
                                    "SZALL_MOD": "Személyes átvétel"
                                },
                                {
                                    "SZALL_DATUM": "2015-05-26",
                                    "min egységár": "2",
                                    "max egységár": "35454",
                                    "SZALL_MOD": "NULL"
                                },
                                {
                                    "SZALL_DATUM": "2015-05-27",
                                    "min egységár": "2",
                                    "max egységár": "41818",
                                    "SZALL_MOD": "GLS"
                                },
                                {
                                    "SZALL_DATUM": "2015-05-27",
                                    "min egységár": "7",
                                    "max egységár": "41818",
                                    "SZALL_MOD": "Posta"
                                },
                                {
                                    "SZALL_DATUM": "2015-05-27",
                                    "min egységár": "2",
                                    "max egységár": "41818",
                                    "SZALL_MOD": "Személyes átvétel"
                                },
                                {
                                    "SZALL_DATUM": "2015-05-27",
                                    "min egységár": "2",
                                    "max egységár": "41818",
                                    "SZALL_MOD": "NULL"
                                },
                                {
                                    "SZALL_DATUM": "2015-05-28",
                                    "min egységár": "2",
                                    "max egységár": "41818",
                                    "SZALL_MOD": "GLS"
                                },
                                {
                                    "SZALL_DATUM": "2015-05-28",
                                    "min egységár": "12",
                                    "max egységár": "35454",
                                    "SZALL_MOD": "Posta"
                                },
                                {
                                    "SZALL_DATUM": "2015-05-28",
                                    "min egységár": "5",
                                    "max egységár": "41818",
                                    "SZALL_MOD": "Személyes átvétel"
                                },
                                {
                                    "SZALL_DATUM": "2015-05-28",
                                    "min egységár": "2",
                                    "max egységár": "41818",
                                    "SZALL_MOD": "NULL"
                                },
                                {
                                    "SZALL_DATUM": "2015-05-29",
                                    "min egységár": "3",
                                    "max egységár": "21818",
                                    "SZALL_MOD": "GLS"
                                },
                                {
                                    "SZALL_DATUM": "2015-05-29",
                                    "min egységár": "2",
                                    "max egységár": "21818",
                                    "SZALL_MOD": "Posta"
                                },
                                {
                                    "SZALL_DATUM": "2015-05-29",
                                    "min egységár": "3",
                                    "max egységár": "41818",
                                    "SZALL_MOD": "Személyes átvétel"
                                },
                                {
                                    "SZALL_DATUM": "2015-05-29",
                                    "min egységár": "2",
                                    "max egységár": "41818",
                                    "SZALL_MOD": "NULL"
                                },
                                {
                                    "SZALL_DATUM": "2015-05-30",
                                    "min egységár": "4",
                                    "max egységár": "35454",
                                    "SZALL_MOD": "GLS"
                                },
                                {
                                    "SZALL_DATUM": "2015-05-30",
                                    "min egységár": "2",
                                    "max egységár": "990",
                                    "SZALL_MOD": "Posta"
                                },
                                {
                                    "SZALL_DATUM": "2015-05-30",
                                    "min egységár": "3",
                                    "max egységár": "41818",
                                    "SZALL_MOD": "Személyes átvétel"
                                },
                                {
                                    "SZALL_DATUM": "2015-05-30",
                                    "min egységár": "2",
                                    "max egységár": "41818",
                                    "SZALL_MOD": "NULL"
                                },
                                {
                                    "SZALL_DATUM": "2015-05-31",
                                    "min egységár": "16",
                                    "max egységár": "35454",
                                    "SZALL_MOD": "GLS"
                                },
                                {
                                    "SZALL_DATUM": "2015-05-31",
                                    "min egységár": "13",
                                    "max egységár": "12954",
                                    "SZALL_MOD": "Posta"
                                },
                                {
                                    "SZALL_DATUM": "2015-05-31",
                                    "min egységár": "13",
                                    "max egységár": "35454",
                                    "SZALL_MOD": "Személyes átvétel"
                                },
                                {
                                    "SZALL_DATUM": "2015-05-31",
                                    "min egységár": "13",
                                    "max egységár": "35454",
                                    "SZALL_MOD": "NULL"
                                },
                                {
                                    "SZALL_DATUM": "NULL",
                                    "min egységár": "0",
                                    "max egységár": "41818",
                                    "SZALL_MOD": "NULL"
                                }
                            ]
                        },
                        "text/html": [
                            "<table>",
                            "<tr><th>SZALL_DATUM</th><th>min egységár</th><th>max egységár</th><th>SZALL_MOD</th></tr>",
                            "<tr><td>2015-05-03</td><td>17</td><td>400</td><td>GLS</td></tr>",
                            "<tr><td>2015-05-03</td><td>17</td><td>400</td><td>NULL</td></tr>",
                            "<tr><td>2015-05-04</td><td>9</td><td>1251</td><td>GLS</td></tr>",
                            "<tr><td>2015-05-04</td><td>12</td><td>15363</td><td>Posta</td></tr>",
                            "<tr><td>2015-05-04</td><td>23</td><td>15363</td><td>Személyes átvétel</td></tr>",
                            "<tr><td>2015-05-04</td><td>9</td><td>15363</td><td>NULL</td></tr>",
                            "<tr><td>2015-05-05</td><td>18</td><td>29090</td><td>GLS</td></tr>",
                            "<tr><td>2015-05-05</td><td>10</td><td>29090</td><td>Posta</td></tr>",
                            "<tr><td>2015-05-05</td><td>11</td><td>366</td><td>Személyes átvétel</td></tr>",
                            "<tr><td>2015-05-05</td><td>10</td><td>29090</td><td>NULL</td></tr>",
                            "<tr><td>2015-05-06</td><td>7</td><td>35454</td><td>GLS</td></tr>",
                            "<tr><td>2015-05-06</td><td>8</td><td>702</td><td>Posta</td></tr>",
                            "<tr><td>2015-05-06</td><td>2</td><td>41818</td><td>Személyes átvétel</td></tr>",
                            "<tr><td>2015-05-06</td><td>2</td><td>41818</td><td>NULL</td></tr>",
                            "<tr><td>2015-05-07</td><td>3</td><td>41818</td><td>GLS</td></tr>",
                            "<tr><td>2015-05-07</td><td>12</td><td>394</td><td>Posta</td></tr>",
                            "<tr><td>2015-05-07</td><td>2</td><td>1604</td><td>Személyes átvétel</td></tr>",
                            "<tr><td>2015-05-07</td><td>2</td><td>41818</td><td>NULL</td></tr>",
                            "<tr><td>2015-05-08</td><td>2</td><td>15363</td><td>GLS</td></tr>",
                            "<tr><td>2015-05-08</td><td>12</td><td>35454</td><td>Posta</td></tr>",
                            "<tr><td>2015-05-08</td><td>5</td><td>41818</td><td>Személyes átvétel</td></tr>",
                            "<tr><td>2015-05-08</td><td>2</td><td>41818</td><td>NULL</td></tr>",
                            "<tr><td>2015-05-09</td><td>7</td><td>12954</td><td>GLS</td></tr>",
                            "<tr><td>2015-05-09</td><td>13</td><td>1604</td><td>Posta</td></tr>",
                            "<tr><td>2015-05-09</td><td>2</td><td>41818</td><td>Személyes átvétel</td></tr>",
                            "<tr><td>2015-05-09</td><td>2</td><td>41818</td><td>NULL</td></tr>",
                            "<tr><td>2015-05-10</td><td>10</td><td>35454</td><td>GLS</td></tr>",
                            "<tr><td>2015-05-10</td><td>5</td><td>29090</td><td>Posta</td></tr>",
                            "<tr><td>2015-05-10</td><td>0</td><td>789</td><td>Személyes átvétel</td></tr>",
                            "<tr><td>2015-05-10</td><td>0</td><td>35454</td><td>NULL</td></tr>",
                            "<tr><td>2015-05-11</td><td>7</td><td>41818</td><td>GLS</td></tr>",
                            "<tr><td>2015-05-11</td><td>2</td><td>29090</td><td>Posta</td></tr>",
                            "<tr><td>2015-05-11</td><td>8</td><td>35454</td><td>Személyes átvétel</td></tr>",
                            "<tr><td>2015-05-11</td><td>2</td><td>41818</td><td>NULL</td></tr>",
                            "<tr><td>2015-05-12</td><td>7</td><td>6272</td><td>GLS</td></tr>",
                            "<tr><td>2015-05-12</td><td>0</td><td>41818</td><td>Posta</td></tr>",
                            "<tr><td>2015-05-12</td><td>7</td><td>35454</td><td>Személyes átvétel</td></tr>",
                            "<tr><td>2015-05-12</td><td>0</td><td>41818</td><td>NULL</td></tr>",
                            "<tr><td>2015-05-13</td><td>17</td><td>15363</td><td>GLS</td></tr>",
                            "<tr><td>2015-05-13</td><td>0</td><td>41818</td><td>Posta</td></tr>",
                            "<tr><td>2015-05-13</td><td>5</td><td>29090</td><td>Személyes átvétel</td></tr>",
                            "<tr><td>2015-05-13</td><td>0</td><td>41818</td><td>NULL</td></tr>",
                            "<tr><td>2015-05-14</td><td>2</td><td>41818</td><td>GLS</td></tr>",
                            "<tr><td>2015-05-14</td><td>3</td><td>41818</td><td>Posta</td></tr>",
                            "<tr><td>2015-05-14</td><td>0</td><td>41818</td><td>Személyes átvétel</td></tr>",
                            "<tr><td>2015-05-14</td><td>0</td><td>41818</td><td>NULL</td></tr>",
                            "<tr><td>2015-05-15</td><td>5</td><td>15363</td><td>GLS</td></tr>",
                            "<tr><td>2015-05-15</td><td>5</td><td>15363</td><td>Posta</td></tr>",
                            "<tr><td>2015-05-15</td><td>2</td><td>41818</td><td>Személyes átvétel</td></tr>",
                            "<tr><td>2015-05-15</td><td>2</td><td>41818</td><td>NULL</td></tr>",
                            "<tr><td>2015-05-16</td><td>7</td><td>41818</td><td>GLS</td></tr>",
                            "<tr><td>2015-05-16</td><td>8</td><td>35454</td><td>Posta</td></tr>",
                            "<tr><td>2015-05-16</td><td>2</td><td>29090</td><td>Személyes átvétel</td></tr>",
                            "<tr><td>2015-05-16</td><td>2</td><td>41818</td><td>NULL</td></tr>",
                            "<tr><td>2015-05-17</td><td>2</td><td>29090</td><td>GLS</td></tr>",
                            "<tr><td>2015-05-17</td><td>23</td><td>35454</td><td>Posta</td></tr>",
                            "<tr><td>2015-05-17</td><td>13</td><td>35454</td><td>Személyes átvétel</td></tr>",
                            "<tr><td>2015-05-17</td><td>2</td><td>35454</td><td>NULL</td></tr>",
                            "<tr><td>2015-05-18</td><td>7</td><td>35454</td><td>GLS</td></tr>",
                            "<tr><td>2015-05-18</td><td>12</td><td>41818</td><td>Posta</td></tr>",
                            "<tr><td>2015-05-18</td><td>3</td><td>41818</td><td>Személyes átvétel</td></tr>",
                            "<tr><td>2015-05-18</td><td>3</td><td>41818</td><td>NULL</td></tr>",
                            "<tr><td>2015-05-19</td><td>5</td><td>41818</td><td>GLS</td></tr>",
                            "<tr><td>2015-05-19</td><td>13</td><td>41818</td><td>Posta</td></tr>",
                            "<tr><td>2015-05-19</td><td>7</td><td>12954</td><td>Személyes átvétel</td></tr>",
                            "<tr><td>2015-05-19</td><td>5</td><td>41818</td><td>NULL</td></tr>",
                            "<tr><td>2015-05-20</td><td>5</td><td>41818</td><td>GLS</td></tr>",
                            "<tr><td>2015-05-20</td><td>7</td><td>1251</td><td>Posta</td></tr>",
                            "<tr><td>2015-05-20</td><td>7</td><td>41818</td><td>Személyes átvétel</td></tr>",
                            "<tr><td>2015-05-20</td><td>5</td><td>41818</td><td>NULL</td></tr>",
                            "<tr><td>2015-05-21</td><td>9</td><td>10818</td><td>GLS</td></tr>",
                            "<tr><td>2015-05-21</td><td>3</td><td>15363</td><td>Posta</td></tr>",
                            "<tr><td>2015-05-21</td><td>2</td><td>29090</td><td>Személyes átvétel</td></tr>",
                            "<tr><td>2015-05-21</td><td>2</td><td>29090</td><td>NULL</td></tr>",
                            "<tr><td>2015-05-22</td><td>0</td><td>41818</td><td>GLS</td></tr>",
                            "<tr><td>2015-05-22</td><td>2</td><td>21818</td><td>Posta</td></tr>",
                            "<tr><td>2015-05-22</td><td>4</td><td>29090</td><td>Személyes átvétel</td></tr>",
                            "<tr><td>2015-05-22</td><td>0</td><td>41818</td><td>NULL</td></tr>",
                            "<tr><td>2015-05-23</td><td>0</td><td>35454</td><td>GLS</td></tr>",
                            "<tr><td>2015-05-23</td><td>0</td><td>990</td><td>Posta</td></tr>",
                            "<tr><td>2015-05-23</td><td>9</td><td>15363</td><td>Személyes átvétel</td></tr>",
                            "<tr><td>2015-05-23</td><td>0</td><td>35454</td><td>NULL</td></tr>",
                            "<tr><td>2015-05-24</td><td>5</td><td>35454</td><td>GLS</td></tr>",
                            "<tr><td>2015-05-24</td><td>5</td><td>41818</td><td>Posta</td></tr>",
                            "<tr><td>2015-05-24</td><td>8</td><td>35454</td><td>Személyes átvétel</td></tr>",
                            "<tr><td>2015-05-24</td><td>5</td><td>41818</td><td>NULL</td></tr>",
                            "<tr><td>2015-05-25</td><td>0</td><td>1042</td><td>GLS</td></tr>",
                            "<tr><td>2015-05-25</td><td>27</td><td>10818</td><td>Posta</td></tr>",
                            "<tr><td>2015-05-25</td><td>3</td><td>41818</td><td>Személyes átvétel</td></tr>",
                            "<tr><td>2015-05-25</td><td>0</td><td>41818</td><td>NULL</td></tr>",
                            "<tr><td>2015-05-26</td><td>2</td><td>35454</td><td>GLS</td></tr>",
                            "<tr><td>2015-05-26</td><td>17</td><td>7272</td><td>Posta</td></tr>",
                            "<tr><td>2015-05-26</td><td>2</td><td>29090</td><td>Személyes átvétel</td></tr>",
                            "<tr><td>2015-05-26</td><td>2</td><td>35454</td><td>NULL</td></tr>",
                            "<tr><td>2015-05-27</td><td>2</td><td>41818</td><td>GLS</td></tr>",
                            "<tr><td>2015-05-27</td><td>7</td><td>41818</td><td>Posta</td></tr>",
                            "<tr><td>2015-05-27</td><td>2</td><td>41818</td><td>Személyes átvétel</td></tr>",
                            "<tr><td>2015-05-27</td><td>2</td><td>41818</td><td>NULL</td></tr>",
                            "<tr><td>2015-05-28</td><td>2</td><td>41818</td><td>GLS</td></tr>",
                            "<tr><td>2015-05-28</td><td>12</td><td>35454</td><td>Posta</td></tr>",
                            "<tr><td>2015-05-28</td><td>5</td><td>41818</td><td>Személyes átvétel</td></tr>",
                            "<tr><td>2015-05-28</td><td>2</td><td>41818</td><td>NULL</td></tr>",
                            "<tr><td>2015-05-29</td><td>3</td><td>21818</td><td>GLS</td></tr>",
                            "<tr><td>2015-05-29</td><td>2</td><td>21818</td><td>Posta</td></tr>",
                            "<tr><td>2015-05-29</td><td>3</td><td>41818</td><td>Személyes átvétel</td></tr>",
                            "<tr><td>2015-05-29</td><td>2</td><td>41818</td><td>NULL</td></tr>",
                            "<tr><td>2015-05-30</td><td>4</td><td>35454</td><td>GLS</td></tr>",
                            "<tr><td>2015-05-30</td><td>2</td><td>990</td><td>Posta</td></tr>",
                            "<tr><td>2015-05-30</td><td>3</td><td>41818</td><td>Személyes átvétel</td></tr>",
                            "<tr><td>2015-05-30</td><td>2</td><td>41818</td><td>NULL</td></tr>",
                            "<tr><td>2015-05-31</td><td>16</td><td>35454</td><td>GLS</td></tr>",
                            "<tr><td>2015-05-31</td><td>13</td><td>12954</td><td>Posta</td></tr>",
                            "<tr><td>2015-05-31</td><td>13</td><td>35454</td><td>Személyes átvétel</td></tr>",
                            "<tr><td>2015-05-31</td><td>13</td><td>35454</td><td>NULL</td></tr>",
                            "<tr><td>NULL</td><td>0</td><td>41818</td><td>NULL</td></tr>",
                            "</table>"
                        ]
                    }
                }
            ],
            "execution_count": 33
        },
        {
            "cell_type": "markdown",
            "source": [
                "5. <span style=\"color: rgb(36, 41, 47); font-family: -apple-system, BlinkMacSystemFont, &quot;Segoe UI&quot;, Helvetica, Arial, sans-serif, &quot;Apple Color Emoji&quot;, &quot;Segoe UI Emoji&quot;; font-size: 16px;\">Készítsünk csoportot a termékek listaára alapján a következők szerint:&nbsp;<br></span> <span style=\"color: rgb(36, 41, 47); font-family: -apple-system, BlinkMacSystemFont, &quot;Segoe UI&quot;, Helvetica, Arial, sans-serif, &quot;Apple Color Emoji&quot;, &quot;Segoe UI Emoji&quot;; font-size: 16px;\">Az \"olcsó\" termékek legyenek azok, amelyek listaára 3000 alatt van.<br>&nbsp;A \"drága\" termékek legyenek az 5000 felettiek, a többi legyen \"közepes\".</span>\n",
                "\n",
                "1. Listázzuk az egyes csoportokat, és a csoportokba tartozó termékek darabszámát!\n",
                "2. A lista jelenítse meg a végösszeget is!"
            ],
            "metadata": {
                "azdata_cell_guid": "84239ca2-6b5e-49f5-9860-d44c11d6de32"
            },
            "attachments": {}
        },
        {
            "cell_type": "code",
            "source": [
                "select case\r\n",
                "        when LISTAAR < 3000 then 'olcsó'\r\n",
                "        when LISTAAR > 5000 then 'drága'\r\n",
                "        else 'olcsó'\r\n",
                "    end as 'ára',\r\n",
                "    count(*) as 'darabszám'\r\n",
                "from Termek\r\n",
                "group by rollup (case\r\n",
                "        when LISTAAR < 3000 then 'olcsó'\r\n",
                "        when LISTAAR > 5000 then 'drága'\r\n",
                "        else 'olcsó'\r\n",
                "    end) "
            ],
            "metadata": {
                "azdata_cell_guid": "06d9a62b-9430-424b-a135-d80e675f0eb3",
                "language": "sql"
            },
            "outputs": [
                {
                    "output_type": "display_data",
                    "data": {
                        "text/html": "(3 rows affected)"
                    },
                    "metadata": {}
                },
                {
                    "output_type": "display_data",
                    "data": {
                        "text/html": "Total execution time: 00:00:00.041"
                    },
                    "metadata": {}
                },
                {
                    "output_type": "execute_result",
                    "metadata": {},
                    "execution_count": 36,
                    "data": {
                        "application/vnd.dataresource+json": {
                            "schema": {
                                "fields": [
                                    {
                                        "name": "ára"
                                    },
                                    {
                                        "name": "darabszám"
                                    }
                                ]
                            },
                            "data": [
                                {
                                    "ára": "drága",
                                    "darabszám": "20"
                                },
                                {
                                    "ára": "olcsó",
                                    "darabszám": "531"
                                },
                                {
                                    "ára": "NULL",
                                    "darabszám": "551"
                                }
                            ]
                        },
                        "text/html": [
                            "<table>",
                            "<tr><th>ára</th><th>darabszám</th></tr>",
                            "<tr><td>drága</td><td>20</td></tr>",
                            "<tr><td>olcsó</td><td>531</td></tr>",
                            "<tr><td>NULL</td><td>551</td></tr>",
                            "</table>"
                        ]
                    }
                }
            ],
            "execution_count": 36
        },
        {
            "cell_type": "markdown",
            "source": [
                "6. <span style=\"font-weight: 600; color: rgb(36, 41, 47); font-family: -apple-system, BlinkMacSystemFont, &quot;Segoe UI&quot;, Helvetica, Arial, sans-serif, &quot;Apple Color Emoji&quot;, &quot;Segoe UI Emoji&quot;; font-size: 16px;\">Készítsünk listát az ügyfelek adatairól név szerinti sorrendben.</span>\n",
                "\n",
                "1. Minden sorban jelenjen meg a sorrend szerint előző, illetve következő ügyfél neve is.\n",
                "2. Ha nincs előző vagy következő ügyfél, akkor a 'Nincs' jelenjen meg!"
            ],
            "metadata": {
                "azdata_cell_guid": "b0d15045-3c43-4f3a-b8d4-76b4f24e5546"
            },
            "attachments": {}
        },
        {
            "cell_type": "code",
            "source": [
                "select *\r\n",
                "from Ugyfel"
            ],
            "metadata": {
                "azdata_cell_guid": "f2b7400d-1255-40ac-9250-4d57f9da5357",
                "language": "sql"
            },
            "outputs": [
                {
                    "output_type": "display_data",
                    "data": {
                        "text/html": "(551 rows affected)"
                    },
                    "metadata": {}
                },
                {
                    "output_type": "display_data",
                    "data": {
                        "text/html": "Total execution time: 00:00:00.036"
                    },
                    "metadata": {}
                },
                {
                    "output_type": "execute_result",
                    "metadata": {},
                    "execution_count": 41,
                    "data": {
                        "application/vnd.dataresource+json": {
                            "schema": {
                                "fields": [
                                    {
                                        "name": "TERMEKKOD"
                                    },
                                    {
                                        "name": "LISTAAR"
                                    },
                                    {
                                        "name": "kateg átlagár"
                                    }
                                ]
                            },
                            "data": [
                                {
                                    "TERMEKKOD": "08070472T",
                                    "LISTAAR": "1089",
                                    "kateg átlagár": "621,1333333333333"
                                },
                                {
                                    "TERMEKKOD": "08070473T",
                                    "LISTAAR": "1089",
                                    "kateg átlagár": "621,1333333333333"
                                },
                                {
                                    "TERMEKKOD": "08070474T",
                                    "LISTAAR": "1089",
                                    "kateg átlagár": "621,1333333333333"
                                },
                                {
                                    "TERMEKKOD": "08070479T",
                                    "LISTAAR": "674",
                                    "kateg átlagár": "621,1333333333333"
                                },
                                {
                                    "TERMEKKOD": "08070480T",
                                    "LISTAAR": "308",
                                    "kateg átlagár": "621,1333333333333"
                                },
                                {
                                    "TERMEKKOD": "08070489T",
                                    "LISTAAR": "868",
                                    "kateg átlagár": "621,1333333333333"
                                },
                                {
                                    "TERMEKKOD": "08070490T",
                                    "LISTAAR": "691",
                                    "kateg átlagár": "621,1333333333333"
                                },
                                {
                                    "TERMEKKOD": "08070491T",
                                    "LISTAAR": "214",
                                    "kateg átlagár": "621,1333333333333"
                                },
                                {
                                    "TERMEKKOD": "08070492T",
                                    "LISTAAR": "735",
                                    "kateg átlagár": "621,1333333333333"
                                },
                                {
                                    "TERMEKKOD": "08070493T",
                                    "LISTAAR": "720",
                                    "kateg átlagár": "621,1333333333333"
                                },
                                {
                                    "TERMEKKOD": "08070494T",
                                    "LISTAAR": "440",
                                    "kateg átlagár": "621,1333333333333"
                                },
                                {
                                    "TERMEKKOD": "08070495T",
                                    "LISTAAR": "440",
                                    "kateg átlagár": "621,1333333333333"
                                },
                                {
                                    "TERMEKKOD": "08070483T",
                                    "LISTAAR": "324",
                                    "kateg átlagár": "621,1333333333333"
                                },
                                {
                                    "TERMEKKOD": "08070484T",
                                    "LISTAAR": "345",
                                    "kateg átlagár": "621,1333333333333"
                                },
                                {
                                    "TERMEKKOD": "08070485T",
                                    "LISTAAR": "291",
                                    "kateg átlagár": "621,1333333333333"
                                },
                                {
                                    "TERMEKKOD": "04050035T",
                                    "LISTAAR": "24",
                                    "kateg átlagár": "75,33333333333333"
                                },
                                {
                                    "TERMEKKOD": "04050267T",
                                    "LISTAAR": "129",
                                    "kateg átlagár": "75,33333333333333"
                                },
                                {
                                    "TERMEKKOD": "04110258T",
                                    "LISTAAR": "73",
                                    "kateg átlagár": "75,33333333333333"
                                },
                                {
                                    "TERMEKKOD": "04030285T",
                                    "LISTAAR": "11",
                                    "kateg átlagár": "125,4"
                                },
                                {
                                    "TERMEKKOD": "03050457T",
                                    "LISTAAR": "26",
                                    "kateg átlagár": "125,4"
                                },
                                {
                                    "TERMEKKOD": "03050458T",
                                    "LISTAAR": "148",
                                    "kateg átlagár": "125,4"
                                },
                                {
                                    "TERMEKKOD": "03050459T",
                                    "LISTAAR": "40",
                                    "kateg átlagár": "125,4"
                                },
                                {
                                    "TERMEKKOD": "03080003T",
                                    "LISTAAR": "185",
                                    "kateg átlagár": "125,4"
                                },
                                {
                                    "TERMEKKOD": "03080004T",
                                    "LISTAAR": "19",
                                    "kateg átlagár": "125,4"
                                },
                                {
                                    "TERMEKKOD": "03080005T",
                                    "LISTAAR": "290",
                                    "kateg átlagár": "125,4"
                                },
                                {
                                    "TERMEKKOD": "03080006T",
                                    "LISTAAR": "26",
                                    "kateg átlagár": "125,4"
                                },
                                {
                                    "TERMEKKOD": "03080007T",
                                    "LISTAAR": "206",
                                    "kateg átlagár": "125,4"
                                },
                                {
                                    "TERMEKKOD": "03080008T",
                                    "LISTAAR": "103",
                                    "kateg átlagár": "125,4"
                                },
                                {
                                    "TERMEKKOD": "03080009T",
                                    "LISTAAR": "148",
                                    "kateg átlagár": "125,4"
                                },
                                {
                                    "TERMEKKOD": "03080010T",
                                    "LISTAAR": "206",
                                    "kateg átlagár": "125,4"
                                },
                                {
                                    "TERMEKKOD": "03080011T",
                                    "LISTAAR": "148",
                                    "kateg átlagár": "125,4"
                                },
                                {
                                    "TERMEKKOD": "03080012T",
                                    "LISTAAR": "125",
                                    "kateg átlagár": "125,4"
                                },
                                {
                                    "TERMEKKOD": "03080013T",
                                    "LISTAAR": "64",
                                    "kateg átlagár": "125,4"
                                },
                                {
                                    "TERMEKKOD": "03080014T",
                                    "LISTAAR": "81",
                                    "kateg átlagár": "125,4"
                                },
                                {
                                    "TERMEKKOD": "03080015T",
                                    "LISTAAR": "169",
                                    "kateg átlagár": "125,4"
                                },
                                {
                                    "TERMEKKOD": "03080437T",
                                    "LISTAAR": "185",
                                    "kateg átlagár": "125,4"
                                },
                                {
                                    "TERMEKKOD": "03080438T",
                                    "LISTAAR": "214",
                                    "kateg átlagár": "125,4"
                                },
                                {
                                    "TERMEKKOD": "03080439T",
                                    "LISTAAR": "114",
                                    "kateg átlagár": "125,4"
                                },
                                {
                                    "TERMEKKOD": "04050022T",
                                    "LISTAAR": "89",
                                    "kateg átlagár": "125,66666666666667"
                                },
                                {
                                    "TERMEKKOD": "04050023T",
                                    "LISTAAR": "144",
                                    "kateg átlagár": "125,66666666666667"
                                },
                                {
                                    "TERMEKKOD": "04050024T",
                                    "LISTAAR": "144",
                                    "kateg átlagár": "125,66666666666667"
                                },
                                {
                                    "TERMEKKOD": "G041-AL211",
                                    "LISTAAR": "16900",
                                    "kateg átlagár": "21933,333333333332"
                                },
                                {
                                    "TERMEKKOD": "L041-AL211",
                                    "LISTAAR": "16900",
                                    "kateg átlagár": "21933,333333333332"
                                },
                                {
                                    "TERMEKKOD": "N029-AL212",
                                    "LISTAAR": "32000",
                                    "kateg átlagár": "21933,333333333332"
                                },
                                {
                                    "TERMEKKOD": "05010026T",
                                    "LISTAAR": "118",
                                    "kateg átlagár": "166"
                                },
                                {
                                    "TERMEKKOD": "05010027T",
                                    "LISTAAR": "214",
                                    "kateg átlagár": "166"
                                },
                                {
                                    "TERMEKKOD": "02010028T",
                                    "LISTAAR": "106",
                                    "kateg átlagár": "106"
                                },
                                {
                                    "TERMEKKOD": "02020029T",
                                    "LISTAAR": "115",
                                    "kateg átlagár": "115"
                                },
                                {
                                    "TERMEKKOD": "06080423T",
                                    "LISTAAR": "228",
                                    "kateg átlagár": "228"
                                },
                                {
                                    "TERMEKKOD": "02020032T",
                                    "LISTAAR": "133",
                                    "kateg átlagár": "230,5"
                                },
                                {
                                    "TERMEKKOD": "02020033T",
                                    "LISTAAR": "328",
                                    "kateg átlagár": "230,5"
                                },
                                {
                                    "TERMEKKOD": "02060038T",
                                    "LISTAAR": "780",
                                    "kateg átlagár": "988,5"
                                },
                                {
                                    "TERMEKKOD": "02060039T",
                                    "LISTAAR": "650",
                                    "kateg átlagár": "988,5"
                                },
                                {
                                    "TERMEKKOD": "02060447T",
                                    "LISTAAR": "1377",
                                    "kateg átlagár": "988,5"
                                },
                                {
                                    "TERMEKKOD": "02060448T",
                                    "LISTAAR": "1147",
                                    "kateg átlagár": "988,5"
                                },
                                {
                                    "TERMEKKOD": "02060034T",
                                    "LISTAAR": "297",
                                    "kateg átlagár": "297"
                                },
                                {
                                    "TERMEKKOD": "02050460T",
                                    "LISTAAR": "15",
                                    "kateg átlagár": "14,571428571428571"
                                },
                                {
                                    "TERMEKKOD": "02050461T",
                                    "LISTAAR": "18",
                                    "kateg átlagár": "14,571428571428571"
                                },
                                {
                                    "TERMEKKOD": "02030040T",
                                    "LISTAAR": "6",
                                    "kateg átlagár": "14,571428571428571"
                                },
                                {
                                    "TERMEKKOD": "02030041T",
                                    "LISTAAR": "6",
                                    "kateg átlagár": "14,571428571428571"
                                },
                                {
                                    "TERMEKKOD": "02030042T",
                                    "LISTAAR": "3",
                                    "kateg átlagár": "14,571428571428571"
                                },
                                {
                                    "TERMEKKOD": "02030043T",
                                    "LISTAAR": "39",
                                    "kateg átlagár": "14,571428571428571"
                                },
                                {
                                    "TERMEKKOD": "02030044T",
                                    "LISTAAR": "15",
                                    "kateg átlagár": "14,571428571428571"
                                },
                                {
                                    "TERMEKKOD": "02080069T",
                                    "LISTAAR": "30",
                                    "kateg átlagár": "30"
                                },
                                {
                                    "TERMEKKOD": "05050045T",
                                    "LISTAAR": "46",
                                    "kateg átlagár": "59,5"
                                },
                                {
                                    "TERMEKKOD": "05050046T",
                                    "LISTAAR": "73",
                                    "kateg átlagár": "59,5"
                                },
                                {
                                    "TERMEKKOD": "07080062T",
                                    "LISTAAR": "146",
                                    "kateg átlagár": "48,421052631578945"
                                },
                                {
                                    "TERMEKKOD": "07080063T",
                                    "LISTAAR": "35",
                                    "kateg átlagár": "48,421052631578945"
                                },
                                {
                                    "TERMEKKOD": "07080064T",
                                    "LISTAAR": "40",
                                    "kateg átlagár": "48,421052631578945"
                                },
                                {
                                    "TERMEKKOD": "07080065T",
                                    "LISTAAR": "11",
                                    "kateg átlagár": "48,421052631578945"
                                },
                                {
                                    "TERMEKKOD": "07040047T",
                                    "LISTAAR": "39",
                                    "kateg átlagár": "48,421052631578945"
                                },
                                {
                                    "TERMEKKOD": "07040048T",
                                    "LISTAAR": "55",
                                    "kateg átlagár": "48,421052631578945"
                                },
                                {
                                    "TERMEKKOD": "07040049T",
                                    "LISTAAR": "40",
                                    "kateg átlagár": "48,421052631578945"
                                },
                                {
                                    "TERMEKKOD": "07040050T",
                                    "LISTAAR": "30",
                                    "kateg átlagár": "48,421052631578945"
                                },
                                {
                                    "TERMEKKOD": "07040051T",
                                    "LISTAAR": "39",
                                    "kateg átlagár": "48,421052631578945"
                                },
                                {
                                    "TERMEKKOD": "07040052T",
                                    "LISTAAR": "53",
                                    "kateg átlagár": "48,421052631578945"
                                },
                                {
                                    "TERMEKKOD": "07040053T",
                                    "LISTAAR": "23",
                                    "kateg átlagár": "48,421052631578945"
                                },
                                {
                                    "TERMEKKOD": "07040054T",
                                    "LISTAAR": "55",
                                    "kateg átlagár": "48,421052631578945"
                                },
                                {
                                    "TERMEKKOD": "07040055T",
                                    "LISTAAR": "59",
                                    "kateg átlagár": "48,421052631578945"
                                },
                                {
                                    "TERMEKKOD": "07040056T",
                                    "LISTAAR": "40",
                                    "kateg átlagár": "48,421052631578945"
                                },
                                {
                                    "TERMEKKOD": "07040057T",
                                    "LISTAAR": "106",
                                    "kateg átlagár": "48,421052631578945"
                                },
                                {
                                    "TERMEKKOD": "07040058T",
                                    "LISTAAR": "11",
                                    "kateg átlagár": "48,421052631578945"
                                },
                                {
                                    "TERMEKKOD": "07040059T",
                                    "LISTAAR": "58",
                                    "kateg átlagár": "48,421052631578945"
                                },
                                {
                                    "TERMEKKOD": "07040060T",
                                    "LISTAAR": "36",
                                    "kateg átlagár": "48,421052631578945"
                                },
                                {
                                    "TERMEKKOD": "07040061T",
                                    "LISTAAR": "44",
                                    "kateg átlagár": "48,421052631578945"
                                },
                                {
                                    "TERMEKKOD": "04110066T",
                                    "LISTAAR": "26",
                                    "kateg átlagár": "25,666666666666668"
                                },
                                {
                                    "TERMEKKOD": "04110067T",
                                    "LISTAAR": "31",
                                    "kateg átlagár": "25,666666666666668"
                                },
                                {
                                    "TERMEKKOD": "04110068T",
                                    "LISTAAR": "20",
                                    "kateg átlagár": "25,666666666666668"
                                },
                                {
                                    "TERMEKKOD": "01100496T",
                                    "LISTAAR": "1500",
                                    "kateg átlagár": "310,6"
                                },
                                {
                                    "TERMEKKOD": "01100497T",
                                    "LISTAAR": "14",
                                    "kateg átlagár": "310,6"
                                },
                                {
                                    "TERMEKKOD": "01100503T",
                                    "LISTAAR": "10",
                                    "kateg átlagár": "310,6"
                                },
                                {
                                    "TERMEKKOD": "01090499T",
                                    "LISTAAR": "15",
                                    "kateg átlagár": "310,6"
                                },
                                {
                                    "TERMEKKOD": "01090500T",
                                    "LISTAAR": "14",
                                    "kateg átlagár": "310,6"
                                },
                                {
                                    "TERMEKKOD": "03080016T",
                                    "LISTAAR": "110",
                                    "kateg átlagár": "99,5"
                                },
                                {
                                    "TERMEKKOD": "05010370T",
                                    "LISTAAR": "89",
                                    "kateg átlagár": "99,5"
                                },
                                {
                                    "TERMEKKOD": "03080017T",
                                    "LISTAAR": "148",
                                    "kateg átlagár": "102,57142857142857"
                                },
                                {
                                    "TERMEKKOD": "03080018T",
                                    "LISTAAR": "121",
                                    "kateg átlagár": "102,57142857142857"
                                },
                                {
                                    "TERMEKKOD": "03080019T",
                                    "LISTAAR": "56",
                                    "kateg átlagár": "102,57142857142857"
                                },
                                {
                                    "TERMEKKOD": "03080020T",
                                    "LISTAAR": "44",
                                    "kateg átlagár": "102,57142857142857"
                                },
                                {
                                    "TERMEKKOD": "03080021T",
                                    "LISTAAR": "23",
                                    "kateg átlagár": "102,57142857142857"
                                },
                                {
                                    "TERMEKKOD": "03080030T",
                                    "LISTAAR": "220",
                                    "kateg átlagár": "102,57142857142857"
                                },
                                {
                                    "TERMEKKOD": "03080031T",
                                    "LISTAAR": "106",
                                    "kateg átlagár": "102,57142857142857"
                                },
                                {
                                    "TERMEKKOD": "04030286T",
                                    "LISTAAR": "44",
                                    "kateg átlagár": "21,25"
                                },
                                {
                                    "TERMEKKOD": "04030287T",
                                    "LISTAAR": "23",
                                    "kateg átlagár": "21,25"
                                },
                                {
                                    "TERMEKKOD": "04030288T",
                                    "LISTAAR": "3",
                                    "kateg átlagár": "21,25"
                                },
                                {
                                    "TERMEKKOD": "04030289T",
                                    "LISTAAR": "15",
                                    "kateg átlagár": "21,25"
                                },
                                {
                                    "TERMEKKOD": "01100072T",
                                    "LISTAAR": "9",
                                    "kateg átlagár": "9"
                                },
                                {
                                    "TERMEKKOD": "04050073T",
                                    "LISTAAR": "61",
                                    "kateg átlagár": "57"
                                },
                                {
                                    "TERMEKKOD": "04050074T",
                                    "LISTAAR": "66",
                                    "kateg átlagár": "57"
                                },
                                {
                                    "TERMEKKOD": "04050075T",
                                    "LISTAAR": "44",
                                    "kateg átlagár": "57"
                                },
                                {
                                    "TERMEKKOD": "03050076T",
                                    "LISTAAR": "26",
                                    "kateg átlagár": "36,2"
                                },
                                {
                                    "TERMEKKOD": "03050077T",
                                    "LISTAAR": "44",
                                    "kateg átlagár": "36,2"
                                },
                                {
                                    "TERMEKKOD": "03050078T",
                                    "LISTAAR": "15",
                                    "kateg átlagár": "36,2"
                                },
                                {
                                    "TERMEKKOD": "03050079T",
                                    "LISTAAR": "15",
                                    "kateg átlagár": "36,2"
                                },
                                {
                                    "TERMEKKOD": "03050080T",
                                    "LISTAAR": "81",
                                    "kateg átlagár": "36,2"
                                },
                                {
                                    "TERMEKKOD": "02080081T",
                                    "LISTAAR": "133",
                                    "kateg átlagár": "133"
                                },
                                {
                                    "TERMEKKOD": "06010082T",
                                    "LISTAAR": "40",
                                    "kateg átlagár": "70,42857142857143"
                                },
                                {
                                    "TERMEKKOD": "06010083T",
                                    "LISTAAR": "33",
                                    "kateg átlagár": "70,42857142857143"
                                },
                                {
                                    "TERMEKKOD": "06010084T",
                                    "LISTAAR": "60",
                                    "kateg átlagár": "70,42857142857143"
                                },
                                {
                                    "TERMEKKOD": "06010085T",
                                    "LISTAAR": "65",
                                    "kateg átlagár": "70,42857142857143"
                                },
                                {
                                    "TERMEKKOD": "06010086T",
                                    "LISTAAR": "36",
                                    "kateg átlagár": "70,42857142857143"
                                },
                                {
                                    "TERMEKKOD": "06040087T",
                                    "LISTAAR": "79",
                                    "kateg átlagár": "70,42857142857143"
                                },
                                {
                                    "TERMEKKOD": "06080428T",
                                    "LISTAAR": "180",
                                    "kateg átlagár": "70,42857142857143"
                                },
                                {
                                    "TERMEKKOD": "01040502T",
                                    "LISTAAR": "25",
                                    "kateg átlagár": "25"
                                },
                                {
                                    "TERMEKKOD": "04080442T",
                                    "LISTAAR": "316",
                                    "kateg átlagár": "430,3333333333333"
                                },
                                {
                                    "TERMEKKOD": "04080443T",
                                    "LISTAAR": "449",
                                    "kateg átlagár": "430,3333333333333"
                                },
                                {
                                    "TERMEKKOD": "04040090T",
                                    "LISTAAR": "526",
                                    "kateg átlagár": "430,3333333333333"
                                },
                                {
                                    "TERMEKKOD": "01030091T",
                                    "LISTAAR": "26",
                                    "kateg átlagár": "26"
                                },
                                {
                                    "TERMEKKOD": "01080093T",
                                    "LISTAAR": "161",
                                    "kateg átlagár": "161"
                                },
                                {
                                    "TERMEKKOD": "N019-FE301",
                                    "LISTAAR": "690",
                                    "kateg átlagár": "561,4285714285714"
                                },
                                {
                                    "TERMEKKOD": "L023-FE301",
                                    "LISTAAR": "390",
                                    "kateg átlagár": "561,4285714285714"
                                },
                                {
                                    "TERMEKKOD": "L029-FE307",
                                    "LISTAAR": "240",
                                    "kateg átlagár": "561,4285714285714"
                                },
                                {
                                    "TERMEKKOD": "L033-FE311",
                                    "LISTAAR": "990",
                                    "kateg átlagár": "561,4285714285714"
                                },
                                {
                                    "TERMEKKOD": "G023-FE301",
                                    "LISTAAR": "390",
                                    "kateg átlagár": "561,4285714285714"
                                },
                                {
                                    "TERMEKKOD": "G029-FE307",
                                    "LISTAAR": "240",
                                    "kateg átlagár": "561,4285714285714"
                                },
                                {
                                    "TERMEKKOD": "G038-FE316",
                                    "LISTAAR": "990",
                                    "kateg átlagár": "561,4285714285714"
                                },
                                {
                                    "TERMEKKOD": "01100094T",
                                    "LISTAAR": "845",
                                    "kateg átlagár": "895"
                                },
                                {
                                    "TERMEKKOD": "01100095T",
                                    "LISTAAR": "728",
                                    "kateg átlagár": "895"
                                },
                                {
                                    "TERMEKKOD": "01100096T",
                                    "LISTAAR": "728",
                                    "kateg átlagár": "895"
                                },
                                {
                                    "TERMEKKOD": "01100504T",
                                    "LISTAAR": "1488",
                                    "kateg átlagár": "895"
                                },
                                {
                                    "TERMEKKOD": "01100505T",
                                    "LISTAAR": "686",
                                    "kateg átlagár": "895"
                                },
                                {
                                    "TERMEKKOD": "F021-IN215",
                                    "LISTAAR": "6490",
                                    "kateg átlagár": "6490"
                                },
                                {
                                    "TERMEKKOD": "F001-KB101",
                                    "LISTAAR": "22000",
                                    "kateg átlagár": "22000"
                                },
                                {
                                    "TERMEKKOD": "F007-NA201",
                                    "LISTAAR": "7890",
                                    "kateg átlagár": "9895"
                                },
                                {
                                    "TERMEKKOD": "F013-NA207",
                                    "LISTAAR": "11900",
                                    "kateg átlagár": "9895"
                                },
                                {
                                    "TERMEKKOD": "02080455T",
                                    "LISTAAR": "625",
                                    "kateg átlagár": "625"
                                },
                                {
                                    "TERMEKKOD": "07030103T",
                                    "LISTAAR": "53",
                                    "kateg átlagár": "182,30769230769232"
                                },
                                {
                                    "TERMEKKOD": "07030104T",
                                    "LISTAAR": "76",
                                    "kateg átlagár": "182,30769230769232"
                                },
                                {
                                    "TERMEKKOD": "07030105T",
                                    "LISTAAR": "114",
                                    "kateg átlagár": "182,30769230769232"
                                },
                                {
                                    "TERMEKKOD": "07030106T",
                                    "LISTAAR": "103",
                                    "kateg átlagár": "182,30769230769232"
                                },
                                {
                                    "TERMEKKOD": "07030107T",
                                    "LISTAAR": "276",
                                    "kateg átlagár": "182,30769230769232"
                                },
                                {
                                    "TERMEKKOD": "07030108T",
                                    "LISTAAR": "0",
                                    "kateg átlagár": "182,30769230769232"
                                },
                                {
                                    "TERMEKKOD": "07040257T",
                                    "LISTAAR": "434",
                                    "kateg átlagár": "182,30769230769232"
                                },
                                {
                                    "TERMEKKOD": "07040097T",
                                    "LISTAAR": "26",
                                    "kateg átlagár": "182,30769230769232"
                                },
                                {
                                    "TERMEKKOD": "07040098T",
                                    "LISTAAR": "278",
                                    "kateg átlagár": "182,30769230769232"
                                },
                                {
                                    "TERMEKKOD": "07040099T",
                                    "LISTAAR": "434",
                                    "kateg átlagár": "182,30769230769232"
                                },
                                {
                                    "TERMEKKOD": "07040100T",
                                    "LISTAAR": "390",
                                    "kateg átlagár": "182,30769230769232"
                                },
                                {
                                    "TERMEKKOD": "07040101T",
                                    "LISTAAR": "140",
                                    "kateg átlagár": "182,30769230769232"
                                },
                                {
                                    "TERMEKKOD": "07040102T",
                                    "LISTAAR": "46",
                                    "kateg átlagár": "182,30769230769232"
                                },
                                {
                                    "TERMEKKOD": "02080109T",
                                    "LISTAAR": "51",
                                    "kateg átlagár": "51"
                                },
                                {
                                    "TERMEKKOD": "02040506T",
                                    "LISTAAR": "44",
                                    "kateg átlagár": "42,666666666666664"
                                },
                                {
                                    "TERMEKKOD": "02040507T",
                                    "LISTAAR": "40",
                                    "kateg átlagár": "42,666666666666664"
                                },
                                {
                                    "TERMEKKOD": "02040508T",
                                    "LISTAAR": "44",
                                    "kateg átlagár": "42,666666666666664"
                                },
                                {
                                    "TERMEKKOD": "01010110T",
                                    "LISTAAR": "30",
                                    "kateg átlagár": "30"
                                },
                                {
                                    "TERMEKKOD": "06040354T",
                                    "LISTAAR": "206",
                                    "kateg átlagár": "95,18181818181819"
                                },
                                {
                                    "TERMEKKOD": "06040355T",
                                    "LISTAAR": "155",
                                    "kateg átlagár": "95,18181818181819"
                                },
                                {
                                    "TERMEKKOD": "06040356T",
                                    "LISTAAR": "144",
                                    "kateg átlagár": "95,18181818181819"
                                },
                                {
                                    "TERMEKKOD": "06040357T",
                                    "LISTAAR": "89",
                                    "kateg átlagár": "95,18181818181819"
                                },
                                {
                                    "TERMEKKOD": "06010111T",
                                    "LISTAAR": "68",
                                    "kateg átlagár": "95,18181818181819"
                                },
                                {
                                    "TERMEKKOD": "06010112T",
                                    "LISTAAR": "78",
                                    "kateg átlagár": "95,18181818181819"
                                },
                                {
                                    "TERMEKKOD": "06010113T",
                                    "LISTAAR": "34",
                                    "kateg átlagár": "95,18181818181819"
                                },
                                {
                                    "TERMEKKOD": "06010114T",
                                    "LISTAAR": "30",
                                    "kateg átlagár": "95,18181818181819"
                                },
                                {
                                    "TERMEKKOD": "06010115T",
                                    "LISTAAR": "48",
                                    "kateg átlagár": "95,18181818181819"
                                },
                                {
                                    "TERMEKKOD": "06080116T",
                                    "LISTAAR": "34",
                                    "kateg átlagár": "95,18181818181819"
                                },
                                {
                                    "TERMEKKOD": "06080426T",
                                    "LISTAAR": "161",
                                    "kateg átlagár": "95,18181818181819"
                                },
                                {
                                    "TERMEKKOD": "06080424T",
                                    "LISTAAR": "24",
                                    "kateg átlagár": "42,57142857142857"
                                },
                                {
                                    "TERMEKKOD": "06080117T",
                                    "LISTAAR": "10",
                                    "kateg átlagár": "42,57142857142857"
                                },
                                {
                                    "TERMEKKOD": "06080118T",
                                    "LISTAAR": "8",
                                    "kateg átlagár": "42,57142857142857"
                                },
                                {
                                    "TERMEKKOD": "06080119T",
                                    "LISTAAR": "19",
                                    "kateg átlagár": "42,57142857142857"
                                },
                                {
                                    "TERMEKKOD": "06080120T",
                                    "LISTAAR": "23",
                                    "kateg átlagár": "42,57142857142857"
                                },
                                {
                                    "TERMEKKOD": "06080121T",
                                    "LISTAAR": "195",
                                    "kateg átlagár": "42,57142857142857"
                                },
                                {
                                    "TERMEKKOD": "06080122T",
                                    "LISTAAR": "19",
                                    "kateg átlagár": "42,57142857142857"
                                },
                                {
                                    "TERMEKKOD": "06080123T",
                                    "LISTAAR": "551",
                                    "kateg átlagár": "418,25"
                                },
                                {
                                    "TERMEKKOD": "06080124T",
                                    "LISTAAR": "508",
                                    "kateg átlagár": "418,25"
                                },
                                {
                                    "TERMEKKOD": "06080125T",
                                    "LISTAAR": "411",
                                    "kateg átlagár": "418,25"
                                },
                                {
                                    "TERMEKKOD": "06080126T",
                                    "LISTAAR": "203",
                                    "kateg átlagár": "418,25"
                                },
                                {
                                    "TERMEKKOD": "02040145T",
                                    "LISTAAR": "30",
                                    "kateg átlagár": "39"
                                },
                                {
                                    "TERMEKKOD": "02040146T",
                                    "LISTAAR": "48",
                                    "kateg átlagár": "39"
                                },
                                {
                                    "TERMEKKOD": "02080450T",
                                    "LISTAAR": "44",
                                    "kateg átlagár": "73,5"
                                },
                                {
                                    "TERMEKKOD": "02080451T",
                                    "LISTAAR": "103",
                                    "kateg átlagár": "73,5"
                                },
                                {
                                    "TERMEKKOD": "02080456T",
                                    "LISTAAR": "89",
                                    "kateg átlagár": "89"
                                },
                                {
                                    "TERMEKKOD": "02040147T",
                                    "LISTAAR": "8",
                                    "kateg átlagár": "60,333333333333336"
                                },
                                {
                                    "TERMEKKOD": "02040148T",
                                    "LISTAAR": "63",
                                    "kateg átlagár": "60,333333333333336"
                                },
                                {
                                    "TERMEKKOD": "02040149T",
                                    "LISTAAR": "110",
                                    "kateg átlagár": "60,333333333333336"
                                },
                                {
                                    "TERMEKKOD": "07040165T",
                                    "LISTAAR": "218",
                                    "kateg átlagár": "255,8846153846154"
                                },
                                {
                                    "TERMEKKOD": "07040166T",
                                    "LISTAAR": "455",
                                    "kateg átlagár": "255,8846153846154"
                                },
                                {
                                    "TERMEKKOD": "07040167T",
                                    "LISTAAR": "655",
                                    "kateg átlagár": "255,8846153846154"
                                },
                                {
                                    "TERMEKKOD": "07040168T",
                                    "LISTAAR": "189",
                                    "kateg átlagár": "255,8846153846154"
                                },
                                {
                                    "TERMEKKOD": "07040169T",
                                    "LISTAAR": "94",
                                    "kateg átlagár": "255,8846153846154"
                                },
                                {
                                    "TERMEKKOD": "07080466T",
                                    "LISTAAR": "81",
                                    "kateg átlagár": "255,8846153846154"
                                },
                                {
                                    "TERMEKKOD": "07080467T",
                                    "LISTAAR": "273",
                                    "kateg átlagár": "255,8846153846154"
                                },
                                {
                                    "TERMEKKOD": "07080468T",
                                    "LISTAAR": "110",
                                    "kateg átlagár": "255,8846153846154"
                                },
                                {
                                    "TERMEKKOD": "07080469T",
                                    "LISTAAR": "364",
                                    "kateg átlagár": "255,8846153846154"
                                },
                                {
                                    "TERMEKKOD": "07080470T",
                                    "LISTAAR": "188",
                                    "kateg átlagár": "255,8846153846154"
                                },
                                {
                                    "TERMEKKOD": "07080471T",
                                    "LISTAAR": "294",
                                    "kateg átlagár": "255,8846153846154"
                                },
                                {
                                    "TERMEKKOD": "07080150T",
                                    "LISTAAR": "51",
                                    "kateg átlagár": "255,8846153846154"
                                },
                                {
                                    "TERMEKKOD": "07080151T",
                                    "LISTAAR": "390",
                                    "kateg átlagár": "255,8846153846154"
                                },
                                {
                                    "TERMEKKOD": "07080152T",
                                    "LISTAAR": "1019",
                                    "kateg átlagár": "255,8846153846154"
                                },
                                {
                                    "TERMEKKOD": "07080153T",
                                    "LISTAAR": "41",
                                    "kateg átlagár": "255,8846153846154"
                                },
                                {
                                    "TERMEKKOD": "07080154T",
                                    "LISTAAR": "401",
                                    "kateg átlagár": "255,8846153846154"
                                },
                                {
                                    "TERMEKKOD": "07080155T",
                                    "LISTAAR": "33",
                                    "kateg átlagár": "255,8846153846154"
                                },
                                {
                                    "TERMEKKOD": "07080156T",
                                    "LISTAAR": "23",
                                    "kateg átlagár": "255,8846153846154"
                                },
                                {
                                    "TERMEKKOD": "07080157T",
                                    "LISTAAR": "93",
                                    "kateg átlagár": "255,8846153846154"
                                },
                                {
                                    "TERMEKKOD": "07080158T",
                                    "LISTAAR": "773",
                                    "kateg átlagár": "255,8846153846154"
                                },
                                {
                                    "TERMEKKOD": "07080159T",
                                    "LISTAAR": "63",
                                    "kateg átlagár": "255,8846153846154"
                                },
                                {
                                    "TERMEKKOD": "07080160T",
                                    "LISTAAR": "239",
                                    "kateg átlagár": "255,8846153846154"
                                },
                                {
                                    "TERMEKKOD": "07080161T",
                                    "LISTAAR": "44",
                                    "kateg átlagár": "255,8846153846154"
                                },
                                {
                                    "TERMEKKOD": "07080162T",
                                    "LISTAAR": "101",
                                    "kateg átlagár": "255,8846153846154"
                                },
                                {
                                    "TERMEKKOD": "07080163T",
                                    "LISTAAR": "230",
                                    "kateg átlagár": "255,8846153846154"
                                },
                                {
                                    "TERMEKKOD": "07080164T",
                                    "LISTAAR": "231",
                                    "kateg átlagár": "255,8846153846154"
                                },
                                {
                                    "TERMEKKOD": "05050170T",
                                    "LISTAAR": "19",
                                    "kateg átlagár": "19"
                                },
                                {
                                    "TERMEKKOD": "G064-CI401",
                                    "LISTAAR": "6900",
                                    "kateg átlagár": "7600"
                                },
                                {
                                    "TERMEKKOD": "G073-CI410",
                                    "LISTAAR": "7900",
                                    "kateg átlagár": "7600"
                                },
                                {
                                    "TERMEKKOD": "G082-CI419",
                                    "LISTAAR": "8000",
                                    "kateg átlagár": "7600"
                                },
                                {
                                    "TERMEKKOD": "L064-CI401",
                                    "LISTAAR": "6900",
                                    "kateg átlagár": "7600"
                                },
                                {
                                    "TERMEKKOD": "L073-CI410",
                                    "LISTAAR": "7900",
                                    "kateg átlagár": "7600"
                                },
                                {
                                    "TERMEKKOD": "L082-CI419",
                                    "LISTAAR": "8000",
                                    "kateg átlagár": "7600"
                                },
                                {
                                    "TERMEKKOD": "L001-KB101",
                                    "LISTAAR": "8900",
                                    "kateg átlagár": "8900"
                                },
                                {
                                    "TERMEKKOD": "G001-KB101",
                                    "LISTAAR": "8900",
                                    "kateg átlagár": "8900"
                                },
                                {
                                    "TERMEKKOD": "G013-NA201",
                                    "LISTAAR": "4990",
                                    "kateg átlagár": "3140"
                                },
                                {
                                    "TERMEKKOD": "G019-NA207",
                                    "LISTAAR": "1290",
                                    "kateg átlagár": "3140"
                                },
                                {
                                    "TERMEKKOD": "L013-NA201",
                                    "LISTAAR": "4990",
                                    "kateg átlagár": "3140"
                                },
                                {
                                    "TERMEKKOD": "L019-NA207",
                                    "LISTAAR": "1290",
                                    "kateg átlagár": "3140"
                                },
                                {
                                    "TERMEKKOD": "G048-PO218",
                                    "LISTAAR": "3900",
                                    "kateg átlagár": "3900"
                                },
                                {
                                    "TERMEKKOD": "L048-PO218",
                                    "LISTAAR": "3900",
                                    "kateg átlagár": "3900"
                                },
                                {
                                    "TERMEKKOD": "02040176T",
                                    "LISTAAR": "18",
                                    "kateg átlagár": "27,666666666666668"
                                },
                                {
                                    "TERMEKKOD": "02040177T",
                                    "LISTAAR": "30",
                                    "kateg átlagár": "27,666666666666668"
                                },
                                {
                                    "TERMEKKOD": "02040178T",
                                    "LISTAAR": "35",
                                    "kateg átlagár": "27,666666666666668"
                                },
                                {
                                    "TERMEKKOD": "06040179T",
                                    "LISTAAR": "180",
                                    "kateg átlagár": "172,5"
                                },
                                {
                                    "TERMEKKOD": "06040180T",
                                    "LISTAAR": "228",
                                    "kateg átlagár": "172,5"
                                },
                                {
                                    "TERMEKKOD": "06080440T",
                                    "LISTAAR": "161",
                                    "kateg átlagár": "172,5"
                                },
                                {
                                    "TERMEKKOD": "06080441T",
                                    "LISTAAR": "121",
                                    "kateg átlagár": "172,5"
                                },
                                {
                                    "TERMEKKOD": "06040182T",
                                    "LISTAAR": "184",
                                    "kateg átlagár": "355,4"
                                },
                                {
                                    "TERMEKKOD": "06040183T",
                                    "LISTAAR": "95",
                                    "kateg átlagár": "355,4"
                                },
                                {
                                    "TERMEKKOD": "06040184T",
                                    "LISTAAR": "218",
                                    "kateg átlagár": "355,4"
                                },
                                {
                                    "TERMEKKOD": "06040185T",
                                    "LISTAAR": "581",
                                    "kateg átlagár": "355,4"
                                },
                                {
                                    "TERMEKKOD": "06040186T",
                                    "LISTAAR": "699",
                                    "kateg átlagár": "355,4"
                                },
                                {
                                    "TERMEKKOD": "04050187T",
                                    "LISTAAR": "66",
                                    "kateg átlagár": "66"
                                },
                                {
                                    "TERMEKKOD": "02020444T",
                                    "LISTAAR": "464",
                                    "kateg átlagár": "596"
                                },
                                {
                                    "TERMEKKOD": "04020445T",
                                    "LISTAAR": "728",
                                    "kateg átlagár": "596"
                                },
                                {
                                    "TERMEKKOD": "06080188T",
                                    "LISTAAR": "875",
                                    "kateg átlagár": "239,5"
                                },
                                {
                                    "TERMEKKOD": "06080189T",
                                    "LISTAAR": "30",
                                    "kateg átlagár": "239,5"
                                },
                                {
                                    "TERMEKKOD": "06080190T",
                                    "LISTAAR": "23",
                                    "kateg átlagár": "239,5"
                                },
                                {
                                    "TERMEKKOD": "06080191T",
                                    "LISTAAR": "30",
                                    "kateg átlagár": "239,5"
                                },
                                {
                                    "TERMEKKOD": "06080192T",
                                    "LISTAAR": "70",
                                    "kateg átlagár": "125"
                                },
                                {
                                    "TERMEKKOD": "06080193T",
                                    "LISTAAR": "180",
                                    "kateg átlagár": "125"
                                },
                                {
                                    "TERMEKKOD": "02040194T",
                                    "LISTAAR": "794",
                                    "kateg átlagár": "290"
                                },
                                {
                                    "TERMEKKOD": "02040195T",
                                    "LISTAAR": "185",
                                    "kateg átlagár": "290"
                                },
                                {
                                    "TERMEKKOD": "02040196T",
                                    "LISTAAR": "273",
                                    "kateg átlagár": "290"
                                },
                                {
                                    "TERMEKKOD": "02040197T",
                                    "LISTAAR": "81",
                                    "kateg átlagár": "290"
                                },
                                {
                                    "TERMEKKOD": "02040198T",
                                    "LISTAAR": "133",
                                    "kateg átlagár": "290"
                                },
                                {
                                    "TERMEKKOD": "02040199T",
                                    "LISTAAR": "286",
                                    "kateg átlagár": "290"
                                },
                                {
                                    "TERMEKKOD": "02040200T",
                                    "LISTAAR": "278",
                                    "kateg átlagár": "290"
                                },
                                {
                                    "TERMEKKOD": "04050203T",
                                    "LISTAAR": "24",
                                    "kateg átlagár": "96,5"
                                },
                                {
                                    "TERMEKKOD": "04050204T",
                                    "LISTAAR": "169",
                                    "kateg átlagár": "96,5"
                                },
                                {
                                    "TERMEKKOD": "06040205T",
                                    "LISTAAR": "15",
                                    "kateg átlagár": "13,5"
                                },
                                {
                                    "TERMEKKOD": "06040206T",
                                    "LISTAAR": "12",
                                    "kateg átlagár": "13,5"
                                },
                                {
                                    "TERMEKKOD": "02040207T",
                                    "LISTAAR": "19",
                                    "kateg átlagár": "57"
                                },
                                {
                                    "TERMEKKOD": "02040208T",
                                    "LISTAAR": "19",
                                    "kateg átlagár": "57"
                                },
                                {
                                    "TERMEKKOD": "02040025T",
                                    "LISTAAR": "133",
                                    "kateg átlagár": "57"
                                },
                                {
                                    "TERMEKKOD": "02080432T",
                                    "LISTAAR": "259",
                                    "kateg átlagár": "251"
                                },
                                {
                                    "TERMEKKOD": "02040211T",
                                    "LISTAAR": "243",
                                    "kateg átlagár": "251"
                                },
                                {
                                    "TERMEKKOD": "02040209T",
                                    "LISTAAR": "44",
                                    "kateg átlagár": "66,5"
                                },
                                {
                                    "TERMEKKOD": "02040210T",
                                    "LISTAAR": "89",
                                    "kateg átlagár": "66,5"
                                },
                                {
                                    "TERMEKKOD": "02080436T",
                                    "LISTAAR": "66",
                                    "kateg átlagár": "140"
                                },
                                {
                                    "TERMEKKOD": "02080431T",
                                    "LISTAAR": "214",
                                    "kateg átlagár": "140"
                                },
                                {
                                    "TERMEKKOD": "02040214T",
                                    "LISTAAR": "59",
                                    "kateg átlagár": "59"
                                },
                                {
                                    "TERMEKKOD": "06040212T",
                                    "LISTAAR": "29",
                                    "kateg átlagár": "31,5"
                                },
                                {
                                    "TERMEKKOD": "06040213T",
                                    "LISTAAR": "34",
                                    "kateg átlagár": "31,5"
                                },
                                {
                                    "TERMEKKOD": "07040215T",
                                    "LISTAAR": "74",
                                    "kateg átlagár": "54"
                                },
                                {
                                    "TERMEKKOD": "07040216T",
                                    "LISTAAR": "36",
                                    "kateg átlagár": "54"
                                },
                                {
                                    "TERMEKKOD": "07040217T",
                                    "LISTAAR": "59",
                                    "kateg átlagár": "54"
                                },
                                {
                                    "TERMEKKOD": "07040218T",
                                    "LISTAAR": "23",
                                    "kateg átlagár": "54"
                                },
                                {
                                    "TERMEKKOD": "07040219T",
                                    "LISTAAR": "78",
                                    "kateg átlagár": "54"
                                },
                                {
                                    "TERMEKKOD": "06080427T",
                                    "LISTAAR": "161",
                                    "kateg átlagár": "84,91666666666667"
                                },
                                {
                                    "TERMEKKOD": "06080430T",
                                    "LISTAAR": "74",
                                    "kateg átlagár": "84,91666666666667"
                                },
                                {
                                    "TERMEKKOD": "07050463T",
                                    "LISTAAR": "36",
                                    "kateg átlagár": "84,91666666666667"
                                },
                                {
                                    "TERMEKKOD": "06080259T",
                                    "LISTAAR": "161",
                                    "kateg átlagár": "84,91666666666667"
                                },
                                {
                                    "TERMEKKOD": "06050249T",
                                    "LISTAAR": "73",
                                    "kateg átlagár": "84,91666666666667"
                                },
                                {
                                    "TERMEKKOD": "06040399T",
                                    "LISTAAR": "125",
                                    "kateg átlagár": "84,91666666666667"
                                },
                                {
                                    "TERMEKKOD": "06040400T",
                                    "LISTAAR": "511",
                                    "kateg átlagár": "84,91666666666667"
                                },
                                {
                                    "TERMEKKOD": "06010036T",
                                    "LISTAAR": "33",
                                    "kateg átlagár": "84,91666666666667"
                                },
                                {
                                    "TERMEKKOD": "06080422T",
                                    "LISTAAR": "324",
                                    "kateg átlagár": "84,91666666666667"
                                },
                                {
                                    "TERMEKKOD": "06010201T",
                                    "LISTAAR": "36",
                                    "kateg átlagár": "84,91666666666667"
                                },
                                {
                                    "TERMEKKOD": "06010202T",
                                    "LISTAAR": "23",
                                    "kateg átlagár": "84,91666666666667"
                                },
                                {
                                    "TERMEKKOD": "06010305T",
                                    "LISTAAR": "9",
                                    "kateg átlagár": "84,91666666666667"
                                },
                                {
                                    "TERMEKKOD": "06040181T",
                                    "LISTAAR": "8",
                                    "kateg átlagár": "84,91666666666667"
                                },
                                {
                                    "TERMEKKOD": "06040352T",
                                    "LISTAAR": "103",
                                    "kateg átlagár": "84,91666666666667"
                                },
                                {
                                    "TERMEKKOD": "06040353T",
                                    "LISTAAR": "8",
                                    "kateg átlagár": "84,91666666666667"
                                },
                                {
                                    "TERMEKKOD": "06040088T",
                                    "LISTAAR": "51",
                                    "kateg átlagár": "84,91666666666667"
                                },
                                {
                                    "TERMEKKOD": "06040089T",
                                    "LISTAAR": "5",
                                    "kateg átlagár": "84,91666666666667"
                                },
                                {
                                    "TERMEKKOD": "06010365T",
                                    "LISTAAR": "36",
                                    "kateg átlagár": "84,91666666666667"
                                },
                                {
                                    "TERMEKKOD": "06010367T",
                                    "LISTAAR": "35",
                                    "kateg átlagár": "84,91666666666667"
                                },
                                {
                                    "TERMEKKOD": "06010368T",
                                    "LISTAAR": "61",
                                    "kateg átlagár": "84,91666666666667"
                                },
                                {
                                    "TERMEKKOD": "06010373T",
                                    "LISTAAR": "43",
                                    "kateg átlagár": "84,91666666666667"
                                },
                                {
                                    "TERMEKKOD": "06010374T",
                                    "LISTAAR": "45",
                                    "kateg átlagár": "84,91666666666667"
                                },
                                {
                                    "TERMEKKOD": "06040383T",
                                    "LISTAAR": "19",
                                    "kateg átlagár": "84,91666666666667"
                                },
                                {
                                    "TERMEKKOD": "06040384T",
                                    "LISTAAR": "58",
                                    "kateg átlagár": "84,91666666666667"
                                },
                                {
                                    "TERMEKKOD": "04050220T",
                                    "LISTAAR": "65",
                                    "kateg átlagár": "109"
                                },
                                {
                                    "TERMEKKOD": "04050221T",
                                    "LISTAAR": "133",
                                    "kateg átlagár": "109"
                                },
                                {
                                    "TERMEKKOD": "04050222T",
                                    "LISTAAR": "165",
                                    "kateg átlagár": "109"
                                },
                                {
                                    "TERMEKKOD": "04050223T",
                                    "LISTAAR": "73",
                                    "kateg átlagár": "109"
                                },
                                {
                                    "TERMEKKOD": "04050224T",
                                    "LISTAAR": "48",
                                    "kateg átlagár": "48"
                                },
                                {
                                    "TERMEKKOD": "02080226T",
                                    "LISTAAR": "106",
                                    "kateg átlagár": "106"
                                },
                                {
                                    "TERMEKKOD": "01080513T",
                                    "LISTAAR": "38",
                                    "kateg átlagár": "46"
                                },
                                {
                                    "TERMEKKOD": "01090515T",
                                    "LISTAAR": "11",
                                    "kateg átlagár": "46"
                                },
                                {
                                    "TERMEKKOD": "01090516T",
                                    "LISTAAR": "25",
                                    "kateg átlagár": "46"
                                },
                                {
                                    "TERMEKKOD": "01100070T",
                                    "LISTAAR": "73",
                                    "kateg átlagár": "46"
                                },
                                {
                                    "TERMEKKOD": "01100071T",
                                    "LISTAAR": "89",
                                    "kateg átlagár": "46"
                                },
                                {
                                    "TERMEKKOD": "01100509T",
                                    "LISTAAR": "40",
                                    "kateg átlagár": "46"
                                },
                                {
                                    "TERMEKKOD": "04050225T",
                                    "LISTAAR": "131",
                                    "kateg átlagár": "131"
                                },
                                {
                                    "TERMEKKOD": "04110227T",
                                    "LISTAAR": "33",
                                    "kateg átlagár": "60,1875"
                                },
                                {
                                    "TERMEKKOD": "04110228T",
                                    "LISTAAR": "184",
                                    "kateg átlagár": "60,1875"
                                },
                                {
                                    "TERMEKKOD": "04110229T",
                                    "LISTAAR": "33",
                                    "kateg átlagár": "60,1875"
                                },
                                {
                                    "TERMEKKOD": "04110230T",
                                    "LISTAAR": "55",
                                    "kateg átlagár": "60,1875"
                                },
                                {
                                    "TERMEKKOD": "04110231T",
                                    "LISTAAR": "81",
                                    "kateg átlagár": "60,1875"
                                },
                                {
                                    "TERMEKKOD": "04110232T",
                                    "LISTAAR": "51",
                                    "kateg átlagár": "60,1875"
                                },
                                {
                                    "TERMEKKOD": "04110233T",
                                    "LISTAAR": "89",
                                    "kateg átlagár": "60,1875"
                                },
                                {
                                    "TERMEKKOD": "04030234T",
                                    "LISTAAR": "30",
                                    "kateg átlagár": "60,1875"
                                },
                                {
                                    "TERMEKKOD": "04030235T",
                                    "LISTAAR": "73",
                                    "kateg átlagár": "60,1875"
                                },
                                {
                                    "TERMEKKOD": "04030236T",
                                    "LISTAAR": "15",
                                    "kateg átlagár": "60,1875"
                                },
                                {
                                    "TERMEKKOD": "04030237T",
                                    "LISTAAR": "36",
                                    "kateg átlagár": "60,1875"
                                },
                                {
                                    "TERMEKKOD": "04030238T",
                                    "LISTAAR": "59",
                                    "kateg átlagár": "60,1875"
                                },
                                {
                                    "TERMEKKOD": "04030239T",
                                    "LISTAAR": "48",
                                    "kateg átlagár": "60,1875"
                                },
                                {
                                    "TERMEKKOD": "04030240T",
                                    "LISTAAR": "14",
                                    "kateg átlagár": "60,1875"
                                },
                                {
                                    "TERMEKKOD": "04030241T",
                                    "LISTAAR": "44",
                                    "kateg átlagár": "60,1875"
                                },
                                {
                                    "TERMEKKOD": "04030242T",
                                    "LISTAAR": "118",
                                    "kateg átlagár": "60,1875"
                                },
                                {
                                    "TERMEKKOD": "04030243T",
                                    "LISTAAR": "195",
                                    "kateg átlagár": "195"
                                },
                                {
                                    "TERMEKKOD": "N035-AL218",
                                    "LISTAAR": "39000",
                                    "kateg átlagár": "42500"
                                },
                                {
                                    "TERMEKKOD": "N039-AL222",
                                    "LISTAAR": "46000",
                                    "kateg átlagár": "42500"
                                },
                                {
                                    "TERMEKKOD": "06040246T",
                                    "LISTAAR": "161",
                                    "kateg átlagár": "144,66666666666666"
                                },
                                {
                                    "TERMEKKOD": "06040247T",
                                    "LISTAAR": "30",
                                    "kateg átlagár": "144,66666666666666"
                                },
                                {
                                    "TERMEKKOD": "06040248T",
                                    "LISTAAR": "243",
                                    "kateg átlagár": "144,66666666666666"
                                },
                                {
                                    "TERMEKKOD": "01100510T",
                                    "LISTAAR": "13",
                                    "kateg átlagár": "8,5"
                                },
                                {
                                    "TERMEKKOD": "01090501T",
                                    "LISTAAR": "4",
                                    "kateg átlagár": "8,5"
                                },
                                {
                                    "TERMEKKOD": "04050250T",
                                    "LISTAAR": "115",
                                    "kateg átlagár": "115,71428571428571"
                                },
                                {
                                    "TERMEKKOD": "04050251T",
                                    "LISTAAR": "148",
                                    "kateg átlagár": "115,71428571428571"
                                },
                                {
                                    "TERMEKKOD": "04050252T",
                                    "LISTAAR": "124",
                                    "kateg átlagár": "115,71428571428571"
                                },
                                {
                                    "TERMEKKOD": "04050253T",
                                    "LISTAAR": "103",
                                    "kateg átlagár": "115,71428571428571"
                                },
                                {
                                    "TERMEKKOD": "04050254T",
                                    "LISTAAR": "155",
                                    "kateg átlagár": "115,71428571428571"
                                },
                                {
                                    "TERMEKKOD": "04050255T",
                                    "LISTAAR": "36",
                                    "kateg átlagár": "115,71428571428571"
                                },
                                {
                                    "TERMEKKOD": "04050256T",
                                    "LISTAAR": "129",
                                    "kateg átlagár": "115,71428571428571"
                                },
                                {
                                    "TERMEKKOD": "04040387T",
                                    "LISTAAR": "81",
                                    "kateg átlagár": "95,5"
                                },
                                {
                                    "TERMEKKOD": "04050171T",
                                    "LISTAAR": "110",
                                    "kateg átlagár": "95,5"
                                },
                                {
                                    "TERMEKKOD": "04030260T",
                                    "LISTAAR": "15",
                                    "kateg átlagár": "92,28571428571429"
                                },
                                {
                                    "TERMEKKOD": "04030261T",
                                    "LISTAAR": "140",
                                    "kateg átlagár": "92,28571428571429"
                                },
                                {
                                    "TERMEKKOD": "04030262T",
                                    "LISTAAR": "56",
                                    "kateg átlagár": "92,28571428571429"
                                },
                                {
                                    "TERMEKKOD": "04030263T",
                                    "LISTAAR": "89",
                                    "kateg átlagár": "92,28571428571429"
                                },
                                {
                                    "TERMEKKOD": "04030264T",
                                    "LISTAAR": "74",
                                    "kateg átlagár": "92,28571428571429"
                                },
                                {
                                    "TERMEKKOD": "04030265T",
                                    "LISTAAR": "103",
                                    "kateg átlagár": "92,28571428571429"
                                },
                                {
                                    "TERMEKKOD": "04030266T",
                                    "LISTAAR": "169",
                                    "kateg átlagár": "92,28571428571429"
                                },
                                {
                                    "TERMEKKOD": "04050268T",
                                    "LISTAAR": "15",
                                    "kateg átlagár": "13"
                                },
                                {
                                    "TERMEKKOD": "04050269T",
                                    "LISTAAR": "11",
                                    "kateg átlagár": "13"
                                },
                                {
                                    "TERMEKKOD": "02080453T",
                                    "LISTAAR": "526",
                                    "kateg átlagár": "645,5"
                                },
                                {
                                    "TERMEKKOD": "02080454T",
                                    "LISTAAR": "765",
                                    "kateg átlagár": "645,5"
                                },
                                {
                                    "TERMEKKOD": "02080434T",
                                    "LISTAAR": "210",
                                    "kateg átlagár": "392"
                                },
                                {
                                    "TERMEKKOD": "02080435T",
                                    "LISTAAR": "184",
                                    "kateg átlagár": "392"
                                },
                                {
                                    "TERMEKKOD": "04080270T",
                                    "LISTAAR": "1765",
                                    "kateg átlagár": "392"
                                },
                                {
                                    "TERMEKKOD": "04080271T",
                                    "LISTAAR": "264",
                                    "kateg átlagár": "392"
                                },
                                {
                                    "TERMEKKOD": "04080272T",
                                    "LISTAAR": "360",
                                    "kateg átlagár": "392"
                                },
                                {
                                    "TERMEKKOD": "06040172T",
                                    "LISTAAR": "195",
                                    "kateg átlagár": "392"
                                },
                                {
                                    "TERMEKKOD": "06040173T",
                                    "LISTAAR": "211",
                                    "kateg átlagár": "392"
                                },
                                {
                                    "TERMEKKOD": "06040174T",
                                    "LISTAAR": "148",
                                    "kateg átlagár": "392"
                                },
                                {
                                    "TERMEKKOD": "06040175T",
                                    "LISTAAR": "191",
                                    "kateg átlagár": "392"
                                },
                                {
                                    "TERMEKKOD": "04110273T",
                                    "LISTAAR": "55",
                                    "kateg átlagár": "106,3"
                                },
                                {
                                    "TERMEKKOD": "04110274T",
                                    "LISTAAR": "49",
                                    "kateg átlagár": "106,3"
                                },
                                {
                                    "TERMEKKOD": "04110275T",
                                    "LISTAAR": "49",
                                    "kateg átlagár": "106,3"
                                },
                                {
                                    "TERMEKKOD": "04110276T",
                                    "LISTAAR": "109",
                                    "kateg átlagár": "106,3"
                                },
                                {
                                    "TERMEKKOD": "04110277T",
                                    "LISTAAR": "93",
                                    "kateg átlagár": "106,3"
                                },
                                {
                                    "TERMEKKOD": "04110278T",
                                    "LISTAAR": "161",
                                    "kateg átlagár": "106,3"
                                },
                                {
                                    "TERMEKKOD": "04110279T",
                                    "LISTAAR": "168",
                                    "kateg átlagár": "106,3"
                                },
                                {
                                    "TERMEKKOD": "04110280T",
                                    "LISTAAR": "148",
                                    "kateg átlagár": "106,3"
                                },
                                {
                                    "TERMEKKOD": "04110281T",
                                    "LISTAAR": "175",
                                    "kateg átlagár": "106,3"
                                },
                                {
                                    "TERMEKKOD": "04110282T",
                                    "LISTAAR": "56",
                                    "kateg átlagár": "106,3"
                                },
                                {
                                    "TERMEKKOD": "04110283T",
                                    "LISTAAR": "155",
                                    "kateg átlagár": "111,5"
                                },
                                {
                                    "TERMEKKOD": "04110284T",
                                    "LISTAAR": "169",
                                    "kateg átlagár": "111,5"
                                },
                                {
                                    "TERMEKKOD": "01030092T",
                                    "LISTAAR": "59",
                                    "kateg átlagár": "111,5"
                                },
                                {
                                    "TERMEKKOD": "06080429T",
                                    "LISTAAR": "63",
                                    "kateg átlagár": "111,5"
                                },
                                {
                                    "TERMEKKOD": "06080425T",
                                    "LISTAAR": "8",
                                    "kateg átlagár": "8"
                                },
                                {
                                    "TERMEKKOD": "08070486T",
                                    "LISTAAR": "403",
                                    "kateg átlagár": "385,3333333333333"
                                },
                                {
                                    "TERMEKKOD": "08070487T",
                                    "LISTAAR": "403",
                                    "kateg átlagár": "385,3333333333333"
                                },
                                {
                                    "TERMEKKOD": "08070488T",
                                    "LISTAAR": "403",
                                    "kateg átlagár": "385,3333333333333"
                                },
                                {
                                    "TERMEKKOD": "08070481T",
                                    "LISTAAR": "198",
                                    "kateg átlagár": "385,3333333333333"
                                },
                                {
                                    "TERMEKKOD": "08070482T",
                                    "LISTAAR": "190",
                                    "kateg átlagár": "385,3333333333333"
                                },
                                {
                                    "TERMEKKOD": "08070475T",
                                    "LISTAAR": "440",
                                    "kateg átlagár": "385,3333333333333"
                                },
                                {
                                    "TERMEKKOD": "08070476T",
                                    "LISTAAR": "293",
                                    "kateg átlagár": "385,3333333333333"
                                },
                                {
                                    "TERMEKKOD": "08070477T",
                                    "LISTAAR": "353",
                                    "kateg átlagár": "385,3333333333333"
                                },
                                {
                                    "TERMEKKOD": "08070478T",
                                    "LISTAAR": "785",
                                    "kateg átlagár": "385,3333333333333"
                                },
                                {
                                    "TERMEKKOD": "01090498T",
                                    "LISTAAR": "3",
                                    "kateg átlagár": "3"
                                },
                                {
                                    "TERMEKKOD": "02040290T",
                                    "LISTAAR": "89",
                                    "kateg átlagár": "89"
                                },
                                {
                                    "TERMEKKOD": "02040291T",
                                    "LISTAAR": "15",
                                    "kateg átlagár": "46,5"
                                },
                                {
                                    "TERMEKKOD": "02040292T",
                                    "LISTAAR": "78",
                                    "kateg átlagár": "46,5"
                                },
                                {
                                    "TERMEKKOD": "02040293T",
                                    "LISTAAR": "310",
                                    "kateg átlagár": "310"
                                },
                                {
                                    "TERMEKKOD": "02040294T",
                                    "LISTAAR": "103",
                                    "kateg átlagár": "79"
                                },
                                {
                                    "TERMEKKOD": "02040295T",
                                    "LISTAAR": "89",
                                    "kateg átlagár": "79"
                                },
                                {
                                    "TERMEKKOD": "02040296T",
                                    "LISTAAR": "56",
                                    "kateg átlagár": "79"
                                },
                                {
                                    "TERMEKKOD": "02040297T",
                                    "LISTAAR": "103",
                                    "kateg átlagár": "79"
                                },
                                {
                                    "TERMEKKOD": "02040298T",
                                    "LISTAAR": "44",
                                    "kateg átlagár": "79"
                                },
                                {
                                    "TERMEKKOD": "N001-KB101",
                                    "LISTAAR": "24000",
                                    "kateg átlagár": "24000"
                                },
                                {
                                    "TERMEKKOD": "N008-NA201",
                                    "LISTAAR": "8290",
                                    "kateg átlagár": "8290"
                                },
                                {
                                    "TERMEKKOD": "01090517T",
                                    "LISTAAR": "4",
                                    "kateg átlagár": "4"
                                },
                                {
                                    "TERMEKKOD": "01020299T",
                                    "LISTAAR": "48",
                                    "kateg átlagár": "51,5"
                                },
                                {
                                    "TERMEKKOD": "01020300T",
                                    "LISTAAR": "55",
                                    "kateg átlagár": "51,5"
                                },
                                {
                                    "TERMEKKOD": "06050301T",
                                    "LISTAAR": "133",
                                    "kateg átlagár": "156,66666666666666"
                                },
                                {
                                    "TERMEKKOD": "06050302T",
                                    "LISTAAR": "176",
                                    "kateg átlagár": "156,66666666666666"
                                },
                                {
                                    "TERMEKKOD": "06050303T",
                                    "LISTAAR": "161",
                                    "kateg átlagár": "156,66666666666666"
                                },
                                {
                                    "TERMEKKOD": "01010304T",
                                    "LISTAAR": "59",
                                    "kateg átlagár": "2317"
                                },
                                {
                                    "TERMEKKOD": "01080512T",
                                    "LISTAAR": "4575",
                                    "kateg átlagár": "2317"
                                },
                                {
                                    "TERMEKKOD": "05010306T",
                                    "LISTAAR": "20",
                                    "kateg átlagár": "20"
                                },
                                {
                                    "TERMEKKOD": "01040307T",
                                    "LISTAAR": "15",
                                    "kateg átlagár": "15"
                                },
                                {
                                    "TERMEKKOD": "02020037T",
                                    "LISTAAR": "144",
                                    "kateg átlagár": "123,5"
                                },
                                {
                                    "TERMEKKOD": "02020245T",
                                    "LISTAAR": "103",
                                    "kateg átlagár": "123,5"
                                },
                                {
                                    "TERMEKKOD": "02040308T",
                                    "LISTAAR": "81",
                                    "kateg átlagár": "87"
                                },
                                {
                                    "TERMEKKOD": "02040309T",
                                    "LISTAAR": "93",
                                    "kateg átlagár": "87"
                                },
                                {
                                    "TERMEKKOD": "07080311T",
                                    "LISTAAR": "276",
                                    "kateg átlagár": "194,22222222222223"
                                },
                                {
                                    "TERMEKKOD": "07080312T",
                                    "LISTAAR": "125",
                                    "kateg átlagár": "194,22222222222223"
                                },
                                {
                                    "TERMEKKOD": "07080313T",
                                    "LISTAAR": "59",
                                    "kateg átlagár": "194,22222222222223"
                                },
                                {
                                    "TERMEKKOD": "07080314T",
                                    "LISTAAR": "133",
                                    "kateg átlagár": "194,22222222222223"
                                },
                                {
                                    "TERMEKKOD": "07080315T",
                                    "LISTAAR": "94",
                                    "kateg átlagár": "194,22222222222223"
                                },
                                {
                                    "TERMEKKOD": "07080316T",
                                    "LISTAAR": "468",
                                    "kateg átlagár": "194,22222222222223"
                                },
                                {
                                    "TERMEKKOD": "07080317T",
                                    "LISTAAR": "59",
                                    "kateg átlagár": "194,22222222222223"
                                },
                                {
                                    "TERMEKKOD": "07080318T",
                                    "LISTAAR": "235",
                                    "kateg átlagár": "194,22222222222223"
                                },
                                {
                                    "TERMEKKOD": "07080319T",
                                    "LISTAAR": "299",
                                    "kateg átlagár": "194,22222222222223"
                                },
                                {
                                    "TERMEKKOD": "04050320T",
                                    "LISTAAR": "173",
                                    "kateg átlagár": "216"
                                },
                                {
                                    "TERMEKKOD": "04050321T",
                                    "LISTAAR": "161",
                                    "kateg átlagár": "216"
                                },
                                {
                                    "TERMEKKOD": "04050322T",
                                    "LISTAAR": "314",
                                    "kateg átlagár": "216"
                                },
                                {
                                    "TERMEKKOD": "06040323T",
                                    "LISTAAR": "36",
                                    "kateg átlagár": "62,5"
                                },
                                {
                                    "TERMEKKOD": "06040324T",
                                    "LISTAAR": "89",
                                    "kateg átlagár": "62,5"
                                },
                                {
                                    "TERMEKKOD": "06040325T",
                                    "LISTAAR": "40",
                                    "kateg átlagár": "40,285714285714285"
                                },
                                {
                                    "TERMEKKOD": "06040326T",
                                    "LISTAAR": "19",
                                    "kateg átlagár": "40,285714285714285"
                                },
                                {
                                    "TERMEKKOD": "06040327T",
                                    "LISTAAR": "36",
                                    "kateg átlagár": "40,285714285714285"
                                },
                                {
                                    "TERMEKKOD": "06040328T",
                                    "LISTAAR": "44",
                                    "kateg átlagár": "40,285714285714285"
                                },
                                {
                                    "TERMEKKOD": "06040329T",
                                    "LISTAAR": "44",
                                    "kateg átlagár": "40,285714285714285"
                                },
                                {
                                    "TERMEKKOD": "06040330T",
                                    "LISTAAR": "50",
                                    "kateg átlagár": "40,285714285714285"
                                },
                                {
                                    "TERMEKKOD": "06040331T",
                                    "LISTAAR": "49",
                                    "kateg átlagár": "40,285714285714285"
                                },
                                {
                                    "TERMEKKOD": "06080332T",
                                    "LISTAAR": "74",
                                    "kateg átlagár": "96,5"
                                },
                                {
                                    "TERMEKKOD": "06080333T",
                                    "LISTAAR": "119",
                                    "kateg átlagár": "96,5"
                                },
                                {
                                    "TERMEKKOD": "06080334T",
                                    "LISTAAR": "133",
                                    "kateg átlagár": "162,4"
                                },
                                {
                                    "TERMEKKOD": "06080335T",
                                    "LISTAAR": "110",
                                    "kateg átlagár": "162,4"
                                },
                                {
                                    "TERMEKKOD": "06080336T",
                                    "LISTAAR": "81",
                                    "kateg átlagár": "162,4"
                                },
                                {
                                    "TERMEKKOD": "06080337T",
                                    "LISTAAR": "293",
                                    "kateg átlagár": "162,4"
                                },
                                {
                                    "TERMEKKOD": "06080338T",
                                    "LISTAAR": "101",
                                    "kateg átlagár": "162,4"
                                },
                                {
                                    "TERMEKKOD": "06080339T",
                                    "LISTAAR": "89",
                                    "kateg átlagár": "162,4"
                                },
                                {
                                    "TERMEKKOD": "06010343T",
                                    "LISTAAR": "426",
                                    "kateg átlagár": "162,4"
                                },
                                {
                                    "TERMEKKOD": "05080340T",
                                    "LISTAAR": "144",
                                    "kateg átlagár": "162,4"
                                },
                                {
                                    "TERMEKKOD": "05080341T",
                                    "LISTAAR": "144",
                                    "kateg átlagár": "162,4"
                                },
                                {
                                    "TERMEKKOD": "05040310T",
                                    "LISTAAR": "103",
                                    "kateg átlagár": "162,4"
                                },
                                {
                                    "TERMEKKOD": "03010342T",
                                    "LISTAAR": "15",
                                    "kateg átlagár": "74,75"
                                },
                                {
                                    "TERMEKKOD": "03010344T",
                                    "LISTAAR": "63",
                                    "kateg átlagár": "74,75"
                                },
                                {
                                    "TERMEKKOD": "03010345T",
                                    "LISTAAR": "166",
                                    "kateg átlagár": "74,75"
                                },
                                {
                                    "TERMEKKOD": "02080433T",
                                    "LISTAAR": "55",
                                    "kateg átlagár": "74,75"
                                },
                                {
                                    "TERMEKKOD": "05050346T",
                                    "LISTAAR": "89",
                                    "kateg átlagár": "89"
                                },
                                {
                                    "TERMEKKOD": "06040347T",
                                    "LISTAAR": "28",
                                    "kateg átlagár": "185"
                                },
                                {
                                    "TERMEKKOD": "01010001T",
                                    "LISTAAR": "342",
                                    "kateg átlagár": "185"
                                },
                                {
                                    "TERMEKKOD": "05040348T",
                                    "LISTAAR": "106",
                                    "kateg átlagár": "84,5"
                                },
                                {
                                    "TERMEKKOD": "05040349T",
                                    "LISTAAR": "63",
                                    "kateg átlagár": "84,5"
                                },
                                {
                                    "TERMEKKOD": "06040350T",
                                    "LISTAAR": "256",
                                    "kateg átlagár": "229,5"
                                },
                                {
                                    "TERMEKKOD": "06040351T",
                                    "LISTAAR": "203",
                                    "kateg átlagár": "229,5"
                                },
                                {
                                    "TERMEKKOD": "U001-KI501",
                                    "LISTAAR": "1990",
                                    "kateg átlagár": "1990"
                                },
                                {
                                    "TERMEKKOD": "02080514T",
                                    "LISTAAR": "45",
                                    "kateg átlagár": "45"
                                },
                                {
                                    "TERMEKKOD": "04050358T",
                                    "LISTAAR": "356",
                                    "kateg átlagár": "356"
                                },
                                {
                                    "TERMEKKOD": "04110362T",
                                    "LISTAAR": "183",
                                    "kateg átlagár": "157,66666666666666"
                                },
                                {
                                    "TERMEKKOD": "05110359T",
                                    "LISTAAR": "176",
                                    "kateg átlagár": "157,66666666666666"
                                },
                                {
                                    "TERMEKKOD": "05110360T",
                                    "LISTAAR": "118",
                                    "kateg átlagár": "157,66666666666666"
                                },
                                {
                                    "TERMEKKOD": "05110361T",
                                    "LISTAAR": "175",
                                    "kateg átlagár": "157,66666666666666"
                                },
                                {
                                    "TERMEKKOD": "05110363T",
                                    "LISTAAR": "133",
                                    "kateg átlagár": "157,66666666666666"
                                },
                                {
                                    "TERMEKKOD": "05110364T",
                                    "LISTAAR": "161",
                                    "kateg átlagár": "157,66666666666666"
                                },
                                {
                                    "TERMEKKOD": "06010366T",
                                    "LISTAAR": "508",
                                    "kateg átlagár": "840,5"
                                },
                                {
                                    "TERMEKKOD": "06040446T",
                                    "LISTAAR": "1173",
                                    "kateg átlagár": "840,5"
                                },
                                {
                                    "TERMEKKOD": "05010369T",
                                    "LISTAAR": "129",
                                    "kateg átlagár": "129"
                                },
                                {
                                    "TERMEKKOD": "07010371T",
                                    "LISTAAR": "99",
                                    "kateg átlagár": "130"
                                },
                                {
                                    "TERMEKKOD": "07010372T",
                                    "LISTAAR": "161",
                                    "kateg átlagár": "130"
                                },
                                {
                                    "TERMEKKOD": "06010375T",
                                    "LISTAAR": "24",
                                    "kateg átlagár": "14,333333333333334"
                                },
                                {
                                    "TERMEKKOD": "06010376T",
                                    "LISTAAR": "11",
                                    "kateg átlagár": "14,333333333333334"
                                },
                                {
                                    "TERMEKKOD": "06010377T",
                                    "LISTAAR": "8",
                                    "kateg átlagár": "14,333333333333334"
                                },
                                {
                                    "TERMEKKOD": "06040378T",
                                    "LISTAAR": "89",
                                    "kateg átlagár": "100,6"
                                },
                                {
                                    "TERMEKKOD": "06040379T",
                                    "LISTAAR": "93",
                                    "kateg átlagár": "100,6"
                                },
                                {
                                    "TERMEKKOD": "06040380T",
                                    "LISTAAR": "78",
                                    "kateg átlagár": "100,6"
                                },
                                {
                                    "TERMEKKOD": "06040381T",
                                    "LISTAAR": "103",
                                    "kateg átlagár": "100,6"
                                },
                                {
                                    "TERMEKKOD": "07050464T",
                                    "LISTAAR": "140",
                                    "kateg átlagár": "100,6"
                                },
                                {
                                    "TERMEKKOD": "06040382T",
                                    "LISTAAR": "633",
                                    "kateg átlagár": "633"
                                },
                                {
                                    "TERMEKKOD": "05050465T",
                                    "LISTAAR": "40",
                                    "kateg átlagár": "40"
                                },
                                {
                                    "TERMEKKOD": "06040385T",
                                    "LISTAAR": "96",
                                    "kateg átlagár": "72"
                                },
                                {
                                    "TERMEKKOD": "06040386T",
                                    "LISTAAR": "48",
                                    "kateg átlagár": "72"
                                },
                                {
                                    "TERMEKKOD": "02080449T",
                                    "LISTAAR": "103",
                                    "kateg átlagár": "103"
                                },
                                {
                                    "TERMEKKOD": "07040388T",
                                    "LISTAAR": "9",
                                    "kateg átlagár": "126,66666666666667"
                                },
                                {
                                    "TERMEKKOD": "07040389T",
                                    "LISTAAR": "360",
                                    "kateg átlagár": "126,66666666666667"
                                },
                                {
                                    "TERMEKKOD": "07040390T",
                                    "LISTAAR": "11",
                                    "kateg átlagár": "126,66666666666667"
                                },
                                {
                                    "TERMEKKOD": "07040391T",
                                    "LISTAAR": "80",
                                    "kateg átlagár": "77"
                                },
                                {
                                    "TERMEKKOD": "07010244T",
                                    "LISTAAR": "74",
                                    "kateg átlagár": "77"
                                },
                                {
                                    "TERMEKKOD": "07010136T",
                                    "LISTAAR": "123",
                                    "kateg átlagár": "101,66666666666667"
                                },
                                {
                                    "TERMEKKOD": "07010137T",
                                    "LISTAAR": "48",
                                    "kateg átlagár": "101,66666666666667"
                                },
                                {
                                    "TERMEKKOD": "07010138T",
                                    "LISTAAR": "33",
                                    "kateg átlagár": "101,66666666666667"
                                },
                                {
                                    "TERMEKKOD": "07010139T",
                                    "LISTAAR": "91",
                                    "kateg átlagár": "101,66666666666667"
                                },
                                {
                                    "TERMEKKOD": "07010140T",
                                    "LISTAAR": "23",
                                    "kateg átlagár": "101,66666666666667"
                                },
                                {
                                    "TERMEKKOD": "07010141T",
                                    "LISTAAR": "15",
                                    "kateg átlagár": "101,66666666666667"
                                },
                                {
                                    "TERMEKKOD": "07010142T",
                                    "LISTAAR": "228",
                                    "kateg átlagár": "101,66666666666667"
                                },
                                {
                                    "TERMEKKOD": "07010143T",
                                    "LISTAAR": "78",
                                    "kateg átlagár": "101,66666666666667"
                                },
                                {
                                    "TERMEKKOD": "07010144T",
                                    "LISTAAR": "89",
                                    "kateg átlagár": "101,66666666666667"
                                },
                                {
                                    "TERMEKKOD": "07040127T",
                                    "LISTAAR": "30",
                                    "kateg átlagár": "101,66666666666667"
                                },
                                {
                                    "TERMEKKOD": "07040128T",
                                    "LISTAAR": "55",
                                    "kateg átlagár": "101,66666666666667"
                                },
                                {
                                    "TERMEKKOD": "07040129T",
                                    "LISTAAR": "30",
                                    "kateg átlagár": "101,66666666666667"
                                },
                                {
                                    "TERMEKKOD": "07040130T",
                                    "LISTAAR": "80",
                                    "kateg átlagár": "101,66666666666667"
                                },
                                {
                                    "TERMEKKOD": "07040131T",
                                    "LISTAAR": "85",
                                    "kateg átlagár": "101,66666666666667"
                                },
                                {
                                    "TERMEKKOD": "07040132T",
                                    "LISTAAR": "55",
                                    "kateg átlagár": "101,66666666666667"
                                },
                                {
                                    "TERMEKKOD": "07040133T",
                                    "LISTAAR": "39",
                                    "kateg átlagár": "101,66666666666667"
                                },
                                {
                                    "TERMEKKOD": "07040134T",
                                    "LISTAAR": "44",
                                    "kateg átlagár": "101,66666666666667"
                                },
                                {
                                    "TERMEKKOD": "07040135T",
                                    "LISTAAR": "684",
                                    "kateg átlagár": "101,66666666666667"
                                },
                                {
                                    "TERMEKKOD": "06040392T",
                                    "LISTAAR": "728",
                                    "kateg átlagár": "574,4285714285714"
                                },
                                {
                                    "TERMEKKOD": "06040393T",
                                    "LISTAAR": "765",
                                    "kateg átlagár": "574,4285714285714"
                                },
                                {
                                    "TERMEKKOD": "06040394T",
                                    "LISTAAR": "324",
                                    "kateg átlagár": "574,4285714285714"
                                },
                                {
                                    "TERMEKKOD": "06040395T",
                                    "LISTAAR": "728",
                                    "kateg átlagár": "574,4285714285714"
                                },
                                {
                                    "TERMEKKOD": "06040396T",
                                    "LISTAAR": "410",
                                    "kateg átlagár": "574,4285714285714"
                                },
                                {
                                    "TERMEKKOD": "06040397T",
                                    "LISTAAR": "655",
                                    "kateg átlagár": "574,4285714285714"
                                },
                                {
                                    "TERMEKKOD": "06040398T",
                                    "LISTAAR": "411",
                                    "kateg átlagár": "574,4285714285714"
                                },
                                {
                                    "TERMEKKOD": "02080511T",
                                    "LISTAAR": "14250",
                                    "kateg átlagár": "14250"
                                },
                                {
                                    "TERMEKKOD": "07050462T",
                                    "LISTAAR": "493",
                                    "kateg átlagár": "493"
                                },
                                {
                                    "TERMEKKOD": "02080452T",
                                    "LISTAAR": "438",
                                    "kateg átlagár": "819,8333333333334"
                                },
                                {
                                    "TERMEKKOD": "02040401T",
                                    "LISTAAR": "339",
                                    "kateg átlagár": "819,8333333333334"
                                },
                                {
                                    "TERMEKKOD": "02040402T",
                                    "LISTAAR": "286",
                                    "kateg átlagár": "819,8333333333334"
                                },
                                {
                                    "TERMEKKOD": "02040403T",
                                    "LISTAAR": "1351",
                                    "kateg átlagár": "819,8333333333334"
                                },
                                {
                                    "TERMEKKOD": "02040404T",
                                    "LISTAAR": "405",
                                    "kateg átlagár": "819,8333333333334"
                                },
                                {
                                    "TERMEKKOD": "02040002T",
                                    "LISTAAR": "2100",
                                    "kateg átlagár": "819,8333333333334"
                                },
                                {
                                    "TERMEKKOD": "02040405T",
                                    "LISTAAR": "44",
                                    "kateg átlagár": "39"
                                },
                                {
                                    "TERMEKKOD": "02040406T",
                                    "LISTAAR": "34",
                                    "kateg átlagár": "39"
                                },
                                {
                                    "TERMEKKOD": "06080407T",
                                    "LISTAAR": "249",
                                    "kateg átlagár": "203,75"
                                },
                                {
                                    "TERMEKKOD": "06080408T",
                                    "LISTAAR": "210",
                                    "kateg átlagár": "203,75"
                                },
                                {
                                    "TERMEKKOD": "06080409T",
                                    "LISTAAR": "180",
                                    "kateg átlagár": "203,75"
                                },
                                {
                                    "TERMEKKOD": "06080410T",
                                    "LISTAAR": "176",
                                    "kateg átlagár": "203,75"
                                },
                                {
                                    "TERMEKKOD": "06080411T",
                                    "LISTAAR": "58",
                                    "kateg átlagár": "35,166666666666664"
                                },
                                {
                                    "TERMEKKOD": "06080412T",
                                    "LISTAAR": "30",
                                    "kateg átlagár": "35,166666666666664"
                                },
                                {
                                    "TERMEKKOD": "06080413T",
                                    "LISTAAR": "30",
                                    "kateg átlagár": "35,166666666666664"
                                },
                                {
                                    "TERMEKKOD": "06080414T",
                                    "LISTAAR": "30",
                                    "kateg átlagár": "35,166666666666664"
                                },
                                {
                                    "TERMEKKOD": "06080415T",
                                    "LISTAAR": "30",
                                    "kateg átlagár": "35,166666666666664"
                                },
                                {
                                    "TERMEKKOD": "06080416T",
                                    "LISTAAR": "33",
                                    "kateg átlagár": "35,166666666666664"
                                },
                                {
                                    "TERMEKKOD": "06080417T",
                                    "LISTAAR": "20",
                                    "kateg átlagár": "20"
                                },
                                {
                                    "TERMEKKOD": "07080418T",
                                    "LISTAAR": "95",
                                    "kateg átlagár": "137,5"
                                },
                                {
                                    "TERMEKKOD": "07080419T",
                                    "LISTAAR": "66",
                                    "kateg átlagár": "137,5"
                                },
                                {
                                    "TERMEKKOD": "07080420T",
                                    "LISTAAR": "161",
                                    "kateg átlagár": "137,5"
                                },
                                {
                                    "TERMEKKOD": "07080421T",
                                    "LISTAAR": "228",
                                    "kateg átlagár": "137,5"
                                },
                                {
                                    "TERMEKKOD": "02040206T",
                                    "LISTAAR": "81",
                                    "kateg átlagár": "81"
                                }
                            ]
                        },
                        "text/html": [
                            "<table>",
                            "<tr><th>TERMEKKOD</th><th>LISTAAR</th><th>kateg átlagár</th></tr>",
                            "<tr><td>08070472T</td><td>1089</td><td>621,1333333333333</td></tr>",
                            "<tr><td>08070473T</td><td>1089</td><td>621,1333333333333</td></tr>",
                            "<tr><td>08070474T</td><td>1089</td><td>621,1333333333333</td></tr>",
                            "<tr><td>08070479T</td><td>674</td><td>621,1333333333333</td></tr>",
                            "<tr><td>08070480T</td><td>308</td><td>621,1333333333333</td></tr>",
                            "<tr><td>08070489T</td><td>868</td><td>621,1333333333333</td></tr>",
                            "<tr><td>08070490T</td><td>691</td><td>621,1333333333333</td></tr>",
                            "<tr><td>08070491T</td><td>214</td><td>621,1333333333333</td></tr>",
                            "<tr><td>08070492T</td><td>735</td><td>621,1333333333333</td></tr>",
                            "<tr><td>08070493T</td><td>720</td><td>621,1333333333333</td></tr>",
                            "<tr><td>08070494T</td><td>440</td><td>621,1333333333333</td></tr>",
                            "<tr><td>08070495T</td><td>440</td><td>621,1333333333333</td></tr>",
                            "<tr><td>08070483T</td><td>324</td><td>621,1333333333333</td></tr>",
                            "<tr><td>08070484T</td><td>345</td><td>621,1333333333333</td></tr>",
                            "<tr><td>08070485T</td><td>291</td><td>621,1333333333333</td></tr>",
                            "<tr><td>04050035T</td><td>24</td><td>75,33333333333333</td></tr>",
                            "<tr><td>04050267T</td><td>129</td><td>75,33333333333333</td></tr>",
                            "<tr><td>04110258T</td><td>73</td><td>75,33333333333333</td></tr>",
                            "<tr><td>04030285T</td><td>11</td><td>125,4</td></tr>",
                            "<tr><td>03050457T</td><td>26</td><td>125,4</td></tr>",
                            "<tr><td>03050458T</td><td>148</td><td>125,4</td></tr>",
                            "<tr><td>03050459T</td><td>40</td><td>125,4</td></tr>",
                            "<tr><td>03080003T</td><td>185</td><td>125,4</td></tr>",
                            "<tr><td>03080004T</td><td>19</td><td>125,4</td></tr>",
                            "<tr><td>03080005T</td><td>290</td><td>125,4</td></tr>",
                            "<tr><td>03080006T</td><td>26</td><td>125,4</td></tr>",
                            "<tr><td>03080007T</td><td>206</td><td>125,4</td></tr>",
                            "<tr><td>03080008T</td><td>103</td><td>125,4</td></tr>",
                            "<tr><td>03080009T</td><td>148</td><td>125,4</td></tr>",
                            "<tr><td>03080010T</td><td>206</td><td>125,4</td></tr>",
                            "<tr><td>03080011T</td><td>148</td><td>125,4</td></tr>",
                            "<tr><td>03080012T</td><td>125</td><td>125,4</td></tr>",
                            "<tr><td>03080013T</td><td>64</td><td>125,4</td></tr>",
                            "<tr><td>03080014T</td><td>81</td><td>125,4</td></tr>",
                            "<tr><td>03080015T</td><td>169</td><td>125,4</td></tr>",
                            "<tr><td>03080437T</td><td>185</td><td>125,4</td></tr>",
                            "<tr><td>03080438T</td><td>214</td><td>125,4</td></tr>",
                            "<tr><td>03080439T</td><td>114</td><td>125,4</td></tr>",
                            "<tr><td>04050022T</td><td>89</td><td>125,66666666666667</td></tr>",
                            "<tr><td>04050023T</td><td>144</td><td>125,66666666666667</td></tr>",
                            "<tr><td>04050024T</td><td>144</td><td>125,66666666666667</td></tr>",
                            "<tr><td>G041-AL211</td><td>16900</td><td>21933,333333333332</td></tr>",
                            "<tr><td>L041-AL211</td><td>16900</td><td>21933,333333333332</td></tr>",
                            "<tr><td>N029-AL212</td><td>32000</td><td>21933,333333333332</td></tr>",
                            "<tr><td>05010026T</td><td>118</td><td>166</td></tr>",
                            "<tr><td>05010027T</td><td>214</td><td>166</td></tr>",
                            "<tr><td>02010028T</td><td>106</td><td>106</td></tr>",
                            "<tr><td>02020029T</td><td>115</td><td>115</td></tr>",
                            "<tr><td>06080423T</td><td>228</td><td>228</td></tr>",
                            "<tr><td>02020032T</td><td>133</td><td>230,5</td></tr>",
                            "<tr><td>02020033T</td><td>328</td><td>230,5</td></tr>",
                            "<tr><td>02060038T</td><td>780</td><td>988,5</td></tr>",
                            "<tr><td>02060039T</td><td>650</td><td>988,5</td></tr>",
                            "<tr><td>02060447T</td><td>1377</td><td>988,5</td></tr>",
                            "<tr><td>02060448T</td><td>1147</td><td>988,5</td></tr>",
                            "<tr><td>02060034T</td><td>297</td><td>297</td></tr>",
                            "<tr><td>02050460T</td><td>15</td><td>14,571428571428571</td></tr>",
                            "<tr><td>02050461T</td><td>18</td><td>14,571428571428571</td></tr>",
                            "<tr><td>02030040T</td><td>6</td><td>14,571428571428571</td></tr>",
                            "<tr><td>02030041T</td><td>6</td><td>14,571428571428571</td></tr>",
                            "<tr><td>02030042T</td><td>3</td><td>14,571428571428571</td></tr>",
                            "<tr><td>02030043T</td><td>39</td><td>14,571428571428571</td></tr>",
                            "<tr><td>02030044T</td><td>15</td><td>14,571428571428571</td></tr>",
                            "<tr><td>02080069T</td><td>30</td><td>30</td></tr>",
                            "<tr><td>05050045T</td><td>46</td><td>59,5</td></tr>",
                            "<tr><td>05050046T</td><td>73</td><td>59,5</td></tr>",
                            "<tr><td>07080062T</td><td>146</td><td>48,421052631578945</td></tr>",
                            "<tr><td>07080063T</td><td>35</td><td>48,421052631578945</td></tr>",
                            "<tr><td>07080064T</td><td>40</td><td>48,421052631578945</td></tr>",
                            "<tr><td>07080065T</td><td>11</td><td>48,421052631578945</td></tr>",
                            "<tr><td>07040047T</td><td>39</td><td>48,421052631578945</td></tr>",
                            "<tr><td>07040048T</td><td>55</td><td>48,421052631578945</td></tr>",
                            "<tr><td>07040049T</td><td>40</td><td>48,421052631578945</td></tr>",
                            "<tr><td>07040050T</td><td>30</td><td>48,421052631578945</td></tr>",
                            "<tr><td>07040051T</td><td>39</td><td>48,421052631578945</td></tr>",
                            "<tr><td>07040052T</td><td>53</td><td>48,421052631578945</td></tr>",
                            "<tr><td>07040053T</td><td>23</td><td>48,421052631578945</td></tr>",
                            "<tr><td>07040054T</td><td>55</td><td>48,421052631578945</td></tr>",
                            "<tr><td>07040055T</td><td>59</td><td>48,421052631578945</td></tr>",
                            "<tr><td>07040056T</td><td>40</td><td>48,421052631578945</td></tr>",
                            "<tr><td>07040057T</td><td>106</td><td>48,421052631578945</td></tr>",
                            "<tr><td>07040058T</td><td>11</td><td>48,421052631578945</td></tr>",
                            "<tr><td>07040059T</td><td>58</td><td>48,421052631578945</td></tr>",
                            "<tr><td>07040060T</td><td>36</td><td>48,421052631578945</td></tr>",
                            "<tr><td>07040061T</td><td>44</td><td>48,421052631578945</td></tr>",
                            "<tr><td>04110066T</td><td>26</td><td>25,666666666666668</td></tr>",
                            "<tr><td>04110067T</td><td>31</td><td>25,666666666666668</td></tr>",
                            "<tr><td>04110068T</td><td>20</td><td>25,666666666666668</td></tr>",
                            "<tr><td>01100496T</td><td>1500</td><td>310,6</td></tr>",
                            "<tr><td>01100497T</td><td>14</td><td>310,6</td></tr>",
                            "<tr><td>01100503T</td><td>10</td><td>310,6</td></tr>",
                            "<tr><td>01090499T</td><td>15</td><td>310,6</td></tr>",
                            "<tr><td>01090500T</td><td>14</td><td>310,6</td></tr>",
                            "<tr><td>03080016T</td><td>110</td><td>99,5</td></tr>",
                            "<tr><td>05010370T</td><td>89</td><td>99,5</td></tr>",
                            "<tr><td>03080017T</td><td>148</td><td>102,57142857142857</td></tr>",
                            "<tr><td>03080018T</td><td>121</td><td>102,57142857142857</td></tr>",
                            "<tr><td>03080019T</td><td>56</td><td>102,57142857142857</td></tr>",
                            "<tr><td>03080020T</td><td>44</td><td>102,57142857142857</td></tr>",
                            "<tr><td>03080021T</td><td>23</td><td>102,57142857142857</td></tr>",
                            "<tr><td>03080030T</td><td>220</td><td>102,57142857142857</td></tr>",
                            "<tr><td>03080031T</td><td>106</td><td>102,57142857142857</td></tr>",
                            "<tr><td>04030286T</td><td>44</td><td>21,25</td></tr>",
                            "<tr><td>04030287T</td><td>23</td><td>21,25</td></tr>",
                            "<tr><td>04030288T</td><td>3</td><td>21,25</td></tr>",
                            "<tr><td>04030289T</td><td>15</td><td>21,25</td></tr>",
                            "<tr><td>01100072T</td><td>9</td><td>9</td></tr>",
                            "<tr><td>04050073T</td><td>61</td><td>57</td></tr>",
                            "<tr><td>04050074T</td><td>66</td><td>57</td></tr>",
                            "<tr><td>04050075T</td><td>44</td><td>57</td></tr>",
                            "<tr><td>03050076T</td><td>26</td><td>36,2</td></tr>",
                            "<tr><td>03050077T</td><td>44</td><td>36,2</td></tr>",
                            "<tr><td>03050078T</td><td>15</td><td>36,2</td></tr>",
                            "<tr><td>03050079T</td><td>15</td><td>36,2</td></tr>",
                            "<tr><td>03050080T</td><td>81</td><td>36,2</td></tr>",
                            "<tr><td>02080081T</td><td>133</td><td>133</td></tr>",
                            "<tr><td>06010082T</td><td>40</td><td>70,42857142857143</td></tr>",
                            "<tr><td>06010083T</td><td>33</td><td>70,42857142857143</td></tr>",
                            "<tr><td>06010084T</td><td>60</td><td>70,42857142857143</td></tr>",
                            "<tr><td>06010085T</td><td>65</td><td>70,42857142857143</td></tr>",
                            "<tr><td>06010086T</td><td>36</td><td>70,42857142857143</td></tr>",
                            "<tr><td>06040087T</td><td>79</td><td>70,42857142857143</td></tr>",
                            "<tr><td>06080428T</td><td>180</td><td>70,42857142857143</td></tr>",
                            "<tr><td>01040502T</td><td>25</td><td>25</td></tr>",
                            "<tr><td>04080442T</td><td>316</td><td>430,3333333333333</td></tr>",
                            "<tr><td>04080443T</td><td>449</td><td>430,3333333333333</td></tr>",
                            "<tr><td>04040090T</td><td>526</td><td>430,3333333333333</td></tr>",
                            "<tr><td>01030091T</td><td>26</td><td>26</td></tr>",
                            "<tr><td>01080093T</td><td>161</td><td>161</td></tr>",
                            "<tr><td>N019-FE301</td><td>690</td><td>561,4285714285714</td></tr>",
                            "<tr><td>L023-FE301</td><td>390</td><td>561,4285714285714</td></tr>",
                            "<tr><td>L029-FE307</td><td>240</td><td>561,4285714285714</td></tr>",
                            "<tr><td>L033-FE311</td><td>990</td><td>561,4285714285714</td></tr>",
                            "<tr><td>G023-FE301</td><td>390</td><td>561,4285714285714</td></tr>",
                            "<tr><td>G029-FE307</td><td>240</td><td>561,4285714285714</td></tr>",
                            "<tr><td>G038-FE316</td><td>990</td><td>561,4285714285714</td></tr>",
                            "<tr><td>01100094T</td><td>845</td><td>895</td></tr>",
                            "<tr><td>01100095T</td><td>728</td><td>895</td></tr>",
                            "<tr><td>01100096T</td><td>728</td><td>895</td></tr>",
                            "<tr><td>01100504T</td><td>1488</td><td>895</td></tr>",
                            "<tr><td>01100505T</td><td>686</td><td>895</td></tr>",
                            "<tr><td>F021-IN215</td><td>6490</td><td>6490</td></tr>",
                            "<tr><td>F001-KB101</td><td>22000</td><td>22000</td></tr>",
                            "<tr><td>F007-NA201</td><td>7890</td><td>9895</td></tr>",
                            "<tr><td>F013-NA207</td><td>11900</td><td>9895</td></tr>",
                            "<tr><td>02080455T</td><td>625</td><td>625</td></tr>",
                            "<tr><td>07030103T</td><td>53</td><td>182,30769230769232</td></tr>",
                            "<tr><td>07030104T</td><td>76</td><td>182,30769230769232</td></tr>",
                            "<tr><td>07030105T</td><td>114</td><td>182,30769230769232</td></tr>",
                            "<tr><td>07030106T</td><td>103</td><td>182,30769230769232</td></tr>",
                            "<tr><td>07030107T</td><td>276</td><td>182,30769230769232</td></tr>",
                            "<tr><td>07030108T</td><td>0</td><td>182,30769230769232</td></tr>",
                            "<tr><td>07040257T</td><td>434</td><td>182,30769230769232</td></tr>",
                            "<tr><td>07040097T</td><td>26</td><td>182,30769230769232</td></tr>",
                            "<tr><td>07040098T</td><td>278</td><td>182,30769230769232</td></tr>",
                            "<tr><td>07040099T</td><td>434</td><td>182,30769230769232</td></tr>",
                            "<tr><td>07040100T</td><td>390</td><td>182,30769230769232</td></tr>",
                            "<tr><td>07040101T</td><td>140</td><td>182,30769230769232</td></tr>",
                            "<tr><td>07040102T</td><td>46</td><td>182,30769230769232</td></tr>",
                            "<tr><td>02080109T</td><td>51</td><td>51</td></tr>",
                            "<tr><td>02040506T</td><td>44</td><td>42,666666666666664</td></tr>",
                            "<tr><td>02040507T</td><td>40</td><td>42,666666666666664</td></tr>",
                            "<tr><td>02040508T</td><td>44</td><td>42,666666666666664</td></tr>",
                            "<tr><td>01010110T</td><td>30</td><td>30</td></tr>",
                            "<tr><td>06040354T</td><td>206</td><td>95,18181818181819</td></tr>",
                            "<tr><td>06040355T</td><td>155</td><td>95,18181818181819</td></tr>",
                            "<tr><td>06040356T</td><td>144</td><td>95,18181818181819</td></tr>",
                            "<tr><td>06040357T</td><td>89</td><td>95,18181818181819</td></tr>",
                            "<tr><td>06010111T</td><td>68</td><td>95,18181818181819</td></tr>",
                            "<tr><td>06010112T</td><td>78</td><td>95,18181818181819</td></tr>",
                            "<tr><td>06010113T</td><td>34</td><td>95,18181818181819</td></tr>",
                            "<tr><td>06010114T</td><td>30</td><td>95,18181818181819</td></tr>",
                            "<tr><td>06010115T</td><td>48</td><td>95,18181818181819</td></tr>",
                            "<tr><td>06080116T</td><td>34</td><td>95,18181818181819</td></tr>",
                            "<tr><td>06080426T</td><td>161</td><td>95,18181818181819</td></tr>",
                            "<tr><td>06080424T</td><td>24</td><td>42,57142857142857</td></tr>",
                            "<tr><td>06080117T</td><td>10</td><td>42,57142857142857</td></tr>",
                            "<tr><td>06080118T</td><td>8</td><td>42,57142857142857</td></tr>",
                            "<tr><td>06080119T</td><td>19</td><td>42,57142857142857</td></tr>",
                            "<tr><td>06080120T</td><td>23</td><td>42,57142857142857</td></tr>",
                            "<tr><td>06080121T</td><td>195</td><td>42,57142857142857</td></tr>",
                            "<tr><td>06080122T</td><td>19</td><td>42,57142857142857</td></tr>",
                            "<tr><td>06080123T</td><td>551</td><td>418,25</td></tr>",
                            "<tr><td>06080124T</td><td>508</td><td>418,25</td></tr>",
                            "<tr><td>06080125T</td><td>411</td><td>418,25</td></tr>",
                            "<tr><td>06080126T</td><td>203</td><td>418,25</td></tr>",
                            "<tr><td>02040145T</td><td>30</td><td>39</td></tr>",
                            "<tr><td>02040146T</td><td>48</td><td>39</td></tr>",
                            "<tr><td>02080450T</td><td>44</td><td>73,5</td></tr>",
                            "<tr><td>02080451T</td><td>103</td><td>73,5</td></tr>",
                            "<tr><td>02080456T</td><td>89</td><td>89</td></tr>",
                            "<tr><td>02040147T</td><td>8</td><td>60,333333333333336</td></tr>",
                            "<tr><td>02040148T</td><td>63</td><td>60,333333333333336</td></tr>",
                            "<tr><td>02040149T</td><td>110</td><td>60,333333333333336</td></tr>",
                            "<tr><td>07040165T</td><td>218</td><td>255,8846153846154</td></tr>",
                            "<tr><td>07040166T</td><td>455</td><td>255,8846153846154</td></tr>",
                            "<tr><td>07040167T</td><td>655</td><td>255,8846153846154</td></tr>",
                            "<tr><td>07040168T</td><td>189</td><td>255,8846153846154</td></tr>",
                            "<tr><td>07040169T</td><td>94</td><td>255,8846153846154</td></tr>",
                            "<tr><td>07080466T</td><td>81</td><td>255,8846153846154</td></tr>",
                            "<tr><td>07080467T</td><td>273</td><td>255,8846153846154</td></tr>",
                            "<tr><td>07080468T</td><td>110</td><td>255,8846153846154</td></tr>",
                            "<tr><td>07080469T</td><td>364</td><td>255,8846153846154</td></tr>",
                            "<tr><td>07080470T</td><td>188</td><td>255,8846153846154</td></tr>",
                            "<tr><td>07080471T</td><td>294</td><td>255,8846153846154</td></tr>",
                            "<tr><td>07080150T</td><td>51</td><td>255,8846153846154</td></tr>",
                            "<tr><td>07080151T</td><td>390</td><td>255,8846153846154</td></tr>",
                            "<tr><td>07080152T</td><td>1019</td><td>255,8846153846154</td></tr>",
                            "<tr><td>07080153T</td><td>41</td><td>255,8846153846154</td></tr>",
                            "<tr><td>07080154T</td><td>401</td><td>255,8846153846154</td></tr>",
                            "<tr><td>07080155T</td><td>33</td><td>255,8846153846154</td></tr>",
                            "<tr><td>07080156T</td><td>23</td><td>255,8846153846154</td></tr>",
                            "<tr><td>07080157T</td><td>93</td><td>255,8846153846154</td></tr>",
                            "<tr><td>07080158T</td><td>773</td><td>255,8846153846154</td></tr>",
                            "<tr><td>07080159T</td><td>63</td><td>255,8846153846154</td></tr>",
                            "<tr><td>07080160T</td><td>239</td><td>255,8846153846154</td></tr>",
                            "<tr><td>07080161T</td><td>44</td><td>255,8846153846154</td></tr>",
                            "<tr><td>07080162T</td><td>101</td><td>255,8846153846154</td></tr>",
                            "<tr><td>07080163T</td><td>230</td><td>255,8846153846154</td></tr>",
                            "<tr><td>07080164T</td><td>231</td><td>255,8846153846154</td></tr>",
                            "<tr><td>05050170T</td><td>19</td><td>19</td></tr>",
                            "<tr><td>G064-CI401</td><td>6900</td><td>7600</td></tr>",
                            "<tr><td>G073-CI410</td><td>7900</td><td>7600</td></tr>",
                            "<tr><td>G082-CI419</td><td>8000</td><td>7600</td></tr>",
                            "<tr><td>L064-CI401</td><td>6900</td><td>7600</td></tr>",
                            "<tr><td>L073-CI410</td><td>7900</td><td>7600</td></tr>",
                            "<tr><td>L082-CI419</td><td>8000</td><td>7600</td></tr>",
                            "<tr><td>L001-KB101</td><td>8900</td><td>8900</td></tr>",
                            "<tr><td>G001-KB101</td><td>8900</td><td>8900</td></tr>",
                            "<tr><td>G013-NA201</td><td>4990</td><td>3140</td></tr>",
                            "<tr><td>G019-NA207</td><td>1290</td><td>3140</td></tr>",
                            "<tr><td>L013-NA201</td><td>4990</td><td>3140</td></tr>",
                            "<tr><td>L019-NA207</td><td>1290</td><td>3140</td></tr>",
                            "<tr><td>G048-PO218</td><td>3900</td><td>3900</td></tr>",
                            "<tr><td>L048-PO218</td><td>3900</td><td>3900</td></tr>",
                            "<tr><td>02040176T</td><td>18</td><td>27,666666666666668</td></tr>",
                            "<tr><td>02040177T</td><td>30</td><td>27,666666666666668</td></tr>",
                            "<tr><td>02040178T</td><td>35</td><td>27,666666666666668</td></tr>",
                            "<tr><td>06040179T</td><td>180</td><td>172,5</td></tr>",
                            "<tr><td>06040180T</td><td>228</td><td>172,5</td></tr>",
                            "<tr><td>06080440T</td><td>161</td><td>172,5</td></tr>",
                            "<tr><td>06080441T</td><td>121</td><td>172,5</td></tr>",
                            "<tr><td>06040182T</td><td>184</td><td>355,4</td></tr>",
                            "<tr><td>06040183T</td><td>95</td><td>355,4</td></tr>",
                            "<tr><td>06040184T</td><td>218</td><td>355,4</td></tr>",
                            "<tr><td>06040185T</td><td>581</td><td>355,4</td></tr>",
                            "<tr><td>06040186T</td><td>699</td><td>355,4</td></tr>",
                            "<tr><td>04050187T</td><td>66</td><td>66</td></tr>",
                            "<tr><td>02020444T</td><td>464</td><td>596</td></tr>",
                            "<tr><td>04020445T</td><td>728</td><td>596</td></tr>",
                            "<tr><td>06080188T</td><td>875</td><td>239,5</td></tr>",
                            "<tr><td>06080189T</td><td>30</td><td>239,5</td></tr>",
                            "<tr><td>06080190T</td><td>23</td><td>239,5</td></tr>",
                            "<tr><td>06080191T</td><td>30</td><td>239,5</td></tr>",
                            "<tr><td>06080192T</td><td>70</td><td>125</td></tr>",
                            "<tr><td>06080193T</td><td>180</td><td>125</td></tr>",
                            "<tr><td>02040194T</td><td>794</td><td>290</td></tr>",
                            "<tr><td>02040195T</td><td>185</td><td>290</td></tr>",
                            "<tr><td>02040196T</td><td>273</td><td>290</td></tr>",
                            "<tr><td>02040197T</td><td>81</td><td>290</td></tr>",
                            "<tr><td>02040198T</td><td>133</td><td>290</td></tr>",
                            "<tr><td>02040199T</td><td>286</td><td>290</td></tr>",
                            "<tr><td>02040200T</td><td>278</td><td>290</td></tr>",
                            "<tr><td>04050203T</td><td>24</td><td>96,5</td></tr>",
                            "<tr><td>04050204T</td><td>169</td><td>96,5</td></tr>",
                            "<tr><td>06040205T</td><td>15</td><td>13,5</td></tr>",
                            "<tr><td>06040206T</td><td>12</td><td>13,5</td></tr>",
                            "<tr><td>02040207T</td><td>19</td><td>57</td></tr>",
                            "<tr><td>02040208T</td><td>19</td><td>57</td></tr>",
                            "<tr><td>02040025T</td><td>133</td><td>57</td></tr>",
                            "<tr><td>02080432T</td><td>259</td><td>251</td></tr>",
                            "<tr><td>02040211T</td><td>243</td><td>251</td></tr>",
                            "<tr><td>02040209T</td><td>44</td><td>66,5</td></tr>",
                            "<tr><td>02040210T</td><td>89</td><td>66,5</td></tr>",
                            "<tr><td>02080436T</td><td>66</td><td>140</td></tr>",
                            "<tr><td>02080431T</td><td>214</td><td>140</td></tr>",
                            "<tr><td>02040214T</td><td>59</td><td>59</td></tr>",
                            "<tr><td>06040212T</td><td>29</td><td>31,5</td></tr>",
                            "<tr><td>06040213T</td><td>34</td><td>31,5</td></tr>",
                            "<tr><td>07040215T</td><td>74</td><td>54</td></tr>",
                            "<tr><td>07040216T</td><td>36</td><td>54</td></tr>",
                            "<tr><td>07040217T</td><td>59</td><td>54</td></tr>",
                            "<tr><td>07040218T</td><td>23</td><td>54</td></tr>",
                            "<tr><td>07040219T</td><td>78</td><td>54</td></tr>",
                            "<tr><td>06080427T</td><td>161</td><td>84,91666666666667</td></tr>",
                            "<tr><td>06080430T</td><td>74</td><td>84,91666666666667</td></tr>",
                            "<tr><td>07050463T</td><td>36</td><td>84,91666666666667</td></tr>",
                            "<tr><td>06080259T</td><td>161</td><td>84,91666666666667</td></tr>",
                            "<tr><td>06050249T</td><td>73</td><td>84,91666666666667</td></tr>",
                            "<tr><td>06040399T</td><td>125</td><td>84,91666666666667</td></tr>",
                            "<tr><td>06040400T</td><td>511</td><td>84,91666666666667</td></tr>",
                            "<tr><td>06010036T</td><td>33</td><td>84,91666666666667</td></tr>",
                            "<tr><td>06080422T</td><td>324</td><td>84,91666666666667</td></tr>",
                            "<tr><td>06010201T</td><td>36</td><td>84,91666666666667</td></tr>",
                            "<tr><td>06010202T</td><td>23</td><td>84,91666666666667</td></tr>",
                            "<tr><td>06010305T</td><td>9</td><td>84,91666666666667</td></tr>",
                            "<tr><td>06040181T</td><td>8</td><td>84,91666666666667</td></tr>",
                            "<tr><td>06040352T</td><td>103</td><td>84,91666666666667</td></tr>",
                            "<tr><td>06040353T</td><td>8</td><td>84,91666666666667</td></tr>",
                            "<tr><td>06040088T</td><td>51</td><td>84,91666666666667</td></tr>",
                            "<tr><td>06040089T</td><td>5</td><td>84,91666666666667</td></tr>",
                            "<tr><td>06010365T</td><td>36</td><td>84,91666666666667</td></tr>",
                            "<tr><td>06010367T</td><td>35</td><td>84,91666666666667</td></tr>",
                            "<tr><td>06010368T</td><td>61</td><td>84,91666666666667</td></tr>",
                            "<tr><td>06010373T</td><td>43</td><td>84,91666666666667</td></tr>",
                            "<tr><td>06010374T</td><td>45</td><td>84,91666666666667</td></tr>",
                            "<tr><td>06040383T</td><td>19</td><td>84,91666666666667</td></tr>",
                            "<tr><td>06040384T</td><td>58</td><td>84,91666666666667</td></tr>",
                            "<tr><td>04050220T</td><td>65</td><td>109</td></tr>",
                            "<tr><td>04050221T</td><td>133</td><td>109</td></tr>",
                            "<tr><td>04050222T</td><td>165</td><td>109</td></tr>",
                            "<tr><td>04050223T</td><td>73</td><td>109</td></tr>",
                            "<tr><td>04050224T</td><td>48</td><td>48</td></tr>",
                            "<tr><td>02080226T</td><td>106</td><td>106</td></tr>",
                            "<tr><td>01080513T</td><td>38</td><td>46</td></tr>",
                            "<tr><td>01090515T</td><td>11</td><td>46</td></tr>",
                            "<tr><td>01090516T</td><td>25</td><td>46</td></tr>",
                            "<tr><td>01100070T</td><td>73</td><td>46</td></tr>",
                            "<tr><td>01100071T</td><td>89</td><td>46</td></tr>",
                            "<tr><td>01100509T</td><td>40</td><td>46</td></tr>",
                            "<tr><td>04050225T</td><td>131</td><td>131</td></tr>",
                            "<tr><td>04110227T</td><td>33</td><td>60,1875</td></tr>",
                            "<tr><td>04110228T</td><td>184</td><td>60,1875</td></tr>",
                            "<tr><td>04110229T</td><td>33</td><td>60,1875</td></tr>",
                            "<tr><td>04110230T</td><td>55</td><td>60,1875</td></tr>",
                            "<tr><td>04110231T</td><td>81</td><td>60,1875</td></tr>",
                            "<tr><td>04110232T</td><td>51</td><td>60,1875</td></tr>",
                            "<tr><td>04110233T</td><td>89</td><td>60,1875</td></tr>",
                            "<tr><td>04030234T</td><td>30</td><td>60,1875</td></tr>",
                            "<tr><td>04030235T</td><td>73</td><td>60,1875</td></tr>",
                            "<tr><td>04030236T</td><td>15</td><td>60,1875</td></tr>",
                            "<tr><td>04030237T</td><td>36</td><td>60,1875</td></tr>",
                            "<tr><td>04030238T</td><td>59</td><td>60,1875</td></tr>",
                            "<tr><td>04030239T</td><td>48</td><td>60,1875</td></tr>",
                            "<tr><td>04030240T</td><td>14</td><td>60,1875</td></tr>",
                            "<tr><td>04030241T</td><td>44</td><td>60,1875</td></tr>",
                            "<tr><td>04030242T</td><td>118</td><td>60,1875</td></tr>",
                            "<tr><td>04030243T</td><td>195</td><td>195</td></tr>",
                            "<tr><td>N035-AL218</td><td>39000</td><td>42500</td></tr>",
                            "<tr><td>N039-AL222</td><td>46000</td><td>42500</td></tr>",
                            "<tr><td>06040246T</td><td>161</td><td>144,66666666666666</td></tr>",
                            "<tr><td>06040247T</td><td>30</td><td>144,66666666666666</td></tr>",
                            "<tr><td>06040248T</td><td>243</td><td>144,66666666666666</td></tr>",
                            "<tr><td>01100510T</td><td>13</td><td>8,5</td></tr>",
                            "<tr><td>01090501T</td><td>4</td><td>8,5</td></tr>",
                            "<tr><td>04050250T</td><td>115</td><td>115,71428571428571</td></tr>",
                            "<tr><td>04050251T</td><td>148</td><td>115,71428571428571</td></tr>",
                            "<tr><td>04050252T</td><td>124</td><td>115,71428571428571</td></tr>",
                            "<tr><td>04050253T</td><td>103</td><td>115,71428571428571</td></tr>",
                            "<tr><td>04050254T</td><td>155</td><td>115,71428571428571</td></tr>",
                            "<tr><td>04050255T</td><td>36</td><td>115,71428571428571</td></tr>",
                            "<tr><td>04050256T</td><td>129</td><td>115,71428571428571</td></tr>",
                            "<tr><td>04040387T</td><td>81</td><td>95,5</td></tr>",
                            "<tr><td>04050171T</td><td>110</td><td>95,5</td></tr>",
                            "<tr><td>04030260T</td><td>15</td><td>92,28571428571429</td></tr>",
                            "<tr><td>04030261T</td><td>140</td><td>92,28571428571429</td></tr>",
                            "<tr><td>04030262T</td><td>56</td><td>92,28571428571429</td></tr>",
                            "<tr><td>04030263T</td><td>89</td><td>92,28571428571429</td></tr>",
                            "<tr><td>04030264T</td><td>74</td><td>92,28571428571429</td></tr>",
                            "<tr><td>04030265T</td><td>103</td><td>92,28571428571429</td></tr>",
                            "<tr><td>04030266T</td><td>169</td><td>92,28571428571429</td></tr>",
                            "<tr><td>04050268T</td><td>15</td><td>13</td></tr>",
                            "<tr><td>04050269T</td><td>11</td><td>13</td></tr>",
                            "<tr><td>02080453T</td><td>526</td><td>645,5</td></tr>",
                            "<tr><td>02080454T</td><td>765</td><td>645,5</td></tr>",
                            "<tr><td>02080434T</td><td>210</td><td>392</td></tr>",
                            "<tr><td>02080435T</td><td>184</td><td>392</td></tr>",
                            "<tr><td>04080270T</td><td>1765</td><td>392</td></tr>",
                            "<tr><td>04080271T</td><td>264</td><td>392</td></tr>",
                            "<tr><td>04080272T</td><td>360</td><td>392</td></tr>",
                            "<tr><td>06040172T</td><td>195</td><td>392</td></tr>",
                            "<tr><td>06040173T</td><td>211</td><td>392</td></tr>",
                            "<tr><td>06040174T</td><td>148</td><td>392</td></tr>",
                            "<tr><td>06040175T</td><td>191</td><td>392</td></tr>",
                            "<tr><td>04110273T</td><td>55</td><td>106,3</td></tr>",
                            "<tr><td>04110274T</td><td>49</td><td>106,3</td></tr>",
                            "<tr><td>04110275T</td><td>49</td><td>106,3</td></tr>",
                            "<tr><td>04110276T</td><td>109</td><td>106,3</td></tr>",
                            "<tr><td>04110277T</td><td>93</td><td>106,3</td></tr>",
                            "<tr><td>04110278T</td><td>161</td><td>106,3</td></tr>",
                            "<tr><td>04110279T</td><td>168</td><td>106,3</td></tr>",
                            "<tr><td>04110280T</td><td>148</td><td>106,3</td></tr>",
                            "<tr><td>04110281T</td><td>175</td><td>106,3</td></tr>",
                            "<tr><td>04110282T</td><td>56</td><td>106,3</td></tr>",
                            "<tr><td>04110283T</td><td>155</td><td>111,5</td></tr>",
                            "<tr><td>04110284T</td><td>169</td><td>111,5</td></tr>",
                            "<tr><td>01030092T</td><td>59</td><td>111,5</td></tr>",
                            "<tr><td>06080429T</td><td>63</td><td>111,5</td></tr>",
                            "<tr><td>06080425T</td><td>8</td><td>8</td></tr>",
                            "<tr><td>08070486T</td><td>403</td><td>385,3333333333333</td></tr>",
                            "<tr><td>08070487T</td><td>403</td><td>385,3333333333333</td></tr>",
                            "<tr><td>08070488T</td><td>403</td><td>385,3333333333333</td></tr>",
                            "<tr><td>08070481T</td><td>198</td><td>385,3333333333333</td></tr>",
                            "<tr><td>08070482T</td><td>190</td><td>385,3333333333333</td></tr>",
                            "<tr><td>08070475T</td><td>440</td><td>385,3333333333333</td></tr>",
                            "<tr><td>08070476T</td><td>293</td><td>385,3333333333333</td></tr>",
                            "<tr><td>08070477T</td><td>353</td><td>385,3333333333333</td></tr>",
                            "<tr><td>08070478T</td><td>785</td><td>385,3333333333333</td></tr>",
                            "<tr><td>01090498T</td><td>3</td><td>3</td></tr>",
                            "<tr><td>02040290T</td><td>89</td><td>89</td></tr>",
                            "<tr><td>02040291T</td><td>15</td><td>46,5</td></tr>",
                            "<tr><td>02040292T</td><td>78</td><td>46,5</td></tr>",
                            "<tr><td>02040293T</td><td>310</td><td>310</td></tr>",
                            "<tr><td>02040294T</td><td>103</td><td>79</td></tr>",
                            "<tr><td>02040295T</td><td>89</td><td>79</td></tr>",
                            "<tr><td>02040296T</td><td>56</td><td>79</td></tr>",
                            "<tr><td>02040297T</td><td>103</td><td>79</td></tr>",
                            "<tr><td>02040298T</td><td>44</td><td>79</td></tr>",
                            "<tr><td>N001-KB101</td><td>24000</td><td>24000</td></tr>",
                            "<tr><td>N008-NA201</td><td>8290</td><td>8290</td></tr>",
                            "<tr><td>01090517T</td><td>4</td><td>4</td></tr>",
                            "<tr><td>01020299T</td><td>48</td><td>51,5</td></tr>",
                            "<tr><td>01020300T</td><td>55</td><td>51,5</td></tr>",
                            "<tr><td>06050301T</td><td>133</td><td>156,66666666666666</td></tr>",
                            "<tr><td>06050302T</td><td>176</td><td>156,66666666666666</td></tr>",
                            "<tr><td>06050303T</td><td>161</td><td>156,66666666666666</td></tr>",
                            "<tr><td>01010304T</td><td>59</td><td>2317</td></tr>",
                            "<tr><td>01080512T</td><td>4575</td><td>2317</td></tr>",
                            "<tr><td>05010306T</td><td>20</td><td>20</td></tr>",
                            "<tr><td>01040307T</td><td>15</td><td>15</td></tr>",
                            "<tr><td>02020037T</td><td>144</td><td>123,5</td></tr>",
                            "<tr><td>02020245T</td><td>103</td><td>123,5</td></tr>",
                            "<tr><td>02040308T</td><td>81</td><td>87</td></tr>",
                            "<tr><td>02040309T</td><td>93</td><td>87</td></tr>",
                            "<tr><td>07080311T</td><td>276</td><td>194,22222222222223</td></tr>",
                            "<tr><td>07080312T</td><td>125</td><td>194,22222222222223</td></tr>",
                            "<tr><td>07080313T</td><td>59</td><td>194,22222222222223</td></tr>",
                            "<tr><td>07080314T</td><td>133</td><td>194,22222222222223</td></tr>",
                            "<tr><td>07080315T</td><td>94</td><td>194,22222222222223</td></tr>",
                            "<tr><td>07080316T</td><td>468</td><td>194,22222222222223</td></tr>",
                            "<tr><td>07080317T</td><td>59</td><td>194,22222222222223</td></tr>",
                            "<tr><td>07080318T</td><td>235</td><td>194,22222222222223</td></tr>",
                            "<tr><td>07080319T</td><td>299</td><td>194,22222222222223</td></tr>",
                            "<tr><td>04050320T</td><td>173</td><td>216</td></tr>",
                            "<tr><td>04050321T</td><td>161</td><td>216</td></tr>",
                            "<tr><td>04050322T</td><td>314</td><td>216</td></tr>",
                            "<tr><td>06040323T</td><td>36</td><td>62,5</td></tr>",
                            "<tr><td>06040324T</td><td>89</td><td>62,5</td></tr>",
                            "<tr><td>06040325T</td><td>40</td><td>40,285714285714285</td></tr>",
                            "<tr><td>06040326T</td><td>19</td><td>40,285714285714285</td></tr>",
                            "<tr><td>06040327T</td><td>36</td><td>40,285714285714285</td></tr>",
                            "<tr><td>06040328T</td><td>44</td><td>40,285714285714285</td></tr>",
                            "<tr><td>06040329T</td><td>44</td><td>40,285714285714285</td></tr>",
                            "<tr><td>06040330T</td><td>50</td><td>40,285714285714285</td></tr>",
                            "<tr><td>06040331T</td><td>49</td><td>40,285714285714285</td></tr>",
                            "<tr><td>06080332T</td><td>74</td><td>96,5</td></tr>",
                            "<tr><td>06080333T</td><td>119</td><td>96,5</td></tr>",
                            "<tr><td>06080334T</td><td>133</td><td>162,4</td></tr>",
                            "<tr><td>06080335T</td><td>110</td><td>162,4</td></tr>",
                            "<tr><td>06080336T</td><td>81</td><td>162,4</td></tr>",
                            "<tr><td>06080337T</td><td>293</td><td>162,4</td></tr>",
                            "<tr><td>06080338T</td><td>101</td><td>162,4</td></tr>",
                            "<tr><td>06080339T</td><td>89</td><td>162,4</td></tr>",
                            "<tr><td>06010343T</td><td>426</td><td>162,4</td></tr>",
                            "<tr><td>05080340T</td><td>144</td><td>162,4</td></tr>",
                            "<tr><td>05080341T</td><td>144</td><td>162,4</td></tr>",
                            "<tr><td>05040310T</td><td>103</td><td>162,4</td></tr>",
                            "<tr><td>03010342T</td><td>15</td><td>74,75</td></tr>",
                            "<tr><td>03010344T</td><td>63</td><td>74,75</td></tr>",
                            "<tr><td>03010345T</td><td>166</td><td>74,75</td></tr>",
                            "<tr><td>02080433T</td><td>55</td><td>74,75</td></tr>",
                            "<tr><td>05050346T</td><td>89</td><td>89</td></tr>",
                            "<tr><td>06040347T</td><td>28</td><td>185</td></tr>",
                            "<tr><td>01010001T</td><td>342</td><td>185</td></tr>",
                            "<tr><td>05040348T</td><td>106</td><td>84,5</td></tr>",
                            "<tr><td>05040349T</td><td>63</td><td>84,5</td></tr>",
                            "<tr><td>06040350T</td><td>256</td><td>229,5</td></tr>",
                            "<tr><td>06040351T</td><td>203</td><td>229,5</td></tr>",
                            "<tr><td>U001-KI501</td><td>1990</td><td>1990</td></tr>",
                            "<tr><td>02080514T</td><td>45</td><td>45</td></tr>",
                            "<tr><td>04050358T</td><td>356</td><td>356</td></tr>",
                            "<tr><td>04110362T</td><td>183</td><td>157,66666666666666</td></tr>",
                            "<tr><td>05110359T</td><td>176</td><td>157,66666666666666</td></tr>",
                            "<tr><td>05110360T</td><td>118</td><td>157,66666666666666</td></tr>",
                            "<tr><td>05110361T</td><td>175</td><td>157,66666666666666</td></tr>",
                            "<tr><td>05110363T</td><td>133</td><td>157,66666666666666</td></tr>",
                            "<tr><td>05110364T</td><td>161</td><td>157,66666666666666</td></tr>",
                            "<tr><td>06010366T</td><td>508</td><td>840,5</td></tr>",
                            "<tr><td>06040446T</td><td>1173</td><td>840,5</td></tr>",
                            "<tr><td>05010369T</td><td>129</td><td>129</td></tr>",
                            "<tr><td>07010371T</td><td>99</td><td>130</td></tr>",
                            "<tr><td>07010372T</td><td>161</td><td>130</td></tr>",
                            "<tr><td>06010375T</td><td>24</td><td>14,333333333333334</td></tr>",
                            "<tr><td>06010376T</td><td>11</td><td>14,333333333333334</td></tr>",
                            "<tr><td>06010377T</td><td>8</td><td>14,333333333333334</td></tr>",
                            "<tr><td>06040378T</td><td>89</td><td>100,6</td></tr>",
                            "<tr><td>06040379T</td><td>93</td><td>100,6</td></tr>",
                            "<tr><td>06040380T</td><td>78</td><td>100,6</td></tr>",
                            "<tr><td>06040381T</td><td>103</td><td>100,6</td></tr>",
                            "<tr><td>07050464T</td><td>140</td><td>100,6</td></tr>",
                            "<tr><td>06040382T</td><td>633</td><td>633</td></tr>",
                            "<tr><td>05050465T</td><td>40</td><td>40</td></tr>",
                            "<tr><td>06040385T</td><td>96</td><td>72</td></tr>",
                            "<tr><td>06040386T</td><td>48</td><td>72</td></tr>",
                            "<tr><td>02080449T</td><td>103</td><td>103</td></tr>",
                            "<tr><td>07040388T</td><td>9</td><td>126,66666666666667</td></tr>",
                            "<tr><td>07040389T</td><td>360</td><td>126,66666666666667</td></tr>",
                            "<tr><td>07040390T</td><td>11</td><td>126,66666666666667</td></tr>",
                            "<tr><td>07040391T</td><td>80</td><td>77</td></tr>",
                            "<tr><td>07010244T</td><td>74</td><td>77</td></tr>",
                            "<tr><td>07010136T</td><td>123</td><td>101,66666666666667</td></tr>",
                            "<tr><td>07010137T</td><td>48</td><td>101,66666666666667</td></tr>",
                            "<tr><td>07010138T</td><td>33</td><td>101,66666666666667</td></tr>",
                            "<tr><td>07010139T</td><td>91</td><td>101,66666666666667</td></tr>",
                            "<tr><td>07010140T</td><td>23</td><td>101,66666666666667</td></tr>",
                            "<tr><td>07010141T</td><td>15</td><td>101,66666666666667</td></tr>",
                            "<tr><td>07010142T</td><td>228</td><td>101,66666666666667</td></tr>",
                            "<tr><td>07010143T</td><td>78</td><td>101,66666666666667</td></tr>",
                            "<tr><td>07010144T</td><td>89</td><td>101,66666666666667</td></tr>",
                            "<tr><td>07040127T</td><td>30</td><td>101,66666666666667</td></tr>",
                            "<tr><td>07040128T</td><td>55</td><td>101,66666666666667</td></tr>",
                            "<tr><td>07040129T</td><td>30</td><td>101,66666666666667</td></tr>",
                            "<tr><td>07040130T</td><td>80</td><td>101,66666666666667</td></tr>",
                            "<tr><td>07040131T</td><td>85</td><td>101,66666666666667</td></tr>",
                            "<tr><td>07040132T</td><td>55</td><td>101,66666666666667</td></tr>",
                            "<tr><td>07040133T</td><td>39</td><td>101,66666666666667</td></tr>",
                            "<tr><td>07040134T</td><td>44</td><td>101,66666666666667</td></tr>",
                            "<tr><td>07040135T</td><td>684</td><td>101,66666666666667</td></tr>",
                            "<tr><td>06040392T</td><td>728</td><td>574,4285714285714</td></tr>",
                            "<tr><td>06040393T</td><td>765</td><td>574,4285714285714</td></tr>",
                            "<tr><td>06040394T</td><td>324</td><td>574,4285714285714</td></tr>",
                            "<tr><td>06040395T</td><td>728</td><td>574,4285714285714</td></tr>",
                            "<tr><td>06040396T</td><td>410</td><td>574,4285714285714</td></tr>",
                            "<tr><td>06040397T</td><td>655</td><td>574,4285714285714</td></tr>",
                            "<tr><td>06040398T</td><td>411</td><td>574,4285714285714</td></tr>",
                            "<tr><td>02080511T</td><td>14250</td><td>14250</td></tr>",
                            "<tr><td>07050462T</td><td>493</td><td>493</td></tr>",
                            "<tr><td>02080452T</td><td>438</td><td>819,8333333333334</td></tr>",
                            "<tr><td>02040401T</td><td>339</td><td>819,8333333333334</td></tr>",
                            "<tr><td>02040402T</td><td>286</td><td>819,8333333333334</td></tr>",
                            "<tr><td>02040403T</td><td>1351</td><td>819,8333333333334</td></tr>",
                            "<tr><td>02040404T</td><td>405</td><td>819,8333333333334</td></tr>",
                            "<tr><td>02040002T</td><td>2100</td><td>819,8333333333334</td></tr>",
                            "<tr><td>02040405T</td><td>44</td><td>39</td></tr>",
                            "<tr><td>02040406T</td><td>34</td><td>39</td></tr>",
                            "<tr><td>06080407T</td><td>249</td><td>203,75</td></tr>",
                            "<tr><td>06080408T</td><td>210</td><td>203,75</td></tr>",
                            "<tr><td>06080409T</td><td>180</td><td>203,75</td></tr>",
                            "<tr><td>06080410T</td><td>176</td><td>203,75</td></tr>",
                            "<tr><td>06080411T</td><td>58</td><td>35,166666666666664</td></tr>",
                            "<tr><td>06080412T</td><td>30</td><td>35,166666666666664</td></tr>",
                            "<tr><td>06080413T</td><td>30</td><td>35,166666666666664</td></tr>",
                            "<tr><td>06080414T</td><td>30</td><td>35,166666666666664</td></tr>",
                            "<tr><td>06080415T</td><td>30</td><td>35,166666666666664</td></tr>",
                            "<tr><td>06080416T</td><td>33</td><td>35,166666666666664</td></tr>",
                            "<tr><td>06080417T</td><td>20</td><td>20</td></tr>",
                            "<tr><td>07080418T</td><td>95</td><td>137,5</td></tr>",
                            "<tr><td>07080419T</td><td>66</td><td>137,5</td></tr>",
                            "<tr><td>07080420T</td><td>161</td><td>137,5</td></tr>",
                            "<tr><td>07080421T</td><td>228</td><td>137,5</td></tr>",
                            "<tr><td>02040206T</td><td>81</td><td>81</td></tr>",
                            "</table>"
                        ]
                    }
                }
            ],
            "execution_count": 41
        },
        {
            "cell_type": "markdown",
            "source": [
                "7. <span style=\"font-weight: 600; color: rgb(36, 41, 47); font-family: -apple-system, BlinkMacSystemFont, &quot;Segoe UI&quot;, Helvetica, Arial, sans-serif, &quot;Apple Color Emoji&quot;, &quot;Segoe UI Emoji&quot;; font-size: 16px;\">Készítsünk lekérdezést, amely megmutatja, hogy melyik termékkategóriába hány termék tartozik. A lista a kategória nevét és a darabszámot jelenítse meg.</span>\n",
                "\n",
                "1. A lista ne tartalmazzon duplikált sorokat.\n",
                "2. A feladatot partíciók segítségével oldjuk meg!"
            ],
            "metadata": {
                "azdata_cell_guid": "7ebf7ddd-1bd2-4246-815a-be8ae37e3b5b"
            },
            "attachments": {}
        },
        {
            "cell_type": "code",
            "source": [
                ""
            ],
            "metadata": {
                "azdata_cell_guid": "84b7e896-f36e-4985-88f5-e0f706494fef",
                "language": "sql"
            },
            "outputs": [],
            "execution_count": null
        },
        {
            "cell_type": "markdown",
            "source": [
                "8. <span style=\"font-weight: 600; color: rgb(36, 41, 47); font-family: -apple-system, BlinkMacSystemFont, &quot;Segoe UI&quot;, Helvetica, Arial, sans-serif, &quot;Apple Color Emoji&quot;, &quot;Segoe UI Emoji&quot;; font-size: 16px;\">Készítsünk listát a rendelési tételekről. Az egyes rendelési tételeket termékenként soroljuk be 4 osztályba a rendelés mennyisége alapján. Jelenítsük meg ezt az információt is egy új oszlopban, az oszlop neve legyen 'Mennyiségi kategória'.</span>\n",
                "\n",
                "1. A lista csak a 100 Ft feletti egységárú rendelési tételeket vegye figyelembe!"
            ],
            "metadata": {
                "azdata_cell_guid": "27a3d3dc-eafb-4a5e-b103-9f465b9eda8f"
            },
            "attachments": {}
        },
        {
            "cell_type": "code",
            "source": [
                ""
            ],
            "metadata": {
                "azdata_cell_guid": "f09edb3f-649b-4a96-958e-9e12774ae8b7",
                "language": "sql"
            },
            "outputs": [],
            "execution_count": null
        },
        {
            "cell_type": "markdown",
            "source": [
                "9. <span style=\"font-weight: 600; color: rgb(36, 41, 47); font-family: -apple-system, BlinkMacSystemFont, &quot;Segoe UI&quot;, Helvetica, Arial, sans-serif, &quot;Apple Color Emoji&quot;, &quot;Segoe UI Emoji&quot;; font-size: 16px;\">Listázzuk a termékek kódját, megnevezését, kategóriájának nevét, és listaárát.</span>\n",
                "\n",
                "1. A listát egészítsük ki két új oszloppal, amelyek a kategória legolcsóbb, illetve legdrágább termékének árát tartalmazzák.\n",
                "2. A két új oszlop létrehozásánál partíciókkal dolgozzunk!"
            ],
            "metadata": {
                "azdata_cell_guid": "f12a331a-0e26-4d3d-9c68-812316286577"
            },
            "attachments": {}
        },
        {
            "cell_type": "code",
            "source": [
                ""
            ],
            "metadata": {
                "azdata_cell_guid": "10a77fc9-e61a-46fc-a401-59720d82bc50",
                "language": "sql"
            },
            "outputs": [],
            "execution_count": null
        },
        {
            "cell_type": "markdown",
            "source": [
                "10. <span style=\"font-weight: 600; color: rgb(36, 41, 47); font-family: -apple-system, BlinkMacSystemFont, &quot;Segoe UI&quot;, Helvetica, Arial, sans-serif, &quot;Apple Color Emoji&quot;, &quot;Segoe UI Emoji&quot;; font-size: 16px;\">Készítsünk listát a rendelésekről. A lista legyen rendezve ügyfelenként (LOGIN), azon belül a rendelés dátuma szerint. A listához készítsünk sorszámozást is. A sorszám a következő formában jelenjen meg: sorszám_év_login. Pl: 1_2015_adam1</span>\n",
                "\n",
                "1. A számozás login-onként, azon belül rendelési évenként kezdődjön újra.\n",
                "2. A sorszám oszlop neve legyen Azonosító"
            ],
            "metadata": {
                "azdata_cell_guid": "9229e2b6-e200-4499-b95b-2d0222149831"
            },
            "attachments": {}
        },
        {
            "cell_type": "code",
            "source": [
                ""
            ],
            "metadata": {
                "azdata_cell_guid": "8b49ed67-28c6-4880-82a8-cd369e5bba99",
                "language": "sql"
            },
            "outputs": [],
            "execution_count": null
        },
        {
            "cell_type": "markdown",
            "source": [
                "11. <span style=\"color: rgb(36, 41, 47); font-family: -apple-system, BlinkMacSystemFont, &quot;Segoe UI&quot;, Helvetica, Arial, sans-serif, &quot;Apple Color Emoji&quot;, &quot;Segoe UI Emoji&quot;; font-size: 16px;\">Készítsünk listát a termékek adatairól listaár szerint növekvő sorrendben! A lista jelenítse meg két új oszlopban a sorrend szerint előző, illetve következő termék listaárát is a termék saját kategóriájában és raktárában!</span>\n",
                "\n",
                "1. Ahol nincs előző vagy következő érték, ott 0 jelenjen meg!\n",
                "2. Az oszlopokat nevezzük el értelemszerűen!"
            ],
            "metadata": {
                "azdata_cell_guid": "7f5fc7a7-3b6a-4d89-b292-490830afb0c6"
            },
            "attachments": {}
        },
        {
            "cell_type": "code",
            "source": [
                ""
            ],
            "metadata": {
                "azdata_cell_guid": "4a9ece40-f782-4c0d-92cd-9c21969067ed",
                "language": "sql"
            },
            "outputs": [],
            "execution_count": null
        },
        {
            "cell_type": "markdown",
            "source": [
                "12. <span style=\"color: rgb(36, 41, 47); font-family: -apple-system, BlinkMacSystemFont, &quot;Segoe UI&quot;, Helvetica, Arial, sans-serif, &quot;Apple Color Emoji&quot;, &quot;Segoe UI Emoji&quot;; font-size: 16px;\">Listázzuk a termékek kódját, nevét és listaárát listaár szerinti sorrendben!</span>\n",
                "\n",
                "1. Vegyünk fel egy új oszlopot Mozgóátlag néven, amely minden esetben az aktuális termék, az előző, és a következő termék átlagárát tartalmazza!\n",
                "2. A mozgóátlagot kerekítsük két tizedesre!"
            ],
            "metadata": {
                "azdata_cell_guid": "5a483c52-bb98-44bb-bd03-1146d4b0abfa"
            },
            "attachments": {}
        },
        {
            "cell_type": "code",
            "source": [
                ""
            ],
            "metadata": {
                "azdata_cell_guid": "dd6e89bd-08f9-4b18-8460-03c45b503df0",
                "language": "sql"
            },
            "outputs": [],
            "execution_count": null
        },
        {
            "cell_type": "markdown",
            "source": [
                "13. <span style=\"color: rgb(36, 41, 47); font-family: -apple-system, BlinkMacSystemFont, &quot;Segoe UI&quot;, Helvetica, Arial, sans-serif, &quot;Apple Color Emoji&quot;, &quot;Segoe UI Emoji&quot;; font-size: 16px;\">Készítsünk listát, amely a rendelések sorszámát és a rendelés értékét tartalmazza. A listát egészítsük ki egy új oszloppal, amely minden rendelés esetén addigi rendelések összegét tartalmazza (az aktuálisat is beleértve)!</span>\n",
                "\n",
                "1. A listát rendezzük sorszám szerint növekvő sorrendbe.\n",
                "2. A lista ne tartalmazzon duplikált sorokat!"
            ],
            "metadata": {
                "azdata_cell_guid": "85d5cb66-96c6-42de-99cf-85ab22d08548"
            },
            "attachments": {}
        },
        {
            "cell_type": "code",
            "source": [
                ""
            ],
            "metadata": {
                "azdata_cell_guid": "cb07d64b-0eaa-498b-b4d2-0b46971e95ce",
                "language": "sql"
            },
            "outputs": [],
            "execution_count": null
        },
        {
            "cell_type": "markdown",
            "source": [
                "14. <span style=\"color: rgb(36, 41, 47); font-family: -apple-system, BlinkMacSystemFont, &quot;Segoe UI&quot;, Helvetica, Arial, sans-serif, &quot;Apple Color Emoji&quot;, &quot;Segoe UI Emoji&quot;; font-size: 16px;\">Készítsünk listát a termékek kódjáról, nevéről, kategória azonosítójáról, raktár azonosítójáról és listaáráról, valamint a termék adott szempontok szerinti rangsorokban elfoglalt helyezéseiről. (Szempontonként külön oszlopban, a helyezéseknél növekvő sorrendet feltételezve). A szempontok a következők legyenek: listaár, kategória szerinti listaár, és raktárkód szerinti listaár.</span>\n",
                "\n",
                "1. Az oszlopokat nevezzük el értelemszerűen.\n",
                "2. A helyezések egyenlőség esetén \"sűrűn\" kövessék egymást.\n",
                "3. A lista legyen rendezett kategória azonosító, azon belül listaár szerint!"
            ],
            "metadata": {
                "azdata_cell_guid": "f95ad665-a807-4099-bf06-64ed974f866f"
            },
            "attachments": {}
        },
        {
            "cell_type": "code",
            "source": [
                ""
            ],
            "metadata": {
                "azdata_cell_guid": "74c7ec8a-ae4a-4d03-b1c4-e8f6bb1be12c",
                "language": "sql"
            },
            "outputs": [],
            "execution_count": null
        },
        {
            "cell_type": "markdown",
            "source": [
                "15. <span style=\"color: rgb(36, 41, 47); font-family: -apple-system, BlinkMacSystemFont, &quot;Segoe UI&quot;, Helvetica, Arial, sans-serif, &quot;Apple Color Emoji&quot;, &quot;Segoe UI Emoji&quot;; font-size: 16px;\">Készítsünk listát a rendelési tételekről, amely minden sor esetén göngyölítve tartalmazza az ügyfél adott rendelési tételig meglévő rendelési tételeinek összértékét!</span>\n",
                "\n",
                "1. Az új oszlop neve legyen Eddigi rendelési tételek összértéke!\n",
                "2. Az ügyfél neve is jelenjen meg!"
            ],
            "metadata": {
                "azdata_cell_guid": "93552388-ffec-49ff-99e5-ae8dc8072601"
            },
            "attachments": {}
        },
        {
            "cell_type": "code",
            "source": [
                ""
            ],
            "metadata": {
                "azdata_cell_guid": "0e7f547f-7d96-4611-b1c2-0fa84a581e79",
                "language": "sql"
            },
            "outputs": [],
            "execution_count": null
        }
    ]
}