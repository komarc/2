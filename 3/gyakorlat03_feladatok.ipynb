{
    "metadata": {
        "kernelspec": {
            "name": "SQL",
            "display_name": "SQL",
            "language": "sql"
        },
        "language_info": {
            "name": "sql",
            "version": ""
        },
        "extensions": {
            "azuredatastudio": {
                "version": 1,
                "views": []
            }
        }
    },
    "nbformat_minor": 2,
    "nbformat": 4,
    "cells": [
        {
            "cell_type": "markdown",
            "source": [
                "**Az első 5 feladat ismétlés (többtáblás lekérdezések) a tanulmányi adatbázisból**\n",
                "\n",
                "1. Készítsünk listát arról, hogy melyik óra melyik teremben van!\n",
                "    \n",
                "    1. Jelenítsük meg az óra azonosítóját és a terem nevét!\n",
                "    2. A listát szűrjük a 3 karakter hosszú, \\[100;199\\] zárt intervallumba eső termekre! Feltesszük, hogy a 3 karakter hosszú terem nevek csak számjegyeket tartalmaznak."
            ],
            "metadata": {
                "azdata_cell_guid": "77f2d5b3-38e9-41cc-893f-f5afd02b97ef"
            },
            "attachments": {}
        },
        {
            "cell_type": "code",
            "source": [
                "select *\r\n",
                "from Orak o JOIN Termek ter ON o.terem=ter.Tkód\r\n",
                "where len(ter.terem)= 3 and ter.terem BETWEEN 100 and 199"
            ],
            "metadata": {
                "azdata_cell_guid": "bd3cef1a-4e6e-4ece-9dc3-aaa9d2b5d66d",
                "language": "sql"
            },
            "outputs": [
                {
                    "output_type": "display_data",
                    "data": {
                        "text/html": "(30 rows affected)"
                    },
                    "metadata": {}
                },
                {
                    "output_type": "display_data",
                    "data": {
                        "text/html": "Total execution time: 00:00:00.027"
                    },
                    "metadata": {}
                },
                {
                    "output_type": "execute_result",
                    "execution_count": 4,
                    "data": {
                        "application/vnd.dataresource+json": {
                            "schema": {
                                "fields": [
                                    {
                                        "name": "ora_id"
                                    },
                                    {
                                        "name": "tanar"
                                    },
                                    {
                                        "name": "nap"
                                    },
                                    {
                                        "name": "Sav"
                                    },
                                    {
                                        "name": "targy"
                                    },
                                    {
                                        "name": "terem"
                                    },
                                    {
                                        "name": "Tkód"
                                    },
                                    {
                                        "name": "Terem"
                                    }
                                ]
                            },
                            "data": [
                                {
                                    "ora_id": "159",
                                    "tanar": "4",
                                    "nap": "3",
                                    "Sav": "1",
                                    "targy": "1",
                                    "terem": "1",
                                    "Tkód": "1",
                                    "Terem": "117"
                                },
                                {
                                    "ora_id": "160",
                                    "tanar": "8",
                                    "nap": "2",
                                    "Sav": "5",
                                    "targy": "1",
                                    "terem": "2",
                                    "Tkód": "2",
                                    "Terem": "118"
                                },
                                {
                                    "ora_id": "161",
                                    "tanar": "8",
                                    "nap": "1",
                                    "Sav": "2",
                                    "targy": "1",
                                    "terem": "2",
                                    "Tkód": "2",
                                    "Terem": "118"
                                },
                                {
                                    "ora_id": "162",
                                    "tanar": "20",
                                    "nap": "1",
                                    "Sav": "4",
                                    "targy": "1",
                                    "terem": "3",
                                    "Tkód": "3",
                                    "Terem": "119"
                                },
                                {
                                    "ora_id": "163",
                                    "tanar": "3",
                                    "nap": "3",
                                    "Sav": "2",
                                    "targy": "1",
                                    "terem": "4",
                                    "Tkód": "4",
                                    "Terem": "120"
                                },
                                {
                                    "ora_id": "164",
                                    "tanar": "7",
                                    "nap": "2",
                                    "Sav": "3",
                                    "targy": "1",
                                    "terem": "3",
                                    "Tkód": "3",
                                    "Terem": "119"
                                },
                                {
                                    "ora_id": "165",
                                    "tanar": "3",
                                    "nap": "2",
                                    "Sav": "3",
                                    "targy": "1",
                                    "terem": "3",
                                    "Tkód": "3",
                                    "Terem": "119"
                                },
                                {
                                    "ora_id": "166",
                                    "tanar": "3",
                                    "nap": "2",
                                    "Sav": "4",
                                    "targy": "1",
                                    "terem": "3",
                                    "Tkód": "3",
                                    "Terem": "119"
                                },
                                {
                                    "ora_id": "167",
                                    "tanar": "2",
                                    "nap": "1",
                                    "Sav": "4",
                                    "targy": "1",
                                    "terem": "4",
                                    "Tkód": "4",
                                    "Terem": "120"
                                },
                                {
                                    "ora_id": "170",
                                    "tanar": "104",
                                    "nap": "1",
                                    "Sav": "2",
                                    "targy": "1",
                                    "terem": "4",
                                    "Tkód": "4",
                                    "Terem": "120"
                                },
                                {
                                    "ora_id": "172",
                                    "tanar": "7",
                                    "nap": "2",
                                    "Sav": "2",
                                    "targy": "1",
                                    "terem": "3",
                                    "Tkód": "3",
                                    "Terem": "119"
                                },
                                {
                                    "ora_id": "173",
                                    "tanar": "20",
                                    "nap": "4",
                                    "Sav": "3",
                                    "targy": "1",
                                    "terem": "3",
                                    "Tkód": "3",
                                    "Terem": "119"
                                },
                                {
                                    "ora_id": "175",
                                    "tanar": "14",
                                    "nap": "4",
                                    "Sav": "4",
                                    "targy": "1",
                                    "terem": "4",
                                    "Tkód": "4",
                                    "Terem": "120"
                                },
                                {
                                    "ora_id": "176",
                                    "tanar": "20",
                                    "nap": "4",
                                    "Sav": "4",
                                    "targy": "1",
                                    "terem": "2",
                                    "Tkód": "2",
                                    "Terem": "118"
                                },
                                {
                                    "ora_id": "177",
                                    "tanar": "2",
                                    "nap": "4",
                                    "Sav": "5",
                                    "targy": "1",
                                    "terem": "3",
                                    "Tkód": "3",
                                    "Terem": "119"
                                },
                                {
                                    "ora_id": "179",
                                    "tanar": "2",
                                    "nap": "4",
                                    "Sav": "7",
                                    "targy": "1",
                                    "terem": "4",
                                    "Tkód": "4",
                                    "Terem": "120"
                                },
                                {
                                    "ora_id": "180",
                                    "tanar": "111",
                                    "nap": "4",
                                    "Sav": "7",
                                    "targy": "1",
                                    "terem": "3",
                                    "Tkód": "3",
                                    "Terem": "119"
                                },
                                {
                                    "ora_id": "181",
                                    "tanar": "2",
                                    "nap": "5",
                                    "Sav": "1",
                                    "targy": "1",
                                    "terem": "2",
                                    "Tkód": "2",
                                    "Terem": "118"
                                },
                                {
                                    "ora_id": "185",
                                    "tanar": "2",
                                    "nap": "4",
                                    "Sav": "3",
                                    "targy": "1",
                                    "terem": "4",
                                    "Tkód": "4",
                                    "Terem": "120"
                                },
                                {
                                    "ora_id": "192",
                                    "tanar": "12",
                                    "nap": "1",
                                    "Sav": "7",
                                    "targy": "5",
                                    "terem": "3",
                                    "Tkód": "3",
                                    "Terem": "119"
                                },
                                {
                                    "ora_id": "195",
                                    "tanar": "5",
                                    "nap": "1",
                                    "Sav": "5",
                                    "targy": "5",
                                    "terem": "12",
                                    "Tkód": "12",
                                    "Terem": "116"
                                },
                                {
                                    "ora_id": "197",
                                    "tanar": "9",
                                    "nap": "4",
                                    "Sav": "1",
                                    "targy": "5",
                                    "terem": "16",
                                    "Tkód": "16",
                                    "Terem": "116"
                                },
                                {
                                    "ora_id": "198",
                                    "tanar": "9",
                                    "nap": "3",
                                    "Sav": "2",
                                    "targy": "5",
                                    "terem": "3",
                                    "Tkód": "3",
                                    "Terem": "119"
                                },
                                {
                                    "ora_id": "204",
                                    "tanar": "108",
                                    "nap": "2",
                                    "Sav": "5",
                                    "targy": "4",
                                    "terem": "4",
                                    "Tkód": "4",
                                    "Terem": "120"
                                },
                                {
                                    "ora_id": "212",
                                    "tanar": "7",
                                    "nap": "1",
                                    "Sav": "9",
                                    "targy": "8",
                                    "terem": "4",
                                    "Tkód": "4",
                                    "Terem": "120"
                                },
                                {
                                    "ora_id": "218",
                                    "tanar": "8",
                                    "nap": "2",
                                    "Sav": "7",
                                    "targy": "3",
                                    "terem": "2",
                                    "Tkód": "2",
                                    "Terem": "118"
                                },
                                {
                                    "ora_id": "220",
                                    "tanar": "1",
                                    "nap": "2",
                                    "Sav": "3",
                                    "targy": "10",
                                    "terem": "3",
                                    "Tkód": "3",
                                    "Terem": "119"
                                },
                                {
                                    "ora_id": "222",
                                    "tanar": "1",
                                    "nap": "4",
                                    "Sav": "5",
                                    "targy": "10",
                                    "terem": "12",
                                    "Tkód": "12",
                                    "Terem": "116"
                                },
                                {
                                    "ora_id": "226",
                                    "tanar": "2",
                                    "nap": "3",
                                    "Sav": "3",
                                    "targy": "19",
                                    "terem": "1",
                                    "Tkód": "1",
                                    "Terem": "117"
                                },
                                {
                                    "ora_id": "227",
                                    "tanar": "2",
                                    "nap": "2",
                                    "Sav": "5",
                                    "targy": "4",
                                    "terem": "12",
                                    "Tkód": "12",
                                    "Terem": "116"
                                }
                            ]
                        },
                        "text/html": "<table><tr><th>ora_id</th><th>tanar</th><th>nap</th><th>Sav</th><th>targy</th><th>terem</th><th>Tkód</th><th>Terem</th></tr><tr><td>159</td><td>4</td><td>3</td><td>1</td><td>1</td><td>1</td><td>1</td><td>117</td></tr><tr><td>160</td><td>8</td><td>2</td><td>5</td><td>1</td><td>2</td><td>2</td><td>118</td></tr><tr><td>161</td><td>8</td><td>1</td><td>2</td><td>1</td><td>2</td><td>2</td><td>118</td></tr><tr><td>162</td><td>20</td><td>1</td><td>4</td><td>1</td><td>3</td><td>3</td><td>119</td></tr><tr><td>163</td><td>3</td><td>3</td><td>2</td><td>1</td><td>4</td><td>4</td><td>120</td></tr><tr><td>164</td><td>7</td><td>2</td><td>3</td><td>1</td><td>3</td><td>3</td><td>119</td></tr><tr><td>165</td><td>3</td><td>2</td><td>3</td><td>1</td><td>3</td><td>3</td><td>119</td></tr><tr><td>166</td><td>3</td><td>2</td><td>4</td><td>1</td><td>3</td><td>3</td><td>119</td></tr><tr><td>167</td><td>2</td><td>1</td><td>4</td><td>1</td><td>4</td><td>4</td><td>120</td></tr><tr><td>170</td><td>104</td><td>1</td><td>2</td><td>1</td><td>4</td><td>4</td><td>120</td></tr><tr><td>172</td><td>7</td><td>2</td><td>2</td><td>1</td><td>3</td><td>3</td><td>119</td></tr><tr><td>173</td><td>20</td><td>4</td><td>3</td><td>1</td><td>3</td><td>3</td><td>119</td></tr><tr><td>175</td><td>14</td><td>4</td><td>4</td><td>1</td><td>4</td><td>4</td><td>120</td></tr><tr><td>176</td><td>20</td><td>4</td><td>4</td><td>1</td><td>2</td><td>2</td><td>118</td></tr><tr><td>177</td><td>2</td><td>4</td><td>5</td><td>1</td><td>3</td><td>3</td><td>119</td></tr><tr><td>179</td><td>2</td><td>4</td><td>7</td><td>1</td><td>4</td><td>4</td><td>120</td></tr><tr><td>180</td><td>111</td><td>4</td><td>7</td><td>1</td><td>3</td><td>3</td><td>119</td></tr><tr><td>181</td><td>2</td><td>5</td><td>1</td><td>1</td><td>2</td><td>2</td><td>118</td></tr><tr><td>185</td><td>2</td><td>4</td><td>3</td><td>1</td><td>4</td><td>4</td><td>120</td></tr><tr><td>192</td><td>12</td><td>1</td><td>7</td><td>5</td><td>3</td><td>3</td><td>119</td></tr><tr><td>195</td><td>5</td><td>1</td><td>5</td><td>5</td><td>12</td><td>12</td><td>116</td></tr><tr><td>197</td><td>9</td><td>4</td><td>1</td><td>5</td><td>16</td><td>16</td><td>116</td></tr><tr><td>198</td><td>9</td><td>3</td><td>2</td><td>5</td><td>3</td><td>3</td><td>119</td></tr><tr><td>204</td><td>108</td><td>2</td><td>5</td><td>4</td><td>4</td><td>4</td><td>120</td></tr><tr><td>212</td><td>7</td><td>1</td><td>9</td><td>8</td><td>4</td><td>4</td><td>120</td></tr><tr><td>218</td><td>8</td><td>2</td><td>7</td><td>3</td><td>2</td><td>2</td><td>118</td></tr><tr><td>220</td><td>1</td><td>2</td><td>3</td><td>10</td><td>3</td><td>3</td><td>119</td></tr><tr><td>222</td><td>1</td><td>4</td><td>5</td><td>10</td><td>12</td><td>12</td><td>116</td></tr><tr><td>226</td><td>2</td><td>3</td><td>3</td><td>19</td><td>1</td><td>1</td><td>117</td></tr><tr><td>227</td><td>2</td><td>2</td><td>5</td><td>4</td><td>12</td><td>12</td><td>116</td></tr></table>"
                    },
                    "metadata": {}
                }
            ],
            "execution_count": 4
        },
        {
            "cell_type": "markdown",
            "source": [
                "2. <span style=\"font-weight: 600; color: rgb(36, 41, 47); font-family: -apple-system, BlinkMacSystemFont, &quot;Segoe UI&quot;, Helvetica, Arial, sans-serif, &quot;Apple Color Emoji&quot;, &quot;Segoe UI Emoji&quot;; font-size: 16px;\">Hány óra van összesen az egyes napokon?</span>\n",
                "\n",
                "1. Jelenítsük meg a napok nevét és az órák számát az adott napon!\n",
                "2. Az oszlopokat nevezzük el értelemszerűen!\n",
                "3. A listát rendezzük óraszám szerint növekvő sorrendbe!"
            ],
            "metadata": {
                "azdata_cell_guid": "88f5b4bb-f4c1-4bad-a0c7-b2592687b422"
            },
            "attachments": {}
        },
        {
            "cell_type": "code",
            "source": [
                "select nap.nap,\r\n",
                "    count(*) as 'Órák száma'\r\n",
                "from Orak o JOIN Napok nap on o.nap=nap.nap_id\r\n",
                "group by nap.nap\r\n",
                "order by count(*) ASC"
            ],
            "metadata": {
                "azdata_cell_guid": "e9de5726-f036-4fb9-8c33-a873955ed886",
                "language": "sql"
            },
            "outputs": [
                {
                    "output_type": "display_data",
                    "data": {
                        "text/html": "(5 rows affected)"
                    },
                    "metadata": {}
                },
                {
                    "output_type": "display_data",
                    "data": {
                        "text/html": "Total execution time: 00:00:00.047"
                    },
                    "metadata": {}
                },
                {
                    "output_type": "execute_result",
                    "execution_count": 5,
                    "data": {
                        "application/vnd.dataresource+json": {
                            "schema": {
                                "fields": [
                                    {
                                        "name": "nap"
                                    },
                                    {
                                        "name": "Órák száma"
                                    }
                                ]
                            },
                            "data": [
                                {
                                    "nap": "Péntek",
                                    "Órák száma": "6"
                                },
                                {
                                    "nap": "Szerda",
                                    "Órák száma": "6"
                                },
                                {
                                    "nap": "Kedd",
                                    "Órák száma": "13"
                                },
                                {
                                    "nap": "Csütörtök",
                                    "Órák száma": "19"
                                },
                                {
                                    "nap": "Hétfő",
                                    "Órák száma": "23"
                                }
                            ]
                        },
                        "text/html": "<table><tr><th>nap</th><th>Órák száma</th></tr><tr><td>Péntek</td><td>6</td></tr><tr><td>Szerda</td><td>6</td></tr><tr><td>Kedd</td><td>13</td></tr><tr><td>Csütörtök</td><td>19</td></tr><tr><td>Hétfő</td><td>23</td></tr></table>"
                    },
                    "metadata": {}
                }
            ],
            "execution_count": 5
        },
        {
            "cell_type": "markdown",
            "source": [
                "3. <span style=\"font-weight: 600; color: rgb(36, 41, 47); font-family: -apple-system, BlinkMacSystemFont, &quot;Segoe UI&quot;, Helvetica, Arial, sans-serif, &quot;Apple Color Emoji&quot;, &quot;Segoe UI Emoji&quot;; font-size: 16px;\">Készítsünk listát arról, hogy melyik oktatónak hány órája van az Órák táblában!</span>\n",
                "\n",
                "1. A lista jelenítse meg az oktatók nevét, és az órák számát!\n",
                "2. Az oszlopokat nevezzük el értelemszerűen!\n",
                "3. A listából hagyjuk ki az óraadókat!"
            ],
            "metadata": {
                "azdata_cell_guid": "9e7249de-1b59-43d8-84b1-26fa7d81fc5a"
            },
            "attachments": {}
        },
        {
            "cell_type": "code",
            "source": [
                "select okt.nev,\r\n",
                "    count(*) as 'Órák száma'\r\n",
                "from Oktatok okt JOIN Orak o ON okt.oktato_id=o.tanar\r\n",
                "                JOIN Beosztasok beo ON okt.[status]=beo.beosztas_id\r\n",
                "where beo.beosztasnev <> 'Óraadó'\r\n",
                "group by okt.nev\r\n",
                ""
            ],
            "metadata": {
                "azdata_cell_guid": "6405d3e8-a9b1-45d7-aa76-3b1e785ef6cc",
                "language": "sql"
            },
            "outputs": [
                {
                    "output_type": "display_data",
                    "data": {
                        "text/html": "(6 rows affected)"
                    },
                    "metadata": {}
                },
                {
                    "output_type": "display_data",
                    "data": {
                        "text/html": "Total execution time: 00:00:00.018"
                    },
                    "metadata": {}
                },
                {
                    "output_type": "execute_result",
                    "execution_count": 35,
                    "data": {
                        "application/vnd.dataresource+json": {
                            "schema": {
                                "fields": [
                                    {
                                        "name": "nev"
                                    },
                                    {
                                        "name": "Órák száma"
                                    }
                                ]
                            },
                            "data": [
                                {
                                    "nev": "Balkán András",
                                    "Órák száma": "3"
                                },
                                {
                                    "nev": "Farkasos Piroska",
                                    "Órák száma": "7"
                                },
                                {
                                    "nev": "Kovács László",
                                    "Órák száma": "4"
                                },
                                {
                                    "nev": "Pelikán József",
                                    "Órák száma": "6"
                                },
                                {
                                    "nev": "Szentágotai Istvás",
                                    "Órák száma": "8"
                                },
                                {
                                    "nev": "Ujfalussi István",
                                    "Órák száma": "3"
                                }
                            ]
                        },
                        "text/html": "<table><tr><th>nev</th><th>Órák száma</th></tr><tr><td>Balkán András</td><td>3</td></tr><tr><td>Farkasos Piroska</td><td>7</td></tr><tr><td>Kovács László</td><td>4</td></tr><tr><td>Pelikán József</td><td>6</td></tr><tr><td>Szentágotai Istvás</td><td>8</td></tr><tr><td>Ujfalussi István</td><td>3</td></tr></table>"
                    },
                    "metadata": {}
                }
            ],
            "execution_count": 35
        },
        {
            "cell_type": "markdown",
            "source": [
                "4. <span style=\"color: rgb(36, 41, 47); font-family: -apple-system, BlinkMacSystemFont, &quot;Segoe UI&quot;, Helvetica, Arial, sans-serif, &quot;Apple Color Emoji&quot;, &quot;Segoe UI Emoji&quot;; font-size: 16px;\">Van-e olyan tantárgy, amelyből nincs óra?</span>\n",
                "\n",
                "1. Jelentsük meg a tantárgy nevét és a tantárgyfelelős nevét!"
            ],
            "metadata": {
                "azdata_cell_guid": "6478e469-c094-472c-a772-ccd5b5c61516"
            },
            "attachments": {}
        },
        {
            "cell_type": "code",
            "source": [
                "select tan.Tantárgynév,\r\n",
                "        okt.nev\r\n",
                "---LEFT JOIN kell, azok a tárgyak is megjelennek amihez nincs óra társítva, a bal oldali táblából\r\n",
                "from Tantárgyak tan LEFT JOIN Orak o ON o.targy=tan.Tkód\r\n",
                "                    JOIN Oktatok okt ON tan.Tantárgyfelelős=okt.oktato_id\r\n",
                "where o.targy is null\r\n",
                "                    "
            ],
            "metadata": {
                "azdata_cell_guid": "02031ea2-3838-458d-839c-228e3b362b61",
                "language": "sql"
            },
            "outputs": [
                {
                    "output_type": "display_data",
                    "data": {
                        "text/html": "(1 row affected)"
                    },
                    "metadata": {}
                },
                {
                    "output_type": "display_data",
                    "data": {
                        "text/html": "Total execution time: 00:00:00.024"
                    },
                    "metadata": {}
                },
                {
                    "output_type": "execute_result",
                    "execution_count": 44,
                    "data": {
                        "application/vnd.dataresource+json": {
                            "schema": {
                                "fields": [
                                    {
                                        "name": "Tantárgynév"
                                    },
                                    {
                                        "name": "nev"
                                    }
                                ]
                            },
                            "data": [
                                {
                                    "Tantárgynév": "Folyami gáttan",
                                    "nev": "Varga Kata"
                                }
                            ]
                        },
                        "text/html": "<table><tr><th>Tantárgynév</th><th>nev</th></tr><tr><td>Folyami gáttan</td><td>Varga Kata</td></tr></table>"
                    },
                    "metadata": {}
                }
            ],
            "execution_count": 44
        },
        {
            "cell_type": "markdown",
            "source": [
                "5. <span style=\"background-color: rgb(255, 255, 255); color: rgb(36, 41, 47); font-family: -apple-system, BlinkMacSystemFont, &quot;Segoe UI&quot;, Helvetica, Arial, sans-serif, &quot;Apple Color Emoji&quot;, &quot;Segoe UI Emoji&quot;; font-size: 16px;\">Hány óra van összesen a 120-as teremben?</span>"
            ],
            "metadata": {
                "azdata_cell_guid": "9edbbaf9-c276-4898-9a01-e1b2993c089f"
            },
            "attachments": {}
        },
        {
            "cell_type": "code",
            "source": [
                "select count(*) as 'Órák száma'\r\n",
                "from Orak o JOIN Termek ter ON o.terem=ter.Tkód\r\n",
                "where ter.Terem='120'\r\n",
                ""
            ],
            "metadata": {
                "azdata_cell_guid": "5ad5fdcb-2878-4111-861a-833bcd50e935",
                "language": "sql"
            },
            "outputs": [
                {
                    "output_type": "display_data",
                    "data": {
                        "text/html": "(1 row affected)"
                    },
                    "metadata": {}
                },
                {
                    "output_type": "display_data",
                    "data": {
                        "text/html": "Total execution time: 00:00:00.025"
                    },
                    "metadata": {}
                },
                {
                    "output_type": "execute_result",
                    "execution_count": 34,
                    "data": {
                        "application/vnd.dataresource+json": {
                            "schema": {
                                "fields": [
                                    {
                                        "name": "Órák száma"
                                    }
                                ]
                            },
                            "data": [
                                {
                                    "Órák száma": "8"
                                }
                            ]
                        },
                        "text/html": "<table><tr><th>Órák száma</th></tr><tr><td>8</td></tr></table>"
                    },
                    "metadata": {}
                }
            ],
            "execution_count": 34
        },
        {
            "cell_type": "markdown",
            "source": [
                "**A 6-10 feladatokat halmazműveletek segítségével oldjuk meg, szintén a tanulmányi adatbázison**\n",
                "\n",
                "6. <span style=\"background-color:rgb(255, 255, 255);color:rgb(36, 41, 47);font-family:-apple-system, BlinkMacSystemFont, &quot;Segoe UI&quot;, Helvetica, Arial, sans-serif, &quot;Apple Color Emoji&quot;, &quot;Segoe UI Emoji&quot;;font-size:16px;font-weight:600;\">Jelenítsük meg azon tanárok azonosítóját és nevét, akik hétfői vagy keddi napokon tanítanak!</span>"
            ],
            "metadata": {
                "azdata_cell_guid": "5fe65c1c-2479-45ac-ad03-ec99d12eae21"
            },
            "attachments": {}
        },
        {
            "cell_type": "code",
            "source": [
                "select okt.oktato_id as 'Oktató idje',\r\n",
                "        okt.nev as 'Nev'\r\n",
                "from Orak o JOIN Oktatok okt ON okt.oktato_id=o.tanar \r\n",
                "            JOIN Napok nap On o.nap=nap.nap_id\r\n",
                "where nap.nap='Kedd'\r\n",
                "\r\n",
                "UNION\r\n",
                "\r\n",
                "select okt.oktato_id as 'Oktató idje',\r\n",
                "        okt.nev as 'Nev'\r\n",
                "from Orak o JOIN Oktatok okt ON okt.oktato_id=o.tanar \r\n",
                "            JOIN Napok nap On o.nap=nap.nap_id\r\n",
                "where nap.nap='Hétfő'"
            ],
            "metadata": {
                "azdata_cell_guid": "924f2dde-f1c2-4def-a7f9-dbf4bace7735",
                "language": "sql"
            },
            "outputs": [
                {
                    "output_type": "display_data",
                    "data": {
                        "text/html": "(17 rows affected)"
                    },
                    "metadata": {}
                },
                {
                    "output_type": "display_data",
                    "data": {
                        "text/html": "Total execution time: 00:00:00.021"
                    },
                    "metadata": {}
                },
                {
                    "output_type": "execute_result",
                    "execution_count": 4,
                    "data": {
                        "application/vnd.dataresource+json": {
                            "schema": {
                                "fields": [
                                    {
                                        "name": "Oktató idje"
                                    },
                                    {
                                        "name": "Nev"
                                    }
                                ]
                            },
                            "data": [
                                {
                                    "Oktató idje": "1",
                                    "Nev": "Kovács László"
                                },
                                {
                                    "Oktató idje": "2",
                                    "Nev": "Szentágotai Istvás"
                                },
                                {
                                    "Oktató idje": "3",
                                    "Nev": "Szerb László"
                                },
                                {
                                    "Oktató idje": "4",
                                    "Nev": "Ujfalussi István"
                                },
                                {
                                    "Oktató idje": "5",
                                    "Nev": "Balkán András"
                                },
                                {
                                    "Oktató idje": "6",
                                    "Nev": "Szép llonka"
                                },
                                {
                                    "Oktató idje": "7",
                                    "Nev": "Kiss János"
                                },
                                {
                                    "Oktató idje": "8",
                                    "Nev": "Pelikán József"
                                },
                                {
                                    "Oktató idje": "9",
                                    "Nev": "Farkasos Piroska"
                                },
                                {
                                    "Oktató idje": "10",
                                    "Nev": "Jogrerős Pál"
                                },
                                {
                                    "Oktató idje": "12",
                                    "Nev": "Varga Kata"
                                },
                                {
                                    "Oktató idje": "14",
                                    "Nev": "Szénási ászló"
                                },
                                {
                                    "Oktató idje": "18",
                                    "Nev": "Nógrádi Kata"
                                },
                                {
                                    "Oktató idje": "20",
                                    "Nev": "Kovács András"
                                },
                                {
                                    "Oktató idje": "104",
                                    "Nev": "Ludas Mátyás"
                                },
                                {
                                    "Oktató idje": "108",
                                    "Nev": "Róbert Gida"
                                },
                                {
                                    "Oktató idje": "200",
                                    "Nev": "Aranyi Mária"
                                }
                            ]
                        },
                        "text/html": "<table><tr><th>Oktató idje</th><th>Nev</th></tr><tr><td>1</td><td>Kovács László</td></tr><tr><td>2</td><td>Szentágotai Istvás</td></tr><tr><td>3</td><td>Szerb László</td></tr><tr><td>4</td><td>Ujfalussi István</td></tr><tr><td>5</td><td>Balkán András</td></tr><tr><td>6</td><td>Szép llonka</td></tr><tr><td>7</td><td>Kiss János</td></tr><tr><td>8</td><td>Pelikán József</td></tr><tr><td>9</td><td>Farkasos Piroska</td></tr><tr><td>10</td><td>Jogrerős Pál</td></tr><tr><td>12</td><td>Varga Kata</td></tr><tr><td>14</td><td>Szénási ászló</td></tr><tr><td>18</td><td>Nógrádi Kata</td></tr><tr><td>20</td><td>Kovács András</td></tr><tr><td>104</td><td>Ludas Mátyás</td></tr><tr><td>108</td><td>Róbert Gida</td></tr><tr><td>200</td><td>Aranyi Mária</td></tr></table>"
                    },
                    "metadata": {}
                }
            ],
            "execution_count": 4
        },
        {
            "cell_type": "markdown",
            "source": [
                "7. <span style=\"background-color: rgb(255, 255, 255); color: rgb(36, 41, 47); font-family: -apple-system, BlinkMacSystemFont, &quot;Segoe UI&quot;, Helvetica, Arial, sans-serif, &quot;Apple Color Emoji&quot;, &quot;Segoe UI Emoji&quot;; font-size: 16px; font-weight: 600;\">Melyek azok a tantárgyak, amelyek esetén van óra a 8.00-kor kezdődő sávban, de nincs a 12.30-kor kezdődő sávban?</span>"
            ],
            "metadata": {
                "azdata_cell_guid": "3aeb6bf5-b111-40d5-92b2-9712ce335696"
            },
            "attachments": {}
        },
        {
            "cell_type": "code",
            "source": [
                "select * \r\n",
                "from Orak o JOIN Tantárgyak tan ON o.targy=tan.Tkód\r\n",
                "            JOIN Savok sav ON o.Sav=sav.Sav_id\r\n",
                "where sav.Időpont='8.00'\r\n",
                "\r\n",
                "EXCEPT\r\n",
                "\r\n",
                "select * \r\n",
                "from Orak o JOIN Tantárgyak tan ON o.targy=tan.Tkód\r\n",
                "            JOIN Savok sav ON o.Sav=sav.Sav_id\r\n",
                "where sav.Időpont='12.30'"
            ],
            "metadata": {
                "azdata_cell_guid": "3e89b651-f56f-4102-af52-30eb2bbe360d",
                "language": "sql"
            },
            "outputs": [
                {
                    "output_type": "display_data",
                    "data": {
                        "text/html": "(8 rows affected)"
                    },
                    "metadata": {}
                },
                {
                    "output_type": "display_data",
                    "data": {
                        "text/html": "Total execution time: 00:00:00.096"
                    },
                    "metadata": {}
                },
                {
                    "output_type": "execute_result",
                    "execution_count": 6,
                    "data": {
                        "application/vnd.dataresource+json": {
                            "schema": {
                                "fields": [
                                    {
                                        "name": "ora_id"
                                    },
                                    {
                                        "name": "tanar"
                                    },
                                    {
                                        "name": "nap"
                                    },
                                    {
                                        "name": "Sav"
                                    },
                                    {
                                        "name": "targy"
                                    },
                                    {
                                        "name": "terem"
                                    },
                                    {
                                        "name": "Tkód"
                                    },
                                    {
                                        "name": "Tantárgynév"
                                    },
                                    {
                                        "name": "Tantárgyfelelős"
                                    },
                                    {
                                        "name": "Tantargykod"
                                    },
                                    {
                                        "name": "Kredit"
                                    },
                                    {
                                        "name": "Sav_id"
                                    },
                                    {
                                        "name": "Sav"
                                    },
                                    {
                                        "name": "Időpont"
                                    }
                                ]
                            },
                            "data": [
                                {
                                    "ora_id": "159",
                                    "tanar": "4",
                                    "nap": "3",
                                    "Sav": "1",
                                    "targy": "1",
                                    "terem": "1",
                                    "Tkód": "1",
                                    "Tantárgynév": "Az ürgeöntés alapjai",
                                    "Tantárgyfelelős": "5",
                                    "Tantargykod": "NULL",
                                    "Kredit": "2",
                                    "Sav_id": "1",
                                    "Időpont": "8.00"
                                },
                                {
                                    "ora_id": "181",
                                    "tanar": "2",
                                    "nap": "5",
                                    "Sav": "1",
                                    "targy": "1",
                                    "terem": "2",
                                    "Tkód": "1",
                                    "Tantárgynév": "Az ürgeöntés alapjai",
                                    "Tantárgyfelelős": "5",
                                    "Tantargykod": "NULL",
                                    "Kredit": "2",
                                    "Sav_id": "1",
                                    "Időpont": "8.00"
                                },
                                {
                                    "ora_id": "182",
                                    "tanar": "111",
                                    "nap": "5",
                                    "Sav": "1",
                                    "targy": "1",
                                    "terem": "7",
                                    "Tkód": "1",
                                    "Tantárgynév": "Az ürgeöntés alapjai",
                                    "Tantárgyfelelős": "5",
                                    "Tantargykod": "NULL",
                                    "Kredit": "2",
                                    "Sav_id": "1",
                                    "Időpont": "8.00"
                                },
                                {
                                    "ora_id": "197",
                                    "tanar": "9",
                                    "nap": "4",
                                    "Sav": "1",
                                    "targy": "5",
                                    "terem": "16",
                                    "Tkód": "5",
                                    "Tantárgynév": "Az ürgeöntés hydrológiai alapjai II.",
                                    "Tantárgyfelelős": "5",
                                    "Tantargykod": "NULL",
                                    "Kredit": "4",
                                    "Sav_id": "1",
                                    "Időpont": "8.00"
                                },
                                {
                                    "ora_id": "199",
                                    "tanar": "300",
                                    "nap": "4",
                                    "Sav": "1",
                                    "targy": "5",
                                    "terem": "6",
                                    "Tkód": "5",
                                    "Tantárgynév": "Az ürgeöntés hydrológiai alapjai II.",
                                    "Tantárgyfelelős": "5",
                                    "Tantargykod": "NULL",
                                    "Kredit": "4",
                                    "Sav_id": "1",
                                    "Időpont": "8.00"
                                },
                                {
                                    "ora_id": "206",
                                    "tanar": "12",
                                    "nap": "2",
                                    "Sav": "1",
                                    "targy": "18",
                                    "terem": "10",
                                    "Tkód": "18",
                                    "Tantárgynév": "Az öntés elmélete",
                                    "Tantárgyfelelős": "1",
                                    "Tantargykod": "NULL",
                                    "Kredit": "4",
                                    "Sav_id": "1",
                                    "Időpont": "8.00"
                                },
                                {
                                    "ora_id": "208",
                                    "tanar": "10",
                                    "nap": "1",
                                    "Sav": "1",
                                    "targy": "13",
                                    "terem": "13",
                                    "Tkód": "13",
                                    "Tantárgynév": "Ürgevitel",
                                    "Tantárgyfelelős": "10",
                                    "Tantargykod": "NULL",
                                    "Kredit": "6",
                                    "Sav_id": "1",
                                    "Időpont": "8.00"
                                },
                                {
                                    "ora_id": "223",
                                    "tanar": "1",
                                    "nap": "5",
                                    "Sav": "1",
                                    "targy": "10",
                                    "terem": "10",
                                    "Tkód": "10",
                                    "Tantárgynév": "Fejezetek az ürgék jogaiból",
                                    "Tantárgyfelelős": "1",
                                    "Tantargykod": "NULL",
                                    "Kredit": "3",
                                    "Sav_id": "1",
                                    "Időpont": "8.00"
                                }
                            ]
                        },
                        "text/html": "<table><tr><th>ora_id</th><th>tanar</th><th>nap</th><th>Sav</th><th>targy</th><th>terem</th><th>Tkód</th><th>Tantárgynév</th><th>Tantárgyfelelős</th><th>Tantargykod</th><th>Kredit</th><th>Sav_id</th><th>Sav</th><th>Időpont</th></tr><tr><td>159</td><td>4</td><td>3</td><td>1</td><td>1</td><td>1</td><td>1</td><td>Az ürgeöntés alapjai</td><td>5</td><td>NULL</td><td>2</td><td>1</td><td>1</td><td>8.00</td></tr><tr><td>181</td><td>2</td><td>5</td><td>1</td><td>1</td><td>2</td><td>1</td><td>Az ürgeöntés alapjai</td><td>5</td><td>NULL</td><td>2</td><td>1</td><td>1</td><td>8.00</td></tr><tr><td>182</td><td>111</td><td>5</td><td>1</td><td>1</td><td>7</td><td>1</td><td>Az ürgeöntés alapjai</td><td>5</td><td>NULL</td><td>2</td><td>1</td><td>1</td><td>8.00</td></tr><tr><td>197</td><td>9</td><td>4</td><td>1</td><td>5</td><td>16</td><td>5</td><td>Az ürgeöntés hydrológiai alapjai II.</td><td>5</td><td>NULL</td><td>4</td><td>1</td><td>1</td><td>8.00</td></tr><tr><td>199</td><td>300</td><td>4</td><td>1</td><td>5</td><td>6</td><td>5</td><td>Az ürgeöntés hydrológiai alapjai II.</td><td>5</td><td>NULL</td><td>4</td><td>1</td><td>1</td><td>8.00</td></tr><tr><td>206</td><td>12</td><td>2</td><td>1</td><td>18</td><td>10</td><td>18</td><td>Az öntés elmélete</td><td>1</td><td>NULL</td><td>4</td><td>1</td><td>1</td><td>8.00</td></tr><tr><td>208</td><td>10</td><td>1</td><td>1</td><td>13</td><td>13</td><td>13</td><td>Ürgevitel</td><td>10</td><td>NULL</td><td>6</td><td>1</td><td>1</td><td>8.00</td></tr><tr><td>223</td><td>1</td><td>5</td><td>1</td><td>10</td><td>10</td><td>10</td><td>Fejezetek az ürgék jogaiból</td><td>1</td><td>NULL</td><td>3</td><td>1</td><td>1</td><td>8.00</td></tr></table>"
                    },
                    "metadata": {}
                }
            ],
            "execution_count": 6
        },
        {
            "cell_type": "markdown",
            "source": [
                "8. <span style=\"background-color: rgb(255, 255, 255); color: rgb(36, 41, 47); font-family: -apple-system, BlinkMacSystemFont, &quot;Segoe UI&quot;, Helvetica, Arial, sans-serif, &quot;Apple Color Emoji&quot;, &quot;Segoe UI Emoji&quot;; font-size: 16px; font-weight: 600;\">Listázzuk azokat a termeket, amelyekben oktat Kovács László és van olyan tanóra a teremben, ahol a tantárgy nevében nem szerepel az 'ürge' szó!</span>"
            ],
            "metadata": {
                "azdata_cell_guid": "26a504dc-ff6a-439f-94c0-4580eca3eacf"
            },
            "attachments": {}
        },
        {
            "cell_type": "code",
            "source": [
                "SELECT t.Tkód,\r\n",
                "       t.Tantárgynév\r\n",
                "FROM Tantárgyak t JOIN Orak o ON t.Tkód = o.targy\r\n",
                "                  JOIN Savok s ON o.Sav = s.Sav_id\r\n",
                "WHERE s.Időpont = '8.00'\r\n",
                "\r\n",
                "EXCEPT\r\n",
                "\r\n",
                "SELECT t.Tkód,\r\n",
                "       t.Tantárgynév\r\n",
                "FROM Tantárgyak t JOIN Orak o ON t.Tkód = o.targy\r\n",
                "                  JOIN Savok s ON o.Sav = s.Sav_id\r\n",
                "WHERE s.Időpont = '12.30'"
            ],
            "metadata": {
                "azdata_cell_guid": "1cbb8aeb-78b5-4350-aa45-e3202fdab85b",
                "language": "sql"
            },
            "outputs": [
                {
                    "output_type": "display_data",
                    "data": {
                        "text/html": "(3 rows affected)"
                    },
                    "metadata": {}
                },
                {
                    "output_type": "display_data",
                    "data": {
                        "text/html": "Total execution time: 00:00:00.017"
                    },
                    "metadata": {}
                },
                {
                    "output_type": "execute_result",
                    "execution_count": 7,
                    "data": {
                        "application/vnd.dataresource+json": {
                            "schema": {
                                "fields": [
                                    {
                                        "name": "Tkód"
                                    },
                                    {
                                        "name": "Tantárgynév"
                                    }
                                ]
                            },
                            "data": [
                                {
                                    "Tkód": "5",
                                    "Tantárgynév": "Az ürgeöntés hydrológiai alapjai II."
                                },
                                {
                                    "Tkód": "10",
                                    "Tantárgynév": "Fejezetek az ürgék jogaiból"
                                },
                                {
                                    "Tkód": "13",
                                    "Tantárgynév": "Ürgevitel"
                                }
                            ]
                        },
                        "text/html": "<table><tr><th>Tkód</th><th>Tantárgynév</th></tr><tr><td>5</td><td>Az ürgeöntés hydrológiai alapjai II.</td></tr><tr><td>10</td><td>Fejezetek az ürgék jogaiból</td></tr><tr><td>13</td><td>Ürgevitel</td></tr></table>"
                    },
                    "metadata": {}
                }
            ],
            "execution_count": 7
        },
        {
            "cell_type": "markdown",
            "source": [
                "9. <span style=\"font-weight: 600; color: rgb(36, 41, 47); font-family: -apple-system, BlinkMacSystemFont, &quot;Segoe UI&quot;, Helvetica, Arial, sans-serif, &quot;Apple Color Emoji&quot;, &quot;Segoe UI Emoji&quot;; font-size: 16px;\">Készítsünk listát arról, hogy melyik tanárnak hány órája van a (munka) hét elején (hétfőn), hét közben (kedd, szerda és csütörtök), illetve a hét végén (péntek)!</span>\n",
                "\n",
                "1. Jelenítsük meg a tanár azonosítóját, nevét, az időszakot (hét eleje - hét közben - hét vége), valamint az óraszámot!\n",
                "2. A három megjelölt időszakot külön kérdezzük le, majd fűzzük össze a lekérdezések eredményeit!\n",
                "3. Rendezzük a listát az oktató neve, azon belül időszak szerint!"
            ],
            "metadata": {
                "azdata_cell_guid": "435e2860-2dd5-4877-90f4-34a43baeb53c"
            },
            "attachments": {}
        },
        {
            "cell_type": "code",
            "source": [
                "select  okt.oktato_id,\r\n",
                "        okt.nev,\r\n",
                "        CASE\r\n",
                "            WHEN nap.nap='Hétfő' THEN 'Hét eleje'\r\n",
                "            WHEN nap.nap IN ('Kedd','Szerda','Csütörtök') THEN 'Hét közben'\r\n",
                "            WHEN nap.nap='Péntek' THEN 'Hét vége'\r\n",
                "        END as 'Időszak',\r\n",
                "        COUNT(*) as 'Órák száma'\r\n",
                "from Oktatok okt JOIN Orak o ON okt.oktato_id=o.tanar\r\n",
                "                 JOIN Napok nap ON o.nap=nap.nap_id\r\n",
                "group by okt.oktato_id, okt.nev,\r\n",
                "            CASE\r\n",
                "            WHEN nap.nap='Hétfő' THEN 'Hét eleje'\r\n",
                "            WHEN nap.nap IN ('Kedd','Szerda','Csütörtök') THEN 'Hét közben'\r\n",
                "            WHEN nap.nap='Péntek' THEN 'Hét vége'\r\n",
                "        END\r\n",
                "order by okt.nev, Időszak"
            ],
            "metadata": {
                "azdata_cell_guid": "ce846351-ddbe-4d8e-b8fb-2a92c73ac80b",
                "language": "sql"
            },
            "outputs": [
                {
                    "output_type": "display_data",
                    "data": {
                        "text/html": "(33 rows affected)"
                    },
                    "metadata": {}
                },
                {
                    "output_type": "display_data",
                    "data": {
                        "text/html": "Total execution time: 00:00:00.055"
                    },
                    "metadata": {}
                },
                {
                    "output_type": "execute_result",
                    "execution_count": 21,
                    "data": {
                        "application/vnd.dataresource+json": {
                            "schema": {
                                "fields": [
                                    {
                                        "name": "oktato_id"
                                    },
                                    {
                                        "name": "nev"
                                    },
                                    {
                                        "name": "Időszak"
                                    },
                                    {
                                        "name": "Órák száma"
                                    }
                                ]
                            },
                            "data": [
                                {
                                    "oktato_id": "200",
                                    "nev": "Aranyi Mária",
                                    "Időszak": "Hét eleje",
                                    "Órák száma": "1"
                                },
                                {
                                    "oktato_id": "5",
                                    "nev": "Balkán András",
                                    "Időszak": "Hét eleje",
                                    "Órák száma": "2"
                                },
                                {
                                    "oktato_id": "5",
                                    "nev": "Balkán András",
                                    "Időszak": "Hét közben",
                                    "Órák száma": "1"
                                },
                                {
                                    "oktato_id": "9",
                                    "nev": "Farkasos Piroska",
                                    "Időszak": "Hét eleje",
                                    "Órák száma": "2"
                                },
                                {
                                    "oktato_id": "9",
                                    "nev": "Farkasos Piroska",
                                    "Időszak": "Hét közben",
                                    "Órák száma": "4"
                                },
                                {
                                    "oktato_id": "9",
                                    "nev": "Farkasos Piroska",
                                    "Időszak": "Hét vége",
                                    "Órák száma": "1"
                                },
                                {
                                    "oktato_id": "10",
                                    "nev": "Jogrerős Pál",
                                    "Időszak": "Hét eleje",
                                    "Órák száma": "2"
                                },
                                {
                                    "oktato_id": "301",
                                    "nev": "Juhász András",
                                    "Időszak": "Hét közben",
                                    "Órák száma": "2"
                                },
                                {
                                    "oktato_id": "7",
                                    "nev": "Kiss János",
                                    "Időszak": "Hét eleje",
                                    "Órák száma": "2"
                                },
                                {
                                    "oktato_id": "7",
                                    "nev": "Kiss János",
                                    "Időszak": "Hét közben",
                                    "Órák száma": "2"
                                },
                                {
                                    "oktato_id": "20",
                                    "nev": "Kovács András",
                                    "Időszak": "Hét eleje",
                                    "Órák száma": "2"
                                },
                                {
                                    "oktato_id": "20",
                                    "nev": "Kovács András",
                                    "Időszak": "Hét közben",
                                    "Órák száma": "2"
                                },
                                {
                                    "oktato_id": "1",
                                    "nev": "Kovács László",
                                    "Időszak": "Hét közben",
                                    "Órák száma": "3"
                                },
                                {
                                    "oktato_id": "1",
                                    "nev": "Kovács László",
                                    "Időszak": "Hét vége",
                                    "Órák száma": "1"
                                },
                                {
                                    "oktato_id": "104",
                                    "nev": "Ludas Mátyás",
                                    "Időszak": "Hét eleje",
                                    "Órák száma": "1"
                                },
                                {
                                    "oktato_id": "104",
                                    "nev": "Ludas Mátyás",
                                    "Időszak": "Hét közben",
                                    "Órák száma": "1"
                                },
                                {
                                    "oktato_id": "18",
                                    "nev": "Nógrádi Kata",
                                    "Időszak": "Hét közben",
                                    "Órák száma": "1"
                                },
                                {
                                    "oktato_id": "8",
                                    "nev": "Pelikán József",
                                    "Időszak": "Hét eleje",
                                    "Órák száma": "3"
                                },
                                {
                                    "oktato_id": "8",
                                    "nev": "Pelikán József",
                                    "Időszak": "Hét közben",
                                    "Órák száma": "3"
                                },
                                {
                                    "oktato_id": "108",
                                    "nev": "Róbert Gida",
                                    "Időszak": "Hét közben",
                                    "Órák száma": "1"
                                },
                                {
                                    "oktato_id": "300",
                                    "nev": "Szabó Andrera",
                                    "Időszak": "Hét közben",
                                    "Órák száma": "2"
                                },
                                {
                                    "oktato_id": "14",
                                    "nev": "Szénási ászló",
                                    "Időszak": "Hét közben",
                                    "Órák száma": "2"
                                },
                                {
                                    "oktato_id": "2",
                                    "nev": "Szentágotai Istvás",
                                    "Időszak": "Hét eleje",
                                    "Órák száma": "1"
                                },
                                {
                                    "oktato_id": "2",
                                    "nev": "Szentágotai Istvás",
                                    "Időszak": "Hét közben",
                                    "Órák száma": "5"
                                },
                                {
                                    "oktato_id": "2",
                                    "nev": "Szentágotai Istvás",
                                    "Időszak": "Hét vége",
                                    "Órák száma": "2"
                                },
                                {
                                    "oktato_id": "6",
                                    "nev": "Szép llonka",
                                    "Időszak": "Hét eleje",
                                    "Órák száma": "4"
                                },
                                {
                                    "oktato_id": "3",
                                    "nev": "Szerb László",
                                    "Időszak": "Hét közben",
                                    "Órák száma": "3"
                                },
                                {
                                    "oktato_id": "4",
                                    "nev": "Ujfalussi István",
                                    "Időszak": "Hét eleje",
                                    "Órák száma": "1"
                                },
                                {
                                    "oktato_id": "4",
                                    "nev": "Ujfalussi István",
                                    "Időszak": "Hét közben",
                                    "Órák száma": "2"
                                },
                                {
                                    "oktato_id": "12",
                                    "nev": "Varga Kata",
                                    "Időszak": "Hét eleje",
                                    "Órák száma": "2"
                                },
                                {
                                    "oktato_id": "12",
                                    "nev": "Varga Kata",
                                    "Időszak": "Hét közben",
                                    "Órák száma": "2"
                                },
                                {
                                    "oktato_id": "111",
                                    "nev": "Vitéz János",
                                    "Időszak": "Hét közben",
                                    "Órák száma": "2"
                                },
                                {
                                    "oktato_id": "111",
                                    "nev": "Vitéz János",
                                    "Időszak": "Hét vége",
                                    "Órák száma": "2"
                                }
                            ]
                        },
                        "text/html": "<table><tr><th>oktato_id</th><th>nev</th><th>Időszak</th><th>Órák száma</th></tr><tr><td>200</td><td>Aranyi Mária</td><td>Hét eleje</td><td>1</td></tr><tr><td>5</td><td>Balkán András</td><td>Hét eleje</td><td>2</td></tr><tr><td>5</td><td>Balkán András</td><td>Hét közben</td><td>1</td></tr><tr><td>9</td><td>Farkasos Piroska</td><td>Hét eleje</td><td>2</td></tr><tr><td>9</td><td>Farkasos Piroska</td><td>Hét közben</td><td>4</td></tr><tr><td>9</td><td>Farkasos Piroska</td><td>Hét vége</td><td>1</td></tr><tr><td>10</td><td>Jogrerős Pál</td><td>Hét eleje</td><td>2</td></tr><tr><td>301</td><td>Juhász András</td><td>Hét közben</td><td>2</td></tr><tr><td>7</td><td>Kiss János</td><td>Hét eleje</td><td>2</td></tr><tr><td>7</td><td>Kiss János</td><td>Hét közben</td><td>2</td></tr><tr><td>20</td><td>Kovács András</td><td>Hét eleje</td><td>2</td></tr><tr><td>20</td><td>Kovács András</td><td>Hét közben</td><td>2</td></tr><tr><td>1</td><td>Kovács László</td><td>Hét közben</td><td>3</td></tr><tr><td>1</td><td>Kovács László</td><td>Hét vége</td><td>1</td></tr><tr><td>104</td><td>Ludas Mátyás</td><td>Hét eleje</td><td>1</td></tr><tr><td>104</td><td>Ludas Mátyás</td><td>Hét közben</td><td>1</td></tr><tr><td>18</td><td>Nógrádi Kata</td><td>Hét közben</td><td>1</td></tr><tr><td>8</td><td>Pelikán József</td><td>Hét eleje</td><td>3</td></tr><tr><td>8</td><td>Pelikán József</td><td>Hét közben</td><td>3</td></tr><tr><td>108</td><td>Róbert Gida</td><td>Hét közben</td><td>1</td></tr><tr><td>300</td><td>Szabó Andrera</td><td>Hét közben</td><td>2</td></tr><tr><td>14</td><td>Szénási ászló</td><td>Hét közben</td><td>2</td></tr><tr><td>2</td><td>Szentágotai Istvás</td><td>Hét eleje</td><td>1</td></tr><tr><td>2</td><td>Szentágotai Istvás</td><td>Hét közben</td><td>5</td></tr><tr><td>2</td><td>Szentágotai Istvás</td><td>Hét vége</td><td>2</td></tr><tr><td>6</td><td>Szép llonka</td><td>Hét eleje</td><td>4</td></tr><tr><td>3</td><td>Szerb László</td><td>Hét közben</td><td>3</td></tr><tr><td>4</td><td>Ujfalussi István</td><td>Hét eleje</td><td>1</td></tr><tr><td>4</td><td>Ujfalussi István</td><td>Hét közben</td><td>2</td></tr><tr><td>12</td><td>Varga Kata</td><td>Hét eleje</td><td>2</td></tr><tr><td>12</td><td>Varga Kata</td><td>Hét közben</td><td>2</td></tr><tr><td>111</td><td>Vitéz János</td><td>Hét közben</td><td>2</td></tr><tr><td>111</td><td>Vitéz János</td><td>Hét vége</td><td>2</td></tr></table>"
                    },
                    "metadata": {}
                }
            ],
            "execution_count": 21
        },
        {
            "cell_type": "markdown",
            "source": [
                "10. <span style=\"background-color: rgb(255, 255, 255); color: rgb(36, 41, 47); font-family: -apple-system, BlinkMacSystemFont, &quot;Segoe UI&quot;, Helvetica, Arial, sans-serif, &quot;Apple Color Emoji&quot;, &quot;Segoe UI Emoji&quot;; font-size: 16px; font-weight: 600;\">Melyik napokon nincs órája Pelikán Józsefnek?</span>"
            ],
            "metadata": {
                "azdata_cell_guid": "217c5772-afe2-4a7c-b913-e3a3e09d6411"
            },
            "attachments": {}
        },
        {
            "cell_type": "code",
            "source": [
                "--Összes nap\r\n",
                "select nap\r\n",
                "from Napok\r\n",
                "\r\n",
                "EXCEPT\r\n",
                "\r\n",
                "-- mikor van ora?\r\n",
                "select N.nap\r\n",
                "from Orak o JOIN Oktatok okt ON o.tanar=okt.oktato_id\r\n",
                "            JOIN Napok n on o.nap=n.nap_id\r\n",
                "where okt.nev = 'Pelikán József'"
            ],
            "metadata": {
                "azdata_cell_guid": "a9cc0926-3dbd-4ed8-8179-1c39d64a0762",
                "language": "sql"
            },
            "outputs": [
                {
                    "output_type": "display_data",
                    "data": {
                        "text/html": "(3 rows affected)"
                    },
                    "metadata": {}
                },
                {
                    "output_type": "display_data",
                    "data": {
                        "text/html": "Total execution time: 00:00:00.051"
                    },
                    "metadata": {}
                },
                {
                    "output_type": "execute_result",
                    "execution_count": 47,
                    "data": {
                        "application/vnd.dataresource+json": {
                            "schema": {
                                "fields": [
                                    {
                                        "name": "nap"
                                    }
                                ]
                            },
                            "data": [
                                {
                                    "nap": "Csütörtök"
                                },
                                {
                                    "nap": "Péntek"
                                },
                                {
                                    "nap": "Szerda"
                                }
                            ]
                        },
                        "text/html": "<table><tr><th>nap</th></tr><tr><td>Csütörtök</td></tr><tr><td>Péntek</td></tr><tr><td>Szerda</td></tr></table>"
                    },
                    "metadata": {}
                }
            ],
            "execution_count": 47
        },
        {
            "cell_type": "markdown",
            "source": [
                "**A 11-15 feladatok gyakorlásra szolgálnak a közelgő zh-ra :-)**\n",
                "\n",
                "11. _Készítsünk listát az oktatók adatairól!_\n",
                "\n",
                "1. Az oktatók titulusa és neve összefűzve jelenjen meg, közöttük szóközzel!\n",
                "2. Ha valakinek nincs titulusa, akkor csak a neve jelenjen meg, szóköz nélkül!\n",
                "3. A listát rendezzük a beosztás kódja, azon belül a státusz kódja szerint növekvő sorrendbe!\n",
                "4. Az oszlopokat nevezzük el értelemszerűen!"
            ],
            "metadata": {
                "azdata_cell_guid": "d2340f5f-1614-473c-b937-85740d67f7c1"
            },
            "attachments": {}
        },
        {
            "cell_type": "code",
            "source": [
                "select \r\n",
                "        CASE\r\n",
                "            WHEN titulus is not null THEN titulus+' '+nev\r\n",
                "            ELSE nev\r\n",
                "        END as 'TitNév'\r\n",
                "from Oktatok okt JOIN Beosztasok beo ON okt.beosztás=beo.beosztas_id\r\n",
                "order by beo.beosztas_id, okt.[status] "
            ],
            "metadata": {
                "azdata_cell_guid": "e99c2c53-898f-4787-b0e6-182d106dc16f",
                "language": "sql",
                "tags": []
            },
            "outputs": [
                {
                    "output_type": "display_data",
                    "data": {
                        "text/html": "(25 rows affected)"
                    },
                    "metadata": {}
                },
                {
                    "output_type": "display_data",
                    "data": {
                        "text/html": "Total execution time: 00:00:00.044"
                    },
                    "metadata": {}
                },
                {
                    "output_type": "execute_result",
                    "execution_count": 25,
                    "data": {
                        "application/vnd.dataresource+json": {
                            "schema": {
                                "fields": [
                                    {
                                        "name": "TitNév"
                                    }
                                ]
                            },
                            "data": [
                                {
                                    "TitNév": "Nógrádi Kata"
                                },
                                {
                                    "TitNév": "Rácz András"
                                },
                                {
                                    "TitNév": "Kovács András"
                                },
                                {
                                    "TitNév": "Ludas Mátyás"
                                },
                                {
                                    "TitNév": "Aranyi Mária"
                                },
                                {
                                    "TitNév": "Szabó Andrera"
                                },
                                {
                                    "TitNév": "Kiss István"
                                },
                                {
                                    "TitNév": "Mészáros Kriszta"
                                },
                                {
                                    "TitNév": "Róbert Gida"
                                },
                                {
                                    "TitNév": "Vitéz János"
                                },
                                {
                                    "TitNév": "Kiss János"
                                },
                                {
                                    "TitNév": "Pelikán József"
                                },
                                {
                                    "TitNév": "Farkasos Piroska"
                                },
                                {
                                    "TitNév": "Dr. Szép llonka"
                                },
                                {
                                    "TitNév": "Szénási ászló"
                                },
                                {
                                    "TitNév": "Dr. Szentágotai Istvás"
                                },
                                {
                                    "TitNév": "Szerb László"
                                },
                                {
                                    "TitNév": "Dr. Józsa Gábor"
                                },
                                {
                                    "TitNév": "Dr. Varga Kata"
                                },
                                {
                                    "TitNév": "Dr. Balkán András"
                                },
                                {
                                    "TitNév": "Dr. Kovacs Istvan"
                                },
                                {
                                    "TitNév": "Dr. Juhász András"
                                },
                                {
                                    "TitNév": "Prof. Jogrerős Pál"
                                },
                                {
                                    "TitNév": "Dr. Kovács László"
                                },
                                {
                                    "TitNév": "Prof, tanszékvezető Ujfalussi István"
                                }
                            ]
                        },
                        "text/html": "<table><tr><th>TitNév</th></tr><tr><td>Nógrádi Kata</td></tr><tr><td>Rácz András</td></tr><tr><td>Kovács András</td></tr><tr><td>Ludas Mátyás</td></tr><tr><td>Aranyi Mária</td></tr><tr><td>Szabó Andrera</td></tr><tr><td>Kiss István</td></tr><tr><td>Mészáros Kriszta</td></tr><tr><td>Róbert Gida</td></tr><tr><td>Vitéz János</td></tr><tr><td>Kiss János</td></tr><tr><td>Pelikán József</td></tr><tr><td>Farkasos Piroska</td></tr><tr><td>Dr. Szép llonka</td></tr><tr><td>Szénási ászló</td></tr><tr><td>Dr. Szentágotai Istvás</td></tr><tr><td>Szerb László</td></tr><tr><td>Dr. Józsa Gábor</td></tr><tr><td>Dr. Varga Kata</td></tr><tr><td>Dr. Balkán András</td></tr><tr><td>Dr. Kovacs Istvan</td></tr><tr><td>Dr. Juhász András</td></tr><tr><td>Prof. Jogrerős Pál</td></tr><tr><td>Dr. Kovács László</td></tr><tr><td>Prof, tanszékvezető Ujfalussi István</td></tr></table>"
                    },
                    "metadata": {}
                }
            ],
            "execution_count": 25
        },
        {
            "cell_type": "markdown",
            "source": [
                "<span style=\"color: #09885a;\">12</span>. Készítsünk listát, amely megmutatja, hogy összesen hány tantárgy van kreditenkénti csoportosításban!\n",
                "\n",
                "  \n",
                "\n",
                "A listából hagyjuk ki azokat a tételeket, ahol ez a darabszám <span style=\"color: #09885a;\">1</span>!\n",
                "\n",
                "A Folyami gáttan tantárgyat ne vegyük figyelembe!\n",
                "\n",
                "A listát rendezzük darabszám szerint csökkenő sorrendbe!\n",
                "\n",
                "Az oszlopokat nevezzük el értelemszerűen!"
            ],
            "metadata": {
                "azdata_cell_guid": "a765e9d6-58b3-4171-872a-78f3118fd6e3"
            },
            "attachments": {}
        },
        {
            "cell_type": "code",
            "source": [
                "select Kredit,\r\n",
                "        count(*) as 'Tárgyak száma'\r\n",
                "from Tantárgyak \r\n",
                "where Tkód!=11\r\n",
                "group by Kredit\r\n",
                "having count(*)!=1\r\n",
                "order by count(*) DESC\r\n",
                "\r\n",
                ""
            ],
            "metadata": {
                "azdata_cell_guid": "422e8127-b652-4d3a-bfd7-9b1637b5781e",
                "language": "sql"
            },
            "outputs": [
                {
                    "output_type": "display_data",
                    "data": {
                        "text/html": "(4 rows affected)"
                    },
                    "metadata": {}
                },
                {
                    "output_type": "display_data",
                    "data": {
                        "text/html": "Total execution time: 00:00:00.015"
                    },
                    "metadata": {}
                },
                {
                    "output_type": "execute_result",
                    "execution_count": 31,
                    "data": {
                        "application/vnd.dataresource+json": {
                            "schema": {
                                "fields": [
                                    {
                                        "name": "Kredit"
                                    },
                                    {
                                        "name": "Tárgyak száma"
                                    }
                                ]
                            },
                            "data": [
                                {
                                    "Kredit": "2",
                                    "Tárgyak száma": "3"
                                },
                                {
                                    "Kredit": "3",
                                    "Tárgyak száma": "3"
                                },
                                {
                                    "Kredit": "4",
                                    "Tárgyak száma": "2"
                                },
                                {
                                    "Kredit": "1",
                                    "Tárgyak száma": "2"
                                }
                            ]
                        },
                        "text/html": "<table><tr><th>Kredit</th><th>Tárgyak száma</th></tr><tr><td>2</td><td>3</td></tr><tr><td>3</td><td>3</td></tr><tr><td>4</td><td>2</td></tr><tr><td>1</td><td>2</td></tr></table>"
                    },
                    "metadata": {}
                }
            ],
            "execution_count": 31
        },
        {
            "cell_type": "markdown",
            "source": [
                "13. _Készítsünk listát az oktatók nevéről, a beosztásuk alapján elvárt és a tényleges óraszámukról!_\n",
                "\n",
                "1. Az oszlopok neve legyen 'Oktató neve', 'Elvárt óraszám' és 'Tényleges óraszám'\n",
                "2. Szűrjük a listát azokra az oktatókra, ahol az elvárt és a tényleges óraszám azonos"
            ],
            "metadata": {
                "azdata_cell_guid": "3f9237ae-f109-401c-acb9-31d75e73331b"
            },
            "attachments": {}
        },
        {
            "cell_type": "code",
            "source": [
                "select okt.nev as 'Oktató neve',\r\n",
                "        beo.elvart as 'Elvárt óraszám',\r\n",
                "        count(o.ora_id) as 'Tényleges óraszám'\r\n",
                "from Oktatok okt JOIN Orak o ON okt.oktato_id=o.tanar\r\n",
                "                JOIN Beosztasok beo ON beo.beosztas_id=okt.beosztás\r\n",
                "group by okt.nev, beo.elvart\r\n",
                "having beo.elvart=count(o.ora_id)"
            ],
            "metadata": {
                "azdata_cell_guid": "4b31bb89-cfbc-46b1-8639-85c462877786",
                "language": "sql"
            },
            "outputs": [
                {
                    "output_type": "display_data",
                    "data": {
                        "text/html": "(4 rows affected)"
                    },
                    "metadata": {}
                },
                {
                    "output_type": "display_data",
                    "data": {
                        "text/html": "Total execution time: 00:00:00.031"
                    },
                    "metadata": {}
                },
                {
                    "output_type": "execute_result",
                    "execution_count": 37,
                    "data": {
                        "application/vnd.dataresource+json": {
                            "schema": {
                                "fields": [
                                    {
                                        "name": "Oktató neve"
                                    },
                                    {
                                        "name": "Elvárt óraszám"
                                    },
                                    {
                                        "name": "Tényleges óraszám"
                                    }
                                ]
                            },
                            "data": [
                                {
                                    "Oktató neve": "Jogrerős Pál",
                                    "Elvárt óraszám": "2",
                                    "Tényleges óraszám": "2"
                                },
                                {
                                    "Oktató neve": "Juhász András",
                                    "Elvárt óraszám": "2",
                                    "Tényleges óraszám": "2"
                                },
                                {
                                    "Oktató neve": "Varga Kata",
                                    "Elvárt óraszám": "4",
                                    "Tényleges óraszám": "4"
                                },
                                {
                                    "Oktató neve": "Pelikán József",
                                    "Elvárt óraszám": "6",
                                    "Tényleges óraszám": "6"
                                }
                            ]
                        },
                        "text/html": "<table><tr><th>Oktató neve</th><th>Elvárt óraszám</th><th>Tényleges óraszám</th></tr><tr><td>Jogrerős Pál</td><td>2</td><td>2</td></tr><tr><td>Juhász András</td><td>2</td><td>2</td></tr><tr><td>Varga Kata</td><td>4</td><td>4</td></tr><tr><td>Pelikán József</td><td>6</td><td>6</td></tr></table>"
                    },
                    "metadata": {}
                }
            ],
            "execution_count": 37
        },
        {
            "cell_type": "markdown",
            "source": [
                "14. _Készítsünk listát, amely megmutatja, hogy mely tantárgyból nincs óra egyáltalán!_\n",
                "\n",
                "1. Csak a tantárgy neve jelenjen meg!"
            ],
            "metadata": {
                "azdata_cell_guid": "f634e09a-85ef-4e70-8ec6-ef355dfddaa7"
            },
            "attachments": {}
        },
        {
            "cell_type": "code",
            "source": [
                "select Tkód,\r\n",
                "        Tantárgynév\r\n",
                "from Tantárgyak\r\n",
                "\r\n",
                "\r\n",
                "EXCEPT\r\n",
                "\r\n",
                "select tan.Tkód,\r\n",
                "        tan.Tantárgynév\r\n",
                "from Oktatok okt JOIN Orak o ON okt.oktato_id=o.tanar\r\n",
                "                JOIN Tantárgyak tan ON o.targy=tan.Tkód\r\n",
                "\r\n",
                "\r\n",
                ""
            ],
            "metadata": {
                "azdata_cell_guid": "88abc55b-2c78-495b-a72f-3f8f4eb5fe70",
                "language": "sql"
            },
            "outputs": [
                {
                    "output_type": "display_data",
                    "data": {
                        "text/html": "(1 row affected)"
                    },
                    "metadata": {}
                },
                {
                    "output_type": "display_data",
                    "data": {
                        "text/html": "Total execution time: 00:00:00.036"
                    },
                    "metadata": {}
                },
                {
                    "output_type": "execute_result",
                    "execution_count": 48,
                    "data": {
                        "application/vnd.dataresource+json": {
                            "schema": {
                                "fields": [
                                    {
                                        "name": "Tkód"
                                    },
                                    {
                                        "name": "Tantárgynév"
                                    }
                                ]
                            },
                            "data": [
                                {
                                    "Tkód": "11",
                                    "Tantárgynév": "Folyami gáttan"
                                }
                            ]
                        },
                        "text/html": "<table><tr><th>Tkód</th><th>Tantárgynév</th></tr><tr><td>11</td><td>Folyami gáttan</td></tr></table>"
                    },
                    "metadata": {}
                }
            ],
            "execution_count": 48
        },
        {
            "cell_type": "markdown",
            "source": [
                "15. _Hány órájuk van az óraadóknak napi bontásban?_\n",
                "\n",
                "1. Csak a napok nevét és az óraszámot jelenítsük meg!\n",
                "2. Rendezzük a listát óraszám szerint növekvő sorrendbe!"
            ],
            "metadata": {
                "azdata_cell_guid": "4cbf2f0d-a65d-480a-8186-ccdb24498443"
            },
            "attachments": {}
        },
        {
            "cell_type": "code",
            "source": [
                "select nap.nap as 'Nap neve',\r\n",
                "    count(*) as 'Órák száma'\r\n",
                "from Orak o JOIN Oktatok okt ON o.tanar=okt.oktato_id\r\n",
                "            JOIN Napok nap ON o.nap=nap.nap_id\r\n",
                "            JOIN Beosztasok beo ON okt.beosztás=beo.beosztas_id\r\n",
                "where beo.beosztasnev='Óraadó'\r\n",
                "GROUP BY nap.nap\r\n",
                "order by count(*) ASC\r\n",
                ""
            ],
            "metadata": {
                "azdata_cell_guid": "c148aee8-bc85-40bf-b80a-a4898a6c05cb",
                "language": "sql"
            },
            "outputs": [
                {
                    "output_type": "display_data",
                    "data": {
                        "text/html": "(3 rows affected)"
                    },
                    "metadata": {}
                },
                {
                    "output_type": "display_data",
                    "data": {
                        "text/html": "Total execution time: 00:00:00.022"
                    },
                    "metadata": {}
                },
                {
                    "output_type": "execute_result",
                    "execution_count": 63,
                    "data": {
                        "application/vnd.dataresource+json": {
                            "schema": {
                                "fields": [
                                    {
                                        "name": "Nap neve"
                                    },
                                    {
                                        "name": "Órák száma"
                                    }
                                ]
                            },
                            "data": [
                                {
                                    "Nap neve": "Kedd",
                                    "Órák száma": "1"
                                },
                                {
                                    "Nap neve": "Hétfő",
                                    "Órák száma": "4"
                                },
                                {
                                    "Nap neve": "Csütörtök",
                                    "Órák száma": "5"
                                }
                            ]
                        },
                        "text/html": "<table><tr><th>Nap neve</th><th>Órák száma</th></tr><tr><td>Kedd</td><td>1</td></tr><tr><td>Hétfő</td><td>4</td></tr><tr><td>Csütörtök</td><td>5</td></tr></table>"
                    },
                    "metadata": {}
                }
            ],
            "execution_count": 63
        }
    ]
}