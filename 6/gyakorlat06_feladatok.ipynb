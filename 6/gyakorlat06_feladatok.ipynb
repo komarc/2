{
    "metadata": {
        "kernelspec": {
            "name": "SQL",
            "display_name": "SQL",
            "language": "sql"
        },
        "language_info": {
            "name": "sql",
            "version": ""
        }
    },
    "nbformat_minor": 2,
    "nbformat": 4,
    "cells": [
        {
            "cell_type": "markdown",
            "source": [
                "1. <span style=\"background-color: rgb(255, 255, 255); color: rgb(0, 0, 0); font-family: &quot;Open Sans&quot;, sans-serif; font-size: 14.44px;\">Készítsünk sorszámozott listát a szálláshelyek adatairól!&nbsp;</span> \n",
                "\n",
                "a. A lista legyen a szálláshely típusa szerint, azon belül hely szerint, majd a neve szerint növekvően rendezve! \n",
                "\n",
                "b. A számozás típusonként kezdődjön újra!"
            ],
            "metadata": {
                "azdata_cell_guid": "363cd270-6577-449b-9c89-d4b7c7972d52"
            },
            "attachments": {}
        },
        {
            "cell_type": "code",
            "source": [
                "-- row_number()\r\n",
                "SELECT row_number () over(\r\n",
                "        PARTITION BY tipus\r\n",
                "        order by tipus, hely, szallas_nev\r\n",
                ") as 'Sorszám', *\r\n",
                "from Szallashely"
            ],
            "metadata": {
                "azdata_cell_guid": "6ab9f633-a3b5-48c9-a1dc-4fb8235ae85b",
                "language": "sql"
            },
            "outputs": [
                {
                    "output_type": "display_data",
                    "data": {
                        "text/html": "(21 rows affected)"
                    },
                    "metadata": {}
                },
                {
                    "output_type": "display_data",
                    "data": {
                        "text/html": "Total execution time: 00:00:00.021"
                    },
                    "metadata": {}
                },
                {
                    "output_type": "execute_result",
                    "execution_count": 4,
                    "data": {
                        "application/vnd.dataresource+json": {
                            "schema": {
                                "fields": [
                                    {
                                        "name": "Sorszám"
                                    },
                                    {
                                        "name": "SZALLAS_ID"
                                    },
                                    {
                                        "name": "SZALLAS_NEV"
                                    },
                                    {
                                        "name": "HELY"
                                    },
                                    {
                                        "name": "CSILLAGOK_SZAMA"
                                    },
                                    {
                                        "name": "TIPUS"
                                    },
                                    {
                                        "name": "ROGZITETTE"
                                    },
                                    {
                                        "name": "ROGZ_IDO"
                                    },
                                    {
                                        "name": "CIM"
                                    }
                                ]
                            },
                            "data": [
                                {
                                    "Sorszám": "1",
                                    "SZALLAS_ID": "7",
                                    "SZALLAS_NEV": "Szieszta Apartmanház",
                                    "HELY": "Balaton-dél",
                                    "CSILLAGOK_SZAMA": "0",
                                    "TIPUS": "Apartman",
                                    "ROGZITETTE": "Mari",
                                    "ROGZ_IDO": "2016-03-11",
                                    "CIM": "8630 Balatonboglár, Dózsa György utca 108"
                                },
                                {
                                    "Sorszám": "2",
                                    "SZALLAS_ID": "18",
                                    "SZALLAS_NEV": "Fortuna Apartman",
                                    "HELY": "Dél-Somogy",
                                    "CSILLAGOK_SZAMA": "0",
                                    "TIPUS": "Apartman",
                                    "ROGZITETTE": "Béla",
                                    "ROGZ_IDO": "2016-04-07",
                                    "CIM": "7570 Barcs, Kossuth u. 13."
                                },
                                {
                                    "Sorszám": "3",
                                    "SZALLAS_ID": "3",
                                    "SZALLAS_NEV": "Fortuna Apartman",
                                    "HELY": "Hajdúbihar megye",
                                    "CSILLAGOK_SZAMA": "0",
                                    "TIPUS": "Apartman",
                                    "ROGZITETTE": "Sára",
                                    "ROGZ_IDO": "2016-03-06",
                                    "CIM": "4200 Hajdúszoboszló, Wesselényi utca 56."
                                },
                                {
                                    "Sorszám": "1",
                                    "SZALLAS_ID": "20",
                                    "SZALLAS_NEV": "Kollégium",
                                    "HELY": "Budapest",
                                    "CSILLAGOK_SZAMA": "0",
                                    "TIPUS": "Diákszálló",
                                    "ROGZITETTE": "Sára",
                                    "ROGZ_IDO": "2016-04-07",
                                    "CIM": "1146 Budapest, Ajtósi Dürer sor 23."
                                },
                                {
                                    "Sorszám": "1",
                                    "SZALLAS_ID": "8",
                                    "SZALLAS_NEV": "Hotel Három Hattyú",
                                    "HELY": "Balaton-dél",
                                    "CSILLAGOK_SZAMA": "4",
                                    "TIPUS": "Hotel",
                                    "ROGZITETTE": "Béla",
                                    "ROGZ_IDO": "2016-03-13",
                                    "CIM": "8623 Balatonföldvár, Rákóczi Ferenc út 45."
                                },
                                {
                                    "Sorszám": "2",
                                    "SZALLAS_ID": "6",
                                    "SZALLAS_NEV": "Kentaur Hotel",
                                    "HELY": "Balaton-dél",
                                    "CSILLAGOK_SZAMA": "3",
                                    "TIPUS": "Hotel",
                                    "ROGZITETTE": "Béla",
                                    "ROGZ_IDO": "2016-03-08",
                                    "CIM": "8600 Siófok (Széplak), Akácfa utca 1"
                                },
                                {
                                    "Sorszám": "3",
                                    "SZALLAS_ID": "12",
                                    "SZALLAS_NEV": "Gold Hotel",
                                    "HELY": "Budapest",
                                    "CSILLAGOK_SZAMA": "3",
                                    "TIPUS": "Hotel",
                                    "ROGZITETTE": "Béla",
                                    "ROGZ_IDO": "2016-03-24",
                                    "CIM": "1016 Budapest, Hegyalja út 12"
                                },
                                {
                                    "Sorszám": "4",
                                    "SZALLAS_ID": "10",
                                    "SZALLAS_NEV": "Lagúna Hotel",
                                    "HELY": "Budapest",
                                    "CSILLAGOK_SZAMA": "4",
                                    "TIPUS": "Hotel",
                                    "ROGZITETTE": "Sára",
                                    "ROGZ_IDO": "2016-03-20",
                                    "CIM": "1097 Budapest, Albert Flórián út 3"
                                },
                                {
                                    "Sorszám": "5",
                                    "SZALLAS_ID": "16",
                                    "SZALLAS_NEV": "Bagoly Hotel",
                                    "HELY": "Pest megye",
                                    "CSILLAGOK_SZAMA": "3",
                                    "TIPUS": "Hotel",
                                    "ROGZITETTE": "Mari",
                                    "ROGZ_IDO": "2016-04-01",
                                    "CIM": "2230 Gyömrő, Bergszász u. 5."
                                },
                                {
                                    "Sorszám": "6",
                                    "SZALLAS_ID": "17",
                                    "SZALLAS_NEV": "Szarvas Hotel",
                                    "HELY": "Tolna megye",
                                    "CSILLAGOK_SZAMA": "4",
                                    "TIPUS": "Hotel",
                                    "ROGZITETTE": "Béla",
                                    "ROGZ_IDO": "2016-04-04",
                                    "CIM": "7121 Szálka, Petőfi Sándor u."
                                },
                                {
                                    "Sorszám": "1",
                                    "SZALLAS_ID": "9",
                                    "SZALLAS_NEV": "Jáde panzió",
                                    "HELY": "Balaton-dél",
                                    "CSILLAGOK_SZAMA": "3",
                                    "TIPUS": "panzió",
                                    "ROGZITETTE": "Mari",
                                    "ROGZ_IDO": "2016-03-16",
                                    "CIM": "8624 Balatonföldvár, Kiss u.2."
                                },
                                {
                                    "Sorszám": "2",
                                    "SZALLAS_ID": "15",
                                    "SZALLAS_NEV": "Tímárház Panzió",
                                    "HELY": "Balaton-dél",
                                    "CSILLAGOK_SZAMA": "3",
                                    "TIPUS": "panzió",
                                    "ROGZITETTE": "Béla",
                                    "ROGZ_IDO": "2016-03-29",
                                    "CIM": "8600 Siófok, Virág utca 1"
                                },
                                {
                                    "Sorszám": "3",
                                    "SZALLAS_ID": "5",
                                    "SZALLAS_NEV": "Fortuna Panzió",
                                    "HELY": "Békés megye",
                                    "CSILLAGOK_SZAMA": "3",
                                    "TIPUS": "panzió",
                                    "ROGZITETTE": "Sára",
                                    "ROGZ_IDO": "2016-03-08",
                                    "CIM": "5900 Orosháza, Gyopárosfürdő Tópart utca 3."
                                },
                                {
                                    "Sorszám": "4",
                                    "SZALLAS_ID": "4",
                                    "SZALLAS_NEV": "Fortuna panzió",
                                    "HELY": "Budapest",
                                    "CSILLAGOK_SZAMA": "3",
                                    "TIPUS": "panzió",
                                    "ROGZITETTE": "Béla",
                                    "ROGZ_IDO": "2016-03-07",
                                    "CIM": "1019 Budapest XIV. Cinkotai út 86."
                                },
                                {
                                    "Sorszám": "5",
                                    "SZALLAS_ID": "13",
                                    "SZALLAS_NEV": "Riviéra Panzió",
                                    "HELY": "Csongrád megye",
                                    "CSILLAGOK_SZAMA": "3",
                                    "TIPUS": "panzió",
                                    "ROGZITETTE": "Sára",
                                    "ROGZ_IDO": "2016-03-27",
                                    "CIM": "6722 Szeged, Petőfi Sándor út 3."
                                },
                                {
                                    "Sorszám": "1",
                                    "SZALLAS_ID": "2",
                                    "SZALLAS_NEV": "Családi Ház",
                                    "HELY": "Balaton-dél",
                                    "CSILLAGOK_SZAMA": "0",
                                    "TIPUS": "vendégház",
                                    "ROGZITETTE": "Béla",
                                    "ROGZ_IDO": "2016-03-02",
                                    "CIM": "8630 Balatonboglár, József Attila utca 25"
                                },
                                {
                                    "Sorszám": "2",
                                    "SZALLAS_ID": "1",
                                    "SZALLAS_NEV": "Sába-Ház",
                                    "HELY": "Balaton-dél",
                                    "CSILLAGOK_SZAMA": "0",
                                    "TIPUS": "vendégház",
                                    "ROGZITETTE": "Béla",
                                    "ROGZ_IDO": "2016-02-28",
                                    "CIM": "8630 Balatonboglár, Radnóti Miklós utca 8"
                                },
                                {
                                    "Sorszám": "3",
                                    "SZALLAS_ID": "11",
                                    "SZALLAS_NEV": "Partiszél Vendégház",
                                    "HELY": "Balaton-észak",
                                    "CSILLAGOK_SZAMA": "0",
                                    "TIPUS": "vendégház",
                                    "ROGZITETTE": "Béla",
                                    "ROGZ_IDO": "2016-03-22",
                                    "CIM": "8220 Balatonalmádi Neptun u. 23."
                                },
                                {
                                    "Sorszám": "4",
                                    "SZALLAS_ID": "14",
                                    "SZALLAS_NEV": "Nyárfás Vendégház",
                                    "HELY": "Csongrád megye",
                                    "CSILLAGOK_SZAMA": "0",
                                    "TIPUS": "vendégház",
                                    "ROGZITETTE": "Béla",
                                    "ROGZ_IDO": "2016-03-27",
                                    "CIM": "6723 Szeged, Nagy u. 12."
                                },
                                {
                                    "Sorszám": "5",
                                    "SZALLAS_ID": "21",
                                    "SZALLAS_NEV": "Müller Vendégház",
                                    "HELY": "Dél-Somogy",
                                    "CSILLAGOK_SZAMA": "0",
                                    "TIPUS": "vendégház",
                                    "ROGZITETTE": "Béla",
                                    "ROGZ_IDO": "2016-04-07",
                                    "CIM": "7570 Barcs, Magyar u. 10."
                                },
                                {
                                    "Sorszám": "6",
                                    "SZALLAS_ID": "19",
                                    "SZALLAS_NEV": "Nyárfás Vendégház",
                                    "HELY": "Dél-Somogy",
                                    "CSILLAGOK_SZAMA": "0",
                                    "TIPUS": "vendégház",
                                    "ROGZITETTE": "Sára",
                                    "ROGZ_IDO": "2016-04-07",
                                    "CIM": "7570 Barcs, Bajcsy-Zs. u. 53"
                                }
                            ]
                        },
                        "text/html": "<table><tr><th>Sorszám</th><th>SZALLAS_ID</th><th>SZALLAS_NEV</th><th>HELY</th><th>CSILLAGOK_SZAMA</th><th>TIPUS</th><th>ROGZITETTE</th><th>ROGZ_IDO</th><th>CIM</th></tr><tr><td>1</td><td>7</td><td>Szieszta Apartmanház</td><td>Balaton-dél</td><td>0</td><td>Apartman</td><td>Mari</td><td>2016-03-11</td><td>8630 Balatonboglár, Dózsa György utca 108</td></tr><tr><td>2</td><td>18</td><td>Fortuna Apartman</td><td>Dél-Somogy</td><td>0</td><td>Apartman</td><td>Béla</td><td>2016-04-07</td><td>7570 Barcs, Kossuth u. 13.</td></tr><tr><td>3</td><td>3</td><td>Fortuna Apartman</td><td>Hajdúbihar megye</td><td>0</td><td>Apartman</td><td>Sára</td><td>2016-03-06</td><td>4200 Hajdúszoboszló, Wesselényi utca 56.</td></tr><tr><td>1</td><td>20</td><td>Kollégium</td><td>Budapest</td><td>0</td><td>Diákszálló</td><td>Sára</td><td>2016-04-07</td><td>1146 Budapest, Ajtósi Dürer sor 23.</td></tr><tr><td>1</td><td>8</td><td>Hotel Három Hattyú</td><td>Balaton-dél</td><td>4</td><td>Hotel</td><td>Béla</td><td>2016-03-13</td><td>8623 Balatonföldvár, Rákóczi Ferenc út 45.</td></tr><tr><td>2</td><td>6</td><td>Kentaur Hotel</td><td>Balaton-dél</td><td>3</td><td>Hotel</td><td>Béla</td><td>2016-03-08</td><td>8600 Siófok (Széplak), Akácfa utca 1</td></tr><tr><td>3</td><td>12</td><td>Gold Hotel</td><td>Budapest</td><td>3</td><td>Hotel</td><td>Béla</td><td>2016-03-24</td><td>1016 Budapest, Hegyalja út 12</td></tr><tr><td>4</td><td>10</td><td>Lagúna Hotel</td><td>Budapest</td><td>4</td><td>Hotel</td><td>Sára</td><td>2016-03-20</td><td>1097 Budapest, Albert Flórián út 3</td></tr><tr><td>5</td><td>16</td><td>Bagoly Hotel</td><td>Pest megye</td><td>3</td><td>Hotel</td><td>Mari</td><td>2016-04-01</td><td>2230 Gyömrő, Bergszász u. 5.</td></tr><tr><td>6</td><td>17</td><td>Szarvas Hotel</td><td>Tolna megye</td><td>4</td><td>Hotel</td><td>Béla</td><td>2016-04-04</td><td>7121 Szálka, Petőfi Sándor u.</td></tr><tr><td>1</td><td>9</td><td>Jáde panzió</td><td>Balaton-dél</td><td>3</td><td>panzió</td><td>Mari</td><td>2016-03-16</td><td>8624 Balatonföldvár, Kiss u.2.</td></tr><tr><td>2</td><td>15</td><td>Tímárház Panzió</td><td>Balaton-dél</td><td>3</td><td>panzió</td><td>Béla</td><td>2016-03-29</td><td>8600 Siófok, Virág utca 1</td></tr><tr><td>3</td><td>5</td><td>Fortuna Panzió</td><td>Békés megye</td><td>3</td><td>panzió</td><td>Sára</td><td>2016-03-08</td><td>5900 Orosháza, Gyopárosfürdő Tópart utca 3.</td></tr><tr><td>4</td><td>4</td><td>Fortuna panzió</td><td>Budapest</td><td>3</td><td>panzió</td><td>Béla</td><td>2016-03-07</td><td>1019 Budapest XIV. Cinkotai út 86.</td></tr><tr><td>5</td><td>13</td><td>Riviéra Panzió</td><td>Csongrád megye</td><td>3</td><td>panzió</td><td>Sára</td><td>2016-03-27</td><td>6722 Szeged, Petőfi Sándor út 3.</td></tr><tr><td>1</td><td>2</td><td>Családi Ház</td><td>Balaton-dél</td><td>0</td><td>vendégház</td><td>Béla</td><td>2016-03-02</td><td>8630 Balatonboglár, József Attila utca 25</td></tr><tr><td>2</td><td>1</td><td>Sába-Ház</td><td>Balaton-dél</td><td>0</td><td>vendégház</td><td>Béla</td><td>2016-02-28</td><td>8630 Balatonboglár, Radnóti Miklós utca 8</td></tr><tr><td>3</td><td>11</td><td>Partiszél Vendégház</td><td>Balaton-észak</td><td>0</td><td>vendégház</td><td>Béla</td><td>2016-03-22</td><td>8220 Balatonalmádi Neptun u. 23.</td></tr><tr><td>4</td><td>14</td><td>Nyárfás Vendégház</td><td>Csongrád megye</td><td>0</td><td>vendégház</td><td>Béla</td><td>2016-03-27</td><td>6723 Szeged, Nagy u. 12.</td></tr><tr><td>5</td><td>21</td><td>Müller Vendégház</td><td>Dél-Somogy</td><td>0</td><td>vendégház</td><td>Béla</td><td>2016-04-07</td><td>7570 Barcs, Magyar u. 10.</td></tr><tr><td>6</td><td>19</td><td>Nyárfás Vendégház</td><td>Dél-Somogy</td><td>0</td><td>vendégház</td><td>Sára</td><td>2016-04-07</td><td>7570 Barcs, Bajcsy-Zs. u. 53</td></tr></table>"
                    },
                    "metadata": {}
                }
            ],
            "execution_count": 4
        },
        {
            "cell_type": "markdown",
            "source": [
                "2. <span style=\"background-color: rgb(255, 255, 255); color: rgb(0, 0, 0); font-family: &quot;Open Sans&quot;, sans-serif; font-size: 14.44px;\">Készítsünk lekérdezést, amely a foglalások adatait jeleníti meg!&nbsp;</span> \n",
                "\n",
                "a. A lista tartalmazzon két új oszlopot, amelyek az adott ügyfél legrövidebb, illetve leghosszabb foglalásának hosszát (a foglalt napok számát) mutatják meg! \n",
                "\n",
                "b. Az oszlopokat nevezzük el értelemszerűen!"
            ],
            "metadata": {
                "azdata_cell_guid": "ea75c103-911f-41a3-a32c-3d40fb3e4e4a"
            },
            "attachments": {}
        },
        {
            "cell_type": "code",
            "source": [
                ""
            ],
            "metadata": {
                "azdata_cell_guid": "222b9618-a8e8-42b4-a8e8-d002257122b7",
                "language": "sql"
            },
            "outputs": [],
            "execution_count": null
        },
        {
            "cell_type": "markdown",
            "source": [
                "```\n",
                "3. Készítsük listát, amely megjeleníti az ügyfelek azonosítóját, nevét és a foglalásainak kezdő- és befejező dátumát, valamint azt, hogy a foglalás összesen hány főre történt! \n",
                "```\n",
                "\n",
                "a. Egy új oszlopban jelenítsük meg azt is, hogy az ügyfél előző három foglalása összesen hány főre történt!\n",
                "\n",
                "![](https://moodle.uni-corvinus.hu/theme/image.php/adaptable/atto_h5p/1709548862/icon)"
            ],
            "metadata": {
                "azdata_cell_guid": "d7876bb9-76d0-4d07-baed-3cb17b2f96c3"
            },
            "attachments": {}
        },
        {
            "cell_type": "code",
            "source": [
                ""
            ],
            "metadata": {
                "azdata_cell_guid": "56ec19ce-e249-4551-b2a8-f17569765acc",
                "language": "sql"
            },
            "outputs": [],
            "execution_count": null
        },
        {
            "cell_type": "markdown",
            "source": [
                "4. <span style=\"background-color: rgb(255, 255, 255); color: rgb(0, 0, 0); font-family: &quot;Open Sans&quot;, sans-serif; font-size: 14.44px;\">Készítsünk listát arról, hogy az egyes szálláshelyeken évente hány foglalás történt!&nbsp;</span> \n",
                "\n",
                "a. A lista jelenítse meg a szálláshely azonosítóját, nevét, az évet, és a foglalások számát!\n",
                "\n",
                "b. Egy új oszlopban jelenítsük meg a szálláshely eddigi éves foglalásainak számát is (az aktuálisat is beleértve). \n",
                "\n",
                "c. Az évnél a METTOL dátumot vegyük figyelembe! \n",
                "\n",
                "d. A lista ne tartalmazzon duplikált sorokat!"
            ],
            "metadata": {
                "azdata_cell_guid": "8e7fef82-8022-49a0-8255-fc2846c2134b"
            },
            "attachments": {}
        },
        {
            "cell_type": "code",
            "source": [
                "select DISTINCT szh.SZALLAS_ID,\r\n",
                "    YEAR(f.METTOL),\r\n",
                "    count(*) OVER(PARTITION BY szh.SZALLAS_ID, YEAR(f.METTOL)),--nincs NULL értékű foglalás ezért *\r\n",
                "    ---eddigi foglalások száma\r\n",
                "    count(*) OVER(PARTITION BY szh.SZALLAS_ID, YEAR(f.METTOL)\r\n",
                "                    ORDER BY f.METTOL\r\n",
                "                    RANGE BETWEEN UNBOUNDED PRECEDING AND CURRENT ROW) --aktuális sorig megy\r\n",
                "from szallashely szh JOIN Szoba sz On szh.SZALLAS_ID=sz.SZALLAS_FK\r\n",
                "                        JOIN Foglalas f ON \r\n",
                "                        sz.SZOBA_ID=f.SZOBA_FK\r\n",
                "\r\n",
                "\r\n",
                ""
            ],
            "metadata": {
                "azdata_cell_guid": "36f7b396-4a1f-45e5-8720-2302537c91bc",
                "language": "sql"
            },
            "outputs": [
                {
                    "output_type": "display_data",
                    "data": {
                        "text/html": "(811 rows affected)"
                    },
                    "metadata": {}
                },
                {
                    "output_type": "display_data",
                    "data": {
                        "text/html": "Total execution time: 00:00:00.126"
                    },
                    "metadata": {}
                },
                {
                    "output_type": "execute_result",
                    "execution_count": 10,
                    "data": {
                        "application/vnd.dataresource+json": {
                            "schema": {
                                "fields": [
                                    {
                                        "name": "SZALLAS_ID"
                                    },
                                    {
                                        "name": "(No column name)"
                                    },
                                    {
                                        "name": "(No column name)"
                                    },
                                    {
                                        "name": "(No column name)"
                                    }
                                ]
                            },
                            "data": [
                                {
                                    "SZALLAS_ID": "3",
                                    "(No column name)": "31"
                                },
                                {
                                    "SZALLAS_ID": "6",
                                    "(No column name)": "44"
                                },
                                {
                                    "SZALLAS_ID": "6",
                                    "(No column name)": "20"
                                },
                                {
                                    "SZALLAS_ID": "8",
                                    "(No column name)": "80"
                                },
                                {
                                    "SZALLAS_ID": "12",
                                    "(No column name)": "12"
                                },
                                {
                                    "SZALLAS_ID": "8",
                                    "(No column name)": "32"
                                },
                                {
                                    "SZALLAS_ID": "10",
                                    "(No column name)": "12"
                                },
                                {
                                    "SZALLAS_ID": "2",
                                    "(No column name)": "7"
                                },
                                {
                                    "SZALLAS_ID": "7",
                                    "(No column name)": "23"
                                },
                                {
                                    "SZALLAS_ID": "12",
                                    "(No column name)": "18"
                                },
                                {
                                    "SZALLAS_ID": "1",
                                    "(No column name)": "1"
                                },
                                {
                                    "SZALLAS_ID": "3",
                                    "(No column name)": "8"
                                },
                                {
                                    "SZALLAS_ID": "5",
                                    "(No column name)": "32"
                                },
                                {
                                    "SZALLAS_ID": "6",
                                    "(No column name)": "136"
                                },
                                {
                                    "SZALLAS_ID": "9",
                                    "(No column name)": "23"
                                },
                                {
                                    "SZALLAS_ID": "10",
                                    "(No column name)": "47"
                                },
                                {
                                    "SZALLAS_ID": "5",
                                    "(No column name)": "9"
                                },
                                {
                                    "SZALLAS_ID": "6",
                                    "(No column name)": "113"
                                },
                                {
                                    "SZALLAS_ID": "8",
                                    "(No column name)": "155"
                                },
                                {
                                    "SZALLAS_ID": "10",
                                    "(No column name)": "70"
                                },
                                {
                                    "SZALLAS_ID": "2",
                                    "(No column name)": "1"
                                },
                                {
                                    "SZALLAS_ID": "8",
                                    "(No column name)": "27"
                                },
                                {
                                    "SZALLAS_ID": "10",
                                    "(No column name)": "16"
                                },
                                {
                                    "SZALLAS_ID": "6",
                                    "(No column name)": "67"
                                },
                                {
                                    "SZALLAS_ID": "8",
                                    "(No column name)": "103"
                                },
                                {
                                    "SZALLAS_ID": "8",
                                    "(No column name)": "4"
                                },
                                {
                                    "SZALLAS_ID": "6",
                                    "(No column name)": "50"
                                },
                                {
                                    "SZALLAS_ID": "6",
                                    "(No column name)": "144"
                                },
                                {
                                    "SZALLAS_ID": "7",
                                    "(No column name)": "4"
                                },
                                {
                                    "SZALLAS_ID": "8",
                                    "(No column name)": "26"
                                },
                                {
                                    "SZALLAS_ID": "9",
                                    "(No column name)": "2"
                                },
                                {
                                    "SZALLAS_ID": "5",
                                    "(No column name)": "1"
                                },
                                {
                                    "SZALLAS_ID": "10",
                                    "(No column name)": "87"
                                },
                                {
                                    "SZALLAS_ID": "4",
                                    "(No column name)": "8"
                                },
                                {
                                    "SZALLAS_ID": "6",
                                    "(No column name)": "61"
                                },
                                {
                                    "SZALLAS_ID": "8",
                                    "(No column name)": "72"
                                },
                                {
                                    "SZALLAS_ID": "8",
                                    "(No column name)": "109"
                                },
                                {
                                    "SZALLAS_ID": "8",
                                    "(No column name)": "10"
                                },
                                {
                                    "SZALLAS_ID": "10",
                                    "(No column name)": "24"
                                },
                                {
                                    "SZALLAS_ID": "12",
                                    "(No column name)": "41"
                                },
                                {
                                    "SZALLAS_ID": "5",
                                    "(No column name)": "38"
                                },
                                {
                                    "SZALLAS_ID": "4",
                                    "(No column name)": "48"
                                },
                                {
                                    "SZALLAS_ID": "4",
                                    "(No column name)": "54"
                                },
                                {
                                    "SZALLAS_ID": "4",
                                    "(No column name)": "11"
                                },
                                {
                                    "SZALLAS_ID": "6",
                                    "(No column name)": "107"
                                },
                                {
                                    "SZALLAS_ID": "10",
                                    "(No column name)": "76"
                                },
                                {
                                    "SZALLAS_ID": "12",
                                    "(No column name)": "81"
                                },
                                {
                                    "SZALLAS_ID": "6",
                                    "(No column name)": "4"
                                },
                                {
                                    "SZALLAS_ID": "12",
                                    "(No column name)": "12"
                                },
                                {
                                    "SZALLAS_ID": "1",
                                    "(No column name)": "7"
                                },
                                {
                                    "SZALLAS_ID": "3",
                                    "(No column name)": "2"
                                },
                                {
                                    "SZALLAS_ID": "4",
                                    "(No column name)": "2"
                                },
                                {
                                    "SZALLAS_ID": "10",
                                    "(No column name)": "30"
                                },
                                {
                                    "SZALLAS_ID": "12",
                                    "(No column name)": "35"
                                },
                                {
                                    "SZALLAS_ID": "5",
                                    "(No column name)": "41"
                                },
                                {
                                    "SZALLAS_ID": "10",
                                    "(No column name)": "56"
                                },
                                {
                                    "SZALLAS_ID": "12",
                                    "(No column name)": "95"
                                },
                                {
                                    "SZALLAS_ID": "6",
                                    "(No column name)": "150"
                                },
                                {
                                    "SZALLAS_ID": "7",
                                    "(No column name)": "12"
                                },
                                {
                                    "SZALLAS_ID": "8",
                                    "(No column name)": "20"
                                },
                                {
                                    "SZALLAS_ID": "1",
                                    "(No column name)": "4"
                                },
                                {
                                    "SZALLAS_ID": "6",
                                    "(No column name)": "10"
                                },
                                {
                                    "SZALLAS_ID": "8",
                                    "(No column name)": "46"
                                },
                                {
                                    "SZALLAS_ID": "9",
                                    "(No column name)": "6"
                                },
                                {
                                    "SZALLAS_ID": "5",
                                    "(No column name)": "6"
                                },
                                {
                                    "SZALLAS_ID": "6",
                                    "(No column name)": "29"
                                },
                                {
                                    "SZALLAS_ID": "12",
                                    "(No column name)": "21"
                                },
                                {
                                    "SZALLAS_ID": "4",
                                    "(No column name)": "5"
                                },
                                {
                                    "SZALLAS_ID": "12",
                                    "(No column name)": "44"
                                },
                                {
                                    "SZALLAS_ID": "12",
                                    "(No column name)": "1"
                                },
                                {
                                    "SZALLAS_ID": "12",
                                    "(No column name)": "144"
                                },
                                {
                                    "SZALLAS_ID": "12",
                                    "(No column name)": "24"
                                },
                                {
                                    "SZALLAS_ID": "6",
                                    "(No column name)": "3"
                                },
                                {
                                    "SZALLAS_ID": "12",
                                    "(No column name)": "72"
                                },
                                {
                                    "SZALLAS_ID": "12",
                                    "(No column name)": "121"
                                },
                                {
                                    "SZALLAS_ID": "4",
                                    "(No column name)": "22"
                                },
                                {
                                    "SZALLAS_ID": "4",
                                    "(No column name)": "34"
                                },
                                {
                                    "SZALLAS_ID": "8",
                                    "(No column name)": "3"
                                },
                                {
                                    "SZALLAS_ID": "10",
                                    "(No column name)": "50"
                                },
                                {
                                    "SZALLAS_ID": "11",
                                    "(No column name)": "17"
                                },
                                {
                                    "SZALLAS_ID": "12",
                                    "(No column name)": "101"
                                },
                                {
                                    "SZALLAS_ID": "7",
                                    "(No column name)": "6"
                                },
                                {
                                    "SZALLAS_ID": "2",
                                    "(No column name)": "5"
                                },
                                {
                                    "SZALLAS_ID": "3",
                                    "(No column name)": "4"
                                },
                                {
                                    "SZALLAS_ID": "7",
                                    "(No column name)": "20"
                                },
                                {
                                    "SZALLAS_ID": "10",
                                    "(No column name)": "1"
                                },
                                {
                                    "SZALLAS_ID": "10",
                                    "(No column name)": "13"
                                },
                                {
                                    "SZALLAS_ID": "12",
                                    "(No column name)": "52"
                                },
                                {
                                    "SZALLAS_ID": "12",
                                    "(No column name)": "64"
                                },
                                {
                                    "SZALLAS_ID": "1",
                                    "(No column name)": "18"
                                },
                                {
                                    "SZALLAS_ID": "1",
                                    "(No column name)": "30"
                                },
                                {
                                    "SZALLAS_ID": "6",
                                    "(No column name)": "73"
                                },
                                {
                                    "SZALLAS_ID": "8",
                                    "(No column name)": "146"
                                },
                                {
                                    "SZALLAS_ID": "10",
                                    "(No column name)": "15"
                                },
                                {
                                    "SZALLAS_ID": "3",
                                    "(No column name)": "22"
                                },
                                {
                                    "SZALLAS_ID": "3",
                                    "(No column name)": "28"
                                },
                                {
                                    "SZALLAS_ID": "6",
                                    "(No column name)": "124"
                                },
                                {
                                    "SZALLAS_ID": "6",
                                    "(No column name)": "130"
                                },
                                {
                                    "SZALLAS_ID": "8",
                                    "(No column name)": "95"
                                },
                                {
                                    "SZALLAS_ID": "12",
                                    "(No column name)": "9"
                                },
                                {
                                    "SZALLAS_ID": "12",
                                    "(No column name)": "15"
                                },
                                {
                                    "SZALLAS_ID": "8",
                                    "(No column name)": "40"
                                },
                                {
                                    "SZALLAS_ID": "10",
                                    "(No column name)": "7"
                                },
                                {
                                    "SZALLAS_ID": "12",
                                    "(No column name)": "58"
                                },
                                {
                                    "SZALLAS_ID": "1",
                                    "(No column name)": "24"
                                },
                                {
                                    "SZALLAS_ID": "6",
                                    "(No column name)": "30"
                                },
                                {
                                    "SZALLAS_ID": "9",
                                    "(No column name)": "12"
                                },
                                {
                                    "SZALLAS_ID": "10",
                                    "(No column name)": "9"
                                },
                                {
                                    "SZALLAS_ID": "1",
                                    "(No column name)": "38"
                                },
                                {
                                    "SZALLAS_ID": "10",
                                    "(No column name)": "44"
                                },
                                {
                                    "SZALLAS_ID": "11",
                                    "(No column name)": "11"
                                },
                                {
                                    "SZALLAS_ID": "1",
                                    "(No column name)": "4"
                                },
                                {
                                    "SZALLAS_ID": "4",
                                    "(No column name)": "5"
                                },
                                {
                                    "SZALLAS_ID": "8",
                                    "(No column name)": "1"
                                },
                                {
                                    "SZALLAS_ID": "2",
                                    "(No column name)": "4"
                                },
                                {
                                    "SZALLAS_ID": "12",
                                    "(No column name)": "15"
                                },
                                {
                                    "SZALLAS_ID": "8",
                                    "(No column name)": "47"
                                },
                                {
                                    "SZALLAS_ID": "9",
                                    "(No column name)": "5"
                                },
                                {
                                    "SZALLAS_ID": "6",
                                    "(No column name)": "47"
                                },
                                {
                                    "SZALLAS_ID": "6",
                                    "(No column name)": "23"
                                },
                                {
                                    "SZALLAS_ID": "8",
                                    "(No column name)": "6"
                                },
                                {
                                    "SZALLAS_ID": "8",
                                    "(No column name)": "83"
                                },
                                {
                                    "SZALLAS_ID": "3",
                                    "(No column name)": "11"
                                },
                                {
                                    "SZALLAS_ID": "6",
                                    "(No column name)": "64"
                                },
                                {
                                    "SZALLAS_ID": "6",
                                    "(No column name)": "70"
                                },
                                {
                                    "SZALLAS_ID": "8",
                                    "(No column name)": "106"
                                },
                                {
                                    "SZALLAS_ID": "6",
                                    "(No column name)": "93"
                                },
                                {
                                    "SZALLAS_ID": "7",
                                    "(No column name)": "26"
                                },
                                {
                                    "SZALLAS_ID": "8",
                                    "(No column name)": "52"
                                },
                                {
                                    "SZALLAS_ID": "8",
                                    "(No column name)": "129"
                                },
                                {
                                    "SZALLAS_ID": "10",
                                    "(No column name)": "90"
                                },
                                {
                                    "SZALLAS_ID": "12",
                                    "(No column name)": "21"
                                },
                                {
                                    "SZALLAS_ID": "1",
                                    "(No column name)": "61"
                                },
                                {
                                    "SZALLAS_ID": "6",
                                    "(No column name)": "116"
                                },
                                {
                                    "SZALLAS_ID": "7",
                                    "(No column name)": "3"
                                },
                                {
                                    "SZALLAS_ID": "8",
                                    "(No column name)": "29"
                                },
                                {
                                    "SZALLAS_ID": "10",
                                    "(No column name)": "67"
                                },
                                {
                                    "SZALLAS_ID": "11",
                                    "(No column name)": "3"
                                },
                                {
                                    "SZALLAS_ID": "1",
                                    "(No column name)": "44"
                                },
                                {
                                    "SZALLAS_ID": "5",
                                    "(No column name)": "35"
                                },
                                {
                                    "SZALLAS_ID": "5",
                                    "(No column name)": "3"
                                },
                                {
                                    "SZALLAS_ID": "11",
                                    "(No column name)": "5"
                                },
                                {
                                    "SZALLAS_ID": "8",
                                    "(No column name)": "7"
                                },
                                {
                                    "SZALLAS_ID": "10",
                                    "(No column name)": "27"
                                },
                                {
                                    "SZALLAS_ID": "1",
                                    "(No column name)": "7"
                                },
                                {
                                    "SZALLAS_ID": "6",
                                    "(No column name)": "1"
                                },
                                {
                                    "SZALLAS_ID": "8",
                                    "(No column name)": "123"
                                },
                                {
                                    "SZALLAS_ID": "12",
                                    "(No column name)": "138"
                                },
                                {
                                    "SZALLAS_ID": "4",
                                    "(No column name)": "45"
                                },
                                {
                                    "SZALLAS_ID": "4",
                                    "(No column name)": "8"
                                },
                                {
                                    "SZALLAS_ID": "6",
                                    "(No column name)": "147"
                                },
                                {
                                    "SZALLAS_ID": "8",
                                    "(No column name)": "60"
                                },
                                {
                                    "SZALLAS_ID": "10",
                                    "(No column name)": "36"
                                },
                                {
                                    "SZALLAS_ID": "10",
                                    "(No column name)": "73"
                                },
                                {
                                    "SZALLAS_ID": "12",
                                    "(No column name)": "78"
                                },
                                {
                                    "SZALLAS_ID": "1",
                                    "(No column name)": "53"
                                },
                                {
                                    "SZALLAS_ID": "6",
                                    "(No column name)": "53"
                                },
                                {
                                    "SZALLAS_ID": "8",
                                    "(No column name)": "12"
                                },
                                {
                                    "SZALLAS_ID": "3",
                                    "(No column name)": "5"
                                },
                                {
                                    "SZALLAS_ID": "6",
                                    "(No column name)": "101"
                                },
                                {
                                    "SZALLAS_ID": "8",
                                    "(No column name)": "112"
                                },
                                {
                                    "SZALLAS_ID": "12",
                                    "(No column name)": "38"
                                },
                                {
                                    "SZALLAS_ID": "2",
                                    "(No column name)": "10"
                                },
                                {
                                    "SZALLAS_ID": "6",
                                    "(No column name)": "7"
                                },
                                {
                                    "SZALLAS_ID": "8",
                                    "(No column name)": "18"
                                },
                                {
                                    "SZALLAS_ID": "12",
                                    "(No column name)": "9"
                                },
                                {
                                    "SZALLAS_ID": "4",
                                    "(No column name)": "51"
                                },
                                {
                                    "SZALLAS_ID": "6",
                                    "(No column name)": "104"
                                },
                                {
                                    "SZALLAS_ID": "12",
                                    "(No column name)": "84"
                                },
                                {
                                    "SZALLAS_ID": "3",
                                    "(No column name)": "19"
                                },
                                {
                                    "SZALLAS_ID": "5",
                                    "(No column name)": "9"
                                },
                                {
                                    "SZALLAS_ID": "6",
                                    "(No column name)": "127"
                                },
                                {
                                    "SZALLAS_ID": "8",
                                    "(No column name)": "92"
                                },
                                {
                                    "SZALLAS_ID": "1",
                                    "(No column name)": "27"
                                },
                                {
                                    "SZALLAS_ID": "9",
                                    "(No column name)": "9"
                                },
                                {
                                    "SZALLAS_ID": "12",
                                    "(No column name)": "118"
                                },
                                {
                                    "SZALLAS_ID": "10",
                                    "(No column name)": "10"
                                },
                                {
                                    "SZALLAS_ID": "12",
                                    "(No column name)": "141"
                                },
                                {
                                    "SZALLAS_ID": "8",
                                    "(No column name)": "23"
                                },
                                {
                                    "SZALLAS_ID": "12",
                                    "(No column name)": "92"
                                },
                                {
                                    "SZALLAS_ID": "2",
                                    "(No column name)": "2"
                                },
                                {
                                    "SZALLAS_ID": "12",
                                    "(No column name)": "147"
                                },
                                {
                                    "SZALLAS_ID": "4",
                                    "(No column name)": "2"
                                },
                                {
                                    "SZALLAS_ID": "3",
                                    "(No column name)": "25"
                                },
                                {
                                    "SZALLAS_ID": "6",
                                    "(No column name)": "26"
                                },
                                {
                                    "SZALLAS_ID": "8",
                                    "(No column name)": "86"
                                },
                                {
                                    "SZALLAS_ID": "1",
                                    "(No column name)": "21"
                                },
                                {
                                    "SZALLAS_ID": "6",
                                    "(No column name)": "27"
                                },
                                {
                                    "SZALLAS_ID": "8",
                                    "(No column name)": "44"
                                },
                                {
                                    "SZALLAS_ID": "9",
                                    "(No column name)": "3"
                                },
                                {
                                    "SZALLAS_ID": "9",
                                    "(No column name)": "15"
                                },
                                {
                                    "SZALLAS_ID": "10",
                                    "(No column name)": "6"
                                },
                                {
                                    "SZALLAS_ID": "10",
                                    "(No column name)": "18"
                                },
                                {
                                    "SZALLAS_ID": "3",
                                    "(No column name)": "1"
                                },
                                {
                                    "SZALLAS_ID": "6",
                                    "(No column name)": "84"
                                },
                                {
                                    "SZALLAS_ID": "8",
                                    "(No column name)": "49"
                                },
                                {
                                    "SZALLAS_ID": "8",
                                    "(No column name)": "135"
                                },
                                {
                                    "SZALLAS_ID": "10",
                                    "(No column name)": "96"
                                },
                                {
                                    "SZALLAS_ID": "5",
                                    "(No column name)": "12"
                                },
                                {
                                    "SZALLAS_ID": "5",
                                    "(No column name)": "24"
                                },
                                {
                                    "SZALLAS_ID": "7",
                                    "(No column name)": "9"
                                },
                                {
                                    "SZALLAS_ID": "4",
                                    "(No column name)": "25"
                                },
                                {
                                    "SZALLAS_ID": "4",
                                    "(No column name)": "31"
                                },
                                {
                                    "SZALLAS_ID": "11",
                                    "(No column name)": "14"
                                },
                                {
                                    "SZALLAS_ID": "8",
                                    "(No column name)": "43"
                                },
                                {
                                    "SZALLAS_ID": "10",
                                    "(No column name)": "4"
                                },
                                {
                                    "SZALLAS_ID": "12",
                                    "(No column name)": "61"
                                },
                                {
                                    "SZALLAS_ID": "5",
                                    "(No column name)": "18"
                                },
                                {
                                    "SZALLAS_ID": "6",
                                    "(No column name)": "115"
                                },
                                {
                                    "SZALLAS_ID": "8",
                                    "(No column name)": "2"
                                },
                                {
                                    "SZALLAS_ID": "6",
                                    "(No column name)": "138"
                                },
                                {
                                    "SZALLAS_ID": "7",
                                    "(No column name)": "25"
                                },
                                {
                                    "SZALLAS_ID": "8",
                                    "(No column name)": "57"
                                },
                                {
                                    "SZALLAS_ID": "8",
                                    "(No column name)": "25"
                                },
                                {
                                    "SZALLAS_ID": "11",
                                    "(No column name)": "10"
                                },
                                {
                                    "SZALLAS_ID": "8",
                                    "(No column name)": "34"
                                },
                                {
                                    "SZALLAS_ID": "12",
                                    "(No column name)": "129"
                                },
                                {
                                    "SZALLAS_ID": "3",
                                    "(No column name)": "33"
                                },
                                {
                                    "SZALLAS_ID": "12",
                                    "(No column name)": "152"
                                },
                                {
                                    "SZALLAS_ID": "12",
                                    "(No column name)": "16"
                                },
                                {
                                    "SZALLAS_ID": "1",
                                    "(No column name)": "35"
                                },
                                {
                                    "SZALLAS_ID": "3",
                                    "(No column name)": "10"
                                },
                                {
                                    "SZALLAS_ID": "5",
                                    "(No column name)": "26"
                                },
                                {
                                    "SZALLAS_ID": "2",
                                    "(No column name)": "3"
                                },
                                {
                                    "SZALLAS_ID": "5",
                                    "(No column name)": "3"
                                },
                                {
                                    "SZALLAS_ID": "6",
                                    "(No column name)": "46"
                                },
                                {
                                    "SZALLAS_ID": "6",
                                    "(No column name)": "24"
                                },
                                {
                                    "SZALLAS_ID": "10",
                                    "(No column name)": "95"
                                },
                                {
                                    "SZALLAS_ID": "6",
                                    "(No column name)": "69"
                                },
                                {
                                    "SZALLAS_ID": "6",
                                    "(No column name)": "1"
                                },
                                {
                                    "SZALLAS_ID": "1",
                                    "(No column name)": "12"
                                },
                                {
                                    "SZALLAS_ID": "8",
                                    "(No column name)": "5"
                                },
                                {
                                    "SZALLAS_ID": "8",
                                    "(No column name)": "128"
                                },
                                {
                                    "SZALLAS_ID": "10",
                                    "(No column name)": "18"
                                },
                                {
                                    "SZALLAS_ID": "4",
                                    "(No column name)": "10"
                                },
                                {
                                    "SZALLAS_ID": "4",
                                    "(No column name)": "9"
                                },
                                {
                                    "SZALLAS_ID": "8",
                                    "(No column name)": "74"
                                },
                                {
                                    "SZALLAS_ID": "8",
                                    "(No column name)": "157"
                                },
                                {
                                    "SZALLAS_ID": "12",
                                    "(No column name)": "77"
                                },
                                {
                                    "SZALLAS_ID": "5",
                                    "(No column name)": "4"
                                },
                                {
                                    "SZALLAS_ID": "6",
                                    "(No column name)": "15"
                                },
                                {
                                    "SZALLAS_ID": "8",
                                    "(No column name)": "19"
                                },
                                {
                                    "SZALLAS_ID": "4",
                                    "(No column name)": "56"
                                },
                                {
                                    "SZALLAS_ID": "7",
                                    "(No column name)": "2"
                                },
                                {
                                    "SZALLAS_ID": "12",
                                    "(No column name)": "43"
                                },
                                {
                                    "SZALLAS_ID": "1",
                                    "(No column name)": "6"
                                },
                                {
                                    "SZALLAS_ID": "6",
                                    "(No column name)": "98"
                                },
                                {
                                    "SZALLAS_ID": "3",
                                    "(No column name)": "4"
                                },
                                {
                                    "SZALLAS_ID": "8",
                                    "(No column name)": "65"
                                },
                                {
                                    "SZALLAS_ID": "10",
                                    "(No column name)": "35"
                                },
                                {
                                    "SZALLAS_ID": "1",
                                    "(No column name)": "52"
                                },
                                {
                                    "SZALLAS_ID": "2",
                                    "(No column name)": "9"
                                },
                                {
                                    "SZALLAS_ID": "6",
                                    "(No column name)": "52"
                                },
                                {
                                    "SZALLAS_ID": "1",
                                    "(No column name)": "5"
                                },
                                {
                                    "SZALLAS_ID": "4",
                                    "(No column name)": "50"
                                },
                                {
                                    "SZALLAS_ID": "10",
                                    "(No column name)": "81"
                                },
                                {
                                    "SZALLAS_ID": "12",
                                    "(No column name)": "37"
                                },
                                {
                                    "SZALLAS_ID": "1",
                                    "(No column name)": "49"
                                },
                                {
                                    "SZALLAS_ID": "5",
                                    "(No column name)": "43"
                                },
                                {
                                    "SZALLAS_ID": "6",
                                    "(No column name)": "6"
                                },
                                {
                                    "SZALLAS_ID": "8",
                                    "(No column name)": "17"
                                },
                                {
                                    "SZALLAS_ID": "12",
                                    "(No column name)": "10"
                                },
                                {
                                    "SZALLAS_ID": "1",
                                    "(No column name)": "26"
                                },
                                {
                                    "SZALLAS_ID": "4",
                                    "(No column name)": "3"
                                },
                                {
                                    "SZALLAS_ID": "5",
                                    "(No column name)": "17"
                                },
                                {
                                    "SZALLAS_ID": "9",
                                    "(No column name)": "8"
                                },
                                {
                                    "SZALLAS_ID": "10",
                                    "(No column name)": "32"
                                },
                                {
                                    "SZALLAS_ID": "10",
                                    "(No column name)": "9"
                                },
                                {
                                    "SZALLAS_ID": "6",
                                    "(No column name)": "7"
                                },
                                {
                                    "SZALLAS_ID": "10",
                                    "(No column name)": "1"
                                },
                                {
                                    "SZALLAS_ID": "12",
                                    "(No column name)": "140"
                                },
                                {
                                    "SZALLAS_ID": "3",
                                    "(No column name)": "16"
                                },
                                {
                                    "SZALLAS_ID": "4",
                                    "(No column name)": "36"
                                },
                                {
                                    "SZALLAS_ID": "12",
                                    "(No column name)": "46"
                                },
                                {
                                    "SZALLAS_ID": "12",
                                    "(No column name)": "123"
                                },
                                {
                                    "SZALLAS_ID": "6",
                                    "(No column name)": "27"
                                },
                                {
                                    "SZALLAS_ID": "12",
                                    "(No column name)": "97"
                                },
                                {
                                    "SZALLAS_ID": "12",
                                    "(No column name)": "146"
                                },
                                {
                                    "SZALLAS_ID": "1",
                                    "(No column name)": "32"
                                },
                                {
                                    "SZALLAS_ID": "6",
                                    "(No column name)": "26"
                                },
                                {
                                    "SZALLAS_ID": "9",
                                    "(No column name)": "14"
                                },
                                {
                                    "SZALLAS_ID": "2",
                                    "(No column name)": "3"
                                },
                                {
                                    "SZALLAS_ID": "3",
                                    "(No column name)": "24"
                                },
                                {
                                    "SZALLAS_ID": "6",
                                    "(No column name)": "132"
                                },
                                {
                                    "SZALLAS_ID": "10",
                                    "(No column name)": "15"
                                },
                                {
                                    "SZALLAS_ID": "7",
                                    "(No column name)": "8"
                                },
                                {
                                    "SZALLAS_ID": "8",
                                    "(No column name)": "45"
                                },
                                {
                                    "SZALLAS_ID": "3",
                                    "(No column name)": "2"
                                },
                                {
                                    "SZALLAS_ID": "8",
                                    "(No column name)": "48"
                                },
                                {
                                    "SZALLAS_ID": "8",
                                    "(No column name)": "134"
                                },
                                {
                                    "SZALLAS_ID": "12",
                                    "(No column name)": "17"
                                },
                                {
                                    "SZALLAS_ID": "12",
                                    "(No column name)": "103"
                                },
                                {
                                    "SZALLAS_ID": "4",
                                    "(No column name)": "30"
                                },
                                {
                                    "SZALLAS_ID": "10",
                                    "(No column name)": "52"
                                },
                                {
                                    "SZALLAS_ID": "10",
                                    "(No column name)": "58"
                                },
                                {
                                    "SZALLAS_ID": "10",
                                    "(No column name)": "101"
                                },
                                {
                                    "SZALLAS_ID": "6",
                                    "(No column name)": "15"
                                },
                                {
                                    "SZALLAS_ID": "8",
                                    "(No column name)": "91"
                                },
                                {
                                    "SZALLAS_ID": "8",
                                    "(No column name)": "140"
                                },
                                {
                                    "SZALLAS_ID": "11",
                                    "(No column name)": "19"
                                },
                                {
                                    "SZALLAS_ID": "12",
                                    "(No column name)": "109"
                                },
                                {
                                    "SZALLAS_ID": "3",
                                    "(No column name)": "7"
                                },
                                {
                                    "SZALLAS_ID": "5",
                                    "(No column name)": "29"
                                },
                                {
                                    "SZALLAS_ID": "9",
                                    "(No column name)": "20"
                                },
                                {
                                    "SZALLAS_ID": "1",
                                    "(No column name)": "15"
                                },
                                {
                                    "SZALLAS_ID": "3",
                                    "(No column name)": "30"
                                },
                                {
                                    "SZALLAS_ID": "8",
                                    "(No column name)": "8"
                                },
                                {
                                    "SZALLAS_ID": "10",
                                    "(No column name)": "21"
                                },
                                {
                                    "SZALLAS_ID": "1",
                                    "(No column name)": "2"
                                },
                                {
                                    "SZALLAS_ID": "2",
                                    "(No column name)": "6"
                                },
                                {
                                    "SZALLAS_ID": "6",
                                    "(No column name)": "21"
                                },
                                {
                                    "SZALLAS_ID": "11",
                                    "(No column name)": "13"
                                },
                                {
                                    "SZALLAS_ID": "6",
                                    "(No column name)": "112"
                                },
                                {
                                    "SZALLAS_ID": "6",
                                    "(No column name)": "118"
                                },
                                {
                                    "SZALLAS_ID": "8",
                                    "(No column name)": "77"
                                },
                                {
                                    "SZALLAS_ID": "8",
                                    "(No column name)": "148"
                                },
                                {
                                    "SZALLAS_ID": "8",
                                    "(No column name)": "154"
                                },
                                {
                                    "SZALLAS_ID": "8",
                                    "(No column name)": "5"
                                },
                                {
                                    "SZALLAS_ID": "6",
                                    "(No column name)": "95"
                                },
                                {
                                    "SZALLAS_ID": "8",
                                    "(No column name)": "100"
                                },
                                {
                                    "SZALLAS_ID": "8",
                                    "(No column name)": "131"
                                },
                                {
                                    "SZALLAS_ID": "6",
                                    "(No column name)": "66"
                                },
                                {
                                    "SZALLAS_ID": "7",
                                    "(No column name)": "5"
                                },
                                {
                                    "SZALLAS_ID": "10",
                                    "(No column name)": "69"
                                },
                                {
                                    "SZALLAS_ID": "11",
                                    "(No column name)": "1"
                                },
                                {
                                    "SZALLAS_ID": "5",
                                    "(No column name)": "6"
                                },
                                {
                                    "SZALLAS_ID": "6",
                                    "(No column name)": "141"
                                },
                                {
                                    "SZALLAS_ID": "7",
                                    "(No column name)": "28"
                                },
                                {
                                    "SZALLAS_ID": "8",
                                    "(No column name)": "54"
                                },
                                {
                                    "SZALLAS_ID": "10",
                                    "(No column name)": "92"
                                },
                                {
                                    "SZALLAS_ID": "3",
                                    "(No column name)": "13"
                                },
                                {
                                    "SZALLAS_ID": "10",
                                    "(No column name)": "38"
                                },
                                {
                                    "SZALLAS_ID": "1",
                                    "(No column name)": "9"
                                },
                                {
                                    "SZALLAS_ID": "6",
                                    "(No column name)": "3"
                                },
                                {
                                    "SZALLAS_ID": "8",
                                    "(No column name)": "14"
                                },
                                {
                                    "SZALLAS_ID": "4",
                                    "(No column name)": "47"
                                },
                                {
                                    "SZALLAS_ID": "4",
                                    "(No column name)": "59"
                                },
                                {
                                    "SZALLAS_ID": "8",
                                    "(No column name)": "25"
                                },
                                {
                                    "SZALLAS_ID": "8",
                                    "(No column name)": "108"
                                },
                                {
                                    "SZALLAS_ID": "9",
                                    "(No column name)": "3"
                                },
                                {
                                    "SZALLAS_ID": "10",
                                    "(No column name)": "75"
                                },
                                {
                                    "SZALLAS_ID": "12",
                                    "(No column name)": "40"
                                },
                                {
                                    "SZALLAS_ID": "1",
                                    "(No column name)": "55"
                                },
                                {
                                    "SZALLAS_ID": "5",
                                    "(No column name)": "37"
                                },
                                {
                                    "SZALLAS_ID": "5",
                                    "(No column name)": "1"
                                },
                                {
                                    "SZALLAS_ID": "6",
                                    "(No column name)": "49"
                                },
                                {
                                    "SZALLAS_ID": "8",
                                    "(No column name)": "22"
                                },
                                {
                                    "SZALLAS_ID": "4",
                                    "(No column name)": "7"
                                },
                                {
                                    "SZALLAS_ID": "6",
                                    "(No column name)": "106"
                                },
                                {
                                    "SZALLAS_ID": "8",
                                    "(No column name)": "71"
                                },
                                {
                                    "SZALLAS_ID": "10",
                                    "(No column name)": "29"
                                },
                                {
                                    "SZALLAS_ID": "12",
                                    "(No column name)": "80"
                                },
                                {
                                    "SZALLAS_ID": "12",
                                    "(No column name)": "86"
                                },
                                {
                                    "SZALLAS_ID": "1",
                                    "(No column name)": "46"
                                },
                                {
                                    "SZALLAS_ID": "6",
                                    "(No column name)": "58"
                                },
                                {
                                    "SZALLAS_ID": "12",
                                    "(No column name)": "7"
                                },
                                {
                                    "SZALLAS_ID": "12",
                                    "(No column name)": "13"
                                },
                                {
                                    "SZALLAS_ID": "4",
                                    "(No column name)": "53"
                                },
                                {
                                    "SZALLAS_ID": "7",
                                    "(No column name)": "5"
                                },
                                {
                                    "SZALLAS_ID": "8",
                                    "(No column name)": "114"
                                },
                                {
                                    "SZALLAS_ID": "8",
                                    "(No column name)": "117"
                                },
                                {
                                    "SZALLAS_ID": "12",
                                    "(No column name)": "132"
                                },
                                {
                                    "SZALLAS_ID": "2",
                                    "(No column name)": "12"
                                },
                                {
                                    "SZALLAS_ID": "8",
                                    "(No column name)": "16"
                                },
                                {
                                    "SZALLAS_ID": "8",
                                    "(No column name)": "68"
                                },
                                {
                                    "SZALLAS_ID": "1",
                                    "(No column name)": "3"
                                },
                                {
                                    "SZALLAS_ID": "6",
                                    "(No column name)": "9"
                                },
                                {
                                    "SZALLAS_ID": "11",
                                    "(No column name)": "22"
                                },
                                {
                                    "SZALLAS_ID": "12",
                                    "(No column name)": "143"
                                },
                                {
                                    "SZALLAS_ID": "6",
                                    "(No column name)": "149"
                                },
                                {
                                    "SZALLAS_ID": "7",
                                    "(No column name)": "11"
                                },
                                {
                                    "SZALLAS_ID": "8",
                                    "(No column name)": "36"
                                },
                                {
                                    "SZALLAS_ID": "12",
                                    "(No column name)": "27"
                                },
                                {
                                    "SZALLAS_ID": "12",
                                    "(No column name)": "4"
                                },
                                {
                                    "SZALLAS_ID": "4",
                                    "(No column name)": "13"
                                },
                                {
                                    "SZALLAS_ID": "4",
                                    "(No column name)": "19"
                                },
                                {
                                    "SZALLAS_ID": "4",
                                    "(No column name)": "6"
                                },
                                {
                                    "SZALLAS_ID": "11",
                                    "(No column name)": "2"
                                },
                                {
                                    "SZALLAS_ID": "12",
                                    "(No column name)": "20"
                                },
                                {
                                    "SZALLAS_ID": "6",
                                    "(No column name)": "4"
                                },
                                {
                                    "SZALLAS_ID": "12",
                                    "(No column name)": "120"
                                },
                                {
                                    "SZALLAS_ID": "4",
                                    "(No column name)": "39"
                                },
                                {
                                    "SZALLAS_ID": "6",
                                    "(No column name)": "121"
                                },
                                {
                                    "SZALLAS_ID": "12",
                                    "(No column name)": "6"
                                },
                                {
                                    "SZALLAS_ID": "8",
                                    "(No column name)": "2"
                                },
                                {
                                    "SZALLAS_ID": "8",
                                    "(No column name)": "51"
                                },
                                {
                                    "SZALLAS_ID": "11",
                                    "(No column name)": "16"
                                },
                                {
                                    "SZALLAS_ID": "12",
                                    "(No column name)": "100"
                                },
                                {
                                    "SZALLAS_ID": "12",
                                    "(No column name)": "112"
                                },
                                {
                                    "SZALLAS_ID": "12",
                                    "(No column name)": "149"
                                },
                                {
                                    "SZALLAS_ID": "6",
                                    "(No column name)": "72"
                                },
                                {
                                    "SZALLAS_ID": "10",
                                    "(No column name)": "4"
                                },
                                {
                                    "SZALLAS_ID": "4",
                                    "(No column name)": "33"
                                },
                                {
                                    "SZALLAS_ID": "6",
                                    "(No column name)": "86"
                                },
                                {
                                    "SZALLAS_ID": "6",
                                    "(No column name)": "135"
                                },
                                {
                                    "SZALLAS_ID": "10",
                                    "(No column name)": "12"
                                },
                                {
                                    "SZALLAS_ID": "10",
                                    "(No column name)": "49"
                                },
                                {
                                    "SZALLAS_ID": "10",
                                    "(No column name)": "61"
                                },
                                {
                                    "SZALLAS_ID": "10",
                                    "(No column name)": "98"
                                },
                                {
                                    "SZALLAS_ID": "5",
                                    "(No column name)": "14"
                                },
                                {
                                    "SZALLAS_ID": "5",
                                    "(No column name)": "20"
                                },
                                {
                                    "SZALLAS_ID": "6",
                                    "(No column name)": "29"
                                },
                                {
                                    "SZALLAS_ID": "6",
                                    "(No column name)": "35"
                                },
                                {
                                    "SZALLAS_ID": "9",
                                    "(No column name)": "11"
                                },
                                {
                                    "SZALLAS_ID": "9",
                                    "(No column name)": "17"
                                },
                                {
                                    "SZALLAS_ID": "6",
                                    "(No column name)": "18"
                                },
                                {
                                    "SZALLAS_ID": "8",
                                    "(No column name)": "88"
                                },
                                {
                                    "SZALLAS_ID": "8",
                                    "(No column name)": "94"
                                },
                                {
                                    "SZALLAS_ID": "12",
                                    "(No column name)": "57"
                                },
                                {
                                    "SZALLAS_ID": "12",
                                    "(No column name)": "63"
                                },
                                {
                                    "SZALLAS_ID": "6",
                                    "(No column name)": "78"
                                },
                                {
                                    "SZALLAS_ID": "7",
                                    "(No column name)": "17"
                                },
                                {
                                    "SZALLAS_ID": "8",
                                    "(No column name)": "42"
                                },
                                {
                                    "SZALLAS_ID": "10",
                                    "(No column name)": "10"
                                },
                                {
                                    "SZALLAS_ID": "3",
                                    "(No column name)": "27"
                                },
                                {
                                    "SZALLAS_ID": "4",
                                    "(No column name)": "27"
                                },
                                {
                                    "SZALLAS_ID": "6",
                                    "(No column name)": "129"
                                },
                                {
                                    "SZALLAS_ID": "10",
                                    "(No column name)": "55"
                                },
                                {
                                    "SZALLAS_ID": "4",
                                    "(No column name)": "52"
                                },
                                {
                                    "SZALLAS_ID": "12",
                                    "(No column name)": "131"
                                },
                                {
                                    "SZALLAS_ID": "1",
                                    "(No column name)": "3"
                                },
                                {
                                    "SZALLAS_ID": "4",
                                    "(No column name)": "4"
                                },
                                {
                                    "SZALLAS_ID": "8",
                                    "(No column name)": "105"
                                },
                                {
                                    "SZALLAS_ID": "10",
                                    "(No column name)": "20"
                                },
                                {
                                    "SZALLAS_ID": "6",
                                    "(No column name)": "22"
                                },
                                {
                                    "SZALLAS_ID": "9",
                                    "(No column name)": "19"
                                },
                                {
                                    "SZALLAS_ID": "8",
                                    "(No column name)": "30"
                                },
                                {
                                    "SZALLAS_ID": "10",
                                    "(No column name)": "89"
                                },
                                {
                                    "SZALLAS_ID": "3",
                                    "(No column name)": "35"
                                },
                                {
                                    "SZALLAS_ID": "6",
                                    "(No column name)": "94"
                                },
                                {
                                    "SZALLAS_ID": "1",
                                    "(No column name)": "37"
                                },
                                {
                                    "SZALLAS_ID": "3",
                                    "(No column name)": "12"
                                },
                                {
                                    "SZALLAS_ID": "5",
                                    "(No column name)": "28"
                                },
                                {
                                    "SZALLAS_ID": "6",
                                    "(No column name)": "40"
                                },
                                {
                                    "SZALLAS_ID": "8",
                                    "(No column name)": "76"
                                },
                                {
                                    "SZALLAS_ID": "8",
                                    "(No column name)": "153"
                                },
                                {
                                    "SZALLAS_ID": "10",
                                    "(No column name)": "43"
                                },
                                {
                                    "SZALLAS_ID": "1",
                                    "(No column name)": "60"
                                },
                                {
                                    "SZALLAS_ID": "5",
                                    "(No column name)": "5"
                                },
                                {
                                    "SZALLAS_ID": "6",
                                    "(No column name)": "17"
                                },
                                {
                                    "SZALLAS_ID": "6",
                                    "(No column name)": "140"
                                },
                                {
                                    "SZALLAS_ID": "7",
                                    "(No column name)": "2"
                                },
                                {
                                    "SZALLAS_ID": "8",
                                    "(No column name)": "53"
                                },
                                {
                                    "SZALLAS_ID": "10",
                                    "(No column name)": "66"
                                },
                                {
                                    "SZALLAS_ID": "11",
                                    "(No column name)": "2"
                                },
                                {
                                    "SZALLAS_ID": "12",
                                    "(No column name)": "22"
                                },
                                {
                                    "SZALLAS_ID": "4",
                                    "(No column name)": "58"
                                },
                                {
                                    "SZALLAS_ID": "8",
                                    "(No column name)": "122"
                                },
                                {
                                    "SZALLAS_ID": "8",
                                    "(No column name)": "8"
                                },
                                {
                                    "SZALLAS_ID": "10",
                                    "(No column name)": "74"
                                },
                                {
                                    "SZALLAS_ID": "12",
                                    "(No column name)": "125"
                                },
                                {
                                    "SZALLAS_ID": "12",
                                    "(No column name)": "137"
                                },
                                {
                                    "SZALLAS_ID": "1",
                                    "(No column name)": "8"
                                },
                                {
                                    "SZALLAS_ID": "6",
                                    "(No column name)": "63"
                                },
                                {
                                    "SZALLAS_ID": "10",
                                    "(No column name)": "26"
                                },
                                {
                                    "SZALLAS_ID": "1",
                                    "(No column name)": "43"
                                },
                                {
                                    "SZALLAS_ID": "5",
                                    "(No column name)": "34"
                                },
                                {
                                    "SZALLAS_ID": "6",
                                    "(No column name)": "111"
                                },
                                {
                                    "SZALLAS_ID": "10",
                                    "(No column name)": "37"
                                },
                                {
                                    "SZALLAS_ID": "12",
                                    "(No column name)": "91"
                                },
                                {
                                    "SZALLAS_ID": "1",
                                    "(No column name)": "54"
                                },
                                {
                                    "SZALLAS_ID": "4",
                                    "(No column name)": "44"
                                },
                                {
                                    "SZALLAS_ID": "6",
                                    "(No column name)": "146"
                                },
                                {
                                    "SZALLAS_ID": "9",
                                    "(No column name)": "4"
                                },
                                {
                                    "SZALLAS_ID": "8",
                                    "(No column name)": "17"
                                },
                                {
                                    "SZALLAS_ID": "10",
                                    "(No column name)": "83"
                                },
                                {
                                    "SZALLAS_ID": "12",
                                    "(No column name)": "8"
                                },
                                {
                                    "SZALLAS_ID": "12",
                                    "(No column name)": "14"
                                },
                                {
                                    "SZALLAS_ID": "6",
                                    "(No column name)": "100"
                                },
                                {
                                    "SZALLAS_ID": "8",
                                    "(No column name)": "13"
                                },
                                {
                                    "SZALLAS_ID": "8",
                                    "(No column name)": "19"
                                },
                                {
                                    "SZALLAS_ID": "12",
                                    "(No column name)": "85"
                                },
                                {
                                    "SZALLAS_ID": "2",
                                    "(No column name)": "11"
                                },
                                {
                                    "SZALLAS_ID": "6",
                                    "(No column name)": "54"
                                },
                                {
                                    "SZALLAS_ID": "7",
                                    "(No column name)": "6"
                                },
                                {
                                    "SZALLAS_ID": "8",
                                    "(No column name)": "14"
                                },
                                {
                                    "SZALLAS_ID": "12",
                                    "(No column name)": "48"
                                },
                                {
                                    "SZALLAS_ID": "12",
                                    "(No column name)": "5"
                                },
                                {
                                    "SZALLAS_ID": "1",
                                    "(No column name)": "51"
                                },
                                {
                                    "SZALLAS_ID": "5",
                                    "(No column name)": "10"
                                },
                                {
                                    "SZALLAS_ID": "6",
                                    "(No column name)": "8"
                                },
                                {
                                    "SZALLAS_ID": "8",
                                    "(No column name)": "93"
                                },
                                {
                                    "SZALLAS_ID": "12",
                                    "(No column name)": "25"
                                },
                                {
                                    "SZALLAS_ID": "1",
                                    "(No column name)": "28"
                                },
                                {
                                    "SZALLAS_ID": "3",
                                    "(No column name)": "18"
                                },
                                {
                                    "SZALLAS_ID": "4",
                                    "(No column name)": "18"
                                },
                                {
                                    "SZALLAS_ID": "10",
                                    "(No column name)": "34"
                                },
                                {
                                    "SZALLAS_ID": "11",
                                    "(No column name)": "1"
                                },
                                {
                                    "SZALLAS_ID": "8",
                                    "(No column name)": "22"
                                },
                                {
                                    "SZALLAS_ID": "4",
                                    "(No column name)": "61"
                                },
                                {
                                    "SZALLAS_ID": "12",
                                    "(No column name)": "74"
                                },
                                {
                                    "SZALLAS_ID": "12",
                                    "(No column name)": "117"
                                },
                                {
                                    "SZALLAS_ID": "10",
                                    "(No column name)": "19"
                                },
                                {
                                    "SZALLAS_ID": "4",
                                    "(No column name)": "38"
                                },
                                {
                                    "SZALLAS_ID": "4",
                                    "(No column name)": "1"
                                },
                                {
                                    "SZALLAS_ID": "10",
                                    "(No column name)": "3"
                                },
                                {
                                    "SZALLAS_ID": "12",
                                    "(No column name)": "54"
                                },
                                {
                                    "SZALLAS_ID": "1",
                                    "(No column name)": "20"
                                },
                                {
                                    "SZALLAS_ID": "8",
                                    "(No column name)": "50"
                                },
                                {
                                    "SZALLAS_ID": "8",
                                    "(No column name)": "99"
                                },
                                {
                                    "SZALLAS_ID": "8",
                                    "(No column name)": "31"
                                },
                                {
                                    "SZALLAS_ID": "9",
                                    "(No column name)": "2"
                                },
                                {
                                    "SZALLAS_ID": "10",
                                    "(No column name)": "5"
                                },
                                {
                                    "SZALLAS_ID": "12",
                                    "(No column name)": "148"
                                },
                                {
                                    "SZALLAS_ID": "5",
                                    "(No column name)": "25"
                                },
                                {
                                    "SZALLAS_ID": "6",
                                    "(No column name)": "120"
                                },
                                {
                                    "SZALLAS_ID": "8",
                                    "(No column name)": "85"
                                },
                                {
                                    "SZALLAS_ID": "9",
                                    "(No column name)": "16"
                                },
                                {
                                    "SZALLAS_ID": "12",
                                    "(No column name)": "5"
                                },
                                {
                                    "SZALLAS_ID": "4",
                                    "(No column name)": "32"
                                },
                                {
                                    "SZALLAS_ID": "5",
                                    "(No column name)": "11"
                                },
                                {
                                    "SZALLAS_ID": "6",
                                    "(No column name)": "134"
                                },
                                {
                                    "SZALLAS_ID": "10",
                                    "(No column name)": "60"
                                },
                                {
                                    "SZALLAS_ID": "10",
                                    "(No column name)": "97"
                                },
                                {
                                    "SZALLAS_ID": "6",
                                    "(No column name)": "77"
                                },
                                {
                                    "SZALLAS_ID": "6",
                                    "(No column name)": "83"
                                },
                                {
                                    "SZALLAS_ID": "7",
                                    "(No column name)": "10"
                                },
                                {
                                    "SZALLAS_ID": "7",
                                    "(No column name)": "16"
                                },
                                {
                                    "SZALLAS_ID": "8",
                                    "(No column name)": "36"
                                },
                                {
                                    "SZALLAS_ID": "8",
                                    "(No column name)": "42"
                                },
                                {
                                    "SZALLAS_ID": "8",
                                    "(No column name)": "136"
                                },
                                {
                                    "SZALLAS_ID": "8",
                                    "(No column name)": "142"
                                },
                                {
                                    "SZALLAS_ID": "11",
                                    "(No column name)": "15"
                                },
                                {
                                    "SZALLAS_ID": "11",
                                    "(No column name)": "21"
                                },
                                {
                                    "SZALLAS_ID": "4",
                                    "(No column name)": "24"
                                },
                                {
                                    "SZALLAS_ID": "6",
                                    "(No column name)": "126"
                                },
                                {
                                    "SZALLAS_ID": "12",
                                    "(No column name)": "11"
                                },
                                {
                                    "SZALLAS_ID": "10",
                                    "(No column name)": "54"
                                },
                                {
                                    "SZALLAS_ID": "10",
                                    "(No column name)": "103"
                                },
                                {
                                    "SZALLAS_ID": "1",
                                    "(No column name)": "63"
                                },
                                {
                                    "SZALLAS_ID": "6",
                                    "(No column name)": "20"
                                },
                                {
                                    "SZALLAS_ID": "8",
                                    "(No column name)": "56"
                                },
                                {
                                    "SZALLAS_ID": "1",
                                    "(No column name)": "40"
                                },
                                {
                                    "SZALLAS_ID": "6",
                                    "(No column name)": "19"
                                },
                                {
                                    "SZALLAS_ID": "1",
                                    "(No column name)": "17"
                                },
                                {
                                    "SZALLAS_ID": "3",
                                    "(No column name)": "32"
                                },
                                {
                                    "SZALLAS_ID": "8",
                                    "(No column name)": "10"
                                },
                                {
                                    "SZALLAS_ID": "10",
                                    "(No column name)": "23"
                                },
                                {
                                    "SZALLAS_ID": "8",
                                    "(No column name)": "125"
                                },
                                {
                                    "SZALLAS_ID": "5",
                                    "(No column name)": "8"
                                },
                                {
                                    "SZALLAS_ID": "6",
                                    "(No column name)": "137"
                                },
                                {
                                    "SZALLAS_ID": "6",
                                    "(No column name)": "143"
                                },
                                {
                                    "SZALLAS_ID": "1",
                                    "(No column name)": "34"
                                },
                                {
                                    "SZALLAS_ID": "6",
                                    "(No column name)": "43"
                                },
                                {
                                    "SZALLAS_ID": "6",
                                    "(No column name)": "114"
                                },
                                {
                                    "SZALLAS_ID": "8",
                                    "(No column name)": "79"
                                },
                                {
                                    "SZALLAS_ID": "10",
                                    "(No column name)": "40"
                                },
                                {
                                    "SZALLAS_ID": "11",
                                    "(No column name)": "7"
                                },
                                {
                                    "SZALLAS_ID": "1",
                                    "(No column name)": "11"
                                },
                                {
                                    "SZALLAS_ID": "6",
                                    "(No column name)": "91"
                                },
                                {
                                    "SZALLAS_ID": "6",
                                    "(No column name)": "2"
                                },
                                {
                                    "SZALLAS_ID": "8",
                                    "(No column name)": "28"
                                },
                                {
                                    "SZALLAS_ID": "10",
                                    "(No column name)": "17"
                                },
                                {
                                    "SZALLAS_ID": "1",
                                    "(No column name)": "57"
                                },
                                {
                                    "SZALLAS_ID": "6",
                                    "(No column name)": "14"
                                },
                                {
                                    "SZALLAS_ID": "6",
                                    "(No column name)": "51"
                                },
                                {
                                    "SZALLAS_ID": "7",
                                    "(No column name)": "3"
                                },
                                {
                                    "SZALLAS_ID": "9",
                                    "(No column name)": "1"
                                },
                                {
                                    "SZALLAS_ID": "8",
                                    "(No column name)": "73"
                                },
                                {
                                    "SZALLAS_ID": "8",
                                    "(No column name)": "156"
                                },
                                {
                                    "SZALLAS_ID": "12",
                                    "(No column name)": "88"
                                },
                                {
                                    "SZALLAS_ID": "6",
                                    "(No column name)": "60"
                                },
                                {
                                    "SZALLAS_ID": "6",
                                    "(No column name)": "97"
                                },
                                {
                                    "SZALLAS_ID": "4",
                                    "(No column name)": "55"
                                },
                                {
                                    "SZALLAS_ID": "4",
                                    "(No column name)": "12"
                                },
                                {
                                    "SZALLAS_ID": "8",
                                    "(No column name)": "119"
                                },
                                {
                                    "SZALLAS_ID": "8",
                                    "(No column name)": "11"
                                },
                                {
                                    "SZALLAS_ID": "12",
                                    "(No column name)": "128"
                                },
                                {
                                    "SZALLAS_ID": "12",
                                    "(No column name)": "134"
                                },
                                {
                                    "SZALLAS_ID": "2",
                                    "(No column name)": "8"
                                },
                                {
                                    "SZALLAS_ID": "3",
                                    "(No column name)": "1"
                                },
                                {
                                    "SZALLAS_ID": "4",
                                    "(No column name)": "1"
                                },
                                {
                                    "SZALLAS_ID": "5",
                                    "(No column name)": "42"
                                },
                                {
                                    "SZALLAS_ID": "6",
                                    "(No column name)": "103"
                                },
                                {
                                    "SZALLAS_ID": "12",
                                    "(No column name)": "34"
                                },
                                {
                                    "SZALLAS_ID": "6",
                                    "(No column name)": "80"
                                },
                                {
                                    "SZALLAS_ID": "4",
                                    "(No column name)": "41"
                                },
                                {
                                    "SZALLAS_ID": "4",
                                    "(No column name)": "4"
                                },
                                {
                                    "SZALLAS_ID": "10",
                                    "(No column name)": "57"
                                },
                                {
                                    "SZALLAS_ID": "3",
                                    "(No column name)": "21"
                                },
                                {
                                    "SZALLAS_ID": "6",
                                    "(No column name)": "10"
                                },
                                {
                                    "SZALLAS_ID": "8",
                                    "(No column name)": "70"
                                },
                                {
                                    "SZALLAS_ID": "6",
                                    "(No column name)": "11"
                                },
                                {
                                    "SZALLAS_ID": "10",
                                    "(No column name)": "2"
                                },
                                {
                                    "SZALLAS_ID": "12",
                                    "(No column name)": "45"
                                },
                                {
                                    "SZALLAS_ID": "12",
                                    "(No column name)": "51"
                                },
                                {
                                    "SZALLAS_ID": "12",
                                    "(No column name)": "2"
                                },
                                {
                                    "SZALLAS_ID": "3",
                                    "(No column name)": "15"
                                },
                                {
                                    "SZALLAS_ID": "4",
                                    "(No column name)": "15"
                                },
                                {
                                    "SZALLAS_ID": "11",
                                    "(No column name)": "4"
                                },
                                {
                                    "SZALLAS_ID": "12",
                                    "(No column name)": "94"
                                },
                                {
                                    "SZALLAS_ID": "5",
                                    "(No column name)": "7"
                                },
                                {
                                    "SZALLAS_ID": "12",
                                    "(No column name)": "71"
                                },
                                {
                                    "SZALLAS_ID": "12",
                                    "(No column name)": "145"
                                },
                                {
                                    "SZALLAS_ID": "7",
                                    "(No column name)": "19"
                                },
                                {
                                    "SZALLAS_ID": "4",
                                    "(No column name)": "35"
                                },
                                {
                                    "SZALLAS_ID": "10",
                                    "(No column name)": "14"
                                },
                                {
                                    "SZALLAS_ID": "1",
                                    "(No column name)": "31"
                                },
                                {
                                    "SZALLAS_ID": "4",
                                    "(No column name)": "21"
                                },
                                {
                                    "SZALLAS_ID": "5",
                                    "(No column name)": "22"
                                },
                                {
                                    "SZALLAS_ID": "6",
                                    "(No column name)": "37"
                                },
                                {
                                    "SZALLAS_ID": "6",
                                    "(No column name)": "123"
                                },
                                {
                                    "SZALLAS_ID": "10",
                                    "(No column name)": "16"
                                },
                                {
                                    "SZALLAS_ID": "8",
                                    "(No column name)": "96"
                                },
                                {
                                    "SZALLAS_ID": "8",
                                    "(No column name)": "133"
                                },
                                {
                                    "SZALLAS_ID": "9",
                                    "(No column name)": "5"
                                },
                                {
                                    "SZALLAS_ID": "12",
                                    "(No column name)": "102"
                                },
                                {
                                    "SZALLAS_ID": "12",
                                    "(No column name)": "151"
                                },
                                {
                                    "SZALLAS_ID": "10",
                                    "(No column name)": "6"
                                },
                                {
                                    "SZALLAS_ID": "6",
                                    "(No column name)": "31"
                                },
                                {
                                    "SZALLAS_ID": "6",
                                    "(No column name)": "16"
                                },
                                {
                                    "SZALLAS_ID": "9",
                                    "(No column name)": "13"
                                },
                                {
                                    "SZALLAS_ID": "12",
                                    "(No column name)": "8"
                                },
                                {
                                    "SZALLAS_ID": "8",
                                    "(No column name)": "139"
                                },
                                {
                                    "SZALLAS_ID": "8",
                                    "(No column name)": "40"
                                },
                                {
                                    "SZALLAS_ID": "10",
                                    "(No column name)": "8"
                                },
                                {
                                    "SZALLAS_ID": "11",
                                    "(No column name)": "18"
                                },
                                {
                                    "SZALLAS_ID": "12",
                                    "(No column name)": "108"
                                },
                                {
                                    "SZALLAS_ID": "1",
                                    "(No column name)": "62"
                                },
                                {
                                    "SZALLAS_ID": "10",
                                    "(No column name)": "68"
                                },
                                {
                                    "SZALLAS_ID": "1",
                                    "(No column name)": "39"
                                },
                                {
                                    "SZALLAS_ID": "4",
                                    "(No column name)": "29"
                                },
                                {
                                    "SZALLAS_ID": "9",
                                    "(No column name)": "21"
                                },
                                {
                                    "SZALLAS_ID": "10",
                                    "(No column name)": "45"
                                },
                                {
                                    "SZALLAS_ID": "1",
                                    "(No column name)": "16"
                                },
                                {
                                    "SZALLAS_ID": "3",
                                    "(No column name)": "6"
                                },
                                {
                                    "SZALLAS_ID": "10",
                                    "(No column name)": "22"
                                },
                                {
                                    "SZALLAS_ID": "2",
                                    "(No column name)": "5"
                                },
                                {
                                    "SZALLAS_ID": "10",
                                    "(No column name)": "14"
                                },
                                {
                                    "SZALLAS_ID": "11",
                                    "(No column name)": "12"
                                },
                                {
                                    "SZALLAS_ID": "6",
                                    "(No column name)": "65"
                                },
                                {
                                    "SZALLAS_ID": "7",
                                    "(No column name)": "4"
                                },
                                {
                                    "SZALLAS_ID": "8",
                                    "(No column name)": "101"
                                },
                                {
                                    "SZALLAS_ID": "8",
                                    "(No column name)": "107"
                                },
                                {
                                    "SZALLAS_ID": "12",
                                    "(No column name)": "20"
                                },
                                {
                                    "SZALLAS_ID": "6",
                                    "(No column name)": "88"
                                },
                                {
                                    "SZALLAS_ID": "6",
                                    "(No column name)": "119"
                                },
                                {
                                    "SZALLAS_ID": "8",
                                    "(No column name)": "7"
                                },
                                {
                                    "SZALLAS_ID": "8",
                                    "(No column name)": "124"
                                },
                                {
                                    "SZALLAS_ID": "8",
                                    "(No column name)": "130"
                                },
                                {
                                    "SZALLAS_ID": "8",
                                    "(No column name)": "6"
                                },
                                {
                                    "SZALLAS_ID": "5",
                                    "(No column name)": "7"
                                },
                                {
                                    "SZALLAS_ID": "6",
                                    "(No column name)": "19"
                                },
                                {
                                    "SZALLAS_ID": "8",
                                    "(No column name)": "55"
                                },
                                {
                                    "SZALLAS_ID": "5",
                                    "(No column name)": "30"
                                },
                                {
                                    "SZALLAS_ID": "6",
                                    "(No column name)": "42"
                                },
                                {
                                    "SZALLAS_ID": "7",
                                    "(No column name)": "27"
                                },
                                {
                                    "SZALLAS_ID": "1",
                                    "(No column name)": "56"
                                },
                                {
                                    "SZALLAS_ID": "4",
                                    "(No column name)": "46"
                                },
                                {
                                    "SZALLAS_ID": "8",
                                    "(No column name)": "15"
                                },
                                {
                                    "SZALLAS_ID": "5",
                                    "(No column name)": "2"
                                },
                                {
                                    "SZALLAS_ID": "6",
                                    "(No column name)": "13"
                                },
                                {
                                    "SZALLAS_ID": "6",
                                    "(No column name)": "96"
                                },
                                {
                                    "SZALLAS_ID": "12",
                                    "(No column name)": "79"
                                },
                                {
                                    "SZALLAS_ID": "4",
                                    "(No column name)": "7"
                                },
                                {
                                    "SZALLAS_ID": "6",
                                    "(No column name)": "48"
                                },
                                {
                                    "SZALLAS_ID": "10",
                                    "(No column name)": "85"
                                },
                                {
                                    "SZALLAS_ID": "12",
                                    "(No column name)": "139"
                                },
                                {
                                    "SZALLAS_ID": "8",
                                    "(No column name)": "118"
                                },
                                {
                                    "SZALLAS_ID": "8",
                                    "(No column name)": "12"
                                },
                                {
                                    "SZALLAS_ID": "12",
                                    "(No column name)": "87"
                                },
                                {
                                    "SZALLAS_ID": "2",
                                    "(No column name)": "13"
                                },
                                {
                                    "SZALLAS_ID": "6",
                                    "(No column name)": "102"
                                },
                                {
                                    "SZALLAS_ID": "6",
                                    "(No column name)": "105"
                                },
                                {
                                    "SZALLAS_ID": "8",
                                    "(No column name)": "67"
                                },
                                {
                                    "SZALLAS_ID": "10",
                                    "(No column name)": "28"
                                },
                                {
                                    "SZALLAS_ID": "4",
                                    "(No column name)": "40"
                                },
                                {
                                    "SZALLAS_ID": "11",
                                    "(No column name)": "23"
                                },
                                {
                                    "SZALLAS_ID": "12",
                                    "(No column name)": "119"
                                },
                                {
                                    "SZALLAS_ID": "1",
                                    "(No column name)": "2"
                                },
                                {
                                    "SZALLAS_ID": "8",
                                    "(No column name)": "44"
                                },
                                {
                                    "SZALLAS_ID": "3",
                                    "(No column name)": "20"
                                },
                                {
                                    "SZALLAS_ID": "10",
                                    "(No column name)": "11"
                                },
                                {
                                    "SZALLAS_ID": "2",
                                    "(No column name)": "1"
                                },
                                {
                                    "SZALLAS_ID": "8",
                                    "(No column name)": "24"
                                },
                                {
                                    "SZALLAS_ID": "12",
                                    "(No column name)": "27"
                                },
                                {
                                    "SZALLAS_ID": "12",
                                    "(No column name)": "26"
                                },
                                {
                                    "SZALLAS_ID": "8",
                                    "(No column name)": "1"
                                },
                                {
                                    "SZALLAS_ID": "11",
                                    "(No column name)": "3"
                                },
                                {
                                    "SZALLAS_ID": "12",
                                    "(No column name)": "50"
                                },
                                {
                                    "SZALLAS_ID": "12",
                                    "(No column name)": "93"
                                },
                                {
                                    "SZALLAS_ID": "12",
                                    "(No column name)": "70"
                                },
                                {
                                    "SZALLAS_ID": "3",
                                    "(No column name)": "14"
                                },
                                {
                                    "SZALLAS_ID": "10",
                                    "(No column name)": "62"
                                },
                                {
                                    "SZALLAS_ID": "12",
                                    "(No column name)": "113"
                                },
                                {
                                    "SZALLAS_ID": "7",
                                    "(No column name)": "18"
                                },
                                {
                                    "SZALLAS_ID": "8",
                                    "(No column name)": "87"
                                },
                                {
                                    "SZALLAS_ID": "10",
                                    "(No column name)": "17"
                                },
                                {
                                    "SZALLAS_ID": "12",
                                    "(No column name)": "7"
                                },
                                {
                                    "SZALLAS_ID": "5",
                                    "(No column name)": "13"
                                },
                                {
                                    "SZALLAS_ID": "9",
                                    "(No column name)": "4"
                                },
                                {
                                    "SZALLAS_ID": "12",
                                    "(No column name)": "150"
                                },
                                {
                                    "SZALLAS_ID": "4",
                                    "(No column name)": "20"
                                },
                                {
                                    "SZALLAS_ID": "6",
                                    "(No column name)": "36"
                                },
                                {
                                    "SZALLAS_ID": "6",
                                    "(No column name)": "85"
                                },
                                {
                                    "SZALLAS_ID": "6",
                                    "(No column name)": "122"
                                },
                                {
                                    "SZALLAS_ID": "10",
                                    "(No column name)": "48"
                                },
                                {
                                    "SZALLAS_ID": "8",
                                    "(No column name)": "35"
                                },
                                {
                                    "SZALLAS_ID": "10",
                                    "(No column name)": "3"
                                },
                                {
                                    "SZALLAS_ID": "1",
                                    "(No column name)": "22"
                                },
                                {
                                    "SZALLAS_ID": "5",
                                    "(No column name)": "19"
                                },
                                {
                                    "SZALLAS_ID": "9",
                                    "(No column name)": "10"
                                },
                                {
                                    "SZALLAS_ID": "3",
                                    "(No column name)": "26"
                                },
                                {
                                    "SZALLAS_ID": "4",
                                    "(No column name)": "26"
                                },
                                {
                                    "SZALLAS_ID": "6",
                                    "(No column name)": "79"
                                },
                                {
                                    "SZALLAS_ID": "6",
                                    "(No column name)": "128"
                                },
                                {
                                    "SZALLAS_ID": "10",
                                    "(No column name)": "5"
                                },
                                {
                                    "SZALLAS_ID": "6",
                                    "(No column name)": "139"
                                },
                                {
                                    "SZALLAS_ID": "7",
                                    "(No column name)": "1"
                                },
                                {
                                    "SZALLAS_ID": "8",
                                    "(No column name)": "104"
                                },
                                {
                                    "SZALLAS_ID": "12",
                                    "(No column name)": "36"
                                },
                                {
                                    "SZALLAS_ID": "12",
                                    "(No column name)": "107"
                                },
                                {
                                    "SZALLAS_ID": "7",
                                    "(No column name)": "24"
                                },
                                {
                                    "SZALLAS_ID": "8",
                                    "(No column name)": "81"
                                },
                                {
                                    "SZALLAS_ID": "10",
                                    "(No column name)": "11"
                                },
                                {
                                    "SZALLAS_ID": "12",
                                    "(No column name)": "13"
                                },
                                {
                                    "SZALLAS_ID": "12",
                                    "(No column name)": "130"
                                },
                                {
                                    "SZALLAS_ID": "8",
                                    "(No column name)": "58"
                                },
                                {
                                    "SZALLAS_ID": "8",
                                    "(No column name)": "35"
                                },
                                {
                                    "SZALLAS_ID": "9",
                                    "(No column name)": "18"
                                },
                                {
                                    "SZALLAS_ID": "1",
                                    "(No column name)": "59"
                                },
                                {
                                    "SZALLAS_ID": "3",
                                    "(No column name)": "34"
                                },
                                {
                                    "SZALLAS_ID": "10",
                                    "(No column name)": "71"
                                },
                                {
                                    "SZALLAS_ID": "2",
                                    "(No column name)": "2"
                                },
                                {
                                    "SZALLAS_ID": "5",
                                    "(No column name)": "27"
                                },
                                {
                                    "SZALLAS_ID": "5",
                                    "(No column name)": "33"
                                },
                                {
                                    "SZALLAS_ID": "10",
                                    "(No column name)": "88"
                                },
                                {
                                    "SZALLAS_ID": "10",
                                    "(No column name)": "94"
                                },
                                {
                                    "SZALLAS_ID": "11",
                                    "(No column name)": "9"
                                },
                                {
                                    "SZALLAS_ID": "5",
                                    "(No column name)": "4"
                                },
                                {
                                    "SZALLAS_ID": "6",
                                    "(No column name)": "25"
                                },
                                {
                                    "SZALLAS_ID": "9",
                                    "(No column name)": "1"
                                },
                                {
                                    "SZALLAS_ID": "1",
                                    "(No column name)": "36"
                                },
                                {
                                    "SZALLAS_ID": "8",
                                    "(No column name)": "127"
                                },
                                {
                                    "SZALLAS_ID": "8",
                                    "(No column name)": "3"
                                },
                                {
                                    "SZALLAS_ID": "9",
                                    "(No column name)": "24"
                                },
                                {
                                    "SZALLAS_ID": "6",
                                    "(No column name)": "62"
                                },
                                {
                                    "SZALLAS_ID": "8",
                                    "(No column name)": "27"
                                },
                                {
                                    "SZALLAS_ID": "12",
                                    "(No column name)": "30"
                                },
                                {
                                    "SZALLAS_ID": "4",
                                    "(No column name)": "10"
                                },
                                {
                                    "SZALLAS_ID": "8",
                                    "(No column name)": "75"
                                },
                                {
                                    "SZALLAS_ID": "12",
                                    "(No column name)": "136"
                                },
                                {
                                    "SZALLAS_ID": "4",
                                    "(No column name)": "9"
                                },
                                {
                                    "SZALLAS_ID": "6",
                                    "(No column name)": "99"
                                },
                                {
                                    "SZALLAS_ID": "10",
                                    "(No column name)": "25"
                                },
                                {
                                    "SZALLAS_ID": "12",
                                    "(No column name)": "76"
                                },
                                {
                                    "SZALLAS_ID": "1",
                                    "(No column name)": "42"
                                },
                                {
                                    "SZALLAS_ID": "4",
                                    "(No column name)": "57"
                                },
                                {
                                    "SZALLAS_ID": "8",
                                    "(No column name)": "121"
                                },
                                {
                                    "SZALLAS_ID": "8",
                                    "(No column name)": "9"
                                },
                                {
                                    "SZALLAS_ID": "12",
                                    "(No column name)": "90"
                                },
                                {
                                    "SZALLAS_ID": "4",
                                    "(No column name)": "49"
                                },
                                {
                                    "SZALLAS_ID": "7",
                                    "(No column name)": "1"
                                },
                                {
                                    "SZALLAS_ID": "5",
                                    "(No column name)": "39"
                                },
                                {
                                    "SZALLAS_ID": "10",
                                    "(No column name)": "82"
                                },
                                {
                                    "SZALLAS_ID": "3",
                                    "(No column name)": "3"
                                },
                                {
                                    "SZALLAS_ID": "10",
                                    "(No column name)": "31"
                                },
                                {
                                    "SZALLAS_ID": "1",
                                    "(No column name)": "48"
                                },
                                {
                                    "SZALLAS_ID": "6",
                                    "(No column name)": "5"
                                },
                                {
                                    "SZALLAS_ID": "6",
                                    "(No column name)": "56"
                                },
                                {
                                    "SZALLAS_ID": "8",
                                    "(No column name)": "21"
                                },
                                {
                                    "SZALLAS_ID": "8",
                                    "(No column name)": "38"
                                },
                                {
                                    "SZALLAS_ID": "4",
                                    "(No column name)": "17"
                                },
                                {
                                    "SZALLAS_ID": "6",
                                    "(No column name)": "33"
                                },
                                {
                                    "SZALLAS_ID": "10",
                                    "(No column name)": "8"
                                },
                                {
                                    "SZALLAS_ID": "1",
                                    "(No column name)": "5"
                                },
                                {
                                    "SZALLAS_ID": "6",
                                    "(No column name)": "8"
                                },
                                {
                                    "SZALLAS_ID": "8",
                                    "(No column name)": "47"
                                },
                                {
                                    "SZALLAS_ID": "4",
                                    "(No column name)": "43"
                                },
                                {
                                    "SZALLAS_ID": "12",
                                    "(No column name)": "116"
                                },
                                {
                                    "SZALLAS_ID": "3",
                                    "(No column name)": "17"
                                },
                                {
                                    "SZALLAS_ID": "4",
                                    "(No column name)": "60"
                                },
                                {
                                    "SZALLAS_ID": "5",
                                    "(No column name)": "5"
                                },
                                {
                                    "SZALLAS_ID": "6",
                                    "(No column name)": "28"
                                },
                                {
                                    "SZALLAS_ID": "12",
                                    "(No column name)": "73"
                                },
                                {
                                    "SZALLAS_ID": "10",
                                    "(No column name)": "20"
                                },
                                {
                                    "SZALLAS_ID": "12",
                                    "(No column name)": "47"
                                },
                                {
                                    "SZALLAS_ID": "12",
                                    "(No column name)": "96"
                                },
                                {
                                    "SZALLAS_ID": "2",
                                    "(No column name)": "4"
                                },
                                {
                                    "SZALLAS_ID": "3",
                                    "(No column name)": "3"
                                },
                                {
                                    "SZALLAS_ID": "7",
                                    "(No column name)": "7"
                                },
                                {
                                    "SZALLAS_ID": "12",
                                    "(No column name)": "23"
                                },
                                {
                                    "SZALLAS_ID": "1",
                                    "(No column name)": "33"
                                },
                                {
                                    "SZALLAS_ID": "4",
                                    "(No column name)": "23"
                                },
                                {
                                    "SZALLAS_ID": "6",
                                    "(No column name)": "39"
                                },
                                {
                                    "SZALLAS_ID": "10",
                                    "(No column name)": "2"
                                },
                                {
                                    "SZALLAS_ID": "10",
                                    "(No column name)": "51"
                                },
                                {
                                    "SZALLAS_ID": "1",
                                    "(No column name)": "19"
                                },
                                {
                                    "SZALLAS_ID": "6",
                                    "(No column name)": "25"
                                },
                                {
                                    "SZALLAS_ID": "8",
                                    "(No column name)": "147"
                                },
                                {
                                    "SZALLAS_ID": "12",
                                    "(No column name)": "67"
                                },
                                {
                                    "SZALLAS_ID": "7",
                                    "(No column name)": "21"
                                },
                                {
                                    "SZALLAS_ID": "8",
                                    "(No column name)": "84"
                                },
                                {
                                    "SZALLAS_ID": "8",
                                    "(No column name)": "46"
                                },
                                {
                                    "SZALLAS_ID": "12",
                                    "(No column name)": "4"
                                },
                                {
                                    "SZALLAS_ID": "12",
                                    "(No column name)": "16"
                                },
                                {
                                    "SZALLAS_ID": "12",
                                    "(No column name)": "53"
                                },
                                {
                                    "SZALLAS_ID": "10",
                                    "(No column name)": "59"
                                },
                                {
                                    "SZALLAS_ID": "11",
                                    "(No column name)": "20"
                                },
                                {
                                    "SZALLAS_ID": "12",
                                    "(No column name)": "110"
                                },
                                {
                                    "SZALLAS_ID": "6",
                                    "(No column name)": "76"
                                },
                                {
                                    "SZALLAS_ID": "6",
                                    "(No column name)": "82"
                                },
                                {
                                    "SZALLAS_ID": "6",
                                    "(No column name)": "125"
                                },
                                {
                                    "SZALLAS_ID": "1",
                                    "(No column name)": "25"
                                },
                                {
                                    "SZALLAS_ID": "5",
                                    "(No column name)": "16"
                                },
                                {
                                    "SZALLAS_ID": "8",
                                    "(No column name)": "141"
                                },
                                {
                                    "SZALLAS_ID": "10",
                                    "(No column name)": "102"
                                },
                                {
                                    "SZALLAS_ID": "6",
                                    "(No column name)": "14"
                                },
                                {
                                    "SZALLAS_ID": "7",
                                    "(No column name)": "15"
                                },
                                {
                                    "SZALLAS_ID": "8",
                                    "(No column name)": "41"
                                },
                                {
                                    "SZALLAS_ID": "12",
                                    "(No column name)": "59"
                                }
                            ]
                        },
                        "text/html": "<table><tr><th>SZALLAS_ID</th><th>(No column name)</th><th>(No column name)</th><th>(No column name)</th></tr><tr><td>3</td><td>2016</td><td>35</td><td>31</td></tr><tr><td>6</td><td>2016</td><td>150</td><td>44</td></tr><tr><td>6</td><td>2017</td><td>29</td><td>20</td></tr><tr><td>8</td><td>2016</td><td>157</td><td>80</td></tr><tr><td>12</td><td>2016</td><td>152</td><td>12</td></tr><tr><td>8</td><td>2016</td><td>157</td><td>32</td></tr><tr><td>10</td><td>2017</td><td>20</td><td>12</td></tr><tr><td>2</td><td>2016</td><td>13</td><td>7</td></tr><tr><td>7</td><td>2016</td><td>28</td><td>23</td></tr><tr><td>12</td><td>2017</td><td>27</td><td>18</td></tr><tr><td>1</td><td>2017</td><td>7</td><td>1</td></tr><tr><td>3</td><td>2016</td><td>35</td><td>8</td></tr><tr><td>5</td><td>2016</td><td>43</td><td>32</td></tr><tr><td>6</td><td>2016</td><td>150</td><td>136</td></tr><tr><td>9</td><td>2016</td><td>24</td><td>23</td></tr><tr><td>10</td><td>2016</td><td>103</td><td>47</td></tr><tr><td>5</td><td>2016</td><td>43</td><td>9</td></tr><tr><td>6</td><td>2016</td><td>150</td><td>113</td></tr><tr><td>8</td><td>2016</td><td>157</td><td>155</td></tr><tr><td>10</td><td>2016</td><td>103</td><td>70</td></tr><tr><td>2</td><td>2016</td><td>13</td><td>1</td></tr><tr><td>8</td><td>2017</td><td>47</td><td>27</td></tr><tr><td>10</td><td>2016</td><td>103</td><td>16</td></tr><tr><td>6</td><td>2016</td><td>150</td><td>67</td></tr><tr><td>8</td><td>2016</td><td>157</td><td>103</td></tr><tr><td>8</td><td>2017</td><td>47</td><td>4</td></tr><tr><td>6</td><td>2016</td><td>150</td><td>50</td></tr><tr><td>6</td><td>2016</td><td>150</td><td>144</td></tr><tr><td>7</td><td>2017</td><td>6</td><td>4</td></tr><tr><td>8</td><td>2016</td><td>157</td><td>26</td></tr><tr><td>9</td><td>2017</td><td>5</td><td>2</td></tr><tr><td>5</td><td>2016</td><td>43</td><td>1</td></tr><tr><td>10</td><td>2016</td><td>103</td><td>87</td></tr><tr><td>4</td><td>2016</td><td>61</td><td>8</td></tr><tr><td>6</td><td>2016</td><td>150</td><td>61</td></tr><tr><td>8</td><td>2016</td><td>157</td><td>72</td></tr><tr><td>8</td><td>2016</td><td>157</td><td>109</td></tr><tr><td>8</td><td>2017</td><td>47</td><td>10</td></tr><tr><td>10</td><td>2016</td><td>103</td><td>24</td></tr><tr><td>12</td><td>2016</td><td>152</td><td>41</td></tr><tr><td>5</td><td>2016</td><td>43</td><td>38</td></tr><tr><td>4</td><td>2016</td><td>61</td><td>48</td></tr><tr><td>4</td><td>2016</td><td>61</td><td>54</td></tr><tr><td>4</td><td>2017</td><td>12</td><td>11</td></tr><tr><td>6</td><td>2016</td><td>150</td><td>107</td></tr><tr><td>10</td><td>2016</td><td>103</td><td>76</td></tr><tr><td>12</td><td>2016</td><td>152</td><td>81</td></tr><tr><td>6</td><td>2016</td><td>150</td><td>4</td></tr><tr><td>12</td><td>2017</td><td>27</td><td>12</td></tr><tr><td>1</td><td>2017</td><td>7</td><td>7</td></tr><tr><td>3</td><td>2016</td><td>35</td><td>2</td></tr><tr><td>4</td><td>2016</td><td>61</td><td>2</td></tr><tr><td>10</td><td>2016</td><td>103</td><td>30</td></tr><tr><td>12</td><td>2016</td><td>152</td><td>35</td></tr><tr><td>5</td><td>2016</td><td>43</td><td>41</td></tr><tr><td>10</td><td>2016</td><td>103</td><td>56</td></tr><tr><td>12</td><td>2016</td><td>152</td><td>95</td></tr><tr><td>6</td><td>2016</td><td>150</td><td>150</td></tr><tr><td>7</td><td>2016</td><td>28</td><td>12</td></tr><tr><td>8</td><td>2016</td><td>157</td><td>20</td></tr><tr><td>1</td><td>2016</td><td>63</td><td>4</td></tr><tr><td>6</td><td>2016</td><td>150</td><td>10</td></tr><tr><td>8</td><td>2016</td><td>157</td><td>46</td></tr><tr><td>9</td><td>2016</td><td>24</td><td>6</td></tr><tr><td>5</td><td>2017</td><td>10</td><td>6</td></tr><tr><td>6</td><td>2017</td><td>29</td><td>29</td></tr><tr><td>12</td><td>2016</td><td>152</td><td>21</td></tr><tr><td>4</td><td>2017</td><td>12</td><td>5</td></tr><tr><td>12</td><td>2016</td><td>152</td><td>44</td></tr><tr><td>12</td><td>2017</td><td>27</td><td>1</td></tr><tr><td>12</td><td>2016</td><td>152</td><td>144</td></tr><tr><td>12</td><td>2017</td><td>27</td><td>24</td></tr><tr><td>6</td><td>2017</td><td>29</td><td>3</td></tr><tr><td>12</td><td>2016</td><td>152</td><td>72</td></tr><tr><td>12</td><td>2016</td><td>152</td><td>121</td></tr><tr><td>4</td><td>2016</td><td>61</td><td>22</td></tr><tr><td>4</td><td>2016</td><td>61</td><td>34</td></tr><tr><td>8</td><td>2016</td><td>157</td><td>3</td></tr><tr><td>10</td><td>2016</td><td>103</td><td>50</td></tr><tr><td>11</td><td>2016</td><td>23</td><td>17</td></tr><tr><td>12</td><td>2016</td><td>152</td><td>101</td></tr><tr><td>7</td><td>2016</td><td>28</td><td>6</td></tr><tr><td>2</td><td>2017</td><td>5</td><td>5</td></tr><tr><td>3</td><td>2017</td><td>4</td><td>4</td></tr><tr><td>7</td><td>2016</td><td>28</td><td>20</td></tr><tr><td>10</td><td>2016</td><td>103</td><td>1</td></tr><tr><td>10</td><td>2016</td><td>103</td><td>13</td></tr><tr><td>12</td><td>2016</td><td>152</td><td>52</td></tr><tr><td>12</td><td>2016</td><td>152</td><td>64</td></tr><tr><td>1</td><td>2016</td><td>63</td><td>18</td></tr><tr><td>1</td><td>2016</td><td>63</td><td>30</td></tr><tr><td>6</td><td>2016</td><td>150</td><td>73</td></tr><tr><td>8</td><td>2016</td><td>157</td><td>146</td></tr><tr><td>10</td><td>2017</td><td>20</td><td>15</td></tr><tr><td>3</td><td>2016</td><td>35</td><td>22</td></tr><tr><td>3</td><td>2016</td><td>35</td><td>28</td></tr><tr><td>6</td><td>2016</td><td>150</td><td>124</td></tr><tr><td>6</td><td>2016</td><td>150</td><td>130</td></tr><tr><td>8</td><td>2016</td><td>157</td><td>95</td></tr><tr><td>12</td><td>2016</td><td>152</td><td>9</td></tr><tr><td>12</td><td>2016</td><td>152</td><td>15</td></tr><tr><td>8</td><td>2016</td><td>157</td><td>40</td></tr><tr><td>10</td><td>2016</td><td>103</td><td>7</td></tr><tr><td>12</td><td>2016</td><td>152</td><td>58</td></tr><tr><td>1</td><td>2016</td><td>63</td><td>24</td></tr><tr><td>6</td><td>2016</td><td>150</td><td>30</td></tr><tr><td>9</td><td>2016</td><td>24</td><td>12</td></tr><tr><td>10</td><td>2017</td><td>20</td><td>9</td></tr><tr><td>1</td><td>2016</td><td>63</td><td>38</td></tr><tr><td>10</td><td>2016</td><td>103</td><td>44</td></tr><tr><td>11</td><td>2016</td><td>23</td><td>11</td></tr><tr><td>1</td><td>2017</td><td>7</td><td>4</td></tr><tr><td>4</td><td>2016</td><td>61</td><td>5</td></tr><tr><td>8</td><td>2017</td><td>47</td><td>1</td></tr><tr><td>2</td><td>2016</td><td>13</td><td>4</td></tr><tr><td>12</td><td>2017</td><td>27</td><td>15</td></tr><tr><td>8</td><td>2017</td><td>47</td><td>47</td></tr><tr><td>9</td><td>2017</td><td>5</td><td>5</td></tr><tr><td>6</td><td>2016</td><td>150</td><td>47</td></tr><tr><td>6</td><td>2017</td><td>29</td><td>23</td></tr><tr><td>8</td><td>2016</td><td>157</td><td>6</td></tr><tr><td>8</td><td>2016</td><td>157</td><td>83</td></tr><tr><td>3</td><td>2016</td><td>35</td><td>11</td></tr><tr><td>6</td><td>2016</td><td>150</td><td>64</td></tr><tr><td>6</td><td>2016</td><td>150</td><td>70</td></tr><tr><td>8</td><td>2016</td><td>157</td><td>106</td></tr><tr><td>6</td><td>2016</td><td>150</td><td>93</td></tr><tr><td>7</td><td>2016</td><td>28</td><td>26</td></tr><tr><td>8</td><td>2016</td><td>157</td><td>52</td></tr><tr><td>8</td><td>2016</td><td>157</td><td>129</td></tr><tr><td>10</td><td>2016</td><td>103</td><td>90</td></tr><tr><td>12</td><td>2017</td><td>27</td><td>21</td></tr><tr><td>1</td><td>2016</td><td>63</td><td>61</td></tr><tr><td>6</td><td>2016</td><td>150</td><td>116</td></tr><tr><td>7</td><td>2016</td><td>28</td><td>3</td></tr><tr><td>8</td><td>2016</td><td>157</td><td>29</td></tr><tr><td>10</td><td>2016</td><td>103</td><td>67</td></tr><tr><td>11</td><td>2017</td><td>3</td><td>3</td></tr><tr><td>1</td><td>2016</td><td>63</td><td>44</td></tr><tr><td>5</td><td>2016</td><td>43</td><td>35</td></tr><tr><td>5</td><td>2017</td><td>10</td><td>3</td></tr><tr><td>11</td><td>2016</td><td>23</td><td>5</td></tr><tr><td>8</td><td>2017</td><td>47</td><td>7</td></tr><tr><td>10</td><td>2016</td><td>103</td><td>27</td></tr><tr><td>1</td><td>2016</td><td>63</td><td>7</td></tr><tr><td>6</td><td>2016</td><td>150</td><td>1</td></tr><tr><td>8</td><td>2016</td><td>157</td><td>123</td></tr><tr><td>12</td><td>2016</td><td>152</td><td>138</td></tr><tr><td>4</td><td>2016</td><td>61</td><td>45</td></tr><tr><td>4</td><td>2017</td><td>12</td><td>8</td></tr><tr><td>6</td><td>2016</td><td>150</td><td>147</td></tr><tr><td>8</td><td>2016</td><td>157</td><td>60</td></tr><tr><td>10</td><td>2016</td><td>103</td><td>36</td></tr><tr><td>10</td><td>2016</td><td>103</td><td>73</td></tr><tr><td>12</td><td>2016</td><td>152</td><td>78</td></tr><tr><td>1</td><td>2016</td><td>63</td><td>53</td></tr><tr><td>6</td><td>2016</td><td>150</td><td>53</td></tr><tr><td>8</td><td>2016</td><td>157</td><td>12</td></tr><tr><td>3</td><td>2016</td><td>35</td><td>5</td></tr><tr><td>6</td><td>2016</td><td>150</td><td>101</td></tr><tr><td>8</td><td>2016</td><td>157</td><td>112</td></tr><tr><td>12</td><td>2016</td><td>152</td><td>38</td></tr><tr><td>2</td><td>2016</td><td>13</td><td>10</td></tr><tr><td>6</td><td>2016</td><td>150</td><td>7</td></tr><tr><td>8</td><td>2017</td><td>47</td><td>18</td></tr><tr><td>12</td><td>2017</td><td>27</td><td>9</td></tr><tr><td>4</td><td>2016</td><td>61</td><td>51</td></tr><tr><td>6</td><td>2016</td><td>150</td><td>104</td></tr><tr><td>12</td><td>2016</td><td>152</td><td>84</td></tr><tr><td>3</td><td>2016</td><td>35</td><td>19</td></tr><tr><td>5</td><td>2017</td><td>10</td><td>9</td></tr><tr><td>6</td><td>2016</td><td>150</td><td>127</td></tr><tr><td>8</td><td>2016</td><td>157</td><td>92</td></tr><tr><td>1</td><td>2016</td><td>63</td><td>27</td></tr><tr><td>9</td><td>2016</td><td>24</td><td>9</td></tr><tr><td>12</td><td>2016</td><td>152</td><td>118</td></tr><tr><td>10</td><td>2016</td><td>103</td><td>10</td></tr><tr><td>12</td><td>2016</td><td>152</td><td>141</td></tr><tr><td>8</td><td>2016</td><td>157</td><td>23</td></tr><tr><td>12</td><td>2016</td><td>152</td><td>92</td></tr><tr><td>2</td><td>2017</td><td>5</td><td>2</td></tr><tr><td>12</td><td>2016</td><td>152</td><td>147</td></tr><tr><td>4</td><td>2017</td><td>12</td><td>2</td></tr><tr><td>3</td><td>2016</td><td>35</td><td>25</td></tr><tr><td>6</td><td>2017</td><td>29</td><td>26</td></tr><tr><td>8</td><td>2016</td><td>157</td><td>86</td></tr><tr><td>1</td><td>2016</td><td>63</td><td>21</td></tr><tr><td>6</td><td>2016</td><td>150</td><td>27</td></tr><tr><td>8</td><td>2017</td><td>47</td><td>44</td></tr><tr><td>9</td><td>2016</td><td>24</td><td>3</td></tr><tr><td>9</td><td>2016</td><td>24</td><td>15</td></tr><tr><td>10</td><td>2017</td><td>20</td><td>6</td></tr><tr><td>10</td><td>2017</td><td>20</td><td>18</td></tr><tr><td>3</td><td>2017</td><td>4</td><td>1</td></tr><tr><td>6</td><td>2016</td><td>150</td><td>84</td></tr><tr><td>8</td><td>2016</td><td>157</td><td>49</td></tr><tr><td>8</td><td>2016</td><td>157</td><td>135</td></tr><tr><td>10</td><td>2016</td><td>103</td><td>96</td></tr><tr><td>5</td><td>2016</td><td>43</td><td>12</td></tr><tr><td>5</td><td>2016</td><td>43</td><td>24</td></tr><tr><td>7</td><td>2016</td><td>28</td><td>9</td></tr><tr><td>4</td><td>2016</td><td>61</td><td>25</td></tr><tr><td>4</td><td>2016</td><td>61</td><td>31</td></tr><tr><td>11</td><td>2016</td><td>23</td><td>14</td></tr><tr><td>8</td><td>2016</td><td>157</td><td>43</td></tr><tr><td>10</td><td>2016</td><td>103</td><td>4</td></tr><tr><td>12</td><td>2016</td><td>152</td><td>61</td></tr><tr><td>5</td><td>2016</td><td>43</td><td>18</td></tr><tr><td>6</td><td>2016</td><td>150</td><td>115</td></tr><tr><td>8</td><td>2017</td><td>47</td><td>2</td></tr><tr><td>6</td><td>2016</td><td>150</td><td>138</td></tr><tr><td>7</td><td>2016</td><td>28</td><td>25</td></tr><tr><td>8</td><td>2016</td><td>157</td><td>57</td></tr><tr><td>8</td><td>2017</td><td>47</td><td>25</td></tr><tr><td>11</td><td>2016</td><td>23</td><td>10</td></tr><tr><td>8</td><td>2016</td><td>157</td><td>34</td></tr><tr><td>12</td><td>2016</td><td>152</td><td>129</td></tr><tr><td>3</td><td>2016</td><td>35</td><td>33</td></tr><tr><td>12</td><td>2016</td><td>152</td><td>152</td></tr><tr><td>12</td><td>2017</td><td>27</td><td>16</td></tr><tr><td>1</td><td>2016</td><td>63</td><td>35</td></tr><tr><td>3</td><td>2016</td><td>35</td><td>10</td></tr><tr><td>5</td><td>2016</td><td>43</td><td>26</td></tr><tr><td>2</td><td>2016</td><td>13</td><td>3</td></tr><tr><td>5</td><td>2016</td><td>43</td><td>3</td></tr><tr><td>6</td><td>2016</td><td>150</td><td>46</td></tr><tr><td>6</td><td>2017</td><td>29</td><td>24</td></tr><tr><td>10</td><td>2016</td><td>103</td><td>95</td></tr><tr><td>6</td><td>2016</td><td>150</td><td>69</td></tr><tr><td>6</td><td>2017</td><td>29</td><td>1</td></tr><tr><td>1</td><td>2016</td><td>63</td><td>12</td></tr><tr><td>8</td><td>2016</td><td>157</td><td>5</td></tr><tr><td>8</td><td>2016</td><td>157</td><td>128</td></tr><tr><td>10</td><td>2016</td><td>103</td><td>18</td></tr><tr><td>4</td><td>2016</td><td>61</td><td>10</td></tr><tr><td>4</td><td>2017</td><td>12</td><td>9</td></tr><tr><td>8</td><td>2016</td><td>157</td><td>74</td></tr><tr><td>8</td><td>2016</td><td>157</td><td>157</td></tr><tr><td>12</td><td>2016</td><td>152</td><td>77</td></tr><tr><td>5</td><td>2017</td><td>10</td><td>4</td></tr><tr><td>6</td><td>2016</td><td>150</td><td>15</td></tr><tr><td>8</td><td>2017</td><td>47</td><td>19</td></tr><tr><td>4</td><td>2016</td><td>61</td><td>56</td></tr><tr><td>7</td><td>2017</td><td>6</td><td>2</td></tr><tr><td>12</td><td>2016</td><td>152</td><td>43</td></tr><tr><td>1</td><td>2016</td><td>63</td><td>6</td></tr><tr><td>6</td><td>2016</td><td>150</td><td>98</td></tr><tr><td>3</td><td>2016</td><td>35</td><td>4</td></tr><tr><td>8</td><td>2016</td><td>157</td><td>65</td></tr><tr><td>10</td><td>2016</td><td>103</td><td>35</td></tr><tr><td>1</td><td>2016</td><td>63</td><td>52</td></tr><tr><td>2</td><td>2016</td><td>13</td><td>9</td></tr><tr><td>6</td><td>2016</td><td>150</td><td>52</td></tr><tr><td>1</td><td>2017</td><td>7</td><td>5</td></tr><tr><td>4</td><td>2016</td><td>61</td><td>50</td></tr><tr><td>10</td><td>2016</td><td>103</td><td>81</td></tr><tr><td>12</td><td>2016</td><td>152</td><td>37</td></tr><tr><td>1</td><td>2016</td><td>63</td><td>49</td></tr><tr><td>5</td><td>2016</td><td>43</td><td>43</td></tr><tr><td>6</td><td>2016</td><td>150</td><td>6</td></tr><tr><td>8</td><td>2016</td><td>157</td><td>17</td></tr><tr><td>12</td><td>2017</td><td>27</td><td>10</td></tr><tr><td>1</td><td>2016</td><td>63</td><td>26</td></tr><tr><td>4</td><td>2017</td><td>12</td><td>3</td></tr><tr><td>5</td><td>2016</td><td>43</td><td>17</td></tr><tr><td>9</td><td>2016</td><td>24</td><td>8</td></tr><tr><td>10</td><td>2016</td><td>103</td><td>32</td></tr><tr><td>10</td><td>2016</td><td>103</td><td>9</td></tr><tr><td>6</td><td>2017</td><td>29</td><td>7</td></tr><tr><td>10</td><td>2017</td><td>20</td><td>1</td></tr><tr><td>12</td><td>2016</td><td>152</td><td>140</td></tr><tr><td>3</td><td>2016</td><td>35</td><td>16</td></tr><tr><td>4</td><td>2016</td><td>61</td><td>36</td></tr><tr><td>12</td><td>2016</td><td>152</td><td>46</td></tr><tr><td>12</td><td>2016</td><td>152</td><td>123</td></tr><tr><td>6</td><td>2017</td><td>29</td><td>27</td></tr><tr><td>12</td><td>2016</td><td>152</td><td>97</td></tr><tr><td>12</td><td>2016</td><td>152</td><td>146</td></tr><tr><td>1</td><td>2016</td><td>63</td><td>32</td></tr><tr><td>6</td><td>2016</td><td>150</td><td>26</td></tr><tr><td>9</td><td>2016</td><td>24</td><td>14</td></tr><tr><td>2</td><td>2017</td><td>5</td><td>3</td></tr><tr><td>3</td><td>2016</td><td>35</td><td>24</td></tr><tr><td>6</td><td>2016</td><td>150</td><td>132</td></tr><tr><td>10</td><td>2016</td><td>103</td><td>15</td></tr><tr><td>7</td><td>2016</td><td>28</td><td>8</td></tr><tr><td>8</td><td>2017</td><td>47</td><td>45</td></tr><tr><td>3</td><td>2017</td><td>4</td><td>2</td></tr><tr><td>8</td><td>2016</td><td>157</td><td>48</td></tr><tr><td>8</td><td>2016</td><td>157</td><td>134</td></tr><tr><td>12</td><td>2016</td><td>152</td><td>17</td></tr><tr><td>12</td><td>2016</td><td>152</td><td>103</td></tr><tr><td>4</td><td>2016</td><td>61</td><td>30</td></tr><tr><td>10</td><td>2016</td><td>103</td><td>52</td></tr><tr><td>10</td><td>2016</td><td>103</td><td>58</td></tr><tr><td>10</td><td>2016</td><td>103</td><td>101</td></tr><tr><td>6</td><td>2017</td><td>29</td><td>15</td></tr><tr><td>8</td><td>2016</td><td>157</td><td>91</td></tr><tr><td>8</td><td>2016</td><td>157</td><td>140</td></tr><tr><td>11</td><td>2016</td><td>23</td><td>19</td></tr><tr><td>12</td><td>2016</td><td>152</td><td>109</td></tr><tr><td>3</td><td>2016</td><td>35</td><td>7</td></tr><tr><td>5</td><td>2016</td><td>43</td><td>29</td></tr><tr><td>9</td><td>2016</td><td>24</td><td>20</td></tr><tr><td>1</td><td>2016</td><td>63</td><td>15</td></tr><tr><td>3</td><td>2016</td><td>35</td><td>30</td></tr><tr><td>8</td><td>2016</td><td>157</td><td>8</td></tr><tr><td>10</td><td>2016</td><td>103</td><td>21</td></tr><tr><td>1</td><td>2017</td><td>7</td><td>2</td></tr><tr><td>2</td><td>2016</td><td>13</td><td>6</td></tr><tr><td>6</td><td>2017</td><td>29</td><td>21</td></tr><tr><td>11</td><td>2016</td><td>23</td><td>13</td></tr><tr><td>6</td><td>2016</td><td>150</td><td>112</td></tr><tr><td>6</td><td>2016</td><td>150</td><td>118</td></tr><tr><td>8</td><td>2016</td><td>157</td><td>77</td></tr><tr><td>8</td><td>2016</td><td>157</td><td>148</td></tr><tr><td>8</td><td>2016</td><td>157</td><td>154</td></tr><tr><td>8</td><td>2017</td><td>47</td><td>5</td></tr><tr><td>6</td><td>2016</td><td>150</td><td>95</td></tr><tr><td>8</td><td>2016</td><td>157</td><td>100</td></tr><tr><td>8</td><td>2016</td><td>157</td><td>131</td></tr><tr><td>6</td><td>2016</td><td>150</td><td>66</td></tr><tr><td>7</td><td>2016</td><td>28</td><td>5</td></tr><tr><td>10</td><td>2016</td><td>103</td><td>69</td></tr><tr><td>11</td><td>2017</td><td>3</td><td>1</td></tr><tr><td>5</td><td>2016</td><td>43</td><td>6</td></tr><tr><td>6</td><td>2016</td><td>150</td><td>141</td></tr><tr><td>7</td><td>2016</td><td>28</td><td>28</td></tr><tr><td>8</td><td>2016</td><td>157</td><td>54</td></tr><tr><td>10</td><td>2016</td><td>103</td><td>92</td></tr><tr><td>3</td><td>2016</td><td>35</td><td>13</td></tr><tr><td>10</td><td>2016</td><td>103</td><td>38</td></tr><tr><td>1</td><td>2016</td><td>63</td><td>9</td></tr><tr><td>6</td><td>2016</td><td>150</td><td>3</td></tr><tr><td>8</td><td>2016</td><td>157</td><td>14</td></tr><tr><td>4</td><td>2016</td><td>61</td><td>47</td></tr><tr><td>4</td><td>2016</td><td>61</td><td>59</td></tr><tr><td>8</td><td>2016</td><td>157</td><td>25</td></tr><tr><td>8</td><td>2016</td><td>157</td><td>108</td></tr><tr><td>9</td><td>2017</td><td>5</td><td>3</td></tr><tr><td>10</td><td>2016</td><td>103</td><td>75</td></tr><tr><td>12</td><td>2016</td><td>152</td><td>40</td></tr><tr><td>1</td><td>2016</td><td>63</td><td>55</td></tr><tr><td>5</td><td>2016</td><td>43</td><td>37</td></tr><tr><td>5</td><td>2017</td><td>10</td><td>1</td></tr><tr><td>6</td><td>2016</td><td>150</td><td>49</td></tr><tr><td>8</td><td>2017</td><td>47</td><td>22</td></tr><tr><td>4</td><td>2016</td><td>61</td><td>7</td></tr><tr><td>6</td><td>2016</td><td>150</td><td>106</td></tr><tr><td>8</td><td>2016</td><td>157</td><td>71</td></tr><tr><td>10</td><td>2016</td><td>103</td><td>29</td></tr><tr><td>12</td><td>2016</td><td>152</td><td>80</td></tr><tr><td>12</td><td>2016</td><td>152</td><td>86</td></tr><tr><td>1</td><td>2016</td><td>63</td><td>46</td></tr><tr><td>6</td><td>2016</td><td>150</td><td>58</td></tr><tr><td>12</td><td>2017</td><td>27</td><td>7</td></tr><tr><td>12</td><td>2017</td><td>27</td><td>13</td></tr><tr><td>4</td><td>2016</td><td>61</td><td>53</td></tr><tr><td>7</td><td>2017</td><td>6</td><td>5</td></tr><tr><td>8</td><td>2016</td><td>157</td><td>114</td></tr><tr><td>8</td><td>2016</td><td>157</td><td>117</td></tr><tr><td>12</td><td>2016</td><td>152</td><td>132</td></tr><tr><td>2</td><td>2016</td><td>13</td><td>12</td></tr><tr><td>8</td><td>2017</td><td>47</td><td>16</td></tr><tr><td>8</td><td>2016</td><td>157</td><td>68</td></tr><tr><td>1</td><td>2016</td><td>63</td><td>3</td></tr><tr><td>6</td><td>2016</td><td>150</td><td>9</td></tr><tr><td>11</td><td>2016</td><td>23</td><td>22</td></tr><tr><td>12</td><td>2016</td><td>152</td><td>143</td></tr><tr><td>6</td><td>2016</td><td>150</td><td>149</td></tr><tr><td>7</td><td>2016</td><td>28</td><td>11</td></tr><tr><td>8</td><td>2017</td><td>47</td><td>36</td></tr><tr><td>12</td><td>2017</td><td>27</td><td>27</td></tr><tr><td>12</td><td>2017</td><td>27</td><td>4</td></tr><tr><td>4</td><td>2016</td><td>61</td><td>13</td></tr><tr><td>4</td><td>2016</td><td>61</td><td>19</td></tr><tr><td>4</td><td>2017</td><td>12</td><td>6</td></tr><tr><td>11</td><td>2016</td><td>23</td><td>2</td></tr><tr><td>12</td><td>2016</td><td>152</td><td>20</td></tr><tr><td>6</td><td>2017</td><td>29</td><td>4</td></tr><tr><td>12</td><td>2016</td><td>152</td><td>120</td></tr><tr><td>4</td><td>2016</td><td>61</td><td>39</td></tr><tr><td>6</td><td>2016</td><td>150</td><td>121</td></tr><tr><td>12</td><td>2016</td><td>152</td><td>6</td></tr><tr><td>8</td><td>2016</td><td>157</td><td>2</td></tr><tr><td>8</td><td>2016</td><td>157</td><td>51</td></tr><tr><td>11</td><td>2016</td><td>23</td><td>16</td></tr><tr><td>12</td><td>2016</td><td>152</td><td>100</td></tr><tr><td>12</td><td>2016</td><td>152</td><td>112</td></tr><tr><td>12</td><td>2016</td><td>152</td><td>149</td></tr><tr><td>6</td><td>2016</td><td>150</td><td>72</td></tr><tr><td>10</td><td>2017</td><td>20</td><td>4</td></tr><tr><td>4</td><td>2016</td><td>61</td><td>33</td></tr><tr><td>6</td><td>2016</td><td>150</td><td>86</td></tr><tr><td>6</td><td>2016</td><td>150</td><td>135</td></tr><tr><td>10</td><td>2016</td><td>103</td><td>12</td></tr><tr><td>10</td><td>2016</td><td>103</td><td>49</td></tr><tr><td>10</td><td>2016</td><td>103</td><td>61</td></tr><tr><td>10</td><td>2016</td><td>103</td><td>98</td></tr><tr><td>5</td><td>2016</td><td>43</td><td>14</td></tr><tr><td>5</td><td>2016</td><td>43</td><td>20</td></tr><tr><td>6</td><td>2016</td><td>150</td><td>29</td></tr><tr><td>6</td><td>2016</td><td>150</td><td>35</td></tr><tr><td>9</td><td>2016</td><td>24</td><td>11</td></tr><tr><td>9</td><td>2016</td><td>24</td><td>17</td></tr><tr><td>6</td><td>2017</td><td>29</td><td>18</td></tr><tr><td>8</td><td>2016</td><td>157</td><td>88</td></tr><tr><td>8</td><td>2016</td><td>157</td><td>94</td></tr><tr><td>12</td><td>2016</td><td>152</td><td>57</td></tr><tr><td>12</td><td>2016</td><td>152</td><td>63</td></tr><tr><td>6</td><td>2016</td><td>150</td><td>78</td></tr><tr><td>7</td><td>2016</td><td>28</td><td>17</td></tr><tr><td>8</td><td>2017</td><td>47</td><td>42</td></tr><tr><td>10</td><td>2017</td><td>20</td><td>10</td></tr><tr><td>3</td><td>2016</td><td>35</td><td>27</td></tr><tr><td>4</td><td>2016</td><td>61</td><td>27</td></tr><tr><td>6</td><td>2016</td><td>150</td><td>129</td></tr><tr><td>10</td><td>2016</td><td>103</td><td>55</td></tr><tr><td>4</td><td>2016</td><td>61</td><td>52</td></tr><tr><td>12</td><td>2016</td><td>152</td><td>131</td></tr><tr><td>1</td><td>2017</td><td>7</td><td>3</td></tr><tr><td>4</td><td>2016</td><td>61</td><td>4</td></tr><tr><td>8</td><td>2016</td><td>157</td><td>105</td></tr><tr><td>10</td><td>2016</td><td>103</td><td>20</td></tr><tr><td>6</td><td>2017</td><td>29</td><td>22</td></tr><tr><td>9</td><td>2016</td><td>24</td><td>19</td></tr><tr><td>8</td><td>2016</td><td>157</td><td>30</td></tr><tr><td>10</td><td>2016</td><td>103</td><td>89</td></tr><tr><td>3</td><td>2016</td><td>35</td><td>35</td></tr><tr><td>6</td><td>2016</td><td>150</td><td>94</td></tr><tr><td>1</td><td>2016</td><td>63</td><td>37</td></tr><tr><td>3</td><td>2016</td><td>35</td><td>12</td></tr><tr><td>5</td><td>2016</td><td>43</td><td>28</td></tr><tr><td>6</td><td>2016</td><td>150</td><td>40</td></tr><tr><td>8</td><td>2016</td><td>157</td><td>76</td></tr><tr><td>8</td><td>2016</td><td>157</td><td>153</td></tr><tr><td>10</td><td>2016</td><td>103</td><td>43</td></tr><tr><td>1</td><td>2016</td><td>63</td><td>60</td></tr><tr><td>5</td><td>2016</td><td>43</td><td>5</td></tr><tr><td>6</td><td>2016</td><td>150</td><td>17</td></tr><tr><td>6</td><td>2016</td><td>150</td><td>140</td></tr><tr><td>7</td><td>2016</td><td>28</td><td>2</td></tr><tr><td>8</td><td>2016</td><td>157</td><td>53</td></tr><tr><td>10</td><td>2016</td><td>103</td><td>66</td></tr><tr><td>11</td><td>2017</td><td>3</td><td>2</td></tr><tr><td>12</td><td>2017</td><td>27</td><td>22</td></tr><tr><td>4</td><td>2016</td><td>61</td><td>58</td></tr><tr><td>8</td><td>2016</td><td>157</td><td>122</td></tr><tr><td>8</td><td>2017</td><td>47</td><td>8</td></tr><tr><td>10</td><td>2016</td><td>103</td><td>74</td></tr><tr><td>12</td><td>2016</td><td>152</td><td>125</td></tr><tr><td>12</td><td>2016</td><td>152</td><td>137</td></tr><tr><td>1</td><td>2016</td><td>63</td><td>8</td></tr><tr><td>6</td><td>2016</td><td>150</td><td>63</td></tr><tr><td>10</td><td>2016</td><td>103</td><td>26</td></tr><tr><td>1</td><td>2016</td><td>63</td><td>43</td></tr><tr><td>5</td><td>2016</td><td>43</td><td>34</td></tr><tr><td>6</td><td>2016</td><td>150</td><td>111</td></tr><tr><td>10</td><td>2016</td><td>103</td><td>37</td></tr><tr><td>12</td><td>2016</td><td>152</td><td>91</td></tr><tr><td>1</td><td>2016</td><td>63</td><td>54</td></tr><tr><td>4</td><td>2016</td><td>61</td><td>44</td></tr><tr><td>6</td><td>2016</td><td>150</td><td>146</td></tr><tr><td>9</td><td>2017</td><td>5</td><td>4</td></tr><tr><td>8</td><td>2017</td><td>47</td><td>17</td></tr><tr><td>10</td><td>2016</td><td>103</td><td>83</td></tr><tr><td>12</td><td>2017</td><td>27</td><td>8</td></tr><tr><td>12</td><td>2017</td><td>27</td><td>14</td></tr><tr><td>6</td><td>2016</td><td>150</td><td>100</td></tr><tr><td>8</td><td>2016</td><td>157</td><td>13</td></tr><tr><td>8</td><td>2016</td><td>157</td><td>19</td></tr><tr><td>12</td><td>2016</td><td>152</td><td>85</td></tr><tr><td>2</td><td>2016</td><td>13</td><td>11</td></tr><tr><td>6</td><td>2016</td><td>150</td><td>54</td></tr><tr><td>7</td><td>2017</td><td>6</td><td>6</td></tr><tr><td>8</td><td>2017</td><td>47</td><td>14</td></tr><tr><td>12</td><td>2016</td><td>152</td><td>48</td></tr><tr><td>12</td><td>2017</td><td>27</td><td>5</td></tr><tr><td>1</td><td>2016</td><td>63</td><td>51</td></tr><tr><td>5</td><td>2017</td><td>10</td><td>10</td></tr><tr><td>6</td><td>2016</td><td>150</td><td>8</td></tr><tr><td>8</td><td>2016</td><td>157</td><td>93</td></tr><tr><td>12</td><td>2016</td><td>152</td><td>25</td></tr><tr><td>1</td><td>2016</td><td>63</td><td>28</td></tr><tr><td>3</td><td>2016</td><td>35</td><td>18</td></tr><tr><td>4</td><td>2016</td><td>61</td><td>18</td></tr><tr><td>10</td><td>2016</td><td>103</td><td>34</td></tr><tr><td>11</td><td>2016</td><td>23</td><td>1</td></tr><tr><td>8</td><td>2016</td><td>157</td><td>22</td></tr><tr><td>4</td><td>2016</td><td>61</td><td>61</td></tr><tr><td>12</td><td>2016</td><td>152</td><td>74</td></tr><tr><td>12</td><td>2016</td><td>152</td><td>117</td></tr><tr><td>10</td><td>2017</td><td>20</td><td>19</td></tr><tr><td>4</td><td>2016</td><td>61</td><td>38</td></tr><tr><td>4</td><td>2017</td><td>12</td><td>1</td></tr><tr><td>10</td><td>2016</td><td>103</td><td>3</td></tr><tr><td>12</td><td>2016</td><td>152</td><td>54</td></tr><tr><td>1</td><td>2016</td><td>63</td><td>20</td></tr><tr><td>8</td><td>2016</td><td>157</td><td>50</td></tr><tr><td>8</td><td>2016</td><td>157</td><td>99</td></tr><tr><td>8</td><td>2017</td><td>47</td><td>31</td></tr><tr><td>9</td><td>2016</td><td>24</td><td>2</td></tr><tr><td>10</td><td>2017</td><td>20</td><td>5</td></tr><tr><td>12</td><td>2016</td><td>152</td><td>148</td></tr><tr><td>5</td><td>2016</td><td>43</td><td>25</td></tr><tr><td>6</td><td>2016</td><td>150</td><td>120</td></tr><tr><td>8</td><td>2016</td><td>157</td><td>85</td></tr><tr><td>9</td><td>2016</td><td>24</td><td>16</td></tr><tr><td>12</td><td>2016</td><td>152</td><td>5</td></tr><tr><td>4</td><td>2016</td><td>61</td><td>32</td></tr><tr><td>5</td><td>2016</td><td>43</td><td>11</td></tr><tr><td>6</td><td>2016</td><td>150</td><td>134</td></tr><tr><td>10</td><td>2016</td><td>103</td><td>60</td></tr><tr><td>10</td><td>2016</td><td>103</td><td>97</td></tr><tr><td>6</td><td>2016</td><td>150</td><td>77</td></tr><tr><td>6</td><td>2016</td><td>150</td><td>83</td></tr><tr><td>7</td><td>2016</td><td>28</td><td>10</td></tr><tr><td>7</td><td>2016</td><td>28</td><td>16</td></tr><tr><td>8</td><td>2016</td><td>157</td><td>36</td></tr><tr><td>8</td><td>2016</td><td>157</td><td>42</td></tr><tr><td>8</td><td>2016</td><td>157</td><td>136</td></tr><tr><td>8</td><td>2016</td><td>157</td><td>142</td></tr><tr><td>11</td><td>2016</td><td>23</td><td>15</td></tr><tr><td>11</td><td>2016</td><td>23</td><td>21</td></tr><tr><td>4</td><td>2016</td><td>61</td><td>24</td></tr><tr><td>6</td><td>2016</td><td>150</td><td>126</td></tr><tr><td>12</td><td>2016</td><td>152</td><td>11</td></tr><tr><td>10</td><td>2016</td><td>103</td><td>54</td></tr><tr><td>10</td><td>2016</td><td>103</td><td>103</td></tr><tr><td>1</td><td>2016</td><td>63</td><td>63</td></tr><tr><td>6</td><td>2016</td><td>150</td><td>20</td></tr><tr><td>8</td><td>2016</td><td>157</td><td>56</td></tr><tr><td>1</td><td>2016</td><td>63</td><td>40</td></tr><tr><td>6</td><td>2017</td><td>29</td><td>19</td></tr><tr><td>1</td><td>2016</td><td>63</td><td>17</td></tr><tr><td>3</td><td>2016</td><td>35</td><td>32</td></tr><tr><td>8</td><td>2016</td><td>157</td><td>10</td></tr><tr><td>10</td><td>2016</td><td>103</td><td>23</td></tr><tr><td>8</td><td>2016</td><td>157</td><td>125</td></tr><tr><td>5</td><td>2016</td><td>43</td><td>8</td></tr><tr><td>6</td><td>2016</td><td>150</td><td>137</td></tr><tr><td>6</td><td>2016</td><td>150</td><td>143</td></tr><tr><td>1</td><td>2016</td><td>63</td><td>34</td></tr><tr><td>6</td><td>2016</td><td>150</td><td>43</td></tr><tr><td>6</td><td>2016</td><td>150</td><td>114</td></tr><tr><td>8</td><td>2016</td><td>157</td><td>79</td></tr><tr><td>10</td><td>2016</td><td>103</td><td>40</td></tr><tr><td>11</td><td>2016</td><td>23</td><td>7</td></tr><tr><td>1</td><td>2016</td><td>63</td><td>11</td></tr><tr><td>6</td><td>2016</td><td>150</td><td>91</td></tr><tr><td>6</td><td>2017</td><td>29</td><td>2</td></tr><tr><td>8</td><td>2017</td><td>47</td><td>28</td></tr><tr><td>10</td><td>2016</td><td>103</td><td>17</td></tr><tr><td>1</td><td>2016</td><td>63</td><td>57</td></tr><tr><td>6</td><td>2016</td><td>150</td><td>14</td></tr><tr><td>6</td><td>2016</td><td>150</td><td>51</td></tr><tr><td>7</td><td>2017</td><td>6</td><td>3</td></tr><tr><td>9</td><td>2017</td><td>5</td><td>1</td></tr><tr><td>8</td><td>2016</td><td>157</td><td>73</td></tr><tr><td>8</td><td>2016</td><td>157</td><td>156</td></tr><tr><td>12</td><td>2016</td><td>152</td><td>88</td></tr><tr><td>6</td><td>2016</td><td>150</td><td>60</td></tr><tr><td>6</td><td>2016</td><td>150</td><td>97</td></tr><tr><td>4</td><td>2016</td><td>61</td><td>55</td></tr><tr><td>4</td><td>2017</td><td>12</td><td>12</td></tr><tr><td>8</td><td>2016</td><td>157</td><td>119</td></tr><tr><td>8</td><td>2017</td><td>47</td><td>11</td></tr><tr><td>12</td><td>2016</td><td>152</td><td>128</td></tr><tr><td>12</td><td>2016</td><td>152</td><td>134</td></tr><tr><td>2</td><td>2016</td><td>13</td><td>8</td></tr><tr><td>3</td><td>2016</td><td>35</td><td>1</td></tr><tr><td>4</td><td>2016</td><td>61</td><td>1</td></tr><tr><td>5</td><td>2016</td><td>43</td><td>42</td></tr><tr><td>6</td><td>2016</td><td>150</td><td>103</td></tr><tr><td>12</td><td>2016</td><td>152</td><td>34</td></tr><tr><td>6</td><td>2016</td><td>150</td><td>80</td></tr><tr><td>4</td><td>2016</td><td>61</td><td>41</td></tr><tr><td>4</td><td>2017</td><td>12</td><td>4</td></tr><tr><td>10</td><td>2016</td><td>103</td><td>57</td></tr><tr><td>3</td><td>2016</td><td>35</td><td>21</td></tr><tr><td>6</td><td>2017</td><td>29</td><td>10</td></tr><tr><td>8</td><td>2016</td><td>157</td><td>70</td></tr><tr><td>6</td><td>2016</td><td>150</td><td>11</td></tr><tr><td>10</td><td>2017</td><td>20</td><td>2</td></tr><tr><td>12</td><td>2016</td><td>152</td><td>45</td></tr><tr><td>12</td><td>2016</td><td>152</td><td>51</td></tr><tr><td>12</td><td>2017</td><td>27</td><td>2</td></tr><tr><td>3</td><td>2016</td><td>35</td><td>15</td></tr><tr><td>4</td><td>2016</td><td>61</td><td>15</td></tr><tr><td>11</td><td>2016</td><td>23</td><td>4</td></tr><tr><td>12</td><td>2016</td><td>152</td><td>94</td></tr><tr><td>5</td><td>2017</td><td>10</td><td>7</td></tr><tr><td>12</td><td>2016</td><td>152</td><td>71</td></tr><tr><td>12</td><td>2016</td><td>152</td><td>145</td></tr><tr><td>7</td><td>2016</td><td>28</td><td>19</td></tr><tr><td>4</td><td>2016</td><td>61</td><td>35</td></tr><tr><td>10</td><td>2016</td><td>103</td><td>14</td></tr><tr><td>1</td><td>2016</td><td>63</td><td>31</td></tr><tr><td>4</td><td>2016</td><td>61</td><td>21</td></tr><tr><td>5</td><td>2016</td><td>43</td><td>22</td></tr><tr><td>6</td><td>2016</td><td>150</td><td>37</td></tr><tr><td>6</td><td>2016</td><td>150</td><td>123</td></tr><tr><td>10</td><td>2017</td><td>20</td><td>16</td></tr><tr><td>8</td><td>2016</td><td>157</td><td>96</td></tr><tr><td>8</td><td>2016</td><td>157</td><td>133</td></tr><tr><td>9</td><td>2016</td><td>24</td><td>5</td></tr><tr><td>12</td><td>2016</td><td>152</td><td>102</td></tr><tr><td>12</td><td>2016</td><td>152</td><td>151</td></tr><tr><td>10</td><td>2016</td><td>103</td><td>6</td></tr><tr><td>6</td><td>2016</td><td>150</td><td>31</td></tr><tr><td>6</td><td>2017</td><td>29</td><td>16</td></tr><tr><td>9</td><td>2016</td><td>24</td><td>13</td></tr><tr><td>12</td><td>2016</td><td>152</td><td>8</td></tr><tr><td>8</td><td>2016</td><td>157</td><td>139</td></tr><tr><td>8</td><td>2017</td><td>47</td><td>40</td></tr><tr><td>10</td><td>2017</td><td>20</td><td>8</td></tr><tr><td>11</td><td>2016</td><td>23</td><td>18</td></tr><tr><td>12</td><td>2016</td><td>152</td><td>108</td></tr><tr><td>1</td><td>2016</td><td>63</td><td>62</td></tr><tr><td>10</td><td>2016</td><td>103</td><td>68</td></tr><tr><td>1</td><td>2016</td><td>63</td><td>39</td></tr><tr><td>4</td><td>2016</td><td>61</td><td>29</td></tr><tr><td>9</td><td>2016</td><td>24</td><td>21</td></tr><tr><td>10</td><td>2016</td><td>103</td><td>45</td></tr><tr><td>1</td><td>2016</td><td>63</td><td>16</td></tr><tr><td>3</td><td>2016</td><td>35</td><td>6</td></tr><tr><td>10</td><td>2016</td><td>103</td><td>22</td></tr><tr><td>2</td><td>2016</td><td>13</td><td>5</td></tr><tr><td>10</td><td>2017</td><td>20</td><td>14</td></tr><tr><td>11</td><td>2016</td><td>23</td><td>12</td></tr><tr><td>6</td><td>2016</td><td>150</td><td>65</td></tr><tr><td>7</td><td>2016</td><td>28</td><td>4</td></tr><tr><td>8</td><td>2016</td><td>157</td><td>101</td></tr><tr><td>8</td><td>2016</td><td>157</td><td>107</td></tr><tr><td>12</td><td>2017</td><td>27</td><td>20</td></tr><tr><td>6</td><td>2016</td><td>150</td><td>88</td></tr><tr><td>6</td><td>2016</td><td>150</td><td>119</td></tr><tr><td>8</td><td>2016</td><td>157</td><td>7</td></tr><tr><td>8</td><td>2016</td><td>157</td><td>124</td></tr><tr><td>8</td><td>2016</td><td>157</td><td>130</td></tr><tr><td>8</td><td>2017</td><td>47</td><td>6</td></tr><tr><td>5</td><td>2016</td><td>43</td><td>7</td></tr><tr><td>6</td><td>2016</td><td>150</td><td>19</td></tr><tr><td>8</td><td>2016</td><td>157</td><td>55</td></tr><tr><td>5</td><td>2016</td><td>43</td><td>30</td></tr><tr><td>6</td><td>2016</td><td>150</td><td>42</td></tr><tr><td>7</td><td>2016</td><td>28</td><td>27</td></tr><tr><td>1</td><td>2016</td><td>63</td><td>56</td></tr><tr><td>4</td><td>2016</td><td>61</td><td>46</td></tr><tr><td>8</td><td>2016</td><td>157</td><td>15</td></tr><tr><td>5</td><td>2017</td><td>10</td><td>2</td></tr><tr><td>6</td><td>2016</td><td>150</td><td>13</td></tr><tr><td>6</td><td>2016</td><td>150</td><td>96</td></tr><tr><td>12</td><td>2016</td><td>152</td><td>79</td></tr><tr><td>4</td><td>2017</td><td>12</td><td>7</td></tr><tr><td>6</td><td>2016</td><td>150</td><td>48</td></tr><tr><td>10</td><td>2016</td><td>103</td><td>85</td></tr><tr><td>12</td><td>2016</td><td>152</td><td>139</td></tr><tr><td>8</td><td>2016</td><td>157</td><td>118</td></tr><tr><td>8</td><td>2017</td><td>47</td><td>12</td></tr><tr><td>12</td><td>2016</td><td>152</td><td>87</td></tr><tr><td>2</td><td>2016</td><td>13</td><td>13</td></tr><tr><td>6</td><td>2016</td><td>150</td><td>102</td></tr><tr><td>6</td><td>2016</td><td>150</td><td>105</td></tr><tr><td>8</td><td>2016</td><td>157</td><td>67</td></tr><tr><td>10</td><td>2016</td><td>103</td><td>28</td></tr><tr><td>4</td><td>2016</td><td>61</td><td>40</td></tr><tr><td>11</td><td>2016</td><td>23</td><td>23</td></tr><tr><td>12</td><td>2016</td><td>152</td><td>119</td></tr><tr><td>1</td><td>2016</td><td>63</td><td>2</td></tr><tr><td>8</td><td>2016</td><td>157</td><td>44</td></tr><tr><td>3</td><td>2016</td><td>35</td><td>20</td></tr><tr><td>10</td><td>2016</td><td>103</td><td>11</td></tr><tr><td>2</td><td>2017</td><td>5</td><td>1</td></tr><tr><td>8</td><td>2016</td><td>157</td><td>24</td></tr><tr><td>12</td><td>2016</td><td>152</td><td>27</td></tr><tr><td>12</td><td>2017</td><td>27</td><td>26</td></tr><tr><td>8</td><td>2016</td><td>157</td><td>1</td></tr><tr><td>11</td><td>2016</td><td>23</td><td>3</td></tr><tr><td>12</td><td>2016</td><td>152</td><td>50</td></tr><tr><td>12</td><td>2016</td><td>152</td><td>93</td></tr><tr><td>12</td><td>2016</td><td>152</td><td>70</td></tr><tr><td>3</td><td>2016</td><td>35</td><td>14</td></tr><tr><td>10</td><td>2016</td><td>103</td><td>62</td></tr><tr><td>12</td><td>2016</td><td>152</td><td>113</td></tr><tr><td>7</td><td>2016</td><td>28</td><td>18</td></tr><tr><td>8</td><td>2016</td><td>157</td><td>87</td></tr><tr><td>10</td><td>2017</td><td>20</td><td>17</td></tr><tr><td>12</td><td>2016</td><td>152</td><td>7</td></tr><tr><td>5</td><td>2016</td><td>43</td><td>13</td></tr><tr><td>9</td><td>2016</td><td>24</td><td>4</td></tr><tr><td>12</td><td>2016</td><td>152</td><td>150</td></tr><tr><td>4</td><td>2016</td><td>61</td><td>20</td></tr><tr><td>6</td><td>2016</td><td>150</td><td>36</td></tr><tr><td>6</td><td>2016</td><td>150</td><td>85</td></tr><tr><td>6</td><td>2016</td><td>150</td><td>122</td></tr><tr><td>10</td><td>2016</td><td>103</td><td>48</td></tr><tr><td>8</td><td>2017</td><td>47</td><td>35</td></tr><tr><td>10</td><td>2017</td><td>20</td><td>3</td></tr><tr><td>1</td><td>2016</td><td>63</td><td>22</td></tr><tr><td>5</td><td>2016</td><td>43</td><td>19</td></tr><tr><td>9</td><td>2016</td><td>24</td><td>10</td></tr><tr><td>3</td><td>2016</td><td>35</td><td>26</td></tr><tr><td>4</td><td>2016</td><td>61</td><td>26</td></tr><tr><td>6</td><td>2016</td><td>150</td><td>79</td></tr><tr><td>6</td><td>2016</td><td>150</td><td>128</td></tr><tr><td>10</td><td>2016</td><td>103</td><td>5</td></tr><tr><td>6</td><td>2016</td><td>150</td><td>139</td></tr><tr><td>7</td><td>2016</td><td>28</td><td>1</td></tr><tr><td>8</td><td>2016</td><td>157</td><td>104</td></tr><tr><td>12</td><td>2016</td><td>152</td><td>36</td></tr><tr><td>12</td><td>2016</td><td>152</td><td>107</td></tr><tr><td>7</td><td>2016</td><td>28</td><td>24</td></tr><tr><td>8</td><td>2016</td><td>157</td><td>81</td></tr><tr><td>10</td><td>2017</td><td>20</td><td>11</td></tr><tr><td>12</td><td>2016</td><td>152</td><td>13</td></tr><tr><td>12</td><td>2016</td><td>152</td><td>130</td></tr><tr><td>8</td><td>2016</td><td>157</td><td>58</td></tr><tr><td>8</td><td>2016</td><td>157</td><td>35</td></tr><tr><td>9</td><td>2016</td><td>24</td><td>18</td></tr><tr><td>1</td><td>2016</td><td>63</td><td>59</td></tr><tr><td>3</td><td>2016</td><td>35</td><td>34</td></tr><tr><td>10</td><td>2016</td><td>103</td><td>71</td></tr><tr><td>2</td><td>2016</td><td>13</td><td>2</td></tr><tr><td>5</td><td>2016</td><td>43</td><td>27</td></tr><tr><td>5</td><td>2016</td><td>43</td><td>33</td></tr><tr><td>10</td><td>2016</td><td>103</td><td>88</td></tr><tr><td>10</td><td>2016</td><td>103</td><td>94</td></tr><tr><td>11</td><td>2016</td><td>23</td><td>9</td></tr><tr><td>5</td><td>2016</td><td>43</td><td>4</td></tr><tr><td>6</td><td>2017</td><td>29</td><td>25</td></tr><tr><td>9</td><td>2016</td><td>24</td><td>1</td></tr><tr><td>1</td><td>2016</td><td>63</td><td>36</td></tr><tr><td>8</td><td>2016</td><td>157</td><td>127</td></tr><tr><td>8</td><td>2017</td><td>47</td><td>3</td></tr><tr><td>9</td><td>2016</td><td>24</td><td>24</td></tr><tr><td>6</td><td>2016</td><td>150</td><td>62</td></tr><tr><td>8</td><td>2016</td><td>157</td><td>27</td></tr><tr><td>12</td><td>2016</td><td>152</td><td>30</td></tr><tr><td>4</td><td>2017</td><td>12</td><td>10</td></tr><tr><td>8</td><td>2016</td><td>157</td><td>75</td></tr><tr><td>12</td><td>2016</td><td>152</td><td>136</td></tr><tr><td>4</td><td>2016</td><td>61</td><td>9</td></tr><tr><td>6</td><td>2016</td><td>150</td><td>99</td></tr><tr><td>10</td><td>2016</td><td>103</td><td>25</td></tr><tr><td>12</td><td>2016</td><td>152</td><td>76</td></tr><tr><td>1</td><td>2016</td><td>63</td><td>42</td></tr><tr><td>4</td><td>2016</td><td>61</td><td>57</td></tr><tr><td>8</td><td>2016</td><td>157</td><td>121</td></tr><tr><td>8</td><td>2017</td><td>47</td><td>9</td></tr><tr><td>12</td><td>2016</td><td>152</td><td>90</td></tr><tr><td>4</td><td>2016</td><td>61</td><td>49</td></tr><tr><td>7</td><td>2017</td><td>6</td><td>1</td></tr><tr><td>5</td><td>2016</td><td>43</td><td>39</td></tr><tr><td>10</td><td>2016</td><td>103</td><td>82</td></tr><tr><td>3</td><td>2016</td><td>35</td><td>3</td></tr><tr><td>10</td><td>2016</td><td>103</td><td>31</td></tr><tr><td>1</td><td>2016</td><td>63</td><td>48</td></tr><tr><td>6</td><td>2016</td><td>150</td><td>5</td></tr><tr><td>6</td><td>2016</td><td>150</td><td>56</td></tr><tr><td>8</td><td>2016</td><td>157</td><td>21</td></tr><tr><td>8</td><td>2017</td><td>47</td><td>38</td></tr><tr><td>4</td><td>2016</td><td>61</td><td>17</td></tr><tr><td>6</td><td>2016</td><td>150</td><td>33</td></tr><tr><td>10</td><td>2016</td><td>103</td><td>8</td></tr><tr><td>1</td><td>2016</td><td>63</td><td>5</td></tr><tr><td>6</td><td>2017</td><td>29</td><td>8</td></tr><tr><td>8</td><td>2016</td><td>157</td><td>47</td></tr><tr><td>4</td><td>2016</td><td>61</td><td>43</td></tr><tr><td>12</td><td>2016</td><td>152</td><td>116</td></tr><tr><td>3</td><td>2016</td><td>35</td><td>17</td></tr><tr><td>4</td><td>2016</td><td>61</td><td>60</td></tr><tr><td>5</td><td>2017</td><td>10</td><td>5</td></tr><tr><td>6</td><td>2017</td><td>29</td><td>28</td></tr><tr><td>12</td><td>2016</td><td>152</td><td>73</td></tr><tr><td>10</td><td>2017</td><td>20</td><td>20</td></tr><tr><td>12</td><td>2016</td><td>152</td><td>47</td></tr><tr><td>12</td><td>2016</td><td>152</td><td>96</td></tr><tr><td>2</td><td>2017</td><td>5</td><td>4</td></tr><tr><td>3</td><td>2017</td><td>4</td><td>3</td></tr><tr><td>7</td><td>2016</td><td>28</td><td>7</td></tr><tr><td>12</td><td>2017</td><td>27</td><td>23</td></tr><tr><td>1</td><td>2016</td><td>63</td><td>33</td></tr><tr><td>4</td><td>2016</td><td>61</td><td>23</td></tr><tr><td>6</td><td>2016</td><td>150</td><td>39</td></tr><tr><td>10</td><td>2016</td><td>103</td><td>2</td></tr><tr><td>10</td><td>2016</td><td>103</td><td>51</td></tr><tr><td>1</td><td>2016</td><td>63</td><td>19</td></tr><tr><td>6</td><td>2016</td><td>150</td><td>25</td></tr><tr><td>8</td><td>2016</td><td>157</td><td>147</td></tr><tr><td>12</td><td>2016</td><td>152</td><td>67</td></tr><tr><td>7</td><td>2016</td><td>28</td><td>21</td></tr><tr><td>8</td><td>2016</td><td>157</td><td>84</td></tr><tr><td>8</td><td>2017</td><td>47</td><td>46</td></tr><tr><td>12</td><td>2016</td><td>152</td><td>4</td></tr><tr><td>12</td><td>2016</td><td>152</td><td>16</td></tr><tr><td>12</td><td>2016</td><td>152</td><td>53</td></tr><tr><td>10</td><td>2016</td><td>103</td><td>59</td></tr><tr><td>11</td><td>2016</td><td>23</td><td>20</td></tr><tr><td>12</td><td>2016</td><td>152</td><td>110</td></tr><tr><td>6</td><td>2016</td><td>150</td><td>76</td></tr><tr><td>6</td><td>2016</td><td>150</td><td>82</td></tr><tr><td>6</td><td>2016</td><td>150</td><td>125</td></tr><tr><td>1</td><td>2016</td><td>63</td><td>25</td></tr><tr><td>5</td><td>2016</td><td>43</td><td>16</td></tr><tr><td>8</td><td>2016</td><td>157</td><td>141</td></tr><tr><td>10</td><td>2016</td><td>103</td><td>102</td></tr><tr><td>6</td><td>2017</td><td>29</td><td>14</td></tr><tr><td>7</td><td>2016</td><td>28</td><td>15</td></tr><tr><td>8</td><td>2016</td><td>157</td><td>41</td></tr><tr><td>12</td><td>2016</td><td>152</td><td>59</td></tr></table>"
                    },
                    "metadata": {}
                }
            ],
            "execution_count": 10
        },
        {
            "cell_type": "markdown",
            "source": [
                "5. <span style=\"background-color: rgb(255, 255, 255); color: rgb(0, 0, 0); font-family: &quot;Open Sans&quot;, sans-serif; font-size: 14.44px;\">Készítsük listát a szálláshelyekről! A lista tartalmazza a szálláshely azonosítóját, nevét, és a csillagok számát csillagszám szerint csökkenő, azon belül szállásnév szerint növekvő sorrendben!&nbsp;</span> \n",
                "\n",
                "a. Vegyünk fel két új oszlopot, amely a sorrend szerint előző szálláshely nevét, illetve azonosítóját is megjeleníti!"
            ],
            "metadata": {
                "azdata_cell_guid": "84239ca2-6b5e-49f5-9860-d44c11d6de32"
            },
            "attachments": {}
        },
        {
            "cell_type": "code",
            "source": [
                ""
            ],
            "metadata": {
                "azdata_cell_guid": "06d9a62b-9430-424b-a135-d80e675f0eb3",
                "language": "sql"
            },
            "outputs": [],
            "execution_count": null
        },
        {
            "cell_type": "markdown",
            "source": [
                "6. <span style=\"background-color: rgb(255, 255, 255); color: rgb(0, 0, 0); font-family: &quot;Open Sans&quot;, sans-serif; font-size: 14.44px;\">Listázzuk azon termékeket, amelyekből az átlagosnál kevesebb van raktáron!&nbsp;</span> \n",
                "\n",
                "a. Csak a termék kódja és megnevezése jelenjen meg!"
            ],
            "metadata": {
                "azdata_cell_guid": "b0d15045-3c43-4f3a-b8d4-76b4f24e5546"
            },
            "attachments": {}
        },
        {
            "cell_type": "code",
            "source": [
                ""
            ],
            "metadata": {
                "azdata_cell_guid": "f2b7400d-1255-40ac-9250-4d57f9da5357",
                "language": "sql"
            },
            "outputs": [],
            "execution_count": null
        },
        {
            "cell_type": "markdown",
            "source": [
                "7. <span style=\"background-color: rgb(255, 255, 255); color: rgb(0, 0, 0); font-family: &quot;Open Sans&quot;, sans-serif; font-size: 14.44px;\">Listázzuk azon ügyfeleket, akik még nem fizettek bankkártyával!&nbsp;</span> \n",
                "\n",
                "a. Csak az ügyfelek neve jelenjen meg!"
            ],
            "metadata": {
                "azdata_cell_guid": "7ebf7ddd-1bd2-4246-815a-be8ae37e3b5b"
            },
            "attachments": {}
        },
        {
            "cell_type": "code",
            "source": [
                "--akinek a kódja nincsen benne a bakkártáyval fizetők kódjainak halmazában \r\n",
                "--nem létezik olyan rendels ahol az adott ügyfélkoddal foglaltak és bankártáyval fizettek\r\n",
                "select nev\r\n",
                "from Ugyfel\r\n",
                "where login not in (\r\n",
                "    select [LOGIN]\r\n",
                "    from Rendeles\r\n",
                "    Where fiz_mod = 'bakkártya' \r\n",
                ")"
            ],
            "metadata": {
                "azdata_cell_guid": "84b7e896-f36e-4985-88f5-e0f706494fef",
                "language": "sql"
            },
            "outputs": [
                {
                    "output_type": "display_data",
                    "data": {
                        "text/html": "(200 rows affected)"
                    },
                    "metadata": {}
                },
                {
                    "output_type": "display_data",
                    "data": {
                        "text/html": "Total execution time: 00:00:00.047"
                    },
                    "metadata": {}
                },
                {
                    "output_type": "execute_result",
                    "execution_count": 11,
                    "data": {
                        "application/vnd.dataresource+json": {
                            "schema": {
                                "fields": [
                                    {
                                        "name": "nev"
                                    }
                                ]
                            },
                            "data": [
                                {
                                    "nev": "Kiss Ádám"
                                },
                                {
                                    "nev": "Barkóci Ádám"
                                },
                                {
                                    "nev": "Bieniek Ádám"
                                },
                                {
                                    "nev": "Lengyel Ágnes"
                                },
                                {
                                    "nev": "Hartyánszky Ágnes"
                                },
                                {
                                    "nev": "Horváth Ágnes"
                                },
                                {
                                    "nev": "Kovács Ágnes"
                                },
                                {
                                    "nev": "Bíró Ákos"
                                },
                                {
                                    "nev": "Dunai Aladár"
                                },
                                {
                                    "nev": "Bagóczki Alexandra"
                                },
                                {
                                    "nev": "Biró Alexander"
                                },
                                {
                                    "nev": "Maródi Andrea"
                                },
                                {
                                    "nev": "Tóth András"
                                },
                                {
                                    "nev": "Molnár András"
                                },
                                {
                                    "nev": "Vígh András"
                                },
                                {
                                    "nev": "Back András"
                                },
                                {
                                    "nev": "Komjáti András"
                                },
                                {
                                    "nev": "Erdei András"
                                },
                                {
                                    "nev": "Nagy András"
                                },
                                {
                                    "nev": "Kiss Andrea"
                                },
                                {
                                    "nev": "Szomor Andrea"
                                },
                                {
                                    "nev": "Neizer Andrea"
                                },
                                {
                                    "nev": "Tornyos Andrea"
                                },
                                {
                                    "nev": "Pivarcsi Anett"
                                },
                                {
                                    "nev": "Tóth Anikó"
                                },
                                {
                                    "nev": "Böröcz Anikó"
                                },
                                {
                                    "nev": "Simon Anikó"
                                },
                                {
                                    "nev": "Hamvay-Kovács Anita"
                                },
                                {
                                    "nev": "Szűcs Annamária"
                                },
                                {
                                    "nev": "Regős Annamária"
                                },
                                {
                                    "nev": "Jakab Áron"
                                },
                                {
                                    "nev": "Kelemen Áron"
                                },
                                {
                                    "nev": "Ötvös Árpád"
                                },
                                {
                                    "nev": "Horváth Árpád"
                                },
                                {
                                    "nev": "Móricz Árpád"
                                },
                                {
                                    "nev": "Csóti Attila"
                                },
                                {
                                    "nev": "Gulyás Attila"
                                },
                                {
                                    "nev": "Baróti Attila"
                                },
                                {
                                    "nev": "Opra Attila"
                                },
                                {
                                    "nev": "Bozsik Balázs"
                                },
                                {
                                    "nev": "Szűcs Balázs"
                                },
                                {
                                    "nev": "Bakódy Balázs"
                                },
                                {
                                    "nev": "Horváth Bálint"
                                },
                                {
                                    "nev": "Molnár Bálint"
                                },
                                {
                                    "nev": "Vukasinovity Bálint"
                                },
                                {
                                    "nev": "Endresz Bálint"
                                },
                                {
                                    "nev": "Bagi Beáta"
                                },
                                {
                                    "nev": "Kerényi Beatrix"
                                },
                                {
                                    "nev": "Szekendi Beatrix"
                                },
                                {
                                    "nev": "Farkas Béla"
                                },
                                {
                                    "nev": "Győrffy Bence"
                                },
                                {
                                    "nev": "Bajusz Bence"
                                },
                                {
                                    "nev": "Simon Bernadett"
                                },
                                {
                                    "nev": "Kovács Bernadett"
                                },
                                {
                                    "nev": "Orbán Bernadett"
                                },
                                {
                                    "nev": "Csiger Bertalan"
                                },
                                {
                                    "nev": "Székely Brigitta"
                                },
                                {
                                    "nev": "Pataki Brigitta"
                                },
                                {
                                    "nev": "Nagymihály Csongor"
                                },
                                {
                                    "nev": "Vörös Dániel"
                                },
                                {
                                    "nev": "Rácz Dániel"
                                },
                                {
                                    "nev": "Keszler Dániel"
                                },
                                {
                                    "nev": "Ambrus Dávid"
                                },
                                {
                                    "nev": "Sobják Dávid"
                                },
                                {
                                    "nev": "Berta Dávid"
                                },
                                {
                                    "nev": "Barna Debóra"
                                },
                                {
                                    "nev": "Tömböly Dénes"
                                },
                                {
                                    "nev": "Mór Ottó"
                                },
                                {
                                    "nev": "Sarodi Dóra"
                                },
                                {
                                    "nev": "Bittmann Edit"
                                },
                                {
                                    "nev": "Kuruc Emese"
                                },
                                {
                                    "nev": "Molnár Eszter"
                                },
                                {
                                    "nev": "Balogh Eszter"
                                },
                                {
                                    "nev": "Fülöp Eszter"
                                },
                                {
                                    "nev": "Érsek Eszter"
                                },
                                {
                                    "nev": "Enyedi Éva"
                                },
                                {
                                    "nev": "Perlinger Éva"
                                },
                                {
                                    "nev": "Viktor Éva"
                                },
                                {
                                    "nev": "Orosz Ferenc"
                                },
                                {
                                    "nev": "Frank Fruzsina"
                                },
                                {
                                    "nev": "Köves Gábor"
                                },
                                {
                                    "nev": "Telek Gábor"
                                },
                                {
                                    "nev": "Szöllősi Gábor"
                                },
                                {
                                    "nev": "Nagy Gabriella"
                                },
                                {
                                    "nev": "Vida Gabriella"
                                },
                                {
                                    "nev": "Nyíri Georgij"
                                },
                                {
                                    "nev": "Bárci Gusztáv"
                                },
                                {
                                    "nev": "Kornseé Gyöngyi"
                                },
                                {
                                    "nev": "Oroszi György"
                                },
                                {
                                    "nev": "Nádudvari Henrik"
                                },
                                {
                                    "nev": "Andor Ibolya"
                                },
                                {
                                    "nev": "Bosnyák Ilona"
                                },
                                {
                                    "nev": "Búza Imre"
                                },
                                {
                                    "nev": "Papp Imre"
                                },
                                {
                                    "nev": "Soós István"
                                },
                                {
                                    "nev": "Vizi István"
                                },
                                {
                                    "nev": "Varga István"
                                },
                                {
                                    "nev": "Harangozó János"
                                },
                                {
                                    "nev": "Giliga János"
                                },
                                {
                                    "nev": "Pálinkás János"
                                },
                                {
                                    "nev": "Gergely József"
                                },
                                {
                                    "nev": "Vajda József"
                                },
                                {
                                    "nev": "Gyuris József"
                                },
                                {
                                    "nev": "Hídasi Judit"
                                },
                                {
                                    "nev": "Tóth Júlia"
                                },
                                {
                                    "nev": "Nagy Júlia"
                                },
                                {
                                    "nev": "Szabó Julianna"
                                },
                                {
                                    "nev": "Kiss Anita"
                                },
                                {
                                    "nev": "Gondos Katalin"
                                },
                                {
                                    "nev": "Horváth Katalin"
                                },
                                {
                                    "nev": "Kertész Katalin"
                                },
                                {
                                    "nev": "Zatykó Katalin"
                                },
                                {
                                    "nev": "Kovács Katalin"
                                },
                                {
                                    "nev": "Bakó Klaudia"
                                },
                                {
                                    "nev": "Lukács Kornél"
                                },
                                {
                                    "nev": "Poprádi Kristóf"
                                },
                                {
                                    "nev": "Horváth Krisztina"
                                },
                                {
                                    "nev": "Czérna Krisztián"
                                },
                                {
                                    "nev": "Mogyródi Krisztián"
                                },
                                {
                                    "nev": "Szedlár Krisztina"
                                },
                                {
                                    "nev": "Bori Krisztina"
                                },
                                {
                                    "nev": "Gyárfás Krisztina"
                                },
                                {
                                    "nev": "Kiss Lajos"
                                },
                                {
                                    "nev": "Nagymihály Lajos"
                                },
                                {
                                    "nev": "Farkas László"
                                },
                                {
                                    "nev": "Móra László"
                                },
                                {
                                    "nev": "Antal László"
                                },
                                {
                                    "nev": "Nagy László"
                                },
                                {
                                    "nev": "Baráth Mária"
                                },
                                {
                                    "nev": "Kispál Márk"
                                },
                                {
                                    "nev": "Horváth Márk"
                                },
                                {
                                    "nev": "Kalacsi Márton"
                                },
                                {
                                    "nev": "Koza Máté"
                                },
                                {
                                    "nev": "Botka Mátyás"
                                },
                                {
                                    "nev": "Szilágyi Mátyás"
                                },
                                {
                                    "nev": "Nagy Péter"
                                },
                                {
                                    "nev": "Juhász Mihály"
                                },
                                {
                                    "nev": "Gondos Miklós"
                                },
                                {
                                    "nev": "Balla Miklós"
                                },
                                {
                                    "nev": "Mohos Mónika"
                                },
                                {
                                    "nev": "Fő Nándor"
                                },
                                {
                                    "nev": "Horváth Nikolett"
                                },
                                {
                                    "nev": "Kő Nikoletta"
                                },
                                {
                                    "nev": "Tatár Nikoletta"
                                },
                                {
                                    "nev": "Szűcs Norbert"
                                },
                                {
                                    "nev": "Hegedűs Norbert"
                                },
                                {
                                    "nev": "Mile Norbert"
                                },
                                {
                                    "nev": "Béres Norbert"
                                },
                                {
                                    "nev": "Barabás Pál"
                                },
                                {
                                    "nev": "Kozma Péter"
                                },
                                {
                                    "nev": "Bozsó Péter"
                                },
                                {
                                    "nev": "Szalai Péter"
                                },
                                {
                                    "nev": "Bíró Péter"
                                },
                                {
                                    "nev": "Berendi Péter"
                                },
                                {
                                    "nev": "Palágyi Polla"
                                },
                                {
                                    "nev": "Rácz Rajmond"
                                },
                                {
                                    "nev": "Szikszai Réka"
                                },
                                {
                                    "nev": "Kardos Renáta"
                                },
                                {
                                    "nev": "Szirmai Renáta"
                                },
                                {
                                    "nev": "Patay Róbert"
                                },
                                {
                                    "nev": "Iván Róbert"
                                },
                                {
                                    "nev": "Pásztor Róbert"
                                },
                                {
                                    "nev": "Tóth Roland"
                                },
                                {
                                    "nev": "Ferencz Roland"
                                },
                                {
                                    "nev": "Bucskó Róza"
                                },
                                {
                                    "nev": "Karasz Sándor"
                                },
                                {
                                    "nev": "Farkas Sándor"
                                },
                                {
                                    "nev": "Nagy Sándor"
                                },
                                {
                                    "nev": "Farkas Sára"
                                },
                                {
                                    "nev": "Foltényi Sebastián"
                                },
                                {
                                    "nev": "Rab Sebestyén"
                                },
                                {
                                    "nev": "Bodor Szabolcs"
                                },
                                {
                                    "nev": "Miklós Szabolcs"
                                },
                                {
                                    "nev": "Szalai Szilárd"
                                },
                                {
                                    "nev": "Tari Szilvia"
                                },
                                {
                                    "nev": "Miklós Tamara"
                                },
                                {
                                    "nev": "Antal Tamás"
                                },
                                {
                                    "nev": "Fényes Tamás"
                                },
                                {
                                    "nev": "Gombos Tibor"
                                },
                                {
                                    "nev": "Dániel Tibor"
                                },
                                {
                                    "nev": "Kazy Tihamér"
                                },
                                {
                                    "nev": "Papós Tímea"
                                },
                                {
                                    "nev": "Dusha Tímea"
                                },
                                {
                                    "nev": "Turcsik Tünde"
                                },
                                {
                                    "nev": "Feró Valentin"
                                },
                                {
                                    "nev": "Tankó Veronika"
                                },
                                {
                                    "nev": "Urbán Viktoria"
                                },
                                {
                                    "nev": "Keresztúri Viktor"
                                },
                                {
                                    "nev": "Boros Vivien"
                                },
                                {
                                    "nev": "Fodor Zoltán"
                                },
                                {
                                    "nev": "Barna Zoltán"
                                },
                                {
                                    "nev": "Pintér Zoltán"
                                },
                                {
                                    "nev": "Tóth Zoltán"
                                },
                                {
                                    "nev": "Molnár Zsófi"
                                },
                                {
                                    "nev": "Pulai Zsolt"
                                },
                                {
                                    "nev": "Józsa Zsolt"
                                },
                                {
                                    "nev": "Pusztai Zsuzsanna"
                                },
                                {
                                    "nev": "Varsányi Zsuzsa"
                                },
                                {
                                    "nev": "Barta Zsuzsanna"
                                },
                                {
                                    "nev": "Vajda Zsuzsa"
                                }
                            ]
                        },
                        "text/html": "<table><tr><th>nev</th></tr><tr><td>Kiss Ádám</td></tr><tr><td>Barkóci Ádám</td></tr><tr><td>Bieniek Ádám</td></tr><tr><td>Lengyel Ágnes</td></tr><tr><td>Hartyánszky Ágnes</td></tr><tr><td>Horváth Ágnes</td></tr><tr><td>Kovács Ágnes</td></tr><tr><td>Bíró Ákos</td></tr><tr><td>Dunai Aladár</td></tr><tr><td>Bagóczki Alexandra</td></tr><tr><td>Biró Alexander</td></tr><tr><td>Maródi Andrea</td></tr><tr><td>Tóth András</td></tr><tr><td>Molnár András</td></tr><tr><td>Vígh András</td></tr><tr><td>Back András</td></tr><tr><td>Komjáti András</td></tr><tr><td>Erdei András</td></tr><tr><td>Nagy András</td></tr><tr><td>Kiss Andrea</td></tr><tr><td>Szomor Andrea</td></tr><tr><td>Neizer Andrea</td></tr><tr><td>Tornyos Andrea</td></tr><tr><td>Pivarcsi Anett</td></tr><tr><td>Tóth Anikó</td></tr><tr><td>Böröcz Anikó</td></tr><tr><td>Simon Anikó</td></tr><tr><td>Hamvay-Kovács Anita</td></tr><tr><td>Szűcs Annamária</td></tr><tr><td>Regős Annamária</td></tr><tr><td>Jakab Áron</td></tr><tr><td>Kelemen Áron</td></tr><tr><td>Ötvös Árpád</td></tr><tr><td>Horváth Árpád</td></tr><tr><td>Móricz Árpád</td></tr><tr><td>Csóti Attila</td></tr><tr><td>Gulyás Attila</td></tr><tr><td>Baróti Attila</td></tr><tr><td>Opra Attila</td></tr><tr><td>Bozsik Balázs</td></tr><tr><td>Szűcs Balázs</td></tr><tr><td>Bakódy Balázs</td></tr><tr><td>Horváth Bálint</td></tr><tr><td>Molnár Bálint</td></tr><tr><td>Vukasinovity Bálint</td></tr><tr><td>Endresz Bálint</td></tr><tr><td>Bagi Beáta</td></tr><tr><td>Kerényi Beatrix</td></tr><tr><td>Szekendi Beatrix</td></tr><tr><td>Farkas Béla</td></tr><tr><td>Győrffy Bence</td></tr><tr><td>Bajusz Bence</td></tr><tr><td>Simon Bernadett</td></tr><tr><td>Kovács Bernadett</td></tr><tr><td>Orbán Bernadett</td></tr><tr><td>Csiger Bertalan</td></tr><tr><td>Székely Brigitta</td></tr><tr><td>Pataki Brigitta</td></tr><tr><td>Nagymihály Csongor</td></tr><tr><td>Vörös Dániel</td></tr><tr><td>Rácz Dániel</td></tr><tr><td>Keszler Dániel</td></tr><tr><td>Ambrus Dávid</td></tr><tr><td>Sobják Dávid</td></tr><tr><td>Berta Dávid</td></tr><tr><td>Barna Debóra</td></tr><tr><td>Tömböly Dénes</td></tr><tr><td>Mór Ottó</td></tr><tr><td>Sarodi Dóra</td></tr><tr><td>Bittmann Edit</td></tr><tr><td>Kuruc Emese</td></tr><tr><td>Molnár Eszter</td></tr><tr><td>Balogh Eszter</td></tr><tr><td>Fülöp Eszter</td></tr><tr><td>Érsek Eszter</td></tr><tr><td>Enyedi Éva</td></tr><tr><td>Perlinger Éva</td></tr><tr><td>Viktor Éva</td></tr><tr><td>Orosz Ferenc</td></tr><tr><td>Frank Fruzsina</td></tr><tr><td>Köves Gábor</td></tr><tr><td>Telek Gábor</td></tr><tr><td>Szöllősi Gábor</td></tr><tr><td>Nagy Gabriella</td></tr><tr><td>Vida Gabriella</td></tr><tr><td>Nyíri Georgij</td></tr><tr><td>Bárci Gusztáv</td></tr><tr><td>Kornseé Gyöngyi</td></tr><tr><td>Oroszi György</td></tr><tr><td>Nádudvari Henrik</td></tr><tr><td>Andor Ibolya</td></tr><tr><td>Bosnyák Ilona</td></tr><tr><td>Búza Imre</td></tr><tr><td>Papp Imre</td></tr><tr><td>Soós István</td></tr><tr><td>Vizi István</td></tr><tr><td>Varga István</td></tr><tr><td>Harangozó János</td></tr><tr><td>Giliga János</td></tr><tr><td>Pálinkás János</td></tr><tr><td>Gergely József</td></tr><tr><td>Vajda József</td></tr><tr><td>Gyuris József</td></tr><tr><td>Hídasi Judit</td></tr><tr><td>Tóth Júlia</td></tr><tr><td>Nagy Júlia</td></tr><tr><td>Szabó Julianna</td></tr><tr><td>Kiss Anita</td></tr><tr><td>Gondos Katalin</td></tr><tr><td>Horváth Katalin</td></tr><tr><td>Kertész Katalin</td></tr><tr><td>Zatykó Katalin</td></tr><tr><td>Kovács Katalin</td></tr><tr><td>Bakó Klaudia</td></tr><tr><td>Lukács Kornél</td></tr><tr><td>Poprádi Kristóf</td></tr><tr><td>Horváth Krisztina</td></tr><tr><td>Czérna Krisztián</td></tr><tr><td>Mogyródi Krisztián</td></tr><tr><td>Szedlár Krisztina</td></tr><tr><td>Bori Krisztina</td></tr><tr><td>Gyárfás Krisztina</td></tr><tr><td>Kiss Lajos</td></tr><tr><td>Nagymihály Lajos</td></tr><tr><td>Farkas László</td></tr><tr><td>Móra László</td></tr><tr><td>Antal László</td></tr><tr><td>Nagy László</td></tr><tr><td>Baráth Mária</td></tr><tr><td>Kispál Márk</td></tr><tr><td>Horváth Márk</td></tr><tr><td>Kalacsi Márton</td></tr><tr><td>Koza Máté</td></tr><tr><td>Botka Mátyás</td></tr><tr><td>Szilágyi Mátyás</td></tr><tr><td>Nagy Péter</td></tr><tr><td>Juhász Mihály</td></tr><tr><td>Gondos Miklós</td></tr><tr><td>Balla Miklós</td></tr><tr><td>Mohos Mónika</td></tr><tr><td>Fő Nándor</td></tr><tr><td>Horváth Nikolett</td></tr><tr><td>Kő Nikoletta</td></tr><tr><td>Tatár Nikoletta</td></tr><tr><td>Szűcs Norbert</td></tr><tr><td>Hegedűs Norbert</td></tr><tr><td>Mile Norbert</td></tr><tr><td>Béres Norbert</td></tr><tr><td>Barabás Pál</td></tr><tr><td>Kozma Péter</td></tr><tr><td>Bozsó Péter</td></tr><tr><td>Szalai Péter</td></tr><tr><td>Bíró Péter</td></tr><tr><td>Berendi Péter</td></tr><tr><td>Palágyi Polla</td></tr><tr><td>Rácz Rajmond</td></tr><tr><td>Szikszai Réka</td></tr><tr><td>Kardos Renáta</td></tr><tr><td>Szirmai Renáta</td></tr><tr><td>Patay Róbert</td></tr><tr><td>Iván Róbert</td></tr><tr><td>Pásztor Róbert</td></tr><tr><td>Tóth Roland</td></tr><tr><td>Ferencz Roland</td></tr><tr><td>Bucskó Róza</td></tr><tr><td>Karasz Sándor</td></tr><tr><td>Farkas Sándor</td></tr><tr><td>Nagy Sándor</td></tr><tr><td>Farkas Sára</td></tr><tr><td>Foltényi Sebastián</td></tr><tr><td>Rab Sebestyén</td></tr><tr><td>Bodor Szabolcs</td></tr><tr><td>Miklós Szabolcs</td></tr><tr><td>Szalai Szilárd</td></tr><tr><td>Tari Szilvia</td></tr><tr><td>Miklós Tamara</td></tr><tr><td>Antal Tamás</td></tr><tr><td>Fényes Tamás</td></tr><tr><td>Gombos Tibor</td></tr><tr><td>Dániel Tibor</td></tr><tr><td>Kazy Tihamér</td></tr><tr><td>Papós Tímea</td></tr><tr><td>Dusha Tímea</td></tr><tr><td>Turcsik Tünde</td></tr><tr><td>Feró Valentin</td></tr><tr><td>Tankó Veronika</td></tr><tr><td>Urbán Viktoria</td></tr><tr><td>Keresztúri Viktor</td></tr><tr><td>Boros Vivien</td></tr><tr><td>Fodor Zoltán</td></tr><tr><td>Barna Zoltán</td></tr><tr><td>Pintér Zoltán</td></tr><tr><td>Tóth Zoltán</td></tr><tr><td>Molnár Zsófi</td></tr><tr><td>Pulai Zsolt</td></tr><tr><td>Józsa Zsolt</td></tr><tr><td>Pusztai Zsuzsanna</td></tr><tr><td>Varsányi Zsuzsa</td></tr><tr><td>Barta Zsuzsanna</td></tr><tr><td>Vajda Zsuzsa</td></tr></table>"
                    },
                    "metadata": {}
                }
            ],
            "execution_count": 11
        },
        {
            "cell_type": "markdown",
            "source": [
                "8. <span style=\"background-color: rgb(255, 255, 255); color: rgb(0, 0, 0); font-family: &quot;Open Sans&quot;, sans-serif; font-size: 14.44px;\">Mennyibe kerül a második legnagyobb listaárú termék?</span>"
            ],
            "metadata": {
                "azdata_cell_guid": "27a3d3dc-eafb-4a5e-b103-9f465b9eda8f"
            },
            "attachments": {}
        },
        {
            "cell_type": "code",
            "source": [
                ""
            ],
            "metadata": {
                "azdata_cell_guid": "f09edb3f-649b-4a96-958e-9e12774ae8b7",
                "language": "sql"
            },
            "outputs": [],
            "execution_count": null
        },
        {
            "cell_type": "markdown",
            "source": [
                "9. <span style=\"background-color: rgb(255, 255, 255); color: rgb(0, 0, 0); font-family: &quot;Open Sans&quot;, sans-serif; font-size: 14.44px;\">Melyik raktár(ak)ban van az a termék, amelyből a legnagyobb készlet van?&nbsp;</span> \n",
                "\n",
                "a. Csak a raktár(ak) neve jelenjen meg!"
            ],
            "metadata": {
                "azdata_cell_guid": "f12a331a-0e26-4d3d-9c68-812316286577"
            },
            "attachments": {}
        },
        {
            "cell_type": "code",
            "source": [
                ""
            ],
            "metadata": {
                "azdata_cell_guid": "10a77fc9-e61a-46fc-a401-59720d82bc50",
                "language": "sql"
            },
            "outputs": [],
            "execution_count": null
        },
        {
            "cell_type": "markdown",
            "source": [
                "10. <span style=\"background-color: rgb(255, 255, 255); color: rgb(0, 0, 0); font-family: &quot;Open Sans&quot;, sans-serif; font-size: 14.44px;\">Melyek azok a termékek, amelyek listaára nagyobb, mint bármelyik olyan terméké, amelynek nevében az Ajándék szó szerepel?&nbsp;</span> \n",
                "\n",
                "a. A termékek kódját és nevét is jelenítsük meg!"
            ],
            "metadata": {
                "azdata_cell_guid": "9229e2b6-e200-4499-b95b-2d0222149831"
            },
            "attachments": {}
        },
        {
            "cell_type": "code",
            "source": [
                ""
            ],
            "metadata": {
                "azdata_cell_guid": "8b49ed67-28c6-4880-82a8-cd369e5bba99",
                "language": "sql"
            },
            "outputs": [],
            "execution_count": null
        },
        {
            "cell_type": "markdown",
            "source": [
                "11. <span style=\"background-color: rgb(255, 255, 255); color: rgb(0, 0, 0); font-family: &quot;Open Sans&quot;, sans-serif; font-size: 14.44px;\">Melyik hónapokban adtak le az ügyfelek több rendelést, mint januárban?&nbsp;</span> \n",
                "\n",
                "a. Elég a hónapok sorszámait megjeleníteni. \n",
                "\n",
                "b. A listát rendezzük a hónapok száma szerint növekvő sorrendbe!"
            ],
            "metadata": {
                "azdata_cell_guid": "7f5fc7a7-3b6a-4d89-b292-490830afb0c6"
            },
            "attachments": {}
        },
        {
            "cell_type": "code",
            "source": [
                ""
            ],
            "metadata": {
                "azdata_cell_guid": "4a9ece40-f782-4c0d-92cd-9c21969067ed",
                "language": "sql"
            },
            "outputs": [],
            "execution_count": null
        },
        {
            "cell_type": "markdown",
            "source": [
                "12. <span style=\"background-color: rgb(255, 255, 255); color: rgb(0, 0, 0); font-family: &quot;Open Sans&quot;, sans-serif; font-size: 14.44px;\">Melyek azok a termékek, amelyek listaára az átlagostól max. 20%-kal tér el?&nbsp;</span> \n",
                "\n",
                "a. A termék kódját és nevét is jelenítsük meg!"
            ],
            "metadata": {
                "azdata_cell_guid": "5a483c52-bb98-44bb-bd03-1146d4b0abfa"
            },
            "attachments": {}
        },
        {
            "cell_type": "code",
            "source": [
                ""
            ],
            "metadata": {
                "azdata_cell_guid": "dd6e89bd-08f9-4b18-8460-03c45b503df0",
                "language": "sql"
            },
            "outputs": [],
            "execution_count": null
        },
        {
            "cell_type": "markdown",
            "source": [
                "13. <span style=\"background-color: rgb(255, 255, 255); color: rgb(0, 0, 0); font-family: &quot;Open Sans&quot;, sans-serif; font-size: 14.44px;\">Készítsünk listát (sorszámonként) az egyes rendelések teljes összegéről!&nbsp;</span> \n",
                "\n",
                "a. Szűrjünk azon tételekre, ahol ez az érték nagyobb, mint Viktor Éva rendeléseinek teljes összege! \n",
                "\n",
                "b. A teljes összeg oszlopot nevezzük el értelemszerűen!"
            ],
            "metadata": {
                "azdata_cell_guid": "85d5cb66-96c6-42de-99cf-85ab22d08548"
            },
            "attachments": {}
        },
        {
            "cell_type": "code",
            "source": [
                ""
            ],
            "metadata": {
                "azdata_cell_guid": "cb07d64b-0eaa-498b-b4d2-0b46971e95ce",
                "language": "sql"
            },
            "outputs": [],
            "execution_count": null
        },
        {
            "cell_type": "markdown",
            "source": [
                "14. <span style=\"background-color: rgb(255, 255, 255); color: rgb(0, 0, 0); font-family: &quot;Open Sans&quot;, sans-serif; font-size: 14.44px;\">Listázzuk azokat a termékkategóriákat, amelyből 2017 januárban nem történt rendelés!&nbsp;</span> \n",
                "\n",
                "a. Elég a kategóriák nevét megjeleníteni!"
            ],
            "metadata": {
                "azdata_cell_guid": "f95ad665-a807-4099-bf06-64ed974f866f"
            },
            "attachments": {}
        },
        {
            "cell_type": "code",
            "source": [
                ""
            ],
            "metadata": {
                "azdata_cell_guid": "74c7ec8a-ae4a-4d03-b1c4-e8f6bb1be12c",
                "language": "sql"
            },
            "outputs": [],
            "execution_count": null
        },
        {
            "cell_type": "markdown",
            "source": [
                "15. <span style=\"background-color: rgb(255, 255, 255); color: rgb(0, 0, 0); font-family: &quot;Open Sans&quot;, sans-serif; font-size: 14.44px;\">Listázzuk azon rendelési tételeket, amelynek értéke nagyobb, mint a legdrágább termék listaára azon termékek közül, amelyek szülő kategóriája a ruha!</span>"
            ],
            "metadata": {
                "azdata_cell_guid": "93552388-ffec-49ff-99e5-ae8dc8072601"
            },
            "attachments": {}
        },
        {
            "cell_type": "code",
            "source": [
                ""
            ],
            "metadata": {
                "azdata_cell_guid": "0e7f547f-7d96-4611-b1c2-0fa84a581e79",
                "language": "sql"
            },
            "outputs": [],
            "execution_count": null
        },
        {
            "cell_type": "markdown",
            "source": [
                "1. ZH PROBA, szallashely adatbazsbol lesz a zh"
            ],
            "metadata": {
                "azdata_cell_guid": "9408cbcc-5516-4492-85a1-968b82c95db0"
            },
            "attachments": {}
        },
        {
            "cell_type": "code",
            "source": [
                "-- életkor\r\n",
                "DATEDIFF"
            ],
            "metadata": {
                "azdata_cell_guid": "74ad2c1a-9f0e-4282-b054-28846aef5ba3",
                "language": "sql"
            },
            "outputs": [],
            "execution_count": null
        },
        {
            "cell_type": "code",
            "source": [
                "--1.\r\n",
                "select *\r\n",
                "FROM Ugyfel u \r\n",
                "    JOIN Foglalas f ON\r\n",
                "    JOIN Szoba sz ON \r\n",
                "    JOIN szallashely szh ON\r\n",
                "GROUP BY"
            ],
            "metadata": {
                "azdata_cell_guid": "9c1d8ce2-1cf1-4b92-a92a-6840242a2031",
                "language": "sql"
            },
            "outputs": [],
            "execution_count": null
        },
        {
            "cell_type": "code",
            "source": [
                "SELECT v.usernev,\r\n",
                "    count(distinct szh.SZALLAS_ID)\r\n",
                "from Vendeg V\r\n",
                "    LEFT JOIN FOglalas f ON v.uernev = f.ugyfel_fk\r\n",
                "    LEFT JOIN Szoba sz ON f.szoba_fk = sz.SZOBA_ID\r\n",
                "    "
            ],
            "metadata": {
                "azdata_cell_guid": "b6f0380c-88b7-4ae2-801c-f2e221a693a5",
                "language": "sql"
            },
            "outputs": [],
            "execution_count": null
        }
    ]
}